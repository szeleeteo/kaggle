{
 "cells": [
  {
   "cell_type": "markdown",
   "metadata": {},
   "source": [
    "# Create symlinks"
   ]
  },
  {
   "cell_type": "markdown",
   "metadata": {},
   "source": [
    "`ln -s ../../data data`\n",
    "\n",
    "`ln -s ../../fastai/fastai fastai`"
   ]
  },
  {
   "cell_type": "markdown",
   "metadata": {},
   "source": [
    "# Download training and test data"
   ]
  },
  {
   "cell_type": "markdown",
   "metadata": {},
   "source": [
    "From data directory:\n",
    "\n",
    "`kg download -u <username> -p <password> -c plant-seedlings-classification`"
   ]
  },
  {
   "cell_type": "markdown",
   "metadata": {},
   "source": [
    "# Setup training data"
   ]
  },
  {
   "cell_type": "code",
   "execution_count": 1,
   "metadata": {},
   "outputs": [],
   "source": [
    "DIR_NAME = \"plant-seedlings\""
   ]
  },
  {
   "cell_type": "code",
   "execution_count": 2,
   "metadata": {},
   "outputs": [],
   "source": [
    "import os\n",
    "import pandas as pd\n",
    "\n",
    "rootdir = f'data/{DIR_NAME}/train/'\n",
    "\n",
    "df = pd.DataFrame(columns=[\"file\", \"species\"])\n",
    "\n",
    "for subdir, dirs, files in os.walk(rootdir):\n",
    "    dir_ = subdir.split('/')\n",
    "    species = dir_[-1]\n",
    "\n",
    "    for file in files:\n",
    "        df = df.append({\"file\": file, \n",
    "                        \"species\": species.replace(\" \", \"_\")}, ignore_index=True)\n",
    "\n",
    "df.to_csv(f'data/{DIR_NAME}/labels.csv', index=False)"
   ]
  },
  {
   "cell_type": "markdown",
   "metadata": {},
   "source": [
    "While still in data directory in terminal, move all png files to the same training directory, remove the individual subdirectories\n",
    "\n",
    "`mv train/**/*.png train`\n",
    "\n",
    "`rm -r train/**/`"
   ]
  }
 ],
 "metadata": {
  "kernelspec": {
   "display_name": "Python 3",
   "language": "python",
   "name": "python3"
  },
  "language_info": {
   "codemirror_mode": {
    "name": "ipython",
    "version": 3
   },
   "file_extension": ".py",
   "mimetype": "text/x-python",
   "name": "python",
   "nbconvert_exporter": "python",
   "pygments_lexer": "ipython3",
   "version": "3.6.5"
  },
  "toc": {
   "base_numbering": 1,
   "nav_menu": {},
   "number_sections": true,
   "sideBar": true,
   "skip_h1_title": false,
   "title_cell": "Table of Contents",
   "title_sidebar": "Contents",
   "toc_cell": false,
   "toc_position": {},
   "toc_section_display": true,
   "toc_window_display": false
  }
 },
 "nbformat": 4,
 "nbformat_minor": 2
}
