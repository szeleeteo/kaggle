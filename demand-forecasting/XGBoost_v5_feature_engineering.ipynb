{
 "cells": [
  {
   "cell_type": "markdown",
   "metadata": {},
   "source": [
    "# Imports"
   ]
  },
  {
   "cell_type": "code",
   "execution_count": null,
   "metadata": {},
   "outputs": [],
   "source": [
    "%load_ext autoreload\n",
    "%autoreload 2\n",
    "\n",
    "%matplotlib inline"
   ]
  },
  {
   "cell_type": "code",
   "execution_count": null,
   "metadata": {},
   "outputs": [],
   "source": [
    "import pandas as pd\n",
    "import numpy as np\n",
    "import matplotlib.pyplot as plt\n",
    "import re"
   ]
  },
  {
   "cell_type": "code",
   "execution_count": null,
   "metadata": {},
   "outputs": [],
   "source": [
    "import xgboost as xgb\n",
    "from sklearn.metrics import mean_absolute_error,mean_squared_error"
   ]
  },
  {
   "cell_type": "code",
   "execution_count": null,
   "metadata": {},
   "outputs": [],
   "source": [
    "PATH = \"data/demand-forecasting/\""
   ]
  },
  {
   "cell_type": "markdown",
   "metadata": {},
   "source": [
    "# Helper Functions"
   ]
  },
  {
   "cell_type": "code",
   "execution_count": null,
   "metadata": {},
   "outputs": [],
   "source": [
    "def add_datepart(df, fldname, drop=True, time=False):\n",
    "    fld = df[fldname]\n",
    "    fld_dtype = fld.dtype\n",
    "    if isinstance(fld_dtype, pd.core.dtypes.dtypes.DatetimeTZDtype):\n",
    "        fld_dtype = np.datetime64\n",
    "\n",
    "    if not np.issubdtype(fld_dtype, np.datetime64):\n",
    "        df[fldname] = fld = pd.to_datetime(fld, infer_datetime_format=True)\n",
    "    targ_pre = re.sub('[Dd]ate$', '', fldname)\n",
    "    attr = ['Year', 'Month', 'Week', 'Day', 'Dayofweek', 'Dayofyear',\n",
    "            'Is_month_end', 'Is_month_start', 'Is_quarter_end', 'Is_quarter_start', 'Is_year_end', 'Is_year_start']\n",
    "    if time: attr = attr + ['Hour', 'Minute', 'Second']\n",
    "    for n in attr: df[targ_pre + n] = getattr(fld.dt, n.lower())\n",
    "    df[targ_pre + 'Elapsed'] = fld.astype(np.int64) // 10 ** 9\n",
    "    if drop: df.drop(fldname, axis=1, inplace=True)"
   ]
  },
  {
   "cell_type": "code",
   "execution_count": null,
   "metadata": {},
   "outputs": [],
   "source": [
    "# custom evaluation metric\n",
    "def SMAPE(y_pred, dtrain):\n",
    "    y_true = dtrain.get_label()\n",
    "    denominator = (np.abs(y_true) + np.abs(y_pred)) / 200.0\n",
    "    diff = np.abs(y_true - y_pred) / denominator\n",
    "    diff[denominator == 0] = 0.0\n",
    "    return 'SMAPE', np.nanmean(diff)"
   ]
  },
  {
   "cell_type": "code",
   "execution_count": null,
   "metadata": {},
   "outputs": [],
   "source": [
    "def smape2(y_pred, y_true):\n",
    "    denominator = (np.abs(y_true) + np.abs(y_pred)) / 200.0\n",
    "    diff = np.abs(y_true - y_pred) / denominator\n",
    "    diff[denominator == 0] = 0.0\n",
    "    return np.nanmean(diff)"
   ]
  },
  {
   "cell_type": "code",
   "execution_count": null,
   "metadata": {},
   "outputs": [],
   "source": [
    "def print_scores(pred,label):\n",
    "    rmse = np.sqrt(mean_squared_error(pred,label))\n",
    "    mae = mean_absolute_error(pred,label)\n",
    "    smape_score = smape2(pred,label)\n",
    "    \n",
    "    print('RMSE\\t\\t ' + str(rmse))\n",
    "    print('SMAPE\\t\\t' + str(smape_score))"
   ]
  },
  {
   "cell_type": "markdown",
   "metadata": {},
   "source": [
    "# Pre-Process Data"
   ]
  },
  {
   "cell_type": "code",
   "execution_count": null,
   "metadata": {},
   "outputs": [],
   "source": [
    "train = pd.read_csv(f'{PATH}train.csv', parse_dates=['date'])\n",
    "test = pd.read_csv(f'{PATH}test.csv', parse_dates=['date'], index_col='id')"
   ]
  },
  {
   "cell_type": "code",
   "execution_count": 10,
   "metadata": {},
   "outputs": [],
   "source": [
    "joined = pd.concat([train,test], sort=False)"
   ]
  },
  {
   "cell_type": "code",
   "execution_count": 11,
   "metadata": {},
   "outputs": [],
   "source": [
    "add_datepart(joined, 'date')"
   ]
  },
  {
   "cell_type": "code",
   "execution_count": 12,
   "metadata": {},
   "outputs": [],
   "source": [
    "joined[\"median-store_item-month\"] = joined.groupby(['Month',\"item\",\"store\"])[\"sales\"].transform(\"median\") # median sales for particular item-store month combo\n",
    "joined[\"mean-store_item-week\"] = joined.groupby(['Week',\"item\",\"store\"])[\"sales\"].transform(\"mean\") # mean sales for particular item-store week combo\n",
    "\n",
    "joined[\"item-month-sum\"] = joined.groupby(['Month',\"item\"])[\"sales\"].transform(\"sum\") # total sales of that item  for all stores\n",
    "joined[\"store-month-sum\"] = joined.groupby(['Month',\"store\"])[\"sales\"].transform(\"sum\") # total sales of that store  for all items"
   ]
  },
  {
   "cell_type": "code",
   "execution_count": 13,
   "metadata": {},
   "outputs": [],
   "source": [
    "joined.drop(columns=['Is_month_end', 'Is_month_start','Is_quarter_end',\n",
    "                 'Is_quarter_start','Is_year_end','Is_year_start'],inplace=True)"
   ]
  },
  {
   "cell_type": "code",
   "execution_count": 14,
   "metadata": {},
   "outputs": [],
   "source": [
    "train = joined[~joined['sales'].isna()]\n",
    "test = joined[joined['sales'].isna()]\n",
    "\n",
    "sales = train.pop('sales')\n",
    "test = test.drop('sales', axis=1)"
   ]
  },
  {
   "cell_type": "code",
   "execution_count": 15,
   "metadata": {},
   "outputs": [
    {
     "data": {
      "text/html": [
       "<div>\n",
       "<style scoped>\n",
       "    .dataframe tbody tr th:only-of-type {\n",
       "        vertical-align: middle;\n",
       "    }\n",
       "\n",
       "    .dataframe tbody tr th {\n",
       "        vertical-align: top;\n",
       "    }\n",
       "\n",
       "    .dataframe thead th {\n",
       "        text-align: right;\n",
       "    }\n",
       "</style>\n",
       "<table border=\"1\" class=\"dataframe\">\n",
       "  <thead>\n",
       "    <tr style=\"text-align: right;\">\n",
       "      <th></th>\n",
       "      <th>store</th>\n",
       "      <th>item</th>\n",
       "      <th>Year</th>\n",
       "      <th>Month</th>\n",
       "      <th>Week</th>\n",
       "      <th>Day</th>\n",
       "      <th>Dayofweek</th>\n",
       "      <th>Dayofyear</th>\n",
       "      <th>Elapsed</th>\n",
       "      <th>median-store_item-month</th>\n",
       "      <th>mean-store_item-week</th>\n",
       "      <th>item-month-sum</th>\n",
       "      <th>store-month-sum</th>\n",
       "    </tr>\n",
       "  </thead>\n",
       "  <tbody>\n",
       "    <tr>\n",
       "      <th>0</th>\n",
       "      <td>1</td>\n",
       "      <td>1</td>\n",
       "      <td>2013</td>\n",
       "      <td>1</td>\n",
       "      <td>1</td>\n",
       "      <td>1</td>\n",
       "      <td>1</td>\n",
       "      <td>1</td>\n",
       "      <td>1356998400</td>\n",
       "      <td>13.0</td>\n",
       "      <td>13.970588</td>\n",
       "      <td>22987.0</td>\n",
       "      <td>249352.0</td>\n",
       "    </tr>\n",
       "    <tr>\n",
       "      <th>1</th>\n",
       "      <td>1</td>\n",
       "      <td>1</td>\n",
       "      <td>2013</td>\n",
       "      <td>1</td>\n",
       "      <td>1</td>\n",
       "      <td>2</td>\n",
       "      <td>2</td>\n",
       "      <td>2</td>\n",
       "      <td>1357084800</td>\n",
       "      <td>13.0</td>\n",
       "      <td>13.970588</td>\n",
       "      <td>22987.0</td>\n",
       "      <td>249352.0</td>\n",
       "    </tr>\n",
       "  </tbody>\n",
       "</table>\n",
       "</div>"
      ],
      "text/plain": [
       "   store  item  Year  Month  Week  Day  Dayofweek  Dayofyear     Elapsed  \\\n",
       "0      1     1  2013      1     1    1          1          1  1356998400   \n",
       "1      1     1  2013      1     1    2          2          2  1357084800   \n",
       "\n",
       "   median-store_item-month  mean-store_item-week  item-month-sum  \\\n",
       "0                     13.0             13.970588         22987.0   \n",
       "1                     13.0             13.970588         22987.0   \n",
       "\n",
       "   store-month-sum  \n",
       "0         249352.0  \n",
       "1         249352.0  "
      ]
     },
     "metadata": {},
     "output_type": "display_data"
    },
    {
     "data": {
      "text/html": [
       "<div>\n",
       "<style scoped>\n",
       "    .dataframe tbody tr th:only-of-type {\n",
       "        vertical-align: middle;\n",
       "    }\n",
       "\n",
       "    .dataframe tbody tr th {\n",
       "        vertical-align: top;\n",
       "    }\n",
       "\n",
       "    .dataframe thead th {\n",
       "        text-align: right;\n",
       "    }\n",
       "</style>\n",
       "<table border=\"1\" class=\"dataframe\">\n",
       "  <thead>\n",
       "    <tr style=\"text-align: right;\">\n",
       "      <th></th>\n",
       "      <th>sales</th>\n",
       "    </tr>\n",
       "  </thead>\n",
       "  <tbody>\n",
       "    <tr>\n",
       "      <th>0</th>\n",
       "      <td>13.0</td>\n",
       "    </tr>\n",
       "    <tr>\n",
       "      <th>1</th>\n",
       "      <td>11.0</td>\n",
       "    </tr>\n",
       "  </tbody>\n",
       "</table>\n",
       "</div>"
      ],
      "text/plain": [
       "   sales\n",
       "0   13.0\n",
       "1   11.0"
      ]
     },
     "metadata": {},
     "output_type": "display_data"
    },
    {
     "data": {
      "text/html": [
       "<div>\n",
       "<style scoped>\n",
       "    .dataframe tbody tr th:only-of-type {\n",
       "        vertical-align: middle;\n",
       "    }\n",
       "\n",
       "    .dataframe tbody tr th {\n",
       "        vertical-align: top;\n",
       "    }\n",
       "\n",
       "    .dataframe thead th {\n",
       "        text-align: right;\n",
       "    }\n",
       "</style>\n",
       "<table border=\"1\" class=\"dataframe\">\n",
       "  <thead>\n",
       "    <tr style=\"text-align: right;\">\n",
       "      <th></th>\n",
       "      <th>store</th>\n",
       "      <th>item</th>\n",
       "      <th>Year</th>\n",
       "      <th>Month</th>\n",
       "      <th>Week</th>\n",
       "      <th>Day</th>\n",
       "      <th>Dayofweek</th>\n",
       "      <th>Dayofyear</th>\n",
       "      <th>Elapsed</th>\n",
       "      <th>median-store_item-month</th>\n",
       "      <th>mean-store_item-week</th>\n",
       "      <th>item-month-sum</th>\n",
       "      <th>store-month-sum</th>\n",
       "    </tr>\n",
       "  </thead>\n",
       "  <tbody>\n",
       "    <tr>\n",
       "      <th>0</th>\n",
       "      <td>1</td>\n",
       "      <td>1</td>\n",
       "      <td>2018</td>\n",
       "      <td>1</td>\n",
       "      <td>1</td>\n",
       "      <td>1</td>\n",
       "      <td>0</td>\n",
       "      <td>1</td>\n",
       "      <td>1514764800</td>\n",
       "      <td>13.0</td>\n",
       "      <td>13.970588</td>\n",
       "      <td>22987.0</td>\n",
       "      <td>249352.0</td>\n",
       "    </tr>\n",
       "    <tr>\n",
       "      <th>1</th>\n",
       "      <td>1</td>\n",
       "      <td>1</td>\n",
       "      <td>2018</td>\n",
       "      <td>1</td>\n",
       "      <td>1</td>\n",
       "      <td>2</td>\n",
       "      <td>1</td>\n",
       "      <td>2</td>\n",
       "      <td>1514851200</td>\n",
       "      <td>13.0</td>\n",
       "      <td>13.970588</td>\n",
       "      <td>22987.0</td>\n",
       "      <td>249352.0</td>\n",
       "    </tr>\n",
       "  </tbody>\n",
       "</table>\n",
       "</div>"
      ],
      "text/plain": [
       "   store  item  Year  Month  Week  Day  Dayofweek  Dayofyear     Elapsed  \\\n",
       "0      1     1  2018      1     1    1          0          1  1514764800   \n",
       "1      1     1  2018      1     1    2          1          2  1514851200   \n",
       "\n",
       "   median-store_item-month  mean-store_item-week  item-month-sum  \\\n",
       "0                     13.0             13.970588         22987.0   \n",
       "1                     13.0             13.970588         22987.0   \n",
       "\n",
       "   store-month-sum  \n",
       "0         249352.0  \n",
       "1         249352.0  "
      ]
     },
     "metadata": {},
     "output_type": "display_data"
    }
   ],
   "source": [
    "display(train.head(2))\n",
    "display(pd.DataFrame(sales).head(2))\n",
    "display(test.head(2))"
   ]
  },
  {
   "cell_type": "markdown",
   "metadata": {},
   "source": [
    "# Split Training-Validation Data"
   ]
  },
  {
   "cell_type": "code",
   "execution_count": 16,
   "metadata": {},
   "outputs": [
    {
     "data": {
      "text/plain": [
       "((913000, 13), (913000,), (45000, 13))"
      ]
     },
     "execution_count": 16,
     "metadata": {},
     "output_type": "execute_result"
    }
   ],
   "source": [
    "train.shape, sales.shape, test.shape"
   ]
  },
  {
   "cell_type": "code",
   "execution_count": 17,
   "metadata": {},
   "outputs": [],
   "source": [
    "# closest same period (diff year) as test set\n",
    "X_val = train.loc[(train.Year==2017) & ((train.Month==10) | (train.Month==11) | (train.Month==12))].copy() \n",
    "y_val = sales[X_val.index].copy()\n",
    "\n",
    "X_train = train.drop(X_val.index).copy()\n",
    "y_train = sales.drop(X_val.index).copy()"
   ]
  },
  {
   "cell_type": "code",
   "execution_count": 18,
   "metadata": {
    "scrolled": true
   },
   "outputs": [
    {
     "data": {
      "text/plain": [
       "((867000, 13), (867000,), (46000, 13), (46000,))"
      ]
     },
     "execution_count": 18,
     "metadata": {},
     "output_type": "execute_result"
    }
   ],
   "source": [
    "X_train.shape, y_train.shape, X_val.shape, y_val.shape"
   ]
  },
  {
   "cell_type": "code",
   "execution_count": 19,
   "metadata": {},
   "outputs": [
    {
     "name": "stdout",
     "output_type": "stream",
     "text": [
      "\n"
     ]
    }
   ],
   "source": [
    "X_train.reset_index(drop=True, inplace=True)\n",
    "y_train.reset_index(drop=True, inplace=True)\n",
    "X_val.reset_index(drop=True, inplace=True)\n",
    "y_val.reset_index(drop=True, inplace=True)\n",
    "print()"
   ]
  },
  {
   "cell_type": "markdown",
   "metadata": {},
   "source": [
    "# XGBoost"
   ]
  },
  {
   "cell_type": "code",
   "execution_count": 20,
   "metadata": {},
   "outputs": [],
   "source": [
    "DM_train = xgb.DMatrix(data=X_train, label=y_train)\n",
    "DM_val = xgb.DMatrix(data=X_val, label=y_val)\n",
    "DM_test = xgb.DMatrix(data=test)"
   ]
  },
  {
   "cell_type": "code",
   "execution_count": 21,
   "metadata": {},
   "outputs": [],
   "source": [
    "evals_result = {}\n",
    "watchlist = [(DM_train, \"training\"), (DM_val, \"validation\")]"
   ]
  },
  {
   "cell_type": "code",
   "execution_count": 25,
   "metadata": {},
   "outputs": [],
   "source": [
    "params_native = {\n",
    "    'objective': 'reg:linear', \n",
    "    'booster':'gbtree',        \n",
    "    'silent': 1,               \n",
    "    'eta': 0.005,                 \n",
    "    'gamma': 0,                 \n",
    "    'max-depth': 8,             \n",
    "    'min_child_weight': 0.9,      \n",
    "    'max_delta_step': 0,        \n",
    "    'subsample': 0.8,             \n",
    "    'colsample_bytree': 0.7,      \n",
    "    'colsample_bylevel': 0.7,     \n",
    "    'lambda': 0.9,                \n",
    "    'alpha': 0,                 \n",
    "    'scale_pos_weight': 1,      \n",
    "    'base_score': 0.5,          \n",
    "    'eval_metric':'rmse',      \n",
    "    'seed': 42                  \n",
    "}"
   ]
  },
  {
   "cell_type": "markdown",
   "metadata": {},
   "source": [
    "## Train with partial data"
   ]
  },
  {
   "cell_type": "code",
   "execution_count": 26,
   "metadata": {},
   "outputs": [
    {
     "name": "stdout",
     "output_type": "stream",
     "text": [
      "[0]\ttraining-rmse:58.8333\tvalidation-rmse:60.932\ttraining-SMAPE:192.607\tvalidation-SMAPE:193.173\n",
      "Multiple eval metrics have been passed: 'validation-SMAPE' will be used for early stopping.\n",
      "\n",
      "Will train until validation-SMAPE hasn't improved in 20 rounds.\n",
      "[50]\ttraining-rmse:46.1902\tvalidation-rmse:48.4675\ttraining-SMAPE:121.437\tvalidation-SMAPE:125.588\n",
      "[100]\ttraining-rmse:36.4103\tvalidation-rmse:38.7638\ttraining-SMAPE:82.0401\tvalidation-SMAPE:87.0794\n",
      "[150]\ttraining-rmse:28.8631\tvalidation-rmse:31.1361\ttraining-SMAPE:57.7474\tvalidation-SMAPE:62.6342\n",
      "[200]\ttraining-rmse:23.0815\tvalidation-rmse:25.2272\ttraining-SMAPE:41.8913\tvalidation-SMAPE:46.2713\n",
      "[250]\ttraining-rmse:18.6514\tvalidation-rmse:20.6433\ttraining-SMAPE:31.4386\tvalidation-SMAPE:35.1792\n",
      "[300]\ttraining-rmse:15.3094\tvalidation-rmse:17.1186\ttraining-SMAPE:24.5261\tvalidation-SMAPE:27.5518\n",
      "[350]\ttraining-rmse:12.8352\tvalidation-rmse:14.454\ttraining-SMAPE:20.0181\tvalidation-SMAPE:22.3495\n",
      "[400]\ttraining-rmse:11.0368\tvalidation-rmse:12.4638\ttraining-SMAPE:17.123\tvalidation-SMAPE:18.8276\n",
      "[450]\ttraining-rmse:9.7689\tvalidation-rmse:10.9938\ttraining-SMAPE:15.3124\tvalidation-SMAPE:16.4747\n",
      "[500]\ttraining-rmse:8.88406\tvalidation-rmse:9.91506\ttraining-SMAPE:14.1962\tvalidation-SMAPE:14.9431\n",
      "[550]\ttraining-rmse:8.28802\tvalidation-rmse:9.15753\ttraining-SMAPE:13.5097\tvalidation-SMAPE:13.952\n",
      "[600]\ttraining-rmse:7.89413\tvalidation-rmse:8.63598\ttraining-SMAPE:13.0918\tvalidation-SMAPE:13.3238\n",
      "[650]\ttraining-rmse:7.63924\tvalidation-rmse:8.26998\ttraining-SMAPE:12.8389\tvalidation-SMAPE:12.9086\n",
      "[700]\ttraining-rmse:7.47105\tvalidation-rmse:8.02987\ttraining-SMAPE:12.6834\tvalidation-SMAPE:12.6571\n",
      "[750]\ttraining-rmse:7.36132\tvalidation-rmse:7.86539\ttraining-SMAPE:12.5867\tvalidation-SMAPE:12.494\n",
      "[800]\ttraining-rmse:7.29166\tvalidation-rmse:7.7569\ttraining-SMAPE:12.5279\tvalidation-SMAPE:12.39\n",
      "[850]\ttraining-rmse:7.24555\tvalidation-rmse:7.68118\ttraining-SMAPE:12.4903\tvalidation-SMAPE:12.3208\n",
      "[900]\ttraining-rmse:7.21601\tvalidation-rmse:7.63004\ttraining-SMAPE:12.4668\tvalidation-SMAPE:12.2749\n",
      "[950]\ttraining-rmse:7.19593\tvalidation-rmse:7.59445\ttraining-SMAPE:12.4507\tvalidation-SMAPE:12.2442\n",
      "[1000]\ttraining-rmse:7.18226\tvalidation-rmse:7.56948\ttraining-SMAPE:12.4398\tvalidation-SMAPE:12.2229\n",
      "[1050]\ttraining-rmse:7.1725\tvalidation-rmse:7.54983\ttraining-SMAPE:12.4318\tvalidation-SMAPE:12.2064\n",
      "[1100]\ttraining-rmse:7.16541\tvalidation-rmse:7.53505\ttraining-SMAPE:12.4257\tvalidation-SMAPE:12.1937\n",
      "[1150]\ttraining-rmse:7.15999\tvalidation-rmse:7.52342\ttraining-SMAPE:12.4208\tvalidation-SMAPE:12.1837\n",
      "[1200]\ttraining-rmse:7.15562\tvalidation-rmse:7.51441\ttraining-SMAPE:12.4165\tvalidation-SMAPE:12.1761\n",
      "[1250]\ttraining-rmse:7.1521\tvalidation-rmse:7.50704\ttraining-SMAPE:12.413\tvalidation-SMAPE:12.1699\n",
      "[1300]\ttraining-rmse:7.14909\tvalidation-rmse:7.50071\ttraining-SMAPE:12.4096\tvalidation-SMAPE:12.164\n",
      "[1350]\ttraining-rmse:7.14654\tvalidation-rmse:7.49509\ttraining-SMAPE:12.4066\tvalidation-SMAPE:12.1582\n",
      "[1400]\ttraining-rmse:7.14433\tvalidation-rmse:7.49019\ttraining-SMAPE:12.4038\tvalidation-SMAPE:12.154\n",
      "[1450]\ttraining-rmse:7.14235\tvalidation-rmse:7.4864\ttraining-SMAPE:12.4015\tvalidation-SMAPE:12.1505\n",
      "[1500]\ttraining-rmse:7.14056\tvalidation-rmse:7.48241\ttraining-SMAPE:12.3992\tvalidation-SMAPE:12.1466\n",
      "[1550]\ttraining-rmse:7.13894\tvalidation-rmse:7.47928\ttraining-SMAPE:12.397\tvalidation-SMAPE:12.1429\n",
      "[1600]\ttraining-rmse:7.13747\tvalidation-rmse:7.4764\ttraining-SMAPE:12.395\tvalidation-SMAPE:12.14\n",
      "[1650]\ttraining-rmse:7.13609\tvalidation-rmse:7.47351\ttraining-SMAPE:12.393\tvalidation-SMAPE:12.1367\n",
      "[1700]\ttraining-rmse:7.13477\tvalidation-rmse:7.4715\ttraining-SMAPE:12.3913\tvalidation-SMAPE:12.1346\n",
      "[1750]\ttraining-rmse:7.13351\tvalidation-rmse:7.46946\ttraining-SMAPE:12.3896\tvalidation-SMAPE:12.1323\n",
      "[1800]\ttraining-rmse:7.13241\tvalidation-rmse:7.46761\ttraining-SMAPE:12.3879\tvalidation-SMAPE:12.1298\n",
      "[1850]\ttraining-rmse:7.13127\tvalidation-rmse:7.46582\ttraining-SMAPE:12.3863\tvalidation-SMAPE:12.1275\n",
      "[1900]\ttraining-rmse:7.13019\tvalidation-rmse:7.46392\ttraining-SMAPE:12.3848\tvalidation-SMAPE:12.1255\n",
      "[1950]\ttraining-rmse:7.12913\tvalidation-rmse:7.46239\ttraining-SMAPE:12.3833\tvalidation-SMAPE:12.1237\n",
      "[2000]\ttraining-rmse:7.12814\tvalidation-rmse:7.46115\ttraining-SMAPE:12.3821\tvalidation-SMAPE:12.1219\n",
      "[2050]\ttraining-rmse:7.12717\tvalidation-rmse:7.46012\ttraining-SMAPE:12.3809\tvalidation-SMAPE:12.1205\n",
      "[2100]\ttraining-rmse:7.12619\tvalidation-rmse:7.4588\ttraining-SMAPE:12.3797\tvalidation-SMAPE:12.1189\n",
      "[2150]\ttraining-rmse:7.12528\tvalidation-rmse:7.45786\ttraining-SMAPE:12.3786\tvalidation-SMAPE:12.1174\n",
      "[2200]\ttraining-rmse:7.12436\tvalidation-rmse:7.45671\ttraining-SMAPE:12.3776\tvalidation-SMAPE:12.1157\n",
      "[2250]\ttraining-rmse:7.12339\tvalidation-rmse:7.45589\ttraining-SMAPE:12.3764\tvalidation-SMAPE:12.1144\n",
      "[2300]\ttraining-rmse:7.12247\tvalidation-rmse:7.45528\ttraining-SMAPE:12.3754\tvalidation-SMAPE:12.1138\n",
      "[2350]\ttraining-rmse:7.12162\tvalidation-rmse:7.45474\ttraining-SMAPE:12.3744\tvalidation-SMAPE:12.1131\n",
      "[2400]\ttraining-rmse:7.12074\tvalidation-rmse:7.45355\ttraining-SMAPE:12.3734\tvalidation-SMAPE:12.1115\n",
      "[2450]\ttraining-rmse:7.11987\tvalidation-rmse:7.4525\ttraining-SMAPE:12.3723\tvalidation-SMAPE:12.1101\n",
      "[2500]\ttraining-rmse:7.11905\tvalidation-rmse:7.45168\ttraining-SMAPE:12.3714\tvalidation-SMAPE:12.1092\n",
      "[2550]\ttraining-rmse:7.11826\tvalidation-rmse:7.45123\ttraining-SMAPE:12.3705\tvalidation-SMAPE:12.1087\n",
      "[2600]\ttraining-rmse:7.11744\tvalidation-rmse:7.45089\ttraining-SMAPE:12.3696\tvalidation-SMAPE:12.1082\n",
      "[2650]\ttraining-rmse:7.11656\tvalidation-rmse:7.45054\ttraining-SMAPE:12.3686\tvalidation-SMAPE:12.108\n",
      "[2700]\ttraining-rmse:7.11567\tvalidation-rmse:7.45004\ttraining-SMAPE:12.3677\tvalidation-SMAPE:12.1074\n",
      "[2750]\ttraining-rmse:7.11491\tvalidation-rmse:7.44982\ttraining-SMAPE:12.3669\tvalidation-SMAPE:12.1067\n",
      "[2800]\ttraining-rmse:7.11405\tvalidation-rmse:7.44979\ttraining-SMAPE:12.3661\tvalidation-SMAPE:12.1066\n",
      "[2850]\ttraining-rmse:7.11328\tvalidation-rmse:7.44942\ttraining-SMAPE:12.3653\tvalidation-SMAPE:12.1062\n",
      "Stopping. Best iteration:\n",
      "[2871]\ttraining-rmse:7.11289\tvalidation-rmse:7.44914\ttraining-SMAPE:12.3649\tvalidation-SMAPE:12.1058\n",
      "\n",
      "Wall time: 25min 23s\n"
     ]
    }
   ],
   "source": [
    "%%time\n",
    "xgb_native = xgb.train(params=params_native, \n",
    "                            dtrain=DM_train,\n",
    "                            num_boost_round=100_000,\n",
    "                            evals=watchlist,\n",
    "                            early_stopping_rounds=20,\n",
    "                            evals_result=evals_result,\n",
    "                            feval=SMAPE,\n",
    "                            maximize=False,\n",
    "                            verbose_eval=50)"
   ]
  },
  {
   "cell_type": "code",
   "execution_count": 24,
   "metadata": {},
   "outputs": [
    {
     "name": "stdout",
     "output_type": "stream",
     "text": [
      "Best iteration\t1532\n",
      "Best tree limit\t1533\n",
      "Best RMSE score\t12.120908\n",
      "\n",
      "Validation score\n",
      "RMSE\t\t 7.461529418803279\n",
      "SMAPE\t\t12.121071807344874\n",
      "\n",
      "Training score\n",
      "RMSE\t\t 7.116308456081811\n",
      "SMAPE\t\t12.36981618359407\n"
     ]
    }
   ],
   "source": [
    "print(\"Best iteration\\t{}\".format(xgb_native.best_iteration))\n",
    "print(\"Best tree limit\\t{}\".format(xgb_native.best_ntree_limit))\n",
    "print(\"Best RMSE score\\t{}\".format(xgb_native.best_score))\n",
    "\n",
    "print(\"\\nValidation score\")\n",
    "pred_val = xgb_native.predict(DM_val)\n",
    "print_scores(pred_val, y_val)\n",
    "\n",
    "print(\"\\nTraining score\")\n",
    "pred_train = xgb_native.predict(DM_train)\n",
    "print_scores(pred_train, y_train)"
   ]
  },
  {
   "cell_type": "markdown",
   "metadata": {
    "heading_collapsed": true
   },
   "source": [
    "## Predict"
   ]
  },
  {
   "cell_type": "code",
   "execution_count": null,
   "metadata": {
    "hidden": true
   },
   "outputs": [],
   "source": [
    "# y_pred = xgb_native.predict(DM_test, ntree_limit = xgb_native.best_ntree_limit)"
   ]
  },
  {
   "cell_type": "markdown",
   "metadata": {},
   "source": [
    "# Train with full data based on tuned parameters"
   ]
  },
  {
   "cell_type": "code",
   "execution_count": null,
   "metadata": {},
   "outputs": [],
   "source": [
    "%%time\n",
    "full_data = xgb.DMatrix(data=train, label=sales)\n",
    "xgb_native_full_data = xgb.train(params=params_native, \n",
    "                                dtrain=full_data,\n",
    "                                num_boost_round=1447,\n",
    "                                evals=[(full_data, \"full data training\")],\n",
    "                                feval=SMAPE,\n",
    "                                maximize=False,\n",
    "                                verbose_eval=100)"
   ]
  },
  {
   "cell_type": "markdown",
   "metadata": {},
   "source": [
    "## Predict"
   ]
  },
  {
   "cell_type": "code",
   "execution_count": null,
   "metadata": {},
   "outputs": [],
   "source": [
    "y_pred = xgb_native_full_data.predict(DM_test)"
   ]
  },
  {
   "cell_type": "markdown",
   "metadata": {},
   "source": [
    "# Submit"
   ]
  },
  {
   "cell_type": "code",
   "execution_count": null,
   "metadata": {},
   "outputs": [],
   "source": [
    "submission = pd.read_csv(f'{PATH}test.csv', index_col='id')"
   ]
  },
  {
   "cell_type": "code",
   "execution_count": null,
   "metadata": {},
   "outputs": [],
   "source": [
    "submission['sales'] = y_pred"
   ]
  },
  {
   "cell_type": "code",
   "execution_count": null,
   "metadata": {},
   "outputs": [],
   "source": [
    "csv_fn = f'{PATH}tmp/XGB_v5_1.csv'"
   ]
  },
  {
   "cell_type": "code",
   "execution_count": null,
   "metadata": {},
   "outputs": [],
   "source": [
    "submission[['sales']].to_csv(csv_fn)"
   ]
  },
  {
   "cell_type": "markdown",
   "metadata": {},
   "source": [
    "# Plot the feature importances"
   ]
  },
  {
   "cell_type": "code",
   "execution_count": null,
   "metadata": {},
   "outputs": [],
   "source": [
    "xgb_native_full_data.save_model(f'{PATH}tmp/XGB_v4_partial_4')"
   ]
  },
  {
   "cell_type": "code",
   "execution_count": null,
   "metadata": {
    "scrolled": true
   },
   "outputs": [],
   "source": [
    "xgb.plot_importance(xgb_native_full_data)\n",
    "plt.show()"
   ]
  },
  {
   "cell_type": "raw",
   "metadata": {},
   "source": [
    "Common tree tunable parameters\n",
    "\n",
    "learning rate: learning rate/eta\n",
    "gamma: min loss reduction to create new tree split\n",
    "lambda: L2 reg on leaf weights\n",
    "alpha: L1 reg on leaf weights\n",
    "max_depth: max depth per tree\n",
    "subsample: % samples used per tree\n",
    "colsample_bytree: % features used per tree\n",
    "n_estimators: number of estimators used for both base model types"
   ]
  },
  {
   "cell_type": "code",
   "execution_count": null,
   "metadata": {},
   "outputs": [],
   "source": []
  }
 ],
 "metadata": {
  "kernelspec": {
   "display_name": "Python (tf)",
   "language": "python",
   "name": "tf"
  },
  "language_info": {
   "codemirror_mode": {
    "name": "ipython",
    "version": 3
   },
   "file_extension": ".py",
   "mimetype": "text/x-python",
   "name": "python",
   "nbconvert_exporter": "python",
   "pygments_lexer": "ipython3",
   "version": "3.6.6"
  },
  "toc": {
   "base_numbering": 1,
   "nav_menu": {},
   "number_sections": true,
   "sideBar": true,
   "skip_h1_title": false,
   "title_cell": "Table of Contents",
   "title_sidebar": "Contents",
   "toc_cell": false,
   "toc_position": {},
   "toc_section_display": true,
   "toc_window_display": false
  }
 },
 "nbformat": 4,
 "nbformat_minor": 2
}
