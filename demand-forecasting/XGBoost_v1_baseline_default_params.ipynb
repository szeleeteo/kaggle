{
 "cells": [
  {
   "cell_type": "markdown",
   "metadata": {
    "heading_collapsed": true
   },
   "source": [
    "# Imports"
   ]
  },
  {
   "cell_type": "code",
   "execution_count": 1,
   "metadata": {
    "hidden": true
   },
   "outputs": [],
   "source": [
    "%load_ext autoreload\n",
    "%autoreload 2\n",
    "\n",
    "%matplotlib inline"
   ]
  },
  {
   "cell_type": "code",
   "execution_count": 2,
   "metadata": {
    "hidden": true
   },
   "outputs": [],
   "source": [
    "import pandas as pd\n",
    "import numpy as np\n",
    "import matplotlib.pyplot as plt"
   ]
  },
  {
   "cell_type": "code",
   "execution_count": 3,
   "metadata": {
    "hidden": true
   },
   "outputs": [],
   "source": [
    "import xgboost as xgb\n",
    "from sklearn.metrics import mean_absolute_error,mean_squared_error"
   ]
  },
  {
   "cell_type": "code",
   "execution_count": 4,
   "metadata": {
    "hidden": true
   },
   "outputs": [],
   "source": [
    "PATH = \"data/demand-forecasting/\""
   ]
  },
  {
   "cell_type": "markdown",
   "metadata": {
    "heading_collapsed": true
   },
   "source": [
    "# Helper Functions"
   ]
  },
  {
   "cell_type": "code",
   "execution_count": 5,
   "metadata": {
    "hidden": true
   },
   "outputs": [],
   "source": [
    "# custom evaluation metric\n",
    "def SMAPE(y_pred, dtrain):\n",
    "    y_true = dtrain.get_label()\n",
    "    denominator = (np.abs(y_true) + np.abs(y_pred)) / 200.0\n",
    "    diff = np.abs(y_true - y_pred) / denominator\n",
    "    diff[denominator == 0] = 0.0\n",
    "    return 'SMAPE', np.nanmean(diff)"
   ]
  },
  {
   "cell_type": "code",
   "execution_count": 6,
   "metadata": {
    "hidden": true
   },
   "outputs": [],
   "source": [
    "def smape2(y_pred, y_true):\n",
    "    denominator = (np.abs(y_true) + np.abs(y_pred)) / 200.0\n",
    "    diff = np.abs(y_true - y_pred) / denominator\n",
    "    diff[denominator == 0] = 0.0\n",
    "    return np.nanmean(diff)"
   ]
  },
  {
   "cell_type": "code",
   "execution_count": 7,
   "metadata": {
    "hidden": true
   },
   "outputs": [],
   "source": [
    "def print_scores(pred,label):\n",
    "    rmse = np.sqrt(mean_squared_error(pred,label))\n",
    "    mae = mean_absolute_error(pred,label)\n",
    "    smape_score = smape2(pred,label)\n",
    "    \n",
    "    print('RMSE: ' + str(rmse))\n",
    "    print('MAE: ' + str(mae))\n",
    "    print('SMAPE: ' + str(smape_score))"
   ]
  },
  {
   "cell_type": "code",
   "execution_count": 8,
   "metadata": {
    "hidden": true
   },
   "outputs": [],
   "source": [
    "def plot_learning_curve(results,trn,val,metric):\n",
    "    train_errors = results[trn][metric]\n",
    "    validation_errors = results[val][metric]\n",
    "    df = pd.DataFrame([train_errors, validation_errors]).T\n",
    "    df.columns = ['Training', 'Validation']\n",
    "    df.index.name = 'Boosting Round'\n",
    "    ax = df.plot(title=\"XGBoost learning curves\",figsize=(12,5))\n",
    "    ax.set_ylabel(metric)"
   ]
  },
  {
   "cell_type": "markdown",
   "metadata": {
    "heading_collapsed": true
   },
   "source": [
    "# Pre-Process Data"
   ]
  },
  {
   "cell_type": "code",
   "execution_count": 9,
   "metadata": {
    "hidden": true
   },
   "outputs": [],
   "source": [
    "train = pd.read_csv(f'{PATH}train.csv', parse_dates=['date'])\n",
    "test = pd.read_csv(f'{PATH}test.csv', parse_dates=['date'], index_col='id')"
   ]
  },
  {
   "cell_type": "code",
   "execution_count": 10,
   "metadata": {
    "hidden": true
   },
   "outputs": [],
   "source": [
    "train['y'] = train['date'].dt.year\n",
    "train['m'] = train['date'].dt.month\n",
    "train['d'] = train['date'].dt.day\n",
    "train['dw'] = train['date'].dt.dayofweek\n",
    "train['dy'] = train['date'].dt.dayofyear\n",
    "train.drop('date', axis=1, inplace=True)\n",
    "\n",
    "sales = train.pop('sales')"
   ]
  },
  {
   "cell_type": "code",
   "execution_count": 11,
   "metadata": {
    "hidden": true
   },
   "outputs": [],
   "source": [
    "test['y'] = test['date'].dt.year\n",
    "test['m'] = test['date'].dt.month\n",
    "test['d'] = test['date'].dt.day\n",
    "test['dw'] = test['date'].dt.dayofweek\n",
    "test['dy'] = test['date'].dt.dayofyear\n",
    "test.drop('date', axis=1, inplace=True)"
   ]
  },
  {
   "cell_type": "markdown",
   "metadata": {
    "heading_collapsed": true
   },
   "source": [
    "# Split Training-Validation Data"
   ]
  },
  {
   "cell_type": "code",
   "execution_count": 12,
   "metadata": {
    "hidden": true
   },
   "outputs": [
    {
     "data": {
      "text/plain": [
       "((913000, 7), (913000,), (45000, 7))"
      ]
     },
     "execution_count": 12,
     "metadata": {},
     "output_type": "execute_result"
    }
   ],
   "source": [
    "train.shape, sales.shape, test.shape"
   ]
  },
  {
   "cell_type": "code",
   "execution_count": 13,
   "metadata": {
    "hidden": true
   },
   "outputs": [],
   "source": [
    "# closest same period (diff year) as test set\n",
    "X_val = train.loc[(train.y==2017) & ((train.m==10) | (train.m==11) | (train.m==12))].copy() \n",
    "y_val = sales[X_val.index].copy()\n",
    "\n",
    "X_train = train.drop(X_val.index).copy()\n",
    "y_train = sales.drop(X_val.index).copy()"
   ]
  },
  {
   "cell_type": "code",
   "execution_count": 14,
   "metadata": {
    "hidden": true,
    "scrolled": true
   },
   "outputs": [
    {
     "data": {
      "text/plain": [
       "((867000, 7), (867000,), (46000, 7), (46000,))"
      ]
     },
     "execution_count": 14,
     "metadata": {},
     "output_type": "execute_result"
    }
   ],
   "source": [
    "X_train.shape, y_train.shape, X_val.shape, y_val.shape"
   ]
  },
  {
   "cell_type": "code",
   "execution_count": 15,
   "metadata": {
    "hidden": true
   },
   "outputs": [
    {
     "name": "stdout",
     "output_type": "stream",
     "text": [
      "\n"
     ]
    }
   ],
   "source": [
    "X_train.reset_index(drop=True, inplace=True)\n",
    "y_train.reset_index(drop=True, inplace=True)\n",
    "X_val.reset_index(drop=True, inplace=True)\n",
    "y_val.reset_index(drop=True, inplace=True)\n",
    "print()"
   ]
  },
  {
   "cell_type": "markdown",
   "metadata": {
    "heading_collapsed": true
   },
   "source": [
    "# XGBoost API"
   ]
  },
  {
   "cell_type": "code",
   "execution_count": 16,
   "metadata": {
    "hidden": true
   },
   "outputs": [],
   "source": [
    "DM_train = xgb.DMatrix(data=X_train, label=y_train)\n",
    "DM_val = xgb.DMatrix(data=X_val, label=y_val)\n",
    "DM_test = xgb.DMatrix(data=test)"
   ]
  },
  {
   "cell_type": "code",
   "execution_count": 17,
   "metadata": {
    "hidden": true
   },
   "outputs": [],
   "source": [
    "evals_result = {}\n",
    "watchtlist_trn = \"training\"\n",
    "watchtlist_val = \"validation\"\n",
    "watchlist = [(DM_train, watchtlist_trn), (DM_val, watchtlist_val)]"
   ]
  },
  {
   "cell_type": "code",
   "execution_count": 18,
   "metadata": {
    "hidden": true
   },
   "outputs": [],
   "source": [
    "params_native_simple = {\n",
    "    'objective': 'reg:linear',  # 'reg:linear'\n",
    "    'booster':'gbtree',         # 'gbtree'\n",
    "    'silent': 1,                # 0   \n",
    "    'eta': 0.1,                 # 0.3 alias learning_rate\n",
    "    'gamma': 0,                 # 0\n",
    "    'max-depth': 3,             # 6\n",
    "    'min_child_weight': 1,      # 1\n",
    "    'max_delta_step': 0,        # 0\n",
    "    'subsample': 1,             # 1\n",
    "    'colsample_bytree': 1,      # 1\n",
    "    'colsample_bylevel': 1,     # 1\n",
    "    'lambda': 1,                # 1  \n",
    "    'alpha': 0,                 # 0\n",
    "    'scale_pos_weight': 1,      # 1\n",
    "    'base_score': 0.5,          # 0.5\n",
    "    'eval_metric':'rmse',       # 'rmse' for regression\n",
    "    'seed': 42                  # 0 \n",
    "}"
   ]
  },
  {
   "cell_type": "code",
   "execution_count": 19,
   "metadata": {
    "hidden": true
   },
   "outputs": [
    {
     "name": "stdout",
     "output_type": "stream",
     "text": [
      "[0]\ttraining-rmse:54.2027\tvalidation-rmse:56.1649\n",
      "Multiple eval metrics have been passed: 'validation-rmse' will be used for early stopping.\n",
      "\n",
      "Will train until validation-rmse hasn't improved in 20 rounds.\n",
      "[50]\ttraining-rmse:13.2316\tvalidation-rmse:13.8439\n",
      "[100]\ttraining-rmse:9.13504\tvalidation-rmse:9.67734\n",
      "[150]\ttraining-rmse:8.26563\tvalidation-rmse:8.83967\n",
      "[200]\ttraining-rmse:7.88388\tvalidation-rmse:8.49632\n",
      "[250]\ttraining-rmse:7.68541\tvalidation-rmse:8.29289\n",
      "[300]\ttraining-rmse:7.56807\tvalidation-rmse:8.17582\n",
      "[350]\ttraining-rmse:7.47846\tvalidation-rmse:8.097\n",
      "[400]\ttraining-rmse:7.42172\tvalidation-rmse:8.02718\n",
      "[450]\ttraining-rmse:7.37787\tvalidation-rmse:7.98309\n",
      "[500]\ttraining-rmse:7.34747\tvalidation-rmse:7.95146\n",
      "[550]\ttraining-rmse:7.31829\tvalidation-rmse:7.92174\n",
      "[600]\ttraining-rmse:7.30427\tvalidation-rmse:7.91137\n",
      "[650]\ttraining-rmse:7.28762\tvalidation-rmse:7.89954\n",
      "[700]\ttraining-rmse:7.27298\tvalidation-rmse:7.88365\n",
      "[750]\ttraining-rmse:7.25936\tvalidation-rmse:7.87582\n",
      "[800]\ttraining-rmse:7.25008\tvalidation-rmse:7.86774\n",
      "[850]\ttraining-rmse:7.23904\tvalidation-rmse:7.86244\n",
      "Stopping. Best iteration:\n",
      "[851]\ttraining-rmse:7.23889\tvalidation-rmse:7.86205\n",
      "\n",
      "Wall time: 2min 49s\n"
     ]
    }
   ],
   "source": [
    "%%time\n",
    "xgb_native = xgb.train(params=params_native_simple, \n",
    "                              dtrain=DM_train,\n",
    "                              num_boost_round=5001,\n",
    "                              evals=watchlist,\n",
    "                              early_stopping_rounds=20,\n",
    "                              evals_result=evals_result,\n",
    "                              verbose_eval=50)"
   ]
  },
  {
   "cell_type": "code",
   "execution_count": 20,
   "metadata": {
    "hidden": true
   },
   "outputs": [
    {
     "name": "stdout",
     "output_type": "stream",
     "text": [
      "Best iteration: 851\n",
      "Best number of trees limit: 852\n",
      "Best RMSE score: 7.862053\n"
     ]
    }
   ],
   "source": [
    "print(\"Best iteration: {}\".format(xgb_native.best_iteration))\n",
    "print(\"Best number of trees limit: {}\".format(xgb_native.best_ntree_limit))\n",
    "print(\"Best RMSE score: {}\".format(xgb_native.best_score))"
   ]
  },
  {
   "cell_type": "code",
   "execution_count": 21,
   "metadata": {
    "hidden": true
   },
   "outputs": [
    {
     "data": {
      "image/png": "[encoded data removed]",
      "text/plain": [
       "<Figure size 864x360 with 1 Axes>"
      ]
     },
     "metadata": {},
     "output_type": "display_data"
    }
   ],
   "source": [
    "plot_learning_curve(evals_result, watchtlist_trn, watchtlist_val, 'rmse')"
   ]
  },
  {
   "cell_type": "markdown",
   "metadata": {
    "heading_collapsed": true
   },
   "source": [
    "# Scikit Learn API"
   ]
  },
  {
   "cell_type": "code",
   "execution_count": 22,
   "metadata": {
    "hidden": true
   },
   "outputs": [],
   "source": [
    "params_sklearn_simple = {\n",
    "    'objective': 'reg:linear',  # 'reg:linear'\n",
    "    'booster':'gbtree',         # 'gbtree'\n",
    "    'silent': True,             # True\n",
    "    'max-depth': 3,             # 3\n",
    "    'learning_rate': 0.1,       # 0.1\n",
    "    'n_estimators': 5001,       # 200\n",
    "    'n_jobs': 4,                # 1 (replaces nthread)\n",
    "    'gamma': 0,                 # 0\n",
    "    'min_child_weight': 1,      # 1\n",
    "    'max_delta_step': 0,        # 0\n",
    "    'subsample': 1,             # 1\n",
    "    'colsample_bytree': 1,      # 1\n",
    "    'colsample_bylevel': 1,     # 1\n",
    "    'reg_alpha': 0,             # 0\n",
    "    'reg_lambda': 1,            # 1\n",
    "    'scale_pos_weight': 1,      # 1\n",
    "    'base_score': 0.5,          # 0.5\n",
    "    'random_state': 42,         # 0 (replaces seed) \n",
    "}"
   ]
  },
  {
   "cell_type": "code",
   "execution_count": 23,
   "metadata": {
    "hidden": true
   },
   "outputs": [],
   "source": [
    "xgb_sk = xgb.XGBRegressor(**params_sklearn_simple)"
   ]
  },
  {
   "cell_type": "code",
   "execution_count": 24,
   "metadata": {
    "hidden": true
   },
   "outputs": [
    {
     "name": "stdout",
     "output_type": "stream",
     "text": [
      "[0]\tvalidation_0-rmse:54.3844\tvalidation_1-rmse:56.1363\n",
      "Multiple eval metrics have been passed: 'validation_1-rmse' will be used for early stopping.\n",
      "\n",
      "Will train until validation_1-rmse hasn't improved in 20 rounds.\n",
      "[50]\tvalidation_0-rmse:19.4849\tvalidation_1-rmse:20.0717\n",
      "[100]\tvalidation_0-rmse:15.9126\tvalidation_1-rmse:16.6876\n",
      "[150]\tvalidation_0-rmse:12.8873\tvalidation_1-rmse:13.3497\n",
      "[200]\tvalidation_0-rmse:11.3948\tvalidation_1-rmse:11.7167\n",
      "[250]\tvalidation_0-rmse:10.659\tvalidation_1-rmse:10.8728\n",
      "[300]\tvalidation_0-rmse:10.1848\tvalidation_1-rmse:10.3628\n",
      "[350]\tvalidation_0-rmse:9.86631\tvalidation_1-rmse:9.98598\n",
      "[400]\tvalidation_0-rmse:9.67135\tvalidation_1-rmse:9.77451\n",
      "[450]\tvalidation_0-rmse:9.54284\tvalidation_1-rmse:9.6318\n",
      "[500]\tvalidation_0-rmse:9.44738\tvalidation_1-rmse:9.53274\n",
      "[550]\tvalidation_0-rmse:9.36734\tvalidation_1-rmse:9.46242\n",
      "[600]\tvalidation_0-rmse:9.28871\tvalidation_1-rmse:9.3947\n",
      "[650]\tvalidation_0-rmse:9.22934\tvalidation_1-rmse:9.32213\n",
      "[700]\tvalidation_0-rmse:9.16537\tvalidation_1-rmse:9.26325\n",
      "[750]\tvalidation_0-rmse:9.11225\tvalidation_1-rmse:9.22592\n",
      "[800]\tvalidation_0-rmse:9.06735\tvalidation_1-rmse:9.19384\n",
      "[850]\tvalidation_0-rmse:9.01775\tvalidation_1-rmse:9.16009\n",
      "[900]\tvalidation_0-rmse:8.98245\tvalidation_1-rmse:9.1287\n",
      "[950]\tvalidation_0-rmse:8.95489\tvalidation_1-rmse:9.11444\n",
      "[1000]\tvalidation_0-rmse:8.89841\tvalidation_1-rmse:9.07207\n",
      "[1050]\tvalidation_0-rmse:8.84413\tvalidation_1-rmse:9.02399\n",
      "[1100]\tvalidation_0-rmse:8.8098\tvalidation_1-rmse:8.98068\n",
      "[1150]\tvalidation_0-rmse:8.78081\tvalidation_1-rmse:8.95374\n",
      "[1200]\tvalidation_0-rmse:8.73311\tvalidation_1-rmse:8.92278\n",
      "[1250]\tvalidation_0-rmse:8.70591\tvalidation_1-rmse:8.89643\n",
      "[1300]\tvalidation_0-rmse:8.67847\tvalidation_1-rmse:8.87491\n",
      "[1350]\tvalidation_0-rmse:8.66401\tvalidation_1-rmse:8.86184\n",
      "[1400]\tvalidation_0-rmse:8.63617\tvalidation_1-rmse:8.84106\n",
      "[1450]\tvalidation_0-rmse:8.61291\tvalidation_1-rmse:8.81845\n",
      "[1500]\tvalidation_0-rmse:8.57081\tvalidation_1-rmse:8.78731\n",
      "[1550]\tvalidation_0-rmse:8.53234\tvalidation_1-rmse:8.75968\n",
      "[1600]\tvalidation_0-rmse:8.49569\tvalidation_1-rmse:8.7417\n",
      "[1650]\tvalidation_0-rmse:8.45683\tvalidation_1-rmse:8.71885\n",
      "[1700]\tvalidation_0-rmse:8.42485\tvalidation_1-rmse:8.70034\n",
      "[1750]\tvalidation_0-rmse:8.40219\tvalidation_1-rmse:8.69231\n",
      "[1800]\tvalidation_0-rmse:8.38784\tvalidation_1-rmse:8.68473\n",
      "[1850]\tvalidation_0-rmse:8.37167\tvalidation_1-rmse:8.67231\n",
      "Stopping. Best iteration:\n",
      "[1857]\tvalidation_0-rmse:8.36583\tvalidation_1-rmse:8.66889\n",
      "\n",
      "Wall time: 3min 47s\n"
     ]
    }
   ],
   "source": [
    "%%time\n",
    "xgb_sk = xgb_sk.fit(X_train, y_train,\n",
    "                                  eval_set=[(X_train, y_train),(X_val, y_val)],\n",
    "                                  eval_metric='rmse', \n",
    "                                  verbose=50,\n",
    "                                  early_stopping_rounds=20)   "
   ]
  },
  {
   "cell_type": "code",
   "execution_count": 25,
   "metadata": {
    "hidden": true
   },
   "outputs": [
    {
     "name": "stdout",
     "output_type": "stream",
     "text": [
      "Best iteration: 1857\n",
      "Best number of trees limit: 1858\n",
      "Best RMSE score: 8.668887\n"
     ]
    }
   ],
   "source": [
    "print(\"Best iteration: {}\".format(xgb_sk.best_iteration))\n",
    "print(\"Best number of trees limit: {}\".format(xgb_sk.best_ntree_limit))\n",
    "print(\"Best RMSE score: {}\".format(xgb_sk.best_score))"
   ]
  },
  {
   "cell_type": "code",
   "execution_count": 26,
   "metadata": {
    "hidden": true
   },
   "outputs": [
    {
     "data": {
      "image/png": "[encoded data removed]",
      "text/plain": [
       "<Figure size 864x360 with 1 Axes>"
      ]
     },
     "metadata": {},
     "output_type": "display_data"
    }
   ],
   "source": [
    "plot_learning_curve(xgb_sk.evals_result(), 'validation_0', 'validation_1', 'rmse')"
   ]
  },
  {
   "cell_type": "markdown",
   "metadata": {
    "heading_collapsed": true
   },
   "source": [
    "# Comparisons"
   ]
  },
  {
   "cell_type": "code",
   "execution_count": 27,
   "metadata": {
    "hidden": true
   },
   "outputs": [
    {
     "name": "stdout",
     "output_type": "stream",
     "text": [
      "Native\n",
      "Best iteration: 851\n",
      "Best number of trees limit: 852\n",
      "Best RMSE score: 7.862053\n",
      "\n",
      "SKLearn\n",
      "Best iteration: 1857\n",
      "Best number of trees limit: 1858\n",
      "Best RMSE score: 8.668887\n"
     ]
    }
   ],
   "source": [
    "print(\"Native\")\n",
    "print(\"Best iteration: {}\".format(xgb_native.best_iteration))\n",
    "print(\"Best number of trees limit: {}\".format(xgb_native.best_ntree_limit))\n",
    "print(\"Best RMSE score: {}\".format(xgb_native.best_score))\n",
    "\n",
    "print(\"\\nSKLearn\")\n",
    "print(\"Best iteration: {}\".format(xgb_sk.best_iteration))\n",
    "print(\"Best number of trees limit: {}\".format(xgb_sk.best_ntree_limit))\n",
    "print(\"Best RMSE score: {}\".format(xgb_sk.best_score))"
   ]
  },
  {
   "cell_type": "code",
   "execution_count": 28,
   "metadata": {
    "hidden": true
   },
   "outputs": [
    {
     "name": "stdout",
     "output_type": "stream",
     "text": [
      "Training score Native\n",
      "RMSE: 7.2359376085156155\n",
      "MAE: 5.571136870407316\n",
      "SMAPE: 12.597623445040107\n",
      "\n",
      "Training score SKLearn\n",
      "RMSE: 8.362823017668001\n",
      "MAE: 6.448160136094418\n",
      "SMAPE: 15.760075952351887\n"
     ]
    }
   ],
   "source": [
    "print(\"Training score Native\")\n",
    "pred_train = xgb_native.predict(DM_train)\n",
    "print_scores(pred_train, y_train)\n",
    "\n",
    "print(\"\\nTraining score SKLearn\")\n",
    "pred_train = xgb_sk.predict(X_train)\n",
    "print_scores(pred_train, y_train)"
   ]
  },
  {
   "cell_type": "code",
   "execution_count": 29,
   "metadata": {
    "hidden": true
   },
   "outputs": [
    {
     "name": "stdout",
     "output_type": "stream",
     "text": [
      "Validation score Native\n",
      "RMSE: 7.8621608592696335\n",
      "MAE: 6.085678606136986\n",
      "SMAPE: 12.804424734422618\n",
      "\n",
      "Validation score SKLearn\n",
      "RMSE: 8.6692505166153\n",
      "MAE: 6.721057647669445\n",
      "SMAPE: 15.017970962883163\n"
     ]
    }
   ],
   "source": [
    "print(\"Validation score Native\")\n",
    "pred_val = xgb_native.predict(DM_val)\n",
    "print_scores(pred_val, y_val)\n",
    "\n",
    "print(\"\\nValidation score SKLearn\")\n",
    "pred_val = xgb_sk.predict(X_val)\n",
    "print_scores(pred_val, y_val)"
   ]
  }
 ],
 "metadata": {
  "kernelspec": {
   "display_name": "Python (tf)",
   "language": "python",
   "name": "tf"
  },
  "language_info": {
   "codemirror_mode": {
    "name": "ipython",
    "version": 3
   },
   "file_extension": ".py",
   "mimetype": "text/x-python",
   "name": "python",
   "nbconvert_exporter": "python",
   "pygments_lexer": "ipython3",
   "version": "3.6.6"
  },
  "toc": {
   "base_numbering": 1,
   "nav_menu": {},
   "number_sections": true,
   "sideBar": true,
   "skip_h1_title": false,
   "title_cell": "Table of Contents",
   "title_sidebar": "Contents",
   "toc_cell": false,
   "toc_position": {},
   "toc_section_display": true,
   "toc_window_display": false
  }
 },
 "nbformat": 4,
 "nbformat_minor": 2
}
