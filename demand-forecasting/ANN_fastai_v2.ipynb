{
 "cells": [
  {
   "cell_type": "markdown",
   "metadata": {},
   "source": [
    "# Imports"
   ]
  },
  {
   "cell_type": "code",
   "execution_count": 62,
   "metadata": {},
   "outputs": [],
   "source": [
    "%matplotlib inline\n",
    "%reload_ext autoreload\n",
    "%autoreload 2"
   ]
  },
  {
   "cell_type": "code",
   "execution_count": 63,
   "metadata": {},
   "outputs": [],
   "source": [
    "from fastai.structured import *\n",
    "from fastai.column_data import *\n",
    "\n",
    "PATH = \"data/demand-forecasting/\""
   ]
  },
  {
   "cell_type": "markdown",
   "metadata": {},
   "source": [
    "# Helper Functions"
   ]
  },
  {
   "cell_type": "code",
   "execution_count": 64,
   "metadata": {},
   "outputs": [],
   "source": [
    "def rmse(y_true, y_pred):\n",
    "    return math.sqrt(((y_pred-y_true)**2).mean())"
   ]
  },
  {
   "cell_type": "code",
   "execution_count": 65,
   "metadata": {},
   "outputs": [],
   "source": [
    "def smape(y_pred,y_true):\n",
    "    denominator = (np.abs(y_true) + np.abs(y_pred)) / 200.0\n",
    "    diff = np.abs(y_true - y_pred) / denominator\n",
    "    diff[denominator == 0] = 0.0\n",
    "    return np.nanmean(diff)"
   ]
  },
  {
   "cell_type": "markdown",
   "metadata": {},
   "source": [
    "# Process data"
   ]
  },
  {
   "cell_type": "code",
   "execution_count": 66,
   "metadata": {},
   "outputs": [],
   "source": [
    "train_raw = pd.read_csv(f'{PATH}train.csv', parse_dates=['date'])\n",
    "test_raw = pd.read_csv(f'{PATH}test.csv', parse_dates=['date'])"
   ]
  },
  {
   "cell_type": "code",
   "execution_count": 67,
   "metadata": {},
   "outputs": [],
   "source": [
    "joined = pd.concat([train_raw,test_raw], sort=False)"
   ]
  },
  {
   "cell_type": "code",
   "execution_count": 68,
   "metadata": {},
   "outputs": [
    {
     "data": {
      "text/html": [
       "<div>\n",
       "<style scoped>\n",
       "    .dataframe tbody tr th:only-of-type {\n",
       "        vertical-align: middle;\n",
       "    }\n",
       "\n",
       "    .dataframe tbody tr th {\n",
       "        vertical-align: top;\n",
       "    }\n",
       "\n",
       "    .dataframe thead th {\n",
       "        text-align: right;\n",
       "    }\n",
       "</style>\n",
       "<table border=\"1\" class=\"dataframe\">\n",
       "  <thead>\n",
       "    <tr style=\"text-align: right;\">\n",
       "      <th></th>\n",
       "      <th>date</th>\n",
       "      <th>store</th>\n",
       "      <th>item</th>\n",
       "      <th>sales</th>\n",
       "    </tr>\n",
       "  </thead>\n",
       "  <tbody>\n",
       "    <tr>\n",
       "      <th>0</th>\n",
       "      <td>2013-01-01</td>\n",
       "      <td>1</td>\n",
       "      <td>1</td>\n",
       "      <td>13</td>\n",
       "    </tr>\n",
       "  </tbody>\n",
       "</table>\n",
       "</div>"
      ],
      "text/plain": [
       "        date  store  item  sales\n",
       "0 2013-01-01      1     1     13"
      ]
     },
     "metadata": {},
     "output_type": "display_data"
    },
    {
     "data": {
      "text/html": [
       "<div>\n",
       "<style scoped>\n",
       "    .dataframe tbody tr th:only-of-type {\n",
       "        vertical-align: middle;\n",
       "    }\n",
       "\n",
       "    .dataframe tbody tr th {\n",
       "        vertical-align: top;\n",
       "    }\n",
       "\n",
       "    .dataframe thead th {\n",
       "        text-align: right;\n",
       "    }\n",
       "</style>\n",
       "<table border=\"1\" class=\"dataframe\">\n",
       "  <thead>\n",
       "    <tr style=\"text-align: right;\">\n",
       "      <th></th>\n",
       "      <th>id</th>\n",
       "      <th>date</th>\n",
       "      <th>store</th>\n",
       "      <th>item</th>\n",
       "    </tr>\n",
       "  </thead>\n",
       "  <tbody>\n",
       "    <tr>\n",
       "      <th>0</th>\n",
       "      <td>0</td>\n",
       "      <td>2018-01-01</td>\n",
       "      <td>1</td>\n",
       "      <td>1</td>\n",
       "    </tr>\n",
       "  </tbody>\n",
       "</table>\n",
       "</div>"
      ],
      "text/plain": [
       "   id       date  store  item\n",
       "0   0 2018-01-01      1     1"
      ]
     },
     "metadata": {},
     "output_type": "display_data"
    },
    {
     "data": {
      "text/html": [
       "<div>\n",
       "<style scoped>\n",
       "    .dataframe tbody tr th:only-of-type {\n",
       "        vertical-align: middle;\n",
       "    }\n",
       "\n",
       "    .dataframe tbody tr th {\n",
       "        vertical-align: top;\n",
       "    }\n",
       "\n",
       "    .dataframe thead th {\n",
       "        text-align: right;\n",
       "    }\n",
       "</style>\n",
       "<table border=\"1\" class=\"dataframe\">\n",
       "  <thead>\n",
       "    <tr style=\"text-align: right;\">\n",
       "      <th></th>\n",
       "      <th>date</th>\n",
       "      <th>store</th>\n",
       "      <th>item</th>\n",
       "      <th>sales</th>\n",
       "      <th>id</th>\n",
       "    </tr>\n",
       "  </thead>\n",
       "  <tbody>\n",
       "    <tr>\n",
       "      <th>0</th>\n",
       "      <td>2013-01-01</td>\n",
       "      <td>1</td>\n",
       "      <td>1</td>\n",
       "      <td>13.0</td>\n",
       "      <td>NaN</td>\n",
       "    </tr>\n",
       "  </tbody>\n",
       "</table>\n",
       "</div>"
      ],
      "text/plain": [
       "        date  store  item  sales  id\n",
       "0 2013-01-01      1     1   13.0 NaN"
      ]
     },
     "metadata": {},
     "output_type": "display_data"
    },
    {
     "data": {
      "text/html": [
       "<div>\n",
       "<style scoped>\n",
       "    .dataframe tbody tr th:only-of-type {\n",
       "        vertical-align: middle;\n",
       "    }\n",
       "\n",
       "    .dataframe tbody tr th {\n",
       "        vertical-align: top;\n",
       "    }\n",
       "\n",
       "    .dataframe thead th {\n",
       "        text-align: right;\n",
       "    }\n",
       "</style>\n",
       "<table border=\"1\" class=\"dataframe\">\n",
       "  <thead>\n",
       "    <tr style=\"text-align: right;\">\n",
       "      <th></th>\n",
       "      <th>date</th>\n",
       "      <th>store</th>\n",
       "      <th>item</th>\n",
       "      <th>sales</th>\n",
       "      <th>id</th>\n",
       "    </tr>\n",
       "  </thead>\n",
       "  <tbody>\n",
       "    <tr>\n",
       "      <th>44999</th>\n",
       "      <td>2018-03-31</td>\n",
       "      <td>10</td>\n",
       "      <td>50</td>\n",
       "      <td>NaN</td>\n",
       "      <td>44999.0</td>\n",
       "    </tr>\n",
       "  </tbody>\n",
       "</table>\n",
       "</div>"
      ],
      "text/plain": [
       "            date  store  item  sales       id\n",
       "44999 2018-03-31     10    50    NaN  44999.0"
      ]
     },
     "metadata": {},
     "output_type": "display_data"
    }
   ],
   "source": [
    "display(train_raw.head(1))\n",
    "display(test_raw.head(1))\n",
    "display(joined.head(1))\n",
    "display(joined.tail(1))"
   ]
  },
  {
   "cell_type": "code",
   "execution_count": 69,
   "metadata": {},
   "outputs": [],
   "source": [
    "add_datepart(joined, 'date', drop=False)"
   ]
  },
  {
   "cell_type": "code",
   "execution_count": 70,
   "metadata": {},
   "outputs": [
    {
     "data": {
      "text/html": [
       "<div>\n",
       "<style scoped>\n",
       "    .dataframe tbody tr th:only-of-type {\n",
       "        vertical-align: middle;\n",
       "    }\n",
       "\n",
       "    .dataframe tbody tr th {\n",
       "        vertical-align: top;\n",
       "    }\n",
       "\n",
       "    .dataframe thead th {\n",
       "        text-align: right;\n",
       "    }\n",
       "</style>\n",
       "<table border=\"1\" class=\"dataframe\">\n",
       "  <thead>\n",
       "    <tr style=\"text-align: right;\">\n",
       "      <th></th>\n",
       "      <th>date</th>\n",
       "      <th>store</th>\n",
       "      <th>item</th>\n",
       "      <th>sales</th>\n",
       "    </tr>\n",
       "  </thead>\n",
       "  <tbody>\n",
       "    <tr>\n",
       "      <th>0</th>\n",
       "      <td>2013-01-01</td>\n",
       "      <td>1</td>\n",
       "      <td>1</td>\n",
       "      <td>13</td>\n",
       "    </tr>\n",
       "  </tbody>\n",
       "</table>\n",
       "</div>"
      ],
      "text/plain": [
       "        date  store  item  sales\n",
       "0 2013-01-01      1     1     13"
      ]
     },
     "metadata": {},
     "output_type": "display_data"
    },
    {
     "data": {
      "text/html": [
       "<div>\n",
       "<style scoped>\n",
       "    .dataframe tbody tr th:only-of-type {\n",
       "        vertical-align: middle;\n",
       "    }\n",
       "\n",
       "    .dataframe tbody tr th {\n",
       "        vertical-align: top;\n",
       "    }\n",
       "\n",
       "    .dataframe thead th {\n",
       "        text-align: right;\n",
       "    }\n",
       "</style>\n",
       "<table border=\"1\" class=\"dataframe\">\n",
       "  <thead>\n",
       "    <tr style=\"text-align: right;\">\n",
       "      <th></th>\n",
       "      <th>id</th>\n",
       "      <th>date</th>\n",
       "      <th>store</th>\n",
       "      <th>item</th>\n",
       "    </tr>\n",
       "  </thead>\n",
       "  <tbody>\n",
       "    <tr>\n",
       "      <th>0</th>\n",
       "      <td>0</td>\n",
       "      <td>2018-01-01</td>\n",
       "      <td>1</td>\n",
       "      <td>1</td>\n",
       "    </tr>\n",
       "  </tbody>\n",
       "</table>\n",
       "</div>"
      ],
      "text/plain": [
       "   id       date  store  item\n",
       "0   0 2018-01-01      1     1"
      ]
     },
     "metadata": {},
     "output_type": "display_data"
    },
    {
     "data": {
      "text/html": [
       "<div>\n",
       "<style scoped>\n",
       "    .dataframe tbody tr th:only-of-type {\n",
       "        vertical-align: middle;\n",
       "    }\n",
       "\n",
       "    .dataframe tbody tr th {\n",
       "        vertical-align: top;\n",
       "    }\n",
       "\n",
       "    .dataframe thead th {\n",
       "        text-align: right;\n",
       "    }\n",
       "</style>\n",
       "<table border=\"1\" class=\"dataframe\">\n",
       "  <thead>\n",
       "    <tr style=\"text-align: right;\">\n",
       "      <th></th>\n",
       "      <th>date</th>\n",
       "      <th>store</th>\n",
       "      <th>item</th>\n",
       "      <th>sales</th>\n",
       "      <th>id</th>\n",
       "      <th>Year</th>\n",
       "      <th>Month</th>\n",
       "      <th>Week</th>\n",
       "      <th>Day</th>\n",
       "      <th>Dayofweek</th>\n",
       "      <th>Dayofyear</th>\n",
       "      <th>Is_month_end</th>\n",
       "      <th>Is_month_start</th>\n",
       "      <th>Is_quarter_end</th>\n",
       "      <th>Is_quarter_start</th>\n",
       "      <th>Is_year_end</th>\n",
       "      <th>Is_year_start</th>\n",
       "      <th>Elapsed</th>\n",
       "    </tr>\n",
       "  </thead>\n",
       "  <tbody>\n",
       "    <tr>\n",
       "      <th>0</th>\n",
       "      <td>2013-01-01</td>\n",
       "      <td>1</td>\n",
       "      <td>1</td>\n",
       "      <td>13.0</td>\n",
       "      <td>NaN</td>\n",
       "      <td>2013</td>\n",
       "      <td>1</td>\n",
       "      <td>1</td>\n",
       "      <td>1</td>\n",
       "      <td>1</td>\n",
       "      <td>1</td>\n",
       "      <td>False</td>\n",
       "      <td>True</td>\n",
       "      <td>False</td>\n",
       "      <td>True</td>\n",
       "      <td>False</td>\n",
       "      <td>True</td>\n",
       "      <td>1356998400</td>\n",
       "    </tr>\n",
       "  </tbody>\n",
       "</table>\n",
       "</div>"
      ],
      "text/plain": [
       "        date  store  item  sales  id  Year  Month  Week  Day  Dayofweek  \\\n",
       "0 2013-01-01      1     1   13.0 NaN  2013      1     1    1          1   \n",
       "\n",
       "   Dayofyear  Is_month_end  Is_month_start  Is_quarter_end  Is_quarter_start  \\\n",
       "0          1         False            True           False              True   \n",
       "\n",
       "   Is_year_end  Is_year_start     Elapsed  \n",
       "0        False           True  1356998400  "
      ]
     },
     "metadata": {},
     "output_type": "display_data"
    },
    {
     "data": {
      "text/html": [
       "<div>\n",
       "<style scoped>\n",
       "    .dataframe tbody tr th:only-of-type {\n",
       "        vertical-align: middle;\n",
       "    }\n",
       "\n",
       "    .dataframe tbody tr th {\n",
       "        vertical-align: top;\n",
       "    }\n",
       "\n",
       "    .dataframe thead th {\n",
       "        text-align: right;\n",
       "    }\n",
       "</style>\n",
       "<table border=\"1\" class=\"dataframe\">\n",
       "  <thead>\n",
       "    <tr style=\"text-align: right;\">\n",
       "      <th></th>\n",
       "      <th>date</th>\n",
       "      <th>store</th>\n",
       "      <th>item</th>\n",
       "      <th>sales</th>\n",
       "      <th>id</th>\n",
       "      <th>Year</th>\n",
       "      <th>Month</th>\n",
       "      <th>Week</th>\n",
       "      <th>Day</th>\n",
       "      <th>Dayofweek</th>\n",
       "      <th>Dayofyear</th>\n",
       "      <th>Is_month_end</th>\n",
       "      <th>Is_month_start</th>\n",
       "      <th>Is_quarter_end</th>\n",
       "      <th>Is_quarter_start</th>\n",
       "      <th>Is_year_end</th>\n",
       "      <th>Is_year_start</th>\n",
       "      <th>Elapsed</th>\n",
       "    </tr>\n",
       "  </thead>\n",
       "  <tbody>\n",
       "    <tr>\n",
       "      <th>44999</th>\n",
       "      <td>2018-03-31</td>\n",
       "      <td>10</td>\n",
       "      <td>50</td>\n",
       "      <td>NaN</td>\n",
       "      <td>44999.0</td>\n",
       "      <td>2018</td>\n",
       "      <td>3</td>\n",
       "      <td>13</td>\n",
       "      <td>31</td>\n",
       "      <td>5</td>\n",
       "      <td>90</td>\n",
       "      <td>True</td>\n",
       "      <td>False</td>\n",
       "      <td>True</td>\n",
       "      <td>False</td>\n",
       "      <td>False</td>\n",
       "      <td>False</td>\n",
       "      <td>1522454400</td>\n",
       "    </tr>\n",
       "  </tbody>\n",
       "</table>\n",
       "</div>"
      ],
      "text/plain": [
       "            date  store  item  sales       id  Year  Month  Week  Day  \\\n",
       "44999 2018-03-31     10    50    NaN  44999.0  2018      3    13   31   \n",
       "\n",
       "       Dayofweek  Dayofyear  Is_month_end  Is_month_start  Is_quarter_end  \\\n",
       "44999          5         90          True           False            True   \n",
       "\n",
       "       Is_quarter_start  Is_year_end  Is_year_start     Elapsed  \n",
       "44999             False        False          False  1522454400  "
      ]
     },
     "metadata": {},
     "output_type": "display_data"
    }
   ],
   "source": [
    "display(train_raw.head(1))\n",
    "display(test_raw.head(1))\n",
    "display(joined.head(2))\n",
    "display(joined.tail(2))"
   ]
  },
  {
   "cell_type": "markdown",
   "metadata": {},
   "source": [
    "## Add extra features"
   ]
  },
  {
   "cell_type": "code",
   "execution_count": 71,
   "metadata": {},
   "outputs": [],
   "source": [
    "joined[\"median-store_item-month\"] = joined.groupby(['Month',\"item\",\"store\"])[\"sales\"].transform(\"median\") # median sales for particular item-store combo\n",
    "\n",
    "joined[\"mean-store_item-week\"] = joined.groupby(['Week',\"item\",\"store\"])[\"sales\"].transform(\"mean\") # mean sales for particular item-store combo\n",
    "joined[\"mean-store_item-dayofweek-month\"] = joined.groupby(['Dayofweek','Month',\"item\",\"store\"])[\"sales\"].transform(\"mean\") # mean sales for particular item-store combo\n",
    "\n",
    "joined[\"item-month-sum\"] = joined.groupby(['Month',\"item\"])[\"sales\"].transform(\"sum\") # total sales of that item  for all stores\n",
    "joined[\"store-month-sum\"] = joined.groupby(['Month',\"store\"])[\"sales\"].transform(\"sum\") # total sales of that store  for all items"
   ]
  },
  {
   "cell_type": "markdown",
   "metadata": {},
   "source": [
    "## Extract train and test"
   ]
  },
  {
   "cell_type": "code",
   "execution_count": 72,
   "metadata": {},
   "outputs": [],
   "source": [
    "train = joined[~joined['sales'].isna()]\n",
    "test = joined[joined['sales'].isna()]\n",
    "\n",
    "train.pop('id')\n",
    "test = test.drop('sales', axis=1)"
   ]
  },
  {
   "cell_type": "code",
   "execution_count": 75,
   "metadata": {},
   "outputs": [
    {
     "data": {
      "text/html": [
       "<div>\n",
       "<style scoped>\n",
       "    .dataframe tbody tr th:only-of-type {\n",
       "        vertical-align: middle;\n",
       "    }\n",
       "\n",
       "    .dataframe tbody tr th {\n",
       "        vertical-align: top;\n",
       "    }\n",
       "\n",
       "    .dataframe thead th {\n",
       "        text-align: right;\n",
       "    }\n",
       "</style>\n",
       "<table border=\"1\" class=\"dataframe\">\n",
       "  <thead>\n",
       "    <tr style=\"text-align: right;\">\n",
       "      <th></th>\n",
       "      <th>date</th>\n",
       "      <th>store</th>\n",
       "      <th>item</th>\n",
       "      <th>sales</th>\n",
       "      <th>Year</th>\n",
       "      <th>Month</th>\n",
       "      <th>Week</th>\n",
       "      <th>Day</th>\n",
       "      <th>Dayofweek</th>\n",
       "      <th>Dayofyear</th>\n",
       "      <th>...</th>\n",
       "      <th>Is_quarter_end</th>\n",
       "      <th>Is_quarter_start</th>\n",
       "      <th>Is_year_end</th>\n",
       "      <th>Is_year_start</th>\n",
       "      <th>Elapsed</th>\n",
       "      <th>median-store_item-month</th>\n",
       "      <th>mean-store_item-week</th>\n",
       "      <th>mean-store_item-dayofweek-month</th>\n",
       "      <th>item-month-sum</th>\n",
       "      <th>store-month-sum</th>\n",
       "    </tr>\n",
       "  </thead>\n",
       "  <tbody>\n",
       "    <tr>\n",
       "      <th>count</th>\n",
       "      <td>NaN</td>\n",
       "      <td>913000</td>\n",
       "      <td>913000</td>\n",
       "      <td>913000</td>\n",
       "      <td>913000</td>\n",
       "      <td>913000</td>\n",
       "      <td>913000</td>\n",
       "      <td>913000</td>\n",
       "      <td>913000</td>\n",
       "      <td>913000</td>\n",
       "      <td>...</td>\n",
       "      <td>NaN</td>\n",
       "      <td>NaN</td>\n",
       "      <td>NaN</td>\n",
       "      <td>NaN</td>\n",
       "      <td>913000</td>\n",
       "      <td>913000</td>\n",
       "      <td>913000</td>\n",
       "      <td>913000</td>\n",
       "      <td>913000</td>\n",
       "      <td>913000</td>\n",
       "    </tr>\n",
       "    <tr>\n",
       "      <th>mean</th>\n",
       "      <td>NaN</td>\n",
       "      <td>5.5</td>\n",
       "      <td>25.5</td>\n",
       "      <td>52.2503</td>\n",
       "      <td>2015</td>\n",
       "      <td>6.52355</td>\n",
       "      <td>26.6156</td>\n",
       "      <td>15.7278</td>\n",
       "      <td>3.00164</td>\n",
       "      <td>183.1</td>\n",
       "      <td>...</td>\n",
       "      <td>NaN</td>\n",
       "      <td>NaN</td>\n",
       "      <td>NaN</td>\n",
       "      <td>NaN</td>\n",
       "      <td>1.43584e+09</td>\n",
       "      <td>51.7522</td>\n",
       "      <td>52.2503</td>\n",
       "      <td>52.2503</td>\n",
       "      <td>79623.8</td>\n",
       "      <td>398119</td>\n",
       "    </tr>\n",
       "    <tr>\n",
       "      <th>std</th>\n",
       "      <td>NaN</td>\n",
       "      <td>2.87228</td>\n",
       "      <td>14.4309</td>\n",
       "      <td>28.8011</td>\n",
       "      <td>1.41402</td>\n",
       "      <td>3.44854</td>\n",
       "      <td>15.061</td>\n",
       "      <td>8.79933</td>\n",
       "      <td>1.99932</td>\n",
       "      <td>105.424</td>\n",
       "      <td>...</td>\n",
       "      <td>NaN</td>\n",
       "      <td>NaN</td>\n",
       "      <td>NaN</td>\n",
       "      <td>NaN</td>\n",
       "      <td>4.55433e+07</td>\n",
       "      <td>26.1032</td>\n",
       "      <td>26.1991</td>\n",
       "      <td>27.2669</td>\n",
       "      <td>36275.8</td>\n",
       "      <td>109357</td>\n",
       "    </tr>\n",
       "    <tr>\n",
       "      <th>min</th>\n",
       "      <td>NaN</td>\n",
       "      <td>1</td>\n",
       "      <td>1</td>\n",
       "      <td>0</td>\n",
       "      <td>2013</td>\n",
       "      <td>1</td>\n",
       "      <td>1</td>\n",
       "      <td>1</td>\n",
       "      <td>0</td>\n",
       "      <td>1</td>\n",
       "      <td>...</td>\n",
       "      <td>NaN</td>\n",
       "      <td>NaN</td>\n",
       "      <td>NaN</td>\n",
       "      <td>NaN</td>\n",
       "      <td>1.357e+09</td>\n",
       "      <td>9</td>\n",
       "      <td>8.37143</td>\n",
       "      <td>7.14286</td>\n",
       "      <td>19429</td>\n",
       "      <td>191604</td>\n",
       "    </tr>\n",
       "    <tr>\n",
       "      <th>25%</th>\n",
       "      <td>NaN</td>\n",
       "      <td>3</td>\n",
       "      <td>13</td>\n",
       "      <td>30</td>\n",
       "      <td>2014</td>\n",
       "      <td>4</td>\n",
       "      <td>14</td>\n",
       "      <td>8</td>\n",
       "      <td>1</td>\n",
       "      <td>92</td>\n",
       "      <td>...</td>\n",
       "      <td>NaN</td>\n",
       "      <td>NaN</td>\n",
       "      <td>NaN</td>\n",
       "      <td>NaN</td>\n",
       "      <td>1.3964e+09</td>\n",
       "      <td>30</td>\n",
       "      <td>30.7714</td>\n",
       "      <td>30.4091</td>\n",
       "      <td>46668</td>\n",
       "      <td>314559</td>\n",
       "    </tr>\n",
       "    <tr>\n",
       "      <th>50%</th>\n",
       "      <td>NaN</td>\n",
       "      <td>5.5</td>\n",
       "      <td>25.5</td>\n",
       "      <td>47</td>\n",
       "      <td>2015</td>\n",
       "      <td>7</td>\n",
       "      <td>27</td>\n",
       "      <td>16</td>\n",
       "      <td>3</td>\n",
       "      <td>183</td>\n",
       "      <td>...</td>\n",
       "      <td>NaN</td>\n",
       "      <td>NaN</td>\n",
       "      <td>NaN</td>\n",
       "      <td>NaN</td>\n",
       "      <td>1.43584e+09</td>\n",
       "      <td>48</td>\n",
       "      <td>48.1429</td>\n",
       "      <td>47.5</td>\n",
       "      <td>76074</td>\n",
       "      <td>385566</td>\n",
       "    </tr>\n",
       "    <tr>\n",
       "      <th>75%</th>\n",
       "      <td>NaN</td>\n",
       "      <td>8</td>\n",
       "      <td>38</td>\n",
       "      <td>70</td>\n",
       "      <td>2016</td>\n",
       "      <td>10</td>\n",
       "      <td>40</td>\n",
       "      <td>23</td>\n",
       "      <td>5</td>\n",
       "      <td>274</td>\n",
       "      <td>...</td>\n",
       "      <td>NaN</td>\n",
       "      <td>NaN</td>\n",
       "      <td>NaN</td>\n",
       "      <td>NaN</td>\n",
       "      <td>1.47528e+09</td>\n",
       "      <td>69</td>\n",
       "      <td>69.2571</td>\n",
       "      <td>69.2727</td>\n",
       "      <td>105873</td>\n",
       "      <td>482597</td>\n",
       "    </tr>\n",
       "    <tr>\n",
       "      <th>max</th>\n",
       "      <td>NaN</td>\n",
       "      <td>10</td>\n",
       "      <td>50</td>\n",
       "      <td>231</td>\n",
       "      <td>2017</td>\n",
       "      <td>12</td>\n",
       "      <td>53</td>\n",
       "      <td>31</td>\n",
       "      <td>6</td>\n",
       "      <td>366</td>\n",
       "      <td>...</td>\n",
       "      <td>NaN</td>\n",
       "      <td>NaN</td>\n",
       "      <td>NaN</td>\n",
       "      <td>NaN</td>\n",
       "      <td>1.51468e+09</td>\n",
       "      <td>145</td>\n",
       "      <td>146.571</td>\n",
       "      <td>177.455</td>\n",
       "      <td>174769</td>\n",
       "      <td>665974</td>\n",
       "    </tr>\n",
       "    <tr>\n",
       "      <th>counts</th>\n",
       "      <td>913000</td>\n",
       "      <td>913000</td>\n",
       "      <td>913000</td>\n",
       "      <td>913000</td>\n",
       "      <td>913000</td>\n",
       "      <td>913000</td>\n",
       "      <td>913000</td>\n",
       "      <td>913000</td>\n",
       "      <td>913000</td>\n",
       "      <td>913000</td>\n",
       "      <td>...</td>\n",
       "      <td>913000</td>\n",
       "      <td>913000</td>\n",
       "      <td>913000</td>\n",
       "      <td>913000</td>\n",
       "      <td>913000</td>\n",
       "      <td>913000</td>\n",
       "      <td>913000</td>\n",
       "      <td>913000</td>\n",
       "      <td>913000</td>\n",
       "      <td>913000</td>\n",
       "    </tr>\n",
       "    <tr>\n",
       "      <th>uniques</th>\n",
       "      <td>1826</td>\n",
       "      <td>10</td>\n",
       "      <td>50</td>\n",
       "      <td>213</td>\n",
       "      <td>5</td>\n",
       "      <td>12</td>\n",
       "      <td>53</td>\n",
       "      <td>31</td>\n",
       "      <td>7</td>\n",
       "      <td>366</td>\n",
       "      <td>...</td>\n",
       "      <td>2</td>\n",
       "      <td>2</td>\n",
       "      <td>2</td>\n",
       "      <td>2</td>\n",
       "      <td>1826</td>\n",
       "      <td>233</td>\n",
       "      <td>4347</td>\n",
       "      <td>7791</td>\n",
       "      <td>600</td>\n",
       "      <td>120</td>\n",
       "    </tr>\n",
       "    <tr>\n",
       "      <th>missing</th>\n",
       "      <td>0</td>\n",
       "      <td>0</td>\n",
       "      <td>0</td>\n",
       "      <td>0</td>\n",
       "      <td>0</td>\n",
       "      <td>0</td>\n",
       "      <td>0</td>\n",
       "      <td>0</td>\n",
       "      <td>0</td>\n",
       "      <td>0</td>\n",
       "      <td>...</td>\n",
       "      <td>0</td>\n",
       "      <td>0</td>\n",
       "      <td>0</td>\n",
       "      <td>0</td>\n",
       "      <td>0</td>\n",
       "      <td>0</td>\n",
       "      <td>0</td>\n",
       "      <td>0</td>\n",
       "      <td>0</td>\n",
       "      <td>0</td>\n",
       "    </tr>\n",
       "    <tr>\n",
       "      <th>missing_perc</th>\n",
       "      <td>0%</td>\n",
       "      <td>0%</td>\n",
       "      <td>0%</td>\n",
       "      <td>0%</td>\n",
       "      <td>0%</td>\n",
       "      <td>0%</td>\n",
       "      <td>0%</td>\n",
       "      <td>0%</td>\n",
       "      <td>0%</td>\n",
       "      <td>0%</td>\n",
       "      <td>...</td>\n",
       "      <td>0%</td>\n",
       "      <td>0%</td>\n",
       "      <td>0%</td>\n",
       "      <td>0%</td>\n",
       "      <td>0%</td>\n",
       "      <td>0%</td>\n",
       "      <td>0%</td>\n",
       "      <td>0%</td>\n",
       "      <td>0%</td>\n",
       "      <td>0%</td>\n",
       "    </tr>\n",
       "    <tr>\n",
       "      <th>types</th>\n",
       "      <td>date</td>\n",
       "      <td>numeric</td>\n",
       "      <td>numeric</td>\n",
       "      <td>numeric</td>\n",
       "      <td>numeric</td>\n",
       "      <td>numeric</td>\n",
       "      <td>numeric</td>\n",
       "      <td>numeric</td>\n",
       "      <td>numeric</td>\n",
       "      <td>numeric</td>\n",
       "      <td>...</td>\n",
       "      <td>bool</td>\n",
       "      <td>bool</td>\n",
       "      <td>bool</td>\n",
       "      <td>bool</td>\n",
       "      <td>numeric</td>\n",
       "      <td>numeric</td>\n",
       "      <td>numeric</td>\n",
       "      <td>numeric</td>\n",
       "      <td>numeric</td>\n",
       "      <td>numeric</td>\n",
       "    </tr>\n",
       "  </tbody>\n",
       "</table>\n",
       "<p>13 rows × 22 columns</p>\n",
       "</div>"
      ],
      "text/plain": [
       "                date    store     item    sales     Year    Month     Week  \\\n",
       "count            NaN   913000   913000   913000   913000   913000   913000   \n",
       "mean             NaN      5.5     25.5  52.2503     2015  6.52355  26.6156   \n",
       "std              NaN  2.87228  14.4309  28.8011  1.41402  3.44854   15.061   \n",
       "min              NaN        1        1        0     2013        1        1   \n",
       "25%              NaN        3       13       30     2014        4       14   \n",
       "50%              NaN      5.5     25.5       47     2015        7       27   \n",
       "75%              NaN        8       38       70     2016       10       40   \n",
       "max              NaN       10       50      231     2017       12       53   \n",
       "counts        913000   913000   913000   913000   913000   913000   913000   \n",
       "uniques         1826       10       50      213        5       12       53   \n",
       "missing            0        0        0        0        0        0        0   \n",
       "missing_perc      0%       0%       0%       0%       0%       0%       0%   \n",
       "types           date  numeric  numeric  numeric  numeric  numeric  numeric   \n",
       "\n",
       "                  Day Dayofweek Dayofyear       ...       Is_quarter_end  \\\n",
       "count          913000    913000    913000       ...                  NaN   \n",
       "mean          15.7278   3.00164     183.1       ...                  NaN   \n",
       "std           8.79933   1.99932   105.424       ...                  NaN   \n",
       "min                 1         0         1       ...                  NaN   \n",
       "25%                 8         1        92       ...                  NaN   \n",
       "50%                16         3       183       ...                  NaN   \n",
       "75%                23         5       274       ...                  NaN   \n",
       "max                31         6       366       ...                  NaN   \n",
       "counts         913000    913000    913000       ...               913000   \n",
       "uniques            31         7       366       ...                    2   \n",
       "missing             0         0         0       ...                    0   \n",
       "missing_perc       0%        0%        0%       ...                   0%   \n",
       "types         numeric   numeric   numeric       ...                 bool   \n",
       "\n",
       "             Is_quarter_start Is_year_end Is_year_start      Elapsed  \\\n",
       "count                     NaN         NaN           NaN       913000   \n",
       "mean                      NaN         NaN           NaN  1.43584e+09   \n",
       "std                       NaN         NaN           NaN  4.55433e+07   \n",
       "min                       NaN         NaN           NaN    1.357e+09   \n",
       "25%                       NaN         NaN           NaN   1.3964e+09   \n",
       "50%                       NaN         NaN           NaN  1.43584e+09   \n",
       "75%                       NaN         NaN           NaN  1.47528e+09   \n",
       "max                       NaN         NaN           NaN  1.51468e+09   \n",
       "counts                 913000      913000        913000       913000   \n",
       "uniques                     2           2             2         1826   \n",
       "missing                     0           0             0            0   \n",
       "missing_perc               0%          0%            0%           0%   \n",
       "types                    bool        bool          bool      numeric   \n",
       "\n",
       "             median-store_item-month mean-store_item-week  \\\n",
       "count                         913000               913000   \n",
       "mean                         51.7522              52.2503   \n",
       "std                          26.1032              26.1991   \n",
       "min                                9              8.37143   \n",
       "25%                               30              30.7714   \n",
       "50%                               48              48.1429   \n",
       "75%                               69              69.2571   \n",
       "max                              145              146.571   \n",
       "counts                        913000               913000   \n",
       "uniques                          233                 4347   \n",
       "missing                            0                    0   \n",
       "missing_perc                      0%                   0%   \n",
       "types                        numeric              numeric   \n",
       "\n",
       "             mean-store_item-dayofweek-month item-month-sum store-month-sum  \n",
       "count                                 913000         913000          913000  \n",
       "mean                                 52.2503        79623.8          398119  \n",
       "std                                  27.2669        36275.8          109357  \n",
       "min                                  7.14286          19429          191604  \n",
       "25%                                  30.4091          46668          314559  \n",
       "50%                                     47.5          76074          385566  \n",
       "75%                                  69.2727         105873          482597  \n",
       "max                                  177.455         174769          665974  \n",
       "counts                                913000         913000          913000  \n",
       "uniques                                 7791            600             120  \n",
       "missing                                    0              0               0  \n",
       "missing_perc                              0%             0%              0%  \n",
       "types                                numeric        numeric         numeric  \n",
       "\n",
       "[13 rows x 22 columns]"
      ]
     },
     "execution_count": 75,
     "metadata": {},
     "output_type": "execute_result"
    }
   ],
   "source": [
    "DataFrameSummary(train).summary()"
   ]
  },
  {
   "cell_type": "code",
   "execution_count": 76,
   "metadata": {},
   "outputs": [
    {
     "data": {
      "text/html": [
       "<div>\n",
       "<style scoped>\n",
       "    .dataframe tbody tr th:only-of-type {\n",
       "        vertical-align: middle;\n",
       "    }\n",
       "\n",
       "    .dataframe tbody tr th {\n",
       "        vertical-align: top;\n",
       "    }\n",
       "\n",
       "    .dataframe thead th {\n",
       "        text-align: right;\n",
       "    }\n",
       "</style>\n",
       "<table border=\"1\" class=\"dataframe\">\n",
       "  <thead>\n",
       "    <tr style=\"text-align: right;\">\n",
       "      <th></th>\n",
       "      <th>date</th>\n",
       "      <th>store</th>\n",
       "      <th>item</th>\n",
       "      <th>id</th>\n",
       "      <th>Year</th>\n",
       "      <th>Month</th>\n",
       "      <th>Week</th>\n",
       "      <th>Day</th>\n",
       "      <th>Dayofweek</th>\n",
       "      <th>Dayofyear</th>\n",
       "      <th>...</th>\n",
       "      <th>Is_quarter_end</th>\n",
       "      <th>Is_quarter_start</th>\n",
       "      <th>Is_year_end</th>\n",
       "      <th>Is_year_start</th>\n",
       "      <th>Elapsed</th>\n",
       "      <th>median-store_item-month</th>\n",
       "      <th>mean-store_item-week</th>\n",
       "      <th>mean-store_item-dayofweek-month</th>\n",
       "      <th>item-month-sum</th>\n",
       "      <th>store-month-sum</th>\n",
       "    </tr>\n",
       "  </thead>\n",
       "  <tbody>\n",
       "    <tr>\n",
       "      <th>count</th>\n",
       "      <td>NaN</td>\n",
       "      <td>45000</td>\n",
       "      <td>45000</td>\n",
       "      <td>45000</td>\n",
       "      <td>45000</td>\n",
       "      <td>45000</td>\n",
       "      <td>45000</td>\n",
       "      <td>45000</td>\n",
       "      <td>45000</td>\n",
       "      <td>45000</td>\n",
       "      <td>...</td>\n",
       "      <td>NaN</td>\n",
       "      <td>NaN</td>\n",
       "      <td>NaN</td>\n",
       "      <td>NaN</td>\n",
       "      <td>45000</td>\n",
       "      <td>45000</td>\n",
       "      <td>45000</td>\n",
       "      <td>45000</td>\n",
       "      <td>45000</td>\n",
       "      <td>45000</td>\n",
       "    </tr>\n",
       "    <tr>\n",
       "      <th>mean</th>\n",
       "      <td>NaN</td>\n",
       "      <td>5.5</td>\n",
       "      <td>25.5</td>\n",
       "      <td>22499.5</td>\n",
       "      <td>2018</td>\n",
       "      <td>2</td>\n",
       "      <td>6.93333</td>\n",
       "      <td>15.5333</td>\n",
       "      <td>2.96667</td>\n",
       "      <td>45.5</td>\n",
       "      <td>...</td>\n",
       "      <td>NaN</td>\n",
       "      <td>NaN</td>\n",
       "      <td>NaN</td>\n",
       "      <td>NaN</td>\n",
       "      <td>1.51861e+09</td>\n",
       "      <td>40.3488</td>\n",
       "      <td>40.8648</td>\n",
       "      <td>40.7061</td>\n",
       "      <td>61496</td>\n",
       "      <td>307480</td>\n",
       "    </tr>\n",
       "    <tr>\n",
       "      <th>std</th>\n",
       "      <td>NaN</td>\n",
       "      <td>2.87231</td>\n",
       "      <td>14.431</td>\n",
       "      <td>12990.5</td>\n",
       "      <td>0</td>\n",
       "      <td>0.830003</td>\n",
       "      <td>3.70829</td>\n",
       "      <td>8.71177</td>\n",
       "      <td>1.9858</td>\n",
       "      <td>25.9794</td>\n",
       "      <td>...</td>\n",
       "      <td>NaN</td>\n",
       "      <td>NaN</td>\n",
       "      <td>NaN</td>\n",
       "      <td>NaN</td>\n",
       "      <td>2.24462e+06</td>\n",
       "      <td>19.4677</td>\n",
       "      <td>19.5969</td>\n",
       "      <td>20.4013</td>\n",
       "      <td>26752.3</td>\n",
       "      <td>74690.5</td>\n",
       "    </tr>\n",
       "    <tr>\n",
       "      <th>min</th>\n",
       "      <td>NaN</td>\n",
       "      <td>1</td>\n",
       "      <td>1</td>\n",
       "      <td>0</td>\n",
       "      <td>2018</td>\n",
       "      <td>1</td>\n",
       "      <td>1</td>\n",
       "      <td>1</td>\n",
       "      <td>0</td>\n",
       "      <td>1</td>\n",
       "      <td>...</td>\n",
       "      <td>NaN</td>\n",
       "      <td>NaN</td>\n",
       "      <td>NaN</td>\n",
       "      <td>NaN</td>\n",
       "      <td>1.51476e+09</td>\n",
       "      <td>9</td>\n",
       "      <td>8.37143</td>\n",
       "      <td>7.14286</td>\n",
       "      <td>19429</td>\n",
       "      <td>191604</td>\n",
       "    </tr>\n",
       "    <tr>\n",
       "      <th>25%</th>\n",
       "      <td>NaN</td>\n",
       "      <td>3</td>\n",
       "      <td>13</td>\n",
       "      <td>11249.8</td>\n",
       "      <td>2018</td>\n",
       "      <td>1</td>\n",
       "      <td>4</td>\n",
       "      <td>8</td>\n",
       "      <td>1</td>\n",
       "      <td>23</td>\n",
       "      <td>...</td>\n",
       "      <td>NaN</td>\n",
       "      <td>NaN</td>\n",
       "      <td>NaN</td>\n",
       "      <td>NaN</td>\n",
       "      <td>1.51667e+09</td>\n",
       "      <td>24</td>\n",
       "      <td>24.3824</td>\n",
       "      <td>24</td>\n",
       "      <td>38686</td>\n",
       "      <td>250494</td>\n",
       "    </tr>\n",
       "    <tr>\n",
       "      <th>50%</th>\n",
       "      <td>NaN</td>\n",
       "      <td>5.5</td>\n",
       "      <td>25.5</td>\n",
       "      <td>22499.5</td>\n",
       "      <td>2018</td>\n",
       "      <td>2</td>\n",
       "      <td>7</td>\n",
       "      <td>15.5</td>\n",
       "      <td>3</td>\n",
       "      <td>45.5</td>\n",
       "      <td>...</td>\n",
       "      <td>NaN</td>\n",
       "      <td>NaN</td>\n",
       "      <td>NaN</td>\n",
       "      <td>NaN</td>\n",
       "      <td>1.51861e+09</td>\n",
       "      <td>38</td>\n",
       "      <td>38.4286</td>\n",
       "      <td>37.7273</td>\n",
       "      <td>61725</td>\n",
       "      <td>309114</td>\n",
       "    </tr>\n",
       "    <tr>\n",
       "      <th>75%</th>\n",
       "      <td>NaN</td>\n",
       "      <td>8</td>\n",
       "      <td>38</td>\n",
       "      <td>33749.2</td>\n",
       "      <td>2018</td>\n",
       "      <td>3</td>\n",
       "      <td>10</td>\n",
       "      <td>23</td>\n",
       "      <td>5</td>\n",
       "      <td>68</td>\n",
       "      <td>...</td>\n",
       "      <td>NaN</td>\n",
       "      <td>NaN</td>\n",
       "      <td>NaN</td>\n",
       "      <td>NaN</td>\n",
       "      <td>1.52055e+09</td>\n",
       "      <td>54</td>\n",
       "      <td>54.5143</td>\n",
       "      <td>53.8636</td>\n",
       "      <td>82257</td>\n",
       "      <td>352650</td>\n",
       "    </tr>\n",
       "    <tr>\n",
       "      <th>max</th>\n",
       "      <td>NaN</td>\n",
       "      <td>10</td>\n",
       "      <td>50</td>\n",
       "      <td>44999</td>\n",
       "      <td>2018</td>\n",
       "      <td>3</td>\n",
       "      <td>13</td>\n",
       "      <td>31</td>\n",
       "      <td>6</td>\n",
       "      <td>90</td>\n",
       "      <td>...</td>\n",
       "      <td>NaN</td>\n",
       "      <td>NaN</td>\n",
       "      <td>NaN</td>\n",
       "      <td>NaN</td>\n",
       "      <td>1.52245e+09</td>\n",
       "      <td>102</td>\n",
       "      <td>107.2</td>\n",
       "      <td>121.304</td>\n",
       "      <td>123894</td>\n",
       "      <td>470838</td>\n",
       "    </tr>\n",
       "    <tr>\n",
       "      <th>counts</th>\n",
       "      <td>45000</td>\n",
       "      <td>45000</td>\n",
       "      <td>45000</td>\n",
       "      <td>45000</td>\n",
       "      <td>45000</td>\n",
       "      <td>45000</td>\n",
       "      <td>45000</td>\n",
       "      <td>45000</td>\n",
       "      <td>45000</td>\n",
       "      <td>45000</td>\n",
       "      <td>...</td>\n",
       "      <td>45000</td>\n",
       "      <td>45000</td>\n",
       "      <td>45000</td>\n",
       "      <td>45000</td>\n",
       "      <td>45000</td>\n",
       "      <td>45000</td>\n",
       "      <td>45000</td>\n",
       "      <td>45000</td>\n",
       "      <td>45000</td>\n",
       "      <td>45000</td>\n",
       "    </tr>\n",
       "    <tr>\n",
       "      <th>uniques</th>\n",
       "      <td>90</td>\n",
       "      <td>10</td>\n",
       "      <td>50</td>\n",
       "      <td>45000</td>\n",
       "      <td>1</td>\n",
       "      <td>3</td>\n",
       "      <td>13</td>\n",
       "      <td>31</td>\n",
       "      <td>7</td>\n",
       "      <td>90</td>\n",
       "      <td>...</td>\n",
       "      <td>2</td>\n",
       "      <td>2</td>\n",
       "      <td>1</td>\n",
       "      <td>2</td>\n",
       "      <td>90</td>\n",
       "      <td>91</td>\n",
       "      <td>2773</td>\n",
       "      <td>4327</td>\n",
       "      <td>150</td>\n",
       "      <td>30</td>\n",
       "    </tr>\n",
       "    <tr>\n",
       "      <th>missing</th>\n",
       "      <td>0</td>\n",
       "      <td>0</td>\n",
       "      <td>0</td>\n",
       "      <td>0</td>\n",
       "      <td>0</td>\n",
       "      <td>0</td>\n",
       "      <td>0</td>\n",
       "      <td>0</td>\n",
       "      <td>0</td>\n",
       "      <td>0</td>\n",
       "      <td>...</td>\n",
       "      <td>0</td>\n",
       "      <td>0</td>\n",
       "      <td>0</td>\n",
       "      <td>0</td>\n",
       "      <td>0</td>\n",
       "      <td>0</td>\n",
       "      <td>0</td>\n",
       "      <td>0</td>\n",
       "      <td>0</td>\n",
       "      <td>0</td>\n",
       "    </tr>\n",
       "    <tr>\n",
       "      <th>missing_perc</th>\n",
       "      <td>0%</td>\n",
       "      <td>0%</td>\n",
       "      <td>0%</td>\n",
       "      <td>0%</td>\n",
       "      <td>0%</td>\n",
       "      <td>0%</td>\n",
       "      <td>0%</td>\n",
       "      <td>0%</td>\n",
       "      <td>0%</td>\n",
       "      <td>0%</td>\n",
       "      <td>...</td>\n",
       "      <td>0%</td>\n",
       "      <td>0%</td>\n",
       "      <td>0%</td>\n",
       "      <td>0%</td>\n",
       "      <td>0%</td>\n",
       "      <td>0%</td>\n",
       "      <td>0%</td>\n",
       "      <td>0%</td>\n",
       "      <td>0%</td>\n",
       "      <td>0%</td>\n",
       "    </tr>\n",
       "    <tr>\n",
       "      <th>types</th>\n",
       "      <td>date</td>\n",
       "      <td>numeric</td>\n",
       "      <td>numeric</td>\n",
       "      <td>numeric</td>\n",
       "      <td>constant</td>\n",
       "      <td>numeric</td>\n",
       "      <td>numeric</td>\n",
       "      <td>numeric</td>\n",
       "      <td>numeric</td>\n",
       "      <td>numeric</td>\n",
       "      <td>...</td>\n",
       "      <td>bool</td>\n",
       "      <td>bool</td>\n",
       "      <td>constant</td>\n",
       "      <td>bool</td>\n",
       "      <td>numeric</td>\n",
       "      <td>numeric</td>\n",
       "      <td>numeric</td>\n",
       "      <td>numeric</td>\n",
       "      <td>numeric</td>\n",
       "      <td>numeric</td>\n",
       "    </tr>\n",
       "  </tbody>\n",
       "</table>\n",
       "<p>13 rows × 22 columns</p>\n",
       "</div>"
      ],
      "text/plain": [
       "               date    store     item       id      Year     Month     Week  \\\n",
       "count           NaN    45000    45000    45000     45000     45000    45000   \n",
       "mean            NaN      5.5     25.5  22499.5      2018         2  6.93333   \n",
       "std             NaN  2.87231   14.431  12990.5         0  0.830003  3.70829   \n",
       "min             NaN        1        1        0      2018         1        1   \n",
       "25%             NaN        3       13  11249.8      2018         1        4   \n",
       "50%             NaN      5.5     25.5  22499.5      2018         2        7   \n",
       "75%             NaN        8       38  33749.2      2018         3       10   \n",
       "max             NaN       10       50    44999      2018         3       13   \n",
       "counts        45000    45000    45000    45000     45000     45000    45000   \n",
       "uniques          90       10       50    45000         1         3       13   \n",
       "missing           0        0        0        0         0         0        0   \n",
       "missing_perc     0%       0%       0%       0%        0%        0%       0%   \n",
       "types          date  numeric  numeric  numeric  constant   numeric  numeric   \n",
       "\n",
       "                  Day Dayofweek Dayofyear       ...       Is_quarter_end  \\\n",
       "count           45000     45000     45000       ...                  NaN   \n",
       "mean          15.5333   2.96667      45.5       ...                  NaN   \n",
       "std           8.71177    1.9858   25.9794       ...                  NaN   \n",
       "min                 1         0         1       ...                  NaN   \n",
       "25%                 8         1        23       ...                  NaN   \n",
       "50%              15.5         3      45.5       ...                  NaN   \n",
       "75%                23         5        68       ...                  NaN   \n",
       "max                31         6        90       ...                  NaN   \n",
       "counts          45000     45000     45000       ...                45000   \n",
       "uniques            31         7        90       ...                    2   \n",
       "missing             0         0         0       ...                    0   \n",
       "missing_perc       0%        0%        0%       ...                   0%   \n",
       "types         numeric   numeric   numeric       ...                 bool   \n",
       "\n",
       "             Is_quarter_start Is_year_end Is_year_start      Elapsed  \\\n",
       "count                     NaN         NaN           NaN        45000   \n",
       "mean                      NaN         NaN           NaN  1.51861e+09   \n",
       "std                       NaN         NaN           NaN  2.24462e+06   \n",
       "min                       NaN         NaN           NaN  1.51476e+09   \n",
       "25%                       NaN         NaN           NaN  1.51667e+09   \n",
       "50%                       NaN         NaN           NaN  1.51861e+09   \n",
       "75%                       NaN         NaN           NaN  1.52055e+09   \n",
       "max                       NaN         NaN           NaN  1.52245e+09   \n",
       "counts                  45000       45000         45000        45000   \n",
       "uniques                     2           1             2           90   \n",
       "missing                     0           0             0            0   \n",
       "missing_perc               0%          0%            0%           0%   \n",
       "types                    bool    constant          bool      numeric   \n",
       "\n",
       "             median-store_item-month mean-store_item-week  \\\n",
       "count                          45000                45000   \n",
       "mean                         40.3488              40.8648   \n",
       "std                          19.4677              19.5969   \n",
       "min                                9              8.37143   \n",
       "25%                               24              24.3824   \n",
       "50%                               38              38.4286   \n",
       "75%                               54              54.5143   \n",
       "max                              102                107.2   \n",
       "counts                         45000                45000   \n",
       "uniques                           91                 2773   \n",
       "missing                            0                    0   \n",
       "missing_perc                      0%                   0%   \n",
       "types                        numeric              numeric   \n",
       "\n",
       "             mean-store_item-dayofweek-month item-month-sum store-month-sum  \n",
       "count                                  45000          45000           45000  \n",
       "mean                                 40.7061          61496          307480  \n",
       "std                                  20.4013        26752.3         74690.5  \n",
       "min                                  7.14286          19429          191604  \n",
       "25%                                       24          38686          250494  \n",
       "50%                                  37.7273          61725          309114  \n",
       "75%                                  53.8636          82257          352650  \n",
       "max                                  121.304         123894          470838  \n",
       "counts                                 45000          45000           45000  \n",
       "uniques                                 4327            150              30  \n",
       "missing                                    0              0               0  \n",
       "missing_perc                              0%             0%              0%  \n",
       "types                                numeric        numeric         numeric  \n",
       "\n",
       "[13 rows x 22 columns]"
      ]
     },
     "execution_count": 76,
     "metadata": {},
     "output_type": "execute_result"
    }
   ],
   "source": [
    "DataFrameSummary(test).summary()"
   ]
  },
  {
   "cell_type": "code",
   "execution_count": 77,
   "metadata": {},
   "outputs": [
    {
     "name": "stdout",
     "output_type": "stream",
     "text": [
      "<class 'pandas.core.frame.DataFrame'>\n",
      "Int64Index: 913000 entries, 0 to 912999\n",
      "Data columns (total 22 columns):\n",
      "date                               913000 non-null datetime64[ns]\n",
      "store                              913000 non-null int64\n",
      "item                               913000 non-null int64\n",
      "sales                              913000 non-null float64\n",
      "Year                               913000 non-null int64\n",
      "Month                              913000 non-null int64\n",
      "Week                               913000 non-null int64\n",
      "Day                                913000 non-null int64\n",
      "Dayofweek                          913000 non-null int64\n",
      "Dayofyear                          913000 non-null int64\n",
      "Is_month_end                       913000 non-null bool\n",
      "Is_month_start                     913000 non-null bool\n",
      "Is_quarter_end                     913000 non-null bool\n",
      "Is_quarter_start                   913000 non-null bool\n",
      "Is_year_end                        913000 non-null bool\n",
      "Is_year_start                      913000 non-null bool\n",
      "Elapsed                            913000 non-null int64\n",
      "median-store_item-month            913000 non-null float64\n",
      "mean-store_item-week               913000 non-null float64\n",
      "mean-store_item-dayofweek-month    913000 non-null float64\n",
      "item-month-sum                     913000 non-null float64\n",
      "store-month-sum                    913000 non-null float64\n",
      "dtypes: bool(6), datetime64[ns](1), float64(6), int64(9)\n",
      "memory usage: 123.6 MB\n"
     ]
    }
   ],
   "source": [
    "train.info()"
   ]
  },
  {
   "cell_type": "code",
   "execution_count": 78,
   "metadata": {},
   "outputs": [
    {
     "name": "stdout",
     "output_type": "stream",
     "text": [
      "<class 'pandas.core.frame.DataFrame'>\n",
      "Int64Index: 45000 entries, 0 to 44999\n",
      "Data columns (total 22 columns):\n",
      "date                               45000 non-null datetime64[ns]\n",
      "store                              45000 non-null int64\n",
      "item                               45000 non-null int64\n",
      "id                                 45000 non-null float64\n",
      "Year                               45000 non-null int64\n",
      "Month                              45000 non-null int64\n",
      "Week                               45000 non-null int64\n",
      "Day                                45000 non-null int64\n",
      "Dayofweek                          45000 non-null int64\n",
      "Dayofyear                          45000 non-null int64\n",
      "Is_month_end                       45000 non-null bool\n",
      "Is_month_start                     45000 non-null bool\n",
      "Is_quarter_end                     45000 non-null bool\n",
      "Is_quarter_start                   45000 non-null bool\n",
      "Is_year_end                        45000 non-null bool\n",
      "Is_year_start                      45000 non-null bool\n",
      "Elapsed                            45000 non-null int64\n",
      "median-store_item-month            45000 non-null float64\n",
      "mean-store_item-week               45000 non-null float64\n",
      "mean-store_item-dayofweek-month    45000 non-null float64\n",
      "item-month-sum                     45000 non-null float64\n",
      "store-month-sum                    45000 non-null float64\n",
      "dtypes: bool(6), datetime64[ns](1), float64(6), int64(9)\n",
      "memory usage: 6.1 MB\n"
     ]
    }
   ],
   "source": [
    "test.info()"
   ]
  },
  {
   "cell_type": "code",
   "execution_count": 79,
   "metadata": {},
   "outputs": [
    {
     "data": {
      "text/plain": [
       "dtype('int32')"
      ]
     },
     "execution_count": 79,
     "metadata": {},
     "output_type": "execute_result"
    }
   ],
   "source": [
    "test.id = test.id.astype('int32')\n",
    "test.id.dtype"
   ]
  },
  {
   "cell_type": "markdown",
   "metadata": {},
   "source": [
    "## Remove outliers"
   ]
  },
  {
   "cell_type": "code",
   "execution_count": 80,
   "metadata": {},
   "outputs": [
    {
     "data": {
      "text/plain": [
       "(1, 1535, 85)"
      ]
     },
     "execution_count": 80,
     "metadata": {},
     "output_type": "execute_result"
    }
   ],
   "source": [
    "len(train[train.sales==0]),len(train[train.sales<7]),len(train[train.sales>186])"
   ]
  },
  {
   "cell_type": "code",
   "execution_count": 81,
   "metadata": {},
   "outputs": [
    {
     "data": {
      "text/plain": [
       "(6.0, 10.0, 135.0, 164.0)"
      ]
     },
     "execution_count": 81,
     "metadata": {},
     "output_type": "execute_result"
    }
   ],
   "source": [
    "train.sales.quantile(q=0.001),train.sales.quantile(q=0.01),train.sales.quantile(q=0.99),train.sales.quantile(q=0.999)"
   ]
  },
  {
   "cell_type": "code",
   "execution_count": 82,
   "metadata": {},
   "outputs": [],
   "source": [
    "# tr = train[(train.sales>train.sales.quantile(q=0.001)) & (train.sales<train.sales.quantile(q=0.99))]"
   ]
  },
  {
   "cell_type": "code",
   "execution_count": 83,
   "metadata": {},
   "outputs": [],
   "source": [
    "# tr.sales.min(),tr.sales.max(),tr.sales.median(), len(tr), len(train), (len(train)-len(tr))"
   ]
  },
  {
   "cell_type": "code",
   "execution_count": 84,
   "metadata": {},
   "outputs": [],
   "source": [
    "# exclude row with zero sales\n",
    "#train = train[train.sales!=0]\n",
    "train = train[(train.sales>train.sales.quantile(q=0.01)) & (train.sales<train.sales.quantile(q=0.99))]"
   ]
  },
  {
   "cell_type": "markdown",
   "metadata": {},
   "source": [
    "## Reset index and save"
   ]
  },
  {
   "cell_type": "code",
   "execution_count": 85,
   "metadata": {},
   "outputs": [],
   "source": [
    "train.reset_index(inplace=True)\n",
    "test.reset_index(inplace=True)"
   ]
  },
  {
   "cell_type": "code",
   "execution_count": 86,
   "metadata": {},
   "outputs": [],
   "source": [
    "os.makedirs('tmp', exist_ok=True)\n",
    "\n",
    "# train.to_feather(f'{PATH}train_raw_with_zero_sales')\n",
    "# test.to_feather(f'{PATH}test_raw_with_zero_sales')\n",
    "\n",
    "train.to_feather(f'{PATH}tmp/train_raw_no_zero_sales_v2')\n",
    "test.to_feather(f'{PATH}tmp/test_raw_no_zero_sales_v2')"
   ]
  },
  {
   "cell_type": "markdown",
   "metadata": {},
   "source": [
    "# Data Cleaning and Feature Engineering"
   ]
  },
  {
   "cell_type": "code",
   "execution_count": 87,
   "metadata": {},
   "outputs": [],
   "source": [
    "use_all_data = 1\n",
    "merge_val_to_train = 0"
   ]
  },
  {
   "cell_type": "code",
   "execution_count": 88,
   "metadata": {},
   "outputs": [],
   "source": [
    "cat_vars = ['store', 'item', 'Month', 'Week', 'Day','Dayofweek', 'Dayofyear']\n",
    "contin_vars = ['Year', 'Elapsed',\n",
    "               'median-store_item-month','mean-store_item-week','mean-store_item-dayofweek-month',\n",
    "               'item-month-sum','store-month-sum'] \n",
    "\n",
    "# Elapsed = Unix Timestamp ( 0 = 1 Jan 1970 12.00am and can be negative)\n",
    "# 'Is_month_end', 'Is_month_start', 'Is_quarter_end', 'Is_quarter_start','Is_year_end', 'Is_year_start'"
   ]
  },
  {
   "cell_type": "code",
   "execution_count": 89,
   "metadata": {},
   "outputs": [],
   "source": [
    "# train2 = pd.read_feather(f'{PATH}train_raw_with_zero_sales')\n",
    "# test2 = pd.read_feather(f'{PATH}test_raw_with_zero_sales')\n",
    "\n",
    "train2 = pd.read_feather(f'{PATH}tmp/train_raw_no_zero_sales_v2')\n",
    "test2 = pd.read_feather(f'{PATH}tmp/test_raw_no_zero_sales_v2')"
   ]
  },
  {
   "cell_type": "code",
   "execution_count": 91,
   "metadata": {},
   "outputs": [],
   "source": [
    "# Reorg train and test dataset\n",
    "\n",
    "dependent = 'sales'\n",
    "train2 = train2[cat_vars+contin_vars+[dependent, 'date']].copy()\n",
    "\n",
    "test2[dependent] = 0 # broadcast zero for 'Sales' dummy col\n",
    "test2 = test2[cat_vars+contin_vars+[dependent, 'date', 'id']].copy()"
   ]
  },
  {
   "cell_type": "code",
   "execution_count": 92,
   "metadata": {},
   "outputs": [
    {
     "data": {
      "text/plain": [
       "(892473, 45000)"
      ]
     },
     "execution_count": 92,
     "metadata": {},
     "output_type": "execute_result"
    }
   ],
   "source": [
    "n = len(train2)\n",
    "n # total training data"
   ]
  },
  {
   "cell_type": "code",
   "execution_count": 93,
   "metadata": {},
   "outputs": [],
   "source": [
    "for v in cat_vars: train2[v] = train2[v].astype('category').cat.as_ordered()\n",
    "apply_cats(test2, train2)\n",
    "\n",
    "for v in contin_vars:\n",
    "    train2[v] = train2[v].fillna(0).astype('float32')\n",
    "    test2[v] = test2[v].fillna(0).astype('float32')"
   ]
  },
  {
   "cell_type": "code",
   "execution_count": 96,
   "metadata": {},
   "outputs": [
    {
     "data": {
      "text/html": [
       "<div>\n",
       "<style scoped>\n",
       "    .dataframe tbody tr th:only-of-type {\n",
       "        vertical-align: middle;\n",
       "    }\n",
       "\n",
       "    .dataframe tbody tr th {\n",
       "        vertical-align: top;\n",
       "    }\n",
       "\n",
       "    .dataframe thead th {\n",
       "        text-align: right;\n",
       "    }\n",
       "</style>\n",
       "<table border=\"1\" class=\"dataframe\">\n",
       "  <thead>\n",
       "    <tr style=\"text-align: right;\">\n",
       "      <th></th>\n",
       "      <th>store</th>\n",
       "      <th>item</th>\n",
       "      <th>Month</th>\n",
       "      <th>Week</th>\n",
       "      <th>Day</th>\n",
       "      <th>Dayofweek</th>\n",
       "      <th>Dayofyear</th>\n",
       "      <th>Year</th>\n",
       "      <th>Elapsed</th>\n",
       "      <th>median-store_item-month</th>\n",
       "      <th>mean-store_item-week</th>\n",
       "      <th>mean-store_item-dayofweek-month</th>\n",
       "      <th>item-month-sum</th>\n",
       "      <th>store-month-sum</th>\n",
       "      <th>sales</th>\n",
       "      <th>date</th>\n",
       "    </tr>\n",
       "  </thead>\n",
       "  <tbody>\n",
       "    <tr>\n",
       "      <th>0</th>\n",
       "      <td>1</td>\n",
       "      <td>1</td>\n",
       "      <td>1</td>\n",
       "      <td>1</td>\n",
       "      <td>1</td>\n",
       "      <td>1</td>\n",
       "      <td>1</td>\n",
       "      <td>2013.0</td>\n",
       "      <td>1.356998e+09</td>\n",
       "      <td>13.0</td>\n",
       "      <td>13.970589</td>\n",
       "      <td>11.545455</td>\n",
       "      <td>22987.0</td>\n",
       "      <td>249352.0</td>\n",
       "      <td>13.0</td>\n",
       "      <td>2013-01-01</td>\n",
       "    </tr>\n",
       "  </tbody>\n",
       "</table>\n",
       "</div>"
      ],
      "text/plain": [
       "  store item Month Week Day Dayofweek Dayofyear    Year       Elapsed  \\\n",
       "0     1    1     1    1   1         1         1  2013.0  1.356998e+09   \n",
       "\n",
       "   median-store_item-month  mean-store_item-week  \\\n",
       "0                     13.0             13.970589   \n",
       "\n",
       "   mean-store_item-dayofweek-month  item-month-sum  store-month-sum  sales  \\\n",
       "0                        11.545455         22987.0         249352.0   13.0   \n",
       "\n",
       "        date  \n",
       "0 2013-01-01  "
      ]
     },
     "metadata": {},
     "output_type": "display_data"
    },
    {
     "data": {
      "text/html": [
       "<div>\n",
       "<style scoped>\n",
       "    .dataframe tbody tr th:only-of-type {\n",
       "        vertical-align: middle;\n",
       "    }\n",
       "\n",
       "    .dataframe tbody tr th {\n",
       "        vertical-align: top;\n",
       "    }\n",
       "\n",
       "    .dataframe thead th {\n",
       "        text-align: right;\n",
       "    }\n",
       "</style>\n",
       "<table border=\"1\" class=\"dataframe\">\n",
       "  <thead>\n",
       "    <tr style=\"text-align: right;\">\n",
       "      <th></th>\n",
       "      <th>store</th>\n",
       "      <th>item</th>\n",
       "      <th>Month</th>\n",
       "      <th>Week</th>\n",
       "      <th>Day</th>\n",
       "      <th>Dayofweek</th>\n",
       "      <th>Dayofyear</th>\n",
       "      <th>Year</th>\n",
       "      <th>Elapsed</th>\n",
       "      <th>median-store_item-month</th>\n",
       "      <th>mean-store_item-week</th>\n",
       "      <th>mean-store_item-dayofweek-month</th>\n",
       "      <th>item-month-sum</th>\n",
       "      <th>store-month-sum</th>\n",
       "      <th>sales</th>\n",
       "      <th>date</th>\n",
       "      <th>id</th>\n",
       "    </tr>\n",
       "  </thead>\n",
       "  <tbody>\n",
       "    <tr>\n",
       "      <th>0</th>\n",
       "      <td>1</td>\n",
       "      <td>1</td>\n",
       "      <td>1</td>\n",
       "      <td>1</td>\n",
       "      <td>1</td>\n",
       "      <td>0</td>\n",
       "      <td>1</td>\n",
       "      <td>2018.0</td>\n",
       "      <td>1.514765e+09</td>\n",
       "      <td>13.0</td>\n",
       "      <td>13.970589</td>\n",
       "      <td>11.190476</td>\n",
       "      <td>22987.0</td>\n",
       "      <td>249352.0</td>\n",
       "      <td>0</td>\n",
       "      <td>2018-01-01</td>\n",
       "      <td>0</td>\n",
       "    </tr>\n",
       "  </tbody>\n",
       "</table>\n",
       "</div>"
      ],
      "text/plain": [
       "  store item Month Week Day Dayofweek Dayofyear    Year       Elapsed  \\\n",
       "0     1    1     1    1   1         0         1  2018.0  1.514765e+09   \n",
       "\n",
       "   median-store_item-month  mean-store_item-week  \\\n",
       "0                     13.0             13.970589   \n",
       "\n",
       "   mean-store_item-dayofweek-month  item-month-sum  store-month-sum  sales  \\\n",
       "0                        11.190476         22987.0         249352.0      0   \n",
       "\n",
       "        date  id  \n",
       "0 2018-01-01   0  "
      ]
     },
     "metadata": {},
     "output_type": "display_data"
    }
   ],
   "source": [
    "display(train2.head(1))\n",
    "display(test2.head(1))"
   ]
  },
  {
   "cell_type": "code",
   "execution_count": 97,
   "metadata": {},
   "outputs": [],
   "source": [
    "if use_all_data == 0:\n",
    "    # Get a sample m from all training data\n",
    "    m = 200000\n",
    "    idxs = get_cv_idxs(n, val_pct=m/n) # get random sample by index, nothing to do with validation\n",
    "    train3 = train2.iloc[idxs].set_index(\"date\")\n",
    "    sample_size = len(train3)\n",
    "    sample_size\n",
    "elif use_all_data == 1:\n",
    "    # Set sample size equal to total data to use all data\n",
    "    sample_size = n\n",
    "    train3 = train2.set_index(\"date\")\n",
    "else:\n",
    "    pass\n",
    "    #raise Exception()"
   ]
  },
  {
   "cell_type": "code",
   "execution_count": 98,
   "metadata": {},
   "outputs": [
    {
     "data": {
      "text/plain": [
       "(892473, 892473, 45000)"
      ]
     },
     "execution_count": 98,
     "metadata": {},
     "output_type": "execute_result"
    }
   ],
   "source": [
    "len(train3), len(train2), len(test2)"
   ]
  },
  {
   "cell_type": "code",
   "execution_count": 99,
   "metadata": {},
   "outputs": [],
   "source": [
    "df_train, y_train, nas, mapper = proc_df(train3, 'sales', do_scale=True)"
   ]
  },
  {
   "cell_type": "code",
   "execution_count": 100,
   "metadata": {},
   "outputs": [],
   "source": [
    "test3 = test2.set_index(\"date\")"
   ]
  },
  {
   "cell_type": "code",
   "execution_count": 101,
   "metadata": {},
   "outputs": [],
   "source": [
    "df_test, _, nas, mapper = proc_df(test3, 'sales', do_scale=True, skip_flds=['id'],\n",
    "                                  mapper=mapper, na_dict=nas)"
   ]
  },
  {
   "cell_type": "code",
   "execution_count": 102,
   "metadata": {},
   "outputs": [],
   "source": [
    "if merge_val_to_train == 0:\n",
    "    val_idx = np.flatnonzero(\n",
    "        (df_train.index<=datetime.datetime(2017,3,31)) & (df_train.index>=datetime.datetime(2017,1,1)))\n",
    "elif merge_val_to_train == 1:\n",
    "    val_idx = [0]\n",
    "else:\n",
    "    pass"
   ]
  },
  {
   "cell_type": "code",
   "execution_count": 103,
   "metadata": {},
   "outputs": [
    {
     "data": {
      "text/plain": [
       "(44284, 45000, 45000)"
      ]
     },
     "execution_count": 103,
     "metadata": {},
     "output_type": "execute_result"
    }
   ],
   "source": [
    "len(df_train), len(val_idx), len(df_test)"
   ]
  },
  {
   "cell_type": "markdown",
   "metadata": {},
   "source": [
    "# Deep Learning"
   ]
  },
  {
   "cell_type": "markdown",
   "metadata": {},
   "source": [
    "## Get Data"
   ]
  },
  {
   "cell_type": "code",
   "execution_count": 104,
   "metadata": {},
   "outputs": [],
   "source": [
    "def get_data():\n",
    "    return ColumnarModelData.from_data_frame(PATH, val_idx, \n",
    "                                             df_train, y_train.astype(np.float32), \n",
    "                                             cat_flds=cat_vars, bs=128,\n",
    "                                             test_df=df_test)"
   ]
  },
  {
   "cell_type": "code",
   "execution_count": 105,
   "metadata": {},
   "outputs": [],
   "source": [
    "md = get_data()"
   ]
  },
  {
   "cell_type": "markdown",
   "metadata": {},
   "source": [
    "## Get Embedding Size"
   ]
  },
  {
   "cell_type": "code",
   "execution_count": 106,
   "metadata": {},
   "outputs": [],
   "source": [
    "cat_sz = [(c, len(train3[c].cat.categories)+1) for c in cat_vars]\n",
    "cat_sz"
   ]
  },
  {
   "cell_type": "code",
   "execution_count": 108,
   "metadata": {},
   "outputs": [],
   "source": [
    "emb_szs = [(c, min(50, (c+1)//2)) for _,c in cat_sz]\n",
    "emb_szs"
   ]
  },
  {
   "cell_type": "markdown",
   "metadata": {},
   "source": [
    "## Create Architecture"
   ]
  },
  {
   "cell_type": "code",
   "execution_count": 110,
   "metadata": {},
   "outputs": [],
   "source": [
    "m = md.get_learner(emb_szs, len(df_train.columns)-len(cat_vars),\n",
    "                   0.04, 1, [1000,500], [0.001,0.01], y_range=None)"
   ]
  },
  {
   "cell_type": "markdown",
   "metadata": {},
   "source": [
    "## Get Learning Rate"
   ]
  },
  {
   "cell_type": "code",
   "execution_count": 111,
   "metadata": {},
   "outputs": [
    {
     "data": {
      "application/vnd.jupyter.widget-view+json": {
       "model_id": "1f323f69c3874425bc811c99453c82a1",
       "version_major": 2,
       "version_minor": 0
      },
      "text/plain": [
       "HBox(children=(IntProgress(value=0, description='Epoch', max=1), HTML(value='')))"
      ]
     },
     "metadata": {},
     "output_type": "display_data"
    },
    {
     "name": "stdout",
     "output_type": "stream",
     "text": [
      " 65%|███████████████████████████████████████████▎                       | 4278/6627 [00:40<00:22, 106.12it/s, loss=154]"
     ]
    }
   ],
   "source": [
    "m.lr_find()"
   ]
  },
  {
   "cell_type": "code",
   "execution_count": 112,
   "metadata": {},
   "outputs": [
    {
     "data": {
      "image/png": "[encoded data removed]",
      "text/plain": [
       "<Figure size 432x288 with 1 Axes>"
      ]
     },
     "metadata": {},
     "output_type": "display_data"
    }
   ],
   "source": [
    "m.sched.plot()"
   ]
  },
  {
   "cell_type": "code",
   "execution_count": 113,
   "metadata": {},
   "outputs": [],
   "source": [
    "lr = 1e-4"
   ]
  },
  {
   "cell_type": "markdown",
   "metadata": {},
   "source": [
    "## Fit on Sample Data"
   ]
  },
  {
   "cell_type": "code",
   "execution_count": 114,
   "metadata": {},
   "outputs": [
    {
     "data": {
      "application/vnd.jupyter.widget-view+json": {
       "model_id": "748eef2d950c4aacaf5efc9343e74976",
       "version_major": 2,
       "version_minor": 0
      },
      "text/plain": [
       "HBox(children=(IntProgress(value=0, description='Epoch', max=3), HTML(value='')))"
      ]
     },
     "metadata": {},
     "output_type": "display_data"
    },
    {
     "name": "stdout",
     "output_type": "stream",
     "text": [
      "epoch      trn_loss   val_loss   smape      rmse                                                                       \n",
      "    0      49.917467  44.608686  12.782563  6.544238  \n",
      "    1      49.786099  46.910046  13.245454  6.715399                                                                   \n",
      "    2      48.994551  43.417881  12.411528  6.441641                                                                   \n"
     ]
    },
    {
     "data": {
      "text/plain": [
       "[array([43.41788]), 12.411528281538416, 6.441640865732325]"
      ]
     },
     "execution_count": 114,
     "metadata": {},
     "output_type": "execute_result"
    }
   ],
   "source": [
    "m.fit(lr, 3, metrics=[smape, rmse])"
   ]
  },
  {
   "cell_type": "code",
   "execution_count": 115,
   "metadata": {},
   "outputs": [
    {
     "data": {
      "application/vnd.jupyter.widget-view+json": {
       "model_id": "72be7252aff54aa8b831df92c3f07d4b",
       "version_major": 2,
       "version_minor": 0
      },
      "text/plain": [
       "HBox(children=(IntProgress(value=0, description='Epoch', max=5), HTML(value='')))"
      ]
     },
     "metadata": {},
     "output_type": "display_data"
    },
    {
     "name": "stdout",
     "output_type": "stream",
     "text": [
      "epoch      trn_loss   val_loss   smape      rmse                                                                       \n",
      "    0      48.800212  43.46953   12.502517  6.448118  \n",
      "    1      47.458861  43.396728  12.459473  6.439961                                                                   \n",
      "    2      47.171085  43.442705  12.458578  6.442836                                                                   \n",
      "    3      48.18632   43.520123  12.488721  6.449593                                                                   \n",
      "    4      48.385984  43.610055  12.514295  6.456316                                                                   \n"
     ]
    },
    {
     "data": {
      "text/plain": [
       "[array([43.61006]), 12.514295039531413, 6.456316279676727]"
      ]
     },
     "execution_count": 115,
     "metadata": {},
     "output_type": "execute_result"
    }
   ],
   "source": [
    "m.fit(lr, 5, metrics=[smape, rmse], cycle_len=1)"
   ]
  },
  {
   "cell_type": "code",
   "execution_count": 116,
   "metadata": {},
   "outputs": [
    {
     "data": {
      "application/vnd.jupyter.widget-view+json": {
       "model_id": "5e7d4edaeb93479b8b7fd02b3dc24fcc",
       "version_major": 2,
       "version_minor": 0
      },
      "text/plain": [
       "HBox(children=(IntProgress(value=0, description='Epoch', max=6), HTML(value='')))"
      ]
     },
     "metadata": {},
     "output_type": "display_data"
    },
    {
     "name": "stdout",
     "output_type": "stream",
     "text": [
      "epoch      trn_loss   val_loss   smape      rmse                                                                       \n",
      "    0      49.364644  43.646198  12.47901   6.457057  \n",
      "    1      47.703377  43.354953  12.443804  6.436327                                                                   \n",
      "    2      47.600979  43.647861  12.489683  6.456676                                                                   \n",
      "    3      47.496768  43.952143  12.502331  6.476033                                                                   \n",
      "    4      47.582885  44.718871  12.681972  6.538532                                                                   \n",
      "    5      47.94648   43.709168  12.488996  6.460296                                                                   \n"
     ]
    },
    {
     "data": {
      "text/plain": [
       "[array([43.70917]), 12.488995760095097, 6.46029580943394]"
      ]
     },
     "execution_count": 116,
     "metadata": {},
     "output_type": "execute_result"
    }
   ],
   "source": [
    "m.fit(lr, 2, metrics=[smape, rmse], cycle_len=3)"
   ]
  },
  {
   "cell_type": "code",
   "execution_count": 117,
   "metadata": {},
   "outputs": [],
   "source": [
    "#m.fit(lr, 3, metrics=[smape, rmse], cycle_len=1, cycle_mult=2)"
   ]
  },
  {
   "cell_type": "code",
   "execution_count": 118,
   "metadata": {},
   "outputs": [],
   "source": [
    "m.save('md_sample_trained_v5_no_val')"
   ]
  },
  {
   "cell_type": "code",
   "execution_count": 119,
   "metadata": {},
   "outputs": [],
   "source": [
    "m.load('md_sample_trained_v5_no_val')"
   ]
  },
  {
   "cell_type": "markdown",
   "metadata": {},
   "source": [
    "## Fit on All Data (with/without validation)"
   ]
  },
  {
   "cell_type": "code",
   "execution_count": 120,
   "metadata": {},
   "outputs": [],
   "source": [
    "md_all_3mth_val = get_data()"
   ]
  },
  {
   "cell_type": "code",
   "execution_count": 121,
   "metadata": {},
   "outputs": [],
   "source": [
    "m.set_data(md_all_3mth_val)"
   ]
  },
  {
   "cell_type": "code",
   "execution_count": 122,
   "metadata": {},
   "outputs": [
    {
     "data": {
      "application/vnd.jupyter.widget-view+json": {
       "model_id": "0fbf6c025a9e40f6a475d9bd4cc39358",
       "version_major": 2,
       "version_minor": 0
      },
      "text/plain": [
       "HBox(children=(IntProgress(value=0, description='Epoch', max=7), HTML(value='')))"
      ]
     },
     "metadata": {},
     "output_type": "display_data"
    },
    {
     "name": "stdout",
     "output_type": "stream",
     "text": [
      "epoch      trn_loss   val_loss   smape      rmse                                                                       \n",
      "    0      48.904332  46.164712  13.017869  6.647607  \n",
      "    1      47.510098  44.031017  12.552728  6.483502                                                                   \n",
      "    2      48.262468  44.263355  12.668696  6.50952                                                                    \n",
      "    3      48.448163  43.776882  12.476606  6.464917                                                                   \n",
      "    4      47.902131  47.465191  13.081117  6.732649                                                                   \n",
      "    5      47.06303   43.847519  12.459706  6.467104                                                                   \n",
      "    6      48.506478  43.519469  12.416801  6.44673                                                                    \n"
     ]
    },
    {
     "data": {
      "text/plain": [
       "[array([43.51947]), 12.416800836809992, 6.4467301933038055]"
      ]
     },
     "execution_count": 122,
     "metadata": {},
     "output_type": "execute_result"
    }
   ],
   "source": [
    "m.fit(lr, 3, metrics=[smape, rmse], cycle_mult=2)"
   ]
  },
  {
   "cell_type": "code",
   "execution_count": 123,
   "metadata": {},
   "outputs": [
    {
     "data": {
      "application/vnd.jupyter.widget-view+json": {
       "model_id": "6a833402dd5041e8931b17d904540696",
       "version_major": 2,
       "version_minor": 0
      },
      "text/plain": [
       "HBox(children=(IntProgress(value=0, description='Epoch', max=3), HTML(value='')))"
      ]
     },
     "metadata": {},
     "output_type": "display_data"
    },
    {
     "name": "stdout",
     "output_type": "stream",
     "text": [
      "epoch      trn_loss   val_loss   smape      rmse                                                                       \n",
      "    0      47.307053  43.413857  12.407009  6.445204  \n",
      "    1      49.111779  44.001999  12.477632  6.47863                                                                    \n",
      "    2      47.897128  43.462459  12.397334  6.44285                                                                    \n"
     ]
    },
    {
     "data": {
      "text/plain": [
       "[array([43.46246]), 12.397333660699436, 6.442850385327619]"
      ]
     },
     "execution_count": 123,
     "metadata": {},
     "output_type": "execute_result"
    }
   ],
   "source": [
    "m.fit(lr, 3, metrics=[smape, rmse])"
   ]
  },
  {
   "cell_type": "code",
   "execution_count": null,
   "metadata": {},
   "outputs": [],
   "source": [
    "m.save('md_all_3mth_val_trained_v5_no_val')"
   ]
  },
  {
   "cell_type": "code",
   "execution_count": null,
   "metadata": {},
   "outputs": [],
   "source": [
    "m.load('md_all_3mth_val_trained_v5_no_val')"
   ]
  },
  {
   "cell_type": "markdown",
   "metadata": {},
   "source": [
    "# Predict on test data"
   ]
  },
  {
   "cell_type": "code",
   "execution_count": null,
   "metadata": {},
   "outputs": [],
   "source": [
    "pred_test = m.predict(True)"
   ]
  },
  {
   "cell_type": "code",
   "execution_count": null,
   "metadata": {},
   "outputs": [],
   "source": [
    "test_raw['sales'] = pred_test"
   ]
  },
  {
   "cell_type": "code",
   "execution_count": null,
   "metadata": {},
   "outputs": [],
   "source": [
    "csv_fn=f'{PATH}tmp/ANN_v5a.csv'"
   ]
  },
  {
   "cell_type": "code",
   "execution_count": null,
   "metadata": {},
   "outputs": [],
   "source": [
    "test[['id','sales']].to_csv(csv_fn, index=False)"
   ]
  },
  {
   "cell_type": "markdown",
   "metadata": {},
   "source": [
    "# Variations of Data Engineering"
   ]
  },
  {
   "cell_type": "markdown",
   "metadata": {
    "heading_collapsed": true
   },
   "source": [
    "## Version 1 (Using 'Year' as continuous variable, removed 'Elapsed')"
   ]
  },
  {
   "cell_type": "raw",
   "metadata": {
    "hidden": true
   },
   "source": [
    "- lr = 3e-4\n",
    "- cat_vars = ['store', 'item', 'Month', 'Week', 'Day','Dayofweek', 'Dayofyear']\n",
    "- contin_vars = ['Year']\n",
    "- 200,000 sample, then full data with 2 months as validation\n",
    "\n",
    "Sample\n",
    "epoch      trn_loss   val_loss   smape      rmse                                                                       \n",
    "    0      67.229439  56.98025   14.784727  7.540044  \n",
    "    1      62.550226  49.120328  13.69981   7.000307                                                                   \n",
    "    2      60.951366  46.194498  13.275509  6.787601 \n",
    "    \n",
    "epoch      trn_loss   val_loss   smape      rmse                                                                       \n",
    "    0      57.53622   46.689523  13.381637  6.824401  \n",
    "    1      56.454038  46.096327  13.306613  6.780591                                                                   \n",
    "    2      57.407762  46.07425   13.288407  6.778722                                                                   \n",
    "    3      57.308635  46.238925  13.334494  6.791201                                                                   \n",
    "    4      56.197855  46.857823  13.422821  6.836513  \n",
    "    \n",
    "epoch      trn_loss   val_loss   smape      rmse                                                                       \n",
    "    0      58.072366  49.325639  13.684166  7.01509   \n",
    "    1      57.09147   46.157076  13.308137  6.784514                                                                   \n",
    "    2      54.243643  46.91151   13.394555  6.840287                                                                   \n",
    "    3      54.842126  46.607488  13.377399  6.817889                                                                   \n",
    "    4      56.904505  49.955257  13.693943  7.059816                                                                   \n",
    "    5      54.723685  47.89583   13.512489  6.911717                                                                   \n",
    "    6      55.240703  46.891768  13.405679  6.838851                                                                   \n",
    "    7      52.89749   46.696623  13.385203  6.824682    \n",
    "    \n",
    "All\n",
    "epoch      trn_loss   val_loss   smape      rmse                                                                       \n",
    "    0      56.632833  47.505602  13.452764  6.732215  \n",
    "    1      54.777428  49.090793  13.668107  6.831906                                                                   \n",
    "    2      54.454943  47.584162  13.54906   6.746982\n",
    "    \n",
    "epoch      trn_loss   val_loss   smape      rmse                                                                       \n",
    "    0      53.599329  48.221338  13.620007  6.781455  \n",
    "    1      54.602614  49.565631  13.684969  6.863176                                                                   \n",
    "    2      53.17853   48.665303  13.607777  6.805671     "
   ]
  },
  {
   "cell_type": "raw",
   "metadata": {
    "hidden": true
   },
   "source": [
    "- 200000 sample, then full data. Both without validation\n",
    "\n",
    "FULL SAMPLE\n",
    "epoch      trn_loss   val_loss   smape      rmse                                                                       \n",
    "    0      67.226694  9.642811   18.760071  3.105288  \n",
    "    1      61.984205  13.62572   21.9125    3.691303                                                                   \n",
    "    2      59.50212   2.058616   9.128662   1.434788   \n",
    "\n",
    "epoch      trn_loss   val_loss   smape      rmse                                                                       \n",
    "    0      59.038505  2.645462   10.285604  1.626488  \n",
    "    1      57.776065  5.708579   14.753428  2.389263                                                                   \n",
    "    2      57.276353  3.875511   12.316021  1.968632                                                                   \n",
    "    3      56.80017   4.102269   12.648745  2.025406                                                                   \n",
    "    4      55.658362  4.297068   12.926394  2.072937 \n",
    " \n",
    "epoch      trn_loss   val_loss   smape      rmse                                                                       \n",
    "    0      59.181086  1.062226   6.642746   1.030643  \n",
    "    1      55.393255  3.714719   12.07341   1.927361                                                                   \n",
    "    2      56.531146  5.576627   14.594436  2.361488                                                                   \n",
    "    3      55.409476  4.033103   12.54838   2.008259                                                                   \n",
    "    4      56.418702  5.539943   14.549853  2.353708                                                                   \n",
    "    5      55.629441  6.966576   16.173244  2.639427                                                                   \n",
    "    6      55.465383  5.388489   14.363971  2.321312                                                                   \n",
    "    7      52.578834  6.007028   15.105419  2.450924        \n",
    "\n",
    "    \n",
    "FULL ALL\n",
    "epoch      trn_loss   val_loss   smape      rmse                                                                       \n",
    "    0      55.107064  9.107539   26.262753  3.01787   \n",
    "    1      55.100275  8.756807   25.686514  2.95919                                                                    \n",
    "    2      56.099405  9.935395   27.591497  3.152046   \n",
    "    \n",
    "epoch      trn_loss   val_loss   smape      rmse                                                                       \n",
    "    0      54.166042  5.696932   20.216042  2.386825  \n",
    "    1      53.798681  9.67555    27.178944  3.110555                                                                   \n",
    "    2      54.171071  9.987793   27.674212  3.160347\n",
    "\n",
    "    \n",
    "KAGGLE SCORE: 14.15551 (PUBLIC)"
   ]
  },
  {
   "cell_type": "markdown",
   "metadata": {
    "heading_collapsed": true
   },
   "source": [
    "## Version 2 (Using 'Elapsed' as continuous variable, 'Year' as categorical)"
   ]
  },
  {
   "cell_type": "raw",
   "metadata": {
    "hidden": true
   },
   "source": [
    "- lr = 3e-4\n",
    "- cat_vars = ['store', 'item', 'Year', 'Month', 'Week', 'Day','Dayofweek', 'Dayofyear']\n",
    "- contin_vars = ['Elapsed'] \n",
    "- 200000 sample, then full data with 2 months as validation\n",
    "\n",
    "Sample\n",
    "epoch      trn_loss   val_loss   smape      rmse                                                                       \n",
    "    0      64.695786  49.548196  13.754997  7.030174  \n",
    "    1      62.80054   50.460138  13.625147  7.095592                                                                   \n",
    "    2      61.544155  46.775959  13.402724  6.8313     \n",
    "\n",
    "epoch      trn_loss   val_loss   smape      rmse                                                                       \n",
    "    0      59.383063  46.50231   13.332739  6.811977  \n",
    "    1      56.420043  46.372553  13.319377  6.802296                                                                   \n",
    "    2      56.67704   46.452721  13.334541  6.808238                                                                   \n",
    "    3      55.906044  46.28618   13.334883  6.795739                                                                   \n",
    "    4      57.282269  47.100555  13.456188  6.855513 \n",
    "  \n",
    "epoch      trn_loss   val_loss   smape      rmse                                                                       \n",
    "    0      57.473112  46.639563  13.400299  6.82112   \n",
    "    1      57.292216  50.125949  13.697948  7.07182                                                                    \n",
    "    2      56.21177   47.128835  13.432553  6.857345                                                                   \n",
    "    3      54.842316  46.875517  13.423521  6.8388                                                                     \n",
    "    4      55.285312  47.192277  13.424182  6.861348                                                                   \n",
    "    5      54.746742  47.80413   13.532646  6.906469                                                                   \n",
    "    6      53.535683  46.926237  13.429708  6.842317                                                                   \n",
    "    7      53.289487  47.404254  13.494919  6.877302                                                                   \n",
    "\n",
    "All\n",
    "epoch      trn_loss   val_loss   smape      rmse                                                                       \n",
    "    0      55.81306   47.026534  13.357312  6.696208  \n",
    "    1      55.055634  48.937868  13.672912  6.832806                                                                   \n",
    "    2      55.338555  49.045251  13.506786  6.812673   \n",
    "    \n",
    "epoch      trn_loss   val_loss   smape      rmse                                                                       \n",
    "    0      54.74143   46.982532  13.364016  6.695584  \n",
    "    1      55.13812   47.191436  13.392557  6.709293                                                                   \n",
    "    2      54.009995  46.43918   13.36782   6.663434 "
   ]
  },
  {
   "cell_type": "raw",
   "metadata": {
    "hidden": true
   },
   "source": [
    "- 200000 sample, then full data. Both without validation\n",
    "\n",
    "FULL SAMPLE\n",
    "epoch      trn_loss   val_loss   smape      rmse                                                                       \n",
    "    0      64.286743  7.786777   17.02006   2.79048   \n",
    "    1      59.816039  1.915194   8.819204   1.383905                                                                   \n",
    "    2      59.661596  1.550915   7.971473   1.245358   \n",
    "    \n",
    "epoch      trn_loss   val_loss   smape      rmse                                                                       \n",
    "    0      58.76797   1.481412   7.79785    1.217133  \n",
    "    1      58.191591  2.177951   9.377291   1.475788                                                                   \n",
    "    2      58.607204  2.741376   10.460736  1.65571                                                                    \n",
    "    3      56.044953  3.073679   11.042613  1.753191                                                                   \n",
    "    4      55.986701  3.231454   11.30666   1.797625 \n",
    "    \n",
    "epoch      trn_loss   val_loss   smape      rmse                                                                       \n",
    "    0      55.067492  6.117265   15.23288   2.47331   \n",
    "    1      54.930538  4.189885   12.774524  2.046921                                                                   \n",
    "    2      54.292985  1.434167   7.67731    1.197567                                                                   \n",
    "    3      53.536259  2.19298    9.40807    1.480871                                                                   \n",
    "    4      56.231182  3.208933   11.269414  1.791349                                                                   \n",
    "    5      54.944305  1.203845   7.056575   1.097198                                                                   \n",
    "    6      53.75232   1.689175   8.304766   1.299683                                                                   \n",
    "    7      52.360709  1.458569   7.739831   1.207712       \n",
    "    \n",
    "FULL ALL\n",
    "epoch      trn_loss   val_loss   smape      rmse                                                                       \n",
    "    0      55.970664  7.38027    23.335707  2.716665  \n",
    "    1      56.049877  3.647874   15.856671  1.909941                                                                   \n",
    "    2      53.524416  4.533147   17.838631  2.129119  \n",
    "    \n",
    "epoch      trn_loss   val_loss   smape      rmse                                                                       \n",
    "    0      53.09611   5.27652    19.382139  2.297068  \n",
    "    1      53.444876  4.622387   18.029112  2.149974                                                                   \n",
    "    2      53.494227  7.20145    23.01853   2.683552 \n",
    "    \n",
    "KAGGLE SCORE: 18.02563 ??"
   ]
  },
  {
   "cell_type": "markdown",
   "metadata": {
    "heading_collapsed": true
   },
   "source": [
    "## Version 3 (Using 'Year' and 'Elapsed' as continuous variable)"
   ]
  },
  {
   "cell_type": "raw",
   "metadata": {
    "hidden": true
   },
   "source": [
    "- lr = 3e-4\n",
    "- cat_vars = ['store', 'item', 'Month', 'Week', 'Day','Dayofweek', 'Dayofyear']\n",
    "- contin_vars = ['Elapsed', 'Year'] \n",
    "- 200000 sample, then full data with 2 months as validation\n",
    "\n",
    "Sample\n",
    "epoch      trn_loss   val_loss   smape      rmse                                                                       \n",
    "    0      67.703145  51.727609  13.972338  7.183373  \n",
    "    1      61.319969  46.75682   13.350529  6.829372                                                                   \n",
    "    2      60.221945  46.709159  13.435191  6.826349 \n",
    "    \n",
    "epoch      trn_loss   val_loss   smape      rmse                                                                       \n",
    "    0      57.785871  46.183099  13.351803  6.787656  \n",
    "    1      57.706258  46.369153  13.36976   6.801273                                                                   \n",
    "    2      56.420103  46.398415  13.382423  6.802779                                                                   \n",
    "    3      56.861633  46.528526  13.395238  6.81239                                                                    \n",
    "    4      55.960248  46.636365  13.400374  6.820301   \n",
    "  \n",
    "epoch      trn_loss   val_loss   smape      rmse                                                                       \n",
    "    0      57.904529  47.617071  13.533353  6.892407  \n",
    "    1      56.070068  47.197308  13.515368  6.860859                                                                   \n",
    "    2      54.150258  46.873714  13.470309  6.83722                                                                    \n",
    "    3      54.402841  47.095221  13.477276  6.853496                                                                   \n",
    "    4      55.295993  46.936995  13.522     6.841844                                                                   \n",
    "    5      54.211802  48.767262  13.55866   6.973449                                                                   \n",
    "    6      53.812386  47.121991  13.446988  6.854854                                                                   \n",
    "    7      53.135117  47.179762  13.484785  6.859134  \n",
    " \n",
    "All\n",
    "epoch      trn_loss   val_loss   smape      rmse                                                                       \n",
    "    0      56.45778   47.300013  13.485232  6.725529  \n",
    "    1      54.980859  48.12625   13.446304  6.76557                                                                    \n",
    "    2      55.320116  46.728999  13.338278  6.679828         \n",
    "    \n",
    "epoch      trn_loss   val_loss   smape      rmse                                                                       \n",
    "    0      55.035153  48.551403  13.648818  6.806748  \n",
    "    1      53.321489  48.160676  13.525645  6.772811                                                                   \n",
    "    2      54.353087  46.822664  13.410246  6.691704        "
   ]
  },
  {
   "cell_type": "raw",
   "metadata": {
    "hidden": true
   },
   "source": [
    "- 200000 sample, then full data. Both without validation\n",
    "\n",
    "FULL SAMPLE\n",
    "epoch      trn_loss   val_loss   smape      rmse                                                                       \n",
    "    0      66.735611  3.627705   11.93966   1.904654  \n",
    "    1      60.111593  0.459879   4.625515   0.678143                                                                   \n",
    "    2      60.558466  0.52856    4.73213    0.727021      \n",
    "\n",
    "epoch      trn_loss   val_loss   smape      rmse                                                                       \n",
    "    0      58.245724  0.685936   5.373083   0.828213  \n",
    "    1      56.878737  0.514758   4.671391   0.717466                                                                   \n",
    "    2      55.217455  0.904706   6.146202   0.95116                                                                    \n",
    "    3      56.619162  0.717477   5.491873   0.84704                                                                    \n",
    "    4      57.069598  0.778213   5.713097   0.882164   \n",
    "\n",
    "epoch      trn_loss   val_loss   smape      rmse                                                                       \n",
    "    0      56.038079  0.341301   3.820334   0.584209  \n",
    "    1      55.201964  0.154654   2.587817   0.393261                                                                   \n",
    "    2      54.950509  1.388501   7.55875    1.178347                                                                   \n",
    "    3      54.509983  0.749362   5.609191   0.865657                                                                   \n",
    "    4      56.633989  0.624189   5.131892   0.790056                                                                   \n",
    "    5      54.87274   0.562414   4.877686   0.749943                                                                   \n",
    "    6      55.045556  0.84357    5.941181   0.918461                                                                   \n",
    "    7      53.314921  0.517374   4.682966   0.719287\n",
    "    \n",
    "FULL ALL\n",
    "epoch      trn_loss   val_loss   smape      rmse                                                                       \n",
    "    0      55.115527  6.41149    21.579189  2.532092  \n",
    "    1      53.091431  9.224439   26.452986  3.037176                                                                   \n",
    "    2      53.503577  8.22252    24.791897  2.867494   \n",
    "    \n",
    "epoch      trn_loss   val_loss   smape      rmse                                                                       \n",
    "    0      53.378535  10.617835  28.656883  3.258502  \n",
    "    1      53.305781  4.998852   18.816643  2.235811                                                                   \n",
    "    2      52.946706  4.663404   18.116154  2.159491   \n",
    "    \n",
    "KAGGLE SCORE: 14.10082 (Public)"
   ]
  },
  {
   "cell_type": "markdown",
   "metadata": {
    "heading_collapsed": true
   },
   "source": [
    "## Version 4 - Based on Version 3 but with more features"
   ]
  },
  {
   "cell_type": "raw",
   "metadata": {
    "hidden": true
   },
   "source": [
    "- 200000 sample, then full data with 2 months as validation\n",
    "\n",
    "Sample\n",
    "epoch      trn_loss   val_loss   smape      rmse                                                                       \n",
    "    0      62.059204  52.563488  15.086903  7.243313  \n",
    "    1      55.484985  45.776353  13.66838   6.757888                                                                   \n",
    "    2      53.858188  44.800248  13.454683  6.686207                                                                   \n",
    "\n",
    "\n",
    "epoch      trn_loss   val_loss   smape      rmse                                                                       \n",
    "    0      52.97579   43.400662  13.075902  6.580787  \n",
    "    1      51.768164  43.282079  13.046444  6.571799                                                                   \n",
    "    2      52.463993  43.149363  13.012414  6.561537                                                                   \n",
    "    3      51.517371  43.054626  13.000793  6.554513                                                                   \n",
    "    4      52.106751  43.00919   12.97166   6.551295                                                                   \n",
    "\n",
    "\n",
    "epoch      trn_loss   val_loss   smape      rmse                                                                       \n",
    "    0      51.882582  43.149548  12.96317   6.561723  \n",
    "    1      50.309666  42.821135  12.821316  6.536374                                                                   \n",
    "    2      50.675887  42.866408  12.905433  6.540392                                                                   \n",
    "    3      49.954499  42.739559  12.888915  6.530682                                                                   \n",
    "    4      51.076102  42.901174  12.85591   6.542619                                                                   \n",
    "    5      50.103952  43.098196  12.963781  6.558077                                                                   \n",
    "    6      50.857763  42.66521   12.846884  6.524818                                                                   \n",
    "    7      49.954754  42.66938   12.857751  6.52519  \n",
    "    \n",
    "All\n",
    "epoch      trn_loss   val_loss   smape      rmse                                                                       \n",
    "    0      51.548759  43.345407  12.887121  6.436015  \n",
    "    1      51.286665  43.509646  12.940431  6.448881                                                                   \n",
    "    2      50.063673  44.088795  13.138351  6.504255                                                                   \n",
    "\n",
    "epoch      trn_loss   val_loss   smape      rmse                                                                       \n",
    "    0      49.512631  43.582446  12.916199  6.451458  \n",
    "    1      49.029464  43.410785  12.898389  6.441339                                                                   \n",
    "    2      51.249119  43.755339  12.99239   6.467131         "
   ]
  },
  {
   "cell_type": "markdown",
   "metadata": {},
   "source": [
    "# Visualizations"
   ]
  },
  {
   "cell_type": "markdown",
   "metadata": {},
   "source": [
    "## Prediction on validation data"
   ]
  },
  {
   "cell_type": "code",
   "execution_count": null,
   "metadata": {},
   "outputs": [],
   "source": [
    "m.load('md_sample_trained_v4_no_val')"
   ]
  },
  {
   "cell_type": "code",
   "execution_count": null,
   "metadata": {},
   "outputs": [],
   "source": [
    "test_val = pd.DataFrame(train2.iloc[val_idx][['date','store']])"
   ]
  },
  {
   "cell_type": "code",
   "execution_count": null,
   "metadata": {},
   "outputs": [],
   "source": [
    "len(test_val)"
   ]
  },
  {
   "cell_type": "code",
   "execution_count": null,
   "metadata": {},
   "outputs": [],
   "source": [
    "pred_val = m.predict(False)  # predict on validation data"
   ]
  },
  {
   "cell_type": "code",
   "execution_count": null,
   "metadata": {},
   "outputs": [],
   "source": [
    "len(test_val), len(pred_val)"
   ]
  },
  {
   "cell_type": "code",
   "execution_count": null,
   "metadata": {},
   "outputs": [],
   "source": [
    "# stick the prediction to copy of test data, and then offset by 12 months \n",
    "# because that's how our validation data is defined (2017-01-01 to 2017-03-31)\n",
    "test_val['sales'] = pred_val\n",
    "# test_val['date'] = test_val['date'] - pd.DateOffset(months=12)"
   ]
  },
  {
   "cell_type": "code",
   "execution_count": null,
   "metadata": {},
   "outputs": [],
   "source": [
    "# test_val.drop('id',axis=1, inplace=True)"
   ]
  },
  {
   "cell_type": "code",
   "execution_count": null,
   "metadata": {
    "scrolled": true
   },
   "outputs": [],
   "source": [
    "plt.figure(figsize=(30,120)) #(width,height)\n",
    "plt.title(\"Store'sale pattern\")\n",
    "plt.grid()\n",
    "for store in range(1): #set range to 10 to show all 10 stores\n",
    "    plt.subplot(10,1,store+1) \n",
    "    performance_of_store = pd.pivot_table(train[(train.store==(store+1)) & (train.date.dt.year>2015)],\n",
    "                                          index=['date'],\n",
    "                                          columns=['store',],\n",
    "                                          values='sales',\n",
    "                                          aggfunc=np.sum)\n",
    "    plt.plot(performance_of_store,color='b',label=\"Store-\"+str(store+1)+\" Actual Total sales\")\n",
    "    \n",
    "    performance_of_store = pd.pivot_table(test_val[test_val.store==(store+1)],\n",
    "                                          index=['date'],\n",
    "                                          columns=['store',],\n",
    "                                          values='sales',\n",
    "                                          aggfunc=np.sum)\n",
    "    plt.plot(performance_of_store,color='r',label=\"Store-\"+str(store+1)+\" Predicted total sales\")\n",
    "    plt.legend(loc='upper left', shadow=True, prop={'size': 24})\n",
    "plt.show()"
   ]
  },
  {
   "cell_type": "code",
   "execution_count": null,
   "metadata": {},
   "outputs": [],
   "source": [
    "plt.figure(figsize=(30,150)) #(width,height)\n",
    "plt.title(\"Store'sale pattern\")\n",
    "plt.grid()\n",
    "for store in range(1): #set range to 10 to show all 10 stores\n",
    "    plt.subplot(10,1,store+1) \n",
    "    performance_of_store = pd.pivot_table(train[(train.store==(store+1)) \n",
    "                                                & (((train.date.dt.year==2017) & (train.date.dt.month<5))\n",
    "                                                | ((train.date.dt.year==2016) & (train.date.dt.month>11)))],\n",
    "                                          index=['date'],\n",
    "                                          columns=['store',],\n",
    "                                          values='sales',\n",
    "                                          aggfunc=np.sum)\n",
    "    plt.plot(performance_of_store,color='b',label=\"Store-\"+str(store+1)+\" Actual Total sales\")\n",
    "    \n",
    "    performance_of_store = pd.pivot_table(test_val[test_val.store==(store+1)],\n",
    "                                          index=['date'],\n",
    "                                          columns=['store',],\n",
    "                                          values='sales',\n",
    "                                          aggfunc=np.sum)\n",
    "    plt.plot(performance_of_store,color='r',label=\"Store-\"+str(store+1)+\" Predicted total sales\")\n",
    "    plt.grid()\n",
    "    plt.legend(loc='upper left', shadow=True, prop={'size': 24})\n",
    "plt.show()"
   ]
  },
  {
   "cell_type": "markdown",
   "metadata": {
    "heading_collapsed": true
   },
   "source": [
    "## Prediction on test data"
   ]
  },
  {
   "cell_type": "code",
   "execution_count": null,
   "metadata": {
    "hidden": true
   },
   "outputs": [],
   "source": [
    "m.load('md_all_3mth_val_trained_v3_no_val')"
   ]
  },
  {
   "cell_type": "code",
   "execution_count": null,
   "metadata": {
    "hidden": true
   },
   "outputs": [],
   "source": [
    "pred_test = m.predict(True) # predict on test data# "
   ]
  },
  {
   "cell_type": "code",
   "execution_count": null,
   "metadata": {
    "hidden": true
   },
   "outputs": [],
   "source": [
    "test_pred = test.copy()"
   ]
  },
  {
   "cell_type": "code",
   "execution_count": null,
   "metadata": {
    "hidden": true
   },
   "outputs": [],
   "source": [
    "test_pred['sales'] = pred_test"
   ]
  },
  {
   "cell_type": "code",
   "execution_count": null,
   "metadata": {
    "hidden": true
   },
   "outputs": [],
   "source": [
    "test_pred.drop('id',axis=1,inplace=True)"
   ]
  },
  {
   "cell_type": "code",
   "execution_count": null,
   "metadata": {
    "hidden": true
   },
   "outputs": [],
   "source": [
    "plt.figure(figsize=(30,120)) #(width,height)\n",
    "plt.title(\"Store'sale pattern\")\n",
    "plt.grid()\n",
    "for store in range(10):\n",
    "    plt.subplot(10,1,store+1) \n",
    "    performance_of_store = pd.pivot_table(train[train.store==(store+1)],index=['date'],\n",
    "                                          columns=['store',],values='sales',aggfunc=np.sum)\n",
    "    plt.plot(performance_of_store,color='b',label=\"Store-\"+str(store+1)+\" Actual Total sales\")\n",
    "    \n",
    "    performance_of_store = pd.pivot_table(test_pred[test_pred.store==(store+1)],index=['date'],\n",
    "                                          columns=['store',],values='sales',aggfunc=np.sum)\n",
    "    plt.plot(performance_of_store,color='r',label=\"Store-\"+str(store+1)+\" Predicted total sales\")\n",
    "    plt.legend(loc='upper left', shadow=True, prop={'size': 24})\n",
    "plt.show()"
   ]
  },
  {
   "cell_type": "code",
   "execution_count": null,
   "metadata": {
    "hidden": true
   },
   "outputs": [],
   "source": []
  }
 ],
 "metadata": {
  "kernelspec": {
   "display_name": "Python (fastai)",
   "language": "python",
   "name": "fastai"
  },
  "language_info": {
   "codemirror_mode": {
    "name": "ipython",
    "version": 3
   },
   "file_extension": ".py",
   "mimetype": "text/x-python",
   "name": "python",
   "nbconvert_exporter": "python",
   "pygments_lexer": "ipython3",
   "version": "3.6.5"
  },
  "toc": {
   "base_numbering": 1,
   "nav_menu": {},
   "number_sections": true,
   "sideBar": true,
   "skip_h1_title": false,
   "title_cell": "Table of Contents",
   "title_sidebar": "Contents",
   "toc_cell": false,
   "toc_position": {},
   "toc_section_display": true,
   "toc_window_display": false
  }
 },
 "nbformat": 4,
 "nbformat_minor": 2
}
