{
 "cells": [
  {
   "cell_type": "markdown",
   "metadata": {},
   "source": [
    "# Imports"
   ]
  },
  {
   "cell_type": "code",
   "execution_count": 1,
   "metadata": {},
   "outputs": [],
   "source": [
    "%load_ext autoreload\n",
    "%autoreload 2\n",
    "\n",
    "%matplotlib inline"
   ]
  },
  {
   "cell_type": "code",
   "execution_count": 2,
   "metadata": {},
   "outputs": [],
   "source": [
    "import pandas as pd\n",
    "import numpy as np\n",
    "import matplotlib.pyplot as plt\n",
    "import re"
   ]
  },
  {
   "cell_type": "code",
   "execution_count": 3,
   "metadata": {},
   "outputs": [],
   "source": [
    "import xgboost as xgb\n",
    "from sklearn.metrics import mean_absolute_error,mean_squared_error"
   ]
  },
  {
   "cell_type": "code",
   "execution_count": 4,
   "metadata": {},
   "outputs": [],
   "source": [
    "PATH = \"data/demand-forecasting/\""
   ]
  },
  {
   "cell_type": "markdown",
   "metadata": {},
   "source": [
    "# Helper Functions"
   ]
  },
  {
   "cell_type": "code",
   "execution_count": 5,
   "metadata": {},
   "outputs": [],
   "source": [
    "# custom evaluation metric\n",
    "def SMAPE(y_pred, dtrain):\n",
    "    y_true = dtrain.get_label()\n",
    "    denominator = (np.abs(y_true) + np.abs(y_pred)) / 200.0\n",
    "    diff = np.abs(y_true - y_pred) / denominator\n",
    "    diff[denominator == 0] = 0.0\n",
    "    return 'SMAPE', np.nanmean(diff)"
   ]
  },
  {
   "cell_type": "code",
   "execution_count": 6,
   "metadata": {},
   "outputs": [],
   "source": [
    "def smape2(y_pred, y_true):\n",
    "    denominator = (np.abs(y_true) + np.abs(y_pred)) / 200.0\n",
    "    diff = np.abs(y_true - y_pred) / denominator\n",
    "    diff[denominator == 0] = 0.0\n",
    "    return np.nanmean(diff)"
   ]
  },
  {
   "cell_type": "code",
   "execution_count": 7,
   "metadata": {},
   "outputs": [],
   "source": [
    "def print_scores(pred,label):\n",
    "    rmse = np.sqrt(mean_squared_error(pred,label))\n",
    "    mae = mean_absolute_error(pred,label)\n",
    "    smape_score = smape2(pred,label)\n",
    "    \n",
    "    print('RMSE\\t\\t ' + str(rmse))\n",
    "#   print('MAE\\t' + str(mae))\n",
    "    print('SMAPE\\t\\t' + str(smape_score))"
   ]
  },
  {
   "cell_type": "code",
   "execution_count": 8,
   "metadata": {},
   "outputs": [],
   "source": [
    "def plot_learning_curve(results,trn,val,metric):\n",
    "    train_errors = results[trn][metric]\n",
    "    validation_errors = results[val][metric]\n",
    "    df = pd.DataFrame([train_errors, validation_errors]).T\n",
    "    df.columns = ['Training', 'Validation']\n",
    "    df.index.name = 'Boosting Round'\n",
    "    ax = df.plot(title=\"XGBoost learning curves\",figsize=(12,5))\n",
    "    ax.set_ylabel(metric)"
   ]
  },
  {
   "cell_type": "code",
   "execution_count": 9,
   "metadata": {},
   "outputs": [],
   "source": [
    "def add_datepart(df, fldname, drop=True, time=False):\n",
    "    fld = df[fldname]\n",
    "    fld_dtype = fld.dtype\n",
    "    if isinstance(fld_dtype, pd.core.dtypes.dtypes.DatetimeTZDtype):\n",
    "        fld_dtype = np.datetime64\n",
    "\n",
    "    if not np.issubdtype(fld_dtype, np.datetime64):\n",
    "        df[fldname] = fld = pd.to_datetime(fld, infer_datetime_format=True)\n",
    "    targ_pre = re.sub('[Dd]ate$', '', fldname)\n",
    "    attr = ['Year', 'Month', 'Week', 'Day', 'Dayofweek', 'Dayofyear',\n",
    "            'Is_month_end', 'Is_month_start', 'Is_quarter_end', 'Is_quarter_start', 'Is_year_end', 'Is_year_start']\n",
    "    if time: attr = attr + ['Hour', 'Minute', 'Second']\n",
    "    for n in attr: df[targ_pre + n] = getattr(fld.dt, n.lower())\n",
    "    df[targ_pre + 'Elapsed'] = fld.astype(np.int64) // 10 ** 9\n",
    "    if drop: df.drop(fldname, axis=1, inplace=True)"
   ]
  },
  {
   "cell_type": "markdown",
   "metadata": {},
   "source": [
    "# Pre-Process Data"
   ]
  },
  {
   "cell_type": "code",
   "execution_count": 10,
   "metadata": {},
   "outputs": [],
   "source": [
    "train = pd.read_csv(f'{PATH}train.csv', parse_dates=['date'])\n",
    "test = pd.read_csv(f'{PATH}test.csv', parse_dates=['date'], index_col='id')"
   ]
  },
  {
   "cell_type": "code",
   "execution_count": 11,
   "metadata": {},
   "outputs": [],
   "source": [
    "joined = pd.concat([train,test], sort=False)"
   ]
  },
  {
   "cell_type": "code",
   "execution_count": 12,
   "metadata": {},
   "outputs": [],
   "source": [
    "add_datepart(joined, 'date')"
   ]
  },
  {
   "cell_type": "code",
   "execution_count": 14,
   "metadata": {},
   "outputs": [],
   "source": [
    "joined[\"median-store_item-month\"] = joined.groupby(['Month',\"item\",\"store\"])[\"sales\"].transform(\"median\") # median sales for particular item-store month combo\n",
    "joined[\"mean-store_item-week\"] = joined.groupby(['Week',\"item\",\"store\"])[\"sales\"].transform(\"mean\") # mean sales for particular item-store week combo\n",
    "\n",
    "joined[\"item-month-sum\"] = joined.groupby(['Month',\"item\"])[\"sales\"].transform(\"sum\") # total sales of that item  for all stores\n",
    "joined[\"store-month-sum\"] = joined.groupby(['Month',\"store\"])[\"sales\"].transform(\"sum\") # total sales of that store  for all items"
   ]
  },
  {
   "cell_type": "code",
   "execution_count": 15,
   "metadata": {},
   "outputs": [],
   "source": [
    "train = joined[~joined['sales'].isna()]\n",
    "test = joined[joined['sales'].isna()]\n",
    "\n",
    "sales = train.pop('sales')\n",
    "test = test.drop('sales', axis=1)"
   ]
  },
  {
   "cell_type": "code",
   "execution_count": 16,
   "metadata": {},
   "outputs": [
    {
     "data": {
      "text/html": [
       "<div>\n",
       "<style scoped>\n",
       "    .dataframe tbody tr th:only-of-type {\n",
       "        vertical-align: middle;\n",
       "    }\n",
       "\n",
       "    .dataframe tbody tr th {\n",
       "        vertical-align: top;\n",
       "    }\n",
       "\n",
       "    .dataframe thead th {\n",
       "        text-align: right;\n",
       "    }\n",
       "</style>\n",
       "<table border=\"1\" class=\"dataframe\">\n",
       "  <thead>\n",
       "    <tr style=\"text-align: right;\">\n",
       "      <th></th>\n",
       "      <th>store</th>\n",
       "      <th>item</th>\n",
       "      <th>Year</th>\n",
       "      <th>Month</th>\n",
       "      <th>Week</th>\n",
       "      <th>Day</th>\n",
       "      <th>Dayofweek</th>\n",
       "      <th>Dayofyear</th>\n",
       "      <th>Is_month_end</th>\n",
       "      <th>Is_month_start</th>\n",
       "      <th>Is_quarter_end</th>\n",
       "      <th>Is_quarter_start</th>\n",
       "      <th>Is_year_end</th>\n",
       "      <th>Is_year_start</th>\n",
       "      <th>Elapsed</th>\n",
       "      <th>median-store_item-month</th>\n",
       "      <th>mean-store_item-week</th>\n",
       "      <th>item-month-sum</th>\n",
       "      <th>store-month-sum</th>\n",
       "    </tr>\n",
       "  </thead>\n",
       "  <tbody>\n",
       "    <tr>\n",
       "      <th>0</th>\n",
       "      <td>1</td>\n",
       "      <td>1</td>\n",
       "      <td>2013</td>\n",
       "      <td>1</td>\n",
       "      <td>1</td>\n",
       "      <td>1</td>\n",
       "      <td>1</td>\n",
       "      <td>1</td>\n",
       "      <td>False</td>\n",
       "      <td>True</td>\n",
       "      <td>False</td>\n",
       "      <td>True</td>\n",
       "      <td>False</td>\n",
       "      <td>True</td>\n",
       "      <td>1356998400</td>\n",
       "      <td>13.0</td>\n",
       "      <td>13.970588</td>\n",
       "      <td>22987.0</td>\n",
       "      <td>249352.0</td>\n",
       "    </tr>\n",
       "    <tr>\n",
       "      <th>1</th>\n",
       "      <td>1</td>\n",
       "      <td>1</td>\n",
       "      <td>2013</td>\n",
       "      <td>1</td>\n",
       "      <td>1</td>\n",
       "      <td>2</td>\n",
       "      <td>2</td>\n",
       "      <td>2</td>\n",
       "      <td>False</td>\n",
       "      <td>False</td>\n",
       "      <td>False</td>\n",
       "      <td>False</td>\n",
       "      <td>False</td>\n",
       "      <td>False</td>\n",
       "      <td>1357084800</td>\n",
       "      <td>13.0</td>\n",
       "      <td>13.970588</td>\n",
       "      <td>22987.0</td>\n",
       "      <td>249352.0</td>\n",
       "    </tr>\n",
       "  </tbody>\n",
       "</table>\n",
       "</div>"
      ],
      "text/plain": [
       "   store  item  Year  Month  Week  Day  Dayofweek  Dayofyear  Is_month_end  \\\n",
       "0      1     1  2013      1     1    1          1          1         False   \n",
       "1      1     1  2013      1     1    2          2          2         False   \n",
       "\n",
       "   Is_month_start  Is_quarter_end  Is_quarter_start  Is_year_end  \\\n",
       "0            True           False              True        False   \n",
       "1           False           False             False        False   \n",
       "\n",
       "   Is_year_start     Elapsed  median-store_item-month  mean-store_item-week  \\\n",
       "0           True  1356998400                     13.0             13.970588   \n",
       "1          False  1357084800                     13.0             13.970588   \n",
       "\n",
       "   item-month-sum  store-month-sum  \n",
       "0         22987.0         249352.0  \n",
       "1         22987.0         249352.0  "
      ]
     },
     "metadata": {},
     "output_type": "display_data"
    },
    {
     "data": {
      "text/html": [
       "<div>\n",
       "<style scoped>\n",
       "    .dataframe tbody tr th:only-of-type {\n",
       "        vertical-align: middle;\n",
       "    }\n",
       "\n",
       "    .dataframe tbody tr th {\n",
       "        vertical-align: top;\n",
       "    }\n",
       "\n",
       "    .dataframe thead th {\n",
       "        text-align: right;\n",
       "    }\n",
       "</style>\n",
       "<table border=\"1\" class=\"dataframe\">\n",
       "  <thead>\n",
       "    <tr style=\"text-align: right;\">\n",
       "      <th></th>\n",
       "      <th>sales</th>\n",
       "    </tr>\n",
       "  </thead>\n",
       "  <tbody>\n",
       "    <tr>\n",
       "      <th>0</th>\n",
       "      <td>13.0</td>\n",
       "    </tr>\n",
       "    <tr>\n",
       "      <th>1</th>\n",
       "      <td>11.0</td>\n",
       "    </tr>\n",
       "  </tbody>\n",
       "</table>\n",
       "</div>"
      ],
      "text/plain": [
       "   sales\n",
       "0   13.0\n",
       "1   11.0"
      ]
     },
     "metadata": {},
     "output_type": "display_data"
    },
    {
     "data": {
      "text/html": [
       "<div>\n",
       "<style scoped>\n",
       "    .dataframe tbody tr th:only-of-type {\n",
       "        vertical-align: middle;\n",
       "    }\n",
       "\n",
       "    .dataframe tbody tr th {\n",
       "        vertical-align: top;\n",
       "    }\n",
       "\n",
       "    .dataframe thead th {\n",
       "        text-align: right;\n",
       "    }\n",
       "</style>\n",
       "<table border=\"1\" class=\"dataframe\">\n",
       "  <thead>\n",
       "    <tr style=\"text-align: right;\">\n",
       "      <th></th>\n",
       "      <th>store</th>\n",
       "      <th>item</th>\n",
       "      <th>Year</th>\n",
       "      <th>Month</th>\n",
       "      <th>Week</th>\n",
       "      <th>Day</th>\n",
       "      <th>Dayofweek</th>\n",
       "      <th>Dayofyear</th>\n",
       "      <th>Is_month_end</th>\n",
       "      <th>Is_month_start</th>\n",
       "      <th>Is_quarter_end</th>\n",
       "      <th>Is_quarter_start</th>\n",
       "      <th>Is_year_end</th>\n",
       "      <th>Is_year_start</th>\n",
       "      <th>Elapsed</th>\n",
       "      <th>median-store_item-month</th>\n",
       "      <th>mean-store_item-week</th>\n",
       "      <th>item-month-sum</th>\n",
       "      <th>store-month-sum</th>\n",
       "    </tr>\n",
       "  </thead>\n",
       "  <tbody>\n",
       "    <tr>\n",
       "      <th>0</th>\n",
       "      <td>1</td>\n",
       "      <td>1</td>\n",
       "      <td>2018</td>\n",
       "      <td>1</td>\n",
       "      <td>1</td>\n",
       "      <td>1</td>\n",
       "      <td>0</td>\n",
       "      <td>1</td>\n",
       "      <td>False</td>\n",
       "      <td>True</td>\n",
       "      <td>False</td>\n",
       "      <td>True</td>\n",
       "      <td>False</td>\n",
       "      <td>True</td>\n",
       "      <td>1514764800</td>\n",
       "      <td>13.0</td>\n",
       "      <td>13.970588</td>\n",
       "      <td>22987.0</td>\n",
       "      <td>249352.0</td>\n",
       "    </tr>\n",
       "    <tr>\n",
       "      <th>1</th>\n",
       "      <td>1</td>\n",
       "      <td>1</td>\n",
       "      <td>2018</td>\n",
       "      <td>1</td>\n",
       "      <td>1</td>\n",
       "      <td>2</td>\n",
       "      <td>1</td>\n",
       "      <td>2</td>\n",
       "      <td>False</td>\n",
       "      <td>False</td>\n",
       "      <td>False</td>\n",
       "      <td>False</td>\n",
       "      <td>False</td>\n",
       "      <td>False</td>\n",
       "      <td>1514851200</td>\n",
       "      <td>13.0</td>\n",
       "      <td>13.970588</td>\n",
       "      <td>22987.0</td>\n",
       "      <td>249352.0</td>\n",
       "    </tr>\n",
       "  </tbody>\n",
       "</table>\n",
       "</div>"
      ],
      "text/plain": [
       "   store  item  Year  Month  Week  Day  Dayofweek  Dayofyear  Is_month_end  \\\n",
       "0      1     1  2018      1     1    1          0          1         False   \n",
       "1      1     1  2018      1     1    2          1          2         False   \n",
       "\n",
       "   Is_month_start  Is_quarter_end  Is_quarter_start  Is_year_end  \\\n",
       "0            True           False              True        False   \n",
       "1           False           False             False        False   \n",
       "\n",
       "   Is_year_start     Elapsed  median-store_item-month  mean-store_item-week  \\\n",
       "0           True  1514764800                     13.0             13.970588   \n",
       "1          False  1514851200                     13.0             13.970588   \n",
       "\n",
       "   item-month-sum  store-month-sum  \n",
       "0         22987.0         249352.0  \n",
       "1         22987.0         249352.0  "
      ]
     },
     "metadata": {},
     "output_type": "display_data"
    }
   ],
   "source": [
    "display(train.head(2))\n",
    "display(pd.DataFrame(sales).head(2))\n",
    "display(test.head(2))"
   ]
  },
  {
   "cell_type": "markdown",
   "metadata": {},
   "source": [
    "# Split Training-Validation Data"
   ]
  },
  {
   "cell_type": "code",
   "execution_count": 17,
   "metadata": {},
   "outputs": [
    {
     "data": {
      "text/plain": [
       "((913000, 19), (913000,), (45000, 19))"
      ]
     },
     "execution_count": 17,
     "metadata": {},
     "output_type": "execute_result"
    }
   ],
   "source": [
    "train.shape, sales.shape, test.shape"
   ]
  },
  {
   "cell_type": "code",
   "execution_count": 18,
   "metadata": {},
   "outputs": [],
   "source": [
    "# closest same period (diff year) as test set\n",
    "X_val = train.loc[(train.Year==2017) & ((train.Month==10) | (train.Month==11) | (train.Month==12))].copy() \n",
    "y_val = sales[X_val.index].copy()\n",
    "\n",
    "X_train = train.drop(X_val.index).copy()\n",
    "y_train = sales.drop(X_val.index).copy()"
   ]
  },
  {
   "cell_type": "code",
   "execution_count": 19,
   "metadata": {
    "scrolled": true
   },
   "outputs": [
    {
     "data": {
      "text/plain": [
       "((867000, 19), (867000,), (46000, 19), (46000,))"
      ]
     },
     "execution_count": 19,
     "metadata": {},
     "output_type": "execute_result"
    }
   ],
   "source": [
    "X_train.shape, y_train.shape, X_val.shape, y_val.shape"
   ]
  },
  {
   "cell_type": "code",
   "execution_count": 20,
   "metadata": {},
   "outputs": [
    {
     "name": "stdout",
     "output_type": "stream",
     "text": [
      "\n"
     ]
    }
   ],
   "source": [
    "X_train.reset_index(drop=True, inplace=True)\n",
    "y_train.reset_index(drop=True, inplace=True)\n",
    "X_val.reset_index(drop=True, inplace=True)\n",
    "y_val.reset_index(drop=True, inplace=True)\n",
    "print()"
   ]
  },
  {
   "cell_type": "markdown",
   "metadata": {},
   "source": [
    "# XGBoost"
   ]
  },
  {
   "cell_type": "code",
   "execution_count": 21,
   "metadata": {},
   "outputs": [],
   "source": [
    "DM_train = xgb.DMatrix(data=X_train, label=y_train)\n",
    "DM_val = xgb.DMatrix(data=X_val, label=y_val)\n",
    "DM_test = xgb.DMatrix(data=test)"
   ]
  },
  {
   "cell_type": "code",
   "execution_count": 22,
   "metadata": {},
   "outputs": [],
   "source": [
    "evals_result = {}\n",
    "watchlist = [(DM_train, \"training\"), (DM_val, \"validation\")]"
   ]
  },
  {
   "cell_type": "code",
   "execution_count": 23,
   "metadata": {},
   "outputs": [],
   "source": [
    "params_native = {\n",
    "    'objective': 'reg:linear', \n",
    "    'booster':'gbtree',        \n",
    "    'silent': 1,               \n",
    "    'eta': 0.01,                 \n",
    "    'gamma': 0,                 \n",
    "    'max-depth': 7,             \n",
    "    'min_child_weight': 0.9,      \n",
    "    'max_delta_step': 0,        \n",
    "    'subsample': 0.8,             \n",
    "    'colsample_bytree': 0.6,      \n",
    "    'colsample_bylevel': 0.8,     \n",
    "    'lambda': 0.9,                \n",
    "    'alpha': 0,                 \n",
    "    'scale_pos_weight': 1,      \n",
    "    'base_score': 0.5,          \n",
    "    'eval_metric':'rmse',      \n",
    "    'seed': 42                 \n",
    "}"
   ]
  },
  {
   "cell_type": "markdown",
   "metadata": {},
   "source": [
    "## Train with partial data"
   ]
  },
  {
   "cell_type": "code",
   "execution_count": 24,
   "metadata": {},
   "outputs": [
    {
     "name": "stdout",
     "output_type": "stream",
     "text": [
      "[0]\ttraining-rmse:58.5408\tvalidation-rmse:60.6375\ttraining-SMAPE:190.683\tvalidation-SMAPE:191.323\n",
      "Multiple eval metrics have been passed: 'validation-SMAPE' will be used for early stopping.\n",
      "\n",
      "Will train until validation-SMAPE hasn't improved in 20 rounds.\n",
      "[50]\ttraining-rmse:36.3875\tvalidation-rmse:38.5127\ttraining-SMAPE:80.3886\tvalidation-SMAPE:84.4439\n",
      "[100]\ttraining-rmse:23.1346\tvalidation-rmse:25.288\ttraining-SMAPE:40.9462\tvalidation-SMAPE:45.3211\n",
      "[150]\ttraining-rmse:15.4472\tvalidation-rmse:17.4783\ttraining-SMAPE:24.1134\tvalidation-SMAPE:27.57\n",
      "[200]\ttraining-rmse:11.1391\tvalidation-rmse:12.6977\ttraining-SMAPE:17.0015\tvalidation-SMAPE:18.8533\n",
      "[250]\ttraining-rmse:8.94696\tvalidation-rmse:10.083\ttraining-SMAPE:14.1888\tvalidation-SMAPE:15.0423\n",
      "[300]\ttraining-rmse:7.95303\tvalidation-rmse:8.77585\ttraining-SMAPE:13.1187\tvalidation-SMAPE:13.416\n",
      "[350]\ttraining-rmse:7.51326\tvalidation-rmse:8.15838\ttraining-SMAPE:12.7192\tvalidation-SMAPE:12.7796\n",
      "[400]\ttraining-rmse:7.32837\tvalidation-rmse:7.86631\ttraining-SMAPE:12.5662\tvalidation-SMAPE:12.5007\n",
      "[450]\ttraining-rmse:7.24332\tvalidation-rmse:7.71539\ttraining-SMAPE:12.4987\tvalidation-SMAPE:12.3642\n",
      "[500]\ttraining-rmse:7.20075\tvalidation-rmse:7.63177\ttraining-SMAPE:12.464\tvalidation-SMAPE:12.2901\n",
      "[550]\ttraining-rmse:7.17852\tvalidation-rmse:7.58492\ttraining-SMAPE:12.4451\tvalidation-SMAPE:12.2499\n",
      "[600]\ttraining-rmse:7.16589\tvalidation-rmse:7.55605\ttraining-SMAPE:12.4329\tvalidation-SMAPE:12.2242\n",
      "[650]\ttraining-rmse:7.15745\tvalidation-rmse:7.53589\ttraining-SMAPE:12.4236\tvalidation-SMAPE:12.206\n",
      "[700]\ttraining-rmse:7.15128\tvalidation-rmse:7.52223\ttraining-SMAPE:12.4166\tvalidation-SMAPE:12.1943\n",
      "[750]\ttraining-rmse:7.1466\tvalidation-rmse:7.51183\ttraining-SMAPE:12.4107\tvalidation-SMAPE:12.1845\n",
      "[800]\ttraining-rmse:7.14278\tvalidation-rmse:7.50456\ttraining-SMAPE:12.4054\tvalidation-SMAPE:12.1778\n",
      "[850]\ttraining-rmse:7.13962\tvalidation-rmse:7.49812\ttraining-SMAPE:12.4009\tvalidation-SMAPE:12.1714\n",
      "[900]\ttraining-rmse:7.13675\tvalidation-rmse:7.4916\ttraining-SMAPE:12.3965\tvalidation-SMAPE:12.1644\n",
      "[950]\ttraining-rmse:7.13422\tvalidation-rmse:7.48644\ttraining-SMAPE:12.393\tvalidation-SMAPE:12.1572\n",
      "[1000]\ttraining-rmse:7.13192\tvalidation-rmse:7.4821\ttraining-SMAPE:12.3898\tvalidation-SMAPE:12.1514\n",
      "[1050]\ttraining-rmse:7.12979\tvalidation-rmse:7.47864\ttraining-SMAPE:12.3869\tvalidation-SMAPE:12.148\n",
      "[1100]\ttraining-rmse:7.12784\tvalidation-rmse:7.47558\ttraining-SMAPE:12.3841\tvalidation-SMAPE:12.1435\n",
      "[1150]\ttraining-rmse:7.12592\tvalidation-rmse:7.47227\ttraining-SMAPE:12.3814\tvalidation-SMAPE:12.14\n",
      "[1200]\ttraining-rmse:7.12408\tvalidation-rmse:7.47009\ttraining-SMAPE:12.3791\tvalidation-SMAPE:12.1365\n",
      "[1250]\ttraining-rmse:7.12237\tvalidation-rmse:7.46763\ttraining-SMAPE:12.377\tvalidation-SMAPE:12.1335\n",
      "[1300]\ttraining-rmse:7.12078\tvalidation-rmse:7.46603\ttraining-SMAPE:12.3749\tvalidation-SMAPE:12.1312\n",
      "[1350]\ttraining-rmse:7.11911\tvalidation-rmse:7.46381\ttraining-SMAPE:12.3729\tvalidation-SMAPE:12.1291\n",
      "Stopping. Best iteration:\n",
      "[1362]\ttraining-rmse:7.11878\tvalidation-rmse:7.46344\ttraining-SMAPE:12.3725\tvalidation-SMAPE:12.1286\n",
      "\n",
      "Wall time: 6min 57s\n"
     ]
    }
   ],
   "source": [
    "%%time\n",
    "xgb_native = xgb.train(params=params_native, \n",
    "                            dtrain=DM_train,\n",
    "                            num_boost_round=100_000,\n",
    "                            evals=watchlist,\n",
    "                            early_stopping_rounds=20,\n",
    "                            evals_result=evals_result,\n",
    "                            feval=SMAPE,\n",
    "                            maximize=False,\n",
    "                            verbose_eval=50)"
   ]
  },
  {
   "cell_type": "code",
   "execution_count": 25,
   "metadata": {},
   "outputs": [
    {
     "name": "stdout",
     "output_type": "stream",
     "text": [
      "Best iteration\t1362\n",
      "Best tree limit\t1363\n",
      "Best RMSE score\t12.128592\n",
      "\n",
      "Validation score\n",
      "RMSE\t\t 7.4636113477886905\n",
      "SMAPE\t\t12.1290285702443\n",
      "\n",
      "Training score\n",
      "RMSE\t\t 7.1181581480285425\n",
      "SMAPE\t\t12.37176087199636\n"
     ]
    }
   ],
   "source": [
    "print(\"Best iteration\\t{}\".format(xgb_native.best_iteration))\n",
    "print(\"Best tree limit\\t{}\".format(xgb_native.best_ntree_limit))\n",
    "print(\"Best RMSE score\\t{}\".format(xgb_native.best_score))\n",
    "\n",
    "print(\"\\nValidation score\")\n",
    "pred_val = xgb_native.predict(DM_val)\n",
    "print_scores(pred_val, y_val)\n",
    "\n",
    "print(\"\\nTraining score\")\n",
    "pred_train = xgb_native.predict(DM_train)\n",
    "print_scores(pred_train, y_train)"
   ]
  },
  {
   "cell_type": "markdown",
   "metadata": {},
   "source": [
    "## Predict"
   ]
  },
  {
   "cell_type": "code",
   "execution_count": 26,
   "metadata": {},
   "outputs": [],
   "source": [
    "y_pred = xgb_native.predict(DM_test, ntree_limit = xgb_native.best_ntree_limit)"
   ]
  },
  {
   "cell_type": "markdown",
   "metadata": {},
   "source": [
    "# Train with full data based on tuned parameters"
   ]
  },
  {
   "cell_type": "code",
   "execution_count": 27,
   "metadata": {},
   "outputs": [
    {
     "name": "stdout",
     "output_type": "stream",
     "text": [
      "[0]\ttraining-rmse:58.657\ttraining-SMAPE:190.643\n",
      "[100]\ttraining-rmse:23.0455\ttraining-SMAPE:41.3377\n",
      "[200]\ttraining-rmse:11.1016\ttraining-SMAPE:16.9881\n",
      "[300]\ttraining-rmse:7.98157\ttraining-SMAPE:13.1132\n",
      "[400]\ttraining-rmse:7.34558\ttraining-SMAPE:12.5488\n",
      "[500]\ttraining-rmse:7.21263\ttraining-SMAPE:12.4432\n",
      "[600]\ttraining-rmse:7.17893\ttraining-SMAPE:12.4134\n",
      "[700]\ttraining-rmse:7.16503\ttraining-SMAPE:12.3975\n",
      "[800]\ttraining-rmse:7.15708\ttraining-SMAPE:12.3874\n",
      "[900]\ttraining-rmse:7.15153\ttraining-SMAPE:12.3796\n",
      "[1000]\ttraining-rmse:7.14704\ttraining-SMAPE:12.3733\n",
      "[1100]\ttraining-rmse:7.14302\ttraining-SMAPE:12.3681\n",
      "[1200]\ttraining-rmse:7.13951\ttraining-SMAPE:12.3636\n",
      "[1300]\ttraining-rmse:7.13638\ttraining-SMAPE:12.3598\n",
      "[1400]\ttraining-rmse:7.13312\ttraining-SMAPE:12.3562\n",
      "[1446]\ttraining-rmse:7.13189\ttraining-SMAPE:12.3548\n",
      "Wall time: 8min 14s\n"
     ]
    }
   ],
   "source": [
    "%%time\n",
    "full_data = xgb.DMatrix(data=train, label=sales)\n",
    "xgb_native_full_data = xgb.train(params=params_native, \n",
    "                                dtrain=full_data,\n",
    "                                num_boost_round=1447,\n",
    "                                evals=[(full_data, \"training\")],\n",
    "                                feval=SMAPE,\n",
    "                                maximize=False,\n",
    "                                verbose_eval=100)"
   ]
  },
  {
   "cell_type": "markdown",
   "metadata": {},
   "source": [
    "## Predict"
   ]
  },
  {
   "cell_type": "code",
   "execution_count": 28,
   "metadata": {},
   "outputs": [],
   "source": [
    "y_pred = xgb_native_full_data.predict(DM_test)"
   ]
  },
  {
   "cell_type": "markdown",
   "metadata": {},
   "source": [
    "# Submit"
   ]
  },
  {
   "cell_type": "code",
   "execution_count": 29,
   "metadata": {},
   "outputs": [],
   "source": [
    "#y_pred = np.exp(y_pred)"
   ]
  },
  {
   "cell_type": "code",
   "execution_count": 30,
   "metadata": {},
   "outputs": [],
   "source": [
    "submission = pd.read_csv(f'{PATH}test.csv', index_col='id')"
   ]
  },
  {
   "cell_type": "code",
   "execution_count": 31,
   "metadata": {},
   "outputs": [],
   "source": [
    "submission['sales'] = y_pred"
   ]
  },
  {
   "cell_type": "code",
   "execution_count": 32,
   "metadata": {},
   "outputs": [],
   "source": [
    "csv_fn = f'{PATH}tmp/XGB_v4_partial_4.csv'"
   ]
  },
  {
   "cell_type": "code",
   "execution_count": 33,
   "metadata": {},
   "outputs": [],
   "source": [
    "submission[['sales']].to_csv(csv_fn)"
   ]
  },
  {
   "cell_type": "raw",
   "metadata": {},
   "source": [
    "XGB_v4_partial_4.csv\n",
    "\n",
    "Kaggle Public Score: 14.01676\n",
    "\n",
    "params_native = {\n",
    "    'objective': 'reg:linear', \n",
    "    'booster':'gbtree',        \n",
    "    'silent': 1,               \n",
    "    'eta': 0.01,                 \n",
    "    'gamma': 0,                 \n",
    "    'max-depth': 7,             \n",
    "    'min_child_weight': 0.9,      \n",
    "    'max_delta_step': 0,        \n",
    "    'subsample': 0.8,             \n",
    "    'colsample_bytree': 0.6,      \n",
    "    'colsample_bylevel': 0.8,     \n",
    "    'lambda': 0.9,                \n",
    "    'alpha': 0,                 \n",
    "    'scale_pos_weight': 1,      \n",
    "    'base_score': 0.5,          \n",
    "    'eval_metric':'rmse',      \n",
    "    'seed': 42                 \n",
    "}\n",
    "\n",
    "num_boost_round=1447,\n",
    "evals=[(full_data, \"training\")],\n",
    "feval=SMAPE,\n",
    "maximize=False,"
   ]
  },
  {
   "cell_type": "markdown",
   "metadata": {},
   "source": [
    "# Plot the feature importances"
   ]
  },
  {
   "cell_type": "code",
   "execution_count": 35,
   "metadata": {},
   "outputs": [],
   "source": [
    "xgb_native_full_data.save_model(f'{PATH}tmp/XGB_v4_partial_4')"
   ]
  },
  {
   "cell_type": "code",
   "execution_count": 36,
   "metadata": {
    "scrolled": true
   },
   "outputs": [
    {
     "data": {
      "image/png": "[encoded data removed]",
      "text/plain": [
       "<Figure size 432x288 with 1 Axes>"
      ]
     },
     "metadata": {},
     "output_type": "display_data"
    }
   ],
   "source": [
    "xgb.plot_importance(xgb_native_full_data)\n",
    "plt.show()"
   ]
  },
  {
   "cell_type": "code",
   "execution_count": null,
   "metadata": {},
   "outputs": [],
   "source": []
  }
 ],
 "metadata": {
  "kernelspec": {
   "display_name": "Python (tf)",
   "language": "python",
   "name": "tf"
  },
  "language_info": {
   "codemirror_mode": {
    "name": "ipython",
    "version": 3
   },
   "file_extension": ".py",
   "mimetype": "text/x-python",
   "name": "python",
   "nbconvert_exporter": "python",
   "pygments_lexer": "ipython3",
   "version": "3.6.6"
  },
  "toc": {
   "base_numbering": 1,
   "nav_menu": {},
   "number_sections": true,
   "sideBar": true,
   "skip_h1_title": false,
   "title_cell": "Table of Contents",
   "title_sidebar": "Contents",
   "toc_cell": false,
   "toc_position": {},
   "toc_section_display": true,
   "toc_window_display": false
  }
 },
 "nbformat": 4,
 "nbformat_minor": 2
}
