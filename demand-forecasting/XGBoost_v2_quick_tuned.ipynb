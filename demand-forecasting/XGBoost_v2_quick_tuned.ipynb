{
 "cells": [
  {
   "cell_type": "markdown",
   "metadata": {
    "heading_collapsed": true
   },
   "source": [
    "# Imports"
   ]
  },
  {
   "cell_type": "code",
   "execution_count": 1,
   "metadata": {
    "hidden": true
   },
   "outputs": [],
   "source": [
    "%load_ext autoreload\n",
    "%autoreload 2\n",
    "\n",
    "%matplotlib inline"
   ]
  },
  {
   "cell_type": "code",
   "execution_count": 2,
   "metadata": {
    "hidden": true
   },
   "outputs": [],
   "source": [
    "import pandas as pd\n",
    "import numpy as np\n",
    "import matplotlib.pyplot as plt"
   ]
  },
  {
   "cell_type": "code",
   "execution_count": 3,
   "metadata": {
    "hidden": true
   },
   "outputs": [],
   "source": [
    "import xgboost as xgb\n",
    "from sklearn.metrics import mean_absolute_error,mean_squared_error"
   ]
  },
  {
   "cell_type": "code",
   "execution_count": 4,
   "metadata": {
    "hidden": true
   },
   "outputs": [],
   "source": [
    "PATH = \"data/demand-forecasting/\""
   ]
  },
  {
   "cell_type": "markdown",
   "metadata": {
    "heading_collapsed": true
   },
   "source": [
    "# Helper Functions"
   ]
  },
  {
   "cell_type": "code",
   "execution_count": 5,
   "metadata": {
    "hidden": true
   },
   "outputs": [],
   "source": [
    "# custom evaluation metric\n",
    "def SMAPE(y_pred, dtrain):\n",
    "    y_true = dtrain.get_label()\n",
    "    denominator = (np.abs(y_true) + np.abs(y_pred)) / 200.0\n",
    "    diff = np.abs(y_true - y_pred) / denominator\n",
    "    diff[denominator == 0] = 0.0\n",
    "    return 'SMAPE', np.nanmean(diff)"
   ]
  },
  {
   "cell_type": "code",
   "execution_count": 6,
   "metadata": {
    "hidden": true
   },
   "outputs": [],
   "source": [
    "def smape2(y_pred, y_true):\n",
    "    denominator = (np.abs(y_true) + np.abs(y_pred)) / 200.0\n",
    "    diff = np.abs(y_true - y_pred) / denominator\n",
    "    diff[denominator == 0] = 0.0\n",
    "    return np.nanmean(diff)"
   ]
  },
  {
   "cell_type": "code",
   "execution_count": 7,
   "metadata": {
    "hidden": true
   },
   "outputs": [],
   "source": [
    "def print_scores(pred,label):\n",
    "    rmse = np.sqrt(mean_squared_error(pred,label))\n",
    "    mae = mean_absolute_error(pred,label)\n",
    "    smape_score = smape2(pred,label)\n",
    "    \n",
    "    print('RMSE: ' + str(rmse))\n",
    "    print('MAE: ' + str(mae))\n",
    "    print('SMAPE: ' + str(smape_score))"
   ]
  },
  {
   "cell_type": "code",
   "execution_count": 8,
   "metadata": {
    "hidden": true
   },
   "outputs": [],
   "source": [
    "def plot_learning_curve(results,trn,val,metric):\n",
    "    train_errors = results[trn][metric]\n",
    "    validation_errors = results[val][metric]\n",
    "    df = pd.DataFrame([train_errors, validation_errors]).T\n",
    "    df.columns = ['Training', 'Validation']\n",
    "    df.index.name = 'Boosting Round'\n",
    "    ax = df.plot(title=\"XGBoost learning curves\",figsize=(12,5))\n",
    "    ax.set_ylabel(metric)"
   ]
  },
  {
   "cell_type": "markdown",
   "metadata": {
    "heading_collapsed": true
   },
   "source": [
    "# Pre-Process Data"
   ]
  },
  {
   "cell_type": "code",
   "execution_count": 9,
   "metadata": {
    "hidden": true
   },
   "outputs": [],
   "source": [
    "train = pd.read_csv(f'{PATH}train.csv', parse_dates=['date'])\n",
    "test = pd.read_csv(f'{PATH}test.csv', parse_dates=['date'], index_col='id')"
   ]
  },
  {
   "cell_type": "code",
   "execution_count": 10,
   "metadata": {
    "hidden": true
   },
   "outputs": [],
   "source": [
    "train['y'] = train['date'].dt.year\n",
    "train['m'] = train['date'].dt.month\n",
    "train['d'] = train['date'].dt.day\n",
    "train['dw'] = train['date'].dt.dayofweek\n",
    "train['dy'] = train['date'].dt.dayofyear\n",
    "train.drop('date', axis=1, inplace=True)\n",
    "\n",
    "sales = train.pop('sales')"
   ]
  },
  {
   "cell_type": "code",
   "execution_count": 11,
   "metadata": {
    "hidden": true
   },
   "outputs": [],
   "source": [
    "test['y'] = test['date'].dt.year\n",
    "test['m'] = test['date'].dt.month\n",
    "test['d'] = test['date'].dt.day\n",
    "test['dw'] = test['date'].dt.dayofweek\n",
    "test['dy'] = test['date'].dt.dayofyear\n",
    "test.drop('date', axis=1, inplace=True)"
   ]
  },
  {
   "cell_type": "markdown",
   "metadata": {
    "heading_collapsed": true
   },
   "source": [
    "# Split Training-Validation Data"
   ]
  },
  {
   "cell_type": "code",
   "execution_count": 12,
   "metadata": {
    "hidden": true
   },
   "outputs": [
    {
     "data": {
      "text/plain": [
       "((913000, 7), (913000,), (45000, 7))"
      ]
     },
     "execution_count": 12,
     "metadata": {},
     "output_type": "execute_result"
    }
   ],
   "source": [
    "train.shape, sales.shape, test.shape"
   ]
  },
  {
   "cell_type": "code",
   "execution_count": 13,
   "metadata": {
    "hidden": true
   },
   "outputs": [],
   "source": [
    "# closest same period (diff year) as test set\n",
    "X_val = train.loc[(train.y==2017) & ((train.m==10) | (train.m==11) | (train.m==12))].copy() \n",
    "y_val = sales[X_val.index].copy()\n",
    "\n",
    "X_train = train.drop(X_val.index).copy()\n",
    "y_train = sales.drop(X_val.index).copy()"
   ]
  },
  {
   "cell_type": "code",
   "execution_count": 14,
   "metadata": {
    "hidden": true,
    "scrolled": true
   },
   "outputs": [
    {
     "data": {
      "text/plain": [
       "((867000, 7), (867000,), (46000, 7), (46000,))"
      ]
     },
     "execution_count": 14,
     "metadata": {},
     "output_type": "execute_result"
    }
   ],
   "source": [
    "X_train.shape, y_train.shape, X_val.shape, y_val.shape"
   ]
  },
  {
   "cell_type": "code",
   "execution_count": 15,
   "metadata": {
    "hidden": true
   },
   "outputs": [
    {
     "name": "stdout",
     "output_type": "stream",
     "text": [
      "\n"
     ]
    }
   ],
   "source": [
    "X_train.reset_index(drop=True, inplace=True)\n",
    "y_train.reset_index(drop=True, inplace=True)\n",
    "X_val.reset_index(drop=True, inplace=True)\n",
    "y_val.reset_index(drop=True, inplace=True)\n",
    "print()"
   ]
  },
  {
   "cell_type": "markdown",
   "metadata": {
    "heading_collapsed": true
   },
   "source": [
    "# XGBoost API"
   ]
  },
  {
   "cell_type": "code",
   "execution_count": 16,
   "metadata": {
    "hidden": true
   },
   "outputs": [],
   "source": [
    "DM_train = xgb.DMatrix(data=X_train, label=y_train)\n",
    "DM_val = xgb.DMatrix(data=X_val, label=y_val)\n",
    "DM_test = xgb.DMatrix(data=test)"
   ]
  },
  {
   "cell_type": "code",
   "execution_count": 17,
   "metadata": {
    "hidden": true
   },
   "outputs": [],
   "source": [
    "evals_result = {}\n",
    "watchtlist_trn = \"training\"\n",
    "watchtlist_val = \"validation\"\n",
    "watchlist = [(DM_train, watchtlist_trn), (DM_val, watchtlist_val)]"
   ]
  },
  {
   "cell_type": "code",
   "execution_count": 18,
   "metadata": {
    "hidden": true
   },
   "outputs": [],
   "source": [
    "params_native = {\n",
    "    'objective': 'reg:linear',  # 'reg:linear'\n",
    "    'booster':'gbtree',         # 'gbtree'\n",
    "    'silent': 1,                # 0   \n",
    "    'eta': 0.05,                # 0.3 (alias learning_rate)\n",
    "    'gamma': 0,                 # 0\n",
    "    'max-depth': 7,             # 6\n",
    "    'min_child_weight': 1,      # 1\n",
    "    'max_delta_step': 0,        # 0\n",
    "    'subsample': 0.7,           # 1\n",
    "    'colsample_bytree': 0.7,    # 1\n",
    "    'colsample_bylevel': 1,     # 1\n",
    "    'lambda': 1,                # 1  \n",
    "    'alpha': 0,                 # 0\n",
    "    'scale_pos_weight': 1,      # 1\n",
    "    'base_score': 0.5,          # 0.5\n",
    "    'eval_metric':'rmse',       # 'rmse' for regression\n",
    "    'seed': 42                  # 0 \n",
    "}"
   ]
  },
  {
   "cell_type": "code",
   "execution_count": 19,
   "metadata": {
    "hidden": true
   },
   "outputs": [
    {
     "name": "stdout",
     "output_type": "stream",
     "text": [
      "[0]\ttraining-rmse:56.6901\tvalidation-rmse:58.9562\n",
      "Multiple eval metrics have been passed: 'validation-rmse' will be used for early stopping.\n",
      "\n",
      "Will train until validation-rmse hasn't improved in 10 rounds.\n",
      "[100]\ttraining-rmse:13.0062\tvalidation-rmse:13.7344\n",
      "[200]\ttraining-rmse:9.35989\tvalidation-rmse:9.80527\n",
      "[300]\ttraining-rmse:8.45606\tvalidation-rmse:8.77657\n",
      "[400]\ttraining-rmse:8.13617\tvalidation-rmse:8.45338\n",
      "[500]\ttraining-rmse:7.96341\tvalidation-rmse:8.27719\n",
      "[600]\ttraining-rmse:7.80921\tvalidation-rmse:8.14128\n",
      "[700]\ttraining-rmse:7.66969\tvalidation-rmse:8.01661\n",
      "[800]\ttraining-rmse:7.58012\tvalidation-rmse:7.94818\n",
      "[900]\ttraining-rmse:7.4905\tvalidation-rmse:7.86991\n",
      "[1000]\ttraining-rmse:7.42637\tvalidation-rmse:7.81057\n",
      "[1100]\ttraining-rmse:7.38709\tvalidation-rmse:7.77678\n",
      "[1200]\ttraining-rmse:7.35783\tvalidation-rmse:7.75137\n",
      "[1300]\ttraining-rmse:7.33351\tvalidation-rmse:7.73284\n",
      "Stopping. Best iteration:\n",
      "[1319]\ttraining-rmse:7.32692\tvalidation-rmse:7.72491\n",
      "\n",
      "Wall time: 6min 9s\n"
     ]
    }
   ],
   "source": [
    "%%time\n",
    "xgb_native = xgb.train(params=params_native, \n",
    "                            dtrain=DM_train,\n",
    "                            num_boost_round=10001,\n",
    "                            evals=watchlist,\n",
    "#                             feval=SMAPE,\n",
    "#                             maximize=False,\n",
    "                            early_stopping_rounds=10,\n",
    "                            evals_result=evals_result,\n",
    "                            verbose_eval=100)"
   ]
  },
  {
   "cell_type": "code",
   "execution_count": 20,
   "metadata": {
    "hidden": true
   },
   "outputs": [
    {
     "name": "stdout",
     "output_type": "stream",
     "text": [
      "Best iteration: 1319\n",
      "Best number of trees limit: 1320\n",
      "Best RMSE score: 7.724912\n"
     ]
    }
   ],
   "source": [
    "print(\"Best iteration: {}\".format(xgb_native.best_iteration))\n",
    "print(\"Best number of trees limit: {}\".format(xgb_native.best_ntree_limit))\n",
    "print(\"Best RMSE score: {}\".format(xgb_native.best_score))"
   ]
  },
  {
   "cell_type": "code",
   "execution_count": 22,
   "metadata": {
    "hidden": true
   },
   "outputs": [
    {
     "data": {
      "image/png": "[encoded data removed]",
      "text/plain": [
       "<Figure size 864x360 with 1 Axes>"
      ]
     },
     "metadata": {},
     "output_type": "display_data"
    }
   ],
   "source": [
    "plot_learning_curve(evals_result, watchtlist_trn, watchtlist_val, 'rmse')"
   ]
  },
  {
   "cell_type": "markdown",
   "metadata": {
    "heading_collapsed": true
   },
   "source": [
    "# Scikit Learn API"
   ]
  },
  {
   "cell_type": "code",
   "execution_count": 23,
   "metadata": {
    "hidden": true
   },
   "outputs": [],
   "source": [
    "params_sklearn = {\n",
    "    'objective': 'reg:linear',  # 'reg:linear'\n",
    "    'booster':'gbtree',         # 'gbtree'\n",
    "    'silent': True,             # True\n",
    "    'max-depth': 7,             # 3\n",
    "    'learning_rate': 0.05,      # 0.1\n",
    "    'n_estimators': 10001,      # 200\n",
    "    'n_jobs': 4,                # 1 (replaces nthread)\n",
    "    'gamma': 0,                 # 0\n",
    "    'min_child_weight': 1,      # 1\n",
    "    'max_delta_step': 0,        # 0\n",
    "    'subsample': 0.7,           # 1\n",
    "    'colsample_bytree': 0.7,    # 1\n",
    "    'colsample_bylevel': 1,     # 1\n",
    "    'reg_alpha': 0,             # 0\n",
    "    'reg_lambda': 1,            # 1\n",
    "    'scale_pos_weight': 1,      # 1\n",
    "    'base_score': 0.5,          # 0.5\n",
    "    'random_state': 42,         # 0 (seed is deprecated) \n",
    "}"
   ]
  },
  {
   "cell_type": "code",
   "execution_count": 24,
   "metadata": {
    "hidden": true
   },
   "outputs": [],
   "source": [
    "xgb_sk = xgb.XGBRegressor(**params_sklearn)"
   ]
  },
  {
   "cell_type": "code",
   "execution_count": 25,
   "metadata": {
    "hidden": true,
    "scrolled": true
   },
   "outputs": [
    {
     "name": "stdout",
     "output_type": "stream",
     "text": [
      "[0]\tvalidation_0-rmse:56.7836\tvalidation_1-rmse:59.0074\n",
      "Multiple eval metrics have been passed: 'validation_1-rmse' will be used for early stopping.\n",
      "\n",
      "Will train until validation_1-rmse hasn't improved in 10 rounds.\n",
      "[50]\tvalidation_0-rmse:22.7172\tvalidation_1-rmse:23.2888\n",
      "[100]\tvalidation_0-rmse:19.4848\tvalidation_1-rmse:20.0782\n",
      "[150]\tvalidation_0-rmse:17.4077\tvalidation_1-rmse:18.0555\n",
      "[200]\tvalidation_0-rmse:15.4587\tvalidation_1-rmse:16.068\n",
      "[250]\tvalidation_0-rmse:14.2125\tvalidation_1-rmse:14.7551\n",
      "[300]\tvalidation_0-rmse:13.1134\tvalidation_1-rmse:13.5944\n",
      "[350]\tvalidation_0-rmse:12.0242\tvalidation_1-rmse:12.4276\n",
      "[400]\tvalidation_0-rmse:11.32\tvalidation_1-rmse:11.6559\n",
      "[450]\tvalidation_0-rmse:10.9523\tvalidation_1-rmse:11.2448\n",
      "[500]\tvalidation_0-rmse:10.6874\tvalidation_1-rmse:10.9398\n",
      "[550]\tvalidation_0-rmse:10.4506\tvalidation_1-rmse:10.678\n",
      "[600]\tvalidation_0-rmse:10.2478\tvalidation_1-rmse:10.44\n",
      "[650]\tvalidation_0-rmse:10.0736\tvalidation_1-rmse:10.2376\n",
      "[700]\tvalidation_0-rmse:9.91069\tvalidation_1-rmse:10.04\n",
      "[750]\tvalidation_0-rmse:9.79822\tvalidation_1-rmse:9.91151\n",
      "[800]\tvalidation_0-rmse:9.72399\tvalidation_1-rmse:9.82396\n",
      "[850]\tvalidation_0-rmse:9.63659\tvalidation_1-rmse:9.71923\n",
      "[900]\tvalidation_0-rmse:9.57747\tvalidation_1-rmse:9.65387\n",
      "[950]\tvalidation_0-rmse:9.51479\tvalidation_1-rmse:9.58831\n",
      "[1000]\tvalidation_0-rmse:9.46522\tvalidation_1-rmse:9.53109\n",
      "[1050]\tvalidation_0-rmse:9.41845\tvalidation_1-rmse:9.47986\n",
      "[1100]\tvalidation_0-rmse:9.37511\tvalidation_1-rmse:9.42859\n",
      "[1150]\tvalidation_0-rmse:9.33897\tvalidation_1-rmse:9.3876\n",
      "[1200]\tvalidation_0-rmse:9.29754\tvalidation_1-rmse:9.34496\n",
      "[1250]\tvalidation_0-rmse:9.26359\tvalidation_1-rmse:9.31913\n",
      "[1300]\tvalidation_0-rmse:9.23804\tvalidation_1-rmse:9.29182\n",
      "[1350]\tvalidation_0-rmse:9.20517\tvalidation_1-rmse:9.2591\n",
      "[1400]\tvalidation_0-rmse:9.16928\tvalidation_1-rmse:9.23229\n",
      "[1450]\tvalidation_0-rmse:9.14473\tvalidation_1-rmse:9.21622\n",
      "[1500]\tvalidation_0-rmse:9.11826\tvalidation_1-rmse:9.19385\n",
      "[1550]\tvalidation_0-rmse:9.08587\tvalidation_1-rmse:9.16737\n",
      "[1600]\tvalidation_0-rmse:9.05807\tvalidation_1-rmse:9.13733\n",
      "[1650]\tvalidation_0-rmse:9.03627\tvalidation_1-rmse:9.1237\n",
      "[1700]\tvalidation_0-rmse:9.01586\tvalidation_1-rmse:9.10959\n",
      "[1750]\tvalidation_0-rmse:8.99459\tvalidation_1-rmse:9.09361\n",
      "[1800]\tvalidation_0-rmse:8.96529\tvalidation_1-rmse:9.06433\n",
      "[1850]\tvalidation_0-rmse:8.94139\tvalidation_1-rmse:9.043\n",
      "[1900]\tvalidation_0-rmse:8.92362\tvalidation_1-rmse:9.02759\n",
      "[1950]\tvalidation_0-rmse:8.89943\tvalidation_1-rmse:9.00693\n",
      "[2000]\tvalidation_0-rmse:8.88123\tvalidation_1-rmse:8.98967\n",
      "[2050]\tvalidation_0-rmse:8.86105\tvalidation_1-rmse:8.97012\n",
      "[2100]\tvalidation_0-rmse:8.84391\tvalidation_1-rmse:8.95684\n",
      "[2150]\tvalidation_0-rmse:8.83147\tvalidation_1-rmse:8.94839\n",
      "[2200]\tvalidation_0-rmse:8.81848\tvalidation_1-rmse:8.93804\n",
      "[2250]\tvalidation_0-rmse:8.80099\tvalidation_1-rmse:8.91798\n",
      "[2300]\tvalidation_0-rmse:8.78638\tvalidation_1-rmse:8.90527\n",
      "[2350]\tvalidation_0-rmse:8.76692\tvalidation_1-rmse:8.88965\n",
      "[2400]\tvalidation_0-rmse:8.75031\tvalidation_1-rmse:8.87956\n",
      "[2450]\tvalidation_0-rmse:8.73755\tvalidation_1-rmse:8.86947\n",
      "[2500]\tvalidation_0-rmse:8.72604\tvalidation_1-rmse:8.86066\n",
      "[2550]\tvalidation_0-rmse:8.71532\tvalidation_1-rmse:8.85321\n",
      "Stopping. Best iteration:\n",
      "[2576]\tvalidation_0-rmse:8.70712\tvalidation_1-rmse:8.84599\n",
      "\n",
      "Wall time: 6min 51s\n"
     ]
    }
   ],
   "source": [
    "%%time\n",
    "xgb_sk = xgb_sk.fit(X_train, y_train,  \n",
    "                              eval_set=[(X_train, y_train),(X_val, y_val)],\n",
    "                              eval_metric='rmse',\n",
    "                              verbose=50,\n",
    "                              early_stopping_rounds=10)          "
   ]
  },
  {
   "cell_type": "code",
   "execution_count": 26,
   "metadata": {
    "hidden": true
   },
   "outputs": [
    {
     "name": "stdout",
     "output_type": "stream",
     "text": [
      "Best iteration: 2576\n",
      "Best number of trees limit: 2577\n",
      "Best SMAPE score: 8.845988\n"
     ]
    }
   ],
   "source": [
    "print(\"Best iteration: {}\".format(xgb_sk.best_iteration))\n",
    "print(\"Best number of trees limit: {}\".format(xgb_sk.best_ntree_limit))\n",
    "print(\"Best SMAPE score: {}\".format(xgb_sk.best_score))"
   ]
  },
  {
   "cell_type": "code",
   "execution_count": 27,
   "metadata": {
    "hidden": true
   },
   "outputs": [
    {
     "data": {
      "image/png": "[encoded data removed]",
      "text/plain": [
       "<Figure size 864x360 with 1 Axes>"
      ]
     },
     "metadata": {},
     "output_type": "display_data"
    }
   ],
   "source": [
    "plot_learning_curve(xgb_sk.evals_result(), 'validation_0', 'validation_1', 'rmse')"
   ]
  },
  {
   "cell_type": "markdown",
   "metadata": {
    "heading_collapsed": true
   },
   "source": [
    "# Comparisons"
   ]
  },
  {
   "cell_type": "code",
   "execution_count": 28,
   "metadata": {
    "hidden": true
   },
   "outputs": [
    {
     "name": "stdout",
     "output_type": "stream",
     "text": [
      "Native\n",
      "Best iteration: 1319\n",
      "Best number of trees limit: 1320\n",
      "Best RMSE score: 7.724912\n",
      "\n",
      "SKLearn\n",
      "Best iteration: 2576\n",
      "Best number of trees limit: 2577\n",
      "Best RMSE score: 8.845988\n"
     ]
    }
   ],
   "source": [
    "print(\"Native\")\n",
    "print(\"Best iteration: {}\".format(xgb_native.best_iteration))\n",
    "print(\"Best number of trees limit: {}\".format(xgb_native.best_ntree_limit))\n",
    "print(\"Best RMSE score: {}\".format(xgb_native.best_score))\n",
    "\n",
    "print(\"\\nSKLearn\")\n",
    "print(\"Best iteration: {}\".format(xgb_sk.best_iteration))\n",
    "print(\"Best number of trees limit: {}\".format(xgb_sk.best_ntree_limit))\n",
    "print(\"Best RMSE score: {}\".format(xgb_sk.best_score))"
   ]
  },
  {
   "cell_type": "code",
   "execution_count": 29,
   "metadata": {
    "hidden": true
   },
   "outputs": [
    {
     "name": "stdout",
     "output_type": "stream",
     "text": [
      "Training score Native\n",
      "RMSE: 7.325840654118261\n",
      "MAE: 5.638051134403739\n",
      "SMAPE: 12.747186047753106\n",
      "\n",
      "Training score SKLearn\n",
      "RMSE: 8.704655108209987\n",
      "MAE: 6.723292998952781\n",
      "SMAPE: 17.01076157476725\n"
     ]
    }
   ],
   "source": [
    "print(\"Training score Native\")\n",
    "pred_train = xgb_native.predict(DM_train)\n",
    "print_scores(pred_train, y_train)\n",
    "\n",
    "print(\"\\nTraining score SKLearn\")\n",
    "pred_train = xgb_sk.predict(X_train)\n",
    "print_scores(pred_train, y_train)"
   ]
  },
  {
   "cell_type": "code",
   "execution_count": 30,
   "metadata": {
    "hidden": true
   },
   "outputs": [
    {
     "name": "stdout",
     "output_type": "stream",
     "text": [
      "Validation score Native\n",
      "RMSE: 7.724964527848548\n",
      "MAE: 5.969841442730115\n",
      "SMAPE: 12.600440639639533\n",
      "\n",
      "Validation score SKLearn\n",
      "RMSE: 8.846404878518847\n",
      "MAE: 6.876873116042303\n",
      "SMAPE: 15.731236236343525\n"
     ]
    }
   ],
   "source": [
    "print(\"Validation score Native\")\n",
    "pred_val = xgb_native.predict(DM_val)\n",
    "print_scores(pred_val, y_val)\n",
    "\n",
    "print(\"\\nValidation score SKLearn\")\n",
    "pred_val = xgb_sk.predict(X_val)\n",
    "print_scores(pred_val, y_val)"
   ]
  },
  {
   "cell_type": "markdown",
   "metadata": {
    "heading_collapsed": true
   },
   "source": [
    "# Predict with partially-trained xgb_native"
   ]
  },
  {
   "cell_type": "code",
   "execution_count": 31,
   "metadata": {
    "hidden": true
   },
   "outputs": [],
   "source": [
    "y_pred = xgb_native.predict(DM_test, ntree_limit = xgb_native.best_ntree_limit)"
   ]
  },
  {
   "cell_type": "markdown",
   "metadata": {
    "heading_collapsed": true
   },
   "source": [
    "# Predict with fully-trained xgb_native"
   ]
  },
  {
   "cell_type": "code",
   "execution_count": 42,
   "metadata": {
    "hidden": true
   },
   "outputs": [
    {
     "name": "stdout",
     "output_type": "stream",
     "text": [
      "[0]\ttraining-rmse:56.7417\n",
      "[100]\ttraining-rmse:13.018\n",
      "[200]\ttraining-rmse:9.53568\n",
      "[300]\ttraining-rmse:8.56749\n",
      "[400]\ttraining-rmse:8.15204\n",
      "[500]\ttraining-rmse:7.92449\n",
      "[600]\ttraining-rmse:7.74787\n",
      "[700]\ttraining-rmse:7.63164\n",
      "[800]\ttraining-rmse:7.54901\n",
      "[900]\ttraining-rmse:7.46579\n",
      "[1000]\ttraining-rmse:7.41809\n",
      "[1100]\ttraining-rmse:7.38758\n",
      "[1200]\ttraining-rmse:7.36102\n",
      "[1300]\ttraining-rmse:7.34323\n",
      "[1400]\ttraining-rmse:7.32358\n",
      "[1500]\ttraining-rmse:7.30607\n",
      "Wall time: 6min 1s\n"
     ]
    }
   ],
   "source": [
    "%%time\n",
    "full_data = xgb.DMatrix(data=train, label=sales)\n",
    "xgb_native_full_data = xgb.train(params=params_native, \n",
    "                                dtrain=full_data,\n",
    "                                num_boost_round=1501,\n",
    "                                evals=[(full_data, \"training\")],\n",
    "                                verbose_eval=100)"
   ]
  },
  {
   "cell_type": "code",
   "execution_count": 43,
   "metadata": {
    "hidden": true
   },
   "outputs": [],
   "source": [
    "y_pred = xgb_native_full_data.predict(DM_test)"
   ]
  },
  {
   "cell_type": "markdown",
   "metadata": {},
   "source": [
    "# Submission"
   ]
  },
  {
   "cell_type": "code",
   "execution_count": 44,
   "metadata": {},
   "outputs": [],
   "source": [
    "submission = pd.read_csv(f'{PATH}test.csv', index_col='id')"
   ]
  },
  {
   "cell_type": "code",
   "execution_count": 45,
   "metadata": {},
   "outputs": [],
   "source": [
    "submission['sales'] = y_pred"
   ]
  },
  {
   "cell_type": "code",
   "execution_count": 46,
   "metadata": {},
   "outputs": [],
   "source": [
    "csv_fn = f'{PATH}tmp/XGB_v2_full.csv'"
   ]
  },
  {
   "cell_type": "code",
   "execution_count": 47,
   "metadata": {},
   "outputs": [],
   "source": [
    "submission[['sales']].to_csv(csv_fn)"
   ]
  },
  {
   "cell_type": "markdown",
   "metadata": {},
   "source": [
    "__KAGGLE SCORE: __\n",
    "- 14.27247 (with val)\n",
    "- 14.25877 (full with 1500 boost)"
   ]
  }
 ],
 "metadata": {
  "kernelspec": {
   "display_name": "Python (tf)",
   "language": "python",
   "name": "tf"
  },
  "language_info": {
   "codemirror_mode": {
    "name": "ipython",
    "version": 3
   },
   "file_extension": ".py",
   "mimetype": "text/x-python",
   "name": "python",
   "nbconvert_exporter": "python",
   "pygments_lexer": "ipython3",
   "version": "3.6.6"
  },
  "toc": {
   "base_numbering": 1,
   "nav_menu": {},
   "number_sections": true,
   "sideBar": true,
   "skip_h1_title": false,
   "title_cell": "Table of Contents",
   "title_sidebar": "Contents",
   "toc_cell": false,
   "toc_position": {},
   "toc_section_display": true,
   "toc_window_display": false
  }
 },
 "nbformat": 4,
 "nbformat_minor": 2
}
