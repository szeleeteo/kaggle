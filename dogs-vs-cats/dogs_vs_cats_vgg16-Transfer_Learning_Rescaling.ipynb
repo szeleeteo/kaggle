{
 "cells": [
  {
   "cell_type": "markdown",
   "metadata": {},
   "source": [
    "# Dogs Vs Cats Classification with Pre-Trained Neural Network VGG16 Using Tensorflow and Keras"
   ]
  },
  {
   "cell_type": "markdown",
   "metadata": {},
   "source": [
    "https://blog.keras.io/building-powerful-image-classification-models-using-very-little-data.html\n",
    "\n",
    "https://gist.github.com/fchollet/f35fbc80e066a49d65f1688a7e99f069"
   ]
  },
  {
   "cell_type": "markdown",
   "metadata": {},
   "source": [
    "## Import Libraries"
   ]
  },
  {
   "cell_type": "code",
   "execution_count": 1,
   "metadata": {},
   "outputs": [],
   "source": [
    "%load_ext autoreload\n",
    "%autoreload 2\n",
    "%matplotlib inline"
   ]
  },
  {
   "cell_type": "code",
   "execution_count": 2,
   "metadata": {},
   "outputs": [],
   "source": [
    "import os\n",
    "import json\n",
    "import numpy as np\n",
    "import matplotlib.pyplot as plt\n",
    "\n",
    "import tensorflow as tf\n",
    "from tensorflow.keras.preprocessing import image\n",
    "from tensorflow.keras.preprocessing.image import ImageDataGenerator\n",
    "from tensorflow.keras.preprocessing.image import array_to_img, img_to_array, load_img\n",
    "from tensorflow.keras.models import load_model, model_from_json\n",
    "from tensorflow.keras.models import Sequential, Model\n",
    "from tensorflow.keras.layers import Conv2D, MaxPooling2D\n",
    "from tensorflow.keras.layers import Activation, Dropout, Flatten, Dense\n",
    "from tensorflow.keras.callbacks import EarlyStopping, ModelCheckpoint\n",
    "from tensorflow.keras import applications, optimizers\n",
    "from tensorflow.keras import backend as K\n",
    "from tensorflow.keras.applications.vgg16 import preprocess_input"
   ]
  },
  {
   "cell_type": "markdown",
   "metadata": {},
   "source": [
    "## Define constants"
   ]
  },
  {
   "cell_type": "code",
   "execution_count": 3,
   "metadata": {},
   "outputs": [],
   "source": [
    "# dimensions of our images\n",
    "img_width, img_height = 150, 150\n",
    "\n",
    "PATH = 'data/dogscats_small/'\n",
    "train_data_dir = f'{PATH}train/'\n",
    "validation_data_dir = f'{PATH}validation/'\n",
    "test_data_dir = f'{PATH}test/'\n",
    "nb_train_samples = 2000\n",
    "nb_validation_samples = 800\n",
    "nb_test_samples = 2000\n",
    "epochs = 50\n",
    "batch_size = 16"
   ]
  },
  {
   "cell_type": "code",
   "execution_count": 4,
   "metadata": {},
   "outputs": [],
   "source": [
    "# value stored in /users/<user>/keras/.keras.json file\n",
    "# \"channels_last\" for tensorflow\n",
    "\n",
    "if K.image_data_format() == 'channels_first':\n",
    "    input_shape = (3, img_width, img_height)\n",
    "else:\n",
    "    input_shape = (img_width, img_height, 3)"
   ]
  },
  {
   "cell_type": "markdown",
   "metadata": {},
   "source": [
    "## Util function"
   ]
  },
  {
   "cell_type": "code",
   "execution_count": 5,
   "metadata": {},
   "outputs": [],
   "source": [
    "# retrieve random image, either cat or dog from the validation set\n",
    "# only works for specific data file structures and file names!\n",
    "def get_rand_image():\n",
    "    rand_dog_cat = np.random.choice(('cat', 'dog'))\n",
    "    rand_img_idx = np.random.randint(1000, 1400)\n",
    "    rand_img_path = f\"{validation_data_dir}{rand_dog_cat}s/{rand_dog_cat}.{rand_img_idx }.jpg\"\n",
    "    rand_img = image.load_img(rand_img_path, target_size=(img_width, img_height))\n",
    "    \n",
    "    return rand_img_path,rand_img"
   ]
  },
  {
   "cell_type": "markdown",
   "metadata": {
    "heading_collapsed": true
   },
   "source": [
    "## Build pre-trained model (VGG16)"
   ]
  },
  {
   "cell_type": "code",
   "execution_count": 6,
   "metadata": {
    "hidden": true
   },
   "outputs": [],
   "source": [
    "model = applications.VGG16(include_top=False, weights='imagenet', input_shape=input_shape)"
   ]
  },
  {
   "cell_type": "markdown",
   "metadata": {
    "heading_collapsed": true
   },
   "source": [
    "## Save bottleneck features"
   ]
  },
  {
   "cell_type": "code",
   "execution_count": 7,
   "metadata": {
    "hidden": true
   },
   "outputs": [
    {
     "name": "stdout",
     "output_type": "stream",
     "text": [
      "Found 2000 images belonging to 2 classes.\n"
     ]
    }
   ],
   "source": [
    "os.makedirs('tmp', exist_ok=True)\n",
    "\n",
    "# no data augmentation if we want to cache\n",
    "datagen = ImageDataGenerator(rescale=1. / 255)\n",
    "\n",
    "generator = datagen.flow_from_directory(\n",
    "        train_data_dir,\n",
    "        target_size=(img_width, img_height),\n",
    "        batch_size=batch_size,\n",
    "        class_mode=None,  # this means our generator will only yield batches of data, no labels\n",
    "        shuffle=False)  # our data will be in order, so all first 1000 images will be cats, then 1000 dogs\n",
    "\n",
    "bottleneck_features_train = model.predict_generator(generator, nb_train_samples // batch_size)\n",
    "np.save('tmp/bottleneck_features_train.npy', bottleneck_features_train)"
   ]
  },
  {
   "cell_type": "code",
   "execution_count": 8,
   "metadata": {
    "hidden": true
   },
   "outputs": [
    {
     "name": "stdout",
     "output_type": "stream",
     "text": [
      "Found 800 images belonging to 2 classes.\n"
     ]
    }
   ],
   "source": [
    "# Feedforward calculation and caching for validation data\n",
    "generator = datagen.flow_from_directory(\n",
    "        validation_data_dir,\n",
    "        target_size=(img_width, img_height),\n",
    "        batch_size=batch_size,\n",
    "        class_mode=None,\n",
    "        shuffle=False)\n",
    "\n",
    "bottleneck_features_validation = model.predict_generator(generator, nb_validation_samples // batch_size)\n",
    "np.save('tmp/bottleneck_features_validation.npy', bottleneck_features_validation)"
   ]
  },
  {
   "cell_type": "markdown",
   "metadata": {
    "heading_collapsed": true
   },
   "source": [
    "## Load the cached calculations"
   ]
  },
  {
   "cell_type": "code",
   "execution_count": 9,
   "metadata": {
    "hidden": true
   },
   "outputs": [],
   "source": [
    "train_data = np.load('tmp/bottleneck_features_train.npy')\n",
    "train_labels = np.array([0] * (nb_train_samples // 2) + [1] * (nb_train_samples // 2))\n",
    "\n",
    "validation_data = np.load('tmp/bottleneck_features_validation.npy')\n",
    "validation_labels = np.array([0] * (nb_validation_samples // 2) + [1] * (nb_validation_samples // 2))"
   ]
  },
  {
   "cell_type": "markdown",
   "metadata": {},
   "source": [
    "## Train top model (last layer - fully connected)"
   ]
  },
  {
   "cell_type": "code",
   "execution_count": 8,
   "metadata": {},
   "outputs": [],
   "source": [
    "def build_last_layer(input_shape):\n",
    "    model = Sequential()\n",
    "    model.add(Flatten(input_shape=input_shape))\n",
    "    model.add(Dense(256, activation='relu'))\n",
    "    model.add(Dropout(0.5))\n",
    "    model.add(Dense(1, activation='sigmoid'))\n",
    "    \n",
    "    return model"
   ]
  },
  {
   "cell_type": "code",
   "execution_count": 11,
   "metadata": {},
   "outputs": [],
   "source": [
    "last_layer_model = build_last_layer(train_data.shape[1:])\n",
    "last_layer_model.compile(optimizer='rmsprop', loss='binary_crossentropy', metrics=['accuracy'])"
   ]
  },
  {
   "cell_type": "code",
   "execution_count": 12,
   "metadata": {
    "collapsed": true
   },
   "outputs": [
    {
     "name": "stdout",
     "output_type": "stream",
     "text": [
      "Train on 2000 samples, validate on 800 samples\n",
      "Epoch 1/50\n",
      "2000/2000 [==============================] - 1s 583us/step - loss: 0.7128 - acc: 0.7685 - val_loss: 0.2826 - val_acc: 0.8912\n",
      "Epoch 2/50\n",
      "2000/2000 [==============================] - 1s 325us/step - loss: 0.3211 - acc: 0.8620 - val_loss: 0.3726 - val_acc: 0.8325\n",
      "Epoch 3/50\n",
      "2000/2000 [==============================] - 1s 326us/step - loss: 0.3030 - acc: 0.8800 - val_loss: 0.3269 - val_acc: 0.8738\n",
      "Epoch 4/50\n",
      "2000/2000 [==============================] - 1s 322us/step - loss: 0.2671 - acc: 0.8990 - val_loss: 0.3465 - val_acc: 0.8675\n",
      "Epoch 5/50\n",
      "2000/2000 [==============================] - 1s 323us/step - loss: 0.2191 - acc: 0.9185 - val_loss: 0.5416 - val_acc: 0.8113\n",
      "Epoch 6/50\n",
      "2000/2000 [==============================] - 1s 316us/step - loss: 0.2027 - acc: 0.9245 - val_loss: 0.4605 - val_acc: 0.8575\n",
      "Epoch 7/50\n",
      "2000/2000 [==============================] - 1s 327us/step - loss: 0.1783 - acc: 0.9305 - val_loss: 0.3689 - val_acc: 0.8862\n",
      "Epoch 8/50\n",
      "2000/2000 [==============================] - 1s 326us/step - loss: 0.1659 - acc: 0.9400 - val_loss: 0.4260 - val_acc: 0.8738\n",
      "Epoch 9/50\n",
      "2000/2000 [==============================] - 1s 327us/step - loss: 0.1391 - acc: 0.9465 - val_loss: 0.4163 - val_acc: 0.8750\n",
      "Epoch 10/50\n",
      "2000/2000 [==============================] - 1s 326us/step - loss: 0.1336 - acc: 0.9540 - val_loss: 0.3249 - val_acc: 0.9012\n",
      "Epoch 11/50\n",
      "2000/2000 [==============================] - 1s 324us/step - loss: 0.1130 - acc: 0.9575 - val_loss: 0.3736 - val_acc: 0.9038\n",
      "Epoch 12/50\n",
      "2000/2000 [==============================] - 1s 323us/step - loss: 0.0896 - acc: 0.9615 - val_loss: 0.3894 - val_acc: 0.9050\n",
      "Epoch 13/50\n",
      "2000/2000 [==============================] - 1s 326us/step - loss: 0.0762 - acc: 0.9705 - val_loss: 0.5229 - val_acc: 0.8850\n",
      "Epoch 14/50\n",
      "2000/2000 [==============================] - 1s 324us/step - loss: 0.0751 - acc: 0.9710 - val_loss: 0.4308 - val_acc: 0.8988\n",
      "Epoch 15/50\n",
      "2000/2000 [==============================] - 1s 326us/step - loss: 0.0768 - acc: 0.9715 - val_loss: 0.4628 - val_acc: 0.8988\n",
      "Epoch 16/50\n",
      "2000/2000 [==============================] - 1s 330us/step - loss: 0.0708 - acc: 0.9740 - val_loss: 0.6112 - val_acc: 0.8850\n",
      "Epoch 17/50\n",
      "2000/2000 [==============================] - 1s 331us/step - loss: 0.0719 - acc: 0.9780 - val_loss: 0.5037 - val_acc: 0.9038\n",
      "Epoch 18/50\n",
      "2000/2000 [==============================] - 1s 326us/step - loss: 0.0456 - acc: 0.9840 - val_loss: 0.6623 - val_acc: 0.8812\n",
      "Epoch 19/50\n",
      "2000/2000 [==============================] - 1s 328us/step - loss: 0.0468 - acc: 0.9845 - val_loss: 0.6981 - val_acc: 0.8862\n",
      "Epoch 20/50\n",
      "2000/2000 [==============================] - 1s 327us/step - loss: 0.0561 - acc: 0.9800 - val_loss: 0.5518 - val_acc: 0.8962\n",
      "Epoch 21/50\n",
      "2000/2000 [==============================] - 1s 330us/step - loss: 0.0470 - acc: 0.9865 - val_loss: 0.6177 - val_acc: 0.8900\n",
      "Epoch 22/50\n",
      "2000/2000 [==============================] - 1s 324us/step - loss: 0.0242 - acc: 0.9895 - val_loss: 0.7129 - val_acc: 0.8938\n",
      "Epoch 23/50\n",
      "2000/2000 [==============================] - 1s 325us/step - loss: 0.0365 - acc: 0.9875 - val_loss: 0.6902 - val_acc: 0.8825\n",
      "Epoch 24/50\n",
      "2000/2000 [==============================] - 1s 326us/step - loss: 0.0209 - acc: 0.9930 - val_loss: 0.7949 - val_acc: 0.8888\n",
      "Epoch 25/50\n",
      "2000/2000 [==============================] - 1s 323us/step - loss: 0.0342 - acc: 0.9850 - val_loss: 0.6200 - val_acc: 0.9075\n",
      "Epoch 26/50\n",
      "2000/2000 [==============================] - 1s 328us/step - loss: 0.0303 - acc: 0.9920 - val_loss: 0.7404 - val_acc: 0.8875\n",
      "Epoch 27/50\n",
      "2000/2000 [==============================] - 1s 318us/step - loss: 0.0313 - acc: 0.9885 - val_loss: 0.6725 - val_acc: 0.8950\n",
      "Epoch 28/50\n",
      "2000/2000 [==============================] - 1s 326us/step - loss: 0.0209 - acc: 0.9925 - val_loss: 0.8542 - val_acc: 0.8825\n",
      "Epoch 29/50\n",
      "2000/2000 [==============================] - 1s 326us/step - loss: 0.0229 - acc: 0.9945 - val_loss: 0.6905 - val_acc: 0.9038\n",
      "Epoch 30/50\n",
      "2000/2000 [==============================] - 1s 321us/step - loss: 0.0292 - acc: 0.9880 - val_loss: 0.8878 - val_acc: 0.8762\n",
      "Epoch 31/50\n",
      "2000/2000 [==============================] - 1s 328us/step - loss: 0.0204 - acc: 0.9910 - val_loss: 0.7916 - val_acc: 0.8988\n",
      "Epoch 32/50\n",
      "2000/2000 [==============================] - 1s 327us/step - loss: 0.0217 - acc: 0.9945 - val_loss: 0.8565 - val_acc: 0.8912\n",
      "Epoch 33/50\n",
      "2000/2000 [==============================] - 1s 318us/step - loss: 0.0182 - acc: 0.9960 - val_loss: 0.7382 - val_acc: 0.9075\n",
      "Epoch 34/50\n",
      "2000/2000 [==============================] - 1s 308us/step - loss: 0.0091 - acc: 0.9970 - val_loss: 0.7952 - val_acc: 0.9038\n",
      "Epoch 35/50\n",
      "2000/2000 [==============================] - 1s 306us/step - loss: 0.0151 - acc: 0.9955 - val_loss: 0.7947 - val_acc: 0.8975\n",
      "Epoch 36/50\n",
      "2000/2000 [==============================] - 1s 326us/step - loss: 0.0155 - acc: 0.9950 - val_loss: 0.8594 - val_acc: 0.8988\n",
      "Epoch 37/50\n",
      "2000/2000 [==============================] - 1s 331us/step - loss: 0.0125 - acc: 0.9950 - val_loss: 0.8570 - val_acc: 0.9000\n",
      "Epoch 38/50\n",
      "2000/2000 [==============================] - 1s 329us/step - loss: 0.0252 - acc: 0.9940 - val_loss: 0.8526 - val_acc: 0.9012\n",
      "Epoch 39/50\n",
      "2000/2000 [==============================] - 1s 325us/step - loss: 0.0190 - acc: 0.9955 - val_loss: 0.8876 - val_acc: 0.8975\n",
      "Epoch 40/50\n",
      "2000/2000 [==============================] - 1s 329us/step - loss: 0.0156 - acc: 0.9975 - val_loss: 0.9209 - val_acc: 0.8938\n",
      "Epoch 41/50\n",
      "2000/2000 [==============================] - 1s 325us/step - loss: 0.0139 - acc: 0.9960 - val_loss: 0.8945 - val_acc: 0.8988\n",
      "Epoch 42/50\n",
      "2000/2000 [==============================] - 1s 320us/step - loss: 0.0061 - acc: 0.9980 - val_loss: 0.9883 - val_acc: 0.8888\n",
      "Epoch 43/50\n",
      "2000/2000 [==============================] - 1s 327us/step - loss: 0.0160 - acc: 0.9960 - val_loss: 1.0126 - val_acc: 0.8862\n",
      "Epoch 44/50\n",
      "2000/2000 [==============================] - 1s 321us/step - loss: 0.0072 - acc: 0.9970 - val_loss: 0.9248 - val_acc: 0.8888\n",
      "Epoch 45/50\n",
      "2000/2000 [==============================] - 1s 327us/step - loss: 0.0068 - acc: 0.9975 - val_loss: 0.8930 - val_acc: 0.8988\n",
      "Epoch 46/50\n",
      "2000/2000 [==============================] - 1s 336us/step - loss: 0.0144 - acc: 0.9945 - val_loss: 0.8718 - val_acc: 0.9050\n",
      "Epoch 47/50\n",
      "2000/2000 [==============================] - 1s 331us/step - loss: 0.0129 - acc: 0.9960 - val_loss: 0.8929 - val_acc: 0.8988\n",
      "Epoch 48/50\n",
      "2000/2000 [==============================] - 1s 327us/step - loss: 0.0043 - acc: 0.9980 - val_loss: 0.9385 - val_acc: 0.8975\n",
      "Epoch 49/50\n",
      "2000/2000 [==============================] - 1s 334us/step - loss: 0.0075 - acc: 0.9970 - val_loss: 1.1146 - val_acc: 0.8862\n",
      "Epoch 50/50\n",
      "2000/2000 [==============================] - 1s 334us/step - loss: 0.0147 - acc: 0.9965 - val_loss: 1.0547 - val_acc: 0.8862\n",
      "CPU times: user 43.2 s, sys: 7.17 s, total: 50.4 s\n",
      "Wall time: 33.5 s\n"
     ]
    }
   ],
   "source": [
    "%%time\n",
    "training_log = last_layer_model.fit(train_data, train_labels,\n",
    "                     epochs=epochs,\n",
    "                     batch_size=batch_size,\n",
    "                     validation_data=(validation_data, validation_labels))"
   ]
  },
  {
   "cell_type": "code",
   "execution_count": 13,
   "metadata": {},
   "outputs": [
    {
     "data": {
      "image/png": "[encoded data removed]",
      "text/plain": [
       "<Figure size 432x288 with 1 Axes>"
      ]
     },
     "metadata": {},
     "output_type": "display_data"
    },
    {
     "data": {
      "image/png": "[encoded data removed]",
      "text/plain": [
       "<Figure size 432x288 with 1 Axes>"
      ]
     },
     "metadata": {},
     "output_type": "display_data"
    }
   ],
   "source": [
    "acc = training_log.history['acc']\n",
    "val_acc = training_log.history['val_acc']\n",
    "loss = training_log.history['loss']\n",
    "val_loss = training_log.history['val_loss']\n",
    " \n",
    "epochs_plt = range(len(acc))\n",
    " \n",
    "plt.plot(epochs_plt, acc, 'b', label='Training acc')\n",
    "plt.plot(epochs_plt, val_acc, 'r', label='Validation acc')\n",
    "plt.title('Training and validation accuracy')\n",
    "plt.legend()\n",
    " \n",
    "plt.figure()\n",
    " \n",
    "plt.plot(epochs_plt, loss, 'b', label='Training loss')\n",
    "plt.plot(epochs_plt, val_loss, 'r', label='Validation loss')\n",
    "plt.title('Training and validation loss')\n",
    "plt.legend()\n",
    " \n",
    "plt.show()"
   ]
  },
  {
   "cell_type": "markdown",
   "metadata": {
    "heading_collapsed": true
   },
   "source": [
    "## Save model"
   ]
  },
  {
   "cell_type": "markdown",
   "metadata": {
    "hidden": true
   },
   "source": [
    "### Save as full model"
   ]
  },
  {
   "cell_type": "code",
   "execution_count": 14,
   "metadata": {
    "hidden": true
   },
   "outputs": [],
   "source": [
    "os.makedirs(f'{PATH}models/', exist_ok=True)"
   ]
  },
  {
   "cell_type": "code",
   "execution_count": 15,
   "metadata": {
    "hidden": true
   },
   "outputs": [],
   "source": [
    "last_layer_model.save(f'{PATH}/models/vgg16a_bottleneck_fc_model.h5') # no need to save VGG16"
   ]
  },
  {
   "cell_type": "markdown",
   "metadata": {
    "hidden": true
   },
   "source": [
    "### Save as architecture definition (json) + weights value"
   ]
  },
  {
   "cell_type": "code",
   "execution_count": 16,
   "metadata": {
    "hidden": true
   },
   "outputs": [],
   "source": [
    "model_json = last_layer_model.to_json()\n",
    "\n",
    "with open(f'{PATH}/models/vgg16a_bottleneck_fc_arch.json', 'w') as json_file:\n",
    "    json_file.write(model_json)\n",
    "    \n",
    "last_layer_model.save_weights(f'{PATH}/models/vgg16a_bottleneck_fc_weights.h5')"
   ]
  },
  {
   "cell_type": "markdown",
   "metadata": {
    "heading_collapsed": true
   },
   "source": [
    "## Load model to predict test data"
   ]
  },
  {
   "cell_type": "code",
   "execution_count": 17,
   "metadata": {
    "hidden": true
   },
   "outputs": [],
   "source": [
    "test_base_model = applications.VGG16(include_top=False, weights='imagenet', input_shape=input_shape)"
   ]
  },
  {
   "cell_type": "code",
   "execution_count": 18,
   "metadata": {
    "hidden": true
   },
   "outputs": [],
   "source": [
    "# both options should return the same model but we may want to \n",
    "# change the weights using those obtained from training\n",
    "load_from_model_file = False\n",
    "\n",
    "if load_from_model_file:\n",
    "    test_last_layer_model = load_model(f'{PATH}/models/vgg16a_bottleneck_fc_model.h5')\n",
    "else:\n",
    "    json_file = open(f'{PATH}/models/vgg16a_bottleneck_fc_arch.json', 'r')\n",
    "    loaded_model_json = json_file.read()\n",
    "    json_file.close()\n",
    "    test_last_layer_model = model_from_json(loaded_model_json)\n",
    "\n",
    "    test_last_layer_model.load_weights(f'{PATH}/models/vgg16a_bottleneck_fc_weights.h5')"
   ]
  },
  {
   "cell_type": "markdown",
   "metadata": {
    "heading_collapsed": true
   },
   "source": [
    "## Predict on single image"
   ]
  },
  {
   "cell_type": "code",
   "execution_count": 19,
   "metadata": {
    "hidden": true
   },
   "outputs": [
    {
     "name": "stdout",
     "output_type": "stream",
     "text": [
      "data/dogscats_small/validation/dogs/dog.1315.jpg\n"
     ]
    },
    {
     "data": {
      "image/png": "[encoded data removed]",
      "text/plain": [
       "<PIL.Image.Image image mode=RGB size=150x150 at 0x7F2CBEA90BA8>"
      ]
     },
     "execution_count": 19,
     "metadata": {},
     "output_type": "execute_result"
    }
   ],
   "source": [
    "rand_img_path, rand_img = get_rand_image()\n",
    "rand_dog_cat = 'dog' if 'validation/dogs' in rand_img_path else 'cat'\n",
    "\n",
    "print(rand_img_path)\n",
    "rand_img"
   ]
  },
  {
   "cell_type": "code",
   "execution_count": 20,
   "metadata": {
    "hidden": true
   },
   "outputs": [],
   "source": [
    "x_test = image.img_to_array(rand_img)\n",
    "x_test = x_test/255.0 # scaling as we have done in validation_datagen\n",
    "x_test = np.expand_dims(x_test, axis=0) # increase dimension so that can be fed into model"
   ]
  },
  {
   "cell_type": "code",
   "execution_count": 21,
   "metadata": {
    "hidden": true
   },
   "outputs": [],
   "source": [
    "bottleneck_features = test_base_model.predict(x_test)"
   ]
  },
  {
   "cell_type": "code",
   "execution_count": 22,
   "metadata": {
    "hidden": true
   },
   "outputs": [
    {
     "data": {
      "text/plain": [
       "(1, 1.0, 1.0)"
      ]
     },
     "execution_count": 22,
     "metadata": {},
     "output_type": "execute_result"
    }
   ],
   "source": [
    "pred = np.asscalar(np.squeeze(test_last_layer_model.predict_classes(bottleneck_features)))\n",
    "prob = np.asscalar(np.squeeze(test_last_layer_model.predict_proba(bottleneck_features)))\n",
    "prob2 = np.asscalar(np.squeeze(test_last_layer_model.predict_proba(bottleneck_features)))\n",
    "pred,prob, prob2"
   ]
  },
  {
   "cell_type": "code",
   "execution_count": 23,
   "metadata": {
    "hidden": true
   },
   "outputs": [
    {
     "name": "stdout",
     "output_type": "stream",
     "text": [
      "The model is 100.0% sure this is a dog\n"
     ]
    }
   ],
   "source": [
    "res = 'dog' if pred==1 else 'cat'\n",
    "pct = round(prob*100,2)\n",
    "if res is 'cat':\n",
    "    pct = 100 - pct \n",
    "\n",
    "print('The model is ' + str(pct) + '% sure this is a ' + res)"
   ]
  },
  {
   "cell_type": "markdown",
   "metadata": {},
   "source": [
    "## Predict on batch of test images"
   ]
  },
  {
   "cell_type": "markdown",
   "metadata": {},
   "source": [
    "Unlike validation data, these are never seen or tested before"
   ]
  },
  {
   "cell_type": "code",
   "execution_count": 24,
   "metadata": {},
   "outputs": [],
   "source": [
    "def predict(data_dir, base_model, last_layer_model):\n",
    "    preds = []\n",
    "    \n",
    "    for fn in os.listdir(data_dir):\n",
    "        img = load_img(data_dir+fn, target_size=(img_width,img_height))\n",
    "        x = img_to_array(img)\n",
    "        x = x/255.0\n",
    "        x = np.expand_dims(x, axis=0)\n",
    "        \n",
    "        features = base_model.predict(x)\n",
    "        \n",
    "        pred = np.asscalar(np.squeeze(last_layer_model.predict_classes(features)))\n",
    "        preds.append(pred)\n",
    "        \n",
    "    return np.array(preds)"
   ]
  },
  {
   "cell_type": "code",
   "execution_count": 25,
   "metadata": {},
   "outputs": [],
   "source": [
    "dog_test_dir = f\"{test_data_dir}dogs/\"\n",
    "cat_test_dir = f\"{test_data_dir}cats/\""
   ]
  },
  {
   "cell_type": "code",
   "execution_count": 26,
   "metadata": {},
   "outputs": [],
   "source": [
    "pred_dogs = predict(dog_test_dir, test_base_model, test_last_layer_model)"
   ]
  },
  {
   "cell_type": "code",
   "execution_count": 27,
   "metadata": {},
   "outputs": [],
   "source": [
    "pred_cats = predict(cat_test_dir, test_base_model, test_last_layer_model)"
   ]
  },
  {
   "cell_type": "code",
   "execution_count": 28,
   "metadata": {},
   "outputs": [
    {
     "name": "stdout",
     "output_type": "stream",
     "text": [
      "Cat Prediction Accuracy: 91.60%\n",
      "Dog Prediction Accuracy: 84.50%\n"
     ]
    }
   ],
   "source": [
    "cat_acc = (1-pred_cats.mean())*100\n",
    "dog_acc = pred_dogs.mean()*100\n",
    "\n",
    "print(f'Cat Prediction Accuracy: {cat_acc:.2f}%\\nDog Prediction Accuracy: {dog_acc:.2f}%')"
   ]
  },
  {
   "cell_type": "markdown",
   "metadata": {},
   "source": [
    "Compared the results above to baseline model:\n",
    "\n",
    "    - Cat Prediction Accuracy: 77.70%\n",
    "    - Dog Prediction Accuracy: 81.80%"
   ]
  },
  {
   "cell_type": "markdown",
   "metadata": {},
   "source": [
    "## Fine-tuning"
   ]
  },
  {
   "cell_type": "markdown",
   "metadata": {},
   "source": [
    "### Setup base and last layer models and combine them"
   ]
  },
  {
   "cell_type": "code",
   "execution_count": 21,
   "metadata": {},
   "outputs": [],
   "source": [
    "tune_base_model = applications.VGG16(include_top=False, weights='imagenet', input_shape=input_shape)"
   ]
  },
  {
   "cell_type": "code",
   "execution_count": 22,
   "metadata": {},
   "outputs": [],
   "source": [
    "x = tune_base_model.output\n",
    "x = Flatten()(x)\n",
    "x = Dense(256, activation='relu')(x)\n",
    "x = Dense(1024, activation='relu')(x)\n",
    "x = Dropout(0.5)(x)\n",
    "x = Dense(1, activation='sigmoid')(x)"
   ]
  },
  {
   "cell_type": "code",
   "execution_count": 30,
   "metadata": {},
   "outputs": [],
   "source": [
    "# # both options should return the same model but we may want to \n",
    "# # change the weights using those obtained from training\n",
    "# load_from_model_file = False\n",
    "\n",
    "# if load_from_model_file:\n",
    "#     tune_last_layer_model = load_model(f'{PATH}/models/vgg16_bottleneck_fc_model.h5')\n",
    "# else:\n",
    "#     json_file = open(f'{PATH}/models/vgg16_bottleneck_fc_arch.json', 'r')\n",
    "#     loaded_model_json = json_file.read()\n",
    "#     json_file.close()\n",
    "#     tune_last_layer_model = model_from_json(loaded_model_json)\n",
    "\n",
    "#     tune_last_layer_model.load_weights(f'{PATH}/models/vgg16_bottleneck_fc_weights.h5')"
   ]
  },
  {
   "cell_type": "code",
   "execution_count": 14,
   "metadata": {},
   "outputs": [],
   "source": [
    "# x = tune_base_model.output\n",
    "# x = tune_last_layer_model(x)"
   ]
  },
  {
   "cell_type": "code",
   "execution_count": 23,
   "metadata": {},
   "outputs": [],
   "source": [
    "tune_final_model = Model(inputs=tune_base_model.input, outputs=x)"
   ]
  },
  {
   "cell_type": "code",
   "execution_count": 24,
   "metadata": {},
   "outputs": [],
   "source": [
    "# Freeze the first 5 layers, train the rest\n",
    "for layer in tune_final_model.layers[:5]:\n",
    "    layer.trainable = False"
   ]
  },
  {
   "cell_type": "code",
   "execution_count": 25,
   "metadata": {},
   "outputs": [],
   "source": [
    "# Compile the model with a SGD/momentum optimizer\n",
    "# and a very slow learning rate.\n",
    "tune_final_model.compile(loss='binary_crossentropy',\n",
    "                       optimizer=optimizers.SGD(lr=1e-4, momentum=0.9),\n",
    "                       metrics=['accuracy'])"
   ]
  },
  {
   "cell_type": "code",
   "execution_count": 26,
   "metadata": {},
   "outputs": [],
   "source": [
    "# prepare data augmentation configuration\n",
    "train_datagen = ImageDataGenerator(rescale=1./255,\n",
    "                                   shear_range=0.2,\n",
    "                                   zoom_range=0.2,\n",
    "                                   horizontal_flip=True)\n",
    "\n",
    "validation_datagen = ImageDataGenerator(rescale=1./255,\n",
    "                                   shear_range=0.2,\n",
    "                                   zoom_range=0.2,\n",
    "                                   horizontal_flip=True)"
   ]
  },
  {
   "cell_type": "code",
   "execution_count": 27,
   "metadata": {},
   "outputs": [
    {
     "name": "stdout",
     "output_type": "stream",
     "text": [
      "Found 2000 images belonging to 2 classes.\n",
      "Found 800 images belonging to 2 classes.\n"
     ]
    }
   ],
   "source": [
    "train_generator = train_datagen.flow_from_directory(train_data_dir,\n",
    "                                                    target_size=(img_height, img_width),\n",
    "                                                    batch_size=batch_size,\n",
    "                                                    class_mode='binary')\n",
    "\n",
    "validation_generator = validation_datagen.flow_from_directory(validation_data_dir,\n",
    "                                                              target_size=(img_height, img_width),\n",
    "                                                              batch_size=batch_size,\n",
    "                                                              class_mode='binary')"
   ]
  },
  {
   "cell_type": "markdown",
   "metadata": {},
   "source": [
    "### Train the model using last layer with trained weights"
   ]
  },
  {
   "cell_type": "code",
   "execution_count": 37,
   "metadata": {
    "collapsed": true
   },
   "outputs": [
    {
     "name": "stdout",
     "output_type": "stream",
     "text": [
      "Epoch 1/50\n",
      "125/125 [==============================] - 36s 291ms/step - loss: 0.6144 - acc: 0.8560 - val_loss: 0.3211 - val_acc: 0.8800\n",
      "Epoch 2/50\n",
      "125/125 [==============================] - 33s 266ms/step - loss: 0.2344 - acc: 0.9235 - val_loss: 0.1581 - val_acc: 0.9337\n",
      "Epoch 3/50\n",
      "125/125 [==============================] - 34s 270ms/step - loss: 0.1753 - acc: 0.9405 - val_loss: 0.1428 - val_acc: 0.9463\n",
      "Epoch 4/50\n",
      "125/125 [==============================] - 34s 271ms/step - loss: 0.0924 - acc: 0.9635 - val_loss: 0.2001 - val_acc: 0.9213\n",
      "Epoch 5/50\n",
      "125/125 [==============================] - 33s 266ms/step - loss: 0.0799 - acc: 0.9715 - val_loss: 0.1718 - val_acc: 0.9400\n",
      "Epoch 6/50\n",
      "125/125 [==============================] - 33s 266ms/step - loss: 0.0531 - acc: 0.9795 - val_loss: 0.1338 - val_acc: 0.9475\n",
      "Epoch 7/50\n",
      "125/125 [==============================] - 33s 267ms/step - loss: 0.0562 - acc: 0.9810 - val_loss: 0.1114 - val_acc: 0.9625\n",
      "Epoch 8/50\n",
      "125/125 [==============================] - 34s 269ms/step - loss: 0.0423 - acc: 0.9860 - val_loss: 0.1252 - val_acc: 0.9550\n",
      "Epoch 9/50\n",
      "125/125 [==============================] - 33s 267ms/step - loss: 0.0247 - acc: 0.9910 - val_loss: 0.1683 - val_acc: 0.9463\n",
      "Epoch 10/50\n",
      "125/125 [==============================] - 34s 272ms/step - loss: 0.0523 - acc: 0.9825 - val_loss: 0.1262 - val_acc: 0.9550\n",
      "Epoch 11/50\n",
      "125/125 [==============================] - 34s 270ms/step - loss: 0.0229 - acc: 0.9920 - val_loss: 0.1279 - val_acc: 0.9600\n",
      "Epoch 12/50\n",
      "125/125 [==============================] - 34s 270ms/step - loss: 0.0205 - acc: 0.9920 - val_loss: 0.1493 - val_acc: 0.9600\n",
      "Epoch 13/50\n",
      "125/125 [==============================] - 33s 267ms/step - loss: 0.0208 - acc: 0.9935 - val_loss: 0.1332 - val_acc: 0.9600\n",
      "Epoch 14/50\n",
      "125/125 [==============================] - 33s 265ms/step - loss: 0.0135 - acc: 0.9980 - val_loss: 0.1533 - val_acc: 0.9575\n",
      "Epoch 15/50\n",
      "125/125 [==============================] - 33s 268ms/step - loss: 0.0105 - acc: 0.9975 - val_loss: 0.1404 - val_acc: 0.9613\n",
      "Epoch 16/50\n",
      "125/125 [==============================] - 34s 270ms/step - loss: 0.0121 - acc: 0.9960 - val_loss: 0.1453 - val_acc: 0.9537\n",
      "Epoch 17/50\n",
      "125/125 [==============================] - 34s 272ms/step - loss: 0.0084 - acc: 0.9970 - val_loss: 0.1309 - val_acc: 0.9637\n",
      "Epoch 18/50\n",
      "125/125 [==============================] - 33s 266ms/step - loss: 0.0148 - acc: 0.9940 - val_loss: 0.1775 - val_acc: 0.9525\n",
      "Epoch 19/50\n",
      "125/125 [==============================] - 34s 269ms/step - loss: 0.0134 - acc: 0.9955 - val_loss: 0.1178 - val_acc: 0.9663\n",
      "Epoch 20/50\n",
      "125/125 [==============================] - 34s 268ms/step - loss: 0.0057 - acc: 0.9980 - val_loss: 0.1365 - val_acc: 0.9600\n",
      "Epoch 21/50\n",
      "125/125 [==============================] - 34s 270ms/step - loss: 0.0233 - acc: 0.9935 - val_loss: 0.1887 - val_acc: 0.9463\n",
      "Epoch 22/50\n",
      "125/125 [==============================] - 33s 266ms/step - loss: 0.0046 - acc: 0.9985 - val_loss: 0.1566 - val_acc: 0.9537\n",
      "Epoch 23/50\n",
      "125/125 [==============================] - 34s 270ms/step - loss: 0.0073 - acc: 0.9975 - val_loss: 0.1231 - val_acc: 0.9650\n",
      "Epoch 24/50\n",
      "125/125 [==============================] - 33s 266ms/step - loss: 0.0088 - acc: 0.9975 - val_loss: 0.1011 - val_acc: 0.9688\n",
      "Epoch 25/50\n",
      "125/125 [==============================] - 34s 271ms/step - loss: 0.0041 - acc: 0.9985 - val_loss: 0.1545 - val_acc: 0.9575\n",
      "Epoch 26/50\n",
      "125/125 [==============================] - 34s 269ms/step - loss: 0.0028 - acc: 1.0000 - val_loss: 0.1660 - val_acc: 0.9563\n",
      "Epoch 27/50\n",
      "125/125 [==============================] - 34s 270ms/step - loss: 0.0050 - acc: 0.9980 - val_loss: 0.1513 - val_acc: 0.9575\n",
      "Epoch 28/50\n",
      "125/125 [==============================] - 34s 270ms/step - loss: 0.0030 - acc: 0.9995 - val_loss: 0.1318 - val_acc: 0.9600\n",
      "Epoch 29/50\n",
      "125/125 [==============================] - 33s 267ms/step - loss: 0.0020 - acc: 0.9995 - val_loss: 0.1438 - val_acc: 0.9563\n",
      "Epoch 30/50\n",
      "125/125 [==============================] - 34s 271ms/step - loss: 0.0032 - acc: 0.9990 - val_loss: 0.1250 - val_acc: 0.9688\n",
      "Epoch 31/50\n",
      "125/125 [==============================] - 33s 266ms/step - loss: 0.0023 - acc: 0.9990 - val_loss: 0.1554 - val_acc: 0.9600\n",
      "Epoch 32/50\n",
      "125/125 [==============================] - 34s 272ms/step - loss: 8.7430e-04 - acc: 1.0000 - val_loss: 0.1537 - val_acc: 0.9587\n",
      "Epoch 33/50\n",
      "125/125 [==============================] - 34s 268ms/step - loss: 0.0016 - acc: 0.9995 - val_loss: 0.1572 - val_acc: 0.9625\n",
      "Epoch 34/50\n",
      "125/125 [==============================] - 34s 268ms/step - loss: 0.0046 - acc: 0.9975 - val_loss: 0.1619 - val_acc: 0.9587\n",
      "Epoch 35/50\n",
      "125/125 [==============================] - 34s 270ms/step - loss: 0.0020 - acc: 0.9995 - val_loss: 0.1590 - val_acc: 0.9663\n",
      "Epoch 36/50\n",
      "125/125 [==============================] - 33s 267ms/step - loss: 0.0019 - acc: 1.0000 - val_loss: 0.1525 - val_acc: 0.9650\n",
      "Epoch 37/50\n",
      "125/125 [==============================] - 34s 272ms/step - loss: 0.0015 - acc: 0.9995 - val_loss: 0.1546 - val_acc: 0.9663\n",
      "Epoch 38/50\n",
      "125/125 [==============================] - 33s 266ms/step - loss: 5.4969e-04 - acc: 1.0000 - val_loss: 0.1399 - val_acc: 0.9637\n",
      "Epoch 39/50\n",
      "125/125 [==============================] - 34s 270ms/step - loss: 4.6835e-04 - acc: 1.0000 - val_loss: 0.1750 - val_acc: 0.9587\n",
      "Epoch 40/50\n",
      "125/125 [==============================] - 34s 269ms/step - loss: 6.7095e-04 - acc: 1.0000 - val_loss: 0.1922 - val_acc: 0.9563\n",
      "Epoch 41/50\n",
      "125/125 [==============================] - 34s 269ms/step - loss: 8.7962e-04 - acc: 1.0000 - val_loss: 0.1514 - val_acc: 0.9637\n",
      "Epoch 42/50\n",
      "125/125 [==============================] - 33s 265ms/step - loss: 0.0012 - acc: 0.9995 - val_loss: 0.1725 - val_acc: 0.9587\n",
      "Epoch 43/50\n",
      "125/125 [==============================] - 33s 266ms/step - loss: 0.0011 - acc: 0.9995 - val_loss: 0.1354 - val_acc: 0.9688\n",
      "Epoch 44/50\n",
      "125/125 [==============================] - 34s 268ms/step - loss: 0.0019 - acc: 0.9995 - val_loss: 0.1443 - val_acc: 0.9650\n",
      "Epoch 45/50\n",
      "125/125 [==============================] - 33s 265ms/step - loss: 9.6052e-04 - acc: 1.0000 - val_loss: 0.1429 - val_acc: 0.9688\n",
      "Epoch 46/50\n",
      "125/125 [==============================] - 33s 266ms/step - loss: 4.0154e-04 - acc: 1.0000 - val_loss: 0.1390 - val_acc: 0.9725\n",
      "Epoch 47/50\n",
      "125/125 [==============================] - 33s 267ms/step - loss: 3.9535e-04 - acc: 1.0000 - val_loss: 0.1456 - val_acc: 0.9712\n",
      "Epoch 48/50\n",
      "125/125 [==============================] - 33s 268ms/step - loss: 9.5401e-04 - acc: 0.9995 - val_loss: 0.1409 - val_acc: 0.9688\n",
      "Epoch 49/50\n",
      "125/125 [==============================] - 33s 266ms/step - loss: 0.0049 - acc: 0.9980 - val_loss: 0.2400 - val_acc: 0.9475\n",
      "Epoch 50/50\n",
      "125/125 [==============================] - 33s 266ms/step - loss: 0.0053 - acc: 0.9985 - val_loss: 0.1642 - val_acc: 0.9563\n",
      "CPU times: user 40min 8s, sys: 3min 53s, total: 44min 2s\n",
      "Wall time: 27min 59s\n"
     ]
    },
    {
     "data": {
      "text/plain": [
       "<tensorflow.python.keras.callbacks.History at 0x7f2cbea970f0>"
      ]
     },
     "execution_count": 37,
     "metadata": {},
     "output_type": "execute_result"
    }
   ],
   "source": [
    "%%time\n",
    "tune_training_log = tune_final_model.fit_generator(train_generator,\n",
    "                             steps_per_epoch=nb_train_samples // batch_size,\n",
    "                             epochs=epochs,\n",
    "                             validation_data=validation_generator,\n",
    "                             validation_steps=nb_validation_samples // batch_size)"
   ]
  },
  {
   "cell_type": "markdown",
   "metadata": {},
   "source": [
    "### Train the model using last layer without trained weights"
   ]
  },
  {
   "cell_type": "code",
   "execution_count": 28,
   "metadata": {
    "collapsed": true
   },
   "outputs": [
    {
     "name": "stdout",
     "output_type": "stream",
     "text": [
      "Epoch 1/50\n",
      "125/125 [==============================] - 38s 303ms/step - loss: 0.6179 - acc: 0.6640 - val_loss: 0.4662 - val_acc: 0.8250\n",
      "Epoch 2/50\n",
      "125/125 [==============================] - 33s 267ms/step - loss: 0.3839 - acc: 0.8470 - val_loss: 0.2822 - val_acc: 0.9000\n",
      "Epoch 3/50\n",
      "125/125 [==============================] - 34s 270ms/step - loss: 0.2659 - acc: 0.8920 - val_loss: 0.3519 - val_acc: 0.8337\n",
      "Epoch 4/50\n",
      "125/125 [==============================] - 34s 271ms/step - loss: 0.2317 - acc: 0.9050 - val_loss: 0.1924 - val_acc: 0.9313\n",
      "Epoch 5/50\n",
      "125/125 [==============================] - 34s 275ms/step - loss: 0.1720 - acc: 0.9335 - val_loss: 0.1524 - val_acc: 0.9363\n",
      "Epoch 6/50\n",
      "125/125 [==============================] - 34s 270ms/step - loss: 0.1731 - acc: 0.9360 - val_loss: 0.1608 - val_acc: 0.9363\n",
      "Epoch 7/50\n",
      "125/125 [==============================] - 34s 271ms/step - loss: 0.1500 - acc: 0.9395 - val_loss: 0.1781 - val_acc: 0.9237\n",
      "Epoch 8/50\n",
      "125/125 [==============================] - 34s 270ms/step - loss: 0.1130 - acc: 0.9590 - val_loss: 0.1400 - val_acc: 0.9387\n",
      "Epoch 9/50\n",
      "125/125 [==============================] - 34s 272ms/step - loss: 0.1002 - acc: 0.9640 - val_loss: 0.1208 - val_acc: 0.9500\n",
      "Epoch 10/50\n",
      "125/125 [==============================] - 34s 272ms/step - loss: 0.0854 - acc: 0.9670 - val_loss: 0.1320 - val_acc: 0.9450\n",
      "Epoch 11/50\n",
      "125/125 [==============================] - 34s 268ms/step - loss: 0.0673 - acc: 0.9745 - val_loss: 0.1534 - val_acc: 0.9400\n",
      "Epoch 12/50\n",
      "125/125 [==============================] - 34s 271ms/step - loss: 0.0768 - acc: 0.9715 - val_loss: 0.1343 - val_acc: 0.9463\n",
      "Epoch 13/50\n",
      "125/125 [==============================] - 34s 270ms/step - loss: 0.0719 - acc: 0.9730 - val_loss: 0.1837 - val_acc: 0.9363\n",
      "Epoch 14/50\n",
      "125/125 [==============================] - 34s 270ms/step - loss: 0.0710 - acc: 0.9765 - val_loss: 0.1348 - val_acc: 0.9487\n",
      "Epoch 15/50\n",
      "125/125 [==============================] - 34s 269ms/step - loss: 0.0465 - acc: 0.9815 - val_loss: 0.1853 - val_acc: 0.9375\n",
      "Epoch 16/50\n",
      "125/125 [==============================] - 34s 269ms/step - loss: 0.0367 - acc: 0.9860 - val_loss: 0.1294 - val_acc: 0.9525\n",
      "Epoch 17/50\n",
      "125/125 [==============================] - 34s 271ms/step - loss: 0.0403 - acc: 0.9865 - val_loss: 0.1775 - val_acc: 0.9313\n",
      "Epoch 18/50\n",
      "125/125 [==============================] - 34s 269ms/step - loss: 0.0310 - acc: 0.9915 - val_loss: 0.1366 - val_acc: 0.9550\n",
      "Epoch 19/50\n",
      "125/125 [==============================] - 34s 270ms/step - loss: 0.0276 - acc: 0.9950 - val_loss: 0.1503 - val_acc: 0.9475\n",
      "Epoch 20/50\n",
      "125/125 [==============================] - 34s 269ms/step - loss: 0.0272 - acc: 0.9905 - val_loss: 0.1362 - val_acc: 0.9537\n",
      "Epoch 21/50\n",
      "125/125 [==============================] - 34s 270ms/step - loss: 0.0280 - acc: 0.9905 - val_loss: 0.1804 - val_acc: 0.9300\n",
      "Epoch 22/50\n",
      "125/125 [==============================] - 34s 269ms/step - loss: 0.0235 - acc: 0.9920 - val_loss: 0.1379 - val_acc: 0.9563\n",
      "Epoch 23/50\n",
      "125/125 [==============================] - 34s 271ms/step - loss: 0.0132 - acc: 0.9950 - val_loss: 0.1479 - val_acc: 0.9550\n",
      "Epoch 24/50\n",
      "125/125 [==============================] - 34s 269ms/step - loss: 0.0229 - acc: 0.9925 - val_loss: 0.1342 - val_acc: 0.9550\n",
      "Epoch 25/50\n",
      "125/125 [==============================] - 34s 270ms/step - loss: 0.0147 - acc: 0.9965 - val_loss: 0.1615 - val_acc: 0.9463\n",
      "Epoch 26/50\n",
      "125/125 [==============================] - 34s 272ms/step - loss: 0.0125 - acc: 0.9965 - val_loss: 0.1533 - val_acc: 0.9550\n",
      "Epoch 27/50\n",
      "125/125 [==============================] - 34s 270ms/step - loss: 0.0199 - acc: 0.9940 - val_loss: 0.1332 - val_acc: 0.9563\n",
      "Epoch 28/50\n",
      "125/125 [==============================] - 34s 270ms/step - loss: 0.0150 - acc: 0.9955 - val_loss: 0.1505 - val_acc: 0.9537\n",
      "Epoch 29/50\n",
      "125/125 [==============================] - 34s 272ms/step - loss: 0.0247 - acc: 0.9905 - val_loss: 0.1853 - val_acc: 0.9413\n",
      "Epoch 30/50\n",
      "125/125 [==============================] - 34s 270ms/step - loss: 0.0077 - acc: 0.9985 - val_loss: 0.1570 - val_acc: 0.9537\n",
      "Epoch 31/50\n",
      "125/125 [==============================] - 34s 269ms/step - loss: 0.0081 - acc: 0.9985 - val_loss: 0.1468 - val_acc: 0.9637\n",
      "Epoch 32/50\n",
      "125/125 [==============================] - 34s 271ms/step - loss: 0.0093 - acc: 0.9970 - val_loss: 0.1572 - val_acc: 0.9575\n",
      "Epoch 33/50\n",
      "125/125 [==============================] - 34s 271ms/step - loss: 0.0162 - acc: 0.9940 - val_loss: 0.1470 - val_acc: 0.9600\n",
      "Epoch 34/50\n",
      "125/125 [==============================] - 34s 269ms/step - loss: 0.0117 - acc: 0.9965 - val_loss: 0.1589 - val_acc: 0.9500\n",
      "Epoch 35/50\n",
      "125/125 [==============================] - 34s 270ms/step - loss: 0.0106 - acc: 0.9985 - val_loss: 0.1460 - val_acc: 0.9613\n",
      "Epoch 36/50\n",
      "125/125 [==============================] - 34s 269ms/step - loss: 0.0091 - acc: 0.9975 - val_loss: 0.1665 - val_acc: 0.9487\n",
      "Epoch 37/50\n",
      "125/125 [==============================] - 34s 272ms/step - loss: 0.0059 - acc: 0.9990 - val_loss: 0.1339 - val_acc: 0.9625\n",
      "Epoch 38/50\n",
      "125/125 [==============================] - 34s 269ms/step - loss: 0.0038 - acc: 0.9995 - val_loss: 0.1647 - val_acc: 0.9600\n",
      "Epoch 39/50\n",
      "125/125 [==============================] - 34s 268ms/step - loss: 0.0090 - acc: 0.9965 - val_loss: 0.1690 - val_acc: 0.9575\n",
      "Epoch 40/50\n",
      "125/125 [==============================] - 34s 271ms/step - loss: 0.0036 - acc: 0.9995 - val_loss: 0.1890 - val_acc: 0.9563\n",
      "Epoch 41/50\n",
      "125/125 [==============================] - 34s 269ms/step - loss: 0.0067 - acc: 0.9975 - val_loss: 0.1750 - val_acc: 0.9550\n",
      "Epoch 42/50\n",
      "125/125 [==============================] - 34s 269ms/step - loss: 0.0038 - acc: 0.9995 - val_loss: 0.1665 - val_acc: 0.9613\n",
      "Epoch 43/50\n",
      "125/125 [==============================] - 34s 271ms/step - loss: 0.0041 - acc: 0.9985 - val_loss: 0.1511 - val_acc: 0.9600\n",
      "Epoch 44/50\n",
      "125/125 [==============================] - 34s 269ms/step - loss: 0.0040 - acc: 0.9995 - val_loss: 0.1594 - val_acc: 0.9613\n",
      "Epoch 45/50\n",
      "125/125 [==============================] - 34s 269ms/step - loss: 0.0034 - acc: 0.9990 - val_loss: 0.1506 - val_acc: 0.9625\n",
      "Epoch 46/50\n",
      "125/125 [==============================] - 34s 270ms/step - loss: 0.0013 - acc: 1.0000 - val_loss: 0.1433 - val_acc: 0.9700\n",
      "Epoch 47/50\n",
      "125/125 [==============================] - 34s 268ms/step - loss: 0.0018 - acc: 1.0000 - val_loss: 0.1600 - val_acc: 0.9625\n",
      "Epoch 48/50\n",
      "125/125 [==============================] - 34s 269ms/step - loss: 0.0039 - acc: 0.9995 - val_loss: 0.1692 - val_acc: 0.9487\n",
      "Epoch 49/50\n",
      "125/125 [==============================] - 34s 268ms/step - loss: 0.0016 - acc: 1.0000 - val_loss: 0.1874 - val_acc: 0.9537\n",
      "Epoch 50/50\n",
      "125/125 [==============================] - 34s 270ms/step - loss: 0.0028 - acc: 0.9990 - val_loss: 0.1674 - val_acc: 0.9625\n",
      "CPU times: user 39min 32s, sys: 4min, total: 43min 32s\n",
      "Wall time: 28min 11s\n"
     ]
    },
    {
     "data": {
      "text/plain": [
       "<tensorflow.python.keras.callbacks.History at 0x7f55c5ca5eb8>"
      ]
     },
     "execution_count": 28,
     "metadata": {},
     "output_type": "execute_result"
    }
   ],
   "source": [
    "# using last layer without trained weights\n",
    "%%time\n",
    "tune_training_log = tune_final_model.fit_generator(train_generator,\n",
    "                             steps_per_epoch=nb_train_samples // batch_size,\n",
    "                             epochs=epochs,\n",
    "                             validation_data=validation_generator,\n",
    "                             validation_steps=nb_validation_samples // batch_size)"
   ]
  },
  {
   "cell_type": "markdown",
   "metadata": {},
   "source": [
    "### Assess the model by predict unseen test data"
   ]
  },
  {
   "cell_type": "code",
   "execution_count": 31,
   "metadata": {},
   "outputs": [],
   "source": [
    "def tuned_model_predict(data_dir, model):\n",
    "    preds = []\n",
    "    for fn in os.listdir(data_dir):\n",
    "        img = load_img(data_dir+fn, target_size=(img_width,img_height))\n",
    "        x = img_to_array(img)\n",
    "        x = x/255.0\n",
    "        x = np.expand_dims(x, axis=0)\n",
    "        \n",
    "        pred = np.asscalar(np.squeeze(model.predict(x)))\n",
    "        preds.append(pred)\n",
    "\n",
    "    return np.array(preds)"
   ]
  },
  {
   "cell_type": "code",
   "execution_count": 32,
   "metadata": {},
   "outputs": [],
   "source": [
    "dog_test_dir = f\"{test_data_dir}dogs/\"\n",
    "cat_test_dir = f\"{test_data_dir}cats/\"\n",
    "\n",
    "pred_dogs = tuned_model_predict(dog_test_dir, tune_final_model)\n",
    "pred_cats = tuned_model_predict(cat_test_dir, tune_final_model)"
   ]
  },
  {
   "cell_type": "code",
   "execution_count": 41,
   "metadata": {},
   "outputs": [
    {
     "name": "stdout",
     "output_type": "stream",
     "text": [
      "Cat Prediction Accuracy: 97.40%\n",
      "Dog Prediction Accuracy: 95.60%\n"
     ]
    }
   ],
   "source": [
    "cat_acc = len(pred_cats[pred_cats<0.5])/len(pred_cats) * 100\n",
    "dog_acc = len(pred_dogs[pred_dogs>=0.5])/len(pred_dogs) * 100\n",
    "\n",
    "print(f'Cat Prediction Accuracy: {cat_acc:.2f}%\\nDog Prediction Accuracy: {dog_acc:.2f}%')"
   ]
  },
  {
   "cell_type": "markdown",
   "metadata": {},
   "source": [
    "Compared to previous results:\n",
    "\n",
    "- Train only the last layer: \n",
    "    - Cat Prediction Accuracy: 91.60%\n",
    "    - Dog Prediction Accuracy: 84.50%\n",
    "\n",
    "- Baseline:\n",
    "    - Cat Prediction Accuracy: 77.70%\n",
    "    - Dog Prediction Accuracy: 81.80%"
   ]
  },
  {
   "cell_type": "markdown",
   "metadata": {},
   "source": [
    "Without trained weights"
   ]
  },
  {
   "cell_type": "code",
   "execution_count": 33,
   "metadata": {},
   "outputs": [
    {
     "name": "stdout",
     "output_type": "stream",
     "text": [
      "Cat Prediction Accuracy: 92.00%\n",
      "Dog Prediction Accuracy: 97.70%\n"
     ]
    }
   ],
   "source": [
    "cat_acc = len(pred_cats[pred_cats<0.5])/len(pred_cats) * 100\n",
    "dog_acc = len(pred_dogs[pred_dogs>=0.5])/len(pred_dogs) * 100\n",
    "\n",
    "print(f'Cat Prediction Accuracy: {cat_acc:.2f}%\\nDog Prediction Accuracy: {dog_acc:.2f}%')"
   ]
  },
  {
   "cell_type": "code",
   "execution_count": null,
   "metadata": {},
   "outputs": [],
   "source": []
  }
 ],
 "metadata": {
  "_draft": {
   "nbviewer_url": "https://gist.github.com/135ebf9ccb113b1af214bc2b3ed1c20e"
  },
  "gist": {
   "data": {
    "description": "keras_lesson1",
    "public": true
   },
   "id": "135ebf9ccb113b1af214bc2b3ed1c20e"
  },
  "kernelspec": {
   "display_name": "Python 3",
   "language": "python",
   "name": "python3"
  },
  "language_info": {
   "codemirror_mode": {
    "name": "ipython",
    "version": 3
   },
   "file_extension": ".py",
   "mimetype": "text/x-python",
   "name": "python",
   "nbconvert_exporter": "python",
   "pygments_lexer": "ipython3",
   "version": "3.6.5"
  },
  "toc": {
   "base_numbering": 1,
   "nav_menu": {
    "height": "266px",
    "width": "252px"
   },
   "number_sections": true,
   "sideBar": true,
   "skip_h1_title": false,
   "title_cell": "Table of Contents",
   "title_sidebar": "Contents",
   "toc_cell": false,
   "toc_position": {},
   "toc_section_display": "block",
   "toc_window_display": false
  }
 },
 "nbformat": 4,
 "nbformat_minor": 2
}
