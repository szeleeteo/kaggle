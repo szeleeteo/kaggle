{
 "cells": [
  {
   "cell_type": "markdown",
   "metadata": {},
   "source": [
    "# Dogs Vs Cats Classification using Tensorflow and Keras with Resnet50 Transfer Learning + Fine Tuning"
   ]
  },
  {
   "cell_type": "markdown",
   "metadata": {},
   "source": [
    "## Import Libraries"
   ]
  },
  {
   "cell_type": "code",
   "execution_count": 1,
   "metadata": {},
   "outputs": [],
   "source": [
    "%load_ext autoreload\n",
    "%autoreload 2\n",
    "%matplotlib inline"
   ]
  },
  {
   "cell_type": "code",
   "execution_count": 2,
   "metadata": {},
   "outputs": [],
   "source": [
    "import os\n",
    "import json\n",
    "import numpy as np\n",
    "import matplotlib.pyplot as plt\n",
    "\n",
    "import tensorflow as tf\n",
    "from tensorflow.keras.preprocessing import image\n",
    "from tensorflow.keras.preprocessing.image import ImageDataGenerator\n",
    "from tensorflow.keras.preprocessing.image import array_to_img, img_to_array, load_img\n",
    "from tensorflow.keras.models import load_model, model_from_json\n",
    "from tensorflow.keras.models import Sequential, Model\n",
    "from tensorflow.keras.layers import Conv2D, MaxPooling2D\n",
    "from tensorflow.keras.layers import Activation, Dropout, Flatten, Dense, GlobalAveragePooling2D\n",
    "from tensorflow.keras.callbacks import EarlyStopping, ModelCheckpoint\n",
    "from tensorflow.keras import applications, optimizers\n",
    "from tensorflow.keras import backend as K\n",
    "from tensorflow.keras.applications.resnet50 import preprocess_input"
   ]
  },
  {
   "cell_type": "markdown",
   "metadata": {},
   "source": [
    "## Define constants"
   ]
  },
  {
   "cell_type": "code",
   "execution_count": 3,
   "metadata": {},
   "outputs": [],
   "source": [
    "# dimensions of our images\n",
    "img_width, img_height = 224,224 # width and height should be no smaller than 197. 224 default values\n",
    "\n",
    "PATH = 'data/dogscats_small/'\n",
    "train_data_dir = f'{PATH}train/'\n",
    "validation_data_dir = f'{PATH}validation/'\n",
    "test_data_dir = f'{PATH}test/'\n",
    "epochs = 10\n",
    "batch_size = 64"
   ]
  },
  {
   "cell_type": "code",
   "execution_count": 4,
   "metadata": {},
   "outputs": [],
   "source": [
    "# value stored in /users/<user>/keras/.keras.json file\n",
    "# \"channels_last\" for tensorflow\n",
    "\n",
    "if K.image_data_format() == 'channels_first':\n",
    "    input_shape = (3, img_width, img_height)\n",
    "else:\n",
    "    input_shape = (img_width, img_height, 3)"
   ]
  },
  {
   "cell_type": "markdown",
   "metadata": {},
   "source": [
    "## Helper functions"
   ]
  },
  {
   "cell_type": "code",
   "execution_count": 5,
   "metadata": {},
   "outputs": [],
   "source": [
    "# ensure the child directories are non-empty and contain jpg files\n",
    "def rand_img_from_child_dirs(dir_path):\n",
    "    \n",
    "    dirs =  [directory for directory in os.listdir(dir_path) if os.path.isdir(os.path.join(dir_path,directory)) \n",
    "             and not directory.startswith('.')]\n",
    "    random_dir = np.random.choice(dirs)\n",
    "    random_dir_path = os.path.join(dir_path,random_dir)\n",
    "    files =  [file for file in os.listdir(random_dir_path) if file.endswith('.jpg')]\n",
    "    random_img = np.random.choice(files)\n",
    "\n",
    "    return os.path.join(random_dir_path,random_img)"
   ]
  },
  {
   "cell_type": "code",
   "execution_count": 6,
   "metadata": {},
   "outputs": [],
   "source": [
    "def plot_training_history(log):\n",
    "    acc = log.history['acc']\n",
    "    val_acc = log.history['val_acc']\n",
    "    loss = log.history['loss']\n",
    "    val_loss = log.history['val_loss']\n",
    "\n",
    "    epoch_range = range(len(acc))\n",
    "\n",
    "    plt.plot(epoch_range, acc, 'b', label='Training acc')\n",
    "    plt.plot(epoch_range, val_acc, 'r', label='Validation acc')\n",
    "    plt.title('Training and validation accuracy')\n",
    "    plt.legend()\n",
    "\n",
    "    plt.figure()\n",
    "\n",
    "    plt.plot(epoch_range, loss, 'b', label='Training loss')\n",
    "    plt.plot(epoch_range, val_loss, 'r', label='Validation loss')\n",
    "    plt.title('Training and validation loss')\n",
    "    plt.legend()\n",
    "\n",
    "    plt.show()"
   ]
  },
  {
   "cell_type": "code",
   "execution_count": 18,
   "metadata": {},
   "outputs": [],
   "source": [
    "def print_layer_trainable(model):\n",
    "    for layer in model.layers:\n",
    "        print(\"{0}:\\t{1}\".format(layer.trainable, layer.name))"
   ]
  },
  {
   "cell_type": "code",
   "execution_count": 29,
   "metadata": {},
   "outputs": [],
   "source": [
    "def model_predict(data_dir, model):\n",
    "    probs = []\n",
    "    for fn in os.listdir(data_dir):\n",
    "        img = load_img(data_dir+fn, target_size=(img_width,img_height))\n",
    "        x = img_to_array(img)\n",
    "        x = preprocess_input(x)\n",
    "        x = np.expand_dims(x, axis=0)\n",
    "        \n",
    "        prob = np.asscalar(np.squeeze(model.predict(x)))\n",
    "        probs.append(prob)\n",
    "\n",
    "    return np.array(probs)"
   ]
  },
  {
   "cell_type": "markdown",
   "metadata": {},
   "source": [
    "## Transfer Learning"
   ]
  },
  {
   "cell_type": "markdown",
   "metadata": {},
   "source": [
    "### Prepare Training Data"
   ]
  },
  {
   "cell_type": "code",
   "execution_count": 19,
   "metadata": {},
   "outputs": [],
   "source": [
    "train_datagen = ImageDataGenerator(preprocessing_function=preprocess_input,\n",
    "                                   shear_range=0.2, \n",
    "                                   zoom_range=0.2, \n",
    "                                   horizontal_flip=True)\n",
    "\n",
    "validation_datagen = ImageDataGenerator(preprocessing_function=preprocess_input)"
   ]
  },
  {
   "cell_type": "code",
   "execution_count": 20,
   "metadata": {},
   "outputs": [
    {
     "name": "stdout",
     "output_type": "stream",
     "text": [
      "Found 2000 images belonging to 2 classes.\n",
      "Found 800 images belonging to 2 classes.\n"
     ]
    }
   ],
   "source": [
    "train_generator = train_datagen.flow_from_directory(\n",
    "    train_data_dir,\n",
    "    target_size=(img_width, img_height),\n",
    "    batch_size=batch_size,\n",
    "    class_mode='binary',\n",
    "    shuffle=True)\n",
    "\n",
    "validation_generator = validation_datagen.flow_from_directory(\n",
    "    validation_data_dir,\n",
    "    target_size=(img_width, img_height),\n",
    "    batch_size=batch_size,\n",
    "    class_mode='binary',\n",
    "    shuffle=False)"
   ]
  },
  {
   "cell_type": "markdown",
   "metadata": {},
   "source": [
    "### Build pre-trained model (ResNet50)"
   ]
  },
  {
   "cell_type": "code",
   "execution_count": 10,
   "metadata": {},
   "outputs": [],
   "source": [
    "base_model = applications.ResNet50(weights='imagenet', include_top=False, input_shape=input_shape)\n",
    "x = base_model.output\n",
    "x = GlobalAveragePooling2D()(x)\n",
    "x = Dense(1024, activation='relu')(x)\n",
    "predictions = Dense(1, activation='sigmoid')(x)"
   ]
  },
  {
   "cell_type": "code",
   "execution_count": 11,
   "metadata": {},
   "outputs": [],
   "source": [
    "new_model = Model(inputs=base_model.input, outputs=predictions)\n",
    "for layer in base_model.layers: layer.trainable = False\n",
    "new_model.compile(optimizer='rmsprop', loss='binary_crossentropy', metrics=['accuracy'])"
   ]
  },
  {
   "cell_type": "code",
   "execution_count": 12,
   "metadata": {},
   "outputs": [
    {
     "name": "stdout",
     "output_type": "stream",
     "text": [
      "Epoch 1/10\n",
      "31/31 [==============================] - 29s 934ms/step - loss: 1.6514 - acc: 0.8018 - val_loss: 0.0487 - val_acc: 0.9805\n",
      "Epoch 2/10\n",
      "31/31 [==============================] - 23s 730ms/step - loss: 0.1621 - acc: 0.9420 - val_loss: 0.0420 - val_acc: 0.9857\n",
      "Epoch 3/10\n",
      "31/31 [==============================] - 23s 732ms/step - loss: 0.1357 - acc: 0.9517 - val_loss: 0.0443 - val_acc: 0.9870\n",
      "Epoch 4/10\n",
      "31/31 [==============================] - 23s 728ms/step - loss: 0.1535 - acc: 0.9526 - val_loss: 0.1098 - val_acc: 0.9661\n",
      "Epoch 5/10\n",
      "31/31 [==============================] - 23s 742ms/step - loss: 0.1336 - acc: 0.9567 - val_loss: 0.0569 - val_acc: 0.9805\n",
      "Epoch 6/10\n",
      "31/31 [==============================] - 22s 717ms/step - loss: 0.0697 - acc: 0.9748 - val_loss: 0.0526 - val_acc: 0.9818\n",
      "Epoch 7/10\n",
      "31/31 [==============================] - 23s 741ms/step - loss: 0.0855 - acc: 0.9793 - val_loss: 0.0643 - val_acc: 0.9831\n",
      "Epoch 8/10\n",
      "31/31 [==============================] - 23s 749ms/step - loss: 0.0785 - acc: 0.9793 - val_loss: 0.0598 - val_acc: 0.9857\n",
      "Epoch 9/10\n",
      "31/31 [==============================] - 23s 757ms/step - loss: 0.0570 - acc: 0.9803 - val_loss: 0.0693 - val_acc: 0.9818\n",
      "Epoch 10/10\n",
      "31/31 [==============================] - 23s 755ms/step - loss: 0.0527 - acc: 0.9828 - val_loss: 0.0950 - val_acc: 0.9805\n",
      "CPU times: user 10min 22s, sys: 36.9 s, total: 10min 59s\n",
      "Wall time: 3min 55s\n"
     ]
    }
   ],
   "source": [
    "%%time\n",
    "training_log = new_model.fit_generator(\n",
    "    train_generator,\n",
    "    steps_per_epoch=train_generator.n // batch_size,\n",
    "    epochs=epochs,\n",
    "    workers=4,\n",
    "    validation_data=validation_generator,\n",
    "    validation_steps=validation_generator.n // batch_size)"
   ]
  },
  {
   "cell_type": "code",
   "execution_count": 13,
   "metadata": {},
   "outputs": [
    {
     "data": {
      "image/png": "[encoded data removed]",
      "text/plain": [
       "<Figure size 432x288 with 1 Axes>"
      ]
     },
     "metadata": {},
     "output_type": "display_data"
    },
    {
     "data": {
      "image/png": "[encoded data removed]",
      "text/plain": [
       "<Figure size 432x288 with 1 Axes>"
      ]
     },
     "metadata": {},
     "output_type": "display_data"
    }
   ],
   "source": [
    "plot_training_history(training_log)"
   ]
  },
  {
   "cell_type": "markdown",
   "metadata": {},
   "source": [
    "### Save model"
   ]
  },
  {
   "cell_type": "markdown",
   "metadata": {},
   "source": [
    "#### Save as full model"
   ]
  },
  {
   "cell_type": "code",
   "execution_count": 14,
   "metadata": {},
   "outputs": [],
   "source": [
    "os.makedirs(f'{PATH}models/', exist_ok=True)"
   ]
  },
  {
   "cell_type": "code",
   "execution_count": 15,
   "metadata": {},
   "outputs": [],
   "source": [
    "new_model.save(f'{PATH}/models/rs50_bottleneck_fc_model.h5')"
   ]
  },
  {
   "cell_type": "markdown",
   "metadata": {},
   "source": [
    "#### Save as architecture definition (json) + weights value"
   ]
  },
  {
   "cell_type": "code",
   "execution_count": 16,
   "metadata": {},
   "outputs": [],
   "source": [
    "model_json = new_model.to_json()\n",
    "\n",
    "with open(f'{PATH}/models/rs50_bottleneck_fc_arch.json', 'w') as json_file:\n",
    "    json_file.write(model_json)\n",
    "    \n",
    "new_model.save_weights(f'{PATH}/models/rs50_bottleneck_fc_weights.h5')"
   ]
  },
  {
   "cell_type": "markdown",
   "metadata": {},
   "source": [
    "### Load model to predict test data"
   ]
  },
  {
   "cell_type": "code",
   "execution_count": 17,
   "metadata": {},
   "outputs": [],
   "source": [
    "# both options should return the same model but we may want to \n",
    "# change the weights using those obtained from training\n",
    "load_from_model_file = True\n",
    "\n",
    "if load_from_model_file:\n",
    "    test_model = load_model(f'{PATH}/models/rs50_bottleneck_fc_model.h5')\n",
    "else:\n",
    "    json_file = open(f'{PATH}/models/rs50_bottleneck_fc_arch.json', 'r')\n",
    "    loaded_model_json = json_file.read()\n",
    "    json_file.close()\n",
    "    test_model = model_from_json(loaded_model_json)\n",
    "\n",
    "    test_model.load_weights(f'{PATH}/models/rs50_bottleneck_fc_weights.h5')"
   ]
  },
  {
   "cell_type": "markdown",
   "metadata": {},
   "source": [
    "### Predict on single image"
   ]
  },
  {
   "cell_type": "code",
   "execution_count": 18,
   "metadata": {},
   "outputs": [
    {
     "name": "stdout",
     "output_type": "stream",
     "text": [
      "data/dogscats_small/validation/cats/cat.1038.jpg\n"
     ]
    },
    {
     "data": {
      "image/png": "[encoded data removed]",
      "text/plain": [
       "<PIL.Image.Image image mode=RGB size=224x224 at 0x7F27001C9748>"
      ]
     },
     "execution_count": 18,
     "metadata": {},
     "output_type": "execute_result"
    }
   ],
   "source": [
    "rand_img_path = rand_img_from_child_dirs(validation_data_dir)\n",
    "rand_img = image.load_img(rand_img_path, target_size=(img_width, img_height))    \n",
    "rand_dog_cat = 'dog' if 'validation/dogs' in rand_img_path else 'cat'\n",
    "\n",
    "print(rand_img_path)\n",
    "rand_img"
   ]
  },
  {
   "cell_type": "code",
   "execution_count": 19,
   "metadata": {},
   "outputs": [],
   "source": [
    "x_test = image.img_to_array(rand_img)\n",
    "x_test = preprocess_input(x_test)\n",
    "x_test = np.expand_dims(x_test, axis=0) # increase dimension so that can be fed into model"
   ]
  },
  {
   "cell_type": "code",
   "execution_count": 20,
   "metadata": {},
   "outputs": [
    {
     "data": {
      "text/plain": [
       "4.483455165286976e-13"
      ]
     },
     "execution_count": 20,
     "metadata": {},
     "output_type": "execute_result"
    }
   ],
   "source": [
    "prob = np.asscalar(np.squeeze(test_model.predict(x_test)))\n",
    "prob"
   ]
  },
  {
   "cell_type": "code",
   "execution_count": 21,
   "metadata": {},
   "outputs": [
    {
     "name": "stdout",
     "output_type": "stream",
     "text": [
      "The model is 100.0% sure this is a cat\n"
     ]
    }
   ],
   "source": [
    "res = 'dog' if prob>=0.5 else 'cat'\n",
    "pct = round(prob*100,2)\n",
    "if res is 'cat':\n",
    "    pct = 100 - pct \n",
    "\n",
    "print('The model is ' + str(pct) + '% sure this is a ' + res)"
   ]
  },
  {
   "cell_type": "markdown",
   "metadata": {},
   "source": [
    "### Predict on batch of test images"
   ]
  },
  {
   "cell_type": "markdown",
   "metadata": {},
   "source": [
    "Unlike validation data, these are never seen or tested before"
   ]
  },
  {
   "cell_type": "code",
   "execution_count": 32,
   "metadata": {},
   "outputs": [],
   "source": [
    "dog_test_dir = f\"{test_data_dir}dogs/\"\n",
    "cat_test_dir = f\"{test_data_dir}cats/\""
   ]
  },
  {
   "cell_type": "code",
   "execution_count": 25,
   "metadata": {},
   "outputs": [],
   "source": [
    "pred_dogs = model_predict(dog_test_dir, test_model)"
   ]
  },
  {
   "cell_type": "code",
   "execution_count": 26,
   "metadata": {},
   "outputs": [],
   "source": [
    "pred_cats = model_predict(cat_test_dir, test_model)"
   ]
  },
  {
   "cell_type": "code",
   "execution_count": 27,
   "metadata": {},
   "outputs": [
    {
     "name": "stdout",
     "output_type": "stream",
     "text": [
      "Cat Prediction Accuracy: 99.70%\n",
      "Dog Prediction Accuracy: 95.90%\n",
      "Overall Accuracy: 97.80%\n"
     ]
    }
   ],
   "source": [
    "cat_acc = len(pred_cats[pred_cats<0.5])/len(pred_cats) * 100\n",
    "dog_acc = len(pred_dogs[pred_dogs>=0.5])/len(pred_dogs) * 100\n",
    "overall_acc = (cat_acc+dog_acc)/2.0\n",
    "\n",
    "print(f'Cat Prediction Accuracy: {cat_acc:.2f}%\\nDog Prediction Accuracy: {dog_acc:.2f}%')\n",
    "print(f'Overall Accuracy: {overall_acc:.2f}%')"
   ]
  },
  {
   "cell_type": "markdown",
   "metadata": {},
   "source": [
    "## Fine-tuning"
   ]
  },
  {
   "cell_type": "code",
   "execution_count": 8,
   "metadata": {},
   "outputs": [
    {
     "name": "stdout",
     "output_type": "stream",
     "text": [
      "__________________________________________________________________________________________________\n",
      "Layer (type)                    Output Shape         Param #     Connected to                     \n",
      "==================================================================================================\n",
      "input_1 (InputLayer)            (None, 224, 224, 3)  0                                            \n",
      "__________________________________________________________________________________________________\n",
      "conv1 (Conv2D)                  (None, 112, 112, 64) 9472        input_1[0][0]                    \n",
      "__________________________________________________________________________________________________\n",
      "bn_conv1 (BatchNormalization)   (None, 112, 112, 64) 256         conv1[0][0]                      \n",
      "__________________________________________________________________________________________________\n",
      "activation (Activation)         (None, 112, 112, 64) 0           bn_conv1[0][0]                   \n",
      "__________________________________________________________________________________________________\n",
      "max_pooling2d (MaxPooling2D)    (None, 55, 55, 64)   0           activation[0][0]                 \n",
      "__________________________________________________________________________________________________\n",
      "res2a_branch2a (Conv2D)         (None, 55, 55, 64)   4160        max_pooling2d[0][0]              \n",
      "__________________________________________________________________________________________________\n",
      "bn2a_branch2a (BatchNormalizati (None, 55, 55, 64)   256         res2a_branch2a[0][0]             \n",
      "__________________________________________________________________________________________________\n",
      "activation_1 (Activation)       (None, 55, 55, 64)   0           bn2a_branch2a[0][0]              \n",
      "__________________________________________________________________________________________________\n",
      "res2a_branch2b (Conv2D)         (None, 55, 55, 64)   36928       activation_1[0][0]               \n",
      "__________________________________________________________________________________________________\n",
      "bn2a_branch2b (BatchNormalizati (None, 55, 55, 64)   256         res2a_branch2b[0][0]             \n",
      "__________________________________________________________________________________________________\n",
      "activation_2 (Activation)       (None, 55, 55, 64)   0           bn2a_branch2b[0][0]              \n",
      "__________________________________________________________________________________________________\n",
      "res2a_branch2c (Conv2D)         (None, 55, 55, 256)  16640       activation_2[0][0]               \n",
      "__________________________________________________________________________________________________\n",
      "res2a_branch1 (Conv2D)          (None, 55, 55, 256)  16640       max_pooling2d[0][0]              \n",
      "__________________________________________________________________________________________________\n",
      "bn2a_branch2c (BatchNormalizati (None, 55, 55, 256)  1024        res2a_branch2c[0][0]             \n",
      "__________________________________________________________________________________________________\n",
      "bn2a_branch1 (BatchNormalizatio (None, 55, 55, 256)  1024        res2a_branch1[0][0]              \n",
      "__________________________________________________________________________________________________\n",
      "add (Add)                       (None, 55, 55, 256)  0           bn2a_branch2c[0][0]              \n",
      "                                                                 bn2a_branch1[0][0]               \n",
      "__________________________________________________________________________________________________\n",
      "activation_3 (Activation)       (None, 55, 55, 256)  0           add[0][0]                        \n",
      "__________________________________________________________________________________________________\n",
      "res2b_branch2a (Conv2D)         (None, 55, 55, 64)   16448       activation_3[0][0]               \n",
      "__________________________________________________________________________________________________\n",
      "bn2b_branch2a (BatchNormalizati (None, 55, 55, 64)   256         res2b_branch2a[0][0]             \n",
      "__________________________________________________________________________________________________\n",
      "activation_4 (Activation)       (None, 55, 55, 64)   0           bn2b_branch2a[0][0]              \n",
      "__________________________________________________________________________________________________\n",
      "res2b_branch2b (Conv2D)         (None, 55, 55, 64)   36928       activation_4[0][0]               \n",
      "__________________________________________________________________________________________________\n",
      "bn2b_branch2b (BatchNormalizati (None, 55, 55, 64)   256         res2b_branch2b[0][0]             \n",
      "__________________________________________________________________________________________________\n",
      "activation_5 (Activation)       (None, 55, 55, 64)   0           bn2b_branch2b[0][0]              \n",
      "__________________________________________________________________________________________________\n",
      "res2b_branch2c (Conv2D)         (None, 55, 55, 256)  16640       activation_5[0][0]               \n",
      "__________________________________________________________________________________________________\n",
      "bn2b_branch2c (BatchNormalizati (None, 55, 55, 256)  1024        res2b_branch2c[0][0]             \n",
      "__________________________________________________________________________________________________\n",
      "add_1 (Add)                     (None, 55, 55, 256)  0           bn2b_branch2c[0][0]              \n",
      "                                                                 activation_3[0][0]               \n",
      "__________________________________________________________________________________________________\n",
      "activation_6 (Activation)       (None, 55, 55, 256)  0           add_1[0][0]                      \n",
      "__________________________________________________________________________________________________\n",
      "res2c_branch2a (Conv2D)         (None, 55, 55, 64)   16448       activation_6[0][0]               \n",
      "__________________________________________________________________________________________________\n",
      "bn2c_branch2a (BatchNormalizati (None, 55, 55, 64)   256         res2c_branch2a[0][0]             \n",
      "__________________________________________________________________________________________________\n",
      "activation_7 (Activation)       (None, 55, 55, 64)   0           bn2c_branch2a[0][0]              \n",
      "__________________________________________________________________________________________________\n",
      "res2c_branch2b (Conv2D)         (None, 55, 55, 64)   36928       activation_7[0][0]               \n",
      "__________________________________________________________________________________________________\n",
      "bn2c_branch2b (BatchNormalizati (None, 55, 55, 64)   256         res2c_branch2b[0][0]             \n",
      "__________________________________________________________________________________________________\n",
      "activation_8 (Activation)       (None, 55, 55, 64)   0           bn2c_branch2b[0][0]              \n",
      "__________________________________________________________________________________________________\n",
      "res2c_branch2c (Conv2D)         (None, 55, 55, 256)  16640       activation_8[0][0]               \n",
      "__________________________________________________________________________________________________\n",
      "bn2c_branch2c (BatchNormalizati (None, 55, 55, 256)  1024        res2c_branch2c[0][0]             \n",
      "__________________________________________________________________________________________________\n",
      "add_2 (Add)                     (None, 55, 55, 256)  0           bn2c_branch2c[0][0]              \n",
      "                                                                 activation_6[0][0]               \n",
      "__________________________________________________________________________________________________\n",
      "activation_9 (Activation)       (None, 55, 55, 256)  0           add_2[0][0]                      \n",
      "__________________________________________________________________________________________________\n",
      "res3a_branch2a (Conv2D)         (None, 28, 28, 128)  32896       activation_9[0][0]               \n",
      "__________________________________________________________________________________________________\n",
      "bn3a_branch2a (BatchNormalizati (None, 28, 28, 128)  512         res3a_branch2a[0][0]             \n",
      "__________________________________________________________________________________________________\n",
      "activation_10 (Activation)      (None, 28, 28, 128)  0           bn3a_branch2a[0][0]              \n",
      "__________________________________________________________________________________________________\n",
      "res3a_branch2b (Conv2D)         (None, 28, 28, 128)  147584      activation_10[0][0]              \n",
      "__________________________________________________________________________________________________\n",
      "bn3a_branch2b (BatchNormalizati (None, 28, 28, 128)  512         res3a_branch2b[0][0]             \n",
      "__________________________________________________________________________________________________\n",
      "activation_11 (Activation)      (None, 28, 28, 128)  0           bn3a_branch2b[0][0]              \n",
      "__________________________________________________________________________________________________\n",
      "res3a_branch2c (Conv2D)         (None, 28, 28, 512)  66048       activation_11[0][0]              \n",
      "__________________________________________________________________________________________________\n",
      "res3a_branch1 (Conv2D)          (None, 28, 28, 512)  131584      activation_9[0][0]               \n",
      "__________________________________________________________________________________________________\n",
      "bn3a_branch2c (BatchNormalizati (None, 28, 28, 512)  2048        res3a_branch2c[0][0]             \n",
      "__________________________________________________________________________________________________\n",
      "bn3a_branch1 (BatchNormalizatio (None, 28, 28, 512)  2048        res3a_branch1[0][0]              \n",
      "__________________________________________________________________________________________________\n",
      "add_3 (Add)                     (None, 28, 28, 512)  0           bn3a_branch2c[0][0]              \n",
      "                                                                 bn3a_branch1[0][0]               \n",
      "__________________________________________________________________________________________________\n",
      "activation_12 (Activation)      (None, 28, 28, 512)  0           add_3[0][0]                      \n",
      "__________________________________________________________________________________________________\n",
      "res3b_branch2a (Conv2D)         (None, 28, 28, 128)  65664       activation_12[0][0]              \n",
      "__________________________________________________________________________________________________\n",
      "bn3b_branch2a (BatchNormalizati (None, 28, 28, 128)  512         res3b_branch2a[0][0]             \n",
      "__________________________________________________________________________________________________\n",
      "activation_13 (Activation)      (None, 28, 28, 128)  0           bn3b_branch2a[0][0]              \n",
      "__________________________________________________________________________________________________\n",
      "res3b_branch2b (Conv2D)         (None, 28, 28, 128)  147584      activation_13[0][0]              \n",
      "__________________________________________________________________________________________________\n",
      "bn3b_branch2b (BatchNormalizati (None, 28, 28, 128)  512         res3b_branch2b[0][0]             \n",
      "__________________________________________________________________________________________________\n",
      "activation_14 (Activation)      (None, 28, 28, 128)  0           bn3b_branch2b[0][0]              \n",
      "__________________________________________________________________________________________________\n",
      "res3b_branch2c (Conv2D)         (None, 28, 28, 512)  66048       activation_14[0][0]              \n",
      "__________________________________________________________________________________________________\n",
      "bn3b_branch2c (BatchNormalizati (None, 28, 28, 512)  2048        res3b_branch2c[0][0]             \n",
      "__________________________________________________________________________________________________\n",
      "add_4 (Add)                     (None, 28, 28, 512)  0           bn3b_branch2c[0][0]              \n",
      "                                                                 activation_12[0][0]              \n",
      "__________________________________________________________________________________________________\n",
      "activation_15 (Activation)      (None, 28, 28, 512)  0           add_4[0][0]                      \n",
      "__________________________________________________________________________________________________\n",
      "res3c_branch2a (Conv2D)         (None, 28, 28, 128)  65664       activation_15[0][0]              \n",
      "__________________________________________________________________________________________________\n",
      "bn3c_branch2a (BatchNormalizati (None, 28, 28, 128)  512         res3c_branch2a[0][0]             \n",
      "__________________________________________________________________________________________________\n",
      "activation_16 (Activation)      (None, 28, 28, 128)  0           bn3c_branch2a[0][0]              \n",
      "__________________________________________________________________________________________________\n",
      "res3c_branch2b (Conv2D)         (None, 28, 28, 128)  147584      activation_16[0][0]              \n",
      "__________________________________________________________________________________________________\n",
      "bn3c_branch2b (BatchNormalizati (None, 28, 28, 128)  512         res3c_branch2b[0][0]             \n",
      "__________________________________________________________________________________________________\n",
      "activation_17 (Activation)      (None, 28, 28, 128)  0           bn3c_branch2b[0][0]              \n",
      "__________________________________________________________________________________________________\n",
      "res3c_branch2c (Conv2D)         (None, 28, 28, 512)  66048       activation_17[0][0]              \n",
      "__________________________________________________________________________________________________\n",
      "bn3c_branch2c (BatchNormalizati (None, 28, 28, 512)  2048        res3c_branch2c[0][0]             \n",
      "__________________________________________________________________________________________________\n",
      "add_5 (Add)                     (None, 28, 28, 512)  0           bn3c_branch2c[0][0]              \n",
      "                                                                 activation_15[0][0]              \n",
      "__________________________________________________________________________________________________\n",
      "activation_18 (Activation)      (None, 28, 28, 512)  0           add_5[0][0]                      \n",
      "__________________________________________________________________________________________________\n",
      "res3d_branch2a (Conv2D)         (None, 28, 28, 128)  65664       activation_18[0][0]              \n",
      "__________________________________________________________________________________________________\n",
      "bn3d_branch2a (BatchNormalizati (None, 28, 28, 128)  512         res3d_branch2a[0][0]             \n",
      "__________________________________________________________________________________________________\n",
      "activation_19 (Activation)      (None, 28, 28, 128)  0           bn3d_branch2a[0][0]              \n",
      "__________________________________________________________________________________________________\n",
      "res3d_branch2b (Conv2D)         (None, 28, 28, 128)  147584      activation_19[0][0]              \n",
      "__________________________________________________________________________________________________\n",
      "bn3d_branch2b (BatchNormalizati (None, 28, 28, 128)  512         res3d_branch2b[0][0]             \n",
      "__________________________________________________________________________________________________\n",
      "activation_20 (Activation)      (None, 28, 28, 128)  0           bn3d_branch2b[0][0]              \n",
      "__________________________________________________________________________________________________\n",
      "res3d_branch2c (Conv2D)         (None, 28, 28, 512)  66048       activation_20[0][0]              \n",
      "__________________________________________________________________________________________________\n",
      "bn3d_branch2c (BatchNormalizati (None, 28, 28, 512)  2048        res3d_branch2c[0][0]             \n",
      "__________________________________________________________________________________________________\n",
      "add_6 (Add)                     (None, 28, 28, 512)  0           bn3d_branch2c[0][0]              \n",
      "                                                                 activation_18[0][0]              \n",
      "__________________________________________________________________________________________________\n",
      "activation_21 (Activation)      (None, 28, 28, 512)  0           add_6[0][0]                      \n",
      "__________________________________________________________________________________________________\n",
      "res4a_branch2a (Conv2D)         (None, 14, 14, 256)  131328      activation_21[0][0]              \n",
      "__________________________________________________________________________________________________\n",
      "bn4a_branch2a (BatchNormalizati (None, 14, 14, 256)  1024        res4a_branch2a[0][0]             \n",
      "__________________________________________________________________________________________________\n",
      "activation_22 (Activation)      (None, 14, 14, 256)  0           bn4a_branch2a[0][0]              \n",
      "__________________________________________________________________________________________________\n",
      "res4a_branch2b (Conv2D)         (None, 14, 14, 256)  590080      activation_22[0][0]              \n",
      "__________________________________________________________________________________________________\n",
      "bn4a_branch2b (BatchNormalizati (None, 14, 14, 256)  1024        res4a_branch2b[0][0]             \n",
      "__________________________________________________________________________________________________\n",
      "activation_23 (Activation)      (None, 14, 14, 256)  0           bn4a_branch2b[0][0]              \n",
      "__________________________________________________________________________________________________\n",
      "res4a_branch2c (Conv2D)         (None, 14, 14, 1024) 263168      activation_23[0][0]              \n",
      "__________________________________________________________________________________________________\n",
      "res4a_branch1 (Conv2D)          (None, 14, 14, 1024) 525312      activation_21[0][0]              \n",
      "__________________________________________________________________________________________________\n",
      "bn4a_branch2c (BatchNormalizati (None, 14, 14, 1024) 4096        res4a_branch2c[0][0]             \n",
      "__________________________________________________________________________________________________\n",
      "bn4a_branch1 (BatchNormalizatio (None, 14, 14, 1024) 4096        res4a_branch1[0][0]              \n",
      "__________________________________________________________________________________________________\n",
      "add_7 (Add)                     (None, 14, 14, 1024) 0           bn4a_branch2c[0][0]              \n",
      "                                                                 bn4a_branch1[0][0]               \n",
      "__________________________________________________________________________________________________\n",
      "activation_24 (Activation)      (None, 14, 14, 1024) 0           add_7[0][0]                      \n",
      "__________________________________________________________________________________________________\n",
      "res4b_branch2a (Conv2D)         (None, 14, 14, 256)  262400      activation_24[0][0]              \n",
      "__________________________________________________________________________________________________\n",
      "bn4b_branch2a (BatchNormalizati (None, 14, 14, 256)  1024        res4b_branch2a[0][0]             \n",
      "__________________________________________________________________________________________________\n",
      "activation_25 (Activation)      (None, 14, 14, 256)  0           bn4b_branch2a[0][0]              \n",
      "__________________________________________________________________________________________________\n",
      "res4b_branch2b (Conv2D)         (None, 14, 14, 256)  590080      activation_25[0][0]              \n",
      "__________________________________________________________________________________________________\n",
      "bn4b_branch2b (BatchNormalizati (None, 14, 14, 256)  1024        res4b_branch2b[0][0]             \n",
      "__________________________________________________________________________________________________\n",
      "activation_26 (Activation)      (None, 14, 14, 256)  0           bn4b_branch2b[0][0]              \n",
      "__________________________________________________________________________________________________\n",
      "res4b_branch2c (Conv2D)         (None, 14, 14, 1024) 263168      activation_26[0][0]              \n",
      "__________________________________________________________________________________________________\n",
      "bn4b_branch2c (BatchNormalizati (None, 14, 14, 1024) 4096        res4b_branch2c[0][0]             \n",
      "__________________________________________________________________________________________________\n",
      "add_8 (Add)                     (None, 14, 14, 1024) 0           bn4b_branch2c[0][0]              \n",
      "                                                                 activation_24[0][0]              \n",
      "__________________________________________________________________________________________________\n",
      "activation_27 (Activation)      (None, 14, 14, 1024) 0           add_8[0][0]                      \n",
      "__________________________________________________________________________________________________\n",
      "res4c_branch2a (Conv2D)         (None, 14, 14, 256)  262400      activation_27[0][0]              \n",
      "__________________________________________________________________________________________________\n",
      "bn4c_branch2a (BatchNormalizati (None, 14, 14, 256)  1024        res4c_branch2a[0][0]             \n",
      "__________________________________________________________________________________________________\n",
      "activation_28 (Activation)      (None, 14, 14, 256)  0           bn4c_branch2a[0][0]              \n",
      "__________________________________________________________________________________________________\n",
      "res4c_branch2b (Conv2D)         (None, 14, 14, 256)  590080      activation_28[0][0]              \n",
      "__________________________________________________________________________________________________\n",
      "bn4c_branch2b (BatchNormalizati (None, 14, 14, 256)  1024        res4c_branch2b[0][0]             \n",
      "__________________________________________________________________________________________________\n",
      "activation_29 (Activation)      (None, 14, 14, 256)  0           bn4c_branch2b[0][0]              \n",
      "__________________________________________________________________________________________________\n",
      "res4c_branch2c (Conv2D)         (None, 14, 14, 1024) 263168      activation_29[0][0]              \n",
      "__________________________________________________________________________________________________\n",
      "bn4c_branch2c (BatchNormalizati (None, 14, 14, 1024) 4096        res4c_branch2c[0][0]             \n",
      "__________________________________________________________________________________________________\n",
      "add_9 (Add)                     (None, 14, 14, 1024) 0           bn4c_branch2c[0][0]              \n",
      "                                                                 activation_27[0][0]              \n",
      "__________________________________________________________________________________________________\n",
      "activation_30 (Activation)      (None, 14, 14, 1024) 0           add_9[0][0]                      \n",
      "__________________________________________________________________________________________________\n",
      "res4d_branch2a (Conv2D)         (None, 14, 14, 256)  262400      activation_30[0][0]              \n",
      "__________________________________________________________________________________________________\n",
      "bn4d_branch2a (BatchNormalizati (None, 14, 14, 256)  1024        res4d_branch2a[0][0]             \n",
      "__________________________________________________________________________________________________\n",
      "activation_31 (Activation)      (None, 14, 14, 256)  0           bn4d_branch2a[0][0]              \n",
      "__________________________________________________________________________________________________\n",
      "res4d_branch2b (Conv2D)         (None, 14, 14, 256)  590080      activation_31[0][0]              \n",
      "__________________________________________________________________________________________________\n",
      "bn4d_branch2b (BatchNormalizati (None, 14, 14, 256)  1024        res4d_branch2b[0][0]             \n",
      "__________________________________________________________________________________________________\n",
      "activation_32 (Activation)      (None, 14, 14, 256)  0           bn4d_branch2b[0][0]              \n",
      "__________________________________________________________________________________________________\n",
      "res4d_branch2c (Conv2D)         (None, 14, 14, 1024) 263168      activation_32[0][0]              \n",
      "__________________________________________________________________________________________________\n",
      "bn4d_branch2c (BatchNormalizati (None, 14, 14, 1024) 4096        res4d_branch2c[0][0]             \n",
      "__________________________________________________________________________________________________\n",
      "add_10 (Add)                    (None, 14, 14, 1024) 0           bn4d_branch2c[0][0]              \n",
      "                                                                 activation_30[0][0]              \n",
      "__________________________________________________________________________________________________\n",
      "activation_33 (Activation)      (None, 14, 14, 1024) 0           add_10[0][0]                     \n",
      "__________________________________________________________________________________________________\n",
      "res4e_branch2a (Conv2D)         (None, 14, 14, 256)  262400      activation_33[0][0]              \n",
      "__________________________________________________________________________________________________\n",
      "bn4e_branch2a (BatchNormalizati (None, 14, 14, 256)  1024        res4e_branch2a[0][0]             \n",
      "__________________________________________________________________________________________________\n",
      "activation_34 (Activation)      (None, 14, 14, 256)  0           bn4e_branch2a[0][0]              \n",
      "__________________________________________________________________________________________________\n",
      "res4e_branch2b (Conv2D)         (None, 14, 14, 256)  590080      activation_34[0][0]              \n",
      "__________________________________________________________________________________________________\n",
      "bn4e_branch2b (BatchNormalizati (None, 14, 14, 256)  1024        res4e_branch2b[0][0]             \n",
      "__________________________________________________________________________________________________\n",
      "activation_35 (Activation)      (None, 14, 14, 256)  0           bn4e_branch2b[0][0]              \n",
      "__________________________________________________________________________________________________\n",
      "res4e_branch2c (Conv2D)         (None, 14, 14, 1024) 263168      activation_35[0][0]              \n",
      "__________________________________________________________________________________________________\n",
      "bn4e_branch2c (BatchNormalizati (None, 14, 14, 1024) 4096        res4e_branch2c[0][0]             \n",
      "__________________________________________________________________________________________________\n",
      "add_11 (Add)                    (None, 14, 14, 1024) 0           bn4e_branch2c[0][0]              \n",
      "                                                                 activation_33[0][0]              \n",
      "__________________________________________________________________________________________________\n",
      "activation_36 (Activation)      (None, 14, 14, 1024) 0           add_11[0][0]                     \n",
      "__________________________________________________________________________________________________\n",
      "res4f_branch2a (Conv2D)         (None, 14, 14, 256)  262400      activation_36[0][0]              \n",
      "__________________________________________________________________________________________________\n",
      "bn4f_branch2a (BatchNormalizati (None, 14, 14, 256)  1024        res4f_branch2a[0][0]             \n",
      "__________________________________________________________________________________________________\n",
      "activation_37 (Activation)      (None, 14, 14, 256)  0           bn4f_branch2a[0][0]              \n",
      "__________________________________________________________________________________________________\n",
      "res4f_branch2b (Conv2D)         (None, 14, 14, 256)  590080      activation_37[0][0]              \n",
      "__________________________________________________________________________________________________\n",
      "bn4f_branch2b (BatchNormalizati (None, 14, 14, 256)  1024        res4f_branch2b[0][0]             \n",
      "__________________________________________________________________________________________________\n",
      "activation_38 (Activation)      (None, 14, 14, 256)  0           bn4f_branch2b[0][0]              \n",
      "__________________________________________________________________________________________________\n",
      "res4f_branch2c (Conv2D)         (None, 14, 14, 1024) 263168      activation_38[0][0]              \n",
      "__________________________________________________________________________________________________\n",
      "bn4f_branch2c (BatchNormalizati (None, 14, 14, 1024) 4096        res4f_branch2c[0][0]             \n",
      "__________________________________________________________________________________________________\n",
      "add_12 (Add)                    (None, 14, 14, 1024) 0           bn4f_branch2c[0][0]              \n",
      "                                                                 activation_36[0][0]              \n",
      "__________________________________________________________________________________________________\n",
      "activation_39 (Activation)      (None, 14, 14, 1024) 0           add_12[0][0]                     \n",
      "__________________________________________________________________________________________________\n",
      "res5a_branch2a (Conv2D)         (None, 7, 7, 512)    524800      activation_39[0][0]              \n",
      "__________________________________________________________________________________________________\n",
      "bn5a_branch2a (BatchNormalizati (None, 7, 7, 512)    2048        res5a_branch2a[0][0]             \n",
      "__________________________________________________________________________________________________\n",
      "activation_40 (Activation)      (None, 7, 7, 512)    0           bn5a_branch2a[0][0]              \n",
      "__________________________________________________________________________________________________\n",
      "res5a_branch2b (Conv2D)         (None, 7, 7, 512)    2359808     activation_40[0][0]              \n",
      "__________________________________________________________________________________________________\n",
      "bn5a_branch2b (BatchNormalizati (None, 7, 7, 512)    2048        res5a_branch2b[0][0]             \n",
      "__________________________________________________________________________________________________\n",
      "activation_41 (Activation)      (None, 7, 7, 512)    0           bn5a_branch2b[0][0]              \n",
      "__________________________________________________________________________________________________\n",
      "res5a_branch2c (Conv2D)         (None, 7, 7, 2048)   1050624     activation_41[0][0]              \n",
      "__________________________________________________________________________________________________\n",
      "res5a_branch1 (Conv2D)          (None, 7, 7, 2048)   2099200     activation_39[0][0]              \n",
      "__________________________________________________________________________________________________\n",
      "bn5a_branch2c (BatchNormalizati (None, 7, 7, 2048)   8192        res5a_branch2c[0][0]             \n",
      "__________________________________________________________________________________________________\n",
      "bn5a_branch1 (BatchNormalizatio (None, 7, 7, 2048)   8192        res5a_branch1[0][0]              \n",
      "__________________________________________________________________________________________________\n",
      "add_13 (Add)                    (None, 7, 7, 2048)   0           bn5a_branch2c[0][0]              \n",
      "                                                                 bn5a_branch1[0][0]               \n",
      "__________________________________________________________________________________________________\n",
      "activation_42 (Activation)      (None, 7, 7, 2048)   0           add_13[0][0]                     \n",
      "__________________________________________________________________________________________________\n",
      "res5b_branch2a (Conv2D)         (None, 7, 7, 512)    1049088     activation_42[0][0]              \n",
      "__________________________________________________________________________________________________\n",
      "bn5b_branch2a (BatchNormalizati (None, 7, 7, 512)    2048        res5b_branch2a[0][0]             \n",
      "__________________________________________________________________________________________________\n",
      "activation_43 (Activation)      (None, 7, 7, 512)    0           bn5b_branch2a[0][0]              \n",
      "__________________________________________________________________________________________________\n",
      "res5b_branch2b (Conv2D)         (None, 7, 7, 512)    2359808     activation_43[0][0]              \n",
      "__________________________________________________________________________________________________\n",
      "bn5b_branch2b (BatchNormalizati (None, 7, 7, 512)    2048        res5b_branch2b[0][0]             \n",
      "__________________________________________________________________________________________________\n",
      "activation_44 (Activation)      (None, 7, 7, 512)    0           bn5b_branch2b[0][0]              \n",
      "__________________________________________________________________________________________________\n",
      "res5b_branch2c (Conv2D)         (None, 7, 7, 2048)   1050624     activation_44[0][0]              \n",
      "__________________________________________________________________________________________________\n",
      "bn5b_branch2c (BatchNormalizati (None, 7, 7, 2048)   8192        res5b_branch2c[0][0]             \n",
      "__________________________________________________________________________________________________\n",
      "add_14 (Add)                    (None, 7, 7, 2048)   0           bn5b_branch2c[0][0]              \n",
      "                                                                 activation_42[0][0]              \n",
      "__________________________________________________________________________________________________\n",
      "activation_45 (Activation)      (None, 7, 7, 2048)   0           add_14[0][0]                     \n",
      "__________________________________________________________________________________________________\n",
      "res5c_branch2a (Conv2D)         (None, 7, 7, 512)    1049088     activation_45[0][0]              \n",
      "__________________________________________________________________________________________________\n",
      "bn5c_branch2a (BatchNormalizati (None, 7, 7, 512)    2048        res5c_branch2a[0][0]             \n",
      "__________________________________________________________________________________________________\n",
      "activation_46 (Activation)      (None, 7, 7, 512)    0           bn5c_branch2a[0][0]              \n",
      "__________________________________________________________________________________________________\n",
      "res5c_branch2b (Conv2D)         (None, 7, 7, 512)    2359808     activation_46[0][0]              \n",
      "__________________________________________________________________________________________________\n",
      "bn5c_branch2b (BatchNormalizati (None, 7, 7, 512)    2048        res5c_branch2b[0][0]             \n",
      "__________________________________________________________________________________________________\n",
      "activation_47 (Activation)      (None, 7, 7, 512)    0           bn5c_branch2b[0][0]              \n",
      "__________________________________________________________________________________________________\n",
      "res5c_branch2c (Conv2D)         (None, 7, 7, 2048)   1050624     activation_47[0][0]              \n",
      "__________________________________________________________________________________________________\n",
      "bn5c_branch2c (BatchNormalizati (None, 7, 7, 2048)   8192        res5c_branch2c[0][0]             \n",
      "__________________________________________________________________________________________________\n",
      "add_15 (Add)                    (None, 7, 7, 2048)   0           bn5c_branch2c[0][0]              \n",
      "                                                                 activation_45[0][0]              \n",
      "__________________________________________________________________________________________________\n",
      "activation_48 (Activation)      (None, 7, 7, 2048)   0           add_15[0][0]                     \n",
      "__________________________________________________________________________________________________\n",
      "avg_pool (AveragePooling2D)     (None, 1, 1, 2048)   0           activation_48[0][0]              \n",
      "__________________________________________________________________________________________________\n",
      "global_average_pooling2d (Globa (None, 2048)         0           avg_pool[0][0]                   \n",
      "__________________________________________________________________________________________________\n",
      "dense (Dense)                   (None, 1024)         2098176     global_average_pooling2d[0][0]   \n",
      "__________________________________________________________________________________________________\n",
      "dense_1 (Dense)                 (None, 1)            1025        dense[0][0]                      \n",
      "==================================================================================================\n",
      "Total params: 25,686,913\n",
      "Trainable params: 2,099,201\n",
      "Non-trainable params: 23,587,712\n",
      "__________________________________________________________________________________________________\n"
     ]
    }
   ],
   "source": [
    "finetune_model = load_model(f'{PATH}/models/rs50_bottleneck_fc_model.h5')\n",
    "finetune_model.summary()"
   ]
  },
  {
   "cell_type": "code",
   "execution_count": 9,
   "metadata": {},
   "outputs": [
    {
     "name": "stdout",
     "output_type": "stream",
     "text": [
      "True:\tinput_1\n",
      "False:\tconv1\n",
      "False:\tbn_conv1\n",
      "False:\tactivation\n",
      "False:\tmax_pooling2d\n",
      "False:\tres2a_branch2a\n",
      "False:\tbn2a_branch2a\n",
      "False:\tactivation_1\n",
      "False:\tres2a_branch2b\n",
      "False:\tbn2a_branch2b\n",
      "False:\tactivation_2\n",
      "False:\tres2a_branch2c\n",
      "False:\tres2a_branch1\n",
      "False:\tbn2a_branch2c\n",
      "False:\tbn2a_branch1\n",
      "False:\tadd\n",
      "False:\tactivation_3\n",
      "False:\tres2b_branch2a\n",
      "False:\tbn2b_branch2a\n",
      "False:\tactivation_4\n",
      "False:\tres2b_branch2b\n",
      "False:\tbn2b_branch2b\n",
      "False:\tactivation_5\n",
      "False:\tres2b_branch2c\n",
      "False:\tbn2b_branch2c\n",
      "False:\tadd_1\n",
      "False:\tactivation_6\n",
      "False:\tres2c_branch2a\n",
      "False:\tbn2c_branch2a\n",
      "False:\tactivation_7\n",
      "False:\tres2c_branch2b\n",
      "False:\tbn2c_branch2b\n",
      "False:\tactivation_8\n",
      "False:\tres2c_branch2c\n",
      "False:\tbn2c_branch2c\n",
      "False:\tadd_2\n",
      "False:\tactivation_9\n",
      "False:\tres3a_branch2a\n",
      "False:\tbn3a_branch2a\n",
      "False:\tactivation_10\n",
      "False:\tres3a_branch2b\n",
      "False:\tbn3a_branch2b\n",
      "False:\tactivation_11\n",
      "False:\tres3a_branch2c\n",
      "False:\tres3a_branch1\n",
      "False:\tbn3a_branch2c\n",
      "False:\tbn3a_branch1\n",
      "False:\tadd_3\n",
      "False:\tactivation_12\n",
      "False:\tres3b_branch2a\n",
      "False:\tbn3b_branch2a\n",
      "False:\tactivation_13\n",
      "False:\tres3b_branch2b\n",
      "False:\tbn3b_branch2b\n",
      "False:\tactivation_14\n",
      "False:\tres3b_branch2c\n",
      "False:\tbn3b_branch2c\n",
      "False:\tadd_4\n",
      "False:\tactivation_15\n",
      "False:\tres3c_branch2a\n",
      "False:\tbn3c_branch2a\n",
      "False:\tactivation_16\n",
      "False:\tres3c_branch2b\n",
      "False:\tbn3c_branch2b\n",
      "False:\tactivation_17\n",
      "False:\tres3c_branch2c\n",
      "False:\tbn3c_branch2c\n",
      "False:\tadd_5\n",
      "False:\tactivation_18\n",
      "False:\tres3d_branch2a\n",
      "False:\tbn3d_branch2a\n",
      "False:\tactivation_19\n",
      "False:\tres3d_branch2b\n",
      "False:\tbn3d_branch2b\n",
      "False:\tactivation_20\n",
      "False:\tres3d_branch2c\n",
      "False:\tbn3d_branch2c\n",
      "False:\tadd_6\n",
      "False:\tactivation_21\n",
      "False:\tres4a_branch2a\n",
      "False:\tbn4a_branch2a\n",
      "False:\tactivation_22\n",
      "False:\tres4a_branch2b\n",
      "False:\tbn4a_branch2b\n",
      "False:\tactivation_23\n",
      "False:\tres4a_branch2c\n",
      "False:\tres4a_branch1\n",
      "False:\tbn4a_branch2c\n",
      "False:\tbn4a_branch1\n",
      "False:\tadd_7\n",
      "False:\tactivation_24\n",
      "False:\tres4b_branch2a\n",
      "False:\tbn4b_branch2a\n",
      "False:\tactivation_25\n",
      "False:\tres4b_branch2b\n",
      "False:\tbn4b_branch2b\n",
      "False:\tactivation_26\n",
      "False:\tres4b_branch2c\n",
      "False:\tbn4b_branch2c\n",
      "False:\tadd_8\n",
      "False:\tactivation_27\n",
      "False:\tres4c_branch2a\n",
      "False:\tbn4c_branch2a\n",
      "False:\tactivation_28\n",
      "False:\tres4c_branch2b\n",
      "False:\tbn4c_branch2b\n",
      "False:\tactivation_29\n",
      "False:\tres4c_branch2c\n",
      "False:\tbn4c_branch2c\n",
      "False:\tadd_9\n",
      "False:\tactivation_30\n",
      "False:\tres4d_branch2a\n",
      "False:\tbn4d_branch2a\n",
      "False:\tactivation_31\n",
      "False:\tres4d_branch2b\n",
      "False:\tbn4d_branch2b\n",
      "False:\tactivation_32\n",
      "False:\tres4d_branch2c\n",
      "False:\tbn4d_branch2c\n",
      "False:\tadd_10\n",
      "False:\tactivation_33\n",
      "False:\tres4e_branch2a\n",
      "False:\tbn4e_branch2a\n",
      "False:\tactivation_34\n",
      "False:\tres4e_branch2b\n",
      "False:\tbn4e_branch2b\n",
      "False:\tactivation_35\n",
      "False:\tres4e_branch2c\n",
      "False:\tbn4e_branch2c\n",
      "False:\tadd_11\n",
      "False:\tactivation_36\n",
      "False:\tres4f_branch2a\n",
      "False:\tbn4f_branch2a\n",
      "False:\tactivation_37\n",
      "False:\tres4f_branch2b\n",
      "False:\tbn4f_branch2b\n",
      "False:\tactivation_38\n",
      "False:\tres4f_branch2c\n",
      "False:\tbn4f_branch2c\n",
      "False:\tadd_12\n",
      "False:\tactivation_39\n",
      "False:\tres5a_branch2a\n",
      "False:\tbn5a_branch2a\n",
      "False:\tactivation_40\n",
      "False:\tres5a_branch2b\n",
      "False:\tbn5a_branch2b\n",
      "False:\tactivation_41\n",
      "False:\tres5a_branch2c\n",
      "False:\tres5a_branch1\n",
      "False:\tbn5a_branch2c\n",
      "False:\tbn5a_branch1\n",
      "False:\tadd_13\n",
      "False:\tactivation_42\n",
      "False:\tres5b_branch2a\n",
      "False:\tbn5b_branch2a\n",
      "False:\tactivation_43\n",
      "False:\tres5b_branch2b\n",
      "False:\tbn5b_branch2b\n",
      "False:\tactivation_44\n",
      "False:\tres5b_branch2c\n",
      "False:\tbn5b_branch2c\n",
      "False:\tadd_14\n",
      "False:\tactivation_45\n",
      "False:\tres5c_branch2a\n",
      "False:\tbn5c_branch2a\n",
      "False:\tactivation_46\n",
      "False:\tres5c_branch2b\n",
      "False:\tbn5c_branch2b\n",
      "False:\tactivation_47\n",
      "False:\tres5c_branch2c\n",
      "False:\tbn5c_branch2c\n",
      "False:\tadd_15\n",
      "False:\tactivation_48\n",
      "False:\tavg_pool\n",
      "True:\tglobal_average_pooling2d\n",
      "True:\tdense\n",
      "True:\tdense_1\n"
     ]
    }
   ],
   "source": [
    "print_layer_trainable(finetune_model)"
   ]
  },
  {
   "cell_type": "code",
   "execution_count": 21,
   "metadata": {},
   "outputs": [
    {
     "data": {
      "text/plain": [
       "177"
      ]
     },
     "execution_count": 21,
     "metadata": {},
     "output_type": "execute_result"
    }
   ],
   "source": [
    "len(finetune_model.layers)"
   ]
  },
  {
   "cell_type": "code",
   "execution_count": 22,
   "metadata": {},
   "outputs": [],
   "source": [
    "split_at = 141\n",
    "for layer in finetune_model.layers[:split_at]: layer.trainable = False\n",
    "for layer in finetune_model.layers[split_at:]: layer.trainable = True"
   ]
  },
  {
   "cell_type": "code",
   "execution_count": 23,
   "metadata": {},
   "outputs": [
    {
     "name": "stdout",
     "output_type": "stream",
     "text": [
      "False:\tinput_1\n",
      "False:\tconv1\n",
      "False:\tbn_conv1\n",
      "False:\tactivation\n",
      "False:\tmax_pooling2d\n",
      "False:\tres2a_branch2a\n",
      "False:\tbn2a_branch2a\n",
      "False:\tactivation_1\n",
      "False:\tres2a_branch2b\n",
      "False:\tbn2a_branch2b\n",
      "False:\tactivation_2\n",
      "False:\tres2a_branch2c\n",
      "False:\tres2a_branch1\n",
      "False:\tbn2a_branch2c\n",
      "False:\tbn2a_branch1\n",
      "False:\tadd\n",
      "False:\tactivation_3\n",
      "False:\tres2b_branch2a\n",
      "False:\tbn2b_branch2a\n",
      "False:\tactivation_4\n",
      "False:\tres2b_branch2b\n",
      "False:\tbn2b_branch2b\n",
      "False:\tactivation_5\n",
      "False:\tres2b_branch2c\n",
      "False:\tbn2b_branch2c\n",
      "False:\tadd_1\n",
      "False:\tactivation_6\n",
      "False:\tres2c_branch2a\n",
      "False:\tbn2c_branch2a\n",
      "False:\tactivation_7\n",
      "False:\tres2c_branch2b\n",
      "False:\tbn2c_branch2b\n",
      "False:\tactivation_8\n",
      "False:\tres2c_branch2c\n",
      "False:\tbn2c_branch2c\n",
      "False:\tadd_2\n",
      "False:\tactivation_9\n",
      "False:\tres3a_branch2a\n",
      "False:\tbn3a_branch2a\n",
      "False:\tactivation_10\n",
      "False:\tres3a_branch2b\n",
      "False:\tbn3a_branch2b\n",
      "False:\tactivation_11\n",
      "False:\tres3a_branch2c\n",
      "False:\tres3a_branch1\n",
      "False:\tbn3a_branch2c\n",
      "False:\tbn3a_branch1\n",
      "False:\tadd_3\n",
      "False:\tactivation_12\n",
      "False:\tres3b_branch2a\n",
      "False:\tbn3b_branch2a\n",
      "False:\tactivation_13\n",
      "False:\tres3b_branch2b\n",
      "False:\tbn3b_branch2b\n",
      "False:\tactivation_14\n",
      "False:\tres3b_branch2c\n",
      "False:\tbn3b_branch2c\n",
      "False:\tadd_4\n",
      "False:\tactivation_15\n",
      "False:\tres3c_branch2a\n",
      "False:\tbn3c_branch2a\n",
      "False:\tactivation_16\n",
      "False:\tres3c_branch2b\n",
      "False:\tbn3c_branch2b\n",
      "False:\tactivation_17\n",
      "False:\tres3c_branch2c\n",
      "False:\tbn3c_branch2c\n",
      "False:\tadd_5\n",
      "False:\tactivation_18\n",
      "False:\tres3d_branch2a\n",
      "False:\tbn3d_branch2a\n",
      "False:\tactivation_19\n",
      "False:\tres3d_branch2b\n",
      "False:\tbn3d_branch2b\n",
      "False:\tactivation_20\n",
      "False:\tres3d_branch2c\n",
      "False:\tbn3d_branch2c\n",
      "False:\tadd_6\n",
      "False:\tactivation_21\n",
      "False:\tres4a_branch2a\n",
      "False:\tbn4a_branch2a\n",
      "False:\tactivation_22\n",
      "False:\tres4a_branch2b\n",
      "False:\tbn4a_branch2b\n",
      "False:\tactivation_23\n",
      "False:\tres4a_branch2c\n",
      "False:\tres4a_branch1\n",
      "False:\tbn4a_branch2c\n",
      "False:\tbn4a_branch1\n",
      "False:\tadd_7\n",
      "False:\tactivation_24\n",
      "False:\tres4b_branch2a\n",
      "False:\tbn4b_branch2a\n",
      "False:\tactivation_25\n",
      "False:\tres4b_branch2b\n",
      "False:\tbn4b_branch2b\n",
      "False:\tactivation_26\n",
      "False:\tres4b_branch2c\n",
      "False:\tbn4b_branch2c\n",
      "False:\tadd_8\n",
      "False:\tactivation_27\n",
      "False:\tres4c_branch2a\n",
      "False:\tbn4c_branch2a\n",
      "False:\tactivation_28\n",
      "False:\tres4c_branch2b\n",
      "False:\tbn4c_branch2b\n",
      "False:\tactivation_29\n",
      "False:\tres4c_branch2c\n",
      "False:\tbn4c_branch2c\n",
      "False:\tadd_9\n",
      "False:\tactivation_30\n",
      "False:\tres4d_branch2a\n",
      "False:\tbn4d_branch2a\n",
      "False:\tactivation_31\n",
      "False:\tres4d_branch2b\n",
      "False:\tbn4d_branch2b\n",
      "False:\tactivation_32\n",
      "False:\tres4d_branch2c\n",
      "False:\tbn4d_branch2c\n",
      "False:\tadd_10\n",
      "False:\tactivation_33\n",
      "False:\tres4e_branch2a\n",
      "False:\tbn4e_branch2a\n",
      "False:\tactivation_34\n",
      "False:\tres4e_branch2b\n",
      "False:\tbn4e_branch2b\n",
      "False:\tactivation_35\n",
      "False:\tres4e_branch2c\n",
      "False:\tbn4e_branch2c\n",
      "False:\tadd_11\n",
      "False:\tactivation_36\n",
      "False:\tres4f_branch2a\n",
      "False:\tbn4f_branch2a\n",
      "False:\tactivation_37\n",
      "False:\tres4f_branch2b\n",
      "False:\tbn4f_branch2b\n",
      "False:\tactivation_38\n",
      "False:\tres4f_branch2c\n",
      "False:\tbn4f_branch2c\n",
      "False:\tadd_12\n",
      "False:\tactivation_39\n",
      "True:\tres5a_branch2a\n",
      "True:\tbn5a_branch2a\n",
      "True:\tactivation_40\n",
      "True:\tres5a_branch2b\n",
      "True:\tbn5a_branch2b\n",
      "True:\tactivation_41\n",
      "True:\tres5a_branch2c\n",
      "True:\tres5a_branch1\n",
      "True:\tbn5a_branch2c\n",
      "True:\tbn5a_branch1\n",
      "True:\tadd_13\n",
      "True:\tactivation_42\n",
      "True:\tres5b_branch2a\n",
      "True:\tbn5b_branch2a\n",
      "True:\tactivation_43\n",
      "True:\tres5b_branch2b\n",
      "True:\tbn5b_branch2b\n",
      "True:\tactivation_44\n",
      "True:\tres5b_branch2c\n",
      "True:\tbn5b_branch2c\n",
      "True:\tadd_14\n",
      "True:\tactivation_45\n",
      "True:\tres5c_branch2a\n",
      "True:\tbn5c_branch2a\n",
      "True:\tactivation_46\n",
      "True:\tres5c_branch2b\n",
      "True:\tbn5c_branch2b\n",
      "True:\tactivation_47\n",
      "True:\tres5c_branch2c\n",
      "True:\tbn5c_branch2c\n",
      "True:\tadd_15\n",
      "True:\tactivation_48\n",
      "True:\tavg_pool\n",
      "True:\tglobal_average_pooling2d\n",
      "True:\tdense\n",
      "True:\tdense_1\n"
     ]
    }
   ],
   "source": [
    "print_layer_trainable(finetune_model)"
   ]
  },
  {
   "cell_type": "code",
   "execution_count": 24,
   "metadata": {},
   "outputs": [],
   "source": [
    "#optimizer_fine = optimizers.Adam(lr=1e-7)\n",
    "optimizer_fine = optimizers.RMSprop(lr=1e-7)\n",
    "#optimizer_fine = optimizers.SGD(lr=1e-6, momentum=0.9)"
   ]
  },
  {
   "cell_type": "code",
   "execution_count": 25,
   "metadata": {},
   "outputs": [],
   "source": [
    "# compile must be called after the trainable are set\n",
    "finetune_model.compile(optimizer=optimizer_fine, loss='binary_crossentropy', metrics=['accuracy'])"
   ]
  },
  {
   "cell_type": "code",
   "execution_count": 26,
   "metadata": {},
   "outputs": [
    {
     "name": "stdout",
     "output_type": "stream",
     "text": [
      "Epoch 1/10\n",
      "31/31 [==============================] - 37s 1s/step - loss: 0.0244 - acc: 0.9899 - val_loss: 0.0823 - val_acc: 0.9805\n",
      "Epoch 2/10\n",
      "31/31 [==============================] - 27s 860ms/step - loss: 0.0135 - acc: 0.9945 - val_loss: 0.0760 - val_acc: 0.9818\n",
      "Epoch 3/10\n",
      "31/31 [==============================] - 27s 857ms/step - loss: 0.0298 - acc: 0.9916 - val_loss: 0.0723 - val_acc: 0.9818\n",
      "Epoch 4/10\n",
      "31/31 [==============================] - 27s 861ms/step - loss: 0.0166 - acc: 0.9945 - val_loss: 0.0695 - val_acc: 0.9818\n",
      "Epoch 5/10\n",
      "31/31 [==============================] - 27s 860ms/step - loss: 0.0177 - acc: 0.9939 - val_loss: 0.0676 - val_acc: 0.9818\n",
      "Epoch 6/10\n",
      "31/31 [==============================] - 27s 861ms/step - loss: 0.0261 - acc: 0.9900 - val_loss: 0.0668 - val_acc: 0.9818\n",
      "Epoch 7/10\n",
      "31/31 [==============================] - 27s 861ms/step - loss: 0.0146 - acc: 0.9934 - val_loss: 0.0656 - val_acc: 0.9818\n",
      "Epoch 8/10\n",
      "31/31 [==============================] - 27s 860ms/step - loss: 0.0132 - acc: 0.9955 - val_loss: 0.0651 - val_acc: 0.9818\n",
      "Epoch 9/10\n",
      "31/31 [==============================] - 27s 861ms/step - loss: 0.0236 - acc: 0.9895 - val_loss: 0.0649 - val_acc: 0.9818\n",
      "Epoch 10/10\n",
      "31/31 [==============================] - 27s 876ms/step - loss: 0.0116 - acc: 0.9965 - val_loss: 0.0646 - val_acc: 0.9818\n",
      "CPU times: user 11min 13s, sys: 37.7 s, total: 11min 51s\n",
      "Wall time: 4min 37s\n"
     ]
    }
   ],
   "source": [
    "%%time\n",
    "finetune_training_log = finetune_model.fit_generator(\n",
    "    train_generator,\n",
    "    steps_per_epoch=train_generator.n // batch_size,\n",
    "    epochs=epochs,\n",
    "    workers=4,\n",
    "    validation_data=validation_generator,\n",
    "    validation_steps=validation_generator.n // batch_size)"
   ]
  },
  {
   "cell_type": "code",
   "execution_count": 27,
   "metadata": {},
   "outputs": [
    {
     "data": {
      "image/png": "[encoded data removed]",
      "text/plain": [
       "<Figure size 432x288 with 1 Axes>"
      ]
     },
     "metadata": {},
     "output_type": "display_data"
    },
    {
     "data": {
      "image/png": "[encoded data removed]",
      "text/plain": [
       "<Figure size 432x288 with 1 Axes>"
      ]
     },
     "metadata": {},
     "output_type": "display_data"
    }
   ],
   "source": [
    "plot_training_history(finetune_training_log)"
   ]
  },
  {
   "cell_type": "code",
   "execution_count": 33,
   "metadata": {},
   "outputs": [],
   "source": [
    "pred_dogs = model_predict(dog_test_dir, finetune_model)\n",
    "pred_cats = model_predict(cat_test_dir, finetune_model)"
   ]
  },
  {
   "cell_type": "code",
   "execution_count": 34,
   "metadata": {},
   "outputs": [
    {
     "name": "stdout",
     "output_type": "stream",
     "text": [
      "Cat Prediction Accuracy: 99.40%\n",
      "Dog Prediction Accuracy: 97.70%\n",
      "Overall Accuracy: 98.55%\n"
     ]
    }
   ],
   "source": [
    "cat_acc = len(pred_cats[pred_cats<0.5])/len(pred_cats) * 100\n",
    "dog_acc = len(pred_dogs[pred_dogs>=0.5])/len(pred_dogs) * 100\n",
    "overall_acc = (cat_acc+dog_acc)/2.0\n",
    "\n",
    "print(f'Cat Prediction Accuracy: {cat_acc:.2f}%\\nDog Prediction Accuracy: {dog_acc:.2f}%')\n",
    "print(f'Overall Accuracy: {overall_acc:.2f}%')"
   ]
  },
  {
   "cell_type": "markdown",
   "metadata": {},
   "source": [
    "Before Tuning:\n",
    "\n",
    "Run1\n",
    "- Cat Prediction Accuracy: 97.30%\n",
    "- Dog Prediction Accuracy: 99.40%\n",
    "- Overall Accuracy : 98.35%\n",
    "\n",
    "Run2\n",
    "- Cat Prediction Accuracy: 99.70%\n",
    "- Dog Prediction Accuracy: 95.90%\n",
    "- Overall Accuracy: 97.80%"
   ]
  },
  {
   "cell_type": "markdown",
   "metadata": {},
   "source": [
    "After Tuning:\n",
    "    \n",
    "With Adam(lr=1e-7)\n",
    "- Cat Prediction Accuracy: 99.30%\n",
    "- Dog Prediction Accuracy: 97.90%\n",
    "- Overall Accuracy: 98.60%\n",
    "\n",
    "With RMSprop(lr=1e-7)\n",
    "- Cat Prediction Accuracy: 99.40%\n",
    "- Dog Prediction Accuracy: 97.70%\n",
    "- Overall Accuracy: 98.55%"
   ]
  },
  {
   "cell_type": "code",
   "execution_count": null,
   "metadata": {},
   "outputs": [],
   "source": []
  }
 ],
 "metadata": {
  "_draft": {
   "nbviewer_url": "https://gist.github.com/135ebf9ccb113b1af214bc2b3ed1c20e"
  },
  "gist": {
   "data": {
    "description": "keras_lesson1",
    "public": true
   },
   "id": "135ebf9ccb113b1af214bc2b3ed1c20e"
  },
  "kernelspec": {
   "display_name": "Python 3",
   "language": "python",
   "name": "python3"
  },
  "language_info": {
   "codemirror_mode": {
    "name": "ipython",
    "version": 3
   },
   "file_extension": ".py",
   "mimetype": "text/x-python",
   "name": "python",
   "nbconvert_exporter": "python",
   "pygments_lexer": "ipython3",
   "version": "3.6.4"
  },
  "toc": {
   "base_numbering": 1,
   "nav_menu": {
    "height": "266px",
    "width": "252px"
   },
   "number_sections": true,
   "sideBar": true,
   "skip_h1_title": false,
   "title_cell": "Table of Contents",
   "title_sidebar": "Contents",
   "toc_cell": false,
   "toc_position": {},
   "toc_section_display": "block",
   "toc_window_display": false
  }
 },
 "nbformat": 4,
 "nbformat_minor": 2
}
