{
 "cells": [
  {
   "cell_type": "markdown",
   "metadata": {},
   "source": [
    "# Dogs Vs Cats Classification using Tensorflow and Keras with VGG16 Transfer Learning + Fine Tuning"
   ]
  },
  {
   "cell_type": "markdown",
   "metadata": {},
   "source": [
    "No caching done here as we want to do data augmentation on training data using the best fc layer we have tried earlier.\n",
    "Subequently we want to fine tune the by training earlier layers"
   ]
  },
  {
   "cell_type": "markdown",
   "metadata": {
    "heading_collapsed": true
   },
   "source": [
    "## Import Libraries"
   ]
  },
  {
   "cell_type": "code",
   "execution_count": 2,
   "metadata": {
    "hidden": true
   },
   "outputs": [],
   "source": [
    "%load_ext autoreload\n",
    "%autoreload 2\n",
    "%matplotlib inline"
   ]
  },
  {
   "cell_type": "code",
   "execution_count": 3,
   "metadata": {
    "hidden": true
   },
   "outputs": [],
   "source": [
    "import os\n",
    "import json\n",
    "import numpy as np\n",
    "import matplotlib.pyplot as plt\n",
    "\n",
    "import tensorflow as tf\n",
    "from tensorflow.keras.preprocessing import image\n",
    "from tensorflow.keras.preprocessing.image import ImageDataGenerator\n",
    "from tensorflow.keras.preprocessing.image import array_to_img, img_to_array, load_img\n",
    "from tensorflow.keras.models import load_model, model_from_json\n",
    "from tensorflow.keras.models import Sequential, Model\n",
    "from tensorflow.keras.layers import Conv2D, MaxPooling2D\n",
    "from tensorflow.keras.layers import Activation, Dropout, Flatten, Dense, GlobalAveragePooling2D\n",
    "from tensorflow.keras.callbacks import EarlyStopping, ModelCheckpoint\n",
    "from tensorflow.keras import applications, optimizers\n",
    "from tensorflow.keras import backend as K\n",
    "from tensorflow.keras.applications.vgg16 import preprocess_input"
   ]
  },
  {
   "cell_type": "markdown",
   "metadata": {
    "heading_collapsed": true
   },
   "source": [
    "## Define constants"
   ]
  },
  {
   "cell_type": "code",
   "execution_count": 4,
   "metadata": {
    "hidden": true
   },
   "outputs": [],
   "source": [
    "# dimensions of our images\n",
    "img_width, img_height = 150,150 #224,224 for VGG16 by default\n",
    "\n",
    "PATH = 'data/dogscats_small/'\n",
    "train_data_dir = f'{PATH}train/'\n",
    "validation_data_dir = f'{PATH}validation/'\n",
    "test_data_dir = f'{PATH}test/'\n",
    "epochs = 10\n",
    "batch_size = 16"
   ]
  },
  {
   "cell_type": "code",
   "execution_count": 5,
   "metadata": {
    "hidden": true
   },
   "outputs": [],
   "source": [
    "# value stored in /users/<user>/keras/.keras.json file\n",
    "# \"channels_last\" for tensorflow\n",
    "\n",
    "if K.image_data_format() == 'channels_first':\n",
    "    input_shape = (3, img_width, img_height)\n",
    "else:\n",
    "    input_shape = (img_width, img_height, 3)"
   ]
  },
  {
   "cell_type": "markdown",
   "metadata": {
    "heading_collapsed": true
   },
   "source": [
    "## Helper functions"
   ]
  },
  {
   "cell_type": "code",
   "execution_count": 6,
   "metadata": {
    "hidden": true
   },
   "outputs": [],
   "source": [
    "# ensure the child directories are non-empty and contain jpg files\n",
    "def rand_img_from_child_dirs(dir_path):\n",
    "    \n",
    "    dirs =  [directory for directory in os.listdir(dir_path) if os.path.isdir(os.path.join(dir_path,directory)) \n",
    "             and not directory.startswith('.')]\n",
    "    random_dir = np.random.choice(dirs)\n",
    "    random_dir_path = os.path.join(dir_path,random_dir)\n",
    "    files =  [file for file in os.listdir(random_dir_path) if file.endswith('.jpg')]\n",
    "    random_img = np.random.choice(files)\n",
    "\n",
    "    return os.path.join(random_dir_path,random_img)"
   ]
  },
  {
   "cell_type": "code",
   "execution_count": 7,
   "metadata": {
    "hidden": true
   },
   "outputs": [],
   "source": [
    "def plot_training_history(log):\n",
    "    acc = log.history['acc']\n",
    "    val_acc = log.history['val_acc']\n",
    "    loss = log.history['loss']\n",
    "    val_loss = log.history['val_loss']\n",
    "\n",
    "    epoch_range = range(len(acc))\n",
    "\n",
    "    plt.plot(epoch_range, acc, 'b', label='Training acc')\n",
    "    plt.plot(epoch_range, val_acc, 'r', label='Validation acc')\n",
    "    plt.title('Training and validation accuracy')\n",
    "    plt.legend()\n",
    "\n",
    "    plt.figure()\n",
    "\n",
    "    plt.plot(epoch_range, loss, 'b', label='Training loss')\n",
    "    plt.plot(epoch_range, val_loss, 'r', label='Validation loss')\n",
    "    plt.title('Training and validation loss')\n",
    "    plt.legend()\n",
    "\n",
    "    plt.show()"
   ]
  },
  {
   "cell_type": "code",
   "execution_count": 38,
   "metadata": {
    "hidden": true
   },
   "outputs": [],
   "source": [
    "def print_layer_trainable(model):\n",
    "    for layer in model.layers:\n",
    "        print(\"{0}:\\t{1}\".format(layer.trainable, layer.name))"
   ]
  },
  {
   "cell_type": "markdown",
   "metadata": {
    "heading_collapsed": true
   },
   "source": [
    "## Transfer Learning"
   ]
  },
  {
   "cell_type": "markdown",
   "metadata": {
    "heading_collapsed": true,
    "hidden": true
   },
   "source": [
    "### Prepare Training Data"
   ]
  },
  {
   "cell_type": "code",
   "execution_count": 8,
   "metadata": {
    "hidden": true
   },
   "outputs": [],
   "source": [
    "train_datagen = ImageDataGenerator(preprocessing_function=preprocess_input,\n",
    "                                   shear_range=0.2, \n",
    "                                   zoom_range=0.2, \n",
    "                                   horizontal_flip=True)\n",
    "\n",
    "validation_datagen = ImageDataGenerator(preprocessing_function=preprocess_input)"
   ]
  },
  {
   "cell_type": "code",
   "execution_count": 9,
   "metadata": {
    "hidden": true
   },
   "outputs": [
    {
     "name": "stdout",
     "output_type": "stream",
     "text": [
      "Found 2000 images belonging to 2 classes.\n",
      "Found 800 images belonging to 2 classes.\n"
     ]
    }
   ],
   "source": [
    "train_generator = train_datagen.flow_from_directory(\n",
    "    train_data_dir,\n",
    "    target_size=(img_width, img_height),\n",
    "    batch_size=batch_size,\n",
    "    class_mode='binary',\n",
    "    shuffle=True)\n",
    "\n",
    "validation_generator = validation_datagen.flow_from_directory(\n",
    "    validation_data_dir,\n",
    "    target_size=(img_width, img_height),\n",
    "    batch_size=batch_size,\n",
    "    class_mode='binary',\n",
    "    shuffle=False)"
   ]
  },
  {
   "cell_type": "markdown",
   "metadata": {
    "heading_collapsed": true,
    "hidden": true
   },
   "source": [
    "### Build pre-trained model"
   ]
  },
  {
   "cell_type": "markdown",
   "metadata": {
    "hidden": true
   },
   "source": [
    "For future reference:\n",
    "\n",
    "To detach the conv model from the fc layers from a full VGG model\n",
    "\n",
    "`model = applications.VGG16(include_top=True, weights='imagenet', input_shape=input_shape)`\n",
    "\n",
    "`transfer_layer = base_model.get_layer('block5_pool')`\n",
    "\n",
    "`transfer_layer.output`\n",
    "\n",
    "`conv_model = Model(inputs=model.input,outputs=transfer_layer.output)`\n",
    "\n",
    "Alternatively, just download without the last layers by setting include_top = False and do below"
   ]
  },
  {
   "cell_type": "code",
   "execution_count": 10,
   "metadata": {
    "hidden": true
   },
   "outputs": [],
   "source": [
    "conv_model = applications.VGG16(include_top=False, weights='imagenet', input_shape=input_shape)\n",
    "#conv_model.summary()"
   ]
  },
  {
   "cell_type": "code",
   "execution_count": 13,
   "metadata": {
    "hidden": true
   },
   "outputs": [],
   "source": [
    "build_with_sequential = False # else it would be functional\n",
    "fc_type = 2\n",
    "\n",
    "if build_with_sequential:\n",
    "    new_model = Sequential()\n",
    "    new_model.add(conv_model)\n",
    "\n",
    "    if fc_type == 1:\n",
    "        new_model.add(Flatten())\n",
    "        new_model.add(Dense(256, activation='relu')) # Keras blog version\n",
    "        new_model.add(Dropout(0.5))\n",
    "    elif fc_type == 2:\n",
    "        new_model.add(Flatten())\n",
    "        new_model.add(Dense(1024, activation='relu')) # Magnus Pedersen Version\n",
    "        new_model.add(Dropout(0.5))\n",
    "    else:\n",
    "        # fastai jeremy's version\n",
    "        new_model.add(GlobalAveragePooling2D())\n",
    "        new_model.add(Dense(1024, activation='relu'))\n",
    "\n",
    "    new_model.add(Dense(1, activation='sigmoid'))\n",
    "    \n",
    "else:\n",
    "    x = conv_model.output\n",
    "\n",
    "    if fc_type == 1:\n",
    "        x = Flatten()(x)\n",
    "        x = Dense(256, activation='relu')(x)\n",
    "        x = Dropout(0.5)(x)\n",
    "    elif fc_type == 2:\n",
    "        x = Flatten()(x)\n",
    "        x = Dense(1024, activation='relu')(x)\n",
    "        x = Dropout(0.5)(x)\n",
    "    else:\n",
    "        x = GlobalAveragePooling2D()(x)\n",
    "        x = Dense(1024, activation='relu')(x)\n",
    "\n",
    "    predictions = Dense(1, activation='sigmoid')(x)\n",
    "    new_model = Model(inputs=conv_model.input, outputs=predictions)"
   ]
  },
  {
   "cell_type": "code",
   "execution_count": 14,
   "metadata": {
    "hidden": true
   },
   "outputs": [
    {
     "name": "stdout",
     "output_type": "stream",
     "text": [
      "<class 'tensorflow.python.keras.engine.training.Model'>\n",
      "_________________________________________________________________\n",
      "Layer (type)                 Output Shape              Param #   \n",
      "=================================================================\n",
      "input_1 (InputLayer)         (None, 150, 150, 3)       0         \n",
      "_________________________________________________________________\n",
      "block1_conv1 (Conv2D)        (None, 150, 150, 64)      1792      \n",
      "_________________________________________________________________\n",
      "block1_conv2 (Conv2D)        (None, 150, 150, 64)      36928     \n",
      "_________________________________________________________________\n",
      "block1_pool (MaxPooling2D)   (None, 75, 75, 64)        0         \n",
      "_________________________________________________________________\n",
      "block2_conv1 (Conv2D)        (None, 75, 75, 128)       73856     \n",
      "_________________________________________________________________\n",
      "block2_conv2 (Conv2D)        (None, 75, 75, 128)       147584    \n",
      "_________________________________________________________________\n",
      "block2_pool (MaxPooling2D)   (None, 37, 37, 128)       0         \n",
      "_________________________________________________________________\n",
      "block3_conv1 (Conv2D)        (None, 37, 37, 256)       295168    \n",
      "_________________________________________________________________\n",
      "block3_conv2 (Conv2D)        (None, 37, 37, 256)       590080    \n",
      "_________________________________________________________________\n",
      "block3_conv3 (Conv2D)        (None, 37, 37, 256)       590080    \n",
      "_________________________________________________________________\n",
      "block3_pool (MaxPooling2D)   (None, 18, 18, 256)       0         \n",
      "_________________________________________________________________\n",
      "block4_conv1 (Conv2D)        (None, 18, 18, 512)       1180160   \n",
      "_________________________________________________________________\n",
      "block4_conv2 (Conv2D)        (None, 18, 18, 512)       2359808   \n",
      "_________________________________________________________________\n",
      "block4_conv3 (Conv2D)        (None, 18, 18, 512)       2359808   \n",
      "_________________________________________________________________\n",
      "block4_pool (MaxPooling2D)   (None, 9, 9, 512)         0         \n",
      "_________________________________________________________________\n",
      "block5_conv1 (Conv2D)        (None, 9, 9, 512)         2359808   \n",
      "_________________________________________________________________\n",
      "block5_conv2 (Conv2D)        (None, 9, 9, 512)         2359808   \n",
      "_________________________________________________________________\n",
      "block5_conv3 (Conv2D)        (None, 9, 9, 512)         2359808   \n",
      "_________________________________________________________________\n",
      "block5_pool (MaxPooling2D)   (None, 4, 4, 512)         0         \n",
      "_________________________________________________________________\n",
      "flatten_1 (Flatten)          (None, 8192)              0         \n",
      "_________________________________________________________________\n",
      "dense_2 (Dense)              (None, 1024)              8389632   \n",
      "_________________________________________________________________\n",
      "dropout_1 (Dropout)          (None, 1024)              0         \n",
      "_________________________________________________________________\n",
      "dense_3 (Dense)              (None, 1)                 1025      \n",
      "=================================================================\n",
      "Total params: 23,105,345\n",
      "Trainable params: 23,105,345\n",
      "Non-trainable params: 0\n",
      "_________________________________________________________________\n"
     ]
    }
   ],
   "source": [
    "# Building with Sequential will merge conv_model as one single layer \n",
    "# new_model will be of Sequential class\n",
    "\n",
    "# Building with Functional will retain conv_model layer structures\n",
    "# new_model will be of Model class\n",
    "\n",
    "print(type(new_model))\n",
    "new_model.summary()"
   ]
  },
  {
   "cell_type": "code",
   "execution_count": 16,
   "metadata": {
    "hidden": true
   },
   "outputs": [],
   "source": [
    "#print_layer_trainable(new_model)"
   ]
  },
  {
   "cell_type": "code",
   "execution_count": 17,
   "metadata": {
    "hidden": true
   },
   "outputs": [],
   "source": [
    "# Freeze VGG16 conv layers\n",
    "if build_with_sequential:\n",
    "    conv_model.trainable = False\n",
    "else:\n",
    "    for layer in conv_model.layers: \n",
    "        layer.trainable = False"
   ]
  },
  {
   "cell_type": "code",
   "execution_count": 39,
   "metadata": {
    "hidden": true
   },
   "outputs": [
    {
     "name": "stdout",
     "output_type": "stream",
     "text": [
      "False:\tinput_1\n",
      "False:\tblock1_conv1\n",
      "False:\tblock1_conv2\n",
      "False:\tblock1_pool\n",
      "False:\tblock2_conv1\n",
      "False:\tblock2_conv2\n",
      "False:\tblock2_pool\n",
      "False:\tblock3_conv1\n",
      "False:\tblock3_conv2\n",
      "False:\tblock3_conv3\n",
      "False:\tblock3_pool\n",
      "False:\tblock4_conv1\n",
      "False:\tblock4_conv2\n",
      "False:\tblock4_conv3\n",
      "False:\tblock4_pool\n",
      "False:\tblock5_conv1\n",
      "False:\tblock5_conv2\n",
      "False:\tblock5_conv3\n",
      "False:\tblock5_pool\n",
      "True:\tflatten_1\n",
      "True:\tdense_2\n",
      "True:\tdropout_1\n",
      "True:\tdense_3\n"
     ]
    }
   ],
   "source": [
    "print_layer_trainable(new_model)"
   ]
  },
  {
   "cell_type": "code",
   "execution_count": 19,
   "metadata": {
    "hidden": true
   },
   "outputs": [],
   "source": [
    "# compile must be called after the trainable are set\n",
    "new_model.compile(optimizer='rmsprop', loss='binary_crossentropy', metrics=['accuracy'])"
   ]
  },
  {
   "cell_type": "code",
   "execution_count": 20,
   "metadata": {
    "hidden": true
   },
   "outputs": [
    {
     "name": "stdout",
     "output_type": "stream",
     "text": [
      "Epoch 1/10\n",
      "125/125 [==============================] - 20s 162ms/step - loss: 2.5952 - acc: 0.8295 - val_loss: 1.0663 - val_acc: 0.9300\n",
      "Epoch 2/10\n",
      "125/125 [==============================] - 17s 137ms/step - loss: 1.7066 - acc: 0.8900 - val_loss: 1.3886 - val_acc: 0.9113\n",
      "Epoch 3/10\n",
      "125/125 [==============================] - 17s 137ms/step - loss: 1.7344 - acc: 0.8895 - val_loss: 0.9382 - val_acc: 0.9387\n",
      "Epoch 4/10\n",
      "125/125 [==============================] - 17s 136ms/step - loss: 1.1562 - acc: 0.9250 - val_loss: 1.0531 - val_acc: 0.9300\n",
      "Epoch 5/10\n",
      "125/125 [==============================] - 17s 137ms/step - loss: 1.2866 - acc: 0.9165 - val_loss: 1.1746 - val_acc: 0.9250\n",
      "Epoch 6/10\n",
      "125/125 [==============================] - 17s 137ms/step - loss: 1.1113 - acc: 0.9275 - val_loss: 0.7528 - val_acc: 0.9525\n",
      "Epoch 7/10\n",
      "125/125 [==============================] - 17s 137ms/step - loss: 0.9981 - acc: 0.9360 - val_loss: 0.7724 - val_acc: 0.9500\n",
      "Epoch 8/10\n",
      "125/125 [==============================] - 17s 136ms/step - loss: 0.7669 - acc: 0.9505 - val_loss: 0.7001 - val_acc: 0.9537\n",
      "Epoch 9/10\n",
      "125/125 [==============================] - 17s 136ms/step - loss: 0.8844 - acc: 0.9435 - val_loss: 0.6805 - val_acc: 0.9563\n",
      "Epoch 10/10\n",
      "125/125 [==============================] - 17s 136ms/step - loss: 0.8603 - acc: 0.9460 - val_loss: 0.6492 - val_acc: 0.9587\n",
      "CPU times: user 7min 34s, sys: 21.5 s, total: 7min 56s\n",
      "Wall time: 2min 54s\n"
     ]
    }
   ],
   "source": [
    "%%time\n",
    "training_log = new_model.fit_generator(\n",
    "    train_generator,\n",
    "    steps_per_epoch=train_generator.n // batch_size,\n",
    "    epochs=epochs,\n",
    "    workers=4,\n",
    "    validation_data=validation_generator,\n",
    "    validation_steps=validation_generator.n // batch_size)"
   ]
  },
  {
   "cell_type": "code",
   "execution_count": 21,
   "metadata": {
    "hidden": true
   },
   "outputs": [
    {
     "data": {
      "image/png": "[encoded data removed]",
      "text/plain": [
       "<Figure size 432x288 with 1 Axes>"
      ]
     },
     "metadata": {},
     "output_type": "display_data"
    },
    {
     "data": {
      "image/png": "[encoded data removed]",
      "text/plain": [
       "<Figure size 432x288 with 1 Axes>"
      ]
     },
     "metadata": {},
     "output_type": "display_data"
    }
   ],
   "source": [
    "plot_training_history(training_log)"
   ]
  },
  {
   "cell_type": "markdown",
   "metadata": {
    "heading_collapsed": true,
    "hidden": true
   },
   "source": [
    "### Save model"
   ]
  },
  {
   "cell_type": "markdown",
   "metadata": {
    "heading_collapsed": true,
    "hidden": true
   },
   "source": [
    "#### Save as full model"
   ]
  },
  {
   "cell_type": "code",
   "execution_count": 22,
   "metadata": {
    "hidden": true
   },
   "outputs": [],
   "source": [
    "os.makedirs(f'{PATH}models/', exist_ok=True)"
   ]
  },
  {
   "cell_type": "code",
   "execution_count": 23,
   "metadata": {
    "hidden": true
   },
   "outputs": [],
   "source": [
    "new_model.save(f'{PATH}/models/vgg16_bottleneck_fc_model.h5')"
   ]
  },
  {
   "cell_type": "markdown",
   "metadata": {
    "hidden": true
   },
   "source": [
    "#### Save as architecture definition (json) + weights value"
   ]
  },
  {
   "cell_type": "code",
   "execution_count": 24,
   "metadata": {
    "hidden": true
   },
   "outputs": [],
   "source": [
    "model_json = new_model.to_json()\n",
    "\n",
    "with open(f'{PATH}/models/vgg16_bottleneck_fc_arch.json', 'w') as json_file:\n",
    "    json_file.write(model_json)\n",
    "    \n",
    "new_model.save_weights(f'{PATH}/models/vgg16_bottleneck_fc_weights.h5')"
   ]
  },
  {
   "cell_type": "markdown",
   "metadata": {
    "heading_collapsed": true,
    "hidden": true
   },
   "source": [
    "### Load model to predict test data"
   ]
  },
  {
   "cell_type": "code",
   "execution_count": 25,
   "metadata": {
    "hidden": true
   },
   "outputs": [],
   "source": [
    "# both options should return the same model but we may want to \n",
    "# change the weights using those obtained from training\n",
    "load_from_model_file = True\n",
    "\n",
    "if load_from_model_file:\n",
    "    test_model = load_model(f'{PATH}/models/vgg16_bottleneck_fc_model.h5')\n",
    "else:\n",
    "    json_file = open(f'{PATH}/models/vgg16_bottleneck_fc_arch.json', 'r')\n",
    "    loaded_model_json = json_file.read()\n",
    "    json_file.close()\n",
    "    test_model = model_from_json(loaded_model_json)\n",
    "\n",
    "    test_model.load_weights(f'{PATH}/models/vgg16_bottleneck_fc_weights.h5')"
   ]
  },
  {
   "cell_type": "code",
   "execution_count": 26,
   "metadata": {
    "hidden": true
   },
   "outputs": [
    {
     "name": "stdout",
     "output_type": "stream",
     "text": [
      "_________________________________________________________________\n",
      "Layer (type)                 Output Shape              Param #   \n",
      "=================================================================\n",
      "input_1 (InputLayer)         (None, 150, 150, 3)       0         \n",
      "_________________________________________________________________\n",
      "block1_conv1 (Conv2D)        (None, 150, 150, 64)      1792      \n",
      "_________________________________________________________________\n",
      "block1_conv2 (Conv2D)        (None, 150, 150, 64)      36928     \n",
      "_________________________________________________________________\n",
      "block1_pool (MaxPooling2D)   (None, 75, 75, 64)        0         \n",
      "_________________________________________________________________\n",
      "block2_conv1 (Conv2D)        (None, 75, 75, 128)       73856     \n",
      "_________________________________________________________________\n",
      "block2_conv2 (Conv2D)        (None, 75, 75, 128)       147584    \n",
      "_________________________________________________________________\n",
      "block2_pool (MaxPooling2D)   (None, 37, 37, 128)       0         \n",
      "_________________________________________________________________\n",
      "block3_conv1 (Conv2D)        (None, 37, 37, 256)       295168    \n",
      "_________________________________________________________________\n",
      "block3_conv2 (Conv2D)        (None, 37, 37, 256)       590080    \n",
      "_________________________________________________________________\n",
      "block3_conv3 (Conv2D)        (None, 37, 37, 256)       590080    \n",
      "_________________________________________________________________\n",
      "block3_pool (MaxPooling2D)   (None, 18, 18, 256)       0         \n",
      "_________________________________________________________________\n",
      "block4_conv1 (Conv2D)        (None, 18, 18, 512)       1180160   \n",
      "_________________________________________________________________\n",
      "block4_conv2 (Conv2D)        (None, 18, 18, 512)       2359808   \n",
      "_________________________________________________________________\n",
      "block4_conv3 (Conv2D)        (None, 18, 18, 512)       2359808   \n",
      "_________________________________________________________________\n",
      "block4_pool (MaxPooling2D)   (None, 9, 9, 512)         0         \n",
      "_________________________________________________________________\n",
      "block5_conv1 (Conv2D)        (None, 9, 9, 512)         2359808   \n",
      "_________________________________________________________________\n",
      "block5_conv2 (Conv2D)        (None, 9, 9, 512)         2359808   \n",
      "_________________________________________________________________\n",
      "block5_conv3 (Conv2D)        (None, 9, 9, 512)         2359808   \n",
      "_________________________________________________________________\n",
      "block5_pool (MaxPooling2D)   (None, 4, 4, 512)         0         \n",
      "_________________________________________________________________\n",
      "flatten_1 (Flatten)          (None, 8192)              0         \n",
      "_________________________________________________________________\n",
      "dense_2 (Dense)              (None, 1024)              8389632   \n",
      "_________________________________________________________________\n",
      "dropout_1 (Dropout)          (None, 1024)              0         \n",
      "_________________________________________________________________\n",
      "dense_3 (Dense)              (None, 1)                 1025      \n",
      "=================================================================\n",
      "Total params: 23,105,345\n",
      "Trainable params: 8,390,657\n",
      "Non-trainable params: 14,714,688\n",
      "_________________________________________________________________\n"
     ]
    }
   ],
   "source": [
    "test_model.summary()"
   ]
  },
  {
   "cell_type": "code",
   "execution_count": 40,
   "metadata": {
    "hidden": true
   },
   "outputs": [
    {
     "name": "stdout",
     "output_type": "stream",
     "text": [
      "True:\tinput_1\n",
      "False:\tblock1_conv1\n",
      "False:\tblock1_conv2\n",
      "False:\tblock1_pool\n",
      "False:\tblock2_conv1\n",
      "False:\tblock2_conv2\n",
      "False:\tblock2_pool\n",
      "False:\tblock3_conv1\n",
      "False:\tblock3_conv2\n",
      "False:\tblock3_conv3\n",
      "False:\tblock3_pool\n",
      "False:\tblock4_conv1\n",
      "False:\tblock4_conv2\n",
      "False:\tblock4_conv3\n",
      "False:\tblock4_pool\n",
      "False:\tblock5_conv1\n",
      "False:\tblock5_conv2\n",
      "False:\tblock5_conv3\n",
      "False:\tblock5_pool\n",
      "True:\tflatten_1\n",
      "True:\tdense_2\n",
      "True:\tdropout_1\n",
      "True:\tdense_3\n"
     ]
    }
   ],
   "source": [
    "print_layer_trainable(test_model)"
   ]
  },
  {
   "cell_type": "markdown",
   "metadata": {
    "heading_collapsed": true,
    "hidden": true
   },
   "source": [
    "### Predict on single image"
   ]
  },
  {
   "cell_type": "code",
   "execution_count": 28,
   "metadata": {
    "hidden": true
   },
   "outputs": [
    {
     "name": "stdout",
     "output_type": "stream",
     "text": [
      "data/dogscats_small/validation/cats/cat.1106.jpg\n"
     ]
    },
    {
     "data": {
      "image/png": "[encoded data removed]",
      "text/plain": [
       "<PIL.Image.Image image mode=RGB size=150x150 at 0x7FDC31E0B3C8>"
      ]
     },
     "execution_count": 28,
     "metadata": {},
     "output_type": "execute_result"
    }
   ],
   "source": [
    "rand_img_path = rand_img_from_child_dirs(validation_data_dir)\n",
    "rand_img = image.load_img(rand_img_path, target_size=(img_width, img_height))    \n",
    "rand_dog_cat = 'dog' if 'validation/dogs' in rand_img_path else 'cat'\n",
    "\n",
    "print(rand_img_path)\n",
    "rand_img"
   ]
  },
  {
   "cell_type": "code",
   "execution_count": 29,
   "metadata": {
    "hidden": true
   },
   "outputs": [],
   "source": [
    "x_test = image.img_to_array(rand_img)\n",
    "x_test = preprocess_input(x_test)\n",
    "x_test = np.expand_dims(x_test, axis=0) # increase dimension so that can be fed into model"
   ]
  },
  {
   "cell_type": "code",
   "execution_count": 30,
   "metadata": {
    "hidden": true
   },
   "outputs": [
    {
     "data": {
      "text/plain": [
       "0.0"
      ]
     },
     "execution_count": 30,
     "metadata": {},
     "output_type": "execute_result"
    }
   ],
   "source": [
    "prob = np.asscalar(np.squeeze(test_model.predict(x_test)))\n",
    "prob"
   ]
  },
  {
   "cell_type": "code",
   "execution_count": 31,
   "metadata": {
    "hidden": true
   },
   "outputs": [
    {
     "name": "stdout",
     "output_type": "stream",
     "text": [
      "The model is 100.0% sure this is a cat\n"
     ]
    }
   ],
   "source": [
    "res = 'dog' if prob>=0.5 else 'cat'\n",
    "pct = round(prob*100,2)\n",
    "if res is 'cat':\n",
    "    pct = 100 - pct \n",
    "\n",
    "print('The model is ' + str(pct) + '% sure this is a ' + res)"
   ]
  },
  {
   "cell_type": "markdown",
   "metadata": {
    "heading_collapsed": true,
    "hidden": true
   },
   "source": [
    "### Predict on batch of test images"
   ]
  },
  {
   "cell_type": "markdown",
   "metadata": {
    "hidden": true
   },
   "source": [
    "Unlike validation data, these are never seen or tested before"
   ]
  },
  {
   "cell_type": "code",
   "execution_count": 32,
   "metadata": {
    "hidden": true
   },
   "outputs": [],
   "source": [
    "def model_predict(data_dir, model):\n",
    "    probs = []\n",
    "    for fn in os.listdir(data_dir):\n",
    "        img = load_img(data_dir+fn, target_size=(img_width,img_height))\n",
    "        x = img_to_array(img)\n",
    "        x = preprocess_input(x)\n",
    "        x = np.expand_dims(x, axis=0)\n",
    "        \n",
    "        prob = np.asscalar(np.squeeze(model.predict(x)))\n",
    "        probs.append(prob)\n",
    "\n",
    "    return np.array(probs)"
   ]
  },
  {
   "cell_type": "code",
   "execution_count": 33,
   "metadata": {
    "hidden": true
   },
   "outputs": [],
   "source": [
    "dog_test_dir = f\"{test_data_dir}dogs/\"\n",
    "cat_test_dir = f\"{test_data_dir}cats/\""
   ]
  },
  {
   "cell_type": "code",
   "execution_count": 34,
   "metadata": {
    "hidden": true
   },
   "outputs": [],
   "source": [
    "pred_dogs = model_predict(dog_test_dir, test_model)"
   ]
  },
  {
   "cell_type": "code",
   "execution_count": 35,
   "metadata": {
    "hidden": true
   },
   "outputs": [],
   "source": [
    "pred_cats = model_predict(cat_test_dir, test_model)"
   ]
  },
  {
   "cell_type": "code",
   "execution_count": 36,
   "metadata": {
    "hidden": true
   },
   "outputs": [
    {
     "name": "stdout",
     "output_type": "stream",
     "text": [
      "Cat Prediction Accuracy: 92.40%\n",
      "Dog Prediction Accuracy: 96.80%\n",
      "Overall Accuracy: 94.60%\n"
     ]
    }
   ],
   "source": [
    "cat_acc = len(pred_cats[pred_cats<0.5])/len(pred_cats) * 100\n",
    "dog_acc = len(pred_dogs[pred_dogs>=0.5])/len(pred_dogs) * 100\n",
    "overall_acc = (cat_acc+dog_acc)/2.0\n",
    "\n",
    "print(f'Cat Prediction Accuracy: {cat_acc:.2f}%\\nDog Prediction Accuracy: {dog_acc:.2f}%')\n",
    "print(f'Overall Accuracy: {overall_acc:.2f}%')"
   ]
  },
  {
   "cell_type": "markdown",
   "metadata": {
    "hidden": true
   },
   "source": [
    "10 Epochs Results\n",
    "\n",
    "Baseline:\n",
    "- Cat Prediction Accuracy: 77.80%\n",
    "- Dog Prediction Accuracy: 77.30%\n",
    "- Overall Accuract: 77.55%\n",
    "\n",
    "Sequential_1\n",
    "- Cat Prediction Accuracy: 97.60%\n",
    "- Dog Prediction Accuracy: 89.80%\n",
    "- Overall Accuracy: 93.70%\n",
    "\n",
    "Sequential_2\n",
    "- Cat Prediction Accuracy: 98.30%\n",
    "- Dog Prediction Accuracy: 91.00%\n",
    "- Overall Accuracy: 94.65%\n",
    "\n",
    "Sequential_3\n",
    "- Cat Prediction Accuracy: 97.50%\n",
    "- Dog Prediction Accuracy: 94.60%\n",
    "- Overall Accuracy: 96.05%\n",
    "\n",
    "Functional_1\n",
    "- Cat Prediction Accuracy: 97.20%\n",
    "- Dog Prediction Accuracy: 94.20%\n",
    "- Overall Accuract: 95.70%\n",
    "\n",
    "Functional_2\n",
    "- Cat Prediction Accuracy: 98.10%\n",
    "- Dog Prediction Accuracy: 89.80%\n",
    "- Overall Accuracy: 93.95%\n",
    "\n",
    "Functional_3\n",
    "- Cat Prediction Accuracy: 98.10%\n",
    "- Dog Prediction Accuracy: 92.30%\n",
    "- Overall Accuracy: 95.20%\n"
   ]
  },
  {
   "cell_type": "markdown",
   "metadata": {},
   "source": [
    "## Fine-tuning"
   ]
  },
  {
   "cell_type": "code",
   "execution_count": 124,
   "metadata": {},
   "outputs": [],
   "source": [
    "finetune_model = load_model(f'{PATH}/models/vgg16_bottleneck_fc_model.h5')\n",
    "# finetune_model.summary()"
   ]
  },
  {
   "cell_type": "code",
   "execution_count": 125,
   "metadata": {},
   "outputs": [],
   "source": [
    "#print_layer_trainable(finetune_model)"
   ]
  },
  {
   "cell_type": "code",
   "execution_count": 126,
   "metadata": {},
   "outputs": [],
   "source": [
    "for layer in finetune_model.layers:\n",
    "    # Boolean whether this layer is trainable.\n",
    "    trainable = ('block1' in layer.name or \n",
    "                 'block2' in layer.name or \n",
    "                 'block3' in layer.name or \n",
    "                 'input_1' in layer.name)\n",
    "    \n",
    "    # Set the layer's bool.\n",
    "    layer.trainable = not trainable"
   ]
  },
  {
   "cell_type": "code",
   "execution_count": 127,
   "metadata": {},
   "outputs": [],
   "source": [
    "#print_layer_trainable(finetune_model)"
   ]
  },
  {
   "cell_type": "code",
   "execution_count": 128,
   "metadata": {},
   "outputs": [],
   "source": [
    "#optimizer_fine = optimizers.Adam(lr=1e-7)\n",
    "optimizer_fine = optimizers.RMSprop(lr=1e-7)\n",
    "#optimizer_fine = optimizers.SGD(lr=1e-6, momentum=0.9)"
   ]
  },
  {
   "cell_type": "code",
   "execution_count": 129,
   "metadata": {},
   "outputs": [],
   "source": [
    "# compile must be called after the trainable are set\n",
    "finetune_model.compile(optimizer=optimizer_fine, loss='binary_crossentropy', metrics=['accuracy'])"
   ]
  },
  {
   "cell_type": "code",
   "execution_count": 130,
   "metadata": {},
   "outputs": [
    {
     "name": "stdout",
     "output_type": "stream",
     "text": [
      "Epoch 1/10\n",
      "125/125 [==============================] - 29s 229ms/step - loss: 0.7098 - acc: 0.9545 - val_loss: 0.6488 - val_acc: 0.9587\n",
      "Epoch 2/10\n",
      "125/125 [==============================] - 24s 193ms/step - loss: 0.7031 - acc: 0.9550 - val_loss: 0.6451 - val_acc: 0.9587\n",
      "Epoch 3/10\n",
      "125/125 [==============================] - 24s 192ms/step - loss: 0.7602 - acc: 0.9505 - val_loss: 0.6395 - val_acc: 0.9600\n",
      "Epoch 4/10\n",
      "125/125 [==============================] - 24s 193ms/step - loss: 0.7840 - acc: 0.9490 - val_loss: 0.6402 - val_acc: 0.9600\n",
      "Epoch 5/10\n",
      "125/125 [==============================] - 24s 193ms/step - loss: 0.7609 - acc: 0.9510 - val_loss: 0.6562 - val_acc: 0.9587\n",
      "Epoch 6/10\n",
      "125/125 [==============================] - 24s 192ms/step - loss: 0.7174 - acc: 0.9545 - val_loss: 0.6550 - val_acc: 0.9587\n",
      "Epoch 7/10\n",
      "125/125 [==============================] - 24s 192ms/step - loss: 0.6458 - acc: 0.9575 - val_loss: 0.6559 - val_acc: 0.9575\n",
      "Epoch 8/10\n",
      "125/125 [==============================] - 24s 192ms/step - loss: 0.6623 - acc: 0.9585 - val_loss: 0.6546 - val_acc: 0.9587\n",
      "Epoch 9/10\n",
      "125/125 [==============================] - 24s 192ms/step - loss: 0.7582 - acc: 0.9505 - val_loss: 0.6602 - val_acc: 0.9563\n",
      "Epoch 10/10\n",
      "125/125 [==============================] - 24s 191ms/step - loss: 0.7060 - acc: 0.9545 - val_loss: 0.6774 - val_acc: 0.9563\n",
      "CPU times: user 7min 26s, sys: 34.8 s, total: 8min 1s\n",
      "Wall time: 4min 4s\n"
     ]
    }
   ],
   "source": [
    "%%time\n",
    "finetune_training_log = finetune_model.fit_generator(\n",
    "    train_generator,\n",
    "    steps_per_epoch=train_generator.n // batch_size,\n",
    "    epochs=epochs,\n",
    "    workers=4,\n",
    "    validation_data=validation_generator,\n",
    "    validation_steps=validation_generator.n // batch_size)"
   ]
  },
  {
   "cell_type": "code",
   "execution_count": 131,
   "metadata": {},
   "outputs": [
    {
     "data": {
      "image/png": "[encoded data removed]",
      "text/plain": [
       "<Figure size 432x288 with 1 Axes>"
      ]
     },
     "metadata": {},
     "output_type": "display_data"
    },
    {
     "data": {
      "image/png": "[encoded data removed]",
      "text/plain": [
       "<Figure size 432x288 with 1 Axes>"
      ]
     },
     "metadata": {},
     "output_type": "display_data"
    }
   ],
   "source": [
    "plot_training_history(finetune_training_log)"
   ]
  },
  {
   "cell_type": "code",
   "execution_count": 132,
   "metadata": {},
   "outputs": [],
   "source": [
    "pred_dogs = model_predict(dog_test_dir, finetune_model)\n",
    "pred_cats = model_predict(cat_test_dir, finetune_model)"
   ]
  },
  {
   "cell_type": "code",
   "execution_count": 133,
   "metadata": {},
   "outputs": [
    {
     "name": "stdout",
     "output_type": "stream",
     "text": [
      "Cat Prediction Accuracy: 94.50%\n",
      "Dog Prediction Accuracy: 96.20%\n",
      "Overall Accuracy: 95.35%\n"
     ]
    }
   ],
   "source": [
    "cat_acc = len(pred_cats[pred_cats<0.5])/len(pred_cats) * 100\n",
    "dog_acc = len(pred_dogs[pred_dogs>=0.5])/len(pred_dogs) * 100\n",
    "overall_acc = (cat_acc+dog_acc)/2.0\n",
    "\n",
    "print(f'Cat Prediction Accuracy: {cat_acc:.2f}%\\nDog Prediction Accuracy: {dog_acc:.2f}%')\n",
    "print(f'Overall Accuracy: {overall_acc:.2f}%')"
   ]
  },
  {
   "cell_type": "markdown",
   "metadata": {},
   "source": [
    "Before Tuning:\n",
    "- Cat Prediction Accuracy: 92.40%\n",
    "- Dog Prediction Accuracy: 96.80%\n",
    "- Overall Accuracy: 94.60%"
   ]
  },
  {
   "cell_type": "markdown",
   "metadata": {},
   "source": [
    "After Tuning (Freezing Block 1,2, 3):\n",
    "    \n",
    "With Adam(lr=1e-7)\n",
    "- Cat Prediction Accuracy: 96.50%\n",
    "- Dog Prediction Accuracy: 94.80%\n",
    "- Overall Accuracy: 95.65%\n",
    "\n",
    "With RMSprop(lr=1e-6)\n",
    "- Cat Prediction Accuracy: 97.90%\n",
    "- Dog Prediction Accuracy: 92.30%\n",
    "- Overall Accuracy: 95.10%\n",
    "\n",
    "With RMSprop(lr=1e-7)\n",
    "- Cat Prediction Accuracy: 94.50%\n",
    "- Dog Prediction Accuracy: 96.20%\n",
    "- Overall Accuracy: 95.35%\n",
    "\n",
    "With SGD(lr=1e-6, momentum=0.9)\n",
    "- Cat Prediction Accuracy: 98.30%\n",
    "- Dog Prediction Accuracy: 90.20%\n",
    "- Overall Accuracy: 94.25%"
   ]
  },
  {
   "cell_type": "code",
   "execution_count": null,
   "metadata": {},
   "outputs": [],
   "source": []
  }
 ],
 "metadata": {
  "_draft": {
   "nbviewer_url": "https://gist.github.com/135ebf9ccb113b1af214bc2b3ed1c20e"
  },
  "gist": {
   "data": {
    "description": "keras_lesson1",
    "public": true
   },
   "id": "135ebf9ccb113b1af214bc2b3ed1c20e"
  },
  "kernelspec": {
   "display_name": "Python 3",
   "language": "python",
   "name": "python3"
  },
  "language_info": {
   "codemirror_mode": {
    "name": "ipython",
    "version": 3
   },
   "file_extension": ".py",
   "mimetype": "text/x-python",
   "name": "python",
   "nbconvert_exporter": "python",
   "pygments_lexer": "ipython3",
   "version": "3.6.5"
  },
  "toc": {
   "base_numbering": 1,
   "nav_menu": {
    "height": "266px",
    "width": "252px"
   },
   "number_sections": true,
   "sideBar": true,
   "skip_h1_title": false,
   "title_cell": "Table of Contents",
   "title_sidebar": "Contents",
   "toc_cell": false,
   "toc_position": {},
   "toc_section_display": "block",
   "toc_window_display": false
  }
 },
 "nbformat": 4,
 "nbformat_minor": 2
}
