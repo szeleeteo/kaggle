{
 "cells": [
  {
   "cell_type": "markdown",
   "metadata": {},
   "source": [
    "# Dogs Vs Cats Classification using Tensorflow and Keras with VGG16 Transfer Learning + Fine Tuning"
   ]
  },
  {
   "cell_type": "markdown",
   "metadata": {},
   "source": [
    "No caching done here as we want to do data augmentation on training data using the best fc layer we have tried earlier.\n",
    "Subequently we want to fine tune the by training earlier layers"
   ]
  },
  {
   "cell_type": "markdown",
   "metadata": {},
   "source": [
    "## Import Libraries"
   ]
  },
  {
   "cell_type": "code",
   "execution_count": 1,
   "metadata": {},
   "outputs": [],
   "source": [
    "%load_ext autoreload\n",
    "%autoreload 2\n",
    "%matplotlib inline"
   ]
  },
  {
   "cell_type": "code",
   "execution_count": 2,
   "metadata": {},
   "outputs": [],
   "source": [
    "import os\n",
    "import json\n",
    "import numpy as np\n",
    "import matplotlib.pyplot as plt\n",
    "\n",
    "import tensorflow as tf\n",
    "from tensorflow.keras.preprocessing import image\n",
    "from tensorflow.keras.preprocessing.image import ImageDataGenerator\n",
    "from tensorflow.keras.preprocessing.image import array_to_img, img_to_array, load_img\n",
    "from tensorflow.keras.models import load_model, model_from_json\n",
    "from tensorflow.keras.models import Sequential, Model\n",
    "from tensorflow.keras.layers import Conv2D, MaxPooling2D\n",
    "from tensorflow.keras.layers import Activation, Dropout, Flatten, Dense, GlobalAveragePooling2D\n",
    "from tensorflow.keras.callbacks import EarlyStopping, ModelCheckpoint\n",
    "from tensorflow.keras import applications, optimizers\n",
    "from tensorflow.keras import backend as K\n",
    "from tensorflow.keras.applications.vgg16 import preprocess_input"
   ]
  },
  {
   "cell_type": "markdown",
   "metadata": {},
   "source": [
    "## Define constants"
   ]
  },
  {
   "cell_type": "code",
   "execution_count": 35,
   "metadata": {},
   "outputs": [],
   "source": [
    "# dimensions of our images\n",
    "img_width, img_height = 224,224 #224,224 for VGG16 by default\n",
    "\n",
    "PATH = 'data/dogscats_small/'\n",
    "train_data_dir = f'{PATH}train/'\n",
    "validation_data_dir = f'{PATH}validation/'\n",
    "test_data_dir = f'{PATH}test/'\n",
    "epochs = 10\n",
    "batch_size = 16"
   ]
  },
  {
   "cell_type": "code",
   "execution_count": 36,
   "metadata": {},
   "outputs": [],
   "source": [
    "# value stored in /users/<user>/keras/.keras.json file\n",
    "# \"channels_last\" for tensorflow\n",
    "\n",
    "if K.image_data_format() == 'channels_first':\n",
    "    input_shape = (3, img_width, img_height)\n",
    "else:\n",
    "    input_shape = (img_width, img_height, 3)"
   ]
  },
  {
   "cell_type": "markdown",
   "metadata": {},
   "source": [
    "## Helper functions"
   ]
  },
  {
   "cell_type": "code",
   "execution_count": 37,
   "metadata": {},
   "outputs": [],
   "source": [
    "# ensure the child directories are non-empty and contain jpg files\n",
    "def rand_img_from_child_dirs(dir_path):\n",
    "    \n",
    "    dirs =  [directory for directory in os.listdir(dir_path) if os.path.isdir(os.path.join(dir_path,directory)) \n",
    "             and not directory.startswith('.')]\n",
    "    random_dir = np.random.choice(dirs)\n",
    "    random_dir_path = os.path.join(dir_path,random_dir)\n",
    "    files =  [file for file in os.listdir(random_dir_path) if file.endswith('.jpg')]\n",
    "    random_img = np.random.choice(files)\n",
    "\n",
    "    return os.path.join(random_dir_path,random_img)"
   ]
  },
  {
   "cell_type": "code",
   "execution_count": 38,
   "metadata": {},
   "outputs": [],
   "source": [
    "def plot_training_history(log):\n",
    "    acc = log.history['acc']\n",
    "    val_acc = log.history['val_acc']\n",
    "    loss = log.history['loss']\n",
    "    val_loss = log.history['val_loss']\n",
    "\n",
    "    epoch_range = range(len(acc))\n",
    "\n",
    "    plt.plot(epoch_range, acc, 'b', label='Training acc')\n",
    "    plt.plot(epoch_range, val_acc, 'r', label='Validation acc')\n",
    "    plt.title('Training and validation accuracy')\n",
    "    plt.legend()\n",
    "\n",
    "    plt.figure()\n",
    "\n",
    "    plt.plot(epoch_range, loss, 'b', label='Training loss')\n",
    "    plt.plot(epoch_range, val_loss, 'r', label='Validation loss')\n",
    "    plt.title('Training and validation loss')\n",
    "    plt.legend()\n",
    "\n",
    "    plt.show()"
   ]
  },
  {
   "cell_type": "code",
   "execution_count": 39,
   "metadata": {},
   "outputs": [],
   "source": [
    "def print_layer_trainable(model):\n",
    "    for layer in model.layers:\n",
    "        print(\"{0}:\\t{1}\".format(layer.trainable, layer.name))"
   ]
  },
  {
   "cell_type": "markdown",
   "metadata": {},
   "source": [
    "## Transfer Learning"
   ]
  },
  {
   "cell_type": "markdown",
   "metadata": {},
   "source": [
    "### Prepare Training Data"
   ]
  },
  {
   "cell_type": "code",
   "execution_count": 40,
   "metadata": {},
   "outputs": [],
   "source": [
    "train_datagen = ImageDataGenerator(preprocessing_function=preprocess_input,\n",
    "                                   shear_range=0.2, \n",
    "                                   zoom_range=0.2, \n",
    "                                   horizontal_flip=True)\n",
    "\n",
    "validation_datagen = ImageDataGenerator(preprocessing_function=preprocess_input)"
   ]
  },
  {
   "cell_type": "code",
   "execution_count": 41,
   "metadata": {},
   "outputs": [
    {
     "name": "stdout",
     "output_type": "stream",
     "text": [
      "Found 2000 images belonging to 2 classes.\n",
      "Found 800 images belonging to 2 classes.\n"
     ]
    }
   ],
   "source": [
    "train_generator = train_datagen.flow_from_directory(\n",
    "    train_data_dir,\n",
    "    target_size=(img_width, img_height),\n",
    "    batch_size=batch_size,\n",
    "    class_mode='binary',\n",
    "    shuffle=True)\n",
    "\n",
    "validation_generator = validation_datagen.flow_from_directory(\n",
    "    validation_data_dir,\n",
    "    target_size=(img_width, img_height),\n",
    "    batch_size=batch_size,\n",
    "    class_mode='binary',\n",
    "    shuffle=False)"
   ]
  },
  {
   "cell_type": "markdown",
   "metadata": {},
   "source": [
    "### Build pre-trained model"
   ]
  },
  {
   "cell_type": "markdown",
   "metadata": {},
   "source": [
    "For future reference:\n",
    "\n",
    "To detach the conv model from the fc layers from a full VGG model\n",
    "\n",
    "`model = applications.VGG16(include_top=True, weights='imagenet', input_shape=input_shape)`\n",
    "\n",
    "`transfer_layer = base_model.get_layer('block5_pool')`\n",
    "\n",
    "`transfer_layer.output`\n",
    "\n",
    "`conv_model = Model(inputs=model.input,outputs=transfer_layer.output)`\n",
    "\n",
    "Alternatively, just download without the last layers by setting include_top = False and do below"
   ]
  },
  {
   "cell_type": "code",
   "execution_count": 42,
   "metadata": {},
   "outputs": [],
   "source": [
    "conv_model = applications.VGG16(include_top=False, weights='imagenet', input_shape=input_shape)\n",
    "#conv_model.summary()"
   ]
  },
  {
   "cell_type": "code",
   "execution_count": 43,
   "metadata": {},
   "outputs": [],
   "source": [
    "build_with_sequential = False # else it would be functional\n",
    "fc_type = 3\n",
    "\n",
    "if build_with_sequential:\n",
    "    new_model = Sequential()\n",
    "    new_model.add(conv_model)\n",
    "\n",
    "    if fc_type == 1:\n",
    "        new_model.add(Flatten())\n",
    "        new_model.add(Dense(256, activation='relu')) # Keras blog version\n",
    "        new_model.add(Dropout(0.5))\n",
    "    elif fc_type == 2:\n",
    "        new_model.add(Flatten())\n",
    "        new_model.add(Dense(1024, activation='relu')) # Magnus Pedersen Version\n",
    "        new_model.add(Dropout(0.5))\n",
    "    else:\n",
    "        # fastai jeremy's version\n",
    "        new_model.add(GlobalAveragePooling2D())\n",
    "        new_model.add(Dense(1024, activation='relu'))\n",
    "\n",
    "    new_model.add(Dense(1, activation='sigmoid'))\n",
    "    \n",
    "else:\n",
    "    x = conv_model.output\n",
    "\n",
    "    if fc_type == 1:\n",
    "        x = Flatten()(x)\n",
    "        x = Dense(256, activation='relu')(x)\n",
    "        x = Dropout(0.5)(x)\n",
    "    elif fc_type == 2:\n",
    "        x = Flatten()(x)\n",
    "        x = Dense(1024, activation='relu')(x)\n",
    "        x = Dropout(0.5)(x)\n",
    "    else:\n",
    "        x = GlobalAveragePooling2D()(x)\n",
    "        x = Dense(1024, activation='relu')(x)\n",
    "\n",
    "    predictions = Dense(1, activation='sigmoid')(x)\n",
    "    new_model = Model(inputs=conv_model.input, outputs=predictions)"
   ]
  },
  {
   "cell_type": "code",
   "execution_count": 44,
   "metadata": {},
   "outputs": [
    {
     "name": "stdout",
     "output_type": "stream",
     "text": [
      "<class 'tensorflow.python.keras.engine.training.Model'>\n",
      "_________________________________________________________________\n",
      "Layer (type)                 Output Shape              Param #   \n",
      "=================================================================\n",
      "input_2 (InputLayer)         (None, 224, 224, 3)       0         \n",
      "_________________________________________________________________\n",
      "block1_conv1 (Conv2D)        (None, 224, 224, 64)      1792      \n",
      "_________________________________________________________________\n",
      "block1_conv2 (Conv2D)        (None, 224, 224, 64)      36928     \n",
      "_________________________________________________________________\n",
      "block1_pool (MaxPooling2D)   (None, 112, 112, 64)      0         \n",
      "_________________________________________________________________\n",
      "block2_conv1 (Conv2D)        (None, 112, 112, 128)     73856     \n",
      "_________________________________________________________________\n",
      "block2_conv2 (Conv2D)        (None, 112, 112, 128)     147584    \n",
      "_________________________________________________________________\n",
      "block2_pool (MaxPooling2D)   (None, 56, 56, 128)       0         \n",
      "_________________________________________________________________\n",
      "block3_conv1 (Conv2D)        (None, 56, 56, 256)       295168    \n",
      "_________________________________________________________________\n",
      "block3_conv2 (Conv2D)        (None, 56, 56, 256)       590080    \n",
      "_________________________________________________________________\n",
      "block3_conv3 (Conv2D)        (None, 56, 56, 256)       590080    \n",
      "_________________________________________________________________\n",
      "block3_pool (MaxPooling2D)   (None, 28, 28, 256)       0         \n",
      "_________________________________________________________________\n",
      "block4_conv1 (Conv2D)        (None, 28, 28, 512)       1180160   \n",
      "_________________________________________________________________\n",
      "block4_conv2 (Conv2D)        (None, 28, 28, 512)       2359808   \n",
      "_________________________________________________________________\n",
      "block4_conv3 (Conv2D)        (None, 28, 28, 512)       2359808   \n",
      "_________________________________________________________________\n",
      "block4_pool (MaxPooling2D)   (None, 14, 14, 512)       0         \n",
      "_________________________________________________________________\n",
      "block5_conv1 (Conv2D)        (None, 14, 14, 512)       2359808   \n",
      "_________________________________________________________________\n",
      "block5_conv2 (Conv2D)        (None, 14, 14, 512)       2359808   \n",
      "_________________________________________________________________\n",
      "block5_conv3 (Conv2D)        (None, 14, 14, 512)       2359808   \n",
      "_________________________________________________________________\n",
      "block5_pool (MaxPooling2D)   (None, 7, 7, 512)         0         \n",
      "_________________________________________________________________\n",
      "global_average_pooling2d_1 ( (None, 512)               0         \n",
      "_________________________________________________________________\n",
      "dense_2 (Dense)              (None, 1024)              525312    \n",
      "_________________________________________________________________\n",
      "dense_3 (Dense)              (None, 1)                 1025      \n",
      "=================================================================\n",
      "Total params: 15,241,025\n",
      "Trainable params: 15,241,025\n",
      "Non-trainable params: 0\n",
      "_________________________________________________________________\n"
     ]
    }
   ],
   "source": [
    "# Building with Sequential will merge conv_model as one single layer \n",
    "# new_model will be of Sequential class\n",
    "\n",
    "# Building with Functional will retain conv_model layer structures\n",
    "# new_model will be of Model class\n",
    "\n",
    "print(type(new_model))\n",
    "new_model.summary()"
   ]
  },
  {
   "cell_type": "code",
   "execution_count": 45,
   "metadata": {},
   "outputs": [],
   "source": [
    "#print_layer_trainable(new_model)"
   ]
  },
  {
   "cell_type": "code",
   "execution_count": 46,
   "metadata": {},
   "outputs": [],
   "source": [
    "# Freeze VGG16 conv layers\n",
    "if build_with_sequential:\n",
    "    conv_model.trainable = False\n",
    "else:\n",
    "    for layer in conv_model.layers: \n",
    "        layer.trainable = False"
   ]
  },
  {
   "cell_type": "code",
   "execution_count": 47,
   "metadata": {},
   "outputs": [
    {
     "name": "stdout",
     "output_type": "stream",
     "text": [
      "False:\tinput_2\n",
      "False:\tblock1_conv1\n",
      "False:\tblock1_conv2\n",
      "False:\tblock1_pool\n",
      "False:\tblock2_conv1\n",
      "False:\tblock2_conv2\n",
      "False:\tblock2_pool\n",
      "False:\tblock3_conv1\n",
      "False:\tblock3_conv2\n",
      "False:\tblock3_conv3\n",
      "False:\tblock3_pool\n",
      "False:\tblock4_conv1\n",
      "False:\tblock4_conv2\n",
      "False:\tblock4_conv3\n",
      "False:\tblock4_pool\n",
      "False:\tblock5_conv1\n",
      "False:\tblock5_conv2\n",
      "False:\tblock5_conv3\n",
      "False:\tblock5_pool\n",
      "True:\tglobal_average_pooling2d_1\n",
      "True:\tdense_2\n",
      "True:\tdense_3\n"
     ]
    }
   ],
   "source": [
    "print_layer_trainable(new_model)"
   ]
  },
  {
   "cell_type": "code",
   "execution_count": 48,
   "metadata": {},
   "outputs": [],
   "source": [
    "# compile must be called after the trainable are set\n",
    "new_model.compile(optimizer='rmsprop', loss='binary_crossentropy', metrics=['accuracy'])"
   ]
  },
  {
   "cell_type": "code",
   "execution_count": 49,
   "metadata": {},
   "outputs": [
    {
     "name": "stdout",
     "output_type": "stream",
     "text": [
      "Epoch 1/10\n",
      "125/125 [==============================] - 29s 231ms/step - loss: 0.5429 - acc: 0.9335 - val_loss: 0.2358 - val_acc: 0.9675\n",
      "Epoch 2/10\n",
      "125/125 [==============================] - 27s 218ms/step - loss: 0.2988 - acc: 0.9655 - val_loss: 0.2168 - val_acc: 0.9725\n",
      "Epoch 3/10\n",
      "125/125 [==============================] - 27s 219ms/step - loss: 0.2122 - acc: 0.9705 - val_loss: 0.1436 - val_acc: 0.9838\n",
      "Epoch 4/10\n",
      "125/125 [==============================] - 27s 218ms/step - loss: 0.1431 - acc: 0.9790 - val_loss: 0.2696 - val_acc: 0.9675\n",
      "Epoch 5/10\n",
      "125/125 [==============================] - 27s 217ms/step - loss: 0.1220 - acc: 0.9800 - val_loss: 0.1415 - val_acc: 0.9812\n",
      "Epoch 6/10\n",
      "125/125 [==============================] - 27s 217ms/step - loss: 0.0846 - acc: 0.9850 - val_loss: 0.1364 - val_acc: 0.9788\n",
      "Epoch 7/10\n",
      "125/125 [==============================] - 27s 218ms/step - loss: 0.1191 - acc: 0.9820 - val_loss: 0.1860 - val_acc: 0.9775\n",
      "Epoch 8/10\n",
      "125/125 [==============================] - 27s 218ms/step - loss: 0.0639 - acc: 0.9905 - val_loss: 0.5367 - val_acc: 0.9450\n",
      "Epoch 9/10\n",
      "125/125 [==============================] - 27s 219ms/step - loss: 0.0988 - acc: 0.9855 - val_loss: 0.1754 - val_acc: 0.9800\n",
      "Epoch 10/10\n",
      "125/125 [==============================] - 27s 218ms/step - loss: 0.1135 - acc: 0.9865 - val_loss: 0.2261 - val_acc: 0.9800\n",
      "CPU times: user 9min 33s, sys: 33.2 s, total: 10min 6s\n",
      "Wall time: 4min 34s\n"
     ]
    }
   ],
   "source": [
    "%%time\n",
    "training_log = new_model.fit_generator(\n",
    "    train_generator,\n",
    "    steps_per_epoch=train_generator.n // batch_size,\n",
    "    epochs=epochs,\n",
    "    workers=4,\n",
    "    validation_data=validation_generator,\n",
    "    validation_steps=validation_generator.n // batch_size)"
   ]
  },
  {
   "cell_type": "code",
   "execution_count": 50,
   "metadata": {},
   "outputs": [
    {
     "data": {
      "image/png": "[encoded data removed]",
      "text/plain": [
       "<Figure size 432x288 with 1 Axes>"
      ]
     },
     "metadata": {},
     "output_type": "display_data"
    },
    {
     "data": {
      "image/png": "[encoded data removed]",
      "text/plain": [
       "<Figure size 432x288 with 1 Axes>"
      ]
     },
     "metadata": {},
     "output_type": "display_data"
    }
   ],
   "source": [
    "plot_training_history(training_log)"
   ]
  },
  {
   "cell_type": "markdown",
   "metadata": {},
   "source": [
    "### Save model"
   ]
  },
  {
   "cell_type": "markdown",
   "metadata": {},
   "source": [
    "#### Save as full model"
   ]
  },
  {
   "cell_type": "code",
   "execution_count": 51,
   "metadata": {},
   "outputs": [],
   "source": [
    "os.makedirs(f'{PATH}models/', exist_ok=True)"
   ]
  },
  {
   "cell_type": "code",
   "execution_count": 52,
   "metadata": {},
   "outputs": [],
   "source": [
    "new_model.save(f'{PATH}/models/vgg16_bottleneck_fc_model.h5')"
   ]
  },
  {
   "cell_type": "markdown",
   "metadata": {},
   "source": [
    "#### Save as architecture definition (json) + weights value"
   ]
  },
  {
   "cell_type": "code",
   "execution_count": 53,
   "metadata": {},
   "outputs": [],
   "source": [
    "model_json = new_model.to_json()\n",
    "\n",
    "with open(f'{PATH}/models/vgg16_bottleneck_fc_arch.json', 'w') as json_file:\n",
    "    json_file.write(model_json)\n",
    "    \n",
    "new_model.save_weights(f'{PATH}/models/vgg16_bottleneck_fc_weights.h5')"
   ]
  },
  {
   "cell_type": "markdown",
   "metadata": {},
   "source": [
    "### Load model to predict test data"
   ]
  },
  {
   "cell_type": "code",
   "execution_count": 54,
   "metadata": {},
   "outputs": [],
   "source": [
    "# both options should return the same model but we may want to \n",
    "# change the weights using those obtained from training\n",
    "load_from_model_file = True\n",
    "\n",
    "if load_from_model_file:\n",
    "    test_model = load_model(f'{PATH}/models/vgg16_bottleneck_fc_model.h5')\n",
    "else:\n",
    "    json_file = open(f'{PATH}/models/vgg16_bottleneck_fc_arch.json', 'r')\n",
    "    loaded_model_json = json_file.read()\n",
    "    json_file.close()\n",
    "    test_model = model_from_json(loaded_model_json)\n",
    "\n",
    "    test_model.load_weights(f'{PATH}/models/vgg16_bottleneck_fc_weights.h5')"
   ]
  },
  {
   "cell_type": "code",
   "execution_count": 55,
   "metadata": {},
   "outputs": [
    {
     "name": "stdout",
     "output_type": "stream",
     "text": [
      "_________________________________________________________________\n",
      "Layer (type)                 Output Shape              Param #   \n",
      "=================================================================\n",
      "input_2 (InputLayer)         (None, 224, 224, 3)       0         \n",
      "_________________________________________________________________\n",
      "block1_conv1 (Conv2D)        (None, 224, 224, 64)      1792      \n",
      "_________________________________________________________________\n",
      "block1_conv2 (Conv2D)        (None, 224, 224, 64)      36928     \n",
      "_________________________________________________________________\n",
      "block1_pool (MaxPooling2D)   (None, 112, 112, 64)      0         \n",
      "_________________________________________________________________\n",
      "block2_conv1 (Conv2D)        (None, 112, 112, 128)     73856     \n",
      "_________________________________________________________________\n",
      "block2_conv2 (Conv2D)        (None, 112, 112, 128)     147584    \n",
      "_________________________________________________________________\n",
      "block2_pool (MaxPooling2D)   (None, 56, 56, 128)       0         \n",
      "_________________________________________________________________\n",
      "block3_conv1 (Conv2D)        (None, 56, 56, 256)       295168    \n",
      "_________________________________________________________________\n",
      "block3_conv2 (Conv2D)        (None, 56, 56, 256)       590080    \n",
      "_________________________________________________________________\n",
      "block3_conv3 (Conv2D)        (None, 56, 56, 256)       590080    \n",
      "_________________________________________________________________\n",
      "block3_pool (MaxPooling2D)   (None, 28, 28, 256)       0         \n",
      "_________________________________________________________________\n",
      "block4_conv1 (Conv2D)        (None, 28, 28, 512)       1180160   \n",
      "_________________________________________________________________\n",
      "block4_conv2 (Conv2D)        (None, 28, 28, 512)       2359808   \n",
      "_________________________________________________________________\n",
      "block4_conv3 (Conv2D)        (None, 28, 28, 512)       2359808   \n",
      "_________________________________________________________________\n",
      "block4_pool (MaxPooling2D)   (None, 14, 14, 512)       0         \n",
      "_________________________________________________________________\n",
      "block5_conv1 (Conv2D)        (None, 14, 14, 512)       2359808   \n",
      "_________________________________________________________________\n",
      "block5_conv2 (Conv2D)        (None, 14, 14, 512)       2359808   \n",
      "_________________________________________________________________\n",
      "block5_conv3 (Conv2D)        (None, 14, 14, 512)       2359808   \n",
      "_________________________________________________________________\n",
      "block5_pool (MaxPooling2D)   (None, 7, 7, 512)         0         \n",
      "_________________________________________________________________\n",
      "global_average_pooling2d_1 ( (None, 512)               0         \n",
      "_________________________________________________________________\n",
      "dense_2 (Dense)              (None, 1024)              525312    \n",
      "_________________________________________________________________\n",
      "dense_3 (Dense)              (None, 1)                 1025      \n",
      "=================================================================\n",
      "Total params: 15,241,025\n",
      "Trainable params: 526,337\n",
      "Non-trainable params: 14,714,688\n",
      "_________________________________________________________________\n"
     ]
    }
   ],
   "source": [
    "test_model.summary()"
   ]
  },
  {
   "cell_type": "code",
   "execution_count": 56,
   "metadata": {},
   "outputs": [
    {
     "name": "stdout",
     "output_type": "stream",
     "text": [
      "True:\tinput_2\n",
      "False:\tblock1_conv1\n",
      "False:\tblock1_conv2\n",
      "False:\tblock1_pool\n",
      "False:\tblock2_conv1\n",
      "False:\tblock2_conv2\n",
      "False:\tblock2_pool\n",
      "False:\tblock3_conv1\n",
      "False:\tblock3_conv2\n",
      "False:\tblock3_conv3\n",
      "False:\tblock3_pool\n",
      "False:\tblock4_conv1\n",
      "False:\tblock4_conv2\n",
      "False:\tblock4_conv3\n",
      "False:\tblock4_pool\n",
      "False:\tblock5_conv1\n",
      "False:\tblock5_conv2\n",
      "False:\tblock5_conv3\n",
      "False:\tblock5_pool\n",
      "True:\tglobal_average_pooling2d_1\n",
      "True:\tdense_2\n",
      "True:\tdense_3\n"
     ]
    }
   ],
   "source": [
    "print_layer_trainable(test_model)"
   ]
  },
  {
   "cell_type": "markdown",
   "metadata": {},
   "source": [
    "### Predict on single image"
   ]
  },
  {
   "cell_type": "code",
   "execution_count": 57,
   "metadata": {},
   "outputs": [
    {
     "name": "stdout",
     "output_type": "stream",
     "text": [
      "data/dogscats_small/validation/dogs/dog.1011.jpg\n"
     ]
    },
    {
     "data": {
      "image/png": "[encoded data removed]",
      "text/plain": [
       "<PIL.Image.Image image mode=RGB size=224x224 at 0x7F17218ECF28>"
      ]
     },
     "execution_count": 57,
     "metadata": {},
     "output_type": "execute_result"
    }
   ],
   "source": [
    "rand_img_path = rand_img_from_child_dirs(validation_data_dir)\n",
    "rand_img = image.load_img(rand_img_path, target_size=(img_width, img_height))    \n",
    "rand_dog_cat = 'dog' if 'validation/dogs' in rand_img_path else 'cat'\n",
    "\n",
    "print(rand_img_path)\n",
    "rand_img"
   ]
  },
  {
   "cell_type": "code",
   "execution_count": 58,
   "metadata": {},
   "outputs": [],
   "source": [
    "x_test = image.img_to_array(rand_img)\n",
    "x_test = preprocess_input(x_test)\n",
    "x_test = np.expand_dims(x_test, axis=0) # increase dimension so that can be fed into model"
   ]
  },
  {
   "cell_type": "code",
   "execution_count": 59,
   "metadata": {},
   "outputs": [
    {
     "data": {
      "text/plain": [
       "1.0"
      ]
     },
     "execution_count": 59,
     "metadata": {},
     "output_type": "execute_result"
    }
   ],
   "source": [
    "prob = np.asscalar(np.squeeze(test_model.predict(x_test)))\n",
    "prob"
   ]
  },
  {
   "cell_type": "code",
   "execution_count": 60,
   "metadata": {},
   "outputs": [
    {
     "name": "stdout",
     "output_type": "stream",
     "text": [
      "The model is 100.0% sure this is a dog\n"
     ]
    }
   ],
   "source": [
    "res = 'dog' if prob>=0.5 else 'cat'\n",
    "pct = round(prob*100,2)\n",
    "if res is 'cat':\n",
    "    pct = 100 - pct \n",
    "\n",
    "print('The model is ' + str(pct) + '% sure this is a ' + res)"
   ]
  },
  {
   "cell_type": "markdown",
   "metadata": {},
   "source": [
    "### Predict on batch of test images"
   ]
  },
  {
   "cell_type": "markdown",
   "metadata": {},
   "source": [
    "Unlike validation data, these are never seen or tested before"
   ]
  },
  {
   "cell_type": "code",
   "execution_count": 61,
   "metadata": {},
   "outputs": [],
   "source": [
    "def model_predict(data_dir, model):\n",
    "    probs = []\n",
    "    for fn in os.listdir(data_dir):\n",
    "        img = load_img(data_dir+fn, target_size=(img_width,img_height))\n",
    "        x = img_to_array(img)\n",
    "        x = preprocess_input(x)\n",
    "        x = np.expand_dims(x, axis=0)\n",
    "        \n",
    "        prob = np.asscalar(np.squeeze(model.predict(x)))\n",
    "        probs.append(prob)\n",
    "\n",
    "    return np.array(probs)"
   ]
  },
  {
   "cell_type": "code",
   "execution_count": 62,
   "metadata": {},
   "outputs": [],
   "source": [
    "dog_test_dir = f\"{test_data_dir}dogs/\"\n",
    "cat_test_dir = f\"{test_data_dir}cats/\""
   ]
  },
  {
   "cell_type": "code",
   "execution_count": 63,
   "metadata": {},
   "outputs": [],
   "source": [
    "pred_dogs = model_predict(dog_test_dir, test_model)"
   ]
  },
  {
   "cell_type": "code",
   "execution_count": 64,
   "metadata": {},
   "outputs": [],
   "source": [
    "pred_cats = model_predict(cat_test_dir, test_model)"
   ]
  },
  {
   "cell_type": "code",
   "execution_count": 65,
   "metadata": {},
   "outputs": [
    {
     "name": "stdout",
     "output_type": "stream",
     "text": [
      "Cat Prediction Accuracy: 96.30%\n",
      "Dog Prediction Accuracy: 98.70%\n",
      "Overall Accuracy: 97.50%\n"
     ]
    }
   ],
   "source": [
    "cat_acc = len(pred_cats[pred_cats<0.5])/len(pred_cats) * 100\n",
    "dog_acc = len(pred_dogs[pred_dogs>=0.5])/len(pred_dogs) * 100\n",
    "overall_acc = (cat_acc+dog_acc)/2.0\n",
    "\n",
    "print(f'Cat Prediction Accuracy: {cat_acc:.2f}%\\nDog Prediction Accuracy: {dog_acc:.2f}%')\n",
    "print(f'Overall Accuracy: {overall_acc:.2f}%')"
   ]
  },
  {
   "cell_type": "markdown",
   "metadata": {},
   "source": [
    "10 Epochs Results\n",
    "\n",
    "Baseline:\n",
    "- Cat Prediction Accuracy: 77.80%\n",
    "- Dog Prediction Accuracy: 77.30%\n",
    "- Overall Accuract: 77.55%\n",
    "\n",
    "Sequential_1\n",
    "- Cat Prediction Accuracy: 97.60%\n",
    "- Dog Prediction Accuracy: 89.80%\n",
    "- Overall Accuracy: 93.70%\n",
    "\n",
    "Sequential_2\n",
    "- Cat Prediction Accuracy: 98.30%\n",
    "- Dog Prediction Accuracy: 91.00%\n",
    "- Overall Accuracy: 94.65%\n",
    "\n",
    "Sequential_3\n",
    "- Cat Prediction Accuracy: 97.50%\n",
    "- Dog Prediction Accuracy: 94.60%\n",
    "- Overall Accuracy: 96.05%\n",
    "\n",
    "224x224 img\n",
    "- Cat Prediction Accuracy: 97.20%\n",
    "- Dog Prediction Accuracy: 98.40%\n",
    "- Overall Accuracy: 97.80%\n",
    "\n",
    "Functional_1\n",
    "- Cat Prediction Accuracy: 97.20%\n",
    "- Dog Prediction Accuracy: 94.20%\n",
    "- Overall Accuract: 95.70%\n",
    "\n",
    "Functional_2\n",
    "- Cat Prediction Accuracy: 98.10%\n",
    "- Dog Prediction Accuracy: 89.80%\n",
    "- Overall Accuracy: 93.95%\n",
    "\n",
    "224x224 img\n",
    "- Cat Prediction Accuracy: 99.10%\n",
    "- Dog Prediction Accuracy: 91.10%\n",
    "- Overall Accuracy: 95.10%\n",
    "\n",
    "Functional_3\n",
    "- Cat Prediction Accuracy: 98.10%\n",
    "- Dog Prediction Accuracy: 92.30%\n",
    "- Overall Accuracy: 95.20%\n",
    "\n",
    "224x224 img\n",
    "- Cat Prediction Accuracy: 96.30%\n",
    "- Dog Prediction Accuracy: 98.70%\n",
    "- Overall Accuracy: 97.50%\n"
   ]
  },
  {
   "cell_type": "markdown",
   "metadata": {},
   "source": [
    "## Fine-tuning"
   ]
  },
  {
   "cell_type": "code",
   "execution_count": 86,
   "metadata": {},
   "outputs": [],
   "source": [
    "finetune_model = load_model(f'{PATH}/models/vgg16_bottleneck_fc_model.h5')\n",
    "# finetune_model.summary()"
   ]
  },
  {
   "cell_type": "code",
   "execution_count": 87,
   "metadata": {},
   "outputs": [
    {
     "name": "stdout",
     "output_type": "stream",
     "text": [
      "True:\tinput_2\n",
      "False:\tblock1_conv1\n",
      "False:\tblock1_conv2\n",
      "False:\tblock1_pool\n",
      "False:\tblock2_conv1\n",
      "False:\tblock2_conv2\n",
      "False:\tblock2_pool\n",
      "False:\tblock3_conv1\n",
      "False:\tblock3_conv2\n",
      "False:\tblock3_conv3\n",
      "False:\tblock3_pool\n",
      "False:\tblock4_conv1\n",
      "False:\tblock4_conv2\n",
      "False:\tblock4_conv3\n",
      "False:\tblock4_pool\n",
      "False:\tblock5_conv1\n",
      "False:\tblock5_conv2\n",
      "False:\tblock5_conv3\n",
      "False:\tblock5_pool\n",
      "True:\tglobal_average_pooling2d_1\n",
      "True:\tdense_2\n",
      "True:\tdense_3\n"
     ]
    }
   ],
   "source": [
    "print_layer_trainable(finetune_model)"
   ]
  },
  {
   "cell_type": "code",
   "execution_count": 88,
   "metadata": {},
   "outputs": [],
   "source": [
    "for layer in finetune_model.layers:\n",
    "    # Boolean whether this layer is trainable.\n",
    "    trainable = ('block1' in layer.name or \n",
    "                 'block2' in layer.name or \n",
    "                 'block3' in layer.name or \n",
    "                 'input_' in layer.name)\n",
    "    \n",
    "    # Set the layer's bool.\n",
    "    layer.trainable = not trainable"
   ]
  },
  {
   "cell_type": "code",
   "execution_count": 89,
   "metadata": {},
   "outputs": [
    {
     "name": "stdout",
     "output_type": "stream",
     "text": [
      "False:\tinput_2\n",
      "False:\tblock1_conv1\n",
      "False:\tblock1_conv2\n",
      "False:\tblock1_pool\n",
      "False:\tblock2_conv1\n",
      "False:\tblock2_conv2\n",
      "False:\tblock2_pool\n",
      "False:\tblock3_conv1\n",
      "False:\tblock3_conv2\n",
      "False:\tblock3_conv3\n",
      "False:\tblock3_pool\n",
      "True:\tblock4_conv1\n",
      "True:\tblock4_conv2\n",
      "True:\tblock4_conv3\n",
      "True:\tblock4_pool\n",
      "True:\tblock5_conv1\n",
      "True:\tblock5_conv2\n",
      "True:\tblock5_conv3\n",
      "True:\tblock5_pool\n",
      "True:\tglobal_average_pooling2d_1\n",
      "True:\tdense_2\n",
      "True:\tdense_3\n"
     ]
    }
   ],
   "source": [
    "print_layer_trainable(finetune_model)"
   ]
  },
  {
   "cell_type": "code",
   "execution_count": 90,
   "metadata": {},
   "outputs": [],
   "source": [
    "#optimizer_fine = optimizers.Adam(lr=1e-7)\n",
    "optimizer_fine = optimizers.RMSprop(lr=1e-6)\n",
    "#optimizer_fine = optimizers.SGD(lr=1e-6, momentum=0.9)"
   ]
  },
  {
   "cell_type": "code",
   "execution_count": 91,
   "metadata": {},
   "outputs": [],
   "source": [
    "# compile must be called after the trainable are set\n",
    "finetune_model.compile(optimizer=optimizer_fine, loss='binary_crossentropy', metrics=['accuracy'])"
   ]
  },
  {
   "cell_type": "code",
   "execution_count": 92,
   "metadata": {},
   "outputs": [
    {
     "name": "stdout",
     "output_type": "stream",
     "text": [
      "Epoch 1/10\n",
      "125/125 [==============================] - 40s 321ms/step - loss: 0.0370 - acc: 0.9935 - val_loss: 0.2156 - val_acc: 0.9788\n",
      "Epoch 2/10\n",
      "125/125 [==============================] - 37s 298ms/step - loss: 0.0295 - acc: 0.9970 - val_loss: 0.2080 - val_acc: 0.9825\n",
      "Epoch 3/10\n",
      "125/125 [==============================] - 37s 298ms/step - loss: 0.0287 - acc: 0.9945 - val_loss: 0.1968 - val_acc: 0.9825\n",
      "Epoch 4/10\n",
      "125/125 [==============================] - 37s 296ms/step - loss: 0.0155 - acc: 0.9965 - val_loss: 0.1959 - val_acc: 0.9838\n",
      "Epoch 5/10\n",
      "125/125 [==============================] - 37s 297ms/step - loss: 0.0082 - acc: 0.9985 - val_loss: 0.1963 - val_acc: 0.9838\n",
      "Epoch 6/10\n",
      "125/125 [==============================] - 37s 298ms/step - loss: 0.0077 - acc: 0.9980 - val_loss: 0.1962 - val_acc: 0.9775\n",
      "Epoch 7/10\n",
      "125/125 [==============================] - 37s 297ms/step - loss: 0.0122 - acc: 0.9975 - val_loss: 0.1991 - val_acc: 0.9838\n",
      "Epoch 8/10\n",
      "125/125 [==============================] - 37s 296ms/step - loss: 0.0087 - acc: 0.9980 - val_loss: 0.1963 - val_acc: 0.9838\n",
      "Epoch 9/10\n",
      "125/125 [==============================] - 37s 298ms/step - loss: 0.0032 - acc: 0.9990 - val_loss: 0.1858 - val_acc: 0.9838\n",
      "Epoch 10/10\n",
      "125/125 [==============================] - 37s 298ms/step - loss: 0.0065 - acc: 0.9985 - val_loss: 0.2001 - val_acc: 0.9838\n",
      "CPU times: user 10min 7s, sys: 56.7 s, total: 11min 4s\n",
      "Wall time: 6min 14s\n"
     ]
    }
   ],
   "source": [
    "%%time\n",
    "finetune_training_log = finetune_model.fit_generator(\n",
    "    train_generator,\n",
    "    steps_per_epoch=train_generator.n // batch_size,\n",
    "    epochs=epochs,\n",
    "    workers=4,\n",
    "    validation_data=validation_generator,\n",
    "    validation_steps=validation_generator.n // batch_size)"
   ]
  },
  {
   "cell_type": "code",
   "execution_count": 93,
   "metadata": {},
   "outputs": [
    {
     "data": {
      "image/png": "[encoded data removed]",
      "text/plain": [
       "<Figure size 432x288 with 1 Axes>"
      ]
     },
     "metadata": {},
     "output_type": "display_data"
    },
    {
     "data": {
      "image/png": "[encoded data removed]",
      "text/plain": [
       "<Figure size 432x288 with 1 Axes>"
      ]
     },
     "metadata": {},
     "output_type": "display_data"
    }
   ],
   "source": [
    "plot_training_history(finetune_training_log)"
   ]
  },
  {
   "cell_type": "code",
   "execution_count": 94,
   "metadata": {},
   "outputs": [],
   "source": [
    "pred_dogs = model_predict(dog_test_dir, finetune_model)\n",
    "pred_cats = model_predict(cat_test_dir, finetune_model)"
   ]
  },
  {
   "cell_type": "code",
   "execution_count": 95,
   "metadata": {},
   "outputs": [
    {
     "name": "stdout",
     "output_type": "stream",
     "text": [
      "Cat Prediction Accuracy: 97.20%\n",
      "Dog Prediction Accuracy: 98.70%\n",
      "Overall Accuracy: 97.95%\n"
     ]
    }
   ],
   "source": [
    "cat_acc = len(pred_cats[pred_cats<0.5])/len(pred_cats) * 100\n",
    "dog_acc = len(pred_dogs[pred_dogs>=0.5])/len(pred_dogs) * 100\n",
    "overall_acc = (cat_acc+dog_acc)/2.0\n",
    "\n",
    "print(f'Cat Prediction Accuracy: {cat_acc:.2f}%\\nDog Prediction Accuracy: {dog_acc:.2f}%')\n",
    "print(f'Overall Accuracy: {overall_acc:.2f}%')"
   ]
  },
  {
   "cell_type": "markdown",
   "metadata": {},
   "source": [
    "Before Tuning:\n",
    "\n",
    "150_Functional_2\n",
    "- Cat Prediction Accuracy: 92.40%\n",
    "- Dog Prediction Accuracy: 96.80%\n",
    "- Overall Accuracy: 94.60%\n",
    "\n",
    "224_Functional_3\n",
    "- Cat Prediction Accuracy: 96.30%\n",
    "- Dog Prediction Accuracy: 98.70%\n",
    "- Overall Accuracy: 97.50%"
   ]
  },
  {
   "cell_type": "markdown",
   "metadata": {},
   "source": [
    "After Tuning (Freezing Block 1,2, 3):\n",
    "    \n",
    "With Adam(lr=1e-7)\n",
    "- Cat Prediction Accuracy: 96.50%\n",
    "- Dog Prediction Accuracy: 94.80%\n",
    "- Overall Accuracy: 95.65%\n",
    "\n",
    "With RMSprop(lr=1e-6)\n",
    "- Cat Prediction Accuracy: 97.90%\n",
    "- Dog Prediction Accuracy: 92.30%\n",
    "- Overall Accuracy: 95.10%\n",
    "\n",
    "224_img\n",
    "- Cat Prediction Accuracy: 97.20%\n",
    "- Dog Prediction Accuracy: 98.70%\n",
    "- Overall Accuracy: 97.95%\n",
    "\n",
    "With RMSprop(lr=1e-7)\n",
    "- Cat Prediction Accuracy: 94.50%\n",
    "- Dog Prediction Accuracy: 96.20%\n",
    "- Overall Accuracy: 95.35%\n",
    "\n",
    "222_img\n",
    "- Cat Prediction Accuracy: 97.00%\n",
    "- Dog Prediction Accuracy: 98.60%\n",
    "- Overall Accuracy: 97.80%\n",
    "\n",
    "With SGD(lr=1e-6, momentum=0.9)\n",
    "- Cat Prediction Accuracy: 98.30%\n",
    "- Dog Prediction Accuracy: 90.20%\n",
    "- Overall Accuracy: 94.25%"
   ]
  },
  {
   "cell_type": "code",
   "execution_count": null,
   "metadata": {},
   "outputs": [],
   "source": []
  }
 ],
 "metadata": {
  "_draft": {
   "nbviewer_url": "https://gist.github.com/135ebf9ccb113b1af214bc2b3ed1c20e"
  },
  "gist": {
   "data": {
    "description": "keras_lesson1",
    "public": true
   },
   "id": "135ebf9ccb113b1af214bc2b3ed1c20e"
  },
  "kernelspec": {
   "display_name": "Python 3",
   "language": "python",
   "name": "python3"
  },
  "language_info": {
   "codemirror_mode": {
    "name": "ipython",
    "version": 3
   },
   "file_extension": ".py",
   "mimetype": "text/x-python",
   "name": "python",
   "nbconvert_exporter": "python",
   "pygments_lexer": "ipython3",
   "version": "3.6.5"
  },
  "toc": {
   "base_numbering": 1,
   "nav_menu": {
    "height": "266px",
    "width": "252px"
   },
   "number_sections": true,
   "sideBar": true,
   "skip_h1_title": false,
   "title_cell": "Table of Contents",
   "title_sidebar": "Contents",
   "toc_cell": false,
   "toc_position": {},
   "toc_section_display": "block",
   "toc_window_display": false
  }
 },
 "nbformat": 4,
 "nbformat_minor": 2
}
