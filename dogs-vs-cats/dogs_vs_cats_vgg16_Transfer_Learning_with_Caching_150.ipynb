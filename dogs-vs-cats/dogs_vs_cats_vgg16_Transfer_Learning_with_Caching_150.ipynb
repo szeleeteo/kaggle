{
 "cells": [
  {
   "cell_type": "markdown",
   "metadata": {},
   "source": [
    "# Dogs Vs Cats Classification using Tensorflow and Keras with VGG16 Transfer Learning"
   ]
  },
  {
   "cell_type": "markdown",
   "metadata": {},
   "source": [
    "By caching the early layers of the convnet model, we can speed up the last layer calculations when trying various fully connected last layers. However, we have no data augmentations (on-the-fly) here"
   ]
  },
  {
   "cell_type": "markdown",
   "metadata": {},
   "source": [
    "## Import Libraries"
   ]
  },
  {
   "cell_type": "code",
   "execution_count": 1,
   "metadata": {},
   "outputs": [],
   "source": [
    "%load_ext autoreload\n",
    "%autoreload 2\n",
    "%matplotlib inline"
   ]
  },
  {
   "cell_type": "code",
   "execution_count": 2,
   "metadata": {},
   "outputs": [],
   "source": [
    "import os\n",
    "import json\n",
    "import numpy as np\n",
    "import matplotlib.pyplot as plt\n",
    "\n",
    "import tensorflow as tf\n",
    "from tensorflow.keras.preprocessing import image\n",
    "from tensorflow.keras.preprocessing.image import ImageDataGenerator\n",
    "from tensorflow.keras.preprocessing.image import array_to_img, img_to_array, load_img\n",
    "from tensorflow.keras.models import load_model, model_from_json\n",
    "from tensorflow.keras.models import Sequential, Model\n",
    "from tensorflow.keras.layers import Conv2D, MaxPooling2D\n",
    "from tensorflow.keras.layers import Activation, Dropout, Flatten, Dense, GlobalAveragePooling2D, Input\n",
    "from tensorflow.keras.callbacks import EarlyStopping, ModelCheckpoint\n",
    "from tensorflow.keras import applications, optimizers\n",
    "from tensorflow.keras import backend as K\n",
    "from tensorflow.keras.applications.vgg16 import preprocess_input"
   ]
  },
  {
   "cell_type": "markdown",
   "metadata": {},
   "source": [
    "## Define constants"
   ]
  },
  {
   "cell_type": "code",
   "execution_count": 3,
   "metadata": {},
   "outputs": [],
   "source": [
    "# dimensions of our images\n",
    "img_width, img_height = 150,150 #224,224 for VGG16 by default\n",
    "\n",
    "PATH = 'data/dogscats_small/'\n",
    "train_data_dir = f'{PATH}train/'\n",
    "validation_data_dir = f'{PATH}validation/'\n",
    "test_data_dir = f'{PATH}test/'\n",
    "epochs = 50\n",
    "batch_size = 16"
   ]
  },
  {
   "cell_type": "code",
   "execution_count": 4,
   "metadata": {},
   "outputs": [],
   "source": [
    "# value stored in /users/<user>/keras/.keras.json file\n",
    "# \"channels_last\" for tensorflow\n",
    "\n",
    "if K.image_data_format() == 'channels_first':\n",
    "    input_shape = (3, img_width, img_height)\n",
    "else:\n",
    "    input_shape = (img_width, img_height, 3)"
   ]
  },
  {
   "cell_type": "markdown",
   "metadata": {},
   "source": [
    "## Helper functions"
   ]
  },
  {
   "cell_type": "code",
   "execution_count": 5,
   "metadata": {},
   "outputs": [],
   "source": [
    "# ensure the child directories are non-empty and contain jpg files\n",
    "def rand_img_from_child_dirs(dir_path):\n",
    "    \n",
    "    dirs =  [directory for directory in os.listdir(dir_path) if os.path.isdir(os.path.join(dir_path,directory)) \n",
    "             and not directory.startswith('.')]\n",
    "    random_dir = np.random.choice(dirs)\n",
    "    random_dir_path = os.path.join(dir_path,random_dir)\n",
    "    files =  [file for file in os.listdir(random_dir_path) if file.endswith('.jpg')]\n",
    "    random_img = np.random.choice(files)\n",
    "\n",
    "    return os.path.join(random_dir_path,random_img)"
   ]
  },
  {
   "cell_type": "code",
   "execution_count": 6,
   "metadata": {},
   "outputs": [],
   "source": [
    "def plot_training_history(log):\n",
    "    acc = log.history['acc']\n",
    "    val_acc = log.history['val_acc']\n",
    "    loss = log.history['loss']\n",
    "    val_loss = log.history['val_loss']\n",
    "\n",
    "    epoch_range = range(len(acc))\n",
    "\n",
    "    plt.plot(epoch_range, acc, 'b', label='Training acc')\n",
    "    plt.plot(epoch_range, val_acc, 'r', label='Validation acc')\n",
    "    plt.title('Training and validation accuracy')\n",
    "    plt.legend()\n",
    "\n",
    "    plt.figure()\n",
    "\n",
    "    plt.plot(epoch_range, loss, 'b', label='Training loss')\n",
    "    plt.plot(epoch_range, val_loss, 'r', label='Validation loss')\n",
    "    plt.title('Training and validation loss')\n",
    "    plt.legend()\n",
    "\n",
    "    plt.show()"
   ]
  },
  {
   "cell_type": "markdown",
   "metadata": {},
   "source": [
    "## Build pre-trained model (VGG16)"
   ]
  },
  {
   "cell_type": "code",
   "execution_count": 7,
   "metadata": {},
   "outputs": [],
   "source": [
    "conv_model = applications.VGG16(include_top=False, weights='imagenet', input_shape=input_shape)"
   ]
  },
  {
   "cell_type": "markdown",
   "metadata": {},
   "source": [
    "## Calculate and cache the bottleneck features"
   ]
  },
  {
   "cell_type": "code",
   "execution_count": 8,
   "metadata": {},
   "outputs": [
    {
     "name": "stdout",
     "output_type": "stream",
     "text": [
      "Found 2000 images belonging to 2 classes.\n",
      "Found 800 images belonging to 2 classes.\n"
     ]
    }
   ],
   "source": [
    "os.makedirs('tmp', exist_ok=True)\n",
    "\n",
    "# no data augmentation if we want to cache\n",
    "train_datagen = ImageDataGenerator(preprocessing_function=preprocess_input)\n",
    "validation_datagen = ImageDataGenerator(preprocessing_function=preprocess_input)\n",
    "\n",
    "train_generator = train_datagen.flow_from_directory(\n",
    "    train_data_dir,\n",
    "    target_size=(img_width, img_height),\n",
    "    batch_size=batch_size,\n",
    "    class_mode=None,# this means our generator will only yield batches of data, no labels\n",
    "    shuffle=False)  # our data will be in order, so all first 1000 images will be cats, then 1000 dogs\n",
    "                    # hence easier to generate train labels later\n",
    "\n",
    "validation_generator = validation_datagen.flow_from_directory(\n",
    "    validation_data_dir,\n",
    "    target_size=(img_width, img_height),\n",
    "    batch_size=batch_size,\n",
    "    class_mode=None,# this means our generator will only yield batches of data, no labels\n",
    "    shuffle=False) # our data will be in order, so all first 400 images will be cats, then 400 dogs\n",
    "                    # hence easier to generate validation labels later"
   ]
  },
  {
   "cell_type": "code",
   "execution_count": 9,
   "metadata": {},
   "outputs": [],
   "source": [
    "bottleneck_features_train = conv_model.predict_generator(train_generator, \n",
    "                                                         train_generator.n // batch_size)\n",
    "bottleneck_features_validation = conv_model.predict_generator(validation_generator, \n",
    "                                                              validation_generator.n // batch_size)\n",
    "\n",
    "np.save('tmp/vgg16_bottleneck_features_train.npy', bottleneck_features_train)\n",
    "np.save('tmp/vgg16_bottleneck_features_validation.npy', bottleneck_features_validation)"
   ]
  },
  {
   "cell_type": "markdown",
   "metadata": {},
   "source": [
    "## Load the cached calculations"
   ]
  },
  {
   "cell_type": "code",
   "execution_count": 13,
   "metadata": {},
   "outputs": [],
   "source": [
    "# for train_labels and validation_labels we manually generate first half as 0 and the second half as 1\n",
    "# hence no shuffling during generation earlier\n",
    "\n",
    "train_data = np.load('tmp/vgg16_bottleneck_features_train.npy')\n",
    "train_labels = np.array([0] * (train_generator.n // 2) + [1] * (train_generator.n // 2)) \n",
    "\n",
    "validation_data = np.load('tmp/vgg16_bottleneck_features_validation.npy')\n",
    "validation_labels = np.array([0] * (validation_generator.n // 2) + [1] * (validation_generator.n // 2))"
   ]
  },
  {
   "cell_type": "markdown",
   "metadata": {},
   "source": [
    "## Train top model (last layer - fully connected)"
   ]
  },
  {
   "cell_type": "code",
   "execution_count": 119,
   "metadata": {},
   "outputs": [],
   "source": [
    "def build_last_layer(input_shape, build_with_sequential=True, fc_type=1):\n",
    "    \n",
    "    # build_with_sequential = True # else it would be functional\n",
    "    # fc_type = 1,2, 3\n",
    "\n",
    "    if build_with_sequential:\n",
    "        model = Sequential()\n",
    "\n",
    "        if fc_type == 1:\n",
    "            model.add(Flatten(input_shape=input_shape))\n",
    "            model.add(Dense(256, activation='relu')) # Keras blog version\n",
    "            model.add(Dropout(0.5))\n",
    "        elif fc_type == 2:\n",
    "            model.add(Flatten(input_shape=input_shape))\n",
    "            model.add(Dense(1024, activation='relu')) # Magnus Pedersen Version\n",
    "            model.add(Dropout(0.5))\n",
    "        else:\n",
    "            # fastai jeremy's version\n",
    "            model.add(GlobalAveragePooling2D(input_shape=input_shape))\n",
    "            model.add(Dense(1024, activation='relu'))\n",
    "\n",
    "        model.add(Dense(1, activation='sigmoid'))\n",
    "\n",
    "    else:\n",
    "        a = Input(shape=input_shape)\n",
    "        \n",
    "        if fc_type == 1:\n",
    "            x = Flatten()(a)\n",
    "            x = Dense(256, activation='relu')(x)\n",
    "            x = Dropout(0.5)(x)\n",
    "        elif fc_type == 2:\n",
    "            x = Flatten()(a)\n",
    "            x = Dense(1024, activation='relu')(x)\n",
    "            x = Dropout(0.5)(x)\n",
    "        else:\n",
    "            # fastai jeremy's version\n",
    "            x = GlobalAveragePooling2D()(a)\n",
    "            x = Dense(1024, activation='relu')(x)\n",
    "\n",
    "        b = Dense(1, activation='sigmoid')(x)\n",
    "        model = Model(inputs=a, outputs=b)\n",
    "        \n",
    "    return model"
   ]
  },
  {
   "cell_type": "code",
   "execution_count": 120,
   "metadata": {},
   "outputs": [],
   "source": [
    "del last_layer_model"
   ]
  },
  {
   "cell_type": "code",
   "execution_count": 121,
   "metadata": {},
   "outputs": [],
   "source": [
    "build_with_sequential = True # else it would be functional\n",
    "fc_type = 1\n",
    "\n",
    "last_layer_model = build_last_layer(train_data.shape[1:],\n",
    "                                    build_with_sequential=build_with_sequential, \n",
    "                                    fc_type=fc_type)"
   ]
  },
  {
   "cell_type": "code",
   "execution_count": 122,
   "metadata": {},
   "outputs": [],
   "source": [
    "# print(type(last_layer_model))\n",
    "# last_layer_model.summary()"
   ]
  },
  {
   "cell_type": "code",
   "execution_count": 123,
   "metadata": {},
   "outputs": [],
   "source": [
    "# compile must be called after the trainable are set\n",
    "last_layer_model.compile(optimizer='rmsprop', loss='binary_crossentropy', metrics=['accuracy'])"
   ]
  },
  {
   "cell_type": "code",
   "execution_count": 124,
   "metadata": {},
   "outputs": [
    {
     "name": "stdout",
     "output_type": "stream",
     "text": [
      "Train on 2000 samples, validate on 800 samples\n",
      "Epoch 1/50\n",
      "2000/2000 [==============================] - 2s 751us/step - loss: 7.9362 - acc: 0.5015 - val_loss: 7.9712 - val_acc: 0.5000\n",
      "Epoch 2/50\n",
      "2000/2000 [==============================] - 1s 369us/step - loss: 7.4804 - acc: 0.5285 - val_loss: 4.6725 - val_acc: 0.6975\n",
      "Epoch 3/50\n",
      "2000/2000 [==============================] - 1s 366us/step - loss: 1.8703 - acc: 0.8745 - val_loss: 0.7323 - val_acc: 0.9487\n",
      "Epoch 4/50\n",
      "2000/2000 [==============================] - 1s 364us/step - loss: 1.1732 - acc: 0.9235 - val_loss: 0.7318 - val_acc: 0.9487\n",
      "Epoch 5/50\n",
      "2000/2000 [==============================] - 1s 371us/step - loss: 1.0377 - acc: 0.9305 - val_loss: 1.9323 - val_acc: 0.8762\n",
      "Epoch 6/50\n",
      "2000/2000 [==============================] - 1s 370us/step - loss: 1.1018 - acc: 0.9275 - val_loss: 1.0273 - val_acc: 0.9325\n",
      "Epoch 7/50\n",
      "2000/2000 [==============================] - 1s 359us/step - loss: 0.6802 - acc: 0.9555 - val_loss: 0.4589 - val_acc: 0.9675\n",
      "Epoch 8/50\n",
      "2000/2000 [==============================] - 1s 359us/step - loss: 0.7637 - acc: 0.9495 - val_loss: 0.5739 - val_acc: 0.9600\n",
      "Epoch 9/50\n",
      "2000/2000 [==============================] - 1s 364us/step - loss: 0.6506 - acc: 0.9575 - val_loss: 0.6017 - val_acc: 0.9625\n",
      "Epoch 10/50\n",
      "2000/2000 [==============================] - 1s 361us/step - loss: 0.8327 - acc: 0.9470 - val_loss: 0.5348 - val_acc: 0.9637\n",
      "Epoch 11/50\n",
      "2000/2000 [==============================] - 1s 360us/step - loss: 0.6708 - acc: 0.9575 - val_loss: 0.4871 - val_acc: 0.9688\n",
      "Epoch 12/50\n",
      "2000/2000 [==============================] - 1s 360us/step - loss: 0.7454 - acc: 0.9510 - val_loss: 0.5490 - val_acc: 0.9625\n",
      "Epoch 13/50\n",
      "2000/2000 [==============================] - 1s 359us/step - loss: 0.6414 - acc: 0.9595 - val_loss: 0.4603 - val_acc: 0.9700\n",
      "Epoch 14/50\n",
      "2000/2000 [==============================] - 1s 360us/step - loss: 0.5413 - acc: 0.9625 - val_loss: 0.4918 - val_acc: 0.9663\n",
      "Epoch 15/50\n",
      "2000/2000 [==============================] - 1s 365us/step - loss: 0.5296 - acc: 0.9655 - val_loss: 0.5073 - val_acc: 0.9650\n",
      "Epoch 16/50\n",
      "2000/2000 [==============================] - 1s 364us/step - loss: 0.5057 - acc: 0.9665 - val_loss: 0.5682 - val_acc: 0.9625\n",
      "Epoch 17/50\n",
      "2000/2000 [==============================] - 1s 351us/step - loss: 0.5615 - acc: 0.9630 - val_loss: 0.4891 - val_acc: 0.9688\n",
      "Epoch 18/50\n",
      "2000/2000 [==============================] - 1s 335us/step - loss: 0.5139 - acc: 0.9660 - val_loss: 0.5063 - val_acc: 0.9675\n",
      "Epoch 19/50\n",
      "2000/2000 [==============================] - 1s 330us/step - loss: 0.4172 - acc: 0.9730 - val_loss: 0.5878 - val_acc: 0.9625\n",
      "Epoch 20/50\n",
      "2000/2000 [==============================] - 1s 329us/step - loss: 0.5090 - acc: 0.9680 - val_loss: 0.4445 - val_acc: 0.9712\n",
      "Epoch 21/50\n",
      "2000/2000 [==============================] - 1s 325us/step - loss: 0.3967 - acc: 0.9745 - val_loss: 0.6401 - val_acc: 0.9575\n",
      "Epoch 22/50\n",
      "2000/2000 [==============================] - 1s 326us/step - loss: 0.4201 - acc: 0.9735 - val_loss: 0.5943 - val_acc: 0.9613\n",
      "Epoch 23/50\n",
      "2000/2000 [==============================] - 1s 325us/step - loss: 0.3579 - acc: 0.9770 - val_loss: 0.4616 - val_acc: 0.9712\n",
      "Epoch 24/50\n",
      "2000/2000 [==============================] - 1s 328us/step - loss: 0.5949 - acc: 0.9610 - val_loss: 0.5998 - val_acc: 0.9625\n",
      "Epoch 25/50\n",
      "2000/2000 [==============================] - 1s 327us/step - loss: 0.3958 - acc: 0.9740 - val_loss: 0.4568 - val_acc: 0.9663\n",
      "Epoch 26/50\n",
      "2000/2000 [==============================] - 1s 325us/step - loss: 0.4086 - acc: 0.9725 - val_loss: 0.5476 - val_acc: 0.9650\n",
      "Epoch 27/50\n",
      "2000/2000 [==============================] - 1s 326us/step - loss: 0.3811 - acc: 0.9755 - val_loss: 0.5013 - val_acc: 0.9688\n",
      "Epoch 28/50\n",
      "2000/2000 [==============================] - 1s 340us/step - loss: 0.4167 - acc: 0.9715 - val_loss: 0.5622 - val_acc: 0.9650\n",
      "Epoch 29/50\n",
      "2000/2000 [==============================] - 1s 341us/step - loss: 0.3642 - acc: 0.9760 - val_loss: 0.5414 - val_acc: 0.9663\n",
      "Epoch 30/50\n",
      "2000/2000 [==============================] - 1s 339us/step - loss: 0.3665 - acc: 0.9770 - val_loss: 0.4739 - val_acc: 0.9688\n",
      "Epoch 31/50\n",
      "2000/2000 [==============================] - 1s 343us/step - loss: 0.3054 - acc: 0.9810 - val_loss: 0.5276 - val_acc: 0.9650\n",
      "Epoch 32/50\n",
      "2000/2000 [==============================] - 1s 339us/step - loss: 0.3478 - acc: 0.9775 - val_loss: 0.6088 - val_acc: 0.9613\n",
      "Epoch 33/50\n",
      "2000/2000 [==============================] - 1s 344us/step - loss: 0.2917 - acc: 0.9810 - val_loss: 0.4695 - val_acc: 0.9688\n",
      "Epoch 34/50\n",
      "2000/2000 [==============================] - 1s 348us/step - loss: 0.3388 - acc: 0.9785 - val_loss: 0.4911 - val_acc: 0.9688\n",
      "Epoch 35/50\n",
      "2000/2000 [==============================] - 1s 345us/step - loss: 0.2626 - acc: 0.9835 - val_loss: 0.5450 - val_acc: 0.9650\n",
      "Epoch 36/50\n",
      "2000/2000 [==============================] - 1s 347us/step - loss: 0.2543 - acc: 0.9840 - val_loss: 0.4931 - val_acc: 0.9675\n",
      "Epoch 37/50\n",
      "2000/2000 [==============================] - 1s 348us/step - loss: 0.2625 - acc: 0.9830 - val_loss: 0.4400 - val_acc: 0.9725\n",
      "Epoch 38/50\n",
      "2000/2000 [==============================] - 1s 334us/step - loss: 0.3037 - acc: 0.9800 - val_loss: 0.4995 - val_acc: 0.9688\n",
      "Epoch 39/50\n",
      "2000/2000 [==============================] - 1s 338us/step - loss: 0.2629 - acc: 0.9830 - val_loss: 0.5695 - val_acc: 0.9637\n",
      "Epoch 40/50\n",
      "2000/2000 [==============================] - 1s 347us/step - loss: 0.3017 - acc: 0.9800 - val_loss: 0.4602 - val_acc: 0.9700\n",
      "Epoch 41/50\n",
      "2000/2000 [==============================] - 1s 336us/step - loss: 0.2574 - acc: 0.9830 - val_loss: 0.4450 - val_acc: 0.9700\n",
      "Epoch 42/50\n",
      "2000/2000 [==============================] - 1s 327us/step - loss: 0.2929 - acc: 0.9810 - val_loss: 0.4815 - val_acc: 0.9688\n",
      "Epoch 43/50\n",
      "2000/2000 [==============================] - 1s 323us/step - loss: 0.2327 - acc: 0.9855 - val_loss: 0.4661 - val_acc: 0.9688\n",
      "Epoch 44/50\n",
      "2000/2000 [==============================] - 1s 332us/step - loss: 0.2905 - acc: 0.9810 - val_loss: 0.4514 - val_acc: 0.9700\n",
      "Epoch 45/50\n",
      "2000/2000 [==============================] - 1s 327us/step - loss: 0.2423 - acc: 0.9845 - val_loss: 0.5460 - val_acc: 0.9637\n",
      "Epoch 46/50\n",
      "2000/2000 [==============================] - 1s 325us/step - loss: 0.2331 - acc: 0.9855 - val_loss: 0.6113 - val_acc: 0.9613\n",
      "Epoch 47/50\n",
      "2000/2000 [==============================] - 1s 327us/step - loss: 0.2885 - acc: 0.9810 - val_loss: 0.6405 - val_acc: 0.9587\n",
      "Epoch 48/50\n",
      "2000/2000 [==============================] - 1s 330us/step - loss: 0.2067 - acc: 0.9860 - val_loss: 0.4429 - val_acc: 0.9712\n",
      "Epoch 49/50\n",
      "2000/2000 [==============================] - 1s 328us/step - loss: 0.2261 - acc: 0.9855 - val_loss: 0.5184 - val_acc: 0.9663\n",
      "Epoch 50/50\n",
      "2000/2000 [==============================] - 1s 325us/step - loss: 0.2483 - acc: 0.9840 - val_loss: 0.7341 - val_acc: 0.9525\n",
      "CPU times: user 44 s, sys: 7.8 s, total: 51.8 s\n",
      "Wall time: 35.7 s\n"
     ]
    }
   ],
   "source": [
    "%%time\n",
    "training_log = last_layer_model.fit(train_data, train_labels,\n",
    "                     epochs=epochs,\n",
    "                     batch_size=batch_size,       \n",
    "                     validation_data=(validation_data, validation_labels))"
   ]
  },
  {
   "cell_type": "code",
   "execution_count": 125,
   "metadata": {},
   "outputs": [
    {
     "data": {
      "image/png": "[encoded data removed]",
      "text/plain": [
       "<Figure size 432x288 with 1 Axes>"
      ]
     },
     "metadata": {},
     "output_type": "display_data"
    },
    {
     "data": {
      "image/png": "[encoded data removed]",
      "text/plain": [
       "<Figure size 432x288 with 1 Axes>"
      ]
     },
     "metadata": {},
     "output_type": "display_data"
    }
   ],
   "source": [
    "plot_training_history(training_log)"
   ]
  },
  {
   "cell_type": "markdown",
   "metadata": {},
   "source": [
    "## Save model"
   ]
  },
  {
   "cell_type": "markdown",
   "metadata": {},
   "source": [
    "### Save as full model"
   ]
  },
  {
   "cell_type": "code",
   "execution_count": 126,
   "metadata": {},
   "outputs": [],
   "source": [
    "os.makedirs(f'{PATH}models/', exist_ok=True)"
   ]
  },
  {
   "cell_type": "code",
   "execution_count": 127,
   "metadata": {},
   "outputs": [],
   "source": [
    "last_layer_model.save(f'{PATH}/models/vgg16_precached_bottleneck_fc_model.h5')"
   ]
  },
  {
   "cell_type": "markdown",
   "metadata": {},
   "source": [
    "### Save as architecture definition (json) + weights value"
   ]
  },
  {
   "cell_type": "code",
   "execution_count": 128,
   "metadata": {},
   "outputs": [],
   "source": [
    "model_json = last_layer_model.to_json()\n",
    "\n",
    "with open(f'{PATH}/models/vgg16_precached_bottleneck_fc_arch.json', 'w') as json_file:\n",
    "    json_file.write(model_json)\n",
    "    \n",
    "last_layer_model.save_weights(f'{PATH}/models/vgg16_precached_bottleneck_fc_weights.h5')"
   ]
  },
  {
   "cell_type": "markdown",
   "metadata": {},
   "source": [
    "## Load model to predict test data"
   ]
  },
  {
   "cell_type": "code",
   "execution_count": 129,
   "metadata": {},
   "outputs": [],
   "source": [
    "# both options should return the same model but we may want to \n",
    "# change the weights using those obtained from training\n",
    "load_from_model_file = True\n",
    "\n",
    "if load_from_model_file:\n",
    "    test_last_layer_model = load_model(f'{PATH}/models/vgg16_precached_bottleneck_fc_model.h5')\n",
    "else:\n",
    "    json_file = open(f'{PATH}/models/vgg16_precached_bottleneck_fc_arch.json', 'r')\n",
    "    loaded_model_json = json_file.read()\n",
    "    json_file.close()\n",
    "    test_last_layer_model = model_from_json(loaded_model_json)\n",
    "\n",
    "    test_last_layer_model.load_weights(f'{PATH}/models/vgg16_precached_bottleneck_fc_weights.h5')"
   ]
  },
  {
   "cell_type": "markdown",
   "metadata": {},
   "source": [
    "## Predict on single image"
   ]
  },
  {
   "cell_type": "code",
   "execution_count": 130,
   "metadata": {},
   "outputs": [
    {
     "name": "stdout",
     "output_type": "stream",
     "text": [
      "data/dogscats_small/validation/cats/cat.1104.jpg\n"
     ]
    },
    {
     "data": {
      "image/png": "[encoded data removed]",
      "text/plain": [
       "<PIL.Image.Image image mode=RGB size=150x150 at 0x7F62FE7AD630>"
      ]
     },
     "execution_count": 130,
     "metadata": {},
     "output_type": "execute_result"
    }
   ],
   "source": [
    "rand_img_path = rand_img_from_child_dirs(validation_data_dir)\n",
    "rand_img = image.load_img(rand_img_path, target_size=(img_width, img_height))    \n",
    "rand_dog_cat = 'dog' if 'validation/dogs' in rand_img_path else 'cat'\n",
    "\n",
    "print(rand_img_path)\n",
    "rand_img"
   ]
  },
  {
   "cell_type": "code",
   "execution_count": 131,
   "metadata": {},
   "outputs": [],
   "source": [
    "x_test = image.img_to_array(rand_img)\n",
    "x = preprocess_input(x_test)\n",
    "x_test = np.expand_dims(x_test, axis=0) # increase dimension so that can be fed into model"
   ]
  },
  {
   "cell_type": "code",
   "execution_count": 132,
   "metadata": {},
   "outputs": [],
   "source": [
    "bottleneck_features = conv_model.predict(x_test)"
   ]
  },
  {
   "cell_type": "code",
   "execution_count": 133,
   "metadata": {},
   "outputs": [
    {
     "name": "stdout",
     "output_type": "stream",
     "text": [
      "0 0.0\n"
     ]
    }
   ],
   "source": [
    "if build_with_sequential:\n",
    "    pred = np.asscalar(np.squeeze(test_last_layer_model.predict_classes(bottleneck_features)))\n",
    "    proba = np.asscalar(np.squeeze(test_last_layer_model.predict_proba(bottleneck_features)))\n",
    "    print(pred, proba)"
   ]
  },
  {
   "cell_type": "code",
   "execution_count": 134,
   "metadata": {},
   "outputs": [
    {
     "data": {
      "text/plain": [
       "0.0"
      ]
     },
     "execution_count": 134,
     "metadata": {},
     "output_type": "execute_result"
    }
   ],
   "source": [
    "prob = np.asscalar(np.squeeze(test_last_layer_model.predict(bottleneck_features)))\n",
    "prob"
   ]
  },
  {
   "cell_type": "code",
   "execution_count": 135,
   "metadata": {},
   "outputs": [
    {
     "name": "stdout",
     "output_type": "stream",
     "text": [
      "The model is 100.0% sure this is a cat\n"
     ]
    }
   ],
   "source": [
    "if build_with_sequential:\n",
    "    res = 'dog' if pred==1 else 'cat'\n",
    "else:\n",
    "    res = 'dog' if prob>=0.5 else 'cat'\n",
    "    \n",
    "pct = round(prob*100,2)\n",
    "if res is 'cat':\n",
    "    pct = 100 - pct \n",
    "\n",
    "print('The model is ' + str(pct) + '% sure this is a ' + res)"
   ]
  },
  {
   "cell_type": "markdown",
   "metadata": {},
   "source": [
    "## Predict on batch of test images"
   ]
  },
  {
   "cell_type": "markdown",
   "metadata": {},
   "source": [
    "Unlike validation data, these are never seen or tested before"
   ]
  },
  {
   "cell_type": "code",
   "execution_count": 136,
   "metadata": {},
   "outputs": [],
   "source": [
    "def predict(data_dir, base_model, last_layer_model):\n",
    "    preds = []\n",
    "    \n",
    "    for fn in os.listdir(data_dir):\n",
    "        img = load_img(data_dir+fn, target_size=(img_width,img_height))\n",
    "        x = img_to_array(img)\n",
    "        x = preprocess_input(x)\n",
    "        x = np.expand_dims(x, axis=0)\n",
    "        \n",
    "        features = base_model.predict(x)\n",
    "        if build_with_sequential:\n",
    "            pred = np.asscalar(np.squeeze(last_layer_model.predict_classes(features)))\n",
    "        else:\n",
    "            pred = np.asscalar(np.squeeze(last_layer_model.predict(features)))\n",
    "        preds.append(pred)\n",
    "        \n",
    "    return np.array(preds)"
   ]
  },
  {
   "cell_type": "code",
   "execution_count": 137,
   "metadata": {},
   "outputs": [],
   "source": [
    "dog_test_dir = f\"{test_data_dir}dogs/\"\n",
    "cat_test_dir = f\"{test_data_dir}cats/\""
   ]
  },
  {
   "cell_type": "code",
   "execution_count": 138,
   "metadata": {},
   "outputs": [],
   "source": [
    "pred_dogs = predict(dog_test_dir, conv_model, test_last_layer_model)"
   ]
  },
  {
   "cell_type": "code",
   "execution_count": 139,
   "metadata": {},
   "outputs": [],
   "source": [
    "pred_cats = predict(cat_test_dir, conv_model, test_last_layer_model)"
   ]
  },
  {
   "cell_type": "code",
   "execution_count": 140,
   "metadata": {},
   "outputs": [
    {
     "name": "stdout",
     "output_type": "stream",
     "text": [
      "Cat Prediction Accuracy: 98.90%\n",
      "Dog Prediction Accuracy: 90.50%\n",
      "Overall Accuracy: 94.70%\n"
     ]
    }
   ],
   "source": [
    "if build_with_sequential:\n",
    "    cat_acc = (1-pred_cats.mean())*100\n",
    "    dog_acc = pred_dogs.mean()*100\n",
    "else:\n",
    "    cat_acc = len(pred_cats[pred_cats<0.5])/len(pred_cats) * 100\n",
    "    dog_acc = len(pred_dogs[pred_dogs>=0.5])/len(pred_dogs) * 100\n",
    "\n",
    "overall_acc = (cat_acc+dog_acc)/2.0\n",
    "\n",
    "print(f'Cat Prediction Accuracy: {cat_acc:.2f}%\\nDog Prediction Accuracy: {dog_acc:.2f}%')\n",
    "print(f'Overall Accuracy: {overall_acc:.2f}%')"
   ]
  },
  {
   "cell_type": "markdown",
   "metadata": {},
   "source": [
    "### Results Comparison"
   ]
  },
  {
   "cell_type": "markdown",
   "metadata": {},
   "source": [
    "#### Baseline"
   ]
  },
  {
   "cell_type": "markdown",
   "metadata": {},
   "source": [
    "- Cat Prediction Accuracy: 77.70%\n",
    "- Dog Prediction Accuracy: 81.80%"
   ]
  },
  {
   "cell_type": "markdown",
   "metadata": {},
   "source": [
    "#### All with 10 epochs"
   ]
  },
  {
   "cell_type": "markdown",
   "metadata": {},
   "source": [
    "Seq_1\n",
    "- Cat Prediction Accuracy: 98.60%\n",
    "- Dog Prediction Accuracy: 91.60%\n",
    "- Overall Accuracy: 95.10%\n",
    "\n",
    "Seq_2\n",
    "- Cat Prediction Accuracy: 99.10%\n",
    "- Dog Prediction Accuracy: 81.40%\n",
    "- Overall Accuracy: 90.25%\n",
    "\n",
    "Seq_3\n",
    "- Cat Prediction Accuracy: 93.00%\n",
    "- Dog Prediction Accuracy: 97.80%\n",
    "- Overall Accuracy: 95.40%\n",
    "\n",
    "Func_1\n",
    "- Cat Prediction Accuracy: 98.90%\n",
    "- Dog Prediction Accuracy: 88.70%\n",
    "- Overall Accuracy: 93.80%\n",
    "\n",
    "Func_2\n",
    "- Cat Prediction Accuracy: 97.20%\n",
    "- Dog Prediction Accuracy: 91.70%\n",
    "- Overall Accuracy: 94.45%\n",
    "\n",
    "Func_3\n",
    "- Cat Prediction Accuracy: 98.70%\n",
    "- Dog Prediction Accuracy: 91.60%\n",
    "- Overall Accuracy: 95.15%"
   ]
  },
  {
   "cell_type": "markdown",
   "metadata": {},
   "source": [
    "#### All with 50 epochs"
   ]
  },
  {
   "cell_type": "markdown",
   "metadata": {},
   "source": [
    "Seq_1\n",
    "- Cat Prediction Accuracy: 98.90%\n",
    "- Dog Prediction Accuracy: 90.50%\n",
    "- Overall Accuracy: 94.70%\n",
    "\n",
    "Seq_2\n",
    "- Cat Prediction Accuracy: 96.40%\n",
    "- Dog Prediction Accuracy: 94.80%\n",
    "- Overall Accuracy: 95.60%\n",
    "\n",
    "Seq_3\n",
    "- Cat Prediction Accuracy: 96.90%\n",
    "- Dog Prediction Accuracy: 95.40%\n",
    "- Overall Accuracy: 96.15%\n",
    "\n",
    "\n",
    "Func_1\n",
    "\n",
    "\n",
    "Func_2\n",
    "\n",
    "\n",
    "Func_3\n",
    "- Cat Prediction Accuracy: 96.40%\n",
    "- Dog Prediction Accuracy: 96.40%\n",
    "- Overall Accuracy: 96.40%\n"
   ]
  }
 ],
 "metadata": {
  "_draft": {
   "nbviewer_url": "https://gist.github.com/135ebf9ccb113b1af214bc2b3ed1c20e"
  },
  "gist": {
   "data": {
    "description": "keras_lesson1",
    "public": true
   },
   "id": "135ebf9ccb113b1af214bc2b3ed1c20e"
  },
  "kernelspec": {
   "display_name": "Python 3",
   "language": "python",
   "name": "python3"
  },
  "language_info": {
   "codemirror_mode": {
    "name": "ipython",
    "version": 3
   },
   "file_extension": ".py",
   "mimetype": "text/x-python",
   "name": "python",
   "nbconvert_exporter": "python",
   "pygments_lexer": "ipython3",
   "version": "3.6.5"
  },
  "toc": {
   "base_numbering": 1,
   "nav_menu": {
    "height": "266px",
    "width": "252px"
   },
   "number_sections": true,
   "sideBar": true,
   "skip_h1_title": false,
   "title_cell": "Table of Contents",
   "title_sidebar": "Contents",
   "toc_cell": false,
   "toc_position": {},
   "toc_section_display": "block",
   "toc_window_display": false
  }
 },
 "nbformat": 4,
 "nbformat_minor": 2
}
