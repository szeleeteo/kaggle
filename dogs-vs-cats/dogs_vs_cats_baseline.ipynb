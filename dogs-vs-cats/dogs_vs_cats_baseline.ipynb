{
 "cells": [
  {
   "cell_type": "markdown",
   "metadata": {},
   "source": [
    "# Dogs Vs Cats Classification with Basic CNN Neural Network Using Tensorflow and Keras"
   ]
  },
  {
   "cell_type": "markdown",
   "metadata": {},
   "source": [
    "Based on Part 1 of https://blog.keras.io/building-powerful-image-classification-models-using-very-little-data.html with several additions:\n",
    "- callback: checkpoint and early stopping\n",
    "- saving model to model file, or to architecture (in json) + weights separately\n",
    "- loading model from model file, or from architecture (in json) + weights separately\n",
    "- use model to make prediction/evaluation on a single image\n",
    "- use model to make prediction/evaluation on a batch of test image (different from validation, this is as if to simulate real world testing on data that have not been tested or seen in training stage"
   ]
  },
  {
   "cell_type": "markdown",
   "metadata": {},
   "source": [
    "## Import libraries"
   ]
  },
  {
   "cell_type": "code",
   "execution_count": 1,
   "metadata": {},
   "outputs": [],
   "source": [
    "%load_ext autoreload\n",
    "%autoreload 2\n",
    "%matplotlib inline"
   ]
  },
  {
   "cell_type": "code",
   "execution_count": 2,
   "metadata": {},
   "outputs": [],
   "source": [
    "import os\n",
    "import numpy as np\n",
    "import matplotlib.pyplot as plt\n",
    "import json\n",
    "\n",
    "import tensorflow as tf\n",
    "from tensorflow.keras.preprocessing import image\n",
    "from tensorflow.keras.preprocessing.image import ImageDataGenerator\n",
    "from tensorflow.keras.preprocessing.image import array_to_img, img_to_array, load_img\n",
    "from tensorflow.keras.models import load_model, model_from_json\n",
    "from tensorflow.keras.models import Sequential\n",
    "from tensorflow.keras.layers import Conv2D, MaxPooling2D\n",
    "from tensorflow.keras.layers import Activation, Dropout, Flatten, Dense\n",
    "from tensorflow.keras.callbacks import EarlyStopping, ModelCheckpoint\n",
    "from tensorflow.keras import backend as K"
   ]
  },
  {
   "cell_type": "markdown",
   "metadata": {},
   "source": [
    "## Define constants"
   ]
  },
  {
   "cell_type": "code",
   "execution_count": 3,
   "metadata": {},
   "outputs": [],
   "source": [
    "# dimensions of our images\n",
    "img_width, img_height = 150, 150\n",
    "\n",
    "PATH = 'data/dogscats_small/'\n",
    "train_data_dir = f'{PATH}train/'\n",
    "validation_data_dir = f'{PATH}validation/'\n",
    "test_data_dir = f'{PATH}test/'\n",
    "\n",
    "epochs = 30\n",
    "batch_size = 16"
   ]
  },
  {
   "cell_type": "code",
   "execution_count": 4,
   "metadata": {},
   "outputs": [],
   "source": [
    "# value stored in /users/<user>/keras/.keras.json file\n",
    "# \"channels_last\" for tensorflow\n",
    "\n",
    "if K.image_data_format() == 'channels_first':\n",
    "    input_shape = (3, img_width, img_height)\n",
    "else:\n",
    "    input_shape = (img_width, img_height, 3)"
   ]
  },
  {
   "cell_type": "markdown",
   "metadata": {},
   "source": [
    "## Helper functions"
   ]
  },
  {
   "cell_type": "code",
   "execution_count": 5,
   "metadata": {},
   "outputs": [],
   "source": [
    "# ensure the child directories are non-empty and contain jpg files\n",
    "def rand_img_from_child_dirs(dir_path):\n",
    "    \n",
    "    dirs =  [directory for directory in os.listdir(dir_path) if os.path.isdir(os.path.join(dir_path,directory)) \n",
    "             and not directory.startswith('.')]\n",
    "    random_dir = np.random.choice(dirs)\n",
    "    random_dir_path = os.path.join(dir_path,random_dir)\n",
    "    files =  [file for file in os.listdir(random_dir_path) if file.endswith('.jpg')]\n",
    "    random_img = np.random.choice(files)\n",
    "\n",
    "    return os.path.join(random_dir_path,random_img)"
   ]
  },
  {
   "cell_type": "code",
   "execution_count": 6,
   "metadata": {},
   "outputs": [],
   "source": [
    "def plot_training_history(log):\n",
    "    acc = log.history['acc']\n",
    "    val_acc = log.history['val_acc']\n",
    "    loss = log.history['loss']\n",
    "    val_loss = log.history['val_loss']\n",
    "\n",
    "    epoch_range = range(len(acc))\n",
    "\n",
    "    plt.plot(epoch_range, acc, 'b', label='Training acc')\n",
    "    plt.plot(epoch_range, val_acc, 'r', label='Validation acc')\n",
    "    plt.title('Training and validation accuracy')\n",
    "    plt.legend()\n",
    "\n",
    "    plt.figure()\n",
    "\n",
    "    plt.plot(epoch_range, loss, 'b', label='Training loss')\n",
    "    plt.plot(epoch_range, val_loss, 'r', label='Validation loss')\n",
    "    plt.title('Training and validation loss')\n",
    "    plt.legend()\n",
    "\n",
    "    plt.show()"
   ]
  },
  {
   "cell_type": "markdown",
   "metadata": {},
   "source": [
    "## Build neural network model"
   ]
  },
  {
   "cell_type": "code",
   "execution_count": 7,
   "metadata": {},
   "outputs": [],
   "source": [
    "model = Sequential()\n",
    "\n",
    "model.add(Conv2D(32, (3, 3), input_shape=input_shape))\n",
    "model.add(Activation('relu'))\n",
    "model.add(MaxPooling2D(pool_size=(2, 2)))\n",
    "\n",
    "model.add(Conv2D(32, (3, 3)))\n",
    "model.add(Activation('relu'))\n",
    "model.add(MaxPooling2D(pool_size=(2, 2)))\n",
    "\n",
    "model.add(Conv2D(64, (3, 3)))\n",
    "model.add(Activation('relu'))\n",
    "model.add(MaxPooling2D(pool_size=(2, 2)))\n",
    "\n",
    "model.add(Flatten())\n",
    "model.add(Dense(64))\n",
    "model.add(Activation('relu'))\n",
    "model.add(Dropout(0.5))\n",
    "model.add(Dense(1))\n",
    "model.add(Activation('sigmoid'))\n",
    "\n",
    "model.compile(loss='binary_crossentropy', optimizer='rmsprop', metrics=['accuracy'])"
   ]
  },
  {
   "cell_type": "code",
   "execution_count": 8,
   "metadata": {},
   "outputs": [
    {
     "name": "stdout",
     "output_type": "stream",
     "text": [
      "_________________________________________________________________\n",
      "Layer (type)                 Output Shape              Param #   \n",
      "=================================================================\n",
      "conv2d (Conv2D)              (None, 148, 148, 32)      896       \n",
      "_________________________________________________________________\n",
      "activation (Activation)      (None, 148, 148, 32)      0         \n",
      "_________________________________________________________________\n",
      "max_pooling2d (MaxPooling2D) (None, 74, 74, 32)        0         \n",
      "_________________________________________________________________\n",
      "conv2d_1 (Conv2D)            (None, 72, 72, 32)        9248      \n",
      "_________________________________________________________________\n",
      "activation_1 (Activation)    (None, 72, 72, 32)        0         \n",
      "_________________________________________________________________\n",
      "max_pooling2d_1 (MaxPooling2 (None, 36, 36, 32)        0         \n",
      "_________________________________________________________________\n",
      "conv2d_2 (Conv2D)            (None, 34, 34, 64)        18496     \n",
      "_________________________________________________________________\n",
      "activation_2 (Activation)    (None, 34, 34, 64)        0         \n",
      "_________________________________________________________________\n",
      "max_pooling2d_2 (MaxPooling2 (None, 17, 17, 64)        0         \n",
      "_________________________________________________________________\n",
      "flatten (Flatten)            (None, 18496)             0         \n",
      "_________________________________________________________________\n",
      "dense (Dense)                (None, 64)                1183808   \n",
      "_________________________________________________________________\n",
      "activation_3 (Activation)    (None, 64)                0         \n",
      "_________________________________________________________________\n",
      "dropout (Dropout)            (None, 64)                0         \n",
      "_________________________________________________________________\n",
      "dense_1 (Dense)              (None, 1)                 65        \n",
      "_________________________________________________________________\n",
      "activation_4 (Activation)    (None, 1)                 0         \n",
      "=================================================================\n",
      "Total params: 1,212,513\n",
      "Trainable params: 1,212,513\n",
      "Non-trainable params: 0\n",
      "_________________________________________________________________\n"
     ]
    }
   ],
   "source": [
    "model.summary()"
   ]
  },
  {
   "cell_type": "markdown",
   "metadata": {},
   "source": [
    "## Setup training and validation data"
   ]
  },
  {
   "cell_type": "code",
   "execution_count": 9,
   "metadata": {},
   "outputs": [],
   "source": [
    "# rescaling + data augmentation for training data\n",
    "train_datagen = ImageDataGenerator(\n",
    "    rescale=1. / 255,\n",
    "    shear_range=0.2,\n",
    "    zoom_range=0.2,\n",
    "    horizontal_flip=True)\n",
    "\n",
    "# only rescaling for validation data\n",
    "# no augmentation because we want the classification result for the actual file itself\n",
    "validation_datagen = ImageDataGenerator(rescale=1. / 255)"
   ]
  },
  {
   "cell_type": "code",
   "execution_count": 10,
   "metadata": {},
   "outputs": [
    {
     "name": "stdout",
     "output_type": "stream",
     "text": [
      "Found 2000 images belonging to 2 classes.\n",
      "Found 800 images belonging to 2 classes.\n"
     ]
    }
   ],
   "source": [
    "train_generator = train_datagen.flow_from_directory(\n",
    "    train_data_dir,\n",
    "    target_size=(img_width, img_height),\n",
    "    batch_size=batch_size,\n",
    "    class_mode='binary',\n",
    "    shuffle=True)\n",
    "\n",
    "validation_generator = validation_datagen.flow_from_directory(\n",
    "    validation_data_dir,\n",
    "    target_size=(img_width, img_height),\n",
    "    batch_size=batch_size,\n",
    "    class_mode='binary',\n",
    "    shuffle=False)"
   ]
  },
  {
   "cell_type": "markdown",
   "metadata": {},
   "source": [
    "### Image Augmentation"
   ]
  },
  {
   "cell_type": "code",
   "execution_count": 11,
   "metadata": {},
   "outputs": [],
   "source": [
    "# running augmentation seem to cause problem during training\n",
    "# maybe in the datagen.flow part\n",
    "gen_augmentation_samples = False  \n",
    "\n",
    "if gen_augmentation_samples:\n",
    "    os.makedirs('tmp/img_augmentations', exist_ok=True)\n",
    "    \n",
    "    rand_img_path = rand_img_from_child_dirs(validation_data_dir)\n",
    "    rand_img_augm = image.load_img(rand_img_path, target_size=(img_width, img_height))\n",
    "    \n",
    "    x = img_to_array(rand_img_augm)  # this is a Numpy array with shape (3, 150, 150)\n",
    "    x = x.reshape((1,) + x.shape)  # this is a Numpy array with shape (1, 3, 150, 150)\n",
    "    # x = np.expand_dims(x, axis=0)\n",
    "    \n",
    "    # the .flow() command below generates batches of randomly transformed images\n",
    "    # and saves the results to the `tmp/img_augmentations/` directory\n",
    "    i = 0\n",
    "    for batch in train_datagen.flow(x, batch_size=1,\n",
    "                              save_to_dir='tmp/img_augmentations', save_prefix='cat', save_format='jpeg'):\n",
    "        i += 1\n",
    "        if i > 10:\n",
    "            break  # otherwise the generator would loop indefinitely"
   ]
  },
  {
   "cell_type": "markdown",
   "metadata": {},
   "source": [
    "## Setup callbacks - checkpoint and early stopping"
   ]
  },
  {
   "cell_type": "code",
   "execution_count": 12,
   "metadata": {},
   "outputs": [],
   "source": [
    "# cannot use F-string format\n",
    "checkpoint_file_path = PATH + \"models/baseline_weights_{epoch:02d}_{val_loss:.2f}_{val_acc:.2f}.h5\" \n",
    "\n",
    "checkpoint = ModelCheckpoint(checkpoint_file_path, monitor='val_acc', verbose=1, \n",
    "                             save_weights_only=True, save_best_only=True, mode='max')\n",
    "\n",
    "early_stopping = EarlyStopping(monitor='val_acc', patience=10, verbose=1, mode='max')\n",
    "\n",
    "early_stop = False # optional, prefer not to use for this example\n",
    "\n",
    "if early_stop:\n",
    "    callbacks_list = [checkpoint, early_stopping]\n",
    "else:\n",
    "    callbacks_list = [checkpoint]"
   ]
  },
  {
   "cell_type": "markdown",
   "metadata": {},
   "source": [
    "## Train"
   ]
  },
  {
   "cell_type": "code",
   "execution_count": 13,
   "metadata": {},
   "outputs": [
    {
     "name": "stdout",
     "output_type": "stream",
     "text": [
      "Epoch 1/30\n",
      "123/125 [============================>.] - ETA: 0s - loss: 0.7063 - acc: 0.5584\n",
      "Epoch 00001: val_acc improved from -inf to 0.67625, saving model to data/dogscats_small/models/baseline_weights_01_0.66_0.68.h5\n",
      "125/125 [==============================] - 13s 105ms/step - loss: 0.7060 - acc: 0.5585 - val_loss: 0.6633 - val_acc: 0.6763\n",
      "Epoch 2/30\n",
      "124/125 [============================>.] - ETA: 0s - loss: 0.6657 - acc: 0.6351\n",
      "Epoch 00002: val_acc did not improve from 0.67625\n",
      "125/125 [==============================] - 11s 87ms/step - loss: 0.6665 - acc: 0.6345 - val_loss: 0.6398 - val_acc: 0.6212\n",
      "Epoch 3/30\n",
      "124/125 [============================>.] - ETA: 0s - loss: 0.6132 - acc: 0.6689\n",
      "Epoch 00003: val_acc improved from 0.67625 to 0.69375, saving model to data/dogscats_small/models/baseline_weights_03_0.58_0.69.h5\n",
      "125/125 [==============================] - 11s 87ms/step - loss: 0.6122 - acc: 0.6695 - val_loss: 0.5753 - val_acc: 0.6937\n",
      "Epoch 4/30\n",
      "123/125 [============================>.] - ETA: 0s - loss: 0.5864 - acc: 0.6956\n",
      "Epoch 00004: val_acc did not improve from 0.69375\n",
      "125/125 [==============================] - 11s 87ms/step - loss: 0.5904 - acc: 0.6935 - val_loss: 0.5935 - val_acc: 0.6763\n",
      "Epoch 5/30\n",
      "124/125 [============================>.] - ETA: 0s - loss: 0.5611 - acc: 0.7283\n",
      "Epoch 00005: val_acc improved from 0.69375 to 0.74125, saving model to data/dogscats_small/models/baseline_weights_05_0.56_0.74.h5\n",
      "125/125 [==============================] - 11s 86ms/step - loss: 0.5617 - acc: 0.7275 - val_loss: 0.5565 - val_acc: 0.7412\n",
      "Epoch 6/30\n",
      "124/125 [============================>.] - ETA: 0s - loss: 0.5465 - acc: 0.7334\n",
      "Epoch 00006: val_acc did not improve from 0.74125\n",
      "125/125 [==============================] - 11s 88ms/step - loss: 0.5466 - acc: 0.7345 - val_loss: 0.5672 - val_acc: 0.7212\n",
      "Epoch 7/30\n",
      "123/125 [============================>.] - ETA: 0s - loss: 0.5293 - acc: 0.7434\n",
      "Epoch 00007: val_acc did not improve from 0.74125\n",
      "125/125 [==============================] - 11s 88ms/step - loss: 0.5281 - acc: 0.7440 - val_loss: 0.5388 - val_acc: 0.7225\n",
      "Epoch 8/30\n",
      "124/125 [============================>.] - ETA: 0s - loss: 0.5120 - acc: 0.7550\n",
      "Epoch 00008: val_acc did not improve from 0.74125\n",
      "125/125 [==============================] - 11s 87ms/step - loss: 0.5111 - acc: 0.7565 - val_loss: 0.5225 - val_acc: 0.7388\n",
      "Epoch 9/30\n",
      "124/125 [============================>.] - ETA: 0s - loss: 0.4943 - acc: 0.7631\n",
      "Epoch 00009: val_acc did not improve from 0.74125\n",
      "125/125 [==============================] - 11s 87ms/step - loss: 0.4950 - acc: 0.7630 - val_loss: 0.6351 - val_acc: 0.7212\n",
      "Epoch 10/30\n",
      "124/125 [============================>.] - ETA: 0s - loss: 0.5061 - acc: 0.7727\n",
      "Epoch 00010: val_acc improved from 0.74125 to 0.76125, saving model to data/dogscats_small/models/baseline_weights_10_0.51_0.76.h5\n",
      "125/125 [==============================] - 11s 86ms/step - loss: 0.5052 - acc: 0.7735 - val_loss: 0.5136 - val_acc: 0.7612\n",
      "Epoch 11/30\n",
      "124/125 [============================>.] - ETA: 0s - loss: 0.4818 - acc: 0.7812\n",
      "Epoch 00011: val_acc did not improve from 0.76125\n",
      "125/125 [==============================] - 11s 88ms/step - loss: 0.4818 - acc: 0.7805 - val_loss: 0.4817 - val_acc: 0.7612\n",
      "Epoch 12/30\n",
      "124/125 [============================>.] - ETA: 0s - loss: 0.4609 - acc: 0.7863\n",
      "Epoch 00012: val_acc improved from 0.76125 to 0.76250, saving model to data/dogscats_small/models/baseline_weights_12_0.48_0.76.h5\n",
      "125/125 [==============================] - 11s 88ms/step - loss: 0.4631 - acc: 0.7850 - val_loss: 0.4845 - val_acc: 0.7625\n",
      "Epoch 13/30\n",
      "123/125 [============================>.] - ETA: 0s - loss: 0.4533 - acc: 0.7967\n",
      "Epoch 00013: val_acc improved from 0.76250 to 0.76375, saving model to data/dogscats_small/models/baseline_weights_13_0.52_0.76.h5\n",
      "125/125 [==============================] - 11s 87ms/step - loss: 0.4531 - acc: 0.7960 - val_loss: 0.5183 - val_acc: 0.7638\n",
      "Epoch 14/30\n",
      "123/125 [============================>.] - ETA: 0s - loss: 0.4320 - acc: 0.8069\n",
      "Epoch 00014: val_acc improved from 0.76375 to 0.77250, saving model to data/dogscats_small/models/baseline_weights_14_0.55_0.77.h5\n",
      "125/125 [==============================] - 11s 88ms/step - loss: 0.4322 - acc: 0.8055 - val_loss: 0.5521 - val_acc: 0.7725\n",
      "Epoch 15/30\n",
      "123/125 [============================>.] - ETA: 0s - loss: 0.4535 - acc: 0.8089\n",
      "Epoch 00015: val_acc improved from 0.77250 to 0.78500, saving model to data/dogscats_small/models/baseline_weights_15_0.53_0.79.h5\n",
      "125/125 [==============================] - 11s 87ms/step - loss: 0.4532 - acc: 0.8090 - val_loss: 0.5289 - val_acc: 0.7850\n",
      "Epoch 16/30\n",
      "124/125 [============================>.] - ETA: 0s - loss: 0.4398 - acc: 0.8080\n",
      "Epoch 00016: val_acc did not improve from 0.78500\n",
      "125/125 [==============================] - 11s 88ms/step - loss: 0.4399 - acc: 0.8085 - val_loss: 0.5209 - val_acc: 0.7650\n",
      "Epoch 17/30\n",
      "123/125 [============================>.] - ETA: 0s - loss: 0.4382 - acc: 0.8135\n",
      "Epoch 00017: val_acc did not improve from 0.78500\n",
      "125/125 [==============================] - 11s 87ms/step - loss: 0.4382 - acc: 0.8130 - val_loss: 0.5290 - val_acc: 0.7750\n",
      "Epoch 18/30\n",
      "123/125 [============================>.] - ETA: 0s - loss: 0.4217 - acc: 0.8125\n",
      "Epoch 00018: val_acc did not improve from 0.78500\n",
      "125/125 [==============================] - 11s 87ms/step - loss: 0.4225 - acc: 0.8105 - val_loss: 0.5038 - val_acc: 0.7850\n",
      "Epoch 19/30\n",
      "124/125 [============================>.] - ETA: 0s - loss: 0.4246 - acc: 0.8065\n",
      "Epoch 00019: val_acc did not improve from 0.78500\n",
      "125/125 [==============================] - 11s 87ms/step - loss: 0.4255 - acc: 0.8055 - val_loss: 0.4929 - val_acc: 0.7812\n",
      "Epoch 20/30\n",
      "123/125 [============================>.] - ETA: 0s - loss: 0.4242 - acc: 0.8079\n",
      "Epoch 00020: val_acc did not improve from 0.78500\n",
      "125/125 [==============================] - 11s 89ms/step - loss: 0.4293 - acc: 0.8050 - val_loss: 0.4833 - val_acc: 0.7762\n",
      "Epoch 21/30\n",
      "123/125 [============================>.] - ETA: 0s - loss: 0.4262 - acc: 0.8196\n",
      "Epoch 00021: val_acc did not improve from 0.78500\n",
      "125/125 [==============================] - 11s 88ms/step - loss: 0.4277 - acc: 0.8175 - val_loss: 0.5211 - val_acc: 0.7450\n",
      "Epoch 22/30\n",
      "124/125 [============================>.] - ETA: 0s - loss: 0.4103 - acc: 0.8271\n",
      "Epoch 00022: val_acc did not improve from 0.78500\n",
      "125/125 [==============================] - 11s 88ms/step - loss: 0.4118 - acc: 0.8270 - val_loss: 0.5746 - val_acc: 0.7675\n",
      "Epoch 23/30\n",
      "124/125 [============================>.] - ETA: 0s - loss: 0.3997 - acc: 0.8347\n",
      "Epoch 00023: val_acc did not improve from 0.78500\n",
      "125/125 [==============================] - 11s 88ms/step - loss: 0.3991 - acc: 0.8345 - val_loss: 0.5529 - val_acc: 0.7575\n",
      "Epoch 24/30\n",
      "124/125 [============================>.] - ETA: 0s - loss: 0.4032 - acc: 0.8266\n",
      "Epoch 00024: val_acc did not improve from 0.78500\n",
      "125/125 [==============================] - 11s 87ms/step - loss: 0.4026 - acc: 0.8275 - val_loss: 0.5439 - val_acc: 0.7612\n",
      "Epoch 25/30\n",
      "123/125 [============================>.] - ETA: 0s - loss: 0.3839 - acc: 0.8298\n",
      "Epoch 00025: val_acc did not improve from 0.78500\n",
      "125/125 [==============================] - 11s 88ms/step - loss: 0.3835 - acc: 0.8300 - val_loss: 0.5033 - val_acc: 0.7837\n",
      "Epoch 26/30\n",
      "123/125 [============================>.] - ETA: 0s - loss: 0.3882 - acc: 0.8343\n",
      "Epoch 00026: val_acc did not improve from 0.78500\n",
      "125/125 [==============================] - 11s 87ms/step - loss: 0.3887 - acc: 0.8340 - val_loss: 0.5110 - val_acc: 0.7675\n",
      "Epoch 27/30\n",
      "124/125 [============================>.] - ETA: 0s - loss: 0.3917 - acc: 0.8382\n",
      "Epoch 00027: val_acc did not improve from 0.78500\n",
      "125/125 [==============================] - 11s 88ms/step - loss: 0.3920 - acc: 0.8385 - val_loss: 0.5990 - val_acc: 0.7338\n",
      "Epoch 28/30\n",
      "124/125 [============================>.] - ETA: 0s - loss: 0.3910 - acc: 0.8432\n",
      "Epoch 00028: val_acc did not improve from 0.78500\n",
      "125/125 [==============================] - 11s 86ms/step - loss: 0.3893 - acc: 0.8440 - val_loss: 0.5513 - val_acc: 0.7850\n",
      "Epoch 29/30\n",
      "124/125 [============================>.] - ETA: 0s - loss: 0.3936 - acc: 0.8377\n",
      "Epoch 00029: val_acc did not improve from 0.78500\n",
      "125/125 [==============================] - 11s 88ms/step - loss: 0.3964 - acc: 0.8365 - val_loss: 0.4858 - val_acc: 0.7750\n"
     ]
    },
    {
     "name": "stdout",
     "output_type": "stream",
     "text": [
      "Epoch 30/30\n",
      "124/125 [============================>.] - ETA: 0s - loss: 0.3800 - acc: 0.8468\n",
      "Epoch 00030: val_acc did not improve from 0.78500\n",
      "125/125 [==============================] - 11s 88ms/step - loss: 0.3809 - acc: 0.8465 - val_loss: 0.5224 - val_acc: 0.7688\n",
      "CPU times: user 20min 3s, sys: 28.6 s, total: 20min 31s\n",
      "Wall time: 5min 30s\n"
     ]
    }
   ],
   "source": [
    "%%time\n",
    "training_log = model.fit_generator(\n",
    "    train_generator,\n",
    "    steps_per_epoch=train_generator.n // batch_size,\n",
    "    epochs=epochs,\n",
    "    workers=4,\n",
    "    validation_data=validation_generator,\n",
    "    validation_steps=validation_generator.n // batch_size,\n",
    "    callbacks=callbacks_list)"
   ]
  },
  {
   "cell_type": "markdown",
   "metadata": {},
   "source": [
    "### Retrieve each training epoch result"
   ]
  },
  {
   "cell_type": "code",
   "execution_count": 14,
   "metadata": {},
   "outputs": [
    {
     "name": "stdout",
     "output_type": "stream",
     "text": [
      "dict_keys(['val_loss', 'val_acc', 'loss', 'acc'])\n"
     ]
    }
   ],
   "source": [
    "print(training_log.history.keys())"
   ]
  },
  {
   "cell_type": "code",
   "execution_count": 15,
   "metadata": {},
   "outputs": [
    {
     "data": {
      "image/png": "[encoded data removed]",
      "text/plain": [
       "<Figure size 432x288 with 1 Axes>"
      ]
     },
     "metadata": {},
     "output_type": "display_data"
    },
    {
     "data": {
      "image/png": "[encoded data removed]",
      "text/plain": [
       "<Figure size 432x288 with 1 Axes>"
      ]
     },
     "metadata": {},
     "output_type": "display_data"
    }
   ],
   "source": [
    "plot_training_history(training_log)"
   ]
  },
  {
   "cell_type": "markdown",
   "metadata": {},
   "source": [
    "## Save model"
   ]
  },
  {
   "cell_type": "markdown",
   "metadata": {},
   "source": [
    "### Save as full model"
   ]
  },
  {
   "cell_type": "code",
   "execution_count": 16,
   "metadata": {},
   "outputs": [],
   "source": [
    "model.save(f'{PATH}/models/baseline_model.h5')"
   ]
  },
  {
   "cell_type": "markdown",
   "metadata": {},
   "source": [
    "### Save as architecture definition (json) + weights value"
   ]
  },
  {
   "cell_type": "code",
   "execution_count": 17,
   "metadata": {},
   "outputs": [],
   "source": [
    "model_json = model.to_json()\n",
    "\n",
    "with open(f'{PATH}/models/baseline_arch.json', 'w') as json_file:\n",
    "    json_file.write(model_json)\n",
    "    \n",
    "model.save_weights(f'{PATH}/models/baseline_weights.h5')"
   ]
  },
  {
   "cell_type": "markdown",
   "metadata": {},
   "source": [
    "## Load model"
   ]
  },
  {
   "cell_type": "code",
   "execution_count": 18,
   "metadata": {},
   "outputs": [],
   "source": [
    "# both options should return the same model but we may want to \n",
    "# change the weights using those obtained from training\n",
    "load_from_model_file = True\n",
    "\n",
    "if load_from_model_file:\n",
    "    test_model = load_model(f'{PATH}/models/baseline_model.h5')\n",
    "else:\n",
    "    json_file = open(f'{PATH}/models/baseline_arch.json', 'r')\n",
    "    loaded_model_json = json_file.read()\n",
    "    json_file.close()\n",
    "    \n",
    "    test_model = model_from_json(loaded_model_json)\n",
    "\n",
    "    test_model.load_weights(f'{PATH}/models/baseline_weights.h5')\n",
    "    #test_model.load_weights(f'{PATH}/models/<other_weights>.h5')"
   ]
  },
  {
   "cell_type": "markdown",
   "metadata": {},
   "source": [
    "## Predict on single image"
   ]
  },
  {
   "cell_type": "markdown",
   "metadata": {},
   "source": [
    "model.predict() generates output predictions based on the input you pass it, e.g. the predicted characters in the MNIST example"
   ]
  },
  {
   "cell_type": "code",
   "execution_count": 19,
   "metadata": {},
   "outputs": [
    {
     "name": "stdout",
     "output_type": "stream",
     "text": [
      "data/dogscats_small/validation/dogs/dog.1307.jpg\n"
     ]
    },
    {
     "data": {
      "image/png": "[encoded data removed]",
      "text/plain": [
       "<PIL.Image.Image image mode=RGB size=150x150 at 0x7FAFAC0D50F0>"
      ]
     },
     "execution_count": 19,
     "metadata": {},
     "output_type": "execute_result"
    }
   ],
   "source": [
    "rand_img_path = rand_img_from_child_dirs(validation_data_dir)\n",
    "rand_img = image.load_img(rand_img_path, target_size=(img_width, img_height))    \n",
    "rand_dog_cat = 'dog' if 'validation/dogs' in rand_img_path else 'cat'\n",
    "\n",
    "print(rand_img_path)\n",
    "rand_img"
   ]
  },
  {
   "cell_type": "code",
   "execution_count": 20,
   "metadata": {},
   "outputs": [],
   "source": [
    "x_test = image.img_to_array(rand_img)\n",
    "x_test = x_test/255.0 # scaling as we have done in validation_datagen"
   ]
  },
  {
   "cell_type": "code",
   "execution_count": 21,
   "metadata": {},
   "outputs": [
    {
     "name": "stdout",
     "output_type": "stream",
     "text": [
      "Before: (150, 150, 3)\n",
      "After: (1, 150, 150, 3)\n"
     ]
    }
   ],
   "source": [
    "print(f\"Before: {x_test.shape}\")\n",
    "x_test = np.expand_dims(x_test, axis=0) # increase dimension so that can be fed into model\n",
    "print(f\"After: {x_test.shape}\")"
   ]
  },
  {
   "cell_type": "code",
   "execution_count": 22,
   "metadata": {},
   "outputs": [],
   "source": [
    "pred = np.asscalar(np.squeeze(test_model.predict_classes(x_test)))\n",
    "prob = np.asscalar(np.squeeze(test_model.predict_proba(x_test))) # same as test_model.predict(x_test)"
   ]
  },
  {
   "cell_type": "code",
   "execution_count": 23,
   "metadata": {},
   "outputs": [
    {
     "name": "stdout",
     "output_type": "stream",
     "text": [
      "The model is 99.64% sure this is a dog\n"
     ]
    }
   ],
   "source": [
    "res = 'dog' if pred==1 else 'cat'\n",
    "pct = round(prob*100,2)\n",
    "if res is 'cat':\n",
    "    pct = 100 - pct \n",
    "\n",
    "print('The model is ' + str(pct) + '% sure this is a ' + res)"
   ]
  },
  {
   "cell_type": "markdown",
   "metadata": {},
   "source": [
    "## Evaluate on single image"
   ]
  },
  {
   "cell_type": "markdown",
   "metadata": {},
   "source": [
    "model.evaluate() computes the loss based on the input you pass it, along with any other metrics that you requested in the metrics param when you compiled your model, e.g. accuracy in the MNIST example"
   ]
  },
  {
   "cell_type": "code",
   "execution_count": 24,
   "metadata": {},
   "outputs": [],
   "source": [
    "Y_test = np.array([1]) if rand_dog_cat == 'dog' else np.array([0])\n",
    "test_model.compile(loss='binary_crossentropy', optimizer='rmsprop', metrics=['accuracy'])\n",
    "eval_scores = test_model.evaluate(x_test, Y_test, verbose=0)"
   ]
  },
  {
   "cell_type": "code",
   "execution_count": 25,
   "metadata": {},
   "outputs": [
    {
     "data": {
      "text/plain": [
       "(['loss', 'acc'], [0.0036428088787943125, 1.0])"
      ]
     },
     "execution_count": 25,
     "metadata": {},
     "output_type": "execute_result"
    }
   ],
   "source": [
    "test_model.metrics_names, eval_scores # since testing with 1 data, acc = 1 if correct, 0 if incorrect"
   ]
  },
  {
   "cell_type": "markdown",
   "metadata": {},
   "source": [
    "## Predict on batch of test images"
   ]
  },
  {
   "cell_type": "markdown",
   "metadata": {},
   "source": [
    "Unlike validation data, these are never seen or tested before"
   ]
  },
  {
   "cell_type": "code",
   "execution_count": 26,
   "metadata": {},
   "outputs": [],
   "source": [
    "def predict(data_dir, model):\n",
    "    preds = []\n",
    "    for fn in os.listdir(data_dir):\n",
    "        img = load_img(data_dir+fn, target_size=(img_width,img_height))\n",
    "        x = img_to_array(img)\n",
    "        x = x/255.0\n",
    "        x = np.expand_dims(x, axis=0)\n",
    "        \n",
    "        #prob = np.asscalar(np.squeeze(model.predict_proba(x)))\n",
    "        pred = np.asscalar(np.squeeze(model.predict_classes(x)))\n",
    "        preds.append(pred)\n",
    "        \n",
    "    return np.array(preds)"
   ]
  },
  {
   "cell_type": "code",
   "execution_count": 27,
   "metadata": {},
   "outputs": [],
   "source": [
    "dog_test_dir = f\"{test_data_dir}dogs/\"\n",
    "cat_test_dir = f\"{test_data_dir}cats/\"\n",
    "\n",
    "pred_dogs = predict(dog_test_dir, test_model)\n",
    "pred_cats = predict(cat_test_dir, test_model)"
   ]
  },
  {
   "cell_type": "code",
   "execution_count": 28,
   "metadata": {},
   "outputs": [
    {
     "name": "stdout",
     "output_type": "stream",
     "text": [
      "Cat Prediction Accuracy: 77.80%\n",
      "Dog Prediction Accuracy: 77.30%\n",
      "Overall Accuract: 77.55%\n"
     ]
    }
   ],
   "source": [
    "# cat_acc = (1-pred_cats.mean())*100\n",
    "# dog_acc = pred_dogs.mean()*100\n",
    "\n",
    "cat_acc = len(pred_cats[pred_cats==0])/len(pred_cats) * 100\n",
    "dog_acc = len(pred_dogs[pred_dogs==1])/len(pred_dogs) * 100\n",
    "overall_acc = (cat_acc+dog_acc)/2.0\n",
    "\n",
    "print(f'Cat Prediction Accuracy: {cat_acc:.2f}%\\nDog Prediction Accuracy: {dog_acc:.2f}%')\n",
    "print(f'Overall Accuracy: {overall_acc:.2f}%')"
   ]
  }
 ],
 "metadata": {
  "_draft": {
   "nbviewer_url": "https://gist.github.com/135ebf9ccb113b1af214bc2b3ed1c20e"
  },
  "gist": {
   "data": {
    "description": "keras_lesson1",
    "public": true
   },
   "id": "135ebf9ccb113b1af214bc2b3ed1c20e"
  },
  "kernelspec": {
   "display_name": "Python 3",
   "language": "python",
   "name": "python3"
  },
  "language_info": {
   "codemirror_mode": {
    "name": "ipython",
    "version": 3
   },
   "file_extension": ".py",
   "mimetype": "text/x-python",
   "name": "python",
   "nbconvert_exporter": "python",
   "pygments_lexer": "ipython3",
   "version": "3.6.6"
  },
  "toc": {
   "base_numbering": 1,
   "nav_menu": {
    "height": "266px",
    "width": "252px"
   },
   "number_sections": true,
   "sideBar": true,
   "skip_h1_title": false,
   "title_cell": "Table of Contents",
   "title_sidebar": "Contents",
   "toc_cell": false,
   "toc_position": {},
   "toc_section_display": "block",
   "toc_window_display": false
  }
 },
 "nbformat": 4,
 "nbformat_minor": 2
}
