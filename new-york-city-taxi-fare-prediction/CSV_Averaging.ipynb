{
 "cells": [
  {
   "cell_type": "code",
   "execution_count": 1,
   "metadata": {},
   "outputs": [],
   "source": [
    "import numpy as np \n",
    "import pandas as pd \n",
    "import datetime as datetime\n",
    "import os"
   ]
  },
  {
   "cell_type": "code",
   "execution_count": 2,
   "metadata": {},
   "outputs": [],
   "source": [
    "DATA_PATH = 'data/nyc-taxi/'\n",
    "CSV_PATH = 'submissions/all'\n",
    "CSV_SUBM_PATH = 'submissions/'"
   ]
  },
  {
   "cell_type": "code",
   "execution_count": 3,
   "metadata": {},
   "outputs": [
    {
     "name": "stdout",
     "output_type": "stream",
     "text": [
      "Adding v09_RF_20180803_014841_01x10_54M.csv\n",
      "Adding v11_RF_20180808_033340_01x16_54M.csv\n",
      "Adding v10_RF_20180805_065805_01x08_54M.csv\n",
      "Adding v11_RF_20180807_123140_01x16_54M.csv\n",
      "Adding v10_RF_20180805_034656_01x08_54M.csv\n",
      "Adding v10_RF_20180805_080651_01x08_54M.csv\n",
      "Adding v09_RF_20180802_165758_01x10_54M.csv\n",
      "Adding v09_RF_20180802_153958_01x10_54M.csv\n",
      "Adding v11_RF_20180807_154337_01x16_54M.csv\n",
      "Adding v11_RF_20180808_021603_01x16_54M.csv\n",
      "Adding v11_RF_20180808_045158_01x16_54M.csv\n",
      "Adding v11_RF_20180807_143508_01x16_54M.csv\n",
      "Adding v09_RF_20180803_002938_01x10_54M.csv\n",
      "Adding v09_RF_20180802_140933_01x10_54M.csv\n",
      "Adding v11_RF_20180807_192052_01x16_54M.csv\n",
      "Adding v09_RF_20180802_214904_01x10_54M.csv\n",
      "Adding v11_RF_20180808_072923_01x16_54M.csv\n",
      "Adding v10_RF_20180805_055331_01x08_54M.csv\n",
      "Adding v10_RF_20180805_101810_01x08_54M.csv\n",
      "Adding v11_RF_20180807_133212_01x16_54M.csv\n",
      "Adding v10_RF_20180805_044312_01x08_54M.csv\n",
      "Adding v11_RF_20180808_061028_01x16_54M.csv\n",
      "Adding v11_RF_20180808_005808_01x16_54M.csv\n",
      "Adding v11_RF_20180807_204053_01x16_54M.csv\n",
      "Adding v10_RF_20180805_091132_01x08_54M.csv\n",
      "Adding v11_RF_20180807_220214_01x16_54M.csv\n",
      "Adding v11_RF_20180807_165319_01x16_54M.csv\n",
      "Adding v08_RF_20180802_101436_E18x10_50M.csv\n",
      "Adding v09_RF_20180802_202857_01x10_54M.csv\n",
      "Adding v11_RF_20180807_232228_01x16_54M.csv\n",
      "Adding v09_RF_20180802_181652_01x10_54M.csv\n",
      "Adding v09_RF_20180802_230846_01x10_54M.csv\n"
     ]
    }
   ],
   "source": [
    "preds=[]\n",
    "\n",
    "for filename in os.listdir(CSV_PATH):\n",
    "    print(f'Adding {filename}')\n",
    "    df = pd.read_csv(f'{CSV_PATH}/{filename}')\n",
    "    preds.append(np.array(df.fare_amount))"
   ]
  },
  {
   "cell_type": "code",
   "execution_count": 4,
   "metadata": {},
   "outputs": [
    {
     "data": {
      "text/plain": [
       "[array([11.03255772, 11.09031746,  4.1400808 , ..., 52.57330888,\n",
       "        17.99714286,  6.21416667]),\n",
       " array([10.21063988, 11.51977927,  4.71494044, ..., 54.68973341,\n",
       "        16.89737103,  6.66648065]),\n",
       " array([11.63995536, 11.31586851,  4.31190477, ..., 54.21195901,\n",
       "        17.02291667,  7.66145833]),\n",
       " array([ 9.73400298, 11.32776876,  4.08242063, ..., 54.91317501,\n",
       "        17.27839782,  6.32260665]),\n",
       " array([10.29507576, 12.78541667,  4.73279761, ..., 55.23591142,\n",
       "        18.08385417,  6.93156791]),\n",
       " array([10.10622294, 11.44866071,  3.94253967, ..., 54.84718847,\n",
       "        16.77239811,  6.38611111]),\n",
       " array([10.09214286, 10.94375   ,  4.01733333, ..., 55.7102194 ,\n",
       "        17.84795635,  7.09720418]),\n",
       " array([10.46401515, 10.28071429,  4.58733337, ..., 54.09086314,\n",
       "        18.49416667,  6.40005952]),\n",
       " array([11.13224206, 11.3171131 ,  4.32163691, ..., 54.74065776,\n",
       "        18.53854164,  6.78206845]),\n",
       " array([10.05683284, 11.62056052,  4.1617857 , ..., 54.74526935,\n",
       "        19.17508676,  6.15251736]),\n",
       " array([10.15688244, 11.19348958,  4.43369048, ..., 54.61444643,\n",
       "        17.28503224,  6.66366567]),\n",
       " array([ 9.95718119, 11.90494728,  4.31681548, ..., 54.92259962,\n",
       "        17.37239697,  6.70600198]),\n",
       " array([10.1422619 , 10.96630952,  6.41847618, ..., 54.75662583,\n",
       "        16.90797622,  6.86083333]),\n",
       " array([10.37077381, 12.9115873 ,  4.4681905 , ..., 53.87035049,\n",
       "        16.75      , 10.4775    ]),\n",
       " array([10.04373665, 10.86551339,  4.25507936, ..., 56.21609598,\n",
       "        17.21049852,  5.9969246 ]),\n",
       " array([ 9.6125    , 11.11869048,  4.63133334, ..., 54.37834178,\n",
       "        17.6173214 ,  7.23166667]),\n",
       " array([ 9.80483631, 11.14798431,  4.19489088, ..., 55.36140899,\n",
       "        17.38547979,  6.79944196]),\n",
       " array([ 9.72534722, 10.65885417,  3.9966667 , ..., 54.21436293,\n",
       "        17.840023  ,  6.92916667]),\n",
       " array([10.84107143, 10.42715774,  4.31785709, ..., 54.77462568,\n",
       "        17.00967262,  7.09241071]),\n",
       " array([10.07752976, 11.62089534,  4.00654761, ..., 54.63979216,\n",
       "        17.9424479 ,  6.89373647]),\n",
       " array([11.06746032, 12.378125  ,  4.77000003, ..., 55.23498011,\n",
       "        17.86041664,  6.3578125 ]),\n",
       " array([10.7695164 , 11.52232143,  4.05151787, ..., 54.31614309,\n",
       "        17.67708332,  6.89683442]),\n",
       " array([10.55605159, 11.41426655,  4.10257936, ..., 54.70595225,\n",
       "        17.53020831,  6.18236607]),\n",
       " array([10.3452381 , 11.38529266,  4.29857143, ..., 54.65214653,\n",
       "        17.35985863,  7.09019661]),\n",
       " array([12.19355159, 10.88333333,  4.15285714, ..., 54.23571587,\n",
       "        16.38787202,  5.92842262]),\n",
       " array([10.74394841, 11.76193752,  4.12595238, ..., 55.59307376,\n",
       "        17.5311384 ,  6.394051  ]),\n",
       " array([10.11889881, 11.76943204,  4.28131944, ..., 55.2782311 ,\n",
       "        17.77294147,  6.79116725]),\n",
       " array([10.67102139, 10.55133397,  4.30881233, ..., 52.69272353,\n",
       "        17.97824515,  7.21483079]),\n",
       " array([10.19672619, 13.17233342,  4.18787303, ..., 55.74632984,\n",
       "        17.55099998,  6.70369048]),\n",
       " array([10.51099161, 13.11358239,  5.09706168, ..., 55.47442791,\n",
       "        17.21284722,  6.57274306]),\n",
       " array([10.39519841, 10.66806943,  4.19199999, ..., 55.32725094,\n",
       "        18.31427779,  7.085     ]),\n",
       " array([10.79      , 11.10222222,  4.08633331, ..., 55.00038651,\n",
       "        17.49700397,  6.44666667])]"
      ]
     },
     "execution_count": 4,
     "metadata": {},
     "output_type": "execute_result"
    }
   ],
   "source": [
    "preds"
   ]
  },
  {
   "cell_type": "code",
   "execution_count": 5,
   "metadata": {},
   "outputs": [
    {
     "data": {
      "text/plain": [
       "array([10.43295035, 11.44336339,  4.36584996, ..., 54.74263429,\n",
       "       17.56567418,  6.81029282])"
      ]
     },
     "execution_count": 5,
     "metadata": {},
     "output_type": "execute_result"
    }
   ],
   "source": [
    "predictions = np.mean(np.vstack([preds]),axis=0)\n",
    "predictions"
   ]
  },
  {
   "cell_type": "code",
   "execution_count": 6,
   "metadata": {},
   "outputs": [
    {
     "data": {
      "text/plain": [
       "array([0.55092641, 0.73256258, 0.45133351, ..., 0.7557321 , 0.57884955,\n",
       "       0.76476433])"
      ]
     },
     "execution_count": 6,
     "metadata": {},
     "output_type": "execute_result"
    }
   ],
   "source": [
    "std = np.std(np.vstack([preds]),axis=0)\n",
    "std"
   ]
  },
  {
   "cell_type": "code",
   "execution_count": 7,
   "metadata": {},
   "outputs": [
    {
     "data": {
      "text/plain": [
       "8.406230238256619"
      ]
     },
     "execution_count": 7,
     "metadata": {},
     "output_type": "execute_result"
    }
   ],
   "source": [
    "np.max(std)"
   ]
  },
  {
   "cell_type": "raw",
   "metadata": {},
   "source": [
    "Sanity check using previous values:\n",
    "    \n",
    "array([10.83793553, 11.5783764 ,  4.31779432, ..., 54.66335297,\n",
    "       17.32791343,  6.69908986])"
   ]
  },
  {
   "cell_type": "code",
   "execution_count": 8,
   "metadata": {},
   "outputs": [
    {
     "data": {
      "text/plain": [
       "'submissions/v11_RF_20180808_001324_E32_54M.csv'"
      ]
     },
     "execution_count": 8,
     "metadata": {},
     "output_type": "execute_result"
    }
   ],
   "source": [
    "outdir = CSV_PATH\n",
    "os.makedirs(outdir, exist_ok=True)\n",
    "test_df_raw = pd.read_csv(f'{DATA_PATH}test.csv', usecols=['key'])\n",
    "\n",
    "cur_dt = datetime.datetime.now().strftime(\"%Y%m%d_%H%M%S\")\n",
    "desc = 'v11_RF_' # description of submission for reference\n",
    "ensemb_desc = '_E32_54M'\n",
    "subm_fn =  desc + cur_dt + ensemb_desc + '.csv'\n",
    "subm_path = f'{CSV_SUBM_PATH}{subm_fn}'\n",
    "\n",
    "subm_path"
   ]
  },
  {
   "cell_type": "code",
   "execution_count": 9,
   "metadata": {},
   "outputs": [
    {
     "data": {
      "text/plain": [
       "'submissions/v11_RF_20180808_001324_E32_54M.csv'"
      ]
     },
     "execution_count": 9,
     "metadata": {},
     "output_type": "execute_result"
    }
   ],
   "source": [
    "# Create the CSV file\n",
    "submission = pd.DataFrame(\n",
    "    {'key': test_df_raw.key, 'fare_amount': predictions},\n",
    "    columns = ['key', 'fare_amount'])\n",
    "submission.to_csv(subm_path, index = False)\n",
    "\n",
    "subm_path"
   ]
  },
  {
   "cell_type": "code",
   "execution_count": null,
   "metadata": {},
   "outputs": [],
   "source": []
  }
 ],
 "metadata": {
  "kernelspec": {
   "display_name": "Python 3",
   "language": "python",
   "name": "python3"
  },
  "language_info": {
   "codemirror_mode": {
    "name": "ipython",
    "version": 3
   },
   "file_extension": ".py",
   "mimetype": "text/x-python",
   "name": "python",
   "nbconvert_exporter": "python",
   "pygments_lexer": "ipython3",
   "version": "3.6.6"
  },
  "toc": {
   "base_numbering": 1,
   "nav_menu": {},
   "number_sections": true,
   "sideBar": true,
   "skip_h1_title": false,
   "title_cell": "Table of Contents",
   "title_sidebar": "Contents",
   "toc_cell": false,
   "toc_position": {},
   "toc_section_display": true,
   "toc_window_display": false
  }
 },
 "nbformat": 4,
 "nbformat_minor": 2
}
