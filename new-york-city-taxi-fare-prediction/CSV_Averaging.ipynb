{
 "cells": [
  {
   "cell_type": "code",
   "execution_count": 1,
   "metadata": {},
   "outputs": [
    {
     "name": "stderr",
     "output_type": "stream",
     "text": [
      "/home/szelee/anaconda3/envs/fastai/lib/python3.6/importlib/_bootstrap.py:219: RuntimeWarning: numpy.dtype size changed, may indicate binary incompatibility. Expected 96, got 88\n",
      "  return f(*args, **kwds)\n",
      "/home/szelee/anaconda3/envs/fastai/lib/python3.6/importlib/_bootstrap.py:219: RuntimeWarning: numpy.dtype size changed, may indicate binary incompatibility. Expected 96, got 88\n",
      "  return f(*args, **kwds)\n"
     ]
    }
   ],
   "source": [
    "import numpy as np \n",
    "import pandas as pd \n",
    "import datetime as datetime\n",
    "import os"
   ]
  },
  {
   "cell_type": "code",
   "execution_count": 2,
   "metadata": {},
   "outputs": [],
   "source": [
    "DATA_PATH = 'data/nyc-taxi/'\n",
    "CSV_PATH = 'submissions/v10_ensemble_08trees_54M_rows/'\n",
    "CSV_SUBM_PATH = 'submissions/'"
   ]
  },
  {
   "cell_type": "code",
   "execution_count": 3,
   "metadata": {},
   "outputs": [
    {
     "name": "stdout",
     "output_type": "stream",
     "text": [
      "Adding v10_RF_20180805_065805_01x08_54M.csv\n",
      "Adding v10_RF_20180805_034656_01x08_54M.csv\n",
      "Adding v10_RF_20180805_080651_01x08_54M.csv\n",
      "Adding v10_RF_20180805_055331_01x08_54M.csv\n",
      "Adding v10_RF_20180805_044312_01x08_54M.csv\n",
      "Adding v10_RF_20180805_091132_01x08_54M.csv\n"
     ]
    }
   ],
   "source": [
    "preds=[]\n",
    "\n",
    "for filename in os.listdir(CSV_PATH):\n",
    "    print(f'Adding {filename}')\n",
    "    df = pd.read_csv(f'{CSV_PATH}/{filename}')\n",
    "    preds.append(np.array(df.fare_amount))"
   ]
  },
  {
   "cell_type": "code",
   "execution_count": 4,
   "metadata": {},
   "outputs": [
    {
     "data": {
      "text/plain": [
       "[array([11.63995536, 11.31586851,  4.31190477, ..., 54.21195901,\n",
       "        17.02291667,  7.66145833]),\n",
       " array([10.29507576, 12.78541667,  4.73279761, ..., 55.23591142,\n",
       "        18.08385417,  6.93156791]),\n",
       " array([10.10622294, 11.44866071,  3.94253967, ..., 54.84718847,\n",
       "        16.77239811,  6.38611111]),\n",
       " array([ 9.72534722, 10.65885417,  3.9966667 , ..., 54.21436293,\n",
       "        17.840023  ,  6.92916667]),\n",
       " array([11.06746032, 12.378125  ,  4.77000003, ..., 55.23498011,\n",
       "        17.86041664,  6.3578125 ]),\n",
       " array([12.19355159, 10.88333333,  4.15285714, ..., 54.23571587,\n",
       "        16.38787202,  5.92842262])]"
      ]
     },
     "execution_count": 4,
     "metadata": {},
     "output_type": "execute_result"
    }
   ],
   "source": [
    "preds"
   ]
  },
  {
   "cell_type": "code",
   "execution_count": 5,
   "metadata": {},
   "outputs": [],
   "source": [
    "predictions = np.mean(np.vstack([preds]),axis=0)"
   ]
  },
  {
   "cell_type": "code",
   "execution_count": 6,
   "metadata": {},
   "outputs": [
    {
     "data": {
      "text/plain": [
       "array([10.83793553, 11.5783764 ,  4.31779432, ..., 54.66335297,\n",
       "       17.32791343,  6.69908986])"
      ]
     },
     "execution_count": 6,
     "metadata": {},
     "output_type": "execute_result"
    }
   ],
   "source": [
    "predictions"
   ]
  },
  {
   "cell_type": "raw",
   "metadata": {},
   "source": [
    "Sanity check using previous values:\n",
    "    \n",
    "array([10.67102139, 10.55133397,  4.30881233, ..., 52.69272353,\n",
    "       17.97824515,  7.21483079])"
   ]
  },
  {
   "cell_type": "code",
   "execution_count": 7,
   "metadata": {},
   "outputs": [
    {
     "data": {
      "text/plain": [
       "'submissions/v10_RF_20180805_021028_E06x08_54M.csv'"
      ]
     },
     "execution_count": 7,
     "metadata": {},
     "output_type": "execute_result"
    }
   ],
   "source": [
    "outdir = CSV_PATH\n",
    "os.makedirs(outdir, exist_ok=True)\n",
    "test_df_raw = pd.read_csv(f'{DATA_PATH}test.csv', usecols=['key'])\n",
    "\n",
    "cur_dt = datetime.datetime.now().strftime(\"%Y%m%d_%H%M%S\")\n",
    "desc = 'v10_RF_' # description of submission for reference\n",
    "ensemb_desc = '_E06x08_54M'\n",
    "subm_fn =  desc + cur_dt + ensemb_desc + '.csv'\n",
    "subm_path = f'{CSV_SUBM_PATH}{subm_fn}'\n",
    "\n",
    "subm_path"
   ]
  },
  {
   "cell_type": "code",
   "execution_count": 8,
   "metadata": {},
   "outputs": [
    {
     "data": {
      "text/plain": [
       "'submissions/v10_RF_20180805_021028_E06x08_54M.csv'"
      ]
     },
     "execution_count": 8,
     "metadata": {},
     "output_type": "execute_result"
    }
   ],
   "source": [
    "# Create the CSV file\n",
    "submission = pd.DataFrame(\n",
    "    {'key': test_df_raw.key, 'fare_amount': predictions},\n",
    "    columns = ['key', 'fare_amount'])\n",
    "submission.to_csv(subm_path, index = False)\n",
    "\n",
    "subm_path"
   ]
  },
  {
   "cell_type": "code",
   "execution_count": null,
   "metadata": {},
   "outputs": [],
   "source": []
  }
 ],
 "metadata": {
  "kernelspec": {
   "display_name": "Python 3",
   "language": "python",
   "name": "python3"
  },
  "language_info": {
   "codemirror_mode": {
    "name": "ipython",
    "version": 3
   },
   "file_extension": ".py",
   "mimetype": "text/x-python",
   "name": "python",
   "nbconvert_exporter": "python",
   "pygments_lexer": "ipython3",
   "version": "3.6.6"
  },
  "toc": {
   "base_numbering": 1,
   "nav_menu": {},
   "number_sections": true,
   "sideBar": true,
   "skip_h1_title": false,
   "title_cell": "Table of Contents",
   "title_sidebar": "Contents",
   "toc_cell": false,
   "toc_position": {},
   "toc_section_display": true,
   "toc_window_display": false
  }
 },
 "nbformat": 4,
 "nbformat_minor": 2
}
