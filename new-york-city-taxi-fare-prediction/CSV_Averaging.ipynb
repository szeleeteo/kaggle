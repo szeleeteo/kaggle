{
 "cells": [
  {
   "cell_type": "code",
   "execution_count": 10,
   "metadata": {},
   "outputs": [],
   "source": [
    "import numpy as np \n",
    "import pandas as pd \n",
    "import datetime as datetime\n",
    "import os"
   ]
  },
  {
   "cell_type": "code",
   "execution_count": 11,
   "metadata": {},
   "outputs": [],
   "source": [
    "DATA_PATH = 'data/nyc-taxi/'\n",
    "CSV_PATH = 'submissions/v11_ensemble_16trees_54M_rows_less_features'\n",
    "CSV_SUBM_PATH = 'submissions/'"
   ]
  },
  {
   "cell_type": "code",
   "execution_count": 12,
   "metadata": {},
   "outputs": [
    {
     "name": "stdout",
     "output_type": "stream",
     "text": [
      "Adding v11_RF_20180807_123140_01x16_54M.csv\n",
      "Adding v11_RF_20180807_154337_01x16_54M.csv\n",
      "Adding v11_RF_20180807_143508_01x16_54M.csv\n",
      "Adding v11_RF_20180807_192052_01x16_54M.csv\n",
      "Adding v11_RF_20180807_133212_01x16_54M.csv\n",
      "Adding v11_RF_20180807_204053_01x16_54M.csv\n",
      "Adding v11_RF_20180807_165319_01x16_54M.csv\n"
     ]
    }
   ],
   "source": [
    "preds=[]\n",
    "\n",
    "for filename in os.listdir(CSV_PATH):\n",
    "    print(f'Adding {filename}')\n",
    "    df = pd.read_csv(f'{CSV_PATH}/{filename}')\n",
    "    preds.append(np.array(df.fare_amount))"
   ]
  },
  {
   "cell_type": "code",
   "execution_count": 13,
   "metadata": {},
   "outputs": [
    {
     "data": {
      "text/plain": [
       "[array([ 9.73400298, 11.32776876,  4.08242063, ..., 54.91317501,\n",
       "        17.27839782,  6.32260665]),\n",
       " array([11.13224206, 11.3171131 ,  4.32163691, ..., 54.74065776,\n",
       "        18.53854164,  6.78206845]),\n",
       " array([ 9.95718119, 11.90494728,  4.31681548, ..., 54.92259962,\n",
       "        17.37239697,  6.70600198]),\n",
       " array([10.04373665, 10.86551339,  4.25507936, ..., 56.21609598,\n",
       "        17.21049852,  5.9969246 ]),\n",
       " array([10.07752976, 11.62089534,  4.00654761, ..., 54.63979216,\n",
       "        17.9424479 ,  6.89373647]),\n",
       " array([10.3452381 , 11.38529266,  4.29857143, ..., 54.65214653,\n",
       "        17.35985863,  7.09019661]),\n",
       " array([10.11889881, 11.76943204,  4.28131944, ..., 55.2782311 ,\n",
       "        17.77294147,  6.79116725])]"
      ]
     },
     "execution_count": 13,
     "metadata": {},
     "output_type": "execute_result"
    }
   ],
   "source": [
    "preds"
   ]
  },
  {
   "cell_type": "code",
   "execution_count": 14,
   "metadata": {},
   "outputs": [
    {
     "data": {
      "text/plain": [
       "array([10.20126136, 11.4558518 ,  4.22319869, ..., 55.05181402,\n",
       "       17.63929756,  6.65467172])"
      ]
     },
     "execution_count": 14,
     "metadata": {},
     "output_type": "execute_result"
    }
   ],
   "source": [
    "predictions = np.mean(np.vstack([preds]),axis=0)\n",
    "predictions"
   ]
  },
  {
   "cell_type": "code",
   "execution_count": 15,
   "metadata": {},
   "outputs": [
    {
     "data": {
      "text/plain": [
       "array([0.41615022, 0.31990856, 0.11667157, ..., 0.51672715, 0.44430363,\n",
       "       0.34376656])"
      ]
     },
     "execution_count": 15,
     "metadata": {},
     "output_type": "execute_result"
    }
   ],
   "source": [
    "std = np.std(np.vstack([preds]),axis=0)\n",
    "std"
   ]
  },
  {
   "cell_type": "code",
   "execution_count": 17,
   "metadata": {},
   "outputs": [
    {
     "data": {
      "text/plain": [
       "7.222059420605692"
      ]
     },
     "execution_count": 17,
     "metadata": {},
     "output_type": "execute_result"
    }
   ],
   "source": [
    "np.max(std)"
   ]
  },
  {
   "cell_type": "raw",
   "metadata": {},
   "source": [
    "Sanity check using previous values:\n",
    "    \n",
    "array([10.83793553, 11.5783764 ,  4.31779432, ..., 54.66335297,\n",
    "       17.32791343,  6.69908986])"
   ]
  },
  {
   "cell_type": "code",
   "execution_count": 18,
   "metadata": {},
   "outputs": [
    {
     "data": {
      "text/plain": [
       "'submissions/v11_RF_20180807_125735_E07x16_54M.csv'"
      ]
     },
     "execution_count": 18,
     "metadata": {},
     "output_type": "execute_result"
    }
   ],
   "source": [
    "outdir = CSV_PATH\n",
    "os.makedirs(outdir, exist_ok=True)\n",
    "test_df_raw = pd.read_csv(f'{DATA_PATH}test.csv', usecols=['key'])\n",
    "\n",
    "cur_dt = datetime.datetime.now().strftime(\"%Y%m%d_%H%M%S\")\n",
    "desc = 'v11_RF_' # description of submission for reference\n",
    "ensemb_desc = '_E07x16_54M'\n",
    "subm_fn =  desc + cur_dt + ensemb_desc + '.csv'\n",
    "subm_path = f'{CSV_SUBM_PATH}{subm_fn}'\n",
    "\n",
    "subm_path"
   ]
  },
  {
   "cell_type": "code",
   "execution_count": 19,
   "metadata": {},
   "outputs": [
    {
     "data": {
      "text/plain": [
       "'submissions/v11_RF_20180807_125735_E07x16_54M.csv'"
      ]
     },
     "execution_count": 19,
     "metadata": {},
     "output_type": "execute_result"
    }
   ],
   "source": [
    "# Create the CSV file\n",
    "submission = pd.DataFrame(\n",
    "    {'key': test_df_raw.key, 'fare_amount': predictions},\n",
    "    columns = ['key', 'fare_amount'])\n",
    "submission.to_csv(subm_path, index = False)\n",
    "\n",
    "subm_path"
   ]
  },
  {
   "cell_type": "code",
   "execution_count": null,
   "metadata": {},
   "outputs": [],
   "source": []
  }
 ],
 "metadata": {
  "kernelspec": {
   "display_name": "Python 3",
   "language": "python",
   "name": "python3"
  },
  "language_info": {
   "codemirror_mode": {
    "name": "ipython",
    "version": 3
   },
   "file_extension": ".py",
   "mimetype": "text/x-python",
   "name": "python",
   "nbconvert_exporter": "python",
   "pygments_lexer": "ipython3",
   "version": "3.6.6"
  },
  "toc": {
   "base_numbering": 1,
   "nav_menu": {},
   "number_sections": true,
   "sideBar": true,
   "skip_h1_title": false,
   "title_cell": "Table of Contents",
   "title_sidebar": "Contents",
   "toc_cell": false,
   "toc_position": {},
   "toc_section_display": true,
   "toc_window_display": false
  }
 },
 "nbformat": 4,
 "nbformat_minor": 2
}
