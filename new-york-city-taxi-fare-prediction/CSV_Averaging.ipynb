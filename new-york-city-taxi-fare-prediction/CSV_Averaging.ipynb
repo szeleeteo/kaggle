{
 "cells": [
  {
   "cell_type": "code",
   "execution_count": 1,
   "metadata": {},
   "outputs": [],
   "source": [
    "import numpy as np \n",
    "import pandas as pd \n",
    "import datetime as datetime\n",
    "import os"
   ]
  },
  {
   "cell_type": "code",
   "execution_count": 2,
   "metadata": {},
   "outputs": [],
   "source": [
    "DATA_PATH = 'data/nyc-taxi/'\n",
    "CSV_PATH = 'submissions/v08_ensemble_10trees_50M_rows/'\n",
    "CSV_SUBM_PATH = 'submissions/'"
   ]
  },
  {
   "cell_type": "code",
   "execution_count": 3,
   "metadata": {},
   "outputs": [
    {
     "name": "stdout",
     "output_type": "stream",
     "text": [
      "Adding v08_RF_20180801_005735_01x10_50M.csv\n",
      "Adding v08_RF_20180801_122651_01x10_50M.csv\n",
      "Adding v08_RF_20180801_132914_01x10_50M.csv\n",
      "Adding v08_RF_20180801_142012_01x10_50M.csv\n",
      "Adding v08_RF_20180801_151113_01x10_50M.csv\n",
      "Adding v08_RF_20180801_160133_01x10_50M.csv\n",
      "Adding v08_RF_20180801_165358_01x10_50M.csv\n",
      "Adding v08_RF_20180801_212654_01x10_50M.csv\n",
      "Adding v08_RF_20180801_221758_01x10_50M.csv\n",
      "Adding v08_RF_20180801_231059_01x10_50M.csv\n",
      "Adding v08_RF_20180802_005832_01x10_50M.csv\n",
      "Adding v08_RF_20180802_015009_01x10_50M.csv\n",
      "Adding v08_RF_20180802_024115_01x10_50M.csv\n",
      "Adding v08_RF_20180802_033401_01x10_50M.csv\n",
      "Adding v08_RF_20180802_042403_01x10_50M.csv\n",
      "Adding v08_RF_20180802_051524_01x10_50M.csv\n",
      "Adding v08_RF_20180802_060711_01x10_50M.csv\n",
      "Adding v08_RF_20180802_065756_01x10_50M.csv\n"
     ]
    }
   ],
   "source": [
    "preds=[]\n",
    "\n",
    "for filename in os.listdir(CSV_PATH):\n",
    "    print(f'Adding {filename}')\n",
    "    df = pd.read_csv(f'{CSV_PATH}/{filename}')\n",
    "    preds.append(np.array(df.fare_amount))"
   ]
  },
  {
   "cell_type": "code",
   "execution_count": 4,
   "metadata": {},
   "outputs": [
    {
     "data": {
      "text/plain": [
       "[array([ 9.98174603,  9.63363095,  3.89219049, ..., 52.93833361,\n",
       "        17.97361111,  7.0639881 ]),\n",
       " array([ 9.42498015, 10.475     ,  4.22485711, ..., 52.53640341,\n",
       "        18.20382937,  6.40767857]),\n",
       " array([10.46847222, 10.18470238,  4.14547619, ..., 53.66868502,\n",
       "        18.08119048,  8.15069444]),\n",
       " array([10.67007937, 10.18605159,  4.13971428, ..., 52.59861348,\n",
       "        16.91750003,  7.1572619 ]),\n",
       " array([10.24309524, 10.04541667,  4.4013622 , ..., 50.60035042,\n",
       "        18.38744048,  6.49607143]),\n",
       " array([11.25007937, 12.25569444,  4.45523811, ..., 52.46560074,\n",
       "        18.50694444,  7.30952381]),\n",
       " array([10.38738095, 10.84547619,  4.19955553, ..., 50.71090883,\n",
       "        17.94396825,  6.4552381 ]),\n",
       " array([10.52863095, 10.88319805,  4.3064762 , ..., 52.47482478,\n",
       "        18.34410714,  8.70845238]),\n",
       " array([10.3505303 , 11.37698413,  5.91504763, ..., 54.91910096,\n",
       "        17.48884921,  7.80708333]),\n",
       " array([11.06756494, 11.05922619,  4.06761905, ..., 50.26389115,\n",
       "        17.97166667,  6.88254329]),\n",
       " array([10.80573413, 10.22541667,  3.77922508, ..., 54.15531069,\n",
       "        19.40488095,  7.0710119 ]),\n",
       " array([10.21011905, 10.28333333,  4.74508228, ..., 50.79627004,\n",
       "        17.86892857,  6.86208333]),\n",
       " array([10.56119048, 10.16041667,  3.97676192, ..., 53.83468397,\n",
       "        17.67625001,  7.97261905]),\n",
       " array([11.33676587, 10.31819444,  4.21161904, ..., 54.76934368,\n",
       "        17.89694444,  7.14833333]),\n",
       " array([13.42453581, 11.4675    ,  4.22571428, ..., 54.7605675 ,\n",
       "        17.43257937,  6.78429182]),\n",
       " array([10.56392857, 10.07555556,  4.0275238 , ..., 48.66752458,\n",
       "        17.4444643 ,  8.29125   ]),\n",
       " array([10.19464286, 10.32988095,  3.99993652, ..., 53.07650032,\n",
       "        17.31208333,  6.5602381 ]),\n",
       " array([10.60890873, 10.11833333,  4.84522221, ..., 55.2321103 ,\n",
       "        18.7531746 ,  6.73859127])]"
      ]
     },
     "execution_count": 4,
     "metadata": {},
     "output_type": "execute_result"
    }
   ],
   "source": [
    "preds"
   ]
  },
  {
   "cell_type": "code",
   "execution_count": 5,
   "metadata": {},
   "outputs": [],
   "source": [
    "predictions = np.mean(np.vstack([preds]),axis=0)"
   ]
  },
  {
   "cell_type": "code",
   "execution_count": 6,
   "metadata": {},
   "outputs": [
    {
     "data": {
      "text/plain": [
       "array([10.67102139, 10.55133397,  4.30881233, ..., 52.69272353,\n",
       "       17.97824515,  7.21483079])"
      ]
     },
     "execution_count": 6,
     "metadata": {},
     "output_type": "execute_result"
    }
   ],
   "source": [
    "predictions"
   ]
  },
  {
   "cell_type": "raw",
   "metadata": {},
   "source": [
    "Sanity check using previous values:\n",
    "    \n",
    "array([10.67102139, 10.55133397,  4.30881233, ..., 52.69272353,\n",
    "       17.97824515,  7.21483079])"
   ]
  },
  {
   "cell_type": "code",
   "execution_count": 8,
   "metadata": {},
   "outputs": [
    {
     "data": {
      "text/plain": [
       "'submissions/v08_RF_20180802_133648_E10x10_50M.csv'"
      ]
     },
     "execution_count": 8,
     "metadata": {},
     "output_type": "execute_result"
    }
   ],
   "source": [
    "outdir = CSV_PATH\n",
    "os.makedirs(outdir, exist_ok=True)\n",
    "test_df_raw = pd.read_csv(f'{DATA_PATH}test.csv', usecols=['key'])\n",
    "\n",
    "cur_dt = datetime.datetime.now().strftime(\"%Y%m%d_%H%M%S\")\n",
    "desc = 'v08_RF_' # description of submission for reference\n",
    "ensemb_desc = '_E10x10_50M'\n",
    "subm_fn =  desc + cur_dt + ensemb_desc + '.csv'\n",
    "subm_path = f'{CSV_SUBM_PATH}{subm_fn}'\n",
    "\n",
    "subm_path"
   ]
  },
  {
   "cell_type": "code",
   "execution_count": 11,
   "metadata": {},
   "outputs": [
    {
     "data": {
      "text/plain": [
       "'submissions/v08_RF_20180802_133648_E10x10_50M.csv'"
      ]
     },
     "execution_count": 11,
     "metadata": {},
     "output_type": "execute_result"
    }
   ],
   "source": [
    "# Create the CSV file\n",
    "submission = pd.DataFrame(\n",
    "    {'key': test_df_raw.key, 'fare_amount': predictions},\n",
    "    columns = ['key', 'fare_amount'])\n",
    "submission.to_csv(subm_path, index = False)\n",
    "\n",
    "subm_path"
   ]
  }
 ],
 "metadata": {
  "kernelspec": {
   "display_name": "Python 3",
   "language": "python",
   "name": "python3"
  },
  "language_info": {
   "codemirror_mode": {
    "name": "ipython",
    "version": 3
   },
   "file_extension": ".py",
   "mimetype": "text/x-python",
   "name": "python",
   "nbconvert_exporter": "python",
   "pygments_lexer": "ipython3",
   "version": "3.6.4"
  },
  "toc": {
   "base_numbering": 1,
   "nav_menu": {},
   "number_sections": true,
   "sideBar": true,
   "skip_h1_title": false,
   "title_cell": "Table of Contents",
   "title_sidebar": "Contents",
   "toc_cell": false,
   "toc_position": {},
   "toc_section_display": true,
   "toc_window_display": false
  }
 },
 "nbformat": 4,
 "nbformat_minor": 2
}
