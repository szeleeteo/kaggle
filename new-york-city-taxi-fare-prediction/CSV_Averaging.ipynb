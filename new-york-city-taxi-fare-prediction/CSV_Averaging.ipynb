{
 "cells": [
  {
   "cell_type": "code",
   "execution_count": 1,
   "metadata": {},
   "outputs": [],
   "source": [
    "import numpy as np \n",
    "import pandas as pd \n",
    "import datetime as datetime\n",
    "import os"
   ]
  },
  {
   "cell_type": "code",
   "execution_count": 2,
   "metadata": {},
   "outputs": [],
   "source": [
    "DATA_PATH = 'data/nyc-taxi/'\n",
    "CSV_PATH = 'submissions/LGBM/ensemble'\n",
    "CSV_SUBM_PATH = 'submissions/'"
   ]
  },
  {
   "cell_type": "code",
   "execution_count": 3,
   "metadata": {},
   "outputs": [
    {
     "name": "stdout",
     "output_type": "stream",
     "text": [
      "Adding 10.csv\n",
      "Adding 2.csv\n",
      "Adding 8.csv\n",
      "Adding 9.csv\n"
     ]
    }
   ],
   "source": [
    "preds=[]\n",
    "\n",
    "for filename in os.listdir(CSV_PATH):\n",
    "    print(f'Adding {filename}')\n",
    "    df = pd.read_csv(f'{CSV_PATH}/{filename}')\n",
    "    preds.append(np.array(df.fare_amount))"
   ]
  },
  {
   "cell_type": "code",
   "execution_count": 4,
   "metadata": {},
   "outputs": [
    {
     "data": {
      "text/plain": [
       "[array([10.22197445, 11.08831508,  4.17517369, ..., 53.95637001,\n",
       "        18.93050178,  6.64195485]),\n",
       " array([10.16678196, 11.06559289,  4.12398327, ..., 53.79930154,\n",
       "        18.9709093 ,  6.61179785]),\n",
       " array([10.36446704, 11.22247486,  4.24037207, ..., 54.28110097,\n",
       "        19.12639853,  6.75438358]),\n",
       " array([10.29523232, 11.08948516,  4.25666449, ..., 54.00598513,\n",
       "        19.39426461,  6.70039688])]"
      ]
     },
     "execution_count": 4,
     "metadata": {},
     "output_type": "execute_result"
    }
   ],
   "source": [
    "preds"
   ]
  },
  {
   "cell_type": "code",
   "execution_count": 5,
   "metadata": {},
   "outputs": [
    {
     "data": {
      "text/plain": [
       "array([10.26211394, 11.116467  ,  4.19904838, ..., 54.01068941,\n",
       "       19.10551855,  6.67713329])"
      ]
     },
     "execution_count": 5,
     "metadata": {},
     "output_type": "execute_result"
    }
   ],
   "source": [
    "predictions = np.mean(np.vstack([preds]),axis=0)\n",
    "predictions"
   ]
  },
  {
   "cell_type": "code",
   "execution_count": 6,
   "metadata": {},
   "outputs": [
    {
     "data": {
      "text/plain": [
       "array([0.07461962, 0.06194028, 0.05299065, ..., 0.17376707, 0.18204449,\n",
       "       0.05480658])"
      ]
     },
     "execution_count": 6,
     "metadata": {},
     "output_type": "execute_result"
    }
   ],
   "source": [
    "std = np.std(np.vstack([preds]),axis=0)\n",
    "std"
   ]
  },
  {
   "cell_type": "code",
   "execution_count": 7,
   "metadata": {},
   "outputs": [
    {
     "data": {
      "text/plain": [
       "12.765311767708189"
      ]
     },
     "execution_count": 7,
     "metadata": {},
     "output_type": "execute_result"
    }
   ],
   "source": [
    "np.max(std)"
   ]
  },
  {
   "cell_type": "raw",
   "metadata": {},
   "source": [
    "Sanity check using previous values:\n",
    "    \n",
    "array([10.83793553, 11.5783764 ,  4.31779432, ..., 54.66335297,\n",
    "       17.32791343,  6.69908986])"
   ]
  },
  {
   "cell_type": "code",
   "execution_count": 9,
   "metadata": {},
   "outputs": [
    {
     "data": {
      "text/plain": [
       "'submissions/merged.csv'"
      ]
     },
     "execution_count": 9,
     "metadata": {},
     "output_type": "execute_result"
    }
   ],
   "source": [
    "outdir = CSV_PATH\n",
    "os.makedirs(outdir, exist_ok=True)\n",
    "test_df_raw = pd.read_csv(f'{DATA_PATH}test.csv', usecols=['key'])\n",
    "\n",
    "cur_dt = datetime.datetime.now().strftime(\"%Y%m%d_%H%M%S\")\n",
    "desc = 'v15_RF_' # description of submission for reference\n",
    "ensemb_desc = '_E16_54M'\n",
    "subm_fn =  'merged.csv' #desc + cur_dt + ensemb_desc + '.csv'\n",
    "subm_path = f'{CSV_SUBM_PATH}{subm_fn}'\n",
    "\n",
    "subm_path"
   ]
  },
  {
   "cell_type": "code",
   "execution_count": 10,
   "metadata": {},
   "outputs": [
    {
     "data": {
      "text/plain": [
       "'submissions/merged.csv'"
      ]
     },
     "execution_count": 10,
     "metadata": {},
     "output_type": "execute_result"
    }
   ],
   "source": [
    "# Create the CSV file\n",
    "submission = pd.DataFrame(\n",
    "    {'key': test_df_raw.key, 'fare_amount': predictions},\n",
    "    columns = ['key', 'fare_amount'])\n",
    "submission.to_csv(subm_path, index = False)\n",
    "\n",
    "subm_path"
   ]
  },
  {
   "cell_type": "code",
   "execution_count": null,
   "metadata": {},
   "outputs": [],
   "source": []
  }
 ],
 "metadata": {
  "kernelspec": {
   "display_name": "Python 3",
   "language": "python",
   "name": "python3"
  },
  "language_info": {
   "codemirror_mode": {
    "name": "ipython",
    "version": 3
   },
   "file_extension": ".py",
   "mimetype": "text/x-python",
   "name": "python",
   "nbconvert_exporter": "python",
   "pygments_lexer": "ipython3",
   "version": "3.6.6"
  },
  "toc": {
   "base_numbering": 1,
   "nav_menu": {},
   "number_sections": true,
   "sideBar": true,
   "skip_h1_title": false,
   "title_cell": "Table of Contents",
   "title_sidebar": "Contents",
   "toc_cell": false,
   "toc_position": {},
   "toc_section_display": true,
   "toc_window_display": false
  }
 },
 "nbformat": 4,
 "nbformat_minor": 2
}
