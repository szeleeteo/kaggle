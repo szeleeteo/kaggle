{
 "cells": [
  {
   "cell_type": "code",
   "execution_count": 45,
   "metadata": {},
   "outputs": [],
   "source": [
    "import numpy as np \n",
    "import pandas as pd \n",
    "import datetime as datetime\n",
    "import os"
   ]
  },
  {
   "cell_type": "code",
   "execution_count": 46,
   "metadata": {},
   "outputs": [],
   "source": [
    "DATA_PATH = 'data/nyc-taxi/'\n",
    "CSV_PATH = 'submissions/to_merge/'\n",
    "CSV_SUBM_PATH = 'submissions/'"
   ]
  },
  {
   "cell_type": "code",
   "execution_count": 47,
   "metadata": {},
   "outputs": [
    {
     "name": "stdout",
     "output_type": "stream",
     "text": [
      "Adding v08_RF_20180802_101436_E18x10_50M.csv\n",
      "Adding v09_RF_20180802_140933_01x10_54M.csv\n",
      "Adding v09_RF_20180802_153958_01x10_54M.csv\n",
      "Adding v09_RF_20180802_165758_01x10_54M.csv\n",
      "Adding v09_RF_20180802_181652_01x10_54M.csv\n",
      "Adding v09_RF_20180802_202857_01x10_54M.csv\n",
      "Adding v09_RF_20180802_214904_01x10_54M.csv\n",
      "Adding v09_RF_20180802_230846_01x10_54M.csv\n",
      "Adding v09_RF_20180803_002938_01x10_54M.csv\n",
      "Adding v09_RF_20180803_014841_01x10_54M.csv\n",
      "Adding v10_RF_20180805_044312_01x08_54M.csv\n",
      "Adding v10_RF_20180805_055331_01x08_54M.csv\n",
      "Adding v10_RF_20180805_065805_01x08_54M.csv\n",
      "Adding v10_RF_20180805_080651_01x08_54M.csv\n",
      "Adding v10_RF_20180805_101810_01x08_54M.csv\n"
     ]
    }
   ],
   "source": [
    "preds=[]\n",
    "\n",
    "for filename in os.listdir(CSV_PATH):\n",
    "    print(f'Adding {filename}')\n",
    "    df = pd.read_csv(f'{CSV_PATH}/{filename}')\n",
    "    preds.append(np.array(df.fare_amount))"
   ]
  },
  {
   "cell_type": "code",
   "execution_count": 48,
   "metadata": {},
   "outputs": [
    {
     "data": {
      "text/plain": [
       "[array([10.67102139, 10.55133397,  4.30881233, ..., 52.69272353,\n",
       "        17.97824515,  7.21483079]),\n",
       " array([10.37077381, 12.9115873 ,  4.4681905 , ..., 53.87035049,\n",
       "        16.75      , 10.4775    ]),\n",
       " array([10.46401515, 10.28071429,  4.58733337, ..., 54.09086314,\n",
       "        18.49416667,  6.40005952]),\n",
       " array([10.09214286, 10.94375   ,  4.01733333, ..., 55.7102194 ,\n",
       "        17.84795635,  7.09720418]),\n",
       " array([10.39519841, 10.66806943,  4.19199999, ..., 55.32725094,\n",
       "        18.31427779,  7.085     ]),\n",
       " array([10.19672619, 13.17233342,  4.18787303, ..., 55.74632984,\n",
       "        17.55099998,  6.70369048]),\n",
       " array([ 9.6125    , 11.11869048,  4.63133334, ..., 54.37834178,\n",
       "        17.6173214 ,  7.23166667]),\n",
       " array([10.79      , 11.10222222,  4.08633331, ..., 55.00038651,\n",
       "        17.49700397,  6.44666667]),\n",
       " array([10.1422619 , 10.96630952,  6.41847618, ..., 54.75662583,\n",
       "        16.90797622,  6.86083333]),\n",
       " array([11.03255772, 11.09031746,  4.1400808 , ..., 52.57330888,\n",
       "        17.99714286,  6.21416667]),\n",
       " array([11.06746032, 12.378125  ,  4.77000003, ..., 55.23498011,\n",
       "        17.86041664,  6.3578125 ]),\n",
       " array([ 9.72534722, 10.65885417,  3.9966667 , ..., 54.21436293,\n",
       "        17.840023  ,  6.92916667]),\n",
       " array([11.63995536, 11.31586851,  4.31190477, ..., 54.21195901,\n",
       "        17.02291667,  7.66145833]),\n",
       " array([10.10622294, 11.44866071,  3.94253967, ..., 54.84718847,\n",
       "        16.77239811,  6.38611111]),\n",
       " array([10.84107143, 10.42715774,  4.31785709, ..., 54.77462568,\n",
       "        17.00967262,  7.09241071])]"
      ]
     },
     "execution_count": 48,
     "metadata": {},
     "output_type": "execute_result"
    }
   ],
   "source": [
    "preds"
   ]
  },
  {
   "cell_type": "code",
   "execution_count": 49,
   "metadata": {},
   "outputs": [],
   "source": [
    "predictions = np.mean(np.vstack([preds]),axis=0)"
   ]
  },
  {
   "cell_type": "code",
   "execution_count": 50,
   "metadata": {},
   "outputs": [
    {
     "data": {
      "text/plain": [
       "array([10.47648365, 11.26893295,  4.42511563, ..., 54.4953011 ,\n",
       "       17.5640345 ,  7.07723851])"
      ]
     },
     "execution_count": 50,
     "metadata": {},
     "output_type": "execute_result"
    }
   ],
   "source": [
    "predictions"
   ]
  },
  {
   "cell_type": "raw",
   "metadata": {},
   "source": [
    "Sanity check using previous values:\n",
    "    \n",
    "array([10.67102139, 10.55133397,  4.30881233, ..., 52.69272353,\n",
    "       17.97824515,  7.21483079])"
   ]
  },
  {
   "cell_type": "code",
   "execution_count": 51,
   "metadata": {},
   "outputs": [
    {
     "data": {
      "text/plain": [
       "'submissions/v10_RF_20180805_102829_E14x10_08_54M.csv'"
      ]
     },
     "execution_count": 51,
     "metadata": {},
     "output_type": "execute_result"
    }
   ],
   "source": [
    "outdir = CSV_PATH\n",
    "os.makedirs(outdir, exist_ok=True)\n",
    "test_df_raw = pd.read_csv(f'{DATA_PATH}test.csv', usecols=['key'])\n",
    "\n",
    "cur_dt = datetime.datetime.now().strftime(\"%Y%m%d_%H%M%S\")\n",
    "desc = 'v10_RF_' # description of submission for reference\n",
    "ensemb_desc = '_E14x10_08_54M'\n",
    "subm_fn =  desc + cur_dt + ensemb_desc + '.csv'\n",
    "subm_path = f'{CSV_SUBM_PATH}{subm_fn}'\n",
    "\n",
    "subm_path"
   ]
  },
  {
   "cell_type": "code",
   "execution_count": 52,
   "metadata": {},
   "outputs": [
    {
     "data": {
      "text/plain": [
       "'submissions/v10_RF_20180805_102829_E14x10_08_54M.csv'"
      ]
     },
     "execution_count": 52,
     "metadata": {},
     "output_type": "execute_result"
    }
   ],
   "source": [
    "# Create the CSV file\n",
    "submission = pd.DataFrame(\n",
    "    {'key': test_df_raw.key, 'fare_amount': predictions},\n",
    "    columns = ['key', 'fare_amount'])\n",
    "submission.to_csv(subm_path, index = False)\n",
    "\n",
    "subm_path"
   ]
  },
  {
   "cell_type": "code",
   "execution_count": null,
   "metadata": {},
   "outputs": [],
   "source": []
  },
  {
   "cell_type": "code",
   "execution_count": null,
   "metadata": {},
   "outputs": [],
   "source": []
  }
 ],
 "metadata": {
  "kernelspec": {
   "display_name": "Python 3",
   "language": "python",
   "name": "python3"
  },
  "language_info": {
   "codemirror_mode": {
    "name": "ipython",
    "version": 3
   },
   "file_extension": ".py",
   "mimetype": "text/x-python",
   "name": "python",
   "nbconvert_exporter": "python",
   "pygments_lexer": "ipython3",
   "version": "3.6.4"
  },
  "toc": {
   "base_numbering": 1,
   "nav_menu": {},
   "number_sections": true,
   "sideBar": true,
   "skip_h1_title": false,
   "title_cell": "Table of Contents",
   "title_sidebar": "Contents",
   "toc_cell": false,
   "toc_position": {},
   "toc_section_display": true,
   "toc_window_display": false
  }
 },
 "nbformat": 4,
 "nbformat_minor": 2
}
