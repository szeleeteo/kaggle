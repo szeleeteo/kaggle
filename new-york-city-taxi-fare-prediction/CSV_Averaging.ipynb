{
 "cells": [
  {
   "cell_type": "code",
   "execution_count": 1,
   "metadata": {},
   "outputs": [],
   "source": [
    "import numpy as np \n",
    "import pandas as pd \n",
    "import datetime as datetime\n",
    "import os"
   ]
  },
  {
   "cell_type": "code",
   "execution_count": 2,
   "metadata": {},
   "outputs": [],
   "source": [
    "DATA_PATH = 'data/nyc-taxi/'\n",
    "CSV_PATH = 'submissions/v15_ensemble_16trees_54M'\n",
    "CSV_SUBM_PATH = 'submissions/'"
   ]
  },
  {
   "cell_type": "code",
   "execution_count": 3,
   "metadata": {},
   "outputs": [
    {
     "name": "stdout",
     "output_type": "stream",
     "text": [
      "Adding v15_RF_20180809_005302_01x16_54M.csv\n",
      "Adding v15_RF_20180809_052141_01x16_54M.csv\n",
      "Adding v15_RF_20180809_082725_01x16_54M.csv\n",
      "Adding v15_RF_20180809_094148_01x16_54M.csv\n",
      "Adding v15_RF_20180809_044750_01x16_54M.csv\n",
      "Adding v15_RF_20180809_041318_01x16_54M.csv\n",
      "Adding v15_RF_20180809_105618_01x16_54M.csv\n",
      "Adding v15_RF_20180809_074938_01x16_54M.csv\n",
      "Adding v15_RF_20180809_012432_01x16_54M.csv\n",
      "Adding v15_RF_20180809_071213_01x16_54M.csv\n",
      "Adding v15_RF_20180809_063434_01x16_54M.csv\n",
      "Adding v15_RF_20180809_034011_01x16_54M.csv\n",
      "Adding v15_RF_20180809_090451_01x16_54M.csv\n",
      "Adding v15_RF_20180809_055720_01x16_54M.csv\n",
      "Adding v15_RF_20180809_030739_01x16_54M.csv\n",
      "Adding v15_RF_20180809_015723_01x16_54M.csv\n",
      "Adding v15_RF_20180809_101832_01x16_54M.csv\n"
     ]
    }
   ],
   "source": [
    "preds=[]\n",
    "\n",
    "for filename in os.listdir(CSV_PATH):\n",
    "    print(f'Adding {filename}')\n",
    "    df = pd.read_csv(f'{CSV_PATH}/{filename}')\n",
    "    preds.append(np.array(df.fare_amount))"
   ]
  },
  {
   "cell_type": "code",
   "execution_count": 4,
   "metadata": {},
   "outputs": [
    {
     "data": {
      "text/plain": [
       "[array([10.75806728, 11.2015625 ,  4.00658729, ..., 53.92058379,\n",
       "        18.06393849,  7.0188244 ]),\n",
       " array([10.35416667, 11.2327877 ,  4.32690474, ..., 55.50080281,\n",
       "        18.02656995,  6.80373828]),\n",
       " array([10.10505952, 12.36464886,  4.59084326, ..., 54.51660889,\n",
       "        17.8797247 ,  6.67579816]),\n",
       " array([10.09809028, 11.04720982,  4.20922621, ..., 54.64967033,\n",
       "        17.11221478,  7.20096726]),\n",
       " array([10.38182043, 11.05096726,  4.33133115, ..., 54.16620854,\n",
       "        17.05677083,  6.38862847]),\n",
       " array([10.47377614, 11.65815183,  4.2807143 , ..., 54.22536674,\n",
       "        18.48162202,  6.53164683]),\n",
       " array([10.54825149, 11.46078869,  4.55788691, ..., 52.07165969,\n",
       "        18.43254419,  6.84303075]),\n",
       " array([ 9.57700893, 12.18366815,  5.47870041, ..., 54.45776111,\n",
       "        17.28446182,  7.07542614]),\n",
       " array([ 9.80432788, 10.97780258,  4.32727274, ..., 54.71707352,\n",
       "        18.18335813,  6.50863095]),\n",
       " array([10.65900298, 11.16052827,  4.35848213, ..., 55.2797145 ,\n",
       "        17.01510417,  6.55349702]),\n",
       " array([10.4215041 , 11.08629712,  4.41103174, ..., 53.58382957,\n",
       "        16.81752232,  6.08772321]),\n",
       " array([10.71685554, 11.05202922,  3.95541666, ..., 54.42714765,\n",
       "        17.52501804,  6.82925347]),\n",
       " array([10.29409722, 11.18697917,  4.37136906, ..., 54.63802901,\n",
       "        18.93147321,  7.1328497 ]),\n",
       " array([ 9.70141098, 12.73763801,  5.01102182, ..., 54.45891906,\n",
       "        18.37196182,  7.35556796]),\n",
       " array([ 9.94876443, 10.81436125,  4.3504708 , ..., 53.14843807,\n",
       "        18.24242502,  6.85327381]),\n",
       " array([10.70320842, 10.8655754 ,  4.43621211, ..., 54.41307517,\n",
       "        17.92995537,  6.96238839]),\n",
       " array([10.91710069, 10.97366071,  4.29791897, ..., 54.16765175,\n",
       "        18.32577111,  6.88489583])]"
      ]
     },
     "execution_count": 4,
     "metadata": {},
     "output_type": "execute_result"
    }
   ],
   "source": [
    "preds"
   ]
  },
  {
   "cell_type": "code",
   "execution_count": 5,
   "metadata": {},
   "outputs": [
    {
     "data": {
      "text/plain": [
       "array([10.32132429, 11.35615627,  4.42949355, ..., 54.25544354,\n",
       "       17.86355506,  6.80624357])"
      ]
     },
     "execution_count": 5,
     "metadata": {},
     "output_type": "execute_result"
    }
   ],
   "source": [
    "predictions = np.mean(np.vstack([preds]),axis=0)\n",
    "predictions"
   ]
  },
  {
   "cell_type": "code",
   "execution_count": 6,
   "metadata": {},
   "outputs": [
    {
     "data": {
      "text/plain": [
       "array([0.38296386, 0.5421122 , 0.3446015 , ..., 0.76288754, 0.59975302,\n",
       "       0.31174095])"
      ]
     },
     "execution_count": 6,
     "metadata": {},
     "output_type": "execute_result"
    }
   ],
   "source": [
    "std = np.std(np.vstack([preds]),axis=0)\n",
    "std"
   ]
  },
  {
   "cell_type": "code",
   "execution_count": 7,
   "metadata": {},
   "outputs": [
    {
     "data": {
      "text/plain": [
       "9.517959262360097"
      ]
     },
     "execution_count": 7,
     "metadata": {},
     "output_type": "execute_result"
    }
   ],
   "source": [
    "np.max(std)"
   ]
  },
  {
   "cell_type": "raw",
   "metadata": {},
   "source": [
    "Sanity check using previous values:\n",
    "    \n",
    "array([10.83793553, 11.5783764 ,  4.31779432, ..., 54.66335297,\n",
    "       17.32791343,  6.69908986])"
   ]
  },
  {
   "cell_type": "code",
   "execution_count": 10,
   "metadata": {},
   "outputs": [
    {
     "data": {
      "text/plain": [
       "'submissions/v15_RF_20180809_031517_E16_54M.csv'"
      ]
     },
     "execution_count": 10,
     "metadata": {},
     "output_type": "execute_result"
    }
   ],
   "source": [
    "outdir = CSV_PATH\n",
    "os.makedirs(outdir, exist_ok=True)\n",
    "test_df_raw = pd.read_csv(f'{DATA_PATH}test.csv', usecols=['key'])\n",
    "\n",
    "cur_dt = datetime.datetime.now().strftime(\"%Y%m%d_%H%M%S\")\n",
    "desc = 'v15_RF_' # description of submission for reference\n",
    "ensemb_desc = '_E16_54M'\n",
    "subm_fn =  desc + cur_dt + ensemb_desc + '.csv'\n",
    "subm_path = f'{CSV_SUBM_PATH}{subm_fn}'\n",
    "\n",
    "subm_path"
   ]
  },
  {
   "cell_type": "code",
   "execution_count": 11,
   "metadata": {},
   "outputs": [
    {
     "data": {
      "text/plain": [
       "'submissions/v15_RF_20180809_031517_E16_54M.csv'"
      ]
     },
     "execution_count": 11,
     "metadata": {},
     "output_type": "execute_result"
    }
   ],
   "source": [
    "# Create the CSV file\n",
    "submission = pd.DataFrame(\n",
    "    {'key': test_df_raw.key, 'fare_amount': predictions},\n",
    "    columns = ['key', 'fare_amount'])\n",
    "submission.to_csv(subm_path, index = False)\n",
    "\n",
    "subm_path"
   ]
  },
  {
   "cell_type": "code",
   "execution_count": null,
   "metadata": {},
   "outputs": [],
   "source": []
  }
 ],
 "metadata": {
  "kernelspec": {
   "display_name": "Python 3",
   "language": "python",
   "name": "python3"
  },
  "language_info": {
   "codemirror_mode": {
    "name": "ipython",
    "version": 3
   },
   "file_extension": ".py",
   "mimetype": "text/x-python",
   "name": "python",
   "nbconvert_exporter": "python",
   "pygments_lexer": "ipython3",
   "version": "3.6.6"
  },
  "toc": {
   "base_numbering": 1,
   "nav_menu": {},
   "number_sections": true,
   "sideBar": true,
   "skip_h1_title": false,
   "title_cell": "Table of Contents",
   "title_sidebar": "Contents",
   "toc_cell": false,
   "toc_position": {},
   "toc_section_display": true,
   "toc_window_display": false
  }
 },
 "nbformat": 4,
 "nbformat_minor": 2
}
