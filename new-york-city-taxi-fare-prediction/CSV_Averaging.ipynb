{
 "cells": [
  {
   "cell_type": "code",
   "execution_count": 17,
   "metadata": {},
   "outputs": [],
   "source": [
    "import numpy as np \n",
    "import pandas as pd \n",
    "import datetime as datetime\n",
    "import os"
   ]
  },
  {
   "cell_type": "code",
   "execution_count": 18,
   "metadata": {},
   "outputs": [],
   "source": [
    "DATA_PATH = 'data/nyc-taxi/'\n",
    "CSV_PATH = 'submissions/v11_ensemble_16trees_54M_rows'\n",
    "CSV_SUBM_PATH = 'submissions/'"
   ]
  },
  {
   "cell_type": "code",
   "execution_count": 19,
   "metadata": {},
   "outputs": [
    {
     "name": "stdout",
     "output_type": "stream",
     "text": [
      "Adding v11_RF_20180807_000517_01x16_54M.csv\n",
      "Adding v11_RF_20180807_010408_01x16_54M.csv\n",
      "Adding v11_RF_20180807_014810_01x16_54M.csv\n",
      "Adding v11_RF_20180807_023509_01x16_54M.csv\n",
      "Adding v11_RF_20180807_032339_01x16_54M.csv\n",
      "Adding v11_RF_20180807_041537_01x16_54M.csv\n",
      "Adding v11_RF_20180807_050807_01x16_54M.csv\n",
      "Adding v11_RF_20180807_060506_01x16_54M.csv\n",
      "Adding v11_RF_20180807_070148_01x16_54M.csv\n",
      "Adding v11_RF_20180807_080141_01x16_54M.csv\n",
      "Adding v11_RF_20180807_090137_01x16_54M.csv\n",
      "Adding v11_RF_20180807_100149_01x16_54M.csv\n"
     ]
    }
   ],
   "source": [
    "preds=[]\n",
    "\n",
    "for filename in os.listdir(CSV_PATH):\n",
    "    print(f'Adding {filename}')\n",
    "    df = pd.read_csv(f'{CSV_PATH}/{filename}')\n",
    "    preds.append(np.array(df.fare_amount))"
   ]
  },
  {
   "cell_type": "code",
   "execution_count": 20,
   "metadata": {},
   "outputs": [
    {
     "data": {
      "text/plain": [
       "[array([10.10403026, 12.73460818,  4.14502977, ..., 54.96116749,\n",
       "        17.4061756 ,  6.87671131]),\n",
       " array([10.90245536, 12.05974416,  4.23335318, ..., 54.76618819,\n",
       "        16.74000494,  7.34107143]),\n",
       " array([10.28896329, 10.48680556,  4.60931818, ..., 55.90584918,\n",
       "        17.18927329,  7.19605655]),\n",
       " array([10.4328249 , 12.80780912,  4.18800595, ..., 54.63073586,\n",
       "        17.07178663,  6.70094359]),\n",
       " array([10.75668966, 11.92734501,  3.98395833, ..., 55.10529299,\n",
       "        17.79970238,  7.36460813]),\n",
       " array([10.30894097, 11.17320188,  4.10773807, ..., 54.09554748,\n",
       "        17.54164976,  6.73346974]),\n",
       " array([10.15267519, 10.58700397,  4.27229167, ..., 55.54855309,\n",
       "        16.70398065,  6.89272524]),\n",
       " array([10.46006944, 11.9671627 ,  4.39815478, ..., 55.29026133,\n",
       "        17.77622768,  7.80648562]),\n",
       " array([10.30771104, 11.1812996 ,  4.11796446, ..., 54.80050827,\n",
       "        17.54378833,  6.62220982]),\n",
       " array([10.37916667, 11.21346726,  4.23302961, ..., 55.18138639,\n",
       "        18.50088045,  7.50421627]),\n",
       " array([10.60703463, 11.18059727,  4.33380954, ..., 55.20700457,\n",
       "        17.71127569,  7.36334325]),\n",
       " array([ 9.86113591, 10.97676091,  4.60673612, ..., 53.99507378,\n",
       "        16.54016617,  6.67120536])]"
      ]
     },
     "execution_count": 20,
     "metadata": {},
     "output_type": "execute_result"
    }
   ],
   "source": [
    "preds"
   ]
  },
  {
   "cell_type": "code",
   "execution_count": 13,
   "metadata": {},
   "outputs": [],
   "source": [
    "predictions = np.mean(np.vstack([preds]),axis=0)\n",
    "predictions"
   ]
  },
  {
   "cell_type": "code",
   "execution_count": 14,
   "metadata": {},
   "outputs": [
    {
     "data": {
      "text/plain": [
       "array([10.51201584, 11.42934961,  4.35303724, ..., 54.72834424,\n",
       "       17.49703532,  7.0507289 ])"
      ]
     },
     "execution_count": 14,
     "metadata": {},
     "output_type": "execute_result"
    }
   ],
   "source": [
    "std = np.std(np.vstack([preds]),axis=0)\n",
    "std"
   ]
  },
  {
   "cell_type": "code",
   "execution_count": 37,
   "metadata": {},
   "outputs": [
    {
     "data": {
      "text/plain": [
       "9.180028497630296"
      ]
     },
     "execution_count": 37,
     "metadata": {},
     "output_type": "execute_result"
    }
   ],
   "source": [
    "np.max(std)"
   ]
  },
  {
   "cell_type": "raw",
   "metadata": {},
   "source": [
    "Sanity check using previous values:\n",
    "    \n",
    "array([10.83793553, 11.5783764 ,  4.31779432, ..., 54.66335297,\n",
    "       17.32791343,  6.69908986])"
   ]
  },
  {
   "cell_type": "code",
   "execution_count": 15,
   "metadata": {},
   "outputs": [
    {
     "data": {
      "text/plain": [
       "'submissions/v11_RF_20180807_102314_E28_54M.csv'"
      ]
     },
     "execution_count": 15,
     "metadata": {},
     "output_type": "execute_result"
    }
   ],
   "source": [
    "outdir = CSV_PATH\n",
    "os.makedirs(outdir, exist_ok=True)\n",
    "test_df_raw = pd.read_csv(f'{DATA_PATH}test.csv', usecols=['key'])\n",
    "\n",
    "cur_dt = datetime.datetime.now().strftime(\"%Y%m%d_%H%M%S\")\n",
    "desc = 'v11_RF_' # description of submission for reference\n",
    "ensemb_desc = '_E28_54M'\n",
    "subm_fn =  desc + cur_dt + ensemb_desc + '.csv'\n",
    "subm_path = f'{CSV_SUBM_PATH}{subm_fn}'\n",
    "\n",
    "subm_path"
   ]
  },
  {
   "cell_type": "code",
   "execution_count": 16,
   "metadata": {},
   "outputs": [
    {
     "data": {
      "text/plain": [
       "'submissions/v11_RF_20180807_102314_E28_54M.csv'"
      ]
     },
     "execution_count": 16,
     "metadata": {},
     "output_type": "execute_result"
    }
   ],
   "source": [
    "# Create the CSV file\n",
    "submission = pd.DataFrame(\n",
    "    {'key': test_df_raw.key, 'fare_amount': predictions},\n",
    "    columns = ['key', 'fare_amount'])\n",
    "submission.to_csv(subm_path, index = False)\n",
    "\n",
    "subm_path"
   ]
  },
  {
   "cell_type": "code",
   "execution_count": null,
   "metadata": {},
   "outputs": [],
   "source": []
  }
 ],
 "metadata": {
  "kernelspec": {
   "display_name": "Python (fastai)",
   "language": "python",
   "name": "fastai"
  },
  "language_info": {
   "codemirror_mode": {
    "name": "ipython",
    "version": 3
   },
   "file_extension": ".py",
   "mimetype": "text/x-python",
   "name": "python",
   "nbconvert_exporter": "python",
   "pygments_lexer": "ipython3",
   "version": "3.6.6"
  },
  "toc": {
   "base_numbering": 1,
   "nav_menu": {},
   "number_sections": true,
   "sideBar": true,
   "skip_h1_title": false,
   "title_cell": "Table of Contents",
   "title_sidebar": "Contents",
   "toc_cell": false,
   "toc_position": {},
   "toc_section_display": true,
   "toc_window_display": false
  }
 },
 "nbformat": 4,
 "nbformat_minor": 2
}
