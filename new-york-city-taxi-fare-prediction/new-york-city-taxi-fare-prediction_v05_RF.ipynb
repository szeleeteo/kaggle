{
 "cells": [
  {
   "cell_type": "markdown",
   "metadata": {},
   "source": [
    "https://www.kaggle.com/c/new-york-city-taxi-fare-prediction/"
   ]
  },
  {
   "cell_type": "markdown",
   "metadata": {},
   "source": [
    "# Imports"
   ]
  },
  {
   "cell_type": "code",
   "execution_count": 1,
   "metadata": {},
   "outputs": [],
   "source": [
    "%matplotlib inline\n",
    "%reload_ext autoreload\n",
    "%autoreload 2"
   ]
  },
  {
   "cell_type": "code",
   "execution_count": 2,
   "metadata": {
    "_cell_guid": "b1076dfc-b9ad-4769-8c92-a6c4dae69d19",
    "_uuid": "8f2839f25d086af736a60e9eeb907d3b93b6e0e5"
   },
   "outputs": [],
   "source": [
    "import numpy as np \n",
    "import pandas as pd \n",
    "import matplotlib.pyplot as plt\n",
    "import os"
   ]
  },
  {
   "cell_type": "code",
   "execution_count": 3,
   "metadata": {},
   "outputs": [],
   "source": [
    "from fastai.imports import *\n",
    "from fastai.structured import *\n",
    "\n",
    "from pandas_summary import DataFrameSummary\n",
    "from sklearn.ensemble import RandomForestRegressor\n",
    "from IPython.display import display"
   ]
  },
  {
   "cell_type": "code",
   "execution_count": 4,
   "metadata": {},
   "outputs": [],
   "source": [
    "PATH = 'data/nyc-taxi/'"
   ]
  },
  {
   "cell_type": "markdown",
   "metadata": {},
   "source": [
    "The entire dataset has about 55,423,856 rows"
   ]
  },
  {
   "cell_type": "markdown",
   "metadata": {
    "heading_collapsed": true
   },
   "source": [
    "# Load clean dataframe"
   ]
  },
  {
   "cell_type": "code",
   "execution_count": 38,
   "metadata": {
    "hidden": true
   },
   "outputs": [
    {
     "name": "stdout",
     "output_type": "stream",
     "text": [
      "Wall time: 109 ms\n"
     ]
    }
   ],
   "source": [
    "%%time\n",
    "train_df = pd.read_feather('tmp/v2/taxi-v2-train')\n",
    "val_df = pd.read_feather('tmp/v2/taxi-v2-val')"
   ]
  },
  {
   "cell_type": "code",
   "execution_count": 39,
   "metadata": {
    "hidden": true
   },
   "outputs": [
    {
     "name": "stdout",
     "output_type": "stream",
     "text": [
      "Wall time: 1.11 s\n"
     ]
    }
   ],
   "source": [
    "%%time\n",
    "X_train, y_train, _ = proc_df(train_df,'fare_amount') "
   ]
  },
  {
   "cell_type": "code",
   "execution_count": 40,
   "metadata": {
    "hidden": true
   },
   "outputs": [],
   "source": [
    "X_val, y_val, _ = proc_df(val_df,'fare_amount')"
   ]
  },
  {
   "cell_type": "code",
   "execution_count": 41,
   "metadata": {
    "hidden": true
   },
   "outputs": [
    {
     "data": {
      "text/plain": [
       "((3445082, 16), (9674, 16), (3445082,), (9674,))"
      ]
     },
     "execution_count": 41,
     "metadata": {},
     "output_type": "execute_result"
    }
   ],
   "source": [
    "X_train.shape, X_val.shape, y_train.shape, y_val.shape"
   ]
  },
  {
   "cell_type": "markdown",
   "metadata": {
    "_uuid": "2151480a168d291bc2f4fd014fdac4ab7b5f6560",
    "heading_collapsed": true
   },
   "source": [
    "# Train on training"
   ]
  },
  {
   "cell_type": "markdown",
   "metadata": {
    "hidden": true
   },
   "source": [
    "Full Sample\n",
    "\n",
    "| NUM TREES  | RMSE FULL | FI FULL | MAXFEAT SQRT FULL | \n",
    "|---|---|---|---|\n",
    "| 10 | 3.17810 | 3.18312 |---|\n",
    "| 20 | 3.10469 | 3.13089 |---|\n",
    "| 40 | 3.07459 | 3.10923 | 3.29178 |\n",
    "| 80 | 3.05548 |---| 3.28637 |\n",
    "| 160 | **3.05006** |---| 3.26901 |\n",
    "\n",
    "Subsample (40,000)\n",
    "\n",
    "| NUM TREES | RMSE SUB | RMV DIST |FI | MIN 1LEAF | MIN 5LEAF | MAXFEAT SQRT | MAXFEAT 0.6 |\n",
    "|---|---|---|---|---|---|---|---|\n",
    "| 10 | 3.32849 | 3.35876 | 3.34315 | 3.47438 | 3.34187 | 3.51720 | 3.33512 |\n",
    "| 20 | 3.27289 | 3.28881 | 3.29936 | 3.36459 | 3.28026 | 3.40769 | 3.26151 |\n",
    "| 40 | 3.24416 | 3.26598 | 3.25810 | 3.31264 | 3.26485 | 3.37125 | 3.23247 |\n",
    "| 80 | 3.24484 |---|---|---|---| 3.35322 | 3.23091 |\n",
    "| 160 | 3.23656 |---|---|---|---|---|---|\n"
   ]
  },
  {
   "cell_type": "markdown",
   "metadata": {
    "heading_collapsed": true,
    "hidden": true
   },
   "source": [
    "## Helper functions"
   ]
  },
  {
   "cell_type": "code",
   "execution_count": 42,
   "metadata": {
    "hidden": true
   },
   "outputs": [],
   "source": [
    "seed = 42"
   ]
  },
  {
   "cell_type": "code",
   "execution_count": 43,
   "metadata": {
    "hidden": true
   },
   "outputs": [],
   "source": [
    "def rmse(x,y): return math.sqrt(((x-y)**2).mean())\n",
    "\n",
    "def print_score(m):  \n",
    "    \n",
    "    # in scikit-learn, random forest regressor,score is the r-squared value\n",
    "    train_scr = m.score(X_train, y_train)\n",
    "    val_scr = m.score(X_val, y_val)\n",
    "    \n",
    "    # RMSE is what we are more interested in\n",
    "    train_rmse = rmse(m.predict(X_train), y_train)\n",
    "    val_rmse = rmse(m.predict(X_val), y_val)\n",
    "    if hasattr(m, 'oob_score_'): oob_scr = m.oob_score_\n",
    "        \n",
    "    res = f\"Training-Score:   {train_scr:.5f}\\tTraining-rmse:   {train_rmse:.5f}\\n\"\n",
    "    res += f\"Validation-score: {val_scr:.5f}\\tValidation-rmse: {val_rmse:.5f}\"   \n",
    "    if hasattr(m, 'oob_score_'): res += f\"\\nOOB-score:\\t  {oob_scr:.5f}\"\n",
    "        \n",
    "    print(res)"
   ]
  },
  {
   "cell_type": "code",
   "execution_count": 44,
   "metadata": {
    "hidden": true
   },
   "outputs": [],
   "source": [
    "def plot_fi(fi): \n",
    "    return fi.plot('cols', 'imp', 'barh', figsize=(12,7), legend=False)"
   ]
  },
  {
   "cell_type": "markdown",
   "metadata": {
    "heading_collapsed": true,
    "hidden": true
   },
   "source": [
    "## Train Baseline - Full Sample"
   ]
  },
  {
   "cell_type": "code",
   "execution_count": 12,
   "metadata": {
    "hidden": true,
    "scrolled": true
   },
   "outputs": [
    {
     "name": "stderr",
     "output_type": "stream",
     "text": [
      "C:\\Users\\szelee\\Anaconda3\\envs\\fastai\\lib\\site-packages\\sklearn\\ensemble\\forest.py:724: UserWarning: Some inputs do not have OOB scores. This probably means too few trees were used to compute any reliable oob estimates.\n",
      "  warn(\"Some inputs do not have OOB scores. \"\n"
     ]
    },
    {
     "name": "stdout",
     "output_type": "stream",
     "text": [
      "Training-Score:   0.94438\tTraining-rmse:   2.21004\n",
      "Validation-score: 0.88057\tValidation-rmse: 3.17810\n",
      "OOB-score:\t  0.82460\n",
      "Wall time: 2min 20s\n"
     ]
    }
   ],
   "source": [
    "%%time \n",
    "m = RandomForestRegressor(n_estimators=10, min_samples_leaf=3, max_features=0.5, \n",
    "                          oob_score=True, random_state=seed, n_jobs=-1)\n",
    "m.fit(X_train, y_train)\n",
    "print_score(m)"
   ]
  },
  {
   "cell_type": "code",
   "execution_count": 13,
   "metadata": {
    "hidden": true
   },
   "outputs": [
    {
     "name": "stderr",
     "output_type": "stream",
     "text": [
      "C:\\Users\\szelee\\Anaconda3\\envs\\fastai\\lib\\site-packages\\sklearn\\ensemble\\forest.py:724: UserWarning: Some inputs do not have OOB scores. This probably means too few trees were used to compute any reliable oob estimates.\n",
      "  warn(\"Some inputs do not have OOB scores. \"\n"
     ]
    },
    {
     "name": "stdout",
     "output_type": "stream",
     "text": [
      "Training-Score:   0.94744\tTraining-rmse:   2.14837\n",
      "Validation-score: 0.88602\tValidation-rmse: 3.10469\n",
      "OOB-score:\t  0.86287\n",
      "Wall time: 4min 48s\n"
     ]
    }
   ],
   "source": [
    "%%time \n",
    "m = RandomForestRegressor(n_estimators=20, min_samples_leaf=3, max_features=0.5, \n",
    "                          oob_score=True, random_state=seed, n_jobs=-1)\n",
    "m.fit(X_train, y_train)\n",
    "print_score(m)"
   ]
  },
  {
   "cell_type": "code",
   "execution_count": 14,
   "metadata": {
    "hidden": true
   },
   "outputs": [
    {
     "name": "stdout",
     "output_type": "stream",
     "text": [
      "Training-Score:   0.94900\tTraining-rmse:   2.11625\n",
      "Validation-score: 0.88822\tValidation-rmse: 3.07459\n",
      "OOB-score:\t  0.86999\n",
      "Wall time: 9min 24s\n"
     ]
    }
   ],
   "source": [
    "%%time \n",
    "m = RandomForestRegressor(n_estimators=40, min_samples_leaf=3, max_features=0.5, \n",
    "                          oob_score=True, random_state=seed, n_jobs=-1)\n",
    "m.fit(X_train, y_train)\n",
    "print_score(m)"
   ]
  },
  {
   "cell_type": "code",
   "execution_count": 12,
   "metadata": {
    "hidden": true
   },
   "outputs": [
    {
     "name": "stdout",
     "output_type": "stream",
     "text": [
      "Training-Score:   0.94985\tTraining-rmse:   2.09860\n",
      "Validation-score: 0.88961\tValidation-rmse: 3.05548\n",
      "Wall time: 16min 48s\n"
     ]
    }
   ],
   "source": [
    "%%time \n",
    "m = RandomForestRegressor(n_estimators=80, min_samples_leaf=3, max_features=0.5, \n",
    "                          oob_score=False, random_state=seed, n_jobs=-1)\n",
    "m.fit(X_train, y_train)\n",
    "print_score(m)"
   ]
  },
  {
   "cell_type": "code",
   "execution_count": 13,
   "metadata": {
    "hidden": true
   },
   "outputs": [
    {
     "name": "stdout",
     "output_type": "stream",
     "text": [
      "Training-Score:   0.95027\tTraining-rmse:   2.08971\n",
      "Validation-score: 0.89000\tValidation-rmse: 3.05006\n",
      "Wall time: 33min 25s\n"
     ]
    }
   ],
   "source": [
    "%%time \n",
    "m = RandomForestRegressor(n_estimators=160, min_samples_leaf=3, max_features=0.5, \n",
    "                          oob_score=False, random_state=seed, n_jobs=-1)\n",
    "m.fit(X_train, y_train)\n",
    "print_score(m)"
   ]
  },
  {
   "cell_type": "markdown",
   "metadata": {
    "heading_collapsed": true,
    "hidden": true
   },
   "source": [
    "## Train Baseline - Subsample"
   ]
  },
  {
   "cell_type": "code",
   "execution_count": 48,
   "metadata": {
    "hidden": true
   },
   "outputs": [],
   "source": [
    "set_rf_samples(40_000)"
   ]
  },
  {
   "cell_type": "code",
   "execution_count": 34,
   "metadata": {
    "hidden": true
   },
   "outputs": [
    {
     "name": "stdout",
     "output_type": "stream",
     "text": [
      "Training-Score:   0.84693\tTraining-rmse:   3.66633\n",
      "Validation-score: 0.86900\tValidation-rmse: 3.32849\n",
      "OOB-score:\t  0.84480\n",
      "Wall time: 13.8 s\n"
     ]
    }
   ],
   "source": [
    "%%time \n",
    "m = RandomForestRegressor(n_estimators=10, min_samples_leaf=3, max_features=0.5, \n",
    "                          oob_score=True, random_state=seed, n_jobs=-1)\n",
    "m.fit(X_train, y_train)\n",
    "print_score(m)"
   ]
  },
  {
   "cell_type": "code",
   "execution_count": 17,
   "metadata": {
    "hidden": true
   },
   "outputs": [
    {
     "name": "stdout",
     "output_type": "stream",
     "text": [
      "Training-Score:   0.85259\tTraining-rmse:   3.59784\n",
      "Validation-score: 0.87334\tValidation-rmse: 3.27289\n",
      "OOB-score:\t  0.85054\n",
      "Wall time: 33.5 s\n"
     ]
    }
   ],
   "source": [
    "%%time \n",
    "m = RandomForestRegressor(n_estimators=20, min_samples_leaf=3, max_features=0.5, \n",
    "                          oob_score=True, random_state=seed, n_jobs=-1)\n",
    "m.fit(X_train, y_train)\n",
    "print_score(m)"
   ]
  },
  {
   "cell_type": "code",
   "execution_count": 37,
   "metadata": {
    "hidden": true
   },
   "outputs": [
    {
     "name": "stdout",
     "output_type": "stream",
     "text": [
      "Training-Score:   0.85514\tTraining-rmse:   3.56659\n",
      "Validation-score: 0.87555\tValidation-rmse: 3.24416\n",
      "OOB-score:\t  0.85310\n",
      "Wall time: 48.8 s\n"
     ]
    }
   ],
   "source": [
    "%%time \n",
    "m = RandomForestRegressor(n_estimators=40, min_samples_leaf=3, max_features=0.5, \n",
    "                          oob_score=True, random_state=seed, n_jobs=-1)\n",
    "m.fit(X_train, y_train)\n",
    "print_score(m)"
   ]
  },
  {
   "cell_type": "code",
   "execution_count": 35,
   "metadata": {
    "hidden": true
   },
   "outputs": [
    {
     "name": "stdout",
     "output_type": "stream",
     "text": [
      "Training-Score:   0.85640\tTraining-rmse:   3.55113\n",
      "Validation-score: 0.87550\tValidation-rmse: 3.24484\n",
      "OOB-score:\t  0.85436\n",
      "Wall time: 1min 40s\n"
     ]
    }
   ],
   "source": [
    "%%time \n",
    "m = RandomForestRegressor(n_estimators=80, min_samples_leaf=3, max_features=0.5, \n",
    "                          oob_score=True, random_state=seed, n_jobs=-1)\n",
    "m.fit(X_train, y_train)\n",
    "print_score(m)"
   ]
  },
  {
   "cell_type": "code",
   "execution_count": 36,
   "metadata": {
    "hidden": true
   },
   "outputs": [
    {
     "name": "stdout",
     "output_type": "stream",
     "text": [
      "Training-Score:   0.85697\tTraining-rmse:   3.54402\n",
      "Validation-score: 0.87614\tValidation-rmse: 3.23656\n",
      "OOB-score:\t  0.85494\n",
      "Wall time: 3min 58s\n"
     ]
    }
   ],
   "source": [
    "%%time \n",
    "m = RandomForestRegressor(n_estimators=160, min_samples_leaf=3, max_features=0.5, \n",
    "                          oob_score=True, random_state=seed, n_jobs=-1)\n",
    "m.fit(X_train, y_train)\n",
    "print_score(m)"
   ]
  },
  {
   "cell_type": "markdown",
   "metadata": {
    "heading_collapsed": true,
    "hidden": true
   },
   "source": [
    "## Removing simple distance column\n",
    "\n",
    "No improvements"
   ]
  },
  {
   "cell_type": "code",
   "execution_count": 22,
   "metadata": {
    "hidden": true
   },
   "outputs": [],
   "source": [
    "X_train.drop('simple_distance', axis=1, inplace=True)\n",
    "X_val.drop('simple_distance', axis=1, inplace=True)"
   ]
  },
  {
   "cell_type": "code",
   "execution_count": 22,
   "metadata": {
    "hidden": true
   },
   "outputs": [
    {
     "name": "stdout",
     "output_type": "stream",
     "text": [
      "Training-Score:   0.84642\tTraining-rmse:   3.67248\n",
      "Validation-score: 0.86661\tValidation-rmse: 3.35876\n",
      "OOB-score:\t  0.84429\n",
      "Wall time: 16.1 s\n"
     ]
    }
   ],
   "source": [
    "%%time \n",
    "m = RandomForestRegressor(n_estimators=10, min_samples_leaf=3, max_features=0.5, \n",
    "                          oob_score=True, random_state=seed, n_jobs=-1)\n",
    "m.fit(X_train, y_train)\n",
    "print_score(m)"
   ]
  },
  {
   "cell_type": "code",
   "execution_count": 23,
   "metadata": {
    "hidden": true
   },
   "outputs": [
    {
     "name": "stdout",
     "output_type": "stream",
     "text": [
      "Training-Score:   0.85198\tTraining-rmse:   3.60532\n",
      "Validation-score: 0.87210\tValidation-rmse: 3.28881\n",
      "OOB-score:\t  0.84996\n",
      "Wall time: 34 s\n"
     ]
    }
   ],
   "source": [
    "%%time \n",
    "m = RandomForestRegressor(n_estimators=20, min_samples_leaf=3, max_features=0.5, \n",
    "                          oob_score=True, random_state=seed, n_jobs=-1)\n",
    "m.fit(X_train, y_train)\n",
    "print_score(m)"
   ]
  },
  {
   "cell_type": "code",
   "execution_count": 24,
   "metadata": {
    "hidden": true
   },
   "outputs": [
    {
     "name": "stdout",
     "output_type": "stream",
     "text": [
      "Training-Score:   0.85488\tTraining-rmse:   3.56989\n",
      "Validation-score: 0.87387\tValidation-rmse: 3.26598\n",
      "OOB-score:\t  0.85287\n",
      "Wall time: 52.1 s\n"
     ]
    }
   ],
   "source": [
    "%%time \n",
    "m = RandomForestRegressor(n_estimators=40, min_samples_leaf=3, max_features=0.5, \n",
    "                          oob_score=True, random_state=seed, n_jobs=-1)\n",
    "m.fit(X_train, y_train)\n",
    "print_score(m)"
   ]
  },
  {
   "cell_type": "markdown",
   "metadata": {
    "heading_collapsed": true,
    "hidden": true
   },
   "source": [
    "## Feature Importance (fi.imp>0.006)\n",
    "\n",
    "No Improvements"
   ]
  },
  {
   "cell_type": "code",
   "execution_count": 44,
   "metadata": {
    "hidden": true
   },
   "outputs": [],
   "source": [
    "fi = rf_feat_importance(m, X_train)"
   ]
  },
  {
   "cell_type": "code",
   "execution_count": 45,
   "metadata": {
    "collapsed": true,
    "hidden": true
   },
   "outputs": [
    {
     "data": {
      "text/html": [
       "<div>\n",
       "<style scoped>\n",
       "    .dataframe tbody tr th:only-of-type {\n",
       "        vertical-align: middle;\n",
       "    }\n",
       "\n",
       "    .dataframe tbody tr th {\n",
       "        vertical-align: top;\n",
       "    }\n",
       "\n",
       "    .dataframe thead th {\n",
       "        text-align: right;\n",
       "    }\n",
       "</style>\n",
       "<table border=\"1\" class=\"dataframe\">\n",
       "  <thead>\n",
       "    <tr style=\"text-align: right;\">\n",
       "      <th></th>\n",
       "      <th>cols</th>\n",
       "      <th>imp</th>\n",
       "    </tr>\n",
       "  </thead>\n",
       "  <tbody>\n",
       "    <tr>\n",
       "      <th>7</th>\n",
       "      <td>simple_distance</td>\n",
       "      <td>0.389153</td>\n",
       "    </tr>\n",
       "    <tr>\n",
       "      <th>5</th>\n",
       "      <td>abs_diff_longitude</td>\n",
       "      <td>0.214321</td>\n",
       "    </tr>\n",
       "    <tr>\n",
       "      <th>6</th>\n",
       "      <td>abs_diff_latitude</td>\n",
       "      <td>0.208493</td>\n",
       "    </tr>\n",
       "    <tr>\n",
       "      <th>2</th>\n",
       "      <td>dropoff_longitude</td>\n",
       "      <td>0.059062</td>\n",
       "    </tr>\n",
       "    <tr>\n",
       "      <th>0</th>\n",
       "      <td>pickup_longitude</td>\n",
       "      <td>0.039356</td>\n",
       "    </tr>\n",
       "    <tr>\n",
       "      <th>8</th>\n",
       "      <td>pickup_datetimeYear</td>\n",
       "      <td>0.022666</td>\n",
       "    </tr>\n",
       "    <tr>\n",
       "      <th>3</th>\n",
       "      <td>dropoff_latitude</td>\n",
       "      <td>0.018112</td>\n",
       "    </tr>\n",
       "    <tr>\n",
       "      <th>1</th>\n",
       "      <td>pickup_latitude</td>\n",
       "      <td>0.010227</td>\n",
       "    </tr>\n",
       "    <tr>\n",
       "      <th>14</th>\n",
       "      <td>pickup_datetimeHour</td>\n",
       "      <td>0.008640</td>\n",
       "    </tr>\n",
       "    <tr>\n",
       "      <th>13</th>\n",
       "      <td>pickup_datetimeDayofyear</td>\n",
       "      <td>0.006794</td>\n",
       "    </tr>\n",
       "    <tr>\n",
       "      <th>15</th>\n",
       "      <td>pickup_datetimeMinute</td>\n",
       "      <td>0.006350</td>\n",
       "    </tr>\n",
       "    <tr>\n",
       "      <th>11</th>\n",
       "      <td>pickup_datetimeDay</td>\n",
       "      <td>0.005410</td>\n",
       "    </tr>\n",
       "    <tr>\n",
       "      <th>10</th>\n",
       "      <td>pickup_datetimeWeek</td>\n",
       "      <td>0.004254</td>\n",
       "    </tr>\n",
       "    <tr>\n",
       "      <th>12</th>\n",
       "      <td>pickup_datetimeDayofweek</td>\n",
       "      <td>0.003327</td>\n",
       "    </tr>\n",
       "    <tr>\n",
       "      <th>9</th>\n",
       "      <td>pickup_datetimeMonth</td>\n",
       "      <td>0.002128</td>\n",
       "    </tr>\n",
       "    <tr>\n",
       "      <th>4</th>\n",
       "      <td>passenger_count</td>\n",
       "      <td>0.001708</td>\n",
       "    </tr>\n",
       "  </tbody>\n",
       "</table>\n",
       "</div>"
      ],
      "text/plain": [
       "                        cols       imp\n",
       "7            simple_distance  0.389153\n",
       "5         abs_diff_longitude  0.214321\n",
       "6          abs_diff_latitude  0.208493\n",
       "2          dropoff_longitude  0.059062\n",
       "0           pickup_longitude  0.039356\n",
       "8        pickup_datetimeYear  0.022666\n",
       "3           dropoff_latitude  0.018112\n",
       "1            pickup_latitude  0.010227\n",
       "14       pickup_datetimeHour  0.008640\n",
       "13  pickup_datetimeDayofyear  0.006794\n",
       "15     pickup_datetimeMinute  0.006350\n",
       "11        pickup_datetimeDay  0.005410\n",
       "10       pickup_datetimeWeek  0.004254\n",
       "12  pickup_datetimeDayofweek  0.003327\n",
       "9       pickup_datetimeMonth  0.002128\n",
       "4            passenger_count  0.001708"
      ]
     },
     "execution_count": 45,
     "metadata": {},
     "output_type": "execute_result"
    }
   ],
   "source": [
    "pd.DataFrame({'cols':X_train.columns, 'imp':m.feature_importances_}).sort_values(by='imp', ascending=False)"
   ]
  },
  {
   "cell_type": "code",
   "execution_count": 46,
   "metadata": {
    "collapsed": true,
    "hidden": true
   },
   "outputs": [
    {
     "data": {
      "text/plain": [
       "<matplotlib.axes._subplots.AxesSubplot at 0x18c00115c88>"
      ]
     },
     "execution_count": 46,
     "metadata": {},
     "output_type": "execute_result"
    },
    {
     "data": {
      "image/png": "[encoded data removed]",
      "text/plain": [
       "<Figure size 864x504 with 1 Axes>"
      ]
     },
     "metadata": {},
     "output_type": "display_data"
    }
   ],
   "source": [
    "plot_fi(fi)"
   ]
  },
  {
   "cell_type": "code",
   "execution_count": 47,
   "metadata": {
    "hidden": true
   },
   "outputs": [
    {
     "data": {
      "text/plain": [
       "11"
      ]
     },
     "execution_count": 47,
     "metadata": {},
     "output_type": "execute_result"
    }
   ],
   "source": [
    "to_keep = fi[fi.imp>0.006].cols; len(to_keep)"
   ]
  },
  {
   "cell_type": "code",
   "execution_count": 48,
   "metadata": {
    "collapsed": true,
    "hidden": true
   },
   "outputs": [
    {
     "data": {
      "text/plain": [
       "7              simple_distance\n",
       "5           abs_diff_longitude\n",
       "6            abs_diff_latitude\n",
       "2            dropoff_longitude\n",
       "0             pickup_longitude\n",
       "8          pickup_datetimeYear\n",
       "3             dropoff_latitude\n",
       "1              pickup_latitude\n",
       "14         pickup_datetimeHour\n",
       "13    pickup_datetimeDayofyear\n",
       "15       pickup_datetimeMinute\n",
       "Name: cols, dtype: object"
      ]
     },
     "execution_count": 48,
     "metadata": {},
     "output_type": "execute_result"
    }
   ],
   "source": [
    "to_keep"
   ]
  },
  {
   "cell_type": "code",
   "execution_count": 49,
   "metadata": {
    "hidden": true
   },
   "outputs": [],
   "source": [
    "X_train = train_df[to_keep].copy()\n",
    "X_val = val_df[to_keep].copy()"
   ]
  },
  {
   "cell_type": "code",
   "execution_count": 24,
   "metadata": {
    "hidden": true
   },
   "outputs": [
    {
     "name": "stdout",
     "output_type": "stream",
     "text": [
      "Training-Score:   0.84636\tTraining-rmse:   3.67310\n",
      "Validation-score: 0.86784\tValidation-rmse: 3.34315\n",
      "OOB-score:\t  0.84431\n",
      "Wall time: 13.3 s\n"
     ]
    }
   ],
   "source": [
    "%%time \n",
    "m = RandomForestRegressor(n_estimators=10, min_samples_leaf=3, max_features=0.5, \n",
    "                          oob_score=True, random_state=seed, n_jobs=-1)\n",
    "m.fit(X_train, y_train)\n",
    "print_score(m)"
   ]
  },
  {
   "cell_type": "code",
   "execution_count": 25,
   "metadata": {
    "hidden": true
   },
   "outputs": [
    {
     "name": "stdout",
     "output_type": "stream",
     "text": [
      "Training-Score:   0.85216\tTraining-rmse:   3.60313\n",
      "Validation-score: 0.87128\tValidation-rmse: 3.29936\n",
      "OOB-score:\t  0.85019\n",
      "Wall time: 23.9 s\n"
     ]
    }
   ],
   "source": [
    "%%time \n",
    "m = RandomForestRegressor(n_estimators=20, min_samples_leaf=3, max_features=0.5, \n",
    "                          oob_score=True, random_state=seed, n_jobs=-1)\n",
    "m.fit(X_train, y_train)\n",
    "print_score(m)"
   ]
  },
  {
   "cell_type": "code",
   "execution_count": 26,
   "metadata": {
    "hidden": true
   },
   "outputs": [
    {
     "name": "stdout",
     "output_type": "stream",
     "text": [
      "Training-Score:   0.85482\tTraining-rmse:   3.57057\n",
      "Validation-score: 0.87448\tValidation-rmse: 3.25810\n",
      "OOB-score:\t  0.85287\n",
      "Wall time: 46.7 s\n"
     ]
    }
   ],
   "source": [
    "%%time \n",
    "m = RandomForestRegressor(n_estimators=40, min_samples_leaf=3, max_features=0.5, \n",
    "                          oob_score=True, random_state=seed, n_jobs=-1)\n",
    "m.fit(X_train, y_train)\n",
    "print_score(m)"
   ]
  },
  {
   "cell_type": "markdown",
   "metadata": {
    "heading_collapsed": true,
    "hidden": true
   },
   "source": [
    "### Full Data"
   ]
  },
  {
   "cell_type": "code",
   "execution_count": 50,
   "metadata": {
    "hidden": true
   },
   "outputs": [],
   "source": [
    "reset_rf_samples()"
   ]
  },
  {
   "cell_type": "code",
   "execution_count": 51,
   "metadata": {
    "hidden": true
   },
   "outputs": [
    {
     "name": "stderr",
     "output_type": "stream",
     "text": [
      "C:\\Users\\szelee\\Anaconda3\\envs\\fastai\\lib\\site-packages\\sklearn\\ensemble\\forest.py:724: UserWarning: Some inputs do not have OOB scores. This probably means too few trees were used to compute any reliable oob estimates.\n",
      "  warn(\"Some inputs do not have OOB scores. \"\n"
     ]
    },
    {
     "name": "stdout",
     "output_type": "stream",
     "text": [
      "Training-Score:   0.94224\tTraining-rmse:   2.25224\n",
      "Validation-score: 0.88019\tValidation-rmse: 3.18312\n",
      "OOB-score:\t  0.82409\n",
      "Wall time: 1min 47s\n"
     ]
    }
   ],
   "source": [
    "%%time \n",
    "m = RandomForestRegressor(n_estimators=10, min_samples_leaf=3, max_features=0.5, \n",
    "                          oob_score=True, random_state=seed, n_jobs=-1)\n",
    "m.fit(X_train, y_train)\n",
    "print_score(m)"
   ]
  },
  {
   "cell_type": "code",
   "execution_count": 52,
   "metadata": {
    "hidden": true
   },
   "outputs": [
    {
     "name": "stderr",
     "output_type": "stream",
     "text": [
      "C:\\Users\\szelee\\Anaconda3\\envs\\fastai\\lib\\site-packages\\sklearn\\ensemble\\forest.py:724: UserWarning: Some inputs do not have OOB scores. This probably means too few trees were used to compute any reliable oob estimates.\n",
      "  warn(\"Some inputs do not have OOB scores. \"\n"
     ]
    },
    {
     "name": "stdout",
     "output_type": "stream",
     "text": [
      "Training-Score:   0.94524\tTraining-rmse:   2.19284\n",
      "Validation-score: 0.88409\tValidation-rmse: 3.13089\n",
      "OOB-score:\t  0.86222\n",
      "Wall time: 4min 6s\n"
     ]
    }
   ],
   "source": [
    "%%time \n",
    "m = RandomForestRegressor(n_estimators=20, min_samples_leaf=3, max_features=0.5, \n",
    "                          oob_score=True, random_state=seed, n_jobs=-1)\n",
    "m.fit(X_train, y_train)\n",
    "print_score(m)"
   ]
  },
  {
   "cell_type": "code",
   "execution_count": 53,
   "metadata": {
    "hidden": true
   },
   "outputs": [
    {
     "name": "stdout",
     "output_type": "stream",
     "text": [
      "Training-Score:   0.94667\tTraining-rmse:   2.16416\n",
      "Validation-score: 0.88569\tValidation-rmse: 3.10923\n",
      "OOB-score:\t  0.86906\n",
      "Wall time: 6min 57s\n"
     ]
    }
   ],
   "source": [
    "%%time \n",
    "m = RandomForestRegressor(n_estimators=40, min_samples_leaf=3, max_features=0.5, \n",
    "                          oob_score=True, random_state=seed, n_jobs=-1)\n",
    "m.fit(X_train, y_train)\n",
    "print_score(m)"
   ]
  },
  {
   "cell_type": "markdown",
   "metadata": {
    "heading_collapsed": true,
    "hidden": true
   },
   "source": [
    "## Min Sample Leaf\n",
    "No Improvements"
   ]
  },
  {
   "cell_type": "markdown",
   "metadata": {
    "heading_collapsed": true,
    "hidden": true
   },
   "source": [
    "### Min Sample Leaf 1"
   ]
  },
  {
   "cell_type": "code",
   "execution_count": 46,
   "metadata": {
    "hidden": true
   },
   "outputs": [
    {
     "name": "stdout",
     "output_type": "stream",
     "text": [
      "Training-Score:   0.84272\tTraining-rmse:   3.71641\n",
      "Validation-score: 0.85727\tValidation-rmse: 3.47438\n",
      "OOB-score:\t  0.83927\n",
      "Wall time: 17 s\n"
     ]
    }
   ],
   "source": [
    "%%time \n",
    "m = RandomForestRegressor(n_estimators=10, min_samples_leaf=1, max_features=0.5, \n",
    "                          oob_score=True, random_state=seed, n_jobs=-1)\n",
    "m.fit(X_train, y_train)\n",
    "print_score(m)"
   ]
  },
  {
   "cell_type": "code",
   "execution_count": 47,
   "metadata": {
    "hidden": true
   },
   "outputs": [
    {
     "name": "stdout",
     "output_type": "stream",
     "text": [
      "Training-Score:   0.85161\tTraining-rmse:   3.60990\n",
      "Validation-score: 0.86614\tValidation-rmse: 3.36459\n",
      "OOB-score:\t  0.84829\n",
      "Wall time: 31.9 s\n"
     ]
    }
   ],
   "source": [
    "%%time \n",
    "m = RandomForestRegressor(n_estimators=20, min_samples_leaf=1, max_features=0.5, \n",
    "                          oob_score=True, random_state=seed, n_jobs=-1)\n",
    "m.fit(X_train, y_train)\n",
    "print_score(m)"
   ]
  },
  {
   "cell_type": "code",
   "execution_count": 48,
   "metadata": {
    "hidden": true
   },
   "outputs": [
    {
     "name": "stdout",
     "output_type": "stream",
     "text": [
      "Training-Score:   0.85578\tTraining-rmse:   3.55881\n",
      "Validation-score: 0.87024\tValidation-rmse: 3.31264\n",
      "OOB-score:\t  0.85247\n",
      "Wall time: 1min 11s\n"
     ]
    }
   ],
   "source": [
    "%%time \n",
    "m = RandomForestRegressor(n_estimators=40, min_samples_leaf=1, max_features=0.5, \n",
    "                          oob_score=True, random_state=seed, n_jobs=-1)\n",
    "m.fit(X_train, y_train)\n",
    "print_score(m)"
   ]
  },
  {
   "cell_type": "markdown",
   "metadata": {
    "heading_collapsed": true,
    "hidden": true
   },
   "source": [
    "### Min Sample Leaf 5"
   ]
  },
  {
   "cell_type": "code",
   "execution_count": 42,
   "metadata": {
    "hidden": true
   },
   "outputs": [
    {
     "name": "stdout",
     "output_type": "stream",
     "text": [
      "Training-Score:   0.84688\tTraining-rmse:   3.66692\n",
      "Validation-score: 0.86794\tValidation-rmse: 3.34187\n",
      "OOB-score:\t  0.84536\n",
      "Wall time: 12.4 s\n"
     ]
    }
   ],
   "source": [
    "%%time \n",
    "m = RandomForestRegressor(n_estimators=10, min_samples_leaf=5, max_features=0.5, \n",
    "                          oob_score=True, random_state=seed, n_jobs=-1)\n",
    "m.fit(X_train, y_train)\n",
    "print_score(m)"
   ]
  },
  {
   "cell_type": "code",
   "execution_count": 43,
   "metadata": {
    "hidden": true
   },
   "outputs": [
    {
     "name": "stdout",
     "output_type": "stream",
     "text": [
      "Training-Score:   0.85102\tTraining-rmse:   3.61702\n",
      "Validation-score: 0.87277\tValidation-rmse: 3.28026\n",
      "OOB-score:\t  0.84954\n",
      "Wall time: 22.7 s\n"
     ]
    }
   ],
   "source": [
    "%%time \n",
    "m = RandomForestRegressor(n_estimators=20, min_samples_leaf=5, max_features=0.5, \n",
    "                          oob_score=True, random_state=seed, n_jobs=-1)\n",
    "m.fit(X_train, y_train)\n",
    "print_score(m)"
   ]
  },
  {
   "cell_type": "code",
   "execution_count": 44,
   "metadata": {
    "hidden": true
   },
   "outputs": [
    {
     "name": "stdout",
     "output_type": "stream",
     "text": [
      "Training-Score:   0.85268\tTraining-rmse:   3.59685\n",
      "Validation-score: 0.87396\tValidation-rmse: 3.26485\n",
      "OOB-score:\t  0.85120\n",
      "Wall time: 44.6 s\n"
     ]
    }
   ],
   "source": [
    "%%time \n",
    "m = RandomForestRegressor(n_estimators=40, min_samples_leaf=5, max_features=0.5, \n",
    "                          oob_score=True, random_state=seed, n_jobs=-1)\n",
    "m.fit(X_train, y_train)\n",
    "print_score(m)"
   ]
  },
  {
   "cell_type": "markdown",
   "metadata": {
    "heading_collapsed": true,
    "hidden": true
   },
   "source": [
    "## Max Features (sqrt) \n",
    "\n",
    "No Improvements"
   ]
  },
  {
   "cell_type": "code",
   "execution_count": 25,
   "metadata": {
    "hidden": true
   },
   "outputs": [
    {
     "name": "stdout",
     "output_type": "stream",
     "text": [
      "Training-Score:   0.83841\tTraining-rmse:   3.76700\n",
      "Validation-score: 0.85372\tValidation-rmse: 3.51720\n",
      "OOB-score:\t  0.83639\n",
      "Wall time: 13.8 s\n"
     ]
    }
   ],
   "source": [
    "%%time \n",
    "m = RandomForestRegressor(n_estimators=10, min_samples_leaf=3, max_features='sqrt', \n",
    "                          oob_score=True, random_state=seed, n_jobs=-1)\n",
    "m.fit(X_train, y_train)\n",
    "print_score(m)"
   ]
  },
  {
   "cell_type": "code",
   "execution_count": 26,
   "metadata": {
    "hidden": true
   },
   "outputs": [
    {
     "name": "stdout",
     "output_type": "stream",
     "text": [
      "Training-Score:   0.84433\tTraining-rmse:   3.69727\n",
      "Validation-score: 0.86269\tValidation-rmse: 3.40769\n",
      "OOB-score:\t  0.84243\n",
      "Wall time: 29.9 s\n"
     ]
    }
   ],
   "source": [
    "%%time \n",
    "m = RandomForestRegressor(n_estimators=20, min_samples_leaf=3, max_features='sqrt', \n",
    "                          oob_score=True, random_state=seed, n_jobs=-1)\n",
    "m.fit(X_train, y_train)\n",
    "print_score(m)"
   ]
  },
  {
   "cell_type": "code",
   "execution_count": 27,
   "metadata": {
    "hidden": true
   },
   "outputs": [
    {
     "name": "stdout",
     "output_type": "stream",
     "text": [
      "Training-Score:   0.84694\tTraining-rmse:   3.66615\n",
      "Validation-score: 0.86561\tValidation-rmse: 3.37125\n",
      "OOB-score:\t  0.84507\n",
      "Wall time: 1min 5s\n"
     ]
    }
   ],
   "source": [
    "%%time \n",
    "m = RandomForestRegressor(n_estimators=40, min_samples_leaf=3, max_features='sqrt', \n",
    "                          oob_score=True, random_state=seed, n_jobs=-1)\n",
    "m.fit(X_train, y_train)\n",
    "print_score(m)"
   ]
  },
  {
   "cell_type": "code",
   "execution_count": 28,
   "metadata": {
    "hidden": true
   },
   "outputs": [
    {
     "name": "stdout",
     "output_type": "stream",
     "text": [
      "Training-Score:   0.84807\tTraining-rmse:   3.65263\n",
      "Validation-score: 0.86705\tValidation-rmse: 3.35322\n",
      "OOB-score:\t  0.84620\n",
      "Wall time: 2min 8s\n"
     ]
    }
   ],
   "source": [
    "%%time \n",
    "m = RandomForestRegressor(n_estimators=80, min_samples_leaf=3, max_features='sqrt', \n",
    "                          oob_score=True, random_state=seed, n_jobs=-1)\n",
    "m.fit(X_train, y_train)\n",
    "print_score(m)"
   ]
  },
  {
   "cell_type": "markdown",
   "metadata": {
    "heading_collapsed": true,
    "hidden": true
   },
   "source": [
    "### Full Data"
   ]
  },
  {
   "cell_type": "code",
   "execution_count": 45,
   "metadata": {
    "hidden": true
   },
   "outputs": [
    {
     "name": "stdout",
     "output_type": "stream",
     "text": [
      "Training-Score:   0.85246\tTraining-rmse:   3.59944\n",
      "Validation-score: 0.87187\tValidation-rmse: 3.29178\n",
      "OOB-score:\t  0.85055\n",
      "Wall time: 49.3 s\n"
     ]
    }
   ],
   "source": [
    "%%time \n",
    "m = RandomForestRegressor(n_estimators=40, min_samples_leaf=3, max_features='sqrt', \n",
    "                          oob_score=True, random_state=seed, n_jobs=-1)\n",
    "m.fit(X_train, y_train)\n",
    "print_score(m)"
   ]
  },
  {
   "cell_type": "code",
   "execution_count": 46,
   "metadata": {
    "hidden": true
   },
   "outputs": [
    {
     "name": "stdout",
     "output_type": "stream",
     "text": [
      "Training-Score:   0.85363\tTraining-rmse:   3.58523\n",
      "Validation-score: 0.87229\tValidation-rmse: 3.28637\n",
      "OOB-score:\t  0.85171\n",
      "Wall time: 1min 48s\n"
     ]
    }
   ],
   "source": [
    "%%time \n",
    "m = RandomForestRegressor(n_estimators=80, min_samples_leaf=3, max_features='sqrt', \n",
    "                          oob_score=True, random_state=seed, n_jobs=-1)\n",
    "m.fit(X_train, y_train)\n",
    "print_score(m)"
   ]
  },
  {
   "cell_type": "code",
   "execution_count": 47,
   "metadata": {
    "hidden": true
   },
   "outputs": [
    {
     "name": "stdout",
     "output_type": "stream",
     "text": [
      "Training-Score:   0.85437\tTraining-rmse:   3.57610\n",
      "Validation-score: 0.87364\tValidation-rmse: 3.26901\n",
      "OOB-score:\t  0.85247\n",
      "Wall time: 3min 45s\n"
     ]
    }
   ],
   "source": [
    "%%time \n",
    "m = RandomForestRegressor(n_estimators=160, min_samples_leaf=3, max_features='sqrt', \n",
    "                          oob_score=True, random_state=seed, n_jobs=-1)\n",
    "m.fit(X_train, y_train)\n",
    "print_score(m)"
   ]
  },
  {
   "cell_type": "markdown",
   "metadata": {
    "hidden": true
   },
   "source": [
    "## Max Features\n",
    "\n",
    "Improvement only on 0.6, not for 0.7, 0.8, 0.9"
   ]
  },
  {
   "cell_type": "code",
   "execution_count": 49,
   "metadata": {
    "hidden": true
   },
   "outputs": [
    {
     "name": "stdout",
     "output_type": "stream",
     "text": [
      "Training-Score:   0.84703\tTraining-rmse:   3.66516\n",
      "Validation-score: 0.86848\tValidation-rmse: 3.33512\n",
      "OOB-score:\t  0.84487\n",
      "Wall time: 14 s\n"
     ]
    }
   ],
   "source": [
    "%%time \n",
    "m = RandomForestRegressor(n_estimators=10, min_samples_leaf=3, max_features=0.6, \n",
    "                          oob_score=True, random_state=seed, n_jobs=-1)\n",
    "m.fit(X_train, y_train)\n",
    "print_score(m)"
   ]
  },
  {
   "cell_type": "code",
   "execution_count": 50,
   "metadata": {
    "hidden": true
   },
   "outputs": [
    {
     "name": "stdout",
     "output_type": "stream",
     "text": [
      "Training-Score:   0.85265\tTraining-rmse:   3.59718\n",
      "Validation-score: 0.87422\tValidation-rmse: 3.26151\n",
      "OOB-score:\t  0.85059\n",
      "Wall time: 26.5 s\n"
     ]
    }
   ],
   "source": [
    "%%time \n",
    "m = RandomForestRegressor(n_estimators=20, min_samples_leaf=3, max_features=0.6, \n",
    "                          oob_score=True, random_state=seed, n_jobs=-1)\n",
    "m.fit(X_train, y_train)\n",
    "print_score(m)"
   ]
  },
  {
   "cell_type": "code",
   "execution_count": 51,
   "metadata": {
    "hidden": true
   },
   "outputs": [
    {
     "name": "stdout",
     "output_type": "stream",
     "text": [
      "Training-Score:   0.85516\tTraining-rmse:   3.56644\n",
      "Validation-score: 0.87645\tValidation-rmse: 3.23247\n",
      "OOB-score:\t  0.85311\n",
      "Wall time: 52.2 s\n"
     ]
    }
   ],
   "source": [
    "%%time \n",
    "m = RandomForestRegressor(n_estimators=40, min_samples_leaf=3, max_features=0.6, \n",
    "                          oob_score=True, random_state=seed, n_jobs=-1)\n",
    "m.fit(X_train, y_train)\n",
    "print_score(m)"
   ]
  },
  {
   "cell_type": "code",
   "execution_count": 52,
   "metadata": {
    "hidden": true
   },
   "outputs": [
    {
     "name": "stdout",
     "output_type": "stream",
     "text": [
      "Training-Score:   0.85649\tTraining-rmse:   3.54994\n",
      "Validation-score: 0.87657\tValidation-rmse: 3.23091\n",
      "OOB-score:\t  0.85444\n",
      "Wall time: 2min 3s\n"
     ]
    }
   ],
   "source": [
    "%%time \n",
    "m = RandomForestRegressor(n_estimators=80, min_samples_leaf=3, max_features=0.6, \n",
    "                          oob_score=True, random_state=seed, n_jobs=-1)\n",
    "m.fit(X_train, y_train)\n",
    "print_score(m)"
   ]
  },
  {
   "cell_type": "code",
   "execution_count": 73,
   "metadata": {
    "hidden": true
   },
   "outputs": [
    {
     "name": "stdout",
     "output_type": "stream",
     "text": [
      "Training-Score:   0.84747\tTraining-rmse:   3.65988\n",
      "Validation-score: 0.87115\tValidation-rmse: 3.30104\n",
      "OOB-score:\t  0.84531\n",
      "Wall time: 15 s\n"
     ]
    }
   ],
   "source": [
    "%%time \n",
    "m = RandomForestRegressor(n_estimators=10, min_samples_leaf=3, max_features=0.7, \n",
    "                          oob_score=True, random_state=seed, n_jobs=-1)\n",
    "m.fit(X_train, y_train)\n",
    "print_score(m)"
   ]
  },
  {
   "cell_type": "code",
   "execution_count": 74,
   "metadata": {
    "hidden": true
   },
   "outputs": [
    {
     "name": "stdout",
     "output_type": "stream",
     "text": [
      "Training-Score:   0.85295\tTraining-rmse:   3.59345\n",
      "Validation-score: 0.87474\tValidation-rmse: 3.25478\n",
      "OOB-score:\t  0.85087\n",
      "Wall time: 27.2 s\n"
     ]
    }
   ],
   "source": [
    "%%time \n",
    "m = RandomForestRegressor(n_estimators=20, min_samples_leaf=3, max_features=0.7, \n",
    "                          oob_score=True, random_state=seed, n_jobs=-1)\n",
    "m.fit(X_train, y_train)\n",
    "print_score(m)"
   ]
  },
  {
   "cell_type": "code",
   "execution_count": 75,
   "metadata": {
    "hidden": true
   },
   "outputs": [
    {
     "name": "stdout",
     "output_type": "stream",
     "text": [
      "Training-Score:   0.85539\tTraining-rmse:   3.56357\n",
      "Validation-score: 0.87493\tValidation-rmse: 3.25227\n",
      "OOB-score:\t  0.85331\n",
      "Wall time: 53 s\n"
     ]
    }
   ],
   "source": [
    "%%time \n",
    "m = RandomForestRegressor(n_estimators=40, min_samples_leaf=3, max_features=0.7, \n",
    "                          oob_score=True, random_state=seed, n_jobs=-1)\n",
    "m.fit(X_train, y_train)\n",
    "print_score(m)"
   ]
  },
  {
   "cell_type": "code",
   "execution_count": 76,
   "metadata": {
    "hidden": true
   },
   "outputs": [
    {
     "name": "stdout",
     "output_type": "stream",
     "text": [
      "Training-Score:   0.85636\tTraining-rmse:   3.55155\n",
      "Validation-score: 0.87476\tValidation-rmse: 3.25445\n",
      "OOB-score:\t  0.85427\n",
      "Wall time: 2min 8s\n"
     ]
    }
   ],
   "source": [
    "%%time \n",
    "m = RandomForestRegressor(n_estimators=80, min_samples_leaf=3, max_features=0.7, \n",
    "                          oob_score=True, random_state=seed, n_jobs=-1)\n",
    "m.fit(X_train, y_train)\n",
    "print_score(m)"
   ]
  },
  {
   "cell_type": "markdown",
   "metadata": {
    "_uuid": "a70ed21b43d720282bbae70e934b1188be2bc382",
    "heading_collapsed": true
   },
   "source": [
    "# Predict on test"
   ]
  },
  {
   "cell_type": "code",
   "execution_count": 18,
   "metadata": {
    "_uuid": "3cbf4836cf8c71dfb67d13a9621b18a8d487197e",
    "hidden": true
   },
   "outputs": [],
   "source": [
    "# We need 'key' for the test submission file\n",
    "test_df_raw = pd.read_csv(f'{PATH}test.csv', usecols=['key'])"
   ]
  },
  {
   "cell_type": "code",
   "execution_count": 19,
   "metadata": {
    "hidden": true
   },
   "outputs": [],
   "source": [
    "test_df = pd.read_feather('tmp/v2/taxi-test-v2')"
   ]
  },
  {
   "cell_type": "code",
   "execution_count": 20,
   "metadata": {
    "hidden": true
   },
   "outputs": [],
   "source": [
    "# repeat extra processing on training data to test data\n",
    "# test_df = test_df[to_keep].copy()"
   ]
  },
  {
   "cell_type": "code",
   "execution_count": 21,
   "metadata": {
    "_uuid": "ddba4a856ff617411a641dfdf7635e47f969dff8",
    "hidden": true
   },
   "outputs": [],
   "source": [
    "test_y_predictions = m.predict(test_df)"
   ]
  },
  {
   "cell_type": "markdown",
   "metadata": {
    "heading_collapsed": true
   },
   "source": [
    "# Submit"
   ]
  },
  {
   "cell_type": "code",
   "execution_count": 22,
   "metadata": {
    "hidden": true
   },
   "outputs": [],
   "source": [
    "from datetime import datetime as dt"
   ]
  },
  {
   "cell_type": "code",
   "execution_count": 23,
   "metadata": {
    "_uuid": "ddba4a856ff617411a641dfdf7635e47f969dff8",
    "hidden": true
   },
   "outputs": [
    {
     "data": {
      "text/plain": [
       "'submissions/v05_RF_20180731_091034.csv'"
      ]
     },
     "execution_count": 23,
     "metadata": {},
     "output_type": "execute_result"
    }
   ],
   "source": [
    "outdir = 'submissions'\n",
    "os.makedirs(outdir, exist_ok=True)\n",
    "    \n",
    "cur_dt = dt.now().strftime(\"%Y%m%d_%H%M%S\")\n",
    "desc = 'v05_RF_' # description of submission for reference\n",
    "subm_fn =  desc + cur_dt + '.csv'\n",
    "subm_path = f'{outdir}/{subm_fn}'\n",
    "\n",
    "# Write the predictions to a CSV file which we can submit to the competition.\n",
    "submission = pd.DataFrame(\n",
    "    {'key': test_df_raw.key, 'fare_amount': test_y_predictions},\n",
    "    columns = ['key', 'fare_amount'])\n",
    "submission.to_csv(subm_path, index = False)\n",
    "\n",
    "subm_path"
   ]
  },
  {
   "cell_type": "markdown",
   "metadata": {
    "hidden": true
   },
   "source": [
    "| Validation | Leader Board | Specs\n",
    "| --- | --- | --- |\n",
    "| 3.08632 | 3.10115 | 11 features, 80 trees, min_samples_leaf=3, max_features=0.5 |\n",
    "| 3.05006 | 3.08358 | 160 trees, min_samples_leaf=3, max_features=0.5 |"
   ]
  },
  {
   "cell_type": "markdown",
   "metadata": {
    "heading_collapsed": true
   },
   "source": [
    "# Save model"
   ]
  },
  {
   "cell_type": "code",
   "execution_count": null,
   "metadata": {
    "hidden": true
   },
   "outputs": [],
   "source": [
    "del pruned_train_df"
   ]
  },
  {
   "cell_type": "code",
   "execution_count": null,
   "metadata": {
    "hidden": true
   },
   "outputs": [],
   "source": [
    "model_fn_save = 'models/v05_RF_20180729_121842.pkl'"
   ]
  },
  {
   "cell_type": "code",
   "execution_count": null,
   "metadata": {
    "hidden": true
   },
   "outputs": [],
   "source": [
    "%time pickle.dump(m, open(model_fn_save, 'wb'))"
   ]
  },
  {
   "cell_type": "markdown",
   "metadata": {
    "heading_collapsed": true
   },
   "source": [
    "# Load Model"
   ]
  },
  {
   "cell_type": "code",
   "execution_count": null,
   "metadata": {
    "hidden": true
   },
   "outputs": [],
   "source": [
    "model_fn_open = 'models/<>'"
   ]
  },
  {
   "cell_type": "code",
   "execution_count": null,
   "metadata": {
    "hidden": true
   },
   "outputs": [],
   "source": [
    "%time m = pickle.load(open(model_fn_open, 'rb'))"
   ]
  },
  {
   "cell_type": "code",
   "execution_count": null,
   "metadata": {
    "hidden": true
   },
   "outputs": [],
   "source": []
  },
  {
   "cell_type": "code",
   "execution_count": null,
   "metadata": {
    "hidden": true
   },
   "outputs": [],
   "source": []
  },
  {
   "cell_type": "markdown",
   "metadata": {
    "heading_collapsed": true
   },
   "source": [
    "# Old Results"
   ]
  },
  {
   "cell_type": "raw",
   "metadata": {
    "hidden": true
   },
   "source": [
    "n_estimators=200, min_samples_leaf=3, max_features=0.5\n",
    "Wall time: 1h 32min 56s\n",
    "\n",
    "n_estimators=80, min_samples_leaf=3, max_features=0.5\n",
    "Wall time: 35min 51s\n",
    "\n",
    "_estimators=40, min_samples_leaf=3, max_features=0.5\n",
    "Wall time: 19min 17s\n",
    "\n",
    "n_estimators=10, min_samples_leaf=3, max_features=0.5\n",
    "Wall time: 5min 26s\n",
    "\n",
    "\n",
    "\n",
    "n_estimators=200, min_samples_leaf=3, max_features=0.5\n",
    "Training-Score:   0.94923\tTraining-rmse:   2.14408\n",
    "Validation-score: 0.88210\tValidation-rmse: 3.22051\n",
    "Wall time: 22min 8s\n",
    "\n",
    "n_estimators=80, min_samples_leaf=3, max_features=0.5\n",
    "Training-Score:   0.94872\tTraining-rmse:   2.15496\n",
    "Validation-score: 0.88154\tValidation-rmse: 3.22818\n",
    "Wall time: 4min 33s\n",
    "\n",
    "_estimators=40, min_samples_leaf=3, max_features=0.5\n",
    "Training-Score:   0.94795\tTraining-rmse:   2.17106\n",
    "Validation-score: 0.88095\tValidation-rmse: 3.23621\n",
    "OOB-score:\t  0.86694\n",
    "Wall time: 2min 7s\n",
    "\n",
    "n_estimators=10, min_samples_leaf=3, max_features=0.5\n",
    "Training-Score:   0.94310\tTraining-rmse:   2.26989\n",
    "Validation-score: 0.87549\tValidation-rmse: 3.30952\n",
    "OOB-score:\t  0.82077\n",
    "Wall time: 38.7 s"
   ]
  },
  {
   "cell_type": "raw",
   "metadata": {
    "hidden": true
   },
   "source": [
    "With 10 million rows subsample, 100 trees\n",
    "Training-Score:   0.95066\tTraining-rmse:   2.11882\n",
    "Validation-score: 0.89701\tValidation-rmse: 3.07487\n",
    "Wall time: 16min 14s\n",
    "\n",
    "With 5 million rows subsample, 80 trees\n",
    "Training-Score:   0.94866\tTraining-rmse:   2.15693\n",
    "Validation-score: 0.89472\tValidation-rmse: 3.10890\n",
    "Wall time: 2min 58s\n",
    "\n",
    "With 5 million rows subsample, 80 trees\n",
    "Training-Score:   0.95120\tTraining-rmse:   2.06991\n",
    "Validation-score: 0.89304\tValidation-rmse: 3.10535\n",
    "Wall time: 2min 54s\n",
    "\n",
    "Results from v04\n",
    "With 5 million rows subsample, 80 trees\n",
    "Wall time: 43min 59s\n",
    "Training-Score:   0.93706\tTraining-rmse:   2.40106\n",
    "Validation-score: 0.87062\tValidation-rmse: 3.45292"
   ]
  }
 ],
 "metadata": {
  "kernelspec": {
   "display_name": "Python (fastai)",
   "language": "python",
   "name": "fastai"
  },
  "language_info": {
   "codemirror_mode": {
    "name": "ipython",
    "version": 3
   },
   "file_extension": ".py",
   "mimetype": "text/x-python",
   "name": "python",
   "nbconvert_exporter": "python",
   "pygments_lexer": "ipython3",
   "version": "3.6.6"
  },
  "toc": {
   "base_numbering": 1,
   "nav_menu": {},
   "number_sections": true,
   "sideBar": true,
   "skip_h1_title": false,
   "title_cell": "Table of Contents",
   "title_sidebar": "Contents",
   "toc_cell": false,
   "toc_position": {},
   "toc_section_display": true,
   "toc_window_display": false
  }
 },
 "nbformat": 4,
 "nbformat_minor": 1
}
