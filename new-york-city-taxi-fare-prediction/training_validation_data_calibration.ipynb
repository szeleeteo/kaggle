{
 "cells": [
  {
   "cell_type": "markdown",
   "metadata": {
    "heading_collapsed": true
   },
   "source": [
    "# new-york-city-taxi-fare-prediction_v01_RF"
   ]
  },
  {
   "cell_type": "raw",
   "metadata": {
    "hidden": true
   },
   "source": [
    "This model uses only first 10 million rows. \n",
    "After data cleaning and removing rows, we take the last 10,000 rows to be used for validation.\n",
    "set_rf_samples(100_000) - no randomization?\n",
    "\n",
    "\n",
    "Training data and validation data is reproductible. \n",
    "Model and scores reproducible"
   ]
  },
  {
   "cell_type": "raw",
   "metadata": {
    "hidden": true
   },
   "source": [
    "v01_RF_20180726_163311 - 3.31023"
   ]
  },
  {
   "cell_type": "markdown",
   "metadata": {
    "heading_collapsed": true
   },
   "source": [
    "# new-york-city-taxi-fare-prediction_v02_RF"
   ]
  },
  {
   "cell_type": "raw",
   "metadata": {
    "hidden": true
   },
   "source": [
    "This model loads all the 55 million rows.\n",
    "After data cleaning and removing rows, we take the last 10,000 rows to be used for validation.\n",
    "\n",
    "A subsample is obtained from the 55 million rows.\n",
    "- v02_RF_20180726_205258 and v02_RF_20180727_110122 uses 1 million rows\n",
    "- v02_RF_20180726_212653 uses 5 million rows\n",
    "\n",
    "Validation data is reproducible. Hence validation score reproducible with same model.\n",
    "\n",
    "Training data not reproducible\n",
    "proc_df with subset is used which produced randomized training data.\n",
    "\n",
    "Models not reproducible."
   ]
  },
  {
   "cell_type": "raw",
   "metadata": {
    "hidden": true
   },
   "source": [
    "v02_RF_20180726_205258 - 3.21712 (1 mil subsample old)\n",
    "v02_RF_20180726_212653 - 3.14377 (5 mil subsample)\n",
    "v02_RF_20180727_110122 - 3.24565 (1 mil subsmaple)\n",
    "\n",
    "* v02_RF_20180726_212653 model not saved to save space. v03 also uses 5 million subsample and has higher Kaggle score."
   ]
  },
  {
   "cell_type": "markdown",
   "metadata": {
    "heading_collapsed": true
   },
   "source": [
    "# new-york-city-taxi-fare-prediction_v03_RF"
   ]
  },
  {
   "cell_type": "raw",
   "metadata": {
    "hidden": true
   },
   "source": [
    "This model loads all the 55 million rows.\n",
    "After data cleaning and removing rows, we take the last 10,000 rows to be used for validation.\n",
    "\n",
    "A 5 million subsample is obtained from the 55 million rows.\n",
    "\n",
    "Validation data is reproducible. Hence validation score reproducible with same model.\n",
    "\n",
    "Training data not reproducible\n",
    "proc_df with subset is used which produced randomized training data.\n",
    "\n",
    "Model not reproducible."
   ]
  },
  {
   "cell_type": "markdown",
   "metadata": {},
   "source": [
    "# Local Validation vs Kaggle Leaderboard with fixed Validation Set"
   ]
  },
  {
   "cell_type": "code",
   "execution_count": 1,
   "metadata": {},
   "outputs": [],
   "source": [
    "import pandas as pd\n",
    "import matplotlib.pyplot as plt\n",
    "import numpy as np"
   ]
  },
  {
   "cell_type": "code",
   "execution_count": 2,
   "metadata": {},
   "outputs": [],
   "source": [
    "# score_dict = {'model':['v04_RF_20180728_011007','v05_RF_20180729_103506','v05_RF_20180729_103655',\n",
    "#                        'v05_RF_20180729_103916','v05_RF_20180729_105006','v05_RF_20180729_121842',\n",
    "#                       'v05_RF_20180729_134145'],\n",
    "              \n",
    "#               'model_id':['4','5a','5b',\n",
    "#                           '5c','5d','5',\n",
    "#                           '5e'],\n",
    "              \n",
    "#               'validation_score':[3.95111, 4.25965, 4.34489, \n",
    "#                                   4.24250, 4.08087,3.97253,4.02120],\n",
    "              \n",
    "#               'leaderboard_score': [3.07713, 3.26432, 3.49286, \n",
    "#                                     3.40201,3.18270,3.03235,3.03621] \n",
    "#              }"
   ]
  },
  {
   "cell_type": "code",
   "execution_count": 4,
   "metadata": {},
   "outputs": [],
   "source": [
    "score_dict = {'model':['v05_RF_20180729_103655', 'v05_RF_20180729_103916','v05_RF_20180729_105006',\n",
    "                       'v05_RF_20180729_121842','v05_RF_20180729_134145'],\n",
    "              \n",
    "              'model_id':['5b','5c','5d',\n",
    "                          '5','5a'],\n",
    "              \n",
    "              'validation_score':[4.34489,4.24250, 4.08087,\n",
    "                                  3.97253,4.02120],\n",
    "              \n",
    "              'leaderboard_score': [3.49286,3.40201,3.18270,\n",
    "                                    3.03235,3.03621] \n",
    "             }"
   ]
  },
  {
   "cell_type": "code",
   "execution_count": 5,
   "metadata": {},
   "outputs": [
    {
     "data": {
      "text/html": [
       "<div>\n",
       "<style scoped>\n",
       "    .dataframe tbody tr th:only-of-type {\n",
       "        vertical-align: middle;\n",
       "    }\n",
       "\n",
       "    .dataframe tbody tr th {\n",
       "        vertical-align: top;\n",
       "    }\n",
       "\n",
       "    .dataframe thead th {\n",
       "        text-align: right;\n",
       "    }\n",
       "</style>\n",
       "<table border=\"1\" class=\"dataframe\">\n",
       "  <thead>\n",
       "    <tr style=\"text-align: right;\">\n",
       "      <th></th>\n",
       "      <th>model</th>\n",
       "      <th>model_id</th>\n",
       "      <th>validation_score</th>\n",
       "      <th>leaderboard_score</th>\n",
       "    </tr>\n",
       "  </thead>\n",
       "  <tbody>\n",
       "    <tr>\n",
       "      <th>0</th>\n",
       "      <td>v05_RF_20180729_103655</td>\n",
       "      <td>5b</td>\n",
       "      <td>4.34489</td>\n",
       "      <td>3.49286</td>\n",
       "    </tr>\n",
       "    <tr>\n",
       "      <th>1</th>\n",
       "      <td>v05_RF_20180729_103916</td>\n",
       "      <td>5c</td>\n",
       "      <td>4.24250</td>\n",
       "      <td>3.40201</td>\n",
       "    </tr>\n",
       "    <tr>\n",
       "      <th>2</th>\n",
       "      <td>v05_RF_20180729_105006</td>\n",
       "      <td>5d</td>\n",
       "      <td>4.08087</td>\n",
       "      <td>3.18270</td>\n",
       "    </tr>\n",
       "    <tr>\n",
       "      <th>3</th>\n",
       "      <td>v05_RF_20180729_121842</td>\n",
       "      <td>5</td>\n",
       "      <td>3.97253</td>\n",
       "      <td>3.03235</td>\n",
       "    </tr>\n",
       "    <tr>\n",
       "      <th>4</th>\n",
       "      <td>v05_RF_20180729_134145</td>\n",
       "      <td>5a</td>\n",
       "      <td>4.02120</td>\n",
       "      <td>3.03621</td>\n",
       "    </tr>\n",
       "  </tbody>\n",
       "</table>\n",
       "</div>"
      ],
      "text/plain": [
       "                    model model_id  validation_score  leaderboard_score\n",
       "0  v05_RF_20180729_103655       5b           4.34489            3.49286\n",
       "1  v05_RF_20180729_103916       5c           4.24250            3.40201\n",
       "2  v05_RF_20180729_105006       5d           4.08087            3.18270\n",
       "3  v05_RF_20180729_121842        5           3.97253            3.03235\n",
       "4  v05_RF_20180729_134145       5a           4.02120            3.03621"
      ]
     },
     "execution_count": 5,
     "metadata": {},
     "output_type": "execute_result"
    }
   ],
   "source": [
    "score_df = pd.DataFrame(score_dict)\n",
    "score_df"
   ]
  },
  {
   "cell_type": "code",
   "execution_count": 7,
   "metadata": {},
   "outputs": [
    {
     "data": {
      "image/png": "[encoded data removed]",
      "text/plain": [
       "<Figure size 576x432 with 1 Axes>"
      ]
     },
     "metadata": {},
     "output_type": "display_data"
    }
   ],
   "source": [
    "fig, ax = plt.subplots(figsize=(8,6))\n",
    "ax.set_xlim([2.9,3.6])\n",
    "ax.set_ylim([3.8,4.4])\n",
    "ax.scatter(score_df.leaderboard_score, score_df.validation_score)\n",
    "\n",
    "for i, txt in enumerate(score_df.model_id):\n",
    "    ax.annotate(txt, (score_df.leaderboard_score[i], score_df.validation_score[i]))"
   ]
  },
  {
   "cell_type": "code",
   "execution_count": null,
   "metadata": {},
   "outputs": [],
   "source": []
  },
  {
   "cell_type": "code",
   "execution_count": null,
   "metadata": {},
   "outputs": [],
   "source": []
  }
 ],
 "metadata": {
  "kernelspec": {
   "display_name": "Python 3",
   "language": "python",
   "name": "python3"
  },
  "language_info": {
   "codemirror_mode": {
    "name": "ipython",
    "version": 3
   },
   "file_extension": ".py",
   "mimetype": "text/x-python",
   "name": "python",
   "nbconvert_exporter": "python",
   "pygments_lexer": "ipython3",
   "version": "3.6.4"
  },
  "toc": {
   "base_numbering": 1,
   "nav_menu": {},
   "number_sections": true,
   "sideBar": true,
   "skip_h1_title": false,
   "title_cell": "Table of Contents",
   "title_sidebar": "Contents",
   "toc_cell": false,
   "toc_position": {},
   "toc_section_display": true,
   "toc_window_display": false
  }
 },
 "nbformat": 4,
 "nbformat_minor": 2
}
