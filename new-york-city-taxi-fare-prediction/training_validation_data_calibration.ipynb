{
 "cells": [
  {
   "cell_type": "markdown",
   "metadata": {},
   "source": [
    "# new-york-city-taxi-fare-prediction_v01_RF"
   ]
  },
  {
   "cell_type": "raw",
   "metadata": {},
   "source": [
    "This model uses only first 10 million rows. \n",
    "After data cleaning and removing rows, we take the last 10,000 rows to be used for validation.\n",
    "set_rf_samples(100_000) - no randomization?\n",
    "\n",
    "\n",
    "Training data and validation data is reproductible. \n",
    "Model and scores reproducible"
   ]
  },
  {
   "cell_type": "raw",
   "metadata": {},
   "source": [
    "v01_RF_20180726_163311 - 3.31023"
   ]
  },
  {
   "cell_type": "markdown",
   "metadata": {},
   "source": [
    "# new-york-city-taxi-fare-prediction_v02_RF"
   ]
  },
  {
   "cell_type": "raw",
   "metadata": {},
   "source": [
    "This model loads all the 55 million rows.\n",
    "After data cleaning and removing rows, we take the last 10,000 rows to be used for validation.\n",
    "\n",
    "A subsample is obtained from the 55 million rows.\n",
    "- v02_RF_20180726_205258 and v02_RF_20180727_110122 uses 1 million rows\n",
    "- v02_RF_20180726_212653 uses 5 million rows\n",
    "\n",
    "Validation data is reproducible. Hence validation score reproducible with same model.\n",
    "\n",
    "Training data not reproducible\n",
    "proc_df with subset is used which produced randomized training data.\n",
    "\n",
    "Models not reproducible."
   ]
  },
  {
   "cell_type": "raw",
   "metadata": {},
   "source": [
    "v02_RF_20180726_205258 - 3.21712 (1 mil subsample old)\n",
    "v02_RF_20180726_212653 - 3.14377 (5 mil subsample)\n",
    "v02_RF_20180727_110122 - 3.24565 (1 mil subsmaple)\n",
    "\n",
    "* v02_RF_20180726_212653 model not saved to save space. v03 also uses 5 million subsample and has higher Kaggle score."
   ]
  },
  {
   "cell_type": "markdown",
   "metadata": {},
   "source": [
    "# new-york-city-taxi-fare-prediction_v03_RF"
   ]
  },
  {
   "cell_type": "raw",
   "metadata": {},
   "source": [
    "This model loads all the 55 million rows.\n",
    "After data cleaning and removing rows, we take the last 10,000 rows to be used for validation.\n",
    "\n",
    "A 5 million subsample is obtained from the 55 million rows.\n",
    "\n",
    "Validation data is reproducible. Hence validation score reproducible with same model.\n",
    "\n",
    "Training data not reproducible\n",
    "proc_df with subset is used which produced randomized training data.\n",
    "\n",
    "Model not reproducible."
   ]
  },
  {
   "cell_type": "raw",
   "metadata": {},
   "source": [
    "v03_RF_20180727_115750 - 3.13404"
   ]
  },
  {
   "cell_type": "code",
   "execution_count": null,
   "metadata": {},
   "outputs": [],
   "source": []
  },
  {
   "cell_type": "code",
   "execution_count": null,
   "metadata": {},
   "outputs": [],
   "source": []
  },
  {
   "cell_type": "code",
   "execution_count": null,
   "metadata": {},
   "outputs": [],
   "source": []
  }
 ],
 "metadata": {
  "kernelspec": {
   "display_name": "Python 3",
   "language": "python",
   "name": "python3"
  },
  "language_info": {
   "codemirror_mode": {
    "name": "ipython",
    "version": 3
   },
   "file_extension": ".py",
   "mimetype": "text/x-python",
   "name": "python",
   "nbconvert_exporter": "python",
   "pygments_lexer": "ipython3",
   "version": "3.6.4"
  },
  "toc": {
   "base_numbering": 1,
   "nav_menu": {},
   "number_sections": true,
   "sideBar": true,
   "skip_h1_title": false,
   "title_cell": "Table of Contents",
   "title_sidebar": "Contents",
   "toc_cell": false,
   "toc_position": {},
   "toc_section_display": true,
   "toc_window_display": false
  }
 },
 "nbformat": 4,
 "nbformat_minor": 2
}
