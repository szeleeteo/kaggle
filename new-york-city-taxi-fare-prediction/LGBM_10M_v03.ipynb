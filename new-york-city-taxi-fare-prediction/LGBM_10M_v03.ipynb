{
 "cells": [
  {
   "cell_type": "code",
   "execution_count": 1,
   "metadata": {
    "_uuid": "6a8d3fef0dcca3c674dc42a01c12b7bc3a0c2aca"
   },
   "outputs": [],
   "source": [
    "%matplotlib inline\n",
    "%reload_ext autoreload\n",
    "%autoreload 2"
   ]
  },
  {
   "cell_type": "code",
   "execution_count": 2,
   "metadata": {
    "_uuid": "e9a891959e21036e2abcc9f79b78290ec58b8291"
   },
   "outputs": [],
   "source": [
    "import numpy as np \n",
    "import pandas as pd\n",
    "import matplotlib.pyplot as plt"
   ]
  },
  {
   "cell_type": "code",
   "execution_count": 3,
   "metadata": {
    "_uuid": "32b1fe03ade53015f6783d6f76c68c1ba841685e"
   },
   "outputs": [],
   "source": [
    "import lightgbm as lgbm\n",
    "from sklearn import metrics\n",
    "from sklearn.metrics import mean_squared_error\n",
    "from sklearn.model_selection import KFold, train_test_split"
   ]
  },
  {
   "cell_type": "code",
   "execution_count": 4,
   "metadata": {
    "_cell_guid": "b1076dfc-b9ad-4769-8c92-a6c4dae69d19",
    "_uuid": "8f2839f25d086af736a60e9eeb907d3b93b6e0e5"
   },
   "outputs": [],
   "source": [
    "TRAIN_FEATHER = 'tmp/taxi-train-v10-Airport'\n",
    "TEST_FEATHER = 'tmp/taxi-test-v10-Airport'\n",
    "SUBM_CSV = 'data/nyc-taxi/sample_submission.csv'\n",
    "NSAMPLES = 10_000_000\n",
    "SEED = 1000\n",
    "ITERATIONS = 10"
   ]
  },
  {
   "cell_type": "code",
   "execution_count": 5,
   "metadata": {
    "_uuid": "697e9acf296cdfedc90d592493c5184e875d5f2d"
   },
   "outputs": [],
   "source": [
    "train_df = pd.read_feather(TRAIN_FEATHER)\n",
    "test_df = pd.read_feather(TEST_FEATHER)\n",
    "subm_df = pd.read_csv(SUBM_CSV, index_col='key')"
   ]
  },
  {
   "cell_type": "code",
   "execution_count": 6,
   "metadata": {
    "_uuid": "e5102a30dbb35f06e35bdea8592b741ceb5c55ac"
   },
   "outputs": [
    {
     "data": {
      "text/plain": [
       "((54075311, 24), (9914, 23))"
      ]
     },
     "execution_count": 6,
     "metadata": {},
     "output_type": "execute_result"
    }
   ],
   "source": [
    "train_df.shape, test_df.shape"
   ]
  },
  {
   "cell_type": "markdown",
   "metadata": {
    "_uuid": "c68833e7d1151f75db5100c12cd02c30103d1ee0",
    "collapsed": true
   },
   "source": [
    "# LGBM"
   ]
  },
  {
   "cell_type": "code",
   "execution_count": 7,
   "metadata": {
    "_uuid": "87666ffd1c50913abe945539affc29fcd9a03d3b"
   },
   "outputs": [],
   "source": [
    "lgbm_params = {\n",
    "    'task': 'train',\n",
    "    'boosting_type': 'gbdt',\n",
    "    'objective': 'regression',\n",
    "    'metric': 'rmse',\n",
    "    'learning_rate': 0.02,       # 0.1\n",
    "    'feature_fraction': 0.7,     # 1.0\n",
    "    'bagging_fraction': 0.7,     # 1.0\n",
    "    'bagging_freq': 5,           # 0\n",
    "#     'max_bin': 155,              # 255\n",
    "#     'num_leaves': 31,            # 31\n",
    "}"
   ]
  },
  {
   "cell_type": "code",
   "execution_count": 8,
   "metadata": {
    "_uuid": "d81edfecdbf373311d810193f0d2db975e467068"
   },
   "outputs": [
    {
     "name": "stdout",
     "output_type": "stream",
     "text": [
      "Iteration 1\n",
      "Training until validation scores don't improve for 125 rounds.\n",
      "[500]\tvalidation's rmse: 3.47092\n",
      "[1000]\tvalidation's rmse: 3.37713\n",
      "[1500]\tvalidation's rmse: 3.33725\n",
      "[2000]\tvalidation's rmse: 3.314\n",
      "[2500]\tvalidation's rmse: 3.29586\n",
      "[3000]\tvalidation's rmse: 3.28208\n",
      "[3500]\tvalidation's rmse: 3.27251\n",
      "[4000]\tvalidation's rmse: 3.26564\n",
      "[4500]\tvalidation's rmse: 3.25881\n",
      "[5000]\tvalidation's rmse: 3.25362\n",
      "Did not meet early stopping. Best iteration is:\n",
      "[5000]\tvalidation's rmse: 3.25362\n",
      "Iteration 2\n",
      "Training until validation scores don't improve for 125 rounds.\n",
      "[500]\tvalidation's rmse: 3.66164\n",
      "[1000]\tvalidation's rmse: 3.56765\n",
      "[1500]\tvalidation's rmse: 3.52476\n",
      "[2000]\tvalidation's rmse: 3.49678\n",
      "[2500]\tvalidation's rmse: 3.47904\n",
      "[3000]\tvalidation's rmse: 3.46675\n",
      "[3500]\tvalidation's rmse: 3.45711\n",
      "[4000]\tvalidation's rmse: 3.44927\n",
      "[4500]\tvalidation's rmse: 3.44443\n",
      "[5000]\tvalidation's rmse: 3.43834\n",
      "Did not meet early stopping. Best iteration is:\n",
      "[4999]\tvalidation's rmse: 3.4383\n",
      "Iteration 3\n",
      "Training until validation scores don't improve for 125 rounds.\n",
      "[500]\tvalidation's rmse: 3.69784\n",
      "[1000]\tvalidation's rmse: 3.5998\n",
      "[1500]\tvalidation's rmse: 3.5588\n",
      "[2000]\tvalidation's rmse: 3.53233\n",
      "[2500]\tvalidation's rmse: 3.51498\n",
      "[3000]\tvalidation's rmse: 3.50256\n",
      "[3500]\tvalidation's rmse: 3.49286\n",
      "[4000]\tvalidation's rmse: 3.48506\n",
      "[4500]\tvalidation's rmse: 3.4785\n",
      "[5000]\tvalidation's rmse: 3.4748\n",
      "Did not meet early stopping. Best iteration is:\n",
      "[4978]\tvalidation's rmse: 3.47477\n",
      "Iteration 4\n",
      "Training until validation scores don't improve for 125 rounds.\n",
      "[500]\tvalidation's rmse: 3.45139\n",
      "[1000]\tvalidation's rmse: 3.3505\n",
      "[1500]\tvalidation's rmse: 3.30228\n",
      "[2000]\tvalidation's rmse: 3.27557\n",
      "[2500]\tvalidation's rmse: 3.25853\n",
      "[3000]\tvalidation's rmse: 3.24538\n",
      "[3500]\tvalidation's rmse: 3.23706\n",
      "[4000]\tvalidation's rmse: 3.2264\n",
      "[4500]\tvalidation's rmse: 3.21948\n",
      "[5000]\tvalidation's rmse: 3.21428\n",
      "Did not meet early stopping. Best iteration is:\n",
      "[4988]\tvalidation's rmse: 3.21427\n",
      "Iteration 5\n",
      "Training until validation scores don't improve for 125 rounds.\n",
      "[500]\tvalidation's rmse: 3.39264\n",
      "[1000]\tvalidation's rmse: 3.29574\n",
      "[1500]\tvalidation's rmse: 3.25129\n",
      "[2000]\tvalidation's rmse: 3.22528\n",
      "[2500]\tvalidation's rmse: 3.20444\n",
      "[3000]\tvalidation's rmse: 3.19052\n",
      "[3500]\tvalidation's rmse: 3.18069\n",
      "[4000]\tvalidation's rmse: 3.17115\n",
      "[4500]\tvalidation's rmse: 3.16395\n",
      "[5000]\tvalidation's rmse: 3.15611\n",
      "Did not meet early stopping. Best iteration is:\n",
      "[5000]\tvalidation's rmse: 3.15611\n",
      "Iteration 6\n",
      "Training until validation scores don't improve for 125 rounds.\n",
      "[500]\tvalidation's rmse: 3.54803\n",
      "[1000]\tvalidation's rmse: 3.45113\n",
      "[1500]\tvalidation's rmse: 3.40887\n"
     ]
    },
    {
     "ename": "KeyboardInterrupt",
     "evalue": "",
     "output_type": "error",
     "traceback": [
      "\u001b[1;31m---------------------------------------------------------------------------\u001b[0m",
      "\u001b[1;31mKeyboardInterrupt\u001b[0m                         Traceback (most recent call last)",
      "\u001b[1;32m<ipython-input-8-16f42873e9f0>\u001b[0m in \u001b[0;36m<module>\u001b[1;34m()\u001b[0m\n\u001b[0;32m     24\u001b[0m         \u001b[0mnum_boost_round\u001b[0m\u001b[1;33m=\u001b[0m\u001b[1;36m5000\u001b[0m\u001b[1;33m,\u001b[0m\u001b[1;33m\u001b[0m\u001b[0m\n\u001b[0;32m     25\u001b[0m         \u001b[0mearly_stopping_rounds\u001b[0m\u001b[1;33m=\u001b[0m\u001b[1;36m125\u001b[0m\u001b[1;33m,\u001b[0m\u001b[1;33m\u001b[0m\u001b[0m\n\u001b[1;32m---> 26\u001b[1;33m         \u001b[0mverbose_eval\u001b[0m\u001b[1;33m=\u001b[0m\u001b[1;36m500\u001b[0m\u001b[1;33m\u001b[0m\u001b[0m\n\u001b[0m\u001b[0;32m     27\u001b[0m     )\n\u001b[0;32m     28\u001b[0m \u001b[1;33m\u001b[0m\u001b[0m\n",
      "\u001b[1;32m~\\Anaconda3\\envs\\tf\\lib\\site-packages\\lightgbm\\engine.py\u001b[0m in \u001b[0;36mtrain\u001b[1;34m(params, train_set, num_boost_round, valid_sets, valid_names, fobj, feval, init_model, feature_name, categorical_feature, early_stopping_rounds, evals_result, verbose_eval, learning_rates, keep_training_booster, callbacks)\u001b[0m\n\u001b[0;32m    202\u001b[0m                                     evaluation_result_list=None))\n\u001b[0;32m    203\u001b[0m \u001b[1;33m\u001b[0m\u001b[0m\n\u001b[1;32m--> 204\u001b[1;33m         \u001b[0mbooster\u001b[0m\u001b[1;33m.\u001b[0m\u001b[0mupdate\u001b[0m\u001b[1;33m(\u001b[0m\u001b[0mfobj\u001b[0m\u001b[1;33m=\u001b[0m\u001b[0mfobj\u001b[0m\u001b[1;33m)\u001b[0m\u001b[1;33m\u001b[0m\u001b[0m\n\u001b[0m\u001b[0;32m    205\u001b[0m \u001b[1;33m\u001b[0m\u001b[0m\n\u001b[0;32m    206\u001b[0m         \u001b[0mevaluation_result_list\u001b[0m \u001b[1;33m=\u001b[0m \u001b[1;33m[\u001b[0m\u001b[1;33m]\u001b[0m\u001b[1;33m\u001b[0m\u001b[0m\n",
      "\u001b[1;32m~\\Anaconda3\\envs\\tf\\lib\\site-packages\\lightgbm\\basic.py\u001b[0m in \u001b[0;36mupdate\u001b[1;34m(self, train_set, fobj)\u001b[0m\n\u001b[0;32m   1526\u001b[0m             _safe_call(_LIB.LGBM_BoosterUpdateOneIter(\n\u001b[0;32m   1527\u001b[0m                 \u001b[0mself\u001b[0m\u001b[1;33m.\u001b[0m\u001b[0mhandle\u001b[0m\u001b[1;33m,\u001b[0m\u001b[1;33m\u001b[0m\u001b[0m\n\u001b[1;32m-> 1528\u001b[1;33m                 ctypes.byref(is_finished)))\n\u001b[0m\u001b[0;32m   1529\u001b[0m             \u001b[0mself\u001b[0m\u001b[1;33m.\u001b[0m\u001b[0m__is_predicted_cur_iter\u001b[0m \u001b[1;33m=\u001b[0m \u001b[1;33m[\u001b[0m\u001b[1;32mFalse\u001b[0m \u001b[1;32mfor\u001b[0m \u001b[0m_\u001b[0m \u001b[1;32min\u001b[0m \u001b[0mrange_\u001b[0m\u001b[1;33m(\u001b[0m\u001b[0mself\u001b[0m\u001b[1;33m.\u001b[0m\u001b[0m__num_dataset\u001b[0m\u001b[1;33m)\u001b[0m\u001b[1;33m]\u001b[0m\u001b[1;33m\u001b[0m\u001b[0m\n\u001b[0;32m   1530\u001b[0m             \u001b[1;32mreturn\u001b[0m \u001b[0mis_finished\u001b[0m\u001b[1;33m.\u001b[0m\u001b[0mvalue\u001b[0m \u001b[1;33m==\u001b[0m \u001b[1;36m1\u001b[0m\u001b[1;33m\u001b[0m\u001b[0m\n",
      "\u001b[1;31mKeyboardInterrupt\u001b[0m: "
     ]
    }
   ],
   "source": [
    "best_val_lst = []\n",
    "test_pred_lst = []\n",
    "\n",
    "for i in range(ITERATIONS):\n",
    "    i += 1\n",
    "    print('Iteration', i)\n",
    "\n",
    "    train = train_df.sample(NSAMPLES, random_state=SEED+i)\n",
    "    y = train.fare_amount.copy()\n",
    "    train = train[test_df.columns]\n",
    "\n",
    "    x_train, x_val, y_train, y_val = train_test_split(train, y, random_state=SEED+i, test_size=0.01)\n",
    "\n",
    "    dtrain = lgbm.Dataset(x_train, label=y_train, free_raw_data=False)\n",
    "    dval = lgbm.Dataset(x_val, label=y_val, free_raw_data=False)\n",
    "    dtrain.construct()\n",
    "    dval.construct()\n",
    "\n",
    "    model = lgbm.train(\n",
    "        params=lgbm_params,\n",
    "        train_set=dtrain,\n",
    "        valid_sets=dval,\n",
    "        valid_names='validation',\n",
    "        num_boost_round=5000, \n",
    "        early_stopping_rounds=125,\n",
    "        verbose_eval=500\n",
    "    )\n",
    "\n",
    "    best_val_lst.append(model.best_score['validation']['rmse'])\n",
    "    test_pred_lst.append(model.predict(test_df))"
   ]
  },
  {
   "cell_type": "code",
   "execution_count": 9,
   "metadata": {},
   "outputs": [
    {
     "data": {
      "text/plain": [
       "3.3074136727540955"
      ]
     },
     "execution_count": 9,
     "metadata": {},
     "output_type": "execute_result"
    }
   ],
   "source": [
    "np.mean(best_val_lst)"
   ]
  },
  {
   "cell_type": "code",
   "execution_count": 10,
   "metadata": {},
   "outputs": [
    {
     "data": {
      "text/plain": [
       "[3.2536195071113494,\n",
       " 3.4383047240633853,\n",
       " 3.474767676112586,\n",
       " 3.2142679363149766,\n",
       " 3.156108520168179]"
      ]
     },
     "execution_count": 10,
     "metadata": {},
     "output_type": "execute_result"
    }
   ],
   "source": [
    "best_val_lst"
   ]
  },
  {
   "cell_type": "code",
   "execution_count": 12,
   "metadata": {},
   "outputs": [
    {
     "data": {
      "text/plain": [
       "array([0.2030135 , 0.19210883, 0.19009291, 0.20549895, 0.2092858 ])"
      ]
     },
     "execution_count": 12,
     "metadata": {},
     "output_type": "execute_result"
    }
   ],
   "source": [
    "scaled_weights =  np.sum(best_val_lst) / best_val_lst\n",
    "scaled_weights = scaled_weights / np.sum(scaled_weights)\n",
    "scaled_weights"
   ]
  },
  {
   "cell_type": "code",
   "execution_count": 14,
   "metadata": {},
   "outputs": [
    {
     "data": {
      "text/plain": [
       "array([[0.2030135 ],\n",
       "       [0.19210883],\n",
       "       [0.19009291],\n",
       "       [0.20549895],\n",
       "       [0.2092858 ]])"
      ]
     },
     "execution_count": 14,
     "metadata": {},
     "output_type": "execute_result"
    }
   ],
   "source": [
    "scaled_weights = scaled_weights.reshape(5,-1)\n",
    "scaled_weights"
   ]
  },
  {
   "cell_type": "code",
   "execution_count": 15,
   "metadata": {},
   "outputs": [
    {
     "data": {
      "text/plain": [
       "array([10.24107531, 11.46199007,  4.43339207, ..., 54.29173385,\n",
       "       20.10354866,  6.7579646 ])"
      ]
     },
     "execution_count": 15,
     "metadata": {},
     "output_type": "execute_result"
    }
   ],
   "source": [
    "y_preds1 = np.sum(np.vstack([test_pred_lst])*scaled_weights, axis=0)\n",
    "y_preds1"
   ]
  },
  {
   "cell_type": "code",
   "execution_count": null,
   "metadata": {},
   "outputs": [],
   "source": []
  },
  {
   "cell_type": "code",
   "execution_count": null,
   "metadata": {},
   "outputs": [],
   "source": [
    "y_preds2 = np.mean(np.vstack([test_pred_lst]),axis=0)"
   ]
  },
  {
   "cell_type": "code",
   "execution_count": null,
   "metadata": {},
   "outputs": [],
   "source": [
    "y_preds2"
   ]
  },
  {
   "cell_type": "code",
   "execution_count": null,
   "metadata": {},
   "outputs": [],
   "source": [
    "def weighted_mean(preds, weights):\n",
    "    scaled_weights = weights/ np.sum(weights)\n",
    "    np.sum(np.vstack([preds])*scaled_weights, axis=0)"
   ]
  },
  {
   "cell_type": "code",
   "execution_count": null,
   "metadata": {},
   "outputs": [],
   "source": [
    "y_preds1 = weighted_mean(test_pred_lst,best_val_lst)"
   ]
  },
  {
   "cell_type": "code",
   "execution_count": 17,
   "metadata": {
    "_uuid": "4c574655ba4903afa3fdebe8df9b823051d4b649"
   },
   "outputs": [
    {
     "data": {
      "text/html": [
       "<div>\n",
       "<style scoped>\n",
       "    .dataframe tbody tr th:only-of-type {\n",
       "        vertical-align: middle;\n",
       "    }\n",
       "\n",
       "    .dataframe tbody tr th {\n",
       "        vertical-align: top;\n",
       "    }\n",
       "\n",
       "    .dataframe thead th {\n",
       "        text-align: right;\n",
       "    }\n",
       "</style>\n",
       "<table border=\"1\" class=\"dataframe\">\n",
       "  <thead>\n",
       "    <tr style=\"text-align: right;\">\n",
       "      <th></th>\n",
       "      <th>fare_amount</th>\n",
       "    </tr>\n",
       "    <tr>\n",
       "      <th>key</th>\n",
       "      <th></th>\n",
       "    </tr>\n",
       "  </thead>\n",
       "  <tbody>\n",
       "    <tr>\n",
       "      <th>2015-01-27 13:08:24.0000002</th>\n",
       "      <td>10.241075</td>\n",
       "    </tr>\n",
       "    <tr>\n",
       "      <th>2015-01-27 13:08:24.0000003</th>\n",
       "      <td>11.461990</td>\n",
       "    </tr>\n",
       "    <tr>\n",
       "      <th>2011-10-08 11:53:44.0000002</th>\n",
       "      <td>4.433392</td>\n",
       "    </tr>\n",
       "    <tr>\n",
       "      <th>2012-12-01 21:12:12.0000002</th>\n",
       "      <td>8.493902</td>\n",
       "    </tr>\n",
       "    <tr>\n",
       "      <th>2012-12-01 21:12:12.0000003</th>\n",
       "      <td>15.689723</td>\n",
       "    </tr>\n",
       "  </tbody>\n",
       "</table>\n",
       "</div>"
      ],
      "text/plain": [
       "                             fare_amount\n",
       "key                                     \n",
       "2015-01-27 13:08:24.0000002    10.241075\n",
       "2015-01-27 13:08:24.0000003    11.461990\n",
       "2011-10-08 11:53:44.0000002     4.433392\n",
       "2012-12-01 21:12:12.0000002     8.493902\n",
       "2012-12-01 21:12:12.0000003    15.689723"
      ]
     },
     "execution_count": 17,
     "metadata": {},
     "output_type": "execute_result"
    }
   ],
   "source": [
    "subm_df['fare_amount'] = y_preds1\n",
    "subm_df.to_csv('submissions/submission_weighted_mean.csv')\n",
    "subm_df.head()"
   ]
  },
  {
   "cell_type": "raw",
   "metadata": {},
   "source": [
    "Simple Mean: 2.99541\n",
    "Weighted Mean:  2.99523"
   ]
  }
 ],
 "metadata": {
  "kernelspec": {
   "display_name": "Python (tf)",
   "language": "python",
   "name": "tf"
  },
  "language_info": {
   "codemirror_mode": {
    "name": "ipython",
    "version": 3
   },
   "file_extension": ".py",
   "mimetype": "text/x-python",
   "name": "python",
   "nbconvert_exporter": "python",
   "pygments_lexer": "ipython3",
   "version": "3.6.6"
  },
  "toc": {
   "base_numbering": 1,
   "nav_menu": {},
   "number_sections": true,
   "sideBar": true,
   "skip_h1_title": false,
   "title_cell": "Table of Contents",
   "title_sidebar": "Contents",
   "toc_cell": false,
   "toc_position": {},
   "toc_section_display": true,
   "toc_window_display": false
  }
 },
 "nbformat": 4,
 "nbformat_minor": 1
}
