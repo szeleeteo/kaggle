{
 "cells": [
  {
   "cell_type": "markdown",
   "metadata": {
    "_uuid": "99b293a20c743b63163910f63e88534b0cd4c1a2"
   },
   "source": [
    "# Import libraries"
   ]
  },
  {
   "cell_type": "code",
   "execution_count": 1,
   "metadata": {
    "_uuid": "551dd0f5f0591f201f79747d9f05646ea59ef4a9"
   },
   "outputs": [],
   "source": [
    "%matplotlib inline\n",
    "%reload_ext autoreload\n",
    "%autoreload 2\n",
    "\n",
    "import numpy as np \n",
    "import pandas as pd \n",
    "import matplotlib.pyplot as plt\n",
    "import os"
   ]
  },
  {
   "cell_type": "code",
   "execution_count": 2,
   "metadata": {},
   "outputs": [],
   "source": [
    "PATH = \"data/nyc-taxi/\""
   ]
  },
  {
   "cell_type": "markdown",
   "metadata": {
    "_uuid": "a91ff740e9504da4e920e103ad53e1507b5f8334",
    "heading_collapsed": true
   },
   "source": [
    "# Load data feather format"
   ]
  },
  {
   "cell_type": "code",
   "execution_count": 3,
   "metadata": {
    "_uuid": "e38b2830e96801d5dbc423f84ac3e31753f77a16",
    "hidden": true
   },
   "outputs": [
    {
     "name": "stdout",
     "output_type": "stream",
     "text": [
      "Wall time: 3.05 s\n"
     ]
    }
   ],
   "source": [
    "%%time\n",
    "train_df = pd.read_feather('tmp/taxi-train-v6-chkpt5')"
   ]
  },
  {
   "cell_type": "code",
   "execution_count": 4,
   "metadata": {
    "_uuid": "5ca004f6f31534294ec1f0d94948b03d94de8392",
    "hidden": true
   },
   "outputs": [],
   "source": [
    "test_df = pd.read_feather('tmp/taxi-test-v6-chkpt5')"
   ]
  },
  {
   "cell_type": "code",
   "execution_count": 5,
   "metadata": {
    "hidden": true
   },
   "outputs": [
    {
     "data": {
      "text/plain": [
       "((54053965, 24), (9914, 23))"
      ]
     },
     "execution_count": 5,
     "metadata": {},
     "output_type": "execute_result"
    }
   ],
   "source": [
    "train_df.shape, test_df.shape"
   ]
  },
  {
   "cell_type": "code",
   "execution_count": 10,
   "metadata": {
    "hidden": true
   },
   "outputs": [],
   "source": [
    "train_df.year = (train_df.year+2000).astype('uint16')\n",
    "test_df.year = (test_df.year+2000).astype('uint16')"
   ]
  },
  {
   "cell_type": "code",
   "execution_count": 11,
   "metadata": {
    "_uuid": "5e6ef48e8505d5a754d928dcbe3f66744d9e1b9a",
    "hidden": true
   },
   "outputs": [
    {
     "data": {
      "text/html": [
       "<div>\n",
       "<style scoped>\n",
       "    .dataframe tbody tr th:only-of-type {\n",
       "        vertical-align: middle;\n",
       "    }\n",
       "\n",
       "    .dataframe tbody tr th {\n",
       "        vertical-align: top;\n",
       "    }\n",
       "\n",
       "    .dataframe thead th {\n",
       "        text-align: right;\n",
       "    }\n",
       "</style>\n",
       "<table border=\"1\" class=\"dataframe\">\n",
       "  <thead>\n",
       "    <tr style=\"text-align: right;\">\n",
       "      <th></th>\n",
       "      <th>fare_amount</th>\n",
       "      <th>pickup_longitude</th>\n",
       "      <th>pickup_latitude</th>\n",
       "      <th>dropoff_longitude</th>\n",
       "      <th>dropoff_latitude</th>\n",
       "      <th>passenger_count</th>\n",
       "      <th>longitude_distance</th>\n",
       "      <th>latitude_distance</th>\n",
       "      <th>simple_distance</th>\n",
       "      <th>year</th>\n",
       "      <th>...</th>\n",
       "      <th>hour</th>\n",
       "      <th>pickup_distance_to_nyc</th>\n",
       "      <th>dropoff_distance_to_nyc</th>\n",
       "      <th>pickup_distance_to_jfk</th>\n",
       "      <th>dropoff_distance_to_jfk</th>\n",
       "      <th>pickup_distance_to_ewr</th>\n",
       "      <th>dropoff_distance_to_ewr</th>\n",
       "      <th>pickup_distance_to_lgr</th>\n",
       "      <th>dropoff_distance_to_lgr</th>\n",
       "      <th>fare_increased</th>\n",
       "    </tr>\n",
       "  </thead>\n",
       "  <tbody>\n",
       "    <tr>\n",
       "      <th>0</th>\n",
       "      <td>4.5</td>\n",
       "      <td>-73.844315</td>\n",
       "      <td>40.721317</td>\n",
       "      <td>-73.841614</td>\n",
       "      <td>40.712276</td>\n",
       "      <td>1</td>\n",
       "      <td>0.002701</td>\n",
       "      <td>-0.009041</td>\n",
       "      <td>0.011742</td>\n",
       "      <td>2009</td>\n",
       "      <td>...</td>\n",
       "      <td>17</td>\n",
       "      <td>0.170201</td>\n",
       "      <td>0.164858</td>\n",
       "      <td>0.146182</td>\n",
       "      <td>0.134440</td>\n",
       "      <td>0.361934</td>\n",
       "      <td>0.355594</td>\n",
       "      <td>0.085261</td>\n",
       "      <td>0.097003</td>\n",
       "      <td>False</td>\n",
       "    </tr>\n",
       "    <tr>\n",
       "      <th>1</th>\n",
       "      <td>16.9</td>\n",
       "      <td>-74.016045</td>\n",
       "      <td>40.711304</td>\n",
       "      <td>-73.979271</td>\n",
       "      <td>40.782005</td>\n",
       "      <td>1</td>\n",
       "      <td>0.036774</td>\n",
       "      <td>0.070702</td>\n",
       "      <td>0.107475</td>\n",
       "      <td>2010</td>\n",
       "      <td>...</td>\n",
       "      <td>16</td>\n",
       "      <td>0.011543</td>\n",
       "      <td>0.095932</td>\n",
       "      <td>0.307898</td>\n",
       "      <td>0.341826</td>\n",
       "      <td>0.180190</td>\n",
       "      <td>0.287665</td>\n",
       "      <td>0.207702</td>\n",
       "      <td>0.110383</td>\n",
       "      <td>False</td>\n",
       "    </tr>\n",
       "    <tr>\n",
       "      <th>2</th>\n",
       "      <td>5.7</td>\n",
       "      <td>-73.982735</td>\n",
       "      <td>40.761269</td>\n",
       "      <td>-73.991241</td>\n",
       "      <td>40.750561</td>\n",
       "      <td>2</td>\n",
       "      <td>-0.008507</td>\n",
       "      <td>-0.010708</td>\n",
       "      <td>0.019215</td>\n",
       "      <td>2011</td>\n",
       "      <td>...</td>\n",
       "      <td>0</td>\n",
       "      <td>0.071732</td>\n",
       "      <td>0.052517</td>\n",
       "      <td>0.324553</td>\n",
       "      <td>0.322352</td>\n",
       "      <td>0.263465</td>\n",
       "      <td>0.244250</td>\n",
       "      <td>0.124427</td>\n",
       "      <td>0.143642</td>\n",
       "      <td>False</td>\n",
       "    </tr>\n",
       "    <tr>\n",
       "      <th>3</th>\n",
       "      <td>7.7</td>\n",
       "      <td>-73.987129</td>\n",
       "      <td>40.733143</td>\n",
       "      <td>-73.991570</td>\n",
       "      <td>40.758091</td>\n",
       "      <td>1</td>\n",
       "      <td>-0.004440</td>\n",
       "      <td>0.024948</td>\n",
       "      <td>0.029388</td>\n",
       "      <td>2012</td>\n",
       "      <td>...</td>\n",
       "      <td>4</td>\n",
       "      <td>0.039212</td>\n",
       "      <td>0.059719</td>\n",
       "      <td>0.300822</td>\n",
       "      <td>0.330210</td>\n",
       "      <td>0.230945</td>\n",
       "      <td>0.251452</td>\n",
       "      <td>0.156947</td>\n",
       "      <td>0.136440</td>\n",
       "      <td>False</td>\n",
       "    </tr>\n",
       "    <tr>\n",
       "      <th>4</th>\n",
       "      <td>5.3</td>\n",
       "      <td>-73.968094</td>\n",
       "      <td>40.768009</td>\n",
       "      <td>-73.956657</td>\n",
       "      <td>40.783764</td>\n",
       "      <td>1</td>\n",
       "      <td>0.011436</td>\n",
       "      <td>0.015755</td>\n",
       "      <td>0.027191</td>\n",
       "      <td>2010</td>\n",
       "      <td>...</td>\n",
       "      <td>7</td>\n",
       "      <td>0.093113</td>\n",
       "      <td>0.120304</td>\n",
       "      <td>0.316653</td>\n",
       "      <td>0.320971</td>\n",
       "      <td>0.284846</td>\n",
       "      <td>0.312037</td>\n",
       "      <td>0.103046</td>\n",
       "      <td>0.089528</td>\n",
       "      <td>False</td>\n",
       "    </tr>\n",
       "  </tbody>\n",
       "</table>\n",
       "<p>5 rows × 24 columns</p>\n",
       "</div>"
      ],
      "text/plain": [
       "   fare_amount  pickup_longitude  pickup_latitude  dropoff_longitude  \\\n",
       "0          4.5        -73.844315        40.721317         -73.841614   \n",
       "1         16.9        -74.016045        40.711304         -73.979271   \n",
       "2          5.7        -73.982735        40.761269         -73.991241   \n",
       "3          7.7        -73.987129        40.733143         -73.991570   \n",
       "4          5.3        -73.968094        40.768009         -73.956657   \n",
       "\n",
       "   dropoff_latitude  passenger_count  longitude_distance  latitude_distance  \\\n",
       "0         40.712276                1            0.002701          -0.009041   \n",
       "1         40.782005                1            0.036774           0.070702   \n",
       "2         40.750561                2           -0.008507          -0.010708   \n",
       "3         40.758091                1           -0.004440           0.024948   \n",
       "4         40.783764                1            0.011436           0.015755   \n",
       "\n",
       "   simple_distance  year       ...        hour  pickup_distance_to_nyc  \\\n",
       "0         0.011742  2009       ...          17                0.170201   \n",
       "1         0.107475  2010       ...          16                0.011543   \n",
       "2         0.019215  2011       ...           0                0.071732   \n",
       "3         0.029388  2012       ...           4                0.039212   \n",
       "4         0.027191  2010       ...           7                0.093113   \n",
       "\n",
       "   dropoff_distance_to_nyc  pickup_distance_to_jfk  dropoff_distance_to_jfk  \\\n",
       "0                 0.164858                0.146182                 0.134440   \n",
       "1                 0.095932                0.307898                 0.341826   \n",
       "2                 0.052517                0.324553                 0.322352   \n",
       "3                 0.059719                0.300822                 0.330210   \n",
       "4                 0.120304                0.316653                 0.320971   \n",
       "\n",
       "   pickup_distance_to_ewr  dropoff_distance_to_ewr  pickup_distance_to_lgr  \\\n",
       "0                0.361934                 0.355594                0.085261   \n",
       "1                0.180190                 0.287665                0.207702   \n",
       "2                0.263465                 0.244250                0.124427   \n",
       "3                0.230945                 0.251452                0.156947   \n",
       "4                0.284846                 0.312037                0.103046   \n",
       "\n",
       "   dropoff_distance_to_lgr  fare_increased  \n",
       "0                 0.097003           False  \n",
       "1                 0.110383           False  \n",
       "2                 0.143642           False  \n",
       "3                 0.136440           False  \n",
       "4                 0.089528           False  \n",
       "\n",
       "[5 rows x 24 columns]"
      ]
     },
     "metadata": {},
     "output_type": "display_data"
    },
    {
     "data": {
      "text/html": [
       "<div>\n",
       "<style scoped>\n",
       "    .dataframe tbody tr th:only-of-type {\n",
       "        vertical-align: middle;\n",
       "    }\n",
       "\n",
       "    .dataframe tbody tr th {\n",
       "        vertical-align: top;\n",
       "    }\n",
       "\n",
       "    .dataframe thead th {\n",
       "        text-align: right;\n",
       "    }\n",
       "</style>\n",
       "<table border=\"1\" class=\"dataframe\">\n",
       "  <thead>\n",
       "    <tr style=\"text-align: right;\">\n",
       "      <th></th>\n",
       "      <th>fare_amount</th>\n",
       "      <th>pickup_longitude</th>\n",
       "      <th>pickup_latitude</th>\n",
       "      <th>dropoff_longitude</th>\n",
       "      <th>dropoff_latitude</th>\n",
       "      <th>passenger_count</th>\n",
       "      <th>longitude_distance</th>\n",
       "      <th>latitude_distance</th>\n",
       "      <th>simple_distance</th>\n",
       "      <th>year</th>\n",
       "      <th>...</th>\n",
       "      <th>hour</th>\n",
       "      <th>pickup_distance_to_nyc</th>\n",
       "      <th>dropoff_distance_to_nyc</th>\n",
       "      <th>pickup_distance_to_jfk</th>\n",
       "      <th>dropoff_distance_to_jfk</th>\n",
       "      <th>pickup_distance_to_ewr</th>\n",
       "      <th>dropoff_distance_to_ewr</th>\n",
       "      <th>pickup_distance_to_lgr</th>\n",
       "      <th>dropoff_distance_to_lgr</th>\n",
       "      <th>fare_increased</th>\n",
       "    </tr>\n",
       "  </thead>\n",
       "  <tbody>\n",
       "    <tr>\n",
       "      <th>54053960</th>\n",
       "      <td>14.0</td>\n",
       "      <td>-74.005272</td>\n",
       "      <td>40.740028</td>\n",
       "      <td>-73.963280</td>\n",
       "      <td>40.762554</td>\n",
       "      <td>1</td>\n",
       "      <td>0.041992</td>\n",
       "      <td>0.022526</td>\n",
       "      <td>0.064518</td>\n",
       "      <td>2014</td>\n",
       "      <td>...</td>\n",
       "      <td>3</td>\n",
       "      <td>0.027954</td>\n",
       "      <td>0.092472</td>\n",
       "      <td>0.325850</td>\n",
       "      <td>0.306384</td>\n",
       "      <td>0.219687</td>\n",
       "      <td>0.284205</td>\n",
       "      <td>0.168205</td>\n",
       "      <td>0.103687</td>\n",
       "      <td>True</td>\n",
       "    </tr>\n",
       "    <tr>\n",
       "      <th>54053961</th>\n",
       "      <td>4.2</td>\n",
       "      <td>-73.957787</td>\n",
       "      <td>40.765530</td>\n",
       "      <td>-73.951637</td>\n",
       "      <td>40.773960</td>\n",
       "      <td>1</td>\n",
       "      <td>0.006149</td>\n",
       "      <td>0.008430</td>\n",
       "      <td>0.014580</td>\n",
       "      <td>2009</td>\n",
       "      <td>...</td>\n",
       "      <td>20</td>\n",
       "      <td>0.100941</td>\n",
       "      <td>0.115521</td>\n",
       "      <td>0.303866</td>\n",
       "      <td>0.306147</td>\n",
       "      <td>0.292674</td>\n",
       "      <td>0.307254</td>\n",
       "      <td>0.095218</td>\n",
       "      <td>0.080638</td>\n",
       "      <td>False</td>\n",
       "    </tr>\n",
       "    <tr>\n",
       "      <th>54053962</th>\n",
       "      <td>14.1</td>\n",
       "      <td>-73.970505</td>\n",
       "      <td>40.752323</td>\n",
       "      <td>-73.960541</td>\n",
       "      <td>40.797340</td>\n",
       "      <td>1</td>\n",
       "      <td>0.009964</td>\n",
       "      <td>0.045017</td>\n",
       "      <td>0.054981</td>\n",
       "      <td>2011</td>\n",
       "      <td>...</td>\n",
       "      <td>22</td>\n",
       "      <td>0.075016</td>\n",
       "      <td>0.129998</td>\n",
       "      <td>0.303378</td>\n",
       "      <td>0.338431</td>\n",
       "      <td>0.266749</td>\n",
       "      <td>0.321731</td>\n",
       "      <td>0.121143</td>\n",
       "      <td>0.106988</td>\n",
       "      <td>False</td>\n",
       "    </tr>\n",
       "    <tr>\n",
       "      <th>54053963</th>\n",
       "      <td>28.9</td>\n",
       "      <td>-73.980904</td>\n",
       "      <td>40.764629</td>\n",
       "      <td>-73.870605</td>\n",
       "      <td>40.773964</td>\n",
       "      <td>1</td>\n",
       "      <td>0.110298</td>\n",
       "      <td>0.009335</td>\n",
       "      <td>0.119633</td>\n",
       "      <td>2011</td>\n",
       "      <td>...</td>\n",
       "      <td>5</td>\n",
       "      <td>0.076924</td>\n",
       "      <td>0.196556</td>\n",
       "      <td>0.326083</td>\n",
       "      <td>0.225119</td>\n",
       "      <td>0.268657</td>\n",
       "      <td>0.388289</td>\n",
       "      <td>0.119235</td>\n",
       "      <td>0.006324</td>\n",
       "      <td>False</td>\n",
       "    </tr>\n",
       "    <tr>\n",
       "      <th>54053964</th>\n",
       "      <td>7.5</td>\n",
       "      <td>-73.969719</td>\n",
       "      <td>40.797668</td>\n",
       "      <td>-73.970886</td>\n",
       "      <td>40.783314</td>\n",
       "      <td>1</td>\n",
       "      <td>-0.001167</td>\n",
       "      <td>-0.014355</td>\n",
       "      <td>0.015522</td>\n",
       "      <td>2014</td>\n",
       "      <td>...</td>\n",
       "      <td>11</td>\n",
       "      <td>0.121148</td>\n",
       "      <td>0.105626</td>\n",
       "      <td>0.347937</td>\n",
       "      <td>0.334750</td>\n",
       "      <td>0.312881</td>\n",
       "      <td>0.297359</td>\n",
       "      <td>0.116494</td>\n",
       "      <td>0.103307</td>\n",
       "      <td>True</td>\n",
       "    </tr>\n",
       "  </tbody>\n",
       "</table>\n",
       "<p>5 rows × 24 columns</p>\n",
       "</div>"
      ],
      "text/plain": [
       "          fare_amount  pickup_longitude  pickup_latitude  dropoff_longitude  \\\n",
       "54053960         14.0        -74.005272        40.740028         -73.963280   \n",
       "54053961          4.2        -73.957787        40.765530         -73.951637   \n",
       "54053962         14.1        -73.970505        40.752323         -73.960541   \n",
       "54053963         28.9        -73.980904        40.764629         -73.870605   \n",
       "54053964          7.5        -73.969719        40.797668         -73.970886   \n",
       "\n",
       "          dropoff_latitude  passenger_count  longitude_distance  \\\n",
       "54053960         40.762554                1            0.041992   \n",
       "54053961         40.773960                1            0.006149   \n",
       "54053962         40.797340                1            0.009964   \n",
       "54053963         40.773964                1            0.110298   \n",
       "54053964         40.783314                1           -0.001167   \n",
       "\n",
       "          latitude_distance  simple_distance  year       ...        hour  \\\n",
       "54053960           0.022526         0.064518  2014       ...           3   \n",
       "54053961           0.008430         0.014580  2009       ...          20   \n",
       "54053962           0.045017         0.054981  2011       ...          22   \n",
       "54053963           0.009335         0.119633  2011       ...           5   \n",
       "54053964          -0.014355         0.015522  2014       ...          11   \n",
       "\n",
       "          pickup_distance_to_nyc  dropoff_distance_to_nyc  \\\n",
       "54053960                0.027954                 0.092472   \n",
       "54053961                0.100941                 0.115521   \n",
       "54053962                0.075016                 0.129998   \n",
       "54053963                0.076924                 0.196556   \n",
       "54053964                0.121148                 0.105626   \n",
       "\n",
       "          pickup_distance_to_jfk  dropoff_distance_to_jfk  \\\n",
       "54053960                0.325850                 0.306384   \n",
       "54053961                0.303866                 0.306147   \n",
       "54053962                0.303378                 0.338431   \n",
       "54053963                0.326083                 0.225119   \n",
       "54053964                0.347937                 0.334750   \n",
       "\n",
       "          pickup_distance_to_ewr  dropoff_distance_to_ewr  \\\n",
       "54053960                0.219687                 0.284205   \n",
       "54053961                0.292674                 0.307254   \n",
       "54053962                0.266749                 0.321731   \n",
       "54053963                0.268657                 0.388289   \n",
       "54053964                0.312881                 0.297359   \n",
       "\n",
       "          pickup_distance_to_lgr  dropoff_distance_to_lgr  fare_increased  \n",
       "54053960                0.168205                 0.103687            True  \n",
       "54053961                0.095218                 0.080638           False  \n",
       "54053962                0.121143                 0.106988           False  \n",
       "54053963                0.119235                 0.006324           False  \n",
       "54053964                0.116494                 0.103307            True  \n",
       "\n",
       "[5 rows x 24 columns]"
      ]
     },
     "metadata": {},
     "output_type": "display_data"
    }
   ],
   "source": [
    "display(train_df.head())\n",
    "display(train_df.tail())"
   ]
  },
  {
   "cell_type": "code",
   "execution_count": 12,
   "metadata": {
    "_uuid": "9f0dc9f951aa385d0dbcead92de4c17dce5dbbe7",
    "hidden": true
   },
   "outputs": [
    {
     "data": {
      "text/html": [
       "<div>\n",
       "<style scoped>\n",
       "    .dataframe tbody tr th:only-of-type {\n",
       "        vertical-align: middle;\n",
       "    }\n",
       "\n",
       "    .dataframe tbody tr th {\n",
       "        vertical-align: top;\n",
       "    }\n",
       "\n",
       "    .dataframe thead th {\n",
       "        text-align: right;\n",
       "    }\n",
       "</style>\n",
       "<table border=\"1\" class=\"dataframe\">\n",
       "  <thead>\n",
       "    <tr style=\"text-align: right;\">\n",
       "      <th></th>\n",
       "      <th>pickup_longitude</th>\n",
       "      <th>pickup_latitude</th>\n",
       "      <th>dropoff_longitude</th>\n",
       "      <th>dropoff_latitude</th>\n",
       "      <th>passenger_count</th>\n",
       "      <th>longitude_distance</th>\n",
       "      <th>latitude_distance</th>\n",
       "      <th>simple_distance</th>\n",
       "      <th>year</th>\n",
       "      <th>month</th>\n",
       "      <th>...</th>\n",
       "      <th>hour</th>\n",
       "      <th>pickup_distance_to_nyc</th>\n",
       "      <th>dropoff_distance_to_nyc</th>\n",
       "      <th>pickup_distance_to_jfk</th>\n",
       "      <th>dropoff_distance_to_jfk</th>\n",
       "      <th>pickup_distance_to_ewr</th>\n",
       "      <th>dropoff_distance_to_ewr</th>\n",
       "      <th>pickup_distance_to_lgr</th>\n",
       "      <th>dropoff_distance_to_lgr</th>\n",
       "      <th>fare_increased</th>\n",
       "    </tr>\n",
       "  </thead>\n",
       "  <tbody>\n",
       "    <tr>\n",
       "      <th>0</th>\n",
       "      <td>-73.973320</td>\n",
       "      <td>40.763805</td>\n",
       "      <td>-73.981430</td>\n",
       "      <td>40.743835</td>\n",
       "      <td>1</td>\n",
       "      <td>-0.008110</td>\n",
       "      <td>-0.019970</td>\n",
       "      <td>0.028080</td>\n",
       "      <td>2015</td>\n",
       "      <td>1</td>\n",
       "      <td>...</td>\n",
       "      <td>13</td>\n",
       "      <td>0.083683</td>\n",
       "      <td>0.055603</td>\n",
       "      <td>0.317677</td>\n",
       "      <td>0.305817</td>\n",
       "      <td>0.275417</td>\n",
       "      <td>0.247337</td>\n",
       "      <td>0.112480</td>\n",
       "      <td>0.140560</td>\n",
       "      <td>True</td>\n",
       "    </tr>\n",
       "    <tr>\n",
       "      <th>1</th>\n",
       "      <td>-73.986862</td>\n",
       "      <td>40.719383</td>\n",
       "      <td>-73.998886</td>\n",
       "      <td>40.739201</td>\n",
       "      <td>1</td>\n",
       "      <td>-0.012024</td>\n",
       "      <td>0.019817</td>\n",
       "      <td>0.031841</td>\n",
       "      <td>2015</td>\n",
       "      <td>1</td>\n",
       "      <td>...</td>\n",
       "      <td>13</td>\n",
       "      <td>0.025719</td>\n",
       "      <td>0.033512</td>\n",
       "      <td>0.286797</td>\n",
       "      <td>0.318638</td>\n",
       "      <td>0.217453</td>\n",
       "      <td>0.225246</td>\n",
       "      <td>0.170444</td>\n",
       "      <td>0.162651</td>\n",
       "      <td>True</td>\n",
       "    </tr>\n",
       "    <tr>\n",
       "      <th>2</th>\n",
       "      <td>-73.982521</td>\n",
       "      <td>40.751259</td>\n",
       "      <td>-73.979652</td>\n",
       "      <td>40.746140</td>\n",
       "      <td>1</td>\n",
       "      <td>0.002869</td>\n",
       "      <td>-0.005119</td>\n",
       "      <td>0.007988</td>\n",
       "      <td>2011</td>\n",
       "      <td>10</td>\n",
       "      <td>...</td>\n",
       "      <td>11</td>\n",
       "      <td>0.061935</td>\n",
       "      <td>0.059685</td>\n",
       "      <td>0.314331</td>\n",
       "      <td>0.306343</td>\n",
       "      <td>0.253670</td>\n",
       "      <td>0.251419</td>\n",
       "      <td>0.134228</td>\n",
       "      <td>0.136478</td>\n",
       "      <td>False</td>\n",
       "    </tr>\n",
       "    <tr>\n",
       "      <th>3</th>\n",
       "      <td>-73.981163</td>\n",
       "      <td>40.767807</td>\n",
       "      <td>-73.990448</td>\n",
       "      <td>40.751637</td>\n",
       "      <td>1</td>\n",
       "      <td>-0.009285</td>\n",
       "      <td>-0.016171</td>\n",
       "      <td>0.025455</td>\n",
       "      <td>2012</td>\n",
       "      <td>12</td>\n",
       "      <td>...</td>\n",
       "      <td>21</td>\n",
       "      <td>0.079842</td>\n",
       "      <td>0.054386</td>\n",
       "      <td>0.329521</td>\n",
       "      <td>0.322636</td>\n",
       "      <td>0.271576</td>\n",
       "      <td>0.246120</td>\n",
       "      <td>0.116322</td>\n",
       "      <td>0.141777</td>\n",
       "      <td>True</td>\n",
       "    </tr>\n",
       "    <tr>\n",
       "      <th>4</th>\n",
       "      <td>-73.966049</td>\n",
       "      <td>40.789776</td>\n",
       "      <td>-73.988564</td>\n",
       "      <td>40.744427</td>\n",
       "      <td>1</td>\n",
       "      <td>-0.022514</td>\n",
       "      <td>-0.045349</td>\n",
       "      <td>0.067863</td>\n",
       "      <td>2012</td>\n",
       "      <td>12</td>\n",
       "      <td>...</td>\n",
       "      <td>21</td>\n",
       "      <td>0.116924</td>\n",
       "      <td>0.049061</td>\n",
       "      <td>0.336376</td>\n",
       "      <td>0.313541</td>\n",
       "      <td>0.308659</td>\n",
       "      <td>0.240795</td>\n",
       "      <td>0.104935</td>\n",
       "      <td>0.147102</td>\n",
       "      <td>True</td>\n",
       "    </tr>\n",
       "  </tbody>\n",
       "</table>\n",
       "<p>5 rows × 23 columns</p>\n",
       "</div>"
      ],
      "text/plain": [
       "   pickup_longitude  pickup_latitude  dropoff_longitude  dropoff_latitude  \\\n",
       "0        -73.973320        40.763805         -73.981430         40.743835   \n",
       "1        -73.986862        40.719383         -73.998886         40.739201   \n",
       "2        -73.982521        40.751259         -73.979652         40.746140   \n",
       "3        -73.981163        40.767807         -73.990448         40.751637   \n",
       "4        -73.966049        40.789776         -73.988564         40.744427   \n",
       "\n",
       "   passenger_count  longitude_distance  latitude_distance  simple_distance  \\\n",
       "0                1           -0.008110          -0.019970         0.028080   \n",
       "1                1           -0.012024           0.019817         0.031841   \n",
       "2                1            0.002869          -0.005119         0.007988   \n",
       "3                1           -0.009285          -0.016171         0.025455   \n",
       "4                1           -0.022514          -0.045349         0.067863   \n",
       "\n",
       "   year  month       ...        hour  pickup_distance_to_nyc  \\\n",
       "0  2015      1       ...          13                0.083683   \n",
       "1  2015      1       ...          13                0.025719   \n",
       "2  2011     10       ...          11                0.061935   \n",
       "3  2012     12       ...          21                0.079842   \n",
       "4  2012     12       ...          21                0.116924   \n",
       "\n",
       "   dropoff_distance_to_nyc  pickup_distance_to_jfk  dropoff_distance_to_jfk  \\\n",
       "0                 0.055603                0.317677                 0.305817   \n",
       "1                 0.033512                0.286797                 0.318638   \n",
       "2                 0.059685                0.314331                 0.306343   \n",
       "3                 0.054386                0.329521                 0.322636   \n",
       "4                 0.049061                0.336376                 0.313541   \n",
       "\n",
       "   pickup_distance_to_ewr  dropoff_distance_to_ewr  pickup_distance_to_lgr  \\\n",
       "0                0.275417                 0.247337                0.112480   \n",
       "1                0.217453                 0.225246                0.170444   \n",
       "2                0.253670                 0.251419                0.134228   \n",
       "3                0.271576                 0.246120                0.116322   \n",
       "4                0.308659                 0.240795                0.104935   \n",
       "\n",
       "   dropoff_distance_to_lgr  fare_increased  \n",
       "0                 0.140560            True  \n",
       "1                 0.162651            True  \n",
       "2                 0.136478           False  \n",
       "3                 0.141777            True  \n",
       "4                 0.147102            True  \n",
       "\n",
       "[5 rows x 23 columns]"
      ]
     },
     "metadata": {},
     "output_type": "display_data"
    },
    {
     "data": {
      "text/html": [
       "<div>\n",
       "<style scoped>\n",
       "    .dataframe tbody tr th:only-of-type {\n",
       "        vertical-align: middle;\n",
       "    }\n",
       "\n",
       "    .dataframe tbody tr th {\n",
       "        vertical-align: top;\n",
       "    }\n",
       "\n",
       "    .dataframe thead th {\n",
       "        text-align: right;\n",
       "    }\n",
       "</style>\n",
       "<table border=\"1\" class=\"dataframe\">\n",
       "  <thead>\n",
       "    <tr style=\"text-align: right;\">\n",
       "      <th></th>\n",
       "      <th>pickup_longitude</th>\n",
       "      <th>pickup_latitude</th>\n",
       "      <th>dropoff_longitude</th>\n",
       "      <th>dropoff_latitude</th>\n",
       "      <th>passenger_count</th>\n",
       "      <th>longitude_distance</th>\n",
       "      <th>latitude_distance</th>\n",
       "      <th>simple_distance</th>\n",
       "      <th>year</th>\n",
       "      <th>month</th>\n",
       "      <th>...</th>\n",
       "      <th>hour</th>\n",
       "      <th>pickup_distance_to_nyc</th>\n",
       "      <th>dropoff_distance_to_nyc</th>\n",
       "      <th>pickup_distance_to_jfk</th>\n",
       "      <th>dropoff_distance_to_jfk</th>\n",
       "      <th>pickup_distance_to_ewr</th>\n",
       "      <th>dropoff_distance_to_ewr</th>\n",
       "      <th>pickup_distance_to_lgr</th>\n",
       "      <th>dropoff_distance_to_lgr</th>\n",
       "      <th>fare_increased</th>\n",
       "    </tr>\n",
       "  </thead>\n",
       "  <tbody>\n",
       "    <tr>\n",
       "      <th>9909</th>\n",
       "      <td>-73.968124</td>\n",
       "      <td>40.796997</td>\n",
       "      <td>-73.955643</td>\n",
       "      <td>40.780388</td>\n",
       "      <td>6</td>\n",
       "      <td>0.012482</td>\n",
       "      <td>-0.016609</td>\n",
       "      <td>0.029091</td>\n",
       "      <td>2015</td>\n",
       "      <td>5</td>\n",
       "      <td>...</td>\n",
       "      <td>12</td>\n",
       "      <td>0.122070</td>\n",
       "      <td>0.117943</td>\n",
       "      <td>0.345673</td>\n",
       "      <td>0.316582</td>\n",
       "      <td>0.313805</td>\n",
       "      <td>0.309677</td>\n",
       "      <td>0.114231</td>\n",
       "      <td>0.085140</td>\n",
       "      <td>True</td>\n",
       "    </tr>\n",
       "    <tr>\n",
       "      <th>9910</th>\n",
       "      <td>-73.945511</td>\n",
       "      <td>40.803600</td>\n",
       "      <td>-73.960213</td>\n",
       "      <td>40.776371</td>\n",
       "      <td>6</td>\n",
       "      <td>-0.014702</td>\n",
       "      <td>-0.027229</td>\n",
       "      <td>0.041931</td>\n",
       "      <td>2015</td>\n",
       "      <td>1</td>\n",
       "      <td>...</td>\n",
       "      <td>17</td>\n",
       "      <td>0.151287</td>\n",
       "      <td>0.109356</td>\n",
       "      <td>0.329662</td>\n",
       "      <td>0.317135</td>\n",
       "      <td>0.343021</td>\n",
       "      <td>0.301090</td>\n",
       "      <td>0.098221</td>\n",
       "      <td>0.086807</td>\n",
       "      <td>True</td>\n",
       "    </tr>\n",
       "    <tr>\n",
       "      <th>9911</th>\n",
       "      <td>-73.991600</td>\n",
       "      <td>40.726608</td>\n",
       "      <td>-73.789742</td>\n",
       "      <td>40.647011</td>\n",
       "      <td>6</td>\n",
       "      <td>0.201859</td>\n",
       "      <td>-0.079597</td>\n",
       "      <td>0.281456</td>\n",
       "      <td>2015</td>\n",
       "      <td>4</td>\n",
       "      <td>...</td>\n",
       "      <td>20</td>\n",
       "      <td>0.028206</td>\n",
       "      <td>0.281998</td>\n",
       "      <td>0.298759</td>\n",
       "      <td>0.017303</td>\n",
       "      <td>0.219940</td>\n",
       "      <td>0.427238</td>\n",
       "      <td>0.167957</td>\n",
       "      <td>0.214138</td>\n",
       "      <td>True</td>\n",
       "    </tr>\n",
       "    <tr>\n",
       "      <th>9912</th>\n",
       "      <td>-73.985573</td>\n",
       "      <td>40.735432</td>\n",
       "      <td>-73.939178</td>\n",
       "      <td>40.801731</td>\n",
       "      <td>6</td>\n",
       "      <td>0.046394</td>\n",
       "      <td>0.066299</td>\n",
       "      <td>0.112694</td>\n",
       "      <td>2015</td>\n",
       "      <td>1</td>\n",
       "      <td>...</td>\n",
       "      <td>1</td>\n",
       "      <td>0.043056</td>\n",
       "      <td>0.155750</td>\n",
       "      <td>0.301556</td>\n",
       "      <td>0.321461</td>\n",
       "      <td>0.234791</td>\n",
       "      <td>0.347485</td>\n",
       "      <td>0.153107</td>\n",
       "      <td>0.090019</td>\n",
       "      <td>True</td>\n",
       "    </tr>\n",
       "    <tr>\n",
       "      <th>9913</th>\n",
       "      <td>-73.988022</td>\n",
       "      <td>40.754070</td>\n",
       "      <td>-74.000282</td>\n",
       "      <td>40.759220</td>\n",
       "      <td>6</td>\n",
       "      <td>-0.012260</td>\n",
       "      <td>0.005150</td>\n",
       "      <td>0.017410</td>\n",
       "      <td>2015</td>\n",
       "      <td>1</td>\n",
       "      <td>...</td>\n",
       "      <td>14</td>\n",
       "      <td>0.059246</td>\n",
       "      <td>0.052135</td>\n",
       "      <td>0.322643</td>\n",
       "      <td>0.340054</td>\n",
       "      <td>0.250980</td>\n",
       "      <td>0.243870</td>\n",
       "      <td>0.136917</td>\n",
       "      <td>0.144028</td>\n",
       "      <td>True</td>\n",
       "    </tr>\n",
       "  </tbody>\n",
       "</table>\n",
       "<p>5 rows × 23 columns</p>\n",
       "</div>"
      ],
      "text/plain": [
       "      pickup_longitude  pickup_latitude  dropoff_longitude  dropoff_latitude  \\\n",
       "9909        -73.968124        40.796997         -73.955643         40.780388   \n",
       "9910        -73.945511        40.803600         -73.960213         40.776371   \n",
       "9911        -73.991600        40.726608         -73.789742         40.647011   \n",
       "9912        -73.985573        40.735432         -73.939178         40.801731   \n",
       "9913        -73.988022        40.754070         -74.000282         40.759220   \n",
       "\n",
       "      passenger_count  longitude_distance  latitude_distance  simple_distance  \\\n",
       "9909                6            0.012482          -0.016609         0.029091   \n",
       "9910                6           -0.014702          -0.027229         0.041931   \n",
       "9911                6            0.201859          -0.079597         0.281456   \n",
       "9912                6            0.046394           0.066299         0.112694   \n",
       "9913                6           -0.012260           0.005150         0.017410   \n",
       "\n",
       "      year  month       ...        hour  pickup_distance_to_nyc  \\\n",
       "9909  2015      5       ...          12                0.122070   \n",
       "9910  2015      1       ...          17                0.151287   \n",
       "9911  2015      4       ...          20                0.028206   \n",
       "9912  2015      1       ...           1                0.043056   \n",
       "9913  2015      1       ...          14                0.059246   \n",
       "\n",
       "      dropoff_distance_to_nyc  pickup_distance_to_jfk  \\\n",
       "9909                 0.117943                0.345673   \n",
       "9910                 0.109356                0.329662   \n",
       "9911                 0.281998                0.298759   \n",
       "9912                 0.155750                0.301556   \n",
       "9913                 0.052135                0.322643   \n",
       "\n",
       "      dropoff_distance_to_jfk  pickup_distance_to_ewr  \\\n",
       "9909                 0.316582                0.313805   \n",
       "9910                 0.317135                0.343021   \n",
       "9911                 0.017303                0.219940   \n",
       "9912                 0.321461                0.234791   \n",
       "9913                 0.340054                0.250980   \n",
       "\n",
       "      dropoff_distance_to_ewr  pickup_distance_to_lgr  \\\n",
       "9909                 0.309677                0.114231   \n",
       "9910                 0.301090                0.098221   \n",
       "9911                 0.427238                0.167957   \n",
       "9912                 0.347485                0.153107   \n",
       "9913                 0.243870                0.136917   \n",
       "\n",
       "      dropoff_distance_to_lgr  fare_increased  \n",
       "9909                 0.085140            True  \n",
       "9910                 0.086807            True  \n",
       "9911                 0.214138            True  \n",
       "9912                 0.090019            True  \n",
       "9913                 0.144028            True  \n",
       "\n",
       "[5 rows x 23 columns]"
      ]
     },
     "metadata": {},
     "output_type": "display_data"
    }
   ],
   "source": [
    "display(test_df.head())\n",
    "display(test_df.tail())"
   ]
  },
  {
   "cell_type": "markdown",
   "metadata": {
    "_uuid": "2eb4df0cb7545293445e4ba8a09757263d1e5644"
   },
   "source": [
    "# Group and aggregate by year-month"
   ]
  },
  {
   "cell_type": "code",
   "execution_count": 13,
   "metadata": {
    "_uuid": "90d598967462c14d3b4bd1d142389fcb2dacfca4"
   },
   "outputs": [],
   "source": [
    "# Group all training data rides by month+year combination and aggregate them by count, mean, median, min and max\n",
    "fare_grouped_df = train_df.fare_amount.groupby([train_df.year,train_df.month])\n",
    "\n",
    "fare_count_df = fare_grouped_df.count()\n",
    "fare_mean_df = fare_grouped_df.mean()\n",
    "fare_median_df = fare_grouped_df.median()\n",
    "fare_min_df = fare_grouped_df.min()\n",
    "fare_max_df = fare_grouped_df.max()"
   ]
  },
  {
   "cell_type": "code",
   "execution_count": 14,
   "metadata": {
    "_uuid": "22747d3771e6e7b4c7617799b370d9dc6db7a4e2"
   },
   "outputs": [],
   "source": [
    "# for drawing barchart, so we don't have to retype the following everytime\n",
    "def draw_barchart(df, title):\n",
    "    fig = plt.figure(figsize=(20, 4))\n",
    "    ax = fig.add_subplot(111)\n",
    "    df.plot(kind='bar')\n",
    "    ax.set_xlabel(\"(Year, Month)\")\n",
    "    plt.title(title)\n",
    "    plt.show()"
   ]
  },
  {
   "cell_type": "markdown",
   "metadata": {
    "_uuid": "909c3092a70f9c308e280b26099ca19be64e33a0"
   },
   "source": [
    "## Monthly ride count"
   ]
  },
  {
   "cell_type": "code",
   "execution_count": 15,
   "metadata": {
    "_uuid": "f13839adef1a722c9060d8af4384267406f9f426"
   },
   "outputs": [
    {
     "data": {
      "text/plain": [
       "count        78.000000\n",
       "mean     692999.551282\n",
       "std       45043.546655\n",
       "min      546378.000000\n",
       "25%      671778.500000\n",
       "50%      700111.500000\n",
       "75%      721763.750000\n",
       "max      772727.000000\n",
       "Name: fare_amount, dtype: float64"
      ]
     },
     "execution_count": 15,
     "metadata": {},
     "output_type": "execute_result"
    }
   ],
   "source": [
    " fare_count_df.describe()"
   ]
  },
  {
   "cell_type": "markdown",
   "metadata": {
    "_uuid": "62faa50cea6e4e64f925966b6f88fe7aa41833da"
   },
   "source": [
    "We also do the aggregate by count for test data, since we are only concern with the **count** of rides here, not the **fare**. We can then compare this with training data."
   ]
  },
  {
   "cell_type": "code",
   "execution_count": 19,
   "metadata": {
    "_uuid": "47aff5569da4e8f3d9ca0c2281b38b9fafa0fabf"
   },
   "outputs": [],
   "source": [
    "test_group_df = test_df.simple_distance.groupby([test_df.year,test_df.month]).count()"
   ]
  },
  {
   "cell_type": "code",
   "execution_count": 20,
   "metadata": {
    "_uuid": "8bd5e7aee07e5be39a550e62e867f3a062d1a47c"
   },
   "outputs": [
    {
     "data": {
      "image/png": "[encoded data removed]",
      "text/plain": [
       "<Figure size 1440x288 with 1 Axes>"
      ]
     },
     "metadata": {},
     "output_type": "display_data"
    },
    {
     "data": {
      "image/png": "[encoded data removed]",
      "text/plain": [
       "<Figure size 1440x288 with 1 Axes>"
      ]
     },
     "metadata": {},
     "output_type": "display_data"
    }
   ],
   "source": [
    "draw_barchart(fare_count_df, 'Monthly total rides of training data from January 2009 to June 2015')\n",
    "draw_barchart(test_group_df, 'Monthly total rides of test data from January 2009 to June 2015')"
   ]
  },
  {
   "cell_type": "markdown",
   "metadata": {
    "_uuid": "46adcd9e3e23f5594d4d691c28e266aa0ad7e000"
   },
   "source": [
    "While training data barchart has a relative uniform monthly total rides, the test data monthly total rides are not spread evenly, with some random huge spikes. We might need to consider this when we create our validation set."
   ]
  },
  {
   "cell_type": "markdown",
   "metadata": {
    "_uuid": "292bd0baeb1cea833394c2903e2b6443f36a05cf",
    "heading_collapsed": true
   },
   "source": [
    "## Monthly mean fare"
   ]
  },
  {
   "cell_type": "code",
   "execution_count": 21,
   "metadata": {
    "_uuid": "565f6e15edd2d82d826de00201f4a8dbd4526ebd",
    "hidden": true
   },
   "outputs": [
    {
     "data": {
      "text/plain": [
       "count    78.000000\n",
       "mean     11.342658\n",
       "std       1.290332\n",
       "min       9.569753\n",
       "25%      10.185231\n",
       "50%      10.641822\n",
       "75%      12.682742\n",
       "max      13.547895\n",
       "Name: fare_amount, dtype: float64"
      ]
     },
     "execution_count": 21,
     "metadata": {},
     "output_type": "execute_result"
    }
   ],
   "source": [
    "fare_mean_df.describe()"
   ]
  },
  {
   "cell_type": "code",
   "execution_count": 22,
   "metadata": {
    "_uuid": "cebe9ae13ae81afaabef7498d1cedbdf79fbe0dd",
    "hidden": true
   },
   "outputs": [
    {
     "data": {
      "image/png": "[encoded data removed]",
      "text/plain": [
       "<Figure size 1440x288 with 1 Axes>"
      ]
     },
     "metadata": {},
     "output_type": "display_data"
    }
   ],
   "source": [
    "draw_barchart(fare_mean_df,'Monthly mean of fare from January 2009 to June 2015')"
   ]
  },
  {
   "cell_type": "markdown",
   "metadata": {
    "_uuid": "dbd28cf44a9a2b0b93eb8b4bb8dafa17259446e1",
    "hidden": true
   },
   "source": [
    "From January 2009 until September 2012, the monthly mean fare is quite uniform. \n",
    "\n",
    "There is a gradual increase from January until December before it dropped again on January of following year.\n",
    "\n",
    "However, there is a big jump from October 2012 onwards. The monthly mean fare increased by about \\$3 during this period. Probably a price increase at this point onwards.\n",
    "\n",
    "The pattern where the monthly mean fare drops from December to January remains true during this period."
   ]
  },
  {
   "cell_type": "markdown",
   "metadata": {
    "_uuid": "5fda4518db03839de0a42c3b95495bdd4df6542c",
    "heading_collapsed": true
   },
   "source": [
    "## Monthly median fare"
   ]
  },
  {
   "cell_type": "code",
   "execution_count": 23,
   "metadata": {
    "_uuid": "87635baac1a96ee87c936f190bf7519cd80b7ba2",
    "hidden": true
   },
   "outputs": [
    {
     "data": {
      "text/plain": [
       "count    78.000000\n",
       "mean      8.487180\n",
       "std       0.847205\n",
       "min       7.300000\n",
       "25%       7.700000\n",
       "50%       8.100000\n",
       "75%       9.500000\n",
       "max      10.000000\n",
       "Name: fare_amount, dtype: float64"
      ]
     },
     "execution_count": 23,
     "metadata": {},
     "output_type": "execute_result"
    }
   ],
   "source": [
    "fare_median_df.describe()"
   ]
  },
  {
   "cell_type": "code",
   "execution_count": 24,
   "metadata": {
    "_uuid": "56f365a5e5b4481a4f8d5fb608192268c5ab00e6",
    "hidden": true
   },
   "outputs": [
    {
     "data": {
      "image/png": "[encoded data removed]",
      "text/plain": [
       "<Figure size 1440x288 with 1 Axes>"
      ]
     },
     "metadata": {},
     "output_type": "display_data"
    }
   ],
   "source": [
    "draw_barchart(fare_median_df,'Monthly median of fares from January 2009 to June 2015')"
   ]
  },
  {
   "cell_type": "markdown",
   "metadata": {
    "_uuid": "169562b992562b31766d675c5af2a3a75eeae020",
    "hidden": true
   },
   "source": [
    "Here we can see the median is relatively uniform from January 2009 to September 2012\n",
    "\n",
    "Not surprisingly, as we've seen in the monthly mean fare bar chart, there is a big jump from October 2012 onwards. \n",
    "\n",
    "The monthly median fare increased permanently by about almost \\$2.00 during this period of September 2012 to June 2015.\n",
    "\n",
    "A quick Google search verifies this:\n",
    "\n",
    "https://www.nytimes.com/2012/09/04/nyregion/new-york-taxis-to-start-charging-increased-rates.html\n",
    "\n",
    "One idea is we can create a boolean column based on the month and year to indicate whether it is before or after the price increase. This will help our model to learn better."
   ]
  },
  {
   "cell_type": "markdown",
   "metadata": {
    "_uuid": "397719e83636fe301b7fc748aa50a0d0dd7c7ee7",
    "heading_collapsed": true
   },
   "source": [
    "## Monthly minimum fare"
   ]
  },
  {
   "cell_type": "code",
   "execution_count": 25,
   "metadata": {
    "_uuid": "72d879aa078c4f8b684ee37ab14821bdaed31302",
    "hidden": true
   },
   "outputs": [
    {
     "data": {
      "text/plain": [
       "count    78.0\n",
       "mean      2.5\n",
       "std       0.0\n",
       "min       2.5\n",
       "25%       2.5\n",
       "50%       2.5\n",
       "75%       2.5\n",
       "max       2.5\n",
       "Name: fare_amount, dtype: float64"
      ]
     },
     "execution_count": 25,
     "metadata": {},
     "output_type": "execute_result"
    }
   ],
   "source": [
    "fare_min_df.describe()"
   ]
  },
  {
   "cell_type": "markdown",
   "metadata": {
    "_uuid": "6315965c2f2679a9fd34d93d0cde2b33d7d4f1dc",
    "hidden": true
   },
   "source": [
    "http://www.nyc.gov/html/tlc/html/passenger/taxicab_rate.shtml"
   ]
  },
  {
   "cell_type": "code",
   "execution_count": 35,
   "metadata": {
    "_uuid": "b06c8b823e22f26b2976dd0e86a3423bd2477269",
    "hidden": true
   },
   "outputs": [
    {
     "data": {
      "image/png": "[encoded data removed]",
      "text/plain": [
       "<Figure size 1440x288 with 1 Axes>"
      ]
     },
     "metadata": {},
     "output_type": "display_data"
    }
   ],
   "source": [
    "draw_barchart(fare_min_df, 'Monthly minimum of fares from January 2009 to June 2015')"
   ]
  },
  {
   "cell_type": "markdown",
   "metadata": {
    "_uuid": "59792ff68309c02edc8602736e393505d37f07dc",
    "hidden": true
   },
   "source": [
    "Many minimum fare outliers fall in simply a few periods, such as February 2010, March 2010, August 2013, and January to June of 2015. \n",
    "\n",
    "Removing all rows with fare below \\$.250 will remove those outliers."
   ]
  },
  {
   "cell_type": "markdown",
   "metadata": {
    "_uuid": "b65698b229c1751b4735e42872268df849729cc8",
    "heading_collapsed": true
   },
   "source": [
    "## Monthly maximum fare"
   ]
  },
  {
   "cell_type": "code",
   "execution_count": 36,
   "metadata": {
    "_uuid": "d57ad2e587a97680598c92e440228e02490c422f",
    "hidden": true
   },
   "outputs": [
    {
     "data": {
      "text/plain": [
       "count     78.000000\n",
       "mean     234.800888\n",
       "std       20.308619\n",
       "min      187.000000\n",
       "25%      215.555000\n",
       "50%      250.000000\n",
       "75%      250.000000\n",
       "max      250.000000\n",
       "Name: fare_amount, dtype: float64"
      ]
     },
     "execution_count": 36,
     "metadata": {},
     "output_type": "execute_result"
    }
   ],
   "source": [
    "fare_max_df.describe()"
   ]
  },
  {
   "cell_type": "code",
   "execution_count": 38,
   "metadata": {
    "_uuid": "f7c98c95bfea84205abddd39f354e7bd6adf52e5",
    "hidden": true
   },
   "outputs": [
    {
     "data": {
      "image/png": "[encoded data removed]",
      "text/plain": [
       "<Figure size 1440x288 with 1 Axes>"
      ]
     },
     "metadata": {},
     "output_type": "display_data"
    }
   ],
   "source": [
    "draw_barchart(fare_max_df, 'Monthly maximum fares from January 2009 to June 2015')"
   ]
  }
 ],
 "metadata": {
  "kernelspec": {
   "display_name": "Python (fastai)",
   "language": "python",
   "name": "fastai"
  },
  "language_info": {
   "codemirror_mode": {
    "name": "ipython",
    "version": 3
   },
   "file_extension": ".py",
   "mimetype": "text/x-python",
   "name": "python",
   "nbconvert_exporter": "python",
   "pygments_lexer": "ipython3",
   "version": "3.6.6"
  },
  "toc": {
   "base_numbering": 1,
   "nav_menu": {},
   "number_sections": true,
   "sideBar": true,
   "skip_h1_title": false,
   "title_cell": "Table of Contents",
   "title_sidebar": "Contents",
   "toc_cell": false,
   "toc_position": {},
   "toc_section_display": true,
   "toc_window_display": false
  }
 },
 "nbformat": 4,
 "nbformat_minor": 1
}
