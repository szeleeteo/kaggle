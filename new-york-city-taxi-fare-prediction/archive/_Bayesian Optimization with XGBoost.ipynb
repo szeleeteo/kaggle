{
 "cells": [
  {
   "cell_type": "markdown",
   "metadata": {},
   "source": [
    "https://www.kaggle.com/btyuhas/bayesian-optimization-with-xgboost"
   ]
  },
  {
   "cell_type": "markdown",
   "metadata": {
    "_uuid": "cda540a26ae5924ae74dbaf88ea931dbc11d61d0"
   },
   "source": [
    "# Bayesian Optimization with XGBoost"
   ]
  },
  {
   "cell_type": "code",
   "execution_count": 1,
   "metadata": {
    "_uuid": "b3f1ece196c81d4932e672f984724a21be12947f"
   },
   "outputs": [],
   "source": [
    "import pandas as pd\n",
    "import numpy as np\n",
    "import matplotlib.pyplot as plt"
   ]
  },
  {
   "cell_type": "code",
   "execution_count": 2,
   "metadata": {},
   "outputs": [],
   "source": [
    "PATH = 'data/nyc-taxi/'"
   ]
  },
  {
   "cell_type": "markdown",
   "metadata": {
    "_uuid": "664fd6cfdc243b36e381f0a2a8df26723399f193"
   },
   "source": [
    "## Read Data\n",
    "Use all data for a better score. However i've not been able to properly configure the K80 gpu available on kaggle to work with xgboost, so I've had to severly limit both the amount of data, and size of model.\n",
    "\n",
    "The data appears to be randomized, so reading in the beginning rows is acceptable.\n",
    "\n",
    "Using the entire dataset will use around 32gb of memory throughout this notebook, So primarily for this reason I achieved first place on the leaderboard as of July 31,2018 using an AWS EC2 p3.2xlarge instance."
   ]
  },
  {
   "cell_type": "code",
   "execution_count": 3,
   "metadata": {
    "_uuid": "f291b361888117692c878324f79336cc97f887d8"
   },
   "outputs": [],
   "source": [
    "df = pd.read_csv(f'{PATH}train.csv',nrows=2_000_000, usecols=[1,2,3,4,5,6,7])"
   ]
  },
  {
   "cell_type": "markdown",
   "metadata": {
    "_uuid": "6331eaf519d93bb329417a39801ee30b4dc717b8"
   },
   "source": [
    "Slicing off unecessary components of the datetime and specifying the date format results in a MUCH more efficiecnt conversion to a datetime object."
   ]
  },
  {
   "cell_type": "code",
   "execution_count": 4,
   "metadata": {},
   "outputs": [
    {
     "data": {
      "text/plain": [
       "'2009-06-15 17:26:21 UTC'"
      ]
     },
     "execution_count": 4,
     "metadata": {},
     "output_type": "execute_result"
    }
   ],
   "source": [
    "df['pickup_datetime'][0]"
   ]
  },
  {
   "cell_type": "code",
   "execution_count": 5,
   "metadata": {
    "_uuid": "75adeacb8a54ffa5bfa6b900ed9874496d085da8"
   },
   "outputs": [],
   "source": [
    "df['pickup_datetime'] = df['pickup_datetime'].str.slice(0, 16)\n",
    "df['pickup_datetime'] = pd.to_datetime(df['pickup_datetime'], utc=True, format='%Y-%m-%d %H:%M')"
   ]
  },
  {
   "cell_type": "markdown",
   "metadata": {
    "_uuid": "221ae597a851dd2f83965faf2929e0f8751a21c9"
   },
   "source": [
    "## Clean"
   ]
  },
  {
   "cell_type": "code",
   "execution_count": 6,
   "metadata": {
    "_uuid": "09eb6e85145905ef6960a71033a1355e920db732"
   },
   "outputs": [],
   "source": [
    "# Remove observations with missing values\n",
    "# Since there are only a few of these, i'm not concerned with imputation\n",
    "df.dropna(how='any', axis='rows', inplace=True)\n",
    "\n",
    "# Removing observations with erroneous values\n",
    "mask = df['pickup_longitude'].between(-75, -73)\n",
    "mask &= df['dropoff_longitude'].between(-75, -73)\n",
    "mask &= df['pickup_latitude'].between(40, 42)\n",
    "mask &= df['dropoff_latitude'].between(40, 42)\n",
    "mask &= df['passenger_count'].between(0, 8)\n",
    "mask &= df['fare_amount'].between(0, 250)\n",
    "\n",
    "df = df[mask]"
   ]
  },
  {
   "cell_type": "markdown",
   "metadata": {
    "_uuid": "e942cb62da136628d643f992ba2a0aabc88b2010"
   },
   "source": [
    "## Feature Engineering\n",
    "Manhattan distance provides a better approximation of actual travelled distance than haversine for most trips."
   ]
  },
  {
   "cell_type": "code",
   "execution_count": 7,
   "metadata": {
    "_uuid": "4617497b6b64c20f4f29361fcaccb46663ba105d"
   },
   "outputs": [],
   "source": [
    "def dist(pickup_lat, pickup_long, dropoff_lat, dropoff_long):  \n",
    "    distance = np.abs(dropoff_lat - pickup_lat) + np.abs(dropoff_long - pickup_long)\n",
    "    \n",
    "    return distance"
   ]
  },
  {
   "cell_type": "markdown",
   "metadata": {
    "_uuid": "a68459806b2649cc5c4c2e19c64536bdee619207"
   },
   "source": [
    "See __[NYC Taxi Fare - Data Exploration](https://www.kaggle.com/breemen/nyc-taxi-fare-data-exploration)__ for an excellent EDA on this dataset and the intuition for including airports."
   ]
  },
  {
   "cell_type": "code",
   "execution_count": 8,
   "metadata": {
    "_uuid": "a81eb1b903e65143e9c5af2670235d1e03b09093"
   },
   "outputs": [],
   "source": [
    "def transform(data):\n",
    "    # Extract date attributes and then drop the pickup_datetime column\n",
    "    data['hour'] = data['pickup_datetime'].dt.hour\n",
    "    data['day'] = data['pickup_datetime'].dt.day\n",
    "    data['month'] = data['pickup_datetime'].dt.month\n",
    "    data['year'] = data['pickup_datetime'].dt.year\n",
    "    data = data.drop('pickup_datetime', axis=1)\n",
    "\n",
    "    # Distances to nearby airports, and city center\n",
    "    # By reporting distances to these points, the model can somewhat triangulate other locations of interest\n",
    "    nyc = (-74.0063889, 40.7141667)\n",
    "    jfk = (-73.7822222222, 40.6441666667)\n",
    "    ewr = (-74.175, 40.69)\n",
    "    lgr = (-73.87, 40.77)\n",
    "    data['distance_to_center'] = dist(nyc[1], nyc[0],\n",
    "                                      data['pickup_latitude'], data['pickup_longitude'])\n",
    "    data['pickup_distance_to_jfk'] = dist(jfk[1], jfk[0],\n",
    "                                         data['pickup_latitude'], data['pickup_longitude'])\n",
    "    data['dropoff_distance_to_jfk'] = dist(jfk[1], jfk[0],\n",
    "                                           data['dropoff_latitude'], data['dropoff_longitude'])\n",
    "    data['pickup_distance_to_ewr'] = dist(ewr[1], ewr[0], \n",
    "                                          data['pickup_latitude'], data['pickup_longitude'])\n",
    "    data['dropoff_distance_to_ewr'] = dist(ewr[1], ewr[0],\n",
    "                                           data['dropoff_latitude'], data['dropoff_longitude'])\n",
    "    data['pickup_distance_to_lgr'] = dist(lgr[1], lgr[0],\n",
    "                                          data['pickup_latitude'], data['pickup_longitude'])\n",
    "    data['dropoff_distance_to_lgr'] = dist(lgr[1], lgr[0],\n",
    "                                           data['dropoff_latitude'], data['dropoff_longitude'])\n",
    "    \n",
    "    data['long_dist'] = data['pickup_longitude'] - data['dropoff_longitude']\n",
    "    data['lat_dist'] = data['pickup_latitude'] - data['dropoff_latitude']\n",
    "    \n",
    "    data['dist'] = dist(data['pickup_latitude'], data['pickup_longitude'],\n",
    "                        data['dropoff_latitude'], data['dropoff_longitude'])\n",
    "    \n",
    "    return data\n",
    "\n",
    "\n",
    "df = transform(df)"
   ]
  },
  {
   "cell_type": "markdown",
   "metadata": {
    "_uuid": "de86eebde9923ffa8d337a0ea5903737e7cdf81a"
   },
   "source": [
    "## Train/Test split"
   ]
  },
  {
   "cell_type": "code",
   "execution_count": 10,
   "metadata": {
    "_uuid": "cf0263609a54a60286ab980786720b278cba0548"
   },
   "outputs": [],
   "source": [
    "import xgboost as xgb\n",
    "from bayes_opt import BayesianOptimization\n",
    "from sklearn.metrics import mean_squared_error"
   ]
  },
  {
   "cell_type": "markdown",
   "metadata": {
    "_uuid": "f45e051982e31a057a2945a7e2f7381140bb0484"
   },
   "source": [
    "Being careful about memory management, which is critical when running the entire dataset."
   ]
  },
  {
   "cell_type": "code",
   "execution_count": 11,
   "metadata": {
    "_uuid": "5da11d8c8a2fbbc0d18496c8b9500e2a2f0dd1ac"
   },
   "outputs": [],
   "source": [
    "from sklearn.model_selection import train_test_split\n",
    "\n",
    "X_train, X_test, y_train, y_test = train_test_split(df.drop('fare_amount', axis=1),\n",
    "                                                    df['fare_amount'], test_size=0.25)\n",
    "del(df)\n",
    "dtrain = xgb.DMatrix(X_train, label=y_train)\n",
    "del(X_train)\n",
    "dtest = xgb.DMatrix(X_test)\n",
    "del(X_test)"
   ]
  },
  {
   "cell_type": "markdown",
   "metadata": {
    "_uuid": "7dabc51b1618a4dabf440a2c108826078e0f4ba5"
   },
   "source": [
    "## Training\n",
    "Optimizing hyperparameters with bayesian optimization. I've tried to limit the scope of the search as much\n",
    "as possible since the search space grows exponentially when considering aditional hyperparameters.\n",
    "\n",
    "GPU acceleration with a few pre tuned hyperparameters speeds up the search a lot."
   ]
  },
  {
   "cell_type": "code",
   "execution_count": 12,
   "metadata": {
    "_uuid": "911e7524fc9ced3ce909f77da5b1fbf251b7f910"
   },
   "outputs": [],
   "source": [
    "def xgb_evaluate(max_depth, gamma, colsample_bytree):\n",
    "    params = {'eval_metric': 'rmse',\n",
    "              'max_depth': int(max_depth),\n",
    "              'subsample': 0.8,\n",
    "              'eta': 0.1,\n",
    "              'gamma': gamma,\n",
    "              'colsample_bytree': colsample_bytree}\n",
    "    # Used around 1000 boosting rounds in the full model\n",
    "    cv_result = xgb.cv(params, dtrain, num_boost_round=100, nfold=3)    \n",
    "    \n",
    "    # Bayesian optimization only knows how to maximize, not minimize, so return the negative RMSE\n",
    "    return -1.0 * cv_result['test-rmse-mean'].iloc[-1]"
   ]
  },
  {
   "cell_type": "code",
   "execution_count": 13,
   "metadata": {
    "_uuid": "f2a8ff48bed0f13e05687d2ec694fb5f1f2bcd81",
    "scrolled": true
   },
   "outputs": [
    {
     "name": "stdout",
     "output_type": "stream",
     "text": [
      "\u001b[31mInitialization\u001b[0m\n",
      "\u001b[94m----------------------------------------------------------------------------\u001b[0m\n",
      " Step |   Time |      Value |   colsample_bytree |     gamma |   max_depth | \n",
      "    1 | 03m21s | \u001b[35m  -3.71697\u001b[0m | \u001b[32m            0.5922\u001b[0m | \u001b[32m   0.4717\u001b[0m | \u001b[32m     6.4994\u001b[0m | \n",
      "    2 | 02m33s |   -3.86932 |             0.4853 |    0.5405 |      4.5426 | \n",
      "    3 | 02m53s |   -3.85216 |             0.6728 |    0.4634 |      4.2923 | \n",
      "\u001b[31mBayesian Optimization\u001b[0m\n",
      "\u001b[94m----------------------------------------------------------------------------\u001b[0m\n",
      " Step |   Time |      Value |   colsample_bytree |     gamma |   max_depth | \n",
      "    4 | 05m38s | \u001b[35m  -3.65608\u001b[0m | \u001b[32m            0.9000\u001b[0m | \u001b[32m   0.0000\u001b[0m | \u001b[32m     7.0000\u001b[0m | \n",
      "    5 | 05m34s | \u001b[35m  -3.65508\u001b[0m | \u001b[32m            0.9000\u001b[0m | \u001b[32m   1.0000\u001b[0m | \u001b[32m     7.0000\u001b[0m | \n",
      "    6 | 03m16s |   -3.70762 |             0.3000 |    0.0000 |      7.0000 | \n",
      "    7 | 04m40s |   -3.70708 |             0.8927 |    0.6143 |      6.9935 | \n",
      "    8 | 02m48s |   -3.97762 |             0.9000 |    1.0000 |      3.0000 | \n"
     ]
    }
   ],
   "source": [
    "xgb_bo = BayesianOptimization(xgb_evaluate, {'max_depth': (3, 7), \n",
    "                                             'gamma': (0, 1),\n",
    "                                             'colsample_bytree': (0.3, 0.9)})\n",
    "# Use the expected improvement acquisition function to handle negative numbers\n",
    "# Optimally needs quite a few more initiation points and number of iterations\n",
    "xgb_bo.maximize(init_points=3, n_iter=5, acq='ei')"
   ]
  },
  {
   "cell_type": "markdown",
   "metadata": {
    "_uuid": "e1a4ea8f4c4f033c6c31f0a4001be503a535767c"
   },
   "source": [
    "Extract the parameters of the best model."
   ]
  },
  {
   "cell_type": "code",
   "execution_count": 15,
   "metadata": {
    "_uuid": "5bcdd240ddb16252e8f1504184bff0ab909c2507",
    "scrolled": true
   },
   "outputs": [],
   "source": [
    "params = xgb_bo.res['max']['max_params']\n",
    "params['max_depth'] = int(params['max_depth'])"
   ]
  },
  {
   "cell_type": "markdown",
   "metadata": {
    "_uuid": "13442121790f66bc29cd6f1bbb72f3a3195a399d"
   },
   "source": [
    "## Testing"
   ]
  },
  {
   "cell_type": "code",
   "execution_count": 16,
   "metadata": {
    "_uuid": "8ac2492334bafc4e5ce14ae4a3551410364734c5",
    "scrolled": true
   },
   "outputs": [
    {
     "name": "stdout",
     "output_type": "stream",
     "text": [
      "3.59731522945907\n",
      "2.8962996824386225\n"
     ]
    }
   ],
   "source": [
    "# Train a new model with the best parameters from the search\n",
    "model2 = xgb.train(params, dtrain, num_boost_round=250)\n",
    "\n",
    "# Predict on testing and training set\n",
    "y_pred = model2.predict(dtest)\n",
    "y_train_pred = model2.predict(dtrain)\n",
    "\n",
    "# Report testing and training RMSE\n",
    "print(np.sqrt(mean_squared_error(y_test, y_pred)))\n",
    "print(np.sqrt(mean_squared_error(y_train, y_train_pred)))"
   ]
  },
  {
   "cell_type": "markdown",
   "metadata": {
    "_uuid": "cc64e637343735df98c269fc90724afbf23bb91d"
   },
   "source": [
    "## Feature Importance"
   ]
  },
  {
   "cell_type": "code",
   "execution_count": 17,
   "metadata": {
    "_uuid": "7cf00b45f4ed10d0bd9228815026ef79201f75fa",
    "scrolled": false
   },
   "outputs": [
    {
     "data": {
      "text/plain": [
       "<matplotlib.axes._subplots.AxesSubplot at 0x26780a64c18>"
      ]
     },
     "execution_count": 17,
     "metadata": {},
     "output_type": "execute_result"
    },
    {
     "data": {
      "image/png": "[encoded data removed]",
      "text/plain": [
       "<Figure size 432x288 with 1 Axes>"
      ]
     },
     "metadata": {},
     "output_type": "display_data"
    }
   ],
   "source": [
    "import matplotlib.pyplot as plt\n",
    "fscores = pd.DataFrame({'X': list(model2.get_fscore().keys()), 'Y': list(model2.get_fscore().values())})\n",
    "fscores.sort_values(by='Y').plot.bar(x='X')"
   ]
  },
  {
   "cell_type": "markdown",
   "metadata": {
    "_uuid": "461627feced782418ab2c66b195edb08bf48735b"
   },
   "source": [
    "## Predict on Holdout Set"
   ]
  },
  {
   "cell_type": "code",
   "execution_count": 19,
   "metadata": {
    "_uuid": "00e848082e3aa325b0677bf39b4194f5fc221377",
    "scrolled": true
   },
   "outputs": [],
   "source": [
    "test = pd.read_csv(f'{PATH}/test.csv').set_index('key')\n",
    "test['pickup_datetime'] = test['pickup_datetime'].str.slice(0, 16)\n",
    "test['pickup_datetime'] = pd.to_datetime(test['pickup_datetime'], utc=True, format='%Y-%m-%d %H:%M')\n",
    "\n",
    "# Predict on holdout set\n",
    "test = transform(test)\n",
    "dtest = xgb.DMatrix(test)\n",
    "y_pred_test = model2.predict(dtest)"
   ]
  },
  {
   "cell_type": "markdown",
   "metadata": {
    "_uuid": "725915fef9caac7c0802f64ef0020bdc4baf9dbf"
   },
   "source": [
    "## Submit predictions"
   ]
  },
  {
   "cell_type": "code",
   "execution_count": 20,
   "metadata": {
    "_uuid": "e2f8eef8b3b75620ca617f49e7b640be8d2722f7"
   },
   "outputs": [],
   "source": [
    "holdout = pd.DataFrame({'key': test.index, 'fare_amount': y_pred_test})\n",
    "holdout.to_csv('submission.csv', index=False)"
   ]
  }
 ],
 "metadata": {
  "kernelspec": {
   "display_name": "Python (tf)",
   "language": "python",
   "name": "tf"
  },
  "language_info": {
   "codemirror_mode": {
    "name": "ipython",
    "version": 3
   },
   "file_extension": ".py",
   "mimetype": "text/x-python",
   "name": "python",
   "nbconvert_exporter": "python",
   "pygments_lexer": "ipython3",
   "version": "3.6.6"
  },
  "toc": {
   "base_numbering": 1,
   "nav_menu": {},
   "number_sections": true,
   "sideBar": true,
   "skip_h1_title": false,
   "title_cell": "Table of Contents",
   "title_sidebar": "Contents",
   "toc_cell": false,
   "toc_position": {},
   "toc_section_display": true,
   "toc_window_display": false
  }
 },
 "nbformat": 4,
 "nbformat_minor": 1
}
