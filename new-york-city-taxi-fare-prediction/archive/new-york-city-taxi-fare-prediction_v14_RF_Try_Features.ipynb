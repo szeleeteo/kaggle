{
 "cells": [
  {
   "cell_type": "markdown",
   "metadata": {
    "heading_collapsed": true
   },
   "source": [
    "# Imports"
   ]
  },
  {
   "cell_type": "code",
   "execution_count": 1,
   "metadata": {
    "hidden": true
   },
   "outputs": [],
   "source": [
    "%matplotlib inline\n",
    "%reload_ext autoreload\n",
    "%autoreload 2"
   ]
  },
  {
   "cell_type": "code",
   "execution_count": 2,
   "metadata": {
    "_cell_guid": "b1076dfc-b9ad-4769-8c92-a6c4dae69d19",
    "_uuid": "8f2839f25d086af736a60e9eeb907d3b93b6e0e5",
    "hidden": true
   },
   "outputs": [],
   "source": [
    "import numpy as np \n",
    "import pandas as pd \n",
    "import os\n",
    "import math"
   ]
  },
  {
   "cell_type": "code",
   "execution_count": 3,
   "metadata": {
    "hidden": true
   },
   "outputs": [],
   "source": [
    "from sklearn.ensemble import RandomForestRegressor\n",
    "from sklearn.model_selection import train_test_split\n",
    "from sklearn.model_selection import cross_val_score"
   ]
  },
  {
   "cell_type": "code",
   "execution_count": 4,
   "metadata": {
    "hidden": true
   },
   "outputs": [],
   "source": [
    "PATH = 'data/nyc-taxi/'"
   ]
  },
  {
   "cell_type": "markdown",
   "metadata": {
    "heading_collapsed": true
   },
   "source": [
    "# Helper functions"
   ]
  },
  {
   "cell_type": "code",
   "execution_count": 5,
   "metadata": {
    "hidden": true
   },
   "outputs": [],
   "source": [
    "def split_df(df, y_fld, subset=None, random_state=42):\n",
    "    \n",
    "    if subset: df = df.sample(n=subset, random_state=random_state)\n",
    "\n",
    "    y = df[y_fld].values\n",
    "    df.drop(y_fld, axis=1, inplace=True)\n",
    "    \n",
    "    return df, y"
   ]
  },
  {
   "cell_type": "code",
   "execution_count": 6,
   "metadata": {
    "hidden": true
   },
   "outputs": [],
   "source": [
    "def rmse(x,y): return math.sqrt(((x-y)**2).mean())\n",
    "\n",
    "def print_score(m):  \n",
    "    \n",
    "    train_scr = m.score(X_train, y_train)\n",
    "    val_scr = m.score(X_val, y_val)\n",
    "    \n",
    "    train_rmse = rmse(m.predict(X_train), y_train)\n",
    "    val_rmse = rmse(m.predict(X_val), y_val)\n",
    "    if hasattr(m, 'oob_score_'): oob_scr = m.oob_score_\n",
    "        \n",
    "    res = f\"Training-Score:   {train_scr:.5f}\\tTraining-rmse:   {train_rmse:.5f}\\n\"\n",
    "    res += f\"Validation-score: {val_scr:.5f}\\tValidation-rmse: {val_rmse:.5f}\"   \n",
    "    if hasattr(m, 'oob_score_'): res += f\"\\nOOB-score:\\t  {oob_scr:.5f}\"\n",
    "        \n",
    "    print(res)"
   ]
  },
  {
   "cell_type": "code",
   "execution_count": 7,
   "metadata": {
    "hidden": true
   },
   "outputs": [],
   "source": [
    "def run_tests(dfs, df):\n",
    "    \n",
    "    print(\"200,000 subsample\") \n",
    "    score1 = np.sqrt(-cross_val_score(m, dfs, ys, cv=5, scoring='neg_mean_squared_error'))\n",
    "    print(f\"All scores:{score1}\\nMean:{score1.mean()}\\nStandard Deviation:{score1.std()}\")\n",
    "    \n",
    "    print()\n",
    "    \n",
    "    print(\"1,000,000 subsample\")\n",
    "    score2 = np.sqrt(-cross_val_score(m, df, y, cv=5, scoring='neg_mean_squared_error'))\n",
    "    print(f\"All scores:{score2}\\nMean:{score2.mean()}\\nStandard Deviation:{score2.std()}\")\n",
    "        \n",
    "    return score2.mean()"
   ]
  },
  {
   "cell_type": "markdown",
   "metadata": {
    "heading_collapsed": true
   },
   "source": [
    "# Prepare Data"
   ]
  },
  {
   "cell_type": "code",
   "execution_count": 8,
   "metadata": {
    "hidden": true
   },
   "outputs": [],
   "source": [
    "seed = 101 # random seed for replication"
   ]
  },
  {
   "cell_type": "code",
   "execution_count": 9,
   "metadata": {
    "hidden": true
   },
   "outputs": [
    {
     "name": "stdout",
     "output_type": "stream",
     "text": [
      "Wall time: 1.63 s\n"
     ]
    }
   ],
   "source": [
    "%%time\n",
    "train_df = pd.read_feather('tmp/taxi-train-v8-Baseline')"
   ]
  },
  {
   "cell_type": "code",
   "execution_count": 10,
   "metadata": {
    "hidden": true
   },
   "outputs": [
    {
     "name": "stdout",
     "output_type": "stream",
     "text": [
      "<class 'pandas.core.frame.DataFrame'>\n",
      "RangeIndex: 54057746 entries, 0 to 54057745\n",
      "Data columns (total 15 columns):\n",
      "fare_amount           float32\n",
      "pickup_longitude      float32\n",
      "pickup_latitude       float32\n",
      "dropoff_longitude     float32\n",
      "dropoff_latitude      float32\n",
      "passenger_count       uint8\n",
      "year                  uint8\n",
      "month                 uint8\n",
      "week                  uint8\n",
      "dayofweek             uint8\n",
      "day                   uint8\n",
      "hour                  uint8\n",
      "longitude_distance    float32\n",
      "latitude_distance     float32\n",
      "fare_increased        bool\n",
      "dtypes: bool(1), float32(7), uint8(7)\n",
      "memory usage: 1.8 GB\n"
     ]
    }
   ],
   "source": [
    "train_df.info()"
   ]
  },
  {
   "cell_type": "code",
   "execution_count": 11,
   "metadata": {
    "hidden": true
   },
   "outputs": [
    {
     "data": {
      "text/plain": [
       "(54057746, 15)"
      ]
     },
     "execution_count": 11,
     "metadata": {},
     "output_type": "execute_result"
    }
   ],
   "source": [
    "train_df.shape"
   ]
  },
  {
   "cell_type": "code",
   "execution_count": 12,
   "metadata": {
    "hidden": true
   },
   "outputs": [
    {
     "name": "stdout",
     "output_type": "stream",
     "text": [
      "Wall time: 3.2 s\n"
     ]
    }
   ],
   "source": [
    "%%time\n",
    "subsamples = 200_000\n",
    "Xs, ys = split_df(train_df, 'fare_amount', subset=subsamples, random_state=seed)"
   ]
  },
  {
   "cell_type": "code",
   "execution_count": 13,
   "metadata": {
    "hidden": true
   },
   "outputs": [
    {
     "name": "stdout",
     "output_type": "stream",
     "text": [
      "Wall time: 3.46 s\n"
     ]
    }
   ],
   "source": [
    "%%time\n",
    "subsample = 1_000_000\n",
    "X, y = split_df(train_df, 'fare_amount', subset=subsample, random_state=seed)"
   ]
  },
  {
   "cell_type": "code",
   "execution_count": 14,
   "metadata": {
    "hidden": true
   },
   "outputs": [],
   "source": [
    "# X_train, X_val, y_train, y_val = train_test_split(X, y, test_size=0.25, random_state=seed)"
   ]
  },
  {
   "cell_type": "markdown",
   "metadata": {
    "heading_collapsed": true
   },
   "source": [
    "# Model"
   ]
  },
  {
   "cell_type": "code",
   "execution_count": 15,
   "metadata": {
    "hidden": true
   },
   "outputs": [],
   "source": [
    "m = RandomForestRegressor(n_estimators=40, min_samples_leaf=3, max_features=0.5, n_jobs=-1, random_state=seed)"
   ]
  },
  {
   "cell_type": "markdown",
   "metadata": {},
   "source": [
    "# Various Features"
   ]
  },
  {
   "cell_type": "markdown",
   "metadata": {},
   "source": [
    "## Clean Baseline"
   ]
  },
  {
   "cell_type": "code",
   "execution_count": 16,
   "metadata": {},
   "outputs": [
    {
     "name": "stdout",
     "output_type": "stream",
     "text": [
      "200,000 subsample\n",
      "All scores:[3.70243413 3.89522313 3.66540262 3.6205772  3.64173309]\n",
      "Mean:3.7050740361043326\n",
      "Standard Deviation:0.09888301830641673\n",
      "\n",
      "1,000,000 subsample\n",
      "All scores:[3.55749296 3.58194821 3.62336068 3.67396847 3.66222735]\n",
      "Mean:3.619799534490087\n",
      "Standard Deviation:0.044859573380195056\n",
      "Wall time: 7min 32s\n"
     ]
    }
   ],
   "source": [
    "%%time\n",
    "benchmark_score = run_tests(Xs,X)"
   ]
  },
  {
   "cell_type": "markdown",
   "metadata": {
    "heading_collapsed": true
   },
   "source": [
    "## Manhattan Distance"
   ]
  },
  {
   "cell_type": "code",
   "execution_count": 17,
   "metadata": {
    "hidden": true
   },
   "outputs": [],
   "source": [
    "def add_manhattan_dist(df):\n",
    "    df_new = df.copy()\n",
    "    df_new['manhattan_dist'] = np.abs(df_new.longitude_distance)  + np.abs(df_new.latitude_distance)\n",
    "    \n",
    "    return df_new"
   ]
  },
  {
   "cell_type": "code",
   "execution_count": 18,
   "metadata": {
    "hidden": true
   },
   "outputs": [],
   "source": [
    "Xs_add = None\n",
    "X_add = None\n",
    "\n",
    "Xs_add = add_manhattan_dist(Xs)\n",
    "X_add = add_manhattan_dist(X)"
   ]
  },
  {
   "cell_type": "code",
   "execution_count": 19,
   "metadata": {
    "hidden": true
   },
   "outputs": [
    {
     "name": "stdout",
     "output_type": "stream",
     "text": [
      "200,000 subsample\n",
      "All scores:[3.70846434 3.89737825 3.66097535 3.64430964 3.62515459]\n",
      "Mean:3.707256433897386\n",
      "Standard Deviation:0.09898759172474675\n",
      "\n",
      "1,000,000 subsample\n",
      "All scores:[3.54952014 3.58757212 3.62328773 3.68453646 3.66474905]\n",
      "Mean:3.621933098709799\n",
      "Standard Deviation:0.049352881759103774\n",
      "\n",
      "WORSE by -0.002133564219712003\n",
      "Wall time: 7min 34s\n"
     ]
    }
   ],
   "source": [
    "%%time\n",
    "test_score = run_tests(Xs_add,X_add)\n",
    "\n",
    "diff = benchmark_score-test_score\n",
    "if diff>0: print(\"\\nBETTER by\", diff) \n",
    "else: print(\"\\nWORSE by\", diff)\n",
    "    \n",
    "Xs_add = None\n",
    "X_add = None"
   ]
  },
  {
   "cell_type": "markdown",
   "metadata": {
    "heading_collapsed": true
   },
   "source": [
    "## Euclidean Distance"
   ]
  },
  {
   "cell_type": "code",
   "execution_count": 20,
   "metadata": {
    "hidden": true
   },
   "outputs": [],
   "source": [
    "def add_euclidean_dist(df):\n",
    "    df_new = df.copy()\n",
    "    df_new['manhattan_dist'] = np.sqrt(np.abs(df_new.longitude_distance)**2  + np.abs(df_new.latitude_distance)**2)\n",
    "    \n",
    "    return df_new"
   ]
  },
  {
   "cell_type": "code",
   "execution_count": 21,
   "metadata": {
    "hidden": true
   },
   "outputs": [],
   "source": [
    "Xs_add = None\n",
    "X_add = None\n",
    "\n",
    "Xs_add = add_euclidean_dist(Xs)\n",
    "X_add = add_euclidean_dist(X)"
   ]
  },
  {
   "cell_type": "code",
   "execution_count": 22,
   "metadata": {
    "hidden": true
   },
   "outputs": [
    {
     "name": "stdout",
     "output_type": "stream",
     "text": [
      "200,000 subsample\n",
      "All scores:[3.71844683 3.91284922 3.67402372 3.62148579 3.63389177]\n",
      "Mean:3.7121394655956963\n",
      "Standard Deviation:0.10594129530943752\n",
      "\n",
      "1,000,000 subsample\n",
      "All scores:[3.55083359 3.59121719 3.63248357 3.67738491 3.67776328]\n",
      "Mean:3.6259365088749123\n",
      "Standard Deviation:0.04944025853479972\n",
      "\n",
      "WORSE by -0.006136974384825411\n",
      "Wall time: 7min 32s\n"
     ]
    }
   ],
   "source": [
    "%%time\n",
    "test_score = run_tests(Xs_add,X_add)\n",
    "\n",
    "diff = benchmark_score-test_score\n",
    "if diff>0: print(\"\\nBETTER by\", diff) \n",
    "else: print(\"\\nWORSE by\", diff)\n",
    "    \n",
    "Xs_add = None\n",
    "X_add = None"
   ]
  },
  {
   "cell_type": "markdown",
   "metadata": {},
   "source": [
    "## Drop One Feature at a time"
   ]
  },
  {
   "cell_type": "code",
   "execution_count": 23,
   "metadata": {},
   "outputs": [],
   "source": [
    "features_to_drop = ['passenger_count', 'fare_increased','year', 'month', 'day', 'week', 'dayofweek', 'hour']"
   ]
  },
  {
   "cell_type": "code",
   "execution_count": 24,
   "metadata": {
    "scrolled": false
   },
   "outputs": [
    {
     "name": "stdout",
     "output_type": "stream",
     "text": [
      "Drop passenger_count\n",
      "200,000 subsample\n",
      "All scores:[3.7145035  3.90644737 3.68157383 3.6117234  3.6312096 ]\n",
      "Mean:3.7090915398195192\n",
      "Standard Deviation:0.10514940552277423\n",
      "\n",
      "1,000,000 subsample\n",
      "All scores:[3.5411621  3.579412   3.61913385 3.66702261 3.66710252]\n",
      "Mean:3.6147666158016953\n",
      "Standard Deviation:0.04930797664973391\n",
      "\n",
      "BETTER by 0.005032918688391508\n",
      "\n",
      "\n",
      "\n",
      "\n",
      "Drop fare_increased\n",
      "200,000 subsample\n",
      "All scores:[3.71108295 3.91818558 3.69972599 3.62045207 3.65117893]\n",
      "Mean:3.720125106397881\n",
      "Standard Deviation:0.10432078054233636\n",
      "\n",
      "1,000,000 subsample\n",
      "All scores:[3.54980705 3.5731588  3.61907192 3.6878341  3.66939594]\n",
      "Mean:3.619853558360294\n",
      "Standard Deviation:0.05322279036730862\n",
      "\n",
      "WORSE by -5.402387020714272e-05\n",
      "\n",
      "\n",
      "\n",
      "\n",
      "Drop year\n",
      "200,000 subsample\n",
      "All scores:[3.68662367 3.88903533 3.6550436  3.61964856 3.62897467]\n",
      "Mean:3.695865166826149\n",
      "Standard Deviation:0.09934769984165118\n",
      "\n",
      "1,000,000 subsample\n",
      "All scores:[3.54667651 3.58720601 3.6205853  3.69313262 3.66550422]\n",
      "Mean:3.6226209317859017\n",
      "Standard Deviation:0.05260568400479035\n",
      "\n",
      "WORSE by -0.002821397295814876\n",
      "\n",
      "\n",
      "\n",
      "\n",
      "Drop month\n",
      "200,000 subsample\n",
      "All scores:[3.69553653 3.89187277 3.65471012 3.62184042 3.63759823]\n",
      "Mean:3.7003116156190545\n",
      "Standard Deviation:0.09888242622942311\n",
      "\n",
      "1,000,000 subsample\n",
      "All scores:[3.54408444 3.57258964 3.61404215 3.67874103 3.66294005]\n",
      "Mean:3.6144794626927066\n",
      "Standard Deviation:0.05135832040099881\n",
      "\n",
      "BETTER by 0.005320071797380255\n",
      "\n",
      "\n",
      "\n",
      "\n",
      "Drop day\n",
      "200,000 subsample\n",
      "All scores:[3.70307943 3.90718018 3.66673667 3.6017168  3.64558026]\n",
      "Mean:3.704858666853171\n",
      "Standard Deviation:0.10634154758481962\n",
      "\n",
      "1,000,000 subsample\n",
      "All scores:[3.53673648 3.58668239 3.62266431 3.65934495 3.6615854 ]\n",
      "Mean:3.6134027052662794\n",
      "Standard Deviation:0.04713750931786497\n",
      "\n",
      "BETTER by 0.006396829223807465\n",
      "\n",
      "\n",
      "\n",
      "\n",
      "Drop week\n",
      "200,000 subsample\n",
      "All scores:[3.71015817 3.8880746  3.66193902 3.62953754 3.65960358]\n",
      "Mean:3.709862583195229\n",
      "Standard Deviation:0.09277322839138924\n",
      "\n",
      "1,000,000 subsample\n",
      "All scores:[3.53930068 3.58309499 3.63027043 3.67891015 3.65732888]\n",
      "Mean:3.6177810254154528\n",
      "Standard Deviation:0.05063412844892622\n",
      "\n",
      "BETTER by 0.0020185090746340784\n",
      "\n",
      "\n",
      "\n",
      "\n",
      "Drop dayofweek\n",
      "200,000 subsample\n",
      "All scores:[3.7085568  3.9075113  3.67837607 3.61967868 3.63252488]\n",
      "Mean:3.7093295464827896\n",
      "Standard Deviation:0.1040874201312663\n",
      "\n",
      "1,000,000 subsample\n",
      "All scores:[3.55849086 3.6054114  3.63692694 3.68299246 3.68170693]\n",
      "Mean:3.6331057179334794\n",
      "Standard Deviation:0.04732804473835838\n",
      "\n",
      "WORSE by -0.013306183443392516\n",
      "\n",
      "\n",
      "\n",
      "\n",
      "Drop hour\n",
      "200,000 subsample\n",
      "All scores:[3.76587806 3.92847502 3.71989824 3.68079576 3.70794312]\n",
      "Mean:3.760598040639286\n",
      "Standard Deviation:0.08832663874501792\n",
      "\n",
      "1,000,000 subsample\n",
      "All scores:[3.60530214 3.64122621 3.68744609 3.73865435 3.729424  ]\n",
      "Mean:3.680410557889361\n",
      "Standard Deviation:0.051031055673652695\n",
      "\n",
      "WORSE by -0.060611023399274266\n",
      "\n",
      "\n",
      "\n",
      "\n",
      "Wall time: 52min 41s\n"
     ]
    }
   ],
   "source": [
    "%%time\n",
    "for feature in features_to_drop:\n",
    "    \n",
    "    Xs_drop = Xs.drop(feature, axis=1)\n",
    "    X_drop = X.drop(feature, axis=1)\n",
    "    print(\"Drop\", feature)\n",
    "    assert feature not in Xs_drop.columns\n",
    "    \n",
    "    test_score = run_tests(Xs_drop,X_drop)\n",
    "\n",
    "    diff = benchmark_score-test_score\n",
    "    if diff>0: print(\"\\nBETTER by\", diff) \n",
    "    else: print(\"\\nWORSE by\", diff)\n",
    "    print(\"\\n\\n\\n\")"
   ]
  },
  {
   "cell_type": "markdown",
   "metadata": {},
   "source": [
    "## Drop Multi Feature Based on Previous"
   ]
  },
  {
   "cell_type": "code",
   "execution_count": 25,
   "metadata": {},
   "outputs": [],
   "source": [
    "features_to_drop = ['passenger_count', 'year', 'dayofweek']"
   ]
  },
  {
   "cell_type": "code",
   "execution_count": 26,
   "metadata": {},
   "outputs": [
    {
     "name": "stdout",
     "output_type": "stream",
     "text": [
      "Drop ['passenger_count', 'year', 'dayofweek']\n",
      "200,000 subsample\n",
      "All scores:[3.70235478 3.90569159 3.67521124 3.61724302 3.65061806]\n",
      "Mean:3.7102237381707455\n",
      "Standard Deviation:0.10167962301124032\n",
      "\n",
      "1,000,000 subsample\n",
      "All scores:[3.57624366 3.61092069 3.64774475 3.69007779 3.68239868]\n",
      "Mean:3.6414771112274487\n",
      "Standard Deviation:0.04304644564517624\n",
      "\n",
      "WORSE by -0.021677576737361814\n",
      "Wall time: 6min 6s\n"
     ]
    }
   ],
   "source": [
    "%%time\n",
    "Xs_drop = None\n",
    "X_drop = None\n",
    "\n",
    "Xs_drop = Xs.drop(features_to_drop, axis=1)\n",
    "X_drop = X.drop(features_to_drop, axis=1)\n",
    "print(\"Drop\", features_to_drop)\n",
    "\n",
    "test_score = run_tests(Xs_drop, X_drop)\n",
    "\n",
    "diff = benchmark_score-test_score\n",
    "if diff>0: print(\"\\nBETTER by\", diff) \n",
    "else: print(\"\\nWORSE by\", diff)\n",
    "    \n",
    "Xs_drop = None\n",
    "X_drop = None"
   ]
  },
  {
   "cell_type": "markdown",
   "metadata": {},
   "source": [
    "## Drop Multi Feature and Add Manhattan Distance"
   ]
  },
  {
   "cell_type": "code",
   "execution_count": null,
   "metadata": {},
   "outputs": [],
   "source": []
  },
  {
   "cell_type": "code",
   "execution_count": null,
   "metadata": {},
   "outputs": [],
   "source": []
  },
  {
   "cell_type": "code",
   "execution_count": null,
   "metadata": {},
   "outputs": [],
   "source": []
  },
  {
   "cell_type": "code",
   "execution_count": null,
   "metadata": {},
   "outputs": [],
   "source": []
  },
  {
   "cell_type": "code",
   "execution_count": null,
   "metadata": {},
   "outputs": [],
   "source": []
  },
  {
   "cell_type": "code",
   "execution_count": null,
   "metadata": {},
   "outputs": [],
   "source": []
  },
  {
   "cell_type": "code",
   "execution_count": null,
   "metadata": {},
   "outputs": [],
   "source": []
  },
  {
   "cell_type": "code",
   "execution_count": null,
   "metadata": {},
   "outputs": [],
   "source": []
  },
  {
   "cell_type": "code",
   "execution_count": null,
   "metadata": {},
   "outputs": [],
   "source": []
  },
  {
   "cell_type": "code",
   "execution_count": null,
   "metadata": {},
   "outputs": [],
   "source": []
  },
  {
   "cell_type": "code",
   "execution_count": null,
   "metadata": {},
   "outputs": [],
   "source": []
  },
  {
   "cell_type": "code",
   "execution_count": null,
   "metadata": {},
   "outputs": [],
   "source": []
  },
  {
   "cell_type": "code",
   "execution_count": null,
   "metadata": {},
   "outputs": [],
   "source": []
  },
  {
   "cell_type": "code",
   "execution_count": null,
   "metadata": {},
   "outputs": [],
   "source": []
  },
  {
   "cell_type": "code",
   "execution_count": null,
   "metadata": {},
   "outputs": [],
   "source": []
  },
  {
   "cell_type": "code",
   "execution_count": null,
   "metadata": {},
   "outputs": [],
   "source": []
  },
  {
   "cell_type": "code",
   "execution_count": null,
   "metadata": {},
   "outputs": [],
   "source": []
  },
  {
   "cell_type": "code",
   "execution_count": null,
   "metadata": {},
   "outputs": [],
   "source": []
  },
  {
   "cell_type": "code",
   "execution_count": null,
   "metadata": {},
   "outputs": [],
   "source": []
  },
  {
   "cell_type": "markdown",
   "metadata": {
    "heading_collapsed": true
   },
   "source": [
    "# Previous Results"
   ]
  },
  {
   "cell_type": "markdown",
   "metadata": {
    "heading_collapsed": true,
    "hidden": true
   },
   "source": [
    "## No Distance (Worse) - Distance important!"
   ]
  },
  {
   "cell_type": "code",
   "execution_count": 43,
   "metadata": {
    "hidden": true
   },
   "outputs": [
    {
     "name": "stdout",
     "output_type": "stream",
     "text": [
      "All scores:[3.73207096 3.64971172 3.78855846 3.70434415 3.75709017]\n",
      "Mean:3.726355092469748\n",
      "Standard Deviation:0.047339757272736475\n",
      "Wall time: 6min 15s\n"
     ]
    }
   ],
   "source": [
    "%%time\n",
    "scores = np.sqrt(-cross_val_score(m, X, y, cv=5, scoring='neg_mean_squared_error'))\n",
    "print_score(scores)"
   ]
  },
  {
   "cell_type": "code",
   "execution_count": 44,
   "metadata": {
    "hidden": true
   },
   "outputs": [
    {
     "name": "stdout",
     "output_type": "stream",
     "text": [
      "All scores:[4.18556465 4.09533261 4.11378021 3.91492525 3.8575003 ]\n",
      "Mean:4.033420603872139\n",
      "Standard Deviation:0.12524190846900796\n",
      "Wall time: 28.9 s\n"
     ]
    }
   ],
   "source": [
    "%%time\n",
    "scores = np.sqrt(-cross_val_score(m, Xs, ys, cv=5, scoring='neg_mean_squared_error'))\n",
    "print_score(scores)"
   ]
  },
  {
   "cell_type": "markdown",
   "metadata": {
    "heading_collapsed": true,
    "hidden": true
   },
   "source": [
    "## No Price Flag - Slightly worse, meaning flag helps a bit"
   ]
  },
  {
   "cell_type": "code",
   "execution_count": 34,
   "metadata": {
    "hidden": true
   },
   "outputs": [
    {
     "name": "stdout",
     "output_type": "stream",
     "text": [
      "All scores:[3.63846212 3.5470505  3.70158152 3.62338888 3.67458945]\n",
      "Mean:3.6370144943106792\n",
      "Standard Deviation:0.052653680121059726\n",
      "Wall time: 6min 35s\n"
     ]
    }
   ],
   "source": [
    "%%time\n",
    "scores = np.sqrt(-cross_val_score(m, X, y, cv=5, scoring='neg_mean_squared_error'))\n",
    "print_score(scores)"
   ]
  },
  {
   "cell_type": "code",
   "execution_count": 35,
   "metadata": {
    "hidden": true
   },
   "outputs": [
    {
     "name": "stdout",
     "output_type": "stream",
     "text": [
      "All scores:[4.15191537 3.838425   3.89519449 3.82329984 3.74014949]\n",
      "Mean:3.889796835750949\n",
      "Standard Deviation:0.14013600889515976\n",
      "Wall time: 29.8 s\n"
     ]
    }
   ],
   "source": [
    "%%time\n",
    "scores = np.sqrt(-cross_val_score(m, Xs, ys, cv=5, scoring='neg_mean_squared_error'))\n",
    "print_score(scores)"
   ]
  },
  {
   "cell_type": "markdown",
   "metadata": {
    "heading_collapsed": true,
    "hidden": true
   },
   "source": [
    "## Simple Distance with Dropped Features - Worse"
   ]
  },
  {
   "cell_type": "code",
   "execution_count": 25,
   "metadata": {
    "hidden": true
   },
   "outputs": [
    {
     "name": "stdout",
     "output_type": "stream",
     "text": [
      "All scores:[3.65201921 3.57102133 3.72271901 3.65535705 3.69958211]\n",
      "Mean:3.6601397429458418\n",
      "Standard Deviation:0.05196686419026182\n",
      "Wall time: 5min 59s\n"
     ]
    }
   ],
   "source": [
    "%%time\n",
    "scores = np.sqrt(-cross_val_score(m, X, y, cv=5, scoring='neg_mean_squared_error'))\n",
    "print_score(scores)"
   ]
  },
  {
   "cell_type": "code",
   "execution_count": 26,
   "metadata": {
    "hidden": true
   },
   "outputs": [
    {
     "name": "stdout",
     "output_type": "stream",
     "text": [
      "All scores:[4.11515771 3.82088883 3.92610813 3.82803286 3.73762595]\n",
      "Mean:3.8855626929784477\n",
      "Standard Deviation:0.1294105692233161\n",
      "Wall time: 27.6 s\n"
     ]
    }
   ],
   "source": [
    "%%time\n",
    "scores = np.sqrt(-cross_val_score(m, Xs, ys, cv=5, scoring='neg_mean_squared_error'))\n",
    "print_score(scores)"
   ]
  },
  {
   "cell_type": "markdown",
   "metadata": {
    "heading_collapsed": true,
    "hidden": true
   },
   "source": [
    "## Adaptive Distance Results - Almost same"
   ]
  },
  {
   "cell_type": "code",
   "execution_count": 15,
   "metadata": {
    "hidden": true
   },
   "outputs": [
    {
     "name": "stdout",
     "output_type": "stream",
     "text": [
      "All scores:[3.63706619 3.54593837 3.70929003 3.61300545 3.66439731]\n",
      "Mean:3.6339394689207567\n",
      "Standard Deviation:0.054401452590344075\n",
      "Wall time: 6min 40s\n"
     ]
    }
   ],
   "source": [
    "%%time\n",
    "scores = np.sqrt(-cross_val_score(m, X, y, cv=5, scoring='neg_mean_squared_error'))\n",
    "print_score(scores)"
   ]
  },
  {
   "cell_type": "code",
   "execution_count": 16,
   "metadata": {
    "hidden": true
   },
   "outputs": [
    {
     "name": "stdout",
     "output_type": "stream",
     "text": [
      "All scores:[4.10145912 3.85218782 3.89292442 3.7888432  3.74667721]\n",
      "Mean:3.876418353477573\n",
      "Standard Deviation:0.12329240623805218\n",
      "Wall time: 30.9 s\n"
     ]
    }
   ],
   "source": [
    "%%time\n",
    "scores = np.sqrt(-cross_val_score(m, Xs, ys, cv=5, scoring='neg_mean_squared_error'))\n",
    "print_score(scores)"
   ]
  },
  {
   "cell_type": "markdown",
   "metadata": {
    "heading_collapsed": true,
    "hidden": true
   },
   "source": [
    "## Straight Distance Results - Baseline for comparison"
   ]
  },
  {
   "cell_type": "code",
   "execution_count": 24,
   "metadata": {
    "hidden": true
   },
   "outputs": [
    {
     "name": "stdout",
     "output_type": "stream",
     "text": [
      "All scores:[3.62629522 3.54219699 3.69463875 3.62451808 3.66437177]\n",
      "Mean:3.630404162840859\n",
      "Standard Deviation:0.051209209746410786\n",
      "Wall time: 6min 34s\n"
     ]
    }
   ],
   "source": [
    "%%time\n",
    "scores = np.sqrt(-cross_val_score(m, X, y, cv=5, scoring='neg_mean_squared_error'))\n",
    "print_score(scores)"
   ]
  },
  {
   "cell_type": "code",
   "execution_count": 25,
   "metadata": {
    "hidden": true
   },
   "outputs": [
    {
     "name": "stdout",
     "output_type": "stream",
     "text": [
      "All scores:[4.10352632 3.86554431 3.88060332 3.79846667 3.74304178]\n",
      "Mean:3.8782364803056653\n",
      "Standard Deviation:0.12293334306792435\n",
      "Wall time: 30.5 s\n"
     ]
    }
   ],
   "source": [
    "%%time\n",
    "scores = np.sqrt(-cross_val_score(m, Xs, ys, cv=5, scoring='neg_mean_squared_error'))\n",
    "print_score(scores)"
   ]
  },
  {
   "cell_type": "markdown",
   "metadata": {
    "heading_collapsed": true,
    "hidden": true
   },
   "source": [
    "## Manhattan Distance Results - almost same"
   ]
  },
  {
   "cell_type": "code",
   "execution_count": 15,
   "metadata": {
    "hidden": true
   },
   "outputs": [
    {
     "name": "stdout",
     "output_type": "stream",
     "text": [
      "All scores:[3.63766713 3.55590959 3.68609126 3.61896021 3.65826552]\n",
      "Mean:3.631378740620408\n",
      "Standard Deviation:0.043830845785230284\n",
      "Wall time: 6min 46s\n"
     ]
    }
   ],
   "source": [
    "%%time\n",
    "scores = np.sqrt(-cross_val_score(m, X, y, cv=5, scoring='neg_mean_squared_error'))\n",
    "print_score(scores)"
   ]
  },
  {
   "cell_type": "code",
   "execution_count": 16,
   "metadata": {
    "hidden": true
   },
   "outputs": [
    {
     "name": "stdout",
     "output_type": "stream",
     "text": [
      "All scores:[4.11236619 3.87212126 3.89425008 3.79124005 3.71353413]\n",
      "Mean:3.876702340338427\n",
      "Standard Deviation:0.13401047052087886\n",
      "Wall time: 29.1 s\n"
     ]
    }
   ],
   "source": [
    "%%time\n",
    "scores = np.sqrt(-cross_val_score(m, Xs, ys, cv=5, scoring='neg_mean_squared_error'))\n",
    "print_score(scores)"
   ]
  },
  {
   "cell_type": "code",
   "execution_count": null,
   "metadata": {
    "hidden": true
   },
   "outputs": [],
   "source": []
  },
  {
   "cell_type": "markdown",
   "metadata": {
    "heading_collapsed": true
   },
   "source": [
    "# Save model"
   ]
  },
  {
   "cell_type": "code",
   "execution_count": null,
   "metadata": {
    "hidden": true
   },
   "outputs": [],
   "source": [
    "import pickle"
   ]
  },
  {
   "cell_type": "code",
   "execution_count": null,
   "metadata": {
    "hidden": true
   },
   "outputs": [],
   "source": [
    "model_fn_save = 'models/<>'"
   ]
  },
  {
   "cell_type": "code",
   "execution_count": null,
   "metadata": {
    "hidden": true
   },
   "outputs": [],
   "source": [
    "%time pickle.dump(m, open(model_fn_save, 'wb'))"
   ]
  },
  {
   "cell_type": "markdown",
   "metadata": {
    "heading_collapsed": true
   },
   "source": [
    "# Load Model"
   ]
  },
  {
   "cell_type": "code",
   "execution_count": null,
   "metadata": {
    "hidden": true
   },
   "outputs": [],
   "source": [
    "model_fn_open = 'models/<>.pkl'"
   ]
  },
  {
   "cell_type": "code",
   "execution_count": null,
   "metadata": {
    "hidden": true
   },
   "outputs": [],
   "source": [
    "%time rf = pickle.load(open(model_fn_open, 'rb'))"
   ]
  },
  {
   "cell_type": "code",
   "execution_count": null,
   "metadata": {
    "hidden": true
   },
   "outputs": [],
   "source": []
  }
 ],
 "metadata": {
  "kernelspec": {
   "display_name": "Python (fastai)",
   "language": "python",
   "name": "fastai"
  },
  "language_info": {
   "codemirror_mode": {
    "name": "ipython",
    "version": 3
   },
   "file_extension": ".py",
   "mimetype": "text/x-python",
   "name": "python",
   "nbconvert_exporter": "python",
   "pygments_lexer": "ipython3",
   "version": "3.6.6"
  },
  "toc": {
   "base_numbering": 1,
   "nav_menu": {},
   "number_sections": true,
   "sideBar": true,
   "skip_h1_title": false,
   "title_cell": "Table of Contents",
   "title_sidebar": "Contents",
   "toc_cell": false,
   "toc_position": {},
   "toc_section_display": true,
   "toc_window_display": false
  }
 },
 "nbformat": 4,
 "nbformat_minor": 1
}
