{
 "cells": [
  {
   "cell_type": "markdown",
   "metadata": {},
   "source": [
    "https://www.kaggle.com/c/new-york-city-taxi-fare-prediction/"
   ]
  },
  {
   "cell_type": "markdown",
   "metadata": {},
   "source": [
    "# Imports"
   ]
  },
  {
   "cell_type": "code",
   "execution_count": 1,
   "metadata": {},
   "outputs": [],
   "source": [
    "%matplotlib inline\n",
    "%reload_ext autoreload\n",
    "%autoreload 2"
   ]
  },
  {
   "cell_type": "code",
   "execution_count": 2,
   "metadata": {
    "_cell_guid": "b1076dfc-b9ad-4769-8c92-a6c4dae69d19",
    "_uuid": "8f2839f25d086af736a60e9eeb907d3b93b6e0e5"
   },
   "outputs": [],
   "source": [
    "import numpy as np \n",
    "import pandas as pd \n",
    "import matplotlib.pyplot as plt\n",
    "import os\n",
    "import math\n",
    "\n",
    "from IPython.display import display"
   ]
  },
  {
   "cell_type": "code",
   "execution_count": 3,
   "metadata": {},
   "outputs": [],
   "source": [
    "import xgboost as xgb"
   ]
  },
  {
   "cell_type": "code",
   "execution_count": 4,
   "metadata": {},
   "outputs": [],
   "source": [
    "PATH = 'data/nyc-taxi/'"
   ]
  },
  {
   "cell_type": "markdown",
   "metadata": {},
   "source": [
    "# Helper Functions"
   ]
  },
  {
   "cell_type": "code",
   "execution_count": 5,
   "metadata": {},
   "outputs": [],
   "source": [
    "def proc_df(df, y_fld, subset=None, seed=42):\n",
    "    \n",
    "    if subset: df = df.sample(n=subset,random_state=seed)\n",
    "\n",
    "    y = df[y_fld].values\n",
    "    df.drop(y_fld, axis=1, inplace=True)\n",
    "    \n",
    "    return df, y"
   ]
  },
  {
   "cell_type": "code",
   "execution_count": 6,
   "metadata": {},
   "outputs": [],
   "source": [
    "def rmse(x,y): return math.sqrt(((x-y)**2).mean())\n",
    "\n",
    "def print_scores(model):\n",
    "    pred_train = model.predict(DM_train)\n",
    "    rmse_train = rmse(pred_train, y_train)\n",
    "    \n",
    "    pred_val = model.predict(DM_val)\n",
    "    rmse_val = rmse(pred_val, y_val)\n",
    "    \n",
    "    print(\"\\nTraining score\")\n",
    "    print(f'RMSE for training set: {rmse_train:.5f}')\n",
    "    print(f'RMSE for validation set: {rmse_val:.5f}')"
   ]
  },
  {
   "cell_type": "markdown",
   "metadata": {},
   "source": [
    "# Load clean dataframe"
   ]
  },
  {
   "cell_type": "code",
   "execution_count": 7,
   "metadata": {},
   "outputs": [
    {
     "name": "stdout",
     "output_type": "stream",
     "text": [
      "Wall time: 238 ms\n"
     ]
    }
   ],
   "source": [
    "%%time\n",
    "train_df = pd.read_feather('tmp/v2/taxi-v2-train')\n",
    "val_df = pd.read_feather('tmp/v2/taxi-v2-val')\n",
    "test_df = pd.read_feather('tmp/v2/taxi-test-v2')"
   ]
  },
  {
   "cell_type": "code",
   "execution_count": 8,
   "metadata": {},
   "outputs": [
    {
     "name": "stdout",
     "output_type": "stream",
     "text": [
      "Wall time: 66.6 ms\n"
     ]
    }
   ],
   "source": [
    "%%time\n",
    "X_train, y_train = proc_df(train_df,'fare_amount') "
   ]
  },
  {
   "cell_type": "code",
   "execution_count": 9,
   "metadata": {},
   "outputs": [],
   "source": [
    "X_val, y_val = proc_df(val_df,'fare_amount')"
   ]
  },
  {
   "cell_type": "code",
   "execution_count": 10,
   "metadata": {},
   "outputs": [
    {
     "data": {
      "text/plain": [
       "((3445082, 16), (9674, 16), (3445082,), (9674,))"
      ]
     },
     "execution_count": 10,
     "metadata": {},
     "output_type": "execute_result"
    }
   ],
   "source": [
    "X_train.shape, X_val.shape, y_train.shape, y_val.shape"
   ]
  },
  {
   "cell_type": "markdown",
   "metadata": {},
   "source": [
    "# XGBoost"
   ]
  },
  {
   "cell_type": "code",
   "execution_count": 11,
   "metadata": {},
   "outputs": [],
   "source": [
    "DM_train = xgb.DMatrix(data=X_train, label=y_train)\n",
    "DM_val = xgb.DMatrix(data=X_val, label=y_val)\n",
    "DM_test = xgb.DMatrix(data=test_df)"
   ]
  },
  {
   "cell_type": "code",
   "execution_count": 12,
   "metadata": {},
   "outputs": [],
   "source": [
    "evals_result = {}\n",
    "watchlist = [(DM_train, \"training\"), (DM_val, \"validation\")]"
   ]
  },
  {
   "cell_type": "code",
   "execution_count": 41,
   "metadata": {},
   "outputs": [],
   "source": [
    "params_native = {\n",
    "    'objective': 'reg:linear', \n",
    "    'booster':'gbtree',        \n",
    "    'silent': 1,               \n",
    "    'eta': 0.1,                 \n",
    "    'gamma': 0,                 \n",
    "    'max-depth': 4,             \n",
    "    'min_child_weight': 1,      \n",
    "    'max_delta_step': 0,        \n",
    "    'subsample': 0.8,             \n",
    "    'colsample_bytree': 0.6,      \n",
    "    'colsample_bylevel': 0.6,     \n",
    "    'lambda': 1,                \n",
    "    'alpha': 0,                 \n",
    "    'scale_pos_weight': 1,      \n",
    "    'base_score': 0.5,          \n",
    "    'eval_metric':'rmse',      \n",
    "    'seed': 42                  \n",
    "}"
   ]
  },
  {
   "cell_type": "markdown",
   "metadata": {},
   "source": [
    "## Train"
   ]
  },
  {
   "cell_type": "code",
   "execution_count": 42,
   "metadata": {},
   "outputs": [
    {
     "name": "stdout",
     "output_type": "stream",
     "text": [
      "[0]\ttraining-rmse:12.9663\tvalidation-rmse:12.6968\n",
      "Multiple eval metrics have been passed: 'validation-rmse' will be used for early stopping.\n",
      "\n",
      "Will train until validation-rmse hasn't improved in 10 rounds.\n",
      "[1]\ttraining-rmse:11.8579\tvalidation-rmse:11.5766\n",
      "[2]\ttraining-rmse:10.8208\tvalidation-rmse:10.5315\n",
      "[3]\ttraining-rmse:9.90417\tvalidation-rmse:9.603\n",
      "[4]\ttraining-rmse:9.09686\tvalidation-rmse:8.78586\n",
      "[5]\ttraining-rmse:8.36481\tvalidation-rmse:8.04846\n",
      "[6]\ttraining-rmse:7.72703\tvalidation-rmse:7.40451\n",
      "[7]\ttraining-rmse:7.16532\tvalidation-rmse:6.83983\n",
      "[8]\ttraining-rmse:6.68426\tvalidation-rmse:6.34758\n",
      "[9]\ttraining-rmse:6.25305\tvalidation-rmse:5.91083\n",
      "[10]\ttraining-rmse:5.89879\tvalidation-rmse:5.55307\n",
      "[11]\ttraining-rmse:5.59757\tvalidation-rmse:5.2489\n",
      "[12]\ttraining-rmse:5.31213\tvalidation-rmse:4.96302\n",
      "[13]\ttraining-rmse:5.0684\tvalidation-rmse:4.72071\n",
      "[14]\ttraining-rmse:4.85637\tvalidation-rmse:4.5113\n",
      "[15]\ttraining-rmse:4.67494\tvalidation-rmse:4.32912\n",
      "[16]\ttraining-rmse:4.52077\tvalidation-rmse:4.17536\n",
      "[17]\ttraining-rmse:4.38598\tvalidation-rmse:4.04288\n",
      "[18]\ttraining-rmse:4.27686\tvalidation-rmse:3.93391\n",
      "[19]\ttraining-rmse:4.18865\tvalidation-rmse:3.84973\n",
      "[20]\ttraining-rmse:4.10472\tvalidation-rmse:3.76656\n",
      "[21]\ttraining-rmse:4.03733\tvalidation-rmse:3.70512\n",
      "[22]\ttraining-rmse:3.97306\tvalidation-rmse:3.64449\n",
      "[23]\ttraining-rmse:3.91572\tvalidation-rmse:3.59414\n",
      "[24]\ttraining-rmse:3.87474\tvalidation-rmse:3.55899\n",
      "[25]\ttraining-rmse:3.83637\tvalidation-rmse:3.52243\n",
      "[26]\ttraining-rmse:3.79892\tvalidation-rmse:3.48752\n",
      "[27]\ttraining-rmse:3.77002\tvalidation-rmse:3.46057\n",
      "[28]\ttraining-rmse:3.74569\tvalidation-rmse:3.44049\n",
      "[29]\ttraining-rmse:3.72308\tvalidation-rmse:3.42148\n",
      "[30]\ttraining-rmse:3.70628\tvalidation-rmse:3.40857\n",
      "[31]\ttraining-rmse:3.68931\tvalidation-rmse:3.39304\n",
      "[32]\ttraining-rmse:3.67254\tvalidation-rmse:3.37968\n",
      "[33]\ttraining-rmse:3.65777\tvalidation-rmse:3.36855\n",
      "[34]\ttraining-rmse:3.64391\tvalidation-rmse:3.35858\n",
      "[35]\ttraining-rmse:3.63167\tvalidation-rmse:3.3486\n",
      "[36]\ttraining-rmse:3.62081\tvalidation-rmse:3.3426\n",
      "[37]\ttraining-rmse:3.6121\tvalidation-rmse:3.33686\n",
      "[38]\ttraining-rmse:3.60281\tvalidation-rmse:3.32942\n",
      "[39]\ttraining-rmse:3.59416\tvalidation-rmse:3.32322\n",
      "[40]\ttraining-rmse:3.58792\tvalidation-rmse:3.31796\n",
      "[41]\ttraining-rmse:3.58076\tvalidation-rmse:3.31396\n",
      "[42]\ttraining-rmse:3.57236\tvalidation-rmse:3.30674\n",
      "[43]\ttraining-rmse:3.5665\tvalidation-rmse:3.30156\n",
      "[44]\ttraining-rmse:3.56176\tvalidation-rmse:3.29852\n",
      "[45]\ttraining-rmse:3.55683\tvalidation-rmse:3.29599\n",
      "[46]\ttraining-rmse:3.55081\tvalidation-rmse:3.29455\n",
      "[47]\ttraining-rmse:3.54822\tvalidation-rmse:3.29355\n",
      "[48]\ttraining-rmse:3.54386\tvalidation-rmse:3.28985\n",
      "[49]\ttraining-rmse:3.53961\tvalidation-rmse:3.2867\n",
      "[50]\ttraining-rmse:3.53547\tvalidation-rmse:3.28451\n",
      "[51]\ttraining-rmse:3.53099\tvalidation-rmse:3.27955\n",
      "[52]\ttraining-rmse:3.52544\tvalidation-rmse:3.27827\n",
      "[53]\ttraining-rmse:3.52319\tvalidation-rmse:3.27695\n",
      "[54]\ttraining-rmse:3.51858\tvalidation-rmse:3.27383\n",
      "[55]\ttraining-rmse:3.51559\tvalidation-rmse:3.27126\n",
      "[56]\ttraining-rmse:3.51311\tvalidation-rmse:3.26918\n",
      "[57]\ttraining-rmse:3.51106\tvalidation-rmse:3.26703\n",
      "[58]\ttraining-rmse:3.50888\tvalidation-rmse:3.26464\n",
      "[59]\ttraining-rmse:3.50745\tvalidation-rmse:3.26367\n",
      "[60]\ttraining-rmse:3.50483\tvalidation-rmse:3.26127\n",
      "[61]\ttraining-rmse:3.50263\tvalidation-rmse:3.25833\n",
      "[62]\ttraining-rmse:3.49954\tvalidation-rmse:3.25619\n",
      "[63]\ttraining-rmse:3.4965\tvalidation-rmse:3.2551\n",
      "[64]\ttraining-rmse:3.49301\tvalidation-rmse:3.25256\n",
      "[65]\ttraining-rmse:3.49127\tvalidation-rmse:3.25108\n",
      "[66]\ttraining-rmse:3.49\tvalidation-rmse:3.24971\n",
      "[67]\ttraining-rmse:3.48827\tvalidation-rmse:3.24812\n",
      "[68]\ttraining-rmse:3.48473\tvalidation-rmse:3.24722\n",
      "[69]\ttraining-rmse:3.48217\tvalidation-rmse:3.24439\n",
      "[70]\ttraining-rmse:3.48079\tvalidation-rmse:3.24324\n",
      "[71]\ttraining-rmse:3.47884\tvalidation-rmse:3.24293\n",
      "[72]\ttraining-rmse:3.4771\tvalidation-rmse:3.24246\n",
      "[73]\ttraining-rmse:3.47556\tvalidation-rmse:3.24164\n",
      "[74]\ttraining-rmse:3.4737\tvalidation-rmse:3.23989\n",
      "[75]\ttraining-rmse:3.47143\tvalidation-rmse:3.23929\n",
      "[76]\ttraining-rmse:3.47047\tvalidation-rmse:3.23861\n",
      "[77]\ttraining-rmse:3.46892\tvalidation-rmse:3.23686\n",
      "[78]\ttraining-rmse:3.46748\tvalidation-rmse:3.23554\n",
      "[79]\ttraining-rmse:3.46598\tvalidation-rmse:3.23487\n",
      "[80]\ttraining-rmse:3.46449\tvalidation-rmse:3.23345\n",
      "[81]\ttraining-rmse:3.46207\tvalidation-rmse:3.23124\n",
      "[82]\ttraining-rmse:3.45937\tvalidation-rmse:3.22935\n",
      "[83]\ttraining-rmse:3.4583\tvalidation-rmse:3.22926\n",
      "[84]\ttraining-rmse:3.45719\tvalidation-rmse:3.228\n",
      "[85]\ttraining-rmse:3.45592\tvalidation-rmse:3.22633\n",
      "[86]\ttraining-rmse:3.45459\tvalidation-rmse:3.2259\n",
      "[87]\ttraining-rmse:3.45345\tvalidation-rmse:3.22502\n",
      "[88]\ttraining-rmse:3.45192\tvalidation-rmse:3.22407\n",
      "[89]\ttraining-rmse:3.4498\tvalidation-rmse:3.22087\n",
      "[90]\ttraining-rmse:3.44815\tvalidation-rmse:3.22044\n",
      "[91]\ttraining-rmse:3.44707\tvalidation-rmse:3.21973\n",
      "[92]\ttraining-rmse:3.4447\tvalidation-rmse:3.21756\n",
      "[93]\ttraining-rmse:3.44197\tvalidation-rmse:3.21605\n",
      "[94]\ttraining-rmse:3.44027\tvalidation-rmse:3.21485\n",
      "[95]\ttraining-rmse:3.43915\tvalidation-rmse:3.21421\n",
      "[96]\ttraining-rmse:3.43838\tvalidation-rmse:3.21571\n",
      "[97]\ttraining-rmse:3.43682\tvalidation-rmse:3.21448\n",
      "[98]\ttraining-rmse:3.43563\tvalidation-rmse:3.21398\n",
      "[99]\ttraining-rmse:3.43343\tvalidation-rmse:3.21172\n",
      "[100]\ttraining-rmse:3.43231\tvalidation-rmse:3.2113\n",
      "[101]\ttraining-rmse:3.43137\tvalidation-rmse:3.21102\n",
      "[102]\ttraining-rmse:3.43034\tvalidation-rmse:3.21299\n",
      "[103]\ttraining-rmse:3.42888\tvalidation-rmse:3.21224\n",
      "[104]\ttraining-rmse:3.42796\tvalidation-rmse:3.21209\n",
      "[105]\ttraining-rmse:3.42725\tvalidation-rmse:3.21171\n",
      "[106]\ttraining-rmse:3.42574\tvalidation-rmse:3.21097\n",
      "[107]\ttraining-rmse:3.42509\tvalidation-rmse:3.21073\n",
      "[108]\ttraining-rmse:3.42388\tvalidation-rmse:3.21077\n",
      "[109]\ttraining-rmse:3.42283\tvalidation-rmse:3.21043\n",
      "[110]\ttraining-rmse:3.42064\tvalidation-rmse:3.20877\n",
      "[111]\ttraining-rmse:3.41925\tvalidation-rmse:3.20831\n",
      "[112]\ttraining-rmse:3.41822\tvalidation-rmse:3.20718\n",
      "[113]\ttraining-rmse:3.41744\tvalidation-rmse:3.20662\n",
      "[114]\ttraining-rmse:3.41643\tvalidation-rmse:3.20609\n",
      "[115]\ttraining-rmse:3.4157\tvalidation-rmse:3.20581\n",
      "[116]\ttraining-rmse:3.41518\tvalidation-rmse:3.20548\n",
      "[117]\ttraining-rmse:3.41472\tvalidation-rmse:3.20531\n",
      "[118]\ttraining-rmse:3.41376\tvalidation-rmse:3.20435\n",
      "[119]\ttraining-rmse:3.41314\tvalidation-rmse:3.20434\n",
      "[120]\ttraining-rmse:3.4118\tvalidation-rmse:3.20336\n",
      "[121]\ttraining-rmse:3.40957\tvalidation-rmse:3.20296\n",
      "[122]\ttraining-rmse:3.40857\tvalidation-rmse:3.20245\n",
      "[123]\ttraining-rmse:3.40795\tvalidation-rmse:3.20227\n",
      "[124]\ttraining-rmse:3.40517\tvalidation-rmse:3.201\n",
      "[125]\ttraining-rmse:3.40468\tvalidation-rmse:3.2009\n",
      "[126]\ttraining-rmse:3.40409\tvalidation-rmse:3.20022\n",
      "[127]\ttraining-rmse:3.40353\tvalidation-rmse:3.19958\n",
      "[128]\ttraining-rmse:3.40259\tvalidation-rmse:3.19941\n",
      "[129]\ttraining-rmse:3.40139\tvalidation-rmse:3.19825\n",
      "[130]\ttraining-rmse:3.40046\tvalidation-rmse:3.19767\n",
      "[131]\ttraining-rmse:3.39884\tvalidation-rmse:3.1968\n",
      "[132]\ttraining-rmse:3.39797\tvalidation-rmse:3.1957\n",
      "[133]\ttraining-rmse:3.39719\tvalidation-rmse:3.19582\n",
      "[134]\ttraining-rmse:3.39633\tvalidation-rmse:3.19535\n",
      "[135]\ttraining-rmse:3.39552\tvalidation-rmse:3.19535\n",
      "[136]\ttraining-rmse:3.3946\tvalidation-rmse:3.19393\n",
      "[137]\ttraining-rmse:3.39386\tvalidation-rmse:3.19338\n",
      "[138]\ttraining-rmse:3.39325\tvalidation-rmse:3.19323\n",
      "[139]\ttraining-rmse:3.39246\tvalidation-rmse:3.19296\n",
      "[140]\ttraining-rmse:3.3911\tvalidation-rmse:3.1919\n",
      "[141]\ttraining-rmse:3.39064\tvalidation-rmse:3.19177\n",
      "[142]\ttraining-rmse:3.38989\tvalidation-rmse:3.1913\n",
      "[143]\ttraining-rmse:3.38863\tvalidation-rmse:3.19084\n",
      "[144]\ttraining-rmse:3.38787\tvalidation-rmse:3.19034\n",
      "[145]\ttraining-rmse:3.38703\tvalidation-rmse:3.18986\n",
      "[146]\ttraining-rmse:3.38599\tvalidation-rmse:3.18901\n",
      "[147]\ttraining-rmse:3.38437\tvalidation-rmse:3.18927\n",
      "[148]\ttraining-rmse:3.38341\tvalidation-rmse:3.18891\n",
      "[149]\ttraining-rmse:3.38271\tvalidation-rmse:3.18911\n",
      "[150]\ttraining-rmse:3.38195\tvalidation-rmse:3.18887\n",
      "[151]\ttraining-rmse:3.38143\tvalidation-rmse:3.19017\n",
      "[152]\ttraining-rmse:3.38089\tvalidation-rmse:3.18983\n",
      "[153]\ttraining-rmse:3.38017\tvalidation-rmse:3.18956\n",
      "[154]\ttraining-rmse:3.37974\tvalidation-rmse:3.18911\n",
      "[155]\ttraining-rmse:3.37872\tvalidation-rmse:3.18886\n",
      "[156]\ttraining-rmse:3.37842\tvalidation-rmse:3.18872\n",
      "[157]\ttraining-rmse:3.37755\tvalidation-rmse:3.18852\n"
     ]
    },
    {
     "name": "stdout",
     "output_type": "stream",
     "text": [
      "[158]\ttraining-rmse:3.37684\tvalidation-rmse:3.1886\n",
      "[159]\ttraining-rmse:3.37563\tvalidation-rmse:3.18804\n",
      "[160]\ttraining-rmse:3.37513\tvalidation-rmse:3.18775\n",
      "[161]\ttraining-rmse:3.37315\tvalidation-rmse:3.18561\n",
      "[162]\ttraining-rmse:3.37214\tvalidation-rmse:3.18512\n",
      "[163]\ttraining-rmse:3.37148\tvalidation-rmse:3.18478\n",
      "[164]\ttraining-rmse:3.37068\tvalidation-rmse:3.18466\n",
      "[165]\ttraining-rmse:3.37029\tvalidation-rmse:3.18469\n",
      "[166]\ttraining-rmse:3.36988\tvalidation-rmse:3.18437\n",
      "[167]\ttraining-rmse:3.36818\tvalidation-rmse:3.18314\n",
      "[168]\ttraining-rmse:3.3675\tvalidation-rmse:3.18321\n",
      "[169]\ttraining-rmse:3.36682\tvalidation-rmse:3.18305\n",
      "[170]\ttraining-rmse:3.36577\tvalidation-rmse:3.18288\n",
      "[171]\ttraining-rmse:3.36514\tvalidation-rmse:3.18262\n",
      "[172]\ttraining-rmse:3.36447\tvalidation-rmse:3.1824\n",
      "[173]\ttraining-rmse:3.36397\tvalidation-rmse:3.18241\n",
      "[174]\ttraining-rmse:3.36298\tvalidation-rmse:3.18248\n",
      "[175]\ttraining-rmse:3.36183\tvalidation-rmse:3.18172\n",
      "[176]\ttraining-rmse:3.36116\tvalidation-rmse:3.1814\n",
      "[177]\ttraining-rmse:3.36047\tvalidation-rmse:3.18117\n",
      "[178]\ttraining-rmse:3.3597\tvalidation-rmse:3.18065\n",
      "[179]\ttraining-rmse:3.3593\tvalidation-rmse:3.18055\n",
      "[180]\ttraining-rmse:3.35874\tvalidation-rmse:3.1806\n",
      "[181]\ttraining-rmse:3.35781\tvalidation-rmse:3.1803\n",
      "[182]\ttraining-rmse:3.35646\tvalidation-rmse:3.17928\n",
      "[183]\ttraining-rmse:3.35501\tvalidation-rmse:3.17939\n",
      "[184]\ttraining-rmse:3.35438\tvalidation-rmse:3.17907\n",
      "[185]\ttraining-rmse:3.35353\tvalidation-rmse:3.17876\n",
      "[186]\ttraining-rmse:3.35319\tvalidation-rmse:3.17855\n",
      "[187]\ttraining-rmse:3.35268\tvalidation-rmse:3.17818\n",
      "[188]\ttraining-rmse:3.35187\tvalidation-rmse:3.17783\n",
      "[189]\ttraining-rmse:3.35086\tvalidation-rmse:3.17759\n",
      "[190]\ttraining-rmse:3.35035\tvalidation-rmse:3.17758\n",
      "[191]\ttraining-rmse:3.34976\tvalidation-rmse:3.17728\n",
      "[192]\ttraining-rmse:3.34864\tvalidation-rmse:3.1765\n",
      "[193]\ttraining-rmse:3.34481\tvalidation-rmse:3.17395\n",
      "[194]\ttraining-rmse:3.3444\tvalidation-rmse:3.17395\n",
      "[195]\ttraining-rmse:3.34387\tvalidation-rmse:3.17366\n",
      "[196]\ttraining-rmse:3.34263\tvalidation-rmse:3.17343\n",
      "[197]\ttraining-rmse:3.34178\tvalidation-rmse:3.17236\n",
      "[198]\ttraining-rmse:3.34119\tvalidation-rmse:3.17291\n",
      "[199]\ttraining-rmse:3.34081\tvalidation-rmse:3.1728\n",
      "[200]\ttraining-rmse:3.34011\tvalidation-rmse:3.17242\n",
      "[201]\ttraining-rmse:3.33941\tvalidation-rmse:3.17205\n",
      "[202]\ttraining-rmse:3.33893\tvalidation-rmse:3.17202\n",
      "[203]\ttraining-rmse:3.33848\tvalidation-rmse:3.172\n",
      "[204]\ttraining-rmse:3.33708\tvalidation-rmse:3.17141\n",
      "[205]\ttraining-rmse:3.33676\tvalidation-rmse:3.17142\n",
      "[206]\ttraining-rmse:3.33571\tvalidation-rmse:3.17043\n",
      "[207]\ttraining-rmse:3.33534\tvalidation-rmse:3.17054\n",
      "[208]\ttraining-rmse:3.33433\tvalidation-rmse:3.17003\n",
      "[209]\ttraining-rmse:3.33345\tvalidation-rmse:3.16905\n",
      "[210]\ttraining-rmse:3.3321\tvalidation-rmse:3.1685\n",
      "[211]\ttraining-rmse:3.3318\tvalidation-rmse:3.16828\n",
      "[212]\ttraining-rmse:3.33065\tvalidation-rmse:3.16797\n",
      "[213]\ttraining-rmse:3.33015\tvalidation-rmse:3.1675\n",
      "[214]\ttraining-rmse:3.32951\tvalidation-rmse:3.16715\n",
      "[215]\ttraining-rmse:3.32854\tvalidation-rmse:3.16628\n",
      "[216]\ttraining-rmse:3.32543\tvalidation-rmse:3.16296\n",
      "[217]\ttraining-rmse:3.32521\tvalidation-rmse:3.16274\n",
      "[218]\ttraining-rmse:3.32422\tvalidation-rmse:3.1621\n",
      "[219]\ttraining-rmse:3.32369\tvalidation-rmse:3.16172\n",
      "[220]\ttraining-rmse:3.32326\tvalidation-rmse:3.16147\n",
      "[221]\ttraining-rmse:3.32272\tvalidation-rmse:3.16148\n",
      "[222]\ttraining-rmse:3.32227\tvalidation-rmse:3.16052\n",
      "[223]\ttraining-rmse:3.32129\tvalidation-rmse:3.16031\n",
      "[224]\ttraining-rmse:3.32068\tvalidation-rmse:3.15997\n",
      "[225]\ttraining-rmse:3.32007\tvalidation-rmse:3.15938\n",
      "[226]\ttraining-rmse:3.31895\tvalidation-rmse:3.15866\n",
      "[227]\ttraining-rmse:3.31589\tvalidation-rmse:3.15465\n",
      "[228]\ttraining-rmse:3.31492\tvalidation-rmse:3.15415\n",
      "[229]\ttraining-rmse:3.31389\tvalidation-rmse:3.15367\n",
      "[230]\ttraining-rmse:3.31326\tvalidation-rmse:3.15311\n",
      "[231]\ttraining-rmse:3.31289\tvalidation-rmse:3.15313\n",
      "[232]\ttraining-rmse:3.31084\tvalidation-rmse:3.15121\n",
      "[233]\ttraining-rmse:3.31046\tvalidation-rmse:3.15122\n",
      "[234]\ttraining-rmse:3.31006\tvalidation-rmse:3.15112\n",
      "[235]\ttraining-rmse:3.30977\tvalidation-rmse:3.15106\n",
      "[236]\ttraining-rmse:3.30923\tvalidation-rmse:3.15102\n",
      "[237]\ttraining-rmse:3.30882\tvalidation-rmse:3.15108\n",
      "[238]\ttraining-rmse:3.30856\tvalidation-rmse:3.15009\n",
      "[239]\ttraining-rmse:3.30821\tvalidation-rmse:3.14995\n",
      "[240]\ttraining-rmse:3.30747\tvalidation-rmse:3.14965\n",
      "[241]\ttraining-rmse:3.3072\tvalidation-rmse:3.14964\n",
      "[242]\ttraining-rmse:3.30689\tvalidation-rmse:3.14965\n",
      "[243]\ttraining-rmse:3.3066\tvalidation-rmse:3.14984\n",
      "[244]\ttraining-rmse:3.30561\tvalidation-rmse:3.1493\n",
      "[245]\ttraining-rmse:3.3051\tvalidation-rmse:3.14883\n",
      "[246]\ttraining-rmse:3.30498\tvalidation-rmse:3.149\n",
      "[247]\ttraining-rmse:3.30473\tvalidation-rmse:3.14883\n",
      "[248]\ttraining-rmse:3.30436\tvalidation-rmse:3.14867\n",
      "[249]\ttraining-rmse:3.30386\tvalidation-rmse:3.14863\n",
      "[250]\ttraining-rmse:3.30367\tvalidation-rmse:3.14855\n",
      "[251]\ttraining-rmse:3.30315\tvalidation-rmse:3.14847\n",
      "[252]\ttraining-rmse:3.30277\tvalidation-rmse:3.14765\n",
      "[253]\ttraining-rmse:3.30256\tvalidation-rmse:3.1476\n",
      "[254]\ttraining-rmse:3.30212\tvalidation-rmse:3.14768\n",
      "[255]\ttraining-rmse:3.30149\tvalidation-rmse:3.14711\n",
      "[256]\ttraining-rmse:3.30128\tvalidation-rmse:3.14708\n",
      "[257]\ttraining-rmse:3.30088\tvalidation-rmse:3.14715\n",
      "[258]\ttraining-rmse:3.30076\tvalidation-rmse:3.14716\n",
      "[259]\ttraining-rmse:3.30024\tvalidation-rmse:3.14668\n",
      "[260]\ttraining-rmse:3.29917\tvalidation-rmse:3.14591\n",
      "[261]\ttraining-rmse:3.29671\tvalidation-rmse:3.13994\n",
      "[262]\ttraining-rmse:3.29644\tvalidation-rmse:3.13994\n",
      "[263]\ttraining-rmse:3.2955\tvalidation-rmse:3.13895\n",
      "[264]\ttraining-rmse:3.29491\tvalidation-rmse:3.13812\n",
      "[265]\ttraining-rmse:3.29407\tvalidation-rmse:3.13788\n",
      "[266]\ttraining-rmse:3.29371\tvalidation-rmse:3.13784\n",
      "[267]\ttraining-rmse:3.29308\tvalidation-rmse:3.1376\n",
      "[268]\ttraining-rmse:3.29256\tvalidation-rmse:3.13746\n",
      "[269]\ttraining-rmse:3.2921\tvalidation-rmse:3.13727\n",
      "[270]\ttraining-rmse:3.29087\tvalidation-rmse:3.13697\n",
      "[271]\ttraining-rmse:3.29018\tvalidation-rmse:3.13683\n",
      "[272]\ttraining-rmse:3.28958\tvalidation-rmse:3.13681\n",
      "[273]\ttraining-rmse:3.28913\tvalidation-rmse:3.1366\n",
      "[274]\ttraining-rmse:3.28829\tvalidation-rmse:3.13622\n",
      "[275]\ttraining-rmse:3.28777\tvalidation-rmse:3.13611\n",
      "[276]\ttraining-rmse:3.28738\tvalidation-rmse:3.13604\n",
      "[277]\ttraining-rmse:3.28658\tvalidation-rmse:3.13558\n",
      "[278]\ttraining-rmse:3.28454\tvalidation-rmse:3.13295\n",
      "[279]\ttraining-rmse:3.28424\tvalidation-rmse:3.13284\n",
      "[280]\ttraining-rmse:3.2837\tvalidation-rmse:3.13286\n",
      "[281]\ttraining-rmse:3.28335\tvalidation-rmse:3.13278\n",
      "[282]\ttraining-rmse:3.28281\tvalidation-rmse:3.13284\n",
      "[283]\ttraining-rmse:3.28256\tvalidation-rmse:3.13276\n",
      "[284]\ttraining-rmse:3.28189\tvalidation-rmse:3.13282\n",
      "[285]\ttraining-rmse:3.28012\tvalidation-rmse:3.13153\n",
      "[286]\ttraining-rmse:3.27959\tvalidation-rmse:3.13107\n",
      "[287]\ttraining-rmse:3.27917\tvalidation-rmse:3.13099\n",
      "[288]\ttraining-rmse:3.27852\tvalidation-rmse:3.13066\n",
      "[289]\ttraining-rmse:3.27828\tvalidation-rmse:3.13076\n",
      "[290]\ttraining-rmse:3.27767\tvalidation-rmse:3.13018\n",
      "[291]\ttraining-rmse:3.27641\tvalidation-rmse:3.12873\n",
      "[292]\ttraining-rmse:3.27564\tvalidation-rmse:3.12824\n",
      "[293]\ttraining-rmse:3.27539\tvalidation-rmse:3.12805\n",
      "[294]\ttraining-rmse:3.27473\tvalidation-rmse:3.12785\n",
      "[295]\ttraining-rmse:3.27458\tvalidation-rmse:3.12788\n",
      "[296]\ttraining-rmse:3.27407\tvalidation-rmse:3.1281\n",
      "[297]\ttraining-rmse:3.27323\tvalidation-rmse:3.12806\n",
      "[298]\ttraining-rmse:3.27288\tvalidation-rmse:3.12811\n",
      "[299]\ttraining-rmse:3.27246\tvalidation-rmse:3.12815\n",
      "[300]\ttraining-rmse:3.27227\tvalidation-rmse:3.12797\n",
      "[301]\ttraining-rmse:3.27205\tvalidation-rmse:3.12795\n",
      "[302]\ttraining-rmse:3.27134\tvalidation-rmse:3.1273\n",
      "[303]\ttraining-rmse:3.27121\tvalidation-rmse:3.12708\n",
      "[304]\ttraining-rmse:3.27103\tvalidation-rmse:3.12701\n",
      "[305]\ttraining-rmse:3.27081\tvalidation-rmse:3.12701\n",
      "[306]\ttraining-rmse:3.27042\tvalidation-rmse:3.12678\n",
      "[307]\ttraining-rmse:3.27013\tvalidation-rmse:3.12709\n",
      "[308]\ttraining-rmse:3.26971\tvalidation-rmse:3.12716\n",
      "[309]\ttraining-rmse:3.26802\tvalidation-rmse:3.12655\n",
      "[310]\ttraining-rmse:3.26732\tvalidation-rmse:3.12623\n",
      "[311]\ttraining-rmse:3.26644\tvalidation-rmse:3.12582\n",
      "[312]\ttraining-rmse:3.26569\tvalidation-rmse:3.12429\n",
      "[313]\ttraining-rmse:3.26551\tvalidation-rmse:3.12425\n",
      "[314]\ttraining-rmse:3.26521\tvalidation-rmse:3.12441\n",
      "[315]\ttraining-rmse:3.26502\tvalidation-rmse:3.12439\n",
      "[316]\ttraining-rmse:3.26401\tvalidation-rmse:3.12417\n"
     ]
    },
    {
     "name": "stdout",
     "output_type": "stream",
     "text": [
      "[317]\ttraining-rmse:3.2638\tvalidation-rmse:3.12431\n",
      "[318]\ttraining-rmse:3.26356\tvalidation-rmse:3.12435\n",
      "[319]\ttraining-rmse:3.26344\tvalidation-rmse:3.1244\n",
      "[320]\ttraining-rmse:3.26335\tvalidation-rmse:3.1244\n",
      "[321]\ttraining-rmse:3.26321\tvalidation-rmse:3.1244\n",
      "[322]\ttraining-rmse:3.26284\tvalidation-rmse:3.12423\n",
      "[323]\ttraining-rmse:3.26037\tvalidation-rmse:3.12135\n",
      "[324]\ttraining-rmse:3.25963\tvalidation-rmse:3.12127\n",
      "[325]\ttraining-rmse:3.25927\tvalidation-rmse:3.12113\n",
      "[326]\ttraining-rmse:3.25888\tvalidation-rmse:3.12115\n",
      "[327]\ttraining-rmse:3.25828\tvalidation-rmse:3.12097\n",
      "[328]\ttraining-rmse:3.25811\tvalidation-rmse:3.12109\n",
      "[329]\ttraining-rmse:3.25728\tvalidation-rmse:3.12124\n",
      "[330]\ttraining-rmse:3.25688\tvalidation-rmse:3.12096\n",
      "[331]\ttraining-rmse:3.25653\tvalidation-rmse:3.12061\n",
      "[332]\ttraining-rmse:3.25623\tvalidation-rmse:3.12059\n",
      "[333]\ttraining-rmse:3.25599\tvalidation-rmse:3.12051\n",
      "[334]\ttraining-rmse:3.25568\tvalidation-rmse:3.11987\n",
      "[335]\ttraining-rmse:3.2548\tvalidation-rmse:3.11894\n",
      "[336]\ttraining-rmse:3.25354\tvalidation-rmse:3.11838\n",
      "[337]\ttraining-rmse:3.25343\tvalidation-rmse:3.11834\n",
      "[338]\ttraining-rmse:3.2529\tvalidation-rmse:3.11806\n",
      "[339]\ttraining-rmse:3.25269\tvalidation-rmse:3.11793\n",
      "[340]\ttraining-rmse:3.25233\tvalidation-rmse:3.11778\n",
      "[341]\ttraining-rmse:3.252\tvalidation-rmse:3.11661\n",
      "[342]\ttraining-rmse:3.25165\tvalidation-rmse:3.11687\n",
      "[343]\ttraining-rmse:3.25118\tvalidation-rmse:3.11662\n",
      "[344]\ttraining-rmse:3.25081\tvalidation-rmse:3.11609\n",
      "[345]\ttraining-rmse:3.25059\tvalidation-rmse:3.11568\n",
      "[346]\ttraining-rmse:3.25041\tvalidation-rmse:3.11554\n",
      "[347]\ttraining-rmse:3.25023\tvalidation-rmse:3.11552\n",
      "[348]\ttraining-rmse:3.24914\tvalidation-rmse:3.11498\n",
      "[349]\ttraining-rmse:3.24891\tvalidation-rmse:3.11496\n",
      "[350]\ttraining-rmse:3.24862\tvalidation-rmse:3.11488\n",
      "[351]\ttraining-rmse:3.24833\tvalidation-rmse:3.11474\n",
      "[352]\ttraining-rmse:3.24672\tvalidation-rmse:3.11347\n",
      "[353]\ttraining-rmse:3.246\tvalidation-rmse:3.11346\n",
      "[354]\ttraining-rmse:3.24582\tvalidation-rmse:3.11352\n",
      "[355]\ttraining-rmse:3.24486\tvalidation-rmse:3.11294\n",
      "[356]\ttraining-rmse:3.24458\tvalidation-rmse:3.1133\n",
      "[357]\ttraining-rmse:3.24387\tvalidation-rmse:3.11323\n",
      "[358]\ttraining-rmse:3.24371\tvalidation-rmse:3.11324\n",
      "[359]\ttraining-rmse:3.24314\tvalidation-rmse:3.11329\n",
      "[360]\ttraining-rmse:3.24253\tvalidation-rmse:3.11283\n",
      "[361]\ttraining-rmse:3.24196\tvalidation-rmse:3.11275\n",
      "[362]\ttraining-rmse:3.24171\tvalidation-rmse:3.11278\n",
      "[363]\ttraining-rmse:3.24138\tvalidation-rmse:3.11319\n",
      "[364]\ttraining-rmse:3.2411\tvalidation-rmse:3.11303\n",
      "[365]\ttraining-rmse:3.24081\tvalidation-rmse:3.11359\n",
      "[366]\ttraining-rmse:3.24057\tvalidation-rmse:3.11409\n",
      "[367]\ttraining-rmse:3.23978\tvalidation-rmse:3.1138\n",
      "[368]\ttraining-rmse:3.23944\tvalidation-rmse:3.11378\n",
      "[369]\ttraining-rmse:3.23932\tvalidation-rmse:3.11352\n",
      "[370]\ttraining-rmse:3.23919\tvalidation-rmse:3.11356\n",
      "[371]\ttraining-rmse:3.23884\tvalidation-rmse:3.1118\n",
      "[372]\ttraining-rmse:3.23873\tvalidation-rmse:3.11164\n",
      "[373]\ttraining-rmse:3.23837\tvalidation-rmse:3.11085\n",
      "[374]\ttraining-rmse:3.23794\tvalidation-rmse:3.11078\n",
      "[375]\ttraining-rmse:3.23773\tvalidation-rmse:3.11081\n",
      "[376]\ttraining-rmse:3.23733\tvalidation-rmse:3.11069\n",
      "[377]\ttraining-rmse:3.23651\tvalidation-rmse:3.11036\n",
      "[378]\ttraining-rmse:3.23631\tvalidation-rmse:3.11039\n",
      "[379]\ttraining-rmse:3.23592\tvalidation-rmse:3.11062\n",
      "[380]\ttraining-rmse:3.23562\tvalidation-rmse:3.1105\n",
      "[381]\ttraining-rmse:3.23551\tvalidation-rmse:3.11051\n",
      "[382]\ttraining-rmse:3.2354\tvalidation-rmse:3.11051\n",
      "[383]\ttraining-rmse:3.23491\tvalidation-rmse:3.1106\n",
      "[384]\ttraining-rmse:3.23468\tvalidation-rmse:3.11055\n",
      "[385]\ttraining-rmse:3.23433\tvalidation-rmse:3.11036\n",
      "[386]\ttraining-rmse:3.23358\tvalidation-rmse:3.10954\n",
      "[387]\ttraining-rmse:3.23328\tvalidation-rmse:3.10951\n",
      "[388]\ttraining-rmse:3.23261\tvalidation-rmse:3.10964\n",
      "[389]\ttraining-rmse:3.2322\tvalidation-rmse:3.10911\n",
      "[390]\ttraining-rmse:3.23191\tvalidation-rmse:3.10812\n",
      "[391]\ttraining-rmse:3.23157\tvalidation-rmse:3.10836\n",
      "[392]\ttraining-rmse:3.23132\tvalidation-rmse:3.10832\n",
      "[393]\ttraining-rmse:3.23109\tvalidation-rmse:3.1082\n",
      "[394]\ttraining-rmse:3.23095\tvalidation-rmse:3.10812\n",
      "[395]\ttraining-rmse:3.23067\tvalidation-rmse:3.10823\n",
      "[396]\ttraining-rmse:3.23054\tvalidation-rmse:3.10816\n",
      "[397]\ttraining-rmse:3.23\tvalidation-rmse:3.10811\n",
      "[398]\ttraining-rmse:3.22976\tvalidation-rmse:3.10861\n",
      "[399]\ttraining-rmse:3.22954\tvalidation-rmse:3.10856\n",
      "[400]\ttraining-rmse:3.22896\tvalidation-rmse:3.10802\n",
      "[401]\ttraining-rmse:3.22816\tvalidation-rmse:3.10762\n",
      "[402]\ttraining-rmse:3.22753\tvalidation-rmse:3.10742\n",
      "[403]\ttraining-rmse:3.22716\tvalidation-rmse:3.10704\n",
      "[404]\ttraining-rmse:3.22682\tvalidation-rmse:3.10661\n",
      "[405]\ttraining-rmse:3.22656\tvalidation-rmse:3.10648\n",
      "[406]\ttraining-rmse:3.22631\tvalidation-rmse:3.10676\n",
      "[407]\ttraining-rmse:3.22608\tvalidation-rmse:3.10665\n",
      "[408]\ttraining-rmse:3.226\tvalidation-rmse:3.10649\n",
      "[409]\ttraining-rmse:3.22572\tvalidation-rmse:3.10647\n",
      "[410]\ttraining-rmse:3.22537\tvalidation-rmse:3.10649\n",
      "[411]\ttraining-rmse:3.22518\tvalidation-rmse:3.10652\n",
      "[412]\ttraining-rmse:3.22491\tvalidation-rmse:3.10645\n",
      "[413]\ttraining-rmse:3.22455\tvalidation-rmse:3.10605\n",
      "[414]\ttraining-rmse:3.22416\tvalidation-rmse:3.10588\n",
      "[415]\ttraining-rmse:3.224\tvalidation-rmse:3.10566\n",
      "[416]\ttraining-rmse:3.22345\tvalidation-rmse:3.10588\n",
      "[417]\ttraining-rmse:3.22313\tvalidation-rmse:3.1059\n",
      "[418]\ttraining-rmse:3.223\tvalidation-rmse:3.10594\n",
      "[419]\ttraining-rmse:3.22283\tvalidation-rmse:3.10596\n",
      "[420]\ttraining-rmse:3.22247\tvalidation-rmse:3.10598\n",
      "[421]\ttraining-rmse:3.22204\tvalidation-rmse:3.10576\n",
      "[422]\ttraining-rmse:3.22144\tvalidation-rmse:3.10584\n",
      "[423]\ttraining-rmse:3.22104\tvalidation-rmse:3.10588\n",
      "[424]\ttraining-rmse:3.22054\tvalidation-rmse:3.10611\n",
      "[425]\ttraining-rmse:3.21947\tvalidation-rmse:3.106\n",
      "Stopping. Best iteration:\n",
      "[415]\ttraining-rmse:3.224\tvalidation-rmse:3.10566\n",
      "\n",
      "Wall time: 11min 53s\n"
     ]
    }
   ],
   "source": [
    "%%time\n",
    "xgb_native = xgb.train(params=params_native, \n",
    "                            dtrain=DM_train,\n",
    "                            num_boost_round=100_000,\n",
    "                            evals=watchlist,\n",
    "                            early_stopping_rounds=10,\n",
    "                            evals_result=evals_result,\n",
    "                            verbose_eval=1)"
   ]
  },
  {
   "cell_type": "code",
   "execution_count": 43,
   "metadata": {},
   "outputs": [
    {
     "name": "stdout",
     "output_type": "stream",
     "text": [
      "Best iteration\t415\n",
      "Best tree limit\t416\n",
      "Best RMSE score\t3.105657\n",
      "\n",
      "Training score\n",
      "RMSE for training set: 3.21947\n",
      "RMSE for validation set: 3.10600\n"
     ]
    }
   ],
   "source": [
    "print(\"Best iteration\\t{}\".format(xgb_native.best_iteration))\n",
    "print(\"Best tree limit\\t{}\".format(xgb_native.best_ntree_limit))\n",
    "print(\"Best RMSE score\\t{}\".format(xgb_native.best_score))\n",
    "\n",
    "print_scores(xgb_native)"
   ]
  },
  {
   "cell_type": "markdown",
   "metadata": {
    "_uuid": "a70ed21b43d720282bbae70e934b1188be2bc382"
   },
   "source": [
    "# Predict on test data"
   ]
  },
  {
   "cell_type": "code",
   "execution_count": 44,
   "metadata": {
    "_uuid": "3cbf4836cf8c71dfb67d13a9621b18a8d487197e"
   },
   "outputs": [],
   "source": [
    "# We only need 'key' for the test submission file\n",
    "test_df_raw = pd.read_csv(f'{PATH}test.csv', usecols=['key'])"
   ]
  },
  {
   "cell_type": "code",
   "execution_count": 45,
   "metadata": {
    "_uuid": "ddba4a856ff617411a641dfdf7635e47f969dff8"
   },
   "outputs": [
    {
     "name": "stdout",
     "output_type": "stream",
     "text": [
      "Wall time: 30.7 ms\n"
     ]
    }
   ],
   "source": [
    "%%time\n",
    "test_y_predictions = xgb_native.predict(DM_test)"
   ]
  },
  {
   "cell_type": "markdown",
   "metadata": {},
   "source": [
    "# Submit"
   ]
  },
  {
   "cell_type": "code",
   "execution_count": 46,
   "metadata": {},
   "outputs": [],
   "source": [
    "from datetime import datetime as dt"
   ]
  },
  {
   "cell_type": "code",
   "execution_count": 47,
   "metadata": {
    "_uuid": "ddba4a856ff617411a641dfdf7635e47f969dff8"
   },
   "outputs": [
    {
     "data": {
      "text/plain": [
       "'submissions/v06_XGB_20180731_011309.csv'"
      ]
     },
     "execution_count": 47,
     "metadata": {},
     "output_type": "execute_result"
    }
   ],
   "source": [
    "outdir = 'submissions'\n",
    "os.makedirs(outdir, exist_ok=True)\n",
    "    \n",
    "cur_dt = dt.now().strftime(\"%Y%m%d_%H%M%S\")\n",
    "desc = 'v06_XGB_' # description of submission for reference\n",
    "subm_fn =  desc + cur_dt + '.csv'\n",
    "subm_path = f'{outdir}/{subm_fn}'\n",
    "\n",
    "# Write the predictions to a CSV file which we can submit to the competition.\n",
    "submission = pd.DataFrame(\n",
    "    {'key': test_df_raw.key, 'fare_amount': test_y_predictions},\n",
    "    columns = ['key', 'fare_amount'])\n",
    "submission.to_csv(subm_path, index = False)\n",
    "\n",
    "subm_path"
   ]
  },
  {
   "cell_type": "markdown",
   "metadata": {},
   "source": [
    "Kaggle Score:"
   ]
  },
  {
   "cell_type": "markdown",
   "metadata": {},
   "source": [
    "# Save model"
   ]
  },
  {
   "cell_type": "code",
   "execution_count": 48,
   "metadata": {},
   "outputs": [],
   "source": [
    "import pickle"
   ]
  },
  {
   "cell_type": "code",
   "execution_count": 49,
   "metadata": {},
   "outputs": [],
   "source": [
    "model_fn_save = 'models/xgb_test.pkl'"
   ]
  },
  {
   "cell_type": "code",
   "execution_count": 50,
   "metadata": {},
   "outputs": [],
   "source": [
    "pickle.dump(xgb_native, open(model_fn_save, \"wb\"))"
   ]
  },
  {
   "cell_type": "code",
   "execution_count": 57,
   "metadata": {},
   "outputs": [],
   "source": [
    "xgb_native.save_model(model_fn_save)"
   ]
  },
  {
   "cell_type": "markdown",
   "metadata": {},
   "source": [
    "# Load Model"
   ]
  },
  {
   "cell_type": "code",
   "execution_count": 61,
   "metadata": {},
   "outputs": [],
   "source": [
    "model_fn_open = 'models/xgb_test.pkl'"
   ]
  },
  {
   "cell_type": "code",
   "execution_count": 52,
   "metadata": {},
   "outputs": [],
   "source": [
    "clf2 = pickle.load(open(model_fn_open, \"rb\"))"
   ]
  },
  {
   "cell_type": "code",
   "execution_count": 69,
   "metadata": {},
   "outputs": [
    {
     "data": {
      "text/plain": [
       "{'best_iteration': '415',\n",
       " 'best_msg': '[415]\\ttraining-rmse:3.224\\tvalidation-rmse:3.10566',\n",
       " 'best_score': '3.105657'}"
      ]
     },
     "execution_count": 69,
     "metadata": {},
     "output_type": "execute_result"
    }
   ],
   "source": [
    "clf2 = xgb.Booster(params=params_native) \n",
    "clf2.load_model(model_fn_open) "
   ]
  },
  {
   "cell_type": "markdown",
   "metadata": {},
   "source": [
    "# Compare"
   ]
  },
  {
   "cell_type": "code",
   "execution_count": 59,
   "metadata": {},
   "outputs": [],
   "source": [
    "preds1 = xgb_native.predict(DM_train)"
   ]
  },
  {
   "cell_type": "code",
   "execution_count": 63,
   "metadata": {},
   "outputs": [],
   "source": [
    "preds2 = clf2.predict(DM_train)"
   ]
  },
  {
   "cell_type": "code",
   "execution_count": 67,
   "metadata": {},
   "outputs": [
    {
     "data": {
      "text/plain": [
       "1.0131798"
      ]
     },
     "execution_count": 67,
     "metadata": {},
     "output_type": "execute_result"
    }
   ],
   "source": [
    "np.sum(preds1 - preds2)"
   ]
  },
  {
   "cell_type": "markdown",
   "metadata": {},
   "source": [
    "# Results"
   ]
  },
  {
   "cell_type": "markdown",
   "metadata": {},
   "source": [
    "| Validation | Leader Board | Specs |\n",
    "| --- | --- | --- |\n",
    "| 3.13952 | 3.14550 | v06_XGB_20180731_001818 |"
   ]
  }
 ],
 "metadata": {
  "kernelspec": {
   "display_name": "Python (tf)",
   "language": "python",
   "name": "tf"
  },
  "language_info": {
   "codemirror_mode": {
    "name": "ipython",
    "version": 3
   },
   "file_extension": ".py",
   "mimetype": "text/x-python",
   "name": "python",
   "nbconvert_exporter": "python",
   "pygments_lexer": "ipython3",
   "version": "3.6.6"
  },
  "toc": {
   "base_numbering": 1,
   "nav_menu": {},
   "number_sections": true,
   "sideBar": true,
   "skip_h1_title": false,
   "title_cell": "Table of Contents",
   "title_sidebar": "Contents",
   "toc_cell": false,
   "toc_position": {},
   "toc_section_display": true,
   "toc_window_display": false
  }
 },
 "nbformat": 4,
 "nbformat_minor": 1
}
