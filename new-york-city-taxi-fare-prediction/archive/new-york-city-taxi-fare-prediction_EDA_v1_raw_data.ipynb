{
 "cells": [
  {
   "cell_type": "markdown",
   "metadata": {
    "_uuid": "051d201fce73de0d1511b787d6d65c75615e2e9f"
   },
   "source": [
    "# Exploring 55 million rows of NYC Taxi Fare data with efficient memory usage"
   ]
  },
  {
   "cell_type": "markdown",
   "metadata": {
    "_uuid": "c2ef6f84a9bf95f0d7035a52872e9f67b509ed03"
   },
   "source": [
    "As a follow up from my previous [kernel](https://www.kaggle.com/szelee/how-to-import-a-csv-file-of-55-million-rows), I proceed to do EDA on the entire 55 million rows of data. \n",
    "\n",
    "The main ideas is to load the CSV without the pickup and dropoff coordinates. By selectively choosing the columns during CSV file reading, we can reduce the memory usage and loading time.\n",
    "\n",
    "I focus on the analysis of monthly taxi ride for this kernel.\n",
    "\n",
    "TLDR:\n",
    "1. The test data distribution is quite **different** from training data in terms of monthly total taxi rides. This is not my discovery, I read about it from this [kernel](https://www.kaggle.com/akosciansky/using-ml-for-data-exploration-feat-engineering) by @akosciansky\n",
    "1. There is a sharp increase in taxi fare from **September 2012** onward. This matches the news of [New York Taxis to Start Charging Increased Rates](https://www.nytimes.com/2012/09/04/nyregion/new-york-taxis-to-start-charging-increased-rates.html)\n",
    "1. **\\$2.50** is the reasonable minimum cut-off point to remove outliers. \n",
    "1.  **\\$500** is the reasonable maximum cut-off point to remove outliers (further analysis on pickup and dropoff corrdinates should lower this value)\n",
    "1. Most of the outliers of both maximum and minimum monthly fare lie in the  same periods of time."
   ]
  },
  {
   "cell_type": "markdown",
   "metadata": {
    "_uuid": "99b293a20c743b63163910f63e88534b0cd4c1a2"
   },
   "source": [
    "# Import libraries"
   ]
  },
  {
   "cell_type": "code",
   "execution_count": 1,
   "metadata": {
    "_uuid": "551dd0f5f0591f201f79747d9f05646ea59ef4a9"
   },
   "outputs": [],
   "source": [
    "%matplotlib inline\n",
    "%reload_ext autoreload\n",
    "%autoreload 2\n",
    "\n",
    "import numpy as np \n",
    "import pandas as pd \n",
    "import matplotlib.pyplot as plt\n",
    "import os"
   ]
  },
  {
   "cell_type": "code",
   "execution_count": 5,
   "metadata": {},
   "outputs": [],
   "source": [
    "PATH = \"data/nyc-taxi/\""
   ]
  },
  {
   "cell_type": "markdown",
   "metadata": {
    "_uuid": "fb969a26e52931bcaced3cbb7a36d8d8b1b04556"
   },
   "source": [
    "# Load data csv format\n",
    "(This section only needs to be executed once! Subsequently, once feather format data is created, jump straight to **Load data feather format** section below which is much faster!"
   ]
  },
  {
   "cell_type": "code",
   "execution_count": 6,
   "metadata": {
    "_uuid": "170f30424298fa1cc1fa96af9e6b5275ec0ca360"
   },
   "outputs": [],
   "source": [
    "# Set columns to most suitable type to optimize for memory usage, \n",
    "# We can also drop passenger_count since it's not used in this kernel, but I just keep it since it uses only uint8\n",
    "types = {'fare_amount': 'float32',\n",
    "         'passenger_count': 'uint8'}\n",
    "\n",
    "# Columns to load for training data\n",
    "cols_train = ['fare_amount', 'pickup_datetime', 'passenger_count', 'pickup_datetime']\n",
    "\n",
    "# Columns to load for test data\n",
    "cols_test = ['pickup_datetime', 'passenger_count']"
   ]
  },
  {
   "cell_type": "code",
   "execution_count": 7,
   "metadata": {
    "_uuid": "ba7401e6154d3892a9d07cab657bf4c2ae9d14f4"
   },
   "outputs": [
    {
     "name": "stdout",
     "output_type": "stream",
     "text": [
      "DataFrame Chunk 1\n",
      "DataFrame Chunk 2\n",
      "DataFrame Chunk 3\n",
      "DataFrame Chunk 4\n",
      "DataFrame Chunk 5\n",
      "DataFrame Chunk 6\n",
      "Wall time: 1min 12s\n"
     ]
    }
   ],
   "source": [
    "%%time\n",
    "i=0\n",
    "df_list = [] # list to hold the batch dataframe\n",
    "chunksize = 10_000_000 # 10 million rows at one go. \n",
    "for df_chunk in pd.read_csv(f'{PATH}train.csv', usecols=cols_train, dtype=types, chunksize=chunksize):\n",
    "    \n",
    "    i = i+1\n",
    "    print(f'DataFrame Chunk {i}')\n",
    "    \n",
    "    # Neat trick from https://www.kaggle.com/btyuhas/bayesian-optimization-with-xgboost\n",
    "    # Slicing off unnecessary components of the datetime and specifying the date \n",
    "    # format results in a MUCH more efficient conversion to a datetime object.\n",
    "    df_chunk['pickup_datetime'] = df_chunk['pickup_datetime'].str.slice(0, 16)\n",
    "    df_chunk['pickup_datetime'] = pd.to_datetime(df_chunk['pickup_datetime'], utc=True, format='%Y-%m-%d %H:%M')\n",
    "    \n",
    "    df_list.append(df_chunk) "
   ]
  },
  {
   "cell_type": "code",
   "execution_count": 8,
   "metadata": {
    "_uuid": "90044bef2686d96c8c3f5818ecb4e39a581e8ad5"
   },
   "outputs": [
    {
     "name": "stdout",
     "output_type": "stream",
     "text": [
      "<class 'pandas.core.frame.DataFrame'>\n",
      "RangeIndex: 55423856 entries, 0 to 55423855\n",
      "Data columns (total 3 columns):\n",
      "fare_amount        float32\n",
      "pickup_datetime    datetime64[ns, UTC]\n",
      "passenger_count    uint8\n",
      "dtypes: datetime64[ns, UTC](1), float32(1), uint8(1)\n",
      "memory usage: 687.1 MB\n"
     ]
    }
   ],
   "source": [
    "# Merge all dataframes into one dataframe\n",
    "train_df = pd.concat(df_list)\n",
    "\n",
    "del df_list\n",
    "\n",
    "train_df.info()"
   ]
  },
  {
   "cell_type": "markdown",
   "metadata": {
    "_uuid": "d96c1c997cfb6c9cdd3b578656617deb0122c3a8"
   },
   "source": [
    "This has only used less than **700Mb** of memory for the entire **55 million rows** of data.\n",
    "\n",
    "(Bear in mind that we have purposely ignore pickup and dropoff coordinates for this analysis, otherwise it would consume about **1.5Gb** of memory instead)\n",
    "\n",
    "As comparison, with eat-all-you-can loading such as:\n",
    "\n",
    "`train_df =  pd.read_csv('../input/train.csv', nrows = 10_000_000)`\n",
    "\n",
    "will result in about **610Mb** just for the first **10 million rows**, and \n",
    "\n",
    "`train_df =  pd.read_csv('../input/train.csv')`\n",
    "\n",
    "will consume more than **3Gb** of memory for entire **55 million rows**!"
   ]
  },
  {
   "cell_type": "code",
   "execution_count": 9,
   "metadata": {
    "_uuid": "ec30caa45a26f386add9bd16da528f9fec2cd54c"
   },
   "outputs": [],
   "source": [
    "# save both training and test data to feather format\n",
    "os.makedirs('tmp', exist_ok=True)\n",
    "train_df.to_feather('tmp/taxi-train-no-gps.feather')\n",
    "\n",
    "test_df = pd.read_csv(f'{PATH}test.csv', parse_dates=[\"pickup_datetime\"], usecols=cols_test,\n",
    "                         infer_datetime_format=True, dtype=types)\n",
    "test_df.to_feather('tmp/taxi-test-no-gps.feather')"
   ]
  },
  {
   "cell_type": "markdown",
   "metadata": {
    "_uuid": "a91ff740e9504da4e920e103ad53e1507b5f8334"
   },
   "source": [
    "# Load data feather format\n",
    "(begin from here directly once we have the feather format file)"
   ]
  },
  {
   "cell_type": "code",
   "execution_count": 10,
   "metadata": {
    "_uuid": "e38b2830e96801d5dbc423f84ac3e31753f77a16"
   },
   "outputs": [
    {
     "name": "stdout",
     "output_type": "stream",
     "text": [
      "Wall time: 649 ms\n"
     ]
    }
   ],
   "source": [
    "%%time\n",
    "train_df = pd.read_feather('tmp/taxi-train-no-gps.feather')"
   ]
  },
  {
   "cell_type": "markdown",
   "metadata": {
    "_uuid": "7acfa3ed96e610901eb1c80355b7a57c77c8fae1"
   },
   "source": [
    "Notice it took only a few seconds to load the entire dataframe."
   ]
  },
  {
   "cell_type": "code",
   "execution_count": 11,
   "metadata": {
    "_uuid": "5ca004f6f31534294ec1f0d94948b03d94de8392"
   },
   "outputs": [],
   "source": [
    "test_df = pd.read_feather('tmp/taxi-test-no-gps.feather')"
   ]
  },
  {
   "cell_type": "code",
   "execution_count": 12,
   "metadata": {
    "_uuid": "5e6ef48e8505d5a754d928dcbe3f66744d9e1b9a"
   },
   "outputs": [
    {
     "data": {
      "text/html": [
       "<div>\n",
       "<style scoped>\n",
       "    .dataframe tbody tr th:only-of-type {\n",
       "        vertical-align: middle;\n",
       "    }\n",
       "\n",
       "    .dataframe tbody tr th {\n",
       "        vertical-align: top;\n",
       "    }\n",
       "\n",
       "    .dataframe thead th {\n",
       "        text-align: right;\n",
       "    }\n",
       "</style>\n",
       "<table border=\"1\" class=\"dataframe\">\n",
       "  <thead>\n",
       "    <tr style=\"text-align: right;\">\n",
       "      <th></th>\n",
       "      <th>fare_amount</th>\n",
       "      <th>pickup_datetime</th>\n",
       "      <th>passenger_count</th>\n",
       "    </tr>\n",
       "  </thead>\n",
       "  <tbody>\n",
       "    <tr>\n",
       "      <th>0</th>\n",
       "      <td>4.5</td>\n",
       "      <td>2009-06-15 17:26:00+00:00</td>\n",
       "      <td>1</td>\n",
       "    </tr>\n",
       "    <tr>\n",
       "      <th>1</th>\n",
       "      <td>16.9</td>\n",
       "      <td>2010-01-05 16:52:00+00:00</td>\n",
       "      <td>1</td>\n",
       "    </tr>\n",
       "    <tr>\n",
       "      <th>2</th>\n",
       "      <td>5.7</td>\n",
       "      <td>2011-08-18 00:35:00+00:00</td>\n",
       "      <td>2</td>\n",
       "    </tr>\n",
       "    <tr>\n",
       "      <th>3</th>\n",
       "      <td>7.7</td>\n",
       "      <td>2012-04-21 04:30:00+00:00</td>\n",
       "      <td>1</td>\n",
       "    </tr>\n",
       "    <tr>\n",
       "      <th>4</th>\n",
       "      <td>5.3</td>\n",
       "      <td>2010-03-09 07:51:00+00:00</td>\n",
       "      <td>1</td>\n",
       "    </tr>\n",
       "  </tbody>\n",
       "</table>\n",
       "</div>"
      ],
      "text/plain": [
       "   fare_amount           pickup_datetime  passenger_count\n",
       "0          4.5 2009-06-15 17:26:00+00:00                1\n",
       "1         16.9 2010-01-05 16:52:00+00:00                1\n",
       "2          5.7 2011-08-18 00:35:00+00:00                2\n",
       "3          7.7 2012-04-21 04:30:00+00:00                1\n",
       "4          5.3 2010-03-09 07:51:00+00:00                1"
      ]
     },
     "metadata": {},
     "output_type": "display_data"
    },
    {
     "data": {
      "text/html": [
       "<div>\n",
       "<style scoped>\n",
       "    .dataframe tbody tr th:only-of-type {\n",
       "        vertical-align: middle;\n",
       "    }\n",
       "\n",
       "    .dataframe tbody tr th {\n",
       "        vertical-align: top;\n",
       "    }\n",
       "\n",
       "    .dataframe thead th {\n",
       "        text-align: right;\n",
       "    }\n",
       "</style>\n",
       "<table border=\"1\" class=\"dataframe\">\n",
       "  <thead>\n",
       "    <tr style=\"text-align: right;\">\n",
       "      <th></th>\n",
       "      <th>fare_amount</th>\n",
       "      <th>pickup_datetime</th>\n",
       "      <th>passenger_count</th>\n",
       "    </tr>\n",
       "  </thead>\n",
       "  <tbody>\n",
       "    <tr>\n",
       "      <th>55423851</th>\n",
       "      <td>14.0</td>\n",
       "      <td>2014-03-15 03:28:00+00:00</td>\n",
       "      <td>1</td>\n",
       "    </tr>\n",
       "    <tr>\n",
       "      <th>55423852</th>\n",
       "      <td>4.2</td>\n",
       "      <td>2009-03-24 20:46:00+00:00</td>\n",
       "      <td>1</td>\n",
       "    </tr>\n",
       "    <tr>\n",
       "      <th>55423853</th>\n",
       "      <td>14.1</td>\n",
       "      <td>2011-04-02 22:04:00+00:00</td>\n",
       "      <td>1</td>\n",
       "    </tr>\n",
       "    <tr>\n",
       "      <th>55423854</th>\n",
       "      <td>28.9</td>\n",
       "      <td>2011-10-26 05:57:00+00:00</td>\n",
       "      <td>1</td>\n",
       "    </tr>\n",
       "    <tr>\n",
       "      <th>55423855</th>\n",
       "      <td>7.5</td>\n",
       "      <td>2014-12-12 11:33:00+00:00</td>\n",
       "      <td>1</td>\n",
       "    </tr>\n",
       "  </tbody>\n",
       "</table>\n",
       "</div>"
      ],
      "text/plain": [
       "          fare_amount           pickup_datetime  passenger_count\n",
       "55423851         14.0 2014-03-15 03:28:00+00:00                1\n",
       "55423852          4.2 2009-03-24 20:46:00+00:00                1\n",
       "55423853         14.1 2011-04-02 22:04:00+00:00                1\n",
       "55423854         28.9 2011-10-26 05:57:00+00:00                1\n",
       "55423855          7.5 2014-12-12 11:33:00+00:00                1"
      ]
     },
     "metadata": {},
     "output_type": "display_data"
    }
   ],
   "source": [
    "display(train_df.head())\n",
    "display(train_df.tail())"
   ]
  },
  {
   "cell_type": "code",
   "execution_count": 13,
   "metadata": {
    "_uuid": "9f0dc9f951aa385d0dbcead92de4c17dce5dbbe7"
   },
   "outputs": [
    {
     "data": {
      "text/html": [
       "<div>\n",
       "<style scoped>\n",
       "    .dataframe tbody tr th:only-of-type {\n",
       "        vertical-align: middle;\n",
       "    }\n",
       "\n",
       "    .dataframe tbody tr th {\n",
       "        vertical-align: top;\n",
       "    }\n",
       "\n",
       "    .dataframe thead th {\n",
       "        text-align: right;\n",
       "    }\n",
       "</style>\n",
       "<table border=\"1\" class=\"dataframe\">\n",
       "  <thead>\n",
       "    <tr style=\"text-align: right;\">\n",
       "      <th></th>\n",
       "      <th>pickup_datetime</th>\n",
       "      <th>passenger_count</th>\n",
       "    </tr>\n",
       "  </thead>\n",
       "  <tbody>\n",
       "    <tr>\n",
       "      <th>0</th>\n",
       "      <td>2015-01-27 13:08:24</td>\n",
       "      <td>1</td>\n",
       "    </tr>\n",
       "    <tr>\n",
       "      <th>1</th>\n",
       "      <td>2015-01-27 13:08:24</td>\n",
       "      <td>1</td>\n",
       "    </tr>\n",
       "    <tr>\n",
       "      <th>2</th>\n",
       "      <td>2011-10-08 11:53:44</td>\n",
       "      <td>1</td>\n",
       "    </tr>\n",
       "    <tr>\n",
       "      <th>3</th>\n",
       "      <td>2012-12-01 21:12:12</td>\n",
       "      <td>1</td>\n",
       "    </tr>\n",
       "    <tr>\n",
       "      <th>4</th>\n",
       "      <td>2012-12-01 21:12:12</td>\n",
       "      <td>1</td>\n",
       "    </tr>\n",
       "  </tbody>\n",
       "</table>\n",
       "</div>"
      ],
      "text/plain": [
       "      pickup_datetime  passenger_count\n",
       "0 2015-01-27 13:08:24                1\n",
       "1 2015-01-27 13:08:24                1\n",
       "2 2011-10-08 11:53:44                1\n",
       "3 2012-12-01 21:12:12                1\n",
       "4 2012-12-01 21:12:12                1"
      ]
     },
     "metadata": {},
     "output_type": "display_data"
    },
    {
     "data": {
      "text/html": [
       "<div>\n",
       "<style scoped>\n",
       "    .dataframe tbody tr th:only-of-type {\n",
       "        vertical-align: middle;\n",
       "    }\n",
       "\n",
       "    .dataframe tbody tr th {\n",
       "        vertical-align: top;\n",
       "    }\n",
       "\n",
       "    .dataframe thead th {\n",
       "        text-align: right;\n",
       "    }\n",
       "</style>\n",
       "<table border=\"1\" class=\"dataframe\">\n",
       "  <thead>\n",
       "    <tr style=\"text-align: right;\">\n",
       "      <th></th>\n",
       "      <th>pickup_datetime</th>\n",
       "      <th>passenger_count</th>\n",
       "    </tr>\n",
       "  </thead>\n",
       "  <tbody>\n",
       "    <tr>\n",
       "      <th>9909</th>\n",
       "      <td>2015-05-10 12:37:51</td>\n",
       "      <td>6</td>\n",
       "    </tr>\n",
       "    <tr>\n",
       "      <th>9910</th>\n",
       "      <td>2015-01-12 17:05:51</td>\n",
       "      <td>6</td>\n",
       "    </tr>\n",
       "    <tr>\n",
       "      <th>9911</th>\n",
       "      <td>2015-04-19 20:44:15</td>\n",
       "      <td>6</td>\n",
       "    </tr>\n",
       "    <tr>\n",
       "      <th>9912</th>\n",
       "      <td>2015-01-31 01:05:19</td>\n",
       "      <td>6</td>\n",
       "    </tr>\n",
       "    <tr>\n",
       "      <th>9913</th>\n",
       "      <td>2015-01-18 14:06:23</td>\n",
       "      <td>6</td>\n",
       "    </tr>\n",
       "  </tbody>\n",
       "</table>\n",
       "</div>"
      ],
      "text/plain": [
       "         pickup_datetime  passenger_count\n",
       "9909 2015-05-10 12:37:51                6\n",
       "9910 2015-01-12 17:05:51                6\n",
       "9911 2015-04-19 20:44:15                6\n",
       "9912 2015-01-31 01:05:19                6\n",
       "9913 2015-01-18 14:06:23                6"
      ]
     },
     "metadata": {},
     "output_type": "display_data"
    }
   ],
   "source": [
    "display(test_df.head())\n",
    "display(test_df.tail())"
   ]
  },
  {
   "cell_type": "markdown",
   "metadata": {
    "_uuid": "2eb4df0cb7545293445e4ba8a09757263d1e5644"
   },
   "source": [
    "# Group and aggregate by year-month"
   ]
  },
  {
   "cell_type": "code",
   "execution_count": 14,
   "metadata": {
    "_uuid": "90d598967462c14d3b4bd1d142389fcb2dacfca4"
   },
   "outputs": [],
   "source": [
    "# Group all training data rides by month+year combination and aggregate them by count, mean, median, min and max\n",
    "fare_grouped_df = train_df.fare_amount.groupby([train_df.pickup_datetime.dt.year,train_df.pickup_datetime.dt.month])\n",
    "\n",
    "fare_count_df = fare_grouped_df.count()\n",
    "fare_mean_df = fare_grouped_df.mean()\n",
    "fare_median_df = fare_grouped_df.median()\n",
    "fare_min_df = fare_grouped_df.min()\n",
    "fare_max_df = fare_grouped_df.max()"
   ]
  },
  {
   "cell_type": "code",
   "execution_count": 15,
   "metadata": {
    "_uuid": "22747d3771e6e7b4c7617799b370d9dc6db7a4e2"
   },
   "outputs": [],
   "source": [
    "# for drawing barchart, so we don't have to retype the following everytime\n",
    "def draw_barchart(df, title):\n",
    "    fig = plt.figure(figsize=(20, 4))\n",
    "    ax = fig.add_subplot(111)\n",
    "    df.plot(kind='bar')\n",
    "    ax.set_xlabel(\"(Year, Month)\")\n",
    "    plt.title(title)\n",
    "    plt.show()"
   ]
  },
  {
   "cell_type": "markdown",
   "metadata": {
    "_uuid": "909c3092a70f9c308e280b26099ca19be64e33a0"
   },
   "source": [
    "## Monthly ride count"
   ]
  },
  {
   "cell_type": "markdown",
   "metadata": {
    "_uuid": "801d6f2c2a545fd411cb7481cc3b1aa82f70ddbd"
   },
   "source": [
    "This section is derived from this [kernel](https://www.kaggle.com/akosciansky/using-ml-for-data-exploration-feat-engineering) by @akosciansky"
   ]
  },
  {
   "cell_type": "code",
   "execution_count": 16,
   "metadata": {
    "_uuid": "f13839adef1a722c9060d8af4384267406f9f426"
   },
   "outputs": [
    {
     "data": {
      "text/plain": [
       "count        78.000000\n",
       "mean     710562.256410\n",
       "std       48398.599676\n",
       "min      557375.000000\n",
       "25%      683213.250000\n",
       "50%      714990.500000\n",
       "75%      743938.000000\n",
       "max      804979.000000\n",
       "Name: fare_amount, dtype: float64"
      ]
     },
     "execution_count": 16,
     "metadata": {},
     "output_type": "execute_result"
    }
   ],
   "source": [
    " fare_count_df.describe()"
   ]
  },
  {
   "cell_type": "markdown",
   "metadata": {
    "_uuid": "62faa50cea6e4e64f925966b6f88fe7aa41833da"
   },
   "source": [
    "We also do the aggregate by count for test data, since we are only concern with the **count** of rides here, not the **fare**. We can then compare this with training data."
   ]
  },
  {
   "cell_type": "code",
   "execution_count": 17,
   "metadata": {
    "_uuid": "47aff5569da4e8f3d9ca0c2281b38b9fafa0fabf"
   },
   "outputs": [],
   "source": [
    "test_group_df = test_df.pickup_datetime.groupby([test_df.pickup_datetime.dt.year,test_df.pickup_datetime.dt.month]).count()"
   ]
  },
  {
   "cell_type": "code",
   "execution_count": 18,
   "metadata": {
    "_uuid": "8bd5e7aee07e5be39a550e62e867f3a062d1a47c"
   },
   "outputs": [
    {
     "data": {
      "image/png": "[encoded data removed]",
      "text/plain": [
       "<Figure size 1440x288 with 1 Axes>"
      ]
     },
     "metadata": {},
     "output_type": "display_data"
    },
    {
     "data": {
      "image/png": "[encoded data removed]",
      "text/plain": [
       "<Figure size 1440x288 with 1 Axes>"
      ]
     },
     "metadata": {},
     "output_type": "display_data"
    }
   ],
   "source": [
    "draw_barchart(fare_count_df, 'Monthly total rides of training data from January 2009 to June 2015')\n",
    "draw_barchart(test_group_df, 'Monthly total rides of test data from January 2009 to June 2015')"
   ]
  },
  {
   "cell_type": "markdown",
   "metadata": {
    "_uuid": "46adcd9e3e23f5594d4d691c28e266aa0ad7e000"
   },
   "source": [
    "While training data barchart has a relative uniform monthly total rides, the test data monthly total rides are not spread evenly, with some random huge spikes. We might need to consider this when we create our validation set."
   ]
  },
  {
   "cell_type": "markdown",
   "metadata": {
    "_uuid": "292bd0baeb1cea833394c2903e2b6443f36a05cf"
   },
   "source": [
    "## Monthly mean fare"
   ]
  },
  {
   "cell_type": "code",
   "execution_count": 19,
   "metadata": {
    "_uuid": "565f6e15edd2d82d826de00201f4a8dbd4526ebd"
   },
   "outputs": [
    {
     "data": {
      "text/plain": [
       "count    78.000000\n",
       "mean     11.367785\n",
       "std       1.312047\n",
       "min       9.568311\n",
       "25%      10.212288\n",
       "50%      10.659033\n",
       "75%      12.736461\n",
       "max      13.684370\n",
       "Name: fare_amount, dtype: float64"
      ]
     },
     "execution_count": 19,
     "metadata": {},
     "output_type": "execute_result"
    }
   ],
   "source": [
    "fare_mean_df.describe()"
   ]
  },
  {
   "cell_type": "code",
   "execution_count": 20,
   "metadata": {
    "_uuid": "cebe9ae13ae81afaabef7498d1cedbdf79fbe0dd"
   },
   "outputs": [
    {
     "data": {
      "image/png": "[encoded data removed]",
      "text/plain": [
       "<Figure size 1440x288 with 1 Axes>"
      ]
     },
     "metadata": {},
     "output_type": "display_data"
    }
   ],
   "source": [
    "draw_barchart(fare_mean_df,'Monthly mean of fare from January 2009 to June 2015')"
   ]
  },
  {
   "cell_type": "markdown",
   "metadata": {
    "_uuid": "dbd28cf44a9a2b0b93eb8b4bb8dafa17259446e1"
   },
   "source": [
    "From January 2009 until September 2012, the monthly mean fare is quite uniform. \n",
    "\n",
    "There is a gradual increase from January until December before it dropped again on January of following year.\n",
    "\n",
    "However, there is a big jump from October 2012 onwards. The monthly mean fare increased by about \\$3 during this period. Probably a price increase at this point onwards.\n",
    "\n",
    "The pattern where the monthly mean fare drops from December to January remains true during this period."
   ]
  },
  {
   "cell_type": "markdown",
   "metadata": {
    "_uuid": "5fda4518db03839de0a42c3b95495bdd4df6542c"
   },
   "source": [
    "## Monthly median fare"
   ]
  },
  {
   "cell_type": "code",
   "execution_count": 21,
   "metadata": {
    "_uuid": "87635baac1a96ee87c936f190bf7519cd80b7ba2"
   },
   "outputs": [
    {
     "data": {
      "text/plain": [
       "count    78.000000\n",
       "mean      8.487180\n",
       "std       0.847205\n",
       "min       7.300000\n",
       "25%       7.700000\n",
       "50%       8.100000\n",
       "75%       9.500000\n",
       "max      10.000000\n",
       "Name: fare_amount, dtype: float64"
      ]
     },
     "execution_count": 21,
     "metadata": {},
     "output_type": "execute_result"
    }
   ],
   "source": [
    "fare_median_df.describe()"
   ]
  },
  {
   "cell_type": "code",
   "execution_count": 22,
   "metadata": {
    "_uuid": "56f365a5e5b4481a4f8d5fb608192268c5ab00e6"
   },
   "outputs": [
    {
     "data": {
      "image/png": "[encoded data removed]",
      "text/plain": [
       "<Figure size 1440x288 with 1 Axes>"
      ]
     },
     "metadata": {},
     "output_type": "display_data"
    }
   ],
   "source": [
    "draw_barchart(fare_median_df,'Monthly median of fares from January 2009 to June 2015')"
   ]
  },
  {
   "cell_type": "markdown",
   "metadata": {
    "_uuid": "169562b992562b31766d675c5af2a3a75eeae020"
   },
   "source": [
    "Here we can see the median is relatively uniform from January 2009 to September 2012\n",
    "\n",
    "Not surprisingly, as we've seen in the monthly mean fare bar chart, there is a big jump from October 2012 onwards. \n",
    "\n",
    "The monthly median fare increased permanently by about almost \\$2.00 during this period of September 2012 to June 2015.\n",
    "\n",
    "A quick Google search verifies this:\n",
    "\n",
    "https://www.nytimes.com/2012/09/04/nyregion/new-york-taxis-to-start-charging-increased-rates.html\n",
    "\n",
    "One idea is we can create a boolean column based on the month and year to indicate whether it is before or after the price increase. This will help our model to learn better."
   ]
  },
  {
   "cell_type": "markdown",
   "metadata": {
    "_uuid": "397719e83636fe301b7fc748aa50a0d0dd7c7ee7"
   },
   "source": [
    "## Monthly minimum fare"
   ]
  },
  {
   "cell_type": "code",
   "execution_count": 23,
   "metadata": {
    "_uuid": "72d879aa078c4f8b684ee37ab14821bdaed31302"
   },
   "outputs": [
    {
     "data": {
      "text/plain": [
       "count     78.000000\n",
       "mean     -15.734744\n",
       "std       58.026012\n",
       "min     -300.000000\n",
       "25%        2.500000\n",
       "50%        2.500000\n",
       "75%        2.500000\n",
       "max        2.500000\n",
       "Name: fare_amount, dtype: float64"
      ]
     },
     "execution_count": 23,
     "metadata": {},
     "output_type": "execute_result"
    }
   ],
   "source": [
    "fare_min_df.describe()"
   ]
  },
  {
   "cell_type": "markdown",
   "metadata": {
    "_uuid": "20d910b759f13e593d946a71909d0a94e609344e"
   },
   "source": [
    "The 25% percentile, 50% percentile (median) and 75% percentile all shows \\$2.5. Which is probably the real minimum fare.\n",
    "\n",
    "Most people just assume the minimum fare of \\$0 and drop the negative fares. We need to dig deeper."
   ]
  },
  {
   "cell_type": "code",
   "execution_count": 24,
   "metadata": {
    "_uuid": "0872a353565e88aba4896c91c5f37b3dfcbd85a3"
   },
   "outputs": [
    {
     "data": {
      "text/plain": [
       "0    2.5\n",
       "dtype: float32"
      ]
     },
     "execution_count": 24,
     "metadata": {},
     "output_type": "execute_result"
    }
   ],
   "source": [
    "fare_min_df.mode()"
   ]
  },
  {
   "cell_type": "markdown",
   "metadata": {
    "_uuid": "ebb1f279e6adbb0a1941601ad3e15bab81799a84"
   },
   "source": [
    "Mode value is also \\$2.50"
   ]
  },
  {
   "cell_type": "code",
   "execution_count": 25,
   "metadata": {
    "_uuid": "40fcf180ad146f4091ad477ec2f8af84ee612338"
   },
   "outputs": [
    {
     "name": "stdout",
     "output_type": "stream",
     "text": [
      "Number of rides below $0.00: \t\t2454\n",
      "Number of rides at $0.00: \t\t1380\n",
      "Number of rides between $0.01 & $2.49:  913\n",
      "\n",
      "Number of rides below $2.50(all above): 4747\n",
      "\n",
      "Number of rides at $2.50: \t\t224309\n",
      "Number of rides of more than $2.50: \t55194800\n"
     ]
    }
   ],
   "source": [
    "# take note that we are checking the fare amount in the original dataframe, not the aggregated one\n",
    "print(f\"Number of rides below $0.00: \\t\\t{len(train_df.fare_amount[train_df.fare_amount<0])}\")\n",
    "print(f\"Number of rides at $0.00: \\t\\t{len(train_df.fare_amount[train_df.fare_amount==0])}\")\n",
    "print(f\"Number of rides between $0.01 & $2.49:  {len(train_df.fare_amount[train_df.fare_amount.between(0,2.50,inclusive=False)])}\")\n",
    "print()\n",
    "print(f\"Number of rides below $2.50(all above): {len(train_df.fare_amount[train_df.fare_amount<2.5])}\")\n",
    "print()\n",
    "print(f\"Number of rides at $2.50: \\t\\t{len(train_df.fare_amount[train_df.fare_amount==2.5])}\")\n",
    "print(f\"Number of rides of more than $2.50: \\t{len(train_df.fare_amount[train_df.fare_amount>2.5])}\")"
   ]
  },
  {
   "cell_type": "markdown",
   "metadata": {
    "_uuid": "6315965c2f2679a9fd34d93d0cde2b33d7d4f1dc"
   },
   "source": [
    "There are 2,454 cases of negative fare, 1,380 cases of zero fares and 913 cases more than \\$0 but below \\$2.50. \n",
    "\n",
    "In total, these three categories add up to 4,747 cases.\n",
    "\n",
    "There are 224,309 cases at \\$2.50 in comparison.\n",
    "\n",
    "From above we can see above that \\$2.50 would be a more reasonable minimum fare, as can be confirmed below:\n",
    "\n",
    "http://www.nyc.gov/html/tlc/html/passenger/taxicab_rate.shtml\n",
    "\n",
    "Hence we should remove those below **\\$2.50** as outliers, instead of just dropping rows with negative fares."
   ]
  },
  {
   "cell_type": "code",
   "execution_count": 26,
   "metadata": {
    "_uuid": "b06c8b823e22f26b2976dd0e86a3423bd2477269"
   },
   "outputs": [
    {
     "data": {
      "image/png": "[encoded data removed]",
      "text/plain": [
       "<Figure size 1440x288 with 1 Axes>"
      ]
     },
     "metadata": {},
     "output_type": "display_data"
    }
   ],
   "source": [
    "draw_barchart(fare_min_df, 'Monthly minimum of fares from January 2009 to June 2015')"
   ]
  },
  {
   "cell_type": "markdown",
   "metadata": {
    "_uuid": "59792ff68309c02edc8602736e393505d37f07dc"
   },
   "source": [
    "Many minimum fare outliers fall in simply a few periods, such as February 2010, March 2010, August 2013, and January to June of 2015. \n",
    "\n",
    "Removing all rows with fare below \\$.250 will remove those outliers."
   ]
  },
  {
   "cell_type": "markdown",
   "metadata": {
    "_uuid": "b65698b229c1751b4735e42872268df849729cc8"
   },
   "source": [
    "## Monthly maximum fare"
   ]
  },
  {
   "cell_type": "code",
   "execution_count": 27,
   "metadata": {
    "_uuid": "d57ad2e587a97680598c92e440228e02490c422f"
   },
   "outputs": [
    {
     "data": {
      "text/plain": [
       "count       78.000000\n",
       "mean      3525.962402\n",
       "std      15073.134766\n",
       "min        199.300003\n",
       "25%        371.250000\n",
       "50%        450.000000\n",
       "75%        499.742493\n",
       "max      93963.359375\n",
       "Name: fare_amount, dtype: float64"
      ]
     },
     "execution_count": 27,
     "metadata": {},
     "output_type": "execute_result"
    }
   ],
   "source": [
    "fare_max_df.describe()"
   ]
  },
  {
   "cell_type": "markdown",
   "metadata": {
    "_uuid": "385fc0450b6b96dce9d6f574399eb7c4a4ca7b09"
   },
   "source": [
    "There are obviously some extreme values we need to get rid of before the statistics would make any sense.\n",
    "\n",
    "The mean value of \\$3526 for taxi ride is absurd.\n",
    "\n",
    "Unlike minimum fare, we have no way of working out the optimal value for maximum fare.\n",
    "\n",
    "Obviously, this is where the dependency with pickup and dropoff coordinates matters more - from where, to where, and how far you travel determines how much is the fare, instead of the date and time when you travel.\n",
    "\n",
    "We rely more on visualization help from barchart."
   ]
  },
  {
   "cell_type": "code",
   "execution_count": 28,
   "metadata": {
    "_uuid": "f7c98c95bfea84205abddd39f354e7bd6adf52e5"
   },
   "outputs": [
    {
     "data": {
      "image/png": "[encoded data removed]",
      "text/plain": [
       "<Figure size 1440x288 with 1 Axes>"
      ]
     },
     "metadata": {},
     "output_type": "display_data"
    }
   ],
   "source": [
    "draw_barchart(fare_max_df, 'Monthly maximum fares from January 2009 to June 2015')"
   ]
  },
  {
   "cell_type": "markdown",
   "metadata": {
    "_uuid": "44d1015b7a1c7a560309da7e5f6434eedc5a83dc"
   },
   "source": [
    "Luckily the chart above points shows us very clearly the few outliers that we should remove immediately.\n",
    "\n",
    "Quite similar to the monthly minimum fare chart, there are outliers in the same periods, namely February 2010, \n",
    "March 2010, August 2013, and January to June of 2015 (more apparent in February and May).\n",
    "\n",
    "We can sort the maximum monthly fare for easier observation."
   ]
  },
  {
   "cell_type": "code",
   "execution_count": 29,
   "metadata": {
    "_uuid": "3483a6b6f2832302eb8ff1f6cfe8bc59a7272337"
   },
   "outputs": [
    {
     "data": {
      "image/png": "[encoded data removed]",
      "text/plain": [
       "<Figure size 1440x288 with 1 Axes>"
      ]
     },
     "metadata": {},
     "output_type": "display_data"
    }
   ],
   "source": [
    "sorted_max_fare = fare_max_df.sort_values(ascending=False)\n",
    "draw_barchart(sorted_max_fare.head(30), 'Sorted monthly maximum fares')"
   ]
  },
  {
   "cell_type": "markdown",
   "metadata": {
    "_uuid": "3c3cf8e711740d766e0def3e0ecc8d5ba5225073"
   },
   "source": [
    "Seem that we only need to remove the first 9 elements in the list above. We can confirm by printing out the values."
   ]
  },
  {
   "cell_type": "code",
   "execution_count": 30,
   "metadata": {
    "_uuid": "66c5dd9caac60242b2523fa6256ff3489869835f"
   },
   "outputs": [
    {
     "data": {
      "text/plain": [
       "pickup_datetime  pickup_datetime\n",
       "2015             2                  93963.359375\n",
       "                 5                  75747.023438\n",
       "2013             8                  61550.859375\n",
       "2010             2                   9000.410156\n",
       "2015             3                   3130.300049\n",
       "2010             3                   2023.699951\n",
       "2015             1                    978.000000\n",
       "                 4                    957.000000\n",
       "                 6                    900.000000\n",
       "2012             2                    500.000000\n",
       "2013             3                    500.000000\n",
       "                 4                    500.000000\n",
       "                 9                    500.000000\n",
       "2014             1                    500.000000\n",
       "                 3                    500.000000\n",
       "2011             11                   500.000000\n",
       "                 5                    500.000000\n",
       "                 9                    500.000000\n",
       "2012             12                   500.000000\n",
       "                 11                   499.989990\n",
       "2014             7                    499.000000\n",
       "2011             4                    499.000000\n",
       "                 3                    499.000000\n",
       "2014             11                   498.649994\n",
       "2010             11                   495.000000\n",
       "2012             1                    480.000000\n",
       "                 8                    479.350006\n",
       "2011             1                    476.100006\n",
       "2012             7                    475.000000\n",
       "2011             2                    475.000000\n",
       "Name: fare_amount, dtype: float32"
      ]
     },
     "execution_count": 30,
     "metadata": {},
     "output_type": "execute_result"
    }
   ],
   "source": [
    "sorted_max_fare.head(30)"
   ]
  },
  {
   "cell_type": "markdown",
   "metadata": {
    "_uuid": "22d4ac1a7955d08b371505bdc84afda2a085fefd"
   },
   "source": [
    "From the sorted values above, the 9th element has value of \\$900. Thus we can safely remove those above **\\$500.00** as outliers at this point.\n",
    "\n",
    "This is better than just picking maximum value by gut feeling.\n",
    "\n",
    "The maximum values of \\$500.00 for taxi fare is still quite mind-boggling, but this is because we haven't considered the pickup-dropoff coordinates. It's most likely there are some extremely long taxi rides that we need to check."
   ]
  },
  {
   "cell_type": "markdown",
   "metadata": {
    "_uuid": "8c6212a5c8a8f4217db30773bcb4b807d4b91350"
   },
   "source": [
    "# Summary Findings"
   ]
  },
  {
   "cell_type": "markdown",
   "metadata": {
    "_uuid": "3cd7324c18a9bb89e54f96059229d349900126b8"
   },
   "source": [
    "1. By selectively choosing the columns/features during CSV file loading, we can reduce the memory usage of reading the **entire csv files of 55 million rows from 3Gb++ to less than 700Mb**.\n",
    "1. By saving the raw dataframe to feather format, we can reload the entire dataframe in subsequent session much faster from a matter of **minutes to seconds**. There is no need to read the CSV file again.\n",
    "1. Test data distribution is quite **different** from training data in terms of monthly total taxi rides. This is not my discovery, I derived from this [kernel](https://www.kaggle.com/akosciansky/using-ml-for-data-exploration-feat-engineering). This could affect how we create our validation data in order to maximize our test data score.\n",
    "1. There is a jump in taxi fare by about \\$2 to \\$3 from September 2012. This matches the news report of [New York Taxis to Start Charging Increased Rates](https://www.nytimes.com/2012/09/04/nyregion/new-york-taxis-to-start-charging-increased-rates.html). We can create a boolean column to indicate whether the taxi charge is before or after the rate increase by checking the month and year.\n",
    "1. From monthly minimum fare, there is a high occurence of **\\$2.50**, which is the real minimum fare for NYC taxi ride.  Using this value is better than just simply removing rows with negative fare.\n",
    "1. From monthly maximum fare, **\\$500** is the reasonable cut-off point to remove outliers. To bring down this maximum value, we need to study the pickup and dropoff coordinates for both training and test data.\n",
    "1. The outliers of maximum and minimum fare almost fall in the same periods of time - February 2010, March 2010, August 2013, and January to June of 2015 (more apparent in February and May)."
   ]
  },
  {
   "cell_type": "markdown",
   "metadata": {
    "_uuid": "542690f7700e3646d63c30a3c228a94a4ffbcff5"
   },
   "source": [
    "# Todo"
   ]
  },
  {
   "cell_type": "markdown",
   "metadata": {
    "_uuid": "f8a6ab03887d2c4c532fd4037ecd351af6234780"
   },
   "source": [
    "1. Remove outliers based on the findings above. See how much outliers we removed.\n",
    "1. Revisit all the monthly group and aggregates after the previous step, see if we have cleaner data.\n",
    "1. Explore other parts of datetime to see how is the fare affected by week of the year, day of the week and time of the day.\n",
    "1. Consider adding a holiday or calendar events column to see if holiday or other events affect the taxi ride count."
   ]
  }
 ],
 "metadata": {
  "kernelspec": {
   "display_name": "Python (fastai)",
   "language": "python",
   "name": "fastai"
  },
  "language_info": {
   "codemirror_mode": {
    "name": "ipython",
    "version": 3
   },
   "file_extension": ".py",
   "mimetype": "text/x-python",
   "name": "python",
   "nbconvert_exporter": "python",
   "pygments_lexer": "ipython3",
   "version": "3.6.6"
  },
  "toc": {
   "base_numbering": 1,
   "nav_menu": {},
   "number_sections": true,
   "sideBar": true,
   "skip_h1_title": false,
   "title_cell": "Table of Contents",
   "title_sidebar": "Contents",
   "toc_cell": false,
   "toc_position": {},
   "toc_section_display": true,
   "toc_window_display": false
  }
 },
 "nbformat": 4,
 "nbformat_minor": 1
}
