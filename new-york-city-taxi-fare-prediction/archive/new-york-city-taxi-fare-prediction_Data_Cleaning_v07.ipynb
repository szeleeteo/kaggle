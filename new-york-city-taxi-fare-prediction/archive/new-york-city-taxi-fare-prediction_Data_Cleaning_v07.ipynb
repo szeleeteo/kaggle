{
 "cells": [
  {
   "cell_type": "markdown",
   "metadata": {
    "heading_collapsed": true
   },
   "source": [
    "# Imports"
   ]
  },
  {
   "cell_type": "code",
   "execution_count": 1,
   "metadata": {
    "hidden": true
   },
   "outputs": [],
   "source": [
    "%matplotlib inline\n",
    "%reload_ext autoreload\n",
    "%autoreload 2"
   ]
  },
  {
   "cell_type": "code",
   "execution_count": 2,
   "metadata": {
    "_cell_guid": "b1076dfc-b9ad-4769-8c92-a6c4dae69d19",
    "_uuid": "8f2839f25d086af736a60e9eeb907d3b93b6e0e5",
    "hidden": true
   },
   "outputs": [],
   "source": [
    "import numpy as np \n",
    "import pandas as pd \n",
    "import matplotlib.pyplot as plt\n",
    "import os"
   ]
  },
  {
   "cell_type": "code",
   "execution_count": 3,
   "metadata": {
    "hidden": true
   },
   "outputs": [],
   "source": [
    "from fastai.imports import *\n",
    "from fastai.structured import *\n",
    "\n",
    "from pandas_summary import DataFrameSummary\n",
    "from IPython.display import display"
   ]
  },
  {
   "cell_type": "code",
   "execution_count": 4,
   "metadata": {
    "hidden": true
   },
   "outputs": [],
   "source": [
    "PATH = 'data/nyc-taxi/'"
   ]
  },
  {
   "cell_type": "markdown",
   "metadata": {
    "_uuid": "fb969a26e52931bcaced3cbb7a36d8d8b1b04556",
    "heading_collapsed": true
   },
   "source": [
    "# Load training and test data"
   ]
  },
  {
   "cell_type": "markdown",
   "metadata": {
    "hidden": true
   },
   "source": [
    "The entire dataset has about 55,423,857 rows"
   ]
  },
  {
   "cell_type": "code",
   "execution_count": 5,
   "metadata": {
    "hidden": true
   },
   "outputs": [],
   "source": [
    "types = {'fare_amount': 'float32',\n",
    "         'pickup_longitude': 'float32',\n",
    "         'pickup_latitude': 'float32',\n",
    "         'dropoff_longitude': 'float32',\n",
    "         'dropoff_latitude': 'float32',\n",
    "         'passenger_count': 'uint8'}\n",
    "\n",
    "# Columns to keep (basically discarding the 'key' column)\n",
    "cols_train = ['fare_amount', 'pickup_datetime', 'pickup_longitude', \n",
    "        'pickup_latitude', 'dropoff_longitude', 'dropoff_latitude', 'passenger_count', 'pickup_datetime']\n",
    "\n",
    "# No 'fare_amount'\n",
    "cols_test = ['pickup_datetime', 'pickup_longitude', \n",
    "        'pickup_latitude', 'dropoff_longitude', 'dropoff_latitude', 'passenger_count', 'pickup_datetime']"
   ]
  },
  {
   "cell_type": "code",
   "execution_count": 6,
   "metadata": {
    "hidden": true
   },
   "outputs": [
    {
     "name": "stdout",
     "output_type": "stream",
     "text": [
      "Chunk size: 10,000,000\n",
      "Total chunks required: 6\n"
     ]
    }
   ],
   "source": [
    "df_list = [] # list to hold the batch dataframe\n",
    "chunksize = 10_000_000 # 10 million rows at one go. Or try 10 million\n",
    "total_chunk = 55423857 // chunksize + 1\n",
    "\n",
    "print(f'Chunk size: {chunksize:,}\\nTotal chunks required: {total_chunk}')"
   ]
  },
  {
   "cell_type": "code",
   "execution_count": 7,
   "metadata": {
    "hidden": true
   },
   "outputs": [
    {
     "name": "stdout",
     "output_type": "stream",
     "text": [
      "DataFrame Chunk 1/6\n",
      "DataFrame Chunk 2/6\n",
      "DataFrame Chunk 3/6\n",
      "DataFrame Chunk 4/6\n",
      "DataFrame Chunk 5/6\n",
      "DataFrame Chunk 6/6\n",
      "Wall time: 2min\n"
     ]
    }
   ],
   "source": [
    "%%time\n",
    "i=0\n",
    "for df_chunk in pd.read_csv(f'{PATH}train.csv', usecols=cols_train, dtype=types, chunksize=chunksize):\n",
    "    \n",
    "    i = i+1\n",
    "    # Each chunk is a corresponding dataframe\n",
    "    print(f'DataFrame Chunk {i}/{total_chunk}')\n",
    "    \n",
    "    # Slicing off unnecessary components of the datetime and specifying the date format\n",
    "    # results in a MUCH more efficient conversion to a datetime object.\n",
    "    # notice that the second components is truncated as we don't really need that portion for this prediction\n",
    "    df_chunk['pickup_datetime'] = df_chunk['pickup_datetime'].str.slice(0, 16)\n",
    "    df_chunk['pickup_datetime'] = pd.to_datetime(df_chunk['pickup_datetime'], format='%Y-%m-%d %H') \n",
    "    \n",
    "    # Alternatively, append the chunk to list and merge all\n",
    "    df_list.append(df_chunk) "
   ]
  },
  {
   "cell_type": "code",
   "execution_count": 8,
   "metadata": {
    "hidden": true
   },
   "outputs": [],
   "source": [
    "# Merge all dataframes into one dataframe\n",
    "train_df = pd.concat(df_list)\n",
    "\n",
    "del df_list"
   ]
  },
  {
   "cell_type": "code",
   "execution_count": 9,
   "metadata": {
    "hidden": true
   },
   "outputs": [
    {
     "name": "stdout",
     "output_type": "stream",
     "text": [
      "<class 'pandas.core.frame.DataFrame'>\n",
      "RangeIndex: 55423856 entries, 0 to 55423855\n",
      "Data columns (total 7 columns):\n",
      "fare_amount          float32\n",
      "pickup_datetime      datetime64[ns]\n",
      "pickup_longitude     float32\n",
      "pickup_latitude      float32\n",
      "dropoff_longitude    float32\n",
      "dropoff_latitude     float32\n",
      "passenger_count      uint8\n",
      "dtypes: datetime64[ns](1), float32(5), uint8(1)\n",
      "memory usage: 1.5 GB\n"
     ]
    }
   ],
   "source": [
    "train_df.info()"
   ]
  },
  {
   "cell_type": "code",
   "execution_count": 10,
   "metadata": {
    "hidden": true
   },
   "outputs": [
    {
     "data": {
      "text/html": [
       "<div>\n",
       "<style scoped>\n",
       "    .dataframe tbody tr th:only-of-type {\n",
       "        vertical-align: middle;\n",
       "    }\n",
       "\n",
       "    .dataframe tbody tr th {\n",
       "        vertical-align: top;\n",
       "    }\n",
       "\n",
       "    .dataframe thead th {\n",
       "        text-align: right;\n",
       "    }\n",
       "</style>\n",
       "<table border=\"1\" class=\"dataframe\">\n",
       "  <thead>\n",
       "    <tr style=\"text-align: right;\">\n",
       "      <th></th>\n",
       "      <th>fare_amount</th>\n",
       "      <th>pickup_datetime</th>\n",
       "      <th>pickup_longitude</th>\n",
       "      <th>pickup_latitude</th>\n",
       "      <th>dropoff_longitude</th>\n",
       "      <th>dropoff_latitude</th>\n",
       "      <th>passenger_count</th>\n",
       "    </tr>\n",
       "  </thead>\n",
       "  <tbody>\n",
       "    <tr>\n",
       "      <th>0</th>\n",
       "      <td>4.5</td>\n",
       "      <td>2009-06-15 17:26:00</td>\n",
       "      <td>-73.844315</td>\n",
       "      <td>40.721317</td>\n",
       "      <td>-73.841614</td>\n",
       "      <td>40.712276</td>\n",
       "      <td>1</td>\n",
       "    </tr>\n",
       "    <tr>\n",
       "      <th>1</th>\n",
       "      <td>16.9</td>\n",
       "      <td>2010-01-05 16:52:00</td>\n",
       "      <td>-74.016045</td>\n",
       "      <td>40.711304</td>\n",
       "      <td>-73.979271</td>\n",
       "      <td>40.782005</td>\n",
       "      <td>1</td>\n",
       "    </tr>\n",
       "    <tr>\n",
       "      <th>2</th>\n",
       "      <td>5.7</td>\n",
       "      <td>2011-08-18 00:35:00</td>\n",
       "      <td>-73.982735</td>\n",
       "      <td>40.761269</td>\n",
       "      <td>-73.991241</td>\n",
       "      <td>40.750561</td>\n",
       "      <td>2</td>\n",
       "    </tr>\n",
       "    <tr>\n",
       "      <th>3</th>\n",
       "      <td>7.7</td>\n",
       "      <td>2012-04-21 04:30:00</td>\n",
       "      <td>-73.987129</td>\n",
       "      <td>40.733143</td>\n",
       "      <td>-73.991570</td>\n",
       "      <td>40.758091</td>\n",
       "      <td>1</td>\n",
       "    </tr>\n",
       "    <tr>\n",
       "      <th>4</th>\n",
       "      <td>5.3</td>\n",
       "      <td>2010-03-09 07:51:00</td>\n",
       "      <td>-73.968094</td>\n",
       "      <td>40.768009</td>\n",
       "      <td>-73.956657</td>\n",
       "      <td>40.783764</td>\n",
       "      <td>1</td>\n",
       "    </tr>\n",
       "  </tbody>\n",
       "</table>\n",
       "</div>"
      ],
      "text/plain": [
       "   fare_amount     pickup_datetime  pickup_longitude  pickup_latitude  \\\n",
       "0          4.5 2009-06-15 17:26:00        -73.844315        40.721317   \n",
       "1         16.9 2010-01-05 16:52:00        -74.016045        40.711304   \n",
       "2          5.7 2011-08-18 00:35:00        -73.982735        40.761269   \n",
       "3          7.7 2012-04-21 04:30:00        -73.987129        40.733143   \n",
       "4          5.3 2010-03-09 07:51:00        -73.968094        40.768009   \n",
       "\n",
       "   dropoff_longitude  dropoff_latitude  passenger_count  \n",
       "0         -73.841614         40.712276                1  \n",
       "1         -73.979271         40.782005                1  \n",
       "2         -73.991241         40.750561                2  \n",
       "3         -73.991570         40.758091                1  \n",
       "4         -73.956657         40.783764                1  "
      ]
     },
     "metadata": {},
     "output_type": "display_data"
    },
    {
     "data": {
      "text/html": [
       "<div>\n",
       "<style scoped>\n",
       "    .dataframe tbody tr th:only-of-type {\n",
       "        vertical-align: middle;\n",
       "    }\n",
       "\n",
       "    .dataframe tbody tr th {\n",
       "        vertical-align: top;\n",
       "    }\n",
       "\n",
       "    .dataframe thead th {\n",
       "        text-align: right;\n",
       "    }\n",
       "</style>\n",
       "<table border=\"1\" class=\"dataframe\">\n",
       "  <thead>\n",
       "    <tr style=\"text-align: right;\">\n",
       "      <th></th>\n",
       "      <th>fare_amount</th>\n",
       "      <th>pickup_datetime</th>\n",
       "      <th>pickup_longitude</th>\n",
       "      <th>pickup_latitude</th>\n",
       "      <th>dropoff_longitude</th>\n",
       "      <th>dropoff_latitude</th>\n",
       "      <th>passenger_count</th>\n",
       "    </tr>\n",
       "  </thead>\n",
       "  <tbody>\n",
       "    <tr>\n",
       "      <th>55423851</th>\n",
       "      <td>14.0</td>\n",
       "      <td>2014-03-15 03:28:00</td>\n",
       "      <td>-74.005272</td>\n",
       "      <td>40.740028</td>\n",
       "      <td>-73.963280</td>\n",
       "      <td>40.762554</td>\n",
       "      <td>1</td>\n",
       "    </tr>\n",
       "    <tr>\n",
       "      <th>55423852</th>\n",
       "      <td>4.2</td>\n",
       "      <td>2009-03-24 20:46:00</td>\n",
       "      <td>-73.957787</td>\n",
       "      <td>40.765530</td>\n",
       "      <td>-73.951637</td>\n",
       "      <td>40.773960</td>\n",
       "      <td>1</td>\n",
       "    </tr>\n",
       "    <tr>\n",
       "      <th>55423853</th>\n",
       "      <td>14.1</td>\n",
       "      <td>2011-04-02 22:04:00</td>\n",
       "      <td>-73.970505</td>\n",
       "      <td>40.752323</td>\n",
       "      <td>-73.960541</td>\n",
       "      <td>40.797340</td>\n",
       "      <td>1</td>\n",
       "    </tr>\n",
       "    <tr>\n",
       "      <th>55423854</th>\n",
       "      <td>28.9</td>\n",
       "      <td>2011-10-26 05:57:00</td>\n",
       "      <td>-73.980904</td>\n",
       "      <td>40.764629</td>\n",
       "      <td>-73.870605</td>\n",
       "      <td>40.773964</td>\n",
       "      <td>1</td>\n",
       "    </tr>\n",
       "    <tr>\n",
       "      <th>55423855</th>\n",
       "      <td>7.5</td>\n",
       "      <td>2014-12-12 11:33:00</td>\n",
       "      <td>-73.969719</td>\n",
       "      <td>40.797668</td>\n",
       "      <td>-73.970886</td>\n",
       "      <td>40.783314</td>\n",
       "      <td>1</td>\n",
       "    </tr>\n",
       "  </tbody>\n",
       "</table>\n",
       "</div>"
      ],
      "text/plain": [
       "          fare_amount     pickup_datetime  pickup_longitude  pickup_latitude  \\\n",
       "55423851         14.0 2014-03-15 03:28:00        -74.005272        40.740028   \n",
       "55423852          4.2 2009-03-24 20:46:00        -73.957787        40.765530   \n",
       "55423853         14.1 2011-04-02 22:04:00        -73.970505        40.752323   \n",
       "55423854         28.9 2011-10-26 05:57:00        -73.980904        40.764629   \n",
       "55423855          7.5 2014-12-12 11:33:00        -73.969719        40.797668   \n",
       "\n",
       "          dropoff_longitude  dropoff_latitude  passenger_count  \n",
       "55423851         -73.963280         40.762554                1  \n",
       "55423852         -73.951637         40.773960                1  \n",
       "55423853         -73.960541         40.797340                1  \n",
       "55423854         -73.870605         40.773964                1  \n",
       "55423855         -73.970886         40.783314                1  "
      ]
     },
     "metadata": {},
     "output_type": "display_data"
    }
   ],
   "source": [
    "display(train_df.head())\n",
    "display(train_df.tail())"
   ]
  },
  {
   "cell_type": "code",
   "execution_count": 11,
   "metadata": {
    "hidden": true
   },
   "outputs": [
    {
     "name": "stdout",
     "output_type": "stream",
     "text": [
      "Wall time: 6.17 s\n"
     ]
    }
   ],
   "source": [
    "%%time\n",
    "os.makedirs('tmp', exist_ok=True)\n",
    "train_df.to_feather('tmp/taxi-train-raw')"
   ]
  },
  {
   "cell_type": "code",
   "execution_count": 8,
   "metadata": {
    "hidden": true
   },
   "outputs": [
    {
     "name": "stdout",
     "output_type": "stream",
     "text": [
      "CPU times: user 663 ms, sys: 2.83 s, total: 3.49 s\n",
      "Wall time: 9.28 s\n"
     ]
    }
   ],
   "source": [
    "%%time\n",
    "train_df = pd.read_feather('tmp/taxi-train-raw')"
   ]
  },
  {
   "cell_type": "code",
   "execution_count": 9,
   "metadata": {
    "_uuid": "3cbf4836cf8c71dfb67d13a9621b18a8d487197e",
    "hidden": true
   },
   "outputs": [],
   "source": [
    "test_df = pd.read_csv(f'{PATH}test.csv', usecols=cols_test, dtype=types)\n",
    "test_df['pickup_datetime'] = test_df['pickup_datetime'].str.slice(0, 16)\n",
    "test_df['pickup_datetime'] = pd.to_datetime(test_df['pickup_datetime'], format='%Y-%m-%d %H') "
   ]
  },
  {
   "cell_type": "code",
   "execution_count": 14,
   "metadata": {
    "_uuid": "3cbf4836cf8c71dfb67d13a9621b18a8d487197e",
    "hidden": true
   },
   "outputs": [],
   "source": [
    "test_df.to_feather('tmp/taxi-test-raw')"
   ]
  },
  {
   "cell_type": "markdown",
   "metadata": {
    "heading_collapsed": true
   },
   "source": [
    "# Quick EDA"
   ]
  },
  {
   "cell_type": "code",
   "execution_count": 15,
   "metadata": {
    "hidden": true
   },
   "outputs": [
    {
     "data": {
      "text/html": [
       "<div>\n",
       "<style scoped>\n",
       "    .dataframe tbody tr th:only-of-type {\n",
       "        vertical-align: middle;\n",
       "    }\n",
       "\n",
       "    .dataframe tbody tr th {\n",
       "        vertical-align: top;\n",
       "    }\n",
       "\n",
       "    .dataframe thead th {\n",
       "        text-align: right;\n",
       "    }\n",
       "</style>\n",
       "<table border=\"1\" class=\"dataframe\">\n",
       "  <thead>\n",
       "    <tr style=\"text-align: right;\">\n",
       "      <th></th>\n",
       "      <th>fare_amount</th>\n",
       "      <th>pickup_datetime</th>\n",
       "      <th>pickup_longitude</th>\n",
       "      <th>pickup_latitude</th>\n",
       "      <th>dropoff_longitude</th>\n",
       "      <th>dropoff_latitude</th>\n",
       "      <th>passenger_count</th>\n",
       "    </tr>\n",
       "  </thead>\n",
       "  <tbody>\n",
       "    <tr>\n",
       "      <th>0</th>\n",
       "      <td>4.5</td>\n",
       "      <td>2009-06-15 17:26:00</td>\n",
       "      <td>-73.844315</td>\n",
       "      <td>40.721317</td>\n",
       "      <td>-73.841614</td>\n",
       "      <td>40.712276</td>\n",
       "      <td>1</td>\n",
       "    </tr>\n",
       "    <tr>\n",
       "      <th>1</th>\n",
       "      <td>16.9</td>\n",
       "      <td>2010-01-05 16:52:00</td>\n",
       "      <td>-74.016045</td>\n",
       "      <td>40.711304</td>\n",
       "      <td>-73.979271</td>\n",
       "      <td>40.782005</td>\n",
       "      <td>1</td>\n",
       "    </tr>\n",
       "    <tr>\n",
       "      <th>2</th>\n",
       "      <td>5.7</td>\n",
       "      <td>2011-08-18 00:35:00</td>\n",
       "      <td>-73.982735</td>\n",
       "      <td>40.761269</td>\n",
       "      <td>-73.991241</td>\n",
       "      <td>40.750561</td>\n",
       "      <td>2</td>\n",
       "    </tr>\n",
       "    <tr>\n",
       "      <th>3</th>\n",
       "      <td>7.7</td>\n",
       "      <td>2012-04-21 04:30:00</td>\n",
       "      <td>-73.987129</td>\n",
       "      <td>40.733143</td>\n",
       "      <td>-73.991570</td>\n",
       "      <td>40.758091</td>\n",
       "      <td>1</td>\n",
       "    </tr>\n",
       "    <tr>\n",
       "      <th>4</th>\n",
       "      <td>5.3</td>\n",
       "      <td>2010-03-09 07:51:00</td>\n",
       "      <td>-73.968094</td>\n",
       "      <td>40.768009</td>\n",
       "      <td>-73.956657</td>\n",
       "      <td>40.783764</td>\n",
       "      <td>1</td>\n",
       "    </tr>\n",
       "  </tbody>\n",
       "</table>\n",
       "</div>"
      ],
      "text/plain": [
       "   fare_amount     pickup_datetime  pickup_longitude  pickup_latitude  \\\n",
       "0          4.5 2009-06-15 17:26:00        -73.844315        40.721317   \n",
       "1         16.9 2010-01-05 16:52:00        -74.016045        40.711304   \n",
       "2          5.7 2011-08-18 00:35:00        -73.982735        40.761269   \n",
       "3          7.7 2012-04-21 04:30:00        -73.987129        40.733143   \n",
       "4          5.3 2010-03-09 07:51:00        -73.968094        40.768009   \n",
       "\n",
       "   dropoff_longitude  dropoff_latitude  passenger_count  \n",
       "0         -73.841614         40.712276                1  \n",
       "1         -73.979271         40.782005                1  \n",
       "2         -73.991241         40.750561                2  \n",
       "3         -73.991570         40.758091                1  \n",
       "4         -73.956657         40.783764                1  "
      ]
     },
     "metadata": {},
     "output_type": "display_data"
    },
    {
     "data": {
      "text/html": [
       "<div>\n",
       "<style scoped>\n",
       "    .dataframe tbody tr th:only-of-type {\n",
       "        vertical-align: middle;\n",
       "    }\n",
       "\n",
       "    .dataframe tbody tr th {\n",
       "        vertical-align: top;\n",
       "    }\n",
       "\n",
       "    .dataframe thead th {\n",
       "        text-align: right;\n",
       "    }\n",
       "</style>\n",
       "<table border=\"1\" class=\"dataframe\">\n",
       "  <thead>\n",
       "    <tr style=\"text-align: right;\">\n",
       "      <th></th>\n",
       "      <th>fare_amount</th>\n",
       "      <th>pickup_datetime</th>\n",
       "      <th>pickup_longitude</th>\n",
       "      <th>pickup_latitude</th>\n",
       "      <th>dropoff_longitude</th>\n",
       "      <th>dropoff_latitude</th>\n",
       "      <th>passenger_count</th>\n",
       "    </tr>\n",
       "  </thead>\n",
       "  <tbody>\n",
       "    <tr>\n",
       "      <th>55423851</th>\n",
       "      <td>14.0</td>\n",
       "      <td>2014-03-15 03:28:00</td>\n",
       "      <td>-74.005272</td>\n",
       "      <td>40.740028</td>\n",
       "      <td>-73.963280</td>\n",
       "      <td>40.762554</td>\n",
       "      <td>1</td>\n",
       "    </tr>\n",
       "    <tr>\n",
       "      <th>55423852</th>\n",
       "      <td>4.2</td>\n",
       "      <td>2009-03-24 20:46:00</td>\n",
       "      <td>-73.957787</td>\n",
       "      <td>40.765530</td>\n",
       "      <td>-73.951637</td>\n",
       "      <td>40.773960</td>\n",
       "      <td>1</td>\n",
       "    </tr>\n",
       "    <tr>\n",
       "      <th>55423853</th>\n",
       "      <td>14.1</td>\n",
       "      <td>2011-04-02 22:04:00</td>\n",
       "      <td>-73.970505</td>\n",
       "      <td>40.752323</td>\n",
       "      <td>-73.960541</td>\n",
       "      <td>40.797340</td>\n",
       "      <td>1</td>\n",
       "    </tr>\n",
       "    <tr>\n",
       "      <th>55423854</th>\n",
       "      <td>28.9</td>\n",
       "      <td>2011-10-26 05:57:00</td>\n",
       "      <td>-73.980904</td>\n",
       "      <td>40.764629</td>\n",
       "      <td>-73.870605</td>\n",
       "      <td>40.773964</td>\n",
       "      <td>1</td>\n",
       "    </tr>\n",
       "    <tr>\n",
       "      <th>55423855</th>\n",
       "      <td>7.5</td>\n",
       "      <td>2014-12-12 11:33:00</td>\n",
       "      <td>-73.969719</td>\n",
       "      <td>40.797668</td>\n",
       "      <td>-73.970886</td>\n",
       "      <td>40.783314</td>\n",
       "      <td>1</td>\n",
       "    </tr>\n",
       "  </tbody>\n",
       "</table>\n",
       "</div>"
      ],
      "text/plain": [
       "          fare_amount     pickup_datetime  pickup_longitude  pickup_latitude  \\\n",
       "55423851         14.0 2014-03-15 03:28:00        -74.005272        40.740028   \n",
       "55423852          4.2 2009-03-24 20:46:00        -73.957787        40.765530   \n",
       "55423853         14.1 2011-04-02 22:04:00        -73.970505        40.752323   \n",
       "55423854         28.9 2011-10-26 05:57:00        -73.980904        40.764629   \n",
       "55423855          7.5 2014-12-12 11:33:00        -73.969719        40.797668   \n",
       "\n",
       "          dropoff_longitude  dropoff_latitude  passenger_count  \n",
       "55423851         -73.963280         40.762554                1  \n",
       "55423852         -73.951637         40.773960                1  \n",
       "55423853         -73.960541         40.797340                1  \n",
       "55423854         -73.870605         40.773964                1  \n",
       "55423855         -73.970886         40.783314                1  "
      ]
     },
     "metadata": {},
     "output_type": "display_data"
    }
   ],
   "source": [
    "display(train_df.head())\n",
    "display(train_df.tail())"
   ]
  },
  {
   "cell_type": "code",
   "execution_count": 16,
   "metadata": {
    "hidden": true
   },
   "outputs": [
    {
     "data": {
      "text/html": [
       "<div>\n",
       "<style scoped>\n",
       "    .dataframe tbody tr th:only-of-type {\n",
       "        vertical-align: middle;\n",
       "    }\n",
       "\n",
       "    .dataframe tbody tr th {\n",
       "        vertical-align: top;\n",
       "    }\n",
       "\n",
       "    .dataframe thead th {\n",
       "        text-align: right;\n",
       "    }\n",
       "</style>\n",
       "<table border=\"1\" class=\"dataframe\">\n",
       "  <thead>\n",
       "    <tr style=\"text-align: right;\">\n",
       "      <th></th>\n",
       "      <th>pickup_datetime</th>\n",
       "      <th>pickup_longitude</th>\n",
       "      <th>pickup_latitude</th>\n",
       "      <th>dropoff_longitude</th>\n",
       "      <th>dropoff_latitude</th>\n",
       "      <th>passenger_count</th>\n",
       "    </tr>\n",
       "  </thead>\n",
       "  <tbody>\n",
       "    <tr>\n",
       "      <th>0</th>\n",
       "      <td>2015-01-27 13:08:00</td>\n",
       "      <td>-73.973320</td>\n",
       "      <td>40.763805</td>\n",
       "      <td>-73.981430</td>\n",
       "      <td>40.743835</td>\n",
       "      <td>1</td>\n",
       "    </tr>\n",
       "    <tr>\n",
       "      <th>1</th>\n",
       "      <td>2015-01-27 13:08:00</td>\n",
       "      <td>-73.986862</td>\n",
       "      <td>40.719383</td>\n",
       "      <td>-73.998886</td>\n",
       "      <td>40.739201</td>\n",
       "      <td>1</td>\n",
       "    </tr>\n",
       "    <tr>\n",
       "      <th>2</th>\n",
       "      <td>2011-10-08 11:53:00</td>\n",
       "      <td>-73.982521</td>\n",
       "      <td>40.751259</td>\n",
       "      <td>-73.979652</td>\n",
       "      <td>40.746140</td>\n",
       "      <td>1</td>\n",
       "    </tr>\n",
       "    <tr>\n",
       "      <th>3</th>\n",
       "      <td>2012-12-01 21:12:00</td>\n",
       "      <td>-73.981163</td>\n",
       "      <td>40.767807</td>\n",
       "      <td>-73.990448</td>\n",
       "      <td>40.751637</td>\n",
       "      <td>1</td>\n",
       "    </tr>\n",
       "    <tr>\n",
       "      <th>4</th>\n",
       "      <td>2012-12-01 21:12:00</td>\n",
       "      <td>-73.966049</td>\n",
       "      <td>40.789776</td>\n",
       "      <td>-73.988564</td>\n",
       "      <td>40.744427</td>\n",
       "      <td>1</td>\n",
       "    </tr>\n",
       "  </tbody>\n",
       "</table>\n",
       "</div>"
      ],
      "text/plain": [
       "      pickup_datetime  pickup_longitude  pickup_latitude  dropoff_longitude  \\\n",
       "0 2015-01-27 13:08:00        -73.973320        40.763805         -73.981430   \n",
       "1 2015-01-27 13:08:00        -73.986862        40.719383         -73.998886   \n",
       "2 2011-10-08 11:53:00        -73.982521        40.751259         -73.979652   \n",
       "3 2012-12-01 21:12:00        -73.981163        40.767807         -73.990448   \n",
       "4 2012-12-01 21:12:00        -73.966049        40.789776         -73.988564   \n",
       "\n",
       "   dropoff_latitude  passenger_count  \n",
       "0         40.743835                1  \n",
       "1         40.739201                1  \n",
       "2         40.746140                1  \n",
       "3         40.751637                1  \n",
       "4         40.744427                1  "
      ]
     },
     "metadata": {},
     "output_type": "display_data"
    },
    {
     "data": {
      "text/html": [
       "<div>\n",
       "<style scoped>\n",
       "    .dataframe tbody tr th:only-of-type {\n",
       "        vertical-align: middle;\n",
       "    }\n",
       "\n",
       "    .dataframe tbody tr th {\n",
       "        vertical-align: top;\n",
       "    }\n",
       "\n",
       "    .dataframe thead th {\n",
       "        text-align: right;\n",
       "    }\n",
       "</style>\n",
       "<table border=\"1\" class=\"dataframe\">\n",
       "  <thead>\n",
       "    <tr style=\"text-align: right;\">\n",
       "      <th></th>\n",
       "      <th>pickup_datetime</th>\n",
       "      <th>pickup_longitude</th>\n",
       "      <th>pickup_latitude</th>\n",
       "      <th>dropoff_longitude</th>\n",
       "      <th>dropoff_latitude</th>\n",
       "      <th>passenger_count</th>\n",
       "    </tr>\n",
       "  </thead>\n",
       "  <tbody>\n",
       "    <tr>\n",
       "      <th>9909</th>\n",
       "      <td>2015-05-10 12:37:00</td>\n",
       "      <td>-73.968124</td>\n",
       "      <td>40.796997</td>\n",
       "      <td>-73.955643</td>\n",
       "      <td>40.780388</td>\n",
       "      <td>6</td>\n",
       "    </tr>\n",
       "    <tr>\n",
       "      <th>9910</th>\n",
       "      <td>2015-01-12 17:05:00</td>\n",
       "      <td>-73.945511</td>\n",
       "      <td>40.803600</td>\n",
       "      <td>-73.960213</td>\n",
       "      <td>40.776371</td>\n",
       "      <td>6</td>\n",
       "    </tr>\n",
       "    <tr>\n",
       "      <th>9911</th>\n",
       "      <td>2015-04-19 20:44:00</td>\n",
       "      <td>-73.991600</td>\n",
       "      <td>40.726608</td>\n",
       "      <td>-73.789742</td>\n",
       "      <td>40.647011</td>\n",
       "      <td>6</td>\n",
       "    </tr>\n",
       "    <tr>\n",
       "      <th>9912</th>\n",
       "      <td>2015-01-31 01:05:00</td>\n",
       "      <td>-73.985573</td>\n",
       "      <td>40.735432</td>\n",
       "      <td>-73.939178</td>\n",
       "      <td>40.801731</td>\n",
       "      <td>6</td>\n",
       "    </tr>\n",
       "    <tr>\n",
       "      <th>9913</th>\n",
       "      <td>2015-01-18 14:06:00</td>\n",
       "      <td>-73.988022</td>\n",
       "      <td>40.754070</td>\n",
       "      <td>-74.000282</td>\n",
       "      <td>40.759220</td>\n",
       "      <td>6</td>\n",
       "    </tr>\n",
       "  </tbody>\n",
       "</table>\n",
       "</div>"
      ],
      "text/plain": [
       "         pickup_datetime  pickup_longitude  pickup_latitude  \\\n",
       "9909 2015-05-10 12:37:00        -73.968124        40.796997   \n",
       "9910 2015-01-12 17:05:00        -73.945511        40.803600   \n",
       "9911 2015-04-19 20:44:00        -73.991600        40.726608   \n",
       "9912 2015-01-31 01:05:00        -73.985573        40.735432   \n",
       "9913 2015-01-18 14:06:00        -73.988022        40.754070   \n",
       "\n",
       "      dropoff_longitude  dropoff_latitude  passenger_count  \n",
       "9909         -73.955643         40.780388                6  \n",
       "9910         -73.960213         40.776371                6  \n",
       "9911         -73.789742         40.647011                6  \n",
       "9912         -73.939178         40.801731                6  \n",
       "9913         -74.000282         40.759220                6  "
      ]
     },
     "metadata": {},
     "output_type": "display_data"
    }
   ],
   "source": [
    "display(test_df.head())\n",
    "display(test_df.tail())"
   ]
  },
  {
   "cell_type": "code",
   "execution_count": 17,
   "metadata": {
    "hidden": true
   },
   "outputs": [
    {
     "data": {
      "text/html": [
       "<div>\n",
       "<style scoped>\n",
       "    .dataframe tbody tr th:only-of-type {\n",
       "        vertical-align: middle;\n",
       "    }\n",
       "\n",
       "    .dataframe tbody tr th {\n",
       "        vertical-align: top;\n",
       "    }\n",
       "\n",
       "    .dataframe thead th {\n",
       "        text-align: right;\n",
       "    }\n",
       "</style>\n",
       "<table border=\"1\" class=\"dataframe\">\n",
       "  <thead>\n",
       "    <tr style=\"text-align: right;\">\n",
       "      <th></th>\n",
       "      <th>fare_amount</th>\n",
       "      <th>pickup_datetime</th>\n",
       "      <th>pickup_longitude</th>\n",
       "      <th>pickup_latitude</th>\n",
       "      <th>dropoff_longitude</th>\n",
       "      <th>dropoff_latitude</th>\n",
       "      <th>passenger_count</th>\n",
       "    </tr>\n",
       "  </thead>\n",
       "  <tbody>\n",
       "    <tr>\n",
       "      <th>count</th>\n",
       "      <td>5.54239e+07</td>\n",
       "      <td>NaN</td>\n",
       "      <td>5.54239e+07</td>\n",
       "      <td>5.54239e+07</td>\n",
       "      <td>5.54235e+07</td>\n",
       "      <td>5.54235e+07</td>\n",
       "      <td>5.54239e+07</td>\n",
       "    </tr>\n",
       "    <tr>\n",
       "      <th>mean</th>\n",
       "      <td>11.345</td>\n",
       "      <td>NaN</td>\n",
       "      <td>-72.5097</td>\n",
       "      <td>39.9198</td>\n",
       "      <td>-72.5111</td>\n",
       "      <td>39.9207</td>\n",
       "      <td>1.68538</td>\n",
       "    </tr>\n",
       "    <tr>\n",
       "      <th>std</th>\n",
       "      <td>20.7108</td>\n",
       "      <td>NaN</td>\n",
       "      <td>12.8489</td>\n",
       "      <td>9.64235</td>\n",
       "      <td>12.7822</td>\n",
       "      <td>9.63335</td>\n",
       "      <td>1.32766</td>\n",
       "    </tr>\n",
       "    <tr>\n",
       "      <th>min</th>\n",
       "      <td>-300</td>\n",
       "      <td>NaN</td>\n",
       "      <td>-3442.06</td>\n",
       "      <td>-3492.26</td>\n",
       "      <td>-3442.02</td>\n",
       "      <td>-3547.89</td>\n",
       "      <td>0</td>\n",
       "    </tr>\n",
       "    <tr>\n",
       "      <th>25%</th>\n",
       "      <td>6</td>\n",
       "      <td>NaN</td>\n",
       "      <td>-73.9921</td>\n",
       "      <td>40.7349</td>\n",
       "      <td>-73.9914</td>\n",
       "      <td>40.734</td>\n",
       "      <td>1</td>\n",
       "    </tr>\n",
       "    <tr>\n",
       "      <th>50%</th>\n",
       "      <td>8.5</td>\n",
       "      <td>NaN</td>\n",
       "      <td>-73.9818</td>\n",
       "      <td>40.7527</td>\n",
       "      <td>-73.9801</td>\n",
       "      <td>40.7532</td>\n",
       "      <td>1</td>\n",
       "    </tr>\n",
       "    <tr>\n",
       "      <th>75%</th>\n",
       "      <td>12.5</td>\n",
       "      <td>NaN</td>\n",
       "      <td>-73.9671</td>\n",
       "      <td>40.7671</td>\n",
       "      <td>-73.9637</td>\n",
       "      <td>40.7681</td>\n",
       "      <td>2</td>\n",
       "    </tr>\n",
       "    <tr>\n",
       "      <th>max</th>\n",
       "      <td>93963.4</td>\n",
       "      <td>NaN</td>\n",
       "      <td>3457.63</td>\n",
       "      <td>3408.79</td>\n",
       "      <td>3457.62</td>\n",
       "      <td>3537.13</td>\n",
       "      <td>208</td>\n",
       "    </tr>\n",
       "    <tr>\n",
       "      <th>counts</th>\n",
       "      <td>55423856</td>\n",
       "      <td>55423856</td>\n",
       "      <td>55423856</td>\n",
       "      <td>55423856</td>\n",
       "      <td>55423480</td>\n",
       "      <td>55423480</td>\n",
       "      <td>55423856</td>\n",
       "    </tr>\n",
       "    <tr>\n",
       "      <th>uniques</th>\n",
       "      <td>9405</td>\n",
       "      <td>3358837</td>\n",
       "      <td>98330</td>\n",
       "      <td>116546</td>\n",
       "      <td>114629</td>\n",
       "      <td>134778</td>\n",
       "      <td>15</td>\n",
       "    </tr>\n",
       "    <tr>\n",
       "      <th>missing</th>\n",
       "      <td>0</td>\n",
       "      <td>0</td>\n",
       "      <td>0</td>\n",
       "      <td>0</td>\n",
       "      <td>376</td>\n",
       "      <td>376</td>\n",
       "      <td>0</td>\n",
       "    </tr>\n",
       "    <tr>\n",
       "      <th>missing_perc</th>\n",
       "      <td>0%</td>\n",
       "      <td>0%</td>\n",
       "      <td>0%</td>\n",
       "      <td>0%</td>\n",
       "      <td>0.00%</td>\n",
       "      <td>0.00%</td>\n",
       "      <td>0%</td>\n",
       "    </tr>\n",
       "    <tr>\n",
       "      <th>types</th>\n",
       "      <td>numeric</td>\n",
       "      <td>date</td>\n",
       "      <td>numeric</td>\n",
       "      <td>numeric</td>\n",
       "      <td>numeric</td>\n",
       "      <td>numeric</td>\n",
       "      <td>numeric</td>\n",
       "    </tr>\n",
       "  </tbody>\n",
       "</table>\n",
       "</div>"
      ],
      "text/plain": [
       "              fare_amount pickup_datetime pickup_longitude pickup_latitude  \\\n",
       "count         5.54239e+07             NaN      5.54239e+07     5.54239e+07   \n",
       "mean               11.345             NaN         -72.5097         39.9198   \n",
       "std               20.7108             NaN          12.8489         9.64235   \n",
       "min                  -300             NaN         -3442.06        -3492.26   \n",
       "25%                     6             NaN         -73.9921         40.7349   \n",
       "50%                   8.5             NaN         -73.9818         40.7527   \n",
       "75%                  12.5             NaN         -73.9671         40.7671   \n",
       "max               93963.4             NaN          3457.63         3408.79   \n",
       "counts           55423856        55423856         55423856        55423856   \n",
       "uniques              9405         3358837            98330          116546   \n",
       "missing                 0               0                0               0   \n",
       "missing_perc           0%              0%               0%              0%   \n",
       "types             numeric            date          numeric         numeric   \n",
       "\n",
       "             dropoff_longitude dropoff_latitude passenger_count  \n",
       "count              5.54235e+07      5.54235e+07     5.54239e+07  \n",
       "mean                  -72.5111          39.9207         1.68538  \n",
       "std                    12.7822          9.63335         1.32766  \n",
       "min                   -3442.02         -3547.89               0  \n",
       "25%                   -73.9914           40.734               1  \n",
       "50%                   -73.9801          40.7532               1  \n",
       "75%                   -73.9637          40.7681               2  \n",
       "max                    3457.62          3537.13             208  \n",
       "counts                55423480         55423480        55423856  \n",
       "uniques                 114629           134778              15  \n",
       "missing                    376              376               0  \n",
       "missing_perc             0.00%            0.00%              0%  \n",
       "types                  numeric          numeric         numeric  "
      ]
     },
     "execution_count": 17,
     "metadata": {},
     "output_type": "execute_result"
    }
   ],
   "source": [
    "DataFrameSummary(train_df).summary()"
   ]
  },
  {
   "cell_type": "code",
   "execution_count": 18,
   "metadata": {
    "hidden": true
   },
   "outputs": [
    {
     "data": {
      "text/html": [
       "<div>\n",
       "<style scoped>\n",
       "    .dataframe tbody tr th:only-of-type {\n",
       "        vertical-align: middle;\n",
       "    }\n",
       "\n",
       "    .dataframe tbody tr th {\n",
       "        vertical-align: top;\n",
       "    }\n",
       "\n",
       "    .dataframe thead th {\n",
       "        text-align: right;\n",
       "    }\n",
       "</style>\n",
       "<table border=\"1\" class=\"dataframe\">\n",
       "  <thead>\n",
       "    <tr style=\"text-align: right;\">\n",
       "      <th></th>\n",
       "      <th>pickup_datetime</th>\n",
       "      <th>pickup_longitude</th>\n",
       "      <th>pickup_latitude</th>\n",
       "      <th>dropoff_longitude</th>\n",
       "      <th>dropoff_latitude</th>\n",
       "      <th>passenger_count</th>\n",
       "    </tr>\n",
       "  </thead>\n",
       "  <tbody>\n",
       "    <tr>\n",
       "      <th>count</th>\n",
       "      <td>NaN</td>\n",
       "      <td>9914</td>\n",
       "      <td>9914</td>\n",
       "      <td>9914</td>\n",
       "      <td>9914</td>\n",
       "      <td>9914</td>\n",
       "    </tr>\n",
       "    <tr>\n",
       "      <th>mean</th>\n",
       "      <td>NaN</td>\n",
       "      <td>-73.9747</td>\n",
       "      <td>40.751</td>\n",
       "      <td>-73.9737</td>\n",
       "      <td>40.7517</td>\n",
       "      <td>1.67127</td>\n",
       "    </tr>\n",
       "    <tr>\n",
       "      <th>std</th>\n",
       "      <td>NaN</td>\n",
       "      <td>0.042774</td>\n",
       "      <td>0.0335415</td>\n",
       "      <td>0.0390719</td>\n",
       "      <td>0.0354352</td>\n",
       "      <td>1.27875</td>\n",
       "    </tr>\n",
       "    <tr>\n",
       "      <th>min</th>\n",
       "      <td>NaN</td>\n",
       "      <td>-74.2522</td>\n",
       "      <td>40.5731</td>\n",
       "      <td>-74.2632</td>\n",
       "      <td>40.569</td>\n",
       "      <td>1</td>\n",
       "    </tr>\n",
       "    <tr>\n",
       "      <th>25%</th>\n",
       "      <td>NaN</td>\n",
       "      <td>-73.9925</td>\n",
       "      <td>40.7361</td>\n",
       "      <td>-73.9912</td>\n",
       "      <td>40.7353</td>\n",
       "      <td>1</td>\n",
       "    </tr>\n",
       "    <tr>\n",
       "      <th>50%</th>\n",
       "      <td>NaN</td>\n",
       "      <td>-73.9823</td>\n",
       "      <td>40.7531</td>\n",
       "      <td>-73.98</td>\n",
       "      <td>40.7541</td>\n",
       "      <td>1</td>\n",
       "    </tr>\n",
       "    <tr>\n",
       "      <th>75%</th>\n",
       "      <td>NaN</td>\n",
       "      <td>-73.968</td>\n",
       "      <td>40.7671</td>\n",
       "      <td>-73.9641</td>\n",
       "      <td>40.7688</td>\n",
       "      <td>2</td>\n",
       "    </tr>\n",
       "    <tr>\n",
       "      <th>max</th>\n",
       "      <td>NaN</td>\n",
       "      <td>-72.9865</td>\n",
       "      <td>41.7096</td>\n",
       "      <td>-72.991</td>\n",
       "      <td>41.6967</td>\n",
       "      <td>6</td>\n",
       "    </tr>\n",
       "    <tr>\n",
       "      <th>counts</th>\n",
       "      <td>9914</td>\n",
       "      <td>9914</td>\n",
       "      <td>9914</td>\n",
       "      <td>9914</td>\n",
       "      <td>9914</td>\n",
       "      <td>9914</td>\n",
       "    </tr>\n",
       "    <tr>\n",
       "      <th>uniques</th>\n",
       "      <td>1753</td>\n",
       "      <td>5894</td>\n",
       "      <td>7857</td>\n",
       "      <td>6174</td>\n",
       "      <td>8124</td>\n",
       "      <td>6</td>\n",
       "    </tr>\n",
       "    <tr>\n",
       "      <th>missing</th>\n",
       "      <td>0</td>\n",
       "      <td>0</td>\n",
       "      <td>0</td>\n",
       "      <td>0</td>\n",
       "      <td>0</td>\n",
       "      <td>0</td>\n",
       "    </tr>\n",
       "    <tr>\n",
       "      <th>missing_perc</th>\n",
       "      <td>0%</td>\n",
       "      <td>0%</td>\n",
       "      <td>0%</td>\n",
       "      <td>0%</td>\n",
       "      <td>0%</td>\n",
       "      <td>0%</td>\n",
       "    </tr>\n",
       "    <tr>\n",
       "      <th>types</th>\n",
       "      <td>date</td>\n",
       "      <td>numeric</td>\n",
       "      <td>numeric</td>\n",
       "      <td>numeric</td>\n",
       "      <td>numeric</td>\n",
       "      <td>numeric</td>\n",
       "    </tr>\n",
       "  </tbody>\n",
       "</table>\n",
       "</div>"
      ],
      "text/plain": [
       "             pickup_datetime pickup_longitude pickup_latitude  \\\n",
       "count                    NaN             9914            9914   \n",
       "mean                     NaN         -73.9747          40.751   \n",
       "std                      NaN         0.042774       0.0335415   \n",
       "min                      NaN         -74.2522         40.5731   \n",
       "25%                      NaN         -73.9925         40.7361   \n",
       "50%                      NaN         -73.9823         40.7531   \n",
       "75%                      NaN          -73.968         40.7671   \n",
       "max                      NaN         -72.9865         41.7096   \n",
       "counts                  9914             9914            9914   \n",
       "uniques                 1753             5894            7857   \n",
       "missing                    0                0               0   \n",
       "missing_perc              0%               0%              0%   \n",
       "types                   date          numeric         numeric   \n",
       "\n",
       "             dropoff_longitude dropoff_latitude passenger_count  \n",
       "count                     9914             9914            9914  \n",
       "mean                  -73.9737          40.7517         1.67127  \n",
       "std                  0.0390719        0.0354352         1.27875  \n",
       "min                   -74.2632           40.569               1  \n",
       "25%                   -73.9912          40.7353               1  \n",
       "50%                     -73.98          40.7541               1  \n",
       "75%                   -73.9641          40.7688               2  \n",
       "max                    -72.991          41.6967               6  \n",
       "counts                    9914             9914            9914  \n",
       "uniques                   6174             8124               6  \n",
       "missing                      0                0               0  \n",
       "missing_perc                0%               0%              0%  \n",
       "types                  numeric          numeric         numeric  "
      ]
     },
     "execution_count": 18,
     "metadata": {},
     "output_type": "execute_result"
    }
   ],
   "source": [
    "DataFrameSummary(test_df).summary()"
   ]
  },
  {
   "cell_type": "markdown",
   "metadata": {
    "heading_collapsed": true
   },
   "source": [
    "# Remove missing values"
   ]
  },
  {
   "cell_type": "code",
   "execution_count": 19,
   "metadata": {
    "hidden": true
   },
   "outputs": [
    {
     "data": {
      "text/plain": [
       "fare_amount            0\n",
       "pickup_datetime        0\n",
       "pickup_longitude       0\n",
       "pickup_latitude        0\n",
       "dropoff_longitude    376\n",
       "dropoff_latitude     376\n",
       "passenger_count        0\n",
       "dtype: int64"
      ]
     },
     "execution_count": 19,
     "metadata": {},
     "output_type": "execute_result"
    }
   ],
   "source": [
    "train_df.isnull().sum() "
   ]
  },
  {
   "cell_type": "code",
   "execution_count": 20,
   "metadata": {
    "hidden": true
   },
   "outputs": [
    {
     "data": {
      "text/plain": [
       "pickup_datetime      0\n",
       "pickup_longitude     0\n",
       "pickup_latitude      0\n",
       "dropoff_longitude    0\n",
       "dropoff_latitude     0\n",
       "passenger_count      0\n",
       "dtype: int64"
      ]
     },
     "execution_count": 20,
     "metadata": {},
     "output_type": "execute_result"
    }
   ],
   "source": [
    "test_df.isnull().sum()"
   ]
  },
  {
   "cell_type": "code",
   "execution_count": 21,
   "metadata": {
    "hidden": true
   },
   "outputs": [
    {
     "name": "stdout",
     "output_type": "stream",
     "text": [
      "Old size: 55423856\n",
      "New size: 55423856\n",
      "376 rows removed\n"
     ]
    }
   ],
   "source": [
    "old_len = len(train_df)\n",
    "print(f'Old size: {old_len}')\n",
    "\n",
    "train_df.dropna(how='any', axis='rows', inplace=True)\n",
    "\n",
    "new_len = len(train_df)\n",
    "print(f'New size: {old_len}')\n",
    "print(f'{(old_len-new_len):,} rows removed')"
   ]
  },
  {
   "cell_type": "markdown",
   "metadata": {
    "heading_collapsed": true
   },
   "source": [
    "# Longitude, latitude and travel distance"
   ]
  },
  {
   "cell_type": "markdown",
   "metadata": {
    "heading_collapsed": true,
    "hidden": true
   },
   "source": [
    "## Bounding box for training data (absurd)"
   ]
  },
  {
   "cell_type": "code",
   "execution_count": 22,
   "metadata": {
    "hidden": true
   },
   "outputs": [],
   "source": [
    "plongmin, plongmax = train_df.pickup_longitude.min(),train_df.pickup_longitude.max()\n",
    "dlongmin, dlongmax = train_df.dropoff_longitude.min(),train_df.dropoff_longitude.max()\n",
    "platmin, platmax = train_df.pickup_latitude.min(),train_df.pickup_latitude.max()\n",
    "dlatmin, dlatmax = train_df.dropoff_latitude.min(),train_df.dropoff_latitude.max()"
   ]
  },
  {
   "cell_type": "code",
   "execution_count": 23,
   "metadata": {
    "hidden": true
   },
   "outputs": [
    {
     "name": "stdout",
     "output_type": "stream",
     "text": [
      "Bounding box for pickup\n",
      "(-3442.0595703125,-3492.263671875,3457.625732421875,3408.78955078125)\n"
     ]
    }
   ],
   "source": [
    "print(\"Bounding box for pickup\")\n",
    "print(f\"({plongmin},{platmin},{plongmax},{platmax})\")"
   ]
  },
  {
   "cell_type": "code",
   "execution_count": 24,
   "metadata": {
    "hidden": true
   },
   "outputs": [
    {
     "name": "stdout",
     "output_type": "stream",
     "text": [
      "Bounding box for dropoff\n",
      "(-3442.024658203125,-3547.88671875,3457.622314453125,3537.132568359375)\n"
     ]
    }
   ],
   "source": [
    "print(f\"Bounding box for dropoff\")\n",
    "print(f\"({dlongmin},{dlatmin},{dlongmax},{dlatmax})\")"
   ]
  },
  {
   "cell_type": "markdown",
   "metadata": {
    "heading_collapsed": true,
    "hidden": true
   },
   "source": [
    "## Bounding box for test data"
   ]
  },
  {
   "cell_type": "markdown",
   "metadata": {
    "hidden": true
   },
   "source": [
    "The latitude of New York City, NY, USA is **40.730610**, and the longitude is **-73.935242**."
   ]
  },
  {
   "cell_type": "code",
   "execution_count": 25,
   "metadata": {
    "hidden": true
   },
   "outputs": [],
   "source": [
    "plongmin, plongmax = test_df.pickup_longitude.min(),test_df.pickup_longitude.max()\n",
    "dlongmin, dlongmax = test_df.dropoff_longitude.min(),test_df.dropoff_longitude.max()\n",
    "platmin, platmax = test_df.pickup_latitude.min(),test_df.pickup_latitude.max()\n",
    "dlatmin, dlatmax = test_df.dropoff_latitude.min(),test_df.dropoff_latitude.max()"
   ]
  },
  {
   "cell_type": "code",
   "execution_count": 26,
   "metadata": {
    "hidden": true
   },
   "outputs": [
    {
     "name": "stdout",
     "output_type": "stream",
     "text": [
      "pickup longitude min and max:\t -74.25218963623047,  -72.98653411865234\n",
      "dropoff longitude min and max:\t -74.26324462890625,  -72.990966796875\n",
      "\n",
      "pickup latitude min and max:\t  40.573143005371094,  41.709556579589844\n",
      "dropoff longitude min and max:\t  40.568973541259766,  41.69668197631836\n"
     ]
    }
   ],
   "source": [
    "print(f\"pickup longitude min and max:\\t {plongmin},  {plongmax}\")\n",
    "print(f\"dropoff longitude min and max:\\t {dlongmin},  {dlongmax}\")\n",
    "print()\n",
    "print(f\"pickup latitude min and max:\\t  {platmin},  {platmax}\")\n",
    "print(f\"dropoff longitude min and max:\\t  {dlatmin},  {dlatmax}\")"
   ]
  },
  {
   "cell_type": "code",
   "execution_count": 27,
   "metadata": {
    "hidden": true
   },
   "outputs": [
    {
     "name": "stdout",
     "output_type": "stream",
     "text": [
      "Bounding box for pickup\n",
      "(-74.25218963623047,40.573143005371094,-72.98653411865234,41.709556579589844)\n"
     ]
    }
   ],
   "source": [
    "print(\"Bounding box for pickup\")\n",
    "print(f\"({plongmin},{platmin},{plongmax},{platmax})\")"
   ]
  },
  {
   "cell_type": "code",
   "execution_count": 28,
   "metadata": {
    "hidden": true
   },
   "outputs": [
    {
     "name": "stdout",
     "output_type": "stream",
     "text": [
      "Bounding box for pickup\n",
      "(-74.26324462890625,40.568973541259766,-72.990966796875,41.69668197631836)\n"
     ]
    }
   ],
   "source": [
    "print(f\"Bounding box for pickup\")\n",
    "print(f\"({dlongmin},{dlatmin},{dlongmax},{dlatmax})\")"
   ]
  },
  {
   "cell_type": "code",
   "execution_count": 29,
   "metadata": {
    "hidden": true
   },
   "outputs": [
    {
     "data": {
      "text/plain": [
       "(-74.56324462890625, 40.26897354125977, -72.68653411865235, 42.00955657958984)"
      ]
     },
     "execution_count": 29,
     "metadata": {},
     "output_type": "execute_result"
    }
   ],
   "source": [
    "step = 0.3\n",
    "\n",
    "longmin_limit = min(plongmin,dlongmin)-step\n",
    "latmin_limit = min(platmin,dlatmin)-step \n",
    "latmax_limit = max(platmax,dlatmax)+step\n",
    "longmax_limit = max(plongmax, dlongmax)+step\n",
    "\n",
    "longmin_limit, latmin_limit, longmax_limit, latmax_limit"
   ]
  },
  {
   "cell_type": "markdown",
   "metadata": {
    "heading_collapsed": true,
    "hidden": true
   },
   "source": [
    "## Exclude training data for those outside bounding box"
   ]
  },
  {
   "cell_type": "code",
   "execution_count": 30,
   "metadata": {
    "hidden": true
   },
   "outputs": [
    {
     "data": {
      "text/plain": [
       "(1102761, 1096881, 1097710, 1095475)"
      ]
     },
     "execution_count": 30,
     "metadata": {},
     "output_type": "execute_result"
    }
   ],
   "source": [
    "is_outside_plong = ~train_df.pickup_longitude.between(longmin_limit,longmax_limit)\n",
    "is_outside_plat = ~train_df.pickup_latitude.between(latmin_limit,latmax_limit)\n",
    "\n",
    "is_outside_dlong = ~train_df.dropoff_longitude.between(longmin_limit,longmax_limit)\n",
    "is_outside_dlat = ~train_df.dropoff_latitude.between(latmin_limit,latmax_limit)\n",
    "\n",
    "is_outside_plong.sum(), is_outside_plat.sum(), is_outside_dlong.sum(), is_outside_dlat.sum()"
   ]
  },
  {
   "cell_type": "code",
   "execution_count": 31,
   "metadata": {
    "hidden": true
   },
   "outputs": [
    {
     "data": {
      "text/plain": [
       "1170362"
      ]
     },
     "execution_count": 31,
     "metadata": {},
     "output_type": "execute_result"
    }
   ],
   "source": [
    "is_outside_range = is_outside_plong | is_outside_plat | is_outside_dlong | is_outside_dlat\n",
    "is_outside_range.sum()"
   ]
  },
  {
   "cell_type": "markdown",
   "metadata": {
    "heading_collapsed": true,
    "hidden": true
   },
   "source": [
    "## Comparisons of bounding boxes"
   ]
  },
  {
   "cell_type": "markdown",
   "metadata": {
    "hidden": true
   },
   "source": [
    "Black box is bounding box with step 0.3, blue boxes are pickup and dropoff bounding box\n",
    "\n",
    "1,170,362 outside range\n",
    "\n",
    "http://bboxfinder.com/#40.268974,-74.563245,42.009557,-72.686534 \n",
    "\n",
    "\n",
    "\n",
    "![bbox with 0.3 step limit](./img/bbox-0.3.jpg)"
   ]
  },
  {
   "cell_type": "markdown",
   "metadata": {
    "hidden": true
   },
   "source": [
    "Black box is bounding box with step 0.02, blue boxes are pickup and dropoff bounding box\n",
    "\n",
    "1,182,186 outside range\n",
    "\n",
    "http://bboxfinder.com/#40.548974,-74.283245,41.729557,-72.966534\n",
    "\n",
    "![bbox with 0.02 step limit](./img/bbox-0.02.jpg)"
   ]
  },
  {
   "cell_type": "markdown",
   "metadata": {
    "heading_collapsed": true,
    "hidden": true
   },
   "source": [
    "## Remove those outside range"
   ]
  },
  {
   "cell_type": "code",
   "execution_count": 32,
   "metadata": {
    "hidden": true
   },
   "outputs": [
    {
     "name": "stdout",
     "output_type": "stream",
     "text": [
      "Old size: 55423480\n",
      "New size: 54253118\n",
      "1,170,362 rows removed\n"
     ]
    }
   ],
   "source": [
    "old_len = len(train_df)\n",
    "print(f'Old size: {old_len}')\n",
    "\n",
    "train_df = train_df[~is_outside_range] # keep those NOT outside range\n",
    "\n",
    "new_len = len(train_df)\n",
    "print(f'New size: {new_len}')\n",
    "print(f'{(old_len-new_len):,} rows removed')"
   ]
  },
  {
   "cell_type": "markdown",
   "metadata": {
    "heading_collapsed": true,
    "hidden": true
   },
   "source": [
    "## Checkpoint 1"
   ]
  },
  {
   "cell_type": "code",
   "execution_count": 33,
   "metadata": {
    "hidden": true
   },
   "outputs": [],
   "source": [
    "# reset_index after removing rows, in order to be able to save to feather\n",
    "train_df.reset_index(drop=True, inplace=True)"
   ]
  },
  {
   "cell_type": "code",
   "execution_count": 34,
   "metadata": {
    "hidden": true
   },
   "outputs": [
    {
     "name": "stdout",
     "output_type": "stream",
     "text": [
      "Wall time: 7.04 s\n"
     ]
    }
   ],
   "source": [
    "%%time\n",
    "train_df.to_feather('tmp/taxi-train-v6-chkpt1')"
   ]
  },
  {
   "cell_type": "code",
   "execution_count": 35,
   "metadata": {
    "hidden": true
   },
   "outputs": [
    {
     "name": "stdout",
     "output_type": "stream",
     "text": [
      "Wall time: 8.98 ms\n"
     ]
    }
   ],
   "source": [
    "%%time\n",
    "test_df.to_feather('tmp/taxi-test-v6-chkpt1')"
   ]
  },
  {
   "cell_type": "code",
   "execution_count": 36,
   "metadata": {
    "hidden": true
   },
   "outputs": [
    {
     "name": "stdout",
     "output_type": "stream",
     "text": [
      "Wall time: 1.13 s\n"
     ]
    }
   ],
   "source": [
    "%%time\n",
    "train_df = pd.read_feather('tmp/taxi-train-v6-chkpt1')"
   ]
  },
  {
   "cell_type": "code",
   "execution_count": 37,
   "metadata": {
    "hidden": true
   },
   "outputs": [
    {
     "name": "stdout",
     "output_type": "stream",
     "text": [
      "Wall time: 1.98 ms\n"
     ]
    }
   ],
   "source": [
    "%%time\n",
    "test_df = pd.read_feather('tmp/taxi-test-v6-chkpt1')"
   ]
  },
  {
   "cell_type": "markdown",
   "metadata": {
    "heading_collapsed": true,
    "hidden": true
   },
   "source": [
    "## Add travel vector and simple distance"
   ]
  },
  {
   "cell_type": "code",
   "execution_count": 38,
   "metadata": {
    "hidden": true
   },
   "outputs": [],
   "source": [
    "def add_travel_vector_features(df):\n",
    "    df['longitude_distance'] = df.dropoff_longitude - df.pickup_longitude\n",
    "    df['latitude_distance'] = df.dropoff_latitude - df.pickup_latitude"
   ]
  },
  {
   "cell_type": "code",
   "execution_count": 39,
   "metadata": {
    "hidden": true
   },
   "outputs": [],
   "source": [
    "# manhattan distance more suitable than haversine distance (as the crow flies) or pythagorean distance\n",
    "def add_simple_distance(df):\n",
    "    df['simple_distance'] = np.abs(df.longitude_distance)  + np.abs(df.latitude_distance)"
   ]
  },
  {
   "cell_type": "code",
   "execution_count": 40,
   "metadata": {
    "hidden": true
   },
   "outputs": [],
   "source": [
    "add_travel_vector_features(train_df)\n",
    "add_travel_vector_features(test_df)\n",
    "\n",
    "add_simple_distance(train_df)\n",
    "add_simple_distance(test_df)"
   ]
  },
  {
   "cell_type": "markdown",
   "metadata": {
    "heading_collapsed": true,
    "hidden": true
   },
   "source": [
    "## Distance"
   ]
  },
  {
   "cell_type": "code",
   "execution_count": 41,
   "metadata": {
    "hidden": true
   },
   "outputs": [
    {
     "data": {
      "text/plain": [
       "(0.0, 0.0, 0.0)"
      ]
     },
     "execution_count": 41,
     "metadata": {},
     "output_type": "execute_result"
    }
   ],
   "source": [
    "test_df.simple_distance.min(), test_df.latitude_distance.abs().min(),  test_df.longitude_distance.abs().min()"
   ]
  },
  {
   "cell_type": "code",
   "execution_count": 42,
   "metadata": {
    "hidden": true
   },
   "outputs": [
    {
     "data": {
      "text/plain": [
       "(85, 85, 87)"
      ]
     },
     "execution_count": 42,
     "metadata": {},
     "output_type": "execute_result"
    }
   ],
   "source": [
    "# zero travel distance - cancellation? minimum payment such as booking fee?\n",
    "\n",
    "(len(test_df[test_df.simple_distance == 0]), \n",
    "len(test_df[test_df.latitude_distance == 0]),\n",
    "len(test_df[test_df.longitude_distance == 0]))"
   ]
  },
  {
   "cell_type": "code",
   "execution_count": 43,
   "metadata": {
    "hidden": true
   },
   "outputs": [
    {
     "data": {
      "text/plain": [
       "(0.0, 0.0, 0.0)"
      ]
     },
     "execution_count": 43,
     "metadata": {},
     "output_type": "execute_result"
    }
   ],
   "source": [
    "train_df.simple_distance.min(), train_df.latitude_distance.abs().min(), train_df.longitude_distance.abs().min()"
   ]
  },
  {
   "cell_type": "code",
   "execution_count": 44,
   "metadata": {
    "hidden": true
   },
   "outputs": [
    {
     "data": {
      "text/plain": [
       "(584182, 600373, 614239)"
      ]
     },
     "execution_count": 44,
     "metadata": {},
     "output_type": "execute_result"
    }
   ],
   "source": [
    "(len(train_df[train_df.simple_distance == 0]), \n",
    "len(train_df[train_df.latitude_distance == 0]),\n",
    "len(train_df[train_df.longitude_distance == 0]))"
   ]
  },
  {
   "cell_type": "code",
   "execution_count": 45,
   "metadata": {
    "hidden": true
   },
   "outputs": [
    {
     "data": {
      "text/html": [
       "<div>\n",
       "<style scoped>\n",
       "    .dataframe tbody tr th:only-of-type {\n",
       "        vertical-align: middle;\n",
       "    }\n",
       "\n",
       "    .dataframe tbody tr th {\n",
       "        vertical-align: top;\n",
       "    }\n",
       "\n",
       "    .dataframe thead th {\n",
       "        text-align: right;\n",
       "    }\n",
       "</style>\n",
       "<table border=\"1\" class=\"dataframe\">\n",
       "  <thead>\n",
       "    <tr style=\"text-align: right;\">\n",
       "      <th></th>\n",
       "      <th>fare_amount</th>\n",
       "      <th>pickup_longitude</th>\n",
       "      <th>pickup_latitude</th>\n",
       "      <th>dropoff_longitude</th>\n",
       "      <th>dropoff_latitude</th>\n",
       "      <th>passenger_count</th>\n",
       "      <th>longitude_distance</th>\n",
       "      <th>latitude_distance</th>\n",
       "      <th>simple_distance</th>\n",
       "    </tr>\n",
       "  </thead>\n",
       "  <tbody>\n",
       "    <tr>\n",
       "      <th>count</th>\n",
       "      <td>584182.000000</td>\n",
       "      <td>584182.000000</td>\n",
       "      <td>584182.000000</td>\n",
       "      <td>584182.000000</td>\n",
       "      <td>584182.000000</td>\n",
       "      <td>584182.000000</td>\n",
       "      <td>584182.0</td>\n",
       "      <td>584182.0</td>\n",
       "      <td>584182.0</td>\n",
       "    </tr>\n",
       "    <tr>\n",
       "      <th>mean</th>\n",
       "      <td>11.293105</td>\n",
       "      <td>-73.943489</td>\n",
       "      <td>40.760910</td>\n",
       "      <td>-73.943489</td>\n",
       "      <td>40.760910</td>\n",
       "      <td>1.666486</td>\n",
       "      <td>0.0</td>\n",
       "      <td>0.0</td>\n",
       "      <td>0.0</td>\n",
       "    </tr>\n",
       "    <tr>\n",
       "      <th>std</th>\n",
       "      <td>16.132507</td>\n",
       "      <td>0.137193</td>\n",
       "      <td>0.100673</td>\n",
       "      <td>0.137193</td>\n",
       "      <td>0.100673</td>\n",
       "      <td>1.326600</td>\n",
       "      <td>0.0</td>\n",
       "      <td>0.0</td>\n",
       "      <td>0.0</td>\n",
       "    </tr>\n",
       "    <tr>\n",
       "      <th>min</th>\n",
       "      <td>-100.000000</td>\n",
       "      <td>-74.561195</td>\n",
       "      <td>40.273090</td>\n",
       "      <td>-74.561195</td>\n",
       "      <td>40.273090</td>\n",
       "      <td>0.000000</td>\n",
       "      <td>0.0</td>\n",
       "      <td>0.0</td>\n",
       "      <td>0.0</td>\n",
       "    </tr>\n",
       "    <tr>\n",
       "      <th>25%</th>\n",
       "      <td>4.900000</td>\n",
       "      <td>-73.990662</td>\n",
       "      <td>40.733696</td>\n",
       "      <td>-73.990662</td>\n",
       "      <td>40.733696</td>\n",
       "      <td>1.000000</td>\n",
       "      <td>0.0</td>\n",
       "      <td>0.0</td>\n",
       "      <td>0.0</td>\n",
       "    </tr>\n",
       "    <tr>\n",
       "      <th>50%</th>\n",
       "      <td>6.900000</td>\n",
       "      <td>-73.975677</td>\n",
       "      <td>40.752262</td>\n",
       "      <td>-73.975677</td>\n",
       "      <td>40.752262</td>\n",
       "      <td>1.000000</td>\n",
       "      <td>0.0</td>\n",
       "      <td>0.0</td>\n",
       "      <td>0.0</td>\n",
       "    </tr>\n",
       "    <tr>\n",
       "      <th>75%</th>\n",
       "      <td>10.500000</td>\n",
       "      <td>-73.948006</td>\n",
       "      <td>40.767849</td>\n",
       "      <td>-73.948006</td>\n",
       "      <td>40.767849</td>\n",
       "      <td>2.000000</td>\n",
       "      <td>0.0</td>\n",
       "      <td>0.0</td>\n",
       "      <td>0.0</td>\n",
       "    </tr>\n",
       "    <tr>\n",
       "      <th>max</th>\n",
       "      <td>3130.300049</td>\n",
       "      <td>-72.716026</td>\n",
       "      <td>41.916325</td>\n",
       "      <td>-72.716026</td>\n",
       "      <td>41.916325</td>\n",
       "      <td>208.000000</td>\n",
       "      <td>0.0</td>\n",
       "      <td>0.0</td>\n",
       "      <td>0.0</td>\n",
       "    </tr>\n",
       "  </tbody>\n",
       "</table>\n",
       "</div>"
      ],
      "text/plain": [
       "         fare_amount  pickup_longitude  pickup_latitude  dropoff_longitude  \\\n",
       "count  584182.000000     584182.000000    584182.000000      584182.000000   \n",
       "mean       11.293105        -73.943489        40.760910         -73.943489   \n",
       "std        16.132507          0.137193         0.100673           0.137193   \n",
       "min      -100.000000        -74.561195        40.273090         -74.561195   \n",
       "25%         4.900000        -73.990662        40.733696         -73.990662   \n",
       "50%         6.900000        -73.975677        40.752262         -73.975677   \n",
       "75%        10.500000        -73.948006        40.767849         -73.948006   \n",
       "max      3130.300049        -72.716026        41.916325         -72.716026   \n",
       "\n",
       "       dropoff_latitude  passenger_count  longitude_distance  \\\n",
       "count     584182.000000    584182.000000            584182.0   \n",
       "mean          40.760910         1.666486                 0.0   \n",
       "std            0.100673         1.326600                 0.0   \n",
       "min           40.273090         0.000000                 0.0   \n",
       "25%           40.733696         1.000000                 0.0   \n",
       "50%           40.752262         1.000000                 0.0   \n",
       "75%           40.767849         2.000000                 0.0   \n",
       "max           41.916325       208.000000                 0.0   \n",
       "\n",
       "       latitude_distance  simple_distance  \n",
       "count           584182.0         584182.0  \n",
       "mean                 0.0              0.0  \n",
       "std                  0.0              0.0  \n",
       "min                  0.0              0.0  \n",
       "25%                  0.0              0.0  \n",
       "50%                  0.0              0.0  \n",
       "75%                  0.0              0.0  \n",
       "max                  0.0              0.0  "
      ]
     },
     "execution_count": 45,
     "metadata": {},
     "output_type": "execute_result"
    }
   ],
   "source": [
    "# check fare_amount for zero travel distance from training data\n",
    "train_df[train_df.simple_distance == 0].describe()"
   ]
  },
  {
   "cell_type": "raw",
   "metadata": {
    "hidden": true
   },
   "source": [
    "From -$100 to $3130 for zero travel distance!"
   ]
  },
  {
   "cell_type": "code",
   "execution_count": 46,
   "metadata": {
    "hidden": true
   },
   "outputs": [
    {
     "data": {
      "text/html": [
       "<div>\n",
       "<style scoped>\n",
       "    .dataframe tbody tr th:only-of-type {\n",
       "        vertical-align: middle;\n",
       "    }\n",
       "\n",
       "    .dataframe tbody tr th {\n",
       "        vertical-align: top;\n",
       "    }\n",
       "\n",
       "    .dataframe thead th {\n",
       "        text-align: right;\n",
       "    }\n",
       "</style>\n",
       "<table border=\"1\" class=\"dataframe\">\n",
       "  <thead>\n",
       "    <tr style=\"text-align: right;\">\n",
       "      <th></th>\n",
       "      <th>pickup_longitude</th>\n",
       "      <th>pickup_latitude</th>\n",
       "      <th>dropoff_longitude</th>\n",
       "      <th>dropoff_latitude</th>\n",
       "      <th>passenger_count</th>\n",
       "      <th>longitude_distance</th>\n",
       "      <th>latitude_distance</th>\n",
       "      <th>simple_distance</th>\n",
       "    </tr>\n",
       "  </thead>\n",
       "  <tbody>\n",
       "    <tr>\n",
       "      <th>count</th>\n",
       "      <td>9914.000000</td>\n",
       "      <td>9914.000000</td>\n",
       "      <td>9914.000000</td>\n",
       "      <td>9914.000000</td>\n",
       "      <td>9914.000000</td>\n",
       "      <td>9914.000000</td>\n",
       "      <td>9914.000000</td>\n",
       "      <td>9914.000000</td>\n",
       "    </tr>\n",
       "    <tr>\n",
       "      <th>mean</th>\n",
       "      <td>-73.974716</td>\n",
       "      <td>40.751041</td>\n",
       "      <td>-73.973656</td>\n",
       "      <td>40.751740</td>\n",
       "      <td>1.671273</td>\n",
       "      <td>0.001066</td>\n",
       "      <td>0.000702</td>\n",
       "      <td>0.045481</td>\n",
       "    </tr>\n",
       "    <tr>\n",
       "      <th>std</th>\n",
       "      <td>0.042774</td>\n",
       "      <td>0.033541</td>\n",
       "      <td>0.039072</td>\n",
       "      <td>0.035435</td>\n",
       "      <td>1.278747</td>\n",
       "      <td>0.043501</td>\n",
       "      <td>0.033826</td>\n",
       "      <td>0.055975</td>\n",
       "    </tr>\n",
       "    <tr>\n",
       "      <th>min</th>\n",
       "      <td>-74.252190</td>\n",
       "      <td>40.573143</td>\n",
       "      <td>-74.263245</td>\n",
       "      <td>40.568974</td>\n",
       "      <td>1.000000</td>\n",
       "      <td>-0.849174</td>\n",
       "      <td>-0.633213</td>\n",
       "      <td>0.000000</td>\n",
       "    </tr>\n",
       "    <tr>\n",
       "      <th>25%</th>\n",
       "      <td>-73.992500</td>\n",
       "      <td>40.736125</td>\n",
       "      <td>-73.991249</td>\n",
       "      <td>40.735253</td>\n",
       "      <td>1.000000</td>\n",
       "      <td>-0.011496</td>\n",
       "      <td>-0.014214</td>\n",
       "      <td>0.017006</td>\n",
       "    </tr>\n",
       "    <tr>\n",
       "      <th>50%</th>\n",
       "      <td>-73.982327</td>\n",
       "      <td>40.753052</td>\n",
       "      <td>-73.980015</td>\n",
       "      <td>40.754065</td>\n",
       "      <td>1.000000</td>\n",
       "      <td>0.001682</td>\n",
       "      <td>0.000158</td>\n",
       "      <td>0.029110</td>\n",
       "    </tr>\n",
       "    <tr>\n",
       "      <th>75%</th>\n",
       "      <td>-73.968012</td>\n",
       "      <td>40.767113</td>\n",
       "      <td>-73.964062</td>\n",
       "      <td>40.768757</td>\n",
       "      <td>2.000000</td>\n",
       "      <td>0.014906</td>\n",
       "      <td>0.015326</td>\n",
       "      <td>0.052960</td>\n",
       "    </tr>\n",
       "    <tr>\n",
       "      <th>max</th>\n",
       "      <td>-72.986534</td>\n",
       "      <td>41.709557</td>\n",
       "      <td>-72.990967</td>\n",
       "      <td>41.696682</td>\n",
       "      <td>6.000000</td>\n",
       "      <td>0.392708</td>\n",
       "      <td>0.237133</td>\n",
       "      <td>1.479969</td>\n",
       "    </tr>\n",
       "  </tbody>\n",
       "</table>\n",
       "</div>"
      ],
      "text/plain": [
       "       pickup_longitude  pickup_latitude  dropoff_longitude  dropoff_latitude  \\\n",
       "count       9914.000000      9914.000000        9914.000000       9914.000000   \n",
       "mean         -73.974716        40.751041         -73.973656         40.751740   \n",
       "std            0.042774         0.033541           0.039072          0.035435   \n",
       "min          -74.252190        40.573143         -74.263245         40.568974   \n",
       "25%          -73.992500        40.736125         -73.991249         40.735253   \n",
       "50%          -73.982327        40.753052         -73.980015         40.754065   \n",
       "75%          -73.968012        40.767113         -73.964062         40.768757   \n",
       "max          -72.986534        41.709557         -72.990967         41.696682   \n",
       "\n",
       "       passenger_count  longitude_distance  latitude_distance  simple_distance  \n",
       "count      9914.000000         9914.000000        9914.000000      9914.000000  \n",
       "mean          1.671273            0.001066           0.000702         0.045481  \n",
       "std           1.278747            0.043501           0.033826         0.055975  \n",
       "min           1.000000           -0.849174          -0.633213         0.000000  \n",
       "25%           1.000000           -0.011496          -0.014214         0.017006  \n",
       "50%           1.000000            0.001682           0.000158         0.029110  \n",
       "75%           2.000000            0.014906           0.015326         0.052960  \n",
       "max           6.000000            0.392708           0.237133         1.479969  "
      ]
     },
     "execution_count": 46,
     "metadata": {},
     "output_type": "execute_result"
    }
   ],
   "source": [
    "test_df.describe()"
   ]
  },
  {
   "cell_type": "code",
   "execution_count": 47,
   "metadata": {
    "hidden": true
   },
   "outputs": [
    {
     "data": {
      "text/plain": [
       "(1.479969, 0.63321304, 0.8491745)"
      ]
     },
     "execution_count": 47,
     "metadata": {},
     "output_type": "execute_result"
    }
   ],
   "source": [
    "test_df.simple_distance.max(), test_df.latitude_distance.abs().max(), test_df.longitude_distance.abs().max()"
   ]
  },
  {
   "cell_type": "code",
   "execution_count": 48,
   "metadata": {
    "hidden": true
   },
   "outputs": [
    {
     "data": {
      "text/plain": [
       "(2.3284569, 1.4536896, 1.4086685)"
      ]
     },
     "execution_count": 48,
     "metadata": {},
     "output_type": "execute_result"
    }
   ],
   "source": [
    "train_df.simple_distance.max(), train_df.latitude_distance.abs().max(), train_df.longitude_distance.abs().max()"
   ]
  },
  {
   "cell_type": "code",
   "execution_count": 49,
   "metadata": {
    "hidden": true
   },
   "outputs": [
    {
     "data": {
      "text/plain": [
       "(2118, 3413, 126)"
      ]
     },
     "execution_count": 49,
     "metadata": {},
     "output_type": "execute_result"
    }
   ],
   "source": [
    "step = 0.1\n",
    "\n",
    "is_outside_longitude_distance = train_df.longitude_distance>test_df.longitude_distance.max()+step*2\n",
    "is_outside_latitude_distance = train_df.latitude_distance>test_df.latitude_distance.max()+step\n",
    "is_outside_simple_distance = train_df.simple_distance>test_df.simple_distance.max()+step\n",
    "\n",
    "is_outside_longitude_distance.sum(),is_outside_latitude_distance.sum(), is_outside_simple_distance.sum()"
   ]
  },
  {
   "cell_type": "code",
   "execution_count": 50,
   "metadata": {
    "hidden": true
   },
   "outputs": [
    {
     "data": {
      "text/plain": [
       "3853"
      ]
     },
     "execution_count": 50,
     "metadata": {},
     "output_type": "execute_result"
    }
   ],
   "source": [
    "is_outside_extreme_range = is_outside_longitude_distance | is_outside_latitude_distance | is_outside_simple_distance\n",
    "is_outside_extreme_range.sum()"
   ]
  },
  {
   "cell_type": "code",
   "execution_count": 51,
   "metadata": {
    "hidden": true
   },
   "outputs": [
    {
     "name": "stdout",
     "output_type": "stream",
     "text": [
      "Old size: 54253118\n",
      "New size: 54249265\n",
      "3,853 rows removed\n"
     ]
    }
   ],
   "source": [
    "old_len = len(train_df)\n",
    "print(f'Old size: {old_len}')\n",
    "\n",
    "train_df = train_df[~is_outside_extreme_range]\n",
    "\n",
    "new_len = len(train_df)\n",
    "print(f'New size: {new_len}')\n",
    "print(f'{(old_len-new_len):,} rows removed')"
   ]
  },
  {
   "cell_type": "markdown",
   "metadata": {
    "heading_collapsed": true
   },
   "source": [
    "# Passenger Count"
   ]
  },
  {
   "cell_type": "code",
   "execution_count": 52,
   "metadata": {
    "hidden": true
   },
   "outputs": [
    {
     "data": {
      "text/plain": [
       "<matplotlib.axes._subplots.AxesSubplot at 0x16bcf255860>"
      ]
     },
     "execution_count": 52,
     "metadata": {},
     "output_type": "execute_result"
    },
    {
     "data": {
      "image/png": "[encoded data removed]",
      "text/plain": [
       "<Figure size 432x288 with 1 Axes>"
      ]
     },
     "metadata": {},
     "output_type": "display_data"
    }
   ],
   "source": [
    "test_df.passenger_count.value_counts(sort=False).plot(kind='bar')"
   ]
  },
  {
   "cell_type": "code",
   "execution_count": 53,
   "metadata": {
    "hidden": true
   },
   "outputs": [
    {
     "data": {
      "text/plain": [
       "1    6914\n",
       "2    1474\n",
       "5     696\n",
       "3     447\n",
       "4     206\n",
       "6     177\n",
       "Name: passenger_count, dtype: int64"
      ]
     },
     "execution_count": 53,
     "metadata": {},
     "output_type": "execute_result"
    }
   ],
   "source": [
    "test_df.passenger_count.value_counts()"
   ]
  },
  {
   "cell_type": "code",
   "execution_count": 54,
   "metadata": {
    "hidden": true
   },
   "outputs": [
    {
     "data": {
      "text/plain": [
       "<matplotlib.axes._subplots.AxesSubplot at 0x16bc4f4a2b0>"
      ]
     },
     "execution_count": 54,
     "metadata": {},
     "output_type": "execute_result"
    },
    {
     "data": {
      "image/png": "[encoded data removed]",
      "text/plain": [
       "<Figure size 432x288 with 1 Axes>"
      ]
     },
     "metadata": {},
     "output_type": "display_data"
    }
   ],
   "source": [
    "train_df.passenger_count.value_counts(sort=False).plot(kind='bar')"
   ]
  },
  {
   "cell_type": "code",
   "execution_count": 55,
   "metadata": {
    "hidden": true
   },
   "outputs": [
    {
     "data": {
      "text/plain": [
       "0        190842\n",
       "1      37515260\n",
       "2       8012761\n",
       "3       2382870\n",
       "4       1155521\n",
       "5       3841726\n",
       "6       1150220\n",
       "7            13\n",
       "8             7\n",
       "9            21\n",
       "129           2\n",
       "208          22\n",
       "Name: passenger_count, dtype: int64"
      ]
     },
     "execution_count": 55,
     "metadata": {},
     "output_type": "execute_result"
    }
   ],
   "source": [
    "train_df.passenger_count.value_counts().sort_index()"
   ]
  },
  {
   "cell_type": "code",
   "execution_count": 56,
   "metadata": {
    "hidden": true
   },
   "outputs": [
    {
     "data": {
      "text/plain": [
       "190907"
      ]
     },
     "execution_count": 56,
     "metadata": {},
     "output_type": "execute_result"
    }
   ],
   "source": [
    "# number rows with passenger = 0 or more than 6\n",
    "len(train_df[~(train_df.passenger_count.between(1,6))])"
   ]
  },
  {
   "cell_type": "code",
   "execution_count": 57,
   "metadata": {
    "hidden": true,
    "scrolled": true
   },
   "outputs": [
    {
     "name": "stdout",
     "output_type": "stream",
     "text": [
      "Old size: 54249265\n",
      "New size: 54058358\n",
      "190,907 rows removed\n"
     ]
    }
   ],
   "source": [
    "old_len = len(train_df)\n",
    "print(f'Old size: {old_len}')\n",
    "\n",
    "train_df = train_df[(train_df.passenger_count.between(1,6))]\n",
    "\n",
    "new_len = len(train_df)\n",
    "print(f'New size: {new_len}')\n",
    "print(f'{(old_len-new_len):,} rows removed')"
   ]
  },
  {
   "cell_type": "markdown",
   "metadata": {
    "heading_collapsed": true,
    "hidden": true
   },
   "source": [
    "## Checkpoint 2"
   ]
  },
  {
   "cell_type": "code",
   "execution_count": 58,
   "metadata": {
    "hidden": true
   },
   "outputs": [],
   "source": [
    "# reset_index after removing rows, in order to be able to save to feather\n",
    "train_df.reset_index(drop=True, inplace=True)"
   ]
  },
  {
   "cell_type": "code",
   "execution_count": 59,
   "metadata": {
    "hidden": true
   },
   "outputs": [
    {
     "name": "stdout",
     "output_type": "stream",
     "text": [
      "Wall time: 9.19 s\n"
     ]
    }
   ],
   "source": [
    "%%time\n",
    "train_df.to_feather('tmp/taxi-train-v6-chkpt2')"
   ]
  },
  {
   "cell_type": "code",
   "execution_count": 60,
   "metadata": {
    "hidden": true
   },
   "outputs": [
    {
     "name": "stdout",
     "output_type": "stream",
     "text": [
      "Wall time: 15.3 ms\n"
     ]
    }
   ],
   "source": [
    "%%time\n",
    "test_df.to_feather('tmp/taxi-test-v6-chkpt2')"
   ]
  },
  {
   "cell_type": "code",
   "execution_count": 6,
   "metadata": {
    "hidden": true
   },
   "outputs": [
    {
     "name": "stdout",
     "output_type": "stream",
     "text": [
      "CPU times: user 664 ms, sys: 3.24 s, total: 3.91 s\n",
      "Wall time: 19 s\n"
     ]
    }
   ],
   "source": [
    "%%time\n",
    "train_df = pd.read_feather('tmp/taxi-train-v6-chkpt2')"
   ]
  },
  {
   "cell_type": "code",
   "execution_count": 7,
   "metadata": {
    "hidden": true
   },
   "outputs": [
    {
     "name": "stdout",
     "output_type": "stream",
     "text": [
      "CPU times: user 30 µs, sys: 4.05 ms, total: 4.08 ms\n",
      "Wall time: 9.53 ms\n"
     ]
    }
   ],
   "source": [
    "%%time\n",
    "test_df = pd.read_feather('tmp/taxi-test-v6-chkpt2')"
   ]
  },
  {
   "cell_type": "markdown",
   "metadata": {
    "heading_collapsed": true
   },
   "source": [
    "# Fare Amount"
   ]
  },
  {
   "cell_type": "code",
   "execution_count": 63,
   "metadata": {
    "hidden": true
   },
   "outputs": [
    {
     "data": {
      "text/plain": [
       "(8.5, 11.328848)"
      ]
     },
     "execution_count": 63,
     "metadata": {},
     "output_type": "execute_result"
    }
   ],
   "source": [
    "train_df.fare_amount.median(), train_df.fare_amount.mean()"
   ]
  },
  {
   "cell_type": "code",
   "execution_count": 64,
   "metadata": {
    "hidden": true
   },
   "outputs": [
    {
     "data": {
      "text/plain": [
       "(52.0, 78.1500015258789, 135.4416445388265, 228.0333151628214, 450.0)"
      ]
     },
     "execution_count": 64,
     "metadata": {},
     "output_type": "execute_result"
    }
   ],
   "source": [
    "(train_df.fare_amount.quantile(0.99), train_df.fare_amount.quantile(0.999),\n",
    " train_df.fare_amount.quantile(0.9999),train_df.fare_amount.quantile(0.99999),\n",
    " train_df.fare_amount.quantile(0.999999))"
   ]
  },
  {
   "cell_type": "code",
   "execution_count": 65,
   "metadata": {
    "hidden": true
   },
   "outputs": [
    {
     "data": {
      "text/plain": [
       "(540039, 54058, 5406, 541, 53)"
      ]
     },
     "execution_count": 65,
     "metadata": {},
     "output_type": "execute_result"
    }
   ],
   "source": [
    "(len(train_df[(train_df.fare_amount>train_df.fare_amount.quantile(0.99))]),\n",
    "len(train_df[(train_df.fare_amount>train_df.fare_amount.quantile(0.999))]),\n",
    "len(train_df[(train_df.fare_amount>train_df.fare_amount.quantile(0.9999))]),\n",
    "len(train_df[(train_df.fare_amount>train_df.fare_amount.quantile(0.99999))]),\n",
    "len(train_df[(train_df.fare_amount>train_df.fare_amount.quantile(0.999999))]))"
   ]
  },
  {
   "cell_type": "code",
   "execution_count": 66,
   "metadata": {
    "hidden": true
   },
   "outputs": [
    {
     "data": {
      "text/plain": [
       "4393"
      ]
     },
     "execution_count": 66,
     "metadata": {},
     "output_type": "execute_result"
    }
   ],
   "source": [
    "fare_max = 250\n",
    "fare_min = 2.5\n",
    "\n",
    "len(train_df[~(train_df.fare_amount.between(fare_min,fare_max))])"
   ]
  },
  {
   "cell_type": "code",
   "execution_count": 67,
   "metadata": {
    "hidden": true
   },
   "outputs": [
    {
     "name": "stdout",
     "output_type": "stream",
     "text": [
      "Old size: 54058358\n",
      "New size: 54053965\n",
      "4,393 rows removed\n"
     ]
    }
   ],
   "source": [
    "old_len = len(train_df)\n",
    "print(f'Old size: {old_len}')\n",
    "\n",
    "train_df = train_df[(train_df.fare_amount.between(fare_min,fare_max))]\n",
    "\n",
    "new_len = len(train_df)\n",
    "print(f'New size: {new_len}')\n",
    "print(f'{(old_len-new_len):,} rows removed')"
   ]
  },
  {
   "cell_type": "markdown",
   "metadata": {
    "heading_collapsed": true,
    "hidden": true
   },
   "source": [
    "## Zero distance fare"
   ]
  },
  {
   "cell_type": "code",
   "execution_count": 68,
   "metadata": {
    "hidden": true
   },
   "outputs": [
    {
     "data": {
      "text/html": [
       "<div>\n",
       "<style scoped>\n",
       "    .dataframe tbody tr th:only-of-type {\n",
       "        vertical-align: middle;\n",
       "    }\n",
       "\n",
       "    .dataframe tbody tr th {\n",
       "        vertical-align: top;\n",
       "    }\n",
       "\n",
       "    .dataframe thead th {\n",
       "        text-align: right;\n",
       "    }\n",
       "</style>\n",
       "<table border=\"1\" class=\"dataframe\">\n",
       "  <thead>\n",
       "    <tr style=\"text-align: right;\">\n",
       "      <th></th>\n",
       "      <th>fare_amount</th>\n",
       "      <th>pickup_longitude</th>\n",
       "      <th>pickup_latitude</th>\n",
       "      <th>dropoff_longitude</th>\n",
       "      <th>dropoff_latitude</th>\n",
       "      <th>passenger_count</th>\n",
       "      <th>longitude_distance</th>\n",
       "      <th>latitude_distance</th>\n",
       "      <th>simple_distance</th>\n",
       "    </tr>\n",
       "  </thead>\n",
       "  <tbody>\n",
       "    <tr>\n",
       "      <th>count</th>\n",
       "      <td>583150.000000</td>\n",
       "      <td>583150.000000</td>\n",
       "      <td>583150.000000</td>\n",
       "      <td>583150.000000</td>\n",
       "      <td>583150.000000</td>\n",
       "      <td>583150.00000</td>\n",
       "      <td>583150.0</td>\n",
       "      <td>583150.0</td>\n",
       "      <td>583150.0</td>\n",
       "    </tr>\n",
       "    <tr>\n",
       "      <th>mean</th>\n",
       "      <td>11.228794</td>\n",
       "      <td>-73.943542</td>\n",
       "      <td>40.760933</td>\n",
       "      <td>-73.943542</td>\n",
       "      <td>40.760933</td>\n",
       "      <td>1.66790</td>\n",
       "      <td>0.0</td>\n",
       "      <td>0.0</td>\n",
       "      <td>0.0</td>\n",
       "    </tr>\n",
       "    <tr>\n",
       "      <th>std</th>\n",
       "      <td>14.698286</td>\n",
       "      <td>0.137111</td>\n",
       "      <td>0.100661</td>\n",
       "      <td>0.137111</td>\n",
       "      <td>0.100661</td>\n",
       "      <td>1.29864</td>\n",
       "      <td>0.0</td>\n",
       "      <td>0.0</td>\n",
       "      <td>0.0</td>\n",
       "    </tr>\n",
       "    <tr>\n",
       "      <th>min</th>\n",
       "      <td>2.500000</td>\n",
       "      <td>-74.561195</td>\n",
       "      <td>40.273090</td>\n",
       "      <td>-74.561195</td>\n",
       "      <td>40.273090</td>\n",
       "      <td>1.00000</td>\n",
       "      <td>0.0</td>\n",
       "      <td>0.0</td>\n",
       "      <td>0.0</td>\n",
       "    </tr>\n",
       "    <tr>\n",
       "      <th>25%</th>\n",
       "      <td>4.900000</td>\n",
       "      <td>-73.990662</td>\n",
       "      <td>40.733696</td>\n",
       "      <td>-73.990662</td>\n",
       "      <td>40.733696</td>\n",
       "      <td>1.00000</td>\n",
       "      <td>0.0</td>\n",
       "      <td>0.0</td>\n",
       "      <td>0.0</td>\n",
       "    </tr>\n",
       "    <tr>\n",
       "      <th>50%</th>\n",
       "      <td>6.900000</td>\n",
       "      <td>-73.975685</td>\n",
       "      <td>40.752262</td>\n",
       "      <td>-73.975685</td>\n",
       "      <td>40.752262</td>\n",
       "      <td>1.00000</td>\n",
       "      <td>0.0</td>\n",
       "      <td>0.0</td>\n",
       "      <td>0.0</td>\n",
       "    </tr>\n",
       "    <tr>\n",
       "      <th>75%</th>\n",
       "      <td>10.500000</td>\n",
       "      <td>-73.948059</td>\n",
       "      <td>40.767853</td>\n",
       "      <td>-73.948059</td>\n",
       "      <td>40.767853</td>\n",
       "      <td>2.00000</td>\n",
       "      <td>0.0</td>\n",
       "      <td>0.0</td>\n",
       "      <td>0.0</td>\n",
       "    </tr>\n",
       "    <tr>\n",
       "      <th>max</th>\n",
       "      <td>250.000000</td>\n",
       "      <td>-72.716026</td>\n",
       "      <td>41.916325</td>\n",
       "      <td>-72.716026</td>\n",
       "      <td>41.916325</td>\n",
       "      <td>6.00000</td>\n",
       "      <td>0.0</td>\n",
       "      <td>0.0</td>\n",
       "      <td>0.0</td>\n",
       "    </tr>\n",
       "  </tbody>\n",
       "</table>\n",
       "</div>"
      ],
      "text/plain": [
       "         fare_amount  pickup_longitude  pickup_latitude  dropoff_longitude  \\\n",
       "count  583150.000000     583150.000000    583150.000000      583150.000000   \n",
       "mean       11.228794        -73.943542        40.760933         -73.943542   \n",
       "std        14.698286          0.137111         0.100661           0.137111   \n",
       "min         2.500000        -74.561195        40.273090         -74.561195   \n",
       "25%         4.900000        -73.990662        40.733696         -73.990662   \n",
       "50%         6.900000        -73.975685        40.752262         -73.975685   \n",
       "75%        10.500000        -73.948059        40.767853         -73.948059   \n",
       "max       250.000000        -72.716026        41.916325         -72.716026   \n",
       "\n",
       "       dropoff_latitude  passenger_count  longitude_distance  \\\n",
       "count     583150.000000     583150.00000            583150.0   \n",
       "mean          40.760933          1.66790                 0.0   \n",
       "std            0.100661          1.29864                 0.0   \n",
       "min           40.273090          1.00000                 0.0   \n",
       "25%           40.733696          1.00000                 0.0   \n",
       "50%           40.752262          1.00000                 0.0   \n",
       "75%           40.767853          2.00000                 0.0   \n",
       "max           41.916325          6.00000                 0.0   \n",
       "\n",
       "       latitude_distance  simple_distance  \n",
       "count           583150.0         583150.0  \n",
       "mean                 0.0              0.0  \n",
       "std                  0.0              0.0  \n",
       "min                  0.0              0.0  \n",
       "25%                  0.0              0.0  \n",
       "50%                  0.0              0.0  \n",
       "75%                  0.0              0.0  \n",
       "max                  0.0              0.0  "
      ]
     },
     "execution_count": 68,
     "metadata": {},
     "output_type": "execute_result"
    }
   ],
   "source": [
    "# check fare_amount for zero travel distance from training data\n",
    "train_df[train_df.simple_distance == 0].describe()"
   ]
  },
  {
   "cell_type": "code",
   "execution_count": 69,
   "metadata": {
    "hidden": true
   },
   "outputs": [
    {
     "data": {
      "text/html": [
       "<div>\n",
       "<style scoped>\n",
       "    .dataframe tbody tr th:only-of-type {\n",
       "        vertical-align: middle;\n",
       "    }\n",
       "\n",
       "    .dataframe tbody tr th {\n",
       "        vertical-align: top;\n",
       "    }\n",
       "\n",
       "    .dataframe thead th {\n",
       "        text-align: right;\n",
       "    }\n",
       "</style>\n",
       "<table border=\"1\" class=\"dataframe\">\n",
       "  <thead>\n",
       "    <tr style=\"text-align: right;\">\n",
       "      <th></th>\n",
       "      <th>pickup_longitude</th>\n",
       "      <th>pickup_latitude</th>\n",
       "      <th>dropoff_longitude</th>\n",
       "      <th>dropoff_latitude</th>\n",
       "      <th>passenger_count</th>\n",
       "      <th>longitude_distance</th>\n",
       "      <th>latitude_distance</th>\n",
       "      <th>simple_distance</th>\n",
       "    </tr>\n",
       "  </thead>\n",
       "  <tbody>\n",
       "    <tr>\n",
       "      <th>count</th>\n",
       "      <td>85.000000</td>\n",
       "      <td>85.000000</td>\n",
       "      <td>85.000000</td>\n",
       "      <td>85.000000</td>\n",
       "      <td>85.000000</td>\n",
       "      <td>85.0</td>\n",
       "      <td>85.0</td>\n",
       "      <td>85.0</td>\n",
       "    </tr>\n",
       "    <tr>\n",
       "      <th>mean</th>\n",
       "      <td>-73.922089</td>\n",
       "      <td>40.781349</td>\n",
       "      <td>-73.922089</td>\n",
       "      <td>40.781349</td>\n",
       "      <td>1.741176</td>\n",
       "      <td>0.0</td>\n",
       "      <td>0.0</td>\n",
       "      <td>0.0</td>\n",
       "    </tr>\n",
       "    <tr>\n",
       "      <th>std</th>\n",
       "      <td>0.181695</td>\n",
       "      <td>0.134858</td>\n",
       "      <td>0.181695</td>\n",
       "      <td>0.134858</td>\n",
       "      <td>1.337668</td>\n",
       "      <td>0.0</td>\n",
       "      <td>0.0</td>\n",
       "      <td>0.0</td>\n",
       "    </tr>\n",
       "    <tr>\n",
       "      <th>min</th>\n",
       "      <td>-74.047394</td>\n",
       "      <td>40.622555</td>\n",
       "      <td>-74.047394</td>\n",
       "      <td>40.622555</td>\n",
       "      <td>1.000000</td>\n",
       "      <td>0.0</td>\n",
       "      <td>0.0</td>\n",
       "      <td>0.0</td>\n",
       "    </tr>\n",
       "    <tr>\n",
       "      <th>25%</th>\n",
       "      <td>-73.983925</td>\n",
       "      <td>40.742584</td>\n",
       "      <td>-73.983925</td>\n",
       "      <td>40.742584</td>\n",
       "      <td>1.000000</td>\n",
       "      <td>0.0</td>\n",
       "      <td>0.0</td>\n",
       "      <td>0.0</td>\n",
       "    </tr>\n",
       "    <tr>\n",
       "      <th>50%</th>\n",
       "      <td>-73.970085</td>\n",
       "      <td>40.754883</td>\n",
       "      <td>-73.970085</td>\n",
       "      <td>40.754883</td>\n",
       "      <td>1.000000</td>\n",
       "      <td>0.0</td>\n",
       "      <td>0.0</td>\n",
       "      <td>0.0</td>\n",
       "    </tr>\n",
       "    <tr>\n",
       "      <th>75%</th>\n",
       "      <td>-73.951820</td>\n",
       "      <td>40.772038</td>\n",
       "      <td>-73.951820</td>\n",
       "      <td>40.772038</td>\n",
       "      <td>2.000000</td>\n",
       "      <td>0.0</td>\n",
       "      <td>0.0</td>\n",
       "      <td>0.0</td>\n",
       "    </tr>\n",
       "    <tr>\n",
       "      <th>max</th>\n",
       "      <td>-73.137390</td>\n",
       "      <td>41.366138</td>\n",
       "      <td>-73.137390</td>\n",
       "      <td>41.366138</td>\n",
       "      <td>6.000000</td>\n",
       "      <td>0.0</td>\n",
       "      <td>0.0</td>\n",
       "      <td>0.0</td>\n",
       "    </tr>\n",
       "  </tbody>\n",
       "</table>\n",
       "</div>"
      ],
      "text/plain": [
       "       pickup_longitude  pickup_latitude  dropoff_longitude  dropoff_latitude  \\\n",
       "count         85.000000        85.000000          85.000000         85.000000   \n",
       "mean         -73.922089        40.781349         -73.922089         40.781349   \n",
       "std            0.181695         0.134858           0.181695          0.134858   \n",
       "min          -74.047394        40.622555         -74.047394         40.622555   \n",
       "25%          -73.983925        40.742584         -73.983925         40.742584   \n",
       "50%          -73.970085        40.754883         -73.970085         40.754883   \n",
       "75%          -73.951820        40.772038         -73.951820         40.772038   \n",
       "max          -73.137390        41.366138         -73.137390         41.366138   \n",
       "\n",
       "       passenger_count  longitude_distance  latitude_distance  simple_distance  \n",
       "count        85.000000                85.0               85.0             85.0  \n",
       "mean          1.741176                 0.0                0.0              0.0  \n",
       "std           1.337668                 0.0                0.0              0.0  \n",
       "min           1.000000                 0.0                0.0              0.0  \n",
       "25%           1.000000                 0.0                0.0              0.0  \n",
       "50%           1.000000                 0.0                0.0              0.0  \n",
       "75%           2.000000                 0.0                0.0              0.0  \n",
       "max           6.000000                 0.0                0.0              0.0  "
      ]
     },
     "execution_count": 69,
     "metadata": {},
     "output_type": "execute_result"
    }
   ],
   "source": [
    "test_df[test_df.simple_distance == 0].describe()"
   ]
  },
  {
   "cell_type": "markdown",
   "metadata": {
    "hidden": true
   },
   "source": [
    "- There are 85 cases  of zero travel distance in test set. \n",
    "- There are 580K cases of zero travel distance in training set.\n",
    "- Zero distance can also mean travel and come back to the same spot. In any case it's ambiguous case\n",
    "- To investigate further"
   ]
  },
  {
   "cell_type": "markdown",
   "metadata": {
    "heading_collapsed": true,
    "hidden": true
   },
   "source": [
    "## Checkpoint 3"
   ]
  },
  {
   "cell_type": "code",
   "execution_count": 70,
   "metadata": {
    "hidden": true
   },
   "outputs": [],
   "source": [
    "# reset_index after removing rows, in order to be able to save to feather\n",
    "train_df.reset_index(drop=True, inplace=True)"
   ]
  },
  {
   "cell_type": "code",
   "execution_count": 71,
   "metadata": {
    "hidden": true
   },
   "outputs": [
    {
     "name": "stdout",
     "output_type": "stream",
     "text": [
      "Wall time: 8.82 s\n"
     ]
    }
   ],
   "source": [
    "%%time\n",
    "train_df.to_feather('tmp/taxi-train-v6-chkpt3')"
   ]
  },
  {
   "cell_type": "code",
   "execution_count": 72,
   "metadata": {
    "hidden": true
   },
   "outputs": [
    {
     "name": "stdout",
     "output_type": "stream",
     "text": [
      "Wall time: 16 ms\n"
     ]
    }
   ],
   "source": [
    "%%time\n",
    "test_df.to_feather('tmp/taxi-test-v6-chkpt3')"
   ]
  },
  {
   "cell_type": "code",
   "execution_count": 8,
   "metadata": {
    "hidden": true
   },
   "outputs": [
    {
     "name": "stdout",
     "output_type": "stream",
     "text": [
      "CPU times: user 725 ms, sys: 3.89 s, total: 4.61 s\n",
      "Wall time: 36.7 s\n"
     ]
    }
   ],
   "source": [
    "%%time\n",
    "train_df = pd.read_feather('tmp/taxi-train-v6-chkpt3')"
   ]
  },
  {
   "cell_type": "code",
   "execution_count": 9,
   "metadata": {
    "hidden": true
   },
   "outputs": [
    {
     "name": "stdout",
     "output_type": "stream",
     "text": [
      "CPU times: user 1.02 ms, sys: 2.35 ms, total: 3.37 ms\n",
      "Wall time: 6.77 ms\n"
     ]
    }
   ],
   "source": [
    "%%time\n",
    "test_df = pd.read_feather('tmp/taxi-test-v6-chkpt3')"
   ]
  },
  {
   "cell_type": "markdown",
   "metadata": {
    "heading_collapsed": true
   },
   "source": [
    "# Date Time"
   ]
  },
  {
   "cell_type": "code",
   "execution_count": 10,
   "metadata": {
    "hidden": true
   },
   "outputs": [
    {
     "name": "stdout",
     "output_type": "stream",
     "text": [
      "<class 'pandas.core.frame.DataFrame'>\n",
      "RangeIndex: 54053965 entries, 0 to 54053964\n",
      "Data columns (total 10 columns):\n",
      "fare_amount           float32\n",
      "pickup_datetime       datetime64[ns]\n",
      "pickup_longitude      float32\n",
      "pickup_latitude       float32\n",
      "dropoff_longitude     float32\n",
      "dropoff_latitude      float32\n",
      "passenger_count       uint8\n",
      "longitude_distance    float32\n",
      "latitude_distance     float32\n",
      "simple_distance       float32\n",
      "dtypes: datetime64[ns](1), float32(8), uint8(1)\n",
      "memory usage: 2.1 GB\n"
     ]
    }
   ],
   "source": [
    "train_df.info()"
   ]
  },
  {
   "cell_type": "code",
   "execution_count": 11,
   "metadata": {
    "hidden": true
   },
   "outputs": [],
   "source": [
    "def split_datetime(df):\n",
    "    # Extract date attributes and then drop the pickup_datetime column\n",
    "    df['year'] = (df['pickup_datetime'].dt.year-2000).astype('uint8')  \n",
    "    df['month'] = df['pickup_datetime'].dt.month.astype('uint8')  \n",
    "    df['week'] = df['pickup_datetime'].dt.week.astype('uint8')  \n",
    "    df['dayofweek'] = df['pickup_datetime'].dt.dayofweek.astype('uint8')  \n",
    "    df['day'] = df['pickup_datetime'].dt.day.astype('uint8')  \n",
    "    df['hour'] = df['pickup_datetime'].dt.hour.astype('uint8')  \n",
    "    \n",
    "    df.drop('pickup_datetime', axis=1, inplace=True)"
   ]
  },
  {
   "cell_type": "code",
   "execution_count": 12,
   "metadata": {
    "hidden": true
   },
   "outputs": [
    {
     "name": "stdout",
     "output_type": "stream",
     "text": [
      "CPU times: user 20.6 s, sys: 4.58 s, total: 25.1 s\n",
      "Wall time: 24.7 s\n"
     ]
    }
   ],
   "source": [
    "%%time\n",
    "split_datetime(train_df)"
   ]
  },
  {
   "cell_type": "code",
   "execution_count": 13,
   "metadata": {
    "hidden": true
   },
   "outputs": [
    {
     "name": "stdout",
     "output_type": "stream",
     "text": [
      "<class 'pandas.core.frame.DataFrame'>\n",
      "RangeIndex: 54053965 entries, 0 to 54053964\n",
      "Data columns (total 15 columns):\n",
      "fare_amount           float32\n",
      "pickup_longitude      float32\n",
      "pickup_latitude       float32\n",
      "dropoff_longitude     float32\n",
      "dropoff_latitude      float32\n",
      "passenger_count       uint8\n",
      "longitude_distance    float32\n",
      "latitude_distance     float32\n",
      "simple_distance       float32\n",
      "year                  uint8\n",
      "month                 uint8\n",
      "week                  uint8\n",
      "dayofweek             uint8\n",
      "day                   uint8\n",
      "hour                  uint8\n",
      "dtypes: float32(8), uint8(7)\n",
      "memory usage: 2.0 GB\n"
     ]
    }
   ],
   "source": [
    "train_df.info()"
   ]
  },
  {
   "cell_type": "code",
   "execution_count": 14,
   "metadata": {
    "hidden": true
   },
   "outputs": [],
   "source": [
    "split_datetime(test_df)"
   ]
  },
  {
   "cell_type": "markdown",
   "metadata": {
    "heading_collapsed": true,
    "hidden": true
   },
   "source": [
    "## Checkpoint 4"
   ]
  },
  {
   "cell_type": "code",
   "execution_count": 15,
   "metadata": {
    "hidden": true
   },
   "outputs": [
    {
     "name": "stdout",
     "output_type": "stream",
     "text": [
      "CPU times: user 2.09 s, sys: 2.25 s, total: 4.34 s\n",
      "Wall time: 18.9 s\n"
     ]
    }
   ],
   "source": [
    "%%time\n",
    "train_df.to_feather('tmp/taxi-train-v6-chkpt4')"
   ]
  },
  {
   "cell_type": "code",
   "execution_count": 16,
   "metadata": {
    "hidden": true
   },
   "outputs": [
    {
     "name": "stdout",
     "output_type": "stream",
     "text": [
      "CPU times: user 12.1 ms, sys: 6.53 ms, total: 18.6 ms\n",
      "Wall time: 11.6 ms\n"
     ]
    }
   ],
   "source": [
    "%%time\n",
    "test_df.to_feather('tmp/taxi-test-v6-chkpt4')"
   ]
  },
  {
   "cell_type": "code",
   "execution_count": 20,
   "metadata": {
    "hidden": true
   },
   "outputs": [
    {
     "name": "stdout",
     "output_type": "stream",
     "text": [
      "Wall time: 9.71 s\n"
     ]
    }
   ],
   "source": [
    "%%time\n",
    "train_df = pd.read_feather('tmp/taxi-train-v6-chkpt4')"
   ]
  },
  {
   "cell_type": "code",
   "execution_count": 21,
   "metadata": {
    "hidden": true
   },
   "outputs": [
    {
     "name": "stdout",
     "output_type": "stream",
     "text": [
      "Wall time: 34.7 ms\n"
     ]
    }
   ],
   "source": [
    "%%time\n",
    "test_df = pd.read_feather('tmp/taxi-test-v6-chkpt4')"
   ]
  },
  {
   "cell_type": "markdown",
   "metadata": {
    "heading_collapsed": true
   },
   "source": [
    "# Add distance to city and airports"
   ]
  },
  {
   "cell_type": "code",
   "execution_count": 22,
   "metadata": {
    "hidden": true
   },
   "outputs": [],
   "source": [
    "def dist(pickup_lat, pickup_long, dropoff_lat, dropoff_long):  \n",
    "    return (np.abs(dropoff_lat - pickup_lat) + np.abs(dropoff_long - pickup_long)).astype('float32')  "
   ]
  },
  {
   "cell_type": "code",
   "execution_count": 23,
   "metadata": {
    "hidden": true
   },
   "outputs": [],
   "source": [
    "def add_distance_to_city_airports(df):\n",
    "    # Distances to nearby airports, and city center\n",
    "    # By reporting distances to these points, the model can somewhat triangulate other locations of interest\n",
    "    nyc = (40.712775,-74.005973) # New York City\n",
    "    jfk = (40.641311,-73.778139) # John F. Kennedy International Airport\n",
    "    ewr = (40.689531,-74.174462) # Newark Liberty International Airport\n",
    "    lgr = (40.776927,-73.873966) # LaGuardia Airport\n",
    "    \n",
    "    df['pickup_distance_to_nyc'] = dist(nyc[0], nyc[1], df['pickup_latitude'], df['pickup_longitude'])\n",
    "    df['dropoff_distance_to_nyc'] = dist(nyc[0], nyc[1], df['dropoff_latitude'], df['dropoff_longitude'])\n",
    "    df['pickup_distance_to_jfk'] = dist(jfk[0], jfk[1], df['pickup_latitude'], df['pickup_longitude'])\n",
    "    df['dropoff_distance_to_jfk'] = dist(jfk[0], jfk[1], df['dropoff_latitude'], df['dropoff_longitude'])\n",
    "    df['pickup_distance_to_ewr'] = dist(ewr[0], ewr[1], df['pickup_latitude'], df['pickup_longitude'])\n",
    "    df['dropoff_distance_to_ewr'] = dist(ewr[0], ewr[1], df['dropoff_latitude'], df['dropoff_longitude'])\n",
    "    df['pickup_distance_to_lgr'] = dist(lgr[0], lgr[1], df['pickup_latitude'], df['pickup_longitude'])\n",
    "    df['dropoff_distance_to_lgr'] = dist(lgr[0], lgr[1], df['dropoff_latitude'], df['dropoff_longitude'])"
   ]
  },
  {
   "cell_type": "code",
   "execution_count": 24,
   "metadata": {
    "hidden": true
   },
   "outputs": [],
   "source": [
    "add_distance_to_city_airports(train_df)"
   ]
  },
  {
   "cell_type": "code",
   "execution_count": 25,
   "metadata": {
    "hidden": true
   },
   "outputs": [
    {
     "name": "stdout",
     "output_type": "stream",
     "text": [
      "<class 'pandas.core.frame.DataFrame'>\n",
      "RangeIndex: 54053965 entries, 0 to 54053964\n",
      "Data columns (total 23 columns):\n",
      "fare_amount                float32\n",
      "pickup_longitude           float32\n",
      "pickup_latitude            float32\n",
      "dropoff_longitude          float32\n",
      "dropoff_latitude           float32\n",
      "passenger_count            uint8\n",
      "longitude_distance         float32\n",
      "latitude_distance          float32\n",
      "simple_distance            float32\n",
      "year                       uint8\n",
      "month                      uint8\n",
      "week                       uint8\n",
      "dayofweek                  uint8\n",
      "day                        uint8\n",
      "hour                       uint8\n",
      "pickup_distance_to_nyc     float32\n",
      "dropoff_distance_to_nyc    float32\n",
      "pickup_distance_to_jfk     float32\n",
      "dropoff_distance_to_jfk    float32\n",
      "pickup_distance_to_ewr     float32\n",
      "dropoff_distance_to_ewr    float32\n",
      "pickup_distance_to_lgr     float32\n",
      "dropoff_distance_to_lgr    float32\n",
      "dtypes: float32(16), uint8(7)\n",
      "memory usage: 3.6 GB\n"
     ]
    }
   ],
   "source": [
    "train_df.info()"
   ]
  },
  {
   "cell_type": "markdown",
   "metadata": {
    "heading_collapsed": true
   },
   "source": [
    "# Add boolean flag to show fare increased from September 2012"
   ]
  },
  {
   "cell_type": "code",
   "execution_count": 26,
   "metadata": {
    "hidden": true
   },
   "outputs": [],
   "source": [
    "def add_fare_increased_flag(df):\n",
    "    flag = (((df.year==(2012-2000)) & (df.month>=9)) | (df.year>(2012-2000)))\n",
    "    df['fare_increased'] = flag"
   ]
  },
  {
   "cell_type": "code",
   "execution_count": 27,
   "metadata": {
    "hidden": true
   },
   "outputs": [],
   "source": [
    "add_fare_increased_flag(train_df)"
   ]
  },
  {
   "cell_type": "code",
   "execution_count": 28,
   "metadata": {
    "hidden": true
   },
   "outputs": [
    {
     "name": "stdout",
     "output_type": "stream",
     "text": [
      "<class 'pandas.core.frame.DataFrame'>\n",
      "RangeIndex: 54053965 entries, 0 to 54053964\n",
      "Data columns (total 24 columns):\n",
      "fare_amount                float32\n",
      "pickup_longitude           float32\n",
      "pickup_latitude            float32\n",
      "dropoff_longitude          float32\n",
      "dropoff_latitude           float32\n",
      "passenger_count            uint8\n",
      "longitude_distance         float32\n",
      "latitude_distance          float32\n",
      "simple_distance            float32\n",
      "year                       uint8\n",
      "month                      uint8\n",
      "week                       uint8\n",
      "dayofweek                  uint8\n",
      "day                        uint8\n",
      "hour                       uint8\n",
      "pickup_distance_to_nyc     float32\n",
      "dropoff_distance_to_nyc    float32\n",
      "pickup_distance_to_jfk     float32\n",
      "dropoff_distance_to_jfk    float32\n",
      "pickup_distance_to_ewr     float32\n",
      "dropoff_distance_to_ewr    float32\n",
      "pickup_distance_to_lgr     float32\n",
      "dropoff_distance_to_lgr    float32\n",
      "fare_increased             bool\n",
      "dtypes: bool(1), float32(16), uint8(7)\n",
      "memory usage: 3.6 GB\n"
     ]
    }
   ],
   "source": [
    "train_df.info()"
   ]
  },
  {
   "cell_type": "markdown",
   "metadata": {
    "heading_collapsed": true
   },
   "source": [
    "# Repeat all the feature engineering on test dataframe"
   ]
  },
  {
   "cell_type": "code",
   "execution_count": 29,
   "metadata": {
    "hidden": true
   },
   "outputs": [
    {
     "name": "stdout",
     "output_type": "stream",
     "text": [
      "<class 'pandas.core.frame.DataFrame'>\n",
      "RangeIndex: 9914 entries, 0 to 9913\n",
      "Data columns (total 23 columns):\n",
      "pickup_longitude           9914 non-null float32\n",
      "pickup_latitude            9914 non-null float32\n",
      "dropoff_longitude          9914 non-null float32\n",
      "dropoff_latitude           9914 non-null float32\n",
      "passenger_count            9914 non-null uint8\n",
      "longitude_distance         9914 non-null float32\n",
      "latitude_distance          9914 non-null float32\n",
      "simple_distance            9914 non-null float32\n",
      "year                       9914 non-null uint8\n",
      "month                      9914 non-null uint8\n",
      "week                       9914 non-null uint8\n",
      "dayofweek                  9914 non-null uint8\n",
      "day                        9914 non-null uint8\n",
      "hour                       9914 non-null uint8\n",
      "pickup_distance_to_nyc     9914 non-null float32\n",
      "dropoff_distance_to_nyc    9914 non-null float32\n",
      "pickup_distance_to_jfk     9914 non-null float32\n",
      "dropoff_distance_to_jfk    9914 non-null float32\n",
      "pickup_distance_to_ewr     9914 non-null float32\n",
      "dropoff_distance_to_ewr    9914 non-null float32\n",
      "pickup_distance_to_lgr     9914 non-null float32\n",
      "dropoff_distance_to_lgr    9914 non-null float32\n",
      "fare_increased             9914 non-null bool\n",
      "dtypes: bool(1), float32(15), uint8(7)\n",
      "memory usage: 658.4 KB\n"
     ]
    }
   ],
   "source": [
    "add_distance_to_city_airports(test_df)\n",
    "add_fare_increased_flag(test_df)\n",
    "test_df.info()"
   ]
  },
  {
   "cell_type": "markdown",
   "metadata": {
    "heading_collapsed": true,
    "hidden": true
   },
   "source": [
    "## Checkpoint 5"
   ]
  },
  {
   "cell_type": "code",
   "execution_count": 30,
   "metadata": {
    "hidden": true
   },
   "outputs": [
    {
     "name": "stdout",
     "output_type": "stream",
     "text": [
      "Wall time: 17.1 s\n"
     ]
    }
   ],
   "source": [
    "%%time\n",
    "train_df.to_feather('tmp/taxi-train-v6-chkpt5')"
   ]
  },
  {
   "cell_type": "code",
   "execution_count": 31,
   "metadata": {
    "hidden": true
   },
   "outputs": [
    {
     "name": "stdout",
     "output_type": "stream",
     "text": [
      "Wall time: 16.3 ms\n"
     ]
    }
   ],
   "source": [
    "%%time\n",
    "test_df.to_feather('tmp/taxi-test-v6-chkpt5')"
   ]
  },
  {
   "cell_type": "markdown",
   "metadata": {},
   "source": [
    "# Load Clean"
   ]
  },
  {
   "cell_type": "code",
   "execution_count": 5,
   "metadata": {},
   "outputs": [
    {
     "name": "stdout",
     "output_type": "stream",
     "text": [
      "CPU times: user 1.62 s, sys: 6.48 s, total: 8.1 s\n",
      "Wall time: 46.2 s\n"
     ]
    }
   ],
   "source": [
    "%%time\n",
    "train_df = pd.read_feather('tmp/taxi-train-v6-chkpt5')"
   ]
  },
  {
   "cell_type": "code",
   "execution_count": 6,
   "metadata": {},
   "outputs": [
    {
     "name": "stdout",
     "output_type": "stream",
     "text": [
      "CPU times: user 601 µs, sys: 5.16 ms, total: 5.76 ms\n",
      "Wall time: 10.8 ms\n"
     ]
    }
   ],
   "source": [
    "%%time\n",
    "test_df = pd.read_feather('tmp/taxi-test-v6-chkpt5')"
   ]
  },
  {
   "cell_type": "code",
   "execution_count": 45,
   "metadata": {},
   "outputs": [
    {
     "name": "stdout",
     "output_type": "stream",
     "text": [
      "<class 'pandas.core.frame.DataFrame'>\n",
      "RangeIndex: 54053965 entries, 0 to 54053964\n",
      "Data columns (total 24 columns):\n",
      "fare_amount                float32\n",
      "pickup_longitude           float32\n",
      "pickup_latitude            float32\n",
      "dropoff_longitude          float32\n",
      "dropoff_latitude           float32\n",
      "passenger_count            uint8\n",
      "longitude_distance         float32\n",
      "latitude_distance          float32\n",
      "simple_distance            float32\n",
      "year                       uint8\n",
      "month                      uint8\n",
      "week                       uint8\n",
      "dayofweek                  uint8\n",
      "day                        uint8\n",
      "hour                       uint8\n",
      "pickup_distance_to_nyc     float32\n",
      "dropoff_distance_to_nyc    float32\n",
      "pickup_distance_to_jfk     float32\n",
      "dropoff_distance_to_jfk    float32\n",
      "pickup_distance_to_ewr     float32\n",
      "dropoff_distance_to_ewr    float32\n",
      "pickup_distance_to_lgr     float32\n",
      "dropoff_distance_to_lgr    float32\n",
      "fare_increased             bool\n",
      "dtypes: bool(1), float32(16), uint8(7)\n",
      "memory usage: 3.6 GB\n"
     ]
    }
   ],
   "source": [
    "train_df.info()"
   ]
  },
  {
   "cell_type": "code",
   "execution_count": 46,
   "metadata": {},
   "outputs": [
    {
     "name": "stdout",
     "output_type": "stream",
     "text": [
      "<class 'pandas.core.frame.DataFrame'>\n",
      "RangeIndex: 9914 entries, 0 to 9913\n",
      "Data columns (total 23 columns):\n",
      "pickup_longitude           9914 non-null float32\n",
      "pickup_latitude            9914 non-null float32\n",
      "dropoff_longitude          9914 non-null float32\n",
      "dropoff_latitude           9914 non-null float32\n",
      "passenger_count            9914 non-null uint8\n",
      "longitude_distance         9914 non-null float32\n",
      "latitude_distance          9914 non-null float32\n",
      "simple_distance            9914 non-null float32\n",
      "year                       9914 non-null uint8\n",
      "month                      9914 non-null uint8\n",
      "week                       9914 non-null uint8\n",
      "dayofweek                  9914 non-null uint8\n",
      "day                        9914 non-null uint8\n",
      "hour                       9914 non-null uint8\n",
      "pickup_distance_to_nyc     9914 non-null float32\n",
      "dropoff_distance_to_nyc    9914 non-null float32\n",
      "pickup_distance_to_jfk     9914 non-null float32\n",
      "dropoff_distance_to_jfk    9914 non-null float32\n",
      "pickup_distance_to_ewr     9914 non-null float32\n",
      "dropoff_distance_to_ewr    9914 non-null float32\n",
      "pickup_distance_to_lgr     9914 non-null float32\n",
      "dropoff_distance_to_lgr    9914 non-null float32\n",
      "fare_increased             9914 non-null bool\n",
      "dtypes: bool(1), float32(15), uint8(7)\n",
      "memory usage: 658.4 KB\n"
     ]
    }
   ],
   "source": [
    "test_df.info()"
   ]
  },
  {
   "cell_type": "markdown",
   "metadata": {},
   "source": [
    "# Drop fields"
   ]
  },
  {
   "cell_type": "code",
   "execution_count": 47,
   "metadata": {},
   "outputs": [],
   "source": [
    "fields_drop = ['passenger_count', 'month', 'year', 'day', 'dayofweek', \n",
    "              'pickup_distance_to_ewr', 'dropoff_distance_to_ewr' ]"
   ]
  },
  {
   "cell_type": "code",
   "execution_count": 48,
   "metadata": {},
   "outputs": [],
   "source": [
    "train_df.drop(fields_drop, axis=1, inplace=True)"
   ]
  },
  {
   "cell_type": "code",
   "execution_count": 49,
   "metadata": {},
   "outputs": [],
   "source": [
    "test_df.drop(fields_drop, axis=1, inplace=True)"
   ]
  },
  {
   "cell_type": "code",
   "execution_count": 50,
   "metadata": {},
   "outputs": [
    {
     "name": "stdout",
     "output_type": "stream",
     "text": [
      "<class 'pandas.core.frame.DataFrame'>\n",
      "RangeIndex: 54053965 entries, 0 to 54053964\n",
      "Data columns (total 17 columns):\n",
      "fare_amount                float32\n",
      "pickup_longitude           float32\n",
      "pickup_latitude            float32\n",
      "dropoff_longitude          float32\n",
      "dropoff_latitude           float32\n",
      "longitude_distance         float32\n",
      "latitude_distance          float32\n",
      "simple_distance            float32\n",
      "week                       uint8\n",
      "hour                       uint8\n",
      "pickup_distance_to_nyc     float32\n",
      "dropoff_distance_to_nyc    float32\n",
      "pickup_distance_to_jfk     float32\n",
      "dropoff_distance_to_jfk    float32\n",
      "pickup_distance_to_lgr     float32\n",
      "dropoff_distance_to_lgr    float32\n",
      "fare_increased             bool\n",
      "dtypes: bool(1), float32(14), uint8(2)\n",
      "memory usage: 3.0 GB\n"
     ]
    }
   ],
   "source": [
    "train_df.info()"
   ]
  },
  {
   "cell_type": "code",
   "execution_count": 51,
   "metadata": {},
   "outputs": [
    {
     "name": "stdout",
     "output_type": "stream",
     "text": [
      "<class 'pandas.core.frame.DataFrame'>\n",
      "RangeIndex: 9914 entries, 0 to 9913\n",
      "Data columns (total 16 columns):\n",
      "pickup_longitude           9914 non-null float32\n",
      "pickup_latitude            9914 non-null float32\n",
      "dropoff_longitude          9914 non-null float32\n",
      "dropoff_latitude           9914 non-null float32\n",
      "longitude_distance         9914 non-null float32\n",
      "latitude_distance          9914 non-null float32\n",
      "simple_distance            9914 non-null float32\n",
      "week                       9914 non-null uint8\n",
      "hour                       9914 non-null uint8\n",
      "pickup_distance_to_nyc     9914 non-null float32\n",
      "dropoff_distance_to_nyc    9914 non-null float32\n",
      "pickup_distance_to_jfk     9914 non-null float32\n",
      "dropoff_distance_to_jfk    9914 non-null float32\n",
      "pickup_distance_to_lgr     9914 non-null float32\n",
      "dropoff_distance_to_lgr    9914 non-null float32\n",
      "fare_increased             9914 non-null bool\n",
      "dtypes: bool(1), float32(13), uint8(2)\n",
      "memory usage: 532.6 KB\n"
     ]
    }
   ],
   "source": [
    "test_df.info()"
   ]
  },
  {
   "cell_type": "code",
   "execution_count": 7,
   "metadata": {},
   "outputs": [
    {
     "name": "stdout",
     "output_type": "stream",
     "text": [
      "CPU times: user 4.5 s, sys: 4.14 s, total: 8.64 s\n",
      "Wall time: 4.58 s\n"
     ]
    }
   ],
   "source": [
    "%%time\n",
    "train_df.to_feather('tmp/taxi-train-v6-chkpt6')"
   ]
  },
  {
   "cell_type": "code",
   "execution_count": 8,
   "metadata": {},
   "outputs": [
    {
     "name": "stdout",
     "output_type": "stream",
     "text": [
      "CPU times: user 19.8 ms, sys: 17.5 ms, total: 37.3 ms\n",
      "Wall time: 20.8 ms\n"
     ]
    }
   ],
   "source": [
    "%%time\n",
    "test_df.to_feather('tmp/taxi-test-v6-chkpt6')"
   ]
  }
 ],
 "metadata": {
  "kernelspec": {
   "display_name": "Python 3",
   "language": "python",
   "name": "python3"
  },
  "language_info": {
   "codemirror_mode": {
    "name": "ipython",
    "version": 3
   },
   "file_extension": ".py",
   "mimetype": "text/x-python",
   "name": "python",
   "nbconvert_exporter": "python",
   "pygments_lexer": "ipython3",
   "version": "3.6.6"
  },
  "toc": {
   "base_numbering": 1,
   "nav_menu": {},
   "number_sections": true,
   "sideBar": true,
   "skip_h1_title": false,
   "title_cell": "Table of Contents",
   "title_sidebar": "Contents",
   "toc_cell": false,
   "toc_position": {},
   "toc_section_display": true,
   "toc_window_display": false
  }
 },
 "nbformat": 4,
 "nbformat_minor": 1
}
