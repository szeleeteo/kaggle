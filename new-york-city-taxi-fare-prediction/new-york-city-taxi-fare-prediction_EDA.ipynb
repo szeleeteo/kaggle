{
 "cells": [
  {
   "cell_type": "markdown",
   "metadata": {},
   "source": [
    "# EDA with only datetime"
   ]
  },
  {
   "cell_type": "markdown",
   "metadata": {},
   "source": [
    "We are interested with the dependent variables which is `fare_amount` in this dataset. I want to isolate its relationship with `pickup_datetime` (and `passenger_count` which I might work on in future). Note that this might not always work for other kinds of dataset with other kinds of features. In this case, `date_time` vs pickup/dropoff coordinates is basically time dimension vs space dimension, so I assume we can safely say they are orthogonal features.\n",
    "\n",
    "TLDR:\n",
    "1. I choose to do this EDA without the pickup and dropoff coordinates to reduce memory usage in order to read the entire csv files of 55 million rows.\n",
    "1. By selectively choosing the columns during CSV file reading, we can reduce the memory usage and loading time.\n",
    "1. By saving the raw dataframe to feather format, we can reload the entire dataframe in subsequent session even faster without re-reading the CSV file again.\n",
    "1. Test data distribution is quite **different** from training data in terms of monthly total taxi rides. Not my discovery. Derived from this [kernel](https://www.kaggle.com/akosciansky/using-ml-for-data-exploration-feat-engineering)\n",
    "1. We observed a jump in cab fare in **Sept 2012** which is confirmed by the news of [New York Taxis to Start Charging Increased Rates](https://www.nytimes.com/2012/09/04/nyregion/new-york-taxis-to-start-charging-increased-rates.html)\n",
    "1. We deduced **\\$2.50** as the reasonable minimum cut-off point to remove outliers. \n",
    "1. We deduced a maximum fare of **\\$500** as the reasonable maximum cut-off point to remove outliers. \n",
    "1. We observed the outliers of maximum and minimum fare fall in almost all the same period of time."
   ]
  },
  {
   "cell_type": "markdown",
   "metadata": {},
   "source": [
    "# Import libraries"
   ]
  },
  {
   "cell_type": "code",
   "execution_count": 1,
   "metadata": {},
   "outputs": [],
   "source": [
    "%matplotlib inline\n",
    "%reload_ext autoreload\n",
    "%autoreload 2"
   ]
  },
  {
   "cell_type": "code",
   "execution_count": 2,
   "metadata": {
    "_cell_guid": "b1076dfc-b9ad-4769-8c92-a6c4dae69d19",
    "_uuid": "8f2839f25d086af736a60e9eeb907d3b93b6e0e5"
   },
   "outputs": [],
   "source": [
    "import numpy as np \n",
    "import pandas as pd \n",
    "import matplotlib.pyplot as plt\n",
    "import os"
   ]
  },
  {
   "cell_type": "code",
   "execution_count": 3,
   "metadata": {},
   "outputs": [],
   "source": [
    "PATH = 'data/nyc-taxi/'"
   ]
  },
  {
   "cell_type": "markdown",
   "metadata": {
    "_uuid": "fb969a26e52931bcaced3cbb7a36d8d8b1b04556",
    "heading_collapsed": true
   },
   "source": [
    "# Load data csv format\n",
    "(This section only needs to be executed once. Subsequently,once feather format data is created, jump straight to [loading from feather format](#load_feather) which is much faster!"
   ]
  },
  {
   "cell_type": "code",
   "execution_count": 4,
   "metadata": {
    "hidden": true
   },
   "outputs": [],
   "source": [
    "types = {'fare_amount': 'float32',\n",
    "         'passenger_count': 'uint8'}\n",
    "\n",
    "# Columns to load for training data\n",
    "cols_train = ['fare_amount', 'pickup_datetime', 'passenger_count']\n",
    "\n",
    "# Columns to load for test data\n",
    "cols_test = ['pickup_datetime', 'passenger_count']"
   ]
  },
  {
   "cell_type": "code",
   "execution_count": 5,
   "metadata": {
    "hidden": true
   },
   "outputs": [],
   "source": [
    "df_list = [] # list to hold the batch dataframe\n",
    "chunksize = 10_000_000 # 10 million rows at one go. "
   ]
  },
  {
   "cell_type": "code",
   "execution_count": 6,
   "metadata": {
    "hidden": true
   },
   "outputs": [
    {
     "name": "stdout",
     "output_type": "stream",
     "text": [
      "DataFrame Chunk 1\n",
      "DataFrame Chunk 2\n",
      "DataFrame Chunk 3\n",
      "DataFrame Chunk 4\n",
      "DataFrame Chunk 5\n",
      "DataFrame Chunk 6\n",
      "Wall time: 4min 22s\n"
     ]
    }
   ],
   "source": [
    "%%time\n",
    "i=0\n",
    "for df_chunk in pd.read_csv(f'{PATH}train.csv', parse_dates=[\"pickup_datetime\"], usecols=cols_train,\n",
    "                         infer_datetime_format=True, dtype=types, chunksize=chunksize):\n",
    "    \n",
    "    i = i+1\n",
    "    print(f'DataFrame Chunk {i}')\n",
    "    df_list.append(df_chunk) "
   ]
  },
  {
   "cell_type": "code",
   "execution_count": 7,
   "metadata": {
    "hidden": true
   },
   "outputs": [],
   "source": [
    "# Merge all dataframes into one dataframe\n",
    "train_df = pd.concat(df_list)"
   ]
  },
  {
   "cell_type": "code",
   "execution_count": 8,
   "metadata": {
    "hidden": true
   },
   "outputs": [],
   "source": [
    "del df_list"
   ]
  },
  {
   "cell_type": "code",
   "execution_count": 9,
   "metadata": {
    "hidden": true
   },
   "outputs": [
    {
     "name": "stdout",
     "output_type": "stream",
     "text": [
      "<class 'pandas.core.frame.DataFrame'>\n",
      "RangeIndex: 55423856 entries, 0 to 55423855\n",
      "Data columns (total 3 columns):\n",
      "fare_amount        float32\n",
      "pickup_datetime    datetime64[ns]\n",
      "passenger_count    uint8\n",
      "dtypes: datetime64[ns](1), float32(1), uint8(1)\n",
      "memory usage: 687.1 MB\n"
     ]
    }
   ],
   "source": [
    "train_df.info()"
   ]
  },
  {
   "cell_type": "markdown",
   "metadata": {
    "hidden": true
   },
   "source": [
    "This has only used less than **700Mb** of memory for the entire **55 million rows** of data.\n",
    "\n",
    "(Bear in mind that we have purposely disregard pickup and dropoff coordinates for this analysis, otherwise it would consume about **1.5Gb** of memory instead)\n",
    "\n",
    "As comparison, an eat-all-you-can loading such as:\n",
    "\n",
    "`train_df =  pd.read_csv('data/nyc-taxi/train.csv', nrows = 10_000_000)`\n",
    "\n",
    "will result in about **610Mb** just for the first **10 million rows**.\n",
    "\n",
    "(or more than **3Gb** of memory for entire **55 million rows**!)"
   ]
  },
  {
   "cell_type": "code",
   "execution_count": 10,
   "metadata": {
    "hidden": true
   },
   "outputs": [
    {
     "name": "stdout",
     "output_type": "stream",
     "text": [
      "Wall time: 9.78 s\n"
     ]
    }
   ],
   "source": [
    "%%time\n",
    "os.makedirs('tmp', exist_ok=True)\n",
    "train_df.to_feather('tmp/taxi-train-no-gps')"
   ]
  },
  {
   "cell_type": "code",
   "execution_count": 11,
   "metadata": {
    "_uuid": "3cbf4836cf8c71dfb67d13a9621b18a8d487197e",
    "hidden": true
   },
   "outputs": [],
   "source": [
    "test_df = pd.read_csv(f'{PATH}test.csv', parse_dates=[\"pickup_datetime\"], usecols=cols_test,\n",
    "                         infer_datetime_format=True, dtype=types)"
   ]
  },
  {
   "cell_type": "code",
   "execution_count": 12,
   "metadata": {
    "_uuid": "3cbf4836cf8c71dfb67d13a9621b18a8d487197e",
    "hidden": true
   },
   "outputs": [],
   "source": [
    "test_df.to_feather('tmp/taxi-test-no-gps')"
   ]
  },
  {
   "cell_type": "raw",
   "metadata": {
    "hidden": true
   },
   "source": [
    "<a href=\"load_feather\"></a>"
   ]
  },
  {
   "cell_type": "markdown",
   "metadata": {
    "heading_collapsed": true
   },
   "source": [
    "# Load data feather format\n",
    "(begin from here directly once we have the feather format file)"
   ]
  },
  {
   "cell_type": "code",
   "execution_count": 4,
   "metadata": {
    "hidden": true
   },
   "outputs": [
    {
     "name": "stdout",
     "output_type": "stream",
     "text": [
      "Wall time: 19 s\n"
     ]
    }
   ],
   "source": [
    "%%time\n",
    "train_df = pd.read_feather('tmp/taxi-train-no-gps')"
   ]
  },
  {
   "cell_type": "markdown",
   "metadata": {
    "hidden": true
   },
   "source": [
    "Notice it took few seconds to load the full 55 million rows of data which we took **4 minutes+** to load earlier :)"
   ]
  },
  {
   "cell_type": "code",
   "execution_count": 5,
   "metadata": {
    "hidden": true
   },
   "outputs": [],
   "source": [
    "test_df = pd.read_feather('tmp/taxi-test-no-gps')"
   ]
  },
  {
   "cell_type": "code",
   "execution_count": 7,
   "metadata": {
    "hidden": true
   },
   "outputs": [
    {
     "data": {
      "text/html": [
       "<div>\n",
       "<style scoped>\n",
       "    .dataframe tbody tr th:only-of-type {\n",
       "        vertical-align: middle;\n",
       "    }\n",
       "\n",
       "    .dataframe tbody tr th {\n",
       "        vertical-align: top;\n",
       "    }\n",
       "\n",
       "    .dataframe thead th {\n",
       "        text-align: right;\n",
       "    }\n",
       "</style>\n",
       "<table border=\"1\" class=\"dataframe\">\n",
       "  <thead>\n",
       "    <tr style=\"text-align: right;\">\n",
       "      <th></th>\n",
       "      <th>fare_amount</th>\n",
       "      <th>pickup_datetime</th>\n",
       "      <th>passenger_count</th>\n",
       "    </tr>\n",
       "  </thead>\n",
       "  <tbody>\n",
       "    <tr>\n",
       "      <th>0</th>\n",
       "      <td>4.5</td>\n",
       "      <td>2009-06-15 17:26:21</td>\n",
       "      <td>1</td>\n",
       "    </tr>\n",
       "    <tr>\n",
       "      <th>1</th>\n",
       "      <td>16.9</td>\n",
       "      <td>2010-01-05 16:52:16</td>\n",
       "      <td>1</td>\n",
       "    </tr>\n",
       "    <tr>\n",
       "      <th>2</th>\n",
       "      <td>5.7</td>\n",
       "      <td>2011-08-18 00:35:00</td>\n",
       "      <td>2</td>\n",
       "    </tr>\n",
       "    <tr>\n",
       "      <th>3</th>\n",
       "      <td>7.7</td>\n",
       "      <td>2012-04-21 04:30:42</td>\n",
       "      <td>1</td>\n",
       "    </tr>\n",
       "    <tr>\n",
       "      <th>4</th>\n",
       "      <td>5.3</td>\n",
       "      <td>2010-03-09 07:51:00</td>\n",
       "      <td>1</td>\n",
       "    </tr>\n",
       "  </tbody>\n",
       "</table>\n",
       "</div>"
      ],
      "text/plain": [
       "   fare_amount     pickup_datetime  passenger_count\n",
       "0          4.5 2009-06-15 17:26:21                1\n",
       "1         16.9 2010-01-05 16:52:16                1\n",
       "2          5.7 2011-08-18 00:35:00                2\n",
       "3          7.7 2012-04-21 04:30:42                1\n",
       "4          5.3 2010-03-09 07:51:00                1"
      ]
     },
     "metadata": {},
     "output_type": "display_data"
    },
    {
     "data": {
      "text/html": [
       "<div>\n",
       "<style scoped>\n",
       "    .dataframe tbody tr th:only-of-type {\n",
       "        vertical-align: middle;\n",
       "    }\n",
       "\n",
       "    .dataframe tbody tr th {\n",
       "        vertical-align: top;\n",
       "    }\n",
       "\n",
       "    .dataframe thead th {\n",
       "        text-align: right;\n",
       "    }\n",
       "</style>\n",
       "<table border=\"1\" class=\"dataframe\">\n",
       "  <thead>\n",
       "    <tr style=\"text-align: right;\">\n",
       "      <th></th>\n",
       "      <th>fare_amount</th>\n",
       "      <th>pickup_datetime</th>\n",
       "      <th>passenger_count</th>\n",
       "    </tr>\n",
       "  </thead>\n",
       "  <tbody>\n",
       "    <tr>\n",
       "      <th>55423851</th>\n",
       "      <td>14.0</td>\n",
       "      <td>2014-03-15 03:28:00</td>\n",
       "      <td>1</td>\n",
       "    </tr>\n",
       "    <tr>\n",
       "      <th>55423852</th>\n",
       "      <td>4.2</td>\n",
       "      <td>2009-03-24 20:46:20</td>\n",
       "      <td>1</td>\n",
       "    </tr>\n",
       "    <tr>\n",
       "      <th>55423853</th>\n",
       "      <td>14.1</td>\n",
       "      <td>2011-04-02 22:04:24</td>\n",
       "      <td>1</td>\n",
       "    </tr>\n",
       "    <tr>\n",
       "      <th>55423854</th>\n",
       "      <td>28.9</td>\n",
       "      <td>2011-10-26 05:57:51</td>\n",
       "      <td>1</td>\n",
       "    </tr>\n",
       "    <tr>\n",
       "      <th>55423855</th>\n",
       "      <td>7.5</td>\n",
       "      <td>2014-12-12 11:33:00</td>\n",
       "      <td>1</td>\n",
       "    </tr>\n",
       "  </tbody>\n",
       "</table>\n",
       "</div>"
      ],
      "text/plain": [
       "          fare_amount     pickup_datetime  passenger_count\n",
       "55423851         14.0 2014-03-15 03:28:00                1\n",
       "55423852          4.2 2009-03-24 20:46:20                1\n",
       "55423853         14.1 2011-04-02 22:04:24                1\n",
       "55423854         28.9 2011-10-26 05:57:51                1\n",
       "55423855          7.5 2014-12-12 11:33:00                1"
      ]
     },
     "metadata": {},
     "output_type": "display_data"
    }
   ],
   "source": [
    "display(train_df.head())\n",
    "display(train_df.tail())"
   ]
  },
  {
   "cell_type": "code",
   "execution_count": 8,
   "metadata": {
    "hidden": true
   },
   "outputs": [
    {
     "data": {
      "text/html": [
       "<div>\n",
       "<style scoped>\n",
       "    .dataframe tbody tr th:only-of-type {\n",
       "        vertical-align: middle;\n",
       "    }\n",
       "\n",
       "    .dataframe tbody tr th {\n",
       "        vertical-align: top;\n",
       "    }\n",
       "\n",
       "    .dataframe thead th {\n",
       "        text-align: right;\n",
       "    }\n",
       "</style>\n",
       "<table border=\"1\" class=\"dataframe\">\n",
       "  <thead>\n",
       "    <tr style=\"text-align: right;\">\n",
       "      <th></th>\n",
       "      <th>pickup_datetime</th>\n",
       "      <th>passenger_count</th>\n",
       "    </tr>\n",
       "  </thead>\n",
       "  <tbody>\n",
       "    <tr>\n",
       "      <th>0</th>\n",
       "      <td>2015-01-27 13:08:24</td>\n",
       "      <td>1</td>\n",
       "    </tr>\n",
       "    <tr>\n",
       "      <th>1</th>\n",
       "      <td>2015-01-27 13:08:24</td>\n",
       "      <td>1</td>\n",
       "    </tr>\n",
       "    <tr>\n",
       "      <th>2</th>\n",
       "      <td>2011-10-08 11:53:44</td>\n",
       "      <td>1</td>\n",
       "    </tr>\n",
       "    <tr>\n",
       "      <th>3</th>\n",
       "      <td>2012-12-01 21:12:12</td>\n",
       "      <td>1</td>\n",
       "    </tr>\n",
       "    <tr>\n",
       "      <th>4</th>\n",
       "      <td>2012-12-01 21:12:12</td>\n",
       "      <td>1</td>\n",
       "    </tr>\n",
       "  </tbody>\n",
       "</table>\n",
       "</div>"
      ],
      "text/plain": [
       "      pickup_datetime  passenger_count\n",
       "0 2015-01-27 13:08:24                1\n",
       "1 2015-01-27 13:08:24                1\n",
       "2 2011-10-08 11:53:44                1\n",
       "3 2012-12-01 21:12:12                1\n",
       "4 2012-12-01 21:12:12                1"
      ]
     },
     "metadata": {},
     "output_type": "display_data"
    },
    {
     "data": {
      "text/html": [
       "<div>\n",
       "<style scoped>\n",
       "    .dataframe tbody tr th:only-of-type {\n",
       "        vertical-align: middle;\n",
       "    }\n",
       "\n",
       "    .dataframe tbody tr th {\n",
       "        vertical-align: top;\n",
       "    }\n",
       "\n",
       "    .dataframe thead th {\n",
       "        text-align: right;\n",
       "    }\n",
       "</style>\n",
       "<table border=\"1\" class=\"dataframe\">\n",
       "  <thead>\n",
       "    <tr style=\"text-align: right;\">\n",
       "      <th></th>\n",
       "      <th>pickup_datetime</th>\n",
       "      <th>passenger_count</th>\n",
       "    </tr>\n",
       "  </thead>\n",
       "  <tbody>\n",
       "    <tr>\n",
       "      <th>9909</th>\n",
       "      <td>2015-05-10 12:37:51</td>\n",
       "      <td>6</td>\n",
       "    </tr>\n",
       "    <tr>\n",
       "      <th>9910</th>\n",
       "      <td>2015-01-12 17:05:51</td>\n",
       "      <td>6</td>\n",
       "    </tr>\n",
       "    <tr>\n",
       "      <th>9911</th>\n",
       "      <td>2015-04-19 20:44:15</td>\n",
       "      <td>6</td>\n",
       "    </tr>\n",
       "    <tr>\n",
       "      <th>9912</th>\n",
       "      <td>2015-01-31 01:05:19</td>\n",
       "      <td>6</td>\n",
       "    </tr>\n",
       "    <tr>\n",
       "      <th>9913</th>\n",
       "      <td>2015-01-18 14:06:23</td>\n",
       "      <td>6</td>\n",
       "    </tr>\n",
       "  </tbody>\n",
       "</table>\n",
       "</div>"
      ],
      "text/plain": [
       "         pickup_datetime  passenger_count\n",
       "9909 2015-05-10 12:37:51                6\n",
       "9910 2015-01-12 17:05:51                6\n",
       "9911 2015-04-19 20:44:15                6\n",
       "9912 2015-01-31 01:05:19                6\n",
       "9913 2015-01-18 14:06:23                6"
      ]
     },
     "metadata": {},
     "output_type": "display_data"
    }
   ],
   "source": [
    "display(test_df.head())\n",
    "display(test_df.tail())"
   ]
  },
  {
   "cell_type": "markdown",
   "metadata": {},
   "source": [
    "# Group and aggregate by year-month"
   ]
  },
  {
   "cell_type": "code",
   "execution_count": 12,
   "metadata": {},
   "outputs": [],
   "source": [
    "def draw_barchart(df, title):\n",
    "    fig = plt.figure(figsize=(20, 4))\n",
    "    ax = fig.add_subplot(111)\n",
    "    df.plot(kind='bar')\n",
    "    ax.set_xlabel(\"(Year,Month)\")\n",
    "    plt.title(title)\n",
    "    plt.show()"
   ]
  },
  {
   "cell_type": "code",
   "execution_count": 6,
   "metadata": {},
   "outputs": [],
   "source": [
    "# Group all training data rides by month+year combination and aggregate them by count, mean, median, min and max\n",
    "fare_grouped_df = train_df.fare_amount.groupby([train_df.pickup_datetime.dt.year,train_df.pickup_datetime.dt.month])\n",
    "\n",
    "fare_count_df = fare_grouped_df.count()\n",
    "fare_mean_df = fare_grouped_df.mean()\n",
    "fare_median_df = fare_grouped_df.median()\n",
    "fare_min_df = fare_grouped_df.min()\n",
    "fare_max_df = fare_grouped_df.max()"
   ]
  },
  {
   "cell_type": "markdown",
   "metadata": {},
   "source": [
    "## Monthly ride count"
   ]
  },
  {
   "cell_type": "markdown",
   "metadata": {},
   "source": [
    "This entire section is basically derived from this [kernel](https://www.kaggle.com/akosciansky/using-ml-for-data-exploration-feat-engineering) by @akosciansky"
   ]
  },
  {
   "cell_type": "code",
   "execution_count": 7,
   "metadata": {},
   "outputs": [
    {
     "data": {
      "text/plain": [
       "count        78.000000\n",
       "mean     710562.256410\n",
       "std       48398.599676\n",
       "min      557375.000000\n",
       "25%      683213.250000\n",
       "50%      714990.500000\n",
       "75%      743938.000000\n",
       "max      804979.000000\n",
       "Name: fare_amount, dtype: float64"
      ]
     },
     "execution_count": 7,
     "metadata": {},
     "output_type": "execute_result"
    }
   ],
   "source": [
    " fare_count_df.describe()"
   ]
  },
  {
   "cell_type": "markdown",
   "metadata": {},
   "source": [
    "During the 78 months period, there was an average of 710k rides per month. \n",
    "\n",
    "The median value 715k rides.\n",
    "\n",
    "Standard deviation of 48k million rides.\n",
    "\n",
    "The minimum recorded monthly ride is about 557k while the maximum is 805k."
   ]
  },
  {
   "cell_type": "code",
   "execution_count": 14,
   "metadata": {},
   "outputs": [
    {
     "data": {
      "image/png": "[encoded data removed]",
      "text/plain": [
       "<Figure size 1440x288 with 1 Axes>"
      ]
     },
     "metadata": {},
     "output_type": "display_data"
    }
   ],
   "source": [
    "draw_barchart(fare_count_df, 'Monthly total rides of training data from January 2009 to June 2015')"
   ]
  },
  {
   "cell_type": "markdown",
   "metadata": {},
   "source": [
    "No obvious patterns can be seen from the bar chart. We will revisit this in future."
   ]
  },
  {
   "cell_type": "markdown",
   "metadata": {},
   "source": [
    "We can also do the same for test data, since we are only concern with the count of rides here, not the fare"
   ]
  },
  {
   "cell_type": "code",
   "execution_count": 16,
   "metadata": {},
   "outputs": [],
   "source": [
    "test_group_df = test_df.pickup_datetime.groupby([test_df.pickup_datetime.dt.year,test_df.pickup_datetime.dt.month]).count()"
   ]
  },
  {
   "cell_type": "code",
   "execution_count": 17,
   "metadata": {},
   "outputs": [
    {
     "data": {
      "image/png": "[encoded data removed]",
      "text/plain": [
       "<Figure size 1440x288 with 1 Axes>"
      ]
     },
     "metadata": {},
     "output_type": "display_data"
    }
   ],
   "source": [
    "draw_barchart(test_group_df, 'Monthly total rides of test data from January 2009 to June 2015')"
   ]
  },
  {
   "cell_type": "markdown",
   "metadata": {},
   "source": [
    "While training data has a relative uniform monthly total rides, \n",
    "the test data monthly total rides are not spread evenly, with some random huge spikes "
   ]
  },
  {
   "cell_type": "markdown",
   "metadata": {},
   "source": [
    "## Monthly mean fare"
   ]
  },
  {
   "cell_type": "code",
   "execution_count": 14,
   "metadata": {},
   "outputs": [
    {
     "data": {
      "text/plain": [
       "count    78.000000\n",
       "mean     11.367785\n",
       "std       1.312047\n",
       "min       9.568311\n",
       "25%      10.212288\n",
       "50%      10.659033\n",
       "75%      12.736461\n",
       "max      13.684370\n",
       "Name: fare_amount, dtype: float64"
      ]
     },
     "execution_count": 14,
     "metadata": {},
     "output_type": "execute_result"
    }
   ],
   "source": [
    "fare_mean_df.describe()"
   ]
  },
  {
   "cell_type": "markdown",
   "metadata": {},
   "source": [
    "During the 78 months period, the average fare paid is \\$11.37.\n",
    "\n",
    "The median fare \\$10.66.\n",
    "\n",
    "Standard deviation of fare is \\$1.31.\n",
    "\n",
    "The minimum monthly mean fare is \\$9.57 while maximum monthly mean fare is \\$13.68."
   ]
  },
  {
   "cell_type": "code",
   "execution_count": 18,
   "metadata": {},
   "outputs": [
    {
     "data": {
      "image/png": "[encoded data removed]",
      "text/plain": [
       "<Figure size 1440x288 with 1 Axes>"
      ]
     },
     "metadata": {},
     "output_type": "display_data"
    }
   ],
   "source": [
    "draw_barchart(fare_mean_df,'Monthly mean of fare from January 2009 to June 2015')"
   ]
  },
  {
   "cell_type": "markdown",
   "metadata": {},
   "source": [
    "From January 2009 until September 2012, the monthly mean fare is quite uniform. \n",
    "\n",
    "There is a gradual increase from January until December before it dropped again on January of following year.\n",
    "\n",
    "However, there is a big jump from October 2012 onwards. The monthly mean fare increased by about \\$3 during this period. Probably a price increase at this point onwards.\n",
    "\n",
    "The pattern where the monthly mean fare drops from December to January remains true during this period."
   ]
  },
  {
   "cell_type": "markdown",
   "metadata": {},
   "source": [
    "## Monthly median fare"
   ]
  },
  {
   "cell_type": "code",
   "execution_count": 16,
   "metadata": {},
   "outputs": [
    {
     "data": {
      "text/plain": [
       "count    78.000000\n",
       "mean      8.487180\n",
       "std       0.847205\n",
       "min       7.300000\n",
       "25%       7.700000\n",
       "50%       8.100000\n",
       "75%       9.500000\n",
       "max      10.000000\n",
       "Name: fare_amount, dtype: float64"
      ]
     },
     "execution_count": 16,
     "metadata": {},
     "output_type": "execute_result"
    }
   ],
   "source": [
    "fare_median_df.describe()"
   ]
  },
  {
   "cell_type": "markdown",
   "metadata": {},
   "source": [
    "During the 78 months period, there average fare paid is \\$8.49.\n",
    "\n",
    "The median \\$8.10.\n",
    "\n",
    "Standard deviation of fare is \\$0.85.\n",
    "\n",
    "The minimum monthly median fare is \\$7.30 while maximum monthly median fare is \\$10.00."
   ]
  },
  {
   "cell_type": "code",
   "execution_count": 19,
   "metadata": {},
   "outputs": [
    {
     "data": {
      "image/png": "[encoded data removed]",
      "text/plain": [
       "<Figure size 1440x288 with 1 Axes>"
      ]
     },
     "metadata": {},
     "output_type": "display_data"
    }
   ],
   "source": [
    "draw_barchart(fare_median_df,'Monthly median of fares from January 2009 to June 2015')"
   ]
  },
  {
   "cell_type": "markdown",
   "metadata": {},
   "source": [
    "Here we can see the median is relatively uniform from January 2009 to September 2012\n",
    "\n",
    "Not surprisingly, as we've seen in the monthly mean fare bar chart, there is a big jump from October 2012 onwards. \n",
    "\n",
    "The monthly median fare increased permanently by about almost \\$2.00 during this period of September 2012 to June 2015.\n",
    "\n",
    "A quick Google search shows this is true\n",
    "\n",
    "https://www.nytimes.com/2012/09/04/nyregion/new-york-taxis-to-start-charging-increased-rates.html"
   ]
  },
  {
   "cell_type": "markdown",
   "metadata": {},
   "source": [
    "## Monthly minimum fare"
   ]
  },
  {
   "cell_type": "code",
   "execution_count": 18,
   "metadata": {},
   "outputs": [
    {
     "data": {
      "text/plain": [
       "count     78.000000\n",
       "mean     -15.734744\n",
       "std       58.026012\n",
       "min     -300.000000\n",
       "25%        2.500000\n",
       "50%        2.500000\n",
       "75%        2.500000\n",
       "max        2.500000\n",
       "Name: fare_amount, dtype: float64"
      ]
     },
     "execution_count": 18,
     "metadata": {},
     "output_type": "execute_result"
    }
   ],
   "source": [
    "fare_min_df.describe()"
   ]
  },
  {
   "cell_type": "markdown",
   "metadata": {},
   "source": [
    "The 25% percentile, 50% percentile (median) and 75% percentile all shows \\$2.5. Which is probably the real minimum fare.\n",
    "\n",
    "Most people just assume assume minimum fare of \\$0 and drop the negative fares. We need to dig deeper."
   ]
  },
  {
   "cell_type": "code",
   "execution_count": 34,
   "metadata": {},
   "outputs": [
    {
     "name": "stdout",
     "output_type": "stream",
     "text": [
      "Number of rides below $0: \t\t2454\n",
      "Number of rides at $0: \t\t\t1380\n",
      "Number of rides between $0.01 & $2.49:  913\n",
      "\n",
      "Number of rides below $2.50(all above): 4747\n",
      "\n",
      "Number of rides at $2.50: \t\t224309\n",
      "Number of rides of more than $2.50: \t55194800\n"
     ]
    }
   ],
   "source": [
    "print(f\"Number of rides below $0: \\t\\t{len(train_df.fare_amount[train_df.fare_amount<0])}\")\n",
    "print(f\"Number of rides at $0: \\t\\t\\t{len(train_df.fare_amount[train_df.fare_amount==0])}\")\n",
    "print(f\"Number of rides between $0.01 & $2.49:  {len(train_df.fare_amount[train_df.fare_amount.between(0,2.50,inclusive=False)])}\")\n",
    "print()\n",
    "print(f\"Number of rides below $2.50(all above): {len(train_df.fare_amount[train_df.fare_amount<2.5])}\")\n",
    "print()\n",
    "print(f\"Number of rides at $2.50: \\t\\t{len(train_df.fare_amount[train_df.fare_amount==2.5])}\")\n",
    "print(f\"Number of rides of more than $2.50: \\t{len(train_df.fare_amount[train_df.fare_amount>2.5])}\")"
   ]
  },
  {
   "cell_type": "markdown",
   "metadata": {},
   "source": [
    "There are 2,454 cases of negative fare, 1,380 cases of zero fares and 913 cases more than $0 but below \\$2.50. This three categories add up to 4,747 cases.\n",
    "\n",
    "There are 224,309 cases at \\$2.50 in comparison.\n",
    "\n",
    "From above we can see above that \\$2.50 would be a more reasonable minimum fare, as can be confirmed below:\n",
    "\n",
    "http://www.nyc.gov/html/tlc/html/passenger/taxicab_rate.shtml\n",
    "\n",
    "Hence we should remove those below **\\$2.50** as outliers, instead of just dropping rows with negative fares."
   ]
  },
  {
   "cell_type": "code",
   "execution_count": 20,
   "metadata": {},
   "outputs": [
    {
     "data": {
      "image/png": "[encoded data removed]",
      "text/plain": [
       "<Figure size 1440x288 with 1 Axes>"
      ]
     },
     "metadata": {},
     "output_type": "display_data"
    }
   ],
   "source": [
    "draw_barchart(fare_min_df, 'Monthly minimum of fares from January 2009 to June 2015')"
   ]
  },
  {
   "cell_type": "markdown",
   "metadata": {},
   "source": [
    "Many minimum fare outliers fall in few periods, such as February 2010, March 2010, August 2013, and January to June of 2015. \n",
    "\n",
    "Removing all rows with fare below \\$.250 will remove those outliers."
   ]
  },
  {
   "cell_type": "markdown",
   "metadata": {},
   "source": [
    "## Monthly maximum fare"
   ]
  },
  {
   "cell_type": "code",
   "execution_count": 21,
   "metadata": {},
   "outputs": [
    {
     "data": {
      "text/plain": [
       "count       78.000000\n",
       "mean      3525.962402\n",
       "std      15073.134766\n",
       "min        199.300003\n",
       "25%        371.250000\n",
       "50%        450.000000\n",
       "75%        499.742493\n",
       "max      93963.359375\n",
       "Name: fare_amount, dtype: float64"
      ]
     },
     "execution_count": 21,
     "metadata": {},
     "output_type": "execute_result"
    }
   ],
   "source": [
    "fare_max_df.describe()"
   ]
  },
  {
   "cell_type": "markdown",
   "metadata": {},
   "source": [
    "There are obviously some extreme values we need to get rid of before the statistics would make any sense.\n",
    "\n",
    "The mean value of \\$3526 for taxi ride is absurd.\n",
    "\n",
    "Unlike minimum fare, we have no way of working out the optimal value for maximum fare.\n",
    "\n",
    "Obviously, this is where the dependency with pickup and dropoff coordinates matters more - from where, to where, and how far you travel determines how much is the fare, instead of date and time when you travel.\n",
    "\n",
    "We rely more on visualization help from barchart this time."
   ]
  },
  {
   "cell_type": "code",
   "execution_count": 21,
   "metadata": {},
   "outputs": [
    {
     "data": {
      "image/png": "[encoded data removed]",
      "text/plain": [
       "<Figure size 1440x288 with 1 Axes>"
      ]
     },
     "metadata": {},
     "output_type": "display_data"
    }
   ],
   "source": [
    "draw_barchart(fare_max_df, 'Monthly maximum fares from January 2009 to June 2015')"
   ]
  },
  {
   "cell_type": "markdown",
   "metadata": {},
   "source": [
    "The chart above points us to the first few outliers maximum fare that we should remove immediately.\n",
    "\n",
    "Quite similar to the monthly minimum fare chart, there are outliers in the same periods, namely February 2010, \n",
    "March 2010, August 2013, and January to June of 2015 (more apparent in February and May).\n",
    "\n",
    "We can sort the maximum monthly fare for easier observation."
   ]
  },
  {
   "cell_type": "code",
   "execution_count": 24,
   "metadata": {},
   "outputs": [],
   "source": [
    "sorted_max_fare = fare_max_df.sort_values(ascending=False)"
   ]
  },
  {
   "cell_type": "code",
   "execution_count": 25,
   "metadata": {},
   "outputs": [
    {
     "data": {
      "image/png": "[encoded data removed]",
      "text/plain": [
       "<Figure size 1440x288 with 1 Axes>"
      ]
     },
     "metadata": {},
     "output_type": "display_data"
    }
   ],
   "source": [
    "draw_barchart(sorted_max_fare.head(30), 'Sorted monthly maximum fares')"
   ]
  },
  {
   "cell_type": "code",
   "execution_count": 25,
   "metadata": {},
   "outputs": [
    {
     "data": {
      "text/plain": [
       "pickup_datetime  pickup_datetime\n",
       "2015             2                  93963.359375\n",
       "                 5                  75747.023438\n",
       "2013             8                  61550.859375\n",
       "2010             2                   9000.410156\n",
       "2015             3                   3130.300049\n",
       "2010             3                   2023.699951\n",
       "2015             1                    978.000000\n",
       "                 4                    957.000000\n",
       "                 6                    900.000000\n",
       "2012             2                    500.000000\n",
       "2013             3                    500.000000\n",
       "                 4                    500.000000\n",
       "                 9                    500.000000\n",
       "2014             1                    500.000000\n",
       "                 3                    500.000000\n",
       "2011             11                   500.000000\n",
       "                 5                    500.000000\n",
       "                 9                    500.000000\n",
       "2012             12                   500.000000\n",
       "                 11                   499.989990\n",
       "2014             7                    499.000000\n",
       "2011             4                    499.000000\n",
       "                 3                    499.000000\n",
       "2014             11                   498.649994\n",
       "2010             11                   495.000000\n",
       "2012             1                    480.000000\n",
       "                 8                    479.350006\n",
       "2011             1                    476.100006\n",
       "2012             7                    475.000000\n",
       "2011             2                    475.000000\n",
       "Name: fare_amount, dtype: float32"
      ]
     },
     "execution_count": 25,
     "metadata": {},
     "output_type": "execute_result"
    }
   ],
   "source": [
    "sorted_max_fare.head(30)"
   ]
  },
  {
   "cell_type": "markdown",
   "metadata": {},
   "source": [
    "From the sorted values above, we can safely remove those above **\\$500.00** as outliers at this point.\n",
    "\n",
    "This is better than just picking a cab fare maximum value by gut feeling.\n",
    "\n",
    "Never mind that the maximum values of \\$500.00 for taxi fare is still quite exaggerating. We will need to revisit this with  pickup and dropoff coordinates in future."
   ]
  },
  {
   "cell_type": "markdown",
   "metadata": {},
   "source": [
    "# Summary Findings"
   ]
  },
  {
   "cell_type": "markdown",
   "metadata": {},
   "source": [
    "1. By selectively choosing the columns/features during CSV file loading, we can reduce the memory usage of reading the **entire csv files of 55 million rows from 3Gb to 700Mb**.\n",
    "1. By saving the raw dataframe to feather format, we can reload the entire dataframe in subsequent session much faster without re-reading the CSV file again, from **minutes to seconds**.\n",
    "1. Test data distribution is quite **different** from training data in terms of monthly total taxi rides. This is not my discovery, I derived from this [kernel](https://www.kaggle.com/akosciansky/using-ml-for-data-exploration-feat-engineering).\n",
    "    - Implication: This could affect how we create our validation data in order to maximize our test data score.\n",
    "1. From monthly mean and media fare, we observed a jump in cab fare is September 2012 which is confirmed by the news of [New York Taxis to Start Charging Increased Rates](https://www.nytimes.com/2012/09/04/nyregion/new-york-taxis-to-start-charging-increased-rates.html)\n",
    "    - Implication:  For certain models (especially linear models?), maybe it's better to create two models and separate the data for 2 separate timings, before and after September 2012.\n",
    "1. From monthly minimum fare, we obvserved high occurence of **\\$2.50**, which is the real minimum fare for NYC taxi ride. \n",
    "    - Implication: It's better than just simply removing rows with negative fare.\n",
    "1. From monthly maximum fare, we deduced a maximum fare of **\\$500** as the reasonable cut-off point to remove outliers. \n",
    "    - Implication: It's better than guesstimate a maximum taxi fare for cutoff\n",
    "1. We also observe the outliers of maximum and minimum fare almost fall in the same period of time.\n",
    "    - Implication: We want to pay attention to these periods and see if there are other anomalies?"
   ]
  },
  {
   "cell_type": "markdown",
   "metadata": {},
   "source": [
    "# TODO"
   ]
  },
  {
   "cell_type": "markdown",
   "metadata": {},
   "source": [
    "1. Remove outliers based on the findings above. See how much outliers we removed.\n",
    "1. Revisit all the monthly group and aggregates after the previous step, see if we have cleaner data.\n",
    "1. Consider passenger_count in the next EDA\n",
    "1. Consider adding a holiday or calendar events column to see if holiday or other events affect the taxi ride count.\n",
    "1. Use the cleaned data and proceed to do EDA based on pickup and dropoff coordinates next."
   ]
  },
  {
   "cell_type": "code",
   "execution_count": null,
   "metadata": {},
   "outputs": [],
   "source": []
  }
 ],
 "metadata": {
  "kernelspec": {
   "display_name": "Python (fastai)",
   "language": "python",
   "name": "fastai"
  },
  "language_info": {
   "codemirror_mode": {
    "name": "ipython",
    "version": 3
   },
   "file_extension": ".py",
   "mimetype": "text/x-python",
   "name": "python",
   "nbconvert_exporter": "python",
   "pygments_lexer": "ipython3",
   "version": "3.6.6"
  },
  "toc": {
   "base_numbering": 1,
   "nav_menu": {},
   "number_sections": true,
   "sideBar": true,
   "skip_h1_title": false,
   "title_cell": "Table of Contents",
   "title_sidebar": "Contents",
   "toc_cell": false,
   "toc_position": {},
   "toc_section_display": true,
   "toc_window_display": false
  }
 },
 "nbformat": 4,
 "nbformat_minor": 2
}
