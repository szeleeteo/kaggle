{
 "cells": [
  {
   "cell_type": "markdown",
   "metadata": {},
   "source": [
    "https://www.kaggle.com/c/new-york-city-taxi-fare-prediction/"
   ]
  },
  {
   "cell_type": "markdown",
   "metadata": {},
   "source": [
    "# Imports"
   ]
  },
  {
   "cell_type": "code",
   "execution_count": 3,
   "metadata": {},
   "outputs": [],
   "source": [
    "%matplotlib inline\n",
    "%reload_ext autoreload\n",
    "%autoreload 2"
   ]
  },
  {
   "cell_type": "code",
   "execution_count": 4,
   "metadata": {
    "_cell_guid": "b1076dfc-b9ad-4769-8c92-a6c4dae69d19",
    "_uuid": "8f2839f25d086af736a60e9eeb907d3b93b6e0e5"
   },
   "outputs": [],
   "source": [
    "import numpy as np \n",
    "import pandas as pd \n",
    "import matplotlib.pyplot as plt\n",
    "import os"
   ]
  },
  {
   "cell_type": "code",
   "execution_count": 5,
   "metadata": {},
   "outputs": [],
   "source": [
    "from fastai.imports import *\n",
    "from fastai.structured import *\n",
    "\n",
    "from pandas_summary import DataFrameSummary\n",
    "from IPython.display import display"
   ]
  },
  {
   "cell_type": "code",
   "execution_count": 6,
   "metadata": {},
   "outputs": [],
   "source": [
    "PATH = 'data/nyc-taxi/'"
   ]
  },
  {
   "cell_type": "markdown",
   "metadata": {
    "_uuid": "fb969a26e52931bcaced3cbb7a36d8d8b1b04556",
    "heading_collapsed": true
   },
   "source": [
    "# Load training and test data"
   ]
  },
  {
   "cell_type": "markdown",
   "metadata": {
    "hidden": true
   },
   "source": [
    "The entire dataset has about 55,423,857 rows"
   ]
  },
  {
   "cell_type": "code",
   "execution_count": 5,
   "metadata": {
    "hidden": true
   },
   "outputs": [],
   "source": [
    "types = {'fare_amount': 'float32',\n",
    "         'pickup_longitude': 'float32',\n",
    "         'pickup_latitude': 'float32',\n",
    "         'dropoff_longitude': 'float32',\n",
    "         'dropoff_latitude': 'float32',\n",
    "         'passenger_count': 'uint8'}\n",
    "\n",
    "# Columns to keep (basically discarding the 'key' column) - thanks to the suggestion by mhviraf\n",
    "cols_train = ['fare_amount', 'pickup_datetime', 'pickup_longitude', \n",
    "        'pickup_latitude', 'dropoff_longitude', 'dropoff_latitude', 'passenger_count']\n",
    "\n",
    "# No 'fare_amount'\n",
    "cols_test = ['pickup_datetime', 'pickup_longitude', \n",
    "        'pickup_latitude', 'dropoff_longitude', 'dropoff_latitude', 'passenger_count']"
   ]
  },
  {
   "cell_type": "code",
   "execution_count": 6,
   "metadata": {
    "hidden": true
   },
   "outputs": [
    {
     "name": "stdout",
     "output_type": "stream",
     "text": [
      "Chunk size: 10,000,000\n",
      "Total chunks required: 6\n"
     ]
    }
   ],
   "source": [
    "df_list = [] # list to hold the batch dataframe\n",
    "chunksize = 10_000_000 # 10 million rows at one go. Or try 10 million\n",
    "total_chunk = 55423857 // chunksize + 1\n",
    "\n",
    "print(f'Chunk size: {chunksize:,}\\nTotal chunks required: {total_chunk}')"
   ]
  },
  {
   "cell_type": "code",
   "execution_count": 7,
   "metadata": {
    "hidden": true
   },
   "outputs": [
    {
     "name": "stdout",
     "output_type": "stream",
     "text": [
      "DataFrame Chunk 1/6\n",
      "DataFrame Chunk 2/6\n",
      "DataFrame Chunk 3/6\n",
      "DataFrame Chunk 4/6\n",
      "DataFrame Chunk 5/6\n",
      "DataFrame Chunk 6/6\n",
      "Wall time: 4min 55s\n"
     ]
    }
   ],
   "source": [
    "%%time\n",
    "i=0\n",
    "for df_chunk in pd.read_csv(f'{PATH}train.csv', parse_dates=[\"pickup_datetime\"], usecols=cols_train,\n",
    "                         infer_datetime_format=True, dtype=types, chunksize=chunksize):\n",
    "    \n",
    "    i = i+1\n",
    "    # Each chunk is a corresponding dataframe\n",
    "    print(f'DataFrame Chunk {i}/{total_chunk}')\n",
    "    \n",
    "    # Can process each chunk of dataframe here\n",
    "    # feature_engineer(), remove_outliers(), fit(), predict()\n",
    "    \n",
    "    # Alternatively, append the chunk to list and merge all\n",
    "    df_list.append(df_chunk) "
   ]
  },
  {
   "cell_type": "code",
   "execution_count": 8,
   "metadata": {
    "hidden": true
   },
   "outputs": [],
   "source": [
    "# Merge all dataframes into one dataframe\n",
    "train_df = pd.concat(df_list)"
   ]
  },
  {
   "cell_type": "code",
   "execution_count": 9,
   "metadata": {
    "hidden": true
   },
   "outputs": [],
   "source": [
    "del df_list"
   ]
  },
  {
   "cell_type": "code",
   "execution_count": 10,
   "metadata": {
    "hidden": true
   },
   "outputs": [
    {
     "name": "stdout",
     "output_type": "stream",
     "text": [
      "<class 'pandas.core.frame.DataFrame'>\n",
      "RangeIndex: 55423856 entries, 0 to 55423855\n",
      "Data columns (total 7 columns):\n",
      "fare_amount          float32\n",
      "pickup_datetime      datetime64[ns]\n",
      "pickup_longitude     float32\n",
      "pickup_latitude      float32\n",
      "dropoff_longitude    float32\n",
      "dropoff_latitude     float32\n",
      "passenger_count      uint8\n",
      "dtypes: datetime64[ns](1), float32(5), uint8(1)\n",
      "memory usage: 1.5 GB\n"
     ]
    }
   ],
   "source": [
    "train_df.info()"
   ]
  },
  {
   "cell_type": "code",
   "execution_count": 11,
   "metadata": {
    "hidden": true
   },
   "outputs": [
    {
     "data": {
      "text/html": [
       "<div>\n",
       "<style scoped>\n",
       "    .dataframe tbody tr th:only-of-type {\n",
       "        vertical-align: middle;\n",
       "    }\n",
       "\n",
       "    .dataframe tbody tr th {\n",
       "        vertical-align: top;\n",
       "    }\n",
       "\n",
       "    .dataframe thead th {\n",
       "        text-align: right;\n",
       "    }\n",
       "</style>\n",
       "<table border=\"1\" class=\"dataframe\">\n",
       "  <thead>\n",
       "    <tr style=\"text-align: right;\">\n",
       "      <th></th>\n",
       "      <th>fare_amount</th>\n",
       "      <th>pickup_datetime</th>\n",
       "      <th>pickup_longitude</th>\n",
       "      <th>pickup_latitude</th>\n",
       "      <th>dropoff_longitude</th>\n",
       "      <th>dropoff_latitude</th>\n",
       "      <th>passenger_count</th>\n",
       "    </tr>\n",
       "  </thead>\n",
       "  <tbody>\n",
       "    <tr>\n",
       "      <th>0</th>\n",
       "      <td>4.5</td>\n",
       "      <td>2009-06-15 17:26:21</td>\n",
       "      <td>-73.844315</td>\n",
       "      <td>40.721317</td>\n",
       "      <td>-73.841614</td>\n",
       "      <td>40.712276</td>\n",
       "      <td>1</td>\n",
       "    </tr>\n",
       "    <tr>\n",
       "      <th>1</th>\n",
       "      <td>16.9</td>\n",
       "      <td>2010-01-05 16:52:16</td>\n",
       "      <td>-74.016045</td>\n",
       "      <td>40.711304</td>\n",
       "      <td>-73.979271</td>\n",
       "      <td>40.782005</td>\n",
       "      <td>1</td>\n",
       "    </tr>\n",
       "    <tr>\n",
       "      <th>2</th>\n",
       "      <td>5.7</td>\n",
       "      <td>2011-08-18 00:35:00</td>\n",
       "      <td>-73.982735</td>\n",
       "      <td>40.761269</td>\n",
       "      <td>-73.991241</td>\n",
       "      <td>40.750561</td>\n",
       "      <td>2</td>\n",
       "    </tr>\n",
       "    <tr>\n",
       "      <th>3</th>\n",
       "      <td>7.7</td>\n",
       "      <td>2012-04-21 04:30:42</td>\n",
       "      <td>-73.987129</td>\n",
       "      <td>40.733143</td>\n",
       "      <td>-73.991570</td>\n",
       "      <td>40.758091</td>\n",
       "      <td>1</td>\n",
       "    </tr>\n",
       "    <tr>\n",
       "      <th>4</th>\n",
       "      <td>5.3</td>\n",
       "      <td>2010-03-09 07:51:00</td>\n",
       "      <td>-73.968094</td>\n",
       "      <td>40.768009</td>\n",
       "      <td>-73.956657</td>\n",
       "      <td>40.783764</td>\n",
       "      <td>1</td>\n",
       "    </tr>\n",
       "  </tbody>\n",
       "</table>\n",
       "</div>"
      ],
      "text/plain": [
       "   fare_amount     pickup_datetime  pickup_longitude  pickup_latitude  \\\n",
       "0          4.5 2009-06-15 17:26:21        -73.844315        40.721317   \n",
       "1         16.9 2010-01-05 16:52:16        -74.016045        40.711304   \n",
       "2          5.7 2011-08-18 00:35:00        -73.982735        40.761269   \n",
       "3          7.7 2012-04-21 04:30:42        -73.987129        40.733143   \n",
       "4          5.3 2010-03-09 07:51:00        -73.968094        40.768009   \n",
       "\n",
       "   dropoff_longitude  dropoff_latitude  passenger_count  \n",
       "0         -73.841614         40.712276                1  \n",
       "1         -73.979271         40.782005                1  \n",
       "2         -73.991241         40.750561                2  \n",
       "3         -73.991570         40.758091                1  \n",
       "4         -73.956657         40.783764                1  "
      ]
     },
     "metadata": {},
     "output_type": "display_data"
    },
    {
     "data": {
      "text/html": [
       "<div>\n",
       "<style scoped>\n",
       "    .dataframe tbody tr th:only-of-type {\n",
       "        vertical-align: middle;\n",
       "    }\n",
       "\n",
       "    .dataframe tbody tr th {\n",
       "        vertical-align: top;\n",
       "    }\n",
       "\n",
       "    .dataframe thead th {\n",
       "        text-align: right;\n",
       "    }\n",
       "</style>\n",
       "<table border=\"1\" class=\"dataframe\">\n",
       "  <thead>\n",
       "    <tr style=\"text-align: right;\">\n",
       "      <th></th>\n",
       "      <th>fare_amount</th>\n",
       "      <th>pickup_datetime</th>\n",
       "      <th>pickup_longitude</th>\n",
       "      <th>pickup_latitude</th>\n",
       "      <th>dropoff_longitude</th>\n",
       "      <th>dropoff_latitude</th>\n",
       "      <th>passenger_count</th>\n",
       "    </tr>\n",
       "  </thead>\n",
       "  <tbody>\n",
       "    <tr>\n",
       "      <th>55423851</th>\n",
       "      <td>14.0</td>\n",
       "      <td>2014-03-15 03:28:00</td>\n",
       "      <td>-74.005272</td>\n",
       "      <td>40.740028</td>\n",
       "      <td>-73.963280</td>\n",
       "      <td>40.762554</td>\n",
       "      <td>1</td>\n",
       "    </tr>\n",
       "    <tr>\n",
       "      <th>55423852</th>\n",
       "      <td>4.2</td>\n",
       "      <td>2009-03-24 20:46:20</td>\n",
       "      <td>-73.957787</td>\n",
       "      <td>40.765530</td>\n",
       "      <td>-73.951637</td>\n",
       "      <td>40.773960</td>\n",
       "      <td>1</td>\n",
       "    </tr>\n",
       "    <tr>\n",
       "      <th>55423853</th>\n",
       "      <td>14.1</td>\n",
       "      <td>2011-04-02 22:04:24</td>\n",
       "      <td>-73.970505</td>\n",
       "      <td>40.752323</td>\n",
       "      <td>-73.960541</td>\n",
       "      <td>40.797340</td>\n",
       "      <td>1</td>\n",
       "    </tr>\n",
       "    <tr>\n",
       "      <th>55423854</th>\n",
       "      <td>28.9</td>\n",
       "      <td>2011-10-26 05:57:51</td>\n",
       "      <td>-73.980904</td>\n",
       "      <td>40.764629</td>\n",
       "      <td>-73.870605</td>\n",
       "      <td>40.773964</td>\n",
       "      <td>1</td>\n",
       "    </tr>\n",
       "    <tr>\n",
       "      <th>55423855</th>\n",
       "      <td>7.5</td>\n",
       "      <td>2014-12-12 11:33:00</td>\n",
       "      <td>-73.969719</td>\n",
       "      <td>40.797668</td>\n",
       "      <td>-73.970886</td>\n",
       "      <td>40.783314</td>\n",
       "      <td>1</td>\n",
       "    </tr>\n",
       "  </tbody>\n",
       "</table>\n",
       "</div>"
      ],
      "text/plain": [
       "          fare_amount     pickup_datetime  pickup_longitude  pickup_latitude  \\\n",
       "55423851         14.0 2014-03-15 03:28:00        -74.005272        40.740028   \n",
       "55423852          4.2 2009-03-24 20:46:20        -73.957787        40.765530   \n",
       "55423853         14.1 2011-04-02 22:04:24        -73.970505        40.752323   \n",
       "55423854         28.9 2011-10-26 05:57:51        -73.980904        40.764629   \n",
       "55423855          7.5 2014-12-12 11:33:00        -73.969719        40.797668   \n",
       "\n",
       "          dropoff_longitude  dropoff_latitude  passenger_count  \n",
       "55423851         -73.963280         40.762554                1  \n",
       "55423852         -73.951637         40.773960                1  \n",
       "55423853         -73.960541         40.797340                1  \n",
       "55423854         -73.870605         40.773964                1  \n",
       "55423855         -73.970886         40.783314                1  "
      ]
     },
     "metadata": {},
     "output_type": "display_data"
    }
   ],
   "source": [
    "display(train_df.head())\n",
    "display(train_df.tail())"
   ]
  },
  {
   "cell_type": "code",
   "execution_count": 12,
   "metadata": {
    "hidden": true
   },
   "outputs": [
    {
     "name": "stdout",
     "output_type": "stream",
     "text": [
      "Wall time: 18.9 s\n"
     ]
    }
   ],
   "source": [
    "%%time\n",
    "os.makedirs('tmp', exist_ok=True)\n",
    "train_df.to_feather('tmp/taxi-train-raw')"
   ]
  },
  {
   "cell_type": "code",
   "execution_count": 86,
   "metadata": {
    "hidden": true
   },
   "outputs": [
    {
     "name": "stdout",
     "output_type": "stream",
     "text": [
      "Wall time: 21.2 s\n"
     ]
    }
   ],
   "source": [
    "%%time\n",
    "train_df = pd.read_feather('tmp/taxi-train-raw')"
   ]
  },
  {
   "cell_type": "code",
   "execution_count": 87,
   "metadata": {
    "_uuid": "3cbf4836cf8c71dfb67d13a9621b18a8d487197e",
    "hidden": true
   },
   "outputs": [],
   "source": [
    "test_df = pd.read_csv(f'{PATH}test.csv', parse_dates=[\"pickup_datetime\"], usecols=cols_test,\n",
    "                         infer_datetime_format=True, dtype=types)"
   ]
  },
  {
   "cell_type": "markdown",
   "metadata": {
    "heading_collapsed": true
   },
   "source": [
    "# Quick EDA"
   ]
  },
  {
   "cell_type": "code",
   "execution_count": 15,
   "metadata": {
    "hidden": true
   },
   "outputs": [
    {
     "data": {
      "text/html": [
       "<div>\n",
       "<style scoped>\n",
       "    .dataframe tbody tr th:only-of-type {\n",
       "        vertical-align: middle;\n",
       "    }\n",
       "\n",
       "    .dataframe tbody tr th {\n",
       "        vertical-align: top;\n",
       "    }\n",
       "\n",
       "    .dataframe thead th {\n",
       "        text-align: right;\n",
       "    }\n",
       "</style>\n",
       "<table border=\"1\" class=\"dataframe\">\n",
       "  <thead>\n",
       "    <tr style=\"text-align: right;\">\n",
       "      <th></th>\n",
       "      <th>fare_amount</th>\n",
       "      <th>pickup_datetime</th>\n",
       "      <th>pickup_longitude</th>\n",
       "      <th>pickup_latitude</th>\n",
       "      <th>dropoff_longitude</th>\n",
       "      <th>dropoff_latitude</th>\n",
       "      <th>passenger_count</th>\n",
       "    </tr>\n",
       "  </thead>\n",
       "  <tbody>\n",
       "    <tr>\n",
       "      <th>0</th>\n",
       "      <td>4.5</td>\n",
       "      <td>2009-06-15 17:26:21</td>\n",
       "      <td>-73.844315</td>\n",
       "      <td>40.721317</td>\n",
       "      <td>-73.841614</td>\n",
       "      <td>40.712276</td>\n",
       "      <td>1</td>\n",
       "    </tr>\n",
       "    <tr>\n",
       "      <th>1</th>\n",
       "      <td>16.9</td>\n",
       "      <td>2010-01-05 16:52:16</td>\n",
       "      <td>-74.016045</td>\n",
       "      <td>40.711304</td>\n",
       "      <td>-73.979271</td>\n",
       "      <td>40.782005</td>\n",
       "      <td>1</td>\n",
       "    </tr>\n",
       "    <tr>\n",
       "      <th>2</th>\n",
       "      <td>5.7</td>\n",
       "      <td>2011-08-18 00:35:00</td>\n",
       "      <td>-73.982735</td>\n",
       "      <td>40.761269</td>\n",
       "      <td>-73.991241</td>\n",
       "      <td>40.750561</td>\n",
       "      <td>2</td>\n",
       "    </tr>\n",
       "    <tr>\n",
       "      <th>3</th>\n",
       "      <td>7.7</td>\n",
       "      <td>2012-04-21 04:30:42</td>\n",
       "      <td>-73.987129</td>\n",
       "      <td>40.733143</td>\n",
       "      <td>-73.991570</td>\n",
       "      <td>40.758091</td>\n",
       "      <td>1</td>\n",
       "    </tr>\n",
       "    <tr>\n",
       "      <th>4</th>\n",
       "      <td>5.3</td>\n",
       "      <td>2010-03-09 07:51:00</td>\n",
       "      <td>-73.968094</td>\n",
       "      <td>40.768009</td>\n",
       "      <td>-73.956657</td>\n",
       "      <td>40.783764</td>\n",
       "      <td>1</td>\n",
       "    </tr>\n",
       "  </tbody>\n",
       "</table>\n",
       "</div>"
      ],
      "text/plain": [
       "   fare_amount     pickup_datetime  pickup_longitude  pickup_latitude  \\\n",
       "0          4.5 2009-06-15 17:26:21        -73.844315        40.721317   \n",
       "1         16.9 2010-01-05 16:52:16        -74.016045        40.711304   \n",
       "2          5.7 2011-08-18 00:35:00        -73.982735        40.761269   \n",
       "3          7.7 2012-04-21 04:30:42        -73.987129        40.733143   \n",
       "4          5.3 2010-03-09 07:51:00        -73.968094        40.768009   \n",
       "\n",
       "   dropoff_longitude  dropoff_latitude  passenger_count  \n",
       "0         -73.841614         40.712276                1  \n",
       "1         -73.979271         40.782005                1  \n",
       "2         -73.991241         40.750561                2  \n",
       "3         -73.991570         40.758091                1  \n",
       "4         -73.956657         40.783764                1  "
      ]
     },
     "metadata": {},
     "output_type": "display_data"
    },
    {
     "data": {
      "text/html": [
       "<div>\n",
       "<style scoped>\n",
       "    .dataframe tbody tr th:only-of-type {\n",
       "        vertical-align: middle;\n",
       "    }\n",
       "\n",
       "    .dataframe tbody tr th {\n",
       "        vertical-align: top;\n",
       "    }\n",
       "\n",
       "    .dataframe thead th {\n",
       "        text-align: right;\n",
       "    }\n",
       "</style>\n",
       "<table border=\"1\" class=\"dataframe\">\n",
       "  <thead>\n",
       "    <tr style=\"text-align: right;\">\n",
       "      <th></th>\n",
       "      <th>fare_amount</th>\n",
       "      <th>pickup_datetime</th>\n",
       "      <th>pickup_longitude</th>\n",
       "      <th>pickup_latitude</th>\n",
       "      <th>dropoff_longitude</th>\n",
       "      <th>dropoff_latitude</th>\n",
       "      <th>passenger_count</th>\n",
       "    </tr>\n",
       "  </thead>\n",
       "  <tbody>\n",
       "    <tr>\n",
       "      <th>55423851</th>\n",
       "      <td>14.0</td>\n",
       "      <td>2014-03-15 03:28:00</td>\n",
       "      <td>-74.005272</td>\n",
       "      <td>40.740028</td>\n",
       "      <td>-73.963280</td>\n",
       "      <td>40.762554</td>\n",
       "      <td>1</td>\n",
       "    </tr>\n",
       "    <tr>\n",
       "      <th>55423852</th>\n",
       "      <td>4.2</td>\n",
       "      <td>2009-03-24 20:46:20</td>\n",
       "      <td>-73.957787</td>\n",
       "      <td>40.765530</td>\n",
       "      <td>-73.951637</td>\n",
       "      <td>40.773960</td>\n",
       "      <td>1</td>\n",
       "    </tr>\n",
       "    <tr>\n",
       "      <th>55423853</th>\n",
       "      <td>14.1</td>\n",
       "      <td>2011-04-02 22:04:24</td>\n",
       "      <td>-73.970505</td>\n",
       "      <td>40.752323</td>\n",
       "      <td>-73.960541</td>\n",
       "      <td>40.797340</td>\n",
       "      <td>1</td>\n",
       "    </tr>\n",
       "    <tr>\n",
       "      <th>55423854</th>\n",
       "      <td>28.9</td>\n",
       "      <td>2011-10-26 05:57:51</td>\n",
       "      <td>-73.980904</td>\n",
       "      <td>40.764629</td>\n",
       "      <td>-73.870605</td>\n",
       "      <td>40.773964</td>\n",
       "      <td>1</td>\n",
       "    </tr>\n",
       "    <tr>\n",
       "      <th>55423855</th>\n",
       "      <td>7.5</td>\n",
       "      <td>2014-12-12 11:33:00</td>\n",
       "      <td>-73.969719</td>\n",
       "      <td>40.797668</td>\n",
       "      <td>-73.970886</td>\n",
       "      <td>40.783314</td>\n",
       "      <td>1</td>\n",
       "    </tr>\n",
       "  </tbody>\n",
       "</table>\n",
       "</div>"
      ],
      "text/plain": [
       "          fare_amount     pickup_datetime  pickup_longitude  pickup_latitude  \\\n",
       "55423851         14.0 2014-03-15 03:28:00        -74.005272        40.740028   \n",
       "55423852          4.2 2009-03-24 20:46:20        -73.957787        40.765530   \n",
       "55423853         14.1 2011-04-02 22:04:24        -73.970505        40.752323   \n",
       "55423854         28.9 2011-10-26 05:57:51        -73.980904        40.764629   \n",
       "55423855          7.5 2014-12-12 11:33:00        -73.969719        40.797668   \n",
       "\n",
       "          dropoff_longitude  dropoff_latitude  passenger_count  \n",
       "55423851         -73.963280         40.762554                1  \n",
       "55423852         -73.951637         40.773960                1  \n",
       "55423853         -73.960541         40.797340                1  \n",
       "55423854         -73.870605         40.773964                1  \n",
       "55423855         -73.970886         40.783314                1  "
      ]
     },
     "metadata": {},
     "output_type": "display_data"
    }
   ],
   "source": [
    "display(train_df.head())\n",
    "display(train_df.tail())"
   ]
  },
  {
   "cell_type": "code",
   "execution_count": 16,
   "metadata": {
    "hidden": true
   },
   "outputs": [
    {
     "data": {
      "text/html": [
       "<div>\n",
       "<style scoped>\n",
       "    .dataframe tbody tr th:only-of-type {\n",
       "        vertical-align: middle;\n",
       "    }\n",
       "\n",
       "    .dataframe tbody tr th {\n",
       "        vertical-align: top;\n",
       "    }\n",
       "\n",
       "    .dataframe thead th {\n",
       "        text-align: right;\n",
       "    }\n",
       "</style>\n",
       "<table border=\"1\" class=\"dataframe\">\n",
       "  <thead>\n",
       "    <tr style=\"text-align: right;\">\n",
       "      <th></th>\n",
       "      <th>pickup_datetime</th>\n",
       "      <th>pickup_longitude</th>\n",
       "      <th>pickup_latitude</th>\n",
       "      <th>dropoff_longitude</th>\n",
       "      <th>dropoff_latitude</th>\n",
       "      <th>passenger_count</th>\n",
       "    </tr>\n",
       "  </thead>\n",
       "  <tbody>\n",
       "    <tr>\n",
       "      <th>0</th>\n",
       "      <td>2015-01-27 13:08:24</td>\n",
       "      <td>-73.973320</td>\n",
       "      <td>40.763805</td>\n",
       "      <td>-73.981430</td>\n",
       "      <td>40.743835</td>\n",
       "      <td>1</td>\n",
       "    </tr>\n",
       "    <tr>\n",
       "      <th>1</th>\n",
       "      <td>2015-01-27 13:08:24</td>\n",
       "      <td>-73.986862</td>\n",
       "      <td>40.719383</td>\n",
       "      <td>-73.998886</td>\n",
       "      <td>40.739201</td>\n",
       "      <td>1</td>\n",
       "    </tr>\n",
       "    <tr>\n",
       "      <th>2</th>\n",
       "      <td>2011-10-08 11:53:44</td>\n",
       "      <td>-73.982521</td>\n",
       "      <td>40.751259</td>\n",
       "      <td>-73.979652</td>\n",
       "      <td>40.746140</td>\n",
       "      <td>1</td>\n",
       "    </tr>\n",
       "    <tr>\n",
       "      <th>3</th>\n",
       "      <td>2012-12-01 21:12:12</td>\n",
       "      <td>-73.981163</td>\n",
       "      <td>40.767807</td>\n",
       "      <td>-73.990448</td>\n",
       "      <td>40.751637</td>\n",
       "      <td>1</td>\n",
       "    </tr>\n",
       "    <tr>\n",
       "      <th>4</th>\n",
       "      <td>2012-12-01 21:12:12</td>\n",
       "      <td>-73.966049</td>\n",
       "      <td>40.789776</td>\n",
       "      <td>-73.988564</td>\n",
       "      <td>40.744427</td>\n",
       "      <td>1</td>\n",
       "    </tr>\n",
       "  </tbody>\n",
       "</table>\n",
       "</div>"
      ],
      "text/plain": [
       "      pickup_datetime  pickup_longitude  pickup_latitude  dropoff_longitude  \\\n",
       "0 2015-01-27 13:08:24        -73.973320        40.763805         -73.981430   \n",
       "1 2015-01-27 13:08:24        -73.986862        40.719383         -73.998886   \n",
       "2 2011-10-08 11:53:44        -73.982521        40.751259         -73.979652   \n",
       "3 2012-12-01 21:12:12        -73.981163        40.767807         -73.990448   \n",
       "4 2012-12-01 21:12:12        -73.966049        40.789776         -73.988564   \n",
       "\n",
       "   dropoff_latitude  passenger_count  \n",
       "0         40.743835                1  \n",
       "1         40.739201                1  \n",
       "2         40.746140                1  \n",
       "3         40.751637                1  \n",
       "4         40.744427                1  "
      ]
     },
     "metadata": {},
     "output_type": "display_data"
    },
    {
     "data": {
      "text/html": [
       "<div>\n",
       "<style scoped>\n",
       "    .dataframe tbody tr th:only-of-type {\n",
       "        vertical-align: middle;\n",
       "    }\n",
       "\n",
       "    .dataframe tbody tr th {\n",
       "        vertical-align: top;\n",
       "    }\n",
       "\n",
       "    .dataframe thead th {\n",
       "        text-align: right;\n",
       "    }\n",
       "</style>\n",
       "<table border=\"1\" class=\"dataframe\">\n",
       "  <thead>\n",
       "    <tr style=\"text-align: right;\">\n",
       "      <th></th>\n",
       "      <th>pickup_datetime</th>\n",
       "      <th>pickup_longitude</th>\n",
       "      <th>pickup_latitude</th>\n",
       "      <th>dropoff_longitude</th>\n",
       "      <th>dropoff_latitude</th>\n",
       "      <th>passenger_count</th>\n",
       "    </tr>\n",
       "  </thead>\n",
       "  <tbody>\n",
       "    <tr>\n",
       "      <th>9909</th>\n",
       "      <td>2015-05-10 12:37:51</td>\n",
       "      <td>-73.968124</td>\n",
       "      <td>40.796997</td>\n",
       "      <td>-73.955643</td>\n",
       "      <td>40.780388</td>\n",
       "      <td>6</td>\n",
       "    </tr>\n",
       "    <tr>\n",
       "      <th>9910</th>\n",
       "      <td>2015-01-12 17:05:51</td>\n",
       "      <td>-73.945511</td>\n",
       "      <td>40.803600</td>\n",
       "      <td>-73.960213</td>\n",
       "      <td>40.776371</td>\n",
       "      <td>6</td>\n",
       "    </tr>\n",
       "    <tr>\n",
       "      <th>9911</th>\n",
       "      <td>2015-04-19 20:44:15</td>\n",
       "      <td>-73.991600</td>\n",
       "      <td>40.726608</td>\n",
       "      <td>-73.789742</td>\n",
       "      <td>40.647011</td>\n",
       "      <td>6</td>\n",
       "    </tr>\n",
       "    <tr>\n",
       "      <th>9912</th>\n",
       "      <td>2015-01-31 01:05:19</td>\n",
       "      <td>-73.985573</td>\n",
       "      <td>40.735432</td>\n",
       "      <td>-73.939178</td>\n",
       "      <td>40.801731</td>\n",
       "      <td>6</td>\n",
       "    </tr>\n",
       "    <tr>\n",
       "      <th>9913</th>\n",
       "      <td>2015-01-18 14:06:23</td>\n",
       "      <td>-73.988022</td>\n",
       "      <td>40.754070</td>\n",
       "      <td>-74.000282</td>\n",
       "      <td>40.759220</td>\n",
       "      <td>6</td>\n",
       "    </tr>\n",
       "  </tbody>\n",
       "</table>\n",
       "</div>"
      ],
      "text/plain": [
       "         pickup_datetime  pickup_longitude  pickup_latitude  \\\n",
       "9909 2015-05-10 12:37:51        -73.968124        40.796997   \n",
       "9910 2015-01-12 17:05:51        -73.945511        40.803600   \n",
       "9911 2015-04-19 20:44:15        -73.991600        40.726608   \n",
       "9912 2015-01-31 01:05:19        -73.985573        40.735432   \n",
       "9913 2015-01-18 14:06:23        -73.988022        40.754070   \n",
       "\n",
       "      dropoff_longitude  dropoff_latitude  passenger_count  \n",
       "9909         -73.955643         40.780388                6  \n",
       "9910         -73.960213         40.776371                6  \n",
       "9911         -73.789742         40.647011                6  \n",
       "9912         -73.939178         40.801731                6  \n",
       "9913         -74.000282         40.759220                6  "
      ]
     },
     "metadata": {},
     "output_type": "display_data"
    }
   ],
   "source": [
    "display(test_df.head())\n",
    "display(test_df.tail())"
   ]
  },
  {
   "cell_type": "code",
   "execution_count": 17,
   "metadata": {
    "hidden": true
   },
   "outputs": [
    {
     "data": {
      "text/html": [
       "<div>\n",
       "<style scoped>\n",
       "    .dataframe tbody tr th:only-of-type {\n",
       "        vertical-align: middle;\n",
       "    }\n",
       "\n",
       "    .dataframe tbody tr th {\n",
       "        vertical-align: top;\n",
       "    }\n",
       "\n",
       "    .dataframe thead th {\n",
       "        text-align: right;\n",
       "    }\n",
       "</style>\n",
       "<table border=\"1\" class=\"dataframe\">\n",
       "  <thead>\n",
       "    <tr style=\"text-align: right;\">\n",
       "      <th></th>\n",
       "      <th>fare_amount</th>\n",
       "      <th>pickup_datetime</th>\n",
       "      <th>pickup_longitude</th>\n",
       "      <th>pickup_latitude</th>\n",
       "      <th>dropoff_longitude</th>\n",
       "      <th>dropoff_latitude</th>\n",
       "      <th>passenger_count</th>\n",
       "    </tr>\n",
       "  </thead>\n",
       "  <tbody>\n",
       "    <tr>\n",
       "      <th>count</th>\n",
       "      <td>5.54239e+07</td>\n",
       "      <td>NaN</td>\n",
       "      <td>5.54239e+07</td>\n",
       "      <td>5.54239e+07</td>\n",
       "      <td>5.54235e+07</td>\n",
       "      <td>5.54235e+07</td>\n",
       "      <td>5.54239e+07</td>\n",
       "    </tr>\n",
       "    <tr>\n",
       "      <th>mean</th>\n",
       "      <td>11.345</td>\n",
       "      <td>NaN</td>\n",
       "      <td>-72.5097</td>\n",
       "      <td>39.9198</td>\n",
       "      <td>-72.5111</td>\n",
       "      <td>39.9207</td>\n",
       "      <td>1.68538</td>\n",
       "    </tr>\n",
       "    <tr>\n",
       "      <th>std</th>\n",
       "      <td>20.7108</td>\n",
       "      <td>NaN</td>\n",
       "      <td>12.8489</td>\n",
       "      <td>9.64235</td>\n",
       "      <td>12.7822</td>\n",
       "      <td>9.63335</td>\n",
       "      <td>1.32766</td>\n",
       "    </tr>\n",
       "    <tr>\n",
       "      <th>min</th>\n",
       "      <td>-300</td>\n",
       "      <td>NaN</td>\n",
       "      <td>-3442.06</td>\n",
       "      <td>-3492.26</td>\n",
       "      <td>-3442.02</td>\n",
       "      <td>-3547.89</td>\n",
       "      <td>0</td>\n",
       "    </tr>\n",
       "    <tr>\n",
       "      <th>25%</th>\n",
       "      <td>6</td>\n",
       "      <td>NaN</td>\n",
       "      <td>-73.9921</td>\n",
       "      <td>40.7349</td>\n",
       "      <td>-73.9914</td>\n",
       "      <td>40.734</td>\n",
       "      <td>1</td>\n",
       "    </tr>\n",
       "    <tr>\n",
       "      <th>50%</th>\n",
       "      <td>8.5</td>\n",
       "      <td>NaN</td>\n",
       "      <td>-73.9818</td>\n",
       "      <td>40.7527</td>\n",
       "      <td>-73.9801</td>\n",
       "      <td>40.7532</td>\n",
       "      <td>1</td>\n",
       "    </tr>\n",
       "    <tr>\n",
       "      <th>75%</th>\n",
       "      <td>12.5</td>\n",
       "      <td>NaN</td>\n",
       "      <td>-73.9671</td>\n",
       "      <td>40.7671</td>\n",
       "      <td>-73.9637</td>\n",
       "      <td>40.7681</td>\n",
       "      <td>2</td>\n",
       "    </tr>\n",
       "    <tr>\n",
       "      <th>max</th>\n",
       "      <td>93963.4</td>\n",
       "      <td>NaN</td>\n",
       "      <td>3457.63</td>\n",
       "      <td>3408.79</td>\n",
       "      <td>3457.62</td>\n",
       "      <td>3537.13</td>\n",
       "      <td>208</td>\n",
       "    </tr>\n",
       "    <tr>\n",
       "      <th>counts</th>\n",
       "      <td>55423856</td>\n",
       "      <td>55423856</td>\n",
       "      <td>55423856</td>\n",
       "      <td>55423856</td>\n",
       "      <td>55423480</td>\n",
       "      <td>55423480</td>\n",
       "      <td>55423856</td>\n",
       "    </tr>\n",
       "    <tr>\n",
       "      <th>uniques</th>\n",
       "      <td>9405</td>\n",
       "      <td>26173536</td>\n",
       "      <td>98330</td>\n",
       "      <td>116546</td>\n",
       "      <td>114629</td>\n",
       "      <td>134778</td>\n",
       "      <td>15</td>\n",
       "    </tr>\n",
       "    <tr>\n",
       "      <th>missing</th>\n",
       "      <td>0</td>\n",
       "      <td>0</td>\n",
       "      <td>0</td>\n",
       "      <td>0</td>\n",
       "      <td>376</td>\n",
       "      <td>376</td>\n",
       "      <td>0</td>\n",
       "    </tr>\n",
       "    <tr>\n",
       "      <th>missing_perc</th>\n",
       "      <td>0%</td>\n",
       "      <td>0%</td>\n",
       "      <td>0%</td>\n",
       "      <td>0%</td>\n",
       "      <td>0.00%</td>\n",
       "      <td>0.00%</td>\n",
       "      <td>0%</td>\n",
       "    </tr>\n",
       "    <tr>\n",
       "      <th>types</th>\n",
       "      <td>numeric</td>\n",
       "      <td>date</td>\n",
       "      <td>numeric</td>\n",
       "      <td>numeric</td>\n",
       "      <td>numeric</td>\n",
       "      <td>numeric</td>\n",
       "      <td>numeric</td>\n",
       "    </tr>\n",
       "  </tbody>\n",
       "</table>\n",
       "</div>"
      ],
      "text/plain": [
       "              fare_amount pickup_datetime pickup_longitude pickup_latitude  \\\n",
       "count         5.54239e+07             NaN      5.54239e+07     5.54239e+07   \n",
       "mean               11.345             NaN         -72.5097         39.9198   \n",
       "std               20.7108             NaN          12.8489         9.64235   \n",
       "min                  -300             NaN         -3442.06        -3492.26   \n",
       "25%                     6             NaN         -73.9921         40.7349   \n",
       "50%                   8.5             NaN         -73.9818         40.7527   \n",
       "75%                  12.5             NaN         -73.9671         40.7671   \n",
       "max               93963.4             NaN          3457.63         3408.79   \n",
       "counts           55423856        55423856         55423856        55423856   \n",
       "uniques              9405        26173536            98330          116546   \n",
       "missing                 0               0                0               0   \n",
       "missing_perc           0%              0%               0%              0%   \n",
       "types             numeric            date          numeric         numeric   \n",
       "\n",
       "             dropoff_longitude dropoff_latitude passenger_count  \n",
       "count              5.54235e+07      5.54235e+07     5.54239e+07  \n",
       "mean                  -72.5111          39.9207         1.68538  \n",
       "std                    12.7822          9.63335         1.32766  \n",
       "min                   -3442.02         -3547.89               0  \n",
       "25%                   -73.9914           40.734               1  \n",
       "50%                   -73.9801          40.7532               1  \n",
       "75%                   -73.9637          40.7681               2  \n",
       "max                    3457.62          3537.13             208  \n",
       "counts                55423480         55423480        55423856  \n",
       "uniques                 114629           134778              15  \n",
       "missing                    376              376               0  \n",
       "missing_perc             0.00%            0.00%              0%  \n",
       "types                  numeric          numeric         numeric  "
      ]
     },
     "execution_count": 17,
     "metadata": {},
     "output_type": "execute_result"
    }
   ],
   "source": [
    "DataFrameSummary(train_df).summary()"
   ]
  },
  {
   "cell_type": "code",
   "execution_count": 18,
   "metadata": {
    "hidden": true
   },
   "outputs": [
    {
     "data": {
      "text/html": [
       "<div>\n",
       "<style scoped>\n",
       "    .dataframe tbody tr th:only-of-type {\n",
       "        vertical-align: middle;\n",
       "    }\n",
       "\n",
       "    .dataframe tbody tr th {\n",
       "        vertical-align: top;\n",
       "    }\n",
       "\n",
       "    .dataframe thead th {\n",
       "        text-align: right;\n",
       "    }\n",
       "</style>\n",
       "<table border=\"1\" class=\"dataframe\">\n",
       "  <thead>\n",
       "    <tr style=\"text-align: right;\">\n",
       "      <th></th>\n",
       "      <th>pickup_datetime</th>\n",
       "      <th>pickup_longitude</th>\n",
       "      <th>pickup_latitude</th>\n",
       "      <th>dropoff_longitude</th>\n",
       "      <th>dropoff_latitude</th>\n",
       "      <th>passenger_count</th>\n",
       "    </tr>\n",
       "  </thead>\n",
       "  <tbody>\n",
       "    <tr>\n",
       "      <th>count</th>\n",
       "      <td>NaN</td>\n",
       "      <td>9914</td>\n",
       "      <td>9914</td>\n",
       "      <td>9914</td>\n",
       "      <td>9914</td>\n",
       "      <td>9914</td>\n",
       "    </tr>\n",
       "    <tr>\n",
       "      <th>mean</th>\n",
       "      <td>NaN</td>\n",
       "      <td>-73.9747</td>\n",
       "      <td>40.751</td>\n",
       "      <td>-73.9737</td>\n",
       "      <td>40.7517</td>\n",
       "      <td>1.67127</td>\n",
       "    </tr>\n",
       "    <tr>\n",
       "      <th>std</th>\n",
       "      <td>NaN</td>\n",
       "      <td>0.042774</td>\n",
       "      <td>0.0335415</td>\n",
       "      <td>0.0390719</td>\n",
       "      <td>0.0354352</td>\n",
       "      <td>1.27875</td>\n",
       "    </tr>\n",
       "    <tr>\n",
       "      <th>min</th>\n",
       "      <td>NaN</td>\n",
       "      <td>-74.2522</td>\n",
       "      <td>40.5731</td>\n",
       "      <td>-74.2632</td>\n",
       "      <td>40.569</td>\n",
       "      <td>1</td>\n",
       "    </tr>\n",
       "    <tr>\n",
       "      <th>25%</th>\n",
       "      <td>NaN</td>\n",
       "      <td>-73.9925</td>\n",
       "      <td>40.7361</td>\n",
       "      <td>-73.9912</td>\n",
       "      <td>40.7353</td>\n",
       "      <td>1</td>\n",
       "    </tr>\n",
       "    <tr>\n",
       "      <th>50%</th>\n",
       "      <td>NaN</td>\n",
       "      <td>-73.9823</td>\n",
       "      <td>40.7531</td>\n",
       "      <td>-73.98</td>\n",
       "      <td>40.7541</td>\n",
       "      <td>1</td>\n",
       "    </tr>\n",
       "    <tr>\n",
       "      <th>75%</th>\n",
       "      <td>NaN</td>\n",
       "      <td>-73.968</td>\n",
       "      <td>40.7671</td>\n",
       "      <td>-73.9641</td>\n",
       "      <td>40.7688</td>\n",
       "      <td>2</td>\n",
       "    </tr>\n",
       "    <tr>\n",
       "      <th>max</th>\n",
       "      <td>NaN</td>\n",
       "      <td>-72.9865</td>\n",
       "      <td>41.7096</td>\n",
       "      <td>-72.991</td>\n",
       "      <td>41.6967</td>\n",
       "      <td>6</td>\n",
       "    </tr>\n",
       "    <tr>\n",
       "      <th>counts</th>\n",
       "      <td>9914</td>\n",
       "      <td>9914</td>\n",
       "      <td>9914</td>\n",
       "      <td>9914</td>\n",
       "      <td>9914</td>\n",
       "      <td>9914</td>\n",
       "    </tr>\n",
       "    <tr>\n",
       "      <th>uniques</th>\n",
       "      <td>1753</td>\n",
       "      <td>5894</td>\n",
       "      <td>7857</td>\n",
       "      <td>6174</td>\n",
       "      <td>8124</td>\n",
       "      <td>6</td>\n",
       "    </tr>\n",
       "    <tr>\n",
       "      <th>missing</th>\n",
       "      <td>0</td>\n",
       "      <td>0</td>\n",
       "      <td>0</td>\n",
       "      <td>0</td>\n",
       "      <td>0</td>\n",
       "      <td>0</td>\n",
       "    </tr>\n",
       "    <tr>\n",
       "      <th>missing_perc</th>\n",
       "      <td>0%</td>\n",
       "      <td>0%</td>\n",
       "      <td>0%</td>\n",
       "      <td>0%</td>\n",
       "      <td>0%</td>\n",
       "      <td>0%</td>\n",
       "    </tr>\n",
       "    <tr>\n",
       "      <th>types</th>\n",
       "      <td>date</td>\n",
       "      <td>numeric</td>\n",
       "      <td>numeric</td>\n",
       "      <td>numeric</td>\n",
       "      <td>numeric</td>\n",
       "      <td>numeric</td>\n",
       "    </tr>\n",
       "  </tbody>\n",
       "</table>\n",
       "</div>"
      ],
      "text/plain": [
       "             pickup_datetime pickup_longitude pickup_latitude  \\\n",
       "count                    NaN             9914            9914   \n",
       "mean                     NaN         -73.9747          40.751   \n",
       "std                      NaN         0.042774       0.0335415   \n",
       "min                      NaN         -74.2522         40.5731   \n",
       "25%                      NaN         -73.9925         40.7361   \n",
       "50%                      NaN         -73.9823         40.7531   \n",
       "75%                      NaN          -73.968         40.7671   \n",
       "max                      NaN         -72.9865         41.7096   \n",
       "counts                  9914             9914            9914   \n",
       "uniques                 1753             5894            7857   \n",
       "missing                    0                0               0   \n",
       "missing_perc              0%               0%              0%   \n",
       "types                   date          numeric         numeric   \n",
       "\n",
       "             dropoff_longitude dropoff_latitude passenger_count  \n",
       "count                     9914             9914            9914  \n",
       "mean                  -73.9737          40.7517         1.67127  \n",
       "std                  0.0390719        0.0354352         1.27875  \n",
       "min                   -74.2632           40.569               1  \n",
       "25%                   -73.9912          40.7353               1  \n",
       "50%                     -73.98          40.7541               1  \n",
       "75%                   -73.9641          40.7688               2  \n",
       "max                    -72.991          41.6967               6  \n",
       "counts                    9914             9914            9914  \n",
       "uniques                   6174             8124               6  \n",
       "missing                      0                0               0  \n",
       "missing_perc                0%               0%              0%  \n",
       "types                  numeric          numeric         numeric  "
      ]
     },
     "execution_count": 18,
     "metadata": {},
     "output_type": "execute_result"
    }
   ],
   "source": [
    "DataFrameSummary(test_df).summary()"
   ]
  },
  {
   "cell_type": "markdown",
   "metadata": {
    "heading_collapsed": true
   },
   "source": [
    "# Remove missing values"
   ]
  },
  {
   "cell_type": "code",
   "execution_count": 8,
   "metadata": {
    "hidden": true
   },
   "outputs": [
    {
     "data": {
      "text/plain": [
       "fare_amount            0\n",
       "pickup_datetime        0\n",
       "pickup_longitude       0\n",
       "pickup_latitude        0\n",
       "dropoff_longitude    376\n",
       "dropoff_latitude     376\n",
       "passenger_count        0\n",
       "dtype: int64"
      ]
     },
     "execution_count": 8,
     "metadata": {},
     "output_type": "execute_result"
    }
   ],
   "source": [
    "train_df.isnull().sum() "
   ]
  },
  {
   "cell_type": "code",
   "execution_count": 9,
   "metadata": {
    "hidden": true
   },
   "outputs": [
    {
     "data": {
      "text/plain": [
       "pickup_datetime      0\n",
       "pickup_longitude     0\n",
       "pickup_latitude      0\n",
       "dropoff_longitude    0\n",
       "dropoff_latitude     0\n",
       "passenger_count      0\n",
       "dtype: int64"
      ]
     },
     "execution_count": 9,
     "metadata": {},
     "output_type": "execute_result"
    }
   ],
   "source": [
    "test_df.isnull().sum()"
   ]
  },
  {
   "cell_type": "code",
   "execution_count": 88,
   "metadata": {
    "hidden": true
   },
   "outputs": [
    {
     "name": "stdout",
     "output_type": "stream",
     "text": [
      "Old size: 55423856\n",
      "New size: 55423480\n"
     ]
    }
   ],
   "source": [
    "print('Old size: %d' % len(train_df))\n",
    "train_df = train_df.dropna(how = 'any', axis = 'rows')\n",
    "print('New size: %d' % len(train_df))"
   ]
  },
  {
   "cell_type": "markdown",
   "metadata": {
    "heading_collapsed": true
   },
   "source": [
    "# Travel vector longitude, latitude and simple distance"
   ]
  },
  {
   "cell_type": "code",
   "execution_count": 89,
   "metadata": {
    "hidden": true
   },
   "outputs": [],
   "source": [
    "def add_travel_vector_features(df):\n",
    "    df['abs_diff_longitude'] = (df.dropoff_longitude - df.pickup_longitude).abs()\n",
    "    df['abs_diff_latitude'] = (df.dropoff_latitude - df.pickup_latitude).abs()"
   ]
  },
  {
   "cell_type": "code",
   "execution_count": 90,
   "metadata": {
    "hidden": true
   },
   "outputs": [],
   "source": [
    "def add_simple_distance(df):\n",
    "#     df['simple_distance'] = np.sqrt(df.abs_diff_longitude ** 2 + df.abs_diff_latitude ** 2)\n",
    "    df['simple_distance'] = df.abs_diff_longitude  + df.abs_diff_latitude"
   ]
  },
  {
   "cell_type": "code",
   "execution_count": 91,
   "metadata": {
    "hidden": true
   },
   "outputs": [],
   "source": [
    "add_travel_vector_features(train_df)\n",
    "add_travel_vector_features(test_df)\n",
    "\n",
    "add_simple_distance(train_df)\n",
    "add_simple_distance(test_df)"
   ]
  },
  {
   "cell_type": "code",
   "execution_count": 92,
   "metadata": {
    "hidden": true
   },
   "outputs": [
    {
     "data": {
      "text/html": [
       "<div>\n",
       "<style scoped>\n",
       "    .dataframe tbody tr th:only-of-type {\n",
       "        vertical-align: middle;\n",
       "    }\n",
       "\n",
       "    .dataframe tbody tr th {\n",
       "        vertical-align: top;\n",
       "    }\n",
       "\n",
       "    .dataframe thead th {\n",
       "        text-align: right;\n",
       "    }\n",
       "</style>\n",
       "<table border=\"1\" class=\"dataframe\">\n",
       "  <thead>\n",
       "    <tr style=\"text-align: right;\">\n",
       "      <th></th>\n",
       "      <th>fare_amount</th>\n",
       "      <th>pickup_datetime</th>\n",
       "      <th>pickup_longitude</th>\n",
       "      <th>pickup_latitude</th>\n",
       "      <th>dropoff_longitude</th>\n",
       "      <th>dropoff_latitude</th>\n",
       "      <th>passenger_count</th>\n",
       "      <th>abs_diff_longitude</th>\n",
       "      <th>abs_diff_latitude</th>\n",
       "      <th>simple_distance</th>\n",
       "    </tr>\n",
       "  </thead>\n",
       "  <tbody>\n",
       "    <tr>\n",
       "      <th>count</th>\n",
       "      <td>5.54235e+07</td>\n",
       "      <td>NaN</td>\n",
       "      <td>5.54235e+07</td>\n",
       "      <td>5.54235e+07</td>\n",
       "      <td>5.54235e+07</td>\n",
       "      <td>5.54235e+07</td>\n",
       "      <td>5.54235e+07</td>\n",
       "      <td>5.54235e+07</td>\n",
       "      <td>5.54235e+07</td>\n",
       "      <td>5.54235e+07</td>\n",
       "    </tr>\n",
       "    <tr>\n",
       "      <th>mean</th>\n",
       "      <td>11.345</td>\n",
       "      <td>NaN</td>\n",
       "      <td>-72.5099</td>\n",
       "      <td>39.9198</td>\n",
       "      <td>-72.5112</td>\n",
       "      <td>39.9207</td>\n",
       "      <td>1.68539</td>\n",
       "      <td>0.199236</td>\n",
       "      <td>0.122812</td>\n",
       "      <td>0.322049</td>\n",
       "    </tr>\n",
       "    <tr>\n",
       "      <th>std</th>\n",
       "      <td>20.7109</td>\n",
       "      <td>NaN</td>\n",
       "      <td>12.8488</td>\n",
       "      <td>9.64232</td>\n",
       "      <td>12.7822</td>\n",
       "      <td>9.63335</td>\n",
       "      <td>1.32766</td>\n",
       "      <td>9.44166</td>\n",
       "      <td>9.40297</td>\n",
       "      <td>16.5363</td>\n",
       "    </tr>\n",
       "    <tr>\n",
       "      <th>min</th>\n",
       "      <td>-300</td>\n",
       "      <td>NaN</td>\n",
       "      <td>-3442.06</td>\n",
       "      <td>-3492.26</td>\n",
       "      <td>-3442.02</td>\n",
       "      <td>-3547.89</td>\n",
       "      <td>0</td>\n",
       "      <td>0</td>\n",
       "      <td>0</td>\n",
       "      <td>0</td>\n",
       "    </tr>\n",
       "    <tr>\n",
       "      <th>25%</th>\n",
       "      <td>6</td>\n",
       "      <td>NaN</td>\n",
       "      <td>-73.9921</td>\n",
       "      <td>40.7349</td>\n",
       "      <td>-73.9914</td>\n",
       "      <td>40.734</td>\n",
       "      <td>1</td>\n",
       "      <td>0.00580597</td>\n",
       "      <td>0.00658417</td>\n",
       "      <td>0.0158195</td>\n",
       "    </tr>\n",
       "    <tr>\n",
       "      <th>50%</th>\n",
       "      <td>8.5</td>\n",
       "      <td>NaN</td>\n",
       "      <td>-73.9818</td>\n",
       "      <td>40.7527</td>\n",
       "      <td>-73.9801</td>\n",
       "      <td>40.7532</td>\n",
       "      <td>1</td>\n",
       "      <td>0.0124359</td>\n",
       "      <td>0.0138588</td>\n",
       "      <td>0.0276337</td>\n",
       "    </tr>\n",
       "    <tr>\n",
       "      <th>75%</th>\n",
       "      <td>12.5</td>\n",
       "      <td>NaN</td>\n",
       "      <td>-73.9671</td>\n",
       "      <td>40.7671</td>\n",
       "      <td>-73.9637</td>\n",
       "      <td>40.7681</td>\n",
       "      <td>2</td>\n",
       "      <td>0.0237122</td>\n",
       "      <td>0.0269356</td>\n",
       "      <td>0.0503426</td>\n",
       "    </tr>\n",
       "    <tr>\n",
       "      <th>max</th>\n",
       "      <td>93963.4</td>\n",
       "      <td>NaN</td>\n",
       "      <td>3457.63</td>\n",
       "      <td>3408.79</td>\n",
       "      <td>3457.62</td>\n",
       "      <td>3537.13</td>\n",
       "      <td>208</td>\n",
       "      <td>6812.94</td>\n",
       "      <td>6818.56</td>\n",
       "      <td>11314.8</td>\n",
       "    </tr>\n",
       "    <tr>\n",
       "      <th>counts</th>\n",
       "      <td>55423480</td>\n",
       "      <td>55423480</td>\n",
       "      <td>55423480</td>\n",
       "      <td>55423480</td>\n",
       "      <td>55423480</td>\n",
       "      <td>55423480</td>\n",
       "      <td>55423480</td>\n",
       "      <td>55423480</td>\n",
       "      <td>55423480</td>\n",
       "      <td>55423480</td>\n",
       "    </tr>\n",
       "    <tr>\n",
       "      <th>uniques</th>\n",
       "      <td>9391</td>\n",
       "      <td>26173267</td>\n",
       "      <td>98330</td>\n",
       "      <td>116546</td>\n",
       "      <td>114629</td>\n",
       "      <td>134778</td>\n",
       "      <td>15</td>\n",
       "      <td>91903</td>\n",
       "      <td>117299</td>\n",
       "      <td>172192</td>\n",
       "    </tr>\n",
       "    <tr>\n",
       "      <th>missing</th>\n",
       "      <td>0</td>\n",
       "      <td>0</td>\n",
       "      <td>0</td>\n",
       "      <td>0</td>\n",
       "      <td>0</td>\n",
       "      <td>0</td>\n",
       "      <td>0</td>\n",
       "      <td>0</td>\n",
       "      <td>0</td>\n",
       "      <td>0</td>\n",
       "    </tr>\n",
       "    <tr>\n",
       "      <th>missing_perc</th>\n",
       "      <td>0%</td>\n",
       "      <td>0%</td>\n",
       "      <td>0%</td>\n",
       "      <td>0%</td>\n",
       "      <td>0%</td>\n",
       "      <td>0%</td>\n",
       "      <td>0%</td>\n",
       "      <td>0%</td>\n",
       "      <td>0%</td>\n",
       "      <td>0%</td>\n",
       "    </tr>\n",
       "    <tr>\n",
       "      <th>types</th>\n",
       "      <td>numeric</td>\n",
       "      <td>date</td>\n",
       "      <td>numeric</td>\n",
       "      <td>numeric</td>\n",
       "      <td>numeric</td>\n",
       "      <td>numeric</td>\n",
       "      <td>numeric</td>\n",
       "      <td>numeric</td>\n",
       "      <td>numeric</td>\n",
       "      <td>numeric</td>\n",
       "    </tr>\n",
       "  </tbody>\n",
       "</table>\n",
       "</div>"
      ],
      "text/plain": [
       "              fare_amount pickup_datetime pickup_longitude pickup_latitude  \\\n",
       "count         5.54235e+07             NaN      5.54235e+07     5.54235e+07   \n",
       "mean               11.345             NaN         -72.5099         39.9198   \n",
       "std               20.7109             NaN          12.8488         9.64232   \n",
       "min                  -300             NaN         -3442.06        -3492.26   \n",
       "25%                     6             NaN         -73.9921         40.7349   \n",
       "50%                   8.5             NaN         -73.9818         40.7527   \n",
       "75%                  12.5             NaN         -73.9671         40.7671   \n",
       "max               93963.4             NaN          3457.63         3408.79   \n",
       "counts           55423480        55423480         55423480        55423480   \n",
       "uniques              9391        26173267            98330          116546   \n",
       "missing                 0               0                0               0   \n",
       "missing_perc           0%              0%               0%              0%   \n",
       "types             numeric            date          numeric         numeric   \n",
       "\n",
       "             dropoff_longitude dropoff_latitude passenger_count  \\\n",
       "count              5.54235e+07      5.54235e+07     5.54235e+07   \n",
       "mean                  -72.5112          39.9207         1.68539   \n",
       "std                    12.7822          9.63335         1.32766   \n",
       "min                   -3442.02         -3547.89               0   \n",
       "25%                   -73.9914           40.734               1   \n",
       "50%                   -73.9801          40.7532               1   \n",
       "75%                   -73.9637          40.7681               2   \n",
       "max                    3457.62          3537.13             208   \n",
       "counts                55423480         55423480        55423480   \n",
       "uniques                 114629           134778              15   \n",
       "missing                      0                0               0   \n",
       "missing_perc                0%               0%              0%   \n",
       "types                  numeric          numeric         numeric   \n",
       "\n",
       "             abs_diff_longitude abs_diff_latitude simple_distance  \n",
       "count               5.54235e+07       5.54235e+07     5.54235e+07  \n",
       "mean                   0.199236          0.122812        0.322049  \n",
       "std                     9.44166           9.40297         16.5363  \n",
       "min                           0                 0               0  \n",
       "25%                  0.00580597        0.00658417       0.0158195  \n",
       "50%                   0.0124359         0.0138588       0.0276337  \n",
       "75%                   0.0237122         0.0269356       0.0503426  \n",
       "max                     6812.94           6818.56         11314.8  \n",
       "counts                 55423480          55423480        55423480  \n",
       "uniques                   91903            117299          172192  \n",
       "missing                       0                 0               0  \n",
       "missing_perc                 0%                0%              0%  \n",
       "types                   numeric           numeric         numeric  "
      ]
     },
     "execution_count": 92,
     "metadata": {},
     "output_type": "execute_result"
    }
   ],
   "source": [
    "DataFrameSummary(train_df).summary()"
   ]
  },
  {
   "cell_type": "code",
   "execution_count": 93,
   "metadata": {
    "hidden": true
   },
   "outputs": [
    {
     "data": {
      "text/html": [
       "<div>\n",
       "<style scoped>\n",
       "    .dataframe tbody tr th:only-of-type {\n",
       "        vertical-align: middle;\n",
       "    }\n",
       "\n",
       "    .dataframe tbody tr th {\n",
       "        vertical-align: top;\n",
       "    }\n",
       "\n",
       "    .dataframe thead th {\n",
       "        text-align: right;\n",
       "    }\n",
       "</style>\n",
       "<table border=\"1\" class=\"dataframe\">\n",
       "  <thead>\n",
       "    <tr style=\"text-align: right;\">\n",
       "      <th></th>\n",
       "      <th>pickup_datetime</th>\n",
       "      <th>pickup_longitude</th>\n",
       "      <th>pickup_latitude</th>\n",
       "      <th>dropoff_longitude</th>\n",
       "      <th>dropoff_latitude</th>\n",
       "      <th>passenger_count</th>\n",
       "      <th>abs_diff_longitude</th>\n",
       "      <th>abs_diff_latitude</th>\n",
       "      <th>simple_distance</th>\n",
       "    </tr>\n",
       "  </thead>\n",
       "  <tbody>\n",
       "    <tr>\n",
       "      <th>count</th>\n",
       "      <td>NaN</td>\n",
       "      <td>9914</td>\n",
       "      <td>9914</td>\n",
       "      <td>9914</td>\n",
       "      <td>9914</td>\n",
       "      <td>9914</td>\n",
       "      <td>9914</td>\n",
       "      <td>9914</td>\n",
       "      <td>9914</td>\n",
       "    </tr>\n",
       "    <tr>\n",
       "      <th>mean</th>\n",
       "      <td>NaN</td>\n",
       "      <td>-73.9747</td>\n",
       "      <td>40.751</td>\n",
       "      <td>-73.9737</td>\n",
       "      <td>40.7517</td>\n",
       "      <td>1.67127</td>\n",
       "      <td>0.0233484</td>\n",
       "      <td>0.0221326</td>\n",
       "      <td>0.045481</td>\n",
       "    </tr>\n",
       "    <tr>\n",
       "      <th>std</th>\n",
       "      <td>NaN</td>\n",
       "      <td>0.042774</td>\n",
       "      <td>0.0335415</td>\n",
       "      <td>0.0390719</td>\n",
       "      <td>0.0354352</td>\n",
       "      <td>1.27875</td>\n",
       "      <td>0.0367193</td>\n",
       "      <td>0.0255887</td>\n",
       "      <td>0.0559748</td>\n",
       "    </tr>\n",
       "    <tr>\n",
       "      <th>min</th>\n",
       "      <td>NaN</td>\n",
       "      <td>-74.2522</td>\n",
       "      <td>40.5731</td>\n",
       "      <td>-74.2632</td>\n",
       "      <td>40.569</td>\n",
       "      <td>1</td>\n",
       "      <td>0</td>\n",
       "      <td>0</td>\n",
       "      <td>0</td>\n",
       "    </tr>\n",
       "    <tr>\n",
       "      <th>25%</th>\n",
       "      <td>NaN</td>\n",
       "      <td>-73.9925</td>\n",
       "      <td>40.7361</td>\n",
       "      <td>-73.9912</td>\n",
       "      <td>40.7353</td>\n",
       "      <td>1</td>\n",
       "      <td>0.00635529</td>\n",
       "      <td>0.00727844</td>\n",
       "      <td>0.0170059</td>\n",
       "    </tr>\n",
       "    <tr>\n",
       "      <th>50%</th>\n",
       "      <td>NaN</td>\n",
       "      <td>-73.9823</td>\n",
       "      <td>40.7531</td>\n",
       "      <td>-73.98</td>\n",
       "      <td>40.7541</td>\n",
       "      <td>1</td>\n",
       "      <td>0.0131226</td>\n",
       "      <td>0.0147152</td>\n",
       "      <td>0.02911</td>\n",
       "    </tr>\n",
       "    <tr>\n",
       "      <th>75%</th>\n",
       "      <td>NaN</td>\n",
       "      <td>-73.968</td>\n",
       "      <td>40.7671</td>\n",
       "      <td>-73.9641</td>\n",
       "      <td>40.7688</td>\n",
       "      <td>2</td>\n",
       "      <td>0.0245628</td>\n",
       "      <td>0.0282612</td>\n",
       "      <td>0.0529604</td>\n",
       "    </tr>\n",
       "    <tr>\n",
       "      <th>max</th>\n",
       "      <td>NaN</td>\n",
       "      <td>-72.9865</td>\n",
       "      <td>41.7096</td>\n",
       "      <td>-72.991</td>\n",
       "      <td>41.6967</td>\n",
       "      <td>6</td>\n",
       "      <td>0.849174</td>\n",
       "      <td>0.633213</td>\n",
       "      <td>1.47997</td>\n",
       "    </tr>\n",
       "    <tr>\n",
       "      <th>counts</th>\n",
       "      <td>9914</td>\n",
       "      <td>9914</td>\n",
       "      <td>9914</td>\n",
       "      <td>9914</td>\n",
       "      <td>9914</td>\n",
       "      <td>9914</td>\n",
       "      <td>9914</td>\n",
       "      <td>9914</td>\n",
       "      <td>9914</td>\n",
       "    </tr>\n",
       "    <tr>\n",
       "      <th>uniques</th>\n",
       "      <td>1753</td>\n",
       "      <td>5894</td>\n",
       "      <td>7857</td>\n",
       "      <td>6174</td>\n",
       "      <td>8124</td>\n",
       "      <td>6</td>\n",
       "      <td>4896</td>\n",
       "      <td>6761</td>\n",
       "      <td>7793</td>\n",
       "    </tr>\n",
       "    <tr>\n",
       "      <th>missing</th>\n",
       "      <td>0</td>\n",
       "      <td>0</td>\n",
       "      <td>0</td>\n",
       "      <td>0</td>\n",
       "      <td>0</td>\n",
       "      <td>0</td>\n",
       "      <td>0</td>\n",
       "      <td>0</td>\n",
       "      <td>0</td>\n",
       "    </tr>\n",
       "    <tr>\n",
       "      <th>missing_perc</th>\n",
       "      <td>0%</td>\n",
       "      <td>0%</td>\n",
       "      <td>0%</td>\n",
       "      <td>0%</td>\n",
       "      <td>0%</td>\n",
       "      <td>0%</td>\n",
       "      <td>0%</td>\n",
       "      <td>0%</td>\n",
       "      <td>0%</td>\n",
       "    </tr>\n",
       "    <tr>\n",
       "      <th>types</th>\n",
       "      <td>date</td>\n",
       "      <td>numeric</td>\n",
       "      <td>numeric</td>\n",
       "      <td>numeric</td>\n",
       "      <td>numeric</td>\n",
       "      <td>numeric</td>\n",
       "      <td>numeric</td>\n",
       "      <td>numeric</td>\n",
       "      <td>numeric</td>\n",
       "    </tr>\n",
       "  </tbody>\n",
       "</table>\n",
       "</div>"
      ],
      "text/plain": [
       "             pickup_datetime pickup_longitude pickup_latitude  \\\n",
       "count                    NaN             9914            9914   \n",
       "mean                     NaN         -73.9747          40.751   \n",
       "std                      NaN         0.042774       0.0335415   \n",
       "min                      NaN         -74.2522         40.5731   \n",
       "25%                      NaN         -73.9925         40.7361   \n",
       "50%                      NaN         -73.9823         40.7531   \n",
       "75%                      NaN          -73.968         40.7671   \n",
       "max                      NaN         -72.9865         41.7096   \n",
       "counts                  9914             9914            9914   \n",
       "uniques                 1753             5894            7857   \n",
       "missing                    0                0               0   \n",
       "missing_perc              0%               0%              0%   \n",
       "types                   date          numeric         numeric   \n",
       "\n",
       "             dropoff_longitude dropoff_latitude passenger_count  \\\n",
       "count                     9914             9914            9914   \n",
       "mean                  -73.9737          40.7517         1.67127   \n",
       "std                  0.0390719        0.0354352         1.27875   \n",
       "min                   -74.2632           40.569               1   \n",
       "25%                   -73.9912          40.7353               1   \n",
       "50%                     -73.98          40.7541               1   \n",
       "75%                   -73.9641          40.7688               2   \n",
       "max                    -72.991          41.6967               6   \n",
       "counts                    9914             9914            9914   \n",
       "uniques                   6174             8124               6   \n",
       "missing                      0                0               0   \n",
       "missing_perc                0%               0%              0%   \n",
       "types                  numeric          numeric         numeric   \n",
       "\n",
       "             abs_diff_longitude abs_diff_latitude simple_distance  \n",
       "count                      9914              9914            9914  \n",
       "mean                  0.0233484         0.0221326        0.045481  \n",
       "std                   0.0367193         0.0255887       0.0559748  \n",
       "min                           0                 0               0  \n",
       "25%                  0.00635529        0.00727844       0.0170059  \n",
       "50%                   0.0131226         0.0147152         0.02911  \n",
       "75%                   0.0245628         0.0282612       0.0529604  \n",
       "max                    0.849174          0.633213         1.47997  \n",
       "counts                     9914              9914            9914  \n",
       "uniques                    4896              6761            7793  \n",
       "missing                       0                 0               0  \n",
       "missing_perc                 0%                0%              0%  \n",
       "types                   numeric           numeric         numeric  "
      ]
     },
     "execution_count": 93,
     "metadata": {},
     "output_type": "execute_result"
    }
   ],
   "source": [
    "DataFrameSummary(test_df).summary()"
   ]
  },
  {
   "cell_type": "markdown",
   "metadata": {
    "heading_collapsed": true,
    "hidden": true
   },
   "source": [
    "## Range of min and max longitude and latitude values from test set"
   ]
  },
  {
   "cell_type": "markdown",
   "metadata": {
    "hidden": true
   },
   "source": [
    "The latitude of New York City, NY, USA is **40.730610**, and the longitude is **-73.935242**. "
   ]
  },
  {
   "cell_type": "code",
   "execution_count": 94,
   "metadata": {
    "hidden": true
   },
   "outputs": [],
   "source": [
    "plongmin, plongmax = test_df.pickup_longitude.min(),test_df.pickup_longitude.max()\n",
    "dlongmin, dlongmax = test_df.dropoff_longitude.min(),test_df.dropoff_longitude.max()\n",
    "platmin, platmax = test_df.pickup_latitude.min(),test_df.pickup_latitude.max()\n",
    "dlatmin, dlatmax = test_df.dropoff_latitude.min(),test_df.dropoff_latitude.max()"
   ]
  },
  {
   "cell_type": "code",
   "execution_count": 95,
   "metadata": {
    "hidden": true
   },
   "outputs": [
    {
     "name": "stdout",
     "output_type": "stream",
     "text": [
      "pickup longitude min and max:\t -74.25218963623047,  -72.98653411865234\n",
      "dropoff longitude min and max:\t -74.26324462890625,  -72.990966796875\n",
      "\n",
      "pickup latitude min and max:\t  40.573143005371094,  41.709556579589844\n",
      "dropoff longitude min and max:\t  40.568973541259766,  41.69668197631836\n"
     ]
    }
   ],
   "source": [
    "print(f\"pickup longitude min and max:\\t {plongmin},  {plongmax}\")\n",
    "print(f\"dropoff longitude min and max:\\t {dlongmin},  {dlongmax}\")\n",
    "print()\n",
    "print(f\"pickup latitude min and max:\\t  {platmin},  {platmax}\")\n",
    "print(f\"dropoff longitude min and max:\\t  {dlatmin},  {dlatmax}\")"
   ]
  },
  {
   "cell_type": "code",
   "execution_count": 98,
   "metadata": {
    "hidden": true
   },
   "outputs": [
    {
     "data": {
      "text/plain": [
       "(-74.56324462890625, -72.68653411865235, 40.26897354125977, 42.00955657958984)"
      ]
     },
     "execution_count": 98,
     "metadata": {},
     "output_type": "execute_result"
    }
   ],
   "source": [
    "step=0.3\n",
    "\n",
    "longmin_limit = min(plongmin,dlongmin)-step\n",
    "longmax_limit = max(plongmax, dlongmax)+step\n",
    "latmin_limit = min(platmin,dlatmin)-step \n",
    "latmax_limit = max(platmax,dlatmax)+step\n",
    "\n",
    "longmin_limit, longmax_limit, latmin_limit, latmax_limit"
   ]
  },
  {
   "cell_type": "code",
   "execution_count": 99,
   "metadata": {
    "hidden": true
   },
   "outputs": [
    {
     "data": {
      "text/plain": [
       "(1108744, 1104470, 1104873, 1105212)"
      ]
     },
     "execution_count": 99,
     "metadata": {},
     "output_type": "execute_result"
    }
   ],
   "source": [
    "is_outside_plong = ~train_df.pickup_longitude.between(plongmin,plongmax)\n",
    "is_outside_plat = ~train_df.pickup_latitude.between(platmin,platmax)\n",
    "\n",
    "is_outside_dlong = ~train_df.dropoff_longitude.between(dlongmin,dlongmax)\n",
    "is_outside_dlat = ~train_df.dropoff_latitude.between(dlatmin,dlatmax)\n",
    "\n",
    "is_outside_plong.sum(), is_outside_plat.sum(), is_outside_dlong.sum(), is_outside_dlat.sum()"
   ]
  },
  {
   "cell_type": "code",
   "execution_count": 100,
   "metadata": {
    "hidden": true
   },
   "outputs": [
    {
     "data": {
      "text/plain": [
       "1186729"
      ]
     },
     "execution_count": 100,
     "metadata": {},
     "output_type": "execute_result"
    }
   ],
   "source": [
    "is_outside_range = is_outside_plong | is_outside_plat | is_outside_dlong | is_outside_dlat\n",
    "is_outside_range.sum()"
   ]
  },
  {
   "cell_type": "code",
   "execution_count": 101,
   "metadata": {
    "hidden": true
   },
   "outputs": [
    {
     "data": {
      "text/plain": [
       "(1102761, 1096881, 1097710, 1095475)"
      ]
     },
     "execution_count": 101,
     "metadata": {},
     "output_type": "execute_result"
    }
   ],
   "source": [
    "is_outside_plong = ~train_df.pickup_longitude.between(longmin_limit,longmax_limit)\n",
    "is_outside_plat = ~train_df.pickup_latitude.between(latmin_limit,latmax_limit)\n",
    "\n",
    "is_outside_dlong = ~train_df.dropoff_longitude.between(longmin_limit,longmax_limit)\n",
    "is_outside_dlat = ~train_df.dropoff_latitude.between(latmin_limit,latmax_limit)\n",
    "\n",
    "is_outside_plong.sum(), is_outside_plat.sum(), is_outside_dlong.sum(), is_outside_dlat.sum()"
   ]
  },
  {
   "cell_type": "code",
   "execution_count": 102,
   "metadata": {
    "hidden": true
   },
   "outputs": [
    {
     "data": {
      "text/plain": [
       "1170362"
      ]
     },
     "execution_count": 102,
     "metadata": {},
     "output_type": "execute_result"
    }
   ],
   "source": [
    "is_outside_range = is_outside_plong | is_outside_plat | is_outside_dlong | is_outside_dlat\n",
    "is_outside_range.sum()"
   ]
  },
  {
   "cell_type": "code",
   "execution_count": 103,
   "metadata": {
    "hidden": true
   },
   "outputs": [
    {
     "name": "stdout",
     "output_type": "stream",
     "text": [
      "Old size: 55423480\n",
      "New size: 54253118\n"
     ]
    }
   ],
   "source": [
    "print('Old size: %d' % len(train_df))\n",
    "train_df = train_df[~is_outside_range]\n",
    "print('New size: %d' % len(train_df))"
   ]
  },
  {
   "cell_type": "markdown",
   "metadata": {
    "heading_collapsed": true,
    "hidden": true
   },
   "source": [
    "## Checkpoint 1"
   ]
  },
  {
   "cell_type": "code",
   "execution_count": 104,
   "metadata": {
    "hidden": true
   },
   "outputs": [],
   "source": [
    "# reset_index after removing rows, in order to be able to save to feather\n",
    "train_df.reset_index(drop=True, inplace=True)"
   ]
  },
  {
   "cell_type": "code",
   "execution_count": 105,
   "metadata": {
    "hidden": true
   },
   "outputs": [
    {
     "name": "stdout",
     "output_type": "stream",
     "text": [
      "Wall time: 30.3 s\n"
     ]
    }
   ],
   "source": [
    "%%time\n",
    "train_df.to_feather('tmp/taxi-train-v2-chkpt1')"
   ]
  },
  {
   "cell_type": "code",
   "execution_count": 106,
   "metadata": {
    "hidden": true
   },
   "outputs": [
    {
     "name": "stdout",
     "output_type": "stream",
     "text": [
      "Wall time: 172 ms\n"
     ]
    }
   ],
   "source": [
    "%%time\n",
    "test_df.to_feather('tmp/taxi-test-v2-chkpt1')"
   ]
  },
  {
   "cell_type": "code",
   "execution_count": 121,
   "metadata": {
    "hidden": true
   },
   "outputs": [
    {
     "name": "stdout",
     "output_type": "stream",
     "text": [
      "Wall time: 1.77 s\n"
     ]
    }
   ],
   "source": [
    "%%time\n",
    "train_df = pd.read_feather('tmp/taxi-train-v2-chkpt1')"
   ]
  },
  {
   "cell_type": "code",
   "execution_count": 122,
   "metadata": {
    "hidden": true
   },
   "outputs": [
    {
     "name": "stdout",
     "output_type": "stream",
     "text": [
      "Wall time: 2 ms\n"
     ]
    }
   ],
   "source": [
    "%%time\n",
    "test_df = pd.read_feather('tmp/taxi-test-v2-chkpt1')"
   ]
  },
  {
   "cell_type": "markdown",
   "metadata": {
    "heading_collapsed": true,
    "hidden": true
   },
   "source": [
    "## Distance"
   ]
  },
  {
   "cell_type": "code",
   "execution_count": 123,
   "metadata": {
    "hidden": true
   },
   "outputs": [
    {
     "data": {
      "text/plain": [
       "(0.0, 0.0, 0.0)"
      ]
     },
     "execution_count": 123,
     "metadata": {},
     "output_type": "execute_result"
    }
   ],
   "source": [
    "test_df.simple_distance.min(), test_df.abs_diff_latitude.min(),  test_df.abs_diff_longitude.min()"
   ]
  },
  {
   "cell_type": "code",
   "execution_count": 124,
   "metadata": {
    "hidden": true
   },
   "outputs": [
    {
     "data": {
      "text/plain": [
       "(85, 85, 87)"
      ]
     },
     "execution_count": 124,
     "metadata": {},
     "output_type": "execute_result"
    }
   ],
   "source": [
    "# zero travel distance - cancellation? minimum payment such as booking fee?\n",
    "\n",
    "(len(test_df[test_df.simple_distance == 0]), \n",
    "len(test_df[test_df.abs_diff_latitude == 0]),\n",
    "len(test_df[test_df.abs_diff_longitude == 0]))"
   ]
  },
  {
   "cell_type": "code",
   "execution_count": 125,
   "metadata": {
    "hidden": true
   },
   "outputs": [
    {
     "data": {
      "text/plain": [
       "(0.0, 0.0, 0.0)"
      ]
     },
     "execution_count": 125,
     "metadata": {},
     "output_type": "execute_result"
    }
   ],
   "source": [
    "train_df.simple_distance.min(), train_df.abs_diff_latitude.min(), train_df.abs_diff_longitude.min()"
   ]
  },
  {
   "cell_type": "code",
   "execution_count": 126,
   "metadata": {
    "hidden": true
   },
   "outputs": [
    {
     "data": {
      "text/plain": [
       "(584182, 600373, 614239)"
      ]
     },
     "execution_count": 126,
     "metadata": {},
     "output_type": "execute_result"
    }
   ],
   "source": [
    "(len(train_df[train_df.simple_distance == 0]), \n",
    "len(train_df[train_df.abs_diff_latitude == 0]),\n",
    "len(train_df[train_df.abs_diff_longitude == 0]))"
   ]
  },
  {
   "cell_type": "code",
   "execution_count": 127,
   "metadata": {
    "hidden": true
   },
   "outputs": [
    {
     "data": {
      "text/html": [
       "<div>\n",
       "<style scoped>\n",
       "    .dataframe tbody tr th:only-of-type {\n",
       "        vertical-align: middle;\n",
       "    }\n",
       "\n",
       "    .dataframe tbody tr th {\n",
       "        vertical-align: top;\n",
       "    }\n",
       "\n",
       "    .dataframe thead th {\n",
       "        text-align: right;\n",
       "    }\n",
       "</style>\n",
       "<table border=\"1\" class=\"dataframe\">\n",
       "  <thead>\n",
       "    <tr style=\"text-align: right;\">\n",
       "      <th></th>\n",
       "      <th>fare_amount</th>\n",
       "      <th>pickup_longitude</th>\n",
       "      <th>pickup_latitude</th>\n",
       "      <th>dropoff_longitude</th>\n",
       "      <th>dropoff_latitude</th>\n",
       "      <th>passenger_count</th>\n",
       "      <th>abs_diff_longitude</th>\n",
       "      <th>abs_diff_latitude</th>\n",
       "      <th>simple_distance</th>\n",
       "    </tr>\n",
       "  </thead>\n",
       "  <tbody>\n",
       "    <tr>\n",
       "      <th>count</th>\n",
       "      <td>584182.000000</td>\n",
       "      <td>584182.000000</td>\n",
       "      <td>584182.000000</td>\n",
       "      <td>584182.000000</td>\n",
       "      <td>584182.000000</td>\n",
       "      <td>584182.000000</td>\n",
       "      <td>584182.0</td>\n",
       "      <td>584182.0</td>\n",
       "      <td>584182.0</td>\n",
       "    </tr>\n",
       "    <tr>\n",
       "      <th>mean</th>\n",
       "      <td>11.293105</td>\n",
       "      <td>-73.943489</td>\n",
       "      <td>40.760910</td>\n",
       "      <td>-73.943489</td>\n",
       "      <td>40.760910</td>\n",
       "      <td>1.666486</td>\n",
       "      <td>0.0</td>\n",
       "      <td>0.0</td>\n",
       "      <td>0.0</td>\n",
       "    </tr>\n",
       "    <tr>\n",
       "      <th>std</th>\n",
       "      <td>16.132507</td>\n",
       "      <td>0.137193</td>\n",
       "      <td>0.100673</td>\n",
       "      <td>0.137193</td>\n",
       "      <td>0.100673</td>\n",
       "      <td>1.326600</td>\n",
       "      <td>0.0</td>\n",
       "      <td>0.0</td>\n",
       "      <td>0.0</td>\n",
       "    </tr>\n",
       "    <tr>\n",
       "      <th>min</th>\n",
       "      <td>-100.000000</td>\n",
       "      <td>-74.561195</td>\n",
       "      <td>40.273090</td>\n",
       "      <td>-74.561195</td>\n",
       "      <td>40.273090</td>\n",
       "      <td>0.000000</td>\n",
       "      <td>0.0</td>\n",
       "      <td>0.0</td>\n",
       "      <td>0.0</td>\n",
       "    </tr>\n",
       "    <tr>\n",
       "      <th>25%</th>\n",
       "      <td>4.900000</td>\n",
       "      <td>-73.990662</td>\n",
       "      <td>40.733696</td>\n",
       "      <td>-73.990662</td>\n",
       "      <td>40.733696</td>\n",
       "      <td>1.000000</td>\n",
       "      <td>0.0</td>\n",
       "      <td>0.0</td>\n",
       "      <td>0.0</td>\n",
       "    </tr>\n",
       "    <tr>\n",
       "      <th>50%</th>\n",
       "      <td>6.900000</td>\n",
       "      <td>-73.975677</td>\n",
       "      <td>40.752262</td>\n",
       "      <td>-73.975677</td>\n",
       "      <td>40.752262</td>\n",
       "      <td>1.000000</td>\n",
       "      <td>0.0</td>\n",
       "      <td>0.0</td>\n",
       "      <td>0.0</td>\n",
       "    </tr>\n",
       "    <tr>\n",
       "      <th>75%</th>\n",
       "      <td>10.500000</td>\n",
       "      <td>-73.948006</td>\n",
       "      <td>40.767849</td>\n",
       "      <td>-73.948006</td>\n",
       "      <td>40.767849</td>\n",
       "      <td>2.000000</td>\n",
       "      <td>0.0</td>\n",
       "      <td>0.0</td>\n",
       "      <td>0.0</td>\n",
       "    </tr>\n",
       "    <tr>\n",
       "      <th>max</th>\n",
       "      <td>3130.300049</td>\n",
       "      <td>-72.716026</td>\n",
       "      <td>41.916325</td>\n",
       "      <td>-72.716026</td>\n",
       "      <td>41.916325</td>\n",
       "      <td>208.000000</td>\n",
       "      <td>0.0</td>\n",
       "      <td>0.0</td>\n",
       "      <td>0.0</td>\n",
       "    </tr>\n",
       "  </tbody>\n",
       "</table>\n",
       "</div>"
      ],
      "text/plain": [
       "         fare_amount  pickup_longitude  pickup_latitude  dropoff_longitude  \\\n",
       "count  584182.000000     584182.000000    584182.000000      584182.000000   \n",
       "mean       11.293105        -73.943489        40.760910         -73.943489   \n",
       "std        16.132507          0.137193         0.100673           0.137193   \n",
       "min      -100.000000        -74.561195        40.273090         -74.561195   \n",
       "25%         4.900000        -73.990662        40.733696         -73.990662   \n",
       "50%         6.900000        -73.975677        40.752262         -73.975677   \n",
       "75%        10.500000        -73.948006        40.767849         -73.948006   \n",
       "max      3130.300049        -72.716026        41.916325         -72.716026   \n",
       "\n",
       "       dropoff_latitude  passenger_count  abs_diff_longitude  \\\n",
       "count     584182.000000    584182.000000            584182.0   \n",
       "mean          40.760910         1.666486                 0.0   \n",
       "std            0.100673         1.326600                 0.0   \n",
       "min           40.273090         0.000000                 0.0   \n",
       "25%           40.733696         1.000000                 0.0   \n",
       "50%           40.752262         1.000000                 0.0   \n",
       "75%           40.767849         2.000000                 0.0   \n",
       "max           41.916325       208.000000                 0.0   \n",
       "\n",
       "       abs_diff_latitude  simple_distance  \n",
       "count           584182.0         584182.0  \n",
       "mean                 0.0              0.0  \n",
       "std                  0.0              0.0  \n",
       "min                  0.0              0.0  \n",
       "25%                  0.0              0.0  \n",
       "50%                  0.0              0.0  \n",
       "75%                  0.0              0.0  \n",
       "max                  0.0              0.0  "
      ]
     },
     "execution_count": 127,
     "metadata": {},
     "output_type": "execute_result"
    }
   ],
   "source": [
    "# check fare_amount for zero travel distance from training data\n",
    "train_df[train_df.simple_distance == 0].describe()"
   ]
  },
  {
   "cell_type": "raw",
   "metadata": {
    "hidden": true
   },
   "source": [
    "From -$100 to $3130 for zero travel distance!"
   ]
  },
  {
   "cell_type": "code",
   "execution_count": 128,
   "metadata": {
    "hidden": true
   },
   "outputs": [
    {
     "data": {
      "text/html": [
       "<div>\n",
       "<style scoped>\n",
       "    .dataframe tbody tr th:only-of-type {\n",
       "        vertical-align: middle;\n",
       "    }\n",
       "\n",
       "    .dataframe tbody tr th {\n",
       "        vertical-align: top;\n",
       "    }\n",
       "\n",
       "    .dataframe thead th {\n",
       "        text-align: right;\n",
       "    }\n",
       "</style>\n",
       "<table border=\"1\" class=\"dataframe\">\n",
       "  <thead>\n",
       "    <tr style=\"text-align: right;\">\n",
       "      <th></th>\n",
       "      <th>pickup_longitude</th>\n",
       "      <th>pickup_latitude</th>\n",
       "      <th>dropoff_longitude</th>\n",
       "      <th>dropoff_latitude</th>\n",
       "      <th>passenger_count</th>\n",
       "      <th>abs_diff_longitude</th>\n",
       "      <th>abs_diff_latitude</th>\n",
       "      <th>simple_distance</th>\n",
       "    </tr>\n",
       "  </thead>\n",
       "  <tbody>\n",
       "    <tr>\n",
       "      <th>count</th>\n",
       "      <td>9914.000000</td>\n",
       "      <td>9914.000000</td>\n",
       "      <td>9914.000000</td>\n",
       "      <td>9914.000000</td>\n",
       "      <td>9914.000000</td>\n",
       "      <td>9914.000000</td>\n",
       "      <td>9914.000000</td>\n",
       "      <td>9914.000000</td>\n",
       "    </tr>\n",
       "    <tr>\n",
       "      <th>mean</th>\n",
       "      <td>-73.974716</td>\n",
       "      <td>40.751041</td>\n",
       "      <td>-73.973656</td>\n",
       "      <td>40.751740</td>\n",
       "      <td>1.671273</td>\n",
       "      <td>0.023348</td>\n",
       "      <td>0.022133</td>\n",
       "      <td>0.045481</td>\n",
       "    </tr>\n",
       "    <tr>\n",
       "      <th>std</th>\n",
       "      <td>0.042774</td>\n",
       "      <td>0.033541</td>\n",
       "      <td>0.039072</td>\n",
       "      <td>0.035435</td>\n",
       "      <td>1.278747</td>\n",
       "      <td>0.036719</td>\n",
       "      <td>0.025589</td>\n",
       "      <td>0.055975</td>\n",
       "    </tr>\n",
       "    <tr>\n",
       "      <th>min</th>\n",
       "      <td>-74.252190</td>\n",
       "      <td>40.573143</td>\n",
       "      <td>-74.263245</td>\n",
       "      <td>40.568974</td>\n",
       "      <td>1.000000</td>\n",
       "      <td>0.000000</td>\n",
       "      <td>0.000000</td>\n",
       "      <td>0.000000</td>\n",
       "    </tr>\n",
       "    <tr>\n",
       "      <th>25%</th>\n",
       "      <td>-73.992500</td>\n",
       "      <td>40.736125</td>\n",
       "      <td>-73.991249</td>\n",
       "      <td>40.735253</td>\n",
       "      <td>1.000000</td>\n",
       "      <td>0.006355</td>\n",
       "      <td>0.007278</td>\n",
       "      <td>0.017006</td>\n",
       "    </tr>\n",
       "    <tr>\n",
       "      <th>50%</th>\n",
       "      <td>-73.982327</td>\n",
       "      <td>40.753052</td>\n",
       "      <td>-73.980015</td>\n",
       "      <td>40.754065</td>\n",
       "      <td>1.000000</td>\n",
       "      <td>0.013123</td>\n",
       "      <td>0.014715</td>\n",
       "      <td>0.029110</td>\n",
       "    </tr>\n",
       "    <tr>\n",
       "      <th>75%</th>\n",
       "      <td>-73.968012</td>\n",
       "      <td>40.767113</td>\n",
       "      <td>-73.964062</td>\n",
       "      <td>40.768757</td>\n",
       "      <td>2.000000</td>\n",
       "      <td>0.024563</td>\n",
       "      <td>0.028261</td>\n",
       "      <td>0.052960</td>\n",
       "    </tr>\n",
       "    <tr>\n",
       "      <th>max</th>\n",
       "      <td>-72.986534</td>\n",
       "      <td>41.709557</td>\n",
       "      <td>-72.990967</td>\n",
       "      <td>41.696682</td>\n",
       "      <td>6.000000</td>\n",
       "      <td>0.849174</td>\n",
       "      <td>0.633213</td>\n",
       "      <td>1.479969</td>\n",
       "    </tr>\n",
       "  </tbody>\n",
       "</table>\n",
       "</div>"
      ],
      "text/plain": [
       "       pickup_longitude  pickup_latitude  dropoff_longitude  dropoff_latitude  \\\n",
       "count       9914.000000      9914.000000        9914.000000       9914.000000   \n",
       "mean         -73.974716        40.751041         -73.973656         40.751740   \n",
       "std            0.042774         0.033541           0.039072          0.035435   \n",
       "min          -74.252190        40.573143         -74.263245         40.568974   \n",
       "25%          -73.992500        40.736125         -73.991249         40.735253   \n",
       "50%          -73.982327        40.753052         -73.980015         40.754065   \n",
       "75%          -73.968012        40.767113         -73.964062         40.768757   \n",
       "max          -72.986534        41.709557         -72.990967         41.696682   \n",
       "\n",
       "       passenger_count  abs_diff_longitude  abs_diff_latitude  simple_distance  \n",
       "count      9914.000000         9914.000000        9914.000000      9914.000000  \n",
       "mean          1.671273            0.023348           0.022133         0.045481  \n",
       "std           1.278747            0.036719           0.025589         0.055975  \n",
       "min           1.000000            0.000000           0.000000         0.000000  \n",
       "25%           1.000000            0.006355           0.007278         0.017006  \n",
       "50%           1.000000            0.013123           0.014715         0.029110  \n",
       "75%           2.000000            0.024563           0.028261         0.052960  \n",
       "max           6.000000            0.849174           0.633213         1.479969  "
      ]
     },
     "execution_count": 128,
     "metadata": {},
     "output_type": "execute_result"
    }
   ],
   "source": [
    "test_df.describe()"
   ]
  },
  {
   "cell_type": "code",
   "execution_count": 129,
   "metadata": {
    "hidden": true
   },
   "outputs": [
    {
     "data": {
      "text/plain": [
       "(1.479969, 0.63321304, 0.8491745)"
      ]
     },
     "execution_count": 129,
     "metadata": {},
     "output_type": "execute_result"
    }
   ],
   "source": [
    "test_df.simple_distance.max(), test_df.abs_diff_latitude.max(), test_df.abs_diff_longitude.max()"
   ]
  },
  {
   "cell_type": "code",
   "execution_count": 130,
   "metadata": {
    "hidden": true
   },
   "outputs": [
    {
     "data": {
      "text/plain": [
       "(2.3284569, 1.4536896, 1.4086685)"
      ]
     },
     "execution_count": 130,
     "metadata": {},
     "output_type": "execute_result"
    }
   ],
   "source": [
    "train_df.simple_distance.max(), train_df.abs_diff_latitude.max(), train_df.abs_diff_longitude.max()"
   ]
  },
  {
   "cell_type": "code",
   "execution_count": 131,
   "metadata": {
    "hidden": true
   },
   "outputs": [
    {
     "data": {
      "text/plain": [
       "(48, 82, 80)"
      ]
     },
     "execution_count": 131,
     "metadata": {},
     "output_type": "execute_result"
    }
   ],
   "source": [
    "step = 0.2 #tweakable\n",
    "\n",
    "is_outside_abs_diff_longitude = train_df.abs_diff_longitude>test_df.abs_diff_longitude.max()+step\n",
    "is_outside_abs_diff_latitude = train_df.abs_diff_latitude>test_df.abs_diff_latitude.max()+step\n",
    "is_outside_simple_distance = train_df.simple_distance>test_df.simple_distance.max()+step\n",
    "\n",
    "is_outside_abs_diff_longitude.sum(),is_outside_abs_diff_latitude.sum(), is_outside_simple_distance.sum()"
   ]
  },
  {
   "cell_type": "code",
   "execution_count": 132,
   "metadata": {
    "hidden": true
   },
   "outputs": [
    {
     "data": {
      "text/plain": [
       "193"
      ]
     },
     "execution_count": 132,
     "metadata": {},
     "output_type": "execute_result"
    }
   ],
   "source": [
    "is_outside_extreme_range = is_outside_abs_diff_longitude | is_outside_abs_diff_latitude | is_outside_simple_distance\n",
    "is_outside_extreme_range.sum()"
   ]
  },
  {
   "cell_type": "code",
   "execution_count": 133,
   "metadata": {
    "hidden": true
   },
   "outputs": [
    {
     "name": "stdout",
     "output_type": "stream",
     "text": [
      "Old size: 54253118\n",
      "New size: 54252925\n"
     ]
    }
   ],
   "source": [
    "print('Old size: %d' % len(train_df))\n",
    "train_df = train_df[~is_outside_extreme_range]\n",
    "print('New size: %d' % len(train_df))"
   ]
  },
  {
   "cell_type": "markdown",
   "metadata": {
    "heading_collapsed": true
   },
   "source": [
    "# Passenger Count"
   ]
  },
  {
   "cell_type": "code",
   "execution_count": 134,
   "metadata": {
    "hidden": true
   },
   "outputs": [
    {
     "data": {
      "text/plain": [
       "<matplotlib.axes._subplots.AxesSubplot at 0x1c9109a2630>"
      ]
     },
     "execution_count": 134,
     "metadata": {},
     "output_type": "execute_result"
    },
    {
     "data": {
      "image/png": "[encoded data removed]",
      "text/plain": [
       "<Figure size 432x288 with 1 Axes>"
      ]
     },
     "metadata": {},
     "output_type": "display_data"
    }
   ],
   "source": [
    "test_df.passenger_count.plot(kind='hist',bins=6)"
   ]
  },
  {
   "cell_type": "code",
   "execution_count": 135,
   "metadata": {
    "hidden": true
   },
   "outputs": [
    {
     "data": {
      "text/plain": [
       "1    6914\n",
       "2    1474\n",
       "5     696\n",
       "3     447\n",
       "4     206\n",
       "6     177\n",
       "Name: passenger_count, dtype: int64"
      ]
     },
     "execution_count": 135,
     "metadata": {},
     "output_type": "execute_result"
    }
   ],
   "source": [
    "test_df.passenger_count.value_counts()"
   ]
  },
  {
   "cell_type": "code",
   "execution_count": 136,
   "metadata": {
    "hidden": true
   },
   "outputs": [
    {
     "data": {
      "text/plain": [
       "0        190842\n",
       "1      37518086\n",
       "2       8013253\n",
       "3       2383015\n",
       "4       1155599\n",
       "5       3841813\n",
       "6       1150252\n",
       "7            13\n",
       "8             7\n",
       "9            21\n",
       "129           2\n",
       "208          22\n",
       "Name: passenger_count, dtype: int64"
      ]
     },
     "execution_count": 136,
     "metadata": {},
     "output_type": "execute_result"
    }
   ],
   "source": [
    "train_df.passenger_count.value_counts().sort_index()"
   ]
  },
  {
   "cell_type": "code",
   "execution_count": 137,
   "metadata": {
    "hidden": true
   },
   "outputs": [
    {
     "data": {
      "text/plain": [
       "190907"
      ]
     },
     "execution_count": 137,
     "metadata": {},
     "output_type": "execute_result"
    }
   ],
   "source": [
    "# number rows with passenger = 0 or more than 6\n",
    "len(train_df[(train_df.passenger_count == 0) | (train_df.passenger_count > 6)])"
   ]
  },
  {
   "cell_type": "code",
   "execution_count": 138,
   "metadata": {
    "hidden": true,
    "scrolled": true
   },
   "outputs": [
    {
     "name": "stdout",
     "output_type": "stream",
     "text": [
      "Old size: 54252925\n",
      "New size: 54062018\n"
     ]
    }
   ],
   "source": [
    "print('Old size: %d' % len(train_df))\n",
    "train_df = train_df[(train_df.passenger_count > 0) & (train_df.passenger_count < 7)]\n",
    "print('New size: %d' % len(train_df))"
   ]
  },
  {
   "cell_type": "markdown",
   "metadata": {
    "heading_collapsed": true,
    "hidden": true
   },
   "source": [
    "## Checkpoint 2"
   ]
  },
  {
   "cell_type": "code",
   "execution_count": 139,
   "metadata": {
    "hidden": true
   },
   "outputs": [],
   "source": [
    "# reset_index after removing rows, in order to be able to save to feather\n",
    "train_df.reset_index(drop=True, inplace=True)"
   ]
  },
  {
   "cell_type": "code",
   "execution_count": 140,
   "metadata": {
    "hidden": true
   },
   "outputs": [
    {
     "name": "stdout",
     "output_type": "stream",
     "text": [
      "Wall time: 25.9 s\n"
     ]
    }
   ],
   "source": [
    "%%time\n",
    "train_df.to_feather('tmp/taxi-train-v2-chkpt2')"
   ]
  },
  {
   "cell_type": "code",
   "execution_count": 141,
   "metadata": {
    "hidden": true
   },
   "outputs": [
    {
     "name": "stdout",
     "output_type": "stream",
     "text": [
      "Wall time: 77.5 ms\n"
     ]
    }
   ],
   "source": [
    "%%time\n",
    "test_df.to_feather('tmp/taxi-test-v2-chkpt2')"
   ]
  },
  {
   "cell_type": "code",
   "execution_count": 142,
   "metadata": {
    "hidden": true
   },
   "outputs": [
    {
     "name": "stdout",
     "output_type": "stream",
     "text": [
      "Wall time: 1.86 s\n"
     ]
    }
   ],
   "source": [
    "%%time\n",
    "train_df = pd.read_feather('tmp/taxi-train-v2-chkpt2')"
   ]
  },
  {
   "cell_type": "code",
   "execution_count": 143,
   "metadata": {
    "hidden": true
   },
   "outputs": [
    {
     "name": "stdout",
     "output_type": "stream",
     "text": [
      "Wall time: 0 ns\n"
     ]
    }
   ],
   "source": [
    "%%time\n",
    "test_df = pd.read_feather('tmp/taxi-test-v2-chkpt2')"
   ]
  },
  {
   "cell_type": "markdown",
   "metadata": {},
   "source": [
    "# Fare Amount"
   ]
  },
  {
   "cell_type": "code",
   "execution_count": 144,
   "metadata": {},
   "outputs": [
    {
     "data": {
      "text/plain": [
       "(8.5, 11.332756)"
      ]
     },
     "execution_count": 144,
     "metadata": {},
     "output_type": "execute_result"
    }
   ],
   "source": [
    "train_df.fare_amount.median(), train_df.fare_amount.mean()"
   ]
  },
  {
   "cell_type": "code",
   "execution_count": 150,
   "metadata": {},
   "outputs": [
    {
     "data": {
      "text/plain": [
       "(52.099998474121094, 78.75, 140.0, 240.0)"
      ]
     },
     "execution_count": 150,
     "metadata": {},
     "output_type": "execute_result"
    }
   ],
   "source": [
    "(train_df.fare_amount.quantile(0.99), train_df.fare_amount.quantile(0.999),\n",
    " train_df.fare_amount.quantile(0.9999),train_df.fare_amount.quantile(0.99999))"
   ]
  },
  {
   "cell_type": "code",
   "execution_count": 151,
   "metadata": {},
   "outputs": [
    {
     "data": {
      "text/plain": [
       "(540334, 53831, 5405, 539)"
      ]
     },
     "execution_count": 151,
     "metadata": {},
     "output_type": "execute_result"
    }
   ],
   "source": [
    "(len(train_df[(train_df.fare_amount>train_df.fare_amount.quantile(0.99))]),\n",
    "len(train_df[(train_df.fare_amount>train_df.fare_amount.quantile(0.999))]),\n",
    " len(train_df[(train_df.fare_amount>train_df.fare_amount.quantile(0.9999))]),\n",
    "len(train_df[(train_df.fare_amount>train_df.fare_amount.quantile(0.99999))]))"
   ]
  },
  {
   "cell_type": "code",
   "execution_count": 146,
   "metadata": {},
   "outputs": [
    {
     "data": {
      "text/plain": [
       "1118"
      ]
     },
     "execution_count": 146,
     "metadata": {},
     "output_type": "execute_result"
    }
   ],
   "source": [
    "len(train_df[(train_df.fare_amount==0)]) # those who paid nothing"
   ]
  },
  {
   "cell_type": "code",
   "execution_count": 147,
   "metadata": {},
   "outputs": [
    {
     "data": {
      "text/plain": [
       "2205"
      ]
     },
     "execution_count": 147,
     "metadata": {},
     "output_type": "execute_result"
    }
   ],
   "source": [
    "len(train_df[(train_df.fare_amount<0)])  # those who had refund?"
   ]
  },
  {
   "cell_type": "code",
   "execution_count": 152,
   "metadata": {},
   "outputs": [],
   "source": [
    "fare_amount_threshold = 150"
   ]
  },
  {
   "cell_type": "code",
   "execution_count": 153,
   "metadata": {},
   "outputs": [
    {
     "name": "stdout",
     "output_type": "stream",
     "text": [
      "Old size: 54062018\n",
      "New size: 54054206\n"
     ]
    }
   ],
   "source": [
    "print('Old size: %d' % len(train_df))\n",
    "train_df = train_df[(train_df.fare_amount>0) & (train_df.fare_amount<fare_amount_threshold)] # tweakable\n",
    "print('New size: %d' % len(train_df))"
   ]
  },
  {
   "cell_type": "code",
   "execution_count": 154,
   "metadata": {},
   "outputs": [
    {
     "data": {
      "text/html": [
       "<div>\n",
       "<style scoped>\n",
       "    .dataframe tbody tr th:only-of-type {\n",
       "        vertical-align: middle;\n",
       "    }\n",
       "\n",
       "    .dataframe tbody tr th {\n",
       "        vertical-align: top;\n",
       "    }\n",
       "\n",
       "    .dataframe thead th {\n",
       "        text-align: right;\n",
       "    }\n",
       "</style>\n",
       "<table border=\"1\" class=\"dataframe\">\n",
       "  <thead>\n",
       "    <tr style=\"text-align: right;\">\n",
       "      <th></th>\n",
       "      <th>fare_amount</th>\n",
       "      <th>pickup_longitude</th>\n",
       "      <th>pickup_latitude</th>\n",
       "      <th>dropoff_longitude</th>\n",
       "      <th>dropoff_latitude</th>\n",
       "      <th>passenger_count</th>\n",
       "      <th>abs_diff_longitude</th>\n",
       "      <th>abs_diff_latitude</th>\n",
       "      <th>simple_distance</th>\n",
       "    </tr>\n",
       "  </thead>\n",
       "  <tbody>\n",
       "    <tr>\n",
       "      <th>count</th>\n",
       "      <td>582641.000000</td>\n",
       "      <td>582641.000000</td>\n",
       "      <td>582641.000000</td>\n",
       "      <td>582641.000000</td>\n",
       "      <td>582641.000000</td>\n",
       "      <td>582641.000000</td>\n",
       "      <td>582641.0</td>\n",
       "      <td>582641.0</td>\n",
       "      <td>582641.0</td>\n",
       "    </tr>\n",
       "    <tr>\n",
       "      <th>mean</th>\n",
       "      <td>11.051130</td>\n",
       "      <td>-73.943596</td>\n",
       "      <td>40.760849</td>\n",
       "      <td>-73.943596</td>\n",
       "      <td>40.760849</td>\n",
       "      <td>1.668237</td>\n",
       "      <td>0.0</td>\n",
       "      <td>0.0</td>\n",
       "      <td>0.0</td>\n",
       "    </tr>\n",
       "    <tr>\n",
       "      <th>std</th>\n",
       "      <td>13.634315</td>\n",
       "      <td>0.136692</td>\n",
       "      <td>0.100490</td>\n",
       "      <td>0.136692</td>\n",
       "      <td>0.100490</td>\n",
       "      <td>1.299024</td>\n",
       "      <td>0.0</td>\n",
       "      <td>0.0</td>\n",
       "      <td>0.0</td>\n",
       "    </tr>\n",
       "    <tr>\n",
       "      <th>min</th>\n",
       "      <td>0.010000</td>\n",
       "      <td>-74.561195</td>\n",
       "      <td>40.273090</td>\n",
       "      <td>-74.561195</td>\n",
       "      <td>40.273090</td>\n",
       "      <td>1.000000</td>\n",
       "      <td>0.0</td>\n",
       "      <td>0.0</td>\n",
       "      <td>0.0</td>\n",
       "    </tr>\n",
       "    <tr>\n",
       "      <th>25%</th>\n",
       "      <td>4.900000</td>\n",
       "      <td>-73.990646</td>\n",
       "      <td>40.733696</td>\n",
       "      <td>-73.990646</td>\n",
       "      <td>40.733696</td>\n",
       "      <td>1.000000</td>\n",
       "      <td>0.0</td>\n",
       "      <td>0.0</td>\n",
       "      <td>0.0</td>\n",
       "    </tr>\n",
       "    <tr>\n",
       "      <th>50%</th>\n",
       "      <td>6.900000</td>\n",
       "      <td>-73.975693</td>\n",
       "      <td>40.752258</td>\n",
       "      <td>-73.975693</td>\n",
       "      <td>40.752258</td>\n",
       "      <td>1.000000</td>\n",
       "      <td>0.0</td>\n",
       "      <td>0.0</td>\n",
       "      <td>0.0</td>\n",
       "    </tr>\n",
       "    <tr>\n",
       "      <th>75%</th>\n",
       "      <td>10.500000</td>\n",
       "      <td>-73.948097</td>\n",
       "      <td>40.767818</td>\n",
       "      <td>-73.948097</td>\n",
       "      <td>40.767818</td>\n",
       "      <td>2.000000</td>\n",
       "      <td>0.0</td>\n",
       "      <td>0.0</td>\n",
       "      <td>0.0</td>\n",
       "    </tr>\n",
       "    <tr>\n",
       "      <th>max</th>\n",
       "      <td>149.750000</td>\n",
       "      <td>-72.767593</td>\n",
       "      <td>41.916325</td>\n",
       "      <td>-72.767593</td>\n",
       "      <td>41.916325</td>\n",
       "      <td>6.000000</td>\n",
       "      <td>0.0</td>\n",
       "      <td>0.0</td>\n",
       "      <td>0.0</td>\n",
       "    </tr>\n",
       "  </tbody>\n",
       "</table>\n",
       "</div>"
      ],
      "text/plain": [
       "         fare_amount  pickup_longitude  pickup_latitude  dropoff_longitude  \\\n",
       "count  582641.000000     582641.000000    582641.000000      582641.000000   \n",
       "mean       11.051130        -73.943596        40.760849         -73.943596   \n",
       "std        13.634315          0.136692         0.100490           0.136692   \n",
       "min         0.010000        -74.561195        40.273090         -74.561195   \n",
       "25%         4.900000        -73.990646        40.733696         -73.990646   \n",
       "50%         6.900000        -73.975693        40.752258         -73.975693   \n",
       "75%        10.500000        -73.948097        40.767818         -73.948097   \n",
       "max       149.750000        -72.767593        41.916325         -72.767593   \n",
       "\n",
       "       dropoff_latitude  passenger_count  abs_diff_longitude  \\\n",
       "count     582641.000000    582641.000000            582641.0   \n",
       "mean          40.760849         1.668237                 0.0   \n",
       "std            0.100490         1.299024                 0.0   \n",
       "min           40.273090         1.000000                 0.0   \n",
       "25%           40.733696         1.000000                 0.0   \n",
       "50%           40.752258         1.000000                 0.0   \n",
       "75%           40.767818         2.000000                 0.0   \n",
       "max           41.916325         6.000000                 0.0   \n",
       "\n",
       "       abs_diff_latitude  simple_distance  \n",
       "count           582641.0         582641.0  \n",
       "mean                 0.0              0.0  \n",
       "std                  0.0              0.0  \n",
       "min                  0.0              0.0  \n",
       "25%                  0.0              0.0  \n",
       "50%                  0.0              0.0  \n",
       "75%                  0.0              0.0  \n",
       "max                  0.0              0.0  "
      ]
     },
     "execution_count": 154,
     "metadata": {},
     "output_type": "execute_result"
    }
   ],
   "source": [
    "# check fare_amount for zero travel distance from training data\n",
    "train_df[train_df.simple_distance == 0].describe()"
   ]
  },
  {
   "cell_type": "code",
   "execution_count": 155,
   "metadata": {},
   "outputs": [
    {
     "data": {
      "text/html": [
       "<div>\n",
       "<style scoped>\n",
       "    .dataframe tbody tr th:only-of-type {\n",
       "        vertical-align: middle;\n",
       "    }\n",
       "\n",
       "    .dataframe tbody tr th {\n",
       "        vertical-align: top;\n",
       "    }\n",
       "\n",
       "    .dataframe thead th {\n",
       "        text-align: right;\n",
       "    }\n",
       "</style>\n",
       "<table border=\"1\" class=\"dataframe\">\n",
       "  <thead>\n",
       "    <tr style=\"text-align: right;\">\n",
       "      <th></th>\n",
       "      <th>pickup_longitude</th>\n",
       "      <th>pickup_latitude</th>\n",
       "      <th>dropoff_longitude</th>\n",
       "      <th>dropoff_latitude</th>\n",
       "      <th>passenger_count</th>\n",
       "      <th>abs_diff_longitude</th>\n",
       "      <th>abs_diff_latitude</th>\n",
       "      <th>simple_distance</th>\n",
       "    </tr>\n",
       "  </thead>\n",
       "  <tbody>\n",
       "    <tr>\n",
       "      <th>count</th>\n",
       "      <td>85.000000</td>\n",
       "      <td>85.000000</td>\n",
       "      <td>85.000000</td>\n",
       "      <td>85.000000</td>\n",
       "      <td>85.000000</td>\n",
       "      <td>85.0</td>\n",
       "      <td>85.0</td>\n",
       "      <td>85.0</td>\n",
       "    </tr>\n",
       "    <tr>\n",
       "      <th>mean</th>\n",
       "      <td>-73.922089</td>\n",
       "      <td>40.781349</td>\n",
       "      <td>-73.922089</td>\n",
       "      <td>40.781349</td>\n",
       "      <td>1.741176</td>\n",
       "      <td>0.0</td>\n",
       "      <td>0.0</td>\n",
       "      <td>0.0</td>\n",
       "    </tr>\n",
       "    <tr>\n",
       "      <th>std</th>\n",
       "      <td>0.181695</td>\n",
       "      <td>0.134858</td>\n",
       "      <td>0.181695</td>\n",
       "      <td>0.134858</td>\n",
       "      <td>1.337668</td>\n",
       "      <td>0.0</td>\n",
       "      <td>0.0</td>\n",
       "      <td>0.0</td>\n",
       "    </tr>\n",
       "    <tr>\n",
       "      <th>min</th>\n",
       "      <td>-74.047394</td>\n",
       "      <td>40.622555</td>\n",
       "      <td>-74.047394</td>\n",
       "      <td>40.622555</td>\n",
       "      <td>1.000000</td>\n",
       "      <td>0.0</td>\n",
       "      <td>0.0</td>\n",
       "      <td>0.0</td>\n",
       "    </tr>\n",
       "    <tr>\n",
       "      <th>25%</th>\n",
       "      <td>-73.983925</td>\n",
       "      <td>40.742584</td>\n",
       "      <td>-73.983925</td>\n",
       "      <td>40.742584</td>\n",
       "      <td>1.000000</td>\n",
       "      <td>0.0</td>\n",
       "      <td>0.0</td>\n",
       "      <td>0.0</td>\n",
       "    </tr>\n",
       "    <tr>\n",
       "      <th>50%</th>\n",
       "      <td>-73.970085</td>\n",
       "      <td>40.754883</td>\n",
       "      <td>-73.970085</td>\n",
       "      <td>40.754883</td>\n",
       "      <td>1.000000</td>\n",
       "      <td>0.0</td>\n",
       "      <td>0.0</td>\n",
       "      <td>0.0</td>\n",
       "    </tr>\n",
       "    <tr>\n",
       "      <th>75%</th>\n",
       "      <td>-73.951820</td>\n",
       "      <td>40.772038</td>\n",
       "      <td>-73.951820</td>\n",
       "      <td>40.772038</td>\n",
       "      <td>2.000000</td>\n",
       "      <td>0.0</td>\n",
       "      <td>0.0</td>\n",
       "      <td>0.0</td>\n",
       "    </tr>\n",
       "    <tr>\n",
       "      <th>max</th>\n",
       "      <td>-73.137390</td>\n",
       "      <td>41.366138</td>\n",
       "      <td>-73.137390</td>\n",
       "      <td>41.366138</td>\n",
       "      <td>6.000000</td>\n",
       "      <td>0.0</td>\n",
       "      <td>0.0</td>\n",
       "      <td>0.0</td>\n",
       "    </tr>\n",
       "  </tbody>\n",
       "</table>\n",
       "</div>"
      ],
      "text/plain": [
       "       pickup_longitude  pickup_latitude  dropoff_longitude  dropoff_latitude  \\\n",
       "count         85.000000        85.000000          85.000000         85.000000   \n",
       "mean         -73.922089        40.781349         -73.922089         40.781349   \n",
       "std            0.181695         0.134858           0.181695          0.134858   \n",
       "min          -74.047394        40.622555         -74.047394         40.622555   \n",
       "25%          -73.983925        40.742584         -73.983925         40.742584   \n",
       "50%          -73.970085        40.754883         -73.970085         40.754883   \n",
       "75%          -73.951820        40.772038         -73.951820         40.772038   \n",
       "max          -73.137390        41.366138         -73.137390         41.366138   \n",
       "\n",
       "       passenger_count  abs_diff_longitude  abs_diff_latitude  simple_distance  \n",
       "count        85.000000                85.0               85.0             85.0  \n",
       "mean          1.741176                 0.0                0.0              0.0  \n",
       "std           1.337668                 0.0                0.0              0.0  \n",
       "min           1.000000                 0.0                0.0              0.0  \n",
       "25%           1.000000                 0.0                0.0              0.0  \n",
       "50%           1.000000                 0.0                0.0              0.0  \n",
       "75%           2.000000                 0.0                0.0              0.0  \n",
       "max           6.000000                 0.0                0.0              0.0  "
      ]
     },
     "execution_count": 155,
     "metadata": {},
     "output_type": "execute_result"
    }
   ],
   "source": [
    "test_df[test_df.simple_distance == 0].describe()"
   ]
  },
  {
   "cell_type": "markdown",
   "metadata": {},
   "source": [
    "- There are 85 cases  of zero travel distance in test set. \n",
    "- There are 582,641 cases of zero travel distance in training set.\n",
    "- Zero distance can also mean travel and come back to the same spot. In any case it's ambiguous case\n",
    "- Fare amount in training set range from 0.01 to 149.75 as we have set limits to min and max fare previously\n",
    "- Ignore this for now"
   ]
  },
  {
   "cell_type": "markdown",
   "metadata": {
    "heading_collapsed": true
   },
   "source": [
    "## Checkpoint 3"
   ]
  },
  {
   "cell_type": "code",
   "execution_count": 156,
   "metadata": {
    "hidden": true
   },
   "outputs": [],
   "source": [
    "# reset_index after removing rows, in order to be able to save to feather\n",
    "train_df.reset_index(drop=True, inplace=True)"
   ]
  },
  {
   "cell_type": "code",
   "execution_count": 157,
   "metadata": {
    "hidden": true
   },
   "outputs": [
    {
     "name": "stdout",
     "output_type": "stream",
     "text": [
      "Wall time: 31 s\n"
     ]
    }
   ],
   "source": [
    "%%time\n",
    "train_df.to_feather('tmp/taxi-train-v2-chkpt3')"
   ]
  },
  {
   "cell_type": "code",
   "execution_count": 158,
   "metadata": {
    "hidden": true
   },
   "outputs": [
    {
     "name": "stdout",
     "output_type": "stream",
     "text": [
      "Wall time: 41.3 ms\n"
     ]
    }
   ],
   "source": [
    "%%time\n",
    "test_df.to_feather('tmp/taxi-test-v2-chkpt3')"
   ]
  },
  {
   "cell_type": "code",
   "execution_count": 159,
   "metadata": {
    "hidden": true
   },
   "outputs": [
    {
     "name": "stdout",
     "output_type": "stream",
     "text": [
      "Wall time: 1.92 s\n"
     ]
    }
   ],
   "source": [
    "%%time\n",
    "train_df = pd.read_feather('tmp/taxi-train-v2-chkpt3')"
   ]
  },
  {
   "cell_type": "code",
   "execution_count": 160,
   "metadata": {
    "hidden": true
   },
   "outputs": [
    {
     "name": "stdout",
     "output_type": "stream",
     "text": [
      "Wall time: 0 ns\n"
     ]
    }
   ],
   "source": [
    "%%time\n",
    "test_df = pd.read_feather('tmp/taxi-test-v2-chkpt3')"
   ]
  },
  {
   "cell_type": "markdown",
   "metadata": {
    "heading_collapsed": true
   },
   "source": [
    "# Date Time"
   ]
  },
  {
   "cell_type": "code",
   "execution_count": 161,
   "metadata": {
    "hidden": true
   },
   "outputs": [
    {
     "name": "stdout",
     "output_type": "stream",
     "text": [
      "<class 'pandas.core.frame.DataFrame'>\n",
      "RangeIndex: 54054206 entries, 0 to 54054205\n",
      "Data columns (total 10 columns):\n",
      "fare_amount           float32\n",
      "pickup_datetime       datetime64[ns]\n",
      "pickup_longitude      float32\n",
      "pickup_latitude       float32\n",
      "dropoff_longitude     float32\n",
      "dropoff_latitude      float32\n",
      "passenger_count       uint8\n",
      "abs_diff_longitude    float32\n",
      "abs_diff_latitude     float32\n",
      "simple_distance       float32\n",
      "dtypes: datetime64[ns](1), float32(8), uint8(1)\n",
      "memory usage: 2.1 GB\n"
     ]
    }
   ],
   "source": [
    "train_df.info()"
   ]
  },
  {
   "cell_type": "code",
   "execution_count": 162,
   "metadata": {
    "hidden": true
   },
   "outputs": [
    {
     "name": "stdout",
     "output_type": "stream",
     "text": [
      "Wall time: 5min 32s\n"
     ]
    }
   ],
   "source": [
    "%%time\n",
    "add_datepart(train_df, 'pickup_datetime', time=True)"
   ]
  },
  {
   "cell_type": "code",
   "execution_count": 163,
   "metadata": {
    "hidden": true
   },
   "outputs": [
    {
     "name": "stdout",
     "output_type": "stream",
     "text": [
      "<class 'pandas.core.frame.DataFrame'>\n",
      "RangeIndex: 54054206 entries, 0 to 54054205\n",
      "Data columns (total 25 columns):\n",
      "fare_amount                        float32\n",
      "pickup_longitude                   float32\n",
      "pickup_latitude                    float32\n",
      "dropoff_longitude                  float32\n",
      "dropoff_latitude                   float32\n",
      "passenger_count                    uint8\n",
      "abs_diff_longitude                 float32\n",
      "abs_diff_latitude                  float32\n",
      "simple_distance                    float32\n",
      "pickup_datetimeYear                int64\n",
      "pickup_datetimeMonth               int64\n",
      "pickup_datetimeWeek                int64\n",
      "pickup_datetimeDay                 int64\n",
      "pickup_datetimeDayofweek           int64\n",
      "pickup_datetimeDayofyear           int64\n",
      "pickup_datetimeIs_month_end        bool\n",
      "pickup_datetimeIs_month_start      bool\n",
      "pickup_datetimeIs_quarter_end      bool\n",
      "pickup_datetimeIs_quarter_start    bool\n",
      "pickup_datetimeIs_year_end         bool\n",
      "pickup_datetimeIs_year_start       bool\n",
      "pickup_datetimeHour                int64\n",
      "pickup_datetimeMinute              int64\n",
      "pickup_datetimeSecond              int64\n",
      "pickup_datetimeElapsed             int64\n",
      "dtypes: bool(6), float32(8), int64(10), uint8(1)\n",
      "memory usage: 6.0 GB\n"
     ]
    }
   ],
   "source": [
    "train_df.info()"
   ]
  },
  {
   "cell_type": "code",
   "execution_count": 17,
   "metadata": {
    "hidden": true
   },
   "outputs": [],
   "source": [
    "cols_to_drop = [\n",
    "    'pickup_datetimeIs_month_start',\n",
    "    'pickup_datetimeIs_month_end',    \n",
    "    'pickup_datetimeIs_quarter_start',\n",
    "    'pickup_datetimeIs_quarter_end',\n",
    "    'pickup_datetimeIs_year_start',\n",
    "    'pickup_datetimeIs_year_end',  \n",
    "    'pickup_datetimeSecond',\n",
    "    'pickup_datetimeElapsed'\n",
    "]"
   ]
  },
  {
   "cell_type": "code",
   "execution_count": 165,
   "metadata": {
    "hidden": true
   },
   "outputs": [],
   "source": [
    "train_df.drop(cols_to_drop, axis='columns', inplace=True)"
   ]
  },
  {
   "cell_type": "code",
   "execution_count": 166,
   "metadata": {
    "hidden": true
   },
   "outputs": [
    {
     "name": "stdout",
     "output_type": "stream",
     "text": [
      "<class 'pandas.core.frame.DataFrame'>\n",
      "RangeIndex: 54054206 entries, 0 to 54054205\n",
      "Data columns (total 17 columns):\n",
      "fare_amount                 float32\n",
      "pickup_longitude            float32\n",
      "pickup_latitude             float32\n",
      "dropoff_longitude           float32\n",
      "dropoff_latitude            float32\n",
      "passenger_count             uint8\n",
      "abs_diff_longitude          float32\n",
      "abs_diff_latitude           float32\n",
      "simple_distance             float32\n",
      "pickup_datetimeYear         int64\n",
      "pickup_datetimeMonth        int64\n",
      "pickup_datetimeWeek         int64\n",
      "pickup_datetimeDay          int64\n",
      "pickup_datetimeDayofweek    int64\n",
      "pickup_datetimeDayofyear    int64\n",
      "pickup_datetimeHour         int64\n",
      "pickup_datetimeMinute       int64\n",
      "dtypes: float32(8), int64(8), uint8(1)\n",
      "memory usage: 4.9 GB\n"
     ]
    }
   ],
   "source": [
    "train_df.info()"
   ]
  },
  {
   "cell_type": "code",
   "execution_count": 8,
   "metadata": {
    "hidden": true
   },
   "outputs": [],
   "source": [
    "def convert_datetimetype(df):\n",
    "    df.pickup_datetimeYear = (df.pickup_datetimeYear-2000).astype('uint8')   \n",
    "    df.pickup_datetimeMonth = df.pickup_datetimeMonth.astype('uint8') \n",
    "    df.pickup_datetimeDay = df.pickup_datetimeDay.astype('uint8')   \n",
    "    df.pickup_datetimeWeek = df.pickup_datetimeWeek.astype('uint8')    \n",
    "    df.pickup_datetimeHour = df.pickup_datetimeHour.astype('uint8')   \n",
    "    df.pickup_datetimeMinute = df.pickup_datetimeMinute.astype('uint8')    \n",
    "    df.pickup_datetimeDayofweek = df.pickup_datetimeDayofweek.astype('uint8')                 \n",
    "    df.pickup_datetimeDayofyear = df.pickup_datetimeDayofyear.astype('uint16')   "
   ]
  },
  {
   "cell_type": "code",
   "execution_count": 9,
   "metadata": {
    "hidden": true
   },
   "outputs": [],
   "source": [
    "convert_datetimetype(train_df)"
   ]
  },
  {
   "cell_type": "code",
   "execution_count": 10,
   "metadata": {
    "hidden": true
   },
   "outputs": [
    {
     "name": "stdout",
     "output_type": "stream",
     "text": [
      "<class 'pandas.core.frame.DataFrame'>\n",
      "RangeIndex: 54054206 entries, 0 to 54054205\n",
      "Data columns (total 17 columns):\n",
      "fare_amount                 float32\n",
      "pickup_longitude            float32\n",
      "pickup_latitude             float32\n",
      "dropoff_longitude           float32\n",
      "dropoff_latitude            float32\n",
      "passenger_count             uint8\n",
      "abs_diff_longitude          float32\n",
      "abs_diff_latitude           float32\n",
      "simple_distance             float32\n",
      "pickup_datetimeYear         uint8\n",
      "pickup_datetimeMonth        uint8\n",
      "pickup_datetimeWeek         uint8\n",
      "pickup_datetimeDay          uint8\n",
      "pickup_datetimeDayofweek    uint8\n",
      "pickup_datetimeDayofyear    uint16\n",
      "pickup_datetimeHour         uint8\n",
      "pickup_datetimeMinute       uint8\n",
      "dtypes: float32(8), uint16(1), uint8(8)\n",
      "memory usage: 2.1 GB\n"
     ]
    }
   ],
   "source": [
    "train_df.info()"
   ]
  },
  {
   "cell_type": "markdown",
   "metadata": {
    "heading_collapsed": true,
    "hidden": true
   },
   "source": [
    "## Repeat on test dataframe"
   ]
  },
  {
   "cell_type": "code",
   "execution_count": 20,
   "metadata": {
    "hidden": true
   },
   "outputs": [],
   "source": [
    "add_datepart(test_df, 'pickup_datetime', time=True)"
   ]
  },
  {
   "cell_type": "code",
   "execution_count": 21,
   "metadata": {
    "hidden": true
   },
   "outputs": [],
   "source": [
    "test_df.drop(cols_to_drop, axis='columns', inplace=True)"
   ]
  },
  {
   "cell_type": "code",
   "execution_count": 22,
   "metadata": {
    "hidden": true
   },
   "outputs": [],
   "source": [
    "convert_datetimetype(test_df)"
   ]
  },
  {
   "cell_type": "code",
   "execution_count": 23,
   "metadata": {
    "hidden": true
   },
   "outputs": [
    {
     "name": "stdout",
     "output_type": "stream",
     "text": [
      "<class 'pandas.core.frame.DataFrame'>\n",
      "RangeIndex: 9914 entries, 0 to 9913\n",
      "Data columns (total 16 columns):\n",
      "pickup_longitude            9914 non-null float32\n",
      "pickup_latitude             9914 non-null float32\n",
      "dropoff_longitude           9914 non-null float32\n",
      "dropoff_latitude            9914 non-null float32\n",
      "passenger_count             9914 non-null uint8\n",
      "abs_diff_longitude          9914 non-null float32\n",
      "abs_diff_latitude           9914 non-null float32\n",
      "simple_distance             9914 non-null float32\n",
      "pickup_datetimeYear         9914 non-null uint8\n",
      "pickup_datetimeMonth        9914 non-null uint8\n",
      "pickup_datetimeWeek         9914 non-null uint8\n",
      "pickup_datetimeDay          9914 non-null uint8\n",
      "pickup_datetimeDayofweek    9914 non-null uint8\n",
      "pickup_datetimeDayofyear    9914 non-null uint16\n",
      "pickup_datetimeHour         9914 non-null uint8\n",
      "pickup_datetimeMinute       9914 non-null uint8\n",
      "dtypes: float32(7), uint16(1), uint8(8)\n",
      "memory usage: 368.0 KB\n"
     ]
    }
   ],
   "source": [
    "test_df.info()"
   ]
  },
  {
   "cell_type": "markdown",
   "metadata": {
    "hidden": true
   },
   "source": [
    "## Checkpoint 4"
   ]
  },
  {
   "cell_type": "code",
   "execution_count": 25,
   "metadata": {
    "hidden": true
   },
   "outputs": [
    {
     "name": "stdout",
     "output_type": "stream",
     "text": [
      "Wall time: 1min 15s\n"
     ]
    }
   ],
   "source": [
    "%%time\n",
    "train_df.to_feather('tmp/taxi-train-v2-chkpt4')"
   ]
  },
  {
   "cell_type": "code",
   "execution_count": 26,
   "metadata": {
    "hidden": true
   },
   "outputs": [
    {
     "name": "stdout",
     "output_type": "stream",
     "text": [
      "Wall time: 399 ms\n"
     ]
    }
   ],
   "source": [
    "%%time\n",
    "test_df.to_feather('tmp/taxi-test-v2-chkpt4')"
   ]
  },
  {
   "cell_type": "markdown",
   "metadata": {},
   "source": [
    "# Load Clean"
   ]
  },
  {
   "cell_type": "code",
   "execution_count": 7,
   "metadata": {},
   "outputs": [
    {
     "name": "stdout",
     "output_type": "stream",
     "text": [
      "Wall time: 3.95 s\n"
     ]
    }
   ],
   "source": [
    "%%time\n",
    "train_df = pd.read_feather('tmp/taxi-train-v2-chkpt4')"
   ]
  },
  {
   "cell_type": "code",
   "execution_count": 8,
   "metadata": {},
   "outputs": [
    {
     "name": "stdout",
     "output_type": "stream",
     "text": [
      "Wall time: 0 ns\n"
     ]
    }
   ],
   "source": [
    "%%time\n",
    "test_df = pd.read_feather('tmp/taxi-test-v2-chkpt4')"
   ]
  },
  {
   "cell_type": "markdown",
   "metadata": {},
   "source": [
    "# Find nearest neighbour"
   ]
  },
  {
   "cell_type": "code",
   "execution_count": 9,
   "metadata": {},
   "outputs": [],
   "source": [
    "y = train_df.pop('fare_amount')"
   ]
  },
  {
   "cell_type": "code",
   "execution_count": 10,
   "metadata": {},
   "outputs": [],
   "source": [
    "X_train_gps = train_df[['pickup_longitude',\n",
    "                  'pickup_latitude', \n",
    "                  'dropoff_longitude',\n",
    "                  'dropoff_latitude']].values\n",
    "\n",
    "X_test_gps = test_df[['pickup_longitude',\n",
    "                 'pickup_latitude', \n",
    "                 'dropoff_longitude',\n",
    "                 'dropoff_latitude']].values"
   ]
  },
  {
   "cell_type": "code",
   "execution_count": 11,
   "metadata": {},
   "outputs": [],
   "source": [
    "X_train_dt = train_df[['pickup_datetimeYear',  \n",
    "               'pickup_datetimeWeek',  \n",
    "               'pickup_datetimeDayofweek',\n",
    "               'pickup_datetimeHour']].copy()\n",
    "\n",
    "X_test_dt = test_df[['pickup_datetimeYear',    \n",
    "               'pickup_datetimeWeek',   \n",
    "               'pickup_datetimeDayofweek',\n",
    "               'pickup_datetimeHour']].copy()"
   ]
  },
  {
   "cell_type": "code",
   "execution_count": 12,
   "metadata": {
    "scrolled": true
   },
   "outputs": [
    {
     "data": {
      "text/plain": [
       "(54054206, 9914)"
      ]
     },
     "execution_count": 12,
     "metadata": {},
     "output_type": "execute_result"
    }
   ],
   "source": [
    "len(X_train_dt), len(X_test_dt)"
   ]
  },
  {
   "cell_type": "markdown",
   "metadata": {},
   "source": [
    "Find similar date and time, then narrow down to nearest pickup and drop off point\n",
    "\n",
    "TODO in version3 - Find similar/nearby pickup and dropoff points, then narrow down to similar date time. "
   ]
  },
  {
   "cell_type": "code",
   "execution_count": 48,
   "metadata": {
    "collapsed": true
   },
   "outputs": [
    {
     "name": "stdout",
     "output_type": "stream",
     "text": [
      "0001/9914\n",
      "0101/9914\n",
      "0201/9914\n",
      "0301/9914\n",
      "0401/9914\n",
      "0501/9914\n",
      "0601/9914\n",
      "0701/9914\n",
      "0801/9914\n",
      "0901/9914\n",
      "1001/9914\n",
      "1101/9914\n",
      "1201/9914\n",
      "1301/9914\n",
      "1401/9914\n",
      "1501/9914\n",
      "1601/9914\n",
      "1701/9914\n",
      "1801/9914\n",
      "1901/9914\n",
      "2001/9914\n",
      "2101/9914\n",
      "2201/9914\n",
      "2301/9914\n",
      "2401/9914\n",
      "2501/9914\n",
      "2601/9914\n",
      "2701/9914\n",
      "2801/9914\n",
      "2901/9914\n",
      "3001/9914\n",
      "3101/9914\n",
      "3201/9914\n",
      "3301/9914\n",
      "3401/9914\n",
      "3501/9914\n",
      "3601/9914\n",
      "3701/9914\n",
      "3801/9914\n",
      "3901/9914\n",
      "4001/9914\n",
      "4101/9914\n",
      "4201/9914\n",
      "4301/9914\n",
      "4401/9914\n",
      "4501/9914\n",
      "4601/9914\n",
      "4701/9914\n",
      "4801/9914\n",
      "4901/9914\n",
      "5001/9914\n",
      "5101/9914\n",
      "5201/9914\n",
      "5301/9914\n",
      "5401/9914\n",
      "5501/9914\n",
      "5601/9914\n",
      "5701/9914\n",
      "5801/9914\n",
      "5901/9914\n",
      "6001/9914\n",
      "6101/9914\n",
      "6201/9914\n",
      "6301/9914\n",
      "6401/9914\n",
      "6501/9914\n",
      "6601/9914\n",
      "6701/9914\n",
      "6801/9914\n",
      "6901/9914\n",
      "7001/9914\n",
      "7101/9914\n",
      "7201/9914\n",
      "7301/9914\n",
      "7401/9914\n",
      "7501/9914\n",
      "7601/9914\n",
      "7701/9914\n",
      "7801/9914\n",
      "7901/9914\n",
      "8001/9914\n",
      "8101/9914\n",
      "8201/9914\n",
      "8301/9914\n",
      "8401/9914\n",
      "8501/9914\n",
      "8601/9914\n",
      "8701/9914\n",
      "8801/9914\n",
      "8901/9914\n",
      "9001/9914\n",
      "9101/9914\n",
      "9201/9914\n",
      "9301/9914\n",
      "9401/9914\n",
      "9501/9914\n",
      "9601/9914\n",
      "9701/9914\n",
      "9801/9914\n",
      "9901/9914\n",
      "Wall time: 1h 54min 54s\n"
     ]
    }
   ],
   "source": [
    "%%time \n",
    "\n",
    "list_neighbours = []\n",
    "list_min_dist_idx = []\n",
    "list_max_dist_idx = []\n",
    "list_min_dist = []\n",
    "list_max_dist = []\n",
    "length = len(X_test_dt)\n",
    "\n",
    "for i in range(length):\n",
    "    \n",
    "    if (i%100==0): print(f\"{(i+1):04}/{length}\")\n",
    "\n",
    "    # same year, at most 1 week difference, same hour of the day and same day of the week\n",
    "    X_dt_sub = X_train_dt[(X_train_dt.pickup_datetimeYear == X_test_dt.iloc[i].pickup_datetimeYear) &\n",
    "                          abs(X_train_dt.pickup_datetimeWeek-X_test_dt.iloc[i].pickup_datetimeWeek<2) &\n",
    "                          (X_train_dt.pickup_datetimeHour==X_test_dt.iloc[i].pickup_datetimeHour) &\n",
    "                          (X_train_dt.pickup_datetimeDayofweek == X_test_dt.iloc[i].pickup_datetimeDayofweek)]\n",
    "    \n",
    "#     print(f'Test No.{i+1} has {len(X_dt_sub)} matches')\n",
    "\n",
    "    if len(X_dt_sub) > 0:\n",
    "        \n",
    "        list_neighbours = list_neighbours + list(X_dt_sub.index.values)\n",
    "        dist = np.sum(np.square(X_train_gps[X_dt_sub.index] - X_test_gps[i,:]), axis=1) \n",
    "        \n",
    "#         print(len(X_dt_sub.index))\n",
    "#         print(X_dt_sub.index.values)\n",
    "        \n",
    "        arg_min = np.argmin(dist)\n",
    "        list_min_dist.append(dist[arg_min])\n",
    "        idx_min = X_dt_sub.index[arg_min]\n",
    "        list_min_dist_idx.append(idx_min)\n",
    "            \n",
    "#         print(\"test target: {}\".format(test_df.iloc[i]))\n",
    "#         print(\"train target: {}\".format(train_df.iloc[idx_min]))\n",
    "       \n",
    "        arg_max = np.argmax(dist)\n",
    "        list_max_dist.append(dist[arg_max])\n",
    "        idx_max = X_dt_sub.index[arg_max]\n",
    "        list_max_dist_idx.append(idx_max)\n",
    "        \n",
    "    else:\n",
    "        print(f'Error at {i}!')\n",
    "        raise ValueError"
   ]
  },
  {
   "cell_type": "code",
   "execution_count": 13,
   "metadata": {},
   "outputs": [],
   "source": [
    "import csv"
   ]
  },
  {
   "cell_type": "code",
   "execution_count": 50,
   "metadata": {},
   "outputs": [],
   "source": [
    "list_min_dist_idx = list(set(list_min_dist_idx))\n",
    "list_max_dist_idx = list(set(list_max_dist_idx))\n",
    "list_neighbours = list(set(list_neighbours))"
   ]
  },
  {
   "cell_type": "code",
   "execution_count": 51,
   "metadata": {},
   "outputs": [
    {
     "data": {
      "text/plain": [
       "(9674, 2109, 3456857)"
      ]
     },
     "execution_count": 51,
     "metadata": {},
     "output_type": "execute_result"
    }
   ],
   "source": [
    "len(list_min_dist_idx),len(list_max_dist_idx),len(list_neighbours)"
   ]
  },
  {
   "cell_type": "code",
   "execution_count": 52,
   "metadata": {},
   "outputs": [],
   "source": [
    "list_neighbours_no_max = list(set(list_neighbours).difference(set(list_max_dist_idx)))\n",
    "list_neighbours_no_maxmin = list(set(list_neighbours_no_max).difference(set(list_min_dist_idx)))"
   ]
  },
  {
   "cell_type": "code",
   "execution_count": 53,
   "metadata": {},
   "outputs": [
    {
     "data": {
      "text/plain": [
       "(3454748, 3445082)"
      ]
     },
     "execution_count": 53,
     "metadata": {},
     "output_type": "execute_result"
    }
   ],
   "source": [
    "len(list_neighbours_no_max),len(list_neighbours_no_maxmin)"
   ]
  },
  {
   "cell_type": "code",
   "execution_count": 54,
   "metadata": {},
   "outputs": [],
   "source": [
    "def write_csv(filename,list_val):\n",
    "    with open(filename, \"w\") as output:\n",
    "        writer = csv.writer(output, lineterminator='\\n')\n",
    "        for val in list_val:\n",
    "            writer.writerow([val])    "
   ]
  },
  {
   "cell_type": "code",
   "execution_count": 55,
   "metadata": {},
   "outputs": [],
   "source": [
    "write_csv('tmp/v2_all.csv', list_neighbours)   \n",
    "write_csv('tmp/v2_no_max.csv', list_neighbours_no_max)\n",
    "write_csv('tmp/v2_no_maxmin.csv', list_neighbours_no_maxmin)\n",
    "write_csv('tmp/v2_min.csv', list_min_dist_idx)\n",
    "write_csv('tmp/v2_max.csv', list_max_dist_idx)      \n",
    "write_csv('tmp/v2_min_dist.csv', list_min_dist)\n",
    "write_csv('tmp/v2_max_dist.csv', list_max_dist)"
   ]
  },
  {
   "cell_type": "code",
   "execution_count": 31,
   "metadata": {},
   "outputs": [],
   "source": [
    "list_neighbours_no_maxmin = list(pd.read_csv('tmp/v2_no_maxmin.csv', header=None)[0])\n",
    "list_min_dist_idx = list(pd.read_csv('tmp/v2_min.csv',header=None)[0])\n",
    "list_neighbours_no_max = list(pd.read_csv('tmp/v2_no_max.csv',header=None)[0])"
   ]
  },
  {
   "cell_type": "code",
   "execution_count": 32,
   "metadata": {},
   "outputs": [
    {
     "data": {
      "text/plain": [
       "(3454748, 3445082, 9674)"
      ]
     },
     "execution_count": 32,
     "metadata": {},
     "output_type": "execute_result"
    }
   ],
   "source": [
    "len(list_neighbours_no_max),len(list_neighbours_no_maxmin),len(list_min_dist_idx),"
   ]
  },
  {
   "cell_type": "markdown",
   "metadata": {},
   "source": [
    "# Save dataframes to be used directly"
   ]
  },
  {
   "cell_type": "code",
   "execution_count": 33,
   "metadata": {},
   "outputs": [
    {
     "name": "stdout",
     "output_type": "stream",
     "text": [
      "Wall time: 2.04 s\n"
     ]
    }
   ],
   "source": [
    "%%time\n",
    "train_df = pd.read_feather('tmp/taxi-train-v2-chkpt4')"
   ]
  },
  {
   "cell_type": "code",
   "execution_count": 34,
   "metadata": {},
   "outputs": [
    {
     "name": "stdout",
     "output_type": "stream",
     "text": [
      "Wall time: 15.6 ms\n"
     ]
    }
   ],
   "source": [
    "%%time\n",
    "test_df = pd.read_feather('tmp/taxi-test-v2-chkpt4')"
   ]
  },
  {
   "cell_type": "code",
   "execution_count": 35,
   "metadata": {},
   "outputs": [],
   "source": [
    "# for training with validation\n",
    "pruned_df = train_df.iloc[list_neighbours_no_maxmin]\n",
    "val_df = train_df.iloc[list_min_dist_idx]\n",
    "\n",
    "# for full traning with maybe 0.01 improvement\n",
    "full_df = train_df.iloc[list_neighbours_no_max]\n",
    "\n",
    "pruned_df.reset_index(drop=True, inplace=True)\n",
    "full_df.reset_index(drop=True, inplace=True)\n",
    "val_df.reset_index(drop=True, inplace=True)"
   ]
  },
  {
   "cell_type": "code",
   "execution_count": 36,
   "metadata": {},
   "outputs": [
    {
     "data": {
      "text/plain": [
       "(3454748, 54054206, 9674, 9914)"
      ]
     },
     "execution_count": 36,
     "metadata": {},
     "output_type": "execute_result"
    }
   ],
   "source": [
    "len(full_df), len(train_df), len(val_df), len(test_df)"
   ]
  },
  {
   "cell_type": "code",
   "execution_count": 37,
   "metadata": {},
   "outputs": [
    {
     "name": "stdout",
     "output_type": "stream",
     "text": [
      "Wall time: 141 ms\n"
     ]
    }
   ],
   "source": [
    "%%time\n",
    "pruned_df.to_feather('tmp/taxi-v2-train')"
   ]
  },
  {
   "cell_type": "code",
   "execution_count": 38,
   "metadata": {},
   "outputs": [
    {
     "name": "stdout",
     "output_type": "stream",
     "text": [
      "Wall time: 11 ms\n"
     ]
    }
   ],
   "source": [
    "%%time\n",
    "val_df.to_feather('tmp/taxi-v2-val')"
   ]
  },
  {
   "cell_type": "code",
   "execution_count": 39,
   "metadata": {},
   "outputs": [
    {
     "name": "stdout",
     "output_type": "stream",
     "text": [
      "Wall time: 218 ms\n"
     ]
    }
   ],
   "source": [
    "%%time\n",
    "full_df.to_feather('tmp/taxi-v2-full')"
   ]
  },
  {
   "cell_type": "code",
   "execution_count": 40,
   "metadata": {},
   "outputs": [
    {
     "name": "stdout",
     "output_type": "stream",
     "text": [
      "Wall time: 20 ms\n"
     ]
    }
   ],
   "source": [
    "%%time\n",
    "test_df.to_feather('tmp/taxi-test-v2')"
   ]
  }
 ],
 "metadata": {
  "kernelspec": {
   "display_name": "Python (fastai)",
   "language": "python",
   "name": "fastai"
  },
  "language_info": {
   "codemirror_mode": {
    "name": "ipython",
    "version": 3
   },
   "file_extension": ".py",
   "mimetype": "text/x-python",
   "name": "python",
   "nbconvert_exporter": "python",
   "pygments_lexer": "ipython3",
   "version": "3.6.6"
  },
  "toc": {
   "base_numbering": 1,
   "nav_menu": {},
   "number_sections": true,
   "sideBar": true,
   "skip_h1_title": false,
   "title_cell": "Table of Contents",
   "title_sidebar": "Contents",
   "toc_cell": false,
   "toc_position": {},
   "toc_section_display": true,
   "toc_window_display": false
  }
 },
 "nbformat": 4,
 "nbformat_minor": 1
}
