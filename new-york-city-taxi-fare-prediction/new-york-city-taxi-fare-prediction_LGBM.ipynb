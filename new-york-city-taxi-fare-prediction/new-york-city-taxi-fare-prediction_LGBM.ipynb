{
 "cells": [
  {
   "cell_type": "markdown",
   "metadata": {},
   "source": [
    "# Imports"
   ]
  },
  {
   "cell_type": "code",
   "execution_count": 1,
   "metadata": {
    "collapsed": true
   },
   "outputs": [],
   "source": [
    "%reload_ext autoreload\n",
    "%autoreload 2"
   ]
  },
  {
   "cell_type": "code",
   "execution_count": 2,
   "metadata": {
    "_cell_guid": "b1076dfc-b9ad-4769-8c92-a6c4dae69d19",
    "_uuid": "8f2839f25d086af736a60e9eeb907d3b93b6e0e5",
    "collapsed": true
   },
   "outputs": [],
   "source": [
    "import numpy as np\n",
    "import pandas as pd\n",
    "import matplotlib.pyplot as plt\n",
    "import seaborn as sns\n",
    "%matplotlib inline\n",
    "sns.set()"
   ]
  },
  {
   "cell_type": "code",
   "execution_count": 3,
   "metadata": {
    "collapsed": true
   },
   "outputs": [],
   "source": [
    "import lightgbm as lgbm\n",
    "from sklearn import metrics\n",
    "from sklearn.metrics import mean_squared_error\n",
    "from sklearn.model_selection import KFold, train_test_split"
   ]
  },
  {
   "cell_type": "code",
   "execution_count": 4,
   "metadata": {
    "collapsed": true
   },
   "outputs": [],
   "source": [
    "PATH = 'data/nyc-taxi/'\n",
    "CSV_PATH = 'submissions/LGBM/'"
   ]
  },
  {
   "cell_type": "code",
   "execution_count": 5,
   "metadata": {
    "collapsed": true
   },
   "outputs": [],
   "source": [
    "train_df = pd.read_feather('tmp/taxi-train-clean')\n",
    "test_df = pd.read_feather('tmp/taxi-test-clean')\n",
    "test_df_raw = pd.read_csv(f'{PATH}test.csv', usecols=['key'])"
   ]
  },
  {
   "cell_type": "code",
   "execution_count": 6,
   "metadata": {},
   "outputs": [
    {
     "data": {
      "text/plain": [
       "((19503643, 43), (9914, 42))"
      ]
     },
     "execution_count": 6,
     "metadata": {},
     "output_type": "execute_result"
    }
   ],
   "source": [
    "train_df.shape, test_df.shape"
   ]
  },
  {
   "cell_type": "code",
   "execution_count": 7,
   "metadata": {},
   "outputs": [
    {
     "name": "stdout",
     "output_type": "stream",
     "text": [
      "CPU times: user 21 s, sys: 3.71 s, total: 24.7 s\n",
      "Wall time: 24.7 s\n"
     ]
    }
   ],
   "source": [
    "%%time\n",
    "X_train, X_valid, y_train, y_valid = train_test_split(train_df.drop('fare_amount', axis=1), train_df['fare_amount'], test_size=0.1, random_state=111)\n",
    "\n",
    "X_train.shape, y_train.shape, X_valid.shape, y_valid.shape"
   ]
  },
  {
   "cell_type": "code",
   "execution_count": 8,
   "metadata": {
    "_uuid": "67c5e48091f6c05fc40b268a7228e3c3884da315",
    "collapsed": true
   },
   "outputs": [],
   "source": [
    "params = {\n",
    "        'boosting_type':'gbdt',\n",
    "        'objective': 'regression',\n",
    "        'nthread': 15,\n",
    "        'num_leaves': 31,\n",
    "        'learning_rate': 0.05,\n",
    "        'max_depth': -1,\n",
    "        'subsample': 0.8,\n",
    "        'bagging_fraction' : 1,\n",
    "        'max_bin' : 5000 ,\n",
    "        'bagging_freq': 20,\n",
    "        'colsample_bytree': 0.6,\n",
    "        'metric': 'rmse',\n",
    "        'min_split_gain': 0.5,\n",
    "        'min_child_weight': 1,\n",
    "        'min_child_samples': 10,\n",
    "        'scale_pos_weight':1,\n",
    "        'zero_as_missing': True,\n",
    "        'seed':0\n",
    "    }"
   ]
  },
  {
   "cell_type": "code",
   "execution_count": 9,
   "metadata": {
    "_uuid": "444e34e68cc751cf6c3b4afdcc73bac7913c99fe",
    "scrolled": false
   },
   "outputs": [
    {
     "name": "stdout",
     "output_type": "stream",
     "text": [
      "Training until validation scores don't improve for 500 rounds.\n",
      "[100]\tvalid_0's rmse: 3.65044\n",
      "[200]\tvalid_0's rmse: 3.55172\n",
      "[300]\tvalid_0's rmse: 3.51059\n",
      "[400]\tvalid_0's rmse: 3.48816\n",
      "[500]\tvalid_0's rmse: 3.4725\n",
      "[600]\tvalid_0's rmse: 3.46117\n",
      "[700]\tvalid_0's rmse: 3.45234\n",
      "[800]\tvalid_0's rmse: 3.44496\n",
      "[900]\tvalid_0's rmse: 3.43943\n",
      "[1000]\tvalid_0's rmse: 3.43418\n",
      "[1100]\tvalid_0's rmse: 3.42979\n",
      "[1200]\tvalid_0's rmse: 3.42655\n",
      "[1300]\tvalid_0's rmse: 3.42324\n",
      "[1400]\tvalid_0's rmse: 3.42032\n",
      "[1500]\tvalid_0's rmse: 3.41783\n",
      "[1600]\tvalid_0's rmse: 3.41611\n",
      "[1700]\tvalid_0's rmse: 3.41446\n",
      "[1800]\tvalid_0's rmse: 3.41193\n",
      "[1900]\tvalid_0's rmse: 3.41058\n",
      "[2000]\tvalid_0's rmse: 3.40896\n",
      "[2100]\tvalid_0's rmse: 3.40758\n",
      "[2200]\tvalid_0's rmse: 3.40666\n",
      "[2300]\tvalid_0's rmse: 3.40563\n",
      "[2400]\tvalid_0's rmse: 3.40456\n",
      "[2500]\tvalid_0's rmse: 3.40342\n",
      "[2600]\tvalid_0's rmse: 3.40212\n",
      "[2700]\tvalid_0's rmse: 3.40147\n",
      "[2800]\tvalid_0's rmse: 3.40076\n",
      "[2900]\tvalid_0's rmse: 3.40022\n",
      "[3000]\tvalid_0's rmse: 3.39931\n",
      "[3100]\tvalid_0's rmse: 3.39875\n",
      "[3200]\tvalid_0's rmse: 3.39808\n",
      "[3300]\tvalid_0's rmse: 3.39751\n",
      "[3400]\tvalid_0's rmse: 3.3969\n",
      "[3500]\tvalid_0's rmse: 3.39625\n",
      "[3600]\tvalid_0's rmse: 3.39551\n",
      "[3700]\tvalid_0's rmse: 3.39509\n",
      "[3800]\tvalid_0's rmse: 3.39442\n",
      "[3900]\tvalid_0's rmse: 3.39429\n",
      "[4000]\tvalid_0's rmse: 3.39401\n",
      "[4100]\tvalid_0's rmse: 3.39351\n",
      "[4200]\tvalid_0's rmse: 3.39299\n",
      "[4300]\tvalid_0's rmse: 3.39266\n",
      "[4400]\tvalid_0's rmse: 3.39244\n",
      "[4500]\tvalid_0's rmse: 3.39209\n",
      "[4600]\tvalid_0's rmse: 3.39184\n",
      "[4700]\tvalid_0's rmse: 3.3914\n",
      "[4800]\tvalid_0's rmse: 3.39127\n",
      "[4900]\tvalid_0's rmse: 3.39088\n",
      "[5000]\tvalid_0's rmse: 3.39049\n",
      "[5100]\tvalid_0's rmse: 3.39026\n",
      "[5200]\tvalid_0's rmse: 3.38981\n",
      "[5300]\tvalid_0's rmse: 3.38965\n",
      "[5400]\tvalid_0's rmse: 3.38933\n",
      "[5500]\tvalid_0's rmse: 3.38913\n",
      "[5600]\tvalid_0's rmse: 3.38897\n",
      "[5700]\tvalid_0's rmse: 3.38882\n",
      "[5800]\tvalid_0's rmse: 3.38858\n",
      "[5900]\tvalid_0's rmse: 3.38842\n",
      "[6000]\tvalid_0's rmse: 3.38822\n",
      "[6100]\tvalid_0's rmse: 3.38806\n",
      "[6200]\tvalid_0's rmse: 3.38795\n",
      "[6300]\tvalid_0's rmse: 3.38792\n",
      "[6400]\tvalid_0's rmse: 3.38777\n",
      "[6500]\tvalid_0's rmse: 3.38755\n",
      "[6600]\tvalid_0's rmse: 3.38733\n",
      "[6700]\tvalid_0's rmse: 3.38726\n",
      "[6800]\tvalid_0's rmse: 3.38703\n",
      "[6900]\tvalid_0's rmse: 3.38679\n",
      "[7000]\tvalid_0's rmse: 3.3866\n",
      "[7100]\tvalid_0's rmse: 3.38633\n",
      "[7200]\tvalid_0's rmse: 3.38614\n",
      "[7300]\tvalid_0's rmse: 3.386\n",
      "[7400]\tvalid_0's rmse: 3.38595\n",
      "[7500]\tvalid_0's rmse: 3.38583\n",
      "[7600]\tvalid_0's rmse: 3.38564\n",
      "[7700]\tvalid_0's rmse: 3.3855\n",
      "[7800]\tvalid_0's rmse: 3.38533\n",
      "[7900]\tvalid_0's rmse: 3.38524\n",
      "[8000]\tvalid_0's rmse: 3.38529\n",
      "[8100]\tvalid_0's rmse: 3.38512\n",
      "[8200]\tvalid_0's rmse: 3.385\n",
      "[8300]\tvalid_0's rmse: 3.38496\n",
      "[8400]\tvalid_0's rmse: 3.38483\n",
      "[8500]\tvalid_0's rmse: 3.38472\n",
      "[8600]\tvalid_0's rmse: 3.38459\n",
      "[8700]\tvalid_0's rmse: 3.38444\n",
      "[8800]\tvalid_0's rmse: 3.38423\n",
      "[8900]\tvalid_0's rmse: 3.38403\n",
      "[9000]\tvalid_0's rmse: 3.3841\n",
      "[9100]\tvalid_0's rmse: 3.38397\n",
      "[9200]\tvalid_0's rmse: 3.38403\n",
      "[9300]\tvalid_0's rmse: 3.38401\n",
      "[9400]\tvalid_0's rmse: 3.38394\n",
      "[9500]\tvalid_0's rmse: 3.38378\n",
      "[9600]\tvalid_0's rmse: 3.38374\n",
      "[9700]\tvalid_0's rmse: 3.38361\n",
      "[9800]\tvalid_0's rmse: 3.38358\n",
      "[9900]\tvalid_0's rmse: 3.38359\n",
      "[10000]\tvalid_0's rmse: 3.38364\n",
      "[10100]\tvalid_0's rmse: 3.3835\n",
      "[10200]\tvalid_0's rmse: 3.38338\n",
      "[10300]\tvalid_0's rmse: 3.38339\n",
      "[10400]\tvalid_0's rmse: 3.38326\n",
      "[10500]\tvalid_0's rmse: 3.38325\n",
      "[10600]\tvalid_0's rmse: 3.38308\n",
      "[10700]\tvalid_0's rmse: 3.38309\n",
      "[10800]\tvalid_0's rmse: 3.38304\n",
      "[10900]\tvalid_0's rmse: 3.38288\n",
      "[11000]\tvalid_0's rmse: 3.3827\n",
      "[11100]\tvalid_0's rmse: 3.38254\n",
      "[11200]\tvalid_0's rmse: 3.38241\n",
      "[11300]\tvalid_0's rmse: 3.38226\n",
      "[11400]\tvalid_0's rmse: 3.38209\n",
      "[11500]\tvalid_0's rmse: 3.38201\n",
      "[11600]\tvalid_0's rmse: 3.3818\n",
      "[11700]\tvalid_0's rmse: 3.38159\n",
      "[11800]\tvalid_0's rmse: 3.38141\n",
      "[11900]\tvalid_0's rmse: 3.38143\n",
      "[12000]\tvalid_0's rmse: 3.38142\n",
      "[12100]\tvalid_0's rmse: 3.38146\n",
      "[12200]\tvalid_0's rmse: 3.38152\n",
      "[12300]\tvalid_0's rmse: 3.38151\n",
      "[12400]\tvalid_0's rmse: 3.38147\n",
      "Early stopping, best iteration is:\n",
      "[11950]\tvalid_0's rmse: 3.38138\n"
     ]
    }
   ],
   "source": [
    "matrix_train = lgbm.Dataset(X_train, y_train)\n",
    "matrix_test = lgbm.Dataset(X_valid, y_valid)\n",
    "\n",
    "model=lgbm.train(params=params,\n",
    "                train_set=matrix_train,\n",
    "                num_boost_round=50_000, \n",
    "                early_stopping_rounds=500,\n",
    "                verbose_eval=100,\n",
    "                valid_sets=matrix_test)"
   ]
  },
  {
   "cell_type": "code",
   "execution_count": 12,
   "metadata": {
    "_uuid": "d687751e803df4c1e7b0be7faad34845cb9e6cec"
   },
   "outputs": [],
   "source": [
    "prediction = model.predict(test_df, num_iteration = model.best_iteration) \n",
    " \n",
    "submission = pd.DataFrame(\n",
    "    {'key': test_df_raw.key, 'fare_amount': prediction},\n",
    "    columns = ['key', 'fare_amount'])\n",
    "\n",
    "submission.to_csv(f'{CSV_PATH}lgbm.csv', index = False)"
   ]
  },
  {
   "cell_type": "code",
   "execution_count": 13,
   "metadata": {},
   "outputs": [
    {
     "data": {
      "text/plain": [
       "<lightgbm.basic.Booster at 0x7fbe04c79358>"
      ]
     },
     "execution_count": 13,
     "metadata": {},
     "output_type": "execute_result"
    }
   ],
   "source": [
    "model.save_model('tmp/lgbm_model.txt')"
   ]
  },
  {
   "cell_type": "code",
   "execution_count": null,
   "metadata": {
    "collapsed": true
   },
   "outputs": [],
   "source": []
  }
 ],
 "metadata": {
  "kernelspec": {
   "display_name": "Python 3",
   "language": "python",
   "name": "python3"
  },
  "language_info": {
   "codemirror_mode": {
    "name": "ipython",
    "version": 3
   },
   "file_extension": ".py",
   "mimetype": "text/x-python",
   "name": "python",
   "nbconvert_exporter": "python",
   "pygments_lexer": "ipython3",
   "version": "3.6.3"
  },
  "toc": {
   "base_numbering": 1,
   "nav_menu": {},
   "number_sections": true,
   "sideBar": true,
   "skip_h1_title": false,
   "title_cell": "Table of Contents",
   "title_sidebar": "Contents",
   "toc_cell": false,
   "toc_position": {},
   "toc_section_display": true,
   "toc_window_display": false
  }
 },
 "nbformat": 4,
 "nbformat_minor": 1
}
