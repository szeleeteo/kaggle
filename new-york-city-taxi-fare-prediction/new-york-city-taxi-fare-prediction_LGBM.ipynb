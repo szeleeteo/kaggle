{
 "cells": [
  {
   "cell_type": "markdown",
   "metadata": {},
   "source": [
    "# Imports"
   ]
  },
  {
   "cell_type": "code",
   "execution_count": 1,
   "metadata": {
    "collapsed": true
   },
   "outputs": [],
   "source": [
    "%reload_ext autoreload\n",
    "%autoreload 2"
   ]
  },
  {
   "cell_type": "code",
   "execution_count": 2,
   "metadata": {
    "_cell_guid": "b1076dfc-b9ad-4769-8c92-a6c4dae69d19",
    "_uuid": "8f2839f25d086af736a60e9eeb907d3b93b6e0e5",
    "collapsed": true
   },
   "outputs": [],
   "source": [
    "import numpy as np\n",
    "import pandas as pd\n",
    "import matplotlib.pyplot as plt\n",
    "import seaborn as sns\n",
    "%matplotlib inline\n",
    "sns.set()"
   ]
  },
  {
   "cell_type": "code",
   "execution_count": 3,
   "metadata": {},
   "outputs": [],
   "source": [
    "import lightgbm as lgbm\n",
    "from sklearn import metrics\n",
    "from sklearn.metrics import mean_squared_error\n",
    "from sklearn.model_selection import KFold, train_test_split"
   ]
  },
  {
   "cell_type": "code",
   "execution_count": 4,
   "metadata": {
    "collapsed": true
   },
   "outputs": [],
   "source": [
    "PATH = 'data/nyc-taxi/'\n",
    "CSV_PATH = 'submissions/LGBM/'"
   ]
  },
  {
   "cell_type": "code",
   "execution_count": 5,
   "metadata": {},
   "outputs": [],
   "source": [
    "train_df = pd.read_feather('tmp/taxi-train-clean')\n",
    "test_df = pd.read_feather('tmp/taxi-test-clean')\n",
    "test_df_raw = pd.read_csv(f'{PATH}test.csv', usecols=['key'])"
   ]
  },
  {
   "cell_type": "code",
   "execution_count": 6,
   "metadata": {},
   "outputs": [
    {
     "data": {
      "text/plain": [
       "((54062903, 34), (9914, 33))"
      ]
     },
     "execution_count": 6,
     "metadata": {},
     "output_type": "execute_result"
    }
   ],
   "source": [
    "train_df.shape, test_df.shape"
   ]
  },
  {
   "cell_type": "code",
   "execution_count": 7,
   "metadata": {},
   "outputs": [
    {
     "name": "stdout",
     "output_type": "stream",
     "text": [
      "CPU times: user 55.5 s, sys: 13 s, total: 1min 8s\n",
      "Wall time: 1min 8s\n"
     ]
    }
   ],
   "source": [
    "%%time\n",
    "X_train, X_valid, y_train, y_valid = train_test_split(train_df.drop('fare_amount', axis=1), train_df['fare_amount'], test_size=0.05, random_state=111)\n",
    "\n",
    "X_train.shape, y_train.shape, X_valid.shape, y_valid.shape"
   ]
  },
  {
   "cell_type": "code",
   "execution_count": 8,
   "metadata": {
    "_uuid": "67c5e48091f6c05fc40b268a7228e3c3884da315",
    "collapsed": true
   },
   "outputs": [],
   "source": [
    "params = {\n",
    "        'boosting_type':'gbdt',\n",
    "        'objective': 'regression',\n",
    "        'nthread': 16,\n",
    "        'num_leaves': 31,\n",
    "        'learning_rate': 0.05,\n",
    "        'max_depth': -1,\n",
    "        'subsample': 0.8,\n",
    "        'bagging_fraction' : 1,\n",
    "        'max_bin' : 5000 ,\n",
    "        'bagging_freq': 20,\n",
    "        'colsample_bytree': 0.6,\n",
    "        'metric': 'rmse',\n",
    "        'min_split_gain': 0.5,\n",
    "        'min_child_weight': 1,\n",
    "        'min_child_samples': 10,\n",
    "        'scale_pos_weight':1,\n",
    "        'zero_as_missing': True,\n",
    "        'seed':0\n",
    "    }\n",
    "\n",
    "\n",
    "def LGBMmodel(X_train, X_valid, y_train, y_valid, params):\n",
    "    matrix_train = lgbm.Dataset(X_train, y_train)\n",
    "    matrix_test = lgbm.Dataset(X_valid, y_valid)\n",
    "    model=lgbm.train(params=params,\n",
    "                    train_set=matrix_train,\n",
    "                    num_boost_round=50_000, \n",
    "                    early_stopping_rounds=500,\n",
    "                    verbose_eval=100,\n",
    "                    valid_sets=matrix_test)\n",
    "    return model"
   ]
  },
  {
   "cell_type": "code",
   "execution_count": 9,
   "metadata": {
    "_uuid": "444e34e68cc751cf6c3b4afdcc73bac7913c99fe",
    "scrolled": false
   },
   "outputs": [
    {
     "name": "stdout",
     "output_type": "stream",
     "text": [
      "Training until validation scores don't improve for 500 rounds.\n",
      "[100]\tvalid_0's rmse: 3.74722\n",
      "[200]\tvalid_0's rmse: 3.64835\n",
      "[300]\tvalid_0's rmse: 3.60687\n",
      "[400]\tvalid_0's rmse: 3.58092\n",
      "[500]\tvalid_0's rmse: 3.56401\n",
      "[600]\tvalid_0's rmse: 3.55171\n",
      "[700]\tvalid_0's rmse: 3.54187\n",
      "[800]\tvalid_0's rmse: 3.53397\n",
      "[900]\tvalid_0's rmse: 3.52714\n",
      "[1000]\tvalid_0's rmse: 3.52178\n",
      "[1100]\tvalid_0's rmse: 3.51711\n",
      "[1200]\tvalid_0's rmse: 3.51336\n",
      "[1300]\tvalid_0's rmse: 3.50958\n",
      "[1400]\tvalid_0's rmse: 3.50608\n",
      "[1500]\tvalid_0's rmse: 3.50337\n",
      "[1600]\tvalid_0's rmse: 3.50083\n",
      "[1700]\tvalid_0's rmse: 3.49818\n",
      "[1800]\tvalid_0's rmse: 3.49604\n",
      "[1900]\tvalid_0's rmse: 3.49401\n",
      "[2000]\tvalid_0's rmse: 3.49198\n",
      "[2100]\tvalid_0's rmse: 3.49021\n",
      "[2200]\tvalid_0's rmse: 3.48861\n",
      "[2300]\tvalid_0's rmse: 3.48708\n",
      "[2400]\tvalid_0's rmse: 3.48595\n",
      "[2500]\tvalid_0's rmse: 3.4845\n",
      "[2600]\tvalid_0's rmse: 3.48317\n",
      "[2700]\tvalid_0's rmse: 3.48201\n",
      "[2800]\tvalid_0's rmse: 3.48074\n",
      "[2900]\tvalid_0's rmse: 3.47982\n",
      "[3000]\tvalid_0's rmse: 3.47867\n",
      "[3100]\tvalid_0's rmse: 3.47749\n",
      "[3200]\tvalid_0's rmse: 3.47645\n",
      "[3300]\tvalid_0's rmse: 3.47558\n",
      "[3400]\tvalid_0's rmse: 3.47473\n",
      "[3500]\tvalid_0's rmse: 3.47422\n",
      "[3600]\tvalid_0's rmse: 3.47325\n",
      "[3700]\tvalid_0's rmse: 3.47244\n",
      "[3800]\tvalid_0's rmse: 3.47157\n",
      "[3900]\tvalid_0's rmse: 3.47093\n",
      "[4000]\tvalid_0's rmse: 3.46998\n",
      "[4100]\tvalid_0's rmse: 3.4693\n",
      "[4200]\tvalid_0's rmse: 3.46885\n",
      "[4300]\tvalid_0's rmse: 3.4682\n",
      "[4400]\tvalid_0's rmse: 3.46755\n",
      "[4500]\tvalid_0's rmse: 3.46684\n",
      "[4600]\tvalid_0's rmse: 3.46626\n",
      "[4700]\tvalid_0's rmse: 3.46575\n",
      "[4800]\tvalid_0's rmse: 3.46535\n",
      "[4900]\tvalid_0's rmse: 3.465\n",
      "[5000]\tvalid_0's rmse: 3.46493\n",
      "[5100]\tvalid_0's rmse: 3.46444\n",
      "[5200]\tvalid_0's rmse: 3.46418\n",
      "[5300]\tvalid_0's rmse: 3.46366\n",
      "[5400]\tvalid_0's rmse: 3.46323\n",
      "[5500]\tvalid_0's rmse: 3.463\n",
      "[5600]\tvalid_0's rmse: 3.46275\n",
      "[5700]\tvalid_0's rmse: 3.46224\n",
      "[5800]\tvalid_0's rmse: 3.46187\n",
      "[5900]\tvalid_0's rmse: 3.46147\n",
      "[6000]\tvalid_0's rmse: 3.46082\n",
      "[6100]\tvalid_0's rmse: 3.46056\n",
      "[6200]\tvalid_0's rmse: 3.4602\n",
      "[6300]\tvalid_0's rmse: 3.45993\n",
      "[6400]\tvalid_0's rmse: 3.4596\n",
      "[6500]\tvalid_0's rmse: 3.45909\n",
      "[6600]\tvalid_0's rmse: 3.45883\n",
      "[6700]\tvalid_0's rmse: 3.45872\n",
      "[6800]\tvalid_0's rmse: 3.45841\n",
      "[6900]\tvalid_0's rmse: 3.45822\n",
      "[7000]\tvalid_0's rmse: 3.45803\n",
      "[7100]\tvalid_0's rmse: 3.4578\n",
      "[7200]\tvalid_0's rmse: 3.45747\n",
      "[7300]\tvalid_0's rmse: 3.45716\n",
      "[7400]\tvalid_0's rmse: 3.45691\n",
      "[7500]\tvalid_0's rmse: 3.45675\n",
      "[7600]\tvalid_0's rmse: 3.45645\n",
      "[7700]\tvalid_0's rmse: 3.45614\n",
      "[7800]\tvalid_0's rmse: 3.45594\n",
      "[7900]\tvalid_0's rmse: 3.45559\n",
      "[8000]\tvalid_0's rmse: 3.45549\n",
      "[8100]\tvalid_0's rmse: 3.45529\n",
      "[8200]\tvalid_0's rmse: 3.45531\n",
      "[8300]\tvalid_0's rmse: 3.45524\n",
      "[8400]\tvalid_0's rmse: 3.45498\n",
      "[8500]\tvalid_0's rmse: 3.45497\n",
      "[8600]\tvalid_0's rmse: 3.45486\n",
      "[8700]\tvalid_0's rmse: 3.45469\n",
      "[8800]\tvalid_0's rmse: 3.45456\n",
      "[8900]\tvalid_0's rmse: 3.45446\n",
      "[9000]\tvalid_0's rmse: 3.45428\n",
      "[9100]\tvalid_0's rmse: 3.45403\n",
      "[9200]\tvalid_0's rmse: 3.45388\n",
      "[9300]\tvalid_0's rmse: 3.45377\n",
      "[9400]\tvalid_0's rmse: 3.45364\n",
      "[9500]\tvalid_0's rmse: 3.45349\n",
      "[9600]\tvalid_0's rmse: 3.45338\n",
      "[9700]\tvalid_0's rmse: 3.45332\n",
      "[9800]\tvalid_0's rmse: 3.45326\n",
      "[9900]\tvalid_0's rmse: 3.45306\n",
      "[10000]\tvalid_0's rmse: 3.45301\n",
      "[10100]\tvalid_0's rmse: 3.45293\n",
      "[10200]\tvalid_0's rmse: 3.45284\n",
      "[10300]\tvalid_0's rmse: 3.45281\n",
      "[10400]\tvalid_0's rmse: 3.45268\n",
      "[10500]\tvalid_0's rmse: 3.45248\n",
      "[10600]\tvalid_0's rmse: 3.45228\n",
      "[10700]\tvalid_0's rmse: 3.45215\n",
      "[10800]\tvalid_0's rmse: 3.452\n",
      "[10900]\tvalid_0's rmse: 3.4519\n",
      "[11000]\tvalid_0's rmse: 3.45186\n",
      "[11100]\tvalid_0's rmse: 3.45171\n",
      "[11200]\tvalid_0's rmse: 3.45156\n",
      "[11300]\tvalid_0's rmse: 3.4515\n",
      "[11400]\tvalid_0's rmse: 3.45141\n",
      "[11500]\tvalid_0's rmse: 3.45133\n",
      "[11600]\tvalid_0's rmse: 3.4512\n",
      "[11700]\tvalid_0's rmse: 3.45113\n",
      "[11800]\tvalid_0's rmse: 3.45095\n",
      "[11900]\tvalid_0's rmse: 3.45079\n",
      "[12000]\tvalid_0's rmse: 3.45068\n",
      "[12100]\tvalid_0's rmse: 3.45059\n",
      "[12200]\tvalid_0's rmse: 3.45047\n",
      "[12300]\tvalid_0's rmse: 3.45047\n",
      "[12400]\tvalid_0's rmse: 3.45032\n",
      "[12500]\tvalid_0's rmse: 3.45022\n",
      "[12600]\tvalid_0's rmse: 3.45014\n",
      "[12700]\tvalid_0's rmse: 3.45\n",
      "[12800]\tvalid_0's rmse: 3.44996\n",
      "[12900]\tvalid_0's rmse: 3.4498\n",
      "[13000]\tvalid_0's rmse: 3.4497\n",
      "[13100]\tvalid_0's rmse: 3.44963\n",
      "[13200]\tvalid_0's rmse: 3.44965\n",
      "[13300]\tvalid_0's rmse: 3.44957\n",
      "[13400]\tvalid_0's rmse: 3.44945\n",
      "[13500]\tvalid_0's rmse: 3.4492\n",
      "[13600]\tvalid_0's rmse: 3.44896\n",
      "[13700]\tvalid_0's rmse: 3.44879\n",
      "[13800]\tvalid_0's rmse: 3.44884\n",
      "[13900]\tvalid_0's rmse: 3.44877\n",
      "[14000]\tvalid_0's rmse: 3.44873\n",
      "[14100]\tvalid_0's rmse: 3.44862\n",
      "[14200]\tvalid_0's rmse: 3.44856\n",
      "[14300]\tvalid_0's rmse: 3.44853\n",
      "[14400]\tvalid_0's rmse: 3.44835\n",
      "[14500]\tvalid_0's rmse: 3.44834\n",
      "[14600]\tvalid_0's rmse: 3.44821\n",
      "[14700]\tvalid_0's rmse: 3.44811\n",
      "[14800]\tvalid_0's rmse: 3.44812\n",
      "[14900]\tvalid_0's rmse: 3.44805\n",
      "[15000]\tvalid_0's rmse: 3.44802\n",
      "[15100]\tvalid_0's rmse: 3.44792\n",
      "[15200]\tvalid_0's rmse: 3.44782\n",
      "[15300]\tvalid_0's rmse: 3.44772\n",
      "[15400]\tvalid_0's rmse: 3.44772\n",
      "[15500]\tvalid_0's rmse: 3.44766\n",
      "[15600]\tvalid_0's rmse: 3.44759\n",
      "[15700]\tvalid_0's rmse: 3.44746\n",
      "[15800]\tvalid_0's rmse: 3.44736\n",
      "[15900]\tvalid_0's rmse: 3.44732\n",
      "[16000]\tvalid_0's rmse: 3.44723\n",
      "[16100]\tvalid_0's rmse: 3.44717\n",
      "[16200]\tvalid_0's rmse: 3.44721\n",
      "[16300]\tvalid_0's rmse: 3.44704\n",
      "[16400]\tvalid_0's rmse: 3.44702\n",
      "[16500]\tvalid_0's rmse: 3.44699\n",
      "[16600]\tvalid_0's rmse: 3.44688\n",
      "[16700]\tvalid_0's rmse: 3.44677\n",
      "[16800]\tvalid_0's rmse: 3.44674\n",
      "[16900]\tvalid_0's rmse: 3.44674\n",
      "[17000]\tvalid_0's rmse: 3.44672\n",
      "[17100]\tvalid_0's rmse: 3.44666\n",
      "[17200]\tvalid_0's rmse: 3.44654\n",
      "[17300]\tvalid_0's rmse: 3.44645\n",
      "[17400]\tvalid_0's rmse: 3.44638\n",
      "[17500]\tvalid_0's rmse: 3.44638\n",
      "[17600]\tvalid_0's rmse: 3.44636\n",
      "[17700]\tvalid_0's rmse: 3.44641\n",
      "[17800]\tvalid_0's rmse: 3.44641\n",
      "[17900]\tvalid_0's rmse: 3.44634\n",
      "[18000]\tvalid_0's rmse: 3.4463\n",
      "[18100]\tvalid_0's rmse: 3.44617\n",
      "[18200]\tvalid_0's rmse: 3.44611\n",
      "[18300]\tvalid_0's rmse: 3.44608\n",
      "[18400]\tvalid_0's rmse: 3.44604\n",
      "[18500]\tvalid_0's rmse: 3.44595\n",
      "[18600]\tvalid_0's rmse: 3.44592\n",
      "[18700]\tvalid_0's rmse: 3.44584\n",
      "[18800]\tvalid_0's rmse: 3.44582\n",
      "[18900]\tvalid_0's rmse: 3.44583\n",
      "[19000]\tvalid_0's rmse: 3.44583\n",
      "[19100]\tvalid_0's rmse: 3.44589\n",
      "[19200]\tvalid_0's rmse: 3.44584\n",
      "[19300]\tvalid_0's rmse: 3.44576\n",
      "[19400]\tvalid_0's rmse: 3.44566\n",
      "[19500]\tvalid_0's rmse: 3.44563\n",
      "[19600]\tvalid_0's rmse: 3.44562\n",
      "[19700]\tvalid_0's rmse: 3.44553\n",
      "[19800]\tvalid_0's rmse: 3.44551\n",
      "[19900]\tvalid_0's rmse: 3.44544\n",
      "[20000]\tvalid_0's rmse: 3.44539\n",
      "[20100]\tvalid_0's rmse: 3.44538\n",
      "[20200]\tvalid_0's rmse: 3.44535\n",
      "[20300]\tvalid_0's rmse: 3.44526\n",
      "[20400]\tvalid_0's rmse: 3.44522\n",
      "[20500]\tvalid_0's rmse: 3.44522\n",
      "[20600]\tvalid_0's rmse: 3.4451\n",
      "[20700]\tvalid_0's rmse: 3.445\n",
      "[20800]\tvalid_0's rmse: 3.44503\n",
      "[20900]\tvalid_0's rmse: 3.44499\n",
      "[21000]\tvalid_0's rmse: 3.44491\n",
      "[21100]\tvalid_0's rmse: 3.44491\n",
      "[21200]\tvalid_0's rmse: 3.44493\n",
      "[21300]\tvalid_0's rmse: 3.44499\n",
      "[21400]\tvalid_0's rmse: 3.44499\n",
      "Early stopping, best iteration is:\n",
      "[20978]\tvalid_0's rmse: 3.44487\n"
     ]
    }
   ],
   "source": [
    "# Training RMSE best iteration is 3.25\n",
    "model = LGBMmodel(X_train, X_valid, y_train, y_valid, params)"
   ]
  },
  {
   "cell_type": "code",
   "execution_count": 10,
   "metadata": {
    "_uuid": "d687751e803df4c1e7b0be7faad34845cb9e6cec",
    "collapsed": true
   },
   "outputs": [],
   "source": [
    "prediction = model.predict(test_df, num_iteration = model.best_iteration) \n",
    " \n",
    "submission = pd.DataFrame(\n",
    "    {'key': test_df_raw.key, 'fare_amount': prediction},\n",
    "    columns = ['key', 'fare_amount'])\n",
    "\n",
    "submission.to_csv(f'{CSV_PATH}lgbm.csv', index = False)"
   ]
  },
  {
   "cell_type": "code",
   "execution_count": 11,
   "metadata": {},
   "outputs": [
    {
     "data": {
      "text/plain": [
       "<lightgbm.basic.Booster at 0x7fac2f5fdcf8>"
      ]
     },
     "execution_count": 11,
     "metadata": {},
     "output_type": "execute_result"
    }
   ],
   "source": [
    "model.save_model('tmp/lgbm_model.txt')"
   ]
  }
 ],
 "metadata": {
  "kernelspec": {
   "display_name": "Python 3",
   "language": "python",
   "name": "python3"
  },
  "language_info": {
   "codemirror_mode": {
    "name": "ipython",
    "version": 3
   },
   "file_extension": ".py",
   "mimetype": "text/x-python",
   "name": "python",
   "nbconvert_exporter": "python",
   "pygments_lexer": "ipython3",
   "version": "3.6.3"
  },
  "toc": {
   "base_numbering": 1,
   "nav_menu": {},
   "number_sections": true,
   "sideBar": true,
   "skip_h1_title": false,
   "title_cell": "Table of Contents",
   "title_sidebar": "Contents",
   "toc_cell": false,
   "toc_position": {},
   "toc_section_display": true,
   "toc_window_display": false
  }
 },
 "nbformat": 4,
 "nbformat_minor": 1
}
