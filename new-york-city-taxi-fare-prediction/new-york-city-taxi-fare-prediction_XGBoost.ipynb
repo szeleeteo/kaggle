{
 "cells": [
  {
   "cell_type": "code",
   "execution_count": null,
   "metadata": {
    "_uuid": "6a8d3fef0dcca3c674dc42a01c12b7bc3a0c2aca"
   },
   "outputs": [],
   "source": [
    "%matplotlib inline\n",
    "%reload_ext autoreload\n",
    "%autoreload 2"
   ]
  },
  {
   "cell_type": "code",
   "execution_count": null,
   "metadata": {
    "_uuid": "e9a891959e21036e2abcc9f79b78290ec58b8291"
   },
   "outputs": [],
   "source": [
    "import numpy as np \n",
    "import pandas as pd\n",
    "import matplotlib.pyplot as plt"
   ]
  },
  {
   "cell_type": "code",
   "execution_count": null,
   "metadata": {
    "_uuid": "32b1fe03ade53015f6783d6f76c68c1ba841685e"
   },
   "outputs": [],
   "source": [
    "import xgboost as xgb\n",
    "from sklearn import metrics\n",
    "from sklearn.metrics import mean_squared_error\n",
    "from sklearn.model_selection import KFold, train_test_split"
   ]
  },
  {
   "cell_type": "code",
   "execution_count": null,
   "metadata": {
    "_cell_guid": "b1076dfc-b9ad-4769-8c92-a6c4dae69d19",
    "_uuid": "8f2839f25d086af736a60e9eeb907d3b93b6e0e5"
   },
   "outputs": [],
   "source": [
    "TRAIN_FEATHER = 'tmp/taxi-train-clean'\n",
    "TEST_FEATHER = 'tmp/taxi-test-clean'\n",
    "SUBM_CSV = 'data/nyc-taxi/sample_submission.csv'\n",
    "OUTPUT_DIR = 'submissions/XGB/'\n",
    "NSAMPLES = None\n",
    "SEED = 1000"
   ]
  },
  {
   "cell_type": "code",
   "execution_count": null,
   "metadata": {
    "_uuid": "697e9acf296cdfedc90d592493c5184e875d5f2d"
   },
   "outputs": [],
   "source": [
    "train_df = pd.read_feather(TRAIN_FEATHER)\n",
    "test_df = pd.read_feather(TEST_FEATHER)\n",
    "subm_df = pd.read_csv(SUBM_CSV, index_col='key')"
   ]
  },
  {
   "cell_type": "code",
   "execution_count": null,
   "metadata": {
    "_uuid": "e5102a30dbb35f06e35bdea8592b741ceb5c55ac"
   },
   "outputs": [],
   "source": [
    "train_df.shape, test_df.shape"
   ]
  },
  {
   "cell_type": "markdown",
   "metadata": {
    "_uuid": "c68833e7d1151f75db5100c12cd02c30103d1ee0",
    "collapsed": true
   },
   "source": [
    "# XGB"
   ]
  },
  {
   "cell_type": "code",
   "execution_count": null,
   "metadata": {
    "_uuid": "87666ffd1c50913abe945539affc29fcd9a03d3b"
   },
   "outputs": [],
   "source": [
    "#Cross-validation\n",
    "xgb_params = {\n",
    "    'max_depth': 8, \n",
    "    'eta':0.02\n",
    "    'subsample': 1, \n",
    "    'colsample_bytree': 0.8,\n",
    "    'objective':'reg:linear',\n",
    "    'eval_metric':'rmse',\n",
    "    'silent': 1\n",
    "}"
   ]
  },
  {
   "cell_type": "code",
   "execution_count": null,
   "metadata": {
    "_uuid": "d81edfecdbf373311d810193f0d2db975e467068"
   },
   "outputs": [],
   "source": [
    "train = train_df #.sample(NSAMPLES, random_state=SEED)\n",
    "y = train.fare_amount.copy()\n",
    "train = train[test_df.columns]"
   ]
  },
  {
   "cell_type": "code",
   "execution_count": null,
   "metadata": {
    "_uuid": "d81edfecdbf373311d810193f0d2db975e467068"
   },
   "outputs": [],
   "source": [
    "x_train, x_val, y_train, y_val = train_test_split(train, y, random_state=SEED, test_size=2_000_000)"
   ]
  },
  {
   "cell_type": "code",
   "execution_count": null,
   "metadata": {
    "_uuid": "d81edfecdbf373311d810193f0d2db975e467068"
   },
   "outputs": [],
   "source": [
    "def XGBmodel(x_train,x_val,y_train,y_val,params):\n",
    "    \n",
    "    matrix_train = xgb.DMatrix(x_train,label=y_train)\n",
    "    matrix_val = xgb.DMatrix(x_val,label=y_val)\n",
    "    \n",
    "    model=xgb.train(params=params,\n",
    "                    dtrain=matrix_train,\n",
    "                    verbose_eval=100,\n",
    "                    num_boost_round=50_000, \n",
    "                    early_stopping_rounds=150,\n",
    "                    evals=[(matrix_val,'val')])\n",
    "    return model\n",
    "\n",
    "model = XGBmodel(x_train,x_val,y_train,y_val,xgb_params)"
   ]
  },
  {
   "cell_type": "code",
   "execution_count": null,
   "metadata": {},
   "outputs": [],
   "source": [
    "model.predict(test_df)"
   ]
  },
  {
   "cell_type": "code",
   "execution_count": null,
   "metadata": {},
   "outputs": [],
   "source": [
    "os.makedirs(OUTPUT_DIR, exist_ok=True)"
   ]
  },
  {
   "cell_type": "code",
   "execution_count": null,
   "metadata": {
    "_uuid": "4c574655ba4903afa3fdebe8df9b823051d4b649"
   },
   "outputs": [],
   "source": [
    "subm_df['fare_amount'] = y_preds\n",
    "subm_df.to_csv(f'{OUTPUT_DIR}xgb.csv')\n",
    "subm_df.head()"
   ]
  },
  {
   "cell_type": "raw",
   "metadata": {},
   "source": [
    "Simple Mean: 2.99541\n",
    "Weighted Mean:  2.99523"
   ]
  }
 ],
 "metadata": {
  "kernelspec": {
   "display_name": "Python 3",
   "language": "python",
   "name": "python3"
  },
  "language_info": {
   "codemirror_mode": {
    "name": "ipython",
    "version": 3
   },
   "file_extension": ".py",
   "mimetype": "text/x-python",
   "name": "python",
   "nbconvert_exporter": "python",
   "pygments_lexer": "ipython3",
   "version": "3.6.6"
  },
  "toc": {
   "base_numbering": 1,
   "nav_menu": {},
   "number_sections": true,
   "sideBar": true,
   "skip_h1_title": false,
   "title_cell": "Table of Contents",
   "title_sidebar": "Contents",
   "toc_cell": false,
   "toc_position": {},
   "toc_section_display": true,
   "toc_window_display": false
  }
 },
 "nbformat": 4,
 "nbformat_minor": 1
}
