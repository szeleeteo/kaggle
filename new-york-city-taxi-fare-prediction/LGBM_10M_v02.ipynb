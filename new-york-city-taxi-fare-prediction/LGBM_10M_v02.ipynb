{
 "cells": [
  {
   "cell_type": "code",
   "execution_count": null,
   "metadata": {
    "_uuid": "6a8d3fef0dcca3c674dc42a01c12b7bc3a0c2aca"
   },
   "outputs": [],
   "source": [
    "%matplotlib inline\n",
    "%reload_ext autoreload\n",
    "%autoreload 2"
   ]
  },
  {
   "cell_type": "code",
   "execution_count": null,
   "metadata": {
    "_uuid": "e9a891959e21036e2abcc9f79b78290ec58b8291"
   },
   "outputs": [],
   "source": [
    "import numpy as np \n",
    "import pandas as pd\n",
    "import matplotlib.pyplot as plt"
   ]
  },
  {
   "cell_type": "code",
   "execution_count": null,
   "metadata": {
    "_uuid": "32b1fe03ade53015f6783d6f76c68c1ba841685e"
   },
   "outputs": [],
   "source": [
    "import lightgbm as lgb\n",
    "from sklearn import metrics\n",
    "from sklearn.metrics import mean_squared_error\n",
    "from sklearn.model_selection import KFold, train_test_split"
   ]
  },
  {
   "cell_type": "code",
   "execution_count": null,
   "metadata": {
    "_cell_guid": "b1076dfc-b9ad-4769-8c92-a6c4dae69d19",
    "_uuid": "8f2839f25d086af736a60e9eeb907d3b93b6e0e5"
   },
   "outputs": [],
   "source": [
    "TRAIN_CSV = 'data/nyc-taxi/train.csv'\n",
    "TEST_CSV = 'data/nyc-taxi/test.csv'\n",
    "SUBM_CSV = 'data/nyc-taxi/sample_submission.csv'"
   ]
  },
  {
   "cell_type": "code",
   "execution_count": null,
   "metadata": {
    "_uuid": "8fdf7a65150e6090f7ad3098916dc4dee6004d74"
   },
   "outputs": [],
   "source": [
    "MIN_FARE = 0\n",
    "MAX_FARE = 200\n",
    "MIN_PASSENGER = 1\n",
    "MAX_PASSENGER = 9\n",
    "MIN_LON = -80\n",
    "MAX_LON = -70\n",
    "MIN_LAT = 35\n",
    "MAX_LAT = 45\n",
    "NROWS = 6_000_000"
   ]
  },
  {
   "cell_type": "code",
   "execution_count": null,
   "metadata": {
    "_uuid": "f262685886b45b5280ee12075c91de40355dda54"
   },
   "outputs": [],
   "source": [
    "# Set columns to most suitable type to optimize for memory usage\n",
    "types = {'fare_amount': 'float32',\n",
    "         'pickup_datetime': 'str', \n",
    "         'pickup_longitude': 'float32',\n",
    "         'pickup_latitude': 'float32',\n",
    "         'dropoff_longitude': 'float32',\n",
    "         'dropoff_latitude': 'float32',\n",
    "         'passenger_count': 'uint8'}\n",
    "\n",
    "cols = list(types.keys())"
   ]
  },
  {
   "cell_type": "code",
   "execution_count": null,
   "metadata": {
    "_uuid": "869908140e68ce7e443f7402b93a4c6bdffb1b59"
   },
   "outputs": [],
   "source": [
    "%%time\n",
    "train_df = pd.read_csv(TRAIN_CSV, usecols=cols, dtype=types, nrows=NROWS)\n",
    "train_df['pickup_datetime'] = train_df['pickup_datetime'].str.slice(0, 16)\n",
    "train_df['pickup_datetime'] = pd.to_datetime(train_df['pickup_datetime'], format='%Y-%m-%d %H') "
   ]
  },
  {
   "cell_type": "code",
   "execution_count": null,
   "metadata": {
    "_cell_guid": "b1076dfc-b9ad-4769-8c92-a6c4dae69d19",
    "_uuid": "8f2839f25d086af736a60e9eeb907d3b93b6e0e5"
   },
   "outputs": [],
   "source": [
    "test_df = pd.read_csv(TEST_CSV, dtype=types)\n",
    "test_df.drop('key', axis=1, inplace=True)\n",
    "test_df['pickup_datetime'] = test_df['pickup_datetime'].str.slice(0, 16)\n",
    "test_df['pickup_datetime'] = pd.to_datetime(test_df['pickup_datetime'], format='%Y-%m-%d %H') \n",
    "\n",
    "subm_df = pd.read_csv(SUBM_CSV, index_col='key')"
   ]
  },
  {
   "cell_type": "markdown",
   "metadata": {
    "_uuid": "f6ffb6e24420209c6b09e97b0b991c5c82c6e66a"
   },
   "source": [
    "# Feature Engineering"
   ]
  },
  {
   "cell_type": "code",
   "execution_count": null,
   "metadata": {
    "_uuid": "19ceba5dc2c3728e231ec9da21c960d38304bff2"
   },
   "outputs": [],
   "source": [
    "def clean_feats(df):\n",
    "    df = df.dropna(how='any', axis='rows')\n",
    "    df = df[(df['fare_amount'].between(MIN_FARE, MAX_FARE, inclusive=False))]\n",
    "    df = df[(df['passenger_count'].between(MIN_PASSENGER, MAX_PASSENGER))]\n",
    "    df = df[(df['pickup_longitude'].between(MIN_LON, MAX_LON)) &\n",
    "            (df['pickup_latitude'].between(MIN_LAT, MAX_LAT)) &\n",
    "            (df['dropoff_longitude'].between(MIN_LON, MAX_LON)) &\n",
    "            (df['dropoff_latitude'].between(MIN_LAT, MAX_LAT))] \n",
    "    \n",
    "    return df"
   ]
  },
  {
   "cell_type": "code",
   "execution_count": null,
   "metadata": {
    "_uuid": "6b2990405dc72eb3f55f6048116db2f524f26be8"
   },
   "outputs": [],
   "source": [
    "def add_distance_feats(df):\n",
    "    df['longitude_distance'] = np.abs(df['pickup_longitude'] - df['dropoff_longitude'])\n",
    "    df['latitude_distance'] = np.abs(df['pickup_latitude'] - df['dropoff_latitude'])\n",
    "    df['manhattan_distance'] = (df['longitude_distance'] + df['latitude_distance'])\n",
    "    df['distance_travelled'] = (df['longitude_distance'] ** 2 + df['latitude_distance'] ** 2) ** .5\n",
    "\n",
    "    return df\n",
    "\n",
    "\n",
    "def add_datetime_feats(df):\n",
    "    df['year'] = (df['pickup_datetime'].dt.year-2000).astype('uint8') # minus 2000 in order to use uint8 \n",
    "    df['month'] = df['pickup_datetime'].dt.month.astype('uint8')  \n",
    "    df['week'] = df['pickup_datetime'].dt.week.astype('uint8')  \n",
    "    df['dayofweek'] = df['pickup_datetime'].dt.dayofweek.astype('uint8')  \n",
    "    df['hour'] = df['pickup_datetime'].dt.hour.astype('uint8')  \n",
    "    df.drop('pickup_datetime', axis=1, inplace=True)\n",
    "    \n",
    "    return df\n",
    "\n",
    "\n",
    "def dist(pickup_lat, pickup_long, dropoff_lat, dropoff_long):  \n",
    "    return (np.abs(dropoff_lat - pickup_lat) + np.abs(dropoff_long - pickup_long)).astype('float32')  \n",
    "\n",
    "\n",
    "# Airport Features - By Albert van Breenmen\n",
    "# https://www.kaggle.com/breemen/nyc-taxi-fare-data-exploration\n",
    "def add_airport_feats(df):\n",
    "    nyc = (40.712775,-74.005973) # New York City\n",
    "    jfk = (40.641311,-73.778139) # John F. Kennedy International Airport\n",
    "    ewr = (40.689531,-74.174462) # Newark Liberty International Airport\n",
    "    lgr = (40.776927,-73.873966) # LaGuardia Airport\n",
    "    \n",
    "    df['pickup_distance_to_nyc'] = dist(nyc[0], nyc[1], df['pickup_latitude'], df['pickup_longitude'])\n",
    "    df['dropoff_distance_to_nyc'] = dist(nyc[0], nyc[1], df['dropoff_latitude'], df['dropoff_longitude'])\n",
    "    df['pickup_distance_to_jfk'] = dist(jfk[0], jfk[1], df['pickup_latitude'], df['pickup_longitude'])\n",
    "    df['dropoff_distance_to_jfk'] = dist(jfk[0], jfk[1], df['dropoff_latitude'], df['dropoff_longitude'])\n",
    "    df['pickup_distance_to_ewr'] = dist(ewr[0], ewr[1], df['pickup_latitude'], df['pickup_longitude'])\n",
    "    df['dropoff_distance_to_ewr'] = dist(ewr[0], ewr[1], df['dropoff_latitude'], df['dropoff_longitude'])\n",
    "    df['pickup_distance_to_lgr'] = dist(lgr[0], lgr[1], df['pickup_latitude'], df['pickup_longitude'])\n",
    "    df['dropoff_distance_to_lgr'] = dist(lgr[0], lgr[1], df['dropoff_latitude'], df['dropoff_longitude'])\n",
    "    \n",
    "    return df"
   ]
  },
  {
   "cell_type": "code",
   "execution_count": null,
   "metadata": {
    "_uuid": "cd9819fc55093f676e41cb297e0074159ab6b11d"
   },
   "outputs": [],
   "source": [
    "def add_feats(df):\n",
    "    df = add_distance_feats(df)\n",
    "    df = add_datetime_feats(df)\n",
    "    df = add_airport_feats(df)\n",
    "    \n",
    "    return df"
   ]
  },
  {
   "cell_type": "code",
   "execution_count": null,
   "metadata": {
    "_uuid": "408288dea6144cbac692a343312fd5917f31fcc6",
    "scrolled": false
   },
   "outputs": [],
   "source": [
    "%%time\n",
    "print(\"Before:\", train_df.shape)\n",
    "\n",
    "train_df = clean_feats(train_df)\n",
    "train_df = add_feats(train_df)\n",
    "test_df = add_feats(test_df)\n",
    "\n",
    "print(\"After:\", train_df.shape)"
   ]
  },
  {
   "cell_type": "code",
   "execution_count": null,
   "metadata": {
    "_uuid": "e5102a30dbb35f06e35bdea8592b741ceb5c55ac"
   },
   "outputs": [],
   "source": [
    "train_df.shape, test_df.shape"
   ]
  },
  {
   "cell_type": "markdown",
   "metadata": {
    "_uuid": "c68833e7d1151f75db5100c12cd02c30103d1ee0",
    "collapsed": true
   },
   "source": [
    "# LGBM"
   ]
  },
  {
   "cell_type": "code",
   "execution_count": null,
   "metadata": {
    "_uuid": "87666ffd1c50913abe945539affc29fcd9a03d3b"
   },
   "outputs": [],
   "source": [
    "y = train_df.fare_amount.copy()\n",
    "train_df = train_df[test_df.columns]"
   ]
  },
  {
   "cell_type": "code",
   "execution_count": null,
   "metadata": {
    "_uuid": "7766b469ff38a3e5ceac7641a72a417595a95c24"
   },
   "outputs": [],
   "source": [
    "categorical = ['passenger_count', 'year', 'month', 'week', 'hour']"
   ]
  },
  {
   "cell_type": "code",
   "execution_count": null,
   "metadata": {
    "_uuid": "87666ffd1c50913abe945539affc29fcd9a03d3b"
   },
   "outputs": [],
   "source": [
    "lgbm_params = {\n",
    "    'task': 'train',\n",
    "    'boosting_type': 'gbdt',\n",
    "    'objective': 'regression',\n",
    "    'metric': 'rmse',\n",
    "    'learning_rate': 0.025,      # 0.1\n",
    "    'feature_fraction': 1.0,     # 1.0 speed\n",
    "    'bagging_fraction': 1.0,     # 1.0 speed\n",
    "    'bagging_freq': 0,           # 0   speed\n",
    "    'max_bin': 400,              # 255 accuracy\n",
    "    'max_depth': -1,             # -1  overfitting\n",
    "    'num_leaves': 50,            # 31  overfitting\n",
    "}"
   ]
  },
  {
   "cell_type": "markdown",
   "metadata": {
    "_uuid": "822262feda789a7936d976cccce1137155761268"
   },
   "source": [
    "# Train with K-Split"
   ]
  },
  {
   "cell_type": "code",
   "execution_count": null,
   "metadata": {
    "_uuid": "d81edfecdbf373311d810193f0d2db975e467068"
   },
   "outputs": [],
   "source": [
    "folds = KFold(n_splits=5, shuffle=True, random_state=1)\n",
    "fold_preds = np.zeros(test_df.shape[0])\n",
    "i=0\n",
    "\n",
    "for trn_idx, val_idx in folds.split(train_df):   \n",
    "    i+=1\n",
    "    print(f'Split {i}')\n",
    "    \n",
    "    dtrain = lgb.Dataset(train_df.iloc[trn_idx], label=y.iloc[trn_idx], \n",
    "                         feature_name=train_df.columns.tolist(),\n",
    "                         categorical_feature=categorical,\n",
    "                         free_raw_data=False)\n",
    "\n",
    "    dval = lgb.Dataset(train_df.iloc[val_idx], label=y.iloc[val_idx], \n",
    "                       feature_name=train_df.columns.tolist(),\n",
    "                       categorical_feature=categorical,\n",
    "                       free_raw_data=False)\n",
    "\n",
    "    dtrain.construct()\n",
    "    dval.construct()\n",
    "    \n",
    "    gbm = lgb.train(\n",
    "        params=lgbm_params,\n",
    "        train_set=dtrain,\n",
    "        valid_sets=dval,\n",
    "        num_boost_round=10_000, \n",
    "        early_stopping_rounds=125,\n",
    "        verbose_eval=500,\n",
    "        categorical_feature=categorical\n",
    "    )\n",
    "        \n",
    "    # only calculate training RMSE since validation RMSE is already stored in gbm.best_score\n",
    "    train_preds = gbm.predict(train_df.iloc[trn_idx])\n",
    "    train_rmse = mean_squared_error(y.iloc[trn_idx], train_preds) ** .5\n",
    "    print(f\"Training RMSE: {train_rmse:.4f}\")\n",
    "    \n",
    "    fold_preds = gbm.predict(test_df) \n",
    "    subm_df['fare_amount'] = fold_preds\n",
    "    subm_df.to_csv(f\"submissions/LGBM/v02-Fold{i}.csv\")\n",
    "\n",
    "    # predict on test data, dividing by number of folds\n",
    "#     fold_preds += gbm.predict(test_df) / folds.n_splits"
   ]
  },
  {
   "cell_type": "code",
   "execution_count": null,
   "metadata": {},
   "outputs": [],
   "source": []
  },
  {
   "cell_type": "code",
   "execution_count": null,
   "metadata": {},
   "outputs": [],
   "source": []
  },
  {
   "cell_type": "raw",
   "metadata": {},
   "source": [
    "Learning rate 0.05 -> Kaggle 3.03594\n",
    "\n",
    "Split 1\n",
    "Training until validation scores don't improve for 125 rounds.\n",
    "[500]\tvalid_0's rmse: 3.486\n",
    "[1000]\tvalid_0's rmse: 3.43964\n",
    "[1500]\tvalid_0's rmse: 3.41772\n",
    "[2000]\tvalid_0's rmse: 3.40625\n",
    "[2500]\tvalid_0's rmse: 3.40027\n",
    "[3000]\tvalid_0's rmse: 3.39647\n",
    "[3500]\tvalid_0's rmse: 3.39362\n",
    "[4000]\tvalid_0's rmse: 3.39161\n",
    "[4500]\tvalid_0's rmse: 3.38985\n",
    "[5000]\tvalid_0's rmse: 3.38816\n",
    "Early stopping, best iteration is:\n",
    "[5063]\tvalid_0's rmse: 3.38787\n",
    "Training RMSE: 2.8928\n",
    "Split 2\n",
    "Training until validation scores don't improve for 125 rounds.\n",
    "[500]\tvalid_0's rmse: 3.44203\n",
    "[1000]\tvalid_0's rmse: 3.39645\n",
    "[1500]\tvalid_0's rmse: 3.37321\n",
    "[2000]\tvalid_0's rmse: 3.36341\n",
    "[2500]\tvalid_0's rmse: 3.35764\n",
    "[3000]\tvalid_0's rmse: 3.35454\n",
    "[3500]\tvalid_0's rmse: 3.35171\n",
    "[4000]\tvalid_0's rmse: 3.34962\n",
    "[4500]\tvalid_0's rmse: 3.34786\n",
    "[5000]\tvalid_0's rmse: 3.34607\n",
    "Early stopping, best iteration is:\n",
    "[5247]\tvalid_0's rmse: 3.34493\n",
    "Training RMSE: 2.8898\n",
    "Split 3\n",
    "Training until validation scores don't improve for 125 rounds.\n",
    "[500]\tvalid_0's rmse: 3.5018\n",
    "[1000]\tvalid_0's rmse: 3.45554\n",
    "[1500]\tvalid_0's rmse: 3.43499\n",
    "[2000]\tvalid_0's rmse: 3.42366\n",
    "[2500]\tvalid_0's rmse: 3.41627\n",
    "[3000]\tvalid_0's rmse: 3.41274\n",
    "[3500]\tvalid_0's rmse: 3.40943\n",
    "[4000]\tvalid_0's rmse: 3.4068\n",
    "[4500]\tvalid_0's rmse: 3.40555\n",
    "[5000]\tvalid_0's rmse: 3.40415\n",
    "[5500]\tvalid_0's rmse: 3.403\n",
    "[6000]\tvalid_0's rmse: 3.40213\n",
    "Early stopping, best iteration is:\n",
    "[6183]\tvalid_0's rmse: 3.40158\n",
    "Training RMSE: 2.8415\n",
    "Split 4\n",
    "Training until validation scores don't improve for 125 rounds.\n",
    "[500]\tvalid_0's rmse: 3.46666\n",
    "[1000]\tvalid_0's rmse: 3.42193\n",
    "[1500]\tvalid_0's rmse: 3.4037\n",
    "[2000]\tvalid_0's rmse: 3.39366\n",
    "[2500]\tvalid_0's rmse: 3.38678\n",
    "[3000]\tvalid_0's rmse: 3.38321\n",
    "[3500]\tvalid_0's rmse: 3.38052\n",
    "[4000]\tvalid_0's rmse: 3.37864\n",
    "[4500]\tvalid_0's rmse: 3.37708\n",
    "[5000]\tvalid_0's rmse: 3.3762\n",
    "[5500]\tvalid_0's rmse: 3.37537\n",
    "Early stopping, best iteration is:\n",
    "[5543]\tvalid_0's rmse: 3.37516\n",
    "Training RMSE: 2.8782\n",
    "Split 5\n",
    "Training until validation scores don't improve for 125 rounds.\n",
    "[500]\tvalid_0's rmse: 3.49224\n",
    "[1000]\tvalid_0's rmse: 3.44754\n",
    "[1500]\tvalid_0's rmse: 3.42702\n",
    "[2000]\tvalid_0's rmse: 3.4174\n",
    "[2500]\tvalid_0's rmse: 3.41027\n",
    "[3000]\tvalid_0's rmse: 3.40608\n",
    "[3500]\tvalid_0's rmse: 3.40386\n",
    "[4000]\tvalid_0's rmse: 3.4014\n",
    "[4500]\tvalid_0's rmse: 3.40018\n",
    "[5000]\tvalid_0's rmse: 3.39844\n",
    "Early stopping, best iteration is:\n",
    "[5371]\tvalid_0's rmse: 3.39795\n",
    "Training RMSE: 2.8724"
   ]
  },
  {
   "cell_type": "raw",
   "metadata": {},
   "source": [
    "Previous Results with 0.1 learning rate\n",
    "\n",
    "Split 1\n",
    "Training until validation scores don't improve for 125 rounds.\n",
    "[500]\tvalid_0's rmse: 3.45908\n",
    "[1000]\tvalid_0's rmse: 3.4181\n",
    "[1500]\tvalid_0's rmse: 3.40067\n",
    "[2000]\tvalid_0's rmse: 3.39097\n",
    "[2500]\tvalid_0's rmse: 3.38488\n",
    "[3000]\tvalid_0's rmse: 3.38074\n",
    "[3500]\tvalid_0's rmse: 3.37715\n",
    "Did not meet early stopping. Best iteration is:\n",
    "[3493]\tvalid_0's rmse: 3.37707\n",
    "Training RMSE: 3.0613\n",
    "Split 2\n",
    "Training until validation scores don't improve for 125 rounds.\n",
    "[500]\tvalid_0's rmse: 3.442\n",
    "[1000]\tvalid_0's rmse: 3.39875\n",
    "[1500]\tvalid_0's rmse: 3.38229\n",
    "[2000]\tvalid_0's rmse: 3.37289\n",
    "[2500]\tvalid_0's rmse: 3.36725\n",
    "[3000]\tvalid_0's rmse: 3.3633\n",
    "[3500]\tvalid_0's rmse: 3.35967\n",
    "Did not meet early stopping. Best iteration is:\n",
    "[3500]\tvalid_0's rmse: 3.35967\n",
    "Training RMSE: 3.0678\n",
    "Split 3\n",
    "Training until validation scores don't improve for 125 rounds.\n",
    "[500]\tvalid_0's rmse: 3.46252\n",
    "[1000]\tvalid_0's rmse: 3.41795\n",
    "[1500]\tvalid_0's rmse: 3.402\n",
    "[2000]\tvalid_0's rmse: 3.39159\n",
    "[2500]\tvalid_0's rmse: 3.38588\n",
    "[3000]\tvalid_0's rmse: 3.38128\n",
    "[3500]\tvalid_0's rmse: 3.3787\n",
    "Did not meet early stopping. Best iteration is:\n",
    "[3469]\tvalid_0's rmse: 3.37869\n",
    "Training RMSE: 3.0646\n",
    "Split 4\n",
    "Training until validation scores don't improve for 125 rounds.\n",
    "[500]\tvalid_0's rmse: 3.42281\n",
    "[1000]\tvalid_0's rmse: 3.3763\n",
    "[1500]\tvalid_0's rmse: 3.35898\n",
    "[2000]\tvalid_0's rmse: 3.34883\n",
    "[2500]\tvalid_0's rmse: 3.34305\n",
    "[3000]\tvalid_0's rmse: 3.33867\n",
    "[3500]\tvalid_0's rmse: 3.33484\n",
    "Did not meet early stopping. Best iteration is:\n",
    "[3495]\tvalid_0's rmse: 3.33483\n",
    "Training RMSE: 3.0676\n",
    "Split 5\n",
    "Training until validation scores don't improve for 125 rounds.\n",
    "[500]\tvalid_0's rmse: 3.4565\n",
    "[1000]\tvalid_0's rmse: 3.41404\n",
    "[1500]\tvalid_0's rmse: 3.39818\n",
    "[2000]\tvalid_0's rmse: 3.38923\n",
    "[2500]\tvalid_0's rmse: 3.38216\n",
    "[3000]\tvalid_0's rmse: 3.37721\n",
    "[3500]\tvalid_0's rmse: 3.37467\n",
    "Did not meet early stopping. Best iteration is:\n",
    "[3500]\tvalid_0's rmse: 3.37467\n",
    "Training RMSE: 3.0632"
   ]
  }
 ],
 "metadata": {
  "kernelspec": {
   "display_name": "Python (tf)",
   "language": "python",
   "name": "tf"
  },
  "language_info": {
   "codemirror_mode": {
    "name": "ipython",
    "version": 3
   },
   "file_extension": ".py",
   "mimetype": "text/x-python",
   "name": "python",
   "nbconvert_exporter": "python",
   "pygments_lexer": "ipython3",
   "version": "3.6.6"
  },
  "toc": {
   "base_numbering": 1,
   "nav_menu": {},
   "number_sections": true,
   "sideBar": true,
   "skip_h1_title": false,
   "title_cell": "Table of Contents",
   "title_sidebar": "Contents",
   "toc_cell": false,
   "toc_position": {},
   "toc_section_display": true,
   "toc_window_display": false
  }
 },
 "nbformat": 4,
 "nbformat_minor": 1
}
