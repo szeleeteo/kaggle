{
 "cells": [
  {
   "cell_type": "markdown",
   "metadata": {},
   "source": [
    "https://www.kaggle.com/c/new-york-city-taxi-fare-prediction/"
   ]
  },
  {
   "cell_type": "markdown",
   "metadata": {
    "heading_collapsed": true
   },
   "source": [
    "# Imports"
   ]
  },
  {
   "cell_type": "code",
   "execution_count": 1,
   "metadata": {
    "hidden": true
   },
   "outputs": [],
   "source": [
    "%matplotlib inline\n",
    "%reload_ext autoreload\n",
    "%autoreload 2"
   ]
  },
  {
   "cell_type": "code",
   "execution_count": 2,
   "metadata": {
    "_cell_guid": "b1076dfc-b9ad-4769-8c92-a6c4dae69d19",
    "_uuid": "8f2839f25d086af736a60e9eeb907d3b93b6e0e5",
    "hidden": true
   },
   "outputs": [],
   "source": [
    "import numpy as np \n",
    "import pandas as pd \n",
    "import matplotlib.pyplot as plt\n",
    "import os"
   ]
  },
  {
   "cell_type": "code",
   "execution_count": 3,
   "metadata": {
    "hidden": true
   },
   "outputs": [],
   "source": [
    "from fastai.imports import *\n",
    "from fastai.structured import *\n",
    "\n",
    "from pandas_summary import DataFrameSummary\n",
    "from IPython.display import display"
   ]
  },
  {
   "cell_type": "code",
   "execution_count": 4,
   "metadata": {
    "hidden": true
   },
   "outputs": [],
   "source": [
    "PATH = 'data/nyc-taxi/'"
   ]
  },
  {
   "cell_type": "markdown",
   "metadata": {
    "_uuid": "fb969a26e52931bcaced3cbb7a36d8d8b1b04556",
    "heading_collapsed": true
   },
   "source": [
    "# Load training and test data"
   ]
  },
  {
   "cell_type": "markdown",
   "metadata": {
    "hidden": true
   },
   "source": [
    "The entire dataset has about 55,423,857 rows"
   ]
  },
  {
   "cell_type": "code",
   "execution_count": 5,
   "metadata": {
    "hidden": true
   },
   "outputs": [],
   "source": [
    "types = {'fare_amount': 'float32',\n",
    "         'pickup_longitude': 'float32',\n",
    "         'pickup_latitude': 'float32',\n",
    "         'dropoff_longitude': 'float32',\n",
    "         'dropoff_latitude': 'float32',\n",
    "         'passenger_count': 'uint8'}\n",
    "\n",
    "# Columns to keep (basically discarding the 'key' column) - thanks to the suggestion by mhviraf\n",
    "cols_train = ['fare_amount', 'pickup_datetime', 'pickup_longitude', \n",
    "        'pickup_latitude', 'dropoff_longitude', 'dropoff_latitude', 'passenger_count']\n",
    "\n",
    "# No 'fare_amount'\n",
    "cols_test = ['pickup_datetime', 'pickup_longitude', \n",
    "        'pickup_latitude', 'dropoff_longitude', 'dropoff_latitude', 'passenger_count']"
   ]
  },
  {
   "cell_type": "code",
   "execution_count": 6,
   "metadata": {
    "hidden": true
   },
   "outputs": [
    {
     "name": "stdout",
     "output_type": "stream",
     "text": [
      "Chunk size: 10,000,000\n",
      "Total chunks required: 6\n"
     ]
    }
   ],
   "source": [
    "df_list = [] # list to hold the batch dataframe\n",
    "chunksize = 10_000_000 # 10 million rows at one go. Or try 10 million\n",
    "total_chunk = 55423857 // chunksize + 1\n",
    "\n",
    "print(f'Chunk size: {chunksize:,}\\nTotal chunks required: {total_chunk}')"
   ]
  },
  {
   "cell_type": "code",
   "execution_count": 7,
   "metadata": {
    "hidden": true
   },
   "outputs": [
    {
     "name": "stdout",
     "output_type": "stream",
     "text": [
      "DataFrame Chunk 1/6\n",
      "DataFrame Chunk 2/6\n",
      "DataFrame Chunk 3/6\n",
      "DataFrame Chunk 4/6\n",
      "DataFrame Chunk 5/6\n",
      "DataFrame Chunk 6/6\n",
      "Wall time: 4min 31s\n"
     ]
    }
   ],
   "source": [
    "%%time\n",
    "i=0\n",
    "for df_chunk in pd.read_csv(f'{PATH}train.csv', parse_dates=[\"pickup_datetime\"], usecols=cols_train,\n",
    "                         infer_datetime_format=True, dtype=types, chunksize=chunksize):\n",
    "    \n",
    "    i = i+1\n",
    "    # Each chunk is a corresponding dataframe\n",
    "    print(f'DataFrame Chunk {i}/{total_chunk}')\n",
    "    \n",
    "    # Can process each chunk of dataframe here\n",
    "    # feature_engineer(), remove_outliers(), fit(), predict()\n",
    "    \n",
    "    # Alternatively, append the chunk to list and merge all\n",
    "    df_list.append(df_chunk) "
   ]
  },
  {
   "cell_type": "code",
   "execution_count": 8,
   "metadata": {
    "hidden": true
   },
   "outputs": [],
   "source": [
    "# Merge all dataframes into one dataframe\n",
    "train_df = pd.concat(df_list)"
   ]
  },
  {
   "cell_type": "code",
   "execution_count": 9,
   "metadata": {
    "hidden": true
   },
   "outputs": [],
   "source": [
    "del df_list"
   ]
  },
  {
   "cell_type": "code",
   "execution_count": 10,
   "metadata": {
    "hidden": true
   },
   "outputs": [
    {
     "name": "stdout",
     "output_type": "stream",
     "text": [
      "<class 'pandas.core.frame.DataFrame'>\n",
      "RangeIndex: 55423856 entries, 0 to 55423855\n",
      "Data columns (total 7 columns):\n",
      "fare_amount          float32\n",
      "pickup_datetime      datetime64[ns]\n",
      "pickup_longitude     float32\n",
      "pickup_latitude      float32\n",
      "dropoff_longitude    float32\n",
      "dropoff_latitude     float32\n",
      "passenger_count      uint8\n",
      "dtypes: datetime64[ns](1), float32(5), uint8(1)\n",
      "memory usage: 1.5 GB\n"
     ]
    }
   ],
   "source": [
    "train_df.info()"
   ]
  },
  {
   "cell_type": "code",
   "execution_count": 11,
   "metadata": {
    "hidden": true
   },
   "outputs": [
    {
     "data": {
      "text/html": [
       "<div>\n",
       "<style scoped>\n",
       "    .dataframe tbody tr th:only-of-type {\n",
       "        vertical-align: middle;\n",
       "    }\n",
       "\n",
       "    .dataframe tbody tr th {\n",
       "        vertical-align: top;\n",
       "    }\n",
       "\n",
       "    .dataframe thead th {\n",
       "        text-align: right;\n",
       "    }\n",
       "</style>\n",
       "<table border=\"1\" class=\"dataframe\">\n",
       "  <thead>\n",
       "    <tr style=\"text-align: right;\">\n",
       "      <th></th>\n",
       "      <th>fare_amount</th>\n",
       "      <th>pickup_datetime</th>\n",
       "      <th>pickup_longitude</th>\n",
       "      <th>pickup_latitude</th>\n",
       "      <th>dropoff_longitude</th>\n",
       "      <th>dropoff_latitude</th>\n",
       "      <th>passenger_count</th>\n",
       "    </tr>\n",
       "  </thead>\n",
       "  <tbody>\n",
       "    <tr>\n",
       "      <th>0</th>\n",
       "      <td>4.5</td>\n",
       "      <td>2009-06-15 17:26:21</td>\n",
       "      <td>-73.844315</td>\n",
       "      <td>40.721317</td>\n",
       "      <td>-73.841614</td>\n",
       "      <td>40.712276</td>\n",
       "      <td>1</td>\n",
       "    </tr>\n",
       "    <tr>\n",
       "      <th>1</th>\n",
       "      <td>16.9</td>\n",
       "      <td>2010-01-05 16:52:16</td>\n",
       "      <td>-74.016045</td>\n",
       "      <td>40.711304</td>\n",
       "      <td>-73.979271</td>\n",
       "      <td>40.782005</td>\n",
       "      <td>1</td>\n",
       "    </tr>\n",
       "    <tr>\n",
       "      <th>2</th>\n",
       "      <td>5.7</td>\n",
       "      <td>2011-08-18 00:35:00</td>\n",
       "      <td>-73.982735</td>\n",
       "      <td>40.761269</td>\n",
       "      <td>-73.991241</td>\n",
       "      <td>40.750561</td>\n",
       "      <td>2</td>\n",
       "    </tr>\n",
       "    <tr>\n",
       "      <th>3</th>\n",
       "      <td>7.7</td>\n",
       "      <td>2012-04-21 04:30:42</td>\n",
       "      <td>-73.987129</td>\n",
       "      <td>40.733143</td>\n",
       "      <td>-73.991570</td>\n",
       "      <td>40.758091</td>\n",
       "      <td>1</td>\n",
       "    </tr>\n",
       "    <tr>\n",
       "      <th>4</th>\n",
       "      <td>5.3</td>\n",
       "      <td>2010-03-09 07:51:00</td>\n",
       "      <td>-73.968094</td>\n",
       "      <td>40.768009</td>\n",
       "      <td>-73.956657</td>\n",
       "      <td>40.783764</td>\n",
       "      <td>1</td>\n",
       "    </tr>\n",
       "  </tbody>\n",
       "</table>\n",
       "</div>"
      ],
      "text/plain": [
       "   fare_amount     pickup_datetime  pickup_longitude  pickup_latitude  \\\n",
       "0          4.5 2009-06-15 17:26:21        -73.844315        40.721317   \n",
       "1         16.9 2010-01-05 16:52:16        -74.016045        40.711304   \n",
       "2          5.7 2011-08-18 00:35:00        -73.982735        40.761269   \n",
       "3          7.7 2012-04-21 04:30:42        -73.987129        40.733143   \n",
       "4          5.3 2010-03-09 07:51:00        -73.968094        40.768009   \n",
       "\n",
       "   dropoff_longitude  dropoff_latitude  passenger_count  \n",
       "0         -73.841614         40.712276                1  \n",
       "1         -73.979271         40.782005                1  \n",
       "2         -73.991241         40.750561                2  \n",
       "3         -73.991570         40.758091                1  \n",
       "4         -73.956657         40.783764                1  "
      ]
     },
     "metadata": {},
     "output_type": "display_data"
    },
    {
     "data": {
      "text/html": [
       "<div>\n",
       "<style scoped>\n",
       "    .dataframe tbody tr th:only-of-type {\n",
       "        vertical-align: middle;\n",
       "    }\n",
       "\n",
       "    .dataframe tbody tr th {\n",
       "        vertical-align: top;\n",
       "    }\n",
       "\n",
       "    .dataframe thead th {\n",
       "        text-align: right;\n",
       "    }\n",
       "</style>\n",
       "<table border=\"1\" class=\"dataframe\">\n",
       "  <thead>\n",
       "    <tr style=\"text-align: right;\">\n",
       "      <th></th>\n",
       "      <th>fare_amount</th>\n",
       "      <th>pickup_datetime</th>\n",
       "      <th>pickup_longitude</th>\n",
       "      <th>pickup_latitude</th>\n",
       "      <th>dropoff_longitude</th>\n",
       "      <th>dropoff_latitude</th>\n",
       "      <th>passenger_count</th>\n",
       "    </tr>\n",
       "  </thead>\n",
       "  <tbody>\n",
       "    <tr>\n",
       "      <th>55423851</th>\n",
       "      <td>14.0</td>\n",
       "      <td>2014-03-15 03:28:00</td>\n",
       "      <td>-74.005272</td>\n",
       "      <td>40.740028</td>\n",
       "      <td>-73.963280</td>\n",
       "      <td>40.762554</td>\n",
       "      <td>1</td>\n",
       "    </tr>\n",
       "    <tr>\n",
       "      <th>55423852</th>\n",
       "      <td>4.2</td>\n",
       "      <td>2009-03-24 20:46:20</td>\n",
       "      <td>-73.957787</td>\n",
       "      <td>40.765530</td>\n",
       "      <td>-73.951637</td>\n",
       "      <td>40.773960</td>\n",
       "      <td>1</td>\n",
       "    </tr>\n",
       "    <tr>\n",
       "      <th>55423853</th>\n",
       "      <td>14.1</td>\n",
       "      <td>2011-04-02 22:04:24</td>\n",
       "      <td>-73.970505</td>\n",
       "      <td>40.752323</td>\n",
       "      <td>-73.960541</td>\n",
       "      <td>40.797340</td>\n",
       "      <td>1</td>\n",
       "    </tr>\n",
       "    <tr>\n",
       "      <th>55423854</th>\n",
       "      <td>28.9</td>\n",
       "      <td>2011-10-26 05:57:51</td>\n",
       "      <td>-73.980904</td>\n",
       "      <td>40.764629</td>\n",
       "      <td>-73.870605</td>\n",
       "      <td>40.773964</td>\n",
       "      <td>1</td>\n",
       "    </tr>\n",
       "    <tr>\n",
       "      <th>55423855</th>\n",
       "      <td>7.5</td>\n",
       "      <td>2014-12-12 11:33:00</td>\n",
       "      <td>-73.969719</td>\n",
       "      <td>40.797668</td>\n",
       "      <td>-73.970886</td>\n",
       "      <td>40.783314</td>\n",
       "      <td>1</td>\n",
       "    </tr>\n",
       "  </tbody>\n",
       "</table>\n",
       "</div>"
      ],
      "text/plain": [
       "          fare_amount     pickup_datetime  pickup_longitude  pickup_latitude  \\\n",
       "55423851         14.0 2014-03-15 03:28:00        -74.005272        40.740028   \n",
       "55423852          4.2 2009-03-24 20:46:20        -73.957787        40.765530   \n",
       "55423853         14.1 2011-04-02 22:04:24        -73.970505        40.752323   \n",
       "55423854         28.9 2011-10-26 05:57:51        -73.980904        40.764629   \n",
       "55423855          7.5 2014-12-12 11:33:00        -73.969719        40.797668   \n",
       "\n",
       "          dropoff_longitude  dropoff_latitude  passenger_count  \n",
       "55423851         -73.963280         40.762554                1  \n",
       "55423852         -73.951637         40.773960                1  \n",
       "55423853         -73.960541         40.797340                1  \n",
       "55423854         -73.870605         40.773964                1  \n",
       "55423855         -73.970886         40.783314                1  "
      ]
     },
     "metadata": {},
     "output_type": "display_data"
    }
   ],
   "source": [
    "display(train_df.head())\n",
    "display(train_df.tail())"
   ]
  },
  {
   "cell_type": "code",
   "execution_count": 12,
   "metadata": {
    "hidden": true
   },
   "outputs": [
    {
     "name": "stdout",
     "output_type": "stream",
     "text": [
      "Wall time: 5.78 s\n"
     ]
    }
   ],
   "source": [
    "%%time\n",
    "os.makedirs('tmp', exist_ok=True)\n",
    "train_df.to_feather('tmp/taxi-train-raw')"
   ]
  },
  {
   "cell_type": "code",
   "execution_count": 13,
   "metadata": {
    "hidden": true
   },
   "outputs": [
    {
     "name": "stdout",
     "output_type": "stream",
     "text": [
      "Wall time: 1.59 s\n"
     ]
    }
   ],
   "source": [
    "%%time\n",
    "train_df = pd.read_feather('tmp/taxi-train-raw')"
   ]
  },
  {
   "cell_type": "code",
   "execution_count": 14,
   "metadata": {
    "_uuid": "3cbf4836cf8c71dfb67d13a9621b18a8d487197e",
    "hidden": true
   },
   "outputs": [],
   "source": [
    "test_df = pd.read_csv(f'{PATH}test.csv', parse_dates=[\"pickup_datetime\"], usecols=cols_test,\n",
    "                         infer_datetime_format=True, dtype=types)"
   ]
  },
  {
   "cell_type": "markdown",
   "metadata": {
    "heading_collapsed": true
   },
   "source": [
    "# Quick EDA"
   ]
  },
  {
   "cell_type": "code",
   "execution_count": 15,
   "metadata": {
    "hidden": true
   },
   "outputs": [
    {
     "data": {
      "text/html": [
       "<div>\n",
       "<style scoped>\n",
       "    .dataframe tbody tr th:only-of-type {\n",
       "        vertical-align: middle;\n",
       "    }\n",
       "\n",
       "    .dataframe tbody tr th {\n",
       "        vertical-align: top;\n",
       "    }\n",
       "\n",
       "    .dataframe thead th {\n",
       "        text-align: right;\n",
       "    }\n",
       "</style>\n",
       "<table border=\"1\" class=\"dataframe\">\n",
       "  <thead>\n",
       "    <tr style=\"text-align: right;\">\n",
       "      <th></th>\n",
       "      <th>fare_amount</th>\n",
       "      <th>pickup_datetime</th>\n",
       "      <th>pickup_longitude</th>\n",
       "      <th>pickup_latitude</th>\n",
       "      <th>dropoff_longitude</th>\n",
       "      <th>dropoff_latitude</th>\n",
       "      <th>passenger_count</th>\n",
       "    </tr>\n",
       "  </thead>\n",
       "  <tbody>\n",
       "    <tr>\n",
       "      <th>0</th>\n",
       "      <td>4.5</td>\n",
       "      <td>2009-06-15 17:26:21</td>\n",
       "      <td>-73.844315</td>\n",
       "      <td>40.721317</td>\n",
       "      <td>-73.841614</td>\n",
       "      <td>40.712276</td>\n",
       "      <td>1</td>\n",
       "    </tr>\n",
       "    <tr>\n",
       "      <th>1</th>\n",
       "      <td>16.9</td>\n",
       "      <td>2010-01-05 16:52:16</td>\n",
       "      <td>-74.016045</td>\n",
       "      <td>40.711304</td>\n",
       "      <td>-73.979271</td>\n",
       "      <td>40.782005</td>\n",
       "      <td>1</td>\n",
       "    </tr>\n",
       "    <tr>\n",
       "      <th>2</th>\n",
       "      <td>5.7</td>\n",
       "      <td>2011-08-18 00:35:00</td>\n",
       "      <td>-73.982735</td>\n",
       "      <td>40.761269</td>\n",
       "      <td>-73.991241</td>\n",
       "      <td>40.750561</td>\n",
       "      <td>2</td>\n",
       "    </tr>\n",
       "    <tr>\n",
       "      <th>3</th>\n",
       "      <td>7.7</td>\n",
       "      <td>2012-04-21 04:30:42</td>\n",
       "      <td>-73.987129</td>\n",
       "      <td>40.733143</td>\n",
       "      <td>-73.991570</td>\n",
       "      <td>40.758091</td>\n",
       "      <td>1</td>\n",
       "    </tr>\n",
       "    <tr>\n",
       "      <th>4</th>\n",
       "      <td>5.3</td>\n",
       "      <td>2010-03-09 07:51:00</td>\n",
       "      <td>-73.968094</td>\n",
       "      <td>40.768009</td>\n",
       "      <td>-73.956657</td>\n",
       "      <td>40.783764</td>\n",
       "      <td>1</td>\n",
       "    </tr>\n",
       "  </tbody>\n",
       "</table>\n",
       "</div>"
      ],
      "text/plain": [
       "   fare_amount     pickup_datetime  pickup_longitude  pickup_latitude  \\\n",
       "0          4.5 2009-06-15 17:26:21        -73.844315        40.721317   \n",
       "1         16.9 2010-01-05 16:52:16        -74.016045        40.711304   \n",
       "2          5.7 2011-08-18 00:35:00        -73.982735        40.761269   \n",
       "3          7.7 2012-04-21 04:30:42        -73.987129        40.733143   \n",
       "4          5.3 2010-03-09 07:51:00        -73.968094        40.768009   \n",
       "\n",
       "   dropoff_longitude  dropoff_latitude  passenger_count  \n",
       "0         -73.841614         40.712276                1  \n",
       "1         -73.979271         40.782005                1  \n",
       "2         -73.991241         40.750561                2  \n",
       "3         -73.991570         40.758091                1  \n",
       "4         -73.956657         40.783764                1  "
      ]
     },
     "metadata": {},
     "output_type": "display_data"
    },
    {
     "data": {
      "text/html": [
       "<div>\n",
       "<style scoped>\n",
       "    .dataframe tbody tr th:only-of-type {\n",
       "        vertical-align: middle;\n",
       "    }\n",
       "\n",
       "    .dataframe tbody tr th {\n",
       "        vertical-align: top;\n",
       "    }\n",
       "\n",
       "    .dataframe thead th {\n",
       "        text-align: right;\n",
       "    }\n",
       "</style>\n",
       "<table border=\"1\" class=\"dataframe\">\n",
       "  <thead>\n",
       "    <tr style=\"text-align: right;\">\n",
       "      <th></th>\n",
       "      <th>fare_amount</th>\n",
       "      <th>pickup_datetime</th>\n",
       "      <th>pickup_longitude</th>\n",
       "      <th>pickup_latitude</th>\n",
       "      <th>dropoff_longitude</th>\n",
       "      <th>dropoff_latitude</th>\n",
       "      <th>passenger_count</th>\n",
       "    </tr>\n",
       "  </thead>\n",
       "  <tbody>\n",
       "    <tr>\n",
       "      <th>55423851</th>\n",
       "      <td>14.0</td>\n",
       "      <td>2014-03-15 03:28:00</td>\n",
       "      <td>-74.005272</td>\n",
       "      <td>40.740028</td>\n",
       "      <td>-73.963280</td>\n",
       "      <td>40.762554</td>\n",
       "      <td>1</td>\n",
       "    </tr>\n",
       "    <tr>\n",
       "      <th>55423852</th>\n",
       "      <td>4.2</td>\n",
       "      <td>2009-03-24 20:46:20</td>\n",
       "      <td>-73.957787</td>\n",
       "      <td>40.765530</td>\n",
       "      <td>-73.951637</td>\n",
       "      <td>40.773960</td>\n",
       "      <td>1</td>\n",
       "    </tr>\n",
       "    <tr>\n",
       "      <th>55423853</th>\n",
       "      <td>14.1</td>\n",
       "      <td>2011-04-02 22:04:24</td>\n",
       "      <td>-73.970505</td>\n",
       "      <td>40.752323</td>\n",
       "      <td>-73.960541</td>\n",
       "      <td>40.797340</td>\n",
       "      <td>1</td>\n",
       "    </tr>\n",
       "    <tr>\n",
       "      <th>55423854</th>\n",
       "      <td>28.9</td>\n",
       "      <td>2011-10-26 05:57:51</td>\n",
       "      <td>-73.980904</td>\n",
       "      <td>40.764629</td>\n",
       "      <td>-73.870605</td>\n",
       "      <td>40.773964</td>\n",
       "      <td>1</td>\n",
       "    </tr>\n",
       "    <tr>\n",
       "      <th>55423855</th>\n",
       "      <td>7.5</td>\n",
       "      <td>2014-12-12 11:33:00</td>\n",
       "      <td>-73.969719</td>\n",
       "      <td>40.797668</td>\n",
       "      <td>-73.970886</td>\n",
       "      <td>40.783314</td>\n",
       "      <td>1</td>\n",
       "    </tr>\n",
       "  </tbody>\n",
       "</table>\n",
       "</div>"
      ],
      "text/plain": [
       "          fare_amount     pickup_datetime  pickup_longitude  pickup_latitude  \\\n",
       "55423851         14.0 2014-03-15 03:28:00        -74.005272        40.740028   \n",
       "55423852          4.2 2009-03-24 20:46:20        -73.957787        40.765530   \n",
       "55423853         14.1 2011-04-02 22:04:24        -73.970505        40.752323   \n",
       "55423854         28.9 2011-10-26 05:57:51        -73.980904        40.764629   \n",
       "55423855          7.5 2014-12-12 11:33:00        -73.969719        40.797668   \n",
       "\n",
       "          dropoff_longitude  dropoff_latitude  passenger_count  \n",
       "55423851         -73.963280         40.762554                1  \n",
       "55423852         -73.951637         40.773960                1  \n",
       "55423853         -73.960541         40.797340                1  \n",
       "55423854         -73.870605         40.773964                1  \n",
       "55423855         -73.970886         40.783314                1  "
      ]
     },
     "metadata": {},
     "output_type": "display_data"
    }
   ],
   "source": [
    "display(train_df.head())\n",
    "display(train_df.tail())"
   ]
  },
  {
   "cell_type": "code",
   "execution_count": 16,
   "metadata": {
    "hidden": true
   },
   "outputs": [
    {
     "data": {
      "text/html": [
       "<div>\n",
       "<style scoped>\n",
       "    .dataframe tbody tr th:only-of-type {\n",
       "        vertical-align: middle;\n",
       "    }\n",
       "\n",
       "    .dataframe tbody tr th {\n",
       "        vertical-align: top;\n",
       "    }\n",
       "\n",
       "    .dataframe thead th {\n",
       "        text-align: right;\n",
       "    }\n",
       "</style>\n",
       "<table border=\"1\" class=\"dataframe\">\n",
       "  <thead>\n",
       "    <tr style=\"text-align: right;\">\n",
       "      <th></th>\n",
       "      <th>pickup_datetime</th>\n",
       "      <th>pickup_longitude</th>\n",
       "      <th>pickup_latitude</th>\n",
       "      <th>dropoff_longitude</th>\n",
       "      <th>dropoff_latitude</th>\n",
       "      <th>passenger_count</th>\n",
       "    </tr>\n",
       "  </thead>\n",
       "  <tbody>\n",
       "    <tr>\n",
       "      <th>0</th>\n",
       "      <td>2015-01-27 13:08:24</td>\n",
       "      <td>-73.973320</td>\n",
       "      <td>40.763805</td>\n",
       "      <td>-73.981430</td>\n",
       "      <td>40.743835</td>\n",
       "      <td>1</td>\n",
       "    </tr>\n",
       "    <tr>\n",
       "      <th>1</th>\n",
       "      <td>2015-01-27 13:08:24</td>\n",
       "      <td>-73.986862</td>\n",
       "      <td>40.719383</td>\n",
       "      <td>-73.998886</td>\n",
       "      <td>40.739201</td>\n",
       "      <td>1</td>\n",
       "    </tr>\n",
       "    <tr>\n",
       "      <th>2</th>\n",
       "      <td>2011-10-08 11:53:44</td>\n",
       "      <td>-73.982521</td>\n",
       "      <td>40.751259</td>\n",
       "      <td>-73.979652</td>\n",
       "      <td>40.746140</td>\n",
       "      <td>1</td>\n",
       "    </tr>\n",
       "    <tr>\n",
       "      <th>3</th>\n",
       "      <td>2012-12-01 21:12:12</td>\n",
       "      <td>-73.981163</td>\n",
       "      <td>40.767807</td>\n",
       "      <td>-73.990448</td>\n",
       "      <td>40.751637</td>\n",
       "      <td>1</td>\n",
       "    </tr>\n",
       "    <tr>\n",
       "      <th>4</th>\n",
       "      <td>2012-12-01 21:12:12</td>\n",
       "      <td>-73.966049</td>\n",
       "      <td>40.789776</td>\n",
       "      <td>-73.988564</td>\n",
       "      <td>40.744427</td>\n",
       "      <td>1</td>\n",
       "    </tr>\n",
       "  </tbody>\n",
       "</table>\n",
       "</div>"
      ],
      "text/plain": [
       "      pickup_datetime  pickup_longitude  pickup_latitude  dropoff_longitude  \\\n",
       "0 2015-01-27 13:08:24        -73.973320        40.763805         -73.981430   \n",
       "1 2015-01-27 13:08:24        -73.986862        40.719383         -73.998886   \n",
       "2 2011-10-08 11:53:44        -73.982521        40.751259         -73.979652   \n",
       "3 2012-12-01 21:12:12        -73.981163        40.767807         -73.990448   \n",
       "4 2012-12-01 21:12:12        -73.966049        40.789776         -73.988564   \n",
       "\n",
       "   dropoff_latitude  passenger_count  \n",
       "0         40.743835                1  \n",
       "1         40.739201                1  \n",
       "2         40.746140                1  \n",
       "3         40.751637                1  \n",
       "4         40.744427                1  "
      ]
     },
     "metadata": {},
     "output_type": "display_data"
    },
    {
     "data": {
      "text/html": [
       "<div>\n",
       "<style scoped>\n",
       "    .dataframe tbody tr th:only-of-type {\n",
       "        vertical-align: middle;\n",
       "    }\n",
       "\n",
       "    .dataframe tbody tr th {\n",
       "        vertical-align: top;\n",
       "    }\n",
       "\n",
       "    .dataframe thead th {\n",
       "        text-align: right;\n",
       "    }\n",
       "</style>\n",
       "<table border=\"1\" class=\"dataframe\">\n",
       "  <thead>\n",
       "    <tr style=\"text-align: right;\">\n",
       "      <th></th>\n",
       "      <th>pickup_datetime</th>\n",
       "      <th>pickup_longitude</th>\n",
       "      <th>pickup_latitude</th>\n",
       "      <th>dropoff_longitude</th>\n",
       "      <th>dropoff_latitude</th>\n",
       "      <th>passenger_count</th>\n",
       "    </tr>\n",
       "  </thead>\n",
       "  <tbody>\n",
       "    <tr>\n",
       "      <th>9909</th>\n",
       "      <td>2015-05-10 12:37:51</td>\n",
       "      <td>-73.968124</td>\n",
       "      <td>40.796997</td>\n",
       "      <td>-73.955643</td>\n",
       "      <td>40.780388</td>\n",
       "      <td>6</td>\n",
       "    </tr>\n",
       "    <tr>\n",
       "      <th>9910</th>\n",
       "      <td>2015-01-12 17:05:51</td>\n",
       "      <td>-73.945511</td>\n",
       "      <td>40.803600</td>\n",
       "      <td>-73.960213</td>\n",
       "      <td>40.776371</td>\n",
       "      <td>6</td>\n",
       "    </tr>\n",
       "    <tr>\n",
       "      <th>9911</th>\n",
       "      <td>2015-04-19 20:44:15</td>\n",
       "      <td>-73.991600</td>\n",
       "      <td>40.726608</td>\n",
       "      <td>-73.789742</td>\n",
       "      <td>40.647011</td>\n",
       "      <td>6</td>\n",
       "    </tr>\n",
       "    <tr>\n",
       "      <th>9912</th>\n",
       "      <td>2015-01-31 01:05:19</td>\n",
       "      <td>-73.985573</td>\n",
       "      <td>40.735432</td>\n",
       "      <td>-73.939178</td>\n",
       "      <td>40.801731</td>\n",
       "      <td>6</td>\n",
       "    </tr>\n",
       "    <tr>\n",
       "      <th>9913</th>\n",
       "      <td>2015-01-18 14:06:23</td>\n",
       "      <td>-73.988022</td>\n",
       "      <td>40.754070</td>\n",
       "      <td>-74.000282</td>\n",
       "      <td>40.759220</td>\n",
       "      <td>6</td>\n",
       "    </tr>\n",
       "  </tbody>\n",
       "</table>\n",
       "</div>"
      ],
      "text/plain": [
       "         pickup_datetime  pickup_longitude  pickup_latitude  \\\n",
       "9909 2015-05-10 12:37:51        -73.968124        40.796997   \n",
       "9910 2015-01-12 17:05:51        -73.945511        40.803600   \n",
       "9911 2015-04-19 20:44:15        -73.991600        40.726608   \n",
       "9912 2015-01-31 01:05:19        -73.985573        40.735432   \n",
       "9913 2015-01-18 14:06:23        -73.988022        40.754070   \n",
       "\n",
       "      dropoff_longitude  dropoff_latitude  passenger_count  \n",
       "9909         -73.955643         40.780388                6  \n",
       "9910         -73.960213         40.776371                6  \n",
       "9911         -73.789742         40.647011                6  \n",
       "9912         -73.939178         40.801731                6  \n",
       "9913         -74.000282         40.759220                6  "
      ]
     },
     "metadata": {},
     "output_type": "display_data"
    }
   ],
   "source": [
    "display(test_df.head())\n",
    "display(test_df.tail())"
   ]
  },
  {
   "cell_type": "code",
   "execution_count": 17,
   "metadata": {
    "hidden": true
   },
   "outputs": [
    {
     "data": {
      "text/html": [
       "<div>\n",
       "<style scoped>\n",
       "    .dataframe tbody tr th:only-of-type {\n",
       "        vertical-align: middle;\n",
       "    }\n",
       "\n",
       "    .dataframe tbody tr th {\n",
       "        vertical-align: top;\n",
       "    }\n",
       "\n",
       "    .dataframe thead th {\n",
       "        text-align: right;\n",
       "    }\n",
       "</style>\n",
       "<table border=\"1\" class=\"dataframe\">\n",
       "  <thead>\n",
       "    <tr style=\"text-align: right;\">\n",
       "      <th></th>\n",
       "      <th>fare_amount</th>\n",
       "      <th>pickup_datetime</th>\n",
       "      <th>pickup_longitude</th>\n",
       "      <th>pickup_latitude</th>\n",
       "      <th>dropoff_longitude</th>\n",
       "      <th>dropoff_latitude</th>\n",
       "      <th>passenger_count</th>\n",
       "    </tr>\n",
       "  </thead>\n",
       "  <tbody>\n",
       "    <tr>\n",
       "      <th>count</th>\n",
       "      <td>5.54239e+07</td>\n",
       "      <td>NaN</td>\n",
       "      <td>5.54239e+07</td>\n",
       "      <td>5.54239e+07</td>\n",
       "      <td>5.54235e+07</td>\n",
       "      <td>5.54235e+07</td>\n",
       "      <td>5.54239e+07</td>\n",
       "    </tr>\n",
       "    <tr>\n",
       "      <th>mean</th>\n",
       "      <td>11.345</td>\n",
       "      <td>NaN</td>\n",
       "      <td>-72.5097</td>\n",
       "      <td>39.9198</td>\n",
       "      <td>-72.5111</td>\n",
       "      <td>39.9207</td>\n",
       "      <td>1.68538</td>\n",
       "    </tr>\n",
       "    <tr>\n",
       "      <th>std</th>\n",
       "      <td>20.7108</td>\n",
       "      <td>NaN</td>\n",
       "      <td>12.8489</td>\n",
       "      <td>9.64235</td>\n",
       "      <td>12.7822</td>\n",
       "      <td>9.63335</td>\n",
       "      <td>1.32766</td>\n",
       "    </tr>\n",
       "    <tr>\n",
       "      <th>min</th>\n",
       "      <td>-300</td>\n",
       "      <td>NaN</td>\n",
       "      <td>-3442.06</td>\n",
       "      <td>-3492.26</td>\n",
       "      <td>-3442.02</td>\n",
       "      <td>-3547.89</td>\n",
       "      <td>0</td>\n",
       "    </tr>\n",
       "    <tr>\n",
       "      <th>25%</th>\n",
       "      <td>6</td>\n",
       "      <td>NaN</td>\n",
       "      <td>-73.9921</td>\n",
       "      <td>40.7349</td>\n",
       "      <td>-73.9914</td>\n",
       "      <td>40.734</td>\n",
       "      <td>1</td>\n",
       "    </tr>\n",
       "    <tr>\n",
       "      <th>50%</th>\n",
       "      <td>8.5</td>\n",
       "      <td>NaN</td>\n",
       "      <td>-73.9818</td>\n",
       "      <td>40.7527</td>\n",
       "      <td>-73.9801</td>\n",
       "      <td>40.7532</td>\n",
       "      <td>1</td>\n",
       "    </tr>\n",
       "    <tr>\n",
       "      <th>75%</th>\n",
       "      <td>12.5</td>\n",
       "      <td>NaN</td>\n",
       "      <td>-73.9671</td>\n",
       "      <td>40.7671</td>\n",
       "      <td>-73.9637</td>\n",
       "      <td>40.7681</td>\n",
       "      <td>2</td>\n",
       "    </tr>\n",
       "    <tr>\n",
       "      <th>max</th>\n",
       "      <td>93963.4</td>\n",
       "      <td>NaN</td>\n",
       "      <td>3457.63</td>\n",
       "      <td>3408.79</td>\n",
       "      <td>3457.62</td>\n",
       "      <td>3537.13</td>\n",
       "      <td>208</td>\n",
       "    </tr>\n",
       "    <tr>\n",
       "      <th>counts</th>\n",
       "      <td>55423856</td>\n",
       "      <td>55423856</td>\n",
       "      <td>55423856</td>\n",
       "      <td>55423856</td>\n",
       "      <td>55423480</td>\n",
       "      <td>55423480</td>\n",
       "      <td>55423856</td>\n",
       "    </tr>\n",
       "    <tr>\n",
       "      <th>uniques</th>\n",
       "      <td>9405</td>\n",
       "      <td>26173536</td>\n",
       "      <td>98330</td>\n",
       "      <td>116546</td>\n",
       "      <td>114629</td>\n",
       "      <td>134778</td>\n",
       "      <td>15</td>\n",
       "    </tr>\n",
       "    <tr>\n",
       "      <th>missing</th>\n",
       "      <td>0</td>\n",
       "      <td>0</td>\n",
       "      <td>0</td>\n",
       "      <td>0</td>\n",
       "      <td>376</td>\n",
       "      <td>376</td>\n",
       "      <td>0</td>\n",
       "    </tr>\n",
       "    <tr>\n",
       "      <th>missing_perc</th>\n",
       "      <td>0%</td>\n",
       "      <td>0%</td>\n",
       "      <td>0%</td>\n",
       "      <td>0%</td>\n",
       "      <td>0.00%</td>\n",
       "      <td>0.00%</td>\n",
       "      <td>0%</td>\n",
       "    </tr>\n",
       "    <tr>\n",
       "      <th>types</th>\n",
       "      <td>numeric</td>\n",
       "      <td>date</td>\n",
       "      <td>numeric</td>\n",
       "      <td>numeric</td>\n",
       "      <td>numeric</td>\n",
       "      <td>numeric</td>\n",
       "      <td>numeric</td>\n",
       "    </tr>\n",
       "  </tbody>\n",
       "</table>\n",
       "</div>"
      ],
      "text/plain": [
       "              fare_amount pickup_datetime pickup_longitude pickup_latitude  \\\n",
       "count         5.54239e+07             NaN      5.54239e+07     5.54239e+07   \n",
       "mean               11.345             NaN         -72.5097         39.9198   \n",
       "std               20.7108             NaN          12.8489         9.64235   \n",
       "min                  -300             NaN         -3442.06        -3492.26   \n",
       "25%                     6             NaN         -73.9921         40.7349   \n",
       "50%                   8.5             NaN         -73.9818         40.7527   \n",
       "75%                  12.5             NaN         -73.9671         40.7671   \n",
       "max               93963.4             NaN          3457.63         3408.79   \n",
       "counts           55423856        55423856         55423856        55423856   \n",
       "uniques              9405        26173536            98330          116546   \n",
       "missing                 0               0                0               0   \n",
       "missing_perc           0%              0%               0%              0%   \n",
       "types             numeric            date          numeric         numeric   \n",
       "\n",
       "             dropoff_longitude dropoff_latitude passenger_count  \n",
       "count              5.54235e+07      5.54235e+07     5.54239e+07  \n",
       "mean                  -72.5111          39.9207         1.68538  \n",
       "std                    12.7822          9.63335         1.32766  \n",
       "min                   -3442.02         -3547.89               0  \n",
       "25%                   -73.9914           40.734               1  \n",
       "50%                   -73.9801          40.7532               1  \n",
       "75%                   -73.9637          40.7681               2  \n",
       "max                    3457.62          3537.13             208  \n",
       "counts                55423480         55423480        55423856  \n",
       "uniques                 114629           134778              15  \n",
       "missing                    376              376               0  \n",
       "missing_perc             0.00%            0.00%              0%  \n",
       "types                  numeric          numeric         numeric  "
      ]
     },
     "execution_count": 17,
     "metadata": {},
     "output_type": "execute_result"
    }
   ],
   "source": [
    "DataFrameSummary(train_df).summary()"
   ]
  },
  {
   "cell_type": "code",
   "execution_count": 18,
   "metadata": {
    "hidden": true
   },
   "outputs": [
    {
     "data": {
      "text/html": [
       "<div>\n",
       "<style scoped>\n",
       "    .dataframe tbody tr th:only-of-type {\n",
       "        vertical-align: middle;\n",
       "    }\n",
       "\n",
       "    .dataframe tbody tr th {\n",
       "        vertical-align: top;\n",
       "    }\n",
       "\n",
       "    .dataframe thead th {\n",
       "        text-align: right;\n",
       "    }\n",
       "</style>\n",
       "<table border=\"1\" class=\"dataframe\">\n",
       "  <thead>\n",
       "    <tr style=\"text-align: right;\">\n",
       "      <th></th>\n",
       "      <th>pickup_datetime</th>\n",
       "      <th>pickup_longitude</th>\n",
       "      <th>pickup_latitude</th>\n",
       "      <th>dropoff_longitude</th>\n",
       "      <th>dropoff_latitude</th>\n",
       "      <th>passenger_count</th>\n",
       "    </tr>\n",
       "  </thead>\n",
       "  <tbody>\n",
       "    <tr>\n",
       "      <th>count</th>\n",
       "      <td>NaN</td>\n",
       "      <td>9914</td>\n",
       "      <td>9914</td>\n",
       "      <td>9914</td>\n",
       "      <td>9914</td>\n",
       "      <td>9914</td>\n",
       "    </tr>\n",
       "    <tr>\n",
       "      <th>mean</th>\n",
       "      <td>NaN</td>\n",
       "      <td>-73.9747</td>\n",
       "      <td>40.751</td>\n",
       "      <td>-73.9737</td>\n",
       "      <td>40.7517</td>\n",
       "      <td>1.67127</td>\n",
       "    </tr>\n",
       "    <tr>\n",
       "      <th>std</th>\n",
       "      <td>NaN</td>\n",
       "      <td>0.042774</td>\n",
       "      <td>0.0335415</td>\n",
       "      <td>0.0390719</td>\n",
       "      <td>0.0354352</td>\n",
       "      <td>1.27875</td>\n",
       "    </tr>\n",
       "    <tr>\n",
       "      <th>min</th>\n",
       "      <td>NaN</td>\n",
       "      <td>-74.2522</td>\n",
       "      <td>40.5731</td>\n",
       "      <td>-74.2632</td>\n",
       "      <td>40.569</td>\n",
       "      <td>1</td>\n",
       "    </tr>\n",
       "    <tr>\n",
       "      <th>25%</th>\n",
       "      <td>NaN</td>\n",
       "      <td>-73.9925</td>\n",
       "      <td>40.7361</td>\n",
       "      <td>-73.9912</td>\n",
       "      <td>40.7353</td>\n",
       "      <td>1</td>\n",
       "    </tr>\n",
       "    <tr>\n",
       "      <th>50%</th>\n",
       "      <td>NaN</td>\n",
       "      <td>-73.9823</td>\n",
       "      <td>40.7531</td>\n",
       "      <td>-73.98</td>\n",
       "      <td>40.7541</td>\n",
       "      <td>1</td>\n",
       "    </tr>\n",
       "    <tr>\n",
       "      <th>75%</th>\n",
       "      <td>NaN</td>\n",
       "      <td>-73.968</td>\n",
       "      <td>40.7671</td>\n",
       "      <td>-73.9641</td>\n",
       "      <td>40.7688</td>\n",
       "      <td>2</td>\n",
       "    </tr>\n",
       "    <tr>\n",
       "      <th>max</th>\n",
       "      <td>NaN</td>\n",
       "      <td>-72.9865</td>\n",
       "      <td>41.7096</td>\n",
       "      <td>-72.991</td>\n",
       "      <td>41.6967</td>\n",
       "      <td>6</td>\n",
       "    </tr>\n",
       "    <tr>\n",
       "      <th>counts</th>\n",
       "      <td>9914</td>\n",
       "      <td>9914</td>\n",
       "      <td>9914</td>\n",
       "      <td>9914</td>\n",
       "      <td>9914</td>\n",
       "      <td>9914</td>\n",
       "    </tr>\n",
       "    <tr>\n",
       "      <th>uniques</th>\n",
       "      <td>1753</td>\n",
       "      <td>5894</td>\n",
       "      <td>7857</td>\n",
       "      <td>6174</td>\n",
       "      <td>8124</td>\n",
       "      <td>6</td>\n",
       "    </tr>\n",
       "    <tr>\n",
       "      <th>missing</th>\n",
       "      <td>0</td>\n",
       "      <td>0</td>\n",
       "      <td>0</td>\n",
       "      <td>0</td>\n",
       "      <td>0</td>\n",
       "      <td>0</td>\n",
       "    </tr>\n",
       "    <tr>\n",
       "      <th>missing_perc</th>\n",
       "      <td>0%</td>\n",
       "      <td>0%</td>\n",
       "      <td>0%</td>\n",
       "      <td>0%</td>\n",
       "      <td>0%</td>\n",
       "      <td>0%</td>\n",
       "    </tr>\n",
       "    <tr>\n",
       "      <th>types</th>\n",
       "      <td>date</td>\n",
       "      <td>numeric</td>\n",
       "      <td>numeric</td>\n",
       "      <td>numeric</td>\n",
       "      <td>numeric</td>\n",
       "      <td>numeric</td>\n",
       "    </tr>\n",
       "  </tbody>\n",
       "</table>\n",
       "</div>"
      ],
      "text/plain": [
       "             pickup_datetime pickup_longitude pickup_latitude  \\\n",
       "count                    NaN             9914            9914   \n",
       "mean                     NaN         -73.9747          40.751   \n",
       "std                      NaN         0.042774       0.0335415   \n",
       "min                      NaN         -74.2522         40.5731   \n",
       "25%                      NaN         -73.9925         40.7361   \n",
       "50%                      NaN         -73.9823         40.7531   \n",
       "75%                      NaN          -73.968         40.7671   \n",
       "max                      NaN         -72.9865         41.7096   \n",
       "counts                  9914             9914            9914   \n",
       "uniques                 1753             5894            7857   \n",
       "missing                    0                0               0   \n",
       "missing_perc              0%               0%              0%   \n",
       "types                   date          numeric         numeric   \n",
       "\n",
       "             dropoff_longitude dropoff_latitude passenger_count  \n",
       "count                     9914             9914            9914  \n",
       "mean                  -73.9737          40.7517         1.67127  \n",
       "std                  0.0390719        0.0354352         1.27875  \n",
       "min                   -74.2632           40.569               1  \n",
       "25%                   -73.9912          40.7353               1  \n",
       "50%                     -73.98          40.7541               1  \n",
       "75%                   -73.9641          40.7688               2  \n",
       "max                    -72.991          41.6967               6  \n",
       "counts                    9914             9914            9914  \n",
       "uniques                   6174             8124               6  \n",
       "missing                      0                0               0  \n",
       "missing_perc                0%               0%              0%  \n",
       "types                  numeric          numeric         numeric  "
      ]
     },
     "execution_count": 18,
     "metadata": {},
     "output_type": "execute_result"
    }
   ],
   "source": [
    "DataFrameSummary(test_df).summary()"
   ]
  },
  {
   "cell_type": "markdown",
   "metadata": {
    "heading_collapsed": true
   },
   "source": [
    "# Remove missing values"
   ]
  },
  {
   "cell_type": "code",
   "execution_count": 19,
   "metadata": {
    "hidden": true
   },
   "outputs": [
    {
     "data": {
      "text/plain": [
       "fare_amount            0\n",
       "pickup_datetime        0\n",
       "pickup_longitude       0\n",
       "pickup_latitude        0\n",
       "dropoff_longitude    376\n",
       "dropoff_latitude     376\n",
       "passenger_count        0\n",
       "dtype: int64"
      ]
     },
     "execution_count": 19,
     "metadata": {},
     "output_type": "execute_result"
    }
   ],
   "source": [
    "train_df.isnull().sum() "
   ]
  },
  {
   "cell_type": "code",
   "execution_count": 20,
   "metadata": {
    "hidden": true
   },
   "outputs": [
    {
     "data": {
      "text/plain": [
       "pickup_datetime      0\n",
       "pickup_longitude     0\n",
       "pickup_latitude      0\n",
       "dropoff_longitude    0\n",
       "dropoff_latitude     0\n",
       "passenger_count      0\n",
       "dtype: int64"
      ]
     },
     "execution_count": 20,
     "metadata": {},
     "output_type": "execute_result"
    }
   ],
   "source": [
    "test_df.isnull().sum()"
   ]
  },
  {
   "cell_type": "code",
   "execution_count": 21,
   "metadata": {
    "hidden": true
   },
   "outputs": [
    {
     "name": "stdout",
     "output_type": "stream",
     "text": [
      "Old size: 55423856\n",
      "New size: 55423480\n"
     ]
    }
   ],
   "source": [
    "print('Old size: %d' % len(train_df))\n",
    "train_df = train_df.dropna(how = 'any', axis = 'rows')\n",
    "print('New size: %d' % len(train_df))"
   ]
  },
  {
   "cell_type": "markdown",
   "metadata": {},
   "source": [
    "# Travel vector longitude, latitude and simple distance"
   ]
  },
  {
   "cell_type": "code",
   "execution_count": 22,
   "metadata": {},
   "outputs": [],
   "source": [
    "def add_travel_vector_features(df):\n",
    "    df['abs_diff_longitude'] = (df.dropoff_longitude - df.pickup_longitude).abs()\n",
    "    df['abs_diff_latitude'] = (df.dropoff_latitude - df.pickup_latitude).abs()"
   ]
  },
  {
   "cell_type": "code",
   "execution_count": 23,
   "metadata": {},
   "outputs": [],
   "source": [
    "def add_simple_distance(df):\n",
    "    df['simple_distance'] = np.sqrt(df.abs_diff_longitude ** 2 + df.abs_diff_latitude ** 2)"
   ]
  },
  {
   "cell_type": "code",
   "execution_count": 24,
   "metadata": {},
   "outputs": [],
   "source": [
    "add_travel_vector_features(train_df)\n",
    "add_simple_distance(train_df)"
   ]
  },
  {
   "cell_type": "code",
   "execution_count": 25,
   "metadata": {},
   "outputs": [],
   "source": [
    "add_travel_vector_features(test_df)\n",
    "add_simple_distance(test_df)"
   ]
  },
  {
   "cell_type": "code",
   "execution_count": 26,
   "metadata": {},
   "outputs": [
    {
     "data": {
      "text/html": [
       "<div>\n",
       "<style scoped>\n",
       "    .dataframe tbody tr th:only-of-type {\n",
       "        vertical-align: middle;\n",
       "    }\n",
       "\n",
       "    .dataframe tbody tr th {\n",
       "        vertical-align: top;\n",
       "    }\n",
       "\n",
       "    .dataframe thead th {\n",
       "        text-align: right;\n",
       "    }\n",
       "</style>\n",
       "<table border=\"1\" class=\"dataframe\">\n",
       "  <thead>\n",
       "    <tr style=\"text-align: right;\">\n",
       "      <th></th>\n",
       "      <th>fare_amount</th>\n",
       "      <th>pickup_datetime</th>\n",
       "      <th>pickup_longitude</th>\n",
       "      <th>pickup_latitude</th>\n",
       "      <th>dropoff_longitude</th>\n",
       "      <th>dropoff_latitude</th>\n",
       "      <th>passenger_count</th>\n",
       "      <th>abs_diff_longitude</th>\n",
       "      <th>abs_diff_latitude</th>\n",
       "      <th>simple_distance</th>\n",
       "    </tr>\n",
       "  </thead>\n",
       "  <tbody>\n",
       "    <tr>\n",
       "      <th>count</th>\n",
       "      <td>5.54235e+07</td>\n",
       "      <td>NaN</td>\n",
       "      <td>5.54235e+07</td>\n",
       "      <td>5.54235e+07</td>\n",
       "      <td>5.54235e+07</td>\n",
       "      <td>5.54235e+07</td>\n",
       "      <td>5.54235e+07</td>\n",
       "      <td>5.54235e+07</td>\n",
       "      <td>5.54235e+07</td>\n",
       "      <td>5.54235e+07</td>\n",
       "    </tr>\n",
       "    <tr>\n",
       "      <th>mean</th>\n",
       "      <td>11.345</td>\n",
       "      <td>NaN</td>\n",
       "      <td>-72.5099</td>\n",
       "      <td>39.9198</td>\n",
       "      <td>-72.5112</td>\n",
       "      <td>39.9207</td>\n",
       "      <td>1.68539</td>\n",
       "      <td>0.199236</td>\n",
       "      <td>0.122812</td>\n",
       "      <td>0.252637</td>\n",
       "    </tr>\n",
       "    <tr>\n",
       "      <th>std</th>\n",
       "      <td>20.7109</td>\n",
       "      <td>NaN</td>\n",
       "      <td>12.8488</td>\n",
       "      <td>9.64232</td>\n",
       "      <td>12.7822</td>\n",
       "      <td>9.63335</td>\n",
       "      <td>1.32766</td>\n",
       "      <td>9.44166</td>\n",
       "      <td>9.40297</td>\n",
       "      <td>13.3249</td>\n",
       "    </tr>\n",
       "    <tr>\n",
       "      <th>min</th>\n",
       "      <td>-300</td>\n",
       "      <td>NaN</td>\n",
       "      <td>-3442.06</td>\n",
       "      <td>-3492.26</td>\n",
       "      <td>-3442.02</td>\n",
       "      <td>-3547.89</td>\n",
       "      <td>0</td>\n",
       "      <td>0</td>\n",
       "      <td>0</td>\n",
       "      <td>0</td>\n",
       "    </tr>\n",
       "    <tr>\n",
       "      <th>25%</th>\n",
       "      <td>6</td>\n",
       "      <td>NaN</td>\n",
       "      <td>-73.9921</td>\n",
       "      <td>40.7349</td>\n",
       "      <td>-73.9914</td>\n",
       "      <td>40.734</td>\n",
       "      <td>1</td>\n",
       "      <td>0.00580597</td>\n",
       "      <td>0.00658417</td>\n",
       "      <td>0.0123897</td>\n",
       "    </tr>\n",
       "    <tr>\n",
       "      <th>50%</th>\n",
       "      <td>8.5</td>\n",
       "      <td>NaN</td>\n",
       "      <td>-73.9818</td>\n",
       "      <td>40.7527</td>\n",
       "      <td>-73.9801</td>\n",
       "      <td>40.7532</td>\n",
       "      <td>1</td>\n",
       "      <td>0.0124359</td>\n",
       "      <td>0.0138588</td>\n",
       "      <td>0.0214342</td>\n",
       "    </tr>\n",
       "    <tr>\n",
       "      <th>75%</th>\n",
       "      <td>12.5</td>\n",
       "      <td>NaN</td>\n",
       "      <td>-73.9671</td>\n",
       "      <td>40.7671</td>\n",
       "      <td>-73.9637</td>\n",
       "      <td>40.7681</td>\n",
       "      <td>2</td>\n",
       "      <td>0.0237122</td>\n",
       "      <td>0.0269356</td>\n",
       "      <td>0.0383414</td>\n",
       "    </tr>\n",
       "    <tr>\n",
       "      <th>max</th>\n",
       "      <td>93963.4</td>\n",
       "      <td>NaN</td>\n",
       "      <td>3457.63</td>\n",
       "      <td>3408.79</td>\n",
       "      <td>3457.62</td>\n",
       "      <td>3537.13</td>\n",
       "      <td>208</td>\n",
       "      <td>6812.94</td>\n",
       "      <td>6818.56</td>\n",
       "      <td>8039.08</td>\n",
       "    </tr>\n",
       "    <tr>\n",
       "      <th>counts</th>\n",
       "      <td>55423480</td>\n",
       "      <td>55423480</td>\n",
       "      <td>55423480</td>\n",
       "      <td>55423480</td>\n",
       "      <td>55423480</td>\n",
       "      <td>55423480</td>\n",
       "      <td>55423480</td>\n",
       "      <td>55423480</td>\n",
       "      <td>55423480</td>\n",
       "      <td>55423480</td>\n",
       "    </tr>\n",
       "    <tr>\n",
       "      <th>uniques</th>\n",
       "      <td>9391</td>\n",
       "      <td>26173267</td>\n",
       "      <td>98330</td>\n",
       "      <td>116546</td>\n",
       "      <td>114629</td>\n",
       "      <td>134778</td>\n",
       "      <td>15</td>\n",
       "      <td>91903</td>\n",
       "      <td>117299</td>\n",
       "      <td>16973659</td>\n",
       "    </tr>\n",
       "    <tr>\n",
       "      <th>missing</th>\n",
       "      <td>0</td>\n",
       "      <td>0</td>\n",
       "      <td>0</td>\n",
       "      <td>0</td>\n",
       "      <td>0</td>\n",
       "      <td>0</td>\n",
       "      <td>0</td>\n",
       "      <td>0</td>\n",
       "      <td>0</td>\n",
       "      <td>0</td>\n",
       "    </tr>\n",
       "    <tr>\n",
       "      <th>missing_perc</th>\n",
       "      <td>0%</td>\n",
       "      <td>0%</td>\n",
       "      <td>0%</td>\n",
       "      <td>0%</td>\n",
       "      <td>0%</td>\n",
       "      <td>0%</td>\n",
       "      <td>0%</td>\n",
       "      <td>0%</td>\n",
       "      <td>0%</td>\n",
       "      <td>0%</td>\n",
       "    </tr>\n",
       "    <tr>\n",
       "      <th>types</th>\n",
       "      <td>numeric</td>\n",
       "      <td>date</td>\n",
       "      <td>numeric</td>\n",
       "      <td>numeric</td>\n",
       "      <td>numeric</td>\n",
       "      <td>numeric</td>\n",
       "      <td>numeric</td>\n",
       "      <td>numeric</td>\n",
       "      <td>numeric</td>\n",
       "      <td>numeric</td>\n",
       "    </tr>\n",
       "  </tbody>\n",
       "</table>\n",
       "</div>"
      ],
      "text/plain": [
       "              fare_amount pickup_datetime pickup_longitude pickup_latitude  \\\n",
       "count         5.54235e+07             NaN      5.54235e+07     5.54235e+07   \n",
       "mean               11.345             NaN         -72.5099         39.9198   \n",
       "std               20.7109             NaN          12.8488         9.64232   \n",
       "min                  -300             NaN         -3442.06        -3492.26   \n",
       "25%                     6             NaN         -73.9921         40.7349   \n",
       "50%                   8.5             NaN         -73.9818         40.7527   \n",
       "75%                  12.5             NaN         -73.9671         40.7671   \n",
       "max               93963.4             NaN          3457.63         3408.79   \n",
       "counts           55423480        55423480         55423480        55423480   \n",
       "uniques              9391        26173267            98330          116546   \n",
       "missing                 0               0                0               0   \n",
       "missing_perc           0%              0%               0%              0%   \n",
       "types             numeric            date          numeric         numeric   \n",
       "\n",
       "             dropoff_longitude dropoff_latitude passenger_count  \\\n",
       "count              5.54235e+07      5.54235e+07     5.54235e+07   \n",
       "mean                  -72.5112          39.9207         1.68539   \n",
       "std                    12.7822          9.63335         1.32766   \n",
       "min                   -3442.02         -3547.89               0   \n",
       "25%                   -73.9914           40.734               1   \n",
       "50%                   -73.9801          40.7532               1   \n",
       "75%                   -73.9637          40.7681               2   \n",
       "max                    3457.62          3537.13             208   \n",
       "counts                55423480         55423480        55423480   \n",
       "uniques                 114629           134778              15   \n",
       "missing                      0                0               0   \n",
       "missing_perc                0%               0%              0%   \n",
       "types                  numeric          numeric         numeric   \n",
       "\n",
       "             abs_diff_longitude abs_diff_latitude simple_distance  \n",
       "count               5.54235e+07       5.54235e+07     5.54235e+07  \n",
       "mean                   0.199236          0.122812        0.252637  \n",
       "std                     9.44166           9.40297         13.3249  \n",
       "min                           0                 0               0  \n",
       "25%                  0.00580597        0.00658417       0.0123897  \n",
       "50%                   0.0124359         0.0138588       0.0214342  \n",
       "75%                   0.0237122         0.0269356       0.0383414  \n",
       "max                     6812.94           6818.56         8039.08  \n",
       "counts                 55423480          55423480        55423480  \n",
       "uniques                   91903            117299        16973659  \n",
       "missing                       0                 0               0  \n",
       "missing_perc                 0%                0%              0%  \n",
       "types                   numeric           numeric         numeric  "
      ]
     },
     "execution_count": 26,
     "metadata": {},
     "output_type": "execute_result"
    }
   ],
   "source": [
    "DataFrameSummary(train_df).summary()"
   ]
  },
  {
   "cell_type": "code",
   "execution_count": 27,
   "metadata": {},
   "outputs": [
    {
     "data": {
      "text/html": [
       "<div>\n",
       "<style scoped>\n",
       "    .dataframe tbody tr th:only-of-type {\n",
       "        vertical-align: middle;\n",
       "    }\n",
       "\n",
       "    .dataframe tbody tr th {\n",
       "        vertical-align: top;\n",
       "    }\n",
       "\n",
       "    .dataframe thead th {\n",
       "        text-align: right;\n",
       "    }\n",
       "</style>\n",
       "<table border=\"1\" class=\"dataframe\">\n",
       "  <thead>\n",
       "    <tr style=\"text-align: right;\">\n",
       "      <th></th>\n",
       "      <th>pickup_datetime</th>\n",
       "      <th>pickup_longitude</th>\n",
       "      <th>pickup_latitude</th>\n",
       "      <th>dropoff_longitude</th>\n",
       "      <th>dropoff_latitude</th>\n",
       "      <th>passenger_count</th>\n",
       "      <th>abs_diff_longitude</th>\n",
       "      <th>abs_diff_latitude</th>\n",
       "      <th>simple_distance</th>\n",
       "    </tr>\n",
       "  </thead>\n",
       "  <tbody>\n",
       "    <tr>\n",
       "      <th>count</th>\n",
       "      <td>NaN</td>\n",
       "      <td>9914</td>\n",
       "      <td>9914</td>\n",
       "      <td>9914</td>\n",
       "      <td>9914</td>\n",
       "      <td>9914</td>\n",
       "      <td>9914</td>\n",
       "      <td>9914</td>\n",
       "      <td>9914</td>\n",
       "    </tr>\n",
       "    <tr>\n",
       "      <th>mean</th>\n",
       "      <td>NaN</td>\n",
       "      <td>-73.9747</td>\n",
       "      <td>40.751</td>\n",
       "      <td>-73.9737</td>\n",
       "      <td>40.7517</td>\n",
       "      <td>1.67127</td>\n",
       "      <td>0.0233484</td>\n",
       "      <td>0.0221326</td>\n",
       "      <td>0.0351464</td>\n",
       "    </tr>\n",
       "    <tr>\n",
       "      <th>std</th>\n",
       "      <td>NaN</td>\n",
       "      <td>0.042774</td>\n",
       "      <td>0.0335415</td>\n",
       "      <td>0.0390719</td>\n",
       "      <td>0.0354352</td>\n",
       "      <td>1.27875</td>\n",
       "      <td>0.0367193</td>\n",
       "      <td>0.0255887</td>\n",
       "      <td>0.0424594</td>\n",
       "    </tr>\n",
       "    <tr>\n",
       "      <th>min</th>\n",
       "      <td>NaN</td>\n",
       "      <td>-74.2522</td>\n",
       "      <td>40.5731</td>\n",
       "      <td>-74.2632</td>\n",
       "      <td>40.569</td>\n",
       "      <td>1</td>\n",
       "      <td>0</td>\n",
       "      <td>0</td>\n",
       "      <td>0</td>\n",
       "    </tr>\n",
       "    <tr>\n",
       "      <th>25%</th>\n",
       "      <td>NaN</td>\n",
       "      <td>-73.9925</td>\n",
       "      <td>40.7361</td>\n",
       "      <td>-73.9912</td>\n",
       "      <td>40.7353</td>\n",
       "      <td>1</td>\n",
       "      <td>0.00635529</td>\n",
       "      <td>0.00727844</td>\n",
       "      <td>0.013261</td>\n",
       "    </tr>\n",
       "    <tr>\n",
       "      <th>50%</th>\n",
       "      <td>NaN</td>\n",
       "      <td>-73.9823</td>\n",
       "      <td>40.7531</td>\n",
       "      <td>-73.98</td>\n",
       "      <td>40.7541</td>\n",
       "      <td>1</td>\n",
       "      <td>0.0131226</td>\n",
       "      <td>0.0147152</td>\n",
       "      <td>0.0224233</td>\n",
       "    </tr>\n",
       "    <tr>\n",
       "      <th>75%</th>\n",
       "      <td>NaN</td>\n",
       "      <td>-73.968</td>\n",
       "      <td>40.7671</td>\n",
       "      <td>-73.9641</td>\n",
       "      <td>40.7688</td>\n",
       "      <td>2</td>\n",
       "      <td>0.0245628</td>\n",
       "      <td>0.0282612</td>\n",
       "      <td>0.0401673</td>\n",
       "    </tr>\n",
       "    <tr>\n",
       "      <th>max</th>\n",
       "      <td>NaN</td>\n",
       "      <td>-72.9865</td>\n",
       "      <td>41.7096</td>\n",
       "      <td>-72.991</td>\n",
       "      <td>41.6967</td>\n",
       "      <td>6</td>\n",
       "      <td>0.849174</td>\n",
       "      <td>0.633213</td>\n",
       "      <td>1.05733</td>\n",
       "    </tr>\n",
       "    <tr>\n",
       "      <th>counts</th>\n",
       "      <td>9914</td>\n",
       "      <td>9914</td>\n",
       "      <td>9914</td>\n",
       "      <td>9914</td>\n",
       "      <td>9914</td>\n",
       "      <td>9914</td>\n",
       "      <td>9914</td>\n",
       "      <td>9914</td>\n",
       "      <td>9914</td>\n",
       "    </tr>\n",
       "    <tr>\n",
       "      <th>uniques</th>\n",
       "      <td>1753</td>\n",
       "      <td>5894</td>\n",
       "      <td>7857</td>\n",
       "      <td>6174</td>\n",
       "      <td>8124</td>\n",
       "      <td>6</td>\n",
       "      <td>4896</td>\n",
       "      <td>6761</td>\n",
       "      <td>9820</td>\n",
       "    </tr>\n",
       "    <tr>\n",
       "      <th>missing</th>\n",
       "      <td>0</td>\n",
       "      <td>0</td>\n",
       "      <td>0</td>\n",
       "      <td>0</td>\n",
       "      <td>0</td>\n",
       "      <td>0</td>\n",
       "      <td>0</td>\n",
       "      <td>0</td>\n",
       "      <td>0</td>\n",
       "    </tr>\n",
       "    <tr>\n",
       "      <th>missing_perc</th>\n",
       "      <td>0%</td>\n",
       "      <td>0%</td>\n",
       "      <td>0%</td>\n",
       "      <td>0%</td>\n",
       "      <td>0%</td>\n",
       "      <td>0%</td>\n",
       "      <td>0%</td>\n",
       "      <td>0%</td>\n",
       "      <td>0%</td>\n",
       "    </tr>\n",
       "    <tr>\n",
       "      <th>types</th>\n",
       "      <td>date</td>\n",
       "      <td>numeric</td>\n",
       "      <td>numeric</td>\n",
       "      <td>numeric</td>\n",
       "      <td>numeric</td>\n",
       "      <td>numeric</td>\n",
       "      <td>numeric</td>\n",
       "      <td>numeric</td>\n",
       "      <td>numeric</td>\n",
       "    </tr>\n",
       "  </tbody>\n",
       "</table>\n",
       "</div>"
      ],
      "text/plain": [
       "             pickup_datetime pickup_longitude pickup_latitude  \\\n",
       "count                    NaN             9914            9914   \n",
       "mean                     NaN         -73.9747          40.751   \n",
       "std                      NaN         0.042774       0.0335415   \n",
       "min                      NaN         -74.2522         40.5731   \n",
       "25%                      NaN         -73.9925         40.7361   \n",
       "50%                      NaN         -73.9823         40.7531   \n",
       "75%                      NaN          -73.968         40.7671   \n",
       "max                      NaN         -72.9865         41.7096   \n",
       "counts                  9914             9914            9914   \n",
       "uniques                 1753             5894            7857   \n",
       "missing                    0                0               0   \n",
       "missing_perc              0%               0%              0%   \n",
       "types                   date          numeric         numeric   \n",
       "\n",
       "             dropoff_longitude dropoff_latitude passenger_count  \\\n",
       "count                     9914             9914            9914   \n",
       "mean                  -73.9737          40.7517         1.67127   \n",
       "std                  0.0390719        0.0354352         1.27875   \n",
       "min                   -74.2632           40.569               1   \n",
       "25%                   -73.9912          40.7353               1   \n",
       "50%                     -73.98          40.7541               1   \n",
       "75%                   -73.9641          40.7688               2   \n",
       "max                    -72.991          41.6967               6   \n",
       "counts                    9914             9914            9914   \n",
       "uniques                   6174             8124               6   \n",
       "missing                      0                0               0   \n",
       "missing_perc                0%               0%              0%   \n",
       "types                  numeric          numeric         numeric   \n",
       "\n",
       "             abs_diff_longitude abs_diff_latitude simple_distance  \n",
       "count                      9914              9914            9914  \n",
       "mean                  0.0233484         0.0221326       0.0351464  \n",
       "std                   0.0367193         0.0255887       0.0424594  \n",
       "min                           0                 0               0  \n",
       "25%                  0.00635529        0.00727844        0.013261  \n",
       "50%                   0.0131226         0.0147152       0.0224233  \n",
       "75%                   0.0245628         0.0282612       0.0401673  \n",
       "max                    0.849174          0.633213         1.05733  \n",
       "counts                     9914              9914            9914  \n",
       "uniques                    4896              6761            9820  \n",
       "missing                       0                 0               0  \n",
       "missing_perc                 0%                0%              0%  \n",
       "types                   numeric           numeric         numeric  "
      ]
     },
     "execution_count": 27,
     "metadata": {},
     "output_type": "execute_result"
    }
   ],
   "source": [
    "DataFrameSummary(test_df).summary()"
   ]
  },
  {
   "cell_type": "code",
   "execution_count": 28,
   "metadata": {},
   "outputs": [
    {
     "data": {
      "text/plain": [
       "1295"
      ]
     },
     "execution_count": 28,
     "metadata": {},
     "output_type": "execute_result"
    }
   ],
   "source": [
    "len(train_df[(train_df.pickup_longitude < -180) | (train_df.pickup_longitude > 180)])"
   ]
  },
  {
   "cell_type": "code",
   "execution_count": 29,
   "metadata": {},
   "outputs": [
    {
     "data": {
      "text/plain": [
       "1013"
      ]
     },
     "execution_count": 29,
     "metadata": {},
     "output_type": "execute_result"
    }
   ],
   "source": [
    "len(train_df[(train_df.pickup_latitude < -90) | (train_df.pickup_latitude > 90)])"
   ]
  },
  {
   "cell_type": "code",
   "execution_count": 30,
   "metadata": {},
   "outputs": [
    {
     "data": {
      "text/plain": [
       "1184"
      ]
     },
     "execution_count": 30,
     "metadata": {},
     "output_type": "execute_result"
    }
   ],
   "source": [
    "len(train_df[(train_df.dropoff_longitude < -180) | (train_df.dropoff_longitude > 180)])"
   ]
  },
  {
   "cell_type": "code",
   "execution_count": 31,
   "metadata": {},
   "outputs": [
    {
     "data": {
      "text/plain": [
       "1019"
      ]
     },
     "execution_count": 31,
     "metadata": {},
     "output_type": "execute_result"
    }
   ],
   "source": [
    "len(train_df[(train_df.dropoff_latitude < -90) | (train_df.dropoff_latitude > 90)])"
   ]
  },
  {
   "cell_type": "code",
   "execution_count": 32,
   "metadata": {},
   "outputs": [
    {
     "name": "stdout",
     "output_type": "stream",
     "text": [
      "Old size: 55423480\n"
     ]
    }
   ],
   "source": [
    "print('Old size: %d' % len(train_df))"
   ]
  },
  {
   "cell_type": "code",
   "execution_count": 33,
   "metadata": {},
   "outputs": [],
   "source": [
    "train_df = train_df[(train_df.pickup_longitude >= -180) & (train_df.pickup_longitude <= 180)]"
   ]
  },
  {
   "cell_type": "code",
   "execution_count": 34,
   "metadata": {},
   "outputs": [
    {
     "name": "stdout",
     "output_type": "stream",
     "text": [
      "New size: 55422185\n"
     ]
    }
   ],
   "source": [
    "print('New size: %d' % len(train_df))"
   ]
  },
  {
   "cell_type": "code",
   "execution_count": 35,
   "metadata": {},
   "outputs": [],
   "source": [
    "train_df = train_df[(train_df.pickup_latitude >= -90) & (train_df.pickup_latitude <= 90)]"
   ]
  },
  {
   "cell_type": "code",
   "execution_count": 36,
   "metadata": {},
   "outputs": [
    {
     "name": "stdout",
     "output_type": "stream",
     "text": [
      "New size: 55421702\n"
     ]
    }
   ],
   "source": [
    "print('New size: %d' % len(train_df))"
   ]
  },
  {
   "cell_type": "code",
   "execution_count": 37,
   "metadata": {},
   "outputs": [],
   "source": [
    "train_df = train_df[(train_df.dropoff_longitude >= -180) & (train_df.dropoff_longitude <= 180)]"
   ]
  },
  {
   "cell_type": "code",
   "execution_count": 38,
   "metadata": {},
   "outputs": [
    {
     "name": "stdout",
     "output_type": "stream",
     "text": [
      "New size: 55421138\n"
     ]
    }
   ],
   "source": [
    "print('New size: %d' % len(train_df))"
   ]
  },
  {
   "cell_type": "code",
   "execution_count": 39,
   "metadata": {},
   "outputs": [],
   "source": [
    "train_df = train_df[(train_df.dropoff_latitude >= -90) & (train_df.dropoff_latitude <= 90)]"
   ]
  },
  {
   "cell_type": "code",
   "execution_count": 40,
   "metadata": {},
   "outputs": [
    {
     "name": "stdout",
     "output_type": "stream",
     "text": [
      "New size: 55420735\n"
     ]
    }
   ],
   "source": [
    "print('New size: %d' % len(train_df))"
   ]
  },
  {
   "cell_type": "markdown",
   "metadata": {},
   "source": [
    "2745 rows removed"
   ]
  },
  {
   "cell_type": "markdown",
   "metadata": {},
   "source": [
    "## Range of min and max values from test set"
   ]
  },
  {
   "cell_type": "markdown",
   "metadata": {},
   "source": [
    "The latitude of New York City, NY, USA is **40.730610**, and the longitude is **-73.935242**. "
   ]
  },
  {
   "cell_type": "code",
   "execution_count": 41,
   "metadata": {},
   "outputs": [
    {
     "data": {
      "text/plain": [
       "(-74.25219, -72.986534)"
      ]
     },
     "execution_count": 41,
     "metadata": {},
     "output_type": "execute_result"
    }
   ],
   "source": [
    "plongmin, plongmax = test_df.pickup_longitude.min(),test_df.pickup_longitude.max()\n",
    "plongmin, plongmax"
   ]
  },
  {
   "cell_type": "code",
   "execution_count": 42,
   "metadata": {},
   "outputs": [
    {
     "data": {
      "text/plain": [
       "(-74.263245, -72.99097)"
      ]
     },
     "execution_count": 42,
     "metadata": {},
     "output_type": "execute_result"
    }
   ],
   "source": [
    "dlongmin, dlongmax = test_df.dropoff_longitude.min(),test_df.dropoff_longitude.max()\n",
    "dlongmin, dlongmax"
   ]
  },
  {
   "cell_type": "code",
   "execution_count": 43,
   "metadata": {},
   "outputs": [
    {
     "data": {
      "text/plain": [
       "(40.573143, 41.709557)"
      ]
     },
     "execution_count": 43,
     "metadata": {},
     "output_type": "execute_result"
    }
   ],
   "source": [
    "platmin, platmax = test_df.pickup_latitude.min(),test_df.pickup_latitude.max()\n",
    "platmin, platmax "
   ]
  },
  {
   "cell_type": "code",
   "execution_count": 44,
   "metadata": {},
   "outputs": [
    {
     "data": {
      "text/plain": [
       "(40.568974, 41.696682)"
      ]
     },
     "execution_count": 44,
     "metadata": {},
     "output_type": "execute_result"
    }
   ],
   "source": [
    "dlatmin, dlatmax = test_df.dropoff_latitude.min(),test_df.dropoff_latitude.max()\n",
    "dlatmin, dlatmax"
   ]
  },
  {
   "cell_type": "code",
   "execution_count": 45,
   "metadata": {},
   "outputs": [
    {
     "data": {
      "text/html": [
       "<div>\n",
       "<style scoped>\n",
       "    .dataframe tbody tr th:only-of-type {\n",
       "        vertical-align: middle;\n",
       "    }\n",
       "\n",
       "    .dataframe tbody tr th {\n",
       "        vertical-align: top;\n",
       "    }\n",
       "\n",
       "    .dataframe thead th {\n",
       "        text-align: right;\n",
       "    }\n",
       "</style>\n",
       "<table border=\"1\" class=\"dataframe\">\n",
       "  <thead>\n",
       "    <tr style=\"text-align: right;\">\n",
       "      <th></th>\n",
       "      <th>fare_amount</th>\n",
       "      <th>pickup_longitude</th>\n",
       "      <th>pickup_latitude</th>\n",
       "      <th>dropoff_longitude</th>\n",
       "      <th>dropoff_latitude</th>\n",
       "      <th>passenger_count</th>\n",
       "      <th>abs_diff_longitude</th>\n",
       "      <th>abs_diff_latitude</th>\n",
       "      <th>simple_distance</th>\n",
       "    </tr>\n",
       "  </thead>\n",
       "  <tbody>\n",
       "    <tr>\n",
       "      <th>count</th>\n",
       "      <td>5.542074e+07</td>\n",
       "      <td>5.542074e+07</td>\n",
       "      <td>5.542074e+07</td>\n",
       "      <td>5.542074e+07</td>\n",
       "      <td>5.542074e+07</td>\n",
       "      <td>5.542074e+07</td>\n",
       "      <td>5.542074e+07</td>\n",
       "      <td>5.542074e+07</td>\n",
       "      <td>5.542074e+07</td>\n",
       "    </tr>\n",
       "    <tr>\n",
       "      <th>mean</th>\n",
       "      <td>1.134504e+01</td>\n",
       "      <td>-7.249878e+01</td>\n",
       "      <td>3.991766e+01</td>\n",
       "      <td>-7.250305e+01</td>\n",
       "      <td>3.991993e+01</td>\n",
       "      <td>1.685384e+00</td>\n",
       "      <td>1.640693e-01</td>\n",
       "      <td>9.333889e-02</td>\n",
       "      <td>1.962079e-01</td>\n",
       "    </tr>\n",
       "    <tr>\n",
       "      <th>std</th>\n",
       "      <td>2.071122e+01</td>\n",
       "      <td>1.045485e+01</td>\n",
       "      <td>6.112569e+00</td>\n",
       "      <td>1.043685e+01</td>\n",
       "      <td>6.106028e+00</td>\n",
       "      <td>1.327632e+00</td>\n",
       "      <td>3.225071e+00</td>\n",
       "      <td>1.711757e+00</td>\n",
       "      <td>3.650799e+00</td>\n",
       "    </tr>\n",
       "    <tr>\n",
       "      <th>min</th>\n",
       "      <td>-3.000000e+02</td>\n",
       "      <td>-1.717973e+02</td>\n",
       "      <td>-7.783388e+01</td>\n",
       "      <td>-1.739576e+02</td>\n",
       "      <td>-7.435461e+01</td>\n",
       "      <td>0.000000e+00</td>\n",
       "      <td>0.000000e+00</td>\n",
       "      <td>0.000000e+00</td>\n",
       "      <td>0.000000e+00</td>\n",
       "    </tr>\n",
       "    <tr>\n",
       "      <th>25%</th>\n",
       "      <td>6.000000e+00</td>\n",
       "      <td>-7.399207e+01</td>\n",
       "      <td>4.073493e+01</td>\n",
       "      <td>-7.399140e+01</td>\n",
       "      <td>4.073403e+01</td>\n",
       "      <td>1.000000e+00</td>\n",
       "      <td>5.805969e-03</td>\n",
       "      <td>6.584167e-03</td>\n",
       "      <td>1.238951e-02</td>\n",
       "    </tr>\n",
       "    <tr>\n",
       "      <th>50%</th>\n",
       "      <td>8.500000e+00</td>\n",
       "      <td>-7.398180e+01</td>\n",
       "      <td>4.075265e+01</td>\n",
       "      <td>-7.398015e+01</td>\n",
       "      <td>4.075316e+01</td>\n",
       "      <td>1.000000e+00</td>\n",
       "      <td>1.243591e-02</td>\n",
       "      <td>1.385880e-02</td>\n",
       "      <td>2.143336e-02</td>\n",
       "    </tr>\n",
       "    <tr>\n",
       "      <th>75%</th>\n",
       "      <td>1.250000e+01</td>\n",
       "      <td>-7.396708e+01</td>\n",
       "      <td>4.076713e+01</td>\n",
       "      <td>-7.396368e+01</td>\n",
       "      <td>4.076810e+01</td>\n",
       "      <td>2.000000e+00</td>\n",
       "      <td>2.371216e-02</td>\n",
       "      <td>2.693558e-02</td>\n",
       "      <td>3.833773e-02</td>\n",
       "    </tr>\n",
       "    <tr>\n",
       "      <th>max</th>\n",
       "      <td>9.396336e+04</td>\n",
       "      <td>1.699728e+02</td>\n",
       "      <td>8.974216e+01</td>\n",
       "      <td>1.699728e+02</td>\n",
       "      <td>8.981667e+01</td>\n",
       "      <td>2.080000e+02</td>\n",
       "      <td>2.290003e+02</td>\n",
       "      <td>1.185963e+02</td>\n",
       "      <td>2.305584e+02</td>\n",
       "    </tr>\n",
       "  </tbody>\n",
       "</table>\n",
       "</div>"
      ],
      "text/plain": [
       "        fare_amount  pickup_longitude  pickup_latitude  dropoff_longitude  \\\n",
       "count  5.542074e+07      5.542074e+07     5.542074e+07       5.542074e+07   \n",
       "mean   1.134504e+01     -7.249878e+01     3.991766e+01      -7.250305e+01   \n",
       "std    2.071122e+01      1.045485e+01     6.112569e+00       1.043685e+01   \n",
       "min   -3.000000e+02     -1.717973e+02    -7.783388e+01      -1.739576e+02   \n",
       "25%    6.000000e+00     -7.399207e+01     4.073493e+01      -7.399140e+01   \n",
       "50%    8.500000e+00     -7.398180e+01     4.075265e+01      -7.398015e+01   \n",
       "75%    1.250000e+01     -7.396708e+01     4.076713e+01      -7.396368e+01   \n",
       "max    9.396336e+04      1.699728e+02     8.974216e+01       1.699728e+02   \n",
       "\n",
       "       dropoff_latitude  passenger_count  abs_diff_longitude  \\\n",
       "count      5.542074e+07     5.542074e+07        5.542074e+07   \n",
       "mean       3.991993e+01     1.685384e+00        1.640693e-01   \n",
       "std        6.106028e+00     1.327632e+00        3.225071e+00   \n",
       "min       -7.435461e+01     0.000000e+00        0.000000e+00   \n",
       "25%        4.073403e+01     1.000000e+00        5.805969e-03   \n",
       "50%        4.075316e+01     1.000000e+00        1.243591e-02   \n",
       "75%        4.076810e+01     2.000000e+00        2.371216e-02   \n",
       "max        8.981667e+01     2.080000e+02        2.290003e+02   \n",
       "\n",
       "       abs_diff_latitude  simple_distance  \n",
       "count       5.542074e+07     5.542074e+07  \n",
       "mean        9.333889e-02     1.962079e-01  \n",
       "std         1.711757e+00     3.650799e+00  \n",
       "min         0.000000e+00     0.000000e+00  \n",
       "25%         6.584167e-03     1.238951e-02  \n",
       "50%         1.385880e-02     2.143336e-02  \n",
       "75%         2.693558e-02     3.833773e-02  \n",
       "max         1.185963e+02     2.305584e+02  "
      ]
     },
     "execution_count": 45,
     "metadata": {},
     "output_type": "execute_result"
    }
   ],
   "source": [
    "train_df.describe()"
   ]
  },
  {
   "cell_type": "code",
   "execution_count": 46,
   "metadata": {},
   "outputs": [
    {
     "data": {
      "text/plain": [
       "1107245"
      ]
     },
     "execution_count": 46,
     "metadata": {},
     "output_type": "execute_result"
    }
   ],
   "source": [
    "len(train_df[(train_df.pickup_longitude < plongmin) | (train_df.pickup_longitude > plongmax)])"
   ]
  },
  {
   "cell_type": "code",
   "execution_count": 47,
   "metadata": {},
   "outputs": [
    {
     "data": {
      "text/plain": [
       "1103362"
      ]
     },
     "execution_count": 47,
     "metadata": {},
     "output_type": "execute_result"
    }
   ],
   "source": [
    "len(train_df[(train_df.dropoff_longitude < dlongmin ) | (train_df.dropoff_longitude > dlongmax)])"
   ]
  },
  {
   "cell_type": "code",
   "execution_count": 48,
   "metadata": {},
   "outputs": [
    {
     "data": {
      "text/plain": [
       "1103349"
      ]
     },
     "execution_count": 48,
     "metadata": {},
     "output_type": "execute_result"
    }
   ],
   "source": [
    "len(train_df[(train_df.pickup_latitude < platmin) | (train_df.pickup_latitude >platmax)])"
   ]
  },
  {
   "cell_type": "code",
   "execution_count": 49,
   "metadata": {},
   "outputs": [
    {
     "data": {
      "text/plain": [
       "1103981"
      ]
     },
     "execution_count": 49,
     "metadata": {},
     "output_type": "execute_result"
    }
   ],
   "source": [
    "len(train_df[(train_df.dropoff_latitude < dlatmin ) | (train_df.dropoff_latitude > dlatmax)])"
   ]
  },
  {
   "cell_type": "code",
   "execution_count": 50,
   "metadata": {},
   "outputs": [
    {
     "data": {
      "text/plain": [
       "1183984"
      ]
     },
     "execution_count": 50,
     "metadata": {},
     "output_type": "execute_result"
    }
   ],
   "source": [
    "len(train_df[(train_df.pickup_longitude < plongmin) | (train_df.pickup_longitude > plongmax) |\n",
    "             (train_df.dropoff_longitude < dlongmin) | (train_df.dropoff_longitude > dlongmax) |\n",
    "             (train_df.pickup_latitude < platmin) | (train_df.pickup_latitude > platmax) |\n",
    "             (train_df.dropoff_latitude < dlatmin) | (train_df.dropoff_latitude > dlatmax)])"
   ]
  },
  {
   "cell_type": "code",
   "execution_count": 51,
   "metadata": {},
   "outputs": [],
   "source": [
    "delta_long = 0\n",
    "delta_lat = 0"
   ]
  },
  {
   "cell_type": "code",
   "execution_count": 52,
   "metadata": {},
   "outputs": [
    {
     "data": {
      "text/plain": [
       "54236751"
      ]
     },
     "execution_count": 52,
     "metadata": {},
     "output_type": "execute_result"
    }
   ],
   "source": [
    "a = len(train_df[  \n",
    "    (train_df.pickup_longitude >= plongmin - delta_long) & (train_df.pickup_longitude <= plongmax + delta_long) &\n",
    "    (train_df.dropoff_longitude >= dlongmin - delta_long) & (train_df.dropoff_longitude <= dlongmax + delta_long) &\n",
    "    (train_df.pickup_latitude >= platmin - delta_lat) & (train_df.pickup_latitude <= platmax + delta_lat) &\n",
    "    (train_df.dropoff_latitude >= dlatmin - delta_lat) & (train_df.dropoff_latitude <= dlatmax + delta_lat)])\n",
    "a"
   ]
  },
  {
   "cell_type": "markdown",
   "metadata": {},
   "source": [
    "Each degree of latitude is approximately 69 miles (111 kilometers) apart."
   ]
  },
  {
   "cell_type": "code",
   "execution_count": 53,
   "metadata": {},
   "outputs": [],
   "source": [
    "delta_long = 1 # approx 111km allowance compared to test set\n",
    "delta_lat = 1 # approx 111km allowance compared to test set"
   ]
  },
  {
   "cell_type": "code",
   "execution_count": 54,
   "metadata": {},
   "outputs": [
    {
     "data": {
      "text/plain": [
       "54266046"
      ]
     },
     "execution_count": 54,
     "metadata": {},
     "output_type": "execute_result"
    }
   ],
   "source": [
    "b = len(train_df[  \n",
    "    (train_df.pickup_longitude >= plongmin - delta_long) & (train_df.pickup_longitude <= plongmax + delta_long) &\n",
    "    (train_df.dropoff_longitude >= dlongmin - delta_long) & (train_df.dropoff_longitude <= dlongmax + delta_long) &\n",
    "    (train_df.pickup_latitude >= platmin - delta_lat) & (train_df.pickup_latitude <= platmax + delta_lat) &\n",
    "    (train_df.dropoff_latitude >= dlatmin - delta_lat) & (train_df.dropoff_latitude <= dlatmax + delta_lat)])\n",
    "b"
   ]
  },
  {
   "cell_type": "code",
   "execution_count": 55,
   "metadata": {},
   "outputs": [
    {
     "data": {
      "text/plain": [
       "29295"
      ]
     },
     "execution_count": 55,
     "metadata": {},
     "output_type": "execute_result"
    }
   ],
   "source": [
    "b-a"
   ]
  },
  {
   "cell_type": "code",
   "execution_count": 56,
   "metadata": {},
   "outputs": [
    {
     "name": "stdout",
     "output_type": "stream",
     "text": [
      "Old size: 55420735\n"
     ]
    }
   ],
   "source": [
    "print('Old size: %d' % len(train_df))"
   ]
  },
  {
   "cell_type": "code",
   "execution_count": 57,
   "metadata": {},
   "outputs": [],
   "source": [
    "train_df = train_df[  \n",
    "    (train_df.pickup_longitude >= plongmin - delta_long) & (train_df.pickup_longitude <= plongmax + delta_long) &\n",
    "    (train_df.dropoff_longitude >= dlongmin - delta_long) & (train_df.dropoff_longitude <= dlongmax + delta_long) &\n",
    "    (train_df.pickup_latitude >= platmin - delta_lat) & (train_df.pickup_latitude <= platmax + delta_lat) &\n",
    "    (train_df.dropoff_latitude >= dlatmin - delta_lat) & (train_df.dropoff_latitude <= dlatmax + delta_lat)]"
   ]
  },
  {
   "cell_type": "code",
   "execution_count": 58,
   "metadata": {},
   "outputs": [
    {
     "name": "stdout",
     "output_type": "stream",
     "text": [
      "New size: 54266046\n"
     ]
    }
   ],
   "source": [
    "print('New size: %d' % len(train_df))"
   ]
  },
  {
   "cell_type": "code",
   "execution_count": 59,
   "metadata": {},
   "outputs": [
    {
     "name": "stdout",
     "output_type": "stream",
     "text": [
      "Removed 1,173,077 rows\n"
     ]
    }
   ],
   "source": [
    "print('Removed {:,} rows'.format(55420735 - 54247658))"
   ]
  },
  {
   "cell_type": "markdown",
   "metadata": {},
   "source": [
    "## Checkpoint 1"
   ]
  },
  {
   "cell_type": "code",
   "execution_count": 60,
   "metadata": {},
   "outputs": [],
   "source": [
    "# reset_index after removing rows, in order to be able to save to feather\n",
    "train_df.reset_index(drop=True, inplace=True)"
   ]
  },
  {
   "cell_type": "code",
   "execution_count": 61,
   "metadata": {},
   "outputs": [
    {
     "name": "stdout",
     "output_type": "stream",
     "text": [
      "Wall time: 9.56 s\n"
     ]
    }
   ],
   "source": [
    "%%time\n",
    "train_df.to_feather('tmp/taxi-train-chkpt1')"
   ]
  },
  {
   "cell_type": "code",
   "execution_count": 62,
   "metadata": {},
   "outputs": [
    {
     "name": "stdout",
     "output_type": "stream",
     "text": [
      "Wall time: 10.9 ms\n"
     ]
    }
   ],
   "source": [
    "%%time\n",
    "test_df.to_feather('tmp/taxi-test-chkpt1')"
   ]
  },
  {
   "cell_type": "code",
   "execution_count": 114,
   "metadata": {},
   "outputs": [
    {
     "name": "stdout",
     "output_type": "stream",
     "text": [
      "Wall time: 8.42 s\n"
     ]
    }
   ],
   "source": [
    "%%time\n",
    "train_df = pd.read_feather('tmp/taxi-train-chkpt1')"
   ]
  },
  {
   "cell_type": "code",
   "execution_count": 64,
   "metadata": {},
   "outputs": [
    {
     "name": "stdout",
     "output_type": "stream",
     "text": [
      "Wall time: 1.98 ms\n"
     ]
    }
   ],
   "source": [
    "%%time\n",
    "test_df = pd.read_feather('tmp/taxi-test-chkpt1')"
   ]
  },
  {
   "cell_type": "markdown",
   "metadata": {},
   "source": [
    "# Passenger Count"
   ]
  },
  {
   "cell_type": "code",
   "execution_count": 65,
   "metadata": {},
   "outputs": [
    {
     "data": {
      "text/plain": [
       "<matplotlib.axes._subplots.AxesSubplot at 0x1e73bd47b38>"
      ]
     },
     "execution_count": 65,
     "metadata": {},
     "output_type": "execute_result"
    },
    {
     "data": {
      "image/png": "[encoded data removed]",
      "text/plain": [
       "<Figure size 432x288 with 1 Axes>"
      ]
     },
     "metadata": {},
     "output_type": "display_data"
    }
   ],
   "source": [
    "test_df.passenger_count.plot(kind='hist',bins=6)"
   ]
  },
  {
   "cell_type": "code",
   "execution_count": 66,
   "metadata": {},
   "outputs": [
    {
     "data": {
      "text/plain": [
       "1    6914\n",
       "2    1474\n",
       "5     696\n",
       "3     447\n",
       "4     206\n",
       "6     177\n",
       "Name: passenger_count, dtype: int64"
      ]
     },
     "execution_count": 66,
     "metadata": {},
     "output_type": "execute_result"
    }
   ],
   "source": [
    "test_df.passenger_count.value_counts()"
   ]
  },
  {
   "cell_type": "code",
   "execution_count": 67,
   "metadata": {},
   "outputs": [
    {
     "data": {
      "text/plain": [
       "<matplotlib.axes._subplots.AxesSubplot at 0x1e73b876588>"
      ]
     },
     "execution_count": 67,
     "metadata": {},
     "output_type": "execute_result"
    },
    {
     "data": {
      "image/png": "[encoded data removed]",
      "text/plain": [
       "<Figure size 432x288 with 1 Axes>"
      ]
     },
     "metadata": {},
     "output_type": "display_data"
    }
   ],
   "source": [
    "train_df.passenger_count.plot(kind='hist')"
   ]
  },
  {
   "cell_type": "code",
   "execution_count": 68,
   "metadata": {},
   "outputs": [
    {
     "data": {
      "text/plain": [
       "0        190843\n",
       "1      37527608\n",
       "2       8015376\n",
       "3       2383830\n",
       "4       1155803\n",
       "5       3842222\n",
       "6       1150299\n",
       "7            13\n",
       "8             7\n",
       "9            21\n",
       "129           2\n",
       "208          22\n",
       "Name: passenger_count, dtype: int64"
      ]
     },
     "execution_count": 68,
     "metadata": {},
     "output_type": "execute_result"
    }
   ],
   "source": [
    "train_df.passenger_count.value_counts().sort_index()"
   ]
  },
  {
   "cell_type": "code",
   "execution_count": 69,
   "metadata": {},
   "outputs": [
    {
     "data": {
      "text/plain": [
       "190895"
      ]
     },
     "execution_count": 69,
     "metadata": {},
     "output_type": "execute_result"
    }
   ],
   "source": [
    "# number rows with passenger = 0 or more than 7\n",
    "len(train_df[(train_df.passenger_count == 0) | (train_df.passenger_count > 7)])"
   ]
  },
  {
   "cell_type": "code",
   "execution_count": 115,
   "metadata": {},
   "outputs": [
    {
     "name": "stdout",
     "output_type": "stream",
     "text": [
      "Old size: 54266046\n",
      "New size: 54075151\n"
     ]
    }
   ],
   "source": [
    "print('Old size: %d' % len(train_df))\n",
    "train_df = train_df[(train_df.passenger_count > 0) & (train_df.passenger_count < 8)]\n",
    "print('New size: %d' % len(train_df))"
   ]
  },
  {
   "cell_type": "markdown",
   "metadata": {},
   "source": [
    "# Distance"
   ]
  },
  {
   "cell_type": "code",
   "execution_count": 71,
   "metadata": {},
   "outputs": [
    {
     "data": {
      "text/plain": [
       "(1.0573337, 0.63321304, 0.8491745)"
      ]
     },
     "execution_count": 71,
     "metadata": {},
     "output_type": "execute_result"
    }
   ],
   "source": [
    "test_df.simple_distance.max(), test_df.abs_diff_latitude.max(),  test_df.abs_diff_longitude.max()"
   ]
  },
  {
   "cell_type": "code",
   "execution_count": 72,
   "metadata": {},
   "outputs": [
    {
     "data": {
      "text/plain": [
       "(0.0, 0.0, 0.0)"
      ]
     },
     "execution_count": 72,
     "metadata": {},
     "output_type": "execute_result"
    }
   ],
   "source": [
    "test_df.simple_distance.min(), test_df.abs_diff_latitude.min(),  test_df.abs_diff_longitude.min()"
   ]
  },
  {
   "cell_type": "code",
   "execution_count": 73,
   "metadata": {},
   "outputs": [
    {
     "data": {
      "text/plain": [
       "(85, 85, 87)"
      ]
     },
     "execution_count": 73,
     "metadata": {},
     "output_type": "execute_result"
    }
   ],
   "source": [
    "(len(test_df[test_df.simple_distance == 0]), \n",
    "len(test_df[test_df.abs_diff_latitude == 0]),\n",
    "len(test_df[test_df.abs_diff_longitude == 0]))"
   ]
  },
  {
   "cell_type": "code",
   "execution_count": 74,
   "metadata": {},
   "outputs": [
    {
     "data": {
      "text/plain": [
       "(2.7406824, 1.9242516, 2.6350555)"
      ]
     },
     "execution_count": 74,
     "metadata": {},
     "output_type": "execute_result"
    }
   ],
   "source": [
    "train_df.simple_distance.max(), train_df.abs_diff_latitude.max(), train_df.abs_diff_longitude.max()"
   ]
  },
  {
   "cell_type": "code",
   "execution_count": 75,
   "metadata": {},
   "outputs": [
    {
     "data": {
      "text/plain": [
       "(0.0, 0.0, 0.0)"
      ]
     },
     "execution_count": 75,
     "metadata": {},
     "output_type": "execute_result"
    }
   ],
   "source": [
    "train_df.simple_distance.min(), train_df.abs_diff_latitude.min(), train_df.abs_diff_longitude.min()"
   ]
  },
  {
   "cell_type": "code",
   "execution_count": 76,
   "metadata": {},
   "outputs": [
    {
     "data": {
      "text/plain": [
       "(585743, 601667, 615438)"
      ]
     },
     "execution_count": 76,
     "metadata": {},
     "output_type": "execute_result"
    }
   ],
   "source": [
    "(len(train_df[train_df.simple_distance == 0]), \n",
    "len(train_df[train_df.abs_diff_latitude == 0]),\n",
    "len(train_df[train_df.abs_diff_longitude == 0]))"
   ]
  },
  {
   "cell_type": "code",
   "execution_count": 77,
   "metadata": {},
   "outputs": [
    {
     "data": {
      "text/html": [
       "<div>\n",
       "<style scoped>\n",
       "    .dataframe tbody tr th:only-of-type {\n",
       "        vertical-align: middle;\n",
       "    }\n",
       "\n",
       "    .dataframe tbody tr th {\n",
       "        vertical-align: top;\n",
       "    }\n",
       "\n",
       "    .dataframe thead th {\n",
       "        text-align: right;\n",
       "    }\n",
       "</style>\n",
       "<table border=\"1\" class=\"dataframe\">\n",
       "  <thead>\n",
       "    <tr style=\"text-align: right;\">\n",
       "      <th></th>\n",
       "      <th>fare_amount</th>\n",
       "      <th>pickup_longitude</th>\n",
       "      <th>pickup_latitude</th>\n",
       "      <th>dropoff_longitude</th>\n",
       "      <th>dropoff_latitude</th>\n",
       "      <th>passenger_count</th>\n",
       "      <th>abs_diff_longitude</th>\n",
       "      <th>abs_diff_latitude</th>\n",
       "      <th>simple_distance</th>\n",
       "    </tr>\n",
       "  </thead>\n",
       "  <tbody>\n",
       "    <tr>\n",
       "      <th>count</th>\n",
       "      <td>585743.000000</td>\n",
       "      <td>585743.000000</td>\n",
       "      <td>585743.000000</td>\n",
       "      <td>585743.000000</td>\n",
       "      <td>585743.000000</td>\n",
       "      <td>585743.000000</td>\n",
       "      <td>585743.0</td>\n",
       "      <td>585743.0</td>\n",
       "      <td>585743.0</td>\n",
       "    </tr>\n",
       "    <tr>\n",
       "      <th>mean</th>\n",
       "      <td>11.299520</td>\n",
       "      <td>-73.945786</td>\n",
       "      <td>40.759052</td>\n",
       "      <td>-73.945786</td>\n",
       "      <td>40.759052</td>\n",
       "      <td>1.666932</td>\n",
       "      <td>0.0</td>\n",
       "      <td>0.0</td>\n",
       "      <td>0.0</td>\n",
       "    </tr>\n",
       "    <tr>\n",
       "      <th>std</th>\n",
       "      <td>16.200907</td>\n",
       "      <td>0.143907</td>\n",
       "      <td>0.106469</td>\n",
       "      <td>0.143907</td>\n",
       "      <td>0.106469</td>\n",
       "      <td>1.297104</td>\n",
       "      <td>0.0</td>\n",
       "      <td>0.0</td>\n",
       "      <td>0.0</td>\n",
       "    </tr>\n",
       "    <tr>\n",
       "      <th>min</th>\n",
       "      <td>-100.000000</td>\n",
       "      <td>-75.249725</td>\n",
       "      <td>39.603233</td>\n",
       "      <td>-75.249725</td>\n",
       "      <td>39.603233</td>\n",
       "      <td>1.000000</td>\n",
       "      <td>0.0</td>\n",
       "      <td>0.0</td>\n",
       "      <td>0.0</td>\n",
       "    </tr>\n",
       "    <tr>\n",
       "      <th>25%</th>\n",
       "      <td>4.900000</td>\n",
       "      <td>-73.990814</td>\n",
       "      <td>40.733528</td>\n",
       "      <td>-73.990814</td>\n",
       "      <td>40.733528</td>\n",
       "      <td>1.000000</td>\n",
       "      <td>0.0</td>\n",
       "      <td>0.0</td>\n",
       "      <td>0.0</td>\n",
       "    </tr>\n",
       "    <tr>\n",
       "      <th>50%</th>\n",
       "      <td>6.900000</td>\n",
       "      <td>-73.975792</td>\n",
       "      <td>40.752193</td>\n",
       "      <td>-73.975792</td>\n",
       "      <td>40.752193</td>\n",
       "      <td>1.000000</td>\n",
       "      <td>0.0</td>\n",
       "      <td>0.0</td>\n",
       "      <td>0.0</td>\n",
       "    </tr>\n",
       "    <tr>\n",
       "      <th>75%</th>\n",
       "      <td>10.500000</td>\n",
       "      <td>-73.948143</td>\n",
       "      <td>40.767773</td>\n",
       "      <td>-73.948143</td>\n",
       "      <td>40.767773</td>\n",
       "      <td>2.000000</td>\n",
       "      <td>0.0</td>\n",
       "      <td>0.0</td>\n",
       "      <td>0.0</td>\n",
       "    </tr>\n",
       "    <tr>\n",
       "      <th>max</th>\n",
       "      <td>3130.300049</td>\n",
       "      <td>-72.089333</td>\n",
       "      <td>42.641273</td>\n",
       "      <td>-72.089333</td>\n",
       "      <td>42.641273</td>\n",
       "      <td>6.000000</td>\n",
       "      <td>0.0</td>\n",
       "      <td>0.0</td>\n",
       "      <td>0.0</td>\n",
       "    </tr>\n",
       "  </tbody>\n",
       "</table>\n",
       "</div>"
      ],
      "text/plain": [
       "         fare_amount  pickup_longitude  pickup_latitude  dropoff_longitude  \\\n",
       "count  585743.000000     585743.000000    585743.000000      585743.000000   \n",
       "mean       11.299520        -73.945786        40.759052         -73.945786   \n",
       "std        16.200907          0.143907         0.106469           0.143907   \n",
       "min      -100.000000        -75.249725        39.603233         -75.249725   \n",
       "25%         4.900000        -73.990814        40.733528         -73.990814   \n",
       "50%         6.900000        -73.975792        40.752193         -73.975792   \n",
       "75%        10.500000        -73.948143        40.767773         -73.948143   \n",
       "max      3130.300049        -72.089333        42.641273         -72.089333   \n",
       "\n",
       "       dropoff_latitude  passenger_count  abs_diff_longitude  \\\n",
       "count     585743.000000    585743.000000            585743.0   \n",
       "mean          40.759052         1.666932                 0.0   \n",
       "std            0.106469         1.297104                 0.0   \n",
       "min           39.603233         1.000000                 0.0   \n",
       "25%           40.733528         1.000000                 0.0   \n",
       "50%           40.752193         1.000000                 0.0   \n",
       "75%           40.767773         2.000000                 0.0   \n",
       "max           42.641273         6.000000                 0.0   \n",
       "\n",
       "       abs_diff_latitude  simple_distance  \n",
       "count           585743.0         585743.0  \n",
       "mean                 0.0              0.0  \n",
       "std                  0.0              0.0  \n",
       "min                  0.0              0.0  \n",
       "25%                  0.0              0.0  \n",
       "50%                  0.0              0.0  \n",
       "75%                  0.0              0.0  \n",
       "max                  0.0              0.0  "
      ]
     },
     "execution_count": 77,
     "metadata": {},
     "output_type": "execute_result"
    }
   ],
   "source": [
    "train_df[train_df.simple_distance == 0].describe()"
   ]
  },
  {
   "cell_type": "code",
   "execution_count": 116,
   "metadata": {},
   "outputs": [
    {
     "data": {
      "text/plain": [
       "8371"
      ]
     },
     "execution_count": 116,
     "metadata": {},
     "output_type": "execute_result"
    }
   ],
   "source": [
    "len(train_df[(train_df.abs_diff_latitude>test_df.abs_diff_latitude.max())])"
   ]
  },
  {
   "cell_type": "code",
   "execution_count": 117,
   "metadata": {},
   "outputs": [
    {
     "data": {
      "text/plain": [
       "2754"
      ]
     },
     "execution_count": 117,
     "metadata": {},
     "output_type": "execute_result"
    }
   ],
   "source": [
    "len(train_df[(train_df.abs_diff_longitude>test_df.abs_diff_longitude.max())])"
   ]
  },
  {
   "cell_type": "code",
   "execution_count": 80,
   "metadata": {},
   "outputs": [
    {
     "data": {
      "text/plain": [
       "8085"
      ]
     },
     "execution_count": 80,
     "metadata": {},
     "output_type": "execute_result"
    }
   ],
   "source": [
    "len(train_df[(train_df.simple_distance>test_df.simple_distance.max())])"
   ]
  },
  {
   "cell_type": "code",
   "execution_count": 81,
   "metadata": {},
   "outputs": [
    {
     "name": "stdout",
     "output_type": "stream",
     "text": [
      "Old size: 54075151\n"
     ]
    }
   ],
   "source": [
    "print('Old size: %d' % len(train_df))"
   ]
  },
  {
   "cell_type": "code",
   "execution_count": 82,
   "metadata": {},
   "outputs": [],
   "source": [
    "train_df = train_df[(train_df.abs_diff_latitude<=test_df.abs_diff_latitude.max()+1)]"
   ]
  },
  {
   "cell_type": "code",
   "execution_count": 83,
   "metadata": {},
   "outputs": [
    {
     "name": "stdout",
     "output_type": "stream",
     "text": [
      "New size: 54075127\n"
     ]
    }
   ],
   "source": [
    "print('New size: %d' % len(train_df))"
   ]
  },
  {
   "cell_type": "code",
   "execution_count": 84,
   "metadata": {},
   "outputs": [],
   "source": [
    "train_df = train_df[(train_df.abs_diff_longitude<=test_df.abs_diff_longitude.max()+1)]"
   ]
  },
  {
   "cell_type": "code",
   "execution_count": 85,
   "metadata": {},
   "outputs": [
    {
     "name": "stdout",
     "output_type": "stream",
     "text": [
      "New size: 54075110\n"
     ]
    }
   ],
   "source": [
    "print('New size: %d' % len(train_df))"
   ]
  },
  {
   "cell_type": "code",
   "execution_count": 86,
   "metadata": {},
   "outputs": [],
   "source": [
    "train_df = train_df[(train_df.simple_distance<=test_df.simple_distance.max()+1)]"
   ]
  },
  {
   "cell_type": "code",
   "execution_count": 87,
   "metadata": {},
   "outputs": [
    {
     "name": "stdout",
     "output_type": "stream",
     "text": [
      "New size: 54075110\n"
     ]
    }
   ],
   "source": [
    "print('New size: %d' % len(train_df))"
   ]
  },
  {
   "cell_type": "markdown",
   "metadata": {},
   "source": [
    "# Fare Amount"
   ]
  },
  {
   "cell_type": "code",
   "execution_count": 88,
   "metadata": {},
   "outputs": [
    {
     "data": {
      "text/plain": [
       "(8.5, 11.333723)"
      ]
     },
     "execution_count": 88,
     "metadata": {},
     "output_type": "execute_result"
    }
   ],
   "source": [
    "train_df.fare_amount.median(), train_df.fare_amount.mean()"
   ]
  },
  {
   "cell_type": "code",
   "execution_count": 89,
   "metadata": {},
   "outputs": [
    {
     "data": {
      "text/plain": [
       "(52.099998474121094, 91.0)"
      ]
     },
     "execution_count": 89,
     "metadata": {},
     "output_type": "execute_result"
    }
   ],
   "source": [
    "train_df.fare_amount.quantile(0.99), train_df.fare_amount.quantile(0.9995)"
   ]
  },
  {
   "cell_type": "code",
   "execution_count": 90,
   "metadata": {},
   "outputs": [
    {
     "data": {
      "text/plain": [
       "1119"
      ]
     },
     "execution_count": 90,
     "metadata": {},
     "output_type": "execute_result"
    }
   ],
   "source": [
    "len(train_df[(train_df.fare_amount==0)])"
   ]
  },
  {
   "cell_type": "code",
   "execution_count": 91,
   "metadata": {},
   "outputs": [
    {
     "data": {
      "text/plain": [
       "2206"
      ]
     },
     "execution_count": 91,
     "metadata": {},
     "output_type": "execute_result"
    }
   ],
   "source": [
    "len(train_df[(train_df.fare_amount<0)])"
   ]
  },
  {
   "cell_type": "code",
   "execution_count": 92,
   "metadata": {},
   "outputs": [
    {
     "data": {
      "text/plain": [
       "26975"
      ]
     },
     "execution_count": 92,
     "metadata": {},
     "output_type": "execute_result"
    }
   ],
   "source": [
    "len(train_df[(train_df.fare_amount> train_df.fare_amount.quantile(0.9995))])"
   ]
  },
  {
   "cell_type": "code",
   "execution_count": 93,
   "metadata": {},
   "outputs": [
    {
     "name": "stdout",
     "output_type": "stream",
     "text": [
      "Old size: 54075110\n",
      "New size: 54067064\n"
     ]
    }
   ],
   "source": [
    "print('Old size: %d' % len(train_df))\n",
    "train_df = train_df[(train_df.fare_amount>0) & (train_df.fare_amount<150)]\n",
    "print('New size: %d' % len(train_df))"
   ]
  },
  {
   "cell_type": "code",
   "execution_count": 94,
   "metadata": {},
   "outputs": [
    {
     "data": {
      "text/html": [
       "<div>\n",
       "<style scoped>\n",
       "    .dataframe tbody tr th:only-of-type {\n",
       "        vertical-align: middle;\n",
       "    }\n",
       "\n",
       "    .dataframe tbody tr th {\n",
       "        vertical-align: top;\n",
       "    }\n",
       "\n",
       "    .dataframe thead th {\n",
       "        text-align: right;\n",
       "    }\n",
       "</style>\n",
       "<table border=\"1\" class=\"dataframe\">\n",
       "  <thead>\n",
       "    <tr style=\"text-align: right;\">\n",
       "      <th></th>\n",
       "      <th>fare_amount</th>\n",
       "      <th>pickup_datetime</th>\n",
       "      <th>pickup_longitude</th>\n",
       "      <th>pickup_latitude</th>\n",
       "      <th>dropoff_longitude</th>\n",
       "      <th>dropoff_latitude</th>\n",
       "      <th>passenger_count</th>\n",
       "      <th>abs_diff_longitude</th>\n",
       "      <th>abs_diff_latitude</th>\n",
       "      <th>simple_distance</th>\n",
       "    </tr>\n",
       "  </thead>\n",
       "  <tbody>\n",
       "    <tr>\n",
       "      <th>count</th>\n",
       "      <td>5.40671e+07</td>\n",
       "      <td>NaN</td>\n",
       "      <td>5.40671e+07</td>\n",
       "      <td>5.40671e+07</td>\n",
       "      <td>5.40671e+07</td>\n",
       "      <td>5.40671e+07</td>\n",
       "      <td>5.40671e+07</td>\n",
       "      <td>5.40671e+07</td>\n",
       "      <td>5.40671e+07</td>\n",
       "      <td>5.40671e+07</td>\n",
       "    </tr>\n",
       "    <tr>\n",
       "      <th>mean</th>\n",
       "      <td>11.3141</td>\n",
       "      <td>NaN</td>\n",
       "      <td>-73.9707</td>\n",
       "      <td>40.7501</td>\n",
       "      <td>-73.9705</td>\n",
       "      <td>40.7502</td>\n",
       "      <td>1.69112</td>\n",
       "      <td>0.0227984</td>\n",
       "      <td>0.0214413</td>\n",
       "      <td>0.0342285</td>\n",
       "    </tr>\n",
       "    <tr>\n",
       "      <th>std</th>\n",
       "      <td>9.52498</td>\n",
       "      <td>NaN</td>\n",
       "      <td>0.0391943</td>\n",
       "      <td>0.031978</td>\n",
       "      <td>0.0383179</td>\n",
       "      <td>0.0351353</td>\n",
       "      <td>1.30693</td>\n",
       "      <td>0.0351999</td>\n",
       "      <td>0.0268867</td>\n",
       "      <td>0.0420693</td>\n",
       "    </tr>\n",
       "    <tr>\n",
       "      <th>min</th>\n",
       "      <td>0.01</td>\n",
       "      <td>NaN</td>\n",
       "      <td>-75.2511</td>\n",
       "      <td>39.5778</td>\n",
       "      <td>-75.263</td>\n",
       "      <td>39.5707</td>\n",
       "      <td>1</td>\n",
       "      <td>0</td>\n",
       "      <td>0</td>\n",
       "      <td>0</td>\n",
       "    </tr>\n",
       "    <tr>\n",
       "      <th>25%</th>\n",
       "      <td>6</td>\n",
       "      <td>NaN</td>\n",
       "      <td>-73.9923</td>\n",
       "      <td>40.7366</td>\n",
       "      <td>-73.9916</td>\n",
       "      <td>40.7356</td>\n",
       "      <td>1</td>\n",
       "      <td>0.0061264</td>\n",
       "      <td>0.00692749</td>\n",
       "      <td>0.0128038</td>\n",
       "    </tr>\n",
       "    <tr>\n",
       "      <th>50%</th>\n",
       "      <td>8.5</td>\n",
       "      <td>NaN</td>\n",
       "      <td>-73.9821</td>\n",
       "      <td>40.7534</td>\n",
       "      <td>-73.9806</td>\n",
       "      <td>40.7539</td>\n",
       "      <td>1</td>\n",
       "      <td>0.0126877</td>\n",
       "      <td>0.0141602</td>\n",
       "      <td>0.0217953</td>\n",
       "    </tr>\n",
       "    <tr>\n",
       "      <th>75%</th>\n",
       "      <td>12.5</td>\n",
       "      <td>NaN</td>\n",
       "      <td>-73.9683</td>\n",
       "      <td>40.7676</td>\n",
       "      <td>-73.9653</td>\n",
       "      <td>40.7684</td>\n",
       "      <td>2</td>\n",
       "      <td>0.0239334</td>\n",
       "      <td>0.0271988</td>\n",
       "      <td>0.0386899</td>\n",
       "    </tr>\n",
       "    <tr>\n",
       "      <th>max</th>\n",
       "      <td>149.99</td>\n",
       "      <td>NaN</td>\n",
       "      <td>-71.9969</td>\n",
       "      <td>42.7041</td>\n",
       "      <td>-72.0021</td>\n",
       "      <td>42.6761</td>\n",
       "      <td>7</td>\n",
       "      <td>1.84062</td>\n",
       "      <td>1.62736</td>\n",
       "      <td>1.98204</td>\n",
       "    </tr>\n",
       "    <tr>\n",
       "      <th>counts</th>\n",
       "      <td>54067064</td>\n",
       "      <td>54067064</td>\n",
       "      <td>54067064</td>\n",
       "      <td>54067064</td>\n",
       "      <td>54067064</td>\n",
       "      <td>54067064</td>\n",
       "      <td>54067064</td>\n",
       "      <td>54067064</td>\n",
       "      <td>54067064</td>\n",
       "      <td>54067064</td>\n",
       "    </tr>\n",
       "    <tr>\n",
       "      <th>uniques</th>\n",
       "      <td>7622</td>\n",
       "      <td>25644824</td>\n",
       "      <td>70910</td>\n",
       "      <td>97393</td>\n",
       "      <td>85421</td>\n",
       "      <td>114095</td>\n",
       "      <td>7</td>\n",
       "      <td>48303</td>\n",
       "      <td>74752</td>\n",
       "      <td>16902675</td>\n",
       "    </tr>\n",
       "    <tr>\n",
       "      <th>missing</th>\n",
       "      <td>0</td>\n",
       "      <td>0</td>\n",
       "      <td>0</td>\n",
       "      <td>0</td>\n",
       "      <td>0</td>\n",
       "      <td>0</td>\n",
       "      <td>0</td>\n",
       "      <td>0</td>\n",
       "      <td>0</td>\n",
       "      <td>0</td>\n",
       "    </tr>\n",
       "    <tr>\n",
       "      <th>missing_perc</th>\n",
       "      <td>0%</td>\n",
       "      <td>0%</td>\n",
       "      <td>0%</td>\n",
       "      <td>0%</td>\n",
       "      <td>0%</td>\n",
       "      <td>0%</td>\n",
       "      <td>0%</td>\n",
       "      <td>0%</td>\n",
       "      <td>0%</td>\n",
       "      <td>0%</td>\n",
       "    </tr>\n",
       "    <tr>\n",
       "      <th>types</th>\n",
       "      <td>numeric</td>\n",
       "      <td>date</td>\n",
       "      <td>numeric</td>\n",
       "      <td>numeric</td>\n",
       "      <td>numeric</td>\n",
       "      <td>numeric</td>\n",
       "      <td>numeric</td>\n",
       "      <td>numeric</td>\n",
       "      <td>numeric</td>\n",
       "      <td>numeric</td>\n",
       "    </tr>\n",
       "  </tbody>\n",
       "</table>\n",
       "</div>"
      ],
      "text/plain": [
       "              fare_amount pickup_datetime pickup_longitude pickup_latitude  \\\n",
       "count         5.40671e+07             NaN      5.40671e+07     5.40671e+07   \n",
       "mean              11.3141             NaN         -73.9707         40.7501   \n",
       "std               9.52498             NaN        0.0391943        0.031978   \n",
       "min                  0.01             NaN         -75.2511         39.5778   \n",
       "25%                     6             NaN         -73.9923         40.7366   \n",
       "50%                   8.5             NaN         -73.9821         40.7534   \n",
       "75%                  12.5             NaN         -73.9683         40.7676   \n",
       "max                149.99             NaN         -71.9969         42.7041   \n",
       "counts           54067064        54067064         54067064        54067064   \n",
       "uniques              7622        25644824            70910           97393   \n",
       "missing                 0               0                0               0   \n",
       "missing_perc           0%              0%               0%              0%   \n",
       "types             numeric            date          numeric         numeric   \n",
       "\n",
       "             dropoff_longitude dropoff_latitude passenger_count  \\\n",
       "count              5.40671e+07      5.40671e+07     5.40671e+07   \n",
       "mean                  -73.9705          40.7502         1.69112   \n",
       "std                  0.0383179        0.0351353         1.30693   \n",
       "min                    -75.263          39.5707               1   \n",
       "25%                   -73.9916          40.7356               1   \n",
       "50%                   -73.9806          40.7539               1   \n",
       "75%                   -73.9653          40.7684               2   \n",
       "max                   -72.0021          42.6761               7   \n",
       "counts                54067064         54067064        54067064   \n",
       "uniques                  85421           114095               7   \n",
       "missing                      0                0               0   \n",
       "missing_perc                0%               0%              0%   \n",
       "types                  numeric          numeric         numeric   \n",
       "\n",
       "             abs_diff_longitude abs_diff_latitude simple_distance  \n",
       "count               5.40671e+07       5.40671e+07     5.40671e+07  \n",
       "mean                  0.0227984         0.0214413       0.0342285  \n",
       "std                   0.0351999         0.0268867       0.0420693  \n",
       "min                           0                 0               0  \n",
       "25%                   0.0061264        0.00692749       0.0128038  \n",
       "50%                   0.0126877         0.0141602       0.0217953  \n",
       "75%                   0.0239334         0.0271988       0.0386899  \n",
       "max                     1.84062           1.62736         1.98204  \n",
       "counts                 54067064          54067064        54067064  \n",
       "uniques                   48303             74752        16902675  \n",
       "missing                       0                 0               0  \n",
       "missing_perc                 0%                0%              0%  \n",
       "types                   numeric           numeric         numeric  "
      ]
     },
     "execution_count": 94,
     "metadata": {},
     "output_type": "execute_result"
    }
   ],
   "source": [
    "DataFrameSummary(train_df).summary()"
   ]
  },
  {
   "cell_type": "markdown",
   "metadata": {},
   "source": [
    "## Checkpoint 2"
   ]
  },
  {
   "cell_type": "code",
   "execution_count": 95,
   "metadata": {},
   "outputs": [],
   "source": [
    "# reset_index after removing rows, in order to be able to save to feather\n",
    "train_df.reset_index(drop=True, inplace=True)"
   ]
  },
  {
   "cell_type": "code",
   "execution_count": 96,
   "metadata": {},
   "outputs": [
    {
     "name": "stdout",
     "output_type": "stream",
     "text": [
      "Wall time: 8.86 s\n"
     ]
    }
   ],
   "source": [
    "%%time\n",
    "train_df.to_feather('tmp/taxi-train-chkpt2')"
   ]
  },
  {
   "cell_type": "code",
   "execution_count": 97,
   "metadata": {},
   "outputs": [
    {
     "name": "stdout",
     "output_type": "stream",
     "text": [
      "Wall time: 10.9 ms\n"
     ]
    }
   ],
   "source": [
    "%%time\n",
    "test_df.to_feather('tmp/taxi-test-chkpt2')"
   ]
  },
  {
   "cell_type": "code",
   "execution_count": 98,
   "metadata": {},
   "outputs": [
    {
     "name": "stdout",
     "output_type": "stream",
     "text": [
      "Wall time: 1.73 s\n"
     ]
    }
   ],
   "source": [
    "%%time\n",
    "train_df = pd.read_feather('tmp/taxi-train-chkpt2')"
   ]
  },
  {
   "cell_type": "code",
   "execution_count": 99,
   "metadata": {},
   "outputs": [
    {
     "name": "stdout",
     "output_type": "stream",
     "text": [
      "Wall time: 2.02 ms\n"
     ]
    }
   ],
   "source": [
    "%%time\n",
    "test_df = pd.read_feather('tmp/taxi-test-chkpt2')"
   ]
  },
  {
   "cell_type": "markdown",
   "metadata": {},
   "source": [
    "# Date Time"
   ]
  },
  {
   "cell_type": "code",
   "execution_count": 100,
   "metadata": {},
   "outputs": [
    {
     "name": "stdout",
     "output_type": "stream",
     "text": [
      "<class 'pandas.core.frame.DataFrame'>\n",
      "RangeIndex: 54067064 entries, 0 to 54067063\n",
      "Data columns (total 10 columns):\n",
      "fare_amount           float32\n",
      "pickup_datetime       datetime64[ns]\n",
      "pickup_longitude      float32\n",
      "pickup_latitude       float32\n",
      "dropoff_longitude     float32\n",
      "dropoff_latitude      float32\n",
      "passenger_count       uint8\n",
      "abs_diff_longitude    float32\n",
      "abs_diff_latitude     float32\n",
      "simple_distance       float32\n",
      "dtypes: datetime64[ns](1), float32(8), uint8(1)\n",
      "memory usage: 2.1 GB\n"
     ]
    }
   ],
   "source": [
    "train_df.info()"
   ]
  },
  {
   "cell_type": "code",
   "execution_count": 101,
   "metadata": {},
   "outputs": [
    {
     "name": "stdout",
     "output_type": "stream",
     "text": [
      "Wall time: 1min 33s\n"
     ]
    }
   ],
   "source": [
    "%%time\n",
    "add_datepart(train_df, 'pickup_datetime', time=True)"
   ]
  },
  {
   "cell_type": "code",
   "execution_count": 102,
   "metadata": {},
   "outputs": [
    {
     "name": "stdout",
     "output_type": "stream",
     "text": [
      "<class 'pandas.core.frame.DataFrame'>\n",
      "RangeIndex: 54067064 entries, 0 to 54067063\n",
      "Data columns (total 25 columns):\n",
      "fare_amount                        float32\n",
      "pickup_longitude                   float32\n",
      "pickup_latitude                    float32\n",
      "dropoff_longitude                  float32\n",
      "dropoff_latitude                   float32\n",
      "passenger_count                    uint8\n",
      "abs_diff_longitude                 float32\n",
      "abs_diff_latitude                  float32\n",
      "simple_distance                    float32\n",
      "pickup_datetimeYear                int64\n",
      "pickup_datetimeMonth               int64\n",
      "pickup_datetimeWeek                int64\n",
      "pickup_datetimeDay                 int64\n",
      "pickup_datetimeDayofweek           int64\n",
      "pickup_datetimeDayofyear           int64\n",
      "pickup_datetimeIs_month_end        bool\n",
      "pickup_datetimeIs_month_start      bool\n",
      "pickup_datetimeIs_quarter_end      bool\n",
      "pickup_datetimeIs_quarter_start    bool\n",
      "pickup_datetimeIs_year_end         bool\n",
      "pickup_datetimeIs_year_start       bool\n",
      "pickup_datetimeHour                int64\n",
      "pickup_datetimeMinute              int64\n",
      "pickup_datetimeSecond              int64\n",
      "pickup_datetimeElapsed             int64\n",
      "dtypes: bool(6), float32(8), int64(10), uint8(1)\n",
      "memory usage: 6.0 GB\n"
     ]
    }
   ],
   "source": [
    "train_df.info()"
   ]
  },
  {
   "cell_type": "code",
   "execution_count": 103,
   "metadata": {},
   "outputs": [],
   "source": [
    "cols_to_drop = [\n",
    "    'pickup_datetimeElapsed',\n",
    "    'pickup_datetimeSecond'\n",
    "]"
   ]
  },
  {
   "cell_type": "code",
   "execution_count": 104,
   "metadata": {},
   "outputs": [],
   "source": [
    "train_df.drop(cols_to_drop, axis='columns', inplace=True)"
   ]
  },
  {
   "cell_type": "code",
   "execution_count": 105,
   "metadata": {},
   "outputs": [
    {
     "name": "stdout",
     "output_type": "stream",
     "text": [
      "<class 'pandas.core.frame.DataFrame'>\n",
      "RangeIndex: 54067064 entries, 0 to 54067063\n",
      "Data columns (total 23 columns):\n",
      "fare_amount                        float32\n",
      "pickup_longitude                   float32\n",
      "pickup_latitude                    float32\n",
      "dropoff_longitude                  float32\n",
      "dropoff_latitude                   float32\n",
      "passenger_count                    uint8\n",
      "abs_diff_longitude                 float32\n",
      "abs_diff_latitude                  float32\n",
      "simple_distance                    float32\n",
      "pickup_datetimeYear                int64\n",
      "pickup_datetimeMonth               int64\n",
      "pickup_datetimeWeek                int64\n",
      "pickup_datetimeDay                 int64\n",
      "pickup_datetimeDayofweek           int64\n",
      "pickup_datetimeDayofyear           int64\n",
      "pickup_datetimeIs_month_end        bool\n",
      "pickup_datetimeIs_month_start      bool\n",
      "pickup_datetimeIs_quarter_end      bool\n",
      "pickup_datetimeIs_quarter_start    bool\n",
      "pickup_datetimeIs_year_end         bool\n",
      "pickup_datetimeIs_year_start       bool\n",
      "pickup_datetimeHour                int64\n",
      "pickup_datetimeMinute              int64\n",
      "dtypes: bool(6), float32(8), int64(8), uint8(1)\n",
      "memory usage: 5.2 GB\n"
     ]
    }
   ],
   "source": [
    "train_df.info()"
   ]
  },
  {
   "cell_type": "code",
   "execution_count": 106,
   "metadata": {},
   "outputs": [],
   "source": [
    "train_df.pickup_datetimeYear = train_df.pickup_datetimeYear.astype('uint16')   \n",
    "train_df.pickup_datetimeMonth = train_df.pickup_datetimeMonth.astype('uint8') \n",
    "train_df.pickup_datetimeDay = train_df.pickup_datetimeDay.astype('uint8')   \n",
    "train_df.pickup_datetimeWeek = train_df.pickup_datetimeWeek.astype('uint8')    \n",
    "train_df.pickup_datetimeHour = train_df.pickup_datetimeHour.astype('uint8')   \n",
    "train_df.pickup_datetimeMinute = train_df.pickup_datetimeMinute.astype('uint8')    \n",
    "train_df.pickup_datetimeDayofweek = train_df.pickup_datetimeDayofweek.astype('uint8')                 \n",
    "train_df.pickup_datetimeDayofyear = train_df.pickup_datetimeDayofyear.astype('uint16')   "
   ]
  },
  {
   "cell_type": "code",
   "execution_count": 107,
   "metadata": {},
   "outputs": [
    {
     "name": "stdout",
     "output_type": "stream",
     "text": [
      "<class 'pandas.core.frame.DataFrame'>\n",
      "RangeIndex: 54067064 entries, 0 to 54067063\n",
      "Data columns (total 23 columns):\n",
      "fare_amount                        float32\n",
      "pickup_longitude                   float32\n",
      "pickup_latitude                    float32\n",
      "dropoff_longitude                  float32\n",
      "dropoff_latitude                   float32\n",
      "passenger_count                    uint8\n",
      "abs_diff_longitude                 float32\n",
      "abs_diff_latitude                  float32\n",
      "simple_distance                    float32\n",
      "pickup_datetimeYear                uint16\n",
      "pickup_datetimeMonth               uint8\n",
      "pickup_datetimeWeek                uint8\n",
      "pickup_datetimeDay                 uint8\n",
      "pickup_datetimeDayofweek           uint8\n",
      "pickup_datetimeDayofyear           uint16\n",
      "pickup_datetimeIs_month_end        bool\n",
      "pickup_datetimeIs_month_start      bool\n",
      "pickup_datetimeIs_quarter_end      bool\n",
      "pickup_datetimeIs_quarter_start    bool\n",
      "pickup_datetimeIs_year_end         bool\n",
      "pickup_datetimeIs_year_start       bool\n",
      "pickup_datetimeHour                uint8\n",
      "pickup_datetimeMinute              uint8\n",
      "dtypes: bool(6), float32(8), uint16(2), uint8(7)\n",
      "memory usage: 2.5 GB\n"
     ]
    }
   ],
   "source": [
    "train_df.info()"
   ]
  },
  {
   "cell_type": "markdown",
   "metadata": {},
   "source": [
    "## Repeat on test dataframe"
   ]
  },
  {
   "cell_type": "code",
   "execution_count": 108,
   "metadata": {},
   "outputs": [],
   "source": [
    "add_datepart(test_df, 'pickup_datetime', time=True)"
   ]
  },
  {
   "cell_type": "code",
   "execution_count": 109,
   "metadata": {},
   "outputs": [],
   "source": [
    "test_df.drop(cols_to_drop, axis='columns', inplace=True)"
   ]
  },
  {
   "cell_type": "code",
   "execution_count": 110,
   "metadata": {},
   "outputs": [],
   "source": [
    "test_df.pickup_datetimeYear = test_df.pickup_datetimeYear.astype('uint16')   \n",
    "test_df.pickup_datetimeMonth = test_df.pickup_datetimeMonth.astype('uint8')   \n",
    "test_df.pickup_datetimeDay = test_df.pickup_datetimeDay.astype('uint8')  \n",
    "test_df.pickup_datetimeWeek = test_df.pickup_datetimeWeek.astype('uint8')    \n",
    "test_df.pickup_datetimeHour = test_df.pickup_datetimeHour.astype('uint8')   \n",
    "test_df.pickup_datetimeMinute = test_df.pickup_datetimeMinute.astype('uint8')    \n",
    "test_df.pickup_datetimeDayofweek = test_df.pickup_datetimeDayofweek.astype('uint8')                 \n",
    "test_df.pickup_datetimeDayofyear = test_df.pickup_datetimeDayofyear.astype('uint16')  "
   ]
  },
  {
   "cell_type": "markdown",
   "metadata": {},
   "source": [
    "## Checkpoint 3"
   ]
  },
  {
   "cell_type": "code",
   "execution_count": 111,
   "metadata": {},
   "outputs": [
    {
     "name": "stdout",
     "output_type": "stream",
     "text": [
      "Wall time: 8.13 s\n"
     ]
    }
   ],
   "source": [
    "%%time\n",
    "train_df.to_feather('tmp/taxi-train-chkpt3')"
   ]
  },
  {
   "cell_type": "code",
   "execution_count": 112,
   "metadata": {},
   "outputs": [
    {
     "name": "stdout",
     "output_type": "stream",
     "text": [
      "Wall time: 26.8 ms\n"
     ]
    }
   ],
   "source": [
    "%%time\n",
    "test_df.to_feather('tmp/taxi-test-chkpt3')"
   ]
  },
  {
   "cell_type": "code",
   "execution_count": null,
   "metadata": {},
   "outputs": [],
   "source": [
    "%%time\n",
    "train_df = pd.read_feather('tmp/taxi-train-chkpt3')"
   ]
  },
  {
   "cell_type": "code",
   "execution_count": null,
   "metadata": {},
   "outputs": [],
   "source": [
    "%%time\n",
    "test_df = pd.read_feather('tmp/taxi-test-chkpt3')"
   ]
  }
 ],
 "metadata": {
  "kernelspec": {
   "display_name": "Python (fastai)",
   "language": "python",
   "name": "fastai"
  },
  "language_info": {
   "codemirror_mode": {
    "name": "ipython",
    "version": 3
   },
   "file_extension": ".py",
   "mimetype": "text/x-python",
   "name": "python",
   "nbconvert_exporter": "python",
   "pygments_lexer": "ipython3",
   "version": "3.6.6"
  },
  "toc": {
   "base_numbering": 1,
   "nav_menu": {},
   "number_sections": true,
   "sideBar": true,
   "skip_h1_title": false,
   "title_cell": "Table of Contents",
   "title_sidebar": "Contents",
   "toc_cell": false,
   "toc_position": {},
   "toc_section_display": true,
   "toc_window_display": false
  }
 },
 "nbformat": 4,
 "nbformat_minor": 1
}
