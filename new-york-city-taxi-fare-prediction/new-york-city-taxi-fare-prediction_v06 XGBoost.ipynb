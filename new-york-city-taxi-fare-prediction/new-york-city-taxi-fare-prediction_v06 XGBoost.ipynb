{
 "cells": [
  {
   "cell_type": "markdown",
   "metadata": {},
   "source": [
    "https://www.kaggle.com/c/new-york-city-taxi-fare-prediction/"
   ]
  },
  {
   "cell_type": "markdown",
   "metadata": {},
   "source": [
    "# Imports"
   ]
  },
  {
   "cell_type": "code",
   "execution_count": 1,
   "metadata": {},
   "outputs": [],
   "source": [
    "%matplotlib inline\n",
    "%reload_ext autoreload\n",
    "%autoreload 2"
   ]
  },
  {
   "cell_type": "code",
   "execution_count": 2,
   "metadata": {
    "_cell_guid": "b1076dfc-b9ad-4769-8c92-a6c4dae69d19",
    "_uuid": "8f2839f25d086af736a60e9eeb907d3b93b6e0e5"
   },
   "outputs": [],
   "source": [
    "import numpy as np \n",
    "import pandas as pd \n",
    "import matplotlib.pyplot as plt\n",
    "import os\n",
    "\n",
    "from IPython.display import display"
   ]
  },
  {
   "cell_type": "code",
   "execution_count": 3,
   "metadata": {},
   "outputs": [],
   "source": [
    "import xgboost as xgb"
   ]
  },
  {
   "cell_type": "code",
   "execution_count": 4,
   "metadata": {},
   "outputs": [],
   "source": [
    "PATH = 'data/nyc-taxi/'"
   ]
  },
  {
   "cell_type": "markdown",
   "metadata": {},
   "source": [
    "# Helper Functions"
   ]
  },
  {
   "cell_type": "code",
   "execution_count": 16,
   "metadata": {},
   "outputs": [],
   "source": [
    "def proc_df(df, y_fld, subset=None, seed=42):\n",
    "    \n",
    "    if subset: df = df.sample(n=subset,random_state=seed)\n",
    "\n",
    "    y = df[y_fld].values\n",
    "    df.drop(y_fld, axis=1, inplace=True)\n",
    "    \n",
    "    return df, y"
   ]
  },
  {
   "cell_type": "code",
   "execution_count": null,
   "metadata": {},
   "outputs": [],
   "source": [
    "def rmse(x,y): return math.sqrt(((x-y)**2).mean())\n",
    "\n",
    "def print_scores(model):\n",
    "    pred_train = model.predict(DM_train)\n",
    "    rmse_train = rmse(pred_train, y_train)\n",
    "    \n",
    "    pred_val = model.predict(DM_val)\n",
    "    rmse_val = rmse(pred_val, y_val)\n",
    "    \n",
    "    print(\"\\nTraining score\")\n",
    "    print(f'RMSE for training set: {rmse_train:.5f}')\n",
    "    print(f'RMSE for validation set: {rmse_val:.5f}')"
   ]
  },
  {
   "cell_type": "markdown",
   "metadata": {},
   "source": [
    "# Load clean dataframe"
   ]
  },
  {
   "cell_type": "code",
   "execution_count": 5,
   "metadata": {},
   "outputs": [
    {
     "name": "stdout",
     "output_type": "stream",
     "text": [
      "Wall time: 8.94 s\n"
     ]
    }
   ],
   "source": [
    "%%time\n",
    "train_df = pd.read_feather('tmp/taxi-train-chkpt4')"
   ]
  },
  {
   "cell_type": "code",
   "execution_count": 6,
   "metadata": {},
   "outputs": [],
   "source": [
    "test_df = pd.read_feather('tmp/taxi-test-chkpt4')"
   ]
  },
  {
   "cell_type": "code",
   "execution_count": 7,
   "metadata": {},
   "outputs": [],
   "source": [
    "all_val_index_df = pd.read_csv('tmp/validation_list1.csv', header=None)"
   ]
  },
  {
   "cell_type": "markdown",
   "metadata": {},
   "source": [
    "# Split Training-Validation Data"
   ]
  },
  {
   "cell_type": "code",
   "execution_count": 8,
   "metadata": {},
   "outputs": [],
   "source": [
    "unique_val_list = list(set(all_val_index_df[0].tolist())) # get unique values"
   ]
  },
  {
   "cell_type": "code",
   "execution_count": 9,
   "metadata": {},
   "outputs": [
    {
     "data": {
      "text/plain": [
       "(9914, 9154)"
      ]
     },
     "execution_count": 9,
     "metadata": {},
     "output_type": "execute_result"
    }
   ],
   "source": [
    "len(all_val_index_df), len(unique_val_list),"
   ]
  },
  {
   "cell_type": "code",
   "execution_count": 10,
   "metadata": {},
   "outputs": [
    {
     "data": {
      "text/plain": [
       "9154"
      ]
     },
     "execution_count": 10,
     "metadata": {},
     "output_type": "execute_result"
    }
   ],
   "source": [
    "n_valid = len(unique_val_list)\n",
    "n_valid"
   ]
  },
  {
   "cell_type": "code",
   "execution_count": 11,
   "metadata": {},
   "outputs": [],
   "source": [
    "val_df = train_df.iloc[unique_val_list].copy()"
   ]
  },
  {
   "cell_type": "code",
   "execution_count": 12,
   "metadata": {},
   "outputs": [
    {
     "name": "stdout",
     "output_type": "stream",
     "text": [
      "Wall time: 9.4 s\n"
     ]
    }
   ],
   "source": [
    "%%time\n",
    "pruned_train_df = train_df.drop(unique_val_list, axis='rows')"
   ]
  },
  {
   "cell_type": "code",
   "execution_count": 13,
   "metadata": {},
   "outputs": [],
   "source": [
    "assert len(pruned_train_df) + len(val_df) == len(train_df)"
   ]
  },
  {
   "cell_type": "code",
   "execution_count": 14,
   "metadata": {},
   "outputs": [
    {
     "data": {
      "text/plain": [
       "((54051828, 17), (9154, 17))"
      ]
     },
     "execution_count": 14,
     "metadata": {},
     "output_type": "execute_result"
    }
   ],
   "source": [
    "pruned_train_df.shape, val_df.shape"
   ]
  },
  {
   "cell_type": "code",
   "execution_count": 15,
   "metadata": {},
   "outputs": [],
   "source": [
    "del train_df"
   ]
  },
  {
   "cell_type": "code",
   "execution_count": 17,
   "metadata": {},
   "outputs": [
    {
     "name": "stdout",
     "output_type": "stream",
     "text": [
      "Wall time: 12.8 s\n"
     ]
    }
   ],
   "source": [
    "%%time\n",
    "subsample = 25_000_000\n",
    "\n",
    "X_train, y_train = proc_df(pruned_train_df, 'fare_amount', subsample)\n",
    "X_val, y_val = proc_df(val_df,'fare_amount')"
   ]
  },
  {
   "cell_type": "code",
   "execution_count": 18,
   "metadata": {},
   "outputs": [
    {
     "data": {
      "text/plain": [
       "((25000000, 16), (9154, 16), (25000000,), (9154,))"
      ]
     },
     "execution_count": 18,
     "metadata": {},
     "output_type": "execute_result"
    }
   ],
   "source": [
    "X_train.shape, X_val.shape, y_train.shape, y_val.shape"
   ]
  },
  {
   "cell_type": "markdown",
   "metadata": {},
   "source": [
    "# XGBoost"
   ]
  },
  {
   "cell_type": "code",
   "execution_count": 19,
   "metadata": {},
   "outputs": [],
   "source": [
    "DM_train = xgb.DMatrix(data=X_train, label=y_train)\n",
    "DM_val = xgb.DMatrix(data=X_val, label=y_val)\n",
    "DM_test = xgb.DMatrix(data=test_df)"
   ]
  },
  {
   "cell_type": "code",
   "execution_count": 20,
   "metadata": {},
   "outputs": [],
   "source": [
    "evals_result = {}\n",
    "watchlist = [(DM_train, \"training\"), (DM_val, \"validation\")]"
   ]
  },
  {
   "cell_type": "code",
   "execution_count": 24,
   "metadata": {},
   "outputs": [],
   "source": [
    "params_native = {\n",
    "    'objective': 'reg:linear', \n",
    "    'booster':'gbtree',        \n",
    "    'silent': 1,               \n",
    "    'eta': 0.01,                 \n",
    "    'gamma': 0,                 \n",
    "    'max-depth': 8,             \n",
    "    'min_child_weight': 1,      \n",
    "    'max_delta_step': 0,        \n",
    "    'subsample': 0.8,             \n",
    "    'colsample_bytree': 0.6,      \n",
    "    'colsample_bylevel': 0.7,     \n",
    "    'lambda': 0.9,                \n",
    "    'alpha': 0,                 \n",
    "    'scale_pos_weight': 1,      \n",
    "    'base_score': 0.5,          \n",
    "    'eval_metric':'rmse',      \n",
    "    'seed': 42                  \n",
    "}"
   ]
  },
  {
   "cell_type": "markdown",
   "metadata": {},
   "source": [
    "## Train"
   ]
  },
  {
   "cell_type": "code",
   "execution_count": null,
   "metadata": {},
   "outputs": [
    {
     "name": "stdout",
     "output_type": "stream",
     "text": [
      "[0]\ttraining-rmse:14.3367\tvalidation-rmse:14.5123\n",
      "Multiple eval metrics have been passed: 'validation-rmse' will be used for early stopping.\n",
      "\n",
      "Will train until validation-rmse hasn't improved in 5 rounds.\n",
      "[10]\ttraining-rmse:13.1167\tvalidation-rmse:13.2918\n",
      "[20]\ttraining-rmse:12.0137\tvalidation-rmse:12.1921\n",
      "[30]\ttraining-rmse:11.0347\tvalidation-rmse:11.2172\n",
      "[40]\ttraining-rmse:10.1732\tvalidation-rmse:10.3609\n",
      "[50]\ttraining-rmse:9.39052\tvalidation-rmse:9.58479\n",
      "[60]\ttraining-rmse:8.72103\tvalidation-rmse:8.92153\n",
      "[70]\ttraining-rmse:8.10529\tvalidation-rmse:8.31506\n",
      "[80]\ttraining-rmse:7.56673\tvalidation-rmse:7.78633\n",
      "[90]\ttraining-rmse:7.08601\tvalidation-rmse:7.31644\n",
      "[100]\ttraining-rmse:6.66247\tvalidation-rmse:6.90711\n",
      "[110]\ttraining-rmse:6.28604\tvalidation-rmse:6.5424\n",
      "[120]\ttraining-rmse:5.95569\tvalidation-rmse:6.2265\n",
      "[130]\ttraining-rmse:5.67512\tvalidation-rmse:5.95802\n",
      "[140]\ttraining-rmse:5.42643\tvalidation-rmse:5.72158\n",
      "[150]\ttraining-rmse:5.21454\tvalidation-rmse:5.52124\n"
     ]
    }
   ],
   "source": [
    "%%time\n",
    "xgb_native = xgb.train(params=params_native, \n",
    "                            dtrain=DM_train,\n",
    "                            num_boost_round=100_000,\n",
    "                            evals=watchlist,\n",
    "                            early_stopping_rounds=5,\n",
    "                            evals_result=evals_result,\n",
    "                            verbose_eval=10)"
   ]
  },
  {
   "cell_type": "code",
   "execution_count": 23,
   "metadata": {},
   "outputs": [
    {
     "ename": "NameError",
     "evalue": "name 'xgb_native' is not defined",
     "output_type": "error",
     "traceback": [
      "\u001b[1;31m---------------------------------------------------------------------------\u001b[0m",
      "\u001b[1;31mNameError\u001b[0m                                 Traceback (most recent call last)",
      "\u001b[1;32m<ipython-input-23-7b1d895ec0b9>\u001b[0m in \u001b[0;36m<module>\u001b[1;34m()\u001b[0m\n\u001b[1;32m----> 1\u001b[1;33m \u001b[0mprint\u001b[0m\u001b[1;33m(\u001b[0m\u001b[1;34m\"Best iteration\\t{}\"\u001b[0m\u001b[1;33m.\u001b[0m\u001b[0mformat\u001b[0m\u001b[1;33m(\u001b[0m\u001b[0mxgb_native\u001b[0m\u001b[1;33m.\u001b[0m\u001b[0mbest_iteration\u001b[0m\u001b[1;33m)\u001b[0m\u001b[1;33m)\u001b[0m\u001b[1;33m\u001b[0m\u001b[0m\n\u001b[0m\u001b[0;32m      2\u001b[0m \u001b[0mprint\u001b[0m\u001b[1;33m(\u001b[0m\u001b[1;34m\"Best tree limit\\t{}\"\u001b[0m\u001b[1;33m.\u001b[0m\u001b[0mformat\u001b[0m\u001b[1;33m(\u001b[0m\u001b[0mxgb_native\u001b[0m\u001b[1;33m.\u001b[0m\u001b[0mbest_ntree_limit\u001b[0m\u001b[1;33m)\u001b[0m\u001b[1;33m)\u001b[0m\u001b[1;33m\u001b[0m\u001b[0m\n\u001b[0;32m      3\u001b[0m \u001b[0mprint\u001b[0m\u001b[1;33m(\u001b[0m\u001b[1;34m\"Best RMSE score\\t{}\"\u001b[0m\u001b[1;33m.\u001b[0m\u001b[0mformat\u001b[0m\u001b[1;33m(\u001b[0m\u001b[0mxgb_native\u001b[0m\u001b[1;33m.\u001b[0m\u001b[0mbest_score\u001b[0m\u001b[1;33m)\u001b[0m\u001b[1;33m)\u001b[0m\u001b[1;33m\u001b[0m\u001b[0m\n\u001b[0;32m      4\u001b[0m \u001b[1;33m\u001b[0m\u001b[0m\n\u001b[0;32m      5\u001b[0m \u001b[0mprint_scores\u001b[0m\u001b[1;33m(\u001b[0m\u001b[0mxgb_native\u001b[0m\u001b[1;33m)\u001b[0m\u001b[1;33m\u001b[0m\u001b[0m\n",
      "\u001b[1;31mNameError\u001b[0m: name 'xgb_native' is not defined"
     ]
    }
   ],
   "source": [
    "print(\"Best iteration\\t{}\".format(xgb_native.best_iteration))\n",
    "print(\"Best tree limit\\t{}\".format(xgb_native.best_ntree_limit))\n",
    "print(\"Best RMSE score\\t{}\".format(xgb_native.best_score))\n",
    "\n",
    "print_scores(xgb_native)"
   ]
  },
  {
   "cell_type": "markdown",
   "metadata": {
    "_uuid": "a70ed21b43d720282bbae70e934b1188be2bc382"
   },
   "source": [
    "# Predict on test data"
   ]
  },
  {
   "cell_type": "code",
   "execution_count": null,
   "metadata": {
    "_uuid": "3cbf4836cf8c71dfb67d13a9621b18a8d487197e"
   },
   "outputs": [],
   "source": [
    "# We need 'key' for the test submission file\n",
    "test_df_raw = pd.read_csv(f'{PATH}test.csv', usecols=['key'])"
   ]
  },
  {
   "cell_type": "code",
   "execution_count": null,
   "metadata": {
    "_uuid": "ddba4a856ff617411a641dfdf7635e47f969dff8"
   },
   "outputs": [],
   "source": [
    "%%time\n",
    "test_y_predictions = xgb_native_full_data.predict(DM_test)"
   ]
  },
  {
   "cell_type": "markdown",
   "metadata": {},
   "source": [
    "# Submit"
   ]
  },
  {
   "cell_type": "code",
   "execution_count": null,
   "metadata": {},
   "outputs": [],
   "source": [
    "from datetime import datetime as dt"
   ]
  },
  {
   "cell_type": "code",
   "execution_count": null,
   "metadata": {
    "_uuid": "ddba4a856ff617411a641dfdf7635e47f969dff8"
   },
   "outputs": [],
   "source": [
    "outdir = 'submissions'\n",
    "os.makedirs(outdir, exist_ok=True)\n",
    "    \n",
    "cur_dt = dt.now().strftime(\"%Y%m%d_%H%M%S\")\n",
    "desc = 'v06_XGB_' # description of submission for reference\n",
    "subm_fn =  desc + cur_dt + '.csv'\n",
    "subm_path = f'{outdir}/{subm_fn}'\n",
    "\n",
    "# Write the predictions to a CSV file which we can submit to the competition.\n",
    "submission = pd.DataFrame(\n",
    "    {'key': test_df_raw.key, 'fare_amount': test_y_predictions},\n",
    "    columns = ['key', 'fare_amount'])\n",
    "submission.to_csv(subm_path, index = False)\n",
    "\n",
    "subm_path"
   ]
  },
  {
   "cell_type": "markdown",
   "metadata": {},
   "source": [
    "Kaggle Score:"
   ]
  },
  {
   "cell_type": "markdown",
   "metadata": {},
   "source": [
    "# Save model"
   ]
  },
  {
   "cell_type": "code",
   "execution_count": null,
   "metadata": {},
   "outputs": [],
   "source": [
    "del pruned_train_df"
   ]
  },
  {
   "cell_type": "code",
   "execution_count": null,
   "metadata": {},
   "outputs": [],
   "source": [
    "model_fn_save = 'models/v05_RF_20180729_121842.pkl'"
   ]
  },
  {
   "cell_type": "code",
   "execution_count": null,
   "metadata": {},
   "outputs": [],
   "source": [
    "%time pickle.dump(m, open(model_fn_save, 'wb'))"
   ]
  },
  {
   "cell_type": "markdown",
   "metadata": {},
   "source": [
    "# Load Model"
   ]
  },
  {
   "cell_type": "code",
   "execution_count": null,
   "metadata": {},
   "outputs": [],
   "source": [
    "model_fn_open = 'models/<>'"
   ]
  },
  {
   "cell_type": "code",
   "execution_count": null,
   "metadata": {},
   "outputs": [],
   "source": [
    "%time m = pickle.load(open(model_fn_open, 'rb'))"
   ]
  },
  {
   "cell_type": "markdown",
   "metadata": {},
   "source": [
    "# Feature Importance"
   ]
  },
  {
   "cell_type": "code",
   "execution_count": null,
   "metadata": {},
   "outputs": [],
   "source": [
    "fi = rf_feat_importance(m, X_train); \n",
    "fi"
   ]
  },
  {
   "cell_type": "code",
   "execution_count": null,
   "metadata": {},
   "outputs": [],
   "source": [
    "pd.DataFrame({'cols':X_train.columns, 'imp':m.feature_importances_}).sort_values(by='imp', ascending=False)"
   ]
  },
  {
   "cell_type": "code",
   "execution_count": null,
   "metadata": {},
   "outputs": [],
   "source": [
    "def plot_fi(fi): \n",
    "    return fi.plot('cols', 'imp', 'barh', figsize=(12,7), legend=False)"
   ]
  },
  {
   "cell_type": "code",
   "execution_count": null,
   "metadata": {},
   "outputs": [],
   "source": [
    "plot_fi(fi)"
   ]
  },
  {
   "cell_type": "raw",
   "metadata": {},
   "source": [
    "With 10 million rows subsample, 100 trees\n",
    "Training-Score:   0.95066\tTraining-rmse:   2.11882\n",
    "Validation-score: 0.89701\tValidation-rmse: 3.07487\n",
    "Wall time: 16min 14s\n",
    "\n",
    "With 5 million rows subsample, 80 trees\n",
    "Training-Score:   0.94866\tTraining-rmse:   2.15693\n",
    "Validation-score: 0.89472\tValidation-rmse: 3.10890\n",
    "Wall time: 2min 58s\n",
    "\n",
    "With 5 million rows subsample, 80 trees\n",
    "Training-Score:   0.95120\tTraining-rmse:   2.06991\n",
    "Validation-score: 0.89304\tValidation-rmse: 3.10535\n",
    "Wall time: 2min 54s\n",
    "\n",
    "Results from v04\n",
    "With 5 million rows subsample, 80 trees\n",
    "Wall time: 43min 59s\n",
    "Training-Score:   0.93706\tTraining-rmse:   2.40106\n",
    "Validation-score: 0.87062\tValidation-rmse: 3.45292"
   ]
  }
 ],
 "metadata": {
  "kernelspec": {
   "display_name": "Python (tf)",
   "language": "python",
   "name": "tf"
  },
  "language_info": {
   "codemirror_mode": {
    "name": "ipython",
    "version": 3
   },
   "file_extension": ".py",
   "mimetype": "text/x-python",
   "name": "python",
   "nbconvert_exporter": "python",
   "pygments_lexer": "ipython3",
   "version": "3.6.6"
  },
  "toc": {
   "base_numbering": 1,
   "nav_menu": {},
   "number_sections": true,
   "sideBar": true,
   "skip_h1_title": false,
   "title_cell": "Table of Contents",
   "title_sidebar": "Contents",
   "toc_cell": false,
   "toc_position": {},
   "toc_section_display": true,
   "toc_window_display": false
  }
 },
 "nbformat": 4,
 "nbformat_minor": 1
}
