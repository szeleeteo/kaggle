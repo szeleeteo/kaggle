{
 "cells": [
  {
   "cell_type": "markdown",
   "metadata": {},
   "source": [
    "# Imports"
   ]
  },
  {
   "cell_type": "code",
   "execution_count": 1,
   "metadata": {
    "collapsed": true
   },
   "outputs": [],
   "source": [
    "%reload_ext autoreload\n",
    "%autoreload 2"
   ]
  },
  {
   "cell_type": "code",
   "execution_count": 2,
   "metadata": {
    "collapsed": true
   },
   "outputs": [],
   "source": [
    "import numpy as np\n",
    "import pandas as pd\n",
    "import matplotlib.pyplot as plt\n",
    "import seaborn as sns\n",
    "%matplotlib inline\n",
    "sns.set()"
   ]
  },
  {
   "cell_type": "code",
   "execution_count": 3,
   "metadata": {
    "_cell_guid": "b1076dfc-b9ad-4769-8c92-a6c4dae69d19",
    "_uuid": "8f2839f25d086af736a60e9eeb907d3b93b6e0e5",
    "collapsed": true
   },
   "outputs": [],
   "source": [
    "import math\n",
    "import os\n",
    "from tqdm import tqdm"
   ]
  },
  {
   "cell_type": "code",
   "execution_count": 4,
   "metadata": {
    "collapsed": true
   },
   "outputs": [],
   "source": [
    "TRAIN_CSV = 'data/nyc-taxi/train.csv'\n",
    "TEST_CSV = 'data/nyc-taxi/test.csv'"
   ]
  },
  {
   "cell_type": "markdown",
   "metadata": {},
   "source": [
    "# Preliminary Explorations"
   ]
  },
  {
   "cell_type": "code",
   "execution_count": 5,
   "metadata": {},
   "outputs": [
    {
     "data": {
      "text/html": [
       "<div>\n",
       "<style>\n",
       "    .dataframe thead tr:only-child th {\n",
       "        text-align: right;\n",
       "    }\n",
       "\n",
       "    .dataframe thead th {\n",
       "        text-align: left;\n",
       "    }\n",
       "\n",
       "    .dataframe tbody tr th {\n",
       "        vertical-align: top;\n",
       "    }\n",
       "</style>\n",
       "<table border=\"1\" class=\"dataframe\">\n",
       "  <thead>\n",
       "    <tr style=\"text-align: right;\">\n",
       "      <th></th>\n",
       "      <th>key</th>\n",
       "      <th>fare_amount</th>\n",
       "      <th>pickup_datetime</th>\n",
       "      <th>pickup_longitude</th>\n",
       "      <th>pickup_latitude</th>\n",
       "      <th>dropoff_longitude</th>\n",
       "      <th>dropoff_latitude</th>\n",
       "      <th>passenger_count</th>\n",
       "    </tr>\n",
       "  </thead>\n",
       "  <tbody>\n",
       "    <tr>\n",
       "      <th>0</th>\n",
       "      <td>2009-06-15 17:26:21.0000001</td>\n",
       "      <td>4.5</td>\n",
       "      <td>2009-06-15 17:26:21 UTC</td>\n",
       "      <td>-73.844311</td>\n",
       "      <td>40.721319</td>\n",
       "      <td>-73.841610</td>\n",
       "      <td>40.712278</td>\n",
       "      <td>1</td>\n",
       "    </tr>\n",
       "    <tr>\n",
       "      <th>1</th>\n",
       "      <td>2010-01-05 16:52:16.0000002</td>\n",
       "      <td>16.9</td>\n",
       "      <td>2010-01-05 16:52:16 UTC</td>\n",
       "      <td>-74.016048</td>\n",
       "      <td>40.711303</td>\n",
       "      <td>-73.979268</td>\n",
       "      <td>40.782004</td>\n",
       "      <td>1</td>\n",
       "    </tr>\n",
       "    <tr>\n",
       "      <th>2</th>\n",
       "      <td>2011-08-18 00:35:00.00000049</td>\n",
       "      <td>5.7</td>\n",
       "      <td>2011-08-18 00:35:00 UTC</td>\n",
       "      <td>-73.982738</td>\n",
       "      <td>40.761270</td>\n",
       "      <td>-73.991242</td>\n",
       "      <td>40.750562</td>\n",
       "      <td>2</td>\n",
       "    </tr>\n",
       "    <tr>\n",
       "      <th>3</th>\n",
       "      <td>2012-04-21 04:30:42.0000001</td>\n",
       "      <td>7.7</td>\n",
       "      <td>2012-04-21 04:30:42 UTC</td>\n",
       "      <td>-73.987130</td>\n",
       "      <td>40.733143</td>\n",
       "      <td>-73.991567</td>\n",
       "      <td>40.758092</td>\n",
       "      <td>1</td>\n",
       "    </tr>\n",
       "    <tr>\n",
       "      <th>4</th>\n",
       "      <td>2010-03-09 07:51:00.000000135</td>\n",
       "      <td>5.3</td>\n",
       "      <td>2010-03-09 07:51:00 UTC</td>\n",
       "      <td>-73.968095</td>\n",
       "      <td>40.768008</td>\n",
       "      <td>-73.956655</td>\n",
       "      <td>40.783762</td>\n",
       "      <td>1</td>\n",
       "    </tr>\n",
       "  </tbody>\n",
       "</table>\n",
       "</div>"
      ],
      "text/plain": [
       "                             key  fare_amount          pickup_datetime  \\\n",
       "0    2009-06-15 17:26:21.0000001          4.5  2009-06-15 17:26:21 UTC   \n",
       "1    2010-01-05 16:52:16.0000002         16.9  2010-01-05 16:52:16 UTC   \n",
       "2   2011-08-18 00:35:00.00000049          5.7  2011-08-18 00:35:00 UTC   \n",
       "3    2012-04-21 04:30:42.0000001          7.7  2012-04-21 04:30:42 UTC   \n",
       "4  2010-03-09 07:51:00.000000135          5.3  2010-03-09 07:51:00 UTC   \n",
       "\n",
       "   pickup_longitude  pickup_latitude  dropoff_longitude  dropoff_latitude  \\\n",
       "0        -73.844311        40.721319         -73.841610         40.712278   \n",
       "1        -74.016048        40.711303         -73.979268         40.782004   \n",
       "2        -73.982738        40.761270         -73.991242         40.750562   \n",
       "3        -73.987130        40.733143         -73.991567         40.758092   \n",
       "4        -73.968095        40.768008         -73.956655         40.783762   \n",
       "\n",
       "   passenger_count  \n",
       "0                1  \n",
       "1                1  \n",
       "2                2  \n",
       "3                1  \n",
       "4                1  "
      ]
     },
     "execution_count": 5,
     "metadata": {},
     "output_type": "execute_result"
    }
   ],
   "source": [
    "df_tmp = pd.read_csv(TRAIN_CSV, nrows=5)\n",
    "df_tmp.head()"
   ]
  },
  {
   "cell_type": "code",
   "execution_count": 6,
   "metadata": {},
   "outputs": [
    {
     "data": {
      "text/html": [
       "<div>\n",
       "<style>\n",
       "    .dataframe thead tr:only-child th {\n",
       "        text-align: right;\n",
       "    }\n",
       "\n",
       "    .dataframe thead th {\n",
       "        text-align: left;\n",
       "    }\n",
       "\n",
       "    .dataframe tbody tr th {\n",
       "        vertical-align: top;\n",
       "    }\n",
       "</style>\n",
       "<table border=\"1\" class=\"dataframe\">\n",
       "  <thead>\n",
       "    <tr style=\"text-align: right;\">\n",
       "      <th></th>\n",
       "      <th>key</th>\n",
       "      <th>pickup_datetime</th>\n",
       "      <th>pickup_longitude</th>\n",
       "      <th>pickup_latitude</th>\n",
       "      <th>dropoff_longitude</th>\n",
       "      <th>dropoff_latitude</th>\n",
       "      <th>passenger_count</th>\n",
       "    </tr>\n",
       "  </thead>\n",
       "  <tbody>\n",
       "    <tr>\n",
       "      <th>0</th>\n",
       "      <td>2015-01-27 13:08:24.0000002</td>\n",
       "      <td>2015-01-27 13:08:24 UTC</td>\n",
       "      <td>-73.973320</td>\n",
       "      <td>40.763805</td>\n",
       "      <td>-73.981430</td>\n",
       "      <td>40.743835</td>\n",
       "      <td>1</td>\n",
       "    </tr>\n",
       "    <tr>\n",
       "      <th>1</th>\n",
       "      <td>2015-01-27 13:08:24.0000003</td>\n",
       "      <td>2015-01-27 13:08:24 UTC</td>\n",
       "      <td>-73.986862</td>\n",
       "      <td>40.719383</td>\n",
       "      <td>-73.998886</td>\n",
       "      <td>40.739201</td>\n",
       "      <td>1</td>\n",
       "    </tr>\n",
       "    <tr>\n",
       "      <th>2</th>\n",
       "      <td>2011-10-08 11:53:44.0000002</td>\n",
       "      <td>2011-10-08 11:53:44 UTC</td>\n",
       "      <td>-73.982524</td>\n",
       "      <td>40.751260</td>\n",
       "      <td>-73.979654</td>\n",
       "      <td>40.746139</td>\n",
       "      <td>1</td>\n",
       "    </tr>\n",
       "    <tr>\n",
       "      <th>3</th>\n",
       "      <td>2012-12-01 21:12:12.0000002</td>\n",
       "      <td>2012-12-01 21:12:12 UTC</td>\n",
       "      <td>-73.981160</td>\n",
       "      <td>40.767807</td>\n",
       "      <td>-73.990448</td>\n",
       "      <td>40.751635</td>\n",
       "      <td>1</td>\n",
       "    </tr>\n",
       "    <tr>\n",
       "      <th>4</th>\n",
       "      <td>2012-12-01 21:12:12.0000003</td>\n",
       "      <td>2012-12-01 21:12:12 UTC</td>\n",
       "      <td>-73.966046</td>\n",
       "      <td>40.789775</td>\n",
       "      <td>-73.988565</td>\n",
       "      <td>40.744427</td>\n",
       "      <td>1</td>\n",
       "    </tr>\n",
       "  </tbody>\n",
       "</table>\n",
       "</div>"
      ],
      "text/plain": [
       "                           key          pickup_datetime  pickup_longitude  \\\n",
       "0  2015-01-27 13:08:24.0000002  2015-01-27 13:08:24 UTC        -73.973320   \n",
       "1  2015-01-27 13:08:24.0000003  2015-01-27 13:08:24 UTC        -73.986862   \n",
       "2  2011-10-08 11:53:44.0000002  2011-10-08 11:53:44 UTC        -73.982524   \n",
       "3  2012-12-01 21:12:12.0000002  2012-12-01 21:12:12 UTC        -73.981160   \n",
       "4  2012-12-01 21:12:12.0000003  2012-12-01 21:12:12 UTC        -73.966046   \n",
       "\n",
       "   pickup_latitude  dropoff_longitude  dropoff_latitude  passenger_count  \n",
       "0        40.763805         -73.981430         40.743835                1  \n",
       "1        40.719383         -73.998886         40.739201                1  \n",
       "2        40.751260         -73.979654         40.746139                1  \n",
       "3        40.767807         -73.990448         40.751635                1  \n",
       "4        40.789775         -73.988565         40.744427                1  "
      ]
     },
     "execution_count": 6,
     "metadata": {},
     "output_type": "execute_result"
    }
   ],
   "source": [
    "df_tmp = pd.read_csv(TEST_CSV, nrows=5)\n",
    "df_tmp.head()"
   ]
  },
  {
   "cell_type": "code",
   "execution_count": 7,
   "metadata": {},
   "outputs": [
    {
     "name": "stdout",
     "output_type": "stream",
     "text": [
      "Exact number of rows: 55423857\n",
      "CPU times: user 1.35 ms, sys: 4.39 ms, total: 5.73 ms\n",
      "Wall time: 1.8 s\n"
     ]
    }
   ],
   "source": [
    "%%time\n",
    "\n",
    "import subprocess\n",
    "\n",
    "def file_len(fname):\n",
    "    p = subprocess.Popen(['wc', '-l', fname], stdout=subprocess.PIPE, \n",
    "                                              stderr=subprocess.PIPE)\n",
    "    result, err = p.communicate()\n",
    "    if p.returncode != 0:\n",
    "        raise IOError(err)\n",
    "    return int(result.strip().split()[0])+1\n",
    "\n",
    "n_rows = file_len(TRAIN_CSV)\n",
    "print (f'Exact number of rows: {n_rows}')"
   ]
  },
  {
   "cell_type": "markdown",
   "metadata": {},
   "source": [
    "The entire dataset has about 55,423,857 rows"
   ]
  },
  {
   "cell_type": "markdown",
   "metadata": {
    "_uuid": "fb969a26e52931bcaced3cbb7a36d8d8b1b04556"
   },
   "source": [
    "# Load training and test data"
   ]
  },
  {
   "cell_type": "code",
   "execution_count": 8,
   "metadata": {
    "collapsed": true
   },
   "outputs": [],
   "source": [
    "types = {'fare_amount': 'float32',\n",
    "         'pickup_longitude': 'float32',\n",
    "         'pickup_latitude': 'float32',\n",
    "         'dropoff_longitude': 'float32',\n",
    "         'dropoff_latitude': 'float32',\n",
    "         'passenger_count': 'uint8'}\n",
    "\n",
    "# Columns to keep (basically discarding the 'key' column)\n",
    "cols_train = ['fare_amount', 'pickup_datetime', 'pickup_longitude', \n",
    "        'pickup_latitude', 'dropoff_longitude', 'dropoff_latitude', 'passenger_count']\n",
    "\n",
    "# No 'fare_amount'\n",
    "cols_test = ['pickup_datetime', 'pickup_longitude', \n",
    "        'pickup_latitude', 'dropoff_longitude', 'dropoff_latitude', 'passenger_count']"
   ]
  },
  {
   "cell_type": "code",
   "execution_count": 9,
   "metadata": {},
   "outputs": [
    {
     "name": "stdout",
     "output_type": "stream",
     "text": [
      "Chunk size: 10,000,000\n",
      "Total chunks required: 6\n"
     ]
    }
   ],
   "source": [
    "df_list = [] # list to hold the batch dataframe\n",
    "chunksize = 10_000_000 # 10 million rows at one go. Or try 10 million\n",
    "total_chunk = n_rows // chunksize + 1\n",
    "\n",
    "print(f'Chunk size: {chunksize:,}\\nTotal chunks required: {total_chunk}')"
   ]
  },
  {
   "cell_type": "code",
   "execution_count": 10,
   "metadata": {},
   "outputs": [
    {
     "name": "stderr",
     "output_type": "stream",
     "text": [
      "6it [01:48, 16.97s/it]"
     ]
    },
    {
     "name": "stdout",
     "output_type": "stream",
     "text": [
      "CPU times: user 1min 40s, sys: 8.06 s, total: 1min 48s\n",
      "Wall time: 1min 48s\n"
     ]
    },
    {
     "name": "stderr",
     "output_type": "stream",
     "text": [
      "\n"
     ]
    }
   ],
   "source": [
    "%%time\n",
    "i=0\n",
    "for df_chunk in tqdm(pd.read_csv(TRAIN_CSV, usecols=cols_train, dtype=types, chunksize=chunksize)):\n",
    "    \n",
    "    df_chunk['pickup_datetime'] = df_chunk['pickup_datetime'].str.slice(0, 16)\n",
    "    df_chunk['pickup_datetime'] = pd.to_datetime(df_chunk['pickup_datetime'], format='%Y-%m-%d %H:%M') \n",
    "    \n",
    "    df_list.append(df_chunk) "
   ]
  },
  {
   "cell_type": "code",
   "execution_count": 11,
   "metadata": {
    "collapsed": true
   },
   "outputs": [],
   "source": [
    "train_df = pd.concat(df_list)\n",
    "\n",
    "del df_list"
   ]
  },
  {
   "cell_type": "code",
   "execution_count": 12,
   "metadata": {},
   "outputs": [
    {
     "name": "stdout",
     "output_type": "stream",
     "text": [
      "<class 'pandas.core.frame.DataFrame'>\n",
      "Int64Index: 55423856 entries, 0 to 55423855\n",
      "Data columns (total 7 columns):\n",
      "fare_amount          float32\n",
      "pickup_datetime      datetime64[ns]\n",
      "pickup_longitude     float32\n",
      "pickup_latitude      float32\n",
      "dropoff_longitude    float32\n",
      "dropoff_latitude     float32\n",
      "passenger_count      uint8\n",
      "dtypes: datetime64[ns](1), float32(5), uint8(1)\n",
      "memory usage: 1.9 GB\n"
     ]
    }
   ],
   "source": [
    "train_df.info()"
   ]
  },
  {
   "cell_type": "code",
   "execution_count": 13,
   "metadata": {},
   "outputs": [
    {
     "data": {
      "text/html": [
       "<div>\n",
       "<style>\n",
       "    .dataframe thead tr:only-child th {\n",
       "        text-align: right;\n",
       "    }\n",
       "\n",
       "    .dataframe thead th {\n",
       "        text-align: left;\n",
       "    }\n",
       "\n",
       "    .dataframe tbody tr th {\n",
       "        vertical-align: top;\n",
       "    }\n",
       "</style>\n",
       "<table border=\"1\" class=\"dataframe\">\n",
       "  <thead>\n",
       "    <tr style=\"text-align: right;\">\n",
       "      <th></th>\n",
       "      <th>fare_amount</th>\n",
       "      <th>pickup_datetime</th>\n",
       "      <th>pickup_longitude</th>\n",
       "      <th>pickup_latitude</th>\n",
       "      <th>dropoff_longitude</th>\n",
       "      <th>dropoff_latitude</th>\n",
       "      <th>passenger_count</th>\n",
       "    </tr>\n",
       "  </thead>\n",
       "  <tbody>\n",
       "    <tr>\n",
       "      <th>0</th>\n",
       "      <td>4.5</td>\n",
       "      <td>2009-06-15 17:26:00</td>\n",
       "      <td>-73.844315</td>\n",
       "      <td>40.721317</td>\n",
       "      <td>-73.841614</td>\n",
       "      <td>40.712276</td>\n",
       "      <td>1</td>\n",
       "    </tr>\n",
       "    <tr>\n",
       "      <th>1</th>\n",
       "      <td>16.9</td>\n",
       "      <td>2010-01-05 16:52:00</td>\n",
       "      <td>-74.016045</td>\n",
       "      <td>40.711304</td>\n",
       "      <td>-73.979271</td>\n",
       "      <td>40.782005</td>\n",
       "      <td>1</td>\n",
       "    </tr>\n",
       "    <tr>\n",
       "      <th>2</th>\n",
       "      <td>5.7</td>\n",
       "      <td>2011-08-18 00:35:00</td>\n",
       "      <td>-73.982735</td>\n",
       "      <td>40.761269</td>\n",
       "      <td>-73.991241</td>\n",
       "      <td>40.750561</td>\n",
       "      <td>2</td>\n",
       "    </tr>\n",
       "    <tr>\n",
       "      <th>3</th>\n",
       "      <td>7.7</td>\n",
       "      <td>2012-04-21 04:30:00</td>\n",
       "      <td>-73.987129</td>\n",
       "      <td>40.733143</td>\n",
       "      <td>-73.991570</td>\n",
       "      <td>40.758091</td>\n",
       "      <td>1</td>\n",
       "    </tr>\n",
       "    <tr>\n",
       "      <th>4</th>\n",
       "      <td>5.3</td>\n",
       "      <td>2010-03-09 07:51:00</td>\n",
       "      <td>-73.968094</td>\n",
       "      <td>40.768009</td>\n",
       "      <td>-73.956657</td>\n",
       "      <td>40.783764</td>\n",
       "      <td>1</td>\n",
       "    </tr>\n",
       "  </tbody>\n",
       "</table>\n",
       "</div>"
      ],
      "text/plain": [
       "   fare_amount     pickup_datetime  pickup_longitude  pickup_latitude  \\\n",
       "0          4.5 2009-06-15 17:26:00        -73.844315        40.721317   \n",
       "1         16.9 2010-01-05 16:52:00        -74.016045        40.711304   \n",
       "2          5.7 2011-08-18 00:35:00        -73.982735        40.761269   \n",
       "3          7.7 2012-04-21 04:30:00        -73.987129        40.733143   \n",
       "4          5.3 2010-03-09 07:51:00        -73.968094        40.768009   \n",
       "\n",
       "   dropoff_longitude  dropoff_latitude  passenger_count  \n",
       "0         -73.841614         40.712276                1  \n",
       "1         -73.979271         40.782005                1  \n",
       "2         -73.991241         40.750561                2  \n",
       "3         -73.991570         40.758091                1  \n",
       "4         -73.956657         40.783764                1  "
      ]
     },
     "metadata": {},
     "output_type": "display_data"
    },
    {
     "data": {
      "text/html": [
       "<div>\n",
       "<style>\n",
       "    .dataframe thead tr:only-child th {\n",
       "        text-align: right;\n",
       "    }\n",
       "\n",
       "    .dataframe thead th {\n",
       "        text-align: left;\n",
       "    }\n",
       "\n",
       "    .dataframe tbody tr th {\n",
       "        vertical-align: top;\n",
       "    }\n",
       "</style>\n",
       "<table border=\"1\" class=\"dataframe\">\n",
       "  <thead>\n",
       "    <tr style=\"text-align: right;\">\n",
       "      <th></th>\n",
       "      <th>fare_amount</th>\n",
       "      <th>pickup_datetime</th>\n",
       "      <th>pickup_longitude</th>\n",
       "      <th>pickup_latitude</th>\n",
       "      <th>dropoff_longitude</th>\n",
       "      <th>dropoff_latitude</th>\n",
       "      <th>passenger_count</th>\n",
       "    </tr>\n",
       "  </thead>\n",
       "  <tbody>\n",
       "    <tr>\n",
       "      <th>55423851</th>\n",
       "      <td>14.0</td>\n",
       "      <td>2014-03-15 03:28:00</td>\n",
       "      <td>-74.005272</td>\n",
       "      <td>40.740028</td>\n",
       "      <td>-73.963280</td>\n",
       "      <td>40.762554</td>\n",
       "      <td>1</td>\n",
       "    </tr>\n",
       "    <tr>\n",
       "      <th>55423852</th>\n",
       "      <td>4.2</td>\n",
       "      <td>2009-03-24 20:46:00</td>\n",
       "      <td>-73.957787</td>\n",
       "      <td>40.765530</td>\n",
       "      <td>-73.951637</td>\n",
       "      <td>40.773960</td>\n",
       "      <td>1</td>\n",
       "    </tr>\n",
       "    <tr>\n",
       "      <th>55423853</th>\n",
       "      <td>14.1</td>\n",
       "      <td>2011-04-02 22:04:00</td>\n",
       "      <td>-73.970505</td>\n",
       "      <td>40.752323</td>\n",
       "      <td>-73.960541</td>\n",
       "      <td>40.797340</td>\n",
       "      <td>1</td>\n",
       "    </tr>\n",
       "    <tr>\n",
       "      <th>55423854</th>\n",
       "      <td>28.9</td>\n",
       "      <td>2011-10-26 05:57:00</td>\n",
       "      <td>-73.980904</td>\n",
       "      <td>40.764629</td>\n",
       "      <td>-73.870605</td>\n",
       "      <td>40.773964</td>\n",
       "      <td>1</td>\n",
       "    </tr>\n",
       "    <tr>\n",
       "      <th>55423855</th>\n",
       "      <td>7.5</td>\n",
       "      <td>2014-12-12 11:33:00</td>\n",
       "      <td>-73.969719</td>\n",
       "      <td>40.797668</td>\n",
       "      <td>-73.970886</td>\n",
       "      <td>40.783314</td>\n",
       "      <td>1</td>\n",
       "    </tr>\n",
       "  </tbody>\n",
       "</table>\n",
       "</div>"
      ],
      "text/plain": [
       "          fare_amount     pickup_datetime  pickup_longitude  pickup_latitude  \\\n",
       "55423851         14.0 2014-03-15 03:28:00        -74.005272        40.740028   \n",
       "55423852          4.2 2009-03-24 20:46:00        -73.957787        40.765530   \n",
       "55423853         14.1 2011-04-02 22:04:00        -73.970505        40.752323   \n",
       "55423854         28.9 2011-10-26 05:57:00        -73.980904        40.764629   \n",
       "55423855          7.5 2014-12-12 11:33:00        -73.969719        40.797668   \n",
       "\n",
       "          dropoff_longitude  dropoff_latitude  passenger_count  \n",
       "55423851         -73.963280         40.762554                1  \n",
       "55423852         -73.951637         40.773960                1  \n",
       "55423853         -73.960541         40.797340                1  \n",
       "55423854         -73.870605         40.773964                1  \n",
       "55423855         -73.970886         40.783314                1  "
      ]
     },
     "metadata": {},
     "output_type": "display_data"
    }
   ],
   "source": [
    "display(train_df.head())\n",
    "display(train_df.tail())"
   ]
  },
  {
   "cell_type": "code",
   "execution_count": 14,
   "metadata": {},
   "outputs": [
    {
     "name": "stdout",
     "output_type": "stream",
     "text": [
      "CPU times: user 2.46 s, sys: 1.12 s, total: 3.58 s\n",
      "Wall time: 1.91 s\n"
     ]
    }
   ],
   "source": [
    "%%time\n",
    "os.makedirs('tmp', exist_ok=True)\n",
    "train_df.to_feather('tmp/taxi-train-raw')"
   ]
  },
  {
   "cell_type": "code",
   "execution_count": 15,
   "metadata": {
    "_uuid": "3cbf4836cf8c71dfb67d13a9621b18a8d487197e",
    "collapsed": true
   },
   "outputs": [],
   "source": [
    "test_df = pd.read_csv(TEST_CSV, usecols=cols_test, dtype=types)\n",
    "test_df['pickup_datetime'] = test_df['pickup_datetime'].str.slice(0, 16)\n",
    "test_df['pickup_datetime'] = pd.to_datetime(test_df['pickup_datetime'], format='%Y-%m-%d %H:%M') "
   ]
  },
  {
   "cell_type": "code",
   "execution_count": 16,
   "metadata": {
    "_uuid": "3cbf4836cf8c71dfb67d13a9621b18a8d487197e",
    "collapsed": true
   },
   "outputs": [],
   "source": [
    "test_df.to_feather('tmp/taxi-test-raw')"
   ]
  },
  {
   "cell_type": "markdown",
   "metadata": {},
   "source": [
    "# Load existing feather files"
   ]
  },
  {
   "cell_type": "code",
   "execution_count": 17,
   "metadata": {},
   "outputs": [
    {
     "name": "stdout",
     "output_type": "stream",
     "text": [
      "CPU times: user 534 ms, sys: 464 ms, total: 999 ms\n",
      "Wall time: 998 ms\n"
     ]
    }
   ],
   "source": [
    "%%time\n",
    "train_df = pd.read_feather('tmp/taxi-train-raw')\n",
    "test_df = pd.read_feather('tmp/taxi-test-raw')"
   ]
  },
  {
   "cell_type": "markdown",
   "metadata": {},
   "source": [
    "# Remove missing values"
   ]
  },
  {
   "cell_type": "code",
   "execution_count": 18,
   "metadata": {},
   "outputs": [
    {
     "data": {
      "text/plain": [
       "fare_amount            0\n",
       "pickup_datetime        0\n",
       "pickup_longitude       0\n",
       "pickup_latitude        0\n",
       "dropoff_longitude    376\n",
       "dropoff_latitude     376\n",
       "passenger_count        0\n",
       "dtype: int64"
      ]
     },
     "execution_count": 18,
     "metadata": {},
     "output_type": "execute_result"
    }
   ],
   "source": [
    "train_df.isnull().sum()"
   ]
  },
  {
   "cell_type": "code",
   "execution_count": 19,
   "metadata": {},
   "outputs": [
    {
     "data": {
      "text/plain": [
       "pickup_datetime      0\n",
       "pickup_longitude     0\n",
       "pickup_latitude      0\n",
       "dropoff_longitude    0\n",
       "dropoff_latitude     0\n",
       "passenger_count      0\n",
       "dtype: int64"
      ]
     },
     "execution_count": 19,
     "metadata": {},
     "output_type": "execute_result"
    }
   ],
   "source": [
    "test_df.isnull().sum()"
   ]
  },
  {
   "cell_type": "code",
   "execution_count": 20,
   "metadata": {},
   "outputs": [
    {
     "name": "stdout",
     "output_type": "stream",
     "text": [
      "Old size: 55423856\n",
      "New size: 55423856\n",
      "376 rows removed\n"
     ]
    }
   ],
   "source": [
    "old_len = len(train_df)\n",
    "print(f'Old size: {old_len}')\n",
    "\n",
    "train_df.dropna(how='any', axis='rows', inplace=True)\n",
    "\n",
    "new_len = len(train_df)\n",
    "print(f'New size: {old_len}')\n",
    "print(f'{(old_len-new_len):,} rows removed')"
   ]
  },
  {
   "cell_type": "markdown",
   "metadata": {},
   "source": [
    "# Longitude and latitude"
   ]
  },
  {
   "cell_type": "code",
   "execution_count": 21,
   "metadata": {},
   "outputs": [
    {
     "data": {
      "text/html": [
       "<div>\n",
       "<style>\n",
       "    .dataframe thead tr:only-child th {\n",
       "        text-align: right;\n",
       "    }\n",
       "\n",
       "    .dataframe thead th {\n",
       "        text-align: left;\n",
       "    }\n",
       "\n",
       "    .dataframe tbody tr th {\n",
       "        vertical-align: top;\n",
       "    }\n",
       "</style>\n",
       "<table border=\"1\" class=\"dataframe\">\n",
       "  <thead>\n",
       "    <tr style=\"text-align: right;\">\n",
       "      <th></th>\n",
       "      <th>pickup_longitude</th>\n",
       "      <th>pickup_latitude</th>\n",
       "      <th>dropoff_longitude</th>\n",
       "      <th>dropoff_latitude</th>\n",
       "      <th>passenger_count</th>\n",
       "    </tr>\n",
       "  </thead>\n",
       "  <tbody>\n",
       "    <tr>\n",
       "      <th>count</th>\n",
       "      <td>9914.000000</td>\n",
       "      <td>9914.000000</td>\n",
       "      <td>9914.000000</td>\n",
       "      <td>9914.000000</td>\n",
       "      <td>9914.000000</td>\n",
       "    </tr>\n",
       "    <tr>\n",
       "      <th>mean</th>\n",
       "      <td>-73.976181</td>\n",
       "      <td>40.750954</td>\n",
       "      <td>-73.974945</td>\n",
       "      <td>40.751553</td>\n",
       "      <td>1.671273</td>\n",
       "    </tr>\n",
       "    <tr>\n",
       "      <th>std</th>\n",
       "      <td>0.042799</td>\n",
       "      <td>0.033542</td>\n",
       "      <td>0.039093</td>\n",
       "      <td>0.035436</td>\n",
       "      <td>1.278747</td>\n",
       "    </tr>\n",
       "    <tr>\n",
       "      <th>min</th>\n",
       "      <td>-74.252190</td>\n",
       "      <td>40.573143</td>\n",
       "      <td>-74.263245</td>\n",
       "      <td>40.568974</td>\n",
       "      <td>1.000000</td>\n",
       "    </tr>\n",
       "    <tr>\n",
       "      <th>25%</th>\n",
       "      <td>-73.992500</td>\n",
       "      <td>40.736125</td>\n",
       "      <td>-73.991249</td>\n",
       "      <td>40.735253</td>\n",
       "      <td>1.000000</td>\n",
       "    </tr>\n",
       "    <tr>\n",
       "      <th>50%</th>\n",
       "      <td>-73.982327</td>\n",
       "      <td>40.753052</td>\n",
       "      <td>-73.980015</td>\n",
       "      <td>40.754065</td>\n",
       "      <td>1.000000</td>\n",
       "    </tr>\n",
       "    <tr>\n",
       "      <th>75%</th>\n",
       "      <td>-73.968012</td>\n",
       "      <td>40.767113</td>\n",
       "      <td>-73.964062</td>\n",
       "      <td>40.768757</td>\n",
       "      <td>2.000000</td>\n",
       "    </tr>\n",
       "    <tr>\n",
       "      <th>max</th>\n",
       "      <td>-72.986534</td>\n",
       "      <td>41.709557</td>\n",
       "      <td>-72.990967</td>\n",
       "      <td>41.696682</td>\n",
       "      <td>6.000000</td>\n",
       "    </tr>\n",
       "  </tbody>\n",
       "</table>\n",
       "</div>"
      ],
      "text/plain": [
       "       pickup_longitude  pickup_latitude  dropoff_longitude  dropoff_latitude  \\\n",
       "count       9914.000000      9914.000000        9914.000000       9914.000000   \n",
       "mean         -73.976181        40.750954         -73.974945         40.751553   \n",
       "std            0.042799         0.033542           0.039093          0.035436   \n",
       "min          -74.252190        40.573143         -74.263245         40.568974   \n",
       "25%          -73.992500        40.736125         -73.991249         40.735253   \n",
       "50%          -73.982327        40.753052         -73.980015         40.754065   \n",
       "75%          -73.968012        40.767113         -73.964062         40.768757   \n",
       "max          -72.986534        41.709557         -72.990967         41.696682   \n",
       "\n",
       "       passenger_count  \n",
       "count      9914.000000  \n",
       "mean          1.671273  \n",
       "std           1.278747  \n",
       "min           1.000000  \n",
       "25%           1.000000  \n",
       "50%           1.000000  \n",
       "75%           2.000000  \n",
       "max           6.000000  "
      ]
     },
     "execution_count": 21,
     "metadata": {},
     "output_type": "execute_result"
    }
   ],
   "source": [
    "test_df.describe()"
   ]
  },
  {
   "cell_type": "code",
   "execution_count": 22,
   "metadata": {
    "collapsed": true
   },
   "outputs": [],
   "source": [
    "# Remove observations with useless values base on the test data boundary\n",
    "longmin_limit = -75\n",
    "longmax_limit = -72\n",
    "latmin_limit = 40\n",
    "latmax_limit = 42"
   ]
  },
  {
   "cell_type": "code",
   "execution_count": 23,
   "metadata": {},
   "outputs": [
    {
     "data": {
      "text/plain": [
       "(1099499, 1093981, 1094337, 1092582)"
      ]
     },
     "execution_count": 23,
     "metadata": {},
     "output_type": "execute_result"
    }
   ],
   "source": [
    "is_outside_plong = ~train_df.pickup_longitude.between(longmin_limit,longmax_limit)\n",
    "is_outside_plat = ~train_df.pickup_latitude.between(latmin_limit,latmax_limit)\n",
    "\n",
    "is_outside_dlong = ~train_df.dropoff_longitude.between(longmin_limit,longmax_limit)\n",
    "is_outside_dlat = ~train_df.dropoff_latitude.between(latmin_limit,latmax_limit)\n",
    "\n",
    "is_outside_plong.sum(), is_outside_plat.sum(), is_outside_dlong.sum(), is_outside_dlat.sum()"
   ]
  },
  {
   "cell_type": "code",
   "execution_count": 24,
   "metadata": {},
   "outputs": [
    {
     "data": {
      "text/plain": [
       "1166179"
      ]
     },
     "execution_count": 24,
     "metadata": {},
     "output_type": "execute_result"
    }
   ],
   "source": [
    "is_outside_range = is_outside_plong | is_outside_plat | is_outside_dlong | is_outside_dlat\n",
    "is_outside_range.sum()"
   ]
  },
  {
   "cell_type": "code",
   "execution_count": 25,
   "metadata": {},
   "outputs": [
    {
     "name": "stdout",
     "output_type": "stream",
     "text": [
      "Old size: 55423480\n",
      "New size: 54257301\n",
      "1,166,179 rows removed\n"
     ]
    }
   ],
   "source": [
    "old_len = len(train_df)\n",
    "print(f'Old size: {old_len}')\n",
    "\n",
    "train_df = train_df[~is_outside_range] # keep those NOT outside range\n",
    "\n",
    "new_len = len(train_df)\n",
    "print(f'New size: {new_len}')\n",
    "print(f'{(old_len-new_len):,} rows removed')"
   ]
  },
  {
   "cell_type": "markdown",
   "metadata": {},
   "source": [
    "# Passenger Count"
   ]
  },
  {
   "cell_type": "code",
   "execution_count": 26,
   "metadata": {},
   "outputs": [
    {
     "data": {
      "text/plain": [
       "<matplotlib.axes._subplots.AxesSubplot at 0x7fdf9db12d30>"
      ]
     },
     "execution_count": 26,
     "metadata": {},
     "output_type": "execute_result"
    },
    {
     "data": {
      "image/png": "[encoded data removed]",
      "text/plain": [
       "<matplotlib.figure.Figure at 0x7fdf9db12400>"
      ]
     },
     "metadata": {},
     "output_type": "display_data"
    }
   ],
   "source": [
    "test_df.passenger_count.value_counts(sort=False).plot(kind='bar')"
   ]
  },
  {
   "cell_type": "code",
   "execution_count": 27,
   "metadata": {},
   "outputs": [
    {
     "data": {
      "text/plain": [
       "1    6914\n",
       "2    1474\n",
       "5     696\n",
       "3     447\n",
       "4     206\n",
       "6     177\n",
       "Name: passenger_count, dtype: int64"
      ]
     },
     "execution_count": 27,
     "metadata": {},
     "output_type": "execute_result"
    }
   ],
   "source": [
    "test_df.passenger_count.value_counts()"
   ]
  },
  {
   "cell_type": "code",
   "execution_count": 28,
   "metadata": {},
   "outputs": [
    {
     "data": {
      "text/plain": [
       "<matplotlib.axes._subplots.AxesSubplot at 0x7fdf8facf518>"
      ]
     },
     "execution_count": 28,
     "metadata": {},
     "output_type": "execute_result"
    },
    {
     "data": {
      "image/png": "[encoded data removed]",
      "text/plain": [
       "<matplotlib.figure.Figure at 0x7fdf9db12588>"
      ]
     },
     "metadata": {},
     "output_type": "display_data"
    }
   ],
   "source": [
    "train_df.passenger_count.value_counts(sort=False).plot(kind='bar')"
   ]
  },
  {
   "cell_type": "code",
   "execution_count": 29,
   "metadata": {},
   "outputs": [
    {
     "data": {
      "text/plain": [
       "0        190842\n",
       "1      37521093\n",
       "2       8013912\n",
       "3       2383357\n",
       "4       1155684\n",
       "5       3842063\n",
       "6       1150285\n",
       "7            13\n",
       "8             7\n",
       "9            21\n",
       "129           2\n",
       "208          22\n",
       "Name: passenger_count, dtype: int64"
      ]
     },
     "execution_count": 29,
     "metadata": {},
     "output_type": "execute_result"
    }
   ],
   "source": [
    "train_df.passenger_count.value_counts().sort_index()"
   ]
  },
  {
   "cell_type": "code",
   "execution_count": 30,
   "metadata": {},
   "outputs": [
    {
     "data": {
      "text/plain": [
       "190907"
      ]
     },
     "execution_count": 30,
     "metadata": {},
     "output_type": "execute_result"
    }
   ],
   "source": [
    "# number rows with passenger = 0 or more than 6\n",
    "len(train_df[~(train_df.passenger_count.between(1,6))])"
   ]
  },
  {
   "cell_type": "code",
   "execution_count": 31,
   "metadata": {
    "scrolled": true
   },
   "outputs": [
    {
     "name": "stdout",
     "output_type": "stream",
     "text": [
      "Old size: 54257301\n",
      "New size: 54066394\n",
      "190,907 rows removed\n"
     ]
    }
   ],
   "source": [
    "old_len = len(train_df)\n",
    "print(f'Old size: {old_len}')\n",
    "\n",
    "train_df = train_df[(train_df.passenger_count.between(1,6))]\n",
    "\n",
    "new_len = len(train_df)\n",
    "print(f'New size: {new_len}')\n",
    "print(f'{(old_len-new_len):,} rows removed')"
   ]
  },
  {
   "cell_type": "markdown",
   "metadata": {},
   "source": [
    "# Fare Amount"
   ]
  },
  {
   "cell_type": "code",
   "execution_count": 32,
   "metadata": {},
   "outputs": [
    {
     "data": {
      "text/html": [
       "<div>\n",
       "<style>\n",
       "    .dataframe thead tr:only-child th {\n",
       "        text-align: right;\n",
       "    }\n",
       "\n",
       "    .dataframe thead th {\n",
       "        text-align: left;\n",
       "    }\n",
       "\n",
       "    .dataframe tbody tr th {\n",
       "        vertical-align: top;\n",
       "    }\n",
       "</style>\n",
       "<table border=\"1\" class=\"dataframe\">\n",
       "  <thead>\n",
       "    <tr style=\"text-align: right;\">\n",
       "      <th></th>\n",
       "      <th>fare_amount</th>\n",
       "    </tr>\n",
       "  </thead>\n",
       "  <tbody>\n",
       "    <tr>\n",
       "      <th>0.001</th>\n",
       "      <td>2.500000</td>\n",
       "    </tr>\n",
       "    <tr>\n",
       "      <th>0.999</th>\n",
       "      <td>78.830002</td>\n",
       "    </tr>\n",
       "  </tbody>\n",
       "</table>\n",
       "</div>"
      ],
      "text/plain": [
       "       fare_amount\n",
       "0.001     2.500000\n",
       "0.999    78.830002"
      ]
     },
     "execution_count": 32,
     "metadata": {},
     "output_type": "execute_result"
    }
   ],
   "source": [
    "# Check quantile\n",
    "train_df[['fare_amount']].quantile([0.001, 0.999])"
   ]
  },
  {
   "cell_type": "code",
   "execution_count": 33,
   "metadata": {},
   "outputs": [
    {
     "data": {
      "text/plain": [
       "(8.5, 8.124824523925781)"
      ]
     },
     "execution_count": 33,
     "metadata": {},
     "output_type": "execute_result"
    }
   ],
   "source": [
    "train_df.fare_amount.median(), train_df.fare_amount.mean()"
   ]
  },
  {
   "cell_type": "code",
   "execution_count": 34,
   "metadata": {},
   "outputs": [
    {
     "data": {
      "text/plain": [
       "3491"
      ]
     },
     "execution_count": 34,
     "metadata": {},
     "output_type": "execute_result"
    }
   ],
   "source": [
    "fare_max = 200\n",
    "fare_min = 0\n",
    "\n",
    "len(train_df[~(train_df.fare_amount.between(fare_min,fare_max))])"
   ]
  },
  {
   "cell_type": "code",
   "execution_count": 35,
   "metadata": {},
   "outputs": [
    {
     "name": "stdout",
     "output_type": "stream",
     "text": [
      "Old size: 54066394\n",
      "New size: 54062903\n",
      "3,491 rows removed\n"
     ]
    }
   ],
   "source": [
    "old_len = len(train_df)\n",
    "print(f'Old size: {old_len}')\n",
    "\n",
    "train_df = train_df[(train_df.fare_amount.between(fare_min,fare_max))]\n",
    "\n",
    "new_len = len(train_df)\n",
    "print(f'New size: {new_len}')\n",
    "print(f'{(old_len-new_len):,} rows removed')"
   ]
  },
  {
   "cell_type": "code",
   "execution_count": 36,
   "metadata": {
    "collapsed": true
   },
   "outputs": [],
   "source": [
    "# reset_index after removing rows, in order to be able to save to feather\n",
    "train_df.reset_index(drop=True, inplace=True)"
   ]
  },
  {
   "cell_type": "markdown",
   "metadata": {},
   "source": [
    "# Date Time"
   ]
  },
  {
   "cell_type": "code",
   "execution_count": 37,
   "metadata": {},
   "outputs": [
    {
     "name": "stdout",
     "output_type": "stream",
     "text": [
      "<class 'pandas.core.frame.DataFrame'>\n",
      "RangeIndex: 54062903 entries, 0 to 54062902\n",
      "Data columns (total 7 columns):\n",
      "fare_amount          float32\n",
      "pickup_datetime      datetime64[ns]\n",
      "pickup_longitude     float32\n",
      "pickup_latitude      float32\n",
      "dropoff_longitude    float32\n",
      "dropoff_latitude     float32\n",
      "passenger_count      uint8\n",
      "dtypes: datetime64[ns](1), float32(5), uint8(1)\n",
      "memory usage: 1.5 GB\n"
     ]
    }
   ],
   "source": [
    "train_df.info()"
   ]
  },
  {
   "cell_type": "code",
   "execution_count": 38,
   "metadata": {
    "collapsed": true
   },
   "outputs": [],
   "source": [
    "def split_datetime(data):\n",
    "    # Extract date attributes and then drop the pickup_datetime column\n",
    "    data['year'] = (data['pickup_datetime'].dt.year-2000).astype('uint8')  \n",
    "    data['month'] = data['pickup_datetime'].dt.month.astype('uint8')  \n",
    "    data['week'] = data['pickup_datetime'].dt.week.astype('uint8')  \n",
    "    data['dayofweek'] = data['pickup_datetime'].dt.dayofweek.astype('uint8')  # dt.dayofweek = dt.weekday\n",
    "    data['day'] = data['pickup_datetime'].dt.day.astype('uint8')  \n",
    "    data['hour'] = data['pickup_datetime'].dt.hour.astype('uint8')  \n",
    "    \n",
    "    data.drop('pickup_datetime', axis=1, inplace=True)\n",
    "    \n",
    "    return data"
   ]
  },
  {
   "cell_type": "code",
   "execution_count": 39,
   "metadata": {},
   "outputs": [
    {
     "name": "stdout",
     "output_type": "stream",
     "text": [
      "CPU times: user 19 s, sys: 2.97 s, total: 22 s\n",
      "Wall time: 21.7 s\n"
     ]
    }
   ],
   "source": [
    "%%time\n",
    "train_df = split_datetime(train_df)"
   ]
  },
  {
   "cell_type": "code",
   "execution_count": 40,
   "metadata": {},
   "outputs": [
    {
     "name": "stdout",
     "output_type": "stream",
     "text": [
      "<class 'pandas.core.frame.DataFrame'>\n",
      "RangeIndex: 54062903 entries, 0 to 54062902\n",
      "Data columns (total 12 columns):\n",
      "fare_amount          float32\n",
      "pickup_longitude     float32\n",
      "pickup_latitude      float32\n",
      "dropoff_longitude    float32\n",
      "dropoff_latitude     float32\n",
      "passenger_count      uint8\n",
      "year                 uint8\n",
      "month                uint8\n",
      "week                 uint8\n",
      "dayofweek            uint8\n",
      "day                  uint8\n",
      "hour                 uint8\n",
      "dtypes: float32(5), uint8(7)\n",
      "memory usage: 1.4 GB\n"
     ]
    }
   ],
   "source": [
    "train_df.info()"
   ]
  },
  {
   "cell_type": "code",
   "execution_count": 41,
   "metadata": {
    "collapsed": true
   },
   "outputs": [],
   "source": [
    "test_df = split_datetime(test_df)"
   ]
  },
  {
   "cell_type": "markdown",
   "metadata": {},
   "source": [
    "# Add travel vector and distance"
   ]
  },
  {
   "cell_type": "code",
   "execution_count": 42,
   "metadata": {
    "collapsed": true
   },
   "outputs": [],
   "source": [
    "def add_travel_vector_features(data):\n",
    "    data['longitude_distance'] = data.dropoff_longitude - data.pickup_longitude\n",
    "    data['latitude_distance'] = data.dropoff_latitude - data.pickup_latitude\n",
    "    \n",
    "    data['manhattan_distance'] = (data['longitude_distance']).abs() + (data['latitude_distance']).abs()\n",
    "    data['euclidean_distance'] = (data['longitude_distance'] ** 2 + data['latitude_distance'] ** 2) ** .5\n",
    "    data['euclidean_distance'] = data['euclidean_distance'].astype('float32')\n",
    "    \n",
    "    return data"
   ]
  },
  {
   "cell_type": "code",
   "execution_count": 43,
   "metadata": {
    "collapsed": true
   },
   "outputs": [],
   "source": [
    "train_df = add_travel_vector_features(train_df)\n",
    "test_df= add_travel_vector_features(test_df)"
   ]
  },
  {
   "cell_type": "code",
   "execution_count": 44,
   "metadata": {},
   "outputs": [
    {
     "name": "stdout",
     "output_type": "stream",
     "text": [
      "<class 'pandas.core.frame.DataFrame'>\n",
      "RangeIndex: 54062903 entries, 0 to 54062902\n",
      "Data columns (total 16 columns):\n",
      "fare_amount           float32\n",
      "pickup_longitude      float32\n",
      "pickup_latitude       float32\n",
      "dropoff_longitude     float32\n",
      "dropoff_latitude      float32\n",
      "passenger_count       uint8\n",
      "year                  uint8\n",
      "month                 uint8\n",
      "week                  uint8\n",
      "dayofweek             uint8\n",
      "day                   uint8\n",
      "hour                  uint8\n",
      "longitude_distance    float32\n",
      "latitude_distance     float32\n",
      "manhattan_distance    float32\n",
      "euclidean_distance    float32\n",
      "dtypes: float32(9), uint8(7)\n",
      "memory usage: 2.2 GB\n"
     ]
    }
   ],
   "source": [
    "train_df.info()"
   ]
  },
  {
   "cell_type": "code",
   "execution_count": 45,
   "metadata": {
    "scrolled": true
   },
   "outputs": [
    {
     "name": "stdout",
     "output_type": "stream",
     "text": [
      "<class 'pandas.core.frame.DataFrame'>\n",
      "RangeIndex: 9914 entries, 0 to 9913\n",
      "Data columns (total 15 columns):\n",
      "pickup_longitude      9914 non-null float32\n",
      "pickup_latitude       9914 non-null float32\n",
      "dropoff_longitude     9914 non-null float32\n",
      "dropoff_latitude      9914 non-null float32\n",
      "passenger_count       9914 non-null uint8\n",
      "year                  9914 non-null uint8\n",
      "month                 9914 non-null uint8\n",
      "week                  9914 non-null uint8\n",
      "dayofweek             9914 non-null uint8\n",
      "day                   9914 non-null uint8\n",
      "hour                  9914 non-null uint8\n",
      "longitude_distance    9914 non-null float32\n",
      "latitude_distance     9914 non-null float32\n",
      "manhattan_distance    9914 non-null float32\n",
      "euclidean_distance    9914 non-null float32\n",
      "dtypes: float32(8), uint8(7)\n",
      "memory usage: 377.7 KB\n"
     ]
    }
   ],
   "source": [
    "test_df.info()"
   ]
  },
  {
   "cell_type": "markdown",
   "metadata": {},
   "source": [
    "# Add distance to city and airports"
   ]
  },
  {
   "cell_type": "code",
   "execution_count": 46,
   "metadata": {
    "collapsed": true
   },
   "outputs": [],
   "source": [
    "# def dist(pickup_lat, pickup_long, dropoff_lat, dropoff_long):  \n",
    "#     return (np.abs(dropoff_lat - pickup_lat) + np.abs(dropoff_long - pickup_long)).astype('float32')  "
   ]
  },
  {
   "cell_type": "code",
   "execution_count": 47,
   "metadata": {
    "collapsed": true
   },
   "outputs": [],
   "source": [
    "# haversine distance\n",
    "def dist(pickup_latitude, pickup_longitude, dropoff_latitude, dropoff_longitude):\n",
    "    pickup_longitude,pickup_latitude,dropoff_longitude,dropoff_latitude = map(np.radians, [pickup_longitude,pickup_latitude,dropoff_longitude,dropoff_latitude])\n",
    "    dlon = dropoff_longitude - pickup_longitude\n",
    "    dlat = dropoff_latitude - pickup_latitude\n",
    "    a = np.sin(dlat/2.0)**2 + np.cos(pickup_latitude) * np.cos(dropoff_latitude) * np.sin(dlon/2.0)**2\n",
    "    c = 2 * np.arcsin(np.sqrt(a))\n",
    "    distance = 6367 * c\n",
    "    return distance.astype('float32')"
   ]
  },
  {
   "cell_type": "code",
   "execution_count": 48,
   "metadata": {
    "collapsed": true
   },
   "outputs": [],
   "source": [
    "def add_distance_to_city_airports(data):\n",
    "    # Distances to city center, county and airports\n",
    "    # By reporting distances to these points, the model can somewhat triangulate other locations of interest\n",
    "    \n",
    "    # city center\n",
    "    nyc = (40.7128,-74.0060) # New York City\n",
    "\n",
    "    # county\n",
    "    Nassau = (40.6546, -73.5594)\n",
    "    Suffolk = (40.9849, -72.6151)\n",
    "    Westchester = (41.1220, -73.7949)\n",
    "    Rockland = (41.1489, -73.9830)\n",
    "    Dutchess = (41.7784, -73.7478)\n",
    "    Orange = (41.3912, -74.3118)\n",
    "    Putnam = (41.4351, -73.7949) \n",
    "    \n",
    "    # airports\n",
    "    jfk = (40.6413,-73.7781) # John F. Kennedy International Airport\n",
    "    ewr = (40.6895,-74.1745) # Newark Liberty International Airport\n",
    "    lgr = (40.7769,-73.8740) # LaGuardia Airport\n",
    "    \n",
    "    data['pickup_distance_to_nyc'] = dist(nyc[0], nyc[1], data['pickup_latitude'], data['pickup_longitude'])\n",
    "    data['dropoff_distance_to_nyc'] = dist(nyc[0], nyc[1], data['dropoff_latitude'], data['dropoff_longitude'])\n",
    "    \n",
    "    data['pickup_distance_to_Nassau'] = dist(Nassau[0], Nassau[1], data['pickup_latitude'], data['pickup_longitude'])\n",
    "    data['dropoff_distance_to_Nassau'] = dist(Nassau[0], Nassau[1], data['dropoff_latitude'], data['dropoff_longitude'])\n",
    "    data['pickup_distance_to_Suffolk'] = dist(Suffolk[0], Suffolk[1], data['pickup_latitude'], data['pickup_longitude'])\n",
    "    data['dropoff_distance_to_Suffolk'] = dist(Suffolk[0], Suffolk[1], data['dropoff_latitude'], data['dropoff_longitude'])\n",
    "    data['pickup_distance_to_Westchester'] = dist(Westchester[0], Westchester[1], data['pickup_latitude'], data['pickup_longitude'])\n",
    "    data['dropoff_distance_to_Westchester'] = dist(Westchester[0], Westchester[1], data['dropoff_latitude'], data['dropoff_longitude'])\n",
    "    data['pickup_distance_to_Rockland'] = dist(Rockland[0], Rockland[1], data['pickup_latitude'], data['pickup_longitude'])\n",
    "    data['dropoff_distance_to_Rockland'] = dist(Rockland[0], Rockland[1], data['dropoff_latitude'], data['dropoff_longitude'])\n",
    "    data['pickup_distance_to_Dutchess'] = dist(Dutchess[0], Dutchess[1], data['pickup_latitude'], data['pickup_longitude'])\n",
    "    data['dropoff_distance_to_Dutchess'] = dist(Dutchess[0], Dutchess[1], data['dropoff_longitude'], data['dropoff_latitude'])\n",
    "    data['pickup_distance_to_Orange'] = dist(Orange[0], Orange[1], data['pickup_latitude'], data['pickup_longitude'])\n",
    "    data['dropoff_distance_to_Orange'] = dist(Orange[0], Orange[1], data['dropoff_latitude'], data['dropoff_longitude'])\n",
    "    data['pickup_distance_to_Putnam'] = dist(Putnam[0], Putnam[1], data['pickup_latitude'], data['pickup_longitude'])\n",
    "    data['dropoff_distance_to_Putnam'] = dist(Putnam[0], Putnam[1], data['dropoff_latitude'], data['dropoff_longitude'])\n",
    "    \n",
    "    data['pickup_distance_to_jfk'] = dist(jfk[0], jfk[1], data['pickup_latitude'], data['pickup_longitude'])\n",
    "    data['dropoff_distance_to_jfk'] = dist(jfk[0], jfk[1], data['dropoff_latitude'], data['dropoff_longitude'])\n",
    "    data['pickup_distance_to_ewr'] = dist(ewr[0], ewr[1], data['pickup_latitude'], data['pickup_longitude'])\n",
    "    data['dropoff_distance_to_ewr'] = dist(ewr[0], ewr[1], data['dropoff_latitude'], data['dropoff_longitude'])\n",
    "    data['pickup_distance_to_lgr'] = dist(lgr[0], lgr[1], data['pickup_latitude'], data['pickup_longitude'])\n",
    "    data['dropoff_distance_to_lgr'] = dist(lgr[0], lgr[1], data['dropoff_latitude'], data['dropoff_longitude'])\n",
    "    \n",
    "    return data"
   ]
  },
  {
   "cell_type": "code",
   "execution_count": 49,
   "metadata": {},
   "outputs": [
    {
     "name": "stdout",
     "output_type": "stream",
     "text": [
      "CPU times: user 2min, sys: 1min 22s, total: 3min 23s\n",
      "Wall time: 1min 51s\n"
     ]
    }
   ],
   "source": [
    "%%time\n",
    "train_df = add_distance_to_city_airports(train_df)"
   ]
  },
  {
   "cell_type": "code",
   "execution_count": 50,
   "metadata": {
    "collapsed": true
   },
   "outputs": [],
   "source": [
    "test_df = add_distance_to_city_airports(test_df)"
   ]
  },
  {
   "cell_type": "code",
   "execution_count": 51,
   "metadata": {},
   "outputs": [
    {
     "name": "stdout",
     "output_type": "stream",
     "text": [
      "<class 'pandas.core.frame.DataFrame'>\n",
      "RangeIndex: 54062903 entries, 0 to 54062902\n",
      "Data columns (total 38 columns):\n",
      "fare_amount                        float32\n",
      "pickup_longitude                   float32\n",
      "pickup_latitude                    float32\n",
      "dropoff_longitude                  float32\n",
      "dropoff_latitude                   float32\n",
      "passenger_count                    uint8\n",
      "year                               uint8\n",
      "month                              uint8\n",
      "week                               uint8\n",
      "dayofweek                          uint8\n",
      "day                                uint8\n",
      "hour                               uint8\n",
      "longitude_distance                 float32\n",
      "latitude_distance                  float32\n",
      "manhattan_distance                 float32\n",
      "euclidean_distance                 float32\n",
      "pickup_distance_to_nyc             float32\n",
      "dropoff_distance_to_nyc            float32\n",
      "pickup_distance_to_Nassau          float32\n",
      "dropoff_distance_to_Nassau         float32\n",
      "pickup_distance_to_Suffolk         float32\n",
      "dropoff_distance_to_Suffolk        float32\n",
      "pickup_distance_to_Westchester     float32\n",
      "dropoff_distance_to_Westchester    float32\n",
      "pickup_distance_to_Rockland        float32\n",
      "dropoff_distance_to_Rockland       float32\n",
      "pickup_distance_to_Dutchess        float32\n",
      "dropoff_distance_to_Dutchess       float32\n",
      "pickup_distance_to_Orange          float32\n",
      "dropoff_distance_to_Orange         float32\n",
      "pickup_distance_to_Putnam          float32\n",
      "dropoff_distance_to_Putnam         float32\n",
      "pickup_distance_to_jfk             float32\n",
      "dropoff_distance_to_jfk            float32\n",
      "pickup_distance_to_ewr             float32\n",
      "dropoff_distance_to_ewr            float32\n",
      "pickup_distance_to_lgr             float32\n",
      "dropoff_distance_to_lgr            float32\n",
      "dtypes: float32(31), uint8(7)\n",
      "memory usage: 6.6 GB\n"
     ]
    }
   ],
   "source": [
    "train_df.info()"
   ]
  },
  {
   "cell_type": "markdown",
   "metadata": {},
   "source": [
    "# Add boolean flag to show fare increased from September 2012"
   ]
  },
  {
   "cell_type": "code",
   "execution_count": 52,
   "metadata": {
    "collapsed": true
   },
   "outputs": [],
   "source": [
    "# merged to final_convert()\n",
    "# def add_fare_increased_flag(data):\n",
    "#     flag = (((data.year==(2012-2000)) & (data.month>=9)) | (data.year>(2012-2000)))\n",
    "#     data['fare_increased'] = flag\n",
    "    \n",
    "#     return data"
   ]
  },
  {
   "cell_type": "code",
   "execution_count": 53,
   "metadata": {
    "collapsed": true
   },
   "outputs": [],
   "source": [
    "# train_df = add_fare_increased_flag(train_df)\n",
    "# test_df = add_fare_increased_flag(test_df)"
   ]
  },
  {
   "cell_type": "markdown",
   "metadata": {},
   "source": [
    "# Surcharges, fare increased etc"
   ]
  },
  {
   "cell_type": "code",
   "execution_count": 54,
   "metadata": {
    "collapsed": true
   },
   "outputs": [],
   "source": [
    "# Consider extra charges\n",
    "def final_convert(data):\n",
    "\n",
    "    # There is a 50-cent MTA State Surcharge for all trips that end in New York City or \n",
    "    # Nassau, Suffolk, Westchester, Rockland, Dutchess, Orange or Putnam Counties.\n",
    "    # The following two variables can be merged into one.\n",
    "    # The following only considers trips that starts in city center and ends in nearby counties,\n",
    "    # while the opposite direction could also be considered\n",
    "    # counties\n",
    "    data['county_dropoff_1'] = np.where((data['pickup_distance_to_nyc'] <= 5) &\n",
    "                                     ((data['dropoff_distance_to_Nassau'] <= 21.3) |\n",
    "                                      (data['dropoff_distance_to_Westchester'] <= 22.4)), True, False)\n",
    "    \n",
    "    data['county_dropoff_2'] = np.where((data['pickup_distance_to_nyc'] <= 5) &                  \n",
    "                                     ((data['dropoff_distance_to_Suffolk'] <= 48.7) |           \n",
    "                                      (data['dropoff_distance_to_Rockland'] <= 14.1) |\n",
    "                                      (data['dropoff_distance_to_Dutchess'] <= 28.7) |\n",
    "                                      (data['dropoff_distance_to_Orange'] <= 29) |\n",
    "                                      (data['dropoff_distance_to_Putnam'] <= 15.7)), True, False)\n",
    "    \n",
    "    # Add boolean flag to show fare increased from September 2012\n",
    "    data['fare_increased'] = np.where(((data.year==(2012-2000)) & (data.month>=9)) | \n",
    "                                       (data.year>(2012-2000)), True, False)\n",
    "    \n",
    "    # There is a daily 50-cent surcharge from 8pm to 6am.\n",
    "    data['night_hour'] = np.where((data['hour'] >= 20) |\n",
    "                                (data['hour'] <= 6) , True, False)\n",
    "    \n",
    "    # There is a $1 surcharge from 4pm to 8pm on weekdays, excluding holidays.\n",
    "    data['peak_hour'] = np.where((data['hour'] >= 16) &\n",
    "                                (data['hour'] <= 20) & \n",
    "                                (data['dayofweek'] >=0) &\n",
    "                                (data['dayofweek'] <=4) , True, False)\n",
    "    \n",
    "    # This is a flat fare of $52 plus tolls, the 50-cent MTA State Surcharge, the 30-cent Improvement Surcharge, \n",
    "    # to/from JFK and any location in Manhattan:\n",
    "    data['to_from_jfk'] = np.where(((data['pickup_distance_to_jfk'] <= 2) & (data['dropoff_distance_to_nyc'] <= 5)) | \n",
    "                                 ((data['pickup_distance_to_nyc'] <= 5) & (data['dropoff_distance_to_jfk'] <= 2)), True, False)\n",
    "\n",
    "    # There is a $4.50 rush hour surcharge (4 PM to 8 PM weekdays, excluding legal holidays). o/from JFK and any location in Manhattan:\n",
    "    data['jfk_rush_hour'] = np.where((data['to_from_jfk'] == 1) & \n",
    "                                   (data['hour'] >= 16) &\n",
    "                                   (data['hour'] <= 20) , True, False)\n",
    "    \n",
    "    # There is a $17.50 Newark Surcharge to Newark Airport:\n",
    "    data['ewr'] = np.where((data['pickup_distance_to_nyc'] <= 5) &\n",
    "                         (data['dropoff_distance_to_ewr'] <= 1), True, False)\n",
    "    \n",
    "    return data"
   ]
  },
  {
   "cell_type": "code",
   "execution_count": 55,
   "metadata": {},
   "outputs": [
    {
     "name": "stdout",
     "output_type": "stream",
     "text": [
      "CPU times: user 2.84 s, sys: 220 ms, total: 3.06 s\n",
      "Wall time: 3.07 s\n"
     ]
    }
   ],
   "source": [
    "%%time\n",
    "# Apply to both train and test data      \n",
    "train_df = final_convert(train_df)\n",
    "test_df = final_convert(test_df)"
   ]
  },
  {
   "cell_type": "code",
   "execution_count": 56,
   "metadata": {},
   "outputs": [
    {
     "name": "stdout",
     "output_type": "stream",
     "text": [
      "<class 'pandas.core.frame.DataFrame'>\n",
      "RangeIndex: 54062903 entries, 0 to 54062902\n",
      "Data columns (total 46 columns):\n",
      "fare_amount                        float32\n",
      "pickup_longitude                   float32\n",
      "pickup_latitude                    float32\n",
      "dropoff_longitude                  float32\n",
      "dropoff_latitude                   float32\n",
      "passenger_count                    uint8\n",
      "year                               uint8\n",
      "month                              uint8\n",
      "week                               uint8\n",
      "dayofweek                          uint8\n",
      "day                                uint8\n",
      "hour                               uint8\n",
      "longitude_distance                 float32\n",
      "latitude_distance                  float32\n",
      "manhattan_distance                 float32\n",
      "euclidean_distance                 float32\n",
      "pickup_distance_to_nyc             float32\n",
      "dropoff_distance_to_nyc            float32\n",
      "pickup_distance_to_Nassau          float32\n",
      "dropoff_distance_to_Nassau         float32\n",
      "pickup_distance_to_Suffolk         float32\n",
      "dropoff_distance_to_Suffolk        float32\n",
      "pickup_distance_to_Westchester     float32\n",
      "dropoff_distance_to_Westchester    float32\n",
      "pickup_distance_to_Rockland        float32\n",
      "dropoff_distance_to_Rockland       float32\n",
      "pickup_distance_to_Dutchess        float32\n",
      "dropoff_distance_to_Dutchess       float32\n",
      "pickup_distance_to_Orange          float32\n",
      "dropoff_distance_to_Orange         float32\n",
      "pickup_distance_to_Putnam          float32\n",
      "dropoff_distance_to_Putnam         float32\n",
      "pickup_distance_to_jfk             float32\n",
      "dropoff_distance_to_jfk            float32\n",
      "pickup_distance_to_ewr             float32\n",
      "dropoff_distance_to_ewr            float32\n",
      "pickup_distance_to_lgr             float32\n",
      "dropoff_distance_to_lgr            float32\n",
      "county_dropoff_1                   bool\n",
      "county_dropoff_2                   bool\n",
      "fare_increased                     bool\n",
      "night_hour                         bool\n",
      "peak_hour                          bool\n",
      "to_from_jfk                        bool\n",
      "jfk_rush_hour                      bool\n",
      "ewr                                bool\n",
      "dtypes: bool(8), float32(31), uint8(7)\n",
      "memory usage: 7.0 GB\n"
     ]
    }
   ],
   "source": [
    "train_df.info()"
   ]
  },
  {
   "cell_type": "markdown",
   "metadata": {},
   "source": [
    "# Save feather"
   ]
  },
  {
   "cell_type": "code",
   "execution_count": 57,
   "metadata": {},
   "outputs": [
    {
     "name": "stdout",
     "output_type": "stream",
     "text": [
      "CPU times: user 13.5 s, sys: 3.27 s, total: 16.8 s\n",
      "Wall time: 55.3 s\n"
     ]
    }
   ],
   "source": [
    "%%time\n",
    "train_df.to_feather('tmp/taxi-train-clean-all')"
   ]
  },
  {
   "cell_type": "code",
   "execution_count": 58,
   "metadata": {},
   "outputs": [
    {
     "name": "stdout",
     "output_type": "stream",
     "text": [
      "CPU times: user 21.6 ms, sys: 11.8 ms, total: 33.4 ms\n",
      "Wall time: 20.8 ms\n"
     ]
    }
   ],
   "source": [
    "%%time\n",
    "test_df.to_feather('tmp/taxi-test-clean-all')"
   ]
  },
  {
   "cell_type": "code",
   "execution_count": 59,
   "metadata": {},
   "outputs": [
    {
     "data": {
      "text/html": [
       "<div>\n",
       "<style>\n",
       "    .dataframe thead tr:only-child th {\n",
       "        text-align: right;\n",
       "    }\n",
       "\n",
       "    .dataframe thead th {\n",
       "        text-align: left;\n",
       "    }\n",
       "\n",
       "    .dataframe tbody tr th {\n",
       "        vertical-align: top;\n",
       "    }\n",
       "</style>\n",
       "<table border=\"1\" class=\"dataframe\">\n",
       "  <thead>\n",
       "    <tr style=\"text-align: right;\">\n",
       "      <th></th>\n",
       "      <th>fare_amount</th>\n",
       "      <th>pickup_longitude</th>\n",
       "      <th>pickup_latitude</th>\n",
       "      <th>dropoff_longitude</th>\n",
       "      <th>dropoff_latitude</th>\n",
       "      <th>passenger_count</th>\n",
       "      <th>year</th>\n",
       "      <th>month</th>\n",
       "      <th>week</th>\n",
       "      <th>dayofweek</th>\n",
       "      <th>...</th>\n",
       "      <th>pickup_distance_to_lgr</th>\n",
       "      <th>dropoff_distance_to_lgr</th>\n",
       "      <th>county_dropoff_1</th>\n",
       "      <th>county_dropoff_2</th>\n",
       "      <th>fare_increased</th>\n",
       "      <th>night_hour</th>\n",
       "      <th>peak_hour</th>\n",
       "      <th>to_from_jfk</th>\n",
       "      <th>jfk_rush_hour</th>\n",
       "      <th>ewr</th>\n",
       "    </tr>\n",
       "  </thead>\n",
       "  <tbody>\n",
       "    <tr>\n",
       "      <th>0</th>\n",
       "      <td>4.5</td>\n",
       "      <td>-73.844315</td>\n",
       "      <td>40.721317</td>\n",
       "      <td>-73.841614</td>\n",
       "      <td>40.712276</td>\n",
       "      <td>1</td>\n",
       "      <td>9</td>\n",
       "      <td>6</td>\n",
       "      <td>25</td>\n",
       "      <td>0</td>\n",
       "      <td>...</td>\n",
       "      <td>6.662897</td>\n",
       "      <td>7.681722</td>\n",
       "      <td>False</td>\n",
       "      <td>False</td>\n",
       "      <td>False</td>\n",
       "      <td>False</td>\n",
       "      <td>True</td>\n",
       "      <td>False</td>\n",
       "      <td>False</td>\n",
       "      <td>False</td>\n",
       "    </tr>\n",
       "    <tr>\n",
       "      <th>1</th>\n",
       "      <td>16.9</td>\n",
       "      <td>-74.016045</td>\n",
       "      <td>40.711304</td>\n",
       "      <td>-73.979271</td>\n",
       "      <td>40.782005</td>\n",
       "      <td>1</td>\n",
       "      <td>10</td>\n",
       "      <td>1</td>\n",
       "      <td>1</td>\n",
       "      <td>1</td>\n",
       "      <td>...</td>\n",
       "      <td>14.005183</td>\n",
       "      <td>8.876139</td>\n",
       "      <td>False</td>\n",
       "      <td>False</td>\n",
       "      <td>False</td>\n",
       "      <td>False</td>\n",
       "      <td>True</td>\n",
       "      <td>False</td>\n",
       "      <td>False</td>\n",
       "      <td>False</td>\n",
       "    </tr>\n",
       "    <tr>\n",
       "      <th>2</th>\n",
       "      <td>5.7</td>\n",
       "      <td>-73.982735</td>\n",
       "      <td>40.761269</td>\n",
       "      <td>-73.991241</td>\n",
       "      <td>40.750561</td>\n",
       "      <td>2</td>\n",
       "      <td>11</td>\n",
       "      <td>8</td>\n",
       "      <td>33</td>\n",
       "      <td>3</td>\n",
       "      <td>...</td>\n",
       "      <td>9.314241</td>\n",
       "      <td>10.292768</td>\n",
       "      <td>False</td>\n",
       "      <td>False</td>\n",
       "      <td>False</td>\n",
       "      <td>True</td>\n",
       "      <td>False</td>\n",
       "      <td>False</td>\n",
       "      <td>False</td>\n",
       "      <td>False</td>\n",
       "    </tr>\n",
       "    <tr>\n",
       "      <th>3</th>\n",
       "      <td>7.7</td>\n",
       "      <td>-73.987129</td>\n",
       "      <td>40.733143</td>\n",
       "      <td>-73.991570</td>\n",
       "      <td>40.758091</td>\n",
       "      <td>1</td>\n",
       "      <td>12</td>\n",
       "      <td>4</td>\n",
       "      <td>16</td>\n",
       "      <td>5</td>\n",
       "      <td>...</td>\n",
       "      <td>10.692705</td>\n",
       "      <td>10.113216</td>\n",
       "      <td>False</td>\n",
       "      <td>False</td>\n",
       "      <td>False</td>\n",
       "      <td>True</td>\n",
       "      <td>False</td>\n",
       "      <td>False</td>\n",
       "      <td>False</td>\n",
       "      <td>False</td>\n",
       "    </tr>\n",
       "    <tr>\n",
       "      <th>4</th>\n",
       "      <td>5.3</td>\n",
       "      <td>-73.968094</td>\n",
       "      <td>40.768009</td>\n",
       "      <td>-73.956657</td>\n",
       "      <td>40.783764</td>\n",
       "      <td>1</td>\n",
       "      <td>10</td>\n",
       "      <td>3</td>\n",
       "      <td>10</td>\n",
       "      <td>1</td>\n",
       "      <td>...</td>\n",
       "      <td>7.979951</td>\n",
       "      <td>6.997198</td>\n",
       "      <td>False</td>\n",
       "      <td>False</td>\n",
       "      <td>False</td>\n",
       "      <td>False</td>\n",
       "      <td>False</td>\n",
       "      <td>False</td>\n",
       "      <td>False</td>\n",
       "      <td>False</td>\n",
       "    </tr>\n",
       "    <tr>\n",
       "      <th>5</th>\n",
       "      <td>12.1</td>\n",
       "      <td>-74.000961</td>\n",
       "      <td>40.731628</td>\n",
       "      <td>-73.972893</td>\n",
       "      <td>40.758232</td>\n",
       "      <td>1</td>\n",
       "      <td>11</td>\n",
       "      <td>1</td>\n",
       "      <td>1</td>\n",
       "      <td>3</td>\n",
       "      <td>...</td>\n",
       "      <td>11.812294</td>\n",
       "      <td>8.577885</td>\n",
       "      <td>False</td>\n",
       "      <td>False</td>\n",
       "      <td>False</td>\n",
       "      <td>False</td>\n",
       "      <td>False</td>\n",
       "      <td>False</td>\n",
       "      <td>False</td>\n",
       "      <td>False</td>\n",
       "    </tr>\n",
       "    <tr>\n",
       "      <th>6</th>\n",
       "      <td>7.5</td>\n",
       "      <td>-73.980003</td>\n",
       "      <td>40.751663</td>\n",
       "      <td>-73.973801</td>\n",
       "      <td>40.764843</td>\n",
       "      <td>1</td>\n",
       "      <td>12</td>\n",
       "      <td>11</td>\n",
       "      <td>47</td>\n",
       "      <td>1</td>\n",
       "      <td>...</td>\n",
       "      <td>9.352433</td>\n",
       "      <td>8.504906</td>\n",
       "      <td>False</td>\n",
       "      <td>False</td>\n",
       "      <td>True</td>\n",
       "      <td>True</td>\n",
       "      <td>True</td>\n",
       "      <td>False</td>\n",
       "      <td>False</td>\n",
       "      <td>False</td>\n",
       "    </tr>\n",
       "    <tr>\n",
       "      <th>7</th>\n",
       "      <td>16.5</td>\n",
       "      <td>-73.951302</td>\n",
       "      <td>40.774139</td>\n",
       "      <td>-73.990097</td>\n",
       "      <td>40.751049</td>\n",
       "      <td>1</td>\n",
       "      <td>12</td>\n",
       "      <td>1</td>\n",
       "      <td>1</td>\n",
       "      <td>2</td>\n",
       "      <td>...</td>\n",
       "      <td>6.512047</td>\n",
       "      <td>10.184739</td>\n",
       "      <td>False</td>\n",
       "      <td>False</td>\n",
       "      <td>False</td>\n",
       "      <td>False</td>\n",
       "      <td>True</td>\n",
       "      <td>False</td>\n",
       "      <td>False</td>\n",
       "      <td>False</td>\n",
       "    </tr>\n",
       "    <tr>\n",
       "      <th>8</th>\n",
       "      <td>9.0</td>\n",
       "      <td>-74.006462</td>\n",
       "      <td>40.726711</td>\n",
       "      <td>-73.993080</td>\n",
       "      <td>40.731628</td>\n",
       "      <td>1</td>\n",
       "      <td>12</td>\n",
       "      <td>12</td>\n",
       "      <td>49</td>\n",
       "      <td>0</td>\n",
       "      <td>...</td>\n",
       "      <td>12.467721</td>\n",
       "      <td>11.215537</td>\n",
       "      <td>False</td>\n",
       "      <td>False</td>\n",
       "      <td>True</td>\n",
       "      <td>False</td>\n",
       "      <td>False</td>\n",
       "      <td>False</td>\n",
       "      <td>False</td>\n",
       "      <td>False</td>\n",
       "    </tr>\n",
       "    <tr>\n",
       "      <th>9</th>\n",
       "      <td>8.9</td>\n",
       "      <td>-73.980659</td>\n",
       "      <td>40.733871</td>\n",
       "      <td>-73.991539</td>\n",
       "      <td>40.758137</td>\n",
       "      <td>2</td>\n",
       "      <td>9</td>\n",
       "      <td>9</td>\n",
       "      <td>36</td>\n",
       "      <td>2</td>\n",
       "      <td>...</td>\n",
       "      <td>10.172320</td>\n",
       "      <td>10.109944</td>\n",
       "      <td>False</td>\n",
       "      <td>False</td>\n",
       "      <td>False</td>\n",
       "      <td>True</td>\n",
       "      <td>False</td>\n",
       "      <td>False</td>\n",
       "      <td>False</td>\n",
       "      <td>False</td>\n",
       "    </tr>\n",
       "  </tbody>\n",
       "</table>\n",
       "<p>10 rows × 46 columns</p>\n",
       "</div>"
      ],
      "text/plain": [
       "   fare_amount  pickup_longitude  pickup_latitude  dropoff_longitude  \\\n",
       "0          4.5        -73.844315        40.721317         -73.841614   \n",
       "1         16.9        -74.016045        40.711304         -73.979271   \n",
       "2          5.7        -73.982735        40.761269         -73.991241   \n",
       "3          7.7        -73.987129        40.733143         -73.991570   \n",
       "4          5.3        -73.968094        40.768009         -73.956657   \n",
       "5         12.1        -74.000961        40.731628         -73.972893   \n",
       "6          7.5        -73.980003        40.751663         -73.973801   \n",
       "7         16.5        -73.951302        40.774139         -73.990097   \n",
       "8          9.0        -74.006462        40.726711         -73.993080   \n",
       "9          8.9        -73.980659        40.733871         -73.991539   \n",
       "\n",
       "   dropoff_latitude  passenger_count  year  month  week  dayofweek  ...    \\\n",
       "0         40.712276                1     9      6    25          0  ...     \n",
       "1         40.782005                1    10      1     1          1  ...     \n",
       "2         40.750561                2    11      8    33          3  ...     \n",
       "3         40.758091                1    12      4    16          5  ...     \n",
       "4         40.783764                1    10      3    10          1  ...     \n",
       "5         40.758232                1    11      1     1          3  ...     \n",
       "6         40.764843                1    12     11    47          1  ...     \n",
       "7         40.751049                1    12      1     1          2  ...     \n",
       "8         40.731628                1    12     12    49          0  ...     \n",
       "9         40.758137                2     9      9    36          2  ...     \n",
       "\n",
       "   pickup_distance_to_lgr  dropoff_distance_to_lgr  county_dropoff_1  \\\n",
       "0                6.662897                 7.681722             False   \n",
       "1               14.005183                 8.876139             False   \n",
       "2                9.314241                10.292768             False   \n",
       "3               10.692705                10.113216             False   \n",
       "4                7.979951                 6.997198             False   \n",
       "5               11.812294                 8.577885             False   \n",
       "6                9.352433                 8.504906             False   \n",
       "7                6.512047                10.184739             False   \n",
       "8               12.467721                11.215537             False   \n",
       "9               10.172320                10.109944             False   \n",
       "\n",
       "   county_dropoff_2  fare_increased  night_hour  peak_hour  to_from_jfk  \\\n",
       "0             False           False       False       True        False   \n",
       "1             False           False       False       True        False   \n",
       "2             False           False        True      False        False   \n",
       "3             False           False        True      False        False   \n",
       "4             False           False       False      False        False   \n",
       "5             False           False       False      False        False   \n",
       "6             False            True        True       True        False   \n",
       "7             False           False       False       True        False   \n",
       "8             False            True       False      False        False   \n",
       "9             False           False        True      False        False   \n",
       "\n",
       "   jfk_rush_hour    ewr  \n",
       "0          False  False  \n",
       "1          False  False  \n",
       "2          False  False  \n",
       "3          False  False  \n",
       "4          False  False  \n",
       "5          False  False  \n",
       "6          False  False  \n",
       "7          False  False  \n",
       "8          False  False  \n",
       "9          False  False  \n",
       "\n",
       "[10 rows x 46 columns]"
      ]
     },
     "execution_count": 59,
     "metadata": {},
     "output_type": "execute_result"
    }
   ],
   "source": [
    "train_df.head(10)"
   ]
  },
  {
   "cell_type": "code",
   "execution_count": 60,
   "metadata": {},
   "outputs": [
    {
     "name": "stdout",
     "output_type": "stream",
     "text": [
      "Index(['fare_amount', 'pickup_longitude', 'pickup_latitude',\n",
      "       'dropoff_longitude', 'dropoff_latitude', 'passenger_count', 'year',\n",
      "       'month', 'week', 'dayofweek', 'day', 'hour', 'longitude_distance',\n",
      "       'latitude_distance', 'manhattan_distance', 'euclidean_distance',\n",
      "       'pickup_distance_to_nyc', 'dropoff_distance_to_nyc',\n",
      "       'pickup_distance_to_Nassau', 'dropoff_distance_to_Nassau',\n",
      "       'pickup_distance_to_Suffolk', 'dropoff_distance_to_Suffolk',\n",
      "       'pickup_distance_to_Westchester', 'dropoff_distance_to_Westchester',\n",
      "       'pickup_distance_to_Rockland', 'dropoff_distance_to_Rockland',\n",
      "       'pickup_distance_to_Dutchess', 'dropoff_distance_to_Dutchess',\n",
      "       'pickup_distance_to_Orange', 'dropoff_distance_to_Orange',\n",
      "       'pickup_distance_to_Putnam', 'dropoff_distance_to_Putnam',\n",
      "       'pickup_distance_to_jfk', 'dropoff_distance_to_jfk',\n",
      "       'pickup_distance_to_ewr', 'dropoff_distance_to_ewr',\n",
      "       'pickup_distance_to_lgr', 'dropoff_distance_to_lgr', 'county_dropoff_1',\n",
      "       'county_dropoff_2', 'fare_increased', 'night_hour', 'peak_hour',\n",
      "       'to_from_jfk', 'jfk_rush_hour', 'ewr'],\n",
      "      dtype='object')\n"
     ]
    }
   ],
   "source": [
    "# Check column names\n",
    "print(train_df.columns)"
   ]
  },
  {
   "cell_type": "code",
   "execution_count": 5,
   "metadata": {},
   "outputs": [
    {
     "name": "stdout",
     "output_type": "stream",
     "text": [
      "CPU times: user 3.24 s, sys: 5.06 s, total: 8.29 s\n",
      "Wall time: 59.9 s\n"
     ]
    }
   ],
   "source": [
    "%%time\n",
    "train_df = pd.read_feather('tmp/taxi-train-clean-all')\n",
    "test_df = pd.read_feather('tmp/taxi-test-clean-all')"
   ]
  },
  {
   "cell_type": "code",
   "execution_count": null,
   "metadata": {
    "collapsed": true
   },
   "outputs": [],
   "source": [
    "# Check corr of 'fare_amount' to all the other variables\n",
    "print(train_df.corrwith(train_df['fare_amount']))"
   ]
  },
  {
   "cell_type": "code",
   "execution_count": 6,
   "metadata": {
    "collapsed": true
   },
   "outputs": [],
   "source": [
    "# We can choose to remove the variables that has the corr less than 0.1\n",
    "train_df = train_df.drop(['passenger_count','hour','day','month','dayofweek'], axis = 1)\n",
    "test_df = test_df.drop(['passenger_count','hour','day','month','dayofweek'], axis = 1)"
   ]
  },
  {
   "cell_type": "code",
   "execution_count": null,
   "metadata": {
    "collapsed": true
   },
   "outputs": [],
   "source": [
    "# Check corr of 'fare_amount' to all the other variables\n",
    "print(train_df.corrwith(train_df['fare_amount']))"
   ]
  },
  {
   "cell_type": "code",
   "execution_count": 7,
   "metadata": {},
   "outputs": [],
   "source": [
    "# We can choose to remove the variables that has the corr less than 0.1\n",
    "train_df = train_df.drop(['week','latitude_distance','dropoff_distance_to_Dutchess', 'night_hour', 'peak_hour','county_dropoff_2','pickup_distance_to_lgr'], axis = 1)\n",
    "test_df = test_df.drop(['week','latitude_distance', 'dropoff_distance_to_Dutchess', 'night_hour', 'peak_hour', 'county_dropoff_2','pickup_distance_to_lgr'], axis = 1)"
   ]
  },
  {
   "cell_type": "code",
   "execution_count": null,
   "metadata": {
    "collapsed": true
   },
   "outputs": [],
   "source": [
    "# Check corr of 'fare_amount' to all the other variables\n",
    "print(train_df.corrwith(train_df['fare_amount']))"
   ]
  },
  {
   "cell_type": "code",
   "execution_count": 8,
   "metadata": {},
   "outputs": [
    {
     "name": "stdout",
     "output_type": "stream",
     "text": [
      "CPU times: user 11.5 s, sys: 2.97 s, total: 14.5 s\n",
      "Wall time: 27.9 s\n"
     ]
    }
   ],
   "source": [
    "%%time\n",
    "train_df.to_feather('tmp/taxi-train-clean')"
   ]
  },
  {
   "cell_type": "code",
   "execution_count": 9,
   "metadata": {},
   "outputs": [
    {
     "name": "stdout",
     "output_type": "stream",
     "text": [
      "CPU times: user 14.9 ms, sys: 9.55 ms, total: 24.4 ms\n",
      "Wall time: 15.4 ms\n"
     ]
    }
   ],
   "source": [
    "%%time\n",
    "test_df.to_feather('tmp/taxi-test-clean')"
   ]
  },
  {
   "cell_type": "code",
   "execution_count": 10,
   "metadata": {},
   "outputs": [
    {
     "name": "stdout",
     "output_type": "stream",
     "text": [
      "<class 'pandas.core.frame.DataFrame'>\n",
      "RangeIndex: 54062903 entries, 0 to 54062902\n",
      "Data columns (total 34 columns):\n",
      "fare_amount                        float32\n",
      "pickup_longitude                   float32\n",
      "pickup_latitude                    float32\n",
      "dropoff_longitude                  float32\n",
      "dropoff_latitude                   float32\n",
      "year                               uint8\n",
      "longitude_distance                 float32\n",
      "manhattan_distance                 float32\n",
      "euclidean_distance                 float32\n",
      "pickup_distance_to_nyc             float32\n",
      "dropoff_distance_to_nyc            float32\n",
      "pickup_distance_to_Nassau          float32\n",
      "dropoff_distance_to_Nassau         float32\n",
      "pickup_distance_to_Suffolk         float32\n",
      "dropoff_distance_to_Suffolk        float32\n",
      "pickup_distance_to_Westchester     float32\n",
      "dropoff_distance_to_Westchester    float32\n",
      "pickup_distance_to_Rockland        float32\n",
      "dropoff_distance_to_Rockland       float32\n",
      "pickup_distance_to_Dutchess        float32\n",
      "pickup_distance_to_Orange          float32\n",
      "dropoff_distance_to_Orange         float32\n",
      "pickup_distance_to_Putnam          float32\n",
      "dropoff_distance_to_Putnam         float32\n",
      "pickup_distance_to_jfk             float32\n",
      "dropoff_distance_to_jfk            float32\n",
      "pickup_distance_to_ewr             float32\n",
      "dropoff_distance_to_ewr            float32\n",
      "dropoff_distance_to_lgr            float32\n",
      "county_dropoff_1                   bool\n",
      "fare_increased                     bool\n",
      "to_from_jfk                        bool\n",
      "jfk_rush_hour                      bool\n",
      "ewr                                bool\n",
      "dtypes: bool(5), float32(28), uint8(1)\n",
      "memory usage: 5.9 GB\n"
     ]
    }
   ],
   "source": [
    "train_df.info()"
   ]
  },
  {
   "cell_type": "code",
   "execution_count": null,
   "metadata": {
    "collapsed": true
   },
   "outputs": [],
   "source": []
  }
 ],
 "metadata": {
  "kernelspec": {
   "display_name": "Python 3",
   "language": "python",
   "name": "python3"
  },
  "language_info": {
   "codemirror_mode": {
    "name": "ipython",
    "version": 3
   },
   "file_extension": ".py",
   "mimetype": "text/x-python",
   "name": "python",
   "nbconvert_exporter": "python",
   "pygments_lexer": "ipython3",
   "version": "3.6.3"
  },
  "toc": {
   "base_numbering": 1,
   "nav_menu": {},
   "number_sections": true,
   "sideBar": true,
   "skip_h1_title": false,
   "title_cell": "Table of Contents",
   "title_sidebar": "Contents",
   "toc_cell": false,
   "toc_position": {},
   "toc_section_display": true,
   "toc_window_display": true
  }
 },
 "nbformat": 4,
 "nbformat_minor": 1
}
