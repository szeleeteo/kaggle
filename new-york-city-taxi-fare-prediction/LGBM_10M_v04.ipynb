{
 "cells": [
  {
   "cell_type": "code",
   "execution_count": 1,
   "metadata": {
    "_uuid": "6a8d3fef0dcca3c674dc42a01c12b7bc3a0c2aca"
   },
   "outputs": [],
   "source": [
    "%matplotlib inline\n",
    "%reload_ext autoreload\n",
    "%autoreload 2"
   ]
  },
  {
   "cell_type": "code",
   "execution_count": 2,
   "metadata": {
    "_uuid": "e9a891959e21036e2abcc9f79b78290ec58b8291"
   },
   "outputs": [],
   "source": [
    "import numpy as np \n",
    "import pandas as pd\n",
    "import matplotlib.pyplot as plt"
   ]
  },
  {
   "cell_type": "code",
   "execution_count": 3,
   "metadata": {
    "_uuid": "32b1fe03ade53015f6783d6f76c68c1ba841685e"
   },
   "outputs": [],
   "source": [
    "import lightgbm as lgbm\n",
    "from sklearn import metrics\n",
    "from sklearn.metrics import mean_squared_error\n",
    "from sklearn.model_selection import KFold, train_test_split"
   ]
  },
  {
   "cell_type": "code",
   "execution_count": 4,
   "metadata": {
    "_cell_guid": "b1076dfc-b9ad-4769-8c92-a6c4dae69d19",
    "_uuid": "8f2839f25d086af736a60e9eeb907d3b93b6e0e5"
   },
   "outputs": [],
   "source": [
    "TRAIN_FEATHER = 'tmp/taxi-train-v10-Airport'\n",
    "TEST_FEATHER = 'tmp/taxi-test-v10-Airport'\n",
    "SUBM_CSV = 'data/nyc-taxi/sample_submission.csv'\n",
    "NSAMPLES = None\n",
    "SEED = 1000"
   ]
  },
  {
   "cell_type": "code",
   "execution_count": 5,
   "metadata": {
    "_uuid": "697e9acf296cdfedc90d592493c5184e875d5f2d"
   },
   "outputs": [],
   "source": [
    "train_df = pd.read_feather(TRAIN_FEATHER)\n",
    "test_df = pd.read_feather(TEST_FEATHER)\n",
    "subm_df = pd.read_csv(SUBM_CSV, index_col='key')"
   ]
  },
  {
   "cell_type": "code",
   "execution_count": 6,
   "metadata": {
    "_uuid": "e5102a30dbb35f06e35bdea8592b741ceb5c55ac"
   },
   "outputs": [
    {
     "data": {
      "text/plain": [
       "((54075311, 24), (9914, 23))"
      ]
     },
     "execution_count": 6,
     "metadata": {},
     "output_type": "execute_result"
    }
   ],
   "source": [
    "train_df.shape, test_df.shape"
   ]
  },
  {
   "cell_type": "markdown",
   "metadata": {
    "_uuid": "c68833e7d1151f75db5100c12cd02c30103d1ee0",
    "collapsed": true
   },
   "source": [
    "# LGBM"
   ]
  },
  {
   "cell_type": "code",
   "execution_count": 12,
   "metadata": {
    "_uuid": "87666ffd1c50913abe945539affc29fcd9a03d3b"
   },
   "outputs": [],
   "source": [
    "lgbm_params = {\n",
    "    'task': 'train',\n",
    "    'boosting_type': 'gbdt',\n",
    "    'objective': 'regression',\n",
    "    'metric': 'rmse',\n",
    "    'learning_rate': 0.02,       # 0.1\n",
    "    'feature_fraction': 0.7,     # 1.0\n",
    "    'bagging_fraction': 0.7,     # 1.0\n",
    "    'bagging_freq': 1,           # 0\n",
    "    'num_threads':4,\n",
    "#     'max_bin': 155,              # 255\n",
    "#     'num_leaves': 31,            # 31\n",
    "}"
   ]
  },
  {
   "cell_type": "code",
   "execution_count": 8,
   "metadata": {
    "_uuid": "d81edfecdbf373311d810193f0d2db975e467068"
   },
   "outputs": [],
   "source": [
    "train = train_df    #.sample(NSAMPLES, random_state=SEED+i)\n",
    "y = train.fare_amount.copy()\n",
    "train = train[test_df.columns]"
   ]
  },
  {
   "cell_type": "code",
   "execution_count": 9,
   "metadata": {
    "_uuid": "d81edfecdbf373311d810193f0d2db975e467068"
   },
   "outputs": [],
   "source": [
    "x_train, x_val, y_train, y_val = train_test_split(train, y, random_state=SEED, test_size=100_000)"
   ]
  },
  {
   "cell_type": "code",
   "execution_count": 10,
   "metadata": {
    "_uuid": "d81edfecdbf373311d810193f0d2db975e467068"
   },
   "outputs": [
    {
     "data": {
      "text/plain": [
       "<lightgbm.basic.Dataset at 0x27bc1270278>"
      ]
     },
     "execution_count": 10,
     "metadata": {},
     "output_type": "execute_result"
    }
   ],
   "source": [
    "dtrain = lgbm.Dataset(x_train, label=y_train, free_raw_data=False)\n",
    "dval = lgbm.Dataset(x_val, label=y_val, free_raw_data=False)\n",
    "dtrain.construct()\n",
    "dval.construct()"
   ]
  },
  {
   "cell_type": "code",
   "execution_count": null,
   "metadata": {
    "_uuid": "d81edfecdbf373311d810193f0d2db975e467068"
   },
   "outputs": [
    {
     "name": "stdout",
     "output_type": "stream",
     "text": [
      "Training until validation scores don't improve for 100 rounds.\n",
      "[500]\tvalidation's rmse: 3.53875\n",
      "[1000]\tvalidation's rmse: 3.4437\n",
      "[1500]\tvalidation's rmse: 3.40086\n",
      "[2000]\tvalidation's rmse: 3.37569\n",
      "[2500]\tvalidation's rmse: 3.35824\n"
     ]
    }
   ],
   "source": [
    "model = lgbm.train(\n",
    "    params=lgbm_params,\n",
    "    train_set=dtrain,\n",
    "    valid_sets=dval,\n",
    "    valid_names='validation',\n",
    "    num_boost_round=100_000, \n",
    "    early_stopping_rounds=100,\n",
    "    verbose_eval=500\n",
    ")"
   ]
  },
  {
   "cell_type": "code",
   "execution_count": null,
   "metadata": {},
   "outputs": [],
   "source": [
    "model.predict(test_df)"
   ]
  },
  {
   "cell_type": "code",
   "execution_count": null,
   "metadata": {
    "_uuid": "4c574655ba4903afa3fdebe8df9b823051d4b649"
   },
   "outputs": [],
   "source": [
    "subm_df['fare_amount'] = y_preds\n",
    "subm_df.to_csv('submissions/lgbm.csv')\n",
    "subm_df.head()"
   ]
  },
  {
   "cell_type": "raw",
   "metadata": {},
   "source": [
    "Simple Mean: 2.99541\n",
    "Weighted Mean:  2.99523"
   ]
  }
 ],
 "metadata": {
  "kernelspec": {
   "display_name": "Python (tf)",
   "language": "python",
   "name": "tf"
  },
  "language_info": {
   "codemirror_mode": {
    "name": "ipython",
    "version": 3
   },
   "file_extension": ".py",
   "mimetype": "text/x-python",
   "name": "python",
   "nbconvert_exporter": "python",
   "pygments_lexer": "ipython3",
   "version": "3.6.6"
  },
  "toc": {
   "base_numbering": 1,
   "nav_menu": {},
   "number_sections": true,
   "sideBar": true,
   "skip_h1_title": false,
   "title_cell": "Table of Contents",
   "title_sidebar": "Contents",
   "toc_cell": false,
   "toc_position": {},
   "toc_section_display": true,
   "toc_window_display": false
  }
 },
 "nbformat": 4,
 "nbformat_minor": 1
}
