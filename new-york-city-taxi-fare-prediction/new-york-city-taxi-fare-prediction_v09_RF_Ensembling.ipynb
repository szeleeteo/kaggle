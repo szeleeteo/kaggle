{
 "cells": [
  {
   "cell_type": "markdown",
   "metadata": {},
   "source": [
    "https://www.kaggle.com/c/new-york-city-taxi-fare-prediction/"
   ]
  },
  {
   "cell_type": "markdown",
   "metadata": {},
   "source": [
    "# Imports"
   ]
  },
  {
   "cell_type": "code",
   "execution_count": 1,
   "metadata": {},
   "outputs": [],
   "source": [
    "%matplotlib inline\n",
    "%reload_ext autoreload\n",
    "%autoreload 2"
   ]
  },
  {
   "cell_type": "code",
   "execution_count": 2,
   "metadata": {
    "_cell_guid": "b1076dfc-b9ad-4769-8c92-a6c4dae69d19",
    "_uuid": "8f2839f25d086af736a60e9eeb907d3b93b6e0e5"
   },
   "outputs": [],
   "source": [
    "import numpy as np \n",
    "import pandas as pd \n",
    "import matplotlib.pyplot as plt\n",
    "import os"
   ]
  },
  {
   "cell_type": "code",
   "execution_count": 3,
   "metadata": {},
   "outputs": [],
   "source": [
    "from fastai.imports import *\n",
    "from fastai.structured import *\n",
    "\n",
    "from pandas_summary import DataFrameSummary\n",
    "from sklearn.ensemble import RandomForestRegressor\n",
    "from IPython.display import display\n",
    "from datetime import datetime as dt"
   ]
  },
  {
   "cell_type": "code",
   "execution_count": 1,
   "metadata": {},
   "outputs": [],
   "source": [
    "PATH = 'data/nyc-taxi/'\n",
    "CSV_PATH = 'submissions/v09_ensemble_10trees_50M_rows'"
   ]
  },
  {
   "cell_type": "markdown",
   "metadata": {},
   "source": [
    "The entire dataset has about 55,423,857 rows"
   ]
  },
  {
   "cell_type": "markdown",
   "metadata": {},
   "source": [
    "# Helper functions"
   ]
  },
  {
   "cell_type": "code",
   "execution_count": 26,
   "metadata": {},
   "outputs": [],
   "source": [
    "def split_df(df, y_fld, subset=None, random_state=42):\n",
    "    \n",
    "    if subset: df = df.sample(n=subset, random_state=random_state)\n",
    "\n",
    "    y = df[y_fld].values\n",
    "    df.drop(y_fld, axis=1, inplace=True)\n",
    "    \n",
    "    return df, y"
   ]
  },
  {
   "cell_type": "code",
   "execution_count": 27,
   "metadata": {},
   "outputs": [],
   "source": [
    "def rmse(x,y): return math.sqrt(((x-y)**2).mean())\n",
    "\n",
    "def print_score(m):  \n",
    "    \n",
    "    # in scikit-learn, random forest regressor's score is the r-squared value\n",
    "    train_scr = m.score(X_train, y_train)\n",
    "    val_scr = m.score(X_val, y_val)\n",
    "    \n",
    "    # RMSE is what we are more interested in\n",
    "    train_rmse = rmse(m.predict(X_train), y_train)\n",
    "    val_rmse = rmse(m.predict(X_val), y_val)\n",
    "    if hasattr(m, 'oob_score_'): oob_scr = m.oob_score_\n",
    "        \n",
    "    res = f\"Training-Score:   {train_scr:.5f}\\tTraining-rmse:   {train_rmse:.5f}\\n\"\n",
    "    res += f\"Validation-score: {val_scr:.5f}\\tValidation-rmse: {val_rmse:.5f}\"   \n",
    "    if hasattr(m, 'oob_score_'): res += f\"\\nOOB-score:\\t  {oob_scr:.5f}\"\n",
    "        \n",
    "    print(res)"
   ]
  },
  {
   "cell_type": "markdown",
   "metadata": {},
   "source": [
    "# Load data"
   ]
  },
  {
   "cell_type": "code",
   "execution_count": 28,
   "metadata": {},
   "outputs": [],
   "source": [
    "seed = 42 # random seed to replication"
   ]
  },
  {
   "cell_type": "code",
   "execution_count": 29,
   "metadata": {},
   "outputs": [],
   "source": [
    "train_df = pd.read_feather('tmp/v3/taxi-train-v3-chkpt4')\n",
    "val_df = pd.read_feather('tmp/v3/taxi-v3-val')\n",
    "test_df = pd.read_feather('tmp/v3/taxi-test-v3-chkpt4')\n",
    "test_df_raw = pd.read_csv(f'{PATH}test.csv', usecols=['key'])"
   ]
  },
  {
   "cell_type": "code",
   "execution_count": 30,
   "metadata": {},
   "outputs": [
    {
     "data": {
      "text/plain": [
       "((54054206, 17), (9674, 17), (9914, 16))"
      ]
     },
     "execution_count": 30,
     "metadata": {},
     "output_type": "execute_result"
    }
   ],
   "source": [
    "train_df.shape, val_df.shape, test_df.shape"
   ]
  },
  {
   "cell_type": "code",
   "execution_count": 31,
   "metadata": {},
   "outputs": [
    {
     "name": "stdout",
     "output_type": "stream",
     "text": [
      "Wall time: 3.26 s\n"
     ]
    }
   ],
   "source": [
    "%%time\n",
    "subsample = 50_000_000\n",
    "\n",
    "X_train, y_train = split_df(train_df, 'fare_amount', subset=subsample, random_state=seed)"
   ]
  },
  {
   "cell_type": "code",
   "execution_count": 32,
   "metadata": {},
   "outputs": [],
   "source": [
    "X_val, y_val = split_df(val_df, 'fare_amount')"
   ]
  },
  {
   "cell_type": "code",
   "execution_count": 33,
   "metadata": {},
   "outputs": [
    {
     "data": {
      "text/plain": [
       "((100000, 16), (9674, 16), (100000,), (9674,), (9914, 16))"
      ]
     },
     "execution_count": 33,
     "metadata": {},
     "output_type": "execute_result"
    }
   ],
   "source": [
    "X_train.shape, X_val.shape, y_train.shape, y_val.shape, test_df.shape"
   ]
  },
  {
   "cell_type": "markdown",
   "metadata": {
    "_uuid": "2151480a168d291bc2f4fd014fdac4ab7b5f6560"
   },
   "source": [
    "# Batch fit"
   ]
  },
  {
   "cell_type": "code",
   "execution_count": 34,
   "metadata": {},
   "outputs": [],
   "source": [
    "outdir = CSV_PATH\n",
    "os.makedirs(outdir, exist_ok=True)\n",
    "preds = []\n",
    "n_forest=1"
   ]
  },
  {
   "cell_type": "code",
   "execution_count": null,
   "metadata": {},
   "outputs": [],
   "source": [
    "%%time\n",
    "for i in range (n_forest):\n",
    "    \n",
    "    new_seed = seed + i + 3\n",
    "    \n",
    "    print(f\"Random Forest [{i+1}/{n_forest}] of 10 trees with random seed {new_seed}\")\n",
    "    m = RandomForestRegressor(n_estimators=10, min_samples_leaf=3, max_features=0.5, n_jobs=-1, random_state=new_seed)\n",
    "    \n",
    "    print(\"Fitting on training data...\")\n",
    "    m.fit(X_train, y_train)\n",
    "\n",
    "    print(\"Predicting on test data...\")\n",
    "    test_y_predictions = m.predict(test_df)\n",
    "    preds.append(test_y_predictions)      \n",
    "    \n",
    "    print(\"Creating submission file...\")\n",
    "    \n",
    "    cur_dt = dt.now().strftime(\"%Y%m%d_%H%M%S\")\n",
    "    desc = 'v08_RF_' # description of submission for reference\n",
    "    ensemb_desc = '_01x10_50M'\n",
    "    subm_fn =  desc + cur_dt + ensemb_desc + '.csv'\n",
    "    subm_path = f'{outdir}/{subm_fn}'\n",
    "\n",
    "    # Write the predictions to a CSV file which we can submit to the competition.\n",
    "    submission = pd.DataFrame(\n",
    "        {'key': test_df_raw.key, 'fare_amount': test_y_predictions},\n",
    "        columns = ['key', 'fare_amount'])\n",
    "    submission.to_csv(subm_path, index = False)\n",
    "    \n",
    "    print(f\"Submission: {subm_fn}\")\n",
    "    print()"
   ]
  },
  {
   "cell_type": "code",
   "execution_count": null,
   "metadata": {},
   "outputs": [],
   "source": [
    "# preds[0]"
   ]
  },
  {
   "cell_type": "code",
   "execution_count": null,
   "metadata": {},
   "outputs": [],
   "source": [
    "# test_y_predictions = np.mean(np.vstack([preds]),axis=0)"
   ]
  },
  {
   "cell_type": "markdown",
   "metadata": {},
   "source": [
    "# Results"
   ]
  },
  {
   "cell_type": "raw",
   "metadata": {},
   "source": [
    "50 million rows ensembling\n",
    "\n",
    "1. With 50 million rows subsample, 1x10 trees\n",
    "Kaggle-rmse:     3.06393\n",
    "Training: 50min 58s\n",
    "Random seed [43] \n",
    "v08_RF_20180801_005735_01x10_50M.csv\n",
    "\n",
    "2. With 50 million rows subsample, 1x10 trees\n",
    "Random seed [44] \n",
    "v08_RF_20180801_122651_01x10_50M.csv\n",
    "\n",
    "3. With 50 million rows subsample, 5x10 trees\n",
    "Training: 4h 15min 25s\n",
    "Random seeds [86,128,170,212,254]\n",
    "v08_RF_20180801_132914_01x10_50M.csv\n",
    "v08_RF_20180801_142012_01x10_50M.csv\n",
    "v08_RF_20180801_151113_01x10_50M.csv\n",
    "v08_RF_20180801_160133_01x10_50M.csv\n",
    "v08_RF_20180801_165358_01x10_50M.csv\n",
    "\n",
    "Combining 1,2 and 3 => 7 forests\n",
    "Kaggle Score: 2.96295\n",
    "v08_RF_20180801_172511_7x10_50M.csv\n",
    "\n",
    "\n",
    "\n",
    "\n",
    "\n",
    "\n",
    "\n"
   ]
  },
  {
   "cell_type": "raw",
   "metadata": {},
   "source": [
    "1. With 5 million rows subsample, 1x80 trees\n",
    "Kaggle-rmse:     3.08832\n",
    "Training: 23min 32s\n",
    "v05_RF_20180731_164908"
   ]
  },
  {
   "cell_type": "raw",
   "metadata": {},
   "source": [
    "2. With 20 million rows subsample, 1x100 trees\n",
    "Training-Score:   0.95189\tTraining-rmse:   2.08844\n",
    "Validation-score: 0.91975\tValidation-rmse: 2.60518\n",
    "Kaggle-rmse:     2.99720\n",
    "Training: 2h 25min 56s\n",
    "Predicting: 44min\n",
    "v05_RF_20180731_202241"
   ]
  },
  {
   "cell_type": "raw",
   "metadata": {},
   "source": [
    "3. With 5 million rows subsample, 8x10 trees\n",
    "Kaggle-rmse:     3.05799\n",
    "Training: 31min 9s\n",
    "Random seed (42,84,252,1008,5040,30240,211680,1693440)\n",
    "seed = seed * (i+1) \n",
    "v08_RF_20180731_234224_8x10_05M.csv"
   ]
  }
 ],
 "metadata": {
  "kernelspec": {
   "display_name": "Python (fastai)",
   "language": "python",
   "name": "fastai"
  },
  "language_info": {
   "codemirror_mode": {
    "name": "ipython",
    "version": 3
   },
   "file_extension": ".py",
   "mimetype": "text/x-python",
   "name": "python",
   "nbconvert_exporter": "python",
   "pygments_lexer": "ipython3",
   "version": "3.6.6"
  },
  "toc": {
   "base_numbering": 1,
   "nav_menu": {},
   "number_sections": true,
   "sideBar": true,
   "skip_h1_title": false,
   "title_cell": "Table of Contents",
   "title_sidebar": "Contents",
   "toc_cell": false,
   "toc_position": {},
   "toc_section_display": true,
   "toc_window_display": false
  }
 },
 "nbformat": 4,
 "nbformat_minor": 1
}
