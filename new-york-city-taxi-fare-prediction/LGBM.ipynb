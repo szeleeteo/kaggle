{
 "cells": [
  {
   "cell_type": "code",
   "execution_count": 1,
   "metadata": {
    "_uuid": "32b1fe03ade53015f6783d6f76c68c1ba841685e"
   },
   "outputs": [],
   "source": [
    "import numpy as np\n",
    "import pandas as pd\n",
    "import gc\n",
    "\n",
    "# Modeling\n",
    "import lightgbm as lgb\n",
    "from sklearn.model_selection import train_test_split\n",
    "from sklearn import metrics\n",
    "from sklearn.metrics import mean_squared_error\n",
    "from sklearn.model_selection import KFold\n",
    "\n",
    "# Visualization\n",
    "import matplotlib.pyplot as plt\n",
    "%matplotlib inline"
   ]
  },
  {
   "cell_type": "code",
   "execution_count": 2,
   "metadata": {},
   "outputs": [],
   "source": [
    "TRAIN_DATA = 'tmp/taxi-train-v8-Baseline'\n",
    "TEST_DATA = 'tmp/taxi-test-v8-Baseline'\n",
    "TEST_CSV = 'data/nyc-taxi/test.csv'"
   ]
  },
  {
   "cell_type": "markdown",
   "metadata": {},
   "source": [
    "# Load data"
   ]
  },
  {
   "cell_type": "code",
   "execution_count": 3,
   "metadata": {},
   "outputs": [],
   "source": [
    "train_df = pd.read_feather(TRAIN_DATA)\n",
    "test_df = pd.read_feather(TEST_DATA)\n",
    "test_key = pd.read_csv(TEST_CSV, usecols=['key'])"
   ]
  },
  {
   "cell_type": "code",
   "execution_count": null,
   "metadata": {},
   "outputs": [],
   "source": [
    "train_df.shape, test_df.shape, test_key.shape"
   ]
  },
  {
   "cell_type": "code",
   "execution_count": null,
   "metadata": {},
   "outputs": [],
   "source": [
    "y_train = train_df['fare_amount'].values\n",
    "X_train = train_df.drop('fare_amount', axis=1)"
   ]
  },
  {
   "cell_type": "code",
   "execution_count": null,
   "metadata": {},
   "outputs": [],
   "source": [
    "X_train.shape, y_train.shape"
   ]
  },
  {
   "cell_type": "code",
   "execution_count": null,
   "metadata": {},
   "outputs": [],
   "source": [
    "trainshape = X_train.shape\n",
    "testshape = test_df.shape"
   ]
  },
  {
   "cell_type": "code",
   "execution_count": null,
   "metadata": {},
   "outputs": [],
   "source": [
    "print(\"Does Train feature equal test feature?: \", all(X_train.columns == test_df.columns))"
   ]
  },
  {
   "cell_type": "markdown",
   "metadata": {
    "_uuid": "c68833e7d1151f75db5100c12cd02c30103d1ee0",
    "collapsed": true
   },
   "source": [
    "## Modeling with LGBM"
   ]
  },
  {
   "cell_type": "code",
   "execution_count": null,
   "metadata": {
    "_uuid": "d26bf69119697167ab000b8abac2ead16a52f18a"
   },
   "outputs": [],
   "source": [
    "dtrain = lgb.Dataset(X_train, label=y_train, free_raw_data=False)"
   ]
  },
  {
   "cell_type": "code",
   "execution_count": null,
   "metadata": {
    "_uuid": "87666ffd1c50913abe945539affc29fcd9a03d3b"
   },
   "outputs": [],
   "source": [
    "print(\"Light Gradient Boosting Regressor: \")\n",
    "\n",
    "lgbm_params =  {\n",
    "    'task': 'train',\n",
    "    'boosting_type': 'gbdt',\n",
    "    'objective': 'regression',\n",
    "    'metric': 'rmse'\n",
    "                }"
   ]
  },
  {
   "cell_type": "code",
   "execution_count": null,
   "metadata": {
    "_uuid": "87666ffd1c50913abe945539affc29fcd9a03d3b"
   },
   "outputs": [],
   "source": [
    "folds = KFold(n_splits=5, shuffle=True, random_state=1)\n",
    "fold_preds = np.zeros(testshape[0])\n",
    "oof_preds = np.zeros(trainshape[0])\n",
    "dtrain.construct()"
   ]
  },
  {
   "cell_type": "code",
   "execution_count": null,
   "metadata": {
    "_uuid": "87666ffd1c50913abe945539affc29fcd9a03d3b"
   },
   "outputs": [],
   "source": [
    "%%time\n",
    "for trn_idx, val_idx in folds.split(X_train):\n",
    "    \n",
    "    clf = lgb.train(\n",
    "        params=lgbm_params,\n",
    "        train_set=dtrain.subset(trn_idx),\n",
    "        valid_sets=dtrain.subset(val_idx),\n",
    "        num_boost_round=3500, \n",
    "        early_stopping_rounds=125,\n",
    "        verbose_eval=500\n",
    "    )\n",
    "    oof_preds[val_idx] = clf.predict(dtrain.data.iloc[val_idx])\n",
    "    fold_preds += clf.predict(test_df) / folds.n_splits\n",
    "    \n",
    "    print(mean_squared_error(y_train.iloc[val_idx], oof_preds[val_idx]) ** .5)"
   ]
  },
  {
   "cell_type": "code",
   "execution_count": null,
   "metadata": {
    "_uuid": "4c574655ba4903afa3fdebe8df9b823051d4b649"
   },
   "outputs": [],
   "source": [
    "lgsub = pd.DataFrame(fold_preds,columns=[\"fare_amount\"],index=test_key)\n",
    "lgsub.to_csv(\"lgsub.csv\",index=True,header=True)\n",
    "lgsub.head()"
   ]
  }
 ],
 "metadata": {
  "kernelspec": {
   "display_name": "Python (tf)",
   "language": "python",
   "name": "tf"
  },
  "language_info": {
   "codemirror_mode": {
    "name": "ipython",
    "version": 3
   },
   "file_extension": ".py",
   "mimetype": "text/x-python",
   "name": "python",
   "nbconvert_exporter": "python",
   "pygments_lexer": "ipython3",
   "version": "3.6.6"
  },
  "toc": {
   "base_numbering": 1,
   "nav_menu": {},
   "number_sections": true,
   "sideBar": true,
   "skip_h1_title": false,
   "title_cell": "Table of Contents",
   "title_sidebar": "Contents",
   "toc_cell": false,
   "toc_position": {},
   "toc_section_display": true,
   "toc_window_display": false
  }
 },
 "nbformat": 4,
 "nbformat_minor": 1
}
