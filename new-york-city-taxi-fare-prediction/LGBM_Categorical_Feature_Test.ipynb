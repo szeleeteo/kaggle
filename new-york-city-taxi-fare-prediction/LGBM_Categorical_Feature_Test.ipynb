{
 "cells": [
  {
   "cell_type": "code",
   "execution_count": 9,
   "metadata": {},
   "outputs": [],
   "source": [
    "%matplotlib inline\n",
    "%reload_ext autoreload\n",
    "%autoreload 2"
   ]
  },
  {
   "cell_type": "code",
   "execution_count": 10,
   "metadata": {},
   "outputs": [],
   "source": [
    "import lightgbm as lgb\n",
    "import numpy as np\n",
    "import pandas as pd"
   ]
  },
  {
   "cell_type": "code",
   "execution_count": 3,
   "metadata": {
    "scrolled": true
   },
   "outputs": [],
   "source": [
    "n = 100\n",
    "# construct an example in which the y-value is just the parity of the first column of X\n",
    "X = np.array([np.random.randint(0,10, size=n), np.random.normal(size=n)]).transpose()"
   ]
  },
  {
   "cell_type": "code",
   "execution_count": 4,
   "metadata": {},
   "outputs": [],
   "source": [
    "y = X[:,0]%2"
   ]
  },
  {
   "cell_type": "code",
   "execution_count": 5,
   "metadata": {
    "scrolled": true
   },
   "outputs": [
    {
     "name": "stdout",
     "output_type": "stream",
     "text": [
      "[1]\ttraining's rmse: 0.497432\n",
      "[2]\ttraining's rmse: 0.495668\n",
      "[3]\ttraining's rmse: 0.494236\n",
      "[4]\ttraining's rmse: 0.493072\n",
      "[5]\ttraining's rmse: 0.492127\n",
      "[6]\ttraining's rmse: 0.491188\n",
      "[7]\ttraining's rmse: 0.490417\n",
      "[8]\ttraining's rmse: 0.489644\n",
      "[9]\ttraining's rmse: 0.489003\n",
      "[10]\ttraining's rmse: 0.488483\n"
     ]
    },
    {
     "name": "stderr",
     "output_type": "stream",
     "text": [
      "C:\\Users\\szelee\\Anaconda3\\envs\\tf\\lib\\site-packages\\lightgbm\\basic.py:1040: UserWarning: Using categorical_feature in Dataset.\n",
      "  warnings.warn('Using categorical_feature in Dataset.')\n"
     ]
    }
   ],
   "source": [
    "# 1. train, stipulating that the first column is categorical\n",
    "ds = lgb.Dataset(X, y, categorical_feature=[0])\n",
    "params = {'objective':'regression_l2',  'metric':'rmse'}\n",
    "gbm = lgb.train(params, ds,num_boost_round=10, valid_sets=[ds])"
   ]
  },
  {
   "cell_type": "code",
   "execution_count": 6,
   "metadata": {},
   "outputs": [
    {
     "name": "stdout",
     "output_type": "stream",
     "text": [
      "[1]\ttraining's rmse: 0.494252\n",
      "[2]\ttraining's rmse: 0.489878\n",
      "[3]\ttraining's rmse: 0.486306\n",
      "[4]\ttraining's rmse: 0.483393\n",
      "[5]\ttraining's rmse: 0.481121\n",
      "[6]\ttraining's rmse: 0.478139\n",
      "[7]\ttraining's rmse: 0.47605\n",
      "[8]\ttraining's rmse: 0.47327\n",
      "[9]\ttraining's rmse: 0.470799\n",
      "[10]\ttraining's rmse: 0.468565\n"
     ]
    }
   ],
   "source": [
    "# 2. training, except we don't set anything as categorical.  Exact same as #1.\n",
    "ds = lgb.Dataset(X, y)\n",
    "params = {'objective':'regression_l2',  'metric':'rmse'}\n",
    "gbm = lgb.train(params, ds,num_boost_round=10, valid_sets=[ds])"
   ]
  },
  {
   "cell_type": "code",
   "execution_count": 7,
   "metadata": {},
   "outputs": [
    {
     "name": "stdout",
     "output_type": "stream",
     "text": [
      "[1]\ttraining's rmse: 0.497432\n",
      "[2]\ttraining's rmse: 0.495668\n",
      "[3]\ttraining's rmse: 0.494236\n",
      "[4]\ttraining's rmse: 0.493072\n",
      "[5]\ttraining's rmse: 0.492127\n",
      "[6]\ttraining's rmse: 0.491188\n",
      "[7]\ttraining's rmse: 0.490417\n",
      "[8]\ttraining's rmse: 0.489644\n",
      "[9]\ttraining's rmse: 0.489003\n",
      "[10]\ttraining's rmse: 0.488483\n"
     ]
    }
   ],
   "source": [
    "#3. now, set the categorical_feature in train().  This gives a different output than above.\n",
    "ds = lgb.Dataset(X, y, categorical_feature=[0])\n",
    "params = {'objective':'regression_l2',  'metric':'rmse'}\n",
    "gbm = lgb.train(params, ds,num_boost_round=10, valid_sets=[ds], categorical_feature=[0])"
   ]
  },
  {
   "cell_type": "code",
   "execution_count": 8,
   "metadata": {},
   "outputs": [
    {
     "name": "stdout",
     "output_type": "stream",
     "text": [
      "[1]\ttraining's rmse: 0.497432\n",
      "[2]\ttraining's rmse: 0.495668\n",
      "[3]\ttraining's rmse: 0.494236\n",
      "[4]\ttraining's rmse: 0.493072\n",
      "[5]\ttraining's rmse: 0.492127\n",
      "[6]\ttraining's rmse: 0.491188\n",
      "[7]\ttraining's rmse: 0.490417\n",
      "[8]\ttraining's rmse: 0.489644\n",
      "[9]\ttraining's rmse: 0.489003\n",
      "[10]\ttraining's rmse: 0.488483\n"
     ]
    },
    {
     "name": "stderr",
     "output_type": "stream",
     "text": [
      "C:\\Users\\szelee\\Anaconda3\\envs\\tf\\lib\\site-packages\\lightgbm\\basic.py:1042: UserWarning: categorical_feature in Dataset is overridden. New categorical_feature is [0]\n",
      "  warnings.warn('categorical_feature in Dataset is overridden. New categorical_feature is {}'.format(sorted(list(categorical_feature))))\n"
     ]
    }
   ],
   "source": [
    "# 4. what if we don't bother with categorical_feature in the lgb.Dataset definition?  \n",
    "#     same thing as #3.\n",
    "ds = lgb.Dataset(X, y)\n",
    "params = {'objective':'regression_l2',  'metric':'rmse'}\n",
    "gbm = lgb.train(params, ds,num_boost_round=10, valid_sets=[ds], categorical_feature=[0])"
   ]
  },
  {
   "cell_type": "code",
   "execution_count": 12,
   "metadata": {},
   "outputs": [],
   "source": [
    "X = np.random.randint(1,10,(4,4))"
   ]
  },
  {
   "cell_type": "code",
   "execution_count": 13,
   "metadata": {},
   "outputs": [
    {
     "data": {
      "text/plain": [
       "array([[7, 4, 3, 7],\n",
       "       [9, 5, 5, 3],\n",
       "       [9, 9, 6, 5],\n",
       "       [7, 7, 6, 5]])"
      ]
     },
     "execution_count": 13,
     "metadata": {},
     "output_type": "execute_result"
    }
   ],
   "source": [
    "X"
   ]
  },
  {
   "cell_type": "code",
   "execution_count": 14,
   "metadata": {},
   "outputs": [
    {
     "data": {
      "text/plain": [
       "array([9, 5, 5, 3])"
      ]
     },
     "execution_count": 14,
     "metadata": {},
     "output_type": "execute_result"
    }
   ],
   "source": [
    "X[1]"
   ]
  },
  {
   "cell_type": "code",
   "execution_count": 15,
   "metadata": {},
   "outputs": [],
   "source": [
    "idx = [0,3]"
   ]
  },
  {
   "cell_type": "code",
   "execution_count": 16,
   "metadata": {},
   "outputs": [
    {
     "data": {
      "text/plain": [
       "array([[7, 4, 3, 7],\n",
       "       [7, 7, 6, 5]])"
      ]
     },
     "execution_count": 16,
     "metadata": {},
     "output_type": "execute_result"
    }
   ],
   "source": [
    "X[idx]"
   ]
  },
  {
   "cell_type": "code",
   "execution_count": null,
   "metadata": {},
   "outputs": [],
   "source": []
  }
 ],
 "metadata": {
  "kernelspec": {
   "display_name": "Python (tf)",
   "language": "python",
   "name": "tf"
  },
  "language_info": {
   "codemirror_mode": {
    "name": "ipython",
    "version": 3
   },
   "file_extension": ".py",
   "mimetype": "text/x-python",
   "name": "python",
   "nbconvert_exporter": "python",
   "pygments_lexer": "ipython3",
   "version": "3.6.6"
  },
  "toc": {
   "base_numbering": 1,
   "nav_menu": {},
   "number_sections": true,
   "sideBar": true,
   "skip_h1_title": false,
   "title_cell": "Table of Contents",
   "title_sidebar": "Contents",
   "toc_cell": false,
   "toc_position": {},
   "toc_section_display": true,
   "toc_window_display": false
  }
 },
 "nbformat": 4,
 "nbformat_minor": 2
}
