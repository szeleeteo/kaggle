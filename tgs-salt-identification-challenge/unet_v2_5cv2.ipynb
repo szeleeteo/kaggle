{
 "cells": [
  {
   "cell_type": "raw",
   "metadata": {},
   "source": [
    "5-fold\n",
    "lr augm\n",
    "remove 1-10pixels"
   ]
  },
  {
   "cell_type": "markdown",
   "metadata": {},
   "source": [
    "# Import Dependencies"
   ]
  },
  {
   "cell_type": "code",
   "execution_count": 1,
   "metadata": {
    "_cell_guid": "b1076dfc-b9ad-4769-8c92-a6c4dae69d19",
    "_uuid": "8f2839f25d086af736a60e9eeb907d3b93b6e0e5"
   },
   "outputs": [
    {
     "name": "stderr",
     "output_type": "stream",
     "text": [
      "Using TensorFlow backend.\n"
     ]
    }
   ],
   "source": [
    "import os\n",
    "import sys\n",
    "import random\n",
    "import numpy as np\n",
    "import pandas as pd\n",
    "import matplotlib.pyplot as plt\n",
    "plt.style.use('seaborn-white')\n",
    "import seaborn as sns\n",
    "sns.set_style('white')\n",
    "\n",
    "%matplotlib inline\n",
    "\n",
    "from sklearn.model_selection import train_test_split\n",
    "from sklearn.model_selection import StratifiedKFold\n",
    "\n",
    "from tqdm import tqdm_notebook\n",
    "\n",
    "from skimage.io import imread, imshow\n",
    "from skimage.transform import resize\n",
    "from skimage.morphology import label\n",
    "\n",
    "from keras.models import Model, load_model, save_model\n",
    "from keras.layers import Input, Dropout, BatchNormalization, Activation, Add\n",
    "from keras.layers.core import Lambda\n",
    "from keras.layers.convolutional import Conv2D, Conv2DTranspose\n",
    "from keras.layers.pooling import MaxPooling2D\n",
    "from keras.layers.merge import concatenate\n",
    "from keras.callbacks import EarlyStopping, ModelCheckpoint, ReduceLROnPlateau\n",
    "from keras import backend as K\n",
    "from keras import optimizers\n",
    "import tensorflow as tf\n",
    "from keras.preprocessing.image import array_to_img, img_to_array, load_img\n",
    "\n",
    "import time\n",
    "t_start = time.time()"
   ]
  },
  {
   "cell_type": "code",
   "execution_count": 2,
   "metadata": {},
   "outputs": [
    {
     "name": "stdout",
     "output_type": "stream",
     "text": [
      "1.10.1\n"
     ]
    }
   ],
   "source": [
    "print(tf.__version__)"
   ]
  },
  {
   "cell_type": "markdown",
   "metadata": {},
   "source": [
    "# Pre-process Data"
   ]
  },
  {
   "cell_type": "code",
   "execution_count": 3,
   "metadata": {},
   "outputs": [],
   "source": [
    "DATA_DIR = 'data/salt/'"
   ]
  },
  {
   "cell_type": "code",
   "execution_count": 4,
   "metadata": {},
   "outputs": [],
   "source": [
    "cv_total = 5\n",
    "cv_index = 2  # 0,1,2,3,4"
   ]
  },
  {
   "cell_type": "code",
   "execution_count": 5,
   "metadata": {
    "_cell_guid": "79c7e3d0-c299-4dcb-8224-4455121ee9b0",
    "_uuid": "d629ff2d2480ee46fbb7e2d37f6b5fab8052498a"
   },
   "outputs": [
    {
     "name": "stdout",
     "output_type": "stream",
     "text": [
      "unet_v2_5A_cv2.model\n",
      "unet_v2_5B_cv2.model\n",
      "unet_v2_5_cv2.csv\n"
     ]
    }
   ],
   "source": [
    "version = 5\n",
    "basic_name = f'unet_v2_{version}'\n",
    "save_model_name = basic_name + 'A_cv' + str(cv_index) + '.model'\n",
    "save_model_nameB = basic_name + 'B_cv' + str(cv_index) + '.model'\n",
    "submission_file = basic_name + '_cv' + str(cv_index) + '.csv'\n",
    "\n",
    "print(save_model_name)\n",
    "print(save_model_nameB)\n",
    "print(submission_file)"
   ]
  },
  {
   "cell_type": "code",
   "execution_count": 6,
   "metadata": {
    "_uuid": "4a7f9e82027f04b17b56c177a1831abf25abe2c8"
   },
   "outputs": [],
   "source": [
    "img_size_ori = 101\n",
    "img_size_target = 101\n",
    "\n",
    "def upsample(img):# not used\n",
    "    if img_size_ori == img_size_target:\n",
    "        return img\n",
    "    return resize(img, (img_size_target, img_size_target), mode='constant', preserve_range=True)\n",
    "    \n",
    "def downsample(img):# not used\n",
    "    if img_size_ori == img_size_target:\n",
    "        return img\n",
    "    return resize(img, (img_size_ori, img_size_ori), mode='constant', preserve_range=True)"
   ]
  },
  {
   "cell_type": "code",
   "execution_count": 7,
   "metadata": {
    "_uuid": "419fa6e1ad5218241f08f954453fa3899de8e2e7"
   },
   "outputs": [
    {
     "data": {
      "text/plain": [
       "4000"
      ]
     },
     "execution_count": 7,
     "metadata": {},
     "output_type": "execute_result"
    }
   ],
   "source": [
    "# Loading of training/testing ids and depths\n",
    "train_df = pd.read_csv(f\"{DATA_DIR}train.csv\", index_col=\"id\", usecols=[0])\n",
    "depths_df = pd.read_csv(f\"{DATA_DIR}depths.csv\", index_col=\"id\")\n",
    "train_df = train_df.join(depths_df)\n",
    "test_df = depths_df[~depths_df.index.isin(train_df.index)]\n",
    "\n",
    "len(train_df)"
   ]
  },
  {
   "cell_type": "code",
   "execution_count": 8,
   "metadata": {
    "_uuid": "fc276e696e66de8ab00b68dce1863fa55eb5023d"
   },
   "outputs": [
    {
     "data": {
      "application/vnd.jupyter.widget-view+json": {
       "model_id": "fd483d474b8c4155b66726ff741b26d1",
       "version_major": 2,
       "version_minor": 0
      },
      "text/plain": [
       "HBox(children=(IntProgress(value=0, max=4000), HTML(value='')))"
      ]
     },
     "metadata": {},
     "output_type": "display_data"
    },
    {
     "name": "stdout",
     "output_type": "stream",
     "text": [
      "\n"
     ]
    }
   ],
   "source": [
    "train_df[\"images\"] = [np.array(load_img(f\"{DATA_DIR}train/images/{idx}.png\", color_mode='grayscale')) / 255 for idx in tqdm_notebook(train_df.index)]"
   ]
  },
  {
   "cell_type": "code",
   "execution_count": 9,
   "metadata": {
    "_uuid": "a2339c6c3b81280839f05269b2314be4541fa5c4"
   },
   "outputs": [
    {
     "data": {
      "application/vnd.jupyter.widget-view+json": {
       "model_id": "c887676e97e042ec862bccb350f19550",
       "version_major": 2,
       "version_minor": 0
      },
      "text/plain": [
       "HBox(children=(IntProgress(value=0, max=4000), HTML(value='')))"
      ]
     },
     "metadata": {},
     "output_type": "display_data"
    },
    {
     "name": "stdout",
     "output_type": "stream",
     "text": [
      "\n"
     ]
    }
   ],
   "source": [
    "train_df[\"masks\"] = [np.array(load_img(f\"{DATA_DIR}train/masks/{idx}.png\", color_mode='grayscale')) / 255 for idx in tqdm_notebook(train_df.index)]"
   ]
  },
  {
   "cell_type": "code",
   "execution_count": 10,
   "metadata": {
    "_uuid": "cbacf34c7506a867795260a9c615cb4427d62c2d"
   },
   "outputs": [],
   "source": [
    "train_df[\"coverage\"] = train_df.masks.map(np.sum) / pow(img_size_ori, 2)\n",
    "\n",
    "def cov_to_class(val):    \n",
    "    for i in range(0, 11):\n",
    "        if val * 10 <= i :\n",
    "            return i\n",
    "        \n",
    "train_df[\"coverage_class\"] = train_df.coverage.map(cov_to_class)"
   ]
  },
  {
   "cell_type": "code",
   "execution_count": 11,
   "metadata": {
    "_uuid": "c535341361ea08ec77f6821719b7045f308895d3"
   },
   "outputs": [
    {
     "data": {
      "text/plain": [
       "Text(0.5, 0, 'Coverage class')"
      ]
     },
     "execution_count": 11,
     "metadata": {},
     "output_type": "execute_result"
    },
    {
     "data": {
      "image/png": "[encoded data removed]",
      "text/plain": [
       "<Figure size 1080x360 with 2 Axes>"
      ]
     },
     "metadata": {
      "needs_background": "light"
     },
     "output_type": "display_data"
    }
   ],
   "source": [
    "fig, axs = plt.subplots(1, 2, figsize=(15,5))\n",
    "sns.distplot(train_df.coverage, kde=False, ax=axs[0])\n",
    "sns.distplot(train_df.coverage_class, bins=10, kde=False, ax=axs[1])\n",
    "plt.suptitle(\"Salt coverage\")\n",
    "axs[0].set_xlabel(\"Coverage\")\n",
    "axs[1].set_xlabel(\"Coverage class\")"
   ]
  },
  {
   "cell_type": "code",
   "execution_count": 12,
   "metadata": {
    "_uuid": "d150fb85dd998ab4dd241c66e52d247ab667dce0"
   },
   "outputs": [
    {
     "data": {
      "text/plain": [
       "Text(0.5, 1.0, 'Depth distribution')"
      ]
     },
     "execution_count": 12,
     "metadata": {},
     "output_type": "execute_result"
    },
    {
     "data": {
      "image/png": "[encoded data removed]",
      "text/plain": [
       "<Figure size 432x288 with 1 Axes>"
      ]
     },
     "metadata": {
      "needs_background": "light"
     },
     "output_type": "display_data"
    }
   ],
   "source": [
    "# Plotting the depth distributions\n",
    "\n",
    "sns.distplot(train_df.z, label=\"Train\")\n",
    "sns.distplot(test_df.z, label=\"Test\")\n",
    "plt.legend()\n",
    "plt.title(\"Depth distribution\")"
   ]
  },
  {
   "cell_type": "markdown",
   "metadata": {},
   "source": [
    "# Split Data"
   ]
  },
  {
   "cell_type": "code",
   "execution_count": 13,
   "metadata": {
    "_uuid": "2ea5c45300c08b06c60548dd09831cff38878551"
   },
   "outputs": [],
   "source": [
    "# # Create train/validation split stratified by salt coverage\n",
    "# ids_train, ids_valid, x_train, x_valid, y_train, y_valid, cov_train, cov_test, depth_train, depth_test = \\\n",
    "# train_test_split(train_df.index.values, \n",
    "#                  np.array(train_df.images.map(upsample).tolist()).reshape(-1, img_size_target, img_size_target, 1),\n",
    "#                  np.array(train_df.masks.map(upsample).tolist()).reshape(-1, img_size_target, img_size_target, 1),\n",
    "#                  train_df.coverage.values, \n",
    "#                  train_df.z.values, \n",
    "#                  test_size=0.2, stratify=train_df.coverage_class, random_state=555)"
   ]
  },
  {
   "cell_type": "code",
   "execution_count": 14,
   "metadata": {},
   "outputs": [
    {
     "name": "stdout",
     "output_type": "stream",
     "text": [
      "(3196,) (804,)\n",
      "(3199,) (801,)\n",
      "(3200,) (800,)\n",
      "(3201,) (799,)\n",
      "(3204,) (796,)\n"
     ]
    }
   ],
   "source": [
    "train_all = []\n",
    "evaluate_all = []\n",
    "skf = StratifiedKFold(n_splits=cv_total, random_state=555, shuffle=True)\n",
    "\n",
    "for train_index, evaluate_index in skf.split(train_df.index.values, train_df.coverage_class):\n",
    "    train_all.append(train_index)\n",
    "    evaluate_all.append(evaluate_index)\n",
    "    print(train_index.shape, evaluate_index.shape) # the shape is slightly different in different cv, it's OK"
   ]
  },
  {
   "cell_type": "code",
   "execution_count": 15,
   "metadata": {},
   "outputs": [],
   "source": [
    "def get_cv_data(cv_index):\n",
    "    train_index = train_all[cv_index-1]\n",
    "    evaluate_index = evaluate_all[cv_index-1]\n",
    "    x_train = np.array(train_df.images[train_index].map(upsample).tolist()).reshape(-1, img_size_target, img_size_target, 1)\n",
    "    y_train = np.array(train_df.masks[train_index].map(upsample).tolist()).reshape(-1, img_size_target, img_size_target, 1)\n",
    "    x_valid = np.array(train_df.images[evaluate_index].map(upsample).tolist()).reshape(-1, img_size_target, img_size_target, 1)\n",
    "    y_valid = np.array(train_df.masks[evaluate_index].map(upsample).tolist()).reshape(-1, img_size_target, img_size_target, 1)\n",
    "    return x_train,y_train,x_valid,y_valid"
   ]
  },
  {
   "cell_type": "code",
   "execution_count": 16,
   "metadata": {},
   "outputs": [],
   "source": [
    "x_train, y_train, x_valid, y_valid =  get_cv_data(cv_index+1)    "
   ]
  },
  {
   "cell_type": "code",
   "execution_count": 17,
   "metadata": {},
   "outputs": [
    {
     "data": {
      "text/plain": [
       "array([0.44313725])"
      ]
     },
     "execution_count": 17,
     "metadata": {},
     "output_type": "execute_result"
    }
   ],
   "source": [
    "x_train[5,5,5]"
   ]
  },
  {
   "cell_type": "raw",
   "metadata": {},
   "source": [
    "x_train[5,5,5] = \n",
    "array([0.61176471])        cv=0\n",
    "array([0.38039216])        cv=1\n",
    "array([0.44313725])        cv=2\n",
    "array([]) cv=3\n",
    "array([]) cv=4"
   ]
  },
  {
   "cell_type": "code",
   "execution_count": 18,
   "metadata": {},
   "outputs": [
    {
     "data": {
      "text/plain": [
       "(3200, 3200)"
      ]
     },
     "execution_count": 18,
     "metadata": {},
     "output_type": "execute_result"
    }
   ],
   "source": [
    "len(x_train), len(y_train)"
   ]
  },
  {
   "cell_type": "code",
   "execution_count": 19,
   "metadata": {},
   "outputs": [
    {
     "data": {
      "text/plain": [
       "(3200, 3200)"
      ]
     },
     "execution_count": 19,
     "metadata": {},
     "output_type": "execute_result"
    }
   ],
   "source": [
    "len(x_train), len(y_train)"
   ]
  },
  {
   "cell_type": "code",
   "execution_count": 20,
   "metadata": {},
   "outputs": [],
   "source": [
    "# boolean mask for mask with either all black pixel or at least 20 pixels\n",
    "thres = 10\n",
    "y_mask = np.squeeze((y_train.sum(axis=1).sum(axis=1)>=thres) | (y_train.sum(axis=1).sum(axis=1)==0))"
   ]
  },
  {
   "cell_type": "code",
   "execution_count": 21,
   "metadata": {},
   "outputs": [
    {
     "data": {
      "text/plain": [
       "36"
      ]
     },
     "execution_count": 21,
     "metadata": {},
     "output_type": "execute_result"
    }
   ],
   "source": [
    "# sample to remove\n",
    "len(y_train)-y_mask.sum()"
   ]
  },
  {
   "cell_type": "code",
   "execution_count": 22,
   "metadata": {},
   "outputs": [],
   "source": [
    "x_train = x_train[y_mask]\n",
    "y_train = y_train[y_mask]"
   ]
  },
  {
   "cell_type": "code",
   "execution_count": 23,
   "metadata": {},
   "outputs": [
    {
     "data": {
      "text/plain": [
       "(3164, 3164)"
      ]
     },
     "execution_count": 23,
     "metadata": {},
     "output_type": "execute_result"
    }
   ],
   "source": [
    "len(x_train), len(y_train)"
   ]
  },
  {
   "cell_type": "code",
   "execution_count": 24,
   "metadata": {},
   "outputs": [
    {
     "data": {
      "text/plain": [
       "3164"
      ]
     },
     "execution_count": 24,
     "metadata": {},
     "output_type": "execute_result"
    }
   ],
   "source": [
    "x_train_orig_len = len(x_train)\n",
    "x_train_orig_len"
   ]
  },
  {
   "cell_type": "code",
   "execution_count": 25,
   "metadata": {},
   "outputs": [
    {
     "data": {
      "text/plain": [
       "(800, 800)"
      ]
     },
     "execution_count": 25,
     "metadata": {},
     "output_type": "execute_result"
    }
   ],
   "source": [
    "# only remove train, do not remove validation\n",
    "len(x_valid), len(y_valid)"
   ]
  },
  {
   "cell_type": "markdown",
   "metadata": {},
   "source": [
    "# Data augmentation"
   ]
  },
  {
   "cell_type": "code",
   "execution_count": 26,
   "metadata": {},
   "outputs": [],
   "source": [
    "def plot2x2Array(image, mask):\n",
    "    f, axarr = plt.subplots(1,2)\n",
    "    axarr[0].imshow(image, cmap=\"gray\")\n",
    "    axarr[1].imshow(mask, cmap=\"gray\")\n",
    "    axarr[0].grid(False)\n",
    "    axarr[1].grid(False)\n",
    "    axarr[0].set_title('Image')\n",
    "    axarr[1].set_title('Mask')"
   ]
  },
  {
   "cell_type": "code",
   "execution_count": 27,
   "metadata": {},
   "outputs": [
    {
     "data": {
      "image/png": "[encoded data removed]",
      "text/plain": [
       "<Figure size 432x288 with 2 Axes>"
      ]
     },
     "metadata": {
      "needs_background": "light"
     },
     "output_type": "display_data"
    }
   ],
   "source": [
    "i = 21\n",
    "plot2x2Array(x_train[i,:,:,0], y_train[i,:,:,0])"
   ]
  },
  {
   "cell_type": "code",
   "execution_count": 28,
   "metadata": {},
   "outputs": [],
   "source": [
    "from imgaug import augmenters as iaa\n",
    "import imgaug as ia\n",
    "\n",
    "sometimes = lambda aug: iaa.Sometimes(0.9, aug)"
   ]
  },
  {
   "cell_type": "code",
   "execution_count": 29,
   "metadata": {},
   "outputs": [],
   "source": [
    "affine_seq = iaa.Sequential(\n",
    "    [\n",
    "        iaa.Fliplr(0.5), # horizontally flip 50% of all images\n",
    "        # crop images by -5% to 10% of their height/width\n",
    "        sometimes(iaa.CropAndPad(\n",
    "            percent=(-0.05, 0.05),\n",
    "            pad_mode= 'symmetric',\n",
    "            pad_cval=(0, 1),\n",
    "        )),\n",
    "        sometimes(iaa.Affine(\n",
    "            scale={\"x\": (0.95, 1.05), \"y\": (0.95, 1.05)}, # scale images to 80-120% of their size, individually per axis\n",
    "            translate_percent={\"x\": (-0.05, 0.05), \"y\": (-0.05, 0.05)}, # translate by -20 to +20 percent (per axis)\n",
    "            shear=(-5, 5), # shear by -16 to +16 degrees\n",
    "            cval=(0, 1), # if mode is constant, use a cval between 0 and 255\n",
    "            mode='symmetric',\n",
    "        )),\n",
    "    \n",
    "], random_order=True)"
   ]
  },
  {
   "cell_type": "code",
   "execution_count": 30,
   "metadata": {},
   "outputs": [],
   "source": [
    "seq_det = affine_seq.to_deterministic()\n",
    "aug_img = seq_det.augment_image(x_train[i,:,:])\n",
    "aug_mask = seq_det.augment_image(y_train[i,:,:])"
   ]
  },
  {
   "cell_type": "code",
   "execution_count": 31,
   "metadata": {},
   "outputs": [],
   "source": [
    "# plot2x2Array(x_train[i,:,:,0], aug_img[:,:,0])\n",
    "# plot2x2Array(y_train[i,:,:,0], aug_mask[:,:,0])"
   ]
  },
  {
   "cell_type": "code",
   "execution_count": 32,
   "metadata": {},
   "outputs": [],
   "source": [
    "aug_mask = np.where(aug_mask[:,:,0] > 0.5, 1, 0)"
   ]
  },
  {
   "cell_type": "code",
   "execution_count": 33,
   "metadata": {},
   "outputs": [
    {
     "data": {
      "text/plain": [
       "array([0., 1.])"
      ]
     },
     "execution_count": 33,
     "metadata": {},
     "output_type": "execute_result"
    }
   ],
   "source": [
    "np.unique(y_train[i,:,:,0])"
   ]
  },
  {
   "cell_type": "code",
   "execution_count": 34,
   "metadata": {},
   "outputs": [
    {
     "data": {
      "text/plain": [
       "array([0, 1])"
      ]
     },
     "execution_count": 34,
     "metadata": {},
     "output_type": "execute_result"
    }
   ],
   "source": [
    "np.unique(aug_mask)"
   ]
  },
  {
   "cell_type": "code",
   "execution_count": 35,
   "metadata": {},
   "outputs": [],
   "source": [
    "# plot2x2Array(y_train[i,:,:,0], aug_mask)"
   ]
  },
  {
   "cell_type": "code",
   "execution_count": 36,
   "metadata": {},
   "outputs": [],
   "source": [
    "# x = x_train[21]\n",
    "# y = y_train[21]\n",
    "# print((x.shape),(y.shape))\n",
    "\n",
    "# seq_det = affine_seq.to_deterministic()\n",
    "# aug_img = seq_det.augment_image(x)\n",
    "# aug_mask = seq_det.augment_image(y)\n",
    "# aug_mask[:,:,0] = np.where(aug_mask[:,:,0] > 0.5, 1, 0)\n",
    "\n",
    "# print((aug_img.shape),(aug_mask.shape))\n",
    "# plot2x2Array(x[:,:,0], y[:,:,0])\n",
    "\n",
    "# plot2x2Array(aug_img[:,:,0], aug_mask[:,:,0])"
   ]
  },
  {
   "cell_type": "code",
   "execution_count": 37,
   "metadata": {},
   "outputs": [],
   "source": [
    "# x_aug_list=[]\n",
    "# y_aug_list=[]\n",
    "\n",
    "# for x,y in tqdm_notebook(zip(x_train, y_train)):\n",
    "#     seq_det = affine_seq.to_deterministic()\n",
    "    \n",
    "#     aug_img = seq_det.augment_image(x)\n",
    "#     aug_mask = seq_det.augment_image(y)\n",
    "#     aug_mask[:,:,0] = np.where(aug_mask[:,:,0] > 0.5, 1, 0)\n",
    "\n",
    "#     x_aug_list.append(aug_img)\n",
    "#     y_aug_list.append(aug_mask)"
   ]
  },
  {
   "cell_type": "code",
   "execution_count": 38,
   "metadata": {},
   "outputs": [],
   "source": [
    "x_train = np.append(x_train, [np.fliplr(x) for x in x_train], axis=0)\n",
    "y_train = np.append(y_train, [np.fliplr(x) for x in y_train], axis=0)"
   ]
  },
  {
   "cell_type": "code",
   "execution_count": 39,
   "metadata": {},
   "outputs": [],
   "source": [
    "# x_aug = np.array(x_aug_list)\n",
    "# y_aug = np.array(y_aug_list)"
   ]
  },
  {
   "cell_type": "code",
   "execution_count": 40,
   "metadata": {},
   "outputs": [],
   "source": [
    "# x_aug.shape"
   ]
  },
  {
   "cell_type": "code",
   "execution_count": 41,
   "metadata": {},
   "outputs": [],
   "source": [
    "# x_train = np.append(x_train, x_aug, axis=0)\n",
    "# y_train = np.append(y_train, y_aug, axis=0)"
   ]
  },
  {
   "cell_type": "code",
   "execution_count": 42,
   "metadata": {
    "_uuid": "3a4ffe206d6ea50da3d8ccb8ec8d219a2e6cca94"
   },
   "outputs": [
    {
     "name": "stdout",
     "output_type": "stream",
     "text": [
      "(6328, 101, 101, 1)\n",
      "(800, 101, 101, 1)\n"
     ]
    }
   ],
   "source": [
    "print(x_train.shape)\n",
    "print(y_valid.shape)"
   ]
  },
  {
   "cell_type": "code",
   "execution_count": 43,
   "metadata": {},
   "outputs": [],
   "source": [
    "# i = 188\n",
    "# plot2x2Array(x_train[i,:,:,0], y_train[i,:,:,0])"
   ]
  },
  {
   "cell_type": "code",
   "execution_count": 44,
   "metadata": {},
   "outputs": [],
   "source": [
    "# plot2x2Array(x_train[i+x_train_orig_len,:,:,0], y_train[i+x_train_orig_len,:,:,0])"
   ]
  },
  {
   "cell_type": "markdown",
   "metadata": {},
   "source": [
    "# Model Definitions"
   ]
  },
  {
   "cell_type": "code",
   "execution_count": 45,
   "metadata": {
    "_uuid": "92fe9e2757add49ffb55b4824aa3d833919efde5"
   },
   "outputs": [],
   "source": [
    "def BatchActivate(x):\n",
    "    x = BatchNormalization()(x)\n",
    "    x = Activation('relu')(x)\n",
    "    return x\n",
    "\n",
    "def convolution_block(x, filters, size, strides=(1,1), padding='same', activation=True):\n",
    "    x = Conv2D(filters, size, strides=strides, padding=padding)(x)\n",
    "    if activation==True: x = BatchActivate(x)\n",
    "    return x\n",
    "\n",
    "def residual_block(blockInput, num_filters=16, batch_activate=False):\n",
    "    x = BatchActivate(blockInput)\n",
    "    x = convolution_block(x, num_filters, (3,3))\n",
    "    x = convolution_block(x, num_filters, (3,3), activation=False)\n",
    "    x = Add()([x, blockInput])\n",
    "    if batch_activate: x = BatchActivate(x)\n",
    "    return x"
   ]
  },
  {
   "cell_type": "code",
   "execution_count": 46,
   "metadata": {
    "_uuid": "e9dfb108c78c80848dc4155a811dae46aec829f9"
   },
   "outputs": [],
   "source": [
    "# Build Model\n",
    "def build_model(input_layer, start_neurons, DropoutRatio=0.5):\n",
    "    # 101 -> 50\n",
    "    conv1 = Conv2D(start_neurons*1, (3,3), activation=None, padding='same')(input_layer)\n",
    "    conv1 = residual_block(conv1, start_neurons*1)\n",
    "    conv1 = residual_block(conv1, start_neurons*1, True)\n",
    "    pool1 = MaxPooling2D((2,2))(conv1)\n",
    "    pool1 = Dropout(DropoutRatio/2)(pool1)\n",
    "    \n",
    "    # 50 -> 25\n",
    "    conv2 = Conv2D(start_neurons*2, (3,3), activation=None, padding='same')(pool1)\n",
    "    conv2 = residual_block(conv2, start_neurons*2)\n",
    "    conv2 = residual_block(conv2, start_neurons*2, True)\n",
    "    pool2 = MaxPooling2D((2,2))(conv2)\n",
    "    pool2 = Dropout(DropoutRatio)(pool2)\n",
    "    \n",
    "    # 25 -> 12\n",
    "    conv3 = Conv2D(start_neurons*4, (3,3), activation=None, padding='same')(pool2)\n",
    "    conv3 = residual_block(conv3, start_neurons*4)\n",
    "    conv3 = residual_block(conv3, start_neurons*4, True)\n",
    "    pool3 = MaxPooling2D((2,2))(conv3)\n",
    "    pool3 = Dropout(DropoutRatio)(pool3)\n",
    "    \n",
    "    # 12 -> 6\n",
    "    conv4 = Conv2D(start_neurons*8, (3,3), activation=None, padding='same')(pool3)\n",
    "    conv4 = residual_block(conv4, start_neurons*8)\n",
    "    conv4 = residual_block(conv4, start_neurons*8, True)\n",
    "    pool4 = MaxPooling2D((2,2))(conv4)\n",
    "    pool4 = Dropout(DropoutRatio)(pool4)\n",
    "    \n",
    "    # Middle\n",
    "    convm = Conv2D(start_neurons*16, (3,3), activation=None, padding='same')(pool4)\n",
    "    convm = residual_block(convm, start_neurons*16)\n",
    "    convm = residual_block(convm, start_neurons*16, True)\n",
    "    \n",
    "    # 6 -> 12\n",
    "    deconv4 = Conv2DTranspose(start_neurons*8, (3,3), strides=(2,2), padding='same')(convm)\n",
    "    uconv4 = concatenate([deconv4, conv4])\n",
    "    uconv4 = Dropout(DropoutRatio)(uconv4)\n",
    "    \n",
    "    uconv4 = Conv2D(start_neurons*8, (3,3), activation=None, padding='same')(uconv4)\n",
    "    uconv4 = residual_block(uconv4, start_neurons*8)\n",
    "    uconv4 = residual_block(uconv4, start_neurons*8, True)\n",
    "    \n",
    "    # 12 -> 25\n",
    "    deconv3 = Conv2DTranspose(start_neurons*4, (3,3), strides=(2,2), padding='valid')(uconv4)\n",
    "    uconv3 = concatenate([deconv3, conv3])\n",
    "    uconv3 = Dropout(DropoutRatio)(uconv3)\n",
    "    \n",
    "    uconv3 = Conv2D(start_neurons*4, (3,3), activation=None, padding='same')(uconv3)\n",
    "    uconv3 = residual_block(uconv3, start_neurons*4)\n",
    "    uconv3 = residual_block(uconv3, start_neurons*4, True)\n",
    "    \n",
    "    # 25 -> 50\n",
    "    deconv2 = Conv2DTranspose(start_neurons*2, (3,3), strides=(2,2), padding='same')(uconv3)\n",
    "    uconv2 = concatenate([deconv2, conv2])\n",
    "    uconv2 = Dropout(DropoutRatio)(uconv2)\n",
    "    \n",
    "    uconv2 = Conv2D(start_neurons*2, (3,3), activation=None, padding='same')(uconv2)\n",
    "    uconv2 = residual_block(uconv2, start_neurons*2)\n",
    "    uconv2 = residual_block(uconv2, start_neurons*2, True)\n",
    "    \n",
    "    # 50 -> 101\n",
    "    deconv1 = Conv2DTranspose(start_neurons*1, (3,3), strides=(2,2), padding='valid')(uconv2)\n",
    "    uconv1 = concatenate([deconv1, conv1])\n",
    "    uconv1 = Dropout(DropoutRatio)(uconv1)\n",
    "    \n",
    "    uconv1 = Conv2D(start_neurons*1, (3,3), activation=None, padding='same')(uconv1)\n",
    "    uconv1 = residual_block(uconv1, start_neurons*1)\n",
    "    uconv1 = residual_block(uconv1, start_neurons*1, True)\n",
    "    \n",
    "    output_layer_noActi = Conv2D(1, (1,1), padding='same', activation=None)(uconv1)\n",
    "    output_layer = Activation('sigmoid')(output_layer_noActi)\n",
    "    \n",
    "    return output_layer"
   ]
  },
  {
   "cell_type": "markdown",
   "metadata": {},
   "source": [
    "# Metric Loss"
   ]
  },
  {
   "cell_type": "code",
   "execution_count": 47,
   "metadata": {
    "_uuid": "e4ee11d11d6a42da26b699cbf9ce5f005de91968"
   },
   "outputs": [],
   "source": [
    "def get_iou_vector(A, B):\n",
    "    batch_size = A.shape[0]\n",
    "    metric = []\n",
    "    for batch in range(batch_size):\n",
    "        t, p = A[batch]>0, B[batch]>0\n",
    "        intersection = np.logical_and(t, p)\n",
    "        union = np.logical_or(t, p)\n",
    "        iou = (np.sum(intersection > 0) + 1e-10 )/ (np.sum(union > 0) + 1e-10)\n",
    "        thresholds = np.arange(0.5, 1, 0.05)\n",
    "        s = []\n",
    "        for thresh in thresholds:\n",
    "            s.append(iou > thresh)\n",
    "        metric.append(np.mean(s))\n",
    "        \n",
    "    return np.mean(metric)\n",
    "\n",
    "def my_iou_metric(label, pred):\n",
    "    return tf.py_func(get_iou_vector, [label, pred>0.5], tf.float64)\n",
    "\n",
    "def my_iou_metric_2(label, pred):\n",
    "    return tf.py_func(get_iou_vector, [label, pred >0], tf.float64)"
   ]
  },
  {
   "cell_type": "code",
   "execution_count": 48,
   "metadata": {
    "_uuid": "72fdacfe6a31500522f7d4c6ba858120b93bc39d"
   },
   "outputs": [],
   "source": [
    "# code download from: https://github.com/bermanmaxim/LovaszSoftmax\n",
    "def lovasz_grad(gt_sorted):\n",
    "    \"\"\"\n",
    "    Computes gradient of the Lovasz extension w.r.t sorted errors\n",
    "    See Alg. 1 in paper\n",
    "    \"\"\"\n",
    "    gts = tf.reduce_sum(gt_sorted)\n",
    "    intersection = gts - tf.cumsum(gt_sorted)\n",
    "    union = gts + tf.cumsum(1. - gt_sorted)\n",
    "    jaccard = 1. - intersection / union\n",
    "    jaccard = tf.concat((jaccard[0:1], jaccard[1:] - jaccard[:-1]), 0)\n",
    "    return jaccard\n",
    "\n",
    "# --------------------------- BINARY LOSSES ---------------------------\n",
    "\n",
    "def lovasz_hinge(logits, labels, per_image=True, ignore=None):\n",
    "    \"\"\"\n",
    "    Binary Lovasz hinge loss\n",
    "      logits: [B, H, W] Variable, logits at each pixel (between -\\infty and +\\infty)\n",
    "      labels: [B, H, W] Tensor, binary ground truth masks (0 or 1)\n",
    "      per_image: compute the loss per image instead of per batch\n",
    "      ignore: void class id\n",
    "    \"\"\"\n",
    "    if per_image:\n",
    "        def treat_image(log_lab):\n",
    "            log, lab = log_lab\n",
    "            log, lab = tf.expand_dims(log, 0), tf.expand_dims(lab, 0)\n",
    "            log, lab = flatten_binary_scores(log, lab, ignore)\n",
    "            return lovasz_hinge_flat(log, lab)\n",
    "        losses = tf.map_fn(treat_image, (logits, labels), dtype=tf.float32)\n",
    "        loss = tf.reduce_mean(losses)\n",
    "    else:\n",
    "        loss = lovasz_hinge_flat(*flatten_binary_scores(logits, labels, ignore))\n",
    "    return loss\n",
    "\n",
    "def lovasz_hinge_flat(logits, labels):\n",
    "    \"\"\"\n",
    "    Binary Lovasz hinge loss\n",
    "      logits: [P] Variable, logits at each prediction (between -\\infty and +\\infty)\n",
    "      labels: [P] Tensor, binary ground truth labels (0 or 1)\n",
    "      ignore: label to ignore\n",
    "    \"\"\"\n",
    "\n",
    "    def compute_loss():\n",
    "        labelsf = tf.cast(labels, logits.dtype)\n",
    "        signs = 2. * labelsf - 1.\n",
    "        errors = 1. - logits * tf.stop_gradient(signs)\n",
    "        errors_sorted, perm = tf.nn.top_k(errors, k=tf.shape(errors)[0], name=\"descending_sort\")\n",
    "        gt_sorted = tf.gather(labelsf, perm)\n",
    "        grad = lovasz_grad(gt_sorted)\n",
    "        loss = tf.tensordot(tf.nn.elu(errors_sorted), tf.stop_gradient(grad), 1, name=\"loss_non_void\")\n",
    "        return loss\n",
    "\n",
    "    # deal with the void prediction case (only void pixels)\n",
    "    loss = tf.cond(tf.equal(tf.shape(logits)[0], 0),\n",
    "                   lambda: tf.reduce_sum(logits) * 0.,\n",
    "                   compute_loss,\n",
    "                   strict=True,\n",
    "                   name=\"loss\"\n",
    "                   )\n",
    "    return loss\n",
    "\n",
    "\n",
    "def flatten_binary_scores(scores, labels, ignore=None):\n",
    "    \"\"\"\n",
    "    Flattens predictions in the batch (binary case)\n",
    "    Remove labels equal to 'ignore'\n",
    "    \"\"\"\n",
    "    scores = tf.reshape(scores, (-1,))\n",
    "    labels = tf.reshape(labels, (-1,))\n",
    "    if ignore is None:\n",
    "        return scores, labels\n",
    "    valid = tf.not_equal(labels, ignore)\n",
    "    vscores = tf.boolean_mask(scores, valid, name='valid_scores')\n",
    "    vlabels = tf.boolean_mask(labels, valid, name='valid_labels')\n",
    "    return vscores, vlabels\n",
    "\n",
    "def lovasz_loss(y_true, y_pred):\n",
    "    y_true, y_pred = K.cast(K.squeeze(y_true, -1), 'int32'), K.cast(K.squeeze(y_pred, -1), 'float32')\n",
    "    #logits = K.log(y_pred / (1. - y_pred))\n",
    "    logits = y_pred #Jiaxin\n",
    "    loss = lovasz_hinge(logits, y_true, per_image = True, ignore = None)\n",
    "    return loss"
   ]
  },
  {
   "cell_type": "markdown",
   "metadata": {},
   "source": [
    "# Build Model"
   ]
  },
  {
   "cell_type": "code",
   "execution_count": 49,
   "metadata": {
    "_uuid": "a58d48a4974b7381a193615e54a828a211c92308"
   },
   "outputs": [],
   "source": [
    "input_layer = Input((img_size_target, img_size_target, 1))\n",
    "output_layer = build_model(input_layer, 16, 0.5)\n",
    "\n",
    "model1 = Model(input_layer, output_layer)"
   ]
  },
  {
   "cell_type": "code",
   "execution_count": 50,
   "metadata": {
    "_uuid": "a58d48a4974b7381a193615e54a828a211c92308"
   },
   "outputs": [],
   "source": [
    "epochs = 300\n",
    "batch_size = 64\n",
    "c = optimizers.Adam(lr=0.001)\n",
    "\n",
    "model1.compile(loss=\"binary_crossentropy\", optimizer=c, metrics=[my_iou_metric])\n",
    "\n",
    "# model1.summary()"
   ]
  },
  {
   "cell_type": "code",
   "execution_count": 51,
   "metadata": {
    "_uuid": "bd402f81e3d8e0aad30b7c63836cb9d488105cef"
   },
   "outputs": [],
   "source": [
    "early_stopping = EarlyStopping(monitor='val_my_iou_metric', mode='max', patience=21, verbose=1)\n",
    "model_checkpoint = ModelCheckpoint(save_model_name, monitor='val_my_iou_metric', mode='max', save_best_only=True, verbose=1)\n",
    "reduce_lr = ReduceLROnPlateau(monitor='val_my_iou_metric', mode='max', factor=0.5, patience=7, min_lr=0.00001, verbose=1)"
   ]
  },
  {
   "cell_type": "code",
   "execution_count": 52,
   "metadata": {
    "_uuid": "bd402f81e3d8e0aad30b7c63836cb9d488105cef",
    "scrolled": false
   },
   "outputs": [
    {
     "name": "stdout",
     "output_type": "stream",
     "text": [
      "Train on 6328 samples, validate on 800 samples\n",
      "Epoch 1/300\n",
      " - 89s - loss: 0.6462 - my_iou_metric: 0.1116 - val_loss: 0.5746 - val_my_iou_metric: 0.3425\n",
      "\n",
      "Epoch 00001: val_my_iou_metric improved from -inf to 0.34250, saving model to unet_v2_5A_cv2.model\n",
      "Epoch 2/300\n",
      " - 73s - loss: 0.4422 - my_iou_metric: 0.3469 - val_loss: 0.5189 - val_my_iou_metric: 0.2034\n",
      "\n",
      "Epoch 00002: val_my_iou_metric did not improve from 0.34250\n",
      "Epoch 3/300\n",
      " - 73s - loss: 0.3614 - my_iou_metric: 0.4798 - val_loss: 0.5863 - val_my_iou_metric: 0.1774\n",
      "\n",
      "Epoch 00003: val_my_iou_metric did not improve from 0.34250\n",
      "Epoch 4/300\n",
      " - 72s - loss: 0.3080 - my_iou_metric: 0.5235 - val_loss: 0.5933 - val_my_iou_metric: 0.2069\n",
      "\n",
      "Epoch 00004: val_my_iou_metric did not improve from 0.34250\n",
      "Epoch 5/300\n",
      " - 73s - loss: 0.2800 - my_iou_metric: 0.5543 - val_loss: 0.4007 - val_my_iou_metric: 0.4074\n",
      "\n",
      "Epoch 00005: val_my_iou_metric improved from 0.34250 to 0.40737, saving model to unet_v2_5A_cv2.model\n",
      "Epoch 6/300\n",
      " - 73s - loss: 0.2503 - my_iou_metric: 0.5626 - val_loss: 0.4441 - val_my_iou_metric: 0.4345\n",
      "\n",
      "Epoch 00006: val_my_iou_metric improved from 0.40737 to 0.43450, saving model to unet_v2_5A_cv2.model\n",
      "Epoch 7/300\n",
      " - 73s - loss: 0.2333 - my_iou_metric: 0.5854 - val_loss: 0.4581 - val_my_iou_metric: 0.3619\n",
      "\n",
      "Epoch 00007: val_my_iou_metric did not improve from 0.43450\n",
      "Epoch 8/300\n",
      " - 73s - loss: 0.2198 - my_iou_metric: 0.6034 - val_loss: 0.2787 - val_my_iou_metric: 0.4616\n",
      "\n",
      "Epoch 00008: val_my_iou_metric improved from 0.43450 to 0.46163, saving model to unet_v2_5A_cv2.model\n",
      "Epoch 9/300\n",
      " - 72s - loss: 0.2113 - my_iou_metric: 0.6146 - val_loss: 0.2436 - val_my_iou_metric: 0.6263\n",
      "\n",
      "Epoch 00009: val_my_iou_metric improved from 0.46163 to 0.62625, saving model to unet_v2_5A_cv2.model\n",
      "Epoch 10/300\n",
      " - 73s - loss: 0.1994 - my_iou_metric: 0.6201 - val_loss: 0.2296 - val_my_iou_metric: 0.5904\n",
      "\n",
      "Epoch 00010: val_my_iou_metric did not improve from 0.62625\n",
      "Epoch 11/300\n",
      " - 73s - loss: 0.1962 - my_iou_metric: 0.6353 - val_loss: 0.2341 - val_my_iou_metric: 0.6332\n",
      "\n",
      "Epoch 00011: val_my_iou_metric improved from 0.62625 to 0.63325, saving model to unet_v2_5A_cv2.model\n",
      "Epoch 12/300\n",
      " - 73s - loss: 0.1883 - my_iou_metric: 0.6446 - val_loss: 0.2239 - val_my_iou_metric: 0.6076\n",
      "\n",
      "Epoch 00012: val_my_iou_metric did not improve from 0.63325\n",
      "Epoch 13/300\n",
      " - 72s - loss: 0.1820 - my_iou_metric: 0.6505 - val_loss: 0.2411 - val_my_iou_metric: 0.5111\n",
      "\n",
      "Epoch 00013: val_my_iou_metric did not improve from 0.63325\n",
      "Epoch 14/300\n",
      " - 72s - loss: 0.1749 - my_iou_metric: 0.6668 - val_loss: 0.1874 - val_my_iou_metric: 0.6793\n",
      "\n",
      "Epoch 00014: val_my_iou_metric improved from 0.63325 to 0.67925, saving model to unet_v2_5A_cv2.model\n",
      "Epoch 15/300\n",
      " - 72s - loss: 0.1664 - my_iou_metric: 0.6742 - val_loss: 0.2489 - val_my_iou_metric: 0.5887\n",
      "\n",
      "Epoch 00015: val_my_iou_metric did not improve from 0.67925\n",
      "Epoch 16/300\n",
      " - 73s - loss: 0.1612 - my_iou_metric: 0.6787 - val_loss: 0.1850 - val_my_iou_metric: 0.6259\n",
      "\n",
      "Epoch 00016: val_my_iou_metric did not improve from 0.67925\n",
      "Epoch 17/300\n",
      " - 72s - loss: 0.1550 - my_iou_metric: 0.6865 - val_loss: 0.1937 - val_my_iou_metric: 0.6899\n",
      "\n",
      "Epoch 00017: val_my_iou_metric improved from 0.67925 to 0.68988, saving model to unet_v2_5A_cv2.model\n",
      "Epoch 18/300\n",
      " - 73s - loss: 0.1554 - my_iou_metric: 0.6915 - val_loss: 0.1780 - val_my_iou_metric: 0.6898\n",
      "\n",
      "Epoch 00018: val_my_iou_metric did not improve from 0.68988\n",
      "Epoch 19/300\n",
      " - 73s - loss: 0.1623 - my_iou_metric: 0.6832 - val_loss: 0.4627 - val_my_iou_metric: 0.5435\n",
      "\n",
      "Epoch 00019: val_my_iou_metric did not improve from 0.68988\n",
      "Epoch 20/300\n",
      " - 73s - loss: 0.1534 - my_iou_metric: 0.6962 - val_loss: 0.1793 - val_my_iou_metric: 0.6796\n",
      "\n",
      "Epoch 00020: val_my_iou_metric did not improve from 0.68988\n",
      "Epoch 21/300\n",
      " - 72s - loss: 0.1513 - my_iou_metric: 0.7047 - val_loss: 0.2763 - val_my_iou_metric: 0.5502\n",
      "\n",
      "Epoch 00021: val_my_iou_metric did not improve from 0.68988\n",
      "Epoch 22/300\n",
      " - 73s - loss: 0.1414 - my_iou_metric: 0.7104 - val_loss: 0.2527 - val_my_iou_metric: 0.5865\n",
      "\n",
      "Epoch 00022: val_my_iou_metric did not improve from 0.68988\n",
      "Epoch 23/300\n",
      " - 72s - loss: 0.1428 - my_iou_metric: 0.7121 - val_loss: 0.1733 - val_my_iou_metric: 0.7273\n",
      "\n",
      "Epoch 00023: val_my_iou_metric improved from 0.68988 to 0.72725, saving model to unet_v2_5A_cv2.model\n",
      "Epoch 24/300\n",
      " - 73s - loss: 0.1373 - my_iou_metric: 0.7211 - val_loss: 0.1794 - val_my_iou_metric: 0.7105\n",
      "\n",
      "Epoch 00024: val_my_iou_metric did not improve from 0.72725\n",
      "Epoch 25/300\n",
      " - 73s - loss: 0.1381 - my_iou_metric: 0.7104 - val_loss: 0.1831 - val_my_iou_metric: 0.7189\n",
      "\n",
      "Epoch 00025: val_my_iou_metric did not improve from 0.72725\n",
      "Epoch 26/300\n",
      " - 72s - loss: 0.1385 - my_iou_metric: 0.7189 - val_loss: 0.2149 - val_my_iou_metric: 0.6989\n",
      "\n",
      "Epoch 00026: val_my_iou_metric did not improve from 0.72725\n",
      "Epoch 27/300\n",
      " - 72s - loss: 0.1275 - my_iou_metric: 0.7333 - val_loss: 0.1823 - val_my_iou_metric: 0.7220\n",
      "\n",
      "Epoch 00027: val_my_iou_metric did not improve from 0.72725\n",
      "Epoch 28/300\n",
      " - 72s - loss: 0.1315 - my_iou_metric: 0.7242 - val_loss: 0.3485 - val_my_iou_metric: 0.5809\n",
      "\n",
      "Epoch 00028: val_my_iou_metric did not improve from 0.72725\n",
      "Epoch 29/300\n",
      " - 72s - loss: 0.1316 - my_iou_metric: 0.7315 - val_loss: 0.1845 - val_my_iou_metric: 0.6970\n",
      "\n",
      "Epoch 00029: val_my_iou_metric did not improve from 0.72725\n",
      "Epoch 30/300\n",
      " - 72s - loss: 0.1269 - my_iou_metric: 0.7327 - val_loss: 0.2311 - val_my_iou_metric: 0.7166\n",
      "\n",
      "Epoch 00030: val_my_iou_metric did not improve from 0.72725\n",
      "\n",
      "Epoch 00030: ReduceLROnPlateau reducing learning rate to 0.0005000000237487257.\n",
      "Epoch 31/300\n",
      " - 73s - loss: 0.1151 - my_iou_metric: 0.7477 - val_loss: 0.1588 - val_my_iou_metric: 0.7568\n",
      "\n",
      "Epoch 00031: val_my_iou_metric improved from 0.72725 to 0.75675, saving model to unet_v2_5A_cv2.model\n",
      "Epoch 32/300\n",
      " - 72s - loss: 0.1093 - my_iou_metric: 0.7553 - val_loss: 0.1666 - val_my_iou_metric: 0.7423\n",
      "\n",
      "Epoch 00032: val_my_iou_metric did not improve from 0.75675\n",
      "Epoch 33/300\n",
      " - 73s - loss: 0.1144 - my_iou_metric: 0.7480 - val_loss: 0.1701 - val_my_iou_metric: 0.7281\n",
      "\n",
      "Epoch 00033: val_my_iou_metric did not improve from 0.75675\n",
      "Epoch 34/300\n",
      " - 72s - loss: 0.1059 - my_iou_metric: 0.7517 - val_loss: 0.1543 - val_my_iou_metric: 0.7492\n",
      "\n",
      "Epoch 00034: val_my_iou_metric did not improve from 0.75675\n",
      "Epoch 35/300\n",
      " - 73s - loss: 0.1041 - my_iou_metric: 0.7606 - val_loss: 0.1582 - val_my_iou_metric: 0.7564\n",
      "\n",
      "Epoch 00035: val_my_iou_metric did not improve from 0.75675\n",
      "Epoch 36/300\n",
      " - 73s - loss: 0.1038 - my_iou_metric: 0.7582 - val_loss: 0.1516 - val_my_iou_metric: 0.7730\n",
      "\n",
      "Epoch 00036: val_my_iou_metric improved from 0.75675 to 0.77300, saving model to unet_v2_5A_cv2.model\n",
      "Epoch 37/300\n",
      " - 73s - loss: 0.1054 - my_iou_metric: 0.7567 - val_loss: 0.1528 - val_my_iou_metric: 0.7625\n",
      "\n",
      "Epoch 00037: val_my_iou_metric did not improve from 0.77300\n",
      "Epoch 38/300\n",
      " - 73s - loss: 0.0999 - my_iou_metric: 0.7569 - val_loss: 0.2045 - val_my_iou_metric: 0.7126\n",
      "\n",
      "Epoch 00038: val_my_iou_metric did not improve from 0.77300\n",
      "Epoch 39/300\n",
      " - 73s - loss: 0.1033 - my_iou_metric: 0.7585 - val_loss: 0.1923 - val_my_iou_metric: 0.7169\n",
      "\n",
      "Epoch 00039: val_my_iou_metric did not improve from 0.77300\n",
      "Epoch 40/300\n",
      " - 73s - loss: 0.0991 - my_iou_metric: 0.7596 - val_loss: 0.1518 - val_my_iou_metric: 0.7584\n",
      "\n",
      "Epoch 00040: val_my_iou_metric did not improve from 0.77300\n",
      "Epoch 41/300\n",
      " - 73s - loss: 0.0977 - my_iou_metric: 0.7659 - val_loss: 0.1587 - val_my_iou_metric: 0.7535\n",
      "\n",
      "Epoch 00041: val_my_iou_metric did not improve from 0.77300\n",
      "Epoch 42/300\n",
      " - 73s - loss: 0.0992 - my_iou_metric: 0.7644 - val_loss: 0.1479 - val_my_iou_metric: 0.7439\n",
      "\n",
      "Epoch 00042: val_my_iou_metric did not improve from 0.77300\n",
      "Epoch 43/300\n",
      " - 72s - loss: 0.0965 - my_iou_metric: 0.7654 - val_loss: 0.1694 - val_my_iou_metric: 0.7439\n",
      "\n",
      "Epoch 00043: val_my_iou_metric did not improve from 0.77300\n",
      "\n",
      "Epoch 00043: ReduceLROnPlateau reducing learning rate to 0.0002500000118743628.\n",
      "Epoch 44/300\n",
      " - 73s - loss: 0.0893 - my_iou_metric: 0.7783 - val_loss: 0.1594 - val_my_iou_metric: 0.7684\n",
      "\n",
      "Epoch 00044: val_my_iou_metric did not improve from 0.77300\n",
      "Epoch 45/300\n",
      " - 73s - loss: 0.0837 - my_iou_metric: 0.7818 - val_loss: 0.1528 - val_my_iou_metric: 0.7676\n",
      "\n",
      "Epoch 00045: val_my_iou_metric did not improve from 0.77300\n",
      "Epoch 46/300\n",
      " - 73s - loss: 0.0785 - my_iou_metric: 0.7852 - val_loss: 0.1624 - val_my_iou_metric: 0.7616\n"
     ]
    },
    {
     "name": "stdout",
     "output_type": "stream",
     "text": [
      "\n",
      "Epoch 00046: val_my_iou_metric did not improve from 0.77300\n",
      "Epoch 47/300\n",
      " - 72s - loss: 0.0815 - my_iou_metric: 0.7806 - val_loss: 0.1538 - val_my_iou_metric: 0.7599\n",
      "\n",
      "Epoch 00047: val_my_iou_metric did not improve from 0.77300\n",
      "Epoch 48/300\n",
      " - 73s - loss: 0.0780 - my_iou_metric: 0.7839 - val_loss: 0.1640 - val_my_iou_metric: 0.7594\n",
      "\n",
      "Epoch 00048: val_my_iou_metric did not improve from 0.77300\n",
      "Epoch 49/300\n",
      " - 73s - loss: 0.0819 - my_iou_metric: 0.7818 - val_loss: 0.1558 - val_my_iou_metric: 0.7626\n",
      "\n",
      "Epoch 00049: val_my_iou_metric did not improve from 0.77300\n",
      "Epoch 50/300\n",
      " - 73s - loss: 0.0799 - my_iou_metric: 0.7823 - val_loss: 0.1765 - val_my_iou_metric: 0.7546\n",
      "\n",
      "Epoch 00050: val_my_iou_metric did not improve from 0.77300\n",
      "\n",
      "Epoch 00050: ReduceLROnPlateau reducing learning rate to 0.0001250000059371814.\n",
      "Epoch 51/300\n",
      " - 72s - loss: 0.0705 - my_iou_metric: 0.7948 - val_loss: 0.1746 - val_my_iou_metric: 0.7701\n",
      "\n",
      "Epoch 00051: val_my_iou_metric did not improve from 0.77300\n",
      "Epoch 52/300\n",
      " - 73s - loss: 0.0735 - my_iou_metric: 0.7925 - val_loss: 0.1777 - val_my_iou_metric: 0.7762\n",
      "\n",
      "Epoch 00052: val_my_iou_metric improved from 0.77300 to 0.77625, saving model to unet_v2_5A_cv2.model\n",
      "Epoch 53/300\n",
      " - 73s - loss: 0.0707 - my_iou_metric: 0.7902 - val_loss: 0.1617 - val_my_iou_metric: 0.7747\n",
      "\n",
      "Epoch 00053: val_my_iou_metric did not improve from 0.77625\n",
      "Epoch 54/300\n",
      " - 73s - loss: 0.0705 - my_iou_metric: 0.7972 - val_loss: 0.1632 - val_my_iou_metric: 0.7707\n",
      "\n",
      "Epoch 00054: val_my_iou_metric did not improve from 0.77625\n",
      "Epoch 55/300\n",
      " - 72s - loss: 0.0689 - my_iou_metric: 0.7954 - val_loss: 0.1738 - val_my_iou_metric: 0.7656\n",
      "\n",
      "Epoch 00055: val_my_iou_metric did not improve from 0.77625\n",
      "Epoch 56/300\n",
      " - 72s - loss: 0.0686 - my_iou_metric: 0.7924 - val_loss: 0.1612 - val_my_iou_metric: 0.7727\n",
      "\n",
      "Epoch 00056: val_my_iou_metric did not improve from 0.77625\n",
      "Epoch 57/300\n",
      " - 73s - loss: 0.0676 - my_iou_metric: 0.7946 - val_loss: 0.1605 - val_my_iou_metric: 0.7719\n",
      "\n",
      "Epoch 00057: val_my_iou_metric did not improve from 0.77625\n",
      "Epoch 58/300\n",
      " - 73s - loss: 0.0697 - my_iou_metric: 0.7951 - val_loss: 0.1699 - val_my_iou_metric: 0.7735\n",
      "\n",
      "Epoch 00058: val_my_iou_metric did not improve from 0.77625\n",
      "Epoch 59/300\n",
      " - 73s - loss: 0.0686 - my_iou_metric: 0.7935 - val_loss: 0.1716 - val_my_iou_metric: 0.7756\n",
      "\n",
      "Epoch 00059: val_my_iou_metric did not improve from 0.77625\n",
      "\n",
      "Epoch 00059: ReduceLROnPlateau reducing learning rate to 6.25000029685907e-05.\n",
      "Epoch 60/300\n",
      " - 72s - loss: 0.0639 - my_iou_metric: 0.7982 - val_loss: 0.1728 - val_my_iou_metric: 0.7695\n",
      "\n",
      "Epoch 00060: val_my_iou_metric did not improve from 0.77625\n",
      "Epoch 61/300\n",
      " - 73s - loss: 0.0648 - my_iou_metric: 0.7993 - val_loss: 0.1795 - val_my_iou_metric: 0.7778\n",
      "\n",
      "Epoch 00061: val_my_iou_metric improved from 0.77625 to 0.77775, saving model to unet_v2_5A_cv2.model\n",
      "Epoch 62/300\n",
      " - 73s - loss: 0.0646 - my_iou_metric: 0.7996 - val_loss: 0.1806 - val_my_iou_metric: 0.7711\n",
      "\n",
      "Epoch 00062: val_my_iou_metric did not improve from 0.77775\n",
      "Epoch 63/300\n",
      " - 73s - loss: 0.0658 - my_iou_metric: 0.8035 - val_loss: 0.1769 - val_my_iou_metric: 0.7782\n",
      "\n",
      "Epoch 00063: val_my_iou_metric improved from 0.77775 to 0.77825, saving model to unet_v2_5A_cv2.model\n",
      "Epoch 64/300\n",
      " - 72s - loss: 0.0623 - my_iou_metric: 0.8050 - val_loss: 0.1753 - val_my_iou_metric: 0.7735\n",
      "\n",
      "Epoch 00064: val_my_iou_metric did not improve from 0.77825\n",
      "Epoch 65/300\n",
      " - 73s - loss: 0.0646 - my_iou_metric: 0.7966 - val_loss: 0.1776 - val_my_iou_metric: 0.7726\n",
      "\n",
      "Epoch 00065: val_my_iou_metric did not improve from 0.77825\n",
      "Epoch 66/300\n",
      " - 73s - loss: 0.0645 - my_iou_metric: 0.7967 - val_loss: 0.1758 - val_my_iou_metric: 0.7779\n",
      "\n",
      "Epoch 00066: val_my_iou_metric did not improve from 0.77825\n",
      "Epoch 67/300\n",
      " - 73s - loss: 0.0630 - my_iou_metric: 0.8007 - val_loss: 0.1866 - val_my_iou_metric: 0.7728\n",
      "\n",
      "Epoch 00067: val_my_iou_metric did not improve from 0.77825\n",
      "Epoch 68/300\n",
      " - 72s - loss: 0.0631 - my_iou_metric: 0.7994 - val_loss: 0.1791 - val_my_iou_metric: 0.7762\n",
      "\n",
      "Epoch 00068: val_my_iou_metric did not improve from 0.77825\n",
      "Epoch 69/300\n",
      " - 73s - loss: 0.0631 - my_iou_metric: 0.8030 - val_loss: 0.1817 - val_my_iou_metric: 0.7800\n",
      "\n",
      "Epoch 00069: val_my_iou_metric improved from 0.77825 to 0.78000, saving model to unet_v2_5A_cv2.model\n",
      "Epoch 70/300\n",
      " - 73s - loss: 0.0641 - my_iou_metric: 0.7973 - val_loss: 0.1808 - val_my_iou_metric: 0.7701\n",
      "\n",
      "Epoch 00070: val_my_iou_metric did not improve from 0.78000\n",
      "Epoch 71/300\n",
      " - 73s - loss: 0.0628 - my_iou_metric: 0.8018 - val_loss: 0.1826 - val_my_iou_metric: 0.7758\n",
      "\n",
      "Epoch 00071: val_my_iou_metric did not improve from 0.78000\n",
      "Epoch 72/300\n",
      " - 73s - loss: 0.0650 - my_iou_metric: 0.7962 - val_loss: 0.1796 - val_my_iou_metric: 0.7695\n",
      "\n",
      "Epoch 00072: val_my_iou_metric did not improve from 0.78000\n",
      "Epoch 73/300\n",
      " - 72s - loss: 0.0619 - my_iou_metric: 0.8048 - val_loss: 0.1794 - val_my_iou_metric: 0.7708\n",
      "\n",
      "Epoch 00073: val_my_iou_metric did not improve from 0.78000\n",
      "Epoch 74/300\n",
      " - 73s - loss: 0.0600 - my_iou_metric: 0.8046 - val_loss: 0.1822 - val_my_iou_metric: 0.7710\n",
      "\n",
      "Epoch 00074: val_my_iou_metric did not improve from 0.78000\n",
      "Epoch 75/300\n",
      " - 73s - loss: 0.0607 - my_iou_metric: 0.8017 - val_loss: 0.1878 - val_my_iou_metric: 0.7712\n",
      "\n",
      "Epoch 00075: val_my_iou_metric did not improve from 0.78000\n",
      "Epoch 76/300\n",
      " - 73s - loss: 0.0623 - my_iou_metric: 0.7977 - val_loss: 0.1868 - val_my_iou_metric: 0.7765\n",
      "\n",
      "Epoch 00076: val_my_iou_metric did not improve from 0.78000\n",
      "\n",
      "Epoch 00076: ReduceLROnPlateau reducing learning rate to 3.125000148429535e-05.\n",
      "Epoch 77/300\n",
      " - 72s - loss: 0.0603 - my_iou_metric: 0.8071 - val_loss: 0.1816 - val_my_iou_metric: 0.7771\n",
      "\n",
      "Epoch 00077: val_my_iou_metric did not improve from 0.78000\n",
      "Epoch 78/300\n",
      " - 73s - loss: 0.0606 - my_iou_metric: 0.8017 - val_loss: 0.1862 - val_my_iou_metric: 0.7746\n",
      "\n",
      "Epoch 00078: val_my_iou_metric did not improve from 0.78000\n",
      "Epoch 79/300\n",
      " - 73s - loss: 0.0603 - my_iou_metric: 0.8057 - val_loss: 0.1833 - val_my_iou_metric: 0.7770\n",
      "\n",
      "Epoch 00079: val_my_iou_metric did not improve from 0.78000\n",
      "Epoch 80/300\n",
      " - 73s - loss: 0.0601 - my_iou_metric: 0.8072 - val_loss: 0.1903 - val_my_iou_metric: 0.7750\n",
      "\n",
      "Epoch 00080: val_my_iou_metric did not improve from 0.78000\n",
      "Epoch 81/300\n",
      " - 72s - loss: 0.0598 - my_iou_metric: 0.8029 - val_loss: 0.1831 - val_my_iou_metric: 0.7750\n",
      "\n",
      "Epoch 00081: val_my_iou_metric did not improve from 0.78000\n",
      "Epoch 82/300\n",
      " - 73s - loss: 0.0600 - my_iou_metric: 0.8040 - val_loss: 0.1844 - val_my_iou_metric: 0.7717\n",
      "\n",
      "Epoch 00082: val_my_iou_metric did not improve from 0.78000\n",
      "Epoch 83/300\n",
      " - 73s - loss: 0.0597 - my_iou_metric: 0.8052 - val_loss: 0.1806 - val_my_iou_metric: 0.7754\n",
      "\n",
      "Epoch 00083: val_my_iou_metric did not improve from 0.78000\n",
      "\n",
      "Epoch 00083: ReduceLROnPlateau reducing learning rate to 1.5625000742147677e-05.\n",
      "Epoch 84/300\n",
      " - 73s - loss: 0.0579 - my_iou_metric: 0.8035 - val_loss: 0.1882 - val_my_iou_metric: 0.7749\n",
      "\n",
      "Epoch 00084: val_my_iou_metric did not improve from 0.78000\n",
      "Epoch 85/300\n",
      " - 72s - loss: 0.0582 - my_iou_metric: 0.8056 - val_loss: 0.1887 - val_my_iou_metric: 0.7754\n",
      "\n",
      "Epoch 00085: val_my_iou_metric did not improve from 0.78000\n",
      "Epoch 86/300\n",
      " - 73s - loss: 0.0583 - my_iou_metric: 0.8034 - val_loss: 0.1874 - val_my_iou_metric: 0.7785\n",
      "\n",
      "Epoch 00086: val_my_iou_metric did not improve from 0.78000\n",
      "Epoch 87/300\n",
      " - 72s - loss: 0.0567 - my_iou_metric: 0.8073 - val_loss: 0.1920 - val_my_iou_metric: 0.7755\n",
      "\n",
      "Epoch 00087: val_my_iou_metric did not improve from 0.78000\n",
      "Epoch 88/300\n",
      " - 73s - loss: 0.0589 - my_iou_metric: 0.8045 - val_loss: 0.1903 - val_my_iou_metric: 0.7748\n",
      "\n",
      "Epoch 00088: val_my_iou_metric did not improve from 0.78000\n",
      "Epoch 89/300\n",
      " - 73s - loss: 0.0579 - my_iou_metric: 0.8070 - val_loss: 0.1898 - val_my_iou_metric: 0.7770\n",
      "\n",
      "Epoch 00089: val_my_iou_metric did not improve from 0.78000\n",
      "Epoch 90/300\n",
      " - 72s - loss: 0.0592 - my_iou_metric: 0.8033 - val_loss: 0.1904 - val_my_iou_metric: 0.7750\n",
      "\n",
      "Epoch 00090: val_my_iou_metric did not improve from 0.78000\n",
      "\n",
      "Epoch 00090: ReduceLROnPlateau reducing learning rate to 1e-05.\n",
      "Epoch 00090: early stopping\n",
      "CPU times: user 1h 8min 20s, sys: 25min 56s, total: 1h 34min 16s\n",
      "Wall time: 1h 49min 45s\n"
     ]
    }
   ],
   "source": [
    "%%time\n",
    "history = model1.fit(x_train, y_train,\n",
    "                     validation_data = [x_valid, y_valid], \n",
    "                     epochs = epochs, \n",
    "                     batch_size = batch_size, \n",
    "                     callbacks = [early_stopping, model_checkpoint, reduce_lr],\n",
    "                     verbose = 2)"
   ]
  },
  {
   "cell_type": "code",
   "execution_count": 53,
   "metadata": {},
   "outputs": [
    {
     "data": {
      "text/plain": [
       "<matplotlib.legend.Legend at 0x7f8f4a5789e8>"
      ]
     },
     "execution_count": 53,
     "metadata": {},
     "output_type": "execute_result"
    },
    {
     "data": {
      "image/png": "[encoded data removed]",
      "text/plain": [
       "<Figure size 1080x360 with 2 Axes>"
      ]
     },
     "metadata": {
      "needs_background": "light"
     },
     "output_type": "display_data"
    }
   ],
   "source": [
    "fig, (ax_loss, ax_score) = plt.subplots(1, 2, figsize=(15,5))\n",
    "ax_loss.plot(history.epoch, history.history[\"loss\"], label=\"Train loss\")\n",
    "ax_loss.plot(history.epoch, history.history[\"val_loss\"], label=\"Validation loss\")\n",
    "ax_loss.legend()\n",
    "ax_score.plot(history.epoch, history.history[\"my_iou_metric\"], label=\"Train score\")\n",
    "ax_score.plot(history.epoch, history.history[\"val_my_iou_metric\"], label=\"Validation score\")\n",
    "ax_score.legend()"
   ]
  },
  {
   "cell_type": "markdown",
   "metadata": {},
   "source": [
    "# Remove activation layer and use lovasz loss"
   ]
  },
  {
   "cell_type": "code",
   "execution_count": 50,
   "metadata": {
    "_uuid": "52ba1ba40cac42145f499cff252eb73feff397d3"
   },
   "outputs": [],
   "source": [
    "model1 = load_model(save_model_name, custom_objects={'my_iou_metric':my_iou_metric})\n",
    "\n",
    "input_x = model1.layers[0].input\n",
    "output_layer = model1.layers[-1].input\n",
    "model = Model(input_x, output_layer)\n",
    "c = optimizers.adam(lr=0.0005)\n",
    "\n",
    "model.compile(loss=lovasz_loss, optimizer=c, metrics=[my_iou_metric_2])\n",
    "\n",
    "# model.summary()"
   ]
  },
  {
   "cell_type": "code",
   "execution_count": 51,
   "metadata": {
    "_uuid": "ec1e49fd425a02ab12dea6b99cf39de45c80199f"
   },
   "outputs": [],
   "source": [
    "early_stopping = EarlyStopping(monitor='val_my_iou_metric_2', mode='max', patience=15, verbose=1)\n",
    "model_checkpoint = ModelCheckpoint(save_model_nameB, monitor='val_my_iou_metric_2', mode='max', save_best_only=True, verbose=1)\n",
    "reduce_lr = ReduceLROnPlateau(monitor='val_my_iou_metric_2', mode='max',factor=0.5, patience=6, min_lr=0.00001, verbose=1)\n",
    "\n",
    "epochs = 200\n",
    "batch_size = 32"
   ]
  },
  {
   "cell_type": "code",
   "execution_count": null,
   "metadata": {
    "_uuid": "ec1e49fd425a02ab12dea6b99cf39de45c80199f",
    "scrolled": false
   },
   "outputs": [
    {
     "name": "stdout",
     "output_type": "stream",
     "text": [
      "Train on 6328 samples, validate on 800 samples\n",
      "Epoch 1/200\n",
      " - 208s - loss: -5.9222e-02 - my_iou_metric_2: 0.7809 - val_loss: 0.0282 - val_my_iou_metric_2: 0.7732\n",
      "\n",
      "Epoch 00001: val_my_iou_metric_2 improved from -inf to 0.77325, saving model to unet_v2_5B_cv2.model\n",
      "Epoch 2/200\n",
      " - 193s - loss: -9.8692e-02 - my_iou_metric_2: 0.7861 - val_loss: 0.1949 - val_my_iou_metric_2: 0.7311\n",
      "\n",
      "Epoch 00002: val_my_iou_metric_2 did not improve from 0.77325\n",
      "Epoch 3/200\n",
      " - 193s - loss: -1.3868e-01 - my_iou_metric_2: 0.7914 - val_loss: 0.0364 - val_my_iou_metric_2: 0.7684\n",
      "\n",
      "Epoch 00003: val_my_iou_metric_2 did not improve from 0.77325\n",
      "Epoch 4/200\n",
      " - 193s - loss: -1.5289e-01 - my_iou_metric_2: 0.7944 - val_loss: 0.0273 - val_my_iou_metric_2: 0.7690\n",
      "\n",
      "Epoch 00004: val_my_iou_metric_2 did not improve from 0.77325\n",
      "Epoch 5/200\n",
      " - 193s - loss: -1.6433e-01 - my_iou_metric_2: 0.7966 - val_loss: 0.3112 - val_my_iou_metric_2: 0.6903\n",
      "\n",
      "Epoch 00005: val_my_iou_metric_2 did not improve from 0.77325\n",
      "Epoch 6/200\n",
      " - 193s - loss: -1.7044e-01 - my_iou_metric_2: 0.7969 - val_loss: 0.2886 - val_my_iou_metric_2: 0.7290\n",
      "\n",
      "Epoch 00006: val_my_iou_metric_2 did not improve from 0.77325\n",
      "Epoch 7/200\n",
      " - 193s - loss: -1.7422e-01 - my_iou_metric_2: 0.7994 - val_loss: -6.2172e-02 - val_my_iou_metric_2: 0.7926\n",
      "\n",
      "Epoch 00007: val_my_iou_metric_2 improved from 0.77325 to 0.79263, saving model to unet_v2_5B_cv2.model\n",
      "Epoch 8/200\n",
      " - 193s - loss: -2.1015e-01 - my_iou_metric_2: 0.8048 - val_loss: 0.1248 - val_my_iou_metric_2: 0.7550\n",
      "\n",
      "Epoch 00008: val_my_iou_metric_2 did not improve from 0.79263\n",
      "Epoch 9/200\n",
      " - 193s - loss: -1.9053e-01 - my_iou_metric_2: 0.8031 - val_loss: -2.2122e-02 - val_my_iou_metric_2: 0.7829\n",
      "\n",
      "Epoch 00009: val_my_iou_metric_2 did not improve from 0.79263\n",
      "Epoch 10/200\n",
      " - 193s - loss: -2.1250e-01 - my_iou_metric_2: 0.8063 - val_loss: 0.0149 - val_my_iou_metric_2: 0.7810\n",
      "\n",
      "Epoch 00010: val_my_iou_metric_2 did not improve from 0.79263\n",
      "Epoch 11/200\n",
      " - 193s - loss: -2.0289e-01 - my_iou_metric_2: 0.8053 - val_loss: -8.3170e-04 - val_my_iou_metric_2: 0.7861\n",
      "\n",
      "Epoch 00011: val_my_iou_metric_2 did not improve from 0.79263\n",
      "Epoch 12/200\n",
      " - 193s - loss: -2.2788e-01 - my_iou_metric_2: 0.8119 - val_loss: 0.1354 - val_my_iou_metric_2: 0.7526\n",
      "\n",
      "Epoch 00012: val_my_iou_metric_2 did not improve from 0.79263\n",
      "Epoch 13/200\n"
     ]
    }
   ],
   "source": [
    "%%time\n",
    "history = model.fit(x_train, y_train,\n",
    "                    validation_data=[x_valid, y_valid], \n",
    "                    epochs=epochs,\n",
    "                    batch_size=batch_size,\n",
    "                    callbacks=[ model_checkpoint, reduce_lr, early_stopping], \n",
    "                    verbose=2)"
   ]
  },
  {
   "cell_type": "code",
   "execution_count": 49,
   "metadata": {
    "_uuid": "52ba1ba40cac42145f499cff252eb73feff397d3"
   },
   "outputs": [],
   "source": [
    "model1 = load_model(save_model_name, custom_objects={'my_iou_metric':my_iou_metric})\n",
    "\n",
    "input_x = model1.layers[0].input\n",
    "output_layer = model1.layers[-1].input\n",
    "model = Model(input_x, output_layer)\n",
    "c = optimizers.adam(lr=0.0005)\n",
    "\n",
    "model.compile(loss=lovasz_loss, optimizer=c, metrics=[my_iou_metric_2])\n",
    "\n",
    "# model.summary()"
   ]
  },
  {
   "cell_type": "code",
   "execution_count": 50,
   "metadata": {
    "_uuid": "ec1e49fd425a02ab12dea6b99cf39de45c80199f"
   },
   "outputs": [],
   "source": [
    "early_stopping = EarlyStopping(monitor='val_my_iou_metric_2', mode='max', patience=15, verbose=1)\n",
    "model_checkpoint = ModelCheckpoint(save_model_nameB, monitor='val_my_iou_metric_2', mode='max', save_best_only=True, verbose=1)\n",
    "reduce_lr = ReduceLROnPlateau(monitor='val_my_iou_metric_2', mode='max',factor=0.5, patience=6, min_lr=0.00001, verbose=1)\n",
    "\n",
    "epochs = 200\n",
    "batch_size = 32"
   ]
  },
  {
   "cell_type": "code",
   "execution_count": null,
   "metadata": {},
   "outputs": [
    {
     "name": "stdout",
     "output_type": "stream",
     "text": [
      "Train on 6328 samples, validate on 800 samples\n",
      "Epoch 1/200\n",
      " - 208s - loss: -6.4223e-02 - my_iou_metric_2: 0.7860 - val_loss: 0.2071 - val_my_iou_metric_2: 0.7366\n",
      "\n",
      "Epoch 00001: val_my_iou_metric_2 improved from -inf to 0.73663, saving model to unet_v2_5B_cv2.model\n",
      "Epoch 2/200\n",
      " - 193s - loss: -1.0935e-01 - my_iou_metric_2: 0.7883 - val_loss: 0.0550 - val_my_iou_metric_2: 0.7631\n",
      "\n",
      "Epoch 00002: val_my_iou_metric_2 improved from 0.73663 to 0.76313, saving model to unet_v2_5B_cv2.model\n",
      "Epoch 3/200\n",
      " - 193s - loss: -1.3044e-01 - my_iou_metric_2: 0.7894 - val_loss: 0.1005 - val_my_iou_metric_2: 0.7532\n",
      "\n",
      "Epoch 00003: val_my_iou_metric_2 did not improve from 0.76313\n",
      "Epoch 4/200\n",
      " - 193s - loss: -1.3940e-01 - my_iou_metric_2: 0.7899 - val_loss: 0.0032 - val_my_iou_metric_2: 0.7843\n",
      "\n",
      "Epoch 00004: val_my_iou_metric_2 improved from 0.76313 to 0.78425, saving model to unet_v2_5B_cv2.model\n",
      "Epoch 5/200\n",
      " - 193s - loss: -1.5769e-01 - my_iou_metric_2: 0.7960 - val_loss: 0.1887 - val_my_iou_metric_2: 0.7273\n",
      "\n",
      "Epoch 00005: val_my_iou_metric_2 did not improve from 0.78425\n",
      "Epoch 6/200\n",
      " - 193s - loss: -1.6643e-01 - my_iou_metric_2: 0.7991 - val_loss: 0.3049 - val_my_iou_metric_2: 0.6994\n",
      "\n",
      "Epoch 00006: val_my_iou_metric_2 did not improve from 0.78425\n",
      "Epoch 7/200\n",
      " - 193s - loss: -1.8889e-01 - my_iou_metric_2: 0.7997 - val_loss: -4.4071e-02 - val_my_iou_metric_2: 0.7937\n",
      "\n",
      "Epoch 00007: val_my_iou_metric_2 improved from 0.78425 to 0.79375, saving model to unet_v2_5B_cv2.model\n",
      "Epoch 8/200\n",
      " - 193s - loss: -2.0421e-01 - my_iou_metric_2: 0.8049 - val_loss: 0.2363 - val_my_iou_metric_2: 0.7530\n",
      "\n",
      "Epoch 00008: val_my_iou_metric_2 did not improve from 0.79375\n",
      "Epoch 9/200\n",
      " - 193s - loss: -1.8755e-01 - my_iou_metric_2: 0.7974 - val_loss: 0.0151 - val_my_iou_metric_2: 0.7562\n",
      "\n",
      "Epoch 00009: val_my_iou_metric_2 did not improve from 0.79375\n",
      "Epoch 10/200\n",
      " - 192s - loss: -2.1542e-01 - my_iou_metric_2: 0.8061 - val_loss: 0.7734 - val_my_iou_metric_2: 0.6200\n",
      "\n",
      "Epoch 00010: val_my_iou_metric_2 did not improve from 0.79375\n",
      "Epoch 11/200\n",
      " - 193s - loss: -2.1543e-01 - my_iou_metric_2: 0.8044 - val_loss: -4.3431e-02 - val_my_iou_metric_2: 0.7734\n",
      "\n",
      "Epoch 00011: val_my_iou_metric_2 did not improve from 0.79375\n",
      "Epoch 12/200\n",
      " - 192s - loss: -2.0502e-01 - my_iou_metric_2: 0.8045 - val_loss: 0.0293 - val_my_iou_metric_2: 0.7705\n",
      "\n",
      "Epoch 00012: val_my_iou_metric_2 did not improve from 0.79375\n",
      "Epoch 13/200\n",
      " - 192s - loss: -2.3880e-01 - my_iou_metric_2: 0.8098 - val_loss: 0.0640 - val_my_iou_metric_2: 0.7710\n",
      "\n",
      "Epoch 00013: val_my_iou_metric_2 did not improve from 0.79375\n",
      "\n",
      "Epoch 00013: ReduceLROnPlateau reducing learning rate to 0.0002500000118743628.\n",
      "Epoch 14/200\n",
      " - 193s - loss: -2.7640e-01 - my_iou_metric_2: 0.8177 - val_loss: -1.4666e-01 - val_my_iou_metric_2: 0.8060\n",
      "\n",
      "Epoch 00014: val_my_iou_metric_2 improved from 0.79375 to 0.80600, saving model to unet_v2_5B_cv2.model\n",
      "Epoch 15/200\n",
      " - 193s - loss: -3.0578e-01 - my_iou_metric_2: 0.8245 - val_loss: -1.1159e-01 - val_my_iou_metric_2: 0.7984\n",
      "\n",
      "Epoch 00015: val_my_iou_metric_2 did not improve from 0.80600\n",
      "Epoch 16/200\n",
      " - 193s - loss: -3.1321e-01 - my_iou_metric_2: 0.8260 - val_loss: -1.0643e-01 - val_my_iou_metric_2: 0.8022\n",
      "\n",
      "Epoch 00016: val_my_iou_metric_2 did not improve from 0.80600\n",
      "Epoch 17/200\n",
      " - 192s - loss: -3.2004e-01 - my_iou_metric_2: 0.8273 - val_loss: -1.2262e-01 - val_my_iou_metric_2: 0.8004\n",
      "\n",
      "Epoch 00017: val_my_iou_metric_2 did not improve from 0.80600\n",
      "Epoch 18/200\n",
      " - 193s - loss: -3.3605e-01 - my_iou_metric_2: 0.8281 - val_loss: -1.0117e-01 - val_my_iou_metric_2: 0.7952\n",
      "\n",
      "Epoch 00018: val_my_iou_metric_2 did not improve from 0.80600\n",
      "Epoch 19/200\n",
      " - 193s - loss: -3.3589e-01 - my_iou_metric_2: 0.8299 - val_loss: -5.7695e-02 - val_my_iou_metric_2: 0.7990\n",
      "\n",
      "Epoch 00019: val_my_iou_metric_2 did not improve from 0.80600\n",
      "Epoch 20/200\n",
      " - 193s - loss: -3.2146e-01 - my_iou_metric_2: 0.8297 - val_loss: -8.3078e-02 - val_my_iou_metric_2: 0.7897\n",
      "\n",
      "Epoch 00020: val_my_iou_metric_2 did not improve from 0.80600\n",
      "\n",
      "Epoch 00020: ReduceLROnPlateau reducing learning rate to 0.0001250000059371814.\n",
      "Epoch 21/200\n",
      " - 193s - loss: -3.6944e-01 - my_iou_metric_2: 0.8376 - val_loss: -1.0066e-01 - val_my_iou_metric_2: 0.7965\n",
      "\n",
      "Epoch 00021: val_my_iou_metric_2 did not improve from 0.80600\n",
      "Epoch 22/200\n",
      " - 193s - loss: -3.8798e-01 - my_iou_metric_2: 0.8411 - val_loss: -1.1593e-01 - val_my_iou_metric_2: 0.8045\n",
      "\n",
      "Epoch 00022: val_my_iou_metric_2 did not improve from 0.80600\n",
      "Epoch 23/200\n",
      " - 193s - loss: -3.8418e-01 - my_iou_metric_2: 0.8407 - val_loss: -1.0571e-01 - val_my_iou_metric_2: 0.7987\n",
      "\n",
      "Epoch 00023: val_my_iou_metric_2 did not improve from 0.80600\n",
      "Epoch 24/200\n",
      " - 193s - loss: -3.8586e-01 - my_iou_metric_2: 0.8421 - val_loss: -1.1048e-01 - val_my_iou_metric_2: 0.8005\n",
      "\n",
      "Epoch 00024: val_my_iou_metric_2 did not improve from 0.80600\n",
      "Epoch 25/200\n"
     ]
    }
   ],
   "source": [
    "%%time\n",
    "history = model.fit(x_train, y_train,\n",
    "                    validation_data=[x_valid, y_valid], \n",
    "                    epochs=epochs,\n",
    "                    batch_size=batch_size,\n",
    "                    callbacks=[ model_checkpoint, reduce_lr, early_stopping], \n",
    "                    verbose=2)"
   ]
  },
  {
   "cell_type": "markdown",
   "metadata": {},
   "source": [
    "# Plot result"
   ]
  },
  {
   "cell_type": "code",
   "execution_count": null,
   "metadata": {
    "_uuid": "922febde76d7aff93c49c71a28b3a2361f433d02"
   },
   "outputs": [],
   "source": [
    "fig, (ax_loss, ax_score) = plt.subplots(1, 2, figsize=(15,5))\n",
    "ax_loss.plot(history.epoch, history.history[\"loss\"], label=\"Train loss\")\n",
    "ax_loss.plot(history.epoch, history.history[\"val_loss\"], label=\"Validation loss\")\n",
    "ax_loss.legend()\n",
    "ax_score.plot(history.epoch, history.history[\"my_iou_metric_2\"], label=\"Train score\")\n",
    "ax_score.plot(history.epoch, history.history[\"val_my_iou_metric_2\"], label=\"Validation score\")\n",
    "ax_score.legend()"
   ]
  },
  {
   "cell_type": "markdown",
   "metadata": {},
   "source": [
    "# Final Tuning"
   ]
  },
  {
   "cell_type": "code",
   "execution_count": 50,
   "metadata": {},
   "outputs": [],
   "source": [
    "model = load_model(save_model_nameB,custom_objects={'my_iou_metric_2': my_iou_metric_2,\n",
    "                                                   'lovasz_loss': lovasz_loss})\n",
    "\n",
    "c = optimizers.Adam(lr = 0.0001)\n",
    "model.compile(loss=lovasz_loss, optimizer=c, metrics=[my_iou_metric_2])\n",
    "\n",
    "epochs = 200\n",
    "batch_size = 16\n",
    "\n",
    "early_stopping = EarlyStopping(monitor='val_my_iou_metric_2', mode='max', patience=12, verbose=1)\n",
    "model_checkpoint = ModelCheckpoint(save_model_nameB, monitor='val_my_iou_metric_2', mode='max', save_best_only=True, verbose=1)\n",
    "reduce_lr = ReduceLROnPlateau(monitor='val_my_iou_metric_2', mode='max',factor=0.5, patience=5, min_lr=0.00001, verbose=2)"
   ]
  },
  {
   "cell_type": "code",
   "execution_count": 51,
   "metadata": {
    "scrolled": false
   },
   "outputs": [
    {
     "name": "stdout",
     "output_type": "stream",
     "text": [
      "Train on 6328 samples, validate on 800 samples\n",
      "Epoch 1/200\n",
      " - 242s - loss: -2.6734e-01 - my_iou_metric_2: 0.8155 - val_loss: -1.4301e-01 - val_my_iou_metric_2: 0.8027\n",
      "\n",
      "Epoch 00001: val_my_iou_metric_2 improved from -inf to 0.80275, saving model to unet_v2_5B_cv2.model\n",
      "Epoch 2/200\n",
      " - 226s - loss: -2.8016e-01 - my_iou_metric_2: 0.8194 - val_loss: -9.7563e-02 - val_my_iou_metric_2: 0.7917\n",
      "\n",
      "Epoch 00002: val_my_iou_metric_2 did not improve from 0.80275\n",
      "Epoch 3/200\n",
      " - 226s - loss: -2.8273e-01 - my_iou_metric_2: 0.8226 - val_loss: -1.2446e-01 - val_my_iou_metric_2: 0.7976\n",
      "\n",
      "Epoch 00003: val_my_iou_metric_2 did not improve from 0.80275\n",
      "Epoch 4/200\n",
      " - 226s - loss: -2.8940e-01 - my_iou_metric_2: 0.8222 - val_loss: -8.3800e-02 - val_my_iou_metric_2: 0.7942\n",
      "\n",
      "Epoch 00004: val_my_iou_metric_2 did not improve from 0.80275\n",
      "Epoch 5/200\n",
      " - 226s - loss: -3.0723e-01 - my_iou_metric_2: 0.8249 - val_loss: -1.0641e-01 - val_my_iou_metric_2: 0.7959\n",
      "\n",
      "Epoch 00005: val_my_iou_metric_2 did not improve from 0.80275\n",
      "Epoch 6/200\n",
      " - 226s - loss: -3.1816e-01 - my_iou_metric_2: 0.8288 - val_loss: -8.4693e-02 - val_my_iou_metric_2: 0.8005\n",
      "\n",
      "Epoch 00006: val_my_iou_metric_2 did not improve from 0.80275\n",
      "\n",
      "Epoch 00006: ReduceLROnPlateau reducing learning rate to 4.999999873689376e-05.\n",
      "Epoch 7/200\n",
      " - 226s - loss: -2.9381e-01 - my_iou_metric_2: 0.8221 - val_loss: -1.0901e-01 - val_my_iou_metric_2: 0.7955\n",
      "\n",
      "Epoch 00007: val_my_iou_metric_2 did not improve from 0.80275\n",
      "Epoch 8/200\n",
      " - 227s - loss: -3.2606e-01 - my_iou_metric_2: 0.8288 - val_loss: -1.2895e-01 - val_my_iou_metric_2: 0.7971\n",
      "\n",
      "Epoch 00008: val_my_iou_metric_2 did not improve from 0.80275\n",
      "Epoch 9/200\n",
      " - 226s - loss: -3.4047e-01 - my_iou_metric_2: 0.8329 - val_loss: -1.1110e-01 - val_my_iou_metric_2: 0.7945\n",
      "\n",
      "Epoch 00009: val_my_iou_metric_2 did not improve from 0.80275\n",
      "Epoch 10/200\n",
      " - 226s - loss: -3.4685e-01 - my_iou_metric_2: 0.8348 - val_loss: -1.4279e-01 - val_my_iou_metric_2: 0.8012\n",
      "\n",
      "Epoch 00010: val_my_iou_metric_2 did not improve from 0.80275\n",
      "Epoch 11/200\n",
      " - 226s - loss: -3.3256e-01 - my_iou_metric_2: 0.8285 - val_loss: -1.2514e-01 - val_my_iou_metric_2: 0.8009\n",
      "\n",
      "Epoch 00011: val_my_iou_metric_2 did not improve from 0.80275\n",
      "\n",
      "Epoch 00011: ReduceLROnPlateau reducing learning rate to 2.499999936844688e-05.\n",
      "Epoch 12/200\n",
      " - 225s - loss: -3.5094e-01 - my_iou_metric_2: 0.8358 - val_loss: -1.3733e-01 - val_my_iou_metric_2: 0.7994\n",
      "\n",
      "Epoch 00012: val_my_iou_metric_2 did not improve from 0.80275\n",
      "Epoch 13/200\n",
      " - 225s - loss: -3.5022e-01 - my_iou_metric_2: 0.8345 - val_loss: -1.3024e-01 - val_my_iou_metric_2: 0.7965\n",
      "\n",
      "Epoch 00013: val_my_iou_metric_2 did not improve from 0.80275\n",
      "Epoch 00013: early stopping\n",
      "CPU times: user 29min 47s, sys: 7min 46s, total: 37min 33s\n",
      "Wall time: 49min 50s\n"
     ]
    }
   ],
   "source": [
    "%%time\n",
    "history = model.fit(x_train, y_train,\n",
    "                    validation_data=[x_valid, y_valid], \n",
    "                    epochs=epochs,\n",
    "                    batch_size=batch_size,\n",
    "                    callbacks=[model_checkpoint, reduce_lr, early_stopping], \n",
    "                    verbose=2)"
   ]
  },
  {
   "cell_type": "code",
   "execution_count": 52,
   "metadata": {},
   "outputs": [
    {
     "data": {
      "text/plain": [
       "<matplotlib.legend.Legend at 0x7f2f40b507f0>"
      ]
     },
     "execution_count": 52,
     "metadata": {},
     "output_type": "execute_result"
    },
    {
     "data": {
      "image/png": "[encoded data removed]",
      "text/plain": [
       "<Figure size 1080x360 with 2 Axes>"
      ]
     },
     "metadata": {
      "needs_background": "light"
     },
     "output_type": "display_data"
    }
   ],
   "source": [
    "fig, (ax_loss, ax_score) = plt.subplots(1, 2, figsize=(15,5))\n",
    "ax_loss.plot(history.epoch, history.history[\"loss\"], label=\"Train loss\")\n",
    "ax_loss.plot(history.epoch, history.history[\"val_loss\"], label=\"Validation loss\")\n",
    "ax_loss.legend()\n",
    "ax_score.plot(history.epoch, history.history[\"my_iou_metric_2\"], label=\"Train score\")\n",
    "ax_score.plot(history.epoch, history.history[\"val_my_iou_metric_2\"], label=\"Validation score\")\n",
    "ax_score.legend()"
   ]
  },
  {
   "cell_type": "code",
   "execution_count": 53,
   "metadata": {
    "_uuid": "068c89f56e9e7eb1d7ecf12912996426ad87f2a6"
   },
   "outputs": [],
   "source": [
    "model = load_model(save_model_nameB,custom_objects={'my_iou_metric_2': my_iou_metric_2,\n",
    "                                                   'lovasz_loss': lovasz_loss})"
   ]
  },
  {
   "cell_type": "code",
   "execution_count": 54,
   "metadata": {
    "_uuid": "c33f2cdf50d3011f704ac934e49602bd3167c8cb"
   },
   "outputs": [],
   "source": [
    "def predict_result(model,x_test,img_size_target): # predict both orginal and reflect x\n",
    "    x_test_reflect =  np.array([np.fliplr(x) for x in x_test])\n",
    "    preds_test = model.predict(x_test).reshape(-1, img_size_target, img_size_target)\n",
    "    preds_test2_refect = model.predict(x_test_reflect).reshape(-1, img_size_target, img_size_target)\n",
    "    preds_test += np.array([ np.fliplr(x) for x in preds_test2_refect] )\n",
    "    return preds_test/2"
   ]
  },
  {
   "cell_type": "code",
   "execution_count": 55,
   "metadata": {
    "_uuid": "ec38f74adccf2d265cac160311c0998fefc76ec6"
   },
   "outputs": [],
   "source": [
    "preds_valid = predict_result(model,x_valid,img_size_target)"
   ]
  },
  {
   "cell_type": "code",
   "execution_count": 56,
   "metadata": {
    "_uuid": "6794a936dd110f0d4ecc23206c53af7cd0f4a587"
   },
   "outputs": [],
   "source": [
    "#Score the model and do a threshold optimization by the best IoU.\n",
    "\n",
    "# src: https://www.kaggle.com/aglotero/another-iou-metric\n",
    "def iou_metric(y_true_in, y_pred_in, print_table=False):\n",
    "    labels = y_true_in\n",
    "    y_pred = y_pred_in\n",
    "\n",
    "\n",
    "    true_objects = 2\n",
    "    pred_objects = 2\n",
    "\n",
    "    #  if all zeros, original code  generate wrong  bins [-0.5 0 0.5],\n",
    "    temp1 = np.histogram2d(labels.flatten(), y_pred.flatten(), bins=([0,0.5,1], [0,0.5, 1]))\n",
    "#     temp1 = np.histogram2d(labels.flatten(), y_pred.flatten(), bins=(true_objects, pred_objects))\n",
    "    #print(temp1)\n",
    "    intersection = temp1[0]\n",
    "    #print(\"temp2 = \",temp1[1])\n",
    "    #print(intersection.shape)\n",
    "   # print(intersection)\n",
    "    # Compute areas (needed for finding the union between all objects)\n",
    "    #print(np.histogram(labels, bins = true_objects))\n",
    "    area_true = np.histogram(labels,bins=[0,0.5,1])[0]\n",
    "    #print(\"area_true = \",area_true)\n",
    "    area_pred = np.histogram(y_pred, bins=[0,0.5,1])[0]\n",
    "    area_true = np.expand_dims(area_true, -1)\n",
    "    area_pred = np.expand_dims(area_pred, 0)\n",
    "\n",
    "    # Compute union\n",
    "    union = area_true + area_pred - intersection\n",
    "  \n",
    "    # Exclude background from the analysis\n",
    "    intersection = intersection[1:,1:]\n",
    "    intersection[intersection == 0] = 1e-9\n",
    "    \n",
    "    union = union[1:,1:]\n",
    "    union[union == 0] = 1e-9\n",
    "\n",
    "    # Compute the intersection over union\n",
    "    iou = intersection / union\n",
    "    # Precision helper function\n",
    "    def precision_at(threshold, iou):\n",
    "        matches = iou > threshold\n",
    "        true_positives = np.sum(matches, axis=1) == 1   # Correct objects\n",
    "        false_positives = np.sum(matches, axis=0) == 0  # Missed objects\n",
    "        false_negatives = np.sum(matches, axis=1) == 0  # Extra objects\n",
    "        tp, fp, fn = np.sum(true_positives), np.sum(false_positives), np.sum(false_negatives)\n",
    "        return tp, fp, fn\n",
    "\n",
    "    # Loop over IoU thresholds\n",
    "    prec = []\n",
    "    if print_table:\n",
    "        print(\"Thresh\\tTP\\tFP\\tFN\\tPrec.\")\n",
    "    for t in np.arange(0.5, 1.0, 0.05):\n",
    "        tp, fp, fn = precision_at(t, iou)\n",
    "        if (tp + fp + fn) > 0:\n",
    "            p = tp / (tp + fp + fn)\n",
    "        else:\n",
    "            p = 0\n",
    "        if print_table:\n",
    "            print(\"{:1.3f}\\t{}\\t{}\\t{}\\t{:1.3f}\".format(t, tp, fp, fn, p))\n",
    "        prec.append(p)\n",
    "        \n",
    "    if print_table:\n",
    "        print(\"AP\\t-\\t-\\t-\\t{:1.3f}\".format(np.mean(prec)))\n",
    "    return np.mean(prec)\n",
    "\n",
    "def iou_metric_batch(y_true_in, y_pred_in):\n",
    "    batch_size = y_true_in.shape[0]\n",
    "    metric = []\n",
    "    for batch in range(batch_size):\n",
    "        value = iou_metric(y_true_in[batch], y_pred_in[batch])\n",
    "        metric.append(value)\n",
    "    return np.mean(metric)"
   ]
  },
  {
   "cell_type": "code",
   "execution_count": 57,
   "metadata": {
    "_uuid": "6d96072932f985336021cd115cb6bb13058618a8"
   },
   "outputs": [
    {
     "data": {
      "application/vnd.jupyter.widget-view+json": {
       "model_id": "dd03d16cb1e94d18ad2f9bb68afcc676",
       "version_major": 2,
       "version_minor": 0
      },
      "text/plain": [
       "HBox(children=(IntProgress(value=0, max=31), HTML(value='')))"
      ]
     },
     "metadata": {},
     "output_type": "display_data"
    },
    {
     "name": "stdout",
     "output_type": "stream",
     "text": [
      "\n",
      "[0.800375 0.8035   0.8035   0.805125 0.806    0.808    0.807875 0.8085\n",
      " 0.809375 0.80925  0.808875 0.808    0.808    0.809    0.810125 0.811125\n",
      " 0.810875 0.812    0.812125 0.81275  0.81225  0.811375 0.81125  0.811375\n",
      " 0.810875 0.810625 0.81025  0.8095   0.80875  0.808625 0.80725 ]\n"
     ]
    }
   ],
   "source": [
    "## Scoring for last model, choose threshold by validation data \n",
    "thresholds_ori = np.linspace(0.3, 0.7, 31)\n",
    "# Reverse sigmoid function: Use code below because the  sigmoid activation was removed\n",
    "thresholds = np.log(thresholds_ori/(1-thresholds_ori)) \n",
    "\n",
    "# ious = np.array([get_iou_vector(y_valid, preds_valid > threshold) for threshold in tqdm_notebook(thresholds)])\n",
    "# print(ious)\n",
    "ious = np.array([iou_metric_batch(y_valid, preds_valid > threshold) for threshold in tqdm_notebook(thresholds)])\n",
    "print(ious)"
   ]
  },
  {
   "cell_type": "code",
   "execution_count": 58,
   "metadata": {
    "_uuid": "ce197d87cf44fef681025160cba8e4081d15ed50"
   },
   "outputs": [
    {
     "data": {
      "text/plain": [
       "<matplotlib.legend.Legend at 0x7f2f40ad9be0>"
      ]
     },
     "execution_count": 58,
     "metadata": {},
     "output_type": "execute_result"
    },
    {
     "data": {
      "image/png": "[encoded data removed]",
      "text/plain": [
       "<Figure size 432x288 with 1 Axes>"
      ]
     },
     "metadata": {
      "needs_background": "light"
     },
     "output_type": "display_data"
    }
   ],
   "source": [
    "threshold_best_index = np.argmax(ious)\n",
    "iou_best = ious[threshold_best_index]\n",
    "threshold_best = thresholds[threshold_best_index]\n",
    "\n",
    "plt.plot(thresholds, ious)\n",
    "plt.plot(threshold_best, iou_best, 'xr', label='Best threshold')\n",
    "plt.xlabel(\"Threshold\")\n",
    "plt.ylabel(\"IoU\")\n",
    "plt.title(\"Threshold vs IoU ({}, {})\".format(threshold_best, iou_best))\n",
    "plt.legend()"
   ]
  },
  {
   "cell_type": "code",
   "execution_count": 59,
   "metadata": {
    "_uuid": "2633e0c50ddb705021a35441c6a19fae9312603e"
   },
   "outputs": [],
   "source": [
    "def rle_encode(im):\n",
    "    '''\n",
    "    im: numpy array, 1-mask, 0-background\n",
    "    Returns run length as string\n",
    "    '''\n",
    "    pixels = im.flatten(order='F')\n",
    "    pixels = np.concatenate([[0], pixels, [0]])\n",
    "    runs = np.where(pixels[1:] != pixels[:-1])[0] + 1\n",
    "    runs[1::2] -= runs[::2]\n",
    "    return ' '.join(str(x) for x in runs)"
   ]
  },
  {
   "cell_type": "code",
   "execution_count": 60,
   "metadata": {
    "_uuid": "3c29b25a37ceb7476bc0264ea3a97dc705e07607"
   },
   "outputs": [
    {
     "data": {
      "application/vnd.jupyter.widget-view+json": {
       "model_id": "77fa14cf15b5485a9bb06d710686b3d3",
       "version_major": 2,
       "version_minor": 0
      },
      "text/plain": [
       "HBox(children=(IntProgress(value=0, max=18000), HTML(value='')))"
      ]
     },
     "metadata": {},
     "output_type": "display_data"
    },
    {
     "name": "stdout",
     "output_type": "stream",
     "text": [
      "\n"
     ]
    }
   ],
   "source": [
    "x_test = np.array([(np.array(load_img(f\"{DATA_DIR}test/images/{idx}.png\", color_mode='grayscale'))) / 255 for idx in tqdm_notebook(test_df.index)]).reshape(-1, img_size_target, img_size_target, 1)"
   ]
  },
  {
   "cell_type": "code",
   "execution_count": 61,
   "metadata": {
    "_uuid": "e129e7c3e525b884322570ed37da825cd89db290"
   },
   "outputs": [],
   "source": [
    "preds_test = predict_result(model,x_test,img_size_target)"
   ]
  },
  {
   "cell_type": "code",
   "execution_count": 62,
   "metadata": {
    "_uuid": "aac939d180585abab6dd497a45f81e3df67b25a8"
   },
   "outputs": [
    {
     "data": {
      "application/vnd.jupyter.widget-view+json": {
       "model_id": "9ac88df851a84fae99a6318968f5338d",
       "version_major": 2,
       "version_minor": 0
      },
      "text/plain": [
       "HBox(children=(IntProgress(value=0, max=18000), HTML(value='')))"
      ]
     },
     "metadata": {},
     "output_type": "display_data"
    },
    {
     "name": "stdout",
     "output_type": "stream",
     "text": [
      "\n"
     ]
    }
   ],
   "source": [
    "pred_dict = {idx: rle_encode(np.round(downsample(preds_test[i]) > threshold_best)) for i, idx in enumerate(tqdm_notebook(test_df.index.values))}"
   ]
  },
  {
   "cell_type": "code",
   "execution_count": 63,
   "metadata": {
    "_uuid": "2d6ef314f368bf9923285007e7098c068af049d9"
   },
   "outputs": [],
   "source": [
    "sub = pd.DataFrame.from_dict(pred_dict,orient='index')\n",
    "sub.index.names = ['id']\n",
    "sub.columns = ['rle_mask']\n",
    "sub.to_csv(submission_file)"
   ]
  },
  {
   "cell_type": "code",
   "execution_count": 64,
   "metadata": {
    "_uuid": "ae636758e7abdc7fb87768cbfb2c6f18f8c1975f"
   },
   "outputs": [
    {
     "name": "stdout",
     "output_type": "stream",
     "text": [
      "Kernel run time = 0.9137754223081801 hours\n"
     ]
    }
   ],
   "source": [
    "t_finish = time.time()\n",
    "print(f\"Kernel run time = {(t_finish-t_start)/3600} hours\")"
   ]
  },
  {
   "cell_type": "code",
   "execution_count": null,
   "metadata": {},
   "outputs": [],
   "source": []
  }
 ],
 "metadata": {
  "kernelspec": {
   "display_name": "Python 3",
   "language": "python",
   "name": "python3"
  },
  "language_info": {
   "codemirror_mode": {
    "name": "ipython",
    "version": 3
   },
   "file_extension": ".py",
   "mimetype": "text/x-python",
   "name": "python",
   "nbconvert_exporter": "python",
   "pygments_lexer": "ipython3",
   "version": "3.6.6"
  },
  "toc": {
   "base_numbering": 1,
   "nav_menu": {},
   "number_sections": true,
   "sideBar": true,
   "skip_h1_title": false,
   "title_cell": "Table of Contents",
   "title_sidebar": "Contents",
   "toc_cell": false,
   "toc_position": {},
   "toc_section_display": true,
   "toc_window_display": false
  }
 },
 "nbformat": 4,
 "nbformat_minor": 1
}
