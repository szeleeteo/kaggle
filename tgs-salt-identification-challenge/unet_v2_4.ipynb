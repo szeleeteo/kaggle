{
 "cells": [
  {
   "cell_type": "markdown",
   "metadata": {},
   "source": [
    "- With stratified k fold\n",
    "- img_aug image augmentation\n",
    "- tweak adam learning rate for second model\n",
    "- remove image where mask have only 1 to 10 white pixels"
   ]
  },
  {
   "cell_type": "markdown",
   "metadata": {},
   "source": [
    "# Import Dependencies"
   ]
  },
  {
   "cell_type": "code",
   "execution_count": 1,
   "metadata": {
    "_cell_guid": "b1076dfc-b9ad-4769-8c92-a6c4dae69d19",
    "_uuid": "8f2839f25d086af736a60e9eeb907d3b93b6e0e5"
   },
   "outputs": [
    {
     "name": "stderr",
     "output_type": "stream",
     "text": [
      "Using TensorFlow backend.\n"
     ]
    }
   ],
   "source": [
    "import os\n",
    "import sys\n",
    "import random\n",
    "import numpy as np\n",
    "import pandas as pd\n",
    "import matplotlib.pyplot as plt\n",
    "plt.style.use('seaborn-white')\n",
    "import seaborn as sns\n",
    "sns.set_style('white')\n",
    "\n",
    "%matplotlib inline\n",
    "\n",
    "from sklearn.model_selection import train_test_split\n",
    "from sklearn.model_selection import StratifiedKFold\n",
    "\n",
    "from tqdm import tqdm_notebook\n",
    "\n",
    "from skimage.io import imread, imshow\n",
    "from skimage.transform import resize\n",
    "from skimage.morphology import label\n",
    "\n",
    "from keras.models import Model, load_model, save_model\n",
    "from keras.layers import Input, Dropout, BatchNormalization, Activation, Add\n",
    "from keras.layers.core import Lambda\n",
    "from keras.layers.convolutional import Conv2D, Conv2DTranspose\n",
    "from keras.layers.pooling import MaxPooling2D\n",
    "from keras.layers.merge import concatenate\n",
    "from keras.callbacks import EarlyStopping, ModelCheckpoint, ReduceLROnPlateau\n",
    "from keras import backend as K\n",
    "from keras import optimizers\n",
    "import tensorflow as tf\n",
    "from keras.preprocessing.image import array_to_img, img_to_array, load_img\n",
    "\n",
    "import time\n",
    "t_start = time.time()"
   ]
  },
  {
   "cell_type": "code",
   "execution_count": 2,
   "metadata": {},
   "outputs": [
    {
     "name": "stdout",
     "output_type": "stream",
     "text": [
      "1.10.1\n"
     ]
    }
   ],
   "source": [
    "print(tf.__version__)"
   ]
  },
  {
   "cell_type": "markdown",
   "metadata": {},
   "source": [
    "# Pre-process Data"
   ]
  },
  {
   "cell_type": "code",
   "execution_count": 3,
   "metadata": {},
   "outputs": [],
   "source": [
    "DATA_DIR = 'data/salt/'"
   ]
  },
  {
   "cell_type": "code",
   "execution_count": 4,
   "metadata": {},
   "outputs": [],
   "source": [
    "cv_total = 4\n",
    "cv_index = 1  # 0,1,2,3"
   ]
  },
  {
   "cell_type": "code",
   "execution_count": 5,
   "metadata": {
    "_cell_guid": "79c7e3d0-c299-4dcb-8224-4455121ee9b0",
    "_uuid": "d629ff2d2480ee46fbb7e2d37f6b5fab8052498a"
   },
   "outputs": [
    {
     "name": "stdout",
     "output_type": "stream",
     "text": [
      "unet_v2_4A_cv1.model\n",
      "unet_v2_4B_cv1.model\n",
      "unet_v2_4_cv1.csv\n"
     ]
    }
   ],
   "source": [
    "version = 4\n",
    "basic_name = f'unet_v2_{version}'\n",
    "save_model_name = basic_name + 'A_cv' + str(cv_index) + '.model'\n",
    "save_model_nameB = basic_name + 'B_cv' + str(cv_index) + '.model'\n",
    "submission_file = basic_name + '_cv' + str(cv_index) + '.csv'\n",
    "\n",
    "print(save_model_name)\n",
    "print(save_model_nameB)\n",
    "print(submission_file)"
   ]
  },
  {
   "cell_type": "code",
   "execution_count": 6,
   "metadata": {
    "_uuid": "4a7f9e82027f04b17b56c177a1831abf25abe2c8"
   },
   "outputs": [],
   "source": [
    "img_size_ori = 101\n",
    "img_size_target = 101\n",
    "\n",
    "def upsample(img):# not used\n",
    "    if img_size_ori == img_size_target:\n",
    "        return img\n",
    "    return resize(img, (img_size_target, img_size_target), mode='constant', preserve_range=True)\n",
    "    \n",
    "def downsample(img):# not used\n",
    "    if img_size_ori == img_size_target:\n",
    "        return img\n",
    "    return resize(img, (img_size_ori, img_size_ori), mode='constant', preserve_range=True)"
   ]
  },
  {
   "cell_type": "code",
   "execution_count": 7,
   "metadata": {
    "_uuid": "419fa6e1ad5218241f08f954453fa3899de8e2e7"
   },
   "outputs": [
    {
     "data": {
      "text/plain": [
       "4000"
      ]
     },
     "execution_count": 7,
     "metadata": {},
     "output_type": "execute_result"
    }
   ],
   "source": [
    "# Loading of training/testing ids and depths\n",
    "train_df = pd.read_csv(f\"{DATA_DIR}train.csv\", index_col=\"id\", usecols=[0])\n",
    "depths_df = pd.read_csv(f\"{DATA_DIR}depths.csv\", index_col=\"id\")\n",
    "train_df = train_df.join(depths_df)\n",
    "test_df = depths_df[~depths_df.index.isin(train_df.index)]\n",
    "\n",
    "len(train_df)"
   ]
  },
  {
   "cell_type": "code",
   "execution_count": 8,
   "metadata": {
    "_uuid": "fc276e696e66de8ab00b68dce1863fa55eb5023d"
   },
   "outputs": [
    {
     "data": {
      "application/vnd.jupyter.widget-view+json": {
       "model_id": "052bac1f2dbf42adb958308740858964",
       "version_major": 2,
       "version_minor": 0
      },
      "text/plain": [
       "HBox(children=(IntProgress(value=0, max=4000), HTML(value='')))"
      ]
     },
     "metadata": {},
     "output_type": "display_data"
    },
    {
     "name": "stdout",
     "output_type": "stream",
     "text": [
      "\n"
     ]
    }
   ],
   "source": [
    "train_df[\"images\"] = [np.array(load_img(f\"{DATA_DIR}train/images/{idx}.png\", color_mode='grayscale')) / 255 for idx in tqdm_notebook(train_df.index)]"
   ]
  },
  {
   "cell_type": "code",
   "execution_count": 9,
   "metadata": {
    "_uuid": "a2339c6c3b81280839f05269b2314be4541fa5c4"
   },
   "outputs": [
    {
     "data": {
      "application/vnd.jupyter.widget-view+json": {
       "model_id": "73920226e2ca4b0a9a8003732accdace",
       "version_major": 2,
       "version_minor": 0
      },
      "text/plain": [
       "HBox(children=(IntProgress(value=0, max=4000), HTML(value='')))"
      ]
     },
     "metadata": {},
     "output_type": "display_data"
    },
    {
     "name": "stdout",
     "output_type": "stream",
     "text": [
      "\n"
     ]
    }
   ],
   "source": [
    "train_df[\"masks\"] = [np.array(load_img(f\"{DATA_DIR}train/masks/{idx}.png\", color_mode='grayscale')) / 255 for idx in tqdm_notebook(train_df.index)]"
   ]
  },
  {
   "cell_type": "code",
   "execution_count": 10,
   "metadata": {
    "_uuid": "cbacf34c7506a867795260a9c615cb4427d62c2d"
   },
   "outputs": [],
   "source": [
    "train_df[\"coverage\"] = train_df.masks.map(np.sum) / pow(img_size_ori, 2)\n",
    "\n",
    "def cov_to_class(val):    \n",
    "    for i in range(0, 11):\n",
    "        if val * 10 <= i :\n",
    "            return i\n",
    "        \n",
    "train_df[\"coverage_class\"] = train_df.coverage.map(cov_to_class)"
   ]
  },
  {
   "cell_type": "code",
   "execution_count": 11,
   "metadata": {
    "_uuid": "c535341361ea08ec77f6821719b7045f308895d3"
   },
   "outputs": [
    {
     "data": {
      "text/plain": [
       "Text(0.5, 0, 'Coverage class')"
      ]
     },
     "execution_count": 11,
     "metadata": {},
     "output_type": "execute_result"
    },
    {
     "data": {
      "image/png": "[encoded data removed]",
      "text/plain": [
       "<Figure size 1080x360 with 2 Axes>"
      ]
     },
     "metadata": {
      "needs_background": "light"
     },
     "output_type": "display_data"
    }
   ],
   "source": [
    "fig, axs = plt.subplots(1, 2, figsize=(15,5))\n",
    "sns.distplot(train_df.coverage, kde=False, ax=axs[0])\n",
    "sns.distplot(train_df.coverage_class, bins=10, kde=False, ax=axs[1])\n",
    "plt.suptitle(\"Salt coverage\")\n",
    "axs[0].set_xlabel(\"Coverage\")\n",
    "axs[1].set_xlabel(\"Coverage class\")"
   ]
  },
  {
   "cell_type": "code",
   "execution_count": 12,
   "metadata": {
    "_uuid": "d150fb85dd998ab4dd241c66e52d247ab667dce0"
   },
   "outputs": [
    {
     "data": {
      "text/plain": [
       "Text(0.5, 1.0, 'Depth distribution')"
      ]
     },
     "execution_count": 12,
     "metadata": {},
     "output_type": "execute_result"
    },
    {
     "data": {
      "image/png": "[encoded data removed]",
      "text/plain": [
       "<Figure size 432x288 with 1 Axes>"
      ]
     },
     "metadata": {
      "needs_background": "light"
     },
     "output_type": "display_data"
    }
   ],
   "source": [
    "# Plotting the depth distributions\n",
    "\n",
    "sns.distplot(train_df.z, label=\"Train\")\n",
    "sns.distplot(test_df.z, label=\"Test\")\n",
    "plt.legend()\n",
    "plt.title(\"Depth distribution\")"
   ]
  },
  {
   "cell_type": "markdown",
   "metadata": {},
   "source": [
    "# Split Data"
   ]
  },
  {
   "cell_type": "code",
   "execution_count": 13,
   "metadata": {
    "_uuid": "2ea5c45300c08b06c60548dd09831cff38878551"
   },
   "outputs": [],
   "source": [
    "# # Create train/validation split stratified by salt coverage\n",
    "# ids_train, ids_valid, x_train, x_valid, y_train, y_valid, cov_train, cov_test, depth_train, depth_test = \\\n",
    "# train_test_split(train_df.index.values, \n",
    "#                  np.array(train_df.images.map(upsample).tolist()).reshape(-1, img_size_target, img_size_target, 1),\n",
    "#                  np.array(train_df.masks.map(upsample).tolist()).reshape(-1, img_size_target, img_size_target, 1),\n",
    "#                  train_df.coverage.values, \n",
    "#                  train_df.z.values, \n",
    "#                  test_size=0.2, stratify=train_df.coverage_class, random_state=555)"
   ]
  },
  {
   "cell_type": "code",
   "execution_count": 14,
   "metadata": {},
   "outputs": [
    {
     "name": "stdout",
     "output_type": "stream",
     "text": [
      "(2996,) (1004,)\n",
      "(2999,) (1001,)\n",
      "(3002,) (998,)\n",
      "(3003,) (997,)\n"
     ]
    }
   ],
   "source": [
    "train_all = []\n",
    "evaluate_all = []\n",
    "skf = StratifiedKFold(n_splits=cv_total, random_state=555, shuffle=True)\n",
    "\n",
    "for train_index, evaluate_index in skf.split(train_df.index.values, train_df.coverage_class):\n",
    "    train_all.append(train_index)\n",
    "    evaluate_all.append(evaluate_index)\n",
    "    print(train_index.shape, evaluate_index.shape) # the shape is slightly different in different cv, it's OK"
   ]
  },
  {
   "cell_type": "code",
   "execution_count": 15,
   "metadata": {},
   "outputs": [],
   "source": [
    "def get_cv_data(cv_index):\n",
    "    train_index = train_all[cv_index-1]\n",
    "    evaluate_index = evaluate_all[cv_index-1]\n",
    "    x_train = np.array(train_df.images[train_index].map(upsample).tolist()).reshape(-1, img_size_target, img_size_target, 1)\n",
    "    y_train = np.array(train_df.masks[train_index].map(upsample).tolist()).reshape(-1, img_size_target, img_size_target, 1)\n",
    "    x_valid = np.array(train_df.images[evaluate_index].map(upsample).tolist()).reshape(-1, img_size_target, img_size_target, 1)\n",
    "    y_valid = np.array(train_df.masks[evaluate_index].map(upsample).tolist()).reshape(-1, img_size_target, img_size_target, 1)\n",
    "    return x_train,y_train,x_valid,y_valid"
   ]
  },
  {
   "cell_type": "code",
   "execution_count": 16,
   "metadata": {},
   "outputs": [],
   "source": [
    "x_train, y_train, x_valid, y_valid =  get_cv_data(cv_index+1)    "
   ]
  },
  {
   "cell_type": "code",
   "execution_count": 17,
   "metadata": {},
   "outputs": [
    {
     "data": {
      "text/plain": [
       "array([0.6])"
      ]
     },
     "execution_count": 17,
     "metadata": {},
     "output_type": "execute_result"
    }
   ],
   "source": [
    "x_train[5,5,5]"
   ]
  },
  {
   "cell_type": "raw",
   "metadata": {},
   "source": [
    "x_train[5,5,5] = \n",
    "array([0.61176471]) cv=0\n",
    "array([0.6])        cv=1\n",
    "array([0.44313725]) cv=2\n",
    "array([0.70588235]) cv=3"
   ]
  },
  {
   "cell_type": "code",
   "execution_count": 18,
   "metadata": {},
   "outputs": [
    {
     "data": {
      "text/plain": [
       "(2999, 2999)"
      ]
     },
     "execution_count": 18,
     "metadata": {},
     "output_type": "execute_result"
    }
   ],
   "source": [
    "len(x_train), len(y_train)"
   ]
  },
  {
   "cell_type": "markdown",
   "metadata": {},
   "source": [
    "# Data augmentation"
   ]
  },
  {
   "cell_type": "code",
   "execution_count": 19,
   "metadata": {},
   "outputs": [],
   "source": [
    "def plot2x2Array(image, mask):\n",
    "    f, axarr = plt.subplots(1,2)\n",
    "    axarr[0].imshow(image, cmap=\"gray\")\n",
    "    axarr[1].imshow(mask, cmap=\"gray\")\n",
    "    axarr[0].grid(False)\n",
    "    axarr[1].grid(False)\n",
    "    axarr[0].set_title('Image')\n",
    "    axarr[1].set_title('Mask')"
   ]
  },
  {
   "cell_type": "code",
   "execution_count": 20,
   "metadata": {},
   "outputs": [
    {
     "data": {
      "image/png": "[encoded data removed]",
      "text/plain": [
       "<Figure size 432x288 with 2 Axes>"
      ]
     },
     "metadata": {
      "needs_background": "light"
     },
     "output_type": "display_data"
    }
   ],
   "source": [
    "i = 21\n",
    "plot2x2Array(x_train[i,:,:,0], y_train[i,:,:,0])"
   ]
  },
  {
   "cell_type": "code",
   "execution_count": 21,
   "metadata": {},
   "outputs": [],
   "source": [
    "from imgaug import augmenters as iaa\n",
    "import imgaug as ia\n",
    "\n",
    "sometimes = lambda aug: iaa.Sometimes(0.9, aug)"
   ]
  },
  {
   "cell_type": "code",
   "execution_count": 22,
   "metadata": {},
   "outputs": [],
   "source": [
    "affine_seq = iaa.Sequential(\n",
    "    [\n",
    "        iaa.Fliplr(0.5), # horizontally flip 50% of all images\n",
    "        # crop images by -5% to 10% of their height/width\n",
    "        sometimes(iaa.CropAndPad(\n",
    "            percent=(-0.05, 0.05),\n",
    "            pad_mode= 'symmetric',\n",
    "            pad_cval=(0, 1),\n",
    "        )),\n",
    "        sometimes(iaa.Affine(\n",
    "            scale={\"x\": (0.95, 1.05), \"y\": (0.95, 1.05)}, # scale images to 80-120% of their size, individually per axis\n",
    "            translate_percent={\"x\": (-0.05, 0.05), \"y\": (-0.05, 0.05)}, # translate by -20 to +20 percent (per axis)\n",
    "            shear=(-5, 5), # shear by -16 to +16 degrees\n",
    "            cval=(0, 1), # if mode is constant, use a cval between 0 and 255\n",
    "            mode='symmetric',\n",
    "        )),\n",
    "    \n",
    "], random_order=True)"
   ]
  },
  {
   "cell_type": "code",
   "execution_count": 23,
   "metadata": {},
   "outputs": [],
   "source": [
    "seq_det = affine_seq.to_deterministic()\n",
    "aug_img = seq_det.augment_image(x_train[i,:,:])\n",
    "aug_mask = seq_det.augment_image(y_train[i,:,:])"
   ]
  },
  {
   "cell_type": "code",
   "execution_count": 24,
   "metadata": {},
   "outputs": [],
   "source": [
    "# plot2x2Array(x_train[i,:,:,0], aug_img[:,:,0])\n",
    "# plot2x2Array(y_train[i,:,:,0], aug_mask[:,:,0])"
   ]
  },
  {
   "cell_type": "code",
   "execution_count": 25,
   "metadata": {},
   "outputs": [],
   "source": [
    "aug_mask = np.where(aug_mask[:,:,0] > 0.5, 1, 0)"
   ]
  },
  {
   "cell_type": "code",
   "execution_count": 26,
   "metadata": {},
   "outputs": [
    {
     "data": {
      "text/plain": [
       "array([0., 1.])"
      ]
     },
     "execution_count": 26,
     "metadata": {},
     "output_type": "execute_result"
    }
   ],
   "source": [
    "np.unique(y_train[i,:,:,0])"
   ]
  },
  {
   "cell_type": "code",
   "execution_count": 27,
   "metadata": {},
   "outputs": [
    {
     "data": {
      "text/plain": [
       "array([0, 1])"
      ]
     },
     "execution_count": 27,
     "metadata": {},
     "output_type": "execute_result"
    }
   ],
   "source": [
    "np.unique(aug_mask)"
   ]
  },
  {
   "cell_type": "code",
   "execution_count": 28,
   "metadata": {},
   "outputs": [],
   "source": [
    "# plot2x2Array(y_train[i,:,:,0], aug_mask)"
   ]
  },
  {
   "cell_type": "code",
   "execution_count": 29,
   "metadata": {},
   "outputs": [],
   "source": [
    "# x = x_train[21]\n",
    "# y = y_train[21]\n",
    "# print((x.shape),(y.shape))\n",
    "\n",
    "# seq_det = affine_seq.to_deterministic()\n",
    "# aug_img = seq_det.augment_image(x)\n",
    "# aug_mask = seq_det.augment_image(y)\n",
    "# aug_mask[:,:,0] = np.where(aug_mask[:,:,0] > 0.5, 1, 0)\n",
    "\n",
    "# print((aug_img.shape),(aug_mask.shape))\n",
    "# plot2x2Array(x[:,:,0], y[:,:,0])\n",
    "\n",
    "# plot2x2Array(aug_img[:,:,0], aug_mask[:,:,0])"
   ]
  },
  {
   "cell_type": "code",
   "execution_count": 30,
   "metadata": {},
   "outputs": [],
   "source": [
    "# x_aug_list=[]\n",
    "# y_aug_list=[]\n",
    "\n",
    "# for x,y in tqdm_notebook(zip(x_train, y_train)):\n",
    "#     seq_det = affine_seq.to_deterministic()\n",
    "    \n",
    "#     aug_img = seq_det.augment_image(x)\n",
    "#     aug_mask = seq_det.augment_image(y)\n",
    "#     aug_mask[:,:,0] = np.where(aug_mask[:,:,0] > 0.5, 1, 0)\n",
    "\n",
    "#     x_aug_list.append(aug_img)\n",
    "#     y_aug_list.append(aug_mask)"
   ]
  },
  {
   "cell_type": "code",
   "execution_count": 31,
   "metadata": {},
   "outputs": [],
   "source": [
    "x_train = np.append(x_train, [np.fliplr(x) for x in x_train], axis=0)\n",
    "y_train = np.append(y_train, [np.fliplr(x) for x in y_train], axis=0)"
   ]
  },
  {
   "cell_type": "code",
   "execution_count": 32,
   "metadata": {},
   "outputs": [],
   "source": [
    "# x_aug = np.array(x_aug_list)\n",
    "# y_aug = np.array(y_aug_list)"
   ]
  },
  {
   "cell_type": "code",
   "execution_count": 33,
   "metadata": {},
   "outputs": [],
   "source": [
    "# x_aug.shape"
   ]
  },
  {
   "cell_type": "code",
   "execution_count": 34,
   "metadata": {},
   "outputs": [],
   "source": [
    "# x_train = np.append(x_train, x_aug, axis=0)\n",
    "# y_train = np.append(y_train, y_aug, axis=0)"
   ]
  },
  {
   "cell_type": "code",
   "execution_count": 35,
   "metadata": {
    "_uuid": "3a4ffe206d6ea50da3d8ccb8ec8d219a2e6cca94"
   },
   "outputs": [
    {
     "name": "stdout",
     "output_type": "stream",
     "text": [
      "(5998, 101, 101, 1)\n",
      "(1001, 101, 101, 1)\n"
     ]
    }
   ],
   "source": [
    "print(x_train.shape)\n",
    "print(y_valid.shape)"
   ]
  },
  {
   "cell_type": "code",
   "execution_count": 36,
   "metadata": {},
   "outputs": [],
   "source": [
    "# i = 188\n",
    "# plot2x2Array(x_train[i,:,:,0], y_train[i,:,:,0])"
   ]
  },
  {
   "cell_type": "code",
   "execution_count": 37,
   "metadata": {},
   "outputs": [],
   "source": [
    "# plot2x2Array(x_train[i+x_train_orig_len,:,:,0], y_train[i+x_train_orig_len,:,:,0])"
   ]
  },
  {
   "cell_type": "markdown",
   "metadata": {},
   "source": [
    "# Model Definitions"
   ]
  },
  {
   "cell_type": "code",
   "execution_count": 38,
   "metadata": {
    "_uuid": "92fe9e2757add49ffb55b4824aa3d833919efde5"
   },
   "outputs": [],
   "source": [
    "def BatchActivate(x):\n",
    "    x = BatchNormalization()(x)\n",
    "    x = Activation('relu')(x)\n",
    "    return x\n",
    "\n",
    "def convolution_block(x, filters, size, strides=(1,1), padding='same', activation=True):\n",
    "    x = Conv2D(filters, size, strides=strides, padding=padding)(x)\n",
    "    if activation==True: x = BatchActivate(x)\n",
    "    return x\n",
    "\n",
    "def residual_block(blockInput, num_filters=16, batch_activate=False):\n",
    "    x = BatchActivate(blockInput)\n",
    "    x = convolution_block(x, num_filters, (3,3))\n",
    "    x = convolution_block(x, num_filters, (3,3), activation=False)\n",
    "    x = Add()([x, blockInput])\n",
    "    if batch_activate: x = BatchActivate(x)\n",
    "    return x"
   ]
  },
  {
   "cell_type": "code",
   "execution_count": 39,
   "metadata": {
    "_uuid": "e9dfb108c78c80848dc4155a811dae46aec829f9"
   },
   "outputs": [],
   "source": [
    "# Build Model\n",
    "def build_model(input_layer, start_neurons, DropoutRatio=0.5):\n",
    "    # 101 -> 50\n",
    "    conv1 = Conv2D(start_neurons*1, (3,3), activation=None, padding='same')(input_layer)\n",
    "    conv1 = residual_block(conv1, start_neurons*1)\n",
    "    conv1 = residual_block(conv1, start_neurons*1, True)\n",
    "    pool1 = MaxPooling2D((2,2))(conv1)\n",
    "    pool1 = Dropout(DropoutRatio/2)(pool1)\n",
    "    \n",
    "    # 50 -> 25\n",
    "    conv2 = Conv2D(start_neurons*2, (3,3), activation=None, padding='same')(pool1)\n",
    "    conv2 = residual_block(conv2, start_neurons*2)\n",
    "    conv2 = residual_block(conv2, start_neurons*2, True)\n",
    "    pool2 = MaxPooling2D((2,2))(conv2)\n",
    "    pool2 = Dropout(DropoutRatio)(pool2)\n",
    "    \n",
    "    # 25 -> 12\n",
    "    conv3 = Conv2D(start_neurons*4, (3,3), activation=None, padding='same')(pool2)\n",
    "    conv3 = residual_block(conv3, start_neurons*4)\n",
    "    conv3 = residual_block(conv3, start_neurons*4, True)\n",
    "    pool3 = MaxPooling2D((2,2))(conv3)\n",
    "    pool3 = Dropout(DropoutRatio)(pool3)\n",
    "    \n",
    "    # 12 -> 6\n",
    "    conv4 = Conv2D(start_neurons*8, (3,3), activation=None, padding='same')(pool3)\n",
    "    conv4 = residual_block(conv4, start_neurons*8)\n",
    "    conv4 = residual_block(conv4, start_neurons*8, True)\n",
    "    pool4 = MaxPooling2D((2,2))(conv4)\n",
    "    pool4 = Dropout(DropoutRatio)(pool4)\n",
    "    \n",
    "    # Middle\n",
    "    convm = Conv2D(start_neurons*16, (3,3), activation=None, padding='same')(pool4)\n",
    "    convm = residual_block(convm, start_neurons*16)\n",
    "    convm = residual_block(convm, start_neurons*16, True)\n",
    "    \n",
    "    # 6 -> 12\n",
    "    deconv4 = Conv2DTranspose(start_neurons*8, (3,3), strides=(2,2), padding='same')(convm)\n",
    "    uconv4 = concatenate([deconv4, conv4])\n",
    "    uconv4 = Dropout(DropoutRatio)(uconv4)\n",
    "    \n",
    "    uconv4 = Conv2D(start_neurons*8, (3,3), activation=None, padding='same')(uconv4)\n",
    "    uconv4 = residual_block(uconv4, start_neurons*8)\n",
    "    uconv4 = residual_block(uconv4, start_neurons*8, True)\n",
    "    \n",
    "    # 12 -> 25\n",
    "    deconv3 = Conv2DTranspose(start_neurons*4, (3,3), strides=(2,2), padding='valid')(uconv4)\n",
    "    uconv3 = concatenate([deconv3, conv3])\n",
    "    uconv3 = Dropout(DropoutRatio)(uconv3)\n",
    "    \n",
    "    uconv3 = Conv2D(start_neurons*4, (3,3), activation=None, padding='same')(uconv3)\n",
    "    uconv3 = residual_block(uconv3, start_neurons*4)\n",
    "    uconv3 = residual_block(uconv3, start_neurons*4, True)\n",
    "    \n",
    "    # 25 -> 50\n",
    "    deconv2 = Conv2DTranspose(start_neurons*2, (3,3), strides=(2,2), padding='same')(uconv3)\n",
    "    uconv2 = concatenate([deconv2, conv2])\n",
    "    uconv2 = Dropout(DropoutRatio)(uconv2)\n",
    "    \n",
    "    uconv2 = Conv2D(start_neurons*2, (3,3), activation=None, padding='same')(uconv2)\n",
    "    uconv2 = residual_block(uconv2, start_neurons*2)\n",
    "    uconv2 = residual_block(uconv2, start_neurons*2, True)\n",
    "    \n",
    "    # 50 -> 101\n",
    "    deconv1 = Conv2DTranspose(start_neurons*1, (3,3), strides=(2,2), padding='valid')(uconv2)\n",
    "    uconv1 = concatenate([deconv1, conv1])\n",
    "    uconv1 = Dropout(DropoutRatio)(uconv1)\n",
    "    \n",
    "    uconv1 = Conv2D(start_neurons*1, (3,3), activation=None, padding='same')(uconv1)\n",
    "    uconv1 = residual_block(uconv1, start_neurons*1)\n",
    "    uconv1 = residual_block(uconv1, start_neurons*1, True)\n",
    "    \n",
    "    output_layer_noActi = Conv2D(1, (1,1), padding='same', activation=None)(uconv1)\n",
    "    output_layer = Activation('sigmoid')(output_layer_noActi)\n",
    "    \n",
    "    return output_layer"
   ]
  },
  {
   "cell_type": "markdown",
   "metadata": {},
   "source": [
    "# Metric Loss"
   ]
  },
  {
   "cell_type": "code",
   "execution_count": 40,
   "metadata": {
    "_uuid": "e4ee11d11d6a42da26b699cbf9ce5f005de91968"
   },
   "outputs": [],
   "source": [
    "def get_iou_vector(A, B):\n",
    "    batch_size = A.shape[0]\n",
    "    metric = []\n",
    "    for batch in range(batch_size):\n",
    "        t, p = A[batch]>0, B[batch]>0\n",
    "        intersection = np.logical_and(t, p)\n",
    "        union = np.logical_or(t, p)\n",
    "        iou = (np.sum(intersection > 0) + 1e-10 )/ (np.sum(union > 0) + 1e-10)\n",
    "        thresholds = np.arange(0.5, 1, 0.05)\n",
    "        s = []\n",
    "        for thresh in thresholds:\n",
    "            s.append(iou > thresh)\n",
    "        metric.append(np.mean(s))\n",
    "        \n",
    "    return np.mean(metric)\n",
    "\n",
    "def my_iou_metric(label, pred):\n",
    "    return tf.py_func(get_iou_vector, [label, pred>0.5], tf.float64)\n",
    "\n",
    "def my_iou_metric_2(label, pred):\n",
    "    return tf.py_func(get_iou_vector, [label, pred >0], tf.float64)"
   ]
  },
  {
   "cell_type": "code",
   "execution_count": 41,
   "metadata": {
    "_uuid": "72fdacfe6a31500522f7d4c6ba858120b93bc39d"
   },
   "outputs": [],
   "source": [
    "# code download from: https://github.com/bermanmaxim/LovaszSoftmax\n",
    "def lovasz_grad(gt_sorted):\n",
    "    \"\"\"\n",
    "    Computes gradient of the Lovasz extension w.r.t sorted errors\n",
    "    See Alg. 1 in paper\n",
    "    \"\"\"\n",
    "    gts = tf.reduce_sum(gt_sorted)\n",
    "    intersection = gts - tf.cumsum(gt_sorted)\n",
    "    union = gts + tf.cumsum(1. - gt_sorted)\n",
    "    jaccard = 1. - intersection / union\n",
    "    jaccard = tf.concat((jaccard[0:1], jaccard[1:] - jaccard[:-1]), 0)\n",
    "    return jaccard\n",
    "\n",
    "# --------------------------- BINARY LOSSES ---------------------------\n",
    "\n",
    "def lovasz_hinge(logits, labels, per_image=True, ignore=None):\n",
    "    \"\"\"\n",
    "    Binary Lovasz hinge loss\n",
    "      logits: [B, H, W] Variable, logits at each pixel (between -\\infty and +\\infty)\n",
    "      labels: [B, H, W] Tensor, binary ground truth masks (0 or 1)\n",
    "      per_image: compute the loss per image instead of per batch\n",
    "      ignore: void class id\n",
    "    \"\"\"\n",
    "    if per_image:\n",
    "        def treat_image(log_lab):\n",
    "            log, lab = log_lab\n",
    "            log, lab = tf.expand_dims(log, 0), tf.expand_dims(lab, 0)\n",
    "            log, lab = flatten_binary_scores(log, lab, ignore)\n",
    "            return lovasz_hinge_flat(log, lab)\n",
    "        losses = tf.map_fn(treat_image, (logits, labels), dtype=tf.float32)\n",
    "        loss = tf.reduce_mean(losses)\n",
    "    else:\n",
    "        loss = lovasz_hinge_flat(*flatten_binary_scores(logits, labels, ignore))\n",
    "    return loss\n",
    "\n",
    "def lovasz_hinge_flat(logits, labels):\n",
    "    \"\"\"\n",
    "    Binary Lovasz hinge loss\n",
    "      logits: [P] Variable, logits at each prediction (between -\\infty and +\\infty)\n",
    "      labels: [P] Tensor, binary ground truth labels (0 or 1)\n",
    "      ignore: label to ignore\n",
    "    \"\"\"\n",
    "\n",
    "    def compute_loss():\n",
    "        labelsf = tf.cast(labels, logits.dtype)\n",
    "        signs = 2. * labelsf - 1.\n",
    "        errors = 1. - logits * tf.stop_gradient(signs)\n",
    "        errors_sorted, perm = tf.nn.top_k(errors, k=tf.shape(errors)[0], name=\"descending_sort\")\n",
    "        gt_sorted = tf.gather(labelsf, perm)\n",
    "        grad = lovasz_grad(gt_sorted)\n",
    "        loss = tf.tensordot(tf.nn.elu(errors_sorted), tf.stop_gradient(grad), 1, name=\"loss_non_void\")\n",
    "        return loss\n",
    "\n",
    "    # deal with the void prediction case (only void pixels)\n",
    "    loss = tf.cond(tf.equal(tf.shape(logits)[0], 0),\n",
    "                   lambda: tf.reduce_sum(logits) * 0.,\n",
    "                   compute_loss,\n",
    "                   strict=True,\n",
    "                   name=\"loss\"\n",
    "                   )\n",
    "    return loss\n",
    "\n",
    "\n",
    "def flatten_binary_scores(scores, labels, ignore=None):\n",
    "    \"\"\"\n",
    "    Flattens predictions in the batch (binary case)\n",
    "    Remove labels equal to 'ignore'\n",
    "    \"\"\"\n",
    "    scores = tf.reshape(scores, (-1,))\n",
    "    labels = tf.reshape(labels, (-1,))\n",
    "    if ignore is None:\n",
    "        return scores, labels\n",
    "    valid = tf.not_equal(labels, ignore)\n",
    "    vscores = tf.boolean_mask(scores, valid, name='valid_scores')\n",
    "    vlabels = tf.boolean_mask(labels, valid, name='valid_labels')\n",
    "    return vscores, vlabels\n",
    "\n",
    "def lovasz_loss(y_true, y_pred):\n",
    "    y_true, y_pred = K.cast(K.squeeze(y_true, -1), 'int32'), K.cast(K.squeeze(y_pred, -1), 'float32')\n",
    "    #logits = K.log(y_pred / (1. - y_pred))\n",
    "    logits = y_pred #Jiaxin\n",
    "    loss = lovasz_hinge(logits, y_true, per_image = True, ignore = None)\n",
    "    return loss"
   ]
  },
  {
   "cell_type": "markdown",
   "metadata": {},
   "source": [
    "# Build Model"
   ]
  },
  {
   "cell_type": "code",
   "execution_count": 42,
   "metadata": {
    "_uuid": "a58d48a4974b7381a193615e54a828a211c92308"
   },
   "outputs": [],
   "source": [
    "input_layer = Input((img_size_target, img_size_target, 1))\n",
    "output_layer = build_model(input_layer, 16, 0.5)\n",
    "\n",
    "model1 = Model(input_layer, output_layer)"
   ]
  },
  {
   "cell_type": "code",
   "execution_count": 43,
   "metadata": {
    "_uuid": "a58d48a4974b7381a193615e54a828a211c92308"
   },
   "outputs": [],
   "source": [
    "epochs = 250\n",
    "batch_size = 128\n",
    "c = optimizers.adam(lr=0.003)\n",
    "\n",
    "model1.compile(loss=\"binary_crossentropy\", optimizer=c, metrics=[my_iou_metric])\n",
    "\n",
    "# model1.summary()"
   ]
  },
  {
   "cell_type": "code",
   "execution_count": 44,
   "metadata": {
    "_uuid": "bd402f81e3d8e0aad30b7c63836cb9d488105cef"
   },
   "outputs": [],
   "source": [
    "early_stopping = EarlyStopping(monitor='val_my_iou_metric', mode='max', patience=22, verbose=1)\n",
    "\n",
    "model_checkpoint = ModelCheckpoint(save_model_name, monitor='val_my_iou_metric', mode='max', \n",
    "                                   save_best_only=True, verbose=1)\n",
    "\n",
    "reduce_lr = ReduceLROnPlateau(monitor='val_my_iou_metric', mode='max', factor=0.5, patience=6,\n",
    "                              min_lr=0.0001, verbose=1)"
   ]
  },
  {
   "cell_type": "code",
   "execution_count": 45,
   "metadata": {
    "_uuid": "bd402f81e3d8e0aad30b7c63836cb9d488105cef",
    "scrolled": false
   },
   "outputs": [
    {
     "name": "stdout",
     "output_type": "stream",
     "text": [
      "Train on 5998 samples, validate on 1001 samples\n",
      "Epoch 1/250\n",
      "5998/5998 [==============================] - 79s 13ms/step - loss: 0.4790 - my_iou_metric: 0.3057 - val_loss: 3.6041 - val_my_iou_metric: 7.9920e-04\n",
      "\n",
      "Epoch 00001: val_my_iou_metric improved from -inf to 0.00080, saving model to unet_v2_4A_cv1.model\n",
      "Epoch 2/250\n",
      "5998/5998 [==============================] - 61s 10ms/step - loss: 0.3238 - my_iou_metric: 0.5292 - val_loss: 1.3085 - val_my_iou_metric: 0.0582\n",
      "\n",
      "Epoch 00002: val_my_iou_metric improved from 0.00080 to 0.05824, saving model to unet_v2_4A_cv1.model\n",
      "Epoch 3/250\n",
      "5998/5998 [==============================] - 61s 10ms/step - loss: 0.2729 - my_iou_metric: 0.5150 - val_loss: 2.9757 - val_my_iou_metric: 0.0981\n",
      "\n",
      "Epoch 00003: val_my_iou_metric improved from 0.05824 to 0.09810, saving model to unet_v2_4A_cv1.model\n",
      "Epoch 4/250\n",
      "5998/5998 [==============================] - 61s 10ms/step - loss: 0.2394 - my_iou_metric: 0.5575 - val_loss: 0.6814 - val_my_iou_metric: 0.1541\n",
      "\n",
      "Epoch 00004: val_my_iou_metric improved from 0.09810 to 0.15415, saving model to unet_v2_4A_cv1.model\n",
      "Epoch 5/250\n",
      "5998/5998 [==============================] - 61s 10ms/step - loss: 0.2243 - my_iou_metric: 0.5697 - val_loss: 0.7500 - val_my_iou_metric: 0.4386\n",
      "\n",
      "Epoch 00005: val_my_iou_metric improved from 0.15415 to 0.43856, saving model to unet_v2_4A_cv1.model\n",
      "Epoch 6/250\n",
      "5998/5998 [==============================] - 61s 10ms/step - loss: 0.2146 - my_iou_metric: 0.6007 - val_loss: 0.4122 - val_my_iou_metric: 0.5068\n",
      "\n",
      "Epoch 00006: val_my_iou_metric improved from 0.43856 to 0.50679, saving model to unet_v2_4A_cv1.model\n",
      "Epoch 7/250\n",
      "5998/5998 [==============================] - 61s 10ms/step - loss: 0.2081 - my_iou_metric: 0.6106 - val_loss: 0.3707 - val_my_iou_metric: 0.5314\n",
      "\n",
      "Epoch 00007: val_my_iou_metric improved from 0.50679 to 0.53137, saving model to unet_v2_4A_cv1.model\n",
      "Epoch 8/250\n",
      "5998/5998 [==============================] - 61s 10ms/step - loss: 0.2015 - my_iou_metric: 0.6023 - val_loss: 0.3652 - val_my_iou_metric: 0.5687\n",
      "\n",
      "Epoch 00008: val_my_iou_metric improved from 0.53137 to 0.56873, saving model to unet_v2_4A_cv1.model\n",
      "Epoch 9/250\n",
      "5998/5998 [==============================] - 61s 10ms/step - loss: 0.1930 - my_iou_metric: 0.6248 - val_loss: 0.2367 - val_my_iou_metric: 0.6032\n",
      "\n",
      "Epoch 00009: val_my_iou_metric improved from 0.56873 to 0.60320, saving model to unet_v2_4A_cv1.model\n",
      "Epoch 10/250\n",
      "5998/5998 [==============================] - 61s 10ms/step - loss: 0.1884 - my_iou_metric: 0.6367 - val_loss: 0.4462 - val_my_iou_metric: 0.4520\n",
      "\n",
      "Epoch 00010: val_my_iou_metric did not improve from 0.60320\n",
      "Epoch 11/250\n",
      "5998/5998 [==============================] - 61s 10ms/step - loss: 0.1769 - my_iou_metric: 0.6556 - val_loss: 0.2749 - val_my_iou_metric: 0.5784\n",
      "\n",
      "Epoch 00011: val_my_iou_metric did not improve from 0.60320\n",
      "Epoch 12/250\n",
      "5998/5998 [==============================] - 61s 10ms/step - loss: 0.1751 - my_iou_metric: 0.6553 - val_loss: 0.2869 - val_my_iou_metric: 0.5323\n",
      "\n",
      "Epoch 00012: val_my_iou_metric did not improve from 0.60320\n",
      "Epoch 13/250\n",
      "5998/5998 [==============================] - 61s 10ms/step - loss: 0.1813 - my_iou_metric: 0.6515 - val_loss: 1.0446 - val_my_iou_metric: 0.0852\n",
      "\n",
      "Epoch 00013: val_my_iou_metric did not improve from 0.60320\n",
      "Epoch 14/250\n",
      "5998/5998 [==============================] - 61s 10ms/step - loss: 0.1766 - my_iou_metric: 0.6554 - val_loss: 0.5397 - val_my_iou_metric: 0.4821\n",
      "\n",
      "Epoch 00014: val_my_iou_metric did not improve from 0.60320\n",
      "Epoch 15/250\n",
      "5998/5998 [==============================] - 61s 10ms/step - loss: 0.1673 - my_iou_metric: 0.6659 - val_loss: 0.2814 - val_my_iou_metric: 0.6019\n",
      "\n",
      "Epoch 00015: val_my_iou_metric did not improve from 0.60320\n",
      "\n",
      "Epoch 00015: ReduceLROnPlateau reducing learning rate to 0.001500000013038516.\n",
      "Epoch 16/250\n",
      "5998/5998 [==============================] - 61s 10ms/step - loss: 0.1568 - my_iou_metric: 0.6813 - val_loss: 0.2255 - val_my_iou_metric: 0.6293\n",
      "\n",
      "Epoch 00016: val_my_iou_metric improved from 0.60320 to 0.62927, saving model to unet_v2_4A_cv1.model\n",
      "Epoch 17/250\n",
      "5998/5998 [==============================] - 61s 10ms/step - loss: 0.1475 - my_iou_metric: 0.6911 - val_loss: 0.2112 - val_my_iou_metric: 0.6705\n",
      "\n",
      "Epoch 00017: val_my_iou_metric improved from 0.62927 to 0.67053, saving model to unet_v2_4A_cv1.model\n",
      "Epoch 18/250\n",
      "5998/5998 [==============================] - 61s 10ms/step - loss: 0.1498 - my_iou_metric: 0.6951 - val_loss: 0.1929 - val_my_iou_metric: 0.6538\n",
      "\n",
      "Epoch 00018: val_my_iou_metric did not improve from 0.67053\n",
      "Epoch 19/250\n",
      "5998/5998 [==============================] - 61s 10ms/step - loss: 0.1438 - my_iou_metric: 0.6967 - val_loss: 0.1852 - val_my_iou_metric: 0.7047\n",
      "\n",
      "Epoch 00019: val_my_iou_metric improved from 0.67053 to 0.70470, saving model to unet_v2_4A_cv1.model\n",
      "Epoch 20/250\n",
      "5998/5998 [==============================] - 61s 10ms/step - loss: 0.1345 - my_iou_metric: 0.7078 - val_loss: 0.1823 - val_my_iou_metric: 0.6991\n",
      "\n",
      "Epoch 00020: val_my_iou_metric did not improve from 0.70470\n",
      "Epoch 21/250\n",
      "5998/5998 [==============================] - 60s 10ms/step - loss: 0.1330 - my_iou_metric: 0.7080 - val_loss: 0.1742 - val_my_iou_metric: 0.6726\n",
      "\n",
      "Epoch 00021: val_my_iou_metric did not improve from 0.70470\n",
      "Epoch 22/250\n",
      "5998/5998 [==============================] - 61s 10ms/step - loss: 0.1282 - my_iou_metric: 0.7161 - val_loss: 0.1745 - val_my_iou_metric: 0.7066\n",
      "\n",
      "Epoch 00022: val_my_iou_metric improved from 0.70470 to 0.70659, saving model to unet_v2_4A_cv1.model\n",
      "Epoch 23/250\n",
      "5998/5998 [==============================] - 61s 10ms/step - loss: 0.1264 - my_iou_metric: 0.7241 - val_loss: 0.1726 - val_my_iou_metric: 0.7082\n",
      "\n",
      "Epoch 00023: val_my_iou_metric improved from 0.70659 to 0.70819, saving model to unet_v2_4A_cv1.model\n",
      "Epoch 24/250\n",
      "5998/5998 [==============================] - 61s 10ms/step - loss: 0.1258 - my_iou_metric: 0.7228 - val_loss: 0.2944 - val_my_iou_metric: 0.5912\n",
      "\n",
      "Epoch 00024: val_my_iou_metric did not improve from 0.70819\n",
      "Epoch 25/250\n",
      "5998/5998 [==============================] - 61s 10ms/step - loss: 0.1300 - my_iou_metric: 0.7173 - val_loss: 0.2250 - val_my_iou_metric: 0.6569\n",
      "\n",
      "Epoch 00025: val_my_iou_metric did not improve from 0.70819\n",
      "Epoch 26/250\n",
      "5998/5998 [==============================] - 61s 10ms/step - loss: 0.1247 - my_iou_metric: 0.7238 - val_loss: 0.1778 - val_my_iou_metric: 0.6970\n",
      "\n",
      "Epoch 00026: val_my_iou_metric did not improve from 0.70819\n",
      "Epoch 27/250\n",
      "5998/5998 [==============================] - 61s 10ms/step - loss: 0.1244 - my_iou_metric: 0.7292 - val_loss: 0.2009 - val_my_iou_metric: 0.6863\n",
      "\n",
      "Epoch 00027: val_my_iou_metric did not improve from 0.70819\n",
      "Epoch 28/250\n",
      "5998/5998 [==============================] - 61s 10ms/step - loss: 0.1155 - my_iou_metric: 0.7391 - val_loss: 0.1790 - val_my_iou_metric: 0.7040\n",
      "\n",
      "Epoch 00028: val_my_iou_metric did not improve from 0.70819\n",
      "Epoch 29/250\n",
      "5998/5998 [==============================] - 61s 10ms/step - loss: 0.1130 - my_iou_metric: 0.7384 - val_loss: 0.2225 - val_my_iou_metric: 0.6802\n",
      "\n",
      "Epoch 00029: val_my_iou_metric did not improve from 0.70819\n",
      "\n",
      "Epoch 00029: ReduceLROnPlateau reducing learning rate to 0.000750000006519258.\n",
      "Epoch 30/250\n",
      "5998/5998 [==============================] - 61s 10ms/step - loss: 0.1078 - my_iou_metric: 0.7515 - val_loss: 0.1695 - val_my_iou_metric: 0.7341\n",
      "\n",
      "Epoch 00030: val_my_iou_metric improved from 0.70819 to 0.73407, saving model to unet_v2_4A_cv1.model\n",
      "Epoch 31/250\n",
      "5998/5998 [==============================] - 61s 10ms/step - loss: 0.1046 - my_iou_metric: 0.7509 - val_loss: 0.1695 - val_my_iou_metric: 0.7315\n",
      "\n",
      "Epoch 00031: val_my_iou_metric did not improve from 0.73407\n",
      "Epoch 32/250\n",
      "5998/5998 [==============================] - 61s 10ms/step - loss: 0.0994 - my_iou_metric: 0.7534 - val_loss: 0.1665 - val_my_iou_metric: 0.7335\n",
      "\n",
      "Epoch 00032: val_my_iou_metric did not improve from 0.73407\n",
      "Epoch 33/250\n",
      "5998/5998 [==============================] - 61s 10ms/step - loss: 0.0988 - my_iou_metric: 0.7534 - val_loss: 0.1557 - val_my_iou_metric: 0.7290\n",
      "\n",
      "Epoch 00033: val_my_iou_metric did not improve from 0.73407\n",
      "Epoch 34/250\n",
      "5998/5998 [==============================] - 61s 10ms/step - loss: 0.1047 - my_iou_metric: 0.7485 - val_loss: 0.1655 - val_my_iou_metric: 0.7204\n"
     ]
    },
    {
     "name": "stdout",
     "output_type": "stream",
     "text": [
      "\n",
      "Epoch 00034: val_my_iou_metric did not improve from 0.73407\n",
      "Epoch 35/250\n",
      "5998/5998 [==============================] - 61s 10ms/step - loss: 0.0962 - my_iou_metric: 0.7613 - val_loss: 0.1793 - val_my_iou_metric: 0.7393\n",
      "\n",
      "Epoch 00035: val_my_iou_metric improved from 0.73407 to 0.73926, saving model to unet_v2_4A_cv1.model\n",
      "Epoch 36/250\n",
      "5998/5998 [==============================] - 61s 10ms/step - loss: 0.0945 - my_iou_metric: 0.7614 - val_loss: 0.1611 - val_my_iou_metric: 0.7363\n",
      "\n",
      "Epoch 00036: val_my_iou_metric did not improve from 0.73926\n",
      "Epoch 37/250\n",
      "5998/5998 [==============================] - 61s 10ms/step - loss: 0.0916 - my_iou_metric: 0.7686 - val_loss: 0.1745 - val_my_iou_metric: 0.7209\n",
      "\n",
      "Epoch 00037: val_my_iou_metric did not improve from 0.73926\n",
      "Epoch 38/250\n",
      "5998/5998 [==============================] - 61s 10ms/step - loss: 0.0967 - my_iou_metric: 0.7600 - val_loss: 0.1706 - val_my_iou_metric: 0.7355\n",
      "\n",
      "Epoch 00038: val_my_iou_metric did not improve from 0.73926\n",
      "Epoch 39/250\n",
      "5998/5998 [==============================] - 61s 10ms/step - loss: 0.0887 - my_iou_metric: 0.7664 - val_loss: 0.1690 - val_my_iou_metric: 0.7471\n",
      "\n",
      "Epoch 00039: val_my_iou_metric improved from 0.73926 to 0.74705, saving model to unet_v2_4A_cv1.model\n",
      "Epoch 40/250\n",
      "5998/5998 [==============================] - 61s 10ms/step - loss: 0.0945 - my_iou_metric: 0.7600 - val_loss: 0.1724 - val_my_iou_metric: 0.7340\n",
      "\n",
      "Epoch 00040: val_my_iou_metric did not improve from 0.74705\n",
      "Epoch 41/250\n",
      "5998/5998 [==============================] - 61s 10ms/step - loss: 0.0904 - my_iou_metric: 0.7649 - val_loss: 0.2501 - val_my_iou_metric: 0.6154\n",
      "\n",
      "Epoch 00041: val_my_iou_metric did not improve from 0.74705\n",
      "Epoch 42/250\n",
      "5998/5998 [==============================] - 61s 10ms/step - loss: 0.0939 - my_iou_metric: 0.7614 - val_loss: 0.1819 - val_my_iou_metric: 0.7352\n",
      "\n",
      "Epoch 00042: val_my_iou_metric did not improve from 0.74705\n",
      "Epoch 43/250\n",
      "5998/5998 [==============================] - 61s 10ms/step - loss: 0.0866 - my_iou_metric: 0.7708 - val_loss: 0.2136 - val_my_iou_metric: 0.7117\n",
      "\n",
      "Epoch 00043: val_my_iou_metric did not improve from 0.74705\n",
      "Epoch 44/250\n",
      "5998/5998 [==============================] - 61s 10ms/step - loss: 0.0900 - my_iou_metric: 0.7649 - val_loss: 0.1608 - val_my_iou_metric: 0.7502\n",
      "\n",
      "Epoch 00044: val_my_iou_metric improved from 0.74705 to 0.75025, saving model to unet_v2_4A_cv1.model\n",
      "Epoch 45/250\n",
      "5998/5998 [==============================] - 61s 10ms/step - loss: 0.0857 - my_iou_metric: 0.7690 - val_loss: 0.1550 - val_my_iou_metric: 0.7502\n",
      "\n",
      "Epoch 00045: val_my_iou_metric improved from 0.75025 to 0.75025, saving model to unet_v2_4A_cv1.model\n",
      "Epoch 46/250\n",
      "5998/5998 [==============================] - 61s 10ms/step - loss: 0.0874 - my_iou_metric: 0.7685 - val_loss: 0.1937 - val_my_iou_metric: 0.7183\n",
      "\n",
      "Epoch 00046: val_my_iou_metric did not improve from 0.75025\n",
      "Epoch 47/250\n",
      "5998/5998 [==============================] - 61s 10ms/step - loss: 0.0837 - my_iou_metric: 0.7720 - val_loss: 0.1756 - val_my_iou_metric: 0.7360\n",
      "\n",
      "Epoch 00047: val_my_iou_metric did not improve from 0.75025\n",
      "Epoch 48/250\n",
      "5998/5998 [==============================] - 61s 10ms/step - loss: 0.0876 - my_iou_metric: 0.7651 - val_loss: 0.1949 - val_my_iou_metric: 0.7144\n",
      "\n",
      "Epoch 00048: val_my_iou_metric did not improve from 0.75025\n",
      "Epoch 49/250\n",
      "5998/5998 [==============================] - 61s 10ms/step - loss: 0.0820 - my_iou_metric: 0.7739 - val_loss: 0.1694 - val_my_iou_metric: 0.7369\n",
      "\n",
      "Epoch 00049: val_my_iou_metric did not improve from 0.75025\n",
      "Epoch 50/250\n",
      "5998/5998 [==============================] - 61s 10ms/step - loss: 0.0787 - my_iou_metric: 0.7774 - val_loss: 0.1920 - val_my_iou_metric: 0.7513\n",
      "\n",
      "Epoch 00050: val_my_iou_metric improved from 0.75025 to 0.75135, saving model to unet_v2_4A_cv1.model\n",
      "Epoch 51/250\n",
      "5998/5998 [==============================] - 61s 10ms/step - loss: 0.0805 - my_iou_metric: 0.7777 - val_loss: 0.1763 - val_my_iou_metric: 0.7451\n",
      "\n",
      "Epoch 00051: val_my_iou_metric did not improve from 0.75135\n",
      "Epoch 52/250\n",
      "5998/5998 [==============================] - 61s 10ms/step - loss: 0.0782 - my_iou_metric: 0.7780 - val_loss: 0.1625 - val_my_iou_metric: 0.7502\n",
      "\n",
      "Epoch 00052: val_my_iou_metric did not improve from 0.75135\n",
      "Epoch 53/250\n",
      "5998/5998 [==============================] - 61s 10ms/step - loss: 0.0760 - my_iou_metric: 0.7750 - val_loss: 0.1840 - val_my_iou_metric: 0.7407\n",
      "\n",
      "Epoch 00053: val_my_iou_metric did not improve from 0.75135\n",
      "Epoch 54/250\n",
      "5998/5998 [==============================] - 61s 10ms/step - loss: 0.0816 - my_iou_metric: 0.7796 - val_loss: 0.1872 - val_my_iou_metric: 0.7170\n",
      "\n",
      "Epoch 00054: val_my_iou_metric did not improve from 0.75135\n",
      "Epoch 55/250\n",
      "5998/5998 [==============================] - 61s 10ms/step - loss: 0.0793 - my_iou_metric: 0.7764 - val_loss: 0.1925 - val_my_iou_metric: 0.7527\n",
      "\n",
      "Epoch 00055: val_my_iou_metric improved from 0.75135 to 0.75275, saving model to unet_v2_4A_cv1.model\n",
      "Epoch 56/250\n",
      "5998/5998 [==============================] - 61s 10ms/step - loss: 0.0742 - my_iou_metric: 0.7877 - val_loss: 0.1740 - val_my_iou_metric: 0.7428\n",
      "\n",
      "Epoch 00056: val_my_iou_metric did not improve from 0.75275\n",
      "Epoch 57/250\n",
      "5998/5998 [==============================] - 61s 10ms/step - loss: 0.0804 - my_iou_metric: 0.7769 - val_loss: 0.1645 - val_my_iou_metric: 0.7474\n",
      "\n",
      "Epoch 00057: val_my_iou_metric did not improve from 0.75275\n",
      "Epoch 58/250\n",
      "5998/5998 [==============================] - 61s 10ms/step - loss: 0.0757 - my_iou_metric: 0.7807 - val_loss: 0.1766 - val_my_iou_metric: 0.7486\n",
      "\n",
      "Epoch 00058: val_my_iou_metric did not improve from 0.75275\n",
      "Epoch 59/250\n",
      "5998/5998 [==============================] - 61s 10ms/step - loss: 0.0754 - my_iou_metric: 0.7845 - val_loss: 0.2044 - val_my_iou_metric: 0.7411\n",
      "\n",
      "Epoch 00059: val_my_iou_metric did not improve from 0.75275\n",
      "Epoch 60/250\n",
      " 256/5998 [>.............................] - ETA: 54s - loss: 0.0720 - my_iou_metric: 0.7812"
     ]
    },
    {
     "ename": "KeyboardInterrupt",
     "evalue": "",
     "output_type": "error",
     "traceback": [
      "\u001b[0;31m---------------------------------------------------------------------------\u001b[0m",
      "\u001b[0;31mKeyboardInterrupt\u001b[0m                         Traceback (most recent call last)",
      "\u001b[0;32m<timed exec>\u001b[0m in \u001b[0;36m<module>\u001b[0;34m\u001b[0m\n",
      "\u001b[0;32m~/anaconda3/envs/tf/lib/python3.6/site-packages/keras/engine/training.py\u001b[0m in \u001b[0;36mfit\u001b[0;34m(self, x, y, batch_size, epochs, verbose, callbacks, validation_split, validation_data, shuffle, class_weight, sample_weight, initial_epoch, steps_per_epoch, validation_steps, **kwargs)\u001b[0m\n\u001b[1;32m   1035\u001b[0m                                         \u001b[0minitial_epoch\u001b[0m\u001b[0;34m=\u001b[0m\u001b[0minitial_epoch\u001b[0m\u001b[0;34m,\u001b[0m\u001b[0;34m\u001b[0m\u001b[0m\n\u001b[1;32m   1036\u001b[0m                                         \u001b[0msteps_per_epoch\u001b[0m\u001b[0;34m=\u001b[0m\u001b[0msteps_per_epoch\u001b[0m\u001b[0;34m,\u001b[0m\u001b[0;34m\u001b[0m\u001b[0m\n\u001b[0;32m-> 1037\u001b[0;31m                                         validation_steps=validation_steps)\n\u001b[0m\u001b[1;32m   1038\u001b[0m \u001b[0;34m\u001b[0m\u001b[0m\n\u001b[1;32m   1039\u001b[0m     def evaluate(self, x=None, y=None,\n",
      "\u001b[0;32m~/anaconda3/envs/tf/lib/python3.6/site-packages/keras/engine/training_arrays.py\u001b[0m in \u001b[0;36mfit_loop\u001b[0;34m(model, f, ins, out_labels, batch_size, epochs, verbose, callbacks, val_f, val_ins, shuffle, callback_metrics, initial_epoch, steps_per_epoch, validation_steps)\u001b[0m\n\u001b[1;32m    197\u001b[0m                     \u001b[0mins_batch\u001b[0m\u001b[0;34m[\u001b[0m\u001b[0mi\u001b[0m\u001b[0;34m]\u001b[0m \u001b[0;34m=\u001b[0m \u001b[0mins_batch\u001b[0m\u001b[0;34m[\u001b[0m\u001b[0mi\u001b[0m\u001b[0;34m]\u001b[0m\u001b[0;34m.\u001b[0m\u001b[0mtoarray\u001b[0m\u001b[0;34m(\u001b[0m\u001b[0;34m)\u001b[0m\u001b[0;34m\u001b[0m\u001b[0m\n\u001b[1;32m    198\u001b[0m \u001b[0;34m\u001b[0m\u001b[0m\n\u001b[0;32m--> 199\u001b[0;31m                 \u001b[0mouts\u001b[0m \u001b[0;34m=\u001b[0m \u001b[0mf\u001b[0m\u001b[0;34m(\u001b[0m\u001b[0mins_batch\u001b[0m\u001b[0;34m)\u001b[0m\u001b[0;34m\u001b[0m\u001b[0m\n\u001b[0m\u001b[1;32m    200\u001b[0m                 \u001b[0mouts\u001b[0m \u001b[0;34m=\u001b[0m \u001b[0mto_list\u001b[0m\u001b[0;34m(\u001b[0m\u001b[0mouts\u001b[0m\u001b[0;34m)\u001b[0m\u001b[0;34m\u001b[0m\u001b[0m\n\u001b[1;32m    201\u001b[0m                 \u001b[0;32mfor\u001b[0m \u001b[0ml\u001b[0m\u001b[0;34m,\u001b[0m \u001b[0mo\u001b[0m \u001b[0;32min\u001b[0m \u001b[0mzip\u001b[0m\u001b[0;34m(\u001b[0m\u001b[0mout_labels\u001b[0m\u001b[0;34m,\u001b[0m \u001b[0mouts\u001b[0m\u001b[0;34m)\u001b[0m\u001b[0;34m:\u001b[0m\u001b[0;34m\u001b[0m\u001b[0m\n",
      "\u001b[0;32m~/anaconda3/envs/tf/lib/python3.6/site-packages/keras/backend/tensorflow_backend.py\u001b[0m in \u001b[0;36m__call__\u001b[0;34m(self, inputs)\u001b[0m\n\u001b[1;32m   2664\u001b[0m                 \u001b[0;32mreturn\u001b[0m \u001b[0mself\u001b[0m\u001b[0;34m.\u001b[0m\u001b[0m_legacy_call\u001b[0m\u001b[0;34m(\u001b[0m\u001b[0minputs\u001b[0m\u001b[0;34m)\u001b[0m\u001b[0;34m\u001b[0m\u001b[0m\n\u001b[1;32m   2665\u001b[0m \u001b[0;34m\u001b[0m\u001b[0m\n\u001b[0;32m-> 2666\u001b[0;31m             \u001b[0;32mreturn\u001b[0m \u001b[0mself\u001b[0m\u001b[0;34m.\u001b[0m\u001b[0m_call\u001b[0m\u001b[0;34m(\u001b[0m\u001b[0minputs\u001b[0m\u001b[0;34m)\u001b[0m\u001b[0;34m\u001b[0m\u001b[0m\n\u001b[0m\u001b[1;32m   2667\u001b[0m         \u001b[0;32melse\u001b[0m\u001b[0;34m:\u001b[0m\u001b[0;34m\u001b[0m\u001b[0m\n\u001b[1;32m   2668\u001b[0m             \u001b[0;32mif\u001b[0m \u001b[0mpy_any\u001b[0m\u001b[0;34m(\u001b[0m\u001b[0mis_tensor\u001b[0m\u001b[0;34m(\u001b[0m\u001b[0mx\u001b[0m\u001b[0;34m)\u001b[0m \u001b[0;32mfor\u001b[0m \u001b[0mx\u001b[0m \u001b[0;32min\u001b[0m \u001b[0minputs\u001b[0m\u001b[0;34m)\u001b[0m\u001b[0;34m:\u001b[0m\u001b[0;34m\u001b[0m\u001b[0m\n",
      "\u001b[0;32m~/anaconda3/envs/tf/lib/python3.6/site-packages/keras/backend/tensorflow_backend.py\u001b[0m in \u001b[0;36m_call\u001b[0;34m(self, inputs)\u001b[0m\n\u001b[1;32m   2634\u001b[0m                                 \u001b[0msymbol_vals\u001b[0m\u001b[0;34m,\u001b[0m\u001b[0;34m\u001b[0m\u001b[0m\n\u001b[1;32m   2635\u001b[0m                                 session)\n\u001b[0;32m-> 2636\u001b[0;31m         \u001b[0mfetched\u001b[0m \u001b[0;34m=\u001b[0m \u001b[0mself\u001b[0m\u001b[0;34m.\u001b[0m\u001b[0m_callable_fn\u001b[0m\u001b[0;34m(\u001b[0m\u001b[0;34m*\u001b[0m\u001b[0marray_vals\u001b[0m\u001b[0;34m)\u001b[0m\u001b[0;34m\u001b[0m\u001b[0m\n\u001b[0m\u001b[1;32m   2637\u001b[0m         \u001b[0;32mreturn\u001b[0m \u001b[0mfetched\u001b[0m\u001b[0;34m[\u001b[0m\u001b[0;34m:\u001b[0m\u001b[0mlen\u001b[0m\u001b[0;34m(\u001b[0m\u001b[0mself\u001b[0m\u001b[0;34m.\u001b[0m\u001b[0moutputs\u001b[0m\u001b[0;34m)\u001b[0m\u001b[0;34m]\u001b[0m\u001b[0;34m\u001b[0m\u001b[0m\n\u001b[1;32m   2638\u001b[0m \u001b[0;34m\u001b[0m\u001b[0m\n",
      "\u001b[0;32m~/anaconda3/envs/tf/lib/python3.6/site-packages/tensorflow/python/client/session.py\u001b[0m in \u001b[0;36m__call__\u001b[0;34m(self, *args, **kwargs)\u001b[0m\n\u001b[1;32m   1380\u001b[0m           ret = tf_session.TF_SessionRunCallable(\n\u001b[1;32m   1381\u001b[0m               \u001b[0mself\u001b[0m\u001b[0;34m.\u001b[0m\u001b[0m_session\u001b[0m\u001b[0;34m.\u001b[0m\u001b[0m_session\u001b[0m\u001b[0;34m,\u001b[0m \u001b[0mself\u001b[0m\u001b[0;34m.\u001b[0m\u001b[0m_handle\u001b[0m\u001b[0;34m,\u001b[0m \u001b[0margs\u001b[0m\u001b[0;34m,\u001b[0m \u001b[0mstatus\u001b[0m\u001b[0;34m,\u001b[0m\u001b[0;34m\u001b[0m\u001b[0m\n\u001b[0;32m-> 1382\u001b[0;31m               run_metadata_ptr)\n\u001b[0m\u001b[1;32m   1383\u001b[0m         \u001b[0;32mif\u001b[0m \u001b[0mrun_metadata\u001b[0m\u001b[0;34m:\u001b[0m\u001b[0;34m\u001b[0m\u001b[0m\n\u001b[1;32m   1384\u001b[0m           \u001b[0mproto_data\u001b[0m \u001b[0;34m=\u001b[0m \u001b[0mtf_session\u001b[0m\u001b[0;34m.\u001b[0m\u001b[0mTF_GetBuffer\u001b[0m\u001b[0;34m(\u001b[0m\u001b[0mrun_metadata_ptr\u001b[0m\u001b[0;34m)\u001b[0m\u001b[0;34m\u001b[0m\u001b[0m\n",
      "\u001b[0;31mKeyboardInterrupt\u001b[0m: "
     ]
    }
   ],
   "source": [
    "%%time\n",
    "history = model1.fit(x_train, y_train,\n",
    "                     validation_data = [x_valid, y_valid], \n",
    "                     epochs = epochs, \n",
    "                     batch_size = batch_size, \n",
    "                     callbacks = [early_stopping, model_checkpoint, reduce_lr],\n",
    "                     verbose = 1)"
   ]
  },
  {
   "cell_type": "markdown",
   "metadata": {},
   "source": [
    "# Remove activation layer and use lovasz loss"
   ]
  },
  {
   "cell_type": "code",
   "execution_count": null,
   "metadata": {
    "_uuid": "52ba1ba40cac42145f499cff252eb73feff397d3"
   },
   "outputs": [],
   "source": [
    "model1 = load_model(save_model_name, custom_objects={'my_iou_metric':my_iou_metric})\n",
    "\n",
    "input_x = model1.layers[0].input\n",
    "output_layer = model1.layers[-1].input\n",
    "model = Model(input_x, output_layer)\n",
    "c = optimizers.adam(lr=0.0001)\n",
    "\n",
    "model.compile(loss=lovasz_loss, optimizer=c, metrics=[my_iou_metric_2])\n",
    "\n",
    "# model.summary()"
   ]
  },
  {
   "cell_type": "code",
   "execution_count": null,
   "metadata": {
    "_uuid": "ec1e49fd425a02ab12dea6b99cf39de45c80199f"
   },
   "outputs": [],
   "source": [
    "early_stopping = EarlyStopping(monitor='val_my_iou_metric_2', mode='max', patience=20, verbose=1)\n",
    "model_checkpoint = ModelCheckpoint(save_model_nameB,monitor='val_my_iou_metric_2', \n",
    "                                   mode = 'max', save_best_only=True, verbose=1)\n",
    "reduce_lr = ReduceLROnPlateau(monitor='val_my_iou_metric_2', mode = 'max',factor=0.5, patience=6, min_lr=0.00001, verbose=1)\n",
    "epochs = 250\n",
    "batch_size = 32"
   ]
  },
  {
   "cell_type": "code",
   "execution_count": null,
   "metadata": {
    "_uuid": "ec1e49fd425a02ab12dea6b99cf39de45c80199f"
   },
   "outputs": [],
   "source": [
    "%%time\n",
    "history = model.fit(x_train, y_train,\n",
    "                    validation_data=[x_valid, y_valid], \n",
    "                    epochs=epochs,\n",
    "                    batch_size=batch_size,\n",
    "                    callbacks=[ model_checkpoint, reduce_lr, early_stopping], \n",
    "                    verbose=2)"
   ]
  },
  {
   "cell_type": "markdown",
   "metadata": {},
   "source": [
    "# Plot result"
   ]
  },
  {
   "cell_type": "code",
   "execution_count": null,
   "metadata": {
    "_uuid": "922febde76d7aff93c49c71a28b3a2361f433d02"
   },
   "outputs": [],
   "source": [
    "fig, (ax_loss, ax_score) = plt.subplots(1, 2, figsize=(15,5))\n",
    "ax_loss.plot(history.epoch, history.history[\"loss\"], label=\"Train loss\")\n",
    "ax_loss.plot(history.epoch, history.history[\"val_loss\"], label=\"Validation loss\")\n",
    "ax_loss.legend()\n",
    "ax_score.plot(history.epoch, history.history[\"my_iou_metric_2\"], label=\"Train score\")\n",
    "ax_score.plot(history.epoch, history.history[\"val_my_iou_metric_2\"], label=\"Validation score\")\n",
    "ax_score.legend()"
   ]
  },
  {
   "cell_type": "code",
   "execution_count": null,
   "metadata": {
    "_uuid": "068c89f56e9e7eb1d7ecf12912996426ad87f2a6"
   },
   "outputs": [],
   "source": [
    "model = load_model(save_model_nameB,custom_objects={'my_iou_metric_2': my_iou_metric_2,\n",
    "                                                   'lovasz_loss': lovasz_loss})"
   ]
  },
  {
   "cell_type": "code",
   "execution_count": null,
   "metadata": {
    "_uuid": "c33f2cdf50d3011f704ac934e49602bd3167c8cb"
   },
   "outputs": [],
   "source": [
    "def predict_result(model,x_test,img_size_target): # predict both orginal and reflect x\n",
    "    x_test_reflect =  np.array([np.fliplr(x) for x in x_test])\n",
    "    preds_test = model.predict(x_test).reshape(-1, img_size_target, img_size_target)\n",
    "    preds_test2_refect = model.predict(x_test_reflect).reshape(-1, img_size_target, img_size_target)\n",
    "    preds_test += np.array([ np.fliplr(x) for x in preds_test2_refect] )\n",
    "    return preds_test/2"
   ]
  },
  {
   "cell_type": "code",
   "execution_count": null,
   "metadata": {
    "_uuid": "ec38f74adccf2d265cac160311c0998fefc76ec6"
   },
   "outputs": [],
   "source": [
    "preds_valid = predict_result(model,x_valid,img_size_target)"
   ]
  },
  {
   "cell_type": "code",
   "execution_count": null,
   "metadata": {
    "_uuid": "6794a936dd110f0d4ecc23206c53af7cd0f4a587"
   },
   "outputs": [],
   "source": [
    "#Score the model and do a threshold optimization by the best IoU.\n",
    "\n",
    "# src: https://www.kaggle.com/aglotero/another-iou-metric\n",
    "def iou_metric(y_true_in, y_pred_in, print_table=False):\n",
    "    labels = y_true_in\n",
    "    y_pred = y_pred_in\n",
    "\n",
    "\n",
    "    true_objects = 2\n",
    "    pred_objects = 2\n",
    "\n",
    "    #  if all zeros, original code  generate wrong  bins [-0.5 0 0.5],\n",
    "    temp1 = np.histogram2d(labels.flatten(), y_pred.flatten(), bins=([0,0.5,1], [0,0.5, 1]))\n",
    "#     temp1 = np.histogram2d(labels.flatten(), y_pred.flatten(), bins=(true_objects, pred_objects))\n",
    "    #print(temp1)\n",
    "    intersection = temp1[0]\n",
    "    #print(\"temp2 = \",temp1[1])\n",
    "    #print(intersection.shape)\n",
    "   # print(intersection)\n",
    "    # Compute areas (needed for finding the union between all objects)\n",
    "    #print(np.histogram(labels, bins = true_objects))\n",
    "    area_true = np.histogram(labels,bins=[0,0.5,1])[0]\n",
    "    #print(\"area_true = \",area_true)\n",
    "    area_pred = np.histogram(y_pred, bins=[0,0.5,1])[0]\n",
    "    area_true = np.expand_dims(area_true, -1)\n",
    "    area_pred = np.expand_dims(area_pred, 0)\n",
    "\n",
    "    # Compute union\n",
    "    union = area_true + area_pred - intersection\n",
    "  \n",
    "    # Exclude background from the analysis\n",
    "    intersection = intersection[1:,1:]\n",
    "    intersection[intersection == 0] = 1e-9\n",
    "    \n",
    "    union = union[1:,1:]\n",
    "    union[union == 0] = 1e-9\n",
    "\n",
    "    # Compute the intersection over union\n",
    "    iou = intersection / union\n",
    "    # Precision helper function\n",
    "    def precision_at(threshold, iou):\n",
    "        matches = iou > threshold\n",
    "        true_positives = np.sum(matches, axis=1) == 1   # Correct objects\n",
    "        false_positives = np.sum(matches, axis=0) == 0  # Missed objects\n",
    "        false_negatives = np.sum(matches, axis=1) == 0  # Extra objects\n",
    "        tp, fp, fn = np.sum(true_positives), np.sum(false_positives), np.sum(false_negatives)\n",
    "        return tp, fp, fn\n",
    "\n",
    "    # Loop over IoU thresholds\n",
    "    prec = []\n",
    "    if print_table:\n",
    "        print(\"Thresh\\tTP\\tFP\\tFN\\tPrec.\")\n",
    "    for t in np.arange(0.5, 1.0, 0.05):\n",
    "        tp, fp, fn = precision_at(t, iou)\n",
    "        if (tp + fp + fn) > 0:\n",
    "            p = tp / (tp + fp + fn)\n",
    "        else:\n",
    "            p = 0\n",
    "        if print_table:\n",
    "            print(\"{:1.3f}\\t{}\\t{}\\t{}\\t{:1.3f}\".format(t, tp, fp, fn, p))\n",
    "        prec.append(p)\n",
    "        \n",
    "    if print_table:\n",
    "        print(\"AP\\t-\\t-\\t-\\t{:1.3f}\".format(np.mean(prec)))\n",
    "    return np.mean(prec)\n",
    "\n",
    "def iou_metric_batch(y_true_in, y_pred_in):\n",
    "    batch_size = y_true_in.shape[0]\n",
    "    metric = []\n",
    "    for batch in range(batch_size):\n",
    "        value = iou_metric(y_true_in[batch], y_pred_in[batch])\n",
    "        metric.append(value)\n",
    "    return np.mean(metric)"
   ]
  },
  {
   "cell_type": "code",
   "execution_count": null,
   "metadata": {
    "_uuid": "6d96072932f985336021cd115cb6bb13058618a8"
   },
   "outputs": [],
   "source": [
    "## Scoring for last model, choose threshold by validation data \n",
    "thresholds_ori = np.linspace(0.3, 0.7, 31)\n",
    "# Reverse sigmoid function: Use code below because the  sigmoid activation was removed\n",
    "thresholds = np.log(thresholds_ori/(1-thresholds_ori)) \n",
    "\n",
    "# ious = np.array([get_iou_vector(y_valid, preds_valid > threshold) for threshold in tqdm_notebook(thresholds)])\n",
    "# print(ious)\n",
    "ious = np.array([iou_metric_batch(y_valid, preds_valid > threshold) for threshold in tqdm_notebook(thresholds)])\n",
    "print(ious)"
   ]
  },
  {
   "cell_type": "code",
   "execution_count": null,
   "metadata": {
    "_uuid": "ce197d87cf44fef681025160cba8e4081d15ed50"
   },
   "outputs": [],
   "source": [
    "threshold_best_index = np.argmax(ious)\n",
    "iou_best = ious[threshold_best_index]\n",
    "threshold_best = thresholds[threshold_best_index]\n",
    "\n",
    "plt.plot(thresholds, ious)\n",
    "plt.plot(threshold_best, iou_best, 'xr', label='Best threshold')\n",
    "plt.xlabel(\"Threshold\")\n",
    "plt.ylabel(\"IoU\")\n",
    "plt.title(\"Threshold vs IoU ({}, {})\".format(threshold_best, iou_best))\n",
    "plt.legend()"
   ]
  },
  {
   "cell_type": "code",
   "execution_count": null,
   "metadata": {
    "_uuid": "2633e0c50ddb705021a35441c6a19fae9312603e"
   },
   "outputs": [],
   "source": [
    "def rle_encode(im):\n",
    "    '''\n",
    "    im: numpy array, 1-mask, 0-background\n",
    "    Returns run length as string\n",
    "    '''\n",
    "    pixels = im.flatten(order='F')\n",
    "    pixels = np.concatenate([[0], pixels, [0]])\n",
    "    runs = np.where(pixels[1:] != pixels[:-1])[0] + 1\n",
    "    runs[1::2] -= runs[::2]\n",
    "    return ' '.join(str(x) for x in runs)"
   ]
  },
  {
   "cell_type": "code",
   "execution_count": null,
   "metadata": {
    "_uuid": "3c29b25a37ceb7476bc0264ea3a97dc705e07607"
   },
   "outputs": [],
   "source": [
    "x_test = np.array([(np.array(load_img(\"{DATA_DIR}test/images/{idx}.png\", color_mode='grayscale'))) / 255 for idx in tqdm_notebook(test_df.index)]).reshape(-1, img_size_target, img_size_target, 1)"
   ]
  },
  {
   "cell_type": "code",
   "execution_count": null,
   "metadata": {
    "_uuid": "e129e7c3e525b884322570ed37da825cd89db290"
   },
   "outputs": [],
   "source": [
    "preds_test = predict_result(model,x_test,img_size_target)"
   ]
  },
  {
   "cell_type": "code",
   "execution_count": null,
   "metadata": {
    "_uuid": "aac939d180585abab6dd497a45f81e3df67b25a8"
   },
   "outputs": [],
   "source": [
    "pred_dict = {idx: rle_encode(np.round(downsample(preds_test[i]) > threshold_best)) for i, idx in enumerate(tqdm_notebook(test_df.index.values))}"
   ]
  },
  {
   "cell_type": "code",
   "execution_count": null,
   "metadata": {
    "_uuid": "2d6ef314f368bf9923285007e7098c068af049d9"
   },
   "outputs": [],
   "source": [
    "sub = pd.DataFrame.from_dict(pred_dict,orient='index')\n",
    "sub.index.names = ['id']\n",
    "sub.columns = ['rle_mask']\n",
    "sub.to_csv(submission_file)"
   ]
  },
  {
   "cell_type": "code",
   "execution_count": null,
   "metadata": {
    "_uuid": "ae636758e7abdc7fb87768cbfb2c6f18f8c1975f"
   },
   "outputs": [],
   "source": [
    "t_finish = time.time()\n",
    "print(f\"Kernel run time = {(t_finish-t_start)/3600} hours\")"
   ]
  },
  {
   "cell_type": "code",
   "execution_count": null,
   "metadata": {},
   "outputs": [],
   "source": []
  }
 ],
 "metadata": {
  "kernelspec": {
   "display_name": "Python 3",
   "language": "python",
   "name": "python3"
  },
  "language_info": {
   "codemirror_mode": {
    "name": "ipython",
    "version": 3
   },
   "file_extension": ".py",
   "mimetype": "text/x-python",
   "name": "python",
   "nbconvert_exporter": "python",
   "pygments_lexer": "ipython3",
   "version": "3.6.6"
  },
  "toc": {
   "base_numbering": 1,
   "nav_menu": {},
   "number_sections": true,
   "sideBar": true,
   "skip_h1_title": false,
   "title_cell": "Table of Contents",
   "title_sidebar": "Contents",
   "toc_cell": false,
   "toc_position": {},
   "toc_section_display": true,
   "toc_window_display": false
  }
 },
 "nbformat": 4,
 "nbformat_minor": 1
}
