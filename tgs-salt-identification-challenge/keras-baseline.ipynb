{
 "cells": [
  {
   "cell_type": "markdown",
   "metadata": {},
   "source": [
    "[Source](https://www.kaggle.com/christofhenkel/keras-baseline)"
   ]
  },
  {
   "cell_type": "code",
   "execution_count": 1,
   "metadata": {
    "_cell_guid": "b1076dfc-b9ad-4769-8c92-a6c4dae69d19",
    "_uuid": "8f2839f25d086af736a60e9eeb907d3b93b6e0e5",
    "collapsed": true
   },
   "outputs": [],
   "source": [
    "import os\n",
    "import numpy as np\n",
    "import cv2\n",
    "from tqdm import tqdm\n",
    "from sklearn.model_selection import train_test_split"
   ]
  },
  {
   "cell_type": "code",
   "execution_count": 2,
   "metadata": {
    "_cell_guid": "b1076dfc-b9ad-4769-8c92-a6c4dae69d19",
    "_uuid": "8f2839f25d086af736a60e9eeb907d3b93b6e0e5",
    "collapsed": true
   },
   "outputs": [],
   "source": [
    "TRAIN_IMAGE_DIR = 'data/salt/train/images/'\n",
    "TRAIN_MASK_DIR = 'data/salt/train/masks/'\n",
    "TEST_IMAGE_DIR = 'data/salt/test/images/'"
   ]
  },
  {
   "cell_type": "code",
   "execution_count": 3,
   "metadata": {
    "_cell_guid": "b1076dfc-b9ad-4769-8c92-a6c4dae69d19",
    "_uuid": "8f2839f25d086af736a60e9eeb907d3b93b6e0e5",
    "collapsed": true
   },
   "outputs": [],
   "source": [
    "train_fns = os.listdir(TRAIN_IMAGE_DIR)"
   ]
  },
  {
   "cell_type": "code",
   "execution_count": 4,
   "metadata": {},
   "outputs": [
    {
     "data": {
      "text/plain": [
       "4000"
      ]
     },
     "execution_count": 4,
     "metadata": {},
     "output_type": "execute_result"
    }
   ],
   "source": [
    "len(train_fns)"
   ]
  },
  {
   "cell_type": "code",
   "execution_count": 5,
   "metadata": {},
   "outputs": [
    {
     "data": {
      "text/plain": [
       "['000e218f21.png',\n",
       " '003c477d7c.png',\n",
       " '00441f1cf2.png',\n",
       " '0050766ae2.png',\n",
       " '005b452274.png',\n",
       " '0061281eea.png',\n",
       " '008a50a2ec.png',\n",
       " '00950d1627.png',\n",
       " '00a3af90ab.png',\n",
       " '00cda0328c.png']"
      ]
     },
     "execution_count": 5,
     "metadata": {},
     "output_type": "execute_result"
    }
   ],
   "source": [
    "train_fns[:10]"
   ]
  },
  {
   "cell_type": "code",
   "execution_count": 6,
   "metadata": {
    "_cell_guid": "b1076dfc-b9ad-4769-8c92-a6c4dae69d19",
    "_uuid": "8f2839f25d086af736a60e9eeb907d3b93b6e0e5"
   },
   "outputs": [
    {
     "name": "stderr",
     "output_type": "stream",
     "text": [
      "100%|█████████████████████████████████████████████████████████████████████████████████████████████████████| 4000/4000 [00:01<00:00, 2079.23it/s]\n",
      "100%|█████████████████████████████████████████████████████████████████████████████████████████████████████| 4000/4000 [00:01<00:00, 3965.13it/s]\n"
     ]
    }
   ],
   "source": [
    "X = [np.array(cv2.imread(TRAIN_IMAGE_DIR + p, cv2.IMREAD_GRAYSCALE), dtype=np.uint8) for p in tqdm(train_fns)]\n",
    "X = np.array(X)/255\n",
    "X = np.expand_dims(X,axis=3)\n",
    "\n",
    "y = [np.array(cv2.imread(TRAIN_MASK_DIR + p, cv2.IMREAD_GRAYSCALE), dtype=np.uint8) for p in tqdm(train_fns)]\n",
    "y = np.array(y)/255\n",
    "y = np.expand_dims(y,axis=3)\n",
    "\n",
    "X_train, X_valid, y_train, y_valid = train_test_split(X,y, random_state=23, test_size = 0.2)"
   ]
  },
  {
   "cell_type": "code",
   "execution_count": 7,
   "metadata": {
    "_cell_guid": "b1076dfc-b9ad-4769-8c92-a6c4dae69d19",
    "_uuid": "8f2839f25d086af736a60e9eeb907d3b93b6e0e5",
    "collapsed": true
   },
   "outputs": [],
   "source": [
    "from tensorflow.keras.models import Model\n",
    "from tensorflow.keras.layers import Conv2D, Input, Concatenate\n",
    "from tensorflow.keras.callbacks import EarlyStopping, ModelCheckpoint"
   ]
  },
  {
   "cell_type": "code",
   "execution_count": 8,
   "metadata": {
    "_cell_guid": "b1076dfc-b9ad-4769-8c92-a6c4dae69d19",
    "_uuid": "8f2839f25d086af736a60e9eeb907d3b93b6e0e5",
    "collapsed": true
   },
   "outputs": [],
   "source": [
    "def conv_block(num_layers,inp,units,kernel):\n",
    "    x = inp\n",
    "    for l in range(num_layers):\n",
    "        x = Conv2D(units, kernel_size=kernel, padding='SAME',activation='relu')(x)\n",
    "    return x"
   ]
  },
  {
   "cell_type": "code",
   "execution_count": 9,
   "metadata": {
    "_cell_guid": "b1076dfc-b9ad-4769-8c92-a6c4dae69d19",
    "_uuid": "8f2839f25d086af736a60e9eeb907d3b93b6e0e5",
    "collapsed": true
   },
   "outputs": [
    {
     "name": "stdout",
     "output_type": "stream",
     "text": [
      "__________________________________________________________________________________________________\n",
      "Layer (type)                    Output Shape         Param #     Connected to                     \n",
      "==================================================================================================\n",
      "input_1 (InputLayer)            (None, 101, 101, 1)  0                                            \n",
      "__________________________________________________________________________________________________\n",
      "conv2d (Conv2D)                 (None, 101, 101, 32) 320         input_1[0][0]                    \n",
      "__________________________________________________________________________________________________\n",
      "conv2d_4 (Conv2D)               (None, 101, 101, 24) 624         input_1[0][0]                    \n",
      "__________________________________________________________________________________________________\n",
      "conv2d_8 (Conv2D)               (None, 101, 101, 16) 800         input_1[0][0]                    \n",
      "__________________________________________________________________________________________________\n",
      "conv2d_1 (Conv2D)               (None, 101, 101, 32) 9248        conv2d[0][0]                     \n",
      "__________________________________________________________________________________________________\n",
      "conv2d_5 (Conv2D)               (None, 101, 101, 24) 14424       conv2d_4[0][0]                   \n",
      "__________________________________________________________________________________________________\n",
      "conv2d_9 (Conv2D)               (None, 101, 101, 16) 12560       conv2d_8[0][0]                   \n",
      "__________________________________________________________________________________________________\n",
      "conv2d_2 (Conv2D)               (None, 101, 101, 32) 9248        conv2d_1[0][0]                   \n",
      "__________________________________________________________________________________________________\n",
      "conv2d_6 (Conv2D)               (None, 101, 101, 24) 14424       conv2d_5[0][0]                   \n",
      "__________________________________________________________________________________________________\n",
      "conv2d_10 (Conv2D)              (None, 101, 101, 16) 12560       conv2d_9[0][0]                   \n",
      "__________________________________________________________________________________________________\n",
      "conv2d_3 (Conv2D)               (None, 101, 101, 32) 9248        conv2d_2[0][0]                   \n",
      "__________________________________________________________________________________________________\n",
      "conv2d_7 (Conv2D)               (None, 101, 101, 24) 14424       conv2d_6[0][0]                   \n",
      "__________________________________________________________________________________________________\n",
      "conv2d_11 (Conv2D)              (None, 101, 101, 16) 12560       conv2d_10[0][0]                  \n",
      "__________________________________________________________________________________________________\n",
      "concatenate (Concatenate)       (None, 101, 101, 72) 0           conv2d_3[0][0]                   \n",
      "                                                                 conv2d_7[0][0]                   \n",
      "                                                                 conv2d_11[0][0]                  \n",
      "__________________________________________________________________________________________________\n",
      "conv2d_12 (Conv2D)              (None, 101, 101, 16) 1168        concatenate[0][0]                \n",
      "__________________________________________________________________________________________________\n",
      "conv2d_13 (Conv2D)              (None, 101, 101, 1)  17          conv2d_12[0][0]                  \n",
      "==================================================================================================\n",
      "Total params: 111,625\n",
      "Trainable params: 111,625\n",
      "Non-trainable params: 0\n",
      "__________________________________________________________________________________________________\n"
     ]
    }
   ],
   "source": [
    "inp = Input(shape=(101,101,1))\n",
    "cnn1 = conv_block(4,inp,32,3)\n",
    "cnn2 = conv_block(4,inp,24,5)\n",
    "cnn3 = conv_block(4,inp,16,7)\n",
    "concat = Concatenate()([cnn1,cnn2,cnn3])\n",
    "d1 = Conv2D(16,1, activation='relu')(concat)\n",
    "out = Conv2D(1,1, activation='sigmoid')(d1)\n",
    "\n",
    "model = Model(inputs = inp, outputs = out)\n",
    "model.summary()"
   ]
  },
  {
   "cell_type": "code",
   "execution_count": 10,
   "metadata": {},
   "outputs": [],
   "source": [
    "from tensorflow.keras.utils import plot_model \n",
    "plot_model(model, to_file='keras-baseline-architecture.png')"
   ]
  },
  {
   "cell_type": "markdown",
   "metadata": {},
   "source": [
    "![](keras-baseline-architecture.png)"
   ]
  },
  {
   "cell_type": "code",
   "execution_count": 11,
   "metadata": {
    "_cell_guid": "b1076dfc-b9ad-4769-8c92-a6c4dae69d19",
    "_uuid": "8f2839f25d086af736a60e9eeb907d3b93b6e0e5",
    "collapsed": true
   },
   "outputs": [],
   "source": [
    "model.compile(optimizer='adam',loss='binary_crossentropy')\n",
    "\n",
    "early_stop = EarlyStopping(patience=5)\n",
    "check_point = ModelCheckpoint('model.hdf5',save_best_only=True)"
   ]
  },
  {
   "cell_type": "code",
   "execution_count": 12,
   "metadata": {
    "_cell_guid": "b1076dfc-b9ad-4769-8c92-a6c4dae69d19",
    "_uuid": "8f2839f25d086af736a60e9eeb907d3b93b6e0e5",
    "collapsed": true
   },
   "outputs": [
    {
     "name": "stdout",
     "output_type": "stream",
     "text": [
      "Train on 3200 samples, validate on 800 samples\n",
      "Epoch 1/50\n",
      "3200/3200 [==============================] - 70s 22ms/step - loss: 0.5427 - val_loss: 0.4630\n",
      "Epoch 2/50\n",
      "3200/3200 [==============================] - 64s 20ms/step - loss: 0.4756 - val_loss: 0.4361\n",
      "Epoch 3/50\n",
      "3200/3200 [==============================] - 65s 20ms/step - loss: 0.4518 - val_loss: 0.4108\n",
      "Epoch 4/50\n",
      "3200/3200 [==============================] - 69s 22ms/step - loss: 0.4373 - val_loss: 0.4050\n",
      "Epoch 5/50\n",
      "3200/3200 [==============================] - 72s 22ms/step - loss: 0.4253 - val_loss: 0.4239\n",
      "Epoch 6/50\n",
      "3200/3200 [==============================] - 72s 22ms/step - loss: 0.4129 - val_loss: 0.3697\n",
      "Epoch 7/50\n",
      "3200/3200 [==============================] - 72s 22ms/step - loss: 0.4247 - val_loss: 0.3942\n",
      "Epoch 8/50\n",
      "3200/3200 [==============================] - 71s 22ms/step - loss: 0.4364 - val_loss: 0.4124\n",
      "Epoch 9/50\n",
      "3200/3200 [==============================] - 71s 22ms/step - loss: 0.4123 - val_loss: 0.3765\n",
      "Epoch 10/50\n",
      "3200/3200 [==============================] - 71s 22ms/step - loss: 0.4198 - val_loss: 0.3699\n",
      "Epoch 11/50\n",
      "3200/3200 [==============================] - 71s 22ms/step - loss: 0.4049 - val_loss: 0.3530\n",
      "Epoch 12/50\n",
      "3200/3200 [==============================] - 71s 22ms/step - loss: 0.3878 - val_loss: 0.3509\n",
      "Epoch 13/50\n",
      "3200/3200 [==============================] - 72s 23ms/step - loss: 0.3869 - val_loss: 0.3577\n",
      "Epoch 14/50\n",
      "3200/3200 [==============================] - 72s 22ms/step - loss: 0.3815 - val_loss: 0.3474\n",
      "Epoch 15/50\n",
      "3200/3200 [==============================] - 72s 22ms/step - loss: 0.3740 - val_loss: 0.3804\n",
      "Epoch 16/50\n",
      "3200/3200 [==============================] - 71s 22ms/step - loss: 0.3784 - val_loss: 0.3415\n",
      "Epoch 17/50\n",
      "3200/3200 [==============================] - 72s 22ms/step - loss: 0.3746 - val_loss: 0.3350\n",
      "Epoch 18/50\n",
      "3200/3200 [==============================] - 71s 22ms/step - loss: 0.3709 - val_loss: 0.3470\n",
      "Epoch 19/50\n",
      "3200/3200 [==============================] - 71s 22ms/step - loss: 0.3655 - val_loss: 0.3440\n",
      "Epoch 20/50\n",
      "3200/3200 [==============================] - 72s 22ms/step - loss: 0.3635 - val_loss: 0.3252\n",
      "Epoch 21/50\n",
      "3200/3200 [==============================] - 72s 22ms/step - loss: 0.3641 - val_loss: 0.3292\n",
      "Epoch 22/50\n",
      "3200/3200 [==============================] - 71s 22ms/step - loss: 0.3652 - val_loss: 0.3395\n",
      "Epoch 23/50\n",
      "3200/3200 [==============================] - 72s 22ms/step - loss: 0.3542 - val_loss: 0.3270\n",
      "Epoch 24/50\n",
      "3200/3200 [==============================] - 72s 22ms/step - loss: 0.3542 - val_loss: 0.3209\n",
      "Epoch 25/50\n",
      "3200/3200 [==============================] - 73s 23ms/step - loss: 0.3464 - val_loss: 0.3130\n",
      "Epoch 26/50\n",
      "3200/3200 [==============================] - 73s 23ms/step - loss: 0.3463 - val_loss: 0.3227\n",
      "Epoch 27/50\n",
      "3200/3200 [==============================] - 71s 22ms/step - loss: 0.3433 - val_loss: 0.3061\n",
      "Epoch 28/50\n",
      "3200/3200 [==============================] - 72s 23ms/step - loss: 0.3419 - val_loss: 0.3104\n",
      "Epoch 29/50\n",
      "3200/3200 [==============================] - 72s 22ms/step - loss: 0.3433 - val_loss: 0.3173\n",
      "Epoch 30/50\n",
      "3200/3200 [==============================] - 71s 22ms/step - loss: 0.3361 - val_loss: 0.2989\n",
      "Epoch 31/50\n",
      "3200/3200 [==============================] - 71s 22ms/step - loss: 0.3358 - val_loss: 0.3107\n",
      "Epoch 32/50\n",
      "3200/3200 [==============================] - 71s 22ms/step - loss: 0.3387 - val_loss: 0.3036\n",
      "Epoch 33/50\n",
      "3200/3200 [==============================] - 71s 22ms/step - loss: 0.3298 - val_loss: 0.2929\n",
      "Epoch 34/50\n",
      "3200/3200 [==============================] - 71s 22ms/step - loss: 0.3268 - val_loss: 0.2935\n",
      "Epoch 35/50\n",
      "3200/3200 [==============================] - 71s 22ms/step - loss: 0.3234 - val_loss: 0.2952\n",
      "Epoch 36/50\n",
      "3200/3200 [==============================] - 71s 22ms/step - loss: 0.3212 - val_loss: 0.2974\n",
      "Epoch 37/50\n",
      "3200/3200 [==============================] - 71s 22ms/step - loss: 0.3223 - val_loss: 0.2914\n",
      "Epoch 38/50\n",
      "3200/3200 [==============================] - 71s 22ms/step - loss: 0.3154 - val_loss: 0.2973\n",
      "Epoch 39/50\n",
      "3200/3200 [==============================] - 71s 22ms/step - loss: 0.3150 - val_loss: 0.3024\n",
      "Epoch 40/50\n",
      "3200/3200 [==============================] - 71s 22ms/step - loss: 0.3199 - val_loss: 0.2853\n",
      "Epoch 41/50\n",
      "3200/3200 [==============================] - 71s 22ms/step - loss: 0.3123 - val_loss: 0.2859\n",
      "Epoch 42/50\n",
      "3200/3200 [==============================] - 71s 22ms/step - loss: 0.3117 - val_loss: 0.2844\n",
      "Epoch 43/50\n",
      "3200/3200 [==============================] - 71s 22ms/step - loss: 0.3075 - val_loss: 0.2872\n",
      "Epoch 44/50\n",
      "3200/3200 [==============================] - 71s 22ms/step - loss: 0.3067 - val_loss: 0.2789\n",
      "Epoch 45/50\n",
      "3200/3200 [==============================] - 71s 22ms/step - loss: 0.3044 - val_loss: 0.2696\n",
      "Epoch 46/50\n",
      "3200/3200 [==============================] - 71s 22ms/step - loss: 0.3060 - val_loss: 0.2733\n",
      "Epoch 47/50\n",
      "3200/3200 [==============================] - 71s 22ms/step - loss: 0.3053 - val_loss: 0.2837\n",
      "Epoch 48/50\n",
      "3200/3200 [==============================] - 71s 22ms/step - loss: 0.3086 - val_loss: 0.2813\n",
      "Epoch 49/50\n",
      "3200/3200 [==============================] - 71s 22ms/step - loss: 0.3008 - val_loss: 0.2928\n",
      "Epoch 50/50\n",
      "3200/3200 [==============================] - 71s 22ms/step - loss: 0.2996 - val_loss: 0.2719\n"
     ]
    },
    {
     "data": {
      "text/plain": [
       "<tensorflow.python.keras.callbacks.History at 0x1437c81a588>"
      ]
     },
     "execution_count": 12,
     "metadata": {},
     "output_type": "execute_result"
    }
   ],
   "source": [
    "model.fit(X_train,y_train, epochs=50, validation_data=(X_valid,y_valid), callbacks=[early_stop,check_point],batch_size=32)"
   ]
  },
  {
   "cell_type": "code",
   "execution_count": 13,
   "metadata": {
    "_cell_guid": "79c7e3d0-c299-4dcb-8224-4455121ee9b0",
    "_uuid": "d629ff2d2480ee46fbb7e2d37f6b5fab8052498a",
    "collapsed": true
   },
   "outputs": [
    {
     "name": "stderr",
     "output_type": "stream",
     "text": [
      "100%|████████████████████████████████████████████████████████████████████████████████████████████████████| 18000/18000 [00:50<00:00, 356.88it/s]\n"
     ]
    },
    {
     "name": "stdout",
     "output_type": "stream",
     "text": []
    },
    {
     "name": "stdout",
     "output_type": "stream",
     "text": [
      "18000/18000 [==============================] - 136s 8ms/step\n"
     ]
    }
   ],
   "source": [
    "test_fns = os.listdir(TEST_IMAGE_DIR)\n",
    "X_test = [np.array(cv2.imread(TEST_IMAGE_DIR + p, cv2.IMREAD_GRAYSCALE), dtype=np.uint8) for p in tqdm(test_fns)]\n",
    "X_test = np.array(X_test)/255\n",
    "X_test = np.expand_dims(X_test,axis=3)\n",
    "\n",
    "pred = model.predict(X_test, verbose = True)"
   ]
  },
  {
   "cell_type": "code",
   "execution_count": 14,
   "metadata": {
    "_cell_guid": "79c7e3d0-c299-4dcb-8224-4455121ee9b0",
    "_uuid": "d629ff2d2480ee46fbb7e2d37f6b5fab8052498a",
    "collapsed": true
   },
   "outputs": [],
   "source": [
    "def RLenc(img, order='F', format=True):\n",
    "    \"\"\"\n",
    "    img is binary mask image, shape (r,c)\n",
    "    order is down-then-right, i.e. Fortran\n",
    "    format determines if the order needs to be preformatted (according to submission rules) or not\n",
    "\n",
    "    returns run length as an array or string (if format is True)\n",
    "    \"\"\"\n",
    "    bytes = img.reshape(img.shape[0] * img.shape[1], order=order)\n",
    "    runs = []  ## list of run lengths\n",
    "    r = 0  ## the current run length\n",
    "    pos = 1  ## count starts from 1 per WK\n",
    "    for c in bytes:\n",
    "        if (c == 0):\n",
    "            if r != 0:\n",
    "                runs.append((pos, r))\n",
    "                pos += r\n",
    "                r = 0\n",
    "            pos += 1\n",
    "        else:\n",
    "            r += 1\n",
    "\n",
    "    # if last run is unsaved (i.e. data ends with 1)\n",
    "    if r != 0:\n",
    "        runs.append((pos, r))\n",
    "        pos += r\n",
    "        r = 0\n",
    "\n",
    "    if format:\n",
    "        z = ''\n",
    "\n",
    "        for rr in runs:\n",
    "            z += '{} {} '.format(rr[0], rr[1])\n",
    "        return z[:-1]\n",
    "    else:\n",
    "        return runs"
   ]
  },
  {
   "cell_type": "code",
   "execution_count": 15,
   "metadata": {
    "_cell_guid": "79c7e3d0-c299-4dcb-8224-4455121ee9b0",
    "_uuid": "d629ff2d2480ee46fbb7e2d37f6b5fab8052498a",
    "collapsed": true
   },
   "outputs": [
    {
     "name": "stderr",
     "output_type": "stream",
     "text": [
      "18000it [04:42, 63.71it/s]\n"
     ]
    }
   ],
   "source": [
    "pred_dict = {fn[:-4]:RLenc(np.round(pred[i,:,:,0])) for i,fn in tqdm(enumerate(test_fns))}"
   ]
  },
  {
   "cell_type": "code",
   "execution_count": 16,
   "metadata": {
    "_cell_guid": "79c7e3d0-c299-4dcb-8224-4455121ee9b0",
    "_uuid": "d629ff2d2480ee46fbb7e2d37f6b5fab8052498a",
    "collapsed": true
   },
   "outputs": [],
   "source": [
    "import pandas as pd\n",
    "\n",
    "sub = pd.DataFrame.from_dict(pred_dict,orient='index')\n",
    "sub.index.names = ['id']\n",
    "sub.columns = ['rle_mask']\n",
    "sub.to_csv('keras-baseline-submission.csv')"
   ]
  },
  {
   "cell_type": "raw",
   "metadata": {},
   "source": [
    "Kaggle Public LB Score: 0.276"
   ]
  }
 ],
 "metadata": {
  "kernelspec": {
   "display_name": "Python (tf)",
   "language": "python",
   "name": "tf"
  },
  "language_info": {
   "codemirror_mode": {
    "name": "ipython",
    "version": 3
   },
   "file_extension": ".py",
   "mimetype": "text/x-python",
   "name": "python",
   "nbconvert_exporter": "python",
   "pygments_lexer": "ipython3",
   "version": "3.6.6"
  },
  "toc": {
   "base_numbering": 1,
   "nav_menu": {},
   "number_sections": true,
   "sideBar": true,
   "skip_h1_title": false,
   "title_cell": "Table of Contents",
   "title_sidebar": "Contents",
   "toc_cell": false,
   "toc_position": {},
   "toc_section_display": true,
   "toc_window_display": false
  }
 },
 "nbformat": 4,
 "nbformat_minor": 2
}
