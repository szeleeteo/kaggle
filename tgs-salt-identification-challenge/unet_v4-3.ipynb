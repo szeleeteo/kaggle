{
 "cells": [
  {
   "cell_type": "markdown",
   "metadata": {},
   "source": [
    "- Using pre-trained resnet50\n",
    "- 101->128\n",
    "- Freeze all base resnet weights except BN\n",
    "- BCE\n",
    "- Adam 0.01 Batch Size 32\n",
    "- Adam 0.005 Batch Size 16\n",
    "- Adam 0.001 Batch Size 16"
   ]
  },
  {
   "cell_type": "markdown",
   "metadata": {},
   "source": [
    "# Import Dependencies"
   ]
  },
  {
   "cell_type": "code",
   "execution_count": 1,
   "metadata": {},
   "outputs": [],
   "source": [
    "%load_ext autoreload\n",
    "%autoreload 2\n",
    "%matplotlib inline"
   ]
  },
  {
   "cell_type": "code",
   "execution_count": 2,
   "metadata": {
    "_cell_guid": "b1076dfc-b9ad-4769-8c92-a6c4dae69d19",
    "_uuid": "8f2839f25d086af736a60e9eeb907d3b93b6e0e5"
   },
   "outputs": [
    {
     "name": "stderr",
     "output_type": "stream",
     "text": [
      "Using TensorFlow backend.\n"
     ]
    }
   ],
   "source": [
    "import gc\n",
    "import glob\n",
    "import os\n",
    "\n",
    "import cv2\n",
    "import numpy as np\n",
    "import pandas as pd\n",
    "\n",
    "import matplotlib.pyplot as plt\n",
    "plt.style.use('seaborn-white')\n",
    "import seaborn as sns\n",
    "sns.set_style('white')\n",
    "\n",
    "from tqdm import tqdm, tqdm_notebook\n",
    "from sklearn.model_selection import train_test_split\n",
    "\n",
    "import tensorflow as tf\n",
    "\n",
    "import keras\n",
    "from keras import layers\n",
    "from keras.utils.data_utils import get_file\n",
    "from keras.layers.merge import concatenate\n",
    "from keras.layers import SpatialDropout2D\n",
    "from keras.losses import binary_crossentropy\n",
    "from keras.models import Model, load_model, save_model\n",
    "from keras.layers import Input, Dropout, BatchNormalization, Activation, Add,  MaxPooling2D\n",
    "from keras.layers import Conv2D, Conv2DTranspose, Lambda, Concatenate, UpSampling2D\n",
    "from keras.callbacks import EarlyStopping, ModelCheckpoint, ReduceLROnPlateau\n",
    "from keras import backend as K\n",
    "from keras import optimizers\n",
    "\n",
    "from keras.preprocessing.image import ImageDataGenerator\n",
    "# from keras.applications import ResNet50\n",
    "from keras.applications.resnet50 import preprocess_input"
   ]
  },
  {
   "cell_type": "code",
   "execution_count": 3,
   "metadata": {},
   "outputs": [
    {
     "data": {
      "text/plain": [
       "'2.2.2'"
      ]
     },
     "execution_count": 3,
     "metadata": {},
     "output_type": "execute_result"
    }
   ],
   "source": [
    "keras.__version__"
   ]
  },
  {
   "cell_type": "code",
   "execution_count": 4,
   "metadata": {},
   "outputs": [
    {
     "data": {
      "text/plain": [
       "'1.10.1'"
      ]
     },
     "execution_count": 4,
     "metadata": {},
     "output_type": "execute_result"
    }
   ],
   "source": [
    "tf.__version__"
   ]
  },
  {
   "cell_type": "markdown",
   "metadata": {
    "_cell_guid": "79c7e3d0-c299-4dcb-8224-4455121ee9b0",
    "_uuid": "d629ff2d2480ee46fbb7e2d37f6b5fab8052498a",
    "collapsed": true
   },
   "source": [
    "# Define SaltParser"
   ]
  },
  {
   "cell_type": "code",
   "execution_count": 5,
   "metadata": {
    "_uuid": "9d271494cfd45b33e90711cd1ef9a466811d3152"
   },
   "outputs": [],
   "source": [
    "class SaltParser(object):\n",
    "\n",
    "    '''\n",
    "    Parser for Salt Competition.\n",
    "    '''\n",
    "\n",
    "    def __init__(self, data_src,img_size_ori, img_size_target):\n",
    "\n",
    "        self.data_src = data_src\n",
    "        self.img_size_ori = img_size_ori\n",
    "        self.img_size_target = img_size_target\n",
    "        \n",
    "        self.train_df = None\n",
    "        self.test_df = None\n",
    "\n",
    "        self.X_train = []\n",
    "        self.y_train = []\n",
    "        self.X_test = []\n",
    "        \n",
    "\n",
    "    def load_csv_data(self):\n",
    "        \n",
    "        '''\n",
    "        Initialize processing by loading .csv files.\n",
    "        After loading, train_df and test_df will have column 'id' for each unique image id\n",
    "        and 'z' for depth\n",
    "        '''\n",
    "\n",
    "        train_df = pd.read_csv(f'{self.data_src}train.csv', usecols=[0], index_col='id')\n",
    "        depths_df = pd.read_csv(f'{self.data_src}depths.csv', index_col='id')\n",
    "        self.train_df = train_df.join(depths_df)\n",
    "        self.test_df = depths_df[~depths_df.index.isin(train_df.index)]\n",
    "\n",
    "        return\n",
    "\n",
    "    \n",
    "    def load_img_data(self):\n",
    "        \n",
    "        '''\n",
    "        Load images and masks from training set. Can only be executed after load_csv_data()\n",
    "        \n",
    "        # Returns:\n",
    "            self.X_train: np.array of training images\n",
    "            self.y_train: np.array of training masks\n",
    "            self.X_test: np.array of test images\n",
    "        '''\n",
    "\n",
    "        print(\"Loading training images...\")\n",
    "        self.X_train = [np.array(cv2.imread(f\"{self.data_src}train/images/{idx}.png\", 0)) for idx in tqdm_notebook(self.train_df.index)]\n",
    "        self.X_train = np.expand_dims(self.X_train, -1)\n",
    "        print(f'X_train shape: {self.X_train.shape}')\n",
    "        print(f'X_train - min: {np.min(self.X_train)}, max: {np.max(self.X_train)}')\n",
    "        \n",
    "        print(\"\\n\\nLoading training masks...\")\n",
    "        self.y_train = [np.array(cv2.imread(f\"{self.data_src}train/masks/{idx}.png\", 0)) for idx in tqdm_notebook(self.train_df.index)]\n",
    "        self.y_train = np.expand_dims(self.y_train, -1)\n",
    "        print(f'y_train shape: {self.y_train.shape}')\n",
    "        print(f'y_train - min: {np.min(self.y_train)}, max: {np.max(self.y_train)}')\n",
    "\n",
    "        print(\"\\n\\nLoading test images...\")\n",
    "        self.X_test = [np.array(cv2.imread(f\"{self.data_src}test/images/{idx}.png\", 0)) for idx in tqdm_notebook(self.test_df.index)]\n",
    "        self.X_test = np.expand_dims(self.X_test, -1)  \n",
    "        print(f'X_test shape: {self.X_test.shape}')\n",
    "        print(f'X_test - min: {np.min(self.X_test)}, max: {np.max(self.X_test)}')\n",
    "\n",
    "        return self.X_train, self.y_train, self.X_test\n",
    "        return self.X_train, self.y_train\n",
    "    \n",
    "    \n",
    "    def process_img(self, data, normalized=False, image_resized_size=None, padding=None):\n",
    "        data_proc = data\n",
    "        \n",
    "        if normalized:\n",
    "            data = np.repeat(data,3,axis=3)\n",
    "            data_proc = preprocess_input(data)\n",
    "            \n",
    "        data_proc_list = []\n",
    "        \n",
    "        for i in tqdm_notebook(range(data_proc.shape[0])):\n",
    "            img_tmp = data_proc[i,:,:,0]\n",
    "\n",
    "            if image_resized_size:\n",
    "                img_tmp = cv2.resize(img_tmp, image_resized_size)\n",
    "\n",
    "            if padding:\n",
    "                img_tmp = cv2.copyMakeBorder(img_tmp, padding, padding, padding, padding,\n",
    "                                             cv2.BORDER_REFLECT_101)\n",
    "            data_proc_list.append(img_tmp)\n",
    "            \n",
    "        data_proc = np.expand_dims(data_proc_list, -1)          \n",
    "            \n",
    "        print(f'Processed data shape: {data_proc.shape}')\n",
    "        print(f'Processed data - min: {np.min(data_proc)}, max: {np.max(data_proc)}')\n",
    "        \n",
    "        return data_proc\n",
    "    \n",
    "\n",
    "    def compute_coverage(self):\n",
    "        \n",
    "        '''\n",
    "        Compute salt coverage of each mask. This will serve as a basis for \n",
    "        stratified split between training and validation sets.\n",
    "        \n",
    "        # Returns:\n",
    "            self.train_df: training DF containing coverage information.\n",
    "        '''\n",
    "\n",
    "        print('Compute mask coverage for each observation.')\n",
    "        self.train_df['coverage'] = np.mean(self.y_train / 255., axis=(1, 2))\n",
    "        self.train_df[\"coverage_class\"] = self.train_df.coverage.apply(lambda val: np.int(np.ceil(val*10)))\n",
    "        \n",
    "        return self.train_df\n",
    "\n",
    "    def predictions_rle_encode(self, y_pred_test, confidence_threshold_best):\n",
    "        \n",
    "        '''\n",
    "        Run Length Encoding of predictions.\n",
    "        This is needed for submission output.\n",
    "        \n",
    "        # Arguments:\n",
    "            y_pred_test: model predictions\n",
    "            confidence_threshold_best: confidence threshold, according to which\n",
    "                masks are set to 1/0.\n",
    "        # Returns:\n",
    "            y_test_pred_rle: RLEncoded predictions.\n",
    "        '''\n",
    "\n",
    "        # Remove padding\n",
    "#         print('Remove padding from images.')\n",
    "#         y_pred_test = y_pred_test[:, 11:-11, 11:-11, 0]\n",
    "            \n",
    "        # Resize back to original size\n",
    "        y_pred_test = np.asarray([cv2.resize(x, self.img_size_ori) for x in y_pred_test])\n",
    "\n",
    "        assert y_pred_test.shape == (18000, 101, 101), '\\\n",
    "        Test predictions shape must be equal to (18000, 101, 101).'\n",
    "\n",
    "        print('Test predictions shape: {}'.format(y_pred_test.shape))\n",
    "\n",
    "        # Perform mask predictions binarization and RLEncoding. \n",
    "        y_test_pred_rle = {idx:\n",
    "                           rle_encode(y_pred_test[i] > confidence_threshold_best)\n",
    "                           for i, idx in enumerate(\n",
    "                               tqdm_notebook(self.test_df.index.values))}\n",
    "\n",
    "        return y_test_pred_rle\n",
    "\n",
    "    def generate_submission(self, y_test_pred_rle):\n",
    "        \n",
    "        '''\n",
    "        Submission generation based on encoded model predictions.\n",
    "        \n",
    "        # Arguments:\n",
    "            y_test_pred_rle: RLEncoded predictions.\n",
    "        # Returns:\n",
    "            submission: generated submission.\n",
    "        '''\n",
    "\n",
    "        submission = pd.DataFrame.from_dict(y_test_pred_rle, orient='index')\n",
    "        submission.index.names = ['id']\n",
    "        submission.columns = ['rle_mask']\n",
    "\n",
    "        return submission"
   ]
  },
  {
   "cell_type": "markdown",
   "metadata": {
    "_uuid": "20f93da27bd8e6922bfad852edfc769c2095b433"
   },
   "source": [
    "## Define helper functions"
   ]
  },
  {
   "cell_type": "code",
   "execution_count": 6,
   "metadata": {
    "_uuid": "a68c571ea8d6f5b5b6201e987c1deada9714a503"
   },
   "outputs": [],
   "source": [
    "# Quick RLEncoding needed for submission generation.\n",
    "# Source: another kernel, thanks!\n",
    "def rle_encode(im):\n",
    "    '''\n",
    "    im: numpy array, 1-mask, 0-background\n",
    "    Returns run length as string\n",
    "    '''\n",
    "    pixels = im.flatten(order='F')\n",
    "    pixels = np.concatenate([[0], pixels, [0]])\n",
    "    runs = np.where(pixels[1:] != pixels[:-1])[0] + 1\n",
    "    runs[1::2] -= runs[::2]\n",
    "    return ' '.join(str(x) for x in runs)"
   ]
  },
  {
   "cell_type": "markdown",
   "metadata": {
    "_uuid": "f5768297e4d981d42207053fa8a138393fb5ff76"
   },
   "source": [
    "## Initialize parameters"
   ]
  },
  {
   "cell_type": "code",
   "execution_count": 7,
   "metadata": {
    "_uuid": "fd70c3f34fbf6964219660e84a08e3c99ad61104"
   },
   "outputs": [],
   "source": [
    "img_size_ori = 101\n",
    "img_size_target = 128\n",
    "\n",
    "salt_parser = SaltParser(data_src='data/salt/', \n",
    "                         img_size_ori=(img_size_ori, img_size_ori), \n",
    "                         img_size_target=(img_size_target, img_size_target))"
   ]
  },
  {
   "cell_type": "markdown",
   "metadata": {
    "_uuid": "46665eec45583df16e464dddffcea2ff805d1550"
   },
   "source": [
    "## Initialize and load data"
   ]
  },
  {
   "cell_type": "code",
   "execution_count": 8,
   "metadata": {
    "_uuid": "f5ed4567963ac3b9eeb77ed3329d310517ecb6d0"
   },
   "outputs": [
    {
     "name": "stdout",
     "output_type": "stream",
     "text": [
      "Loading training images...\n"
     ]
    },
    {
     "data": {
      "application/vnd.jupyter.widget-view+json": {
       "model_id": "25fed63846d34654919336e4b2568203",
       "version_major": 2,
       "version_minor": 0
      },
      "text/plain": [
       "HBox(children=(IntProgress(value=0, max=4000), HTML(value='')))"
      ]
     },
     "metadata": {},
     "output_type": "display_data"
    },
    {
     "name": "stdout",
     "output_type": "stream",
     "text": [
      "\n",
      "X_train shape: (4000, 101, 101, 1)\n",
      "X_train - min: 0, max: 255\n",
      "\n",
      "\n",
      "Loading training masks...\n"
     ]
    },
    {
     "data": {
      "application/vnd.jupyter.widget-view+json": {
       "model_id": "d9a789feeb87483a81d05974283ff1c4",
       "version_major": 2,
       "version_minor": 0
      },
      "text/plain": [
       "HBox(children=(IntProgress(value=0, max=4000), HTML(value='')))"
      ]
     },
     "metadata": {},
     "output_type": "display_data"
    },
    {
     "name": "stdout",
     "output_type": "stream",
     "text": [
      "\n",
      "y_train shape: (4000, 101, 101, 1)\n",
      "y_train - min: 0, max: 255\n",
      "\n",
      "\n",
      "Loading test images...\n"
     ]
    },
    {
     "data": {
      "application/vnd.jupyter.widget-view+json": {
       "model_id": "8bf026cad809403ab2c1b2f951c44f01",
       "version_major": 2,
       "version_minor": 0
      },
      "text/plain": [
       "HBox(children=(IntProgress(value=0, max=18000), HTML(value='')))"
      ]
     },
     "metadata": {},
     "output_type": "display_data"
    },
    {
     "name": "stdout",
     "output_type": "stream",
     "text": [
      "\n",
      "X_test shape: (18000, 101, 101, 1)\n",
      "X_test - min: 0, max: 255\n"
     ]
    }
   ],
   "source": [
    "salt_parser.load_csv_data()\n",
    "X_train, y_train, X_test = salt_parser.load_img_data()"
   ]
  },
  {
   "cell_type": "markdown",
   "metadata": {},
   "source": [
    "## Salt coverage and depth"
   ]
  },
  {
   "cell_type": "code",
   "execution_count": 9,
   "metadata": {},
   "outputs": [
    {
     "name": "stdout",
     "output_type": "stream",
     "text": [
      "Compute mask coverage for each observation.\n"
     ]
    }
   ],
   "source": [
    "train_df = salt_parser.compute_coverage()"
   ]
  },
  {
   "cell_type": "code",
   "execution_count": 10,
   "metadata": {},
   "outputs": [
    {
     "data": {
      "image/png": "[encoded data removed]",
      "text/plain": [
       "<Figure size 1080x360 with 2 Axes>"
      ]
     },
     "metadata": {},
     "output_type": "display_data"
    }
   ],
   "source": [
    "fig, axs = plt.subplots(1, 2, figsize=(15,5))\n",
    "plt.suptitle(\"Salt coverage\")\n",
    "axs[0].set_xlabel(\"Coverage\")\n",
    "axs[1].set_xlabel(\"Coverage class\")\n",
    "sns.distplot(train_df.coverage, kde=False, ax=axs[0])\n",
    "sns.distplot(train_df.coverage_class, bins=10, kde=False, ax=axs[1])\n",
    "plt.show()"
   ]
  },
  {
   "cell_type": "code",
   "execution_count": 11,
   "metadata": {},
   "outputs": [
    {
     "data": {
      "text/plain": [
       "Text(0.5, 1.0, 'Depth distribution')"
      ]
     },
     "execution_count": 11,
     "metadata": {},
     "output_type": "execute_result"
    },
    {
     "data": {
      "image/png": "[encoded data removed]",
      "text/plain": [
       "<Figure size 432x288 with 1 Axes>"
      ]
     },
     "metadata": {},
     "output_type": "display_data"
    }
   ],
   "source": [
    "sns.distplot(salt_parser.train_df.z, label=\"Train\")\n",
    "sns.distplot(salt_parser.test_df.z, label=\"Test\")\n",
    "plt.legend()\n",
    "plt.title(\"Depth distribution\")"
   ]
  },
  {
   "cell_type": "markdown",
   "metadata": {
    "_uuid": "7d6d6bebf40a69a4d03f0c94b62f8bf541e548aa"
   },
   "source": [
    "## Process raw images by normalization, scaling and padding"
   ]
  },
  {
   "cell_type": "code",
   "execution_count": 12,
   "metadata": {
    "_uuid": "5bcb17bbea834396ba526a95ca5d8357cf9d34f5"
   },
   "outputs": [
    {
     "data": {
      "application/vnd.jupyter.widget-view+json": {
       "model_id": "8bdac5656c024fcab60ea4baa75e7364",
       "version_major": 2,
       "version_minor": 0
      },
      "text/plain": [
       "HBox(children=(IntProgress(value=0, max=4000), HTML(value='')))"
      ]
     },
     "metadata": {},
     "output_type": "display_data"
    },
    {
     "name": "stdout",
     "output_type": "stream",
     "text": [
      "\n",
      "Processed data shape: (4000, 128, 128, 1)\n",
      "Processed data - min: -103.93901062011719, max: 151.06100463867188\n"
     ]
    },
    {
     "data": {
      "application/vnd.jupyter.widget-view+json": {
       "model_id": "493e3f71ff244f0a861c23c651874905",
       "version_major": 2,
       "version_minor": 0
      },
      "text/plain": [
       "HBox(children=(IntProgress(value=0, max=4000), HTML(value='')))"
      ]
     },
     "metadata": {},
     "output_type": "display_data"
    },
    {
     "name": "stdout",
     "output_type": "stream",
     "text": [
      "\n",
      "Processed data shape: (4000, 128, 128, 1)\n",
      "Processed data - min: 0.0, max: 1.0\n"
     ]
    },
    {
     "data": {
      "application/vnd.jupyter.widget-view+json": {
       "model_id": "dbb80fa47f0441918dedecf8a8e06c73",
       "version_major": 2,
       "version_minor": 0
      },
      "text/plain": [
       "HBox(children=(IntProgress(value=0, max=18000), HTML(value='')))"
      ]
     },
     "metadata": {},
     "output_type": "display_data"
    },
    {
     "name": "stdout",
     "output_type": "stream",
     "text": [
      "\n",
      "Processed data shape: (18000, 128, 128, 1)\n",
      "Processed data - min: -103.93901062011719, max: 151.06100463867188\n"
     ]
    }
   ],
   "source": [
    "resized_dim = (128, 128)\n",
    "\n",
    "X_train_proc = salt_parser.process_img(salt_parser.X_train, normalized=True, image_resized_size=resized_dim, padding=None)\n",
    "y_train_proc = salt_parser.process_img(salt_parser.y_train/255., normalized=False, image_resized_size=resized_dim, padding=None)\n",
    "X_test_proc = salt_parser.process_img(salt_parser.X_test, normalized=True, image_resized_size=resized_dim, padding=None)"
   ]
  },
  {
   "cell_type": "code",
   "execution_count": 13,
   "metadata": {},
   "outputs": [],
   "source": [
    "X_train_proc = X_train_proc.astype(np.float32)\n",
    "y_train_proc = y_train_proc.astype(np.float32)\n",
    "X_test_proc = X_test_proc.astype(np.float32)"
   ]
  },
  {
   "cell_type": "markdown",
   "metadata": {},
   "source": [
    "## Sanity Check"
   ]
  },
  {
   "cell_type": "code",
   "execution_count": 14,
   "metadata": {},
   "outputs": [
    {
     "name": "stdout",
     "output_type": "stream",
     "text": [
      "1158\n"
     ]
    },
    {
     "data": {
      "text/plain": [
       "Text(0.5, 1.0, 'Scaled mask')"
      ]
     },
     "execution_count": 14,
     "metadata": {},
     "output_type": "execute_result"
    },
    {
     "data": {
      "image/png": "[encoded data removed]",
      "text/plain": [
       "<Figure size 864x576 with 4 Axes>"
      ]
     },
     "metadata": {},
     "output_type": "display_data"
    }
   ],
   "source": [
    "idx = np.random.randint(0,4000)\n",
    "print(idx)\n",
    "\n",
    "tmp_img = np.zeros((img_size_target,img_size_target), dtype=np.float64)\n",
    "tmp_mask = np.zeros((img_size_target,img_size_target), dtype=np.float64)\n",
    "\n",
    "tmp_img[0:img_size_ori, 0:img_size_ori] = salt_parser.X_train[idx,:,:,0]\n",
    "tmp_mask[0:img_size_ori, 0:img_size_ori] = salt_parser.y_train[idx,:,:,0]\n",
    "\n",
    "fig, ax = plt.subplots(2, 2, figsize=(12,8))\n",
    "\n",
    "ax[0,0].imshow(tmp_img, cmap=\"gray\")\n",
    "ax[0,0].set_title(\"Original image\")\n",
    "ax[0,1].imshow(tmp_mask, cmap=\"gray\")\n",
    "ax[0,1].set_title(\"Original mask\")\n",
    "ax[1,0].imshow(X_train_proc[idx].squeeze(), cmap=\"gray\")\n",
    "ax[1,0].set_title(\"Scaled image\")\n",
    "ax[1,1].imshow(y_train_proc[idx].squeeze(), cmap=\"gray\")\n",
    "ax[1,1].set_title(\"Scaled mask\")"
   ]
  },
  {
   "cell_type": "markdown",
   "metadata": {
    "_uuid": "6d49b31618e2dabede490165fd39b559b9f343e8"
   },
   "source": [
    "# Split Data"
   ]
  },
  {
   "cell_type": "code",
   "execution_count": 15,
   "metadata": {
    "_uuid": "3f06ef1c577c2341bacaa901ae4fda091a22ef5b"
   },
   "outputs": [
    {
     "data": {
      "text/plain": [
       "0"
      ]
     },
     "execution_count": 15,
     "metadata": {},
     "output_type": "execute_result"
    }
   ],
   "source": [
    "# Perform 80/20 training/validation split based on stratified coverage.\n",
    "X_train, X_valid, y_train, y_valid, cov_train, cov_test, depth_train, depth_test = train_test_split(\n",
    "    X_train_proc,\n",
    "    y_train_proc,\n",
    "    train_df.coverage.values,\n",
    "    train_df.z.values,\n",
    "    test_size=0.2, \n",
    "    stratify=train_df.coverage_class, \n",
    "    random_state=777)\n",
    "\n",
    "X_test = X_test_proc\n",
    "\n",
    "del train_df\n",
    "gc.collect()\n",
    "\n",
    "del X_train_proc, y_train_proc\n",
    "gc.collect()"
   ]
  },
  {
   "cell_type": "code",
   "execution_count": 16,
   "metadata": {},
   "outputs": [
    {
     "data": {
      "text/plain": [
       "((3200, 128, 128, 1),\n",
       " (800, 128, 128, 1),\n",
       " (3200, 128, 128, 1),\n",
       " (800, 128, 128, 1),\n",
       " (18000, 128, 128, 1))"
      ]
     },
     "execution_count": 16,
     "metadata": {},
     "output_type": "execute_result"
    }
   ],
   "source": [
    "X_train.shape, X_valid.shape, y_train.shape, y_valid.shape, X_test.shape"
   ]
  },
  {
   "cell_type": "markdown",
   "metadata": {},
   "source": [
    "## Remove image with small mask"
   ]
  },
  {
   "cell_type": "code",
   "execution_count": 17,
   "metadata": {},
   "outputs": [
    {
     "data": {
      "text/plain": [
       "(array([   1,   15,   23,   44,   47,   67,   68,   97,  152,  154,  174,\n",
       "         216,  222,  269,  313,  342,  367,  405,  424,  474,  475,  477,\n",
       "         505,  543,  595,  680,  709,  730,  750,  765,  783,  844,  865,\n",
       "         907,  926,  942,  965,  984,  991, 1004, 1055, 1090, 1143, 1168,\n",
       "        1209, 1227, 1306, 1323, 1334, 1352, 1384, 1401, 1424, 1472, 1483,\n",
       "        1510, 1537, 1573, 1582, 1620, 1636, 1769, 1770, 1776, 1873, 1917,\n",
       "        1935, 1977, 2000, 2059, 2075, 2166, 2193, 2211, 2224, 2239, 2248,\n",
       "        2306, 2422, 2548, 2580, 2627, 2679, 2691, 2741, 2806, 2821, 2857,\n",
       "        2876, 2937, 2974, 3017, 3033, 3041, 3046, 3097, 3101, 3156, 3166]),)"
      ]
     },
     "execution_count": 17,
     "metadata": {},
     "output_type": "execute_result"
    }
   ],
   "source": [
    "# # boolean mask for mask with either all black pixel or at least 50 white pixels\n",
    "thres = 100\n",
    "y_mask = np.squeeze((y_train.sum(axis=(1,2))>=thres) | (y_train.sum(axis=(1,2))==0))\n",
    "np.where(~y_mask)"
   ]
  },
  {
   "cell_type": "code",
   "execution_count": 18,
   "metadata": {},
   "outputs": [
    {
     "data": {
      "text/plain": [
       "(1, 99)"
      ]
     },
     "execution_count": 18,
     "metadata": {},
     "output_type": "execute_result"
    }
   ],
   "source": [
    "np.shape(np.where(~y_mask))"
   ]
  },
  {
   "cell_type": "code",
   "execution_count": 19,
   "metadata": {},
   "outputs": [
    {
     "data": {
      "text/plain": [
       "3166"
      ]
     },
     "execution_count": 19,
     "metadata": {},
     "output_type": "execute_result"
    }
   ],
   "source": [
    "idx = np.where(~y_mask)[0][-1]\n",
    "idx"
   ]
  },
  {
   "cell_type": "code",
   "execution_count": 20,
   "metadata": {},
   "outputs": [
    {
     "data": {
      "image/png": "[encoded data removed]",
      "text/plain": [
       "<Figure size 1080x720 with 2 Axes>"
      ]
     },
     "metadata": {},
     "output_type": "display_data"
    }
   ],
   "source": [
    "fig, ax = plt.subplots(1, 2, figsize=(15,10))\n",
    "\n",
    "ax[0].imshow(X_train[idx].squeeze(), cmap=\"gray\")\n",
    "ax[1].imshow(y_train[idx].squeeze(), cmap=\"gray\")\n",
    "plt.show()"
   ]
  },
  {
   "cell_type": "code",
   "execution_count": 21,
   "metadata": {},
   "outputs": [
    {
     "data": {
      "text/plain": [
       "99"
      ]
     },
     "execution_count": 21,
     "metadata": {},
     "output_type": "execute_result"
    }
   ],
   "source": [
    "len(y_train) - len(y_train[y_mask])"
   ]
  },
  {
   "cell_type": "code",
   "execution_count": 22,
   "metadata": {},
   "outputs": [
    {
     "data": {
      "text/plain": [
       "((3200, 128, 128, 1), (3200, 128, 128, 1))"
      ]
     },
     "execution_count": 22,
     "metadata": {},
     "output_type": "execute_result"
    }
   ],
   "source": [
    "X_train.shape, y_train.shape"
   ]
  },
  {
   "cell_type": "code",
   "execution_count": 23,
   "metadata": {},
   "outputs": [],
   "source": [
    "X_train = X_train[y_mask]\n",
    "y_train = y_train[y_mask]"
   ]
  },
  {
   "cell_type": "code",
   "execution_count": 24,
   "metadata": {},
   "outputs": [
    {
     "data": {
      "text/plain": [
       "((3101, 128, 128, 1), (3101, 128, 128, 1))"
      ]
     },
     "execution_count": 24,
     "metadata": {},
     "output_type": "execute_result"
    }
   ],
   "source": [
    "X_train.shape, y_train.shape"
   ]
  },
  {
   "cell_type": "markdown",
   "metadata": {},
   "source": [
    "# Simple horizontal augmentation to double the data"
   ]
  },
  {
   "cell_type": "code",
   "execution_count": 25,
   "metadata": {},
   "outputs": [],
   "source": [
    "X_train = np.append(X_train, [np.fliplr(x) for x in X_train], axis=0)\n",
    "y_train = np.append(y_train, [np.fliplr(x) for x in y_train], axis=0)"
   ]
  },
  {
   "cell_type": "markdown",
   "metadata": {},
   "source": [
    "# Expand to three channels since resnet takes RGB by default"
   ]
  },
  {
   "cell_type": "code",
   "execution_count": 26,
   "metadata": {},
   "outputs": [
    {
     "data": {
      "text/plain": [
       "((6202, 128, 128, 1),\n",
       " (800, 128, 128, 1),\n",
       " (6202, 128, 128, 1),\n",
       " (800, 128, 128, 1),\n",
       " (18000, 128, 128, 1))"
      ]
     },
     "execution_count": 26,
     "metadata": {},
     "output_type": "execute_result"
    }
   ],
   "source": [
    "X_train.shape, X_valid.shape, y_train.shape, y_valid.shape, X_test.shape"
   ]
  },
  {
   "cell_type": "code",
   "execution_count": 27,
   "metadata": {},
   "outputs": [],
   "source": [
    "X_train = np.repeat(X_train,3,axis=3)\n",
    "X_valid = np.repeat(X_valid,3,axis=3)\n",
    "X_test = np.repeat(X_test,3,axis=3)"
   ]
  },
  {
   "cell_type": "code",
   "execution_count": 28,
   "metadata": {},
   "outputs": [
    {
     "data": {
      "text/plain": [
       "((6202, 128, 128, 3),\n",
       " (800, 128, 128, 3),\n",
       " (6202, 128, 128, 1),\n",
       " (800, 128, 128, 1),\n",
       " (18000, 128, 128, 3))"
      ]
     },
     "execution_count": 28,
     "metadata": {},
     "output_type": "execute_result"
    }
   ],
   "source": [
    "X_train.shape, X_valid.shape, y_train.shape, y_valid.shape, X_test.shape"
   ]
  },
  {
   "cell_type": "markdown",
   "metadata": {
    "_uuid": "94214b584b843bc238a60c8a9880ed705c87a1f8"
   },
   "source": [
    "# Define UNet model"
   ]
  },
  {
   "cell_type": "markdown",
   "metadata": {},
   "source": [
    "https://github.com/keras-team/keras-applications/blob/master/keras_applications/resnet50.py"
   ]
  },
  {
   "cell_type": "code",
   "execution_count": 29,
   "metadata": {},
   "outputs": [],
   "source": [
    "def conv_block_simple(prevlayer, filters, prefix, strides=(1, 1)):\n",
    "    conv = Conv2D(filters, (3, 3), padding=\"same\", kernel_initializer=\"he_normal\", strides=strides, name=prefix + \"_conv\")(prevlayer)\n",
    "    conv = BatchNormalization(name=prefix + \"_bn\")(conv)\n",
    "    conv = Activation('relu', name=prefix + \"_activation\")(conv)\n",
    "    return conv\n",
    "\n",
    "def conv_block_simple_no_bn(prevlayer, filters, prefix, strides=(1, 1)):\n",
    "    conv = Conv2D(filters, (3, 3), padding=\"same\", kernel_initializer=\"he_normal\", strides=strides, name=prefix + \"_conv\")(prevlayer)\n",
    "    conv = Activation('relu', name=prefix + \"_activation\")(conv)\n",
    "    return conv"
   ]
  },
  {
   "cell_type": "code",
   "execution_count": 30,
   "metadata": {},
   "outputs": [],
   "source": [
    "WEIGHTS_PATH = 'https://github.com/fchollet/deep-learning-models/releases/download/v0.2/resnet50_weights_tf_dim_ordering_tf_kernels.h5'\n",
    "WEIGHTS_PATH_NO_TOP = 'https://github.com/fchollet/deep-learning-models/releases/download/v0.2/resnet50_weights_tf_dim_ordering_tf_kernels_notop.h5'"
   ]
  },
  {
   "cell_type": "code",
   "execution_count": 31,
   "metadata": {},
   "outputs": [],
   "source": [
    "def identity_block(input_tensor, kernel_size, filters, stage, block):\n",
    "    filters1, filters2, filters3 = filters\n",
    "    if K.image_data_format() == 'channels_last':\n",
    "        bn_axis = 3\n",
    "    else:\n",
    "        bn_axis = 1\n",
    "    conv_name_base = 'res' + str(stage) + block + '_branch'\n",
    "    bn_name_base = 'bn' + str(stage) + block + '_branch'\n",
    "\n",
    "    x = Conv2D(filters1, (1, 1), name=conv_name_base + '2a')(input_tensor)\n",
    "    x = BatchNormalization(axis=bn_axis, name=bn_name_base + '2a')(x)\n",
    "    x = Activation('relu')(x)\n",
    "\n",
    "    x = Conv2D(filters2, kernel_size,\n",
    "               padding='same', name=conv_name_base + '2b')(x)\n",
    "    x = BatchNormalization(axis=bn_axis, name=bn_name_base + '2b')(x)\n",
    "    x = Activation('relu')(x)\n",
    "\n",
    "    x = Conv2D(filters3, (1, 1), name=conv_name_base + '2c')(x)\n",
    "    x = BatchNormalization(axis=bn_axis, name=bn_name_base + '2c')(x)\n",
    "\n",
    "    x = layers.add([x, input_tensor])\n",
    "    x = Activation('relu')(x)\n",
    "    return x\n",
    "\n",
    "\n",
    "def conv_block(input_tensor, kernel_size, filters, stage, block, strides=(2, 2)):\n",
    "    filters1, filters2, filters3 = filters\n",
    "    if K.image_data_format() == 'channels_last':\n",
    "        bn_axis = 3\n",
    "    else:\n",
    "        bn_axis = 1\n",
    "    conv_name_base = 'res' + str(stage) + block + '_branch'\n",
    "    bn_name_base = 'bn' + str(stage) + block + '_branch'\n",
    "\n",
    "    x = Conv2D(filters1, (1, 1), strides=strides,\n",
    "               name=conv_name_base + '2a')(input_tensor)\n",
    "    x = BatchNormalization(axis=bn_axis, name=bn_name_base + '2a')(x)\n",
    "    x = Activation('relu')(x)\n",
    "\n",
    "    x = Conv2D(filters2, kernel_size, padding='same',\n",
    "               name=conv_name_base + '2b')(x)\n",
    "    x = BatchNormalization(axis=bn_axis, name=bn_name_base + '2b')(x)\n",
    "    x = Activation('relu')(x)\n",
    "\n",
    "    x = Conv2D(filters3, (1, 1), name=conv_name_base + '2c')(x)\n",
    "    x = BatchNormalization(axis=bn_axis, name=bn_name_base + '2c')(x)\n",
    "\n",
    "    shortcut = Conv2D(filters3, (1, 1), strides=strides,\n",
    "                      name=conv_name_base + '1')(input_tensor)\n",
    "    shortcut = BatchNormalization(axis=bn_axis, name=bn_name_base + '1')(shortcut)\n",
    "\n",
    "    x = layers.add([x, shortcut])\n",
    "    x = Activation('relu')(x)\n",
    "    return x"
   ]
  },
  {
   "cell_type": "code",
   "execution_count": 32,
   "metadata": {},
   "outputs": [],
   "source": [
    "def ResNet50(include_top=True, weights='imagenet',\n",
    "             input_tensor=None, input_shape=None,\n",
    "             pooling=None,\n",
    "             classes=1000):\n",
    "    if weights not in {'imagenet', None}:\n",
    "        raise ValueError('The `weights` argument should be either '\n",
    "                         '`None` (random initialization) or `imagenet` '\n",
    "                         '(pre-training on ImageNet).')\n",
    "\n",
    "    if weights == 'imagenet' and include_top and classes != 1000:\n",
    "        raise ValueError('If using `weights` as imagenet with `include_top`'\n",
    "                         ' as true, `classes` should be 1000')\n",
    "\n",
    "    if input_tensor is None:\n",
    "        img_input = Input(shape=input_shape)\n",
    "    else:\n",
    "        if not K.is_keras_tensor(input_tensor):\n",
    "            img_input = Input(tensor=input_tensor, shape=input_shape)\n",
    "        else:\n",
    "            img_input = input_tensor\n",
    "    if K.image_data_format() == 'channels_last':\n",
    "        bn_axis = 3\n",
    "    else:\n",
    "        bn_axis = 1\n",
    "\n",
    "    x = Conv2D(64, (7, 7), strides=(2, 2), padding='same', name='conv1')(img_input)\n",
    "    x = BatchNormalization(axis=bn_axis, name='bn_conv1')(x)\n",
    "    x = Activation('relu')(x)\n",
    "    x = MaxPooling2D((3, 3), strides=(2, 2), padding=\"same\")(x)\n",
    "\n",
    "    x = conv_block(x, 3, [64, 64, 256], stage=2, block='a', strides=(1, 1))\n",
    "    x = identity_block(x, 3, [64, 64, 256], stage=2, block='b')\n",
    "    x = identity_block(x, 3, [64, 64, 256], stage=2, block='c')\n",
    "\n",
    "    x = conv_block(x, 3, [128, 128, 512], stage=3, block='a')\n",
    "    x = identity_block(x, 3, [128, 128, 512], stage=3, block='b')\n",
    "    x = identity_block(x, 3, [128, 128, 512], stage=3, block='c')\n",
    "    x = identity_block(x, 3, [128, 128, 512], stage=3, block='d')\n",
    "\n",
    "    x = conv_block(x, 3, [256, 256, 1024], stage=4, block='a')\n",
    "    x = identity_block(x, 3, [256, 256, 1024], stage=4, block='b')\n",
    "    x = identity_block(x, 3, [256, 256, 1024], stage=4, block='c')\n",
    "    x = identity_block(x, 3, [256, 256, 1024], stage=4, block='d')\n",
    "    x = identity_block(x, 3, [256, 256, 1024], stage=4, block='e')\n",
    "    x = identity_block(x, 3, [256, 256, 1024], stage=4, block='f')\n",
    "\n",
    "    x = conv_block(x, 3, [512, 512, 2048], stage=5, block='a')\n",
    "    x = identity_block(x, 3, [512, 512, 2048], stage=5, block='b')\n",
    "    x = identity_block(x, 3, [512, 512, 2048], stage=5, block='c')\n",
    "\n",
    "#     x = AveragePooling2D((7, 7), name='avg_pool')(x)\n",
    "\n",
    "#     if include_top:\n",
    "#         x = Flatten()(x)\n",
    "#         x = Dense(classes, activation='softmax', name='fc1000')(x)\n",
    "#     else:\n",
    "#         if pooling == 'avg':\n",
    "#             x = GlobalAveragePooling2D()(x)\n",
    "#         elif pooling == 'max':\n",
    "#             x = GlobalMaxPooling2D()(x)\n",
    "\n",
    "    # Ensure that the model takes into account\n",
    "    # any potential predecessors of `input_tensor`.\n",
    "    if input_tensor is not None:\n",
    "        inputs = get_source_inputs(input_tensor)\n",
    "    else:\n",
    "        inputs = img_input\n",
    "    # Create model.\n",
    "    model = Model(inputs, x, name='resnet50')\n",
    "\n",
    "    # load weights\n",
    "    if weights == 'imagenet':\n",
    "        if include_top:\n",
    "            weights_path = get_file('resnet50_weights_tf_dim_ordering_tf_kernels.h5',\n",
    "                                    WEIGHTS_PATH,\n",
    "                                    cache_subdir='models',\n",
    "                                    md5_hash='a7b3fe01876f51b976af0dea6bc144eb')\n",
    "        else:\n",
    "            weights_path = get_file('resnet50_weights_tf_dim_ordering_tf_kernels_notop.h5',\n",
    "                                    WEIGHTS_PATH_NO_TOP,\n",
    "                                    cache_subdir='models',\n",
    "                                    md5_hash='a268eb855778b3df3c7506639542a6af')\n",
    "        model.load_weights(weights_path,by_name=True)\n",
    "    return model"
   ]
  },
  {
   "cell_type": "code",
   "execution_count": 33,
   "metadata": {},
   "outputs": [],
   "source": [
    "K.clear_session()\n",
    "\n",
    "def get_unet_resnet(input_shape):\n",
    "    dropout = True\n",
    "    resnet_base = ResNet50(include_top=False, input_shape=input_shape)\n",
    "\n",
    "    for l in resnet_base.layers:\n",
    "        if isinstance(l, keras.layers.normalization.BatchNormalization):\n",
    "            l.trainable = True\n",
    "        else:\n",
    "            l.trainable = False\n",
    "        \n",
    "    conv1 = resnet_base.get_layer(\"activation_1\").output\n",
    "    conv2 = resnet_base.get_layer(\"activation_10\").output\n",
    "    conv3 = resnet_base.get_layer(\"activation_22\").output\n",
    "    conv4 = resnet_base.get_layer(\"activation_40\").output\n",
    "    conv5 = resnet_base.get_layer(\"activation_49\").output\n",
    "    \n",
    "    \n",
    "#     # Middle\n",
    "#     convm = Conv2D(512, (3,3), activation=None, padding='same')(resnet_base.output)?\n",
    "#     convm = conv_block_simple(convm, 512, \"convm_1\")\n",
    "#     convm = conv_block_simple(convm, 512, \"convm_2\")\n",
    "    \n",
    "\n",
    "    conv6 = concatenate([UpSampling2D()(conv5), conv4], axis=-1)\n",
    "    if dropout: conv6 = Dropout(0.5)(conv6)\n",
    "    conv6 = conv_block_simple(conv6, 256, \"conv6_1\")\n",
    "    conv6 = conv_block_simple(conv6, 256, \"conv6_2\")\n",
    " \n",
    "    conv7 = concatenate([UpSampling2D()(conv6), conv3], axis=-1)\n",
    "    if dropout: conv7 = Dropout(0.5)(conv7)\n",
    "    conv7 = conv_block_simple(conv7, 192, \"conv7_1\")\n",
    "    conv7 = conv_block_simple(conv7, 192, \"conv7_2\")\n",
    "\n",
    "    conv8 = concatenate([UpSampling2D()(conv7), conv2], axis=-1)\n",
    "    if dropout: conv8 = Dropout(0.5)(conv8)\n",
    "    conv8 = conv_block_simple(conv8, 128, \"conv8_1\")\n",
    "    conv8 = conv_block_simple(conv8, 128, \"conv8_2\")\n",
    "\n",
    "\n",
    "    conv9 = concatenate([UpSampling2D()(conv8), conv1], axis=-1)\n",
    "    if dropout: conv9 = Dropout(0.5)(conv9)\n",
    "    conv9 = conv_block_simple(conv9, 64, \"conv9_1\")\n",
    "    conv9 = conv_block_simple(conv9, 64, \"conv9_2\")\n",
    "\n",
    "    conv10 = UpSampling2D()(conv9)\n",
    "    conv10 = conv_block_simple(conv10, 32, \"conv10_1\")\n",
    "    conv10 = conv_block_simple(conv10, 32, \"conv10_2\")\n",
    "    conv10 = SpatialDropout2D(0.2)(conv10)\n",
    "    \n",
    "#     x = Conv2D(1, (1, 1), activation=\"sigmoid\", name=\"prediction\")(conv10)\n",
    "    \n",
    "    x = Conv2D(1, (1,1), padding='same', activation=None, name=\"prediction\")(conv10)\n",
    "    x = Activation('sigmoid')(x)\n",
    "    \n",
    "    model = Model(resnet_base.input, x)\n",
    "    \n",
    "    return model"
   ]
  },
  {
   "cell_type": "markdown",
   "metadata": {},
   "source": [
    "# Metric Loss"
   ]
  },
  {
   "cell_type": "code",
   "execution_count": 34,
   "metadata": {},
   "outputs": [],
   "source": [
    "def get_iou_vector(A, B):\n",
    "    batch_size = A.shape[0]\n",
    "    metric = []\n",
    "    for batch in range(batch_size):\n",
    "        t, p = A[batch]>0, B[batch]>0\n",
    "        intersection = np.logical_and(t, p)\n",
    "        union = np.logical_or(t, p)\n",
    "        iou = (np.sum(intersection > 0) + 1e-10 )/ (np.sum(union > 0) + 1e-10)\n",
    "        thresholds = np.arange(0.5, 1, 0.05)\n",
    "        s = []\n",
    "        for thresh in thresholds:\n",
    "            s.append(iou > thresh)\n",
    "        metric.append(np.mean(s))\n",
    "        \n",
    "    return np.mean(metric)\n",
    "\n",
    "def my_iou_metric(label, pred):\n",
    "    return tf.py_func(get_iou_vector, [label, pred>0.5], tf.float64)\n",
    "\n",
    "def my_iou_metric_2(label, pred):\n",
    "    return tf.py_func(get_iou_vector, [label, pred>0], tf.float64)"
   ]
  },
  {
   "cell_type": "code",
   "execution_count": 35,
   "metadata": {},
   "outputs": [],
   "source": [
    "def dice_coef(y_true, y_pred):\n",
    "    y_true_f = K.flatten(y_true)\n",
    "    y_pred = K.cast(y_pred, 'float32')\n",
    "    y_pred_f = K.cast(K.greater(K.flatten(y_pred), 0.5), 'float32')\n",
    "    intersection = y_true_f * y_pred_f\n",
    "    score = 2. * K.sum(intersection) / (K.sum(y_true_f) + K.sum(y_pred_f))\n",
    "    return score\n",
    "\n",
    "def dice_loss(y_true, y_pred):\n",
    "    smooth = 1.\n",
    "    y_true_f = K.flatten(y_true)\n",
    "    y_pred_f = K.flatten(y_pred)\n",
    "    intersection = y_true_f * y_pred_f\n",
    "    score = (2. * K.sum(intersection) + smooth) / (K.sum(y_true_f) + K.sum(y_pred_f) + smooth)\n",
    "    return 1. - score\n",
    "\n",
    "def bce_dice_loss(y_true, y_pred):\n",
    "    return binary_crossentropy(y_true, y_pred) + dice_loss(y_true, y_pred)\n",
    "\n",
    "def bce_logdice_loss(y_true, y_pred):\n",
    "    return binary_crossentropy(y_true, y_pred) - K.log(1. - dice_loss(y_true, y_pred))\n",
    "\n",
    "def weighted_bce_loss(y_true, y_pred, weight):\n",
    "    epsilon = 1e-7\n",
    "    y_pred = K.clip(y_pred, epsilon, 1. - epsilon)\n",
    "    logit_y_pred = K.log(y_pred / (1. - y_pred))\n",
    "    loss = weight * (logit_y_pred * (1. - y_true) + \n",
    "                     K.log(1. + K.exp(-K.abs(logit_y_pred))) + K.maximum(-logit_y_pred, 0.))\n",
    "    return K.sum(loss) / K.sum(weight)\n",
    "\n",
    "def weighted_dice_loss(y_true, y_pred, weight):\n",
    "    smooth = 1.\n",
    "    w, m1, m2 = weight, y_true, y_pred\n",
    "    intersection = (m1 * m2)\n",
    "    score = (2. * K.sum(w * intersection) + smooth) / (K.sum(w * m1) + K.sum(w * m2) + smooth)\n",
    "    loss = 1. - K.sum(score)\n",
    "    return loss\n",
    "\n",
    "def weighted_bce_dice_loss(y_true, y_pred):\n",
    "    y_true = K.cast(y_true, 'float32')\n",
    "    y_pred = K.cast(y_pred, 'float32')\n",
    "    # if we want to get same size of output, kernel size must be odd\n",
    "    averaged_mask = K.pool2d(\n",
    "            y_true, pool_size=(50, 50), strides=(1, 1), padding='same', pool_mode='avg')\n",
    "    weight = K.ones_like(averaged_mask)\n",
    "    w0 = K.sum(weight)\n",
    "    weight = 5. * K.exp(-5. * K.abs(averaged_mask - 0.5))\n",
    "    w1 = K.sum(weight)\n",
    "    weight *= (w0 / w1)\n",
    "    loss = weighted_bce_loss(y_true, y_pred, weight) + dice_loss(y_true, y_pred)\n",
    "    return loss"
   ]
  },
  {
   "cell_type": "code",
   "execution_count": 36,
   "metadata": {},
   "outputs": [],
   "source": [
    "# code download from: https://github.com/bermanmaxim/LovaszSoftmax\n",
    "def lovasz_grad(gt_sorted):\n",
    "    \"\"\"\n",
    "    Computes gradient of the Lovasz extension w.r.t sorted errors\n",
    "    See Alg. 1 in paper\n",
    "    \"\"\"\n",
    "    gts = tf.reduce_sum(gt_sorted)\n",
    "    intersection = gts - tf.cumsum(gt_sorted)\n",
    "    union = gts + tf.cumsum(1. - gt_sorted)\n",
    "    jaccard = 1. - intersection / union\n",
    "    jaccard = tf.concat((jaccard[0:1], jaccard[1:] - jaccard[:-1]), 0)\n",
    "    return jaccard\n",
    "\n",
    "\n",
    "def lovasz_hinge(logits, labels, per_image=True, ignore=None):\n",
    "    \"\"\"\n",
    "    Binary Lovasz hinge loss\n",
    "      logits: [B, H, W] Variable, logits at each pixel (between -\\infty and +\\infty)\n",
    "      labels: [B, H, W] Tensor, binary ground truth masks (0 or 1)\n",
    "      per_image: compute the loss per image instead of per batch\n",
    "      ignore: void class id\n",
    "    \"\"\"\n",
    "    if per_image:\n",
    "        def treat_image(log_lab):\n",
    "            log, lab = log_lab\n",
    "            log, lab = tf.expand_dims(log, 0), tf.expand_dims(lab, 0)\n",
    "            log, lab = flatten_binary_scores(log, lab, ignore)\n",
    "            return lovasz_hinge_flat(log, lab)\n",
    "        losses = tf.map_fn(treat_image, (logits, labels), dtype=tf.float32)\n",
    "        loss = tf.reduce_mean(losses)\n",
    "    else:\n",
    "        loss = lovasz_hinge_flat(*flatten_binary_scores(logits, labels, ignore))\n",
    "    return loss\n",
    "\n",
    "\n",
    "def lovasz_hinge_flat(logits, labels):\n",
    "    \"\"\"\n",
    "    Binary Lovasz hinge loss\n",
    "      logits: [P] Variable, logits at each prediction (between -\\infty and +\\infty)\n",
    "      labels: [P] Tensor, binary ground truth labels (0 or 1)\n",
    "      ignore: label to ignore\n",
    "    \"\"\"\n",
    "\n",
    "    def compute_loss():\n",
    "        labelsf = tf.cast(labels, logits.dtype)\n",
    "        signs = 2. * labelsf - 1.\n",
    "        errors = 1. - logits * tf.stop_gradient(signs)\n",
    "        errors_sorted, perm = tf.nn.top_k(errors, k=tf.shape(errors)[0], name=\"descending_sort\")\n",
    "        gt_sorted = tf.gather(labelsf, perm)\n",
    "        grad = lovasz_grad(gt_sorted)\n",
    "        loss = tf.tensordot(tf.nn.elu(errors_sorted), tf.stop_gradient(grad), 1, name=\"loss_non_void\")\n",
    "        return loss\n",
    "\n",
    "    # deal with the void prediction case (only void pixels)\n",
    "    loss = tf.cond(tf.equal(tf.shape(logits)[0], 0),\n",
    "                   lambda: tf.reduce_sum(logits) * 0.,\n",
    "                   compute_loss,\n",
    "                   strict=True,\n",
    "                   name=\"loss\"\n",
    "                   )\n",
    "    return loss\n",
    "\n",
    "\n",
    "def flatten_binary_scores(scores, labels, ignore=None):\n",
    "    \"\"\"\n",
    "    Flattens predictions in the batch (binary case)\n",
    "    Remove labels equal to 'ignore'\n",
    "    \"\"\"\n",
    "    scores = tf.reshape(scores, (-1,))\n",
    "    labels = tf.reshape(labels, (-1,))\n",
    "    if ignore is None:\n",
    "        return scores, labels\n",
    "    valid = tf.not_equal(labels, ignore)\n",
    "    vscores = tf.boolean_mask(scores, valid, name='valid_scores')\n",
    "    vlabels = tf.boolean_mask(labels, valid, name='valid_labels')\n",
    "    return vscores, vlabels\n",
    "\n",
    "def lovasz_loss(y_true, y_pred):\n",
    "    y_true, y_pred = K.cast(K.squeeze(y_true, -1), 'int32'), K.cast(K.squeeze(y_pred, -1), 'float32')\n",
    "    #logits = K.log(y_pred / (1. - y_pred))\n",
    "    logits = y_pred #Jiaxin\n",
    "    loss = lovasz_hinge(logits, y_true, per_image = True, ignore = None)\n",
    "    return loss"
   ]
  },
  {
   "cell_type": "code",
   "execution_count": 37,
   "metadata": {},
   "outputs": [],
   "source": [
    "def focal_loss(gamma=2., alpha=0.75):\n",
    "    def focal_loss_fixed(y_true, y_pred):\n",
    "        y_pred = K.clip(y_pred, 1e-6, 1 - 1e-6)\n",
    "        p_t = tf.where(tf.equal(y_true, 1), y_pred, 1. - y_pred)\n",
    "        alpha_t = tf.where(tf.equal(y_true, 1), K.ones_like(y_pred) * K.constant(alpha), K.ones_like(y_pred) * K.constant(1. - alpha))\n",
    "        loss = K.mean(-1. * alpha_t * (1. - p_t)**gamma * K.log(p_t))\n",
    "        return loss\n",
    "    return focal_loss_fixed"
   ]
  },
  {
   "cell_type": "markdown",
   "metadata": {},
   "source": [
    "# Build Model"
   ]
  },
  {
   "cell_type": "code",
   "execution_count": 38,
   "metadata": {},
   "outputs": [],
   "source": [
    "save_model_nameA = 'unet_V4_3A.model'\n",
    "save_model_nameB = 'unet_V4_3B.model'\n",
    "save_model_nameC = 'unet_V4_3C.model'"
   ]
  },
  {
   "cell_type": "code",
   "execution_count": null,
   "metadata": {},
   "outputs": [
    {
     "name": "stdout",
     "output_type": "stream",
     "text": [
      "__________________________________________________________________________________________________\n",
      "Layer (type)                    Output Shape         Param #     Connected to                     \n",
      "==================================================================================================\n",
      "input_1 (InputLayer)            (None, 128, 128, 3)  0                                            \n",
      "__________________________________________________________________________________________________\n",
      "conv1 (Conv2D)                  (None, 64, 64, 64)   9472        input_1[0][0]                    \n",
      "__________________________________________________________________________________________________\n",
      "bn_conv1 (BatchNormalization)   (None, 64, 64, 64)   256         conv1[0][0]                      \n",
      "__________________________________________________________________________________________________\n",
      "activation_1 (Activation)       (None, 64, 64, 64)   0           bn_conv1[0][0]                   \n",
      "__________________________________________________________________________________________________\n",
      "max_pooling2d_1 (MaxPooling2D)  (None, 32, 32, 64)   0           activation_1[0][0]               \n",
      "__________________________________________________________________________________________________\n",
      "res2a_branch2a (Conv2D)         (None, 32, 32, 64)   4160        max_pooling2d_1[0][0]            \n",
      "__________________________________________________________________________________________________\n",
      "bn2a_branch2a (BatchNormalizati (None, 32, 32, 64)   256         res2a_branch2a[0][0]             \n",
      "__________________________________________________________________________________________________\n",
      "activation_2 (Activation)       (None, 32, 32, 64)   0           bn2a_branch2a[0][0]              \n",
      "__________________________________________________________________________________________________\n",
      "res2a_branch2b (Conv2D)         (None, 32, 32, 64)   36928       activation_2[0][0]               \n",
      "__________________________________________________________________________________________________\n",
      "bn2a_branch2b (BatchNormalizati (None, 32, 32, 64)   256         res2a_branch2b[0][0]             \n",
      "__________________________________________________________________________________________________\n",
      "activation_3 (Activation)       (None, 32, 32, 64)   0           bn2a_branch2b[0][0]              \n",
      "__________________________________________________________________________________________________\n",
      "res2a_branch2c (Conv2D)         (None, 32, 32, 256)  16640       activation_3[0][0]               \n",
      "__________________________________________________________________________________________________\n",
      "res2a_branch1 (Conv2D)          (None, 32, 32, 256)  16640       max_pooling2d_1[0][0]            \n",
      "__________________________________________________________________________________________________\n",
      "bn2a_branch2c (BatchNormalizati (None, 32, 32, 256)  1024        res2a_branch2c[0][0]             \n",
      "__________________________________________________________________________________________________\n",
      "bn2a_branch1 (BatchNormalizatio (None, 32, 32, 256)  1024        res2a_branch1[0][0]              \n",
      "__________________________________________________________________________________________________\n",
      "add_1 (Add)                     (None, 32, 32, 256)  0           bn2a_branch2c[0][0]              \n",
      "                                                                 bn2a_branch1[0][0]               \n",
      "__________________________________________________________________________________________________\n",
      "activation_4 (Activation)       (None, 32, 32, 256)  0           add_1[0][0]                      \n",
      "__________________________________________________________________________________________________\n",
      "res2b_branch2a (Conv2D)         (None, 32, 32, 64)   16448       activation_4[0][0]               \n",
      "__________________________________________________________________________________________________\n",
      "bn2b_branch2a (BatchNormalizati (None, 32, 32, 64)   256         res2b_branch2a[0][0]             \n",
      "__________________________________________________________________________________________________\n",
      "activation_5 (Activation)       (None, 32, 32, 64)   0           bn2b_branch2a[0][0]              \n",
      "__________________________________________________________________________________________________\n",
      "res2b_branch2b (Conv2D)         (None, 32, 32, 64)   36928       activation_5[0][0]               \n",
      "__________________________________________________________________________________________________\n",
      "bn2b_branch2b (BatchNormalizati (None, 32, 32, 64)   256         res2b_branch2b[0][0]             \n",
      "__________________________________________________________________________________________________\n",
      "activation_6 (Activation)       (None, 32, 32, 64)   0           bn2b_branch2b[0][0]              \n",
      "__________________________________________________________________________________________________\n",
      "res2b_branch2c (Conv2D)         (None, 32, 32, 256)  16640       activation_6[0][0]               \n",
      "__________________________________________________________________________________________________\n",
      "bn2b_branch2c (BatchNormalizati (None, 32, 32, 256)  1024        res2b_branch2c[0][0]             \n",
      "__________________________________________________________________________________________________\n",
      "add_2 (Add)                     (None, 32, 32, 256)  0           bn2b_branch2c[0][0]              \n",
      "                                                                 activation_4[0][0]               \n",
      "__________________________________________________________________________________________________\n",
      "activation_7 (Activation)       (None, 32, 32, 256)  0           add_2[0][0]                      \n",
      "__________________________________________________________________________________________________\n",
      "res2c_branch2a (Conv2D)         (None, 32, 32, 64)   16448       activation_7[0][0]               \n",
      "__________________________________________________________________________________________________\n",
      "bn2c_branch2a (BatchNormalizati (None, 32, 32, 64)   256         res2c_branch2a[0][0]             \n",
      "__________________________________________________________________________________________________\n",
      "activation_8 (Activation)       (None, 32, 32, 64)   0           bn2c_branch2a[0][0]              \n",
      "__________________________________________________________________________________________________\n",
      "res2c_branch2b (Conv2D)         (None, 32, 32, 64)   36928       activation_8[0][0]               \n",
      "__________________________________________________________________________________________________\n",
      "bn2c_branch2b (BatchNormalizati (None, 32, 32, 64)   256         res2c_branch2b[0][0]             \n",
      "__________________________________________________________________________________________________\n",
      "activation_9 (Activation)       (None, 32, 32, 64)   0           bn2c_branch2b[0][0]              \n",
      "__________________________________________________________________________________________________\n",
      "res2c_branch2c (Conv2D)         (None, 32, 32, 256)  16640       activation_9[0][0]               \n",
      "__________________________________________________________________________________________________\n",
      "bn2c_branch2c (BatchNormalizati (None, 32, 32, 256)  1024        res2c_branch2c[0][0]             \n",
      "__________________________________________________________________________________________________\n",
      "add_3 (Add)                     (None, 32, 32, 256)  0           bn2c_branch2c[0][0]              \n",
      "                                                                 activation_7[0][0]               \n",
      "__________________________________________________________________________________________________\n",
      "activation_10 (Activation)      (None, 32, 32, 256)  0           add_3[0][0]                      \n",
      "__________________________________________________________________________________________________\n",
      "res3a_branch2a (Conv2D)         (None, 16, 16, 128)  32896       activation_10[0][0]              \n",
      "__________________________________________________________________________________________________\n",
      "bn3a_branch2a (BatchNormalizati (None, 16, 16, 128)  512         res3a_branch2a[0][0]             \n",
      "__________________________________________________________________________________________________\n",
      "activation_11 (Activation)      (None, 16, 16, 128)  0           bn3a_branch2a[0][0]              \n",
      "__________________________________________________________________________________________________\n",
      "res3a_branch2b (Conv2D)         (None, 16, 16, 128)  147584      activation_11[0][0]              \n",
      "__________________________________________________________________________________________________\n",
      "bn3a_branch2b (BatchNormalizati (None, 16, 16, 128)  512         res3a_branch2b[0][0]             \n",
      "__________________________________________________________________________________________________\n",
      "activation_12 (Activation)      (None, 16, 16, 128)  0           bn3a_branch2b[0][0]              \n",
      "__________________________________________________________________________________________________\n",
      "res3a_branch2c (Conv2D)         (None, 16, 16, 512)  66048       activation_12[0][0]              \n",
      "__________________________________________________________________________________________________\n",
      "res3a_branch1 (Conv2D)          (None, 16, 16, 512)  131584      activation_10[0][0]              \n",
      "__________________________________________________________________________________________________\n",
      "bn3a_branch2c (BatchNormalizati (None, 16, 16, 512)  2048        res3a_branch2c[0][0]             \n",
      "__________________________________________________________________________________________________\n",
      "bn3a_branch1 (BatchNormalizatio (None, 16, 16, 512)  2048        res3a_branch1[0][0]              \n",
      "__________________________________________________________________________________________________\n",
      "add_4 (Add)                     (None, 16, 16, 512)  0           bn3a_branch2c[0][0]              \n",
      "                                                                 bn3a_branch1[0][0]               \n",
      "__________________________________________________________________________________________________\n",
      "activation_13 (Activation)      (None, 16, 16, 512)  0           add_4[0][0]                      \n",
      "__________________________________________________________________________________________________\n",
      "res3b_branch2a (Conv2D)         (None, 16, 16, 128)  65664       activation_13[0][0]              \n",
      "__________________________________________________________________________________________________\n",
      "bn3b_branch2a (BatchNormalizati (None, 16, 16, 128)  512         res3b_branch2a[0][0]             \n",
      "__________________________________________________________________________________________________\n",
      "activation_14 (Activation)      (None, 16, 16, 128)  0           bn3b_branch2a[0][0]              \n",
      "__________________________________________________________________________________________________\n",
      "res3b_branch2b (Conv2D)         (None, 16, 16, 128)  147584      activation_14[0][0]              \n",
      "__________________________________________________________________________________________________\n",
      "bn3b_branch2b (BatchNormalizati (None, 16, 16, 128)  512         res3b_branch2b[0][0]             \n",
      "__________________________________________________________________________________________________\n",
      "activation_15 (Activation)      (None, 16, 16, 128)  0           bn3b_branch2b[0][0]              \n",
      "__________________________________________________________________________________________________\n",
      "res3b_branch2c (Conv2D)         (None, 16, 16, 512)  66048       activation_15[0][0]              \n",
      "__________________________________________________________________________________________________\n",
      "bn3b_branch2c (BatchNormalizati (None, 16, 16, 512)  2048        res3b_branch2c[0][0]             \n",
      "__________________________________________________________________________________________________\n",
      "add_5 (Add)                     (None, 16, 16, 512)  0           bn3b_branch2c[0][0]              \n",
      "                                                                 activation_13[0][0]              \n",
      "__________________________________________________________________________________________________\n",
      "activation_16 (Activation)      (None, 16, 16, 512)  0           add_5[0][0]                      \n",
      "__________________________________________________________________________________________________\n",
      "res3c_branch2a (Conv2D)         (None, 16, 16, 128)  65664       activation_16[0][0]              \n",
      "__________________________________________________________________________________________________\n",
      "bn3c_branch2a (BatchNormalizati (None, 16, 16, 128)  512         res3c_branch2a[0][0]             \n",
      "__________________________________________________________________________________________________\n",
      "activation_17 (Activation)      (None, 16, 16, 128)  0           bn3c_branch2a[0][0]              \n",
      "__________________________________________________________________________________________________\n",
      "res3c_branch2b (Conv2D)         (None, 16, 16, 128)  147584      activation_17[0][0]              \n",
      "__________________________________________________________________________________________________\n",
      "bn3c_branch2b (BatchNormalizati (None, 16, 16, 128)  512         res3c_branch2b[0][0]             \n",
      "__________________________________________________________________________________________________\n",
      "activation_18 (Activation)      (None, 16, 16, 128)  0           bn3c_branch2b[0][0]              \n",
      "__________________________________________________________________________________________________\n",
      "res3c_branch2c (Conv2D)         (None, 16, 16, 512)  66048       activation_18[0][0]              \n",
      "__________________________________________________________________________________________________\n",
      "bn3c_branch2c (BatchNormalizati (None, 16, 16, 512)  2048        res3c_branch2c[0][0]             \n",
      "__________________________________________________________________________________________________\n",
      "add_6 (Add)                     (None, 16, 16, 512)  0           bn3c_branch2c[0][0]              \n",
      "                                                                 activation_16[0][0]              \n",
      "__________________________________________________________________________________________________\n",
      "activation_19 (Activation)      (None, 16, 16, 512)  0           add_6[0][0]                      \n",
      "__________________________________________________________________________________________________\n",
      "res3d_branch2a (Conv2D)         (None, 16, 16, 128)  65664       activation_19[0][0]              \n",
      "__________________________________________________________________________________________________\n",
      "bn3d_branch2a (BatchNormalizati (None, 16, 16, 128)  512         res3d_branch2a[0][0]             \n",
      "__________________________________________________________________________________________________\n",
      "activation_20 (Activation)      (None, 16, 16, 128)  0           bn3d_branch2a[0][0]              \n",
      "__________________________________________________________________________________________________\n",
      "res3d_branch2b (Conv2D)         (None, 16, 16, 128)  147584      activation_20[0][0]              \n",
      "__________________________________________________________________________________________________\n",
      "bn3d_branch2b (BatchNormalizati (None, 16, 16, 128)  512         res3d_branch2b[0][0]             \n",
      "__________________________________________________________________________________________________\n",
      "activation_21 (Activation)      (None, 16, 16, 128)  0           bn3d_branch2b[0][0]              \n",
      "__________________________________________________________________________________________________\n",
      "res3d_branch2c (Conv2D)         (None, 16, 16, 512)  66048       activation_21[0][0]              \n",
      "__________________________________________________________________________________________________\n",
      "bn3d_branch2c (BatchNormalizati (None, 16, 16, 512)  2048        res3d_branch2c[0][0]             \n",
      "__________________________________________________________________________________________________\n",
      "add_7 (Add)                     (None, 16, 16, 512)  0           bn3d_branch2c[0][0]              \n",
      "                                                                 activation_19[0][0]              \n",
      "__________________________________________________________________________________________________\n",
      "activation_22 (Activation)      (None, 16, 16, 512)  0           add_7[0][0]                      \n",
      "__________________________________________________________________________________________________\n",
      "res4a_branch2a (Conv2D)         (None, 8, 8, 256)    131328      activation_22[0][0]              \n",
      "__________________________________________________________________________________________________\n",
      "bn4a_branch2a (BatchNormalizati (None, 8, 8, 256)    1024        res4a_branch2a[0][0]             \n",
      "__________________________________________________________________________________________________\n",
      "activation_23 (Activation)      (None, 8, 8, 256)    0           bn4a_branch2a[0][0]              \n",
      "__________________________________________________________________________________________________\n",
      "res4a_branch2b (Conv2D)         (None, 8, 8, 256)    590080      activation_23[0][0]              \n",
      "__________________________________________________________________________________________________\n",
      "bn4a_branch2b (BatchNormalizati (None, 8, 8, 256)    1024        res4a_branch2b[0][0]             \n",
      "__________________________________________________________________________________________________\n",
      "activation_24 (Activation)      (None, 8, 8, 256)    0           bn4a_branch2b[0][0]              \n",
      "__________________________________________________________________________________________________\n",
      "res4a_branch2c (Conv2D)         (None, 8, 8, 1024)   263168      activation_24[0][0]              \n",
      "__________________________________________________________________________________________________\n",
      "res4a_branch1 (Conv2D)          (None, 8, 8, 1024)   525312      activation_22[0][0]              \n",
      "__________________________________________________________________________________________________\n",
      "bn4a_branch2c (BatchNormalizati (None, 8, 8, 1024)   4096        res4a_branch2c[0][0]             \n",
      "__________________________________________________________________________________________________\n",
      "bn4a_branch1 (BatchNormalizatio (None, 8, 8, 1024)   4096        res4a_branch1[0][0]              \n",
      "__________________________________________________________________________________________________\n",
      "add_8 (Add)                     (None, 8, 8, 1024)   0           bn4a_branch2c[0][0]              \n",
      "                                                                 bn4a_branch1[0][0]               \n",
      "__________________________________________________________________________________________________\n",
      "activation_25 (Activation)      (None, 8, 8, 1024)   0           add_8[0][0]                      \n",
      "__________________________________________________________________________________________________\n",
      "res4b_branch2a (Conv2D)         (None, 8, 8, 256)    262400      activation_25[0][0]              \n",
      "__________________________________________________________________________________________________\n",
      "bn4b_branch2a (BatchNormalizati (None, 8, 8, 256)    1024        res4b_branch2a[0][0]             \n",
      "__________________________________________________________________________________________________\n",
      "activation_26 (Activation)      (None, 8, 8, 256)    0           bn4b_branch2a[0][0]              \n",
      "__________________________________________________________________________________________________\n",
      "res4b_branch2b (Conv2D)         (None, 8, 8, 256)    590080      activation_26[0][0]              \n",
      "__________________________________________________________________________________________________\n",
      "bn4b_branch2b (BatchNormalizati (None, 8, 8, 256)    1024        res4b_branch2b[0][0]             \n",
      "__________________________________________________________________________________________________\n",
      "activation_27 (Activation)      (None, 8, 8, 256)    0           bn4b_branch2b[0][0]              \n",
      "__________________________________________________________________________________________________\n",
      "res4b_branch2c (Conv2D)         (None, 8, 8, 1024)   263168      activation_27[0][0]              \n",
      "__________________________________________________________________________________________________\n",
      "bn4b_branch2c (BatchNormalizati (None, 8, 8, 1024)   4096        res4b_branch2c[0][0]             \n",
      "__________________________________________________________________________________________________\n",
      "add_9 (Add)                     (None, 8, 8, 1024)   0           bn4b_branch2c[0][0]              \n",
      "                                                                 activation_25[0][0]              \n",
      "__________________________________________________________________________________________________\n",
      "activation_28 (Activation)      (None, 8, 8, 1024)   0           add_9[0][0]                      \n",
      "__________________________________________________________________________________________________\n",
      "res4c_branch2a (Conv2D)         (None, 8, 8, 256)    262400      activation_28[0][0]              \n",
      "__________________________________________________________________________________________________\n",
      "bn4c_branch2a (BatchNormalizati (None, 8, 8, 256)    1024        res4c_branch2a[0][0]             \n",
      "__________________________________________________________________________________________________\n",
      "activation_29 (Activation)      (None, 8, 8, 256)    0           bn4c_branch2a[0][0]              \n",
      "__________________________________________________________________________________________________\n",
      "res4c_branch2b (Conv2D)         (None, 8, 8, 256)    590080      activation_29[0][0]              \n",
      "__________________________________________________________________________________________________\n",
      "bn4c_branch2b (BatchNormalizati (None, 8, 8, 256)    1024        res4c_branch2b[0][0]             \n",
      "__________________________________________________________________________________________________\n",
      "activation_30 (Activation)      (None, 8, 8, 256)    0           bn4c_branch2b[0][0]              \n",
      "__________________________________________________________________________________________________\n",
      "res4c_branch2c (Conv2D)         (None, 8, 8, 1024)   263168      activation_30[0][0]              \n",
      "__________________________________________________________________________________________________\n",
      "bn4c_branch2c (BatchNormalizati (None, 8, 8, 1024)   4096        res4c_branch2c[0][0]             \n",
      "__________________________________________________________________________________________________\n",
      "add_10 (Add)                    (None, 8, 8, 1024)   0           bn4c_branch2c[0][0]              \n",
      "                                                                 activation_28[0][0]              \n",
      "__________________________________________________________________________________________________\n",
      "activation_31 (Activation)      (None, 8, 8, 1024)   0           add_10[0][0]                     \n",
      "__________________________________________________________________________________________________\n",
      "res4d_branch2a (Conv2D)         (None, 8, 8, 256)    262400      activation_31[0][0]              \n",
      "__________________________________________________________________________________________________\n",
      "bn4d_branch2a (BatchNormalizati (None, 8, 8, 256)    1024        res4d_branch2a[0][0]             \n",
      "__________________________________________________________________________________________________\n",
      "activation_32 (Activation)      (None, 8, 8, 256)    0           bn4d_branch2a[0][0]              \n",
      "__________________________________________________________________________________________________\n",
      "res4d_branch2b (Conv2D)         (None, 8, 8, 256)    590080      activation_32[0][0]              \n",
      "__________________________________________________________________________________________________\n",
      "bn4d_branch2b (BatchNormalizati (None, 8, 8, 256)    1024        res4d_branch2b[0][0]             \n",
      "__________________________________________________________________________________________________\n",
      "activation_33 (Activation)      (None, 8, 8, 256)    0           bn4d_branch2b[0][0]              \n",
      "__________________________________________________________________________________________________\n",
      "res4d_branch2c (Conv2D)         (None, 8, 8, 1024)   263168      activation_33[0][0]              \n",
      "__________________________________________________________________________________________________\n",
      "bn4d_branch2c (BatchNormalizati (None, 8, 8, 1024)   4096        res4d_branch2c[0][0]             \n",
      "__________________________________________________________________________________________________\n",
      "add_11 (Add)                    (None, 8, 8, 1024)   0           bn4d_branch2c[0][0]              \n",
      "                                                                 activation_31[0][0]              \n",
      "__________________________________________________________________________________________________\n",
      "activation_34 (Activation)      (None, 8, 8, 1024)   0           add_11[0][0]                     \n",
      "__________________________________________________________________________________________________\n",
      "res4e_branch2a (Conv2D)         (None, 8, 8, 256)    262400      activation_34[0][0]              \n",
      "__________________________________________________________________________________________________\n",
      "bn4e_branch2a (BatchNormalizati (None, 8, 8, 256)    1024        res4e_branch2a[0][0]             \n",
      "__________________________________________________________________________________________________\n",
      "activation_35 (Activation)      (None, 8, 8, 256)    0           bn4e_branch2a[0][0]              \n",
      "__________________________________________________________________________________________________\n",
      "res4e_branch2b (Conv2D)         (None, 8, 8, 256)    590080      activation_35[0][0]              \n",
      "__________________________________________________________________________________________________\n",
      "bn4e_branch2b (BatchNormalizati (None, 8, 8, 256)    1024        res4e_branch2b[0][0]             \n",
      "__________________________________________________________________________________________________\n",
      "activation_36 (Activation)      (None, 8, 8, 256)    0           bn4e_branch2b[0][0]              \n",
      "__________________________________________________________________________________________________\n",
      "res4e_branch2c (Conv2D)         (None, 8, 8, 1024)   263168      activation_36[0][0]              \n",
      "__________________________________________________________________________________________________\n",
      "bn4e_branch2c (BatchNormalizati (None, 8, 8, 1024)   4096        res4e_branch2c[0][0]             \n",
      "__________________________________________________________________________________________________\n",
      "add_12 (Add)                    (None, 8, 8, 1024)   0           bn4e_branch2c[0][0]              \n",
      "                                                                 activation_34[0][0]              \n",
      "__________________________________________________________________________________________________\n",
      "activation_37 (Activation)      (None, 8, 8, 1024)   0           add_12[0][0]                     \n",
      "__________________________________________________________________________________________________\n",
      "res4f_branch2a (Conv2D)         (None, 8, 8, 256)    262400      activation_37[0][0]              \n",
      "__________________________________________________________________________________________________\n",
      "bn4f_branch2a (BatchNormalizati (None, 8, 8, 256)    1024        res4f_branch2a[0][0]             \n",
      "__________________________________________________________________________________________________\n",
      "activation_38 (Activation)      (None, 8, 8, 256)    0           bn4f_branch2a[0][0]              \n",
      "__________________________________________________________________________________________________\n",
      "res4f_branch2b (Conv2D)         (None, 8, 8, 256)    590080      activation_38[0][0]              \n",
      "__________________________________________________________________________________________________\n",
      "bn4f_branch2b (BatchNormalizati (None, 8, 8, 256)    1024        res4f_branch2b[0][0]             \n",
      "__________________________________________________________________________________________________\n",
      "activation_39 (Activation)      (None, 8, 8, 256)    0           bn4f_branch2b[0][0]              \n",
      "__________________________________________________________________________________________________\n",
      "res4f_branch2c (Conv2D)         (None, 8, 8, 1024)   263168      activation_39[0][0]              \n",
      "__________________________________________________________________________________________________\n",
      "bn4f_branch2c (BatchNormalizati (None, 8, 8, 1024)   4096        res4f_branch2c[0][0]             \n",
      "__________________________________________________________________________________________________\n",
      "add_13 (Add)                    (None, 8, 8, 1024)   0           bn4f_branch2c[0][0]              \n",
      "                                                                 activation_37[0][0]              \n",
      "__________________________________________________________________________________________________\n",
      "activation_40 (Activation)      (None, 8, 8, 1024)   0           add_13[0][0]                     \n",
      "__________________________________________________________________________________________________\n",
      "res5a_branch2a (Conv2D)         (None, 4, 4, 512)    524800      activation_40[0][0]              \n",
      "__________________________________________________________________________________________________\n",
      "bn5a_branch2a (BatchNormalizati (None, 4, 4, 512)    2048        res5a_branch2a[0][0]             \n",
      "__________________________________________________________________________________________________\n",
      "activation_41 (Activation)      (None, 4, 4, 512)    0           bn5a_branch2a[0][0]              \n",
      "__________________________________________________________________________________________________\n",
      "res5a_branch2b (Conv2D)         (None, 4, 4, 512)    2359808     activation_41[0][0]              \n",
      "__________________________________________________________________________________________________\n",
      "bn5a_branch2b (BatchNormalizati (None, 4, 4, 512)    2048        res5a_branch2b[0][0]             \n",
      "__________________________________________________________________________________________________\n",
      "activation_42 (Activation)      (None, 4, 4, 512)    0           bn5a_branch2b[0][0]              \n",
      "__________________________________________________________________________________________________\n",
      "res5a_branch2c (Conv2D)         (None, 4, 4, 2048)   1050624     activation_42[0][0]              \n",
      "__________________________________________________________________________________________________\n",
      "res5a_branch1 (Conv2D)          (None, 4, 4, 2048)   2099200     activation_40[0][0]              \n",
      "__________________________________________________________________________________________________\n",
      "bn5a_branch2c (BatchNormalizati (None, 4, 4, 2048)   8192        res5a_branch2c[0][0]             \n",
      "__________________________________________________________________________________________________\n",
      "bn5a_branch1 (BatchNormalizatio (None, 4, 4, 2048)   8192        res5a_branch1[0][0]              \n",
      "__________________________________________________________________________________________________\n",
      "add_14 (Add)                    (None, 4, 4, 2048)   0           bn5a_branch2c[0][0]              \n",
      "                                                                 bn5a_branch1[0][0]               \n",
      "__________________________________________________________________________________________________\n",
      "activation_43 (Activation)      (None, 4, 4, 2048)   0           add_14[0][0]                     \n",
      "__________________________________________________________________________________________________\n",
      "res5b_branch2a (Conv2D)         (None, 4, 4, 512)    1049088     activation_43[0][0]              \n",
      "__________________________________________________________________________________________________\n",
      "bn5b_branch2a (BatchNormalizati (None, 4, 4, 512)    2048        res5b_branch2a[0][0]             \n",
      "__________________________________________________________________________________________________\n",
      "activation_44 (Activation)      (None, 4, 4, 512)    0           bn5b_branch2a[0][0]              \n",
      "__________________________________________________________________________________________________\n",
      "res5b_branch2b (Conv2D)         (None, 4, 4, 512)    2359808     activation_44[0][0]              \n",
      "__________________________________________________________________________________________________\n",
      "bn5b_branch2b (BatchNormalizati (None, 4, 4, 512)    2048        res5b_branch2b[0][0]             \n",
      "__________________________________________________________________________________________________\n",
      "activation_45 (Activation)      (None, 4, 4, 512)    0           bn5b_branch2b[0][0]              \n",
      "__________________________________________________________________________________________________\n",
      "res5b_branch2c (Conv2D)         (None, 4, 4, 2048)   1050624     activation_45[0][0]              \n",
      "__________________________________________________________________________________________________\n",
      "bn5b_branch2c (BatchNormalizati (None, 4, 4, 2048)   8192        res5b_branch2c[0][0]             \n",
      "__________________________________________________________________________________________________\n",
      "add_15 (Add)                    (None, 4, 4, 2048)   0           bn5b_branch2c[0][0]              \n",
      "                                                                 activation_43[0][0]              \n",
      "__________________________________________________________________________________________________\n",
      "activation_46 (Activation)      (None, 4, 4, 2048)   0           add_15[0][0]                     \n",
      "__________________________________________________________________________________________________\n",
      "res5c_branch2a (Conv2D)         (None, 4, 4, 512)    1049088     activation_46[0][0]              \n",
      "__________________________________________________________________________________________________\n",
      "bn5c_branch2a (BatchNormalizati (None, 4, 4, 512)    2048        res5c_branch2a[0][0]             \n",
      "__________________________________________________________________________________________________\n",
      "activation_47 (Activation)      (None, 4, 4, 512)    0           bn5c_branch2a[0][0]              \n",
      "__________________________________________________________________________________________________\n",
      "res5c_branch2b (Conv2D)         (None, 4, 4, 512)    2359808     activation_47[0][0]              \n",
      "__________________________________________________________________________________________________\n",
      "bn5c_branch2b (BatchNormalizati (None, 4, 4, 512)    2048        res5c_branch2b[0][0]             \n",
      "__________________________________________________________________________________________________\n",
      "activation_48 (Activation)      (None, 4, 4, 512)    0           bn5c_branch2b[0][0]              \n",
      "__________________________________________________________________________________________________\n",
      "res5c_branch2c (Conv2D)         (None, 4, 4, 2048)   1050624     activation_48[0][0]              \n",
      "__________________________________________________________________________________________________\n",
      "bn5c_branch2c (BatchNormalizati (None, 4, 4, 2048)   8192        res5c_branch2c[0][0]             \n",
      "__________________________________________________________________________________________________\n",
      "add_16 (Add)                    (None, 4, 4, 2048)   0           bn5c_branch2c[0][0]              \n",
      "                                                                 activation_46[0][0]              \n",
      "__________________________________________________________________________________________________\n",
      "activation_49 (Activation)      (None, 4, 4, 2048)   0           add_16[0][0]                     \n",
      "__________________________________________________________________________________________________\n",
      "up_sampling2d_1 (UpSampling2D)  (None, 8, 8, 2048)   0           activation_49[0][0]              \n",
      "__________________________________________________________________________________________________\n",
      "concatenate_1 (Concatenate)     (None, 8, 8, 3072)   0           up_sampling2d_1[0][0]            \n",
      "                                                                 activation_40[0][0]              \n",
      "__________________________________________________________________________________________________\n",
      "dropout_1 (Dropout)             (None, 8, 8, 3072)   0           concatenate_1[0][0]              \n",
      "__________________________________________________________________________________________________\n",
      "conv6_1_conv (Conv2D)           (None, 8, 8, 256)    7078144     dropout_1[0][0]                  \n",
      "__________________________________________________________________________________________________\n",
      "conv6_1_bn (BatchNormalization) (None, 8, 8, 256)    1024        conv6_1_conv[0][0]               \n",
      "__________________________________________________________________________________________________\n",
      "conv6_1_activation (Activation) (None, 8, 8, 256)    0           conv6_1_bn[0][0]                 \n",
      "__________________________________________________________________________________________________\n",
      "conv6_2_conv (Conv2D)           (None, 8, 8, 256)    590080      conv6_1_activation[0][0]         \n",
      "__________________________________________________________________________________________________\n",
      "conv6_2_bn (BatchNormalization) (None, 8, 8, 256)    1024        conv6_2_conv[0][0]               \n",
      "__________________________________________________________________________________________________\n",
      "conv6_2_activation (Activation) (None, 8, 8, 256)    0           conv6_2_bn[0][0]                 \n",
      "__________________________________________________________________________________________________\n",
      "up_sampling2d_2 (UpSampling2D)  (None, 16, 16, 256)  0           conv6_2_activation[0][0]         \n",
      "__________________________________________________________________________________________________\n",
      "concatenate_2 (Concatenate)     (None, 16, 16, 768)  0           up_sampling2d_2[0][0]            \n",
      "                                                                 activation_22[0][0]              \n",
      "__________________________________________________________________________________________________\n",
      "dropout_2 (Dropout)             (None, 16, 16, 768)  0           concatenate_2[0][0]              \n",
      "__________________________________________________________________________________________________\n",
      "conv7_1_conv (Conv2D)           (None, 16, 16, 192)  1327296     dropout_2[0][0]                  \n",
      "__________________________________________________________________________________________________\n",
      "conv7_1_bn (BatchNormalization) (None, 16, 16, 192)  768         conv7_1_conv[0][0]               \n",
      "__________________________________________________________________________________________________\n",
      "conv7_1_activation (Activation) (None, 16, 16, 192)  0           conv7_1_bn[0][0]                 \n",
      "__________________________________________________________________________________________________\n",
      "conv7_2_conv (Conv2D)           (None, 16, 16, 192)  331968      conv7_1_activation[0][0]         \n",
      "__________________________________________________________________________________________________\n",
      "conv7_2_bn (BatchNormalization) (None, 16, 16, 192)  768         conv7_2_conv[0][0]               \n",
      "__________________________________________________________________________________________________\n",
      "conv7_2_activation (Activation) (None, 16, 16, 192)  0           conv7_2_bn[0][0]                 \n",
      "__________________________________________________________________________________________________\n",
      "up_sampling2d_3 (UpSampling2D)  (None, 32, 32, 192)  0           conv7_2_activation[0][0]         \n",
      "__________________________________________________________________________________________________\n",
      "concatenate_3 (Concatenate)     (None, 32, 32, 448)  0           up_sampling2d_3[0][0]            \n",
      "                                                                 activation_10[0][0]              \n",
      "__________________________________________________________________________________________________\n",
      "dropout_3 (Dropout)             (None, 32, 32, 448)  0           concatenate_3[0][0]              \n",
      "__________________________________________________________________________________________________\n",
      "conv8_1_conv (Conv2D)           (None, 32, 32, 128)  516224      dropout_3[0][0]                  \n",
      "__________________________________________________________________________________________________\n",
      "conv8_1_bn (BatchNormalization) (None, 32, 32, 128)  512         conv8_1_conv[0][0]               \n",
      "__________________________________________________________________________________________________\n",
      "conv8_1_activation (Activation) (None, 32, 32, 128)  0           conv8_1_bn[0][0]                 \n",
      "__________________________________________________________________________________________________\n",
      "conv8_2_conv (Conv2D)           (None, 32, 32, 128)  147584      conv8_1_activation[0][0]         \n",
      "__________________________________________________________________________________________________\n",
      "conv8_2_bn (BatchNormalization) (None, 32, 32, 128)  512         conv8_2_conv[0][0]               \n",
      "__________________________________________________________________________________________________\n",
      "conv8_2_activation (Activation) (None, 32, 32, 128)  0           conv8_2_bn[0][0]                 \n",
      "__________________________________________________________________________________________________\n",
      "up_sampling2d_4 (UpSampling2D)  (None, 64, 64, 128)  0           conv8_2_activation[0][0]         \n",
      "__________________________________________________________________________________________________\n",
      "concatenate_4 (Concatenate)     (None, 64, 64, 192)  0           up_sampling2d_4[0][0]            \n",
      "                                                                 activation_1[0][0]               \n",
      "__________________________________________________________________________________________________\n",
      "dropout_4 (Dropout)             (None, 64, 64, 192)  0           concatenate_4[0][0]              \n",
      "__________________________________________________________________________________________________\n",
      "conv9_1_conv (Conv2D)           (None, 64, 64, 64)   110656      dropout_4[0][0]                  \n",
      "__________________________________________________________________________________________________\n",
      "conv9_1_bn (BatchNormalization) (None, 64, 64, 64)   256         conv9_1_conv[0][0]               \n",
      "__________________________________________________________________________________________________\n",
      "conv9_1_activation (Activation) (None, 64, 64, 64)   0           conv9_1_bn[0][0]                 \n",
      "__________________________________________________________________________________________________\n",
      "conv9_2_conv (Conv2D)           (None, 64, 64, 64)   36928       conv9_1_activation[0][0]         \n",
      "__________________________________________________________________________________________________\n",
      "conv9_2_bn (BatchNormalization) (None, 64, 64, 64)   256         conv9_2_conv[0][0]               \n",
      "__________________________________________________________________________________________________\n",
      "conv9_2_activation (Activation) (None, 64, 64, 64)   0           conv9_2_bn[0][0]                 \n",
      "__________________________________________________________________________________________________\n",
      "up_sampling2d_5 (UpSampling2D)  (None, 128, 128, 64) 0           conv9_2_activation[0][0]         \n",
      "__________________________________________________________________________________________________\n",
      "conv10_1_conv (Conv2D)          (None, 128, 128, 32) 18464       up_sampling2d_5[0][0]            \n",
      "__________________________________________________________________________________________________\n",
      "conv10_1_bn (BatchNormalization (None, 128, 128, 32) 128         conv10_1_conv[0][0]              \n",
      "__________________________________________________________________________________________________\n",
      "conv10_1_activation (Activation (None, 128, 128, 32) 0           conv10_1_bn[0][0]                \n",
      "__________________________________________________________________________________________________\n",
      "conv10_2_conv (Conv2D)          (None, 128, 128, 32) 9248        conv10_1_activation[0][0]        \n",
      "__________________________________________________________________________________________________\n",
      "conv10_2_bn (BatchNormalization (None, 128, 128, 32) 128         conv10_2_conv[0][0]              \n",
      "__________________________________________________________________________________________________\n",
      "conv10_2_activation (Activation (None, 128, 128, 32) 0           conv10_2_bn[0][0]                \n",
      "__________________________________________________________________________________________________\n",
      "spatial_dropout2d_1 (SpatialDro (None, 128, 128, 32) 0           conv10_2_activation[0][0]        \n",
      "__________________________________________________________________________________________________\n",
      "prediction (Conv2D)             (None, 128, 128, 1)  33          spatial_dropout2d_1[0][0]        \n",
      "__________________________________________________________________________________________________\n",
      "activation_50 (Activation)      (None, 128, 128, 1)  0           prediction[0][0]                 \n",
      "==================================================================================================\n",
      "Total params: 33,759,713\n",
      "Trainable params: 10,222,433\n",
      "Non-trainable params: 23,537,280\n",
      "__________________________________________________________________________________________________\n"
     ]
    }
   ],
   "source": [
    "img_shape = (img_size_target,img_size_target,3)\n",
    "model1 = get_unet_resnet(input_shape=img_shape)\n",
    "model1.summary()"
   ]
  },
  {
   "cell_type": "code",
   "execution_count": null,
   "metadata": {},
   "outputs": [],
   "source": [
    "opt = optimizers.Adam(lr=0.01)\n",
    "model1.compile(loss=\"binary_crossentropy\", optimizer=opt, metrics=[my_iou_metric])\n",
    "\n",
    "early_stopping = EarlyStopping(monitor='val_my_iou_metric', mode='max', patience=15, verbose=1)\n",
    "model_checkpoint = ModelCheckpoint(save_model_nameA, monitor='val_my_iou_metric', mode='max', save_best_only=True, verbose=1)\n",
    "reduce_lr = ReduceLROnPlateau(monitor='val_my_iou_metric', mode='max', factor=0.5, patience=6, min_lr=0.00001, verbose=1)\n",
    "\n",
    "epochs = 30\n",
    "batch_size = 32\n",
    "\n",
    "# model1.compile(loss=bce_dice_loss, optimizer=opt, metrics=[my_iou_metric])\n",
    "# model1.compile(loss=[focal_loss(alpha=.5, gamma=2)], optimizer=opt, metrics=[my_iou_metric])"
   ]
  },
  {
   "cell_type": "markdown",
   "metadata": {
    "_uuid": "f87f8bef5fc8d7c4ca0034f7694295d2363ddca4"
   },
   "source": [
    "# Train model:"
   ]
  },
  {
   "cell_type": "code",
   "execution_count": null,
   "metadata": {
    "scrolled": false
   },
   "outputs": [
    {
     "name": "stdout",
     "output_type": "stream",
     "text": [
      "Train on 6202 samples, validate on 800 samples\n",
      "Epoch 1/30\n",
      "6202/6202 [==============================] - 148s 24ms/step - loss: 0.2518 - my_iou_metric: 0.5657 - val_loss: 0.1902 - val_my_iou_metric: 0.6665\n",
      "\n",
      "Epoch 00001: val_my_iou_metric improved from -inf to 0.66650, saving model to unet_V4_3A.model\n",
      "Epoch 2/30\n",
      "6202/6202 [==============================] - 127s 21ms/step - loss: 0.1748 - my_iou_metric: 0.6618 - val_loss: 0.2267 - val_my_iou_metric: 0.7038\n",
      "\n",
      "Epoch 00002: val_my_iou_metric improved from 0.66650 to 0.70375, saving model to unet_V4_3A.model\n",
      "Epoch 3/30\n",
      "6202/6202 [==============================] - 128s 21ms/step - loss: 0.1503 - my_iou_metric: 0.6992 - val_loss: 0.2481 - val_my_iou_metric: 0.7003\n",
      "\n",
      "Epoch 00003: val_my_iou_metric did not improve from 0.70375\n",
      "Epoch 4/30\n",
      "6202/6202 [==============================] - 128s 21ms/step - loss: 0.1281 - my_iou_metric: 0.7451 - val_loss: 0.1548 - val_my_iou_metric: 0.7074\n",
      "\n",
      "Epoch 00004: val_my_iou_metric improved from 0.70375 to 0.70737, saving model to unet_V4_3A.model\n",
      "Epoch 5/30\n",
      "6202/6202 [==============================] - 127s 21ms/step - loss: 0.1165 - my_iou_metric: 0.7554 - val_loss: 0.1486 - val_my_iou_metric: 0.7496\n",
      "\n",
      "Epoch 00005: val_my_iou_metric improved from 0.70737 to 0.74962, saving model to unet_V4_3A.model\n",
      "Epoch 6/30\n",
      "6202/6202 [==============================] - 127s 21ms/step - loss: 0.1063 - my_iou_metric: 0.7676 - val_loss: 0.2177 - val_my_iou_metric: 0.7264\n",
      "\n",
      "Epoch 00006: val_my_iou_metric did not improve from 0.74962\n",
      "Epoch 7/30\n",
      "6202/6202 [==============================] - 127s 21ms/step - loss: 0.1007 - my_iou_metric: 0.7789 - val_loss: 0.1419 - val_my_iou_metric: 0.7394\n",
      "\n",
      "Epoch 00007: val_my_iou_metric did not improve from 0.74962\n",
      "Epoch 8/30\n",
      "6202/6202 [==============================] - 127s 21ms/step - loss: 0.0972 - my_iou_metric: 0.7844 - val_loss: 0.1798 - val_my_iou_metric: 0.7110\n",
      "\n",
      "Epoch 00008: val_my_iou_metric did not improve from 0.74962\n",
      "Epoch 9/30\n",
      "6202/6202 [==============================] - 127s 21ms/step - loss: 0.0797 - my_iou_metric: 0.7996 - val_loss: 0.1513 - val_my_iou_metric: 0.7619\n",
      "\n",
      "Epoch 00009: val_my_iou_metric improved from 0.74962 to 0.76188, saving model to unet_V4_3A.model\n",
      "Epoch 10/30\n",
      "6202/6202 [==============================] - 127s 21ms/step - loss: 0.0912 - my_iou_metric: 0.7895 - val_loss: 0.1509 - val_my_iou_metric: 0.7489\n",
      "\n",
      "Epoch 00010: val_my_iou_metric did not improve from 0.76188\n",
      "Epoch 11/30\n",
      "6202/6202 [==============================] - 128s 21ms/step - loss: 0.0724 - my_iou_metric: 0.8076 - val_loss: 0.2563 - val_my_iou_metric: 0.7405\n",
      "\n",
      "Epoch 00011: val_my_iou_metric did not improve from 0.76188\n",
      "Epoch 12/30\n",
      "6202/6202 [==============================] - 127s 21ms/step - loss: 0.0689 - my_iou_metric: 0.8178 - val_loss: 0.1705 - val_my_iou_metric: 0.7561\n",
      "\n",
      "Epoch 00012: val_my_iou_metric did not improve from 0.76188\n",
      "Epoch 13/30\n",
      "6202/6202 [==============================] - 128s 21ms/step - loss: 0.0676 - my_iou_metric: 0.8197 - val_loss: 0.1900 - val_my_iou_metric: 0.7073\n",
      "\n",
      "Epoch 00013: val_my_iou_metric did not improve from 0.76188\n",
      "Epoch 14/30\n",
      "6202/6202 [==============================] - 127s 21ms/step - loss: 0.0685 - my_iou_metric: 0.8171 - val_loss: 0.2200 - val_my_iou_metric: 0.7620\n",
      "\n",
      "Epoch 00014: val_my_iou_metric improved from 0.76188 to 0.76200, saving model to unet_V4_3A.model\n",
      "Epoch 15/30\n",
      "6202/6202 [==============================] - 128s 21ms/step - loss: 0.0646 - my_iou_metric: 0.8231 - val_loss: 0.2017 - val_my_iou_metric: 0.7503\n",
      "\n",
      "Epoch 00015: val_my_iou_metric did not improve from 0.76200\n",
      "Epoch 16/30\n",
      "6202/6202 [==============================] - 127s 21ms/step - loss: 0.0582 - my_iou_metric: 0.8297 - val_loss: 0.1595 - val_my_iou_metric: 0.7621\n",
      "\n",
      "Epoch 00016: val_my_iou_metric improved from 0.76200 to 0.76212, saving model to unet_V4_3A.model\n",
      "Epoch 17/30\n",
      "6202/6202 [==============================] - 127s 21ms/step - loss: 0.0634 - my_iou_metric: 0.8293 - val_loss: 0.2129 - val_my_iou_metric: 0.7624\n",
      "\n",
      "Epoch 00017: val_my_iou_metric improved from 0.76212 to 0.76237, saving model to unet_V4_3A.model\n",
      "Epoch 18/30\n",
      "6202/6202 [==============================] - 128s 21ms/step - loss: 0.0616 - my_iou_metric: 0.8280 - val_loss: 0.1701 - val_my_iou_metric: 0.7749\n",
      "\n",
      "Epoch 00018: val_my_iou_metric improved from 0.76237 to 0.77488, saving model to unet_V4_3A.model\n",
      "Epoch 19/30\n",
      "6202/6202 [==============================] - 127s 21ms/step - loss: 0.0590 - my_iou_metric: 0.8336 - val_loss: 0.2515 - val_my_iou_metric: 0.7565\n",
      "\n",
      "Epoch 00019: val_my_iou_metric did not improve from 0.77488\n",
      "Epoch 20/30\n",
      "6202/6202 [==============================] - 127s 21ms/step - loss: 0.0613 - my_iou_metric: 0.8301 - val_loss: 0.1853 - val_my_iou_metric: 0.7724\n",
      "\n",
      "Epoch 00020: val_my_iou_metric did not improve from 0.77488\n",
      "Epoch 21/30\n",
      "6202/6202 [==============================] - 128s 21ms/step - loss: 0.0501 - my_iou_metric: 0.8462 - val_loss: 0.2041 - val_my_iou_metric: 0.7789\n",
      "\n",
      "Epoch 00021: val_my_iou_metric improved from 0.77488 to 0.77887, saving model to unet_V4_3A.model\n",
      "Epoch 22/30\n",
      "6202/6202 [==============================] - 127s 21ms/step - loss: 0.0440 - my_iou_metric: 0.8504 - val_loss: 0.1758 - val_my_iou_metric: 0.7637\n",
      "\n",
      "Epoch 00022: val_my_iou_metric did not improve from 0.77887\n",
      "Epoch 23/30\n",
      "6202/6202 [==============================] - 127s 21ms/step - loss: 0.0529 - my_iou_metric: 0.8421 - val_loss: 0.2109 - val_my_iou_metric: 0.7754\n",
      "\n",
      "Epoch 00023: val_my_iou_metric did not improve from 0.77887\n",
      "Epoch 24/30\n",
      "6202/6202 [==============================] - 127s 21ms/step - loss: 0.0454 - my_iou_metric: 0.8533 - val_loss: 0.1991 - val_my_iou_metric: 0.7815\n",
      "\n",
      "Epoch 00024: val_my_iou_metric improved from 0.77887 to 0.78150, saving model to unet_V4_3A.model\n",
      "Epoch 25/30\n",
      "6202/6202 [==============================] - 128s 21ms/step - loss: 0.0409 - my_iou_metric: 0.8579 - val_loss: 0.2085 - val_my_iou_metric: 0.7510\n",
      "\n",
      "Epoch 00025: val_my_iou_metric did not improve from 0.78150\n",
      "Epoch 26/30\n",
      "6202/6202 [==============================] - 127s 21ms/step - loss: 0.0408 - my_iou_metric: 0.8607 - val_loss: 0.2091 - val_my_iou_metric: 0.7819\n",
      "\n",
      "Epoch 00026: val_my_iou_metric improved from 0.78150 to 0.78187, saving model to unet_V4_3A.model\n",
      "Epoch 27/30\n",
      "6202/6202 [==============================] - 127s 21ms/step - loss: 0.0410 - my_iou_metric: 0.8582 - val_loss: 0.2470 - val_my_iou_metric: 0.7566\n",
      "\n",
      "Epoch 00027: val_my_iou_metric did not improve from 0.78187\n",
      "Epoch 28/30\n",
      "6202/6202 [==============================] - 128s 21ms/step - loss: 0.0541 - my_iou_metric: 0.8412 - val_loss: 0.1538 - val_my_iou_metric: 0.7587\n",
      "\n",
      "Epoch 00028: val_my_iou_metric did not improve from 0.78187\n",
      "Epoch 29/30\n",
      "6202/6202 [==============================] - 127s 21ms/step - loss: 0.0475 - my_iou_metric: 0.8461 - val_loss: 0.2019 - val_my_iou_metric: 0.7710\n",
      "\n",
      "Epoch 00029: val_my_iou_metric did not improve from 0.78187\n",
      "Epoch 30/30\n",
      "6202/6202 [==============================] - 128s 21ms/step - loss: 0.0448 - my_iou_metric: 0.8582 - val_loss: 0.2247 - val_my_iou_metric: 0.7738\n",
      "\n",
      "Epoch 00030: val_my_iou_metric did not improve from 0.78187\n",
      "CPU times: user 42min 57s, sys: 11min 29s, total: 54min 27s\n",
      "Wall time: 1h 4min 47s\n"
     ]
    }
   ],
   "source": [
    "%%time\n",
    "history = model1.fit(X_train, y_train,\n",
    "                     validation_data=[X_valid, y_valid], \n",
    "                     epochs=epochs, \n",
    "                     batch_size=batch_size, \n",
    "                     callbacks=[early_stopping, model_checkpoint, reduce_lr],\n",
    "                     verbose=1)"
   ]
  },
  {
   "cell_type": "code",
   "execution_count": null,
   "metadata": {},
   "outputs": [
    {
     "data": {
      "text/plain": [
       "<matplotlib.legend.Legend at 0x7f33a11e8a58>"
      ]
     },
     "execution_count": 42,
     "metadata": {},
     "output_type": "execute_result"
    },
    {
     "data": {
      "image/png": "[encoded data removed]",
      "text/plain": [
       "<Figure size 1080x360 with 2 Axes>"
      ]
     },
     "metadata": {},
     "output_type": "display_data"
    }
   ],
   "source": [
    "fig, (ax_loss, ax_score) = plt.subplots(1, 2, figsize=(15,5))\n",
    "\n",
    "ax_loss.plot(history.epoch, history.history[\"loss\"], label=\"Train loss\")\n",
    "ax_loss.plot(history.epoch, history.history[\"val_loss\"], label=\"Validation loss\")\n",
    "ax_loss.legend()\n",
    "\n",
    "ax_score.plot(history.epoch, history.history[\"my_iou_metric\"], label=\"Train score\")\n",
    "ax_score.plot(history.epoch, history.history[\"val_my_iou_metric\"], label=\"Validation score\")\n",
    "ax_score.legend()"
   ]
  },
  {
   "cell_type": "markdown",
   "metadata": {},
   "source": [
    "# Finetune with lovasz_loss"
   ]
  },
  {
   "cell_type": "code",
   "execution_count": null,
   "metadata": {
    "_uuid": "52ba1ba40cac42145f499cff252eb73feff397d3"
   },
   "outputs": [],
   "source": [
    "model1 = load_model(save_model_nameA, custom_objects={'my_iou_metric':my_iou_metric})\n",
    "\n",
    "input_x = model1.layers[0].input\n",
    "output_layer = model1.layers[-1].input\n",
    "\n",
    "model = Model(input_x, output_layer)\n",
    "opt = optimizers.adam(lr=0.005)\n",
    "\n",
    "model.compile(loss=lovasz_loss, optimizer=opt, metrics=[my_iou_metric_2])\n",
    "\n",
    "early_stopping = EarlyStopping(monitor='val_my_iou_metric_2', mode='max', patience=15, verbose=1)\n",
    "model_checkpoint = ModelCheckpoint(save_model_nameB, monitor='val_my_iou_metric_2', mode='max', save_best_only=True, verbose=1)\n",
    "reduce_lr = ReduceLROnPlateau(monitor='val_my_iou_metric_2', mode='max', factor=0.5, patience=6, min_lr=0.00001, verbose=1)\n",
    "\n",
    "epochs = 100\n",
    "batch_size = 16"
   ]
  },
  {
   "cell_type": "code",
   "execution_count": null,
   "metadata": {
    "_uuid": "ec1e49fd425a02ab12dea6b99cf39de45c80199f",
    "scrolled": false
   },
   "outputs": [
    {
     "name": "stdout",
     "output_type": "stream",
     "text": [
      "Train on 6202 samples, validate on 800 samples\n",
      "Epoch 1/100\n",
      "6202/6202 [==============================] - 355s 57ms/step - loss: -0.4322 - my_iou_metric_2: 0.8529 - val_loss: 0.0413 - val_my_iou_metric_2: 0.7856\n",
      "\n",
      "Epoch 00001: val_my_iou_metric_2 improved from -inf to 0.78562, saving model to unet_V4_3B.model\n",
      "Epoch 2/100\n",
      "6202/6202 [==============================] - 334s 54ms/step - loss: -0.4780 - my_iou_metric_2: 0.8614 - val_loss: -0.0025 - val_my_iou_metric_2: 0.7782\n",
      "\n",
      "Epoch 00002: val_my_iou_metric_2 did not improve from 0.78562\n",
      "Epoch 3/100\n",
      "6202/6202 [==============================] - 334s 54ms/step - loss: -0.5122 - my_iou_metric_2: 0.8659 - val_loss: 0.0664 - val_my_iou_metric_2: 0.7790\n",
      "\n",
      "Epoch 00003: val_my_iou_metric_2 did not improve from 0.78562\n",
      "Epoch 4/100\n",
      "6202/6202 [==============================] - 334s 54ms/step - loss: -0.5234 - my_iou_metric_2: 0.8665 - val_loss: 0.0928 - val_my_iou_metric_2: 0.7710\n",
      "\n",
      "Epoch 00004: val_my_iou_metric_2 did not improve from 0.78562\n",
      "Epoch 5/100\n",
      "6202/6202 [==============================] - 334s 54ms/step - loss: -0.5126 - my_iou_metric_2: 0.8646 - val_loss: 0.0587 - val_my_iou_metric_2: 0.7746\n",
      "\n",
      "Epoch 00005: val_my_iou_metric_2 did not improve from 0.78562\n",
      "Epoch 6/100\n",
      "6202/6202 [==============================] - 334s 54ms/step - loss: -0.5324 - my_iou_metric_2: 0.8662 - val_loss: 0.1024 - val_my_iou_metric_2: 0.7741\n",
      "\n",
      "Epoch 00006: val_my_iou_metric_2 did not improve from 0.78562\n",
      "Epoch 7/100\n",
      "6202/6202 [==============================] - 334s 54ms/step - loss: -0.5555 - my_iou_metric_2: 0.8709 - val_loss: -0.0035 - val_my_iou_metric_2: 0.7792\n",
      "\n",
      "Epoch 00007: val_my_iou_metric_2 did not improve from 0.78562\n",
      "\n",
      "Epoch 00007: ReduceLROnPlateau reducing learning rate to 0.0024999999441206455.\n",
      "Epoch 8/100\n",
      "6202/6202 [==============================] - 333s 54ms/step - loss: -0.6085 - my_iou_metric_2: 0.8820 - val_loss: 0.0615 - val_my_iou_metric_2: 0.7834\n",
      "\n",
      "Epoch 00008: val_my_iou_metric_2 did not improve from 0.78562\n",
      "Epoch 9/100\n",
      "6202/6202 [==============================] - 333s 54ms/step - loss: -0.6337 - my_iou_metric_2: 0.8872 - val_loss: 0.0956 - val_my_iou_metric_2: 0.7799\n",
      "\n",
      "Epoch 00009: val_my_iou_metric_2 did not improve from 0.78562\n",
      "Epoch 10/100\n",
      "6202/6202 [==============================] - 335s 54ms/step - loss: -0.6334 - my_iou_metric_2: 0.8869 - val_loss: 0.0960 - val_my_iou_metric_2: 0.7807\n",
      "\n",
      "Epoch 00010: val_my_iou_metric_2 did not improve from 0.78562\n",
      "Epoch 11/100\n",
      "6202/6202 [==============================] - 335s 54ms/step - loss: -0.6382 - my_iou_metric_2: 0.8868 - val_loss: 0.1284 - val_my_iou_metric_2: 0.7904\n",
      "\n",
      "Epoch 00011: val_my_iou_metric_2 improved from 0.78562 to 0.79037, saving model to unet_V4_3B.model\n",
      "Epoch 12/100\n",
      "6202/6202 [==============================] - 335s 54ms/step - loss: -0.6484 - my_iou_metric_2: 0.8903 - val_loss: 0.0731 - val_my_iou_metric_2: 0.7846\n",
      "\n",
      "Epoch 00012: val_my_iou_metric_2 did not improve from 0.79037\n",
      "Epoch 13/100\n",
      "6202/6202 [==============================] - 335s 54ms/step - loss: -0.6602 - my_iou_metric_2: 0.8916 - val_loss: 0.1155 - val_my_iou_metric_2: 0.7835\n",
      "\n",
      "Epoch 00013: val_my_iou_metric_2 did not improve from 0.79037\n",
      "Epoch 14/100\n",
      "6202/6202 [==============================] - 335s 54ms/step - loss: -0.6626 - my_iou_metric_2: 0.8932 - val_loss: 0.1043 - val_my_iou_metric_2: 0.7871\n",
      "\n",
      "Epoch 00014: val_my_iou_metric_2 did not improve from 0.79037\n",
      "Epoch 15/100\n",
      "6202/6202 [==============================] - 334s 54ms/step - loss: -0.6555 - my_iou_metric_2: 0.8910 - val_loss: 0.1233 - val_my_iou_metric_2: 0.7919\n",
      "\n",
      "Epoch 00015: val_my_iou_metric_2 improved from 0.79037 to 0.79187, saving model to unet_V4_3B.model\n",
      "Epoch 16/100\n",
      "6202/6202 [==============================] - 334s 54ms/step - loss: -0.6655 - my_iou_metric_2: 0.8921 - val_loss: 0.0629 - val_my_iou_metric_2: 0.7751\n",
      "\n",
      "Epoch 00016: val_my_iou_metric_2 did not improve from 0.79187\n",
      "Epoch 17/100\n",
      "6202/6202 [==============================] - 334s 54ms/step - loss: -0.6757 - my_iou_metric_2: 0.8958 - val_loss: 0.2131 - val_my_iou_metric_2: 0.7837\n",
      "\n",
      "Epoch 00017: val_my_iou_metric_2 did not improve from 0.79187\n",
      "Epoch 18/100\n",
      "6202/6202 [==============================] - 334s 54ms/step - loss: -0.6734 - my_iou_metric_2: 0.8938 - val_loss: 0.0761 - val_my_iou_metric_2: 0.7880\n",
      "\n",
      "Epoch 00018: val_my_iou_metric_2 did not improve from 0.79187\n",
      "Epoch 19/100\n",
      "6202/6202 [==============================] - 334s 54ms/step - loss: -0.6902 - my_iou_metric_2: 0.8985 - val_loss: 0.1920 - val_my_iou_metric_2: 0.7892\n",
      "\n",
      "Epoch 00019: val_my_iou_metric_2 did not improve from 0.79187\n",
      "Epoch 20/100\n",
      "6202/6202 [==============================] - 334s 54ms/step - loss: -0.6822 - my_iou_metric_2: 0.8951 - val_loss: 0.2145 - val_my_iou_metric_2: 0.7860\n",
      "\n",
      "Epoch 00020: val_my_iou_metric_2 did not improve from 0.79187\n",
      "Epoch 21/100\n",
      "6202/6202 [==============================] - 334s 54ms/step - loss: -0.6933 - my_iou_metric_2: 0.8975 - val_loss: 0.1095 - val_my_iou_metric_2: 0.7868\n",
      "\n",
      "Epoch 00021: val_my_iou_metric_2 did not improve from 0.79187\n",
      "\n",
      "Epoch 00021: ReduceLROnPlateau reducing learning rate to 0.0012499999720603228.\n",
      "Epoch 22/100\n",
      "6202/6202 [==============================] - 334s 54ms/step - loss: -0.7062 - my_iou_metric_2: 0.9007 - val_loss: 0.2134 - val_my_iou_metric_2: 0.7857\n",
      "\n",
      "Epoch 00022: val_my_iou_metric_2 did not improve from 0.79187\n",
      "Epoch 23/100\n",
      "3264/6202 [==============>...............] - ETA: 2:26 - loss: -0.7192 - my_iou_metric_2: 0.9051"
     ]
    }
   ],
   "source": [
    "%%time\n",
    "history = model.fit(X_train, y_train,\n",
    "                    validation_data=[X_valid, y_valid], \n",
    "                    epochs=epochs,\n",
    "                    batch_size=batch_size,\n",
    "                    callbacks=[ model_checkpoint, reduce_lr, early_stopping], \n",
    "                    verbose=1)"
   ]
  },
  {
   "cell_type": "code",
   "execution_count": 39,
   "metadata": {},
   "outputs": [],
   "source": [
    "model = load_model(save_model_nameB,custom_objects={'my_iou_metric_2': my_iou_metric_2,\n",
    "                                                   'lovasz_loss': lovasz_loss})\n",
    "\n",
    "opt = optimizers.adam(lr=0.001)\n",
    "model.compile(loss=lovasz_loss, optimizer=opt, metrics=[my_iou_metric_2])\n",
    "\n",
    "early_stopping = EarlyStopping(monitor='val_my_iou_metric_2', mode='max', patience=15, verbose=1)\n",
    "model_checkpoint = ModelCheckpoint(save_model_nameC, monitor='val_my_iou_metric_2', mode='max', save_best_only=True, verbose=1)\n",
    "reduce_lr = ReduceLROnPlateau(monitor='val_my_iou_metric_2', mode='max', factor=0.5, patience=6, min_lr=0.00001, verbose=1)\n",
    "\n",
    "epochs = 100\n",
    "batch_size = 16"
   ]
  },
  {
   "cell_type": "code",
   "execution_count": 40,
   "metadata": {
    "scrolled": false
   },
   "outputs": [
    {
     "name": "stdout",
     "output_type": "stream",
     "text": [
      "Train on 6202 samples, validate on 800 samples\n",
      "Epoch 1/100\n",
      "6202/6202 [==============================] - 353s 57ms/step - loss: -0.6854 - my_iou_metric_2: 0.8964 - val_loss: 0.0726 - val_my_iou_metric_2: 0.7970\n",
      "\n",
      "Epoch 00001: val_my_iou_metric_2 improved from -inf to 0.79700, saving model to unet_V4_3C.model\n",
      "Epoch 2/100\n",
      "6202/6202 [==============================] - 335s 54ms/step - loss: -0.6934 - my_iou_metric_2: 0.8987 - val_loss: 0.1091 - val_my_iou_metric_2: 0.7912\n",
      "\n",
      "Epoch 00002: val_my_iou_metric_2 did not improve from 0.79700\n",
      "Epoch 3/100\n",
      "6202/6202 [==============================] - 335s 54ms/step - loss: -0.7008 - my_iou_metric_2: 0.9008 - val_loss: 0.1141 - val_my_iou_metric_2: 0.7921\n",
      "\n",
      "Epoch 00003: val_my_iou_metric_2 did not improve from 0.79700\n",
      "Epoch 4/100\n",
      "6202/6202 [==============================] - 334s 54ms/step - loss: -0.7124 - my_iou_metric_2: 0.9017 - val_loss: 0.1292 - val_my_iou_metric_2: 0.7914\n",
      "\n",
      "Epoch 00004: val_my_iou_metric_2 did not improve from 0.79700\n",
      "Epoch 5/100\n",
      "6202/6202 [==============================] - 335s 54ms/step - loss: -0.7033 - my_iou_metric_2: 0.9012 - val_loss: 0.1717 - val_my_iou_metric_2: 0.7905\n",
      "\n",
      "Epoch 00005: val_my_iou_metric_2 did not improve from 0.79700\n",
      "Epoch 6/100\n",
      "6202/6202 [==============================] - 335s 54ms/step - loss: -0.7133 - my_iou_metric_2: 0.9041 - val_loss: 0.1356 - val_my_iou_metric_2: 0.7884\n",
      "\n",
      "Epoch 00006: val_my_iou_metric_2 did not improve from 0.79700\n",
      "Epoch 7/100\n",
      "6202/6202 [==============================] - 335s 54ms/step - loss: -0.7186 - my_iou_metric_2: 0.9040 - val_loss: 0.2094 - val_my_iou_metric_2: 0.7869\n",
      "\n",
      "Epoch 00007: val_my_iou_metric_2 did not improve from 0.79700\n",
      "\n",
      "Epoch 00007: ReduceLROnPlateau reducing learning rate to 0.0005000000237487257.\n",
      "Epoch 8/100\n",
      "6202/6202 [==============================] - 334s 54ms/step - loss: -0.7285 - my_iou_metric_2: 0.9065 - val_loss: 0.1517 - val_my_iou_metric_2: 0.7900\n",
      "\n",
      "Epoch 00008: val_my_iou_metric_2 did not improve from 0.79700\n",
      "Epoch 9/100\n",
      "6202/6202 [==============================] - 333s 54ms/step - loss: -0.7236 - my_iou_metric_2: 0.9057 - val_loss: 0.1404 - val_my_iou_metric_2: 0.7884\n",
      "\n",
      "Epoch 00009: val_my_iou_metric_2 did not improve from 0.79700\n",
      "Epoch 10/100\n",
      "6202/6202 [==============================] - 334s 54ms/step - loss: -0.7280 - my_iou_metric_2: 0.9059 - val_loss: 0.1941 - val_my_iou_metric_2: 0.7854\n",
      "\n",
      "Epoch 00010: val_my_iou_metric_2 did not improve from 0.79700\n",
      "Epoch 11/100\n",
      "6202/6202 [==============================] - 334s 54ms/step - loss: -0.7218 - my_iou_metric_2: 0.9050 - val_loss: 0.1453 - val_my_iou_metric_2: 0.7914\n",
      "\n",
      "Epoch 00011: val_my_iou_metric_2 did not improve from 0.79700\n",
      "Epoch 12/100\n",
      "6202/6202 [==============================] - 334s 54ms/step - loss: -0.7345 - my_iou_metric_2: 0.9072 - val_loss: 0.1898 - val_my_iou_metric_2: 0.7891\n",
      "\n",
      "Epoch 00012: val_my_iou_metric_2 did not improve from 0.79700\n",
      "Epoch 13/100\n",
      "6202/6202 [==============================] - 334s 54ms/step - loss: -0.7344 - my_iou_metric_2: 0.9082 - val_loss: 0.1909 - val_my_iou_metric_2: 0.7858\n",
      "\n",
      "Epoch 00013: val_my_iou_metric_2 did not improve from 0.79700\n",
      "\n",
      "Epoch 00013: ReduceLROnPlateau reducing learning rate to 0.0002500000118743628.\n",
      "Epoch 14/100\n",
      "6202/6202 [==============================] - 334s 54ms/step - loss: -0.7328 - my_iou_metric_2: 0.9083 - val_loss: 0.1980 - val_my_iou_metric_2: 0.7902\n",
      "\n",
      "Epoch 00014: val_my_iou_metric_2 did not improve from 0.79700\n",
      "Epoch 15/100\n",
      "6202/6202 [==============================] - 334s 54ms/step - loss: -0.7397 - my_iou_metric_2: 0.9088 - val_loss: 0.1801 - val_my_iou_metric_2: 0.7900\n",
      "\n",
      "Epoch 00015: val_my_iou_metric_2 did not improve from 0.79700\n",
      "Epoch 16/100\n",
      "6202/6202 [==============================] - 334s 54ms/step - loss: -0.7330 - my_iou_metric_2: 0.9090 - val_loss: 0.1932 - val_my_iou_metric_2: 0.7889\n",
      "\n",
      "Epoch 00016: val_my_iou_metric_2 did not improve from 0.79700\n",
      "Epoch 00016: early stopping\n",
      "CPU times: user 47min 57s, sys: 10min 59s, total: 58min 56s\n",
      "Wall time: 1h 30min 5s\n"
     ]
    }
   ],
   "source": [
    "%%time\n",
    "history = model.fit(X_train, y_train,\n",
    "                    validation_data=[X_valid, y_valid], \n",
    "                    epochs=epochs,\n",
    "                    batch_size=batch_size,\n",
    "                    callbacks=[model_checkpoint, reduce_lr, early_stopping], \n",
    "                    verbose=1)"
   ]
  },
  {
   "cell_type": "code",
   "execution_count": 41,
   "metadata": {
    "_uuid": "922febde76d7aff93c49c71a28b3a2361f433d02"
   },
   "outputs": [
    {
     "data": {
      "text/plain": [
       "<matplotlib.legend.Legend at 0x7fe2cc50f7f0>"
      ]
     },
     "execution_count": 41,
     "metadata": {},
     "output_type": "execute_result"
    },
    {
     "data": {
      "image/png": "[encoded data removed]",
      "text/plain": [
       "<Figure size 1080x360 with 2 Axes>"
      ]
     },
     "metadata": {},
     "output_type": "display_data"
    }
   ],
   "source": [
    "fig, (ax_loss, ax_score) = plt.subplots(1, 2, figsize=(15,5))\n",
    "ax_loss.plot(history.epoch, history.history[\"loss\"], label=\"Train loss\")\n",
    "ax_loss.plot(history.epoch, history.history[\"val_loss\"], label=\"Validation loss\")\n",
    "ax_loss.legend()\n",
    "ax_score.plot(history.epoch, history.history[\"my_iou_metric_2\"], label=\"Train score\")\n",
    "ax_score.plot(history.epoch, history.history[\"val_my_iou_metric_2\"], label=\"Validation score\")\n",
    "ax_score.legend()"
   ]
  },
  {
   "cell_type": "code",
   "execution_count": 42,
   "metadata": {},
   "outputs": [],
   "source": [
    "model = load_model(save_model_nameB,custom_objects={'my_iou_metric_2': my_iou_metric_2,\n",
    "                                                   'lovasz_loss': lovasz_loss})\n",
    "\n",
    "opt = optimizers.adam(lr=0.001)\n",
    "model.compile(loss=lovasz_loss, optimizer=opt, metrics=[my_iou_metric_2])\n",
    "\n",
    "early_stopping = EarlyStopping(monitor='val_my_iou_metric_2', mode='max', patience=15, verbose=1)\n",
    "model_checkpoint = ModelCheckpoint(save_model_nameC, monitor='val_my_iou_metric_2', mode='max', save_best_only=True, verbose=1)\n",
    "reduce_lr = ReduceLROnPlateau(monitor='val_my_iou_metric_2', mode='max', factor=0.5, patience=6, min_lr=0.00001, verbose=1)\n",
    "\n",
    "epochs = 100\n",
    "batch_size = 16"
   ]
  },
  {
   "cell_type": "code",
   "execution_count": 43,
   "metadata": {
    "scrolled": false
   },
   "outputs": [
    {
     "name": "stdout",
     "output_type": "stream",
     "text": [
      "Train on 6202 samples, validate on 800 samples\n",
      "Epoch 1/100\n",
      "6202/6202 [==============================] - 353s 57ms/step - loss: -0.6838 - my_iou_metric_2: 0.8961 - val_loss: 0.0834 - val_my_iou_metric_2: 0.7896\n",
      "\n",
      "Epoch 00001: val_my_iou_metric_2 improved from -inf to 0.78962, saving model to unet_V4_3C.model\n",
      "Epoch 2/100\n",
      "6202/6202 [==============================] - 335s 54ms/step - loss: -0.6972 - my_iou_metric_2: 0.9005 - val_loss: 0.1080 - val_my_iou_metric_2: 0.7877\n",
      "\n",
      "Epoch 00002: val_my_iou_metric_2 did not improve from 0.78962\n",
      "Epoch 3/100\n",
      "6202/6202 [==============================] - 336s 54ms/step - loss: -0.7003 - my_iou_metric_2: 0.9004 - val_loss: 0.0946 - val_my_iou_metric_2: 0.7919\n",
      "\n",
      "Epoch 00003: val_my_iou_metric_2 improved from 0.78962 to 0.79187, saving model to unet_V4_3C.model\n",
      "Epoch 4/100\n",
      "6202/6202 [==============================] - 335s 54ms/step - loss: -0.7069 - my_iou_metric_2: 0.9027 - val_loss: 0.0875 - val_my_iou_metric_2: 0.7949\n",
      "\n",
      "Epoch 00004: val_my_iou_metric_2 improved from 0.79187 to 0.79487, saving model to unet_V4_3C.model\n",
      "Epoch 5/100\n",
      "6202/6202 [==============================] - 335s 54ms/step - loss: -0.7081 - my_iou_metric_2: 0.9020 - val_loss: 0.1272 - val_my_iou_metric_2: 0.7921\n",
      "\n",
      "Epoch 00005: val_my_iou_metric_2 did not improve from 0.79487\n",
      "Epoch 6/100\n",
      "6202/6202 [==============================] - 337s 54ms/step - loss: -0.7188 - my_iou_metric_2: 0.9041 - val_loss: 0.1559 - val_my_iou_metric_2: 0.7895\n",
      "\n",
      "Epoch 00006: val_my_iou_metric_2 did not improve from 0.79487\n",
      "Epoch 7/100\n",
      "6202/6202 [==============================] - 335s 54ms/step - loss: -0.7182 - my_iou_metric_2: 0.9039 - val_loss: 0.1464 - val_my_iou_metric_2: 0.7936\n",
      "\n",
      "Epoch 00007: val_my_iou_metric_2 did not improve from 0.79487\n",
      "Epoch 8/100\n",
      "6202/6202 [==============================] - 335s 54ms/step - loss: -0.7189 - my_iou_metric_2: 0.9044 - val_loss: 0.1537 - val_my_iou_metric_2: 0.7891\n",
      "\n",
      "Epoch 00008: val_my_iou_metric_2 did not improve from 0.79487\n",
      "Epoch 9/100\n",
      "6202/6202 [==============================] - 335s 54ms/step - loss: -0.7241 - my_iou_metric_2: 0.9061 - val_loss: 0.1506 - val_my_iou_metric_2: 0.7837\n",
      "\n",
      "Epoch 00009: val_my_iou_metric_2 did not improve from 0.79487\n",
      "Epoch 10/100\n",
      "6202/6202 [==============================] - 335s 54ms/step - loss: -0.7229 - my_iou_metric_2: 0.9054 - val_loss: 0.1568 - val_my_iou_metric_2: 0.7832\n",
      "\n",
      "Epoch 00010: val_my_iou_metric_2 did not improve from 0.79487\n",
      "\n",
      "Epoch 00010: ReduceLROnPlateau reducing learning rate to 0.0005000000237487257.\n",
      "Epoch 11/100\n",
      "6202/6202 [==============================] - 335s 54ms/step - loss: -0.7288 - my_iou_metric_2: 0.9066 - val_loss: 0.1801 - val_my_iou_metric_2: 0.7896\n",
      "\n",
      "Epoch 00011: val_my_iou_metric_2 did not improve from 0.79487\n",
      "Epoch 12/100\n",
      "6202/6202 [==============================] - 337s 54ms/step - loss: -0.7313 - my_iou_metric_2: 0.9065 - val_loss: 0.1507 - val_my_iou_metric_2: 0.7884\n",
      "\n",
      "Epoch 00012: val_my_iou_metric_2 did not improve from 0.79487\n",
      "Epoch 13/100\n",
      "6202/6202 [==============================] - 336s 54ms/step - loss: -0.7377 - my_iou_metric_2: 0.9083 - val_loss: 0.1970 - val_my_iou_metric_2: 0.7878\n",
      "\n",
      "Epoch 00013: val_my_iou_metric_2 did not improve from 0.79487\n",
      "Epoch 14/100\n",
      "6202/6202 [==============================] - 337s 54ms/step - loss: -0.7357 - my_iou_metric_2: 0.9079 - val_loss: 0.1768 - val_my_iou_metric_2: 0.7896\n",
      "\n",
      "Epoch 00014: val_my_iou_metric_2 did not improve from 0.79487\n",
      "Epoch 15/100\n",
      "6202/6202 [==============================] - 337s 54ms/step - loss: -0.7382 - my_iou_metric_2: 0.9085 - val_loss: 0.1627 - val_my_iou_metric_2: 0.7916\n",
      "\n",
      "Epoch 00015: val_my_iou_metric_2 did not improve from 0.79487\n",
      "Epoch 16/100\n",
      "6202/6202 [==============================] - 336s 54ms/step - loss: -0.7394 - my_iou_metric_2: 0.9081 - val_loss: 0.1795 - val_my_iou_metric_2: 0.7924\n",
      "\n",
      "Epoch 00016: val_my_iou_metric_2 did not improve from 0.79487\n",
      "\n",
      "Epoch 00016: ReduceLROnPlateau reducing learning rate to 0.0002500000118743628.\n",
      "Epoch 17/100\n",
      "6202/6202 [==============================] - 336s 54ms/step - loss: -0.7400 - my_iou_metric_2: 0.9096 - val_loss: 0.1746 - val_my_iou_metric_2: 0.7914\n",
      "\n",
      "Epoch 00017: val_my_iou_metric_2 did not improve from 0.79487\n",
      "Epoch 18/100\n",
      "6202/6202 [==============================] - 337s 54ms/step - loss: -0.7460 - my_iou_metric_2: 0.9093 - val_loss: 0.2178 - val_my_iou_metric_2: 0.7911\n",
      "\n",
      "Epoch 00018: val_my_iou_metric_2 did not improve from 0.79487\n",
      "Epoch 19/100\n",
      "6202/6202 [==============================] - 337s 54ms/step - loss: -0.7448 - my_iou_metric_2: 0.9098 - val_loss: 0.2059 - val_my_iou_metric_2: 0.7904\n",
      "\n",
      "Epoch 00019: val_my_iou_metric_2 did not improve from 0.79487\n",
      "Epoch 00019: early stopping\n",
      "CPU times: user 57min 57s, sys: 12min 56s, total: 1h 10min 53s\n",
      "Wall time: 1h 47min 57s\n"
     ]
    }
   ],
   "source": [
    "%%time\n",
    "history = model.fit(X_train, y_train,\n",
    "                    validation_data=[X_valid, y_valid], \n",
    "                    epochs=epochs,\n",
    "                    batch_size=batch_size,\n",
    "                    callbacks=[model_checkpoint, reduce_lr, early_stopping], \n",
    "                    verbose=1)"
   ]
  },
  {
   "cell_type": "code",
   "execution_count": 44,
   "metadata": {},
   "outputs": [
    {
     "data": {
      "text/plain": [
       "<matplotlib.legend.Legend at 0x7fe2a6622d30>"
      ]
     },
     "execution_count": 44,
     "metadata": {},
     "output_type": "execute_result"
    },
    {
     "data": {
      "image/png": "[encoded data removed]",
      "text/plain": [
       "<Figure size 1080x360 with 2 Axes>"
      ]
     },
     "metadata": {},
     "output_type": "display_data"
    }
   ],
   "source": [
    "fig, (ax_loss, ax_score) = plt.subplots(1, 2, figsize=(15,5))\n",
    "ax_loss.plot(history.epoch, history.history[\"loss\"], label=\"Train loss\")\n",
    "ax_loss.plot(history.epoch, history.history[\"val_loss\"], label=\"Validation loss\")\n",
    "ax_loss.legend()\n",
    "ax_score.plot(history.epoch, history.history[\"my_iou_metric_2\"], label=\"Train score\")\n",
    "ax_score.plot(history.epoch, history.history[\"val_my_iou_metric_2\"], label=\"Validation score\")\n",
    "ax_score.legend()"
   ]
  },
  {
   "cell_type": "markdown",
   "metadata": {},
   "source": [
    "# Predict"
   ]
  },
  {
   "cell_type": "code",
   "execution_count": null,
   "metadata": {},
   "outputs": [],
   "source": [
    "# model = load_model(save_model_name, custom_objects={'my_iou_metric':my_iou_metric})"
   ]
  },
  {
   "cell_type": "code",
   "execution_count": null,
   "metadata": {
    "_uuid": "068c89f56e9e7eb1d7ecf12912996426ad87f2a6"
   },
   "outputs": [],
   "source": [
    "model = load_model(save_model_nameC,custom_objects={'my_iou_metric_2': my_iou_metric_2,\n",
    "                                                   'lovasz_loss': lovasz_loss})"
   ]
  },
  {
   "cell_type": "code",
   "execution_count": null,
   "metadata": {
    "_uuid": "c33f2cdf50d3011f704ac934e49602bd3167c8cb"
   },
   "outputs": [],
   "source": [
    "def predict_result(model,x_test,img_size_target): # predict both orginal and reflect x\n",
    "    x_test_reflect =  np.array([np.fliplr(x) for x in x_test])\n",
    "    preds_test = model.predict(x_test).reshape(-1, img_size_target, img_size_target)\n",
    "    preds_test2_refect = model.predict(x_test_reflect).reshape(-1, img_size_target, img_size_target)\n",
    "    preds_test += np.array([ np.fliplr(x) for x in preds_test2_refect] )\n",
    "    return preds_test/2"
   ]
  },
  {
   "cell_type": "code",
   "execution_count": null,
   "metadata": {
    "_uuid": "ec38f74adccf2d265cac160311c0998fefc76ec6"
   },
   "outputs": [],
   "source": [
    "preds_valid = predict_result(model,X_valid,img_size_target)"
   ]
  },
  {
   "cell_type": "code",
   "execution_count": null,
   "metadata": {
    "_uuid": "6794a936dd110f0d4ecc23206c53af7cd0f4a587"
   },
   "outputs": [],
   "source": [
    "#Score the model and do a threshold optimization by the best IoU.\n",
    "\n",
    "# src: https://www.kaggle.com/aglotero/another-iou-metric\n",
    "def iou_metric(y_true_in, y_pred_in, print_table=False):\n",
    "    labels = y_true_in\n",
    "    y_pred = y_pred_in\n",
    "\n",
    "\n",
    "    true_objects = 2\n",
    "    pred_objects = 2\n",
    "\n",
    "    #  if all zeros, original code  generate wrong  bins [-0.5 0 0.5],\n",
    "    temp1 = np.histogram2d(labels.flatten(), y_pred.flatten(), bins=([0,0.5,1], [0,0.5, 1]))\n",
    "#     temp1 = np.histogram2d(labels.flatten(), y_pred.flatten(), bins=(true_objects, pred_objects))\n",
    "    #print(temp1)\n",
    "    intersection = temp1[0]\n",
    "    #print(\"temp2 = \",temp1[1])\n",
    "    #print(intersection.shape)\n",
    "   # print(intersection)\n",
    "    # Compute areas (needed for finding the union between all objects)\n",
    "    #print(np.histogram(labels, bins = true_objects))\n",
    "    area_true = np.histogram(labels,bins=[0,0.5,1])[0]\n",
    "    #print(\"area_true = \",area_true)\n",
    "    area_pred = np.histogram(y_pred, bins=[0,0.5,1])[0]\n",
    "    area_true = np.expand_dims(area_true, -1)\n",
    "    area_pred = np.expand_dims(area_pred, 0)\n",
    "\n",
    "    # Compute union\n",
    "    union = area_true + area_pred - intersection\n",
    "  \n",
    "    # Exclude background from the analysis\n",
    "    intersection = intersection[1:,1:]\n",
    "    intersection[intersection == 0] = 1e-9\n",
    "    \n",
    "    union = union[1:,1:]\n",
    "    union[union == 0] = 1e-9\n",
    "\n",
    "    # Compute the intersection over union\n",
    "    iou = intersection / union\n",
    "    # Precision helper function\n",
    "    def precision_at(threshold, iou):\n",
    "        matches = iou > threshold\n",
    "        true_positives = np.sum(matches, axis=1) == 1   # Correct objects\n",
    "        false_positives = np.sum(matches, axis=0) == 0  # Missed objects\n",
    "        false_negatives = np.sum(matches, axis=1) == 0  # Extra objects\n",
    "        tp, fp, fn = np.sum(true_positives), np.sum(false_positives), np.sum(false_negatives)\n",
    "        return tp, fp, fn\n",
    "\n",
    "    # Loop over IoU thresholds\n",
    "    prec = []\n",
    "    if print_table:\n",
    "        print(\"Thresh\\tTP\\tFP\\tFN\\tPrec.\")\n",
    "    for t in np.arange(0.5, 1.0, 0.05):\n",
    "        tp, fp, fn = precision_at(t, iou)\n",
    "        if (tp + fp + fn) > 0:\n",
    "            p = tp / (tp + fp + fn)\n",
    "        else:\n",
    "            p = 0\n",
    "        if print_table:\n",
    "            print(\"{:1.3f}\\t{}\\t{}\\t{}\\t{:1.3f}\".format(t, tp, fp, fn, p))\n",
    "        prec.append(p)\n",
    "        \n",
    "    if print_table:\n",
    "        print(\"AP\\t-\\t-\\t-\\t{:1.3f}\".format(np.mean(prec)))\n",
    "    return np.mean(prec)\n",
    "\n",
    "def iou_metric_batch(y_true_in, y_pred_in):\n",
    "    batch_size = y_true_in.shape[0]\n",
    "    metric = []\n",
    "    for batch in range(batch_size):\n",
    "        value = iou_metric(y_true_in[batch], y_pred_in[batch])\n",
    "        metric.append(value)\n",
    "    return np.mean(metric)"
   ]
  },
  {
   "cell_type": "code",
   "execution_count": null,
   "metadata": {
    "_uuid": "6d96072932f985336021cd115cb6bb13058618a8"
   },
   "outputs": [],
   "source": [
    "## Scoring for last model, choose threshold by validation data \n",
    "thresholds_ori = np.linspace(0.3, 0.7, 31)\n",
    "# Reverse sigmoid function: Use code below because the  sigmoid activation was removed\n",
    "thresholds = np.log(thresholds_ori/(1-thresholds_ori)) \n",
    "\n",
    "# ious = np.array([get_iou_vector(y_valid, preds_valid > threshold) for threshold in tqdm_notebook(thresholds)])\n",
    "# print(ious)\n",
    "ious = np.array([iou_metric_batch(y_valid, preds_valid > threshold) for threshold in tqdm_notebook(thresholds)])\n",
    "print(ious)"
   ]
  },
  {
   "cell_type": "code",
   "execution_count": null,
   "metadata": {
    "_uuid": "ce197d87cf44fef681025160cba8e4081d15ed50"
   },
   "outputs": [],
   "source": [
    "threshold_best_index = np.argmax(ious)\n",
    "iou_best = ious[threshold_best_index]\n",
    "threshold_best = thresholds[threshold_best_index]\n",
    "\n",
    "plt.plot(thresholds, ious)\n",
    "plt.plot(threshold_best, iou_best, 'xr', label='Best threshold')\n",
    "plt.xlabel(\"Threshold\")\n",
    "plt.ylabel(\"IoU\")\n",
    "plt.title(\"Threshold vs IoU ({}, {})\".format(threshold_best, iou_best))\n",
    "plt.legend()"
   ]
  },
  {
   "cell_type": "code",
   "execution_count": null,
   "metadata": {
    "_uuid": "e129e7c3e525b884322570ed37da825cd89db290"
   },
   "outputs": [],
   "source": [
    "%%time\n",
    "preds_test = predict_result(model,X_test,img_size_target)"
   ]
  },
  {
   "cell_type": "code",
   "execution_count": null,
   "metadata": {},
   "outputs": [],
   "source": [
    "y_pred_test_rle = salt_parser.predictions_rle_encode(preds_test, \n",
    "                                                     confidence_threshold_best=threshold_best)"
   ]
  },
  {
   "cell_type": "code",
   "execution_count": null,
   "metadata": {},
   "outputs": [],
   "source": [
    "submission = salt_parser.generate_submission(y_pred_test_rle)\n",
    "submission.to_csv('submission_unet_v4-v3.csv')"
   ]
  },
  {
   "cell_type": "code",
   "execution_count": null,
   "metadata": {
    "_uuid": "a1a6411767b9ddcdb111fa9d3402e7a75dd67f55"
   },
   "outputs": [],
   "source": []
  }
 ],
 "metadata": {
  "kernelspec": {
   "display_name": "Python 3",
   "language": "python",
   "name": "python3"
  },
  "language_info": {
   "codemirror_mode": {
    "name": "ipython",
    "version": 3
   },
   "file_extension": ".py",
   "mimetype": "text/x-python",
   "name": "python",
   "nbconvert_exporter": "python",
   "pygments_lexer": "ipython3",
   "version": "3.6.6"
  },
  "toc": {
   "base_numbering": 1,
   "nav_menu": {},
   "number_sections": true,
   "sideBar": true,
   "skip_h1_title": false,
   "title_cell": "Table of Contents",
   "title_sidebar": "Contents",
   "toc_cell": false,
   "toc_position": {},
   "toc_section_display": true,
   "toc_window_display": false
  }
 },
 "nbformat": 4,
 "nbformat_minor": 1
}
