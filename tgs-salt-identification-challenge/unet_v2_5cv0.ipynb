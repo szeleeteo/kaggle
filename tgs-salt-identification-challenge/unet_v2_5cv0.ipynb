{
 "cells": [
  {
   "cell_type": "raw",
   "metadata": {},
   "source": [
    "5-fold\n",
    "lr augm\n",
    "remove 1-10pixels"
   ]
  },
  {
   "cell_type": "markdown",
   "metadata": {
    "heading_collapsed": true
   },
   "source": [
    "# Import Dependencies"
   ]
  },
  {
   "cell_type": "code",
   "execution_count": 1,
   "metadata": {
    "_cell_guid": "b1076dfc-b9ad-4769-8c92-a6c4dae69d19",
    "_uuid": "8f2839f25d086af736a60e9eeb907d3b93b6e0e5",
    "hidden": true
   },
   "outputs": [
    {
     "name": "stderr",
     "output_type": "stream",
     "text": [
      "Using TensorFlow backend.\n"
     ]
    }
   ],
   "source": [
    "import os\n",
    "import sys\n",
    "import random\n",
    "import numpy as np\n",
    "import pandas as pd\n",
    "import matplotlib.pyplot as plt\n",
    "plt.style.use('seaborn-white')\n",
    "import seaborn as sns\n",
    "sns.set_style('white')\n",
    "\n",
    "%matplotlib inline\n",
    "\n",
    "from sklearn.model_selection import train_test_split\n",
    "from sklearn.model_selection import StratifiedKFold\n",
    "\n",
    "from tqdm import tqdm_notebook\n",
    "\n",
    "from skimage.io import imread, imshow\n",
    "from skimage.transform import resize\n",
    "from skimage.morphology import label\n",
    "\n",
    "from keras.models import Model, load_model, save_model\n",
    "from keras.layers import Input, Dropout, BatchNormalization, Activation, Add\n",
    "from keras.layers.core import Lambda\n",
    "from keras.layers.convolutional import Conv2D, Conv2DTranspose\n",
    "from keras.layers.pooling import MaxPooling2D\n",
    "from keras.layers.merge import concatenate\n",
    "from keras.callbacks import EarlyStopping, ModelCheckpoint, ReduceLROnPlateau\n",
    "from keras import backend as K\n",
    "from keras import optimizers\n",
    "import tensorflow as tf\n",
    "from keras.preprocessing.image import array_to_img, img_to_array, load_img\n",
    "\n",
    "import time\n",
    "t_start = time.time()"
   ]
  },
  {
   "cell_type": "code",
   "execution_count": 2,
   "metadata": {
    "hidden": true
   },
   "outputs": [
    {
     "name": "stdout",
     "output_type": "stream",
     "text": [
      "1.10.1\n"
     ]
    }
   ],
   "source": [
    "print(tf.__version__)"
   ]
  },
  {
   "cell_type": "markdown",
   "metadata": {
    "heading_collapsed": true
   },
   "source": [
    "# Pre-process Data"
   ]
  },
  {
   "cell_type": "code",
   "execution_count": 3,
   "metadata": {
    "hidden": true
   },
   "outputs": [],
   "source": [
    "DATA_DIR = 'data/salt/'"
   ]
  },
  {
   "cell_type": "code",
   "execution_count": 4,
   "metadata": {
    "hidden": true
   },
   "outputs": [],
   "source": [
    "cv_total = 5\n",
    "cv_index = 0  # 0,1,2,3,4"
   ]
  },
  {
   "cell_type": "code",
   "execution_count": 5,
   "metadata": {
    "_cell_guid": "79c7e3d0-c299-4dcb-8224-4455121ee9b0",
    "_uuid": "d629ff2d2480ee46fbb7e2d37f6b5fab8052498a",
    "hidden": true
   },
   "outputs": [
    {
     "name": "stdout",
     "output_type": "stream",
     "text": [
      "unet_v2_5A_cv0.model\n",
      "unet_v2_5B_cv0.model\n",
      "unet_v2_5_cv0.csv\n"
     ]
    }
   ],
   "source": [
    "version = 5\n",
    "basic_name = f'unet_v2_{version}'\n",
    "save_model_name = basic_name + 'A_cv' + str(cv_index) + '.model'\n",
    "save_model_nameB = basic_name + 'B_cv' + str(cv_index) + '.model'\n",
    "submission_file = basic_name + '_cv' + str(cv_index) + '.csv'\n",
    "\n",
    "print(save_model_name)\n",
    "print(save_model_nameB)\n",
    "print(submission_file)"
   ]
  },
  {
   "cell_type": "code",
   "execution_count": 6,
   "metadata": {
    "_uuid": "4a7f9e82027f04b17b56c177a1831abf25abe2c8",
    "hidden": true
   },
   "outputs": [],
   "source": [
    "img_size_ori = 101\n",
    "img_size_target = 101\n",
    "\n",
    "def upsample(img):# not used\n",
    "    if img_size_ori == img_size_target:\n",
    "        return img\n",
    "    return resize(img, (img_size_target, img_size_target), mode='constant', preserve_range=True)\n",
    "    \n",
    "def downsample(img):# not used\n",
    "    if img_size_ori == img_size_target:\n",
    "        return img\n",
    "    return resize(img, (img_size_ori, img_size_ori), mode='constant', preserve_range=True)"
   ]
  },
  {
   "cell_type": "code",
   "execution_count": 7,
   "metadata": {
    "_uuid": "419fa6e1ad5218241f08f954453fa3899de8e2e7",
    "hidden": true
   },
   "outputs": [
    {
     "data": {
      "text/plain": [
       "4000"
      ]
     },
     "execution_count": 7,
     "metadata": {},
     "output_type": "execute_result"
    }
   ],
   "source": [
    "# Loading of training/testing ids and depths\n",
    "train_df = pd.read_csv(f\"{DATA_DIR}train.csv\", index_col=\"id\", usecols=[0])\n",
    "depths_df = pd.read_csv(f\"{DATA_DIR}depths.csv\", index_col=\"id\")\n",
    "train_df = train_df.join(depths_df)\n",
    "test_df = depths_df[~depths_df.index.isin(train_df.index)]\n",
    "\n",
    "len(train_df)"
   ]
  },
  {
   "cell_type": "code",
   "execution_count": 8,
   "metadata": {
    "_uuid": "fc276e696e66de8ab00b68dce1863fa55eb5023d",
    "hidden": true
   },
   "outputs": [
    {
     "data": {
      "application/vnd.jupyter.widget-view+json": {
       "model_id": "9722ced3cca5479995c6bf87b213291d",
       "version_major": 2,
       "version_minor": 0
      },
      "text/plain": [
       "HBox(children=(IntProgress(value=0, max=4000), HTML(value='')))"
      ]
     },
     "metadata": {},
     "output_type": "display_data"
    },
    {
     "name": "stdout",
     "output_type": "stream",
     "text": [
      "\n"
     ]
    }
   ],
   "source": [
    "train_df[\"images\"] = [np.array(load_img(f\"{DATA_DIR}train/images/{idx}.png\", color_mode='grayscale')) / 255 for idx in tqdm_notebook(train_df.index)]"
   ]
  },
  {
   "cell_type": "code",
   "execution_count": 9,
   "metadata": {
    "_uuid": "a2339c6c3b81280839f05269b2314be4541fa5c4",
    "hidden": true
   },
   "outputs": [
    {
     "data": {
      "application/vnd.jupyter.widget-view+json": {
       "model_id": "0ff6f49c6bf147d2b8d8d98709cbe2ca",
       "version_major": 2,
       "version_minor": 0
      },
      "text/plain": [
       "HBox(children=(IntProgress(value=0, max=4000), HTML(value='')))"
      ]
     },
     "metadata": {},
     "output_type": "display_data"
    },
    {
     "name": "stdout",
     "output_type": "stream",
     "text": [
      "\n"
     ]
    }
   ],
   "source": [
    "train_df[\"masks\"] = [np.array(load_img(f\"{DATA_DIR}train/masks/{idx}.png\", color_mode='grayscale')) / 255 for idx in tqdm_notebook(train_df.index)]"
   ]
  },
  {
   "cell_type": "code",
   "execution_count": 10,
   "metadata": {
    "_uuid": "cbacf34c7506a867795260a9c615cb4427d62c2d",
    "hidden": true
   },
   "outputs": [],
   "source": [
    "train_df[\"coverage\"] = train_df.masks.map(np.sum) / pow(img_size_ori, 2)\n",
    "\n",
    "def cov_to_class(val):    \n",
    "    for i in range(0, 11):\n",
    "        if val * 10 <= i :\n",
    "            return i\n",
    "        \n",
    "train_df[\"coverage_class\"] = train_df.coverage.map(cov_to_class)"
   ]
  },
  {
   "cell_type": "code",
   "execution_count": 11,
   "metadata": {
    "_uuid": "c535341361ea08ec77f6821719b7045f308895d3",
    "hidden": true
   },
   "outputs": [
    {
     "data": {
      "text/plain": [
       "Text(0.5, 0, 'Coverage class')"
      ]
     },
     "execution_count": 11,
     "metadata": {},
     "output_type": "execute_result"
    },
    {
     "data": {
      "image/png": "[encoded data removed]",
      "text/plain": [
       "<Figure size 1080x360 with 2 Axes>"
      ]
     },
     "metadata": {
      "needs_background": "light"
     },
     "output_type": "display_data"
    }
   ],
   "source": [
    "fig, axs = plt.subplots(1, 2, figsize=(15,5))\n",
    "sns.distplot(train_df.coverage, kde=False, ax=axs[0])\n",
    "sns.distplot(train_df.coverage_class, bins=10, kde=False, ax=axs[1])\n",
    "plt.suptitle(\"Salt coverage\")\n",
    "axs[0].set_xlabel(\"Coverage\")\n",
    "axs[1].set_xlabel(\"Coverage class\")"
   ]
  },
  {
   "cell_type": "code",
   "execution_count": 12,
   "metadata": {
    "_uuid": "d150fb85dd998ab4dd241c66e52d247ab667dce0",
    "hidden": true
   },
   "outputs": [
    {
     "data": {
      "text/plain": [
       "Text(0.5, 1.0, 'Depth distribution')"
      ]
     },
     "execution_count": 12,
     "metadata": {},
     "output_type": "execute_result"
    },
    {
     "data": {
      "image/png": "[encoded data removed]",
      "text/plain": [
       "<Figure size 432x288 with 1 Axes>"
      ]
     },
     "metadata": {
      "needs_background": "light"
     },
     "output_type": "display_data"
    }
   ],
   "source": [
    "# Plotting the depth distributions\n",
    "\n",
    "sns.distplot(train_df.z, label=\"Train\")\n",
    "sns.distplot(test_df.z, label=\"Test\")\n",
    "plt.legend()\n",
    "plt.title(\"Depth distribution\")"
   ]
  },
  {
   "cell_type": "markdown",
   "metadata": {
    "heading_collapsed": true
   },
   "source": [
    "# Split Data"
   ]
  },
  {
   "cell_type": "code",
   "execution_count": 13,
   "metadata": {
    "_uuid": "2ea5c45300c08b06c60548dd09831cff38878551",
    "hidden": true
   },
   "outputs": [],
   "source": [
    "# # Create train/validation split stratified by salt coverage\n",
    "# ids_train, ids_valid, x_train, x_valid, y_train, y_valid, cov_train, cov_test, depth_train, depth_test = \\\n",
    "# train_test_split(train_df.index.values, \n",
    "#                  np.array(train_df.images.map(upsample).tolist()).reshape(-1, img_size_target, img_size_target, 1),\n",
    "#                  np.array(train_df.masks.map(upsample).tolist()).reshape(-1, img_size_target, img_size_target, 1),\n",
    "#                  train_df.coverage.values, \n",
    "#                  train_df.z.values, \n",
    "#                  test_size=0.2, stratify=train_df.coverage_class, random_state=555)"
   ]
  },
  {
   "cell_type": "code",
   "execution_count": 14,
   "metadata": {
    "hidden": true
   },
   "outputs": [
    {
     "name": "stdout",
     "output_type": "stream",
     "text": [
      "(3196,) (804,)\n",
      "(3199,) (801,)\n",
      "(3200,) (800,)\n",
      "(3201,) (799,)\n",
      "(3204,) (796,)\n"
     ]
    }
   ],
   "source": [
    "train_all = []\n",
    "evaluate_all = []\n",
    "skf = StratifiedKFold(n_splits=cv_total, random_state=555, shuffle=True)\n",
    "\n",
    "for train_index, evaluate_index in skf.split(train_df.index.values, train_df.coverage_class):\n",
    "    train_all.append(train_index)\n",
    "    evaluate_all.append(evaluate_index)\n",
    "    print(train_index.shape, evaluate_index.shape) # the shape is slightly different in different cv, it's OK"
   ]
  },
  {
   "cell_type": "code",
   "execution_count": 15,
   "metadata": {
    "hidden": true
   },
   "outputs": [],
   "source": [
    "def get_cv_data(cv_index):\n",
    "    train_index = train_all[cv_index-1]\n",
    "    evaluate_index = evaluate_all[cv_index-1]\n",
    "    x_train = np.array(train_df.images[train_index].map(upsample).tolist()).reshape(-1, img_size_target, img_size_target, 1)\n",
    "    y_train = np.array(train_df.masks[train_index].map(upsample).tolist()).reshape(-1, img_size_target, img_size_target, 1)\n",
    "    x_valid = np.array(train_df.images[evaluate_index].map(upsample).tolist()).reshape(-1, img_size_target, img_size_target, 1)\n",
    "    y_valid = np.array(train_df.masks[evaluate_index].map(upsample).tolist()).reshape(-1, img_size_target, img_size_target, 1)\n",
    "    return x_train,y_train,x_valid,y_valid"
   ]
  },
  {
   "cell_type": "code",
   "execution_count": 16,
   "metadata": {
    "hidden": true
   },
   "outputs": [],
   "source": [
    "x_train, y_train, x_valid, y_valid =  get_cv_data(cv_index+1)    "
   ]
  },
  {
   "cell_type": "code",
   "execution_count": 17,
   "metadata": {
    "hidden": true
   },
   "outputs": [
    {
     "data": {
      "text/plain": [
       "array([0.61176471])"
      ]
     },
     "execution_count": 17,
     "metadata": {},
     "output_type": "execute_result"
    }
   ],
   "source": [
    "x_train[5,5,5]"
   ]
  },
  {
   "cell_type": "raw",
   "metadata": {
    "hidden": true
   },
   "source": [
    "x_train[5,5,5] = \n",
    "array([0.61176471])        cv=0\n",
    "array([0.38039216])        cv=1\n",
    "array([]) cv=2\n",
    "array([]) cv=3\n",
    "array([]) cv=4"
   ]
  },
  {
   "cell_type": "code",
   "execution_count": 18,
   "metadata": {
    "hidden": true
   },
   "outputs": [
    {
     "data": {
      "text/plain": [
       "(3196, 3196)"
      ]
     },
     "execution_count": 18,
     "metadata": {},
     "output_type": "execute_result"
    }
   ],
   "source": [
    "len(x_train), len(y_train)"
   ]
  },
  {
   "cell_type": "code",
   "execution_count": 19,
   "metadata": {
    "hidden": true
   },
   "outputs": [
    {
     "data": {
      "text/plain": [
       "(3196, 3196)"
      ]
     },
     "execution_count": 19,
     "metadata": {},
     "output_type": "execute_result"
    }
   ],
   "source": [
    "len(x_train), len(y_train)"
   ]
  },
  {
   "cell_type": "code",
   "execution_count": 20,
   "metadata": {
    "hidden": true
   },
   "outputs": [],
   "source": [
    "# boolean mask for mask with either all black pixel or at least 20 pixels\n",
    "thres = 10\n",
    "y_mask = np.squeeze((y_train.sum(axis=1).sum(axis=1)>=thres) | (y_train.sum(axis=1).sum(axis=1)==0))"
   ]
  },
  {
   "cell_type": "code",
   "execution_count": 21,
   "metadata": {
    "hidden": true
   },
   "outputs": [
    {
     "data": {
      "text/plain": [
       "31"
      ]
     },
     "execution_count": 21,
     "metadata": {},
     "output_type": "execute_result"
    }
   ],
   "source": [
    "# sample to remove\n",
    "len(y_train)-y_mask.sum()"
   ]
  },
  {
   "cell_type": "code",
   "execution_count": 22,
   "metadata": {
    "hidden": true
   },
   "outputs": [],
   "source": [
    "x_train = x_train[y_mask]\n",
    "y_train = y_train[y_mask]"
   ]
  },
  {
   "cell_type": "code",
   "execution_count": 23,
   "metadata": {
    "hidden": true
   },
   "outputs": [
    {
     "data": {
      "text/plain": [
       "(3165, 3165)"
      ]
     },
     "execution_count": 23,
     "metadata": {},
     "output_type": "execute_result"
    }
   ],
   "source": [
    "len(x_train), len(y_train)"
   ]
  },
  {
   "cell_type": "code",
   "execution_count": 24,
   "metadata": {
    "hidden": true
   },
   "outputs": [
    {
     "data": {
      "text/plain": [
       "3165"
      ]
     },
     "execution_count": 24,
     "metadata": {},
     "output_type": "execute_result"
    }
   ],
   "source": [
    "x_train_orig_len = len(x_train)\n",
    "x_train_orig_len"
   ]
  },
  {
   "cell_type": "code",
   "execution_count": 25,
   "metadata": {
    "hidden": true
   },
   "outputs": [
    {
     "data": {
      "text/plain": [
       "(804, 804)"
      ]
     },
     "execution_count": 25,
     "metadata": {},
     "output_type": "execute_result"
    }
   ],
   "source": [
    "# only remove train, do not remove validation\n",
    "len(x_valid), len(y_valid)"
   ]
  },
  {
   "cell_type": "markdown",
   "metadata": {
    "heading_collapsed": true
   },
   "source": [
    "# Data augmentation"
   ]
  },
  {
   "cell_type": "code",
   "execution_count": 26,
   "metadata": {
    "hidden": true
   },
   "outputs": [],
   "source": [
    "def plot2x2Array(image, mask):\n",
    "    f, axarr = plt.subplots(1,2)\n",
    "    axarr[0].imshow(image, cmap=\"gray\")\n",
    "    axarr[1].imshow(mask, cmap=\"gray\")\n",
    "    axarr[0].grid(False)\n",
    "    axarr[1].grid(False)\n",
    "    axarr[0].set_title('Image')\n",
    "    axarr[1].set_title('Mask')"
   ]
  },
  {
   "cell_type": "code",
   "execution_count": 27,
   "metadata": {
    "hidden": true
   },
   "outputs": [
    {
     "data": {
      "image/png": "[encoded data removed]",
      "text/plain": [
       "<Figure size 432x288 with 2 Axes>"
      ]
     },
     "metadata": {
      "needs_background": "light"
     },
     "output_type": "display_data"
    }
   ],
   "source": [
    "i = 21\n",
    "plot2x2Array(x_train[i,:,:,0], y_train[i,:,:,0])"
   ]
  },
  {
   "cell_type": "code",
   "execution_count": 28,
   "metadata": {
    "hidden": true
   },
   "outputs": [],
   "source": [
    "from imgaug import augmenters as iaa\n",
    "import imgaug as ia\n",
    "\n",
    "sometimes = lambda aug: iaa.Sometimes(0.9, aug)"
   ]
  },
  {
   "cell_type": "code",
   "execution_count": 29,
   "metadata": {
    "hidden": true
   },
   "outputs": [],
   "source": [
    "affine_seq = iaa.Sequential(\n",
    "    [\n",
    "        iaa.Fliplr(0.5), # horizontally flip 50% of all images\n",
    "        # crop images by -5% to 10% of their height/width\n",
    "        sometimes(iaa.CropAndPad(\n",
    "            percent=(-0.05, 0.05),\n",
    "            pad_mode= 'symmetric',\n",
    "            pad_cval=(0, 1),\n",
    "        )),\n",
    "        sometimes(iaa.Affine(\n",
    "            scale={\"x\": (0.95, 1.05), \"y\": (0.95, 1.05)}, # scale images to 80-120% of their size, individually per axis\n",
    "            translate_percent={\"x\": (-0.05, 0.05), \"y\": (-0.05, 0.05)}, # translate by -20 to +20 percent (per axis)\n",
    "            shear=(-5, 5), # shear by -16 to +16 degrees\n",
    "            cval=(0, 1), # if mode is constant, use a cval between 0 and 255\n",
    "            mode='symmetric',\n",
    "        )),\n",
    "    \n",
    "], random_order=True)"
   ]
  },
  {
   "cell_type": "code",
   "execution_count": 30,
   "metadata": {
    "hidden": true
   },
   "outputs": [],
   "source": [
    "seq_det = affine_seq.to_deterministic()\n",
    "aug_img = seq_det.augment_image(x_train[i,:,:])\n",
    "aug_mask = seq_det.augment_image(y_train[i,:,:])"
   ]
  },
  {
   "cell_type": "code",
   "execution_count": 31,
   "metadata": {
    "hidden": true
   },
   "outputs": [],
   "source": [
    "# plot2x2Array(x_train[i,:,:,0], aug_img[:,:,0])\n",
    "# plot2x2Array(y_train[i,:,:,0], aug_mask[:,:,0])"
   ]
  },
  {
   "cell_type": "code",
   "execution_count": 32,
   "metadata": {
    "hidden": true
   },
   "outputs": [],
   "source": [
    "aug_mask = np.where(aug_mask[:,:,0] > 0.5, 1, 0)"
   ]
  },
  {
   "cell_type": "code",
   "execution_count": 33,
   "metadata": {
    "hidden": true
   },
   "outputs": [
    {
     "data": {
      "text/plain": [
       "array([0.])"
      ]
     },
     "execution_count": 33,
     "metadata": {},
     "output_type": "execute_result"
    }
   ],
   "source": [
    "np.unique(y_train[i,:,:,0])"
   ]
  },
  {
   "cell_type": "code",
   "execution_count": 34,
   "metadata": {
    "hidden": true
   },
   "outputs": [
    {
     "data": {
      "text/plain": [
       "array([0])"
      ]
     },
     "execution_count": 34,
     "metadata": {},
     "output_type": "execute_result"
    }
   ],
   "source": [
    "np.unique(aug_mask)"
   ]
  },
  {
   "cell_type": "code",
   "execution_count": 35,
   "metadata": {
    "hidden": true
   },
   "outputs": [],
   "source": [
    "# plot2x2Array(y_train[i,:,:,0], aug_mask)"
   ]
  },
  {
   "cell_type": "code",
   "execution_count": 36,
   "metadata": {
    "hidden": true
   },
   "outputs": [],
   "source": [
    "# x = x_train[21]\n",
    "# y = y_train[21]\n",
    "# print((x.shape),(y.shape))\n",
    "\n",
    "# seq_det = affine_seq.to_deterministic()\n",
    "# aug_img = seq_det.augment_image(x)\n",
    "# aug_mask = seq_det.augment_image(y)\n",
    "# aug_mask[:,:,0] = np.where(aug_mask[:,:,0] > 0.5, 1, 0)\n",
    "\n",
    "# print((aug_img.shape),(aug_mask.shape))\n",
    "# plot2x2Array(x[:,:,0], y[:,:,0])\n",
    "\n",
    "# plot2x2Array(aug_img[:,:,0], aug_mask[:,:,0])"
   ]
  },
  {
   "cell_type": "code",
   "execution_count": 37,
   "metadata": {
    "hidden": true
   },
   "outputs": [],
   "source": [
    "# x_aug_list=[]\n",
    "# y_aug_list=[]\n",
    "\n",
    "# for x,y in tqdm_notebook(zip(x_train, y_train)):\n",
    "#     seq_det = affine_seq.to_deterministic()\n",
    "    \n",
    "#     aug_img = seq_det.augment_image(x)\n",
    "#     aug_mask = seq_det.augment_image(y)\n",
    "#     aug_mask[:,:,0] = np.where(aug_mask[:,:,0] > 0.5, 1, 0)\n",
    "\n",
    "#     x_aug_list.append(aug_img)\n",
    "#     y_aug_list.append(aug_mask)"
   ]
  },
  {
   "cell_type": "code",
   "execution_count": 38,
   "metadata": {
    "hidden": true
   },
   "outputs": [],
   "source": [
    "x_train = np.append(x_train, [np.fliplr(x) for x in x_train], axis=0)\n",
    "y_train = np.append(y_train, [np.fliplr(x) for x in y_train], axis=0)"
   ]
  },
  {
   "cell_type": "code",
   "execution_count": 39,
   "metadata": {
    "hidden": true
   },
   "outputs": [],
   "source": [
    "# x_aug = np.array(x_aug_list)\n",
    "# y_aug = np.array(y_aug_list)"
   ]
  },
  {
   "cell_type": "code",
   "execution_count": 40,
   "metadata": {
    "hidden": true
   },
   "outputs": [],
   "source": [
    "# x_aug.shape"
   ]
  },
  {
   "cell_type": "code",
   "execution_count": 41,
   "metadata": {
    "hidden": true
   },
   "outputs": [],
   "source": [
    "# x_train = np.append(x_train, x_aug, axis=0)\n",
    "# y_train = np.append(y_train, y_aug, axis=0)"
   ]
  },
  {
   "cell_type": "code",
   "execution_count": 42,
   "metadata": {
    "_uuid": "3a4ffe206d6ea50da3d8ccb8ec8d219a2e6cca94",
    "hidden": true
   },
   "outputs": [
    {
     "name": "stdout",
     "output_type": "stream",
     "text": [
      "(6330, 101, 101, 1)\n",
      "(804, 101, 101, 1)\n"
     ]
    }
   ],
   "source": [
    "print(x_train.shape)\n",
    "print(y_valid.shape)"
   ]
  },
  {
   "cell_type": "code",
   "execution_count": 43,
   "metadata": {
    "hidden": true
   },
   "outputs": [],
   "source": [
    "# i = 188\n",
    "# plot2x2Array(x_train[i,:,:,0], y_train[i,:,:,0])"
   ]
  },
  {
   "cell_type": "code",
   "execution_count": 44,
   "metadata": {
    "hidden": true
   },
   "outputs": [],
   "source": [
    "# plot2x2Array(x_train[i+x_train_orig_len,:,:,0], y_train[i+x_train_orig_len,:,:,0])"
   ]
  },
  {
   "cell_type": "markdown",
   "metadata": {
    "heading_collapsed": true
   },
   "source": [
    "# Model Definitions"
   ]
  },
  {
   "cell_type": "code",
   "execution_count": 45,
   "metadata": {
    "_uuid": "92fe9e2757add49ffb55b4824aa3d833919efde5",
    "hidden": true
   },
   "outputs": [],
   "source": [
    "def BatchActivate(x):\n",
    "    x = BatchNormalization()(x)\n",
    "    x = Activation('relu')(x)\n",
    "    return x\n",
    "\n",
    "def convolution_block(x, filters, size, strides=(1,1), padding='same', activation=True):\n",
    "    x = Conv2D(filters, size, strides=strides, padding=padding)(x)\n",
    "    if activation==True: x = BatchActivate(x)\n",
    "    return x\n",
    "\n",
    "def residual_block(blockInput, num_filters=16, batch_activate=False):\n",
    "    x = BatchActivate(blockInput)\n",
    "    x = convolution_block(x, num_filters, (3,3))\n",
    "    x = convolution_block(x, num_filters, (3,3), activation=False)\n",
    "    x = Add()([x, blockInput])\n",
    "    if batch_activate: x = BatchActivate(x)\n",
    "    return x"
   ]
  },
  {
   "cell_type": "code",
   "execution_count": 46,
   "metadata": {
    "_uuid": "e9dfb108c78c80848dc4155a811dae46aec829f9",
    "hidden": true
   },
   "outputs": [],
   "source": [
    "# Build Model\n",
    "def build_model(input_layer, start_neurons, DropoutRatio=0.5):\n",
    "    # 101 -> 50\n",
    "    conv1 = Conv2D(start_neurons*1, (3,3), activation=None, padding='same')(input_layer)\n",
    "    conv1 = residual_block(conv1, start_neurons*1)\n",
    "    conv1 = residual_block(conv1, start_neurons*1, True)\n",
    "    pool1 = MaxPooling2D((2,2))(conv1)\n",
    "    pool1 = Dropout(DropoutRatio/2)(pool1)\n",
    "    \n",
    "    # 50 -> 25\n",
    "    conv2 = Conv2D(start_neurons*2, (3,3), activation=None, padding='same')(pool1)\n",
    "    conv2 = residual_block(conv2, start_neurons*2)\n",
    "    conv2 = residual_block(conv2, start_neurons*2, True)\n",
    "    pool2 = MaxPooling2D((2,2))(conv2)\n",
    "    pool2 = Dropout(DropoutRatio)(pool2)\n",
    "    \n",
    "    # 25 -> 12\n",
    "    conv3 = Conv2D(start_neurons*4, (3,3), activation=None, padding='same')(pool2)\n",
    "    conv3 = residual_block(conv3, start_neurons*4)\n",
    "    conv3 = residual_block(conv3, start_neurons*4, True)\n",
    "    pool3 = MaxPooling2D((2,2))(conv3)\n",
    "    pool3 = Dropout(DropoutRatio)(pool3)\n",
    "    \n",
    "    # 12 -> 6\n",
    "    conv4 = Conv2D(start_neurons*8, (3,3), activation=None, padding='same')(pool3)\n",
    "    conv4 = residual_block(conv4, start_neurons*8)\n",
    "    conv4 = residual_block(conv4, start_neurons*8, True)\n",
    "    pool4 = MaxPooling2D((2,2))(conv4)\n",
    "    pool4 = Dropout(DropoutRatio)(pool4)\n",
    "    \n",
    "    # Middle\n",
    "    convm = Conv2D(start_neurons*16, (3,3), activation=None, padding='same')(pool4)\n",
    "    convm = residual_block(convm, start_neurons*16)\n",
    "    convm = residual_block(convm, start_neurons*16, True)\n",
    "    \n",
    "    # 6 -> 12\n",
    "    deconv4 = Conv2DTranspose(start_neurons*8, (3,3), strides=(2,2), padding='same')(convm)\n",
    "    uconv4 = concatenate([deconv4, conv4])\n",
    "    uconv4 = Dropout(DropoutRatio)(uconv4)\n",
    "    \n",
    "    uconv4 = Conv2D(start_neurons*8, (3,3), activation=None, padding='same')(uconv4)\n",
    "    uconv4 = residual_block(uconv4, start_neurons*8)\n",
    "    uconv4 = residual_block(uconv4, start_neurons*8, True)\n",
    "    \n",
    "    # 12 -> 25\n",
    "    deconv3 = Conv2DTranspose(start_neurons*4, (3,3), strides=(2,2), padding='valid')(uconv4)\n",
    "    uconv3 = concatenate([deconv3, conv3])\n",
    "    uconv3 = Dropout(DropoutRatio)(uconv3)\n",
    "    \n",
    "    uconv3 = Conv2D(start_neurons*4, (3,3), activation=None, padding='same')(uconv3)\n",
    "    uconv3 = residual_block(uconv3, start_neurons*4)\n",
    "    uconv3 = residual_block(uconv3, start_neurons*4, True)\n",
    "    \n",
    "    # 25 -> 50\n",
    "    deconv2 = Conv2DTranspose(start_neurons*2, (3,3), strides=(2,2), padding='same')(uconv3)\n",
    "    uconv2 = concatenate([deconv2, conv2])\n",
    "    uconv2 = Dropout(DropoutRatio)(uconv2)\n",
    "    \n",
    "    uconv2 = Conv2D(start_neurons*2, (3,3), activation=None, padding='same')(uconv2)\n",
    "    uconv2 = residual_block(uconv2, start_neurons*2)\n",
    "    uconv2 = residual_block(uconv2, start_neurons*2, True)\n",
    "    \n",
    "    # 50 -> 101\n",
    "    deconv1 = Conv2DTranspose(start_neurons*1, (3,3), strides=(2,2), padding='valid')(uconv2)\n",
    "    uconv1 = concatenate([deconv1, conv1])\n",
    "    uconv1 = Dropout(DropoutRatio)(uconv1)\n",
    "    \n",
    "    uconv1 = Conv2D(start_neurons*1, (3,3), activation=None, padding='same')(uconv1)\n",
    "    uconv1 = residual_block(uconv1, start_neurons*1)\n",
    "    uconv1 = residual_block(uconv1, start_neurons*1, True)\n",
    "    \n",
    "    output_layer_noActi = Conv2D(1, (1,1), padding='same', activation=None)(uconv1)\n",
    "    output_layer = Activation('sigmoid')(output_layer_noActi)\n",
    "    \n",
    "    return output_layer"
   ]
  },
  {
   "cell_type": "markdown",
   "metadata": {
    "heading_collapsed": true
   },
   "source": [
    "# Metric Loss"
   ]
  },
  {
   "cell_type": "code",
   "execution_count": 47,
   "metadata": {
    "_uuid": "e4ee11d11d6a42da26b699cbf9ce5f005de91968",
    "hidden": true
   },
   "outputs": [],
   "source": [
    "def get_iou_vector(A, B):\n",
    "    batch_size = A.shape[0]\n",
    "    metric = []\n",
    "    for batch in range(batch_size):\n",
    "        t, p = A[batch]>0, B[batch]>0\n",
    "        intersection = np.logical_and(t, p)\n",
    "        union = np.logical_or(t, p)\n",
    "        iou = (np.sum(intersection > 0) + 1e-10 )/ (np.sum(union > 0) + 1e-10)\n",
    "        thresholds = np.arange(0.5, 1, 0.05)\n",
    "        s = []\n",
    "        for thresh in thresholds:\n",
    "            s.append(iou > thresh)\n",
    "        metric.append(np.mean(s))\n",
    "        \n",
    "    return np.mean(metric)\n",
    "\n",
    "def my_iou_metric(label, pred):\n",
    "    return tf.py_func(get_iou_vector, [label, pred>0.5], tf.float64)\n",
    "\n",
    "def my_iou_metric_2(label, pred):\n",
    "    return tf.py_func(get_iou_vector, [label, pred >0], tf.float64)"
   ]
  },
  {
   "cell_type": "code",
   "execution_count": 48,
   "metadata": {
    "_uuid": "72fdacfe6a31500522f7d4c6ba858120b93bc39d",
    "hidden": true
   },
   "outputs": [],
   "source": [
    "# code download from: https://github.com/bermanmaxim/LovaszSoftmax\n",
    "def lovasz_grad(gt_sorted):\n",
    "    \"\"\"\n",
    "    Computes gradient of the Lovasz extension w.r.t sorted errors\n",
    "    See Alg. 1 in paper\n",
    "    \"\"\"\n",
    "    gts = tf.reduce_sum(gt_sorted)\n",
    "    intersection = gts - tf.cumsum(gt_sorted)\n",
    "    union = gts + tf.cumsum(1. - gt_sorted)\n",
    "    jaccard = 1. - intersection / union\n",
    "    jaccard = tf.concat((jaccard[0:1], jaccard[1:] - jaccard[:-1]), 0)\n",
    "    return jaccard\n",
    "\n",
    "# --------------------------- BINARY LOSSES ---------------------------\n",
    "\n",
    "def lovasz_hinge(logits, labels, per_image=True, ignore=None):\n",
    "    \"\"\"\n",
    "    Binary Lovasz hinge loss\n",
    "      logits: [B, H, W] Variable, logits at each pixel (between -\\infty and +\\infty)\n",
    "      labels: [B, H, W] Tensor, binary ground truth masks (0 or 1)\n",
    "      per_image: compute the loss per image instead of per batch\n",
    "      ignore: void class id\n",
    "    \"\"\"\n",
    "    if per_image:\n",
    "        def treat_image(log_lab):\n",
    "            log, lab = log_lab\n",
    "            log, lab = tf.expand_dims(log, 0), tf.expand_dims(lab, 0)\n",
    "            log, lab = flatten_binary_scores(log, lab, ignore)\n",
    "            return lovasz_hinge_flat(log, lab)\n",
    "        losses = tf.map_fn(treat_image, (logits, labels), dtype=tf.float32)\n",
    "        loss = tf.reduce_mean(losses)\n",
    "    else:\n",
    "        loss = lovasz_hinge_flat(*flatten_binary_scores(logits, labels, ignore))\n",
    "    return loss\n",
    "\n",
    "def lovasz_hinge_flat(logits, labels):\n",
    "    \"\"\"\n",
    "    Binary Lovasz hinge loss\n",
    "      logits: [P] Variable, logits at each prediction (between -\\infty and +\\infty)\n",
    "      labels: [P] Tensor, binary ground truth labels (0 or 1)\n",
    "      ignore: label to ignore\n",
    "    \"\"\"\n",
    "\n",
    "    def compute_loss():\n",
    "        labelsf = tf.cast(labels, logits.dtype)\n",
    "        signs = 2. * labelsf - 1.\n",
    "        errors = 1. - logits * tf.stop_gradient(signs)\n",
    "        errors_sorted, perm = tf.nn.top_k(errors, k=tf.shape(errors)[0], name=\"descending_sort\")\n",
    "        gt_sorted = tf.gather(labelsf, perm)\n",
    "        grad = lovasz_grad(gt_sorted)\n",
    "        loss = tf.tensordot(tf.nn.elu(errors_sorted), tf.stop_gradient(grad), 1, name=\"loss_non_void\")\n",
    "        return loss\n",
    "\n",
    "    # deal with the void prediction case (only void pixels)\n",
    "    loss = tf.cond(tf.equal(tf.shape(logits)[0], 0),\n",
    "                   lambda: tf.reduce_sum(logits) * 0.,\n",
    "                   compute_loss,\n",
    "                   strict=True,\n",
    "                   name=\"loss\"\n",
    "                   )\n",
    "    return loss\n",
    "\n",
    "\n",
    "def flatten_binary_scores(scores, labels, ignore=None):\n",
    "    \"\"\"\n",
    "    Flattens predictions in the batch (binary case)\n",
    "    Remove labels equal to 'ignore'\n",
    "    \"\"\"\n",
    "    scores = tf.reshape(scores, (-1,))\n",
    "    labels = tf.reshape(labels, (-1,))\n",
    "    if ignore is None:\n",
    "        return scores, labels\n",
    "    valid = tf.not_equal(labels, ignore)\n",
    "    vscores = tf.boolean_mask(scores, valid, name='valid_scores')\n",
    "    vlabels = tf.boolean_mask(labels, valid, name='valid_labels')\n",
    "    return vscores, vlabels\n",
    "\n",
    "def lovasz_loss(y_true, y_pred):\n",
    "    y_true, y_pred = K.cast(K.squeeze(y_true, -1), 'int32'), K.cast(K.squeeze(y_pred, -1), 'float32')\n",
    "    #logits = K.log(y_pred / (1. - y_pred))\n",
    "    logits = y_pred #Jiaxin\n",
    "    loss = lovasz_hinge(logits, y_true, per_image = True, ignore = None)\n",
    "    return loss"
   ]
  },
  {
   "cell_type": "markdown",
   "metadata": {},
   "source": [
    "# Build Model"
   ]
  },
  {
   "cell_type": "code",
   "execution_count": 49,
   "metadata": {
    "_uuid": "a58d48a4974b7381a193615e54a828a211c92308"
   },
   "outputs": [],
   "source": [
    "input_layer = Input((img_size_target, img_size_target, 1))\n",
    "output_layer = build_model(input_layer, 16, 0.5)\n",
    "\n",
    "model1 = Model(input_layer, output_layer)"
   ]
  },
  {
   "cell_type": "code",
   "execution_count": 50,
   "metadata": {
    "_uuid": "a58d48a4974b7381a193615e54a828a211c92308"
   },
   "outputs": [],
   "source": [
    "epochs = 300\n",
    "batch_size = 64\n",
    "c = optimizers.Adam(lr=0.001)\n",
    "\n",
    "model1.compile(loss=\"binary_crossentropy\", optimizer=c, metrics=[my_iou_metric])\n",
    "\n",
    "# model1.summary()"
   ]
  },
  {
   "cell_type": "code",
   "execution_count": 51,
   "metadata": {
    "_uuid": "bd402f81e3d8e0aad30b7c63836cb9d488105cef"
   },
   "outputs": [],
   "source": [
    "early_stopping = EarlyStopping(monitor='val_my_iou_metric', mode='max', patience=21, verbose=1)\n",
    "model_checkpoint = ModelCheckpoint(save_model_name, monitor='val_my_iou_metric', mode='max', save_best_only=True, verbose=1)\n",
    "reduce_lr = ReduceLROnPlateau(monitor='val_my_iou_metric', mode='max', factor=0.5, patience=7, min_lr=0.00001, verbose=1)"
   ]
  },
  {
   "cell_type": "code",
   "execution_count": 52,
   "metadata": {
    "_uuid": "bd402f81e3d8e0aad30b7c63836cb9d488105cef",
    "scrolled": true
   },
   "outputs": [
    {
     "name": "stdout",
     "output_type": "stream",
     "text": [
      "Train on 6330 samples, validate on 804 samples\n",
      "Epoch 1/300\n",
      " - 86s - loss: 0.4365 - my_iou_metric: 0.3576 - val_loss: 0.6862 - val_my_iou_metric: 0.3188\n",
      "\n",
      "Epoch 00001: val_my_iou_metric improved from -inf to 0.31878, saving model to unet_v2_5A_cv0.model\n",
      "Epoch 2/300\n",
      " - 71s - loss: 0.2956 - my_iou_metric: 0.5576 - val_loss: 0.5729 - val_my_iou_metric: 0.2705\n",
      "\n",
      "Epoch 00002: val_my_iou_metric did not improve from 0.31878\n",
      "Epoch 3/300\n",
      " - 71s - loss: 0.2642 - my_iou_metric: 0.5587 - val_loss: 0.7958 - val_my_iou_metric: 0.3570\n",
      "\n",
      "Epoch 00003: val_my_iou_metric improved from 0.31878 to 0.35697, saving model to unet_v2_5A_cv0.model\n",
      "Epoch 4/300\n",
      " - 71s - loss: 0.2355 - my_iou_metric: 0.5763 - val_loss: 0.4346 - val_my_iou_metric: 0.4285\n",
      "\n",
      "Epoch 00004: val_my_iou_metric improved from 0.35697 to 0.42848, saving model to unet_v2_5A_cv0.model\n",
      "Epoch 5/300\n",
      " - 71s - loss: 0.2162 - my_iou_metric: 0.5935 - val_loss: 0.2265 - val_my_iou_metric: 0.5095\n",
      "\n",
      "Epoch 00005: val_my_iou_metric improved from 0.42848 to 0.50945, saving model to unet_v2_5A_cv0.model\n",
      "Epoch 6/300\n",
      " - 71s - loss: 0.2110 - my_iou_metric: 0.6125 - val_loss: 0.2713 - val_my_iou_metric: 0.4637\n",
      "\n",
      "Epoch 00006: val_my_iou_metric did not improve from 0.50945\n",
      "Epoch 7/300\n",
      " - 71s - loss: 0.1927 - my_iou_metric: 0.6383 - val_loss: 0.2414 - val_my_iou_metric: 0.5597\n",
      "\n",
      "Epoch 00007: val_my_iou_metric improved from 0.50945 to 0.55970, saving model to unet_v2_5A_cv0.model\n",
      "Epoch 8/300\n",
      " - 71s - loss: 0.1882 - my_iou_metric: 0.6415 - val_loss: 0.2583 - val_my_iou_metric: 0.4692\n",
      "\n",
      "Epoch 00008: val_my_iou_metric did not improve from 0.55970\n",
      "Epoch 9/300\n",
      " - 71s - loss: 0.1825 - my_iou_metric: 0.6511 - val_loss: 0.2995 - val_my_iou_metric: 0.5591\n",
      "\n",
      "Epoch 00009: val_my_iou_metric did not improve from 0.55970\n",
      "Epoch 10/300\n",
      " - 71s - loss: 0.1817 - my_iou_metric: 0.6555 - val_loss: 0.4644 - val_my_iou_metric: 0.5789\n",
      "\n",
      "Epoch 00010: val_my_iou_metric improved from 0.55970 to 0.57886, saving model to unet_v2_5A_cv0.model\n",
      "Epoch 11/300\n",
      " - 71s - loss: 0.1793 - my_iou_metric: 0.6611 - val_loss: 0.1873 - val_my_iou_metric: 0.6236\n",
      "\n",
      "Epoch 00011: val_my_iou_metric improved from 0.57886 to 0.62363, saving model to unet_v2_5A_cv0.model\n",
      "Epoch 12/300\n",
      " - 71s - loss: 0.1671 - my_iou_metric: 0.6769 - val_loss: 0.1553 - val_my_iou_metric: 0.7219\n",
      "\n",
      "Epoch 00012: val_my_iou_metric improved from 0.62363 to 0.72189, saving model to unet_v2_5A_cv0.model\n",
      "Epoch 13/300\n",
      " - 71s - loss: 0.1591 - my_iou_metric: 0.6852 - val_loss: 0.2239 - val_my_iou_metric: 0.6333\n",
      "\n",
      "Epoch 00013: val_my_iou_metric did not improve from 0.72189\n",
      "Epoch 14/300\n",
      " - 71s - loss: 0.1561 - my_iou_metric: 0.6894 - val_loss: 0.1802 - val_my_iou_metric: 0.6557\n",
      "\n",
      "Epoch 00014: val_my_iou_metric did not improve from 0.72189\n",
      "Epoch 15/300\n",
      " - 71s - loss: 0.1582 - my_iou_metric: 0.6919 - val_loss: 0.2181 - val_my_iou_metric: 0.6279\n",
      "\n",
      "Epoch 00015: val_my_iou_metric did not improve from 0.72189\n",
      "Epoch 16/300\n",
      " - 71s - loss: 0.1458 - my_iou_metric: 0.7100 - val_loss: 0.2049 - val_my_iou_metric: 0.5961\n",
      "\n",
      "Epoch 00016: val_my_iou_metric did not improve from 0.72189\n",
      "Epoch 17/300\n",
      " - 72s - loss: 0.1447 - my_iou_metric: 0.7100 - val_loss: 0.1808 - val_my_iou_metric: 0.6418\n",
      "\n",
      "Epoch 00017: val_my_iou_metric did not improve from 0.72189\n",
      "Epoch 18/300\n",
      " - 71s - loss: 0.1489 - my_iou_metric: 0.7027 - val_loss: 0.2149 - val_my_iou_metric: 0.6128\n",
      "\n",
      "Epoch 00018: val_my_iou_metric did not improve from 0.72189\n",
      "Epoch 19/300\n",
      " - 71s - loss: 0.1421 - my_iou_metric: 0.7159 - val_loss: 0.1597 - val_my_iou_metric: 0.6342\n",
      "\n",
      "Epoch 00019: val_my_iou_metric did not improve from 0.72189\n",
      "\n",
      "Epoch 00019: ReduceLROnPlateau reducing learning rate to 0.0005000000237487257.\n",
      "Epoch 20/300\n",
      " - 72s - loss: 0.1236 - my_iou_metric: 0.7371 - val_loss: 0.1335 - val_my_iou_metric: 0.7287\n",
      "\n",
      "Epoch 00020: val_my_iou_metric improved from 0.72189 to 0.72873, saving model to unet_v2_5A_cv0.model\n",
      "Epoch 21/300\n",
      " - 72s - loss: 0.1211 - my_iou_metric: 0.7442 - val_loss: 0.1449 - val_my_iou_metric: 0.7128\n",
      "\n",
      "Epoch 00021: val_my_iou_metric did not improve from 0.72873\n",
      "Epoch 22/300\n",
      " - 71s - loss: 0.1212 - my_iou_metric: 0.7383 - val_loss: 0.1773 - val_my_iou_metric: 0.6796\n",
      "\n",
      "Epoch 00022: val_my_iou_metric did not improve from 0.72873\n",
      "Epoch 23/300\n",
      " - 71s - loss: 0.1152 - my_iou_metric: 0.7501 - val_loss: 0.1280 - val_my_iou_metric: 0.7433\n",
      "\n",
      "Epoch 00023: val_my_iou_metric improved from 0.72873 to 0.74328, saving model to unet_v2_5A_cv0.model\n",
      "Epoch 24/300\n",
      " - 71s - loss: 0.1142 - my_iou_metric: 0.7531 - val_loss: 0.1449 - val_my_iou_metric: 0.7236\n",
      "\n",
      "Epoch 00024: val_my_iou_metric did not improve from 0.74328\n",
      "Epoch 25/300\n",
      " - 71s - loss: 0.1144 - my_iou_metric: 0.7493 - val_loss: 0.1329 - val_my_iou_metric: 0.7382\n",
      "\n",
      "Epoch 00025: val_my_iou_metric did not improve from 0.74328\n",
      "Epoch 26/300\n",
      " - 71s - loss: 0.1098 - my_iou_metric: 0.7519 - val_loss: 0.1377 - val_my_iou_metric: 0.7225\n",
      "\n",
      "Epoch 00026: val_my_iou_metric did not improve from 0.74328\n",
      "Epoch 27/300\n",
      " - 71s - loss: 0.1087 - my_iou_metric: 0.7545 - val_loss: 0.1270 - val_my_iou_metric: 0.7330\n",
      "\n",
      "Epoch 00027: val_my_iou_metric did not improve from 0.74328\n",
      "Epoch 28/300\n",
      " - 71s - loss: 0.1085 - my_iou_metric: 0.7554 - val_loss: 0.1347 - val_my_iou_metric: 0.7417\n",
      "\n",
      "Epoch 00028: val_my_iou_metric did not improve from 0.74328\n",
      "Epoch 29/300\n",
      " - 71s - loss: 0.1087 - my_iou_metric: 0.7500 - val_loss: 0.1386 - val_my_iou_metric: 0.7454\n",
      "\n",
      "Epoch 00029: val_my_iou_metric improved from 0.74328 to 0.74540, saving model to unet_v2_5A_cv0.model\n",
      "Epoch 30/300\n",
      " - 71s - loss: 0.1054 - my_iou_metric: 0.7588 - val_loss: 0.1582 - val_my_iou_metric: 0.7213\n",
      "\n",
      "Epoch 00030: val_my_iou_metric did not improve from 0.74540\n",
      "Epoch 31/300\n",
      " - 71s - loss: 0.1047 - my_iou_metric: 0.7657 - val_loss: 0.1220 - val_my_iou_metric: 0.7427\n",
      "\n",
      "Epoch 00031: val_my_iou_metric did not improve from 0.74540\n",
      "Epoch 32/300\n",
      " - 72s - loss: 0.1046 - my_iou_metric: 0.7628 - val_loss: 0.1562 - val_my_iou_metric: 0.7414\n",
      "\n",
      "Epoch 00032: val_my_iou_metric did not improve from 0.74540\n",
      "Epoch 33/300\n",
      " - 72s - loss: 0.1001 - my_iou_metric: 0.7671 - val_loss: 0.1273 - val_my_iou_metric: 0.7560\n",
      "\n",
      "Epoch 00033: val_my_iou_metric improved from 0.74540 to 0.75597, saving model to unet_v2_5A_cv0.model\n",
      "Epoch 34/300\n",
      " - 72s - loss: 0.0981 - my_iou_metric: 0.7675 - val_loss: 0.1327 - val_my_iou_metric: 0.7515\n",
      "\n",
      "Epoch 00034: val_my_iou_metric did not improve from 0.75597\n",
      "Epoch 35/300\n",
      " - 71s - loss: 0.0964 - my_iou_metric: 0.7697 - val_loss: 0.1348 - val_my_iou_metric: 0.7493\n",
      "\n",
      "Epoch 00035: val_my_iou_metric did not improve from 0.75597\n",
      "Epoch 36/300\n",
      " - 72s - loss: 0.0986 - my_iou_metric: 0.7687 - val_loss: 0.1223 - val_my_iou_metric: 0.7709\n",
      "\n",
      "Epoch 00036: val_my_iou_metric improved from 0.75597 to 0.77090, saving model to unet_v2_5A_cv0.model\n",
      "Epoch 37/300\n",
      " - 72s - loss: 0.0932 - my_iou_metric: 0.7779 - val_loss: 0.1227 - val_my_iou_metric: 0.7531\n",
      "\n",
      "Epoch 00037: val_my_iou_metric did not improve from 0.77090\n",
      "Epoch 38/300\n",
      " - 72s - loss: 0.0924 - my_iou_metric: 0.7792 - val_loss: 0.1411 - val_my_iou_metric: 0.7291\n",
      "\n",
      "Epoch 00038: val_my_iou_metric did not improve from 0.77090\n",
      "Epoch 39/300\n",
      " - 71s - loss: 0.0923 - my_iou_metric: 0.7715 - val_loss: 0.1303 - val_my_iou_metric: 0.7507\n",
      "\n",
      "Epoch 00039: val_my_iou_metric did not improve from 0.77090\n",
      "Epoch 40/300\n",
      " - 72s - loss: 0.1036 - my_iou_metric: 0.7681 - val_loss: 0.1442 - val_my_iou_metric: 0.7351\n",
      "\n",
      "Epoch 00040: val_my_iou_metric did not improve from 0.77090\n",
      "Epoch 41/300\n",
      " - 72s - loss: 0.0927 - my_iou_metric: 0.7718 - val_loss: 0.1336 - val_my_iou_metric: 0.7366\n",
      "\n",
      "Epoch 00041: val_my_iou_metric did not improve from 0.77090\n",
      "Epoch 42/300\n",
      " - 72s - loss: 0.0920 - my_iou_metric: 0.7744 - val_loss: 0.1627 - val_my_iou_metric: 0.7336\n",
      "\n",
      "Epoch 00042: val_my_iou_metric did not improve from 0.77090\n",
      "Epoch 43/300\n",
      " - 71s - loss: 0.0892 - my_iou_metric: 0.7812 - val_loss: 0.1393 - val_my_iou_metric: 0.7444\n",
      "\n",
      "Epoch 00043: val_my_iou_metric did not improve from 0.77090\n",
      "\n",
      "Epoch 00043: ReduceLROnPlateau reducing learning rate to 0.0002500000118743628.\n",
      "Epoch 44/300\n",
      " - 71s - loss: 0.0831 - my_iou_metric: 0.7888 - val_loss: 0.1091 - val_my_iou_metric: 0.7673\n",
      "\n",
      "Epoch 00044: val_my_iou_metric did not improve from 0.77090\n",
      "Epoch 45/300\n",
      " - 71s - loss: 0.0751 - my_iou_metric: 0.7941 - val_loss: 0.1182 - val_my_iou_metric: 0.7705\n"
     ]
    },
    {
     "name": "stdout",
     "output_type": "stream",
     "text": [
      "\n",
      "Epoch 00045: val_my_iou_metric did not improve from 0.77090\n",
      "Epoch 46/300\n",
      " - 71s - loss: 0.0744 - my_iou_metric: 0.7977 - val_loss: 0.1222 - val_my_iou_metric: 0.7689\n",
      "\n",
      "Epoch 00046: val_my_iou_metric did not improve from 0.77090\n",
      "Epoch 47/300\n",
      " - 72s - loss: 0.0770 - my_iou_metric: 0.7969 - val_loss: 0.1254 - val_my_iou_metric: 0.7637\n",
      "\n",
      "Epoch 00047: val_my_iou_metric did not improve from 0.77090\n",
      "Epoch 48/300\n",
      " - 71s - loss: 0.0753 - my_iou_metric: 0.7953 - val_loss: 0.1208 - val_my_iou_metric: 0.7709\n",
      "\n",
      "Epoch 00048: val_my_iou_metric did not improve from 0.77090\n",
      "Epoch 49/300\n",
      " - 71s - loss: 0.0704 - my_iou_metric: 0.8006 - val_loss: 0.1267 - val_my_iou_metric: 0.7679\n",
      "\n",
      "Epoch 00049: val_my_iou_metric did not improve from 0.77090\n",
      "Epoch 50/300\n",
      " - 71s - loss: 0.0735 - my_iou_metric: 0.8037 - val_loss: 0.1280 - val_my_iou_metric: 0.7662\n",
      "\n",
      "Epoch 00050: val_my_iou_metric did not improve from 0.77090\n",
      "\n",
      "Epoch 00050: ReduceLROnPlateau reducing learning rate to 0.0001250000059371814.\n",
      "Epoch 51/300\n",
      " - 71s - loss: 0.0681 - my_iou_metric: 0.8100 - val_loss: 0.1222 - val_my_iou_metric: 0.7700\n",
      "\n",
      "Epoch 00051: val_my_iou_metric did not improve from 0.77090\n",
      "Epoch 52/300\n",
      " - 71s - loss: 0.0665 - my_iou_metric: 0.8068 - val_loss: 0.1217 - val_my_iou_metric: 0.7698\n",
      "\n",
      "Epoch 00052: val_my_iou_metric did not improve from 0.77090\n",
      "Epoch 53/300\n",
      " - 72s - loss: 0.0658 - my_iou_metric: 0.8140 - val_loss: 0.1262 - val_my_iou_metric: 0.7701\n",
      "\n",
      "Epoch 00053: val_my_iou_metric did not improve from 0.77090\n",
      "Epoch 54/300\n",
      " - 72s - loss: 0.0648 - my_iou_metric: 0.8142 - val_loss: 0.1242 - val_my_iou_metric: 0.7668\n",
      "\n",
      "Epoch 00054: val_my_iou_metric did not improve from 0.77090\n",
      "Epoch 55/300\n",
      " - 71s - loss: 0.0679 - my_iou_metric: 0.8074 - val_loss: 0.1359 - val_my_iou_metric: 0.7631\n",
      "\n",
      "Epoch 00055: val_my_iou_metric did not improve from 0.77090\n",
      "Epoch 56/300\n",
      " - 71s - loss: 0.0653 - my_iou_metric: 0.8122 - val_loss: 0.1356 - val_my_iou_metric: 0.7720\n",
      "\n",
      "Epoch 00056: val_my_iou_metric improved from 0.77090 to 0.77201, saving model to unet_v2_5A_cv0.model\n",
      "Epoch 57/300\n",
      " - 71s - loss: 0.0654 - my_iou_metric: 0.8098 - val_loss: 0.1201 - val_my_iou_metric: 0.7697\n",
      "\n",
      "Epoch 00057: val_my_iou_metric did not improve from 0.77201\n",
      "Epoch 58/300\n",
      " - 72s - loss: 0.0650 - my_iou_metric: 0.8107 - val_loss: 0.1278 - val_my_iou_metric: 0.7735\n",
      "\n",
      "Epoch 00058: val_my_iou_metric improved from 0.77201 to 0.77351, saving model to unet_v2_5A_cv0.model\n",
      "Epoch 59/300\n",
      " - 72s - loss: 0.0642 - my_iou_metric: 0.8152 - val_loss: 0.1230 - val_my_iou_metric: 0.7724\n",
      "\n",
      "Epoch 00059: val_my_iou_metric did not improve from 0.77351\n",
      "Epoch 60/300\n",
      " - 71s - loss: 0.0617 - my_iou_metric: 0.8099 - val_loss: 0.1269 - val_my_iou_metric: 0.7705\n",
      "\n",
      "Epoch 00060: val_my_iou_metric did not improve from 0.77351\n",
      "Epoch 61/300\n",
      " - 71s - loss: 0.0627 - my_iou_metric: 0.8151 - val_loss: 0.1213 - val_my_iou_metric: 0.7744\n",
      "\n",
      "Epoch 00061: val_my_iou_metric improved from 0.77351 to 0.77438, saving model to unet_v2_5A_cv0.model\n",
      "Epoch 62/300\n",
      " - 71s - loss: 0.0634 - my_iou_metric: 0.8118 - val_loss: 0.1272 - val_my_iou_metric: 0.7745\n",
      "\n",
      "Epoch 00062: val_my_iou_metric improved from 0.77438 to 0.77450, saving model to unet_v2_5A_cv0.model\n",
      "Epoch 63/300\n",
      " - 71s - loss: 0.0611 - my_iou_metric: 0.8088 - val_loss: 0.1297 - val_my_iou_metric: 0.7629\n",
      "\n",
      "Epoch 00063: val_my_iou_metric did not improve from 0.77450\n",
      "Epoch 64/300\n",
      " - 72s - loss: 0.0620 - my_iou_metric: 0.8123 - val_loss: 0.1350 - val_my_iou_metric: 0.7637\n",
      "\n",
      "Epoch 00064: val_my_iou_metric did not improve from 0.77450\n",
      "Epoch 65/300\n",
      " - 71s - loss: 0.0645 - my_iou_metric: 0.8089 - val_loss: 0.1313 - val_my_iou_metric: 0.7690\n",
      "\n",
      "Epoch 00065: val_my_iou_metric did not improve from 0.77450\n",
      "Epoch 66/300\n",
      " - 71s - loss: 0.0620 - my_iou_metric: 0.8109 - val_loss: 0.1397 - val_my_iou_metric: 0.7572\n",
      "\n",
      "Epoch 00066: val_my_iou_metric did not improve from 0.77450\n",
      "Epoch 67/300\n",
      " - 72s - loss: 0.0601 - my_iou_metric: 0.8137 - val_loss: 0.1321 - val_my_iou_metric: 0.7670\n",
      "\n",
      "Epoch 00067: val_my_iou_metric did not improve from 0.77450\n",
      "Epoch 68/300\n",
      " - 71s - loss: 0.0597 - my_iou_metric: 0.8167 - val_loss: 0.1309 - val_my_iou_metric: 0.7719\n",
      "\n",
      "Epoch 00068: val_my_iou_metric did not improve from 0.77450\n",
      "Epoch 69/300\n",
      " - 72s - loss: 0.0603 - my_iou_metric: 0.8102 - val_loss: 0.1357 - val_my_iou_metric: 0.7756\n",
      "\n",
      "Epoch 00069: val_my_iou_metric improved from 0.77450 to 0.77562, saving model to unet_v2_5A_cv0.model\n",
      "Epoch 70/300\n",
      " - 71s - loss: 0.0597 - my_iou_metric: 0.8181 - val_loss: 0.1269 - val_my_iou_metric: 0.7770\n",
      "\n",
      "Epoch 00070: val_my_iou_metric improved from 0.77562 to 0.77699, saving model to unet_v2_5A_cv0.model\n",
      "Epoch 71/300\n",
      " - 72s - loss: 0.0589 - my_iou_metric: 0.8177 - val_loss: 0.1275 - val_my_iou_metric: 0.7745\n",
      "\n",
      "Epoch 00071: val_my_iou_metric did not improve from 0.77699\n",
      "Epoch 72/300\n",
      " - 72s - loss: 0.0567 - my_iou_metric: 0.8190 - val_loss: 0.1365 - val_my_iou_metric: 0.7684\n",
      "\n",
      "Epoch 00072: val_my_iou_metric did not improve from 0.77699\n",
      "Epoch 73/300\n",
      " - 72s - loss: 0.0550 - my_iou_metric: 0.8189 - val_loss: 0.1327 - val_my_iou_metric: 0.7754\n",
      "\n",
      "Epoch 00073: val_my_iou_metric did not improve from 0.77699\n",
      "Epoch 74/300\n",
      " - 71s - loss: 0.0593 - my_iou_metric: 0.8161 - val_loss: 0.1335 - val_my_iou_metric: 0.7649\n",
      "\n",
      "Epoch 00074: val_my_iou_metric did not improve from 0.77699\n",
      "Epoch 75/300\n",
      " - 71s - loss: 0.0584 - my_iou_metric: 0.8152 - val_loss: 0.1346 - val_my_iou_metric: 0.7845\n",
      "\n",
      "Epoch 00075: val_my_iou_metric improved from 0.77699 to 0.78445, saving model to unet_v2_5A_cv0.model\n",
      "Epoch 76/300\n",
      " - 71s - loss: 0.0579 - my_iou_metric: 0.8175 - val_loss: 0.1256 - val_my_iou_metric: 0.7698\n",
      "\n",
      "Epoch 00076: val_my_iou_metric did not improve from 0.78445\n",
      "Epoch 77/300\n",
      " - 71s - loss: 0.0572 - my_iou_metric: 0.8182 - val_loss: 0.1264 - val_my_iou_metric: 0.7769\n",
      "\n",
      "Epoch 00077: val_my_iou_metric did not improve from 0.78445\n",
      "Epoch 78/300\n",
      " - 71s - loss: 0.0595 - my_iou_metric: 0.8176 - val_loss: 0.1344 - val_my_iou_metric: 0.7690\n",
      "\n",
      "Epoch 00078: val_my_iou_metric did not improve from 0.78445\n",
      "Epoch 79/300\n",
      " - 71s - loss: 0.0570 - my_iou_metric: 0.8208 - val_loss: 0.1268 - val_my_iou_metric: 0.7736\n",
      "\n",
      "Epoch 00079: val_my_iou_metric did not improve from 0.78445\n",
      "Epoch 80/300\n",
      " - 71s - loss: 0.0547 - my_iou_metric: 0.8197 - val_loss: 0.1191 - val_my_iou_metric: 0.7797\n",
      "\n",
      "Epoch 00080: val_my_iou_metric did not improve from 0.78445\n",
      "Epoch 81/300\n",
      " - 71s - loss: 0.0578 - my_iou_metric: 0.8162 - val_loss: 0.1219 - val_my_iou_metric: 0.7689\n",
      "\n",
      "Epoch 00081: val_my_iou_metric did not improve from 0.78445\n",
      "Epoch 82/300\n",
      " - 72s - loss: 0.0541 - my_iou_metric: 0.8189 - val_loss: 0.1391 - val_my_iou_metric: 0.7692\n",
      "\n",
      "Epoch 00082: val_my_iou_metric did not improve from 0.78445\n",
      "\n",
      "Epoch 00082: ReduceLROnPlateau reducing learning rate to 6.25000029685907e-05.\n",
      "Epoch 83/300\n",
      " - 71s - loss: 0.0547 - my_iou_metric: 0.8219 - val_loss: 0.1250 - val_my_iou_metric: 0.7719\n",
      "\n",
      "Epoch 00083: val_my_iou_metric did not improve from 0.78445\n",
      "Epoch 84/300\n",
      " - 71s - loss: 0.0550 - my_iou_metric: 0.8180 - val_loss: 0.1277 - val_my_iou_metric: 0.7761\n",
      "\n",
      "Epoch 00084: val_my_iou_metric did not improve from 0.78445\n",
      "Epoch 85/300\n",
      " - 71s - loss: 0.0529 - my_iou_metric: 0.8205 - val_loss: 0.1340 - val_my_iou_metric: 0.7611\n",
      "\n",
      "Epoch 00085: val_my_iou_metric did not improve from 0.78445\n",
      "Epoch 86/300\n",
      " - 71s - loss: 0.0529 - my_iou_metric: 0.8218 - val_loss: 0.1209 - val_my_iou_metric: 0.7756\n",
      "\n",
      "Epoch 00086: val_my_iou_metric did not improve from 0.78445\n",
      "Epoch 87/300\n",
      " - 71s - loss: 0.0540 - my_iou_metric: 0.8230 - val_loss: 0.1190 - val_my_iou_metric: 0.7746\n",
      "\n",
      "Epoch 00087: val_my_iou_metric did not improve from 0.78445\n",
      "Epoch 88/300\n",
      " - 71s - loss: 0.0514 - my_iou_metric: 0.8233 - val_loss: 0.1199 - val_my_iou_metric: 0.7771\n",
      "\n",
      "Epoch 00088: val_my_iou_metric did not improve from 0.78445\n",
      "Epoch 89/300\n",
      " - 72s - loss: 0.0516 - my_iou_metric: 0.8254 - val_loss: 0.1252 - val_my_iou_metric: 0.7772\n",
      "\n",
      "Epoch 00089: val_my_iou_metric did not improve from 0.78445\n",
      "\n",
      "Epoch 00089: ReduceLROnPlateau reducing learning rate to 3.125000148429535e-05.\n",
      "Epoch 90/300\n",
      " - 72s - loss: 0.0500 - my_iou_metric: 0.8272 - val_loss: 0.1236 - val_my_iou_metric: 0.7775\n",
      "\n",
      "Epoch 00090: val_my_iou_metric did not improve from 0.78445\n",
      "Epoch 91/300\n",
      " - 71s - loss: 0.0520 - my_iou_metric: 0.8242 - val_loss: 0.1202 - val_my_iou_metric: 0.7806\n"
     ]
    },
    {
     "name": "stdout",
     "output_type": "stream",
     "text": [
      "\n",
      "Epoch 00091: val_my_iou_metric did not improve from 0.78445\n",
      "Epoch 92/300\n",
      " - 72s - loss: 0.0509 - my_iou_metric: 0.8258 - val_loss: 0.1258 - val_my_iou_metric: 0.7813\n",
      "\n",
      "Epoch 00092: val_my_iou_metric did not improve from 0.78445\n",
      "Epoch 93/300\n",
      " - 72s - loss: 0.0502 - my_iou_metric: 0.8285 - val_loss: 0.1227 - val_my_iou_metric: 0.7794\n",
      "\n",
      "Epoch 00093: val_my_iou_metric did not improve from 0.78445\n",
      "Epoch 94/300\n",
      " - 72s - loss: 0.0496 - my_iou_metric: 0.8262 - val_loss: 0.1226 - val_my_iou_metric: 0.7789\n",
      "\n",
      "Epoch 00094: val_my_iou_metric did not improve from 0.78445\n",
      "Epoch 95/300\n",
      " - 72s - loss: 0.0511 - my_iou_metric: 0.8255 - val_loss: 0.1223 - val_my_iou_metric: 0.7811\n",
      "\n",
      "Epoch 00095: val_my_iou_metric did not improve from 0.78445\n",
      "Epoch 96/300\n",
      " - 71s - loss: 0.0505 - my_iou_metric: 0.8278 - val_loss: 0.1202 - val_my_iou_metric: 0.7801\n",
      "\n",
      "Epoch 00096: val_my_iou_metric did not improve from 0.78445\n",
      "\n",
      "Epoch 00096: ReduceLROnPlateau reducing learning rate to 1.5625000742147677e-05.\n",
      "Epoch 00096: early stopping\n",
      "CPU times: user 1h 11min, sys: 26min 58s, total: 1h 37min 59s\n",
      "Wall time: 1h 54min 54s\n"
     ]
    }
   ],
   "source": [
    "%%time\n",
    "history = model1.fit(x_train, y_train,\n",
    "                     validation_data = [x_valid, y_valid], \n",
    "                     epochs = epochs, \n",
    "                     batch_size = batch_size, \n",
    "                     callbacks = [early_stopping, model_checkpoint, reduce_lr],\n",
    "                     verbose = 2)"
   ]
  },
  {
   "cell_type": "code",
   "execution_count": 53,
   "metadata": {},
   "outputs": [
    {
     "data": {
      "text/plain": [
       "<matplotlib.legend.Legend at 0x7fcbd0ba34a8>"
      ]
     },
     "execution_count": 53,
     "metadata": {},
     "output_type": "execute_result"
    },
    {
     "data": {
      "image/png": "[encoded data removed]",
      "text/plain": [
       "<Figure size 1080x360 with 2 Axes>"
      ]
     },
     "metadata": {
      "needs_background": "light"
     },
     "output_type": "display_data"
    }
   ],
   "source": [
    "fig, (ax_loss, ax_score) = plt.subplots(1, 2, figsize=(15,5))\n",
    "ax_loss.plot(history.epoch, history.history[\"loss\"], label=\"Train loss\")\n",
    "ax_loss.plot(history.epoch, history.history[\"val_loss\"], label=\"Validation loss\")\n",
    "ax_loss.legend()\n",
    "ax_score.plot(history.epoch, history.history[\"my_iou_metric\"], label=\"Train score\")\n",
    "ax_score.plot(history.epoch, history.history[\"val_my_iou_metric\"], label=\"Validation score\")\n",
    "ax_score.legend()"
   ]
  },
  {
   "cell_type": "markdown",
   "metadata": {},
   "source": [
    "# Remove activation layer and use lovasz loss"
   ]
  },
  {
   "cell_type": "code",
   "execution_count": 54,
   "metadata": {
    "_uuid": "52ba1ba40cac42145f499cff252eb73feff397d3"
   },
   "outputs": [],
   "source": [
    "model1 = load_model(save_model_name, custom_objects={'my_iou_metric':my_iou_metric})\n",
    "\n",
    "input_x = model1.layers[0].input\n",
    "output_layer = model1.layers[-1].input\n",
    "model = Model(input_x, output_layer)\n",
    "c = optimizers.adam(lr=0.0005)\n",
    "\n",
    "model.compile(loss=lovasz_loss, optimizer=c, metrics=[my_iou_metric_2])\n",
    "\n",
    "# model.summary()"
   ]
  },
  {
   "cell_type": "code",
   "execution_count": 61,
   "metadata": {
    "_uuid": "ec1e49fd425a02ab12dea6b99cf39de45c80199f"
   },
   "outputs": [],
   "source": [
    "early_stopping = EarlyStopping(monitor='val_my_iou_metric_2', mode='max', patience=21, verbose=1)\n",
    "model_checkpoint = ModelCheckpoint(save_model_nameB, monitor='val_my_iou_metric_2', mode='max', save_best_only=True, verbose=1)\n",
    "reduce_lr = ReduceLROnPlateau(monitor='val_my_iou_metric_2', mode='max',factor=0.5, patience=7, min_lr=0.00001, verbose=1)\n",
    "\n",
    "epochs = 200\n",
    "batch_size = 32"
   ]
  },
  {
   "cell_type": "code",
   "execution_count": 56,
   "metadata": {
    "_uuid": "ec1e49fd425a02ab12dea6b99cf39de45c80199f",
    "scrolled": true
   },
   "outputs": [
    {
     "name": "stdout",
     "output_type": "stream",
     "text": [
      "Train on 6330 samples, validate on 804 samples\n",
      "Epoch 1/200\n",
      " - 210s - loss: -9.7125e-02 - my_iou_metric_2: 0.7966 - val_loss: 0.0550 - val_my_iou_metric_2: 0.7749\n",
      "\n",
      "Epoch 00001: val_my_iou_metric_2 improved from -inf to 0.77488, saving model to unet_v2_5B_cv0.model\n",
      "Epoch 2/200\n",
      " - 193s - loss: -1.6861e-01 - my_iou_metric_2: 0.8075 - val_loss: 0.1514 - val_my_iou_metric_2: 0.7449\n",
      "\n",
      "Epoch 00002: val_my_iou_metric_2 did not improve from 0.77488\n",
      "Epoch 3/200\n",
      " - 192s - loss: -1.7401e-01 - my_iou_metric_2: 0.8069 - val_loss: 0.1567 - val_my_iou_metric_2: 0.7575\n",
      "\n",
      "Epoch 00003: val_my_iou_metric_2 did not improve from 0.77488\n",
      "Epoch 4/200\n",
      " - 191s - loss: -1.6933e-01 - my_iou_metric_2: 0.8012 - val_loss: 0.0352 - val_my_iou_metric_2: 0.7675\n",
      "\n",
      "Epoch 00004: val_my_iou_metric_2 did not improve from 0.77488\n",
      "Epoch 5/200\n",
      " - 192s - loss: -1.7882e-01 - my_iou_metric_2: 0.8031 - val_loss: -1.0265e-03 - val_my_iou_metric_2: 0.7750\n",
      "\n",
      "Epoch 00005: val_my_iou_metric_2 improved from 0.77488 to 0.77500, saving model to unet_v2_5B_cv0.model\n",
      "Epoch 6/200\n",
      " - 192s - loss: -2.0509e-01 - my_iou_metric_2: 0.8096 - val_loss: -5.5988e-02 - val_my_iou_metric_2: 0.7866\n",
      "\n",
      "Epoch 00006: val_my_iou_metric_2 improved from 0.77500 to 0.78657, saving model to unet_v2_5B_cv0.model\n",
      "Epoch 7/200\n",
      " - 192s - loss: -2.1855e-01 - my_iou_metric_2: 0.8114 - val_loss: 0.0319 - val_my_iou_metric_2: 0.7770\n",
      "\n",
      "Epoch 00007: val_my_iou_metric_2 did not improve from 0.78657\n",
      "Epoch 8/200\n",
      " - 192s - loss: -2.3255e-01 - my_iou_metric_2: 0.8138 - val_loss: -5.0926e-02 - val_my_iou_metric_2: 0.7862\n",
      "\n",
      "Epoch 00008: val_my_iou_metric_2 did not improve from 0.78657\n",
      "Epoch 9/200\n",
      " - 192s - loss: -2.3551e-01 - my_iou_metric_2: 0.8139 - val_loss: -7.4882e-02 - val_my_iou_metric_2: 0.7862\n",
      "\n",
      "Epoch 00009: val_my_iou_metric_2 did not improve from 0.78657\n",
      "Epoch 10/200\n",
      " - 192s - loss: -2.3819e-01 - my_iou_metric_2: 0.8151 - val_loss: -5.3508e-02 - val_my_iou_metric_2: 0.7864\n",
      "\n",
      "Epoch 00010: val_my_iou_metric_2 did not improve from 0.78657\n",
      "Epoch 11/200\n",
      " - 192s - loss: -2.4156e-01 - my_iou_metric_2: 0.8159 - val_loss: 0.0653 - val_my_iou_metric_2: 0.7582\n",
      "\n",
      "Epoch 00011: val_my_iou_metric_2 did not improve from 0.78657\n",
      "Epoch 12/200\n",
      " - 193s - loss: -2.3828e-01 - my_iou_metric_2: 0.8143 - val_loss: 8.7219e-04 - val_my_iou_metric_2: 0.7785\n",
      "\n",
      "Epoch 00012: val_my_iou_metric_2 did not improve from 0.78657\n",
      "Epoch 13/200\n",
      " - 192s - loss: -2.7267e-01 - my_iou_metric_2: 0.8205 - val_loss: -3.4639e-02 - val_my_iou_metric_2: 0.7866\n",
      "\n",
      "Epoch 00013: val_my_iou_metric_2 improved from 0.78657 to 0.78657, saving model to unet_v2_5B_cv0.model\n",
      "\n",
      "Epoch 00013: ReduceLROnPlateau reducing learning rate to 0.0002500000118743628.\n",
      "Epoch 14/200\n",
      " - 192s - loss: -3.2413e-01 - my_iou_metric_2: 0.8333 - val_loss: -1.0493e-01 - val_my_iou_metric_2: 0.7953\n",
      "\n",
      "Epoch 00014: val_my_iou_metric_2 improved from 0.78657 to 0.79527, saving model to unet_v2_5B_cv0.model\n",
      "Epoch 15/200\n",
      " - 192s - loss: -3.4431e-01 - my_iou_metric_2: 0.8391 - val_loss: -1.1158e-01 - val_my_iou_metric_2: 0.7949\n",
      "\n",
      "Epoch 00015: val_my_iou_metric_2 did not improve from 0.79527\n",
      "Epoch 16/200\n",
      " - 192s - loss: -3.5584e-01 - my_iou_metric_2: 0.8396 - val_loss: -1.2548e-01 - val_my_iou_metric_2: 0.8036\n",
      "\n",
      "Epoch 00016: val_my_iou_metric_2 improved from 0.79527 to 0.80361, saving model to unet_v2_5B_cv0.model\n",
      "Epoch 17/200\n",
      " - 192s - loss: -3.5615e-01 - my_iou_metric_2: 0.8399 - val_loss: -9.4923e-02 - val_my_iou_metric_2: 0.7919\n",
      "\n",
      "Epoch 00017: val_my_iou_metric_2 did not improve from 0.80361\n",
      "Epoch 18/200\n",
      " - 192s - loss: -3.6174e-01 - my_iou_metric_2: 0.8411 - val_loss: -8.5357e-02 - val_my_iou_metric_2: 0.7954\n",
      "\n",
      "Epoch 00018: val_my_iou_metric_2 did not improve from 0.80361\n",
      "Epoch 19/200\n",
      " - 193s - loss: -3.5641e-01 - my_iou_metric_2: 0.8383 - val_loss: -1.4795e-01 - val_my_iou_metric_2: 0.8111\n",
      "\n",
      "Epoch 00019: val_my_iou_metric_2 improved from 0.80361 to 0.81107, saving model to unet_v2_5B_cv0.model\n",
      "Epoch 20/200\n",
      " - 193s - loss: -3.7997e-01 - my_iou_metric_2: 0.8440 - val_loss: -9.8655e-02 - val_my_iou_metric_2: 0.7939\n",
      "\n",
      "Epoch 00020: val_my_iou_metric_2 did not improve from 0.81107\n",
      "Epoch 21/200\n"
     ]
    },
    {
     "ename": "KeyboardInterrupt",
     "evalue": "",
     "output_type": "error",
     "traceback": [
      "\u001b[0;31m---------------------------------------------------------------------------\u001b[0m",
      "\u001b[0;31mKeyboardInterrupt\u001b[0m                         Traceback (most recent call last)",
      "\u001b[0;32m<timed exec>\u001b[0m in \u001b[0;36m<module>\u001b[0;34m\u001b[0m\n",
      "\u001b[0;32m~/anaconda3/envs/tf/lib/python3.6/site-packages/keras/engine/training.py\u001b[0m in \u001b[0;36mfit\u001b[0;34m(self, x, y, batch_size, epochs, verbose, callbacks, validation_split, validation_data, shuffle, class_weight, sample_weight, initial_epoch, steps_per_epoch, validation_steps, **kwargs)\u001b[0m\n\u001b[1;32m   1035\u001b[0m                                         \u001b[0minitial_epoch\u001b[0m\u001b[0;34m=\u001b[0m\u001b[0minitial_epoch\u001b[0m\u001b[0;34m,\u001b[0m\u001b[0;34m\u001b[0m\u001b[0m\n\u001b[1;32m   1036\u001b[0m                                         \u001b[0msteps_per_epoch\u001b[0m\u001b[0;34m=\u001b[0m\u001b[0msteps_per_epoch\u001b[0m\u001b[0;34m,\u001b[0m\u001b[0;34m\u001b[0m\u001b[0m\n\u001b[0;32m-> 1037\u001b[0;31m                                         validation_steps=validation_steps)\n\u001b[0m\u001b[1;32m   1038\u001b[0m \u001b[0;34m\u001b[0m\u001b[0m\n\u001b[1;32m   1039\u001b[0m     def evaluate(self, x=None, y=None,\n",
      "\u001b[0;32m~/anaconda3/envs/tf/lib/python3.6/site-packages/keras/engine/training_arrays.py\u001b[0m in \u001b[0;36mfit_loop\u001b[0;34m(model, f, ins, out_labels, batch_size, epochs, verbose, callbacks, val_f, val_ins, shuffle, callback_metrics, initial_epoch, steps_per_epoch, validation_steps)\u001b[0m\n\u001b[1;32m    197\u001b[0m                     \u001b[0mins_batch\u001b[0m\u001b[0;34m[\u001b[0m\u001b[0mi\u001b[0m\u001b[0;34m]\u001b[0m \u001b[0;34m=\u001b[0m \u001b[0mins_batch\u001b[0m\u001b[0;34m[\u001b[0m\u001b[0mi\u001b[0m\u001b[0;34m]\u001b[0m\u001b[0;34m.\u001b[0m\u001b[0mtoarray\u001b[0m\u001b[0;34m(\u001b[0m\u001b[0;34m)\u001b[0m\u001b[0;34m\u001b[0m\u001b[0m\n\u001b[1;32m    198\u001b[0m \u001b[0;34m\u001b[0m\u001b[0m\n\u001b[0;32m--> 199\u001b[0;31m                 \u001b[0mouts\u001b[0m \u001b[0;34m=\u001b[0m \u001b[0mf\u001b[0m\u001b[0;34m(\u001b[0m\u001b[0mins_batch\u001b[0m\u001b[0;34m)\u001b[0m\u001b[0;34m\u001b[0m\u001b[0m\n\u001b[0m\u001b[1;32m    200\u001b[0m                 \u001b[0mouts\u001b[0m \u001b[0;34m=\u001b[0m \u001b[0mto_list\u001b[0m\u001b[0;34m(\u001b[0m\u001b[0mouts\u001b[0m\u001b[0;34m)\u001b[0m\u001b[0;34m\u001b[0m\u001b[0m\n\u001b[1;32m    201\u001b[0m                 \u001b[0;32mfor\u001b[0m \u001b[0ml\u001b[0m\u001b[0;34m,\u001b[0m \u001b[0mo\u001b[0m \u001b[0;32min\u001b[0m \u001b[0mzip\u001b[0m\u001b[0;34m(\u001b[0m\u001b[0mout_labels\u001b[0m\u001b[0;34m,\u001b[0m \u001b[0mouts\u001b[0m\u001b[0;34m)\u001b[0m\u001b[0;34m:\u001b[0m\u001b[0;34m\u001b[0m\u001b[0m\n",
      "\u001b[0;32m~/anaconda3/envs/tf/lib/python3.6/site-packages/keras/backend/tensorflow_backend.py\u001b[0m in \u001b[0;36m__call__\u001b[0;34m(self, inputs)\u001b[0m\n\u001b[1;32m   2664\u001b[0m                 \u001b[0;32mreturn\u001b[0m \u001b[0mself\u001b[0m\u001b[0;34m.\u001b[0m\u001b[0m_legacy_call\u001b[0m\u001b[0;34m(\u001b[0m\u001b[0minputs\u001b[0m\u001b[0;34m)\u001b[0m\u001b[0;34m\u001b[0m\u001b[0m\n\u001b[1;32m   2665\u001b[0m \u001b[0;34m\u001b[0m\u001b[0m\n\u001b[0;32m-> 2666\u001b[0;31m             \u001b[0;32mreturn\u001b[0m \u001b[0mself\u001b[0m\u001b[0;34m.\u001b[0m\u001b[0m_call\u001b[0m\u001b[0;34m(\u001b[0m\u001b[0minputs\u001b[0m\u001b[0;34m)\u001b[0m\u001b[0;34m\u001b[0m\u001b[0m\n\u001b[0m\u001b[1;32m   2667\u001b[0m         \u001b[0;32melse\u001b[0m\u001b[0;34m:\u001b[0m\u001b[0;34m\u001b[0m\u001b[0m\n\u001b[1;32m   2668\u001b[0m             \u001b[0;32mif\u001b[0m \u001b[0mpy_any\u001b[0m\u001b[0;34m(\u001b[0m\u001b[0mis_tensor\u001b[0m\u001b[0;34m(\u001b[0m\u001b[0mx\u001b[0m\u001b[0;34m)\u001b[0m \u001b[0;32mfor\u001b[0m \u001b[0mx\u001b[0m \u001b[0;32min\u001b[0m \u001b[0minputs\u001b[0m\u001b[0;34m)\u001b[0m\u001b[0;34m:\u001b[0m\u001b[0;34m\u001b[0m\u001b[0m\n",
      "\u001b[0;32m~/anaconda3/envs/tf/lib/python3.6/site-packages/keras/backend/tensorflow_backend.py\u001b[0m in \u001b[0;36m_call\u001b[0;34m(self, inputs)\u001b[0m\n\u001b[1;32m   2634\u001b[0m                                 \u001b[0msymbol_vals\u001b[0m\u001b[0;34m,\u001b[0m\u001b[0;34m\u001b[0m\u001b[0m\n\u001b[1;32m   2635\u001b[0m                                 session)\n\u001b[0;32m-> 2636\u001b[0;31m         \u001b[0mfetched\u001b[0m \u001b[0;34m=\u001b[0m \u001b[0mself\u001b[0m\u001b[0;34m.\u001b[0m\u001b[0m_callable_fn\u001b[0m\u001b[0;34m(\u001b[0m\u001b[0;34m*\u001b[0m\u001b[0marray_vals\u001b[0m\u001b[0;34m)\u001b[0m\u001b[0;34m\u001b[0m\u001b[0m\n\u001b[0m\u001b[1;32m   2637\u001b[0m         \u001b[0;32mreturn\u001b[0m \u001b[0mfetched\u001b[0m\u001b[0;34m[\u001b[0m\u001b[0;34m:\u001b[0m\u001b[0mlen\u001b[0m\u001b[0;34m(\u001b[0m\u001b[0mself\u001b[0m\u001b[0;34m.\u001b[0m\u001b[0moutputs\u001b[0m\u001b[0;34m)\u001b[0m\u001b[0;34m]\u001b[0m\u001b[0;34m\u001b[0m\u001b[0m\n\u001b[1;32m   2638\u001b[0m \u001b[0;34m\u001b[0m\u001b[0m\n",
      "\u001b[0;32m~/anaconda3/envs/tf/lib/python3.6/site-packages/tensorflow/python/client/session.py\u001b[0m in \u001b[0;36m__call__\u001b[0;34m(self, *args, **kwargs)\u001b[0m\n\u001b[1;32m   1380\u001b[0m           ret = tf_session.TF_SessionRunCallable(\n\u001b[1;32m   1381\u001b[0m               \u001b[0mself\u001b[0m\u001b[0;34m.\u001b[0m\u001b[0m_session\u001b[0m\u001b[0;34m.\u001b[0m\u001b[0m_session\u001b[0m\u001b[0;34m,\u001b[0m \u001b[0mself\u001b[0m\u001b[0;34m.\u001b[0m\u001b[0m_handle\u001b[0m\u001b[0;34m,\u001b[0m \u001b[0margs\u001b[0m\u001b[0;34m,\u001b[0m \u001b[0mstatus\u001b[0m\u001b[0;34m,\u001b[0m\u001b[0;34m\u001b[0m\u001b[0m\n\u001b[0;32m-> 1382\u001b[0;31m               run_metadata_ptr)\n\u001b[0m\u001b[1;32m   1383\u001b[0m         \u001b[0;32mif\u001b[0m \u001b[0mrun_metadata\u001b[0m\u001b[0;34m:\u001b[0m\u001b[0;34m\u001b[0m\u001b[0m\n\u001b[1;32m   1384\u001b[0m           \u001b[0mproto_data\u001b[0m \u001b[0;34m=\u001b[0m \u001b[0mtf_session\u001b[0m\u001b[0;34m.\u001b[0m\u001b[0mTF_GetBuffer\u001b[0m\u001b[0;34m(\u001b[0m\u001b[0mrun_metadata_ptr\u001b[0m\u001b[0;34m)\u001b[0m\u001b[0;34m\u001b[0m\u001b[0m\n",
      "\u001b[0;31mKeyboardInterrupt\u001b[0m: "
     ]
    }
   ],
   "source": [
    "%%time\n",
    "history = model.fit(x_train, y_train,\n",
    "                    validation_data=[x_valid, y_valid], \n",
    "                    epochs=epochs,\n",
    "                    batch_size=batch_size,\n",
    "                    callbacks=[ model_checkpoint, reduce_lr, early_stopping], \n",
    "                    verbose=2)"
   ]
  },
  {
   "cell_type": "markdown",
   "metadata": {},
   "source": [
    "# Plot result"
   ]
  },
  {
   "cell_type": "code",
   "execution_count": 62,
   "metadata": {},
   "outputs": [],
   "source": [
    "model = load_model(save_model_nameB, custom_objects={'my_iou_metric_2': my_iou_metric_2,\n",
    "                                                   'lovasz_loss': lovasz_loss})\n",
    "\n",
    "c = optimizers.adam(lr=0.0005)\n",
    "model.compile(loss=lovasz_loss, optimizer=c, metrics=[my_iou_metric_2])\n",
    "\n",
    "epochs = 200\n",
    "batch_size = 32"
   ]
  },
  {
   "cell_type": "code",
   "execution_count": 51,
   "metadata": {
    "_uuid": "ec1e49fd425a02ab12dea6b99cf39de45c80199f",
    "scrolled": true
   },
   "outputs": [
    {
     "name": "stdout",
     "output_type": "stream",
     "text": [
      "Train on 6330 samples, validate on 804 samples\n",
      "Epoch 1/200\n",
      " - 208s - loss: -2.9082e-01 - my_iou_metric_2: 0.8244 - val_loss: 0.0140 - val_my_iou_metric_2: 0.7672\n",
      "\n",
      "Epoch 00001: val_my_iou_metric_2 improved from -inf to 0.76716, saving model to unet_v2_5B_cv0.model\n",
      "Epoch 2/200\n",
      " - 193s - loss: -2.9910e-01 - my_iou_metric_2: 0.8262 - val_loss: 0.0212 - val_my_iou_metric_2: 0.7751\n",
      "\n",
      "Epoch 00002: val_my_iou_metric_2 improved from 0.76716 to 0.77512, saving model to unet_v2_5B_cv0.model\n",
      "Epoch 3/200\n",
      " - 193s - loss: -3.0270e-01 - my_iou_metric_2: 0.8278 - val_loss: -4.7214e-02 - val_my_iou_metric_2: 0.7846\n",
      "\n",
      "Epoch 00003: val_my_iou_metric_2 improved from 0.77512 to 0.78458, saving model to unet_v2_5B_cv0.model\n",
      "Epoch 4/200\n",
      " - 193s - loss: -3.1747e-01 - my_iou_metric_2: 0.8299 - val_loss: -2.5453e-02 - val_my_iou_metric_2: 0.7845\n",
      "\n",
      "Epoch 00004: val_my_iou_metric_2 did not improve from 0.78458\n",
      "Epoch 5/200\n",
      " - 193s - loss: -3.1971e-01 - my_iou_metric_2: 0.8288 - val_loss: -2.1719e-02 - val_my_iou_metric_2: 0.7850\n",
      "\n",
      "Epoch 00005: val_my_iou_metric_2 improved from 0.78458 to 0.78495, saving model to unet_v2_5B_cv0.model\n",
      "Epoch 6/200\n",
      " - 193s - loss: -3.2367e-01 - my_iou_metric_2: 0.8314 - val_loss: 0.0330 - val_my_iou_metric_2: 0.7662\n",
      "\n",
      "Epoch 00006: val_my_iou_metric_2 did not improve from 0.78495\n",
      "Epoch 7/200\n",
      " - 192s - loss: -3.1362e-01 - my_iou_metric_2: 0.8296 - val_loss: -9.3337e-02 - val_my_iou_metric_2: 0.8053\n",
      "\n",
      "Epoch 00007: val_my_iou_metric_2 improved from 0.78495 to 0.80535, saving model to unet_v2_5B_cv0.model\n",
      "Epoch 8/200\n",
      " - 193s - loss: -3.0577e-01 - my_iou_metric_2: 0.8260 - val_loss: -7.0176e-02 - val_my_iou_metric_2: 0.7896\n",
      "\n",
      "Epoch 00008: val_my_iou_metric_2 did not improve from 0.80535\n",
      "Epoch 9/200\n",
      " - 192s - loss: -3.5847e-01 - my_iou_metric_2: 0.8385 - val_loss: -1.2208e-01 - val_my_iou_metric_2: 0.7998\n",
      "\n",
      "Epoch 00009: val_my_iou_metric_2 did not improve from 0.80535\n",
      "Epoch 10/200\n",
      " - 192s - loss: -3.2921e-01 - my_iou_metric_2: 0.8324 - val_loss: -7.4389e-02 - val_my_iou_metric_2: 0.7840\n",
      "\n",
      "Epoch 00010: val_my_iou_metric_2 did not improve from 0.80535\n",
      "Epoch 11/200\n",
      " - 192s - loss: -3.1732e-01 - my_iou_metric_2: 0.8266 - val_loss: -6.1558e-02 - val_my_iou_metric_2: 0.7920\n",
      "\n",
      "Epoch 00011: val_my_iou_metric_2 did not improve from 0.80535\n",
      "Epoch 12/200\n",
      " - 192s - loss: -3.4312e-01 - my_iou_metric_2: 0.8345 - val_loss: -1.5688e-02 - val_my_iou_metric_2: 0.7932\n",
      "\n",
      "Epoch 00012: val_my_iou_metric_2 did not improve from 0.80535\n",
      "Epoch 13/200\n",
      " - 193s - loss: -3.5123e-01 - my_iou_metric_2: 0.8342 - val_loss: 0.0018 - val_my_iou_metric_2: 0.7876\n",
      "\n",
      "Epoch 00013: val_my_iou_metric_2 did not improve from 0.80535\n",
      "Epoch 14/200\n",
      " - 193s - loss: -3.4015e-01 - my_iou_metric_2: 0.8338 - val_loss: -5.4536e-02 - val_my_iou_metric_2: 0.7825\n",
      "\n",
      "Epoch 00014: val_my_iou_metric_2 did not improve from 0.80535\n",
      "\n",
      "Epoch 00014: ReduceLROnPlateau reducing learning rate to 0.0002500000118743628.\n",
      "Epoch 15/200\n",
      " - 193s - loss: -4.0789e-01 - my_iou_metric_2: 0.8487 - val_loss: -9.7101e-02 - val_my_iou_metric_2: 0.7970\n",
      "\n",
      "Epoch 00015: val_my_iou_metric_2 did not improve from 0.80535\n",
      "Epoch 16/200\n",
      " - 193s - loss: -4.3183e-01 - my_iou_metric_2: 0.8539 - val_loss: -9.7257e-02 - val_my_iou_metric_2: 0.7933\n",
      "\n",
      "Epoch 00016: val_my_iou_metric_2 did not improve from 0.80535\n",
      "Epoch 17/200\n",
      " - 192s - loss: -4.4233e-01 - my_iou_metric_2: 0.8555 - val_loss: -5.0862e-02 - val_my_iou_metric_2: 0.7960\n",
      "\n",
      "Epoch 00017: val_my_iou_metric_2 did not improve from 0.80535\n",
      "Epoch 18/200\n",
      " - 193s - loss: -4.3521e-01 - my_iou_metric_2: 0.8571 - val_loss: -1.1352e-01 - val_my_iou_metric_2: 0.8000\n",
      "\n",
      "Epoch 00018: val_my_iou_metric_2 did not improve from 0.80535\n",
      "Epoch 19/200\n",
      " - 193s - loss: -4.4694e-01 - my_iou_metric_2: 0.8564 - val_loss: -6.1419e-02 - val_my_iou_metric_2: 0.7974\n",
      "\n",
      "Epoch 00019: val_my_iou_metric_2 did not improve from 0.80535\n",
      "Epoch 20/200\n",
      " - 193s - loss: -4.4987e-01 - my_iou_metric_2: 0.8571 - val_loss: -1.2421e-01 - val_my_iou_metric_2: 0.8019\n",
      "\n",
      "Epoch 00020: val_my_iou_metric_2 did not improve from 0.80535\n",
      "Epoch 21/200\n",
      " - 193s - loss: -4.5323e-01 - my_iou_metric_2: 0.8587 - val_loss: -8.3803e-02 - val_my_iou_metric_2: 0.7971\n",
      "\n",
      "Epoch 00021: val_my_iou_metric_2 did not improve from 0.80535\n",
      "\n",
      "Epoch 00021: ReduceLROnPlateau reducing learning rate to 0.0001250000059371814.\n",
      "Epoch 22/200\n",
      " - 193s - loss: -4.7887e-01 - my_iou_metric_2: 0.8630 - val_loss: -1.4255e-01 - val_my_iou_metric_2: 0.8101\n",
      "\n",
      "Epoch 00022: val_my_iou_metric_2 improved from 0.80535 to 0.81007, saving model to unet_v2_5B_cv0.model\n",
      "Epoch 23/200\n",
      " - 193s - loss: -5.0383e-01 - my_iou_metric_2: 0.8696 - val_loss: -1.0387e-01 - val_my_iou_metric_2: 0.8045\n",
      "\n",
      "Epoch 00023: val_my_iou_metric_2 did not improve from 0.81007\n",
      "Epoch 24/200\n",
      " - 193s - loss: -4.8311e-01 - my_iou_metric_2: 0.8654 - val_loss: -9.4706e-02 - val_my_iou_metric_2: 0.8025\n",
      "\n",
      "Epoch 00024: val_my_iou_metric_2 did not improve from 0.81007\n",
      "Epoch 25/200\n",
      " - 193s - loss: -4.9195e-01 - my_iou_metric_2: 0.8659 - val_loss: -1.0189e-01 - val_my_iou_metric_2: 0.8032\n",
      "\n",
      "Epoch 00025: val_my_iou_metric_2 did not improve from 0.81007\n",
      "Epoch 26/200\n",
      " - 193s - loss: -4.9677e-01 - my_iou_metric_2: 0.8677 - val_loss: -1.1454e-01 - val_my_iou_metric_2: 0.8139\n",
      "\n",
      "Epoch 00026: val_my_iou_metric_2 improved from 0.81007 to 0.81393, saving model to unet_v2_5B_cv0.model\n",
      "Epoch 27/200\n",
      " - 193s - loss: -5.0276e-01 - my_iou_metric_2: 0.8695 - val_loss: -1.1488e-01 - val_my_iou_metric_2: 0.8077\n",
      "\n",
      "Epoch 00027: val_my_iou_metric_2 did not improve from 0.81393\n",
      "Epoch 28/200\n",
      " - 192s - loss: -5.0428e-01 - my_iou_metric_2: 0.8692 - val_loss: -1.1212e-01 - val_my_iou_metric_2: 0.8020\n",
      "\n",
      "Epoch 00028: val_my_iou_metric_2 did not improve from 0.81393\n",
      "Epoch 29/200\n",
      " - 193s - loss: -5.1615e-01 - my_iou_metric_2: 0.8718 - val_loss: -1.1105e-01 - val_my_iou_metric_2: 0.8068\n",
      "\n",
      "Epoch 00029: val_my_iou_metric_2 did not improve from 0.81393\n",
      "Epoch 30/200\n",
      " - 193s - loss: -5.0671e-01 - my_iou_metric_2: 0.8692 - val_loss: -9.0987e-02 - val_my_iou_metric_2: 0.8071\n",
      "\n",
      "Epoch 00030: val_my_iou_metric_2 did not improve from 0.81393\n",
      "Epoch 31/200\n",
      " - 193s - loss: -5.0784e-01 - my_iou_metric_2: 0.8687 - val_loss: -1.0055e-01 - val_my_iou_metric_2: 0.8073\n",
      "\n",
      "Epoch 00031: val_my_iou_metric_2 did not improve from 0.81393\n",
      "Epoch 32/200\n",
      " - 193s - loss: -5.1136e-01 - my_iou_metric_2: 0.8697 - val_loss: -1.0113e-01 - val_my_iou_metric_2: 0.8076\n",
      "\n",
      "Epoch 00032: val_my_iou_metric_2 did not improve from 0.81393\n",
      "Epoch 33/200\n",
      " - 193s - loss: -5.1127e-01 - my_iou_metric_2: 0.8710 - val_loss: -8.8999e-02 - val_my_iou_metric_2: 0.8029\n",
      "\n",
      "Epoch 00033: val_my_iou_metric_2 did not improve from 0.81393\n",
      "\n",
      "Epoch 00033: ReduceLROnPlateau reducing learning rate to 6.25000029685907e-05.\n",
      "Epoch 34/200\n",
      " - 193s - loss: -5.3214e-01 - my_iou_metric_2: 0.8756 - val_loss: -9.2848e-02 - val_my_iou_metric_2: 0.8101\n",
      "\n",
      "Epoch 00034: val_my_iou_metric_2 did not improve from 0.81393\n",
      "Epoch 35/200\n",
      " - 193s - loss: -5.4148e-01 - my_iou_metric_2: 0.8762 - val_loss: -9.7016e-02 - val_my_iou_metric_2: 0.8103\n",
      "\n",
      "Epoch 00035: val_my_iou_metric_2 did not improve from 0.81393\n",
      "Epoch 36/200\n",
      " - 193s - loss: -5.3796e-01 - my_iou_metric_2: 0.8757 - val_loss: -9.0647e-02 - val_my_iou_metric_2: 0.8104\n",
      "\n",
      "Epoch 00036: val_my_iou_metric_2 did not improve from 0.81393\n",
      "Epoch 37/200\n",
      " - 193s - loss: -5.3895e-01 - my_iou_metric_2: 0.8752 - val_loss: -1.0810e-01 - val_my_iou_metric_2: 0.8136\n",
      "\n",
      "Epoch 00037: val_my_iou_metric_2 did not improve from 0.81393\n",
      "Epoch 38/200\n",
      " - 193s - loss: -5.3109e-01 - my_iou_metric_2: 0.8752 - val_loss: -9.5122e-02 - val_my_iou_metric_2: 0.8116\n",
      "\n",
      "Epoch 00038: val_my_iou_metric_2 did not improve from 0.81393\n",
      "Epoch 39/200\n",
      " - 193s - loss: -5.3969e-01 - my_iou_metric_2: 0.8760 - val_loss: -8.3253e-02 - val_my_iou_metric_2: 0.8090\n",
      "\n",
      "Epoch 00039: val_my_iou_metric_2 did not improve from 0.81393\n",
      "Epoch 40/200\n",
      " - 193s - loss: -5.3486e-01 - my_iou_metric_2: 0.8755 - val_loss: -1.0661e-01 - val_my_iou_metric_2: 0.8132\n",
      "\n",
      "Epoch 00040: val_my_iou_metric_2 did not improve from 0.81393\n",
      "\n",
      "Epoch 00040: ReduceLROnPlateau reducing learning rate to 3.125000148429535e-05.\n",
      "Epoch 41/200\n",
      " - 193s - loss: -5.5099e-01 - my_iou_metric_2: 0.8778 - val_loss: -9.9767e-02 - val_my_iou_metric_2: 0.8086\n",
      "\n",
      "Epoch 00041: val_my_iou_metric_2 did not improve from 0.81393\n",
      "Epoch 42/200\n",
      " - 193s - loss: -5.5284e-01 - my_iou_metric_2: 0.8793 - val_loss: -8.9624e-02 - val_my_iou_metric_2: 0.8103\n"
     ]
    },
    {
     "name": "stdout",
     "output_type": "stream",
     "text": [
      "\n",
      "Epoch 00042: val_my_iou_metric_2 did not improve from 0.81393\n",
      "Epoch 43/200\n",
      " - 193s - loss: -5.5385e-01 - my_iou_metric_2: 0.8774 - val_loss: -8.6738e-02 - val_my_iou_metric_2: 0.8093\n",
      "\n",
      "Epoch 00043: val_my_iou_metric_2 did not improve from 0.81393\n",
      "Epoch 44/200\n",
      " - 193s - loss: -5.5383e-01 - my_iou_metric_2: 0.8798 - val_loss: -9.9993e-02 - val_my_iou_metric_2: 0.8152\n",
      "\n",
      "Epoch 00044: val_my_iou_metric_2 improved from 0.81393 to 0.81517, saving model to unet_v2_5B_cv0.model\n",
      "Epoch 45/200\n",
      " - 193s - loss: -5.5595e-01 - my_iou_metric_2: 0.8788 - val_loss: -9.5156e-02 - val_my_iou_metric_2: 0.8111\n",
      "\n",
      "Epoch 00045: val_my_iou_metric_2 did not improve from 0.81517\n",
      "Epoch 46/200\n",
      " - 193s - loss: -5.5708e-01 - my_iou_metric_2: 0.8788 - val_loss: -9.9842e-02 - val_my_iou_metric_2: 0.8139\n",
      "\n",
      "Epoch 00046: val_my_iou_metric_2 did not improve from 0.81517\n",
      "Epoch 47/200\n",
      " - 192s - loss: -5.5511e-01 - my_iou_metric_2: 0.8791 - val_loss: -1.0015e-01 - val_my_iou_metric_2: 0.8152\n",
      "\n",
      "Epoch 00047: val_my_iou_metric_2 did not improve from 0.81517\n",
      "Epoch 48/200\n",
      " - 192s - loss: -5.5956e-01 - my_iou_metric_2: 0.8815 - val_loss: -9.5137e-02 - val_my_iou_metric_2: 0.8127\n",
      "\n",
      "Epoch 00048: val_my_iou_metric_2 did not improve from 0.81517\n",
      "Epoch 49/200\n",
      " - 193s - loss: -5.5992e-01 - my_iou_metric_2: 0.8801 - val_loss: -8.4682e-02 - val_my_iou_metric_2: 0.8091\n",
      "\n",
      "Epoch 00049: val_my_iou_metric_2 did not improve from 0.81517\n",
      "Epoch 50/200\n",
      " - 193s - loss: -5.6593e-01 - my_iou_metric_2: 0.8817 - val_loss: -9.5600e-02 - val_my_iou_metric_2: 0.8109\n",
      "\n",
      "Epoch 00050: val_my_iou_metric_2 did not improve from 0.81517\n",
      "Epoch 51/200\n",
      " - 193s - loss: -5.5489e-01 - my_iou_metric_2: 0.8798 - val_loss: -8.3169e-02 - val_my_iou_metric_2: 0.8112\n",
      "\n",
      "Epoch 00051: val_my_iou_metric_2 did not improve from 0.81517\n",
      "\n",
      "Epoch 00051: ReduceLROnPlateau reducing learning rate to 1.5625000742147677e-05.\n",
      "Epoch 52/200\n",
      " - 193s - loss: -5.5911e-01 - my_iou_metric_2: 0.8798 - val_loss: -8.8987e-02 - val_my_iou_metric_2: 0.8127\n",
      "\n",
      "Epoch 00052: val_my_iou_metric_2 did not improve from 0.81517\n",
      "Epoch 53/200\n",
      " - 193s - loss: -5.6885e-01 - my_iou_metric_2: 0.8819 - val_loss: -8.6788e-02 - val_my_iou_metric_2: 0.8091\n",
      "\n",
      "Epoch 00053: val_my_iou_metric_2 did not improve from 0.81517\n",
      "Epoch 54/200\n",
      " - 192s - loss: -5.6882e-01 - my_iou_metric_2: 0.8836 - val_loss: -9.1148e-02 - val_my_iou_metric_2: 0.8114\n",
      "\n",
      "Epoch 00054: val_my_iou_metric_2 did not improve from 0.81517\n",
      "Epoch 55/200\n",
      " - 193s - loss: -5.6151e-01 - my_iou_metric_2: 0.8813 - val_loss: -8.3257e-02 - val_my_iou_metric_2: 0.8101\n",
      "\n",
      "Epoch 00055: val_my_iou_metric_2 did not improve from 0.81517\n",
      "Epoch 56/200\n",
      " - 193s - loss: -5.7065e-01 - my_iou_metric_2: 0.8836 - val_loss: -8.4033e-02 - val_my_iou_metric_2: 0.8112\n",
      "\n",
      "Epoch 00056: val_my_iou_metric_2 did not improve from 0.81517\n",
      "Epoch 57/200\n",
      " - 193s - loss: -5.6610e-01 - my_iou_metric_2: 0.8816 - val_loss: -7.1293e-02 - val_my_iou_metric_2: 0.8076\n",
      "\n",
      "Epoch 00057: val_my_iou_metric_2 did not improve from 0.81517\n",
      "Epoch 58/200\n",
      " - 193s - loss: -5.6090e-01 - my_iou_metric_2: 0.8819 - val_loss: -7.7807e-02 - val_my_iou_metric_2: 0.8087\n",
      "\n",
      "Epoch 00058: val_my_iou_metric_2 did not improve from 0.81517\n",
      "\n",
      "Epoch 00058: ReduceLROnPlateau reducing learning rate to 1e-05.\n",
      "Epoch 59/200\n",
      " - 193s - loss: -5.6648e-01 - my_iou_metric_2: 0.8824 - val_loss: -8.2959e-02 - val_my_iou_metric_2: 0.8112\n",
      "\n",
      "Epoch 00059: val_my_iou_metric_2 did not improve from 0.81517\n",
      "Epoch 60/200\n",
      " - 193s - loss: -5.6635e-01 - my_iou_metric_2: 0.8812 - val_loss: -7.9202e-02 - val_my_iou_metric_2: 0.8101\n",
      "\n",
      "Epoch 00060: val_my_iou_metric_2 did not improve from 0.81517\n",
      "Epoch 61/200\n",
      " - 193s - loss: -5.6528e-01 - my_iou_metric_2: 0.8805 - val_loss: -7.4532e-02 - val_my_iou_metric_2: 0.8100\n",
      "\n",
      "Epoch 00061: val_my_iou_metric_2 did not improve from 0.81517\n",
      "Epoch 62/200\n",
      " - 193s - loss: -5.6505e-01 - my_iou_metric_2: 0.8817 - val_loss: -8.0860e-02 - val_my_iou_metric_2: 0.8061\n",
      "\n",
      "Epoch 00062: val_my_iou_metric_2 did not improve from 0.81517\n",
      "Epoch 63/200\n",
      " - 193s - loss: -5.7211e-01 - my_iou_metric_2: 0.8835 - val_loss: -8.1580e-02 - val_my_iou_metric_2: 0.8092\n",
      "\n",
      "Epoch 00063: val_my_iou_metric_2 did not improve from 0.81517\n",
      "Epoch 64/200\n",
      " - 193s - loss: -5.7223e-01 - my_iou_metric_2: 0.8837 - val_loss: -8.6826e-02 - val_my_iou_metric_2: 0.8102\n",
      "\n",
      "Epoch 00064: val_my_iou_metric_2 did not improve from 0.81517\n",
      "Epoch 65/200\n",
      " - 193s - loss: -5.6545e-01 - my_iou_metric_2: 0.8803 - val_loss: -8.3756e-02 - val_my_iou_metric_2: 0.8092\n",
      "\n",
      "Epoch 00065: val_my_iou_metric_2 did not improve from 0.81517\n",
      "Epoch 00065: early stopping\n",
      "CPU times: user 1h 47min 31s, sys: 30min 53s, total: 2h 18min 25s\n",
      "Wall time: 3h 29min 42s\n"
     ]
    }
   ],
   "source": [
    "%%time\n",
    "history = model.fit(x_train, y_train,\n",
    "                    validation_data=[x_valid, y_valid], \n",
    "                    epochs=epochs,\n",
    "                    batch_size=batch_size,\n",
    "                    callbacks=[ model_checkpoint, reduce_lr, early_stopping], \n",
    "                    verbose=2)"
   ]
  },
  {
   "cell_type": "code",
   "execution_count": 52,
   "metadata": {
    "_uuid": "922febde76d7aff93c49c71a28b3a2361f433d02"
   },
   "outputs": [
    {
     "data": {
      "text/plain": [
       "<matplotlib.legend.Legend at 0x7f2b1c689b00>"
      ]
     },
     "execution_count": 52,
     "metadata": {},
     "output_type": "execute_result"
    },
    {
     "data": {
      "image/png": "[encoded data removed]",
      "text/plain": [
       "<Figure size 1080x360 with 2 Axes>"
      ]
     },
     "metadata": {
      "needs_background": "light"
     },
     "output_type": "display_data"
    }
   ],
   "source": [
    "fig, (ax_loss, ax_score) = plt.subplots(1, 2, figsize=(15,5))\n",
    "ax_loss.plot(history.epoch, history.history[\"loss\"], label=\"Train loss\")\n",
    "ax_loss.plot(history.epoch, history.history[\"val_loss\"], label=\"Validation loss\")\n",
    "ax_loss.legend()\n",
    "ax_score.plot(history.epoch, history.history[\"my_iou_metric_2\"], label=\"Train score\")\n",
    "ax_score.plot(history.epoch, history.history[\"val_my_iou_metric_2\"], label=\"Validation score\")\n",
    "ax_score.legend()"
   ]
  },
  {
   "cell_type": "markdown",
   "metadata": {},
   "source": [
    "# Final Tuning"
   ]
  },
  {
   "cell_type": "code",
   "execution_count": 63,
   "metadata": {},
   "outputs": [],
   "source": [
    "model = load_model(save_model_nameB,custom_objects={'my_iou_metric_2': my_iou_metric_2,\n",
    "                                                   'lovasz_loss': lovasz_loss})\n",
    "\n",
    "c = optimizers.Adam(lr = 0.0001)\n",
    "model.compile(loss=lovasz_loss, optimizer=c, metrics=[my_iou_metric_2])\n",
    "\n",
    "epochs = 200\n",
    "batch_size = 16\n",
    "\n",
    "early_stopping = EarlyStopping(monitor='val_my_iou_metric_2', mode='max', patience=21, verbose=1)\n",
    "model_checkpoint = ModelCheckpoint(save_model_nameB, monitor='val_my_iou_metric_2', mode='max', save_best_only=True, verbose=1)\n",
    "reduce_lr = ReduceLROnPlateau(monitor='val_my_iou_metric_2', mode='max',factor=0.5, patience=7, min_lr=0.00001, verbose"
   ]
  },
  {
   "cell_type": "code",
   "execution_count": 64,
   "metadata": {
    "scrolled": false
   },
   "outputs": [
    {
     "name": "stdout",
     "output_type": "stream",
     "text": [
      "Train on 6330 samples, validate on 804 samples\n",
      "Epoch 1/200\n",
      " - 245s - loss: -4.9123e-01 - my_iou_metric_2: 0.8652 - val_loss: -9.1940e-02 - val_my_iou_metric_2: 0.8041\n",
      "\n",
      "Epoch 00001: val_my_iou_metric_2 improved from -inf to 0.80410, saving model to unet_v2_5B_cv0.model\n",
      "Epoch 2/200\n",
      " - 227s - loss: -4.8467e-01 - my_iou_metric_2: 0.8661 - val_loss: -9.3806e-02 - val_my_iou_metric_2: 0.7994\n",
      "\n",
      "Epoch 00002: val_my_iou_metric_2 did not improve from 0.80410\n",
      "Epoch 3/200\n",
      " - 227s - loss: -4.7773e-01 - my_iou_metric_2: 0.8618 - val_loss: -7.3554e-02 - val_my_iou_metric_2: 0.8004\n",
      "\n",
      "Epoch 00003: val_my_iou_metric_2 did not improve from 0.80410\n",
      "Epoch 4/200\n",
      " - 227s - loss: -4.8743e-01 - my_iou_metric_2: 0.8647 - val_loss: -7.5642e-02 - val_my_iou_metric_2: 0.8052\n",
      "\n",
      "Epoch 00004: val_my_iou_metric_2 improved from 0.80410 to 0.80522, saving model to unet_v2_5B_cv0.model\n",
      "Epoch 5/200\n",
      " - 227s - loss: -4.9197e-01 - my_iou_metric_2: 0.8680 - val_loss: -5.9767e-02 - val_my_iou_metric_2: 0.7993\n",
      "\n",
      "Epoch 00005: val_my_iou_metric_2 did not improve from 0.80522\n",
      "Epoch 6/200\n",
      " - 227s - loss: -4.8683e-01 - my_iou_metric_2: 0.8629 - val_loss: -1.0571e-01 - val_my_iou_metric_2: 0.8141\n",
      "\n",
      "Epoch 00006: val_my_iou_metric_2 improved from 0.80522 to 0.81405, saving model to unet_v2_5B_cv0.model\n",
      "Epoch 7/200\n",
      " - 226s - loss: -4.8407e-01 - my_iou_metric_2: 0.8644 - val_loss: -1.2643e-01 - val_my_iou_metric_2: 0.8098\n",
      "\n",
      "Epoch 00007: val_my_iou_metric_2 did not improve from 0.81405\n",
      "Epoch 8/200\n",
      " - 227s - loss: -4.9729e-01 - my_iou_metric_2: 0.8673 - val_loss: -8.2037e-02 - val_my_iou_metric_2: 0.8062\n",
      "\n",
      "Epoch 00008: val_my_iou_metric_2 did not improve from 0.81405\n",
      "Epoch 9/200\n",
      " - 227s - loss: -4.9695e-01 - my_iou_metric_2: 0.8683 - val_loss: -1.0466e-01 - val_my_iou_metric_2: 0.8106\n",
      "\n",
      "Epoch 00009: val_my_iou_metric_2 did not improve from 0.81405\n",
      "Epoch 10/200\n",
      " - 227s - loss: -4.9196e-01 - my_iou_metric_2: 0.8681 - val_loss: -1.2508e-01 - val_my_iou_metric_2: 0.8124\n",
      "\n",
      "Epoch 00010: val_my_iou_metric_2 did not improve from 0.81405\n",
      "Epoch 11/200\n",
      " - 227s - loss: -4.9824e-01 - my_iou_metric_2: 0.8669 - val_loss: -1.1267e-01 - val_my_iou_metric_2: 0.8178\n",
      "\n",
      "Epoch 00011: val_my_iou_metric_2 improved from 0.81405 to 0.81779, saving model to unet_v2_5B_cv0.model\n",
      "Epoch 12/200\n",
      " - 227s - loss: -4.9471e-01 - my_iou_metric_2: 0.8678 - val_loss: -8.7190e-02 - val_my_iou_metric_2: 0.7971\n",
      "\n",
      "Epoch 00012: val_my_iou_metric_2 did not improve from 0.81779\n",
      "Epoch 13/200\n",
      " - 227s - loss: -4.9925e-01 - my_iou_metric_2: 0.8680 - val_loss: -1.3020e-01 - val_my_iou_metric_2: 0.8114\n",
      "\n",
      "Epoch 00013: val_my_iou_metric_2 did not improve from 0.81779\n",
      "Epoch 14/200\n",
      " - 227s - loss: -4.9601e-01 - my_iou_metric_2: 0.8663 - val_loss: -1.2058e-01 - val_my_iou_metric_2: 0.8075\n",
      "\n",
      "Epoch 00014: val_my_iou_metric_2 did not improve from 0.81779\n",
      "Epoch 15/200\n",
      " - 227s - loss: -4.9890e-01 - my_iou_metric_2: 0.8676 - val_loss: -7.1055e-02 - val_my_iou_metric_2: 0.8083\n",
      "\n",
      "Epoch 00015: val_my_iou_metric_2 did not improve from 0.81779\n",
      "Epoch 16/200\n",
      " - 227s - loss: -5.0659e-01 - my_iou_metric_2: 0.8687 - val_loss: -1.0654e-01 - val_my_iou_metric_2: 0.8128\n",
      "\n",
      "Epoch 00016: val_my_iou_metric_2 did not improve from 0.81779\n",
      "Epoch 17/200\n",
      " - 227s - loss: -4.8536e-01 - my_iou_metric_2: 0.8661 - val_loss: -5.0882e-02 - val_my_iou_metric_2: 0.8012\n",
      "\n",
      "Epoch 00017: val_my_iou_metric_2 did not improve from 0.81779\n",
      "Epoch 18/200\n",
      " - 227s - loss: -4.9242e-01 - my_iou_metric_2: 0.8680 - val_loss: -6.8190e-02 - val_my_iou_metric_2: 0.8025\n",
      "\n",
      "Epoch 00018: val_my_iou_metric_2 did not improve from 0.81779\n",
      "\n",
      "Epoch 00018: ReduceLROnPlateau reducing learning rate to 4.999999873689376e-05.\n",
      "Epoch 19/200\n",
      " - 227s - loss: -5.1700e-01 - my_iou_metric_2: 0.8726 - val_loss: -9.9351e-02 - val_my_iou_metric_2: 0.8133\n",
      "\n",
      "Epoch 00019: val_my_iou_metric_2 did not improve from 0.81779\n",
      "Epoch 20/200\n",
      " - 227s - loss: -5.3360e-01 - my_iou_metric_2: 0.8747 - val_loss: -8.6412e-02 - val_my_iou_metric_2: 0.8090\n",
      "\n",
      "Epoch 00020: val_my_iou_metric_2 did not improve from 0.81779\n",
      "Epoch 21/200\n",
      " - 226s - loss: -5.3908e-01 - my_iou_metric_2: 0.8769 - val_loss: -6.4659e-02 - val_my_iou_metric_2: 0.8096\n",
      "\n",
      "Epoch 00021: val_my_iou_metric_2 did not improve from 0.81779\n",
      "Epoch 22/200\n",
      " - 226s - loss: -5.3489e-01 - my_iou_metric_2: 0.8737 - val_loss: -1.0575e-01 - val_my_iou_metric_2: 0.8149\n",
      "\n",
      "Epoch 00022: val_my_iou_metric_2 did not improve from 0.81779\n",
      "Epoch 23/200\n",
      " - 228s - loss: -5.3877e-01 - my_iou_metric_2: 0.8752 - val_loss: -8.1170e-02 - val_my_iou_metric_2: 0.8132\n",
      "\n",
      "Epoch 00023: val_my_iou_metric_2 did not improve from 0.81779\n",
      "Epoch 24/200\n",
      " - 228s - loss: -5.3082e-01 - my_iou_metric_2: 0.8751 - val_loss: -9.7677e-02 - val_my_iou_metric_2: 0.8093\n",
      "\n",
      "Epoch 00024: val_my_iou_metric_2 did not improve from 0.81779\n",
      "Epoch 25/200\n",
      " - 229s - loss: -5.3458e-01 - my_iou_metric_2: 0.8750 - val_loss: -8.8055e-02 - val_my_iou_metric_2: 0.8075\n",
      "\n",
      "Epoch 00025: val_my_iou_metric_2 did not improve from 0.81779\n",
      "\n",
      "Epoch 00025: ReduceLROnPlateau reducing learning rate to 2.499999936844688e-05.\n",
      "Epoch 26/200\n",
      " - 229s - loss: -5.4974e-01 - my_iou_metric_2: 0.8771 - val_loss: -7.3823e-02 - val_my_iou_metric_2: 0.8073\n",
      "\n",
      "Epoch 00026: val_my_iou_metric_2 did not improve from 0.81779\n",
      "Epoch 27/200\n",
      " - 229s - loss: -5.4771e-01 - my_iou_metric_2: 0.8781 - val_loss: -9.1938e-02 - val_my_iou_metric_2: 0.8122\n",
      "\n",
      "Epoch 00027: val_my_iou_metric_2 did not improve from 0.81779\n",
      "Epoch 28/200\n",
      " - 229s - loss: -5.5219e-01 - my_iou_metric_2: 0.8778 - val_loss: -8.1135e-02 - val_my_iou_metric_2: 0.8102\n",
      "\n",
      "Epoch 00028: val_my_iou_metric_2 did not improve from 0.81779\n",
      "Epoch 29/200\n",
      " - 229s - loss: -5.4309e-01 - my_iou_metric_2: 0.8767 - val_loss: -9.1617e-02 - val_my_iou_metric_2: 0.8114\n",
      "\n",
      "Epoch 00029: val_my_iou_metric_2 did not improve from 0.81779\n",
      "Epoch 30/200\n",
      " - 229s - loss: -5.5265e-01 - my_iou_metric_2: 0.8801 - val_loss: -8.7740e-02 - val_my_iou_metric_2: 0.8096\n",
      "\n",
      "Epoch 00030: val_my_iou_metric_2 did not improve from 0.81779\n",
      "Epoch 31/200\n",
      " - 229s - loss: -5.5797e-01 - my_iou_metric_2: 0.8808 - val_loss: -1.0296e-01 - val_my_iou_metric_2: 0.8146\n",
      "\n",
      "Epoch 00031: val_my_iou_metric_2 did not improve from 0.81779\n",
      "Epoch 32/200\n",
      " - 229s - loss: -5.5337e-01 - my_iou_metric_2: 0.8797 - val_loss: -8.8067e-02 - val_my_iou_metric_2: 0.8087\n",
      "\n",
      "Epoch 00032: val_my_iou_metric_2 did not improve from 0.81779\n",
      "\n",
      "Epoch 00032: ReduceLROnPlateau reducing learning rate to 1.249999968422344e-05.\n",
      "Epoch 00032: early stopping\n",
      "CPU times: user 1h 12min 34s, sys: 19min 7s, total: 1h 31min 42s\n",
      "Wall time: 2h 2min 46s\n"
     ]
    }
   ],
   "source": [
    "%%time\n",
    "history = model.fit(x_train, y_train,\n",
    "                    validation_data=[x_valid, y_valid], \n",
    "                    epochs=epochs,\n",
    "                    batch_size=batch_size,\n",
    "                    callbacks=[model_checkpoint, reduce_lr, early_stopping], \n",
    "                    verbose=2)"
   ]
  },
  {
   "cell_type": "code",
   "execution_count": 65,
   "metadata": {},
   "outputs": [
    {
     "data": {
      "text/plain": [
       "<matplotlib.legend.Legend at 0x7fd5bf4e1390>"
      ]
     },
     "execution_count": 65,
     "metadata": {},
     "output_type": "execute_result"
    },
    {
     "data": {
      "image/png": "[encoded data removed]",
      "text/plain": [
       "<Figure size 1080x360 with 2 Axes>"
      ]
     },
     "metadata": {
      "needs_background": "light"
     },
     "output_type": "display_data"
    }
   ],
   "source": [
    "fig, (ax_loss, ax_score) = plt.subplots(1, 2, figsize=(15,5))\n",
    "ax_loss.plot(history.epoch, history.history[\"loss\"], label=\"Train loss\")\n",
    "ax_loss.plot(history.epoch, history.history[\"val_loss\"], label=\"Validation loss\")\n",
    "ax_loss.legend()\n",
    "ax_score.plot(history.epoch, history.history[\"my_iou_metric_2\"], label=\"Train score\")\n",
    "ax_score.plot(history.epoch, history.history[\"val_my_iou_metric_2\"], label=\"Validation score\")\n",
    "ax_score.legend()"
   ]
  },
  {
   "cell_type": "code",
   "execution_count": 66,
   "metadata": {
    "_uuid": "068c89f56e9e7eb1d7ecf12912996426ad87f2a6"
   },
   "outputs": [],
   "source": [
    "model = load_model(save_model_nameB,custom_objects={'my_iou_metric_2': my_iou_metric_2,\n",
    "                                                   'lovasz_loss': lovasz_loss})"
   ]
  },
  {
   "cell_type": "code",
   "execution_count": 67,
   "metadata": {
    "_uuid": "c33f2cdf50d3011f704ac934e49602bd3167c8cb"
   },
   "outputs": [],
   "source": [
    "def predict_result(model,x_test,img_size_target): # predict both orginal and reflect x\n",
    "    x_test_reflect =  np.array([np.fliplr(x) for x in x_test])\n",
    "    preds_test = model.predict(x_test).reshape(-1, img_size_target, img_size_target)\n",
    "    preds_test2_refect = model.predict(x_test_reflect).reshape(-1, img_size_target, img_size_target)\n",
    "    preds_test += np.array([ np.fliplr(x) for x in preds_test2_refect] )\n",
    "    return preds_test/2"
   ]
  },
  {
   "cell_type": "code",
   "execution_count": 68,
   "metadata": {
    "_uuid": "ec38f74adccf2d265cac160311c0998fefc76ec6"
   },
   "outputs": [],
   "source": [
    "preds_valid = predict_result(model,x_valid,img_size_target)"
   ]
  },
  {
   "cell_type": "code",
   "execution_count": 69,
   "metadata": {
    "_uuid": "6794a936dd110f0d4ecc23206c53af7cd0f4a587"
   },
   "outputs": [],
   "source": [
    "#Score the model and do a threshold optimization by the best IoU.\n",
    "\n",
    "# src: https://www.kaggle.com/aglotero/another-iou-metric\n",
    "def iou_metric(y_true_in, y_pred_in, print_table=False):\n",
    "    labels = y_true_in\n",
    "    y_pred = y_pred_in\n",
    "\n",
    "\n",
    "    true_objects = 2\n",
    "    pred_objects = 2\n",
    "\n",
    "    #  if all zeros, original code  generate wrong  bins [-0.5 0 0.5],\n",
    "    temp1 = np.histogram2d(labels.flatten(), y_pred.flatten(), bins=([0,0.5,1], [0,0.5, 1]))\n",
    "#     temp1 = np.histogram2d(labels.flatten(), y_pred.flatten(), bins=(true_objects, pred_objects))\n",
    "    #print(temp1)\n",
    "    intersection = temp1[0]\n",
    "    #print(\"temp2 = \",temp1[1])\n",
    "    #print(intersection.shape)\n",
    "   # print(intersection)\n",
    "    # Compute areas (needed for finding the union between all objects)\n",
    "    #print(np.histogram(labels, bins = true_objects))\n",
    "    area_true = np.histogram(labels,bins=[0,0.5,1])[0]\n",
    "    #print(\"area_true = \",area_true)\n",
    "    area_pred = np.histogram(y_pred, bins=[0,0.5,1])[0]\n",
    "    area_true = np.expand_dims(area_true, -1)\n",
    "    area_pred = np.expand_dims(area_pred, 0)\n",
    "\n",
    "    # Compute union\n",
    "    union = area_true + area_pred - intersection\n",
    "  \n",
    "    # Exclude background from the analysis\n",
    "    intersection = intersection[1:,1:]\n",
    "    intersection[intersection == 0] = 1e-9\n",
    "    \n",
    "    union = union[1:,1:]\n",
    "    union[union == 0] = 1e-9\n",
    "\n",
    "    # Compute the intersection over union\n",
    "    iou = intersection / union\n",
    "    # Precision helper function\n",
    "    def precision_at(threshold, iou):\n",
    "        matches = iou > threshold\n",
    "        true_positives = np.sum(matches, axis=1) == 1   # Correct objects\n",
    "        false_positives = np.sum(matches, axis=0) == 0  # Missed objects\n",
    "        false_negatives = np.sum(matches, axis=1) == 0  # Extra objects\n",
    "        tp, fp, fn = np.sum(true_positives), np.sum(false_positives), np.sum(false_negatives)\n",
    "        return tp, fp, fn\n",
    "\n",
    "    # Loop over IoU thresholds\n",
    "    prec = []\n",
    "    if print_table:\n",
    "        print(\"Thresh\\tTP\\tFP\\tFN\\tPrec.\")\n",
    "    for t in np.arange(0.5, 1.0, 0.05):\n",
    "        tp, fp, fn = precision_at(t, iou)\n",
    "        if (tp + fp + fn) > 0:\n",
    "            p = tp / (tp + fp + fn)\n",
    "        else:\n",
    "            p = 0\n",
    "        if print_table:\n",
    "            print(\"{:1.3f}\\t{}\\t{}\\t{}\\t{:1.3f}\".format(t, tp, fp, fn, p))\n",
    "        prec.append(p)\n",
    "        \n",
    "    if print_table:\n",
    "        print(\"AP\\t-\\t-\\t-\\t{:1.3f}\".format(np.mean(prec)))\n",
    "    return np.mean(prec)\n",
    "\n",
    "def iou_metric_batch(y_true_in, y_pred_in):\n",
    "    batch_size = y_true_in.shape[0]\n",
    "    metric = []\n",
    "    for batch in range(batch_size):\n",
    "        value = iou_metric(y_true_in[batch], y_pred_in[batch])\n",
    "        metric.append(value)\n",
    "    return np.mean(metric)"
   ]
  },
  {
   "cell_type": "code",
   "execution_count": 70,
   "metadata": {
    "_uuid": "6d96072932f985336021cd115cb6bb13058618a8"
   },
   "outputs": [
    {
     "data": {
      "application/vnd.jupyter.widget-view+json": {
       "model_id": "866323c21e934deabdebe256477133d5",
       "version_major": 2,
       "version_minor": 0
      },
      "text/plain": [
       "HBox(children=(IntProgress(value=0, max=31), HTML(value='')))"
      ]
     },
     "metadata": {},
     "output_type": "display_data"
    },
    {
     "name": "stdout",
     "output_type": "stream",
     "text": [
      "\n",
      "[0.81890547 0.81865672 0.8181592  0.8181592  0.81828358 0.81778607\n",
      " 0.81666667 0.81567164 0.8159204  0.81654229 0.81629353 0.81604478\n",
      " 0.81604478 0.81579602 0.81517413 0.81504975 0.81467662 0.81492537\n",
      " 0.81567164 0.81579602 0.81679104 0.81629353 0.81604478 0.81604478\n",
      " 0.8159204  0.81616915 0.81666667 0.8159204  0.8159204  0.81529851\n",
      " 0.81517413]\n"
     ]
    }
   ],
   "source": [
    "## Scoring for last model, choose threshold by validation data \n",
    "thresholds_ori = np.linspace(0.3, 0.7, 31)\n",
    "# Reverse sigmoid function: Use code below because the  sigmoid activation was removed\n",
    "thresholds = np.log(thresholds_ori/(1-thresholds_ori)) \n",
    "\n",
    "# ious = np.array([get_iou_vector(y_valid, preds_valid > threshold) for threshold in tqdm_notebook(thresholds)])\n",
    "# print(ious)\n",
    "ious = np.array([iou_metric_batch(y_valid, preds_valid > threshold) for threshold in tqdm_notebook(thresholds)])\n",
    "print(ious)"
   ]
  },
  {
   "cell_type": "code",
   "execution_count": 71,
   "metadata": {
    "_uuid": "ce197d87cf44fef681025160cba8e4081d15ed50"
   },
   "outputs": [
    {
     "data": {
      "text/plain": [
       "<matplotlib.legend.Legend at 0x7fd5bf458630>"
      ]
     },
     "execution_count": 71,
     "metadata": {},
     "output_type": "execute_result"
    },
    {
     "data": {
      "image/png": "[encoded data removed]",
      "text/plain": [
       "<Figure size 432x288 with 1 Axes>"
      ]
     },
     "metadata": {
      "needs_background": "light"
     },
     "output_type": "display_data"
    }
   ],
   "source": [
    "threshold_best_index = np.argmax(ious)\n",
    "iou_best = ious[threshold_best_index]\n",
    "threshold_best = thresholds[threshold_best_index]\n",
    "\n",
    "plt.plot(thresholds, ious)\n",
    "plt.plot(threshold_best, iou_best, 'xr', label='Best threshold')\n",
    "plt.xlabel(\"Threshold\")\n",
    "plt.ylabel(\"IoU\")\n",
    "plt.title(\"Threshold vs IoU ({}, {})\".format(threshold_best, iou_best))\n",
    "plt.legend()"
   ]
  },
  {
   "cell_type": "code",
   "execution_count": 72,
   "metadata": {
    "_uuid": "2633e0c50ddb705021a35441c6a19fae9312603e"
   },
   "outputs": [],
   "source": [
    "def rle_encode(im):\n",
    "    '''\n",
    "    im: numpy array, 1-mask, 0-background\n",
    "    Returns run length as string\n",
    "    '''\n",
    "    pixels = im.flatten(order='F')\n",
    "    pixels = np.concatenate([[0], pixels, [0]])\n",
    "    runs = np.where(pixels[1:] != pixels[:-1])[0] + 1\n",
    "    runs[1::2] -= runs[::2]\n",
    "    return ' '.join(str(x) for x in runs)"
   ]
  },
  {
   "cell_type": "code",
   "execution_count": 73,
   "metadata": {
    "_uuid": "3c29b25a37ceb7476bc0264ea3a97dc705e07607"
   },
   "outputs": [
    {
     "data": {
      "application/vnd.jupyter.widget-view+json": {
       "model_id": "24d5cc252dda4da6b09335613319555e",
       "version_major": 2,
       "version_minor": 0
      },
      "text/plain": [
       "HBox(children=(IntProgress(value=0, max=18000), HTML(value='')))"
      ]
     },
     "metadata": {},
     "output_type": "display_data"
    },
    {
     "name": "stdout",
     "output_type": "stream",
     "text": [
      "\n"
     ]
    }
   ],
   "source": [
    "x_test = np.array([(np.array(load_img(f\"{DATA_DIR}test/images/{idx}.png\", color_mode='grayscale'))) / 255 for idx in tqdm_notebook(test_df.index)]).reshape(-1, img_size_target, img_size_target, 1)"
   ]
  },
  {
   "cell_type": "code",
   "execution_count": 74,
   "metadata": {
    "_uuid": "e129e7c3e525b884322570ed37da825cd89db290"
   },
   "outputs": [],
   "source": [
    "preds_test = predict_result(model,x_test,img_size_target)"
   ]
  },
  {
   "cell_type": "code",
   "execution_count": 75,
   "metadata": {
    "_uuid": "aac939d180585abab6dd497a45f81e3df67b25a8"
   },
   "outputs": [
    {
     "data": {
      "application/vnd.jupyter.widget-view+json": {
       "model_id": "077f6d6bbb104afab60c5f9907ecfd29",
       "version_major": 2,
       "version_minor": 0
      },
      "text/plain": [
       "HBox(children=(IntProgress(value=0, max=18000), HTML(value='')))"
      ]
     },
     "metadata": {},
     "output_type": "display_data"
    },
    {
     "name": "stdout",
     "output_type": "stream",
     "text": [
      "\n"
     ]
    }
   ],
   "source": [
    "pred_dict = {idx: rle_encode(np.round(downsample(preds_test[i]) > threshold_best)) for i, idx in enumerate(tqdm_notebook(test_df.index.values))}"
   ]
  },
  {
   "cell_type": "code",
   "execution_count": 76,
   "metadata": {
    "_uuid": "2d6ef314f368bf9923285007e7098c068af049d9"
   },
   "outputs": [],
   "source": [
    "sub = pd.DataFrame.from_dict(pred_dict,orient='index')\n",
    "sub.index.names = ['id']\n",
    "sub.columns = ['rle_mask']\n",
    "sub.to_csv(submission_file)"
   ]
  },
  {
   "cell_type": "code",
   "execution_count": 77,
   "metadata": {
    "_uuid": "ae636758e7abdc7fb87768cbfb2c6f18f8c1975f"
   },
   "outputs": [
    {
     "name": "stdout",
     "output_type": "stream",
     "text": [
      "Kernel run time = 2.2582741956578363 hours\n"
     ]
    }
   ],
   "source": [
    "t_finish = time.time()\n",
    "print(f\"Kernel run time = {(t_finish-t_start)/3600} hours\")"
   ]
  },
  {
   "cell_type": "code",
   "execution_count": null,
   "metadata": {},
   "outputs": [],
   "source": []
  }
 ],
 "metadata": {
  "kernelspec": {
   "display_name": "Python 3",
   "language": "python",
   "name": "python3"
  },
  "language_info": {
   "codemirror_mode": {
    "name": "ipython",
    "version": 3
   },
   "file_extension": ".py",
   "mimetype": "text/x-python",
   "name": "python",
   "nbconvert_exporter": "python",
   "pygments_lexer": "ipython3",
   "version": "3.6.6"
  },
  "toc": {
   "base_numbering": 1,
   "nav_menu": {},
   "number_sections": true,
   "sideBar": true,
   "skip_h1_title": false,
   "title_cell": "Table of Contents",
   "title_sidebar": "Contents",
   "toc_cell": false,
   "toc_position": {},
   "toc_section_display": true,
   "toc_window_display": false
  }
 },
 "nbformat": 4,
 "nbformat_minor": 1
}
