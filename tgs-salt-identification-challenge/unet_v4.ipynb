{
 "cells": [
  {
   "cell_type": "markdown",
   "metadata": {},
   "source": [
    "Refactored OOP"
   ]
  },
  {
   "cell_type": "markdown",
   "metadata": {},
   "source": [
    "# Import Dependencies"
   ]
  },
  {
   "cell_type": "code",
   "execution_count": 1,
   "metadata": {},
   "outputs": [],
   "source": [
    "%load_ext autoreload\n",
    "%autoreload 2\n",
    "%matplotlib inline"
   ]
  },
  {
   "cell_type": "code",
   "execution_count": 2,
   "metadata": {
    "_cell_guid": "b1076dfc-b9ad-4769-8c92-a6c4dae69d19",
    "_uuid": "8f2839f25d086af736a60e9eeb907d3b93b6e0e5"
   },
   "outputs": [
    {
     "name": "stderr",
     "output_type": "stream",
     "text": [
      "Using TensorFlow backend.\n"
     ]
    }
   ],
   "source": [
    "import gc\n",
    "import glob\n",
    "import os\n",
    "\n",
    "import cv2\n",
    "import numpy as np\n",
    "import pandas as pd\n",
    "\n",
    "import matplotlib.pyplot as plt\n",
    "plt.style.use('seaborn-white')\n",
    "import seaborn as sns\n",
    "sns.set_style('white')\n",
    "\n",
    "from tqdm import tqdm, tqdm_notebook\n",
    "from sklearn.model_selection import train_test_split\n",
    "\n",
    "import tensorflow as tf\n",
    "\n",
    "from keras.models import Model, load_model, save_model\n",
    "from keras.layers import Input, Dropout, BatchNormalization, Activation, Add\n",
    "from keras.layers.core import Lambda\n",
    "from keras.layers.convolutional import Conv2D, Conv2DTranspose\n",
    "from keras.layers.pooling import MaxPooling2D\n",
    "from keras.layers.merge import concatenate\n",
    "from keras.callbacks import EarlyStopping, ModelCheckpoint, ReduceLROnPlateau\n",
    "from keras import backend as K\n",
    "from keras import optimizers"
   ]
  },
  {
   "cell_type": "markdown",
   "metadata": {
    "_cell_guid": "79c7e3d0-c299-4dcb-8224-4455121ee9b0",
    "_uuid": "d629ff2d2480ee46fbb7e2d37f6b5fab8052498a",
    "collapsed": true
   },
   "source": [
    "# Define SaltParser"
   ]
  },
  {
   "cell_type": "code",
   "execution_count": 3,
   "metadata": {
    "_uuid": "9d271494cfd45b33e90711cd1ef9a466811d3152"
   },
   "outputs": [],
   "source": [
    "class SaltParser(object):\n",
    "\n",
    "    '''\n",
    "    Parser for Salt Competition.\n",
    "    '''\n",
    "\n",
    "    def __init__(self, data_src,img_size_ori, img_size_target):\n",
    "\n",
    "        self.data_src = data_src\n",
    "        self.img_size_ori = img_size_ori\n",
    "        self.img_size_target = img_size_target\n",
    "        \n",
    "        self.train_df = None\n",
    "        self.test_df = None\n",
    "\n",
    "        self.X_train = []\n",
    "        self.y_train = []\n",
    "        self.X_test = []\n",
    "        \n",
    "\n",
    "    def load_csv_data(self):\n",
    "        \n",
    "        '''\n",
    "        Initialize processing by loading .csv files.\n",
    "        After loading, train_df and test_df will have column 'id' for each unique image id\n",
    "        and 'z' for depth\n",
    "        '''\n",
    "\n",
    "        train_df = pd.read_csv(f'{self.data_src}train.csv', usecols=[0], index_col='id')\n",
    "        depths_df = pd.read_csv(f'{self.data_src}depths.csv', index_col='id')\n",
    "        self.train_df = train_df.join(depths_df)\n",
    "        self.test_df = depths_df[~depths_df.index.isin(train_df.index)]\n",
    "\n",
    "        return\n",
    "\n",
    "    \n",
    "    def load_img_data(self):\n",
    "        \n",
    "        '''\n",
    "        Load images and masks from training set. Can only be executed after load_csv_data()\n",
    "        \n",
    "        # Returns:\n",
    "            self.X_train: np.array of training images\n",
    "            self.y_train: np.array of training masks\n",
    "            self.X_test: np.array of test images\n",
    "        '''\n",
    "\n",
    "        print(\"Loading training images...\")\n",
    "        self.X_train = [np.array(cv2.imread(f\"{self.data_src}train/images/{idx}.png\", 0)) for idx in tqdm_notebook(self.train_df.index)]\n",
    "        self.X_train = np.expand_dims(self.X_train, -1)\n",
    "        print(f'X_train shape: {self.X_train.shape}')\n",
    "        print(f'X_train - min: {np.min(self.X_train)}, max: {np.max(self.X_train)}')\n",
    "        \n",
    "        print(\"\\n\\nLoading training masks...\")\n",
    "        self.y_train = [np.array(cv2.imread(f\"{self.data_src}train/masks/{idx}.png\", 0)) for idx in tqdm_notebook(self.train_df.index)]\n",
    "        self.y_train = np.expand_dims(self.y_train, -1)\n",
    "        print(f'y_train shape: {self.y_train.shape}')\n",
    "        print(f'y_train - min: {np.min(self.y_train)}, max: {np.max(self.y_train)}')\n",
    "\n",
    "        print(\"\\n\\nLoading test images...\")\n",
    "        self.X_test = [np.array(cv2.imread(f\"{self.data_src}test/images/{idx}.png\", 0)) for idx in tqdm_notebook(self.test_df.index)]\n",
    "        self.X_test = np.expand_dims(self.X_test, -1)  \n",
    "        print(f'X_test shape: {self.X_test.shape}')\n",
    "        print(f'X_test - min: {np.min(self.X_test)}, max: {np.max(self.X_test)}')\n",
    "\n",
    "        return self.X_train, self.y_train, self.X_test\n",
    "    \n",
    "    \n",
    "    def process_img(self, data, normalized=False, image_resized_size=None, padding=None):\n",
    "        scale = 1\n",
    "        if normalized:\n",
    "            scale = 1 / 255.\n",
    "            \n",
    "        data_proc = data * scale\n",
    "        data_proc_list = []\n",
    "        \n",
    "        for i in tqdm_notebook(range(data_proc.shape[0])):\n",
    "            img_tmp = data_proc[i,:,:,0]\n",
    "\n",
    "            if image_resized_size:\n",
    "                img_tmp = cv2.resize(img_tmp, image_resized_size)\n",
    "\n",
    "            if padding:\n",
    "                img_tmp = cv2.copyMakeBorder(img_tmp, padding, padding, padding, padding,\n",
    "                                             cv2.BORDER_REFLECT_101)\n",
    "            data_proc_list.append(img_tmp)\n",
    "            \n",
    "        data_proc = np.expand_dims(data_proc_list, -1)          \n",
    "            \n",
    "        print(f'Processed data shape: {data_proc.shape}')\n",
    "        print(f'Processed data - min: {np.min(data_proc)}, max: {np.max(data_proc)}')\n",
    "        \n",
    "        return data_proc\n",
    "    \n",
    "\n",
    "    def compute_coverage(self):\n",
    "        \n",
    "        '''\n",
    "        Compute salt coverage of each mask. This will serve as a basis for \n",
    "        stratified split between training and validation sets.\n",
    "        \n",
    "        # Returns:\n",
    "            self.train_df: training DF containing coverage information.\n",
    "        '''\n",
    "\n",
    "        print('Compute mask coverage for each observation.')\n",
    "        self.train_df['coverage'] = np.mean(self.y_train / 255., axis=(1, 2))\n",
    "        self.train_df[\"coverage_class\"] = self.train_df.coverage.apply(lambda val: np.int(np.ceil(val*10)))\n",
    "\n",
    "        return self.train_df\n",
    "\n",
    "    def predictions_rle_encode(self, y_pred_test, confidence_threshold_best):\n",
    "        \n",
    "        '''\n",
    "        Run Length Encoding of predictions.\n",
    "        This is needed for submission output.\n",
    "        \n",
    "        # Arguments:\n",
    "            y_pred_test: model predictions\n",
    "            confidence_threshold_best: confidence threshold, according to which\n",
    "                masks are set to 1/0.\n",
    "        # Returns:\n",
    "            y_test_pred_rle: RLEncoded predictions.\n",
    "        '''\n",
    "\n",
    "        # Remove padding\n",
    "        print('Remove padding from images.')\n",
    "        y_pred_test = y_pred_test[:, 11:-11, 11:-11, 0]\n",
    "            \n",
    "        # Resize back to original size\n",
    "        y_pred_test = np.asarray([cv2.resize(x, self.img_size_ori) for x in y_pred_test])\n",
    "\n",
    "        assert y_pred_test.shape == (18000, 101, 101), '\\\n",
    "        Test predictions shape must be equal to (18000, 101, 101).'\n",
    "\n",
    "        print('Test predictions shape: {}'.format(y_pred_test.shape))\n",
    "\n",
    "        # Perform mask predictions binarization and RLEncoding. \n",
    "        y_test_pred_rle = {idx:\n",
    "                           rle_encode(y_pred_test[i] > confidence_threshold_best)\n",
    "                           for i, idx in enumerate(\n",
    "                               tqdm(self.test_df.index.values))}\n",
    "\n",
    "        return y_test_pred_rle\n",
    "\n",
    "    def generate_submission(self, y_test_pred_rle):\n",
    "        \n",
    "        '''\n",
    "        Submission generation based on encoded model predictions.\n",
    "        \n",
    "        # Arguments:\n",
    "            y_test_pred_rle: RLEncoded predictions.\n",
    "        # Returns:\n",
    "            submission: generated submission.\n",
    "        '''\n",
    "\n",
    "        submission = pd.DataFrame.from_dict(y_test_pred_rle, orient='index')\n",
    "        submission.index.names = ['id']\n",
    "        submission.columns = ['rle_mask']\n",
    "\n",
    "        return submission"
   ]
  },
  {
   "cell_type": "markdown",
   "metadata": {
    "_uuid": "20f93da27bd8e6922bfad852edfc769c2095b433"
   },
   "source": [
    "## Define helper functions"
   ]
  },
  {
   "cell_type": "code",
   "execution_count": 4,
   "metadata": {
    "_uuid": "a68c571ea8d6f5b5b6201e987c1deada9714a503"
   },
   "outputs": [],
   "source": [
    "# Quick RLEncoding needed for submission generation.\n",
    "# Source: another kernel, thanks!\n",
    "def rle_encode(im):\n",
    "    '''\n",
    "    im: numpy array, 1-mask, 0-background\n",
    "    Returns run length as string\n",
    "    '''\n",
    "    pixels = im.flatten(order='F')\n",
    "    pixels = np.concatenate([[0], pixels, [0]])\n",
    "    runs = np.where(pixels[1:] != pixels[:-1])[0] + 1\n",
    "    runs[1::2] -= runs[::2]\n",
    "    return ' '.join(str(x) for x in runs)"
   ]
  },
  {
   "cell_type": "markdown",
   "metadata": {
    "_uuid": "f5768297e4d981d42207053fa8a138393fb5ff76"
   },
   "source": [
    "## Initialize parameters"
   ]
  },
  {
   "cell_type": "code",
   "execution_count": 5,
   "metadata": {
    "_uuid": "fd70c3f34fbf6964219660e84a08e3c99ad61104"
   },
   "outputs": [],
   "source": [
    "salt_parser = SaltParser(data_src='data/salt/', \n",
    "                         img_size_ori=(101,101), \n",
    "                         img_size_target=(224,224))"
   ]
  },
  {
   "cell_type": "markdown",
   "metadata": {
    "_uuid": "46665eec45583df16e464dddffcea2ff805d1550"
   },
   "source": [
    "## Initialize and load data"
   ]
  },
  {
   "cell_type": "code",
   "execution_count": 6,
   "metadata": {
    "_uuid": "f5ed4567963ac3b9eeb77ed3329d310517ecb6d0"
   },
   "outputs": [
    {
     "name": "stdout",
     "output_type": "stream",
     "text": [
      "Loading training images...\n"
     ]
    },
    {
     "data": {
      "application/vnd.jupyter.widget-view+json": {
       "model_id": "446af7287fc94229a59334f5d8800db4",
       "version_major": 2,
       "version_minor": 0
      },
      "text/plain": [
       "HBox(children=(IntProgress(value=0, max=4000), HTML(value='')))"
      ]
     },
     "metadata": {},
     "output_type": "display_data"
    },
    {
     "name": "stdout",
     "output_type": "stream",
     "text": [
      "\n",
      "X_train shape: (4000, 101, 101, 1)\n",
      "X_train - min: 0, max: 255\n",
      "\n",
      "\n",
      "Loading training masks...\n"
     ]
    },
    {
     "data": {
      "application/vnd.jupyter.widget-view+json": {
       "model_id": "5572bb0f599447bebcdded8bbcc1267c",
       "version_major": 2,
       "version_minor": 0
      },
      "text/plain": [
       "HBox(children=(IntProgress(value=0, max=4000), HTML(value='')))"
      ]
     },
     "metadata": {},
     "output_type": "display_data"
    },
    {
     "name": "stdout",
     "output_type": "stream",
     "text": [
      "\n",
      "y_train shape: (4000, 101, 101, 1)\n",
      "y_train - min: 0, max: 255\n",
      "\n",
      "\n",
      "Loading test images...\n"
     ]
    },
    {
     "data": {
      "application/vnd.jupyter.widget-view+json": {
       "model_id": "34f6fe34ccb5443c83a3222de170cb52",
       "version_major": 2,
       "version_minor": 0
      },
      "text/plain": [
       "HBox(children=(IntProgress(value=0, max=18000), HTML(value='')))"
      ]
     },
     "metadata": {},
     "output_type": "display_data"
    },
    {
     "name": "stdout",
     "output_type": "stream",
     "text": [
      "\n",
      "X_test shape: (18000, 101, 101, 1)\n",
      "X_test - min: 0, max: 255\n"
     ]
    }
   ],
   "source": [
    "salt_parser.load_csv_data()\n",
    "X_train, y_train, X_test = salt_parser.load_img_data()"
   ]
  },
  {
   "cell_type": "markdown",
   "metadata": {},
   "source": [
    "## Salt coverage"
   ]
  },
  {
   "cell_type": "code",
   "execution_count": 10,
   "metadata": {},
   "outputs": [
    {
     "name": "stdout",
     "output_type": "stream",
     "text": [
      "Compute mask coverage for each observation.\n"
     ]
    }
   ],
   "source": [
    "train_df = salt_parser.compute_coverage()"
   ]
  },
  {
   "cell_type": "code",
   "execution_count": 11,
   "metadata": {},
   "outputs": [
    {
     "data": {
      "text/plain": [
       "Text(0.5, 0, 'Coverage class')"
      ]
     },
     "execution_count": 11,
     "metadata": {},
     "output_type": "execute_result"
    },
    {
     "data": {
      "image/png": "[encoded data removed]",
      "text/plain": [
       "<Figure size 1080x360 with 2 Axes>"
      ]
     },
     "metadata": {},
     "output_type": "display_data"
    }
   ],
   "source": [
    "fig, axs = plt.subplots(1, 2, figsize=(15,5))\n",
    "sns.distplot(train_df.coverage, kde=False, ax=axs[0])\n",
    "sns.distplot(train_df.coverage_class, bins=10, kde=False, ax=axs[1])\n",
    "plt.suptitle(\"Salt coverage\")\n",
    "axs[0].set_xlabel(\"Coverage\")\n",
    "axs[1].set_xlabel(\"Coverage class\")"
   ]
  },
  {
   "cell_type": "markdown",
   "metadata": {},
   "source": [
    "## Depth"
   ]
  },
  {
   "cell_type": "code",
   "execution_count": 12,
   "metadata": {},
   "outputs": [
    {
     "data": {
      "text/plain": [
       "Text(0.5, 1.0, 'Depth distribution')"
      ]
     },
     "execution_count": 12,
     "metadata": {},
     "output_type": "execute_result"
    },
    {
     "data": {
      "image/png": "[encoded data removed]",
      "text/plain": [
       "<Figure size 432x288 with 1 Axes>"
      ]
     },
     "metadata": {},
     "output_type": "display_data"
    }
   ],
   "source": [
    "sns.distplot(salt_parser.train_df.z, label=\"Train\")\n",
    "sns.distplot(salt_parser.test_df.z, label=\"Test\")\n",
    "plt.legend()\n",
    "plt.title(\"Depth distribution\")"
   ]
  },
  {
   "cell_type": "markdown",
   "metadata": {
    "_uuid": "7d6d6bebf40a69a4d03f0c94b62f8bf541e548aa"
   },
   "source": [
    "## Process raw images by normalization, scaling and padding"
   ]
  },
  {
   "cell_type": "code",
   "execution_count": 40,
   "metadata": {
    "_uuid": "5bcb17bbea834396ba526a95ca5d8357cf9d34f5"
   },
   "outputs": [
    {
     "data": {
      "application/vnd.jupyter.widget-view+json": {
       "model_id": "0ee247c37a2340c8a11223cefeb40cb4",
       "version_major": 2,
       "version_minor": 0
      },
      "text/plain": [
       "HBox(children=(IntProgress(value=0, max=4000), HTML(value='')))"
      ]
     },
     "metadata": {},
     "output_type": "display_data"
    },
    {
     "name": "stdout",
     "output_type": "stream",
     "text": [
      "\n",
      "Processed data shape: (4000, 224, 224, 1)\n",
      "Processed data - min: 0.0, max: 1.0\n"
     ]
    },
    {
     "data": {
      "application/vnd.jupyter.widget-view+json": {
       "model_id": "eaf7c061c638480483f6ba9adef9e407",
       "version_major": 2,
       "version_minor": 0
      },
      "text/plain": [
       "HBox(children=(IntProgress(value=0, max=4000), HTML(value='')))"
      ]
     },
     "metadata": {},
     "output_type": "display_data"
    },
    {
     "name": "stdout",
     "output_type": "stream",
     "text": [
      "\n",
      "Processed data shape: (4000, 224, 224, 1)\n",
      "Processed data - min: 0.0, max: 1.0\n"
     ]
    },
    {
     "data": {
      "application/vnd.jupyter.widget-view+json": {
       "model_id": "3b35db5398b14becb073cefe58105e26",
       "version_major": 2,
       "version_minor": 0
      },
      "text/plain": [
       "HBox(children=(IntProgress(value=0, max=18000), HTML(value='')))"
      ]
     },
     "metadata": {},
     "output_type": "display_data"
    },
    {
     "name": "stdout",
     "output_type": "stream",
     "text": [
      "\n",
      "Processed data shape: (18000, 224, 224, 1)\n",
      "Processed data - min: 0.0, max: 1.0\n"
     ]
    }
   ],
   "source": [
    "X_train_proc = salt_parser.process_img(salt_parser.X_train, normalized=True, image_resized_size=(202,202), padding=11)\n",
    "y_train_proc = salt_parser.process_img(salt_parser.y_train, normalized=True, image_resized_size=(202,202), padding=11)\n",
    "X_test_proc = salt_parser.process_img(salt_parser.X_test, normalized=True, image_resized_size=(202,202), padding=11)"
   ]
  },
  {
   "cell_type": "code",
   "execution_count": 41,
   "metadata": {},
   "outputs": [],
   "source": [
    "X_train_proc = X_train_proc.astype(np.float32)\n",
    "y_train_proc = y_train_proc.astype(np.float32)\n",
    "X_test_proc = X_test_proc.astype(np.float32)"
   ]
  },
  {
   "cell_type": "markdown",
   "metadata": {},
   "source": [
    "## Sanity Check"
   ]
  },
  {
   "cell_type": "code",
   "execution_count": 84,
   "metadata": {},
   "outputs": [
    {
     "name": "stdout",
     "output_type": "stream",
     "text": [
      "482\n"
     ]
    },
    {
     "data": {
      "text/plain": [
       "Text(0.5, 1.0, '2x-scaled image and reflected padding')"
      ]
     },
     "execution_count": 84,
     "metadata": {},
     "output_type": "execute_result"
    },
    {
     "data": {
      "image/png": "[encoded data removed]",
      "text/plain": [
       "<Figure size 1080x720 with 4 Axes>"
      ]
     },
     "metadata": {},
     "output_type": "display_data"
    }
   ],
   "source": [
    "idx = np.random.randint(0,4000)\n",
    "print(idx)\n",
    "\n",
    "tmp_img = np.ones((224,224), dtype=np.float64)*255\n",
    "tmp_mask = np.zeros((224,224), dtype=np.float64)\n",
    "\n",
    "tmp_img[62:163, 62:163] = salt_parser.X_train[idx,:,:,0]\n",
    "tmp_mask[62:163, 62:163] = salt_parser.y_train[idx,:,:,0]\n",
    "\n",
    "fig, ax = plt.subplots(2, 2, figsize=(15,10))\n",
    "\n",
    "ax[0,0].imshow(tmp_img, cmap=\"gray\")\n",
    "ax[0,0].set_title(\"Original image\")\n",
    "ax[0,1].imshow(tmp_mask, cmap=\"gray\")\n",
    "ax[0,1].set_title(\"Original mask\")\n",
    "ax[1,0].imshow(X_train_proc[idx].squeeze(), cmap=\"gray\")\n",
    "ax[1,0].set_title(\"2x-scaled image and reflected padding\")\n",
    "ax[1,1].imshow(y_train_proc[idx].squeeze(), cmap=\"gray\")\n",
    "ax[1,1].set_title(\"2x-scaled image and reflected padding\")"
   ]
  },
  {
   "cell_type": "markdown",
   "metadata": {
    "_uuid": "6d49b31618e2dabede490165fd39b559b9f343e8"
   },
   "source": [
    "# Perform stratified training/validation split based on coverage/depth"
   ]
  },
  {
   "cell_type": "code",
   "execution_count": 19,
   "metadata": {
    "_uuid": "3f06ef1c577c2341bacaa901ae4fda091a22ef5b"
   },
   "outputs": [
    {
     "data": {
      "text/plain": [
       "0"
      ]
     },
     "execution_count": 19,
     "metadata": {},
     "output_type": "execute_result"
    }
   ],
   "source": [
    "# Perform 80/20 training/validation split based on stratified coverage.\n",
    "X_train, X_valid, y_train, y_valid, cov_train, cov_test, depth_train, depth_test = train_test_split(\n",
    "    X_train_proc,\n",
    "    y_train_proc,\n",
    "    train_df.coverage.values,\n",
    "    train_df.z.values,\n",
    "    test_size=0.2, \n",
    "    stratify=train_df.coverage_class, \n",
    "    random_state=1234)\n",
    "\n",
    "del train_df\n",
    "gc.collect()\n",
    "\n",
    "del X_train_proc, y_train_proc\n",
    "gc.collect()"
   ]
  },
  {
   "cell_type": "code",
   "execution_count": 136,
   "metadata": {},
   "outputs": [
    {
     "data": {
      "text/plain": [
       "(3180, (3180, 224, 224, 1))"
      ]
     },
     "execution_count": 136,
     "metadata": {},
     "output_type": "execute_result"
    }
   ],
   "source": [
    "len(y_train), y_train.shape"
   ]
  },
  {
   "cell_type": "code",
   "execution_count": 170,
   "metadata": {},
   "outputs": [],
   "source": [
    "# boolean mask for mask with either all black pixel or at most 50 white pixels\n",
    "thres = 30**2\n",
    "y_mask = np.squeeze((y_train.sum(axis=(1,2))>=thres) | (y_train.sum(axis=(1,2))==0))"
   ]
  },
  {
   "cell_type": "code",
   "execution_count": 171,
   "metadata": {},
   "outputs": [
    {
     "data": {
      "text/plain": [
       "(array([  22,   27,   34,  107,  116,  180,  186,  199,  200,  230,  261,\n",
       "         302,  324,  347,  371,  380,  397,  422,  441,  468,  470,  502,\n",
       "         505,  564,  588,  594,  626,  636,  657,  668,  711,  766,  816,\n",
       "         818,  829,  834,  859,  865,  884,  900,  933,  968, 1047, 1073,\n",
       "        1141, 1144, 1206, 1230, 1236, 1237, 1258, 1290, 1291, 1326, 1337,\n",
       "        1339, 1342, 1354, 1366, 1388, 1414, 1425, 1442, 1497, 1518, 1703,\n",
       "        1710, 1771, 1799, 1802, 1835, 1887, 1898, 2033, 2050, 2094, 2120,\n",
       "        2194, 2199, 2218, 2222, 2274, 2276, 2327, 2343, 2378, 2429, 2477,\n",
       "        2483, 2484, 2501, 2521, 2535, 2565, 2598, 2622, 2629, 2639, 2657,\n",
       "        2662, 2713, 2831, 2837, 2882, 2908, 2922, 2939, 2962, 2974, 3017,\n",
       "        3033, 3035]),)"
      ]
     },
     "execution_count": 171,
     "metadata": {},
     "output_type": "execute_result"
    }
   ],
   "source": [
    "np.where(y_mask == False)"
   ]
  },
  {
   "cell_type": "code",
   "execution_count": 172,
   "metadata": {},
   "outputs": [
    {
     "data": {
      "text/plain": [
       "<matplotlib.image.AxesImage at 0x7fb13de94a90>"
      ]
     },
     "execution_count": 172,
     "metadata": {},
     "output_type": "execute_result"
    },
    {
     "data": {
      "image/png": "[encoded data removed]",
      "text/plain": [
       "<Figure size 720x216 with 2 Axes>"
      ]
     },
     "metadata": {},
     "output_type": "display_data"
    }
   ],
   "source": [
    "idx = 1703\n",
    "fig, ax = plt.subplots(1, 2, figsize=(10,3))\n",
    "\n",
    "ax[0].imshow(X_train[idx].squeeze(), cmap=\"gray\")\n",
    "ax[1].imshow(y_train[idx].squeeze(), cmap=\"gray\")"
   ]
  },
  {
   "cell_type": "code",
   "execution_count": 173,
   "metadata": {},
   "outputs": [
    {
     "data": {
      "text/plain": [
       "3068"
      ]
     },
     "execution_count": 173,
     "metadata": {},
     "output_type": "execute_result"
    }
   ],
   "source": [
    "len(y_train[y_mask])"
   ]
  },
  {
   "cell_type": "code",
   "execution_count": 174,
   "metadata": {},
   "outputs": [],
   "source": [
    "X_train = X_train[y_mask]\n",
    "y_train = y_train[y_mask]"
   ]
  },
  {
   "cell_type": "code",
   "execution_count": 176,
   "metadata": {},
   "outputs": [
    {
     "data": {
      "text/plain": [
       "(3068, 3068)"
      ]
     },
     "execution_count": 176,
     "metadata": {},
     "output_type": "execute_result"
    }
   ],
   "source": [
    "len(X_train), len(y_train)"
   ]
  },
  {
   "cell_type": "markdown",
   "metadata": {},
   "source": [
    "# Simple horizontal augmentation to double the data"
   ]
  },
  {
   "cell_type": "code",
   "execution_count": 177,
   "metadata": {},
   "outputs": [],
   "source": [
    "X_train = np.append(X_train, [np.fliplr(x) for x in X_train], axis=0)\n",
    "y_train = np.append(y_train, [np.fliplr(x) for x in y_train], axis=0)"
   ]
  },
  {
   "cell_type": "markdown",
   "metadata": {
    "_uuid": "94214b584b843bc238a60c8a9880ed705c87a1f8"
   },
   "source": [
    "# Define UNet model"
   ]
  },
  {
   "cell_type": "code",
   "execution_count": 178,
   "metadata": {},
   "outputs": [],
   "source": [
    "def BatchActivate(x):\n",
    "    x = BatchNormalization()(x)\n",
    "    x = Activation('relu')(x)\n",
    "    return x\n",
    "\n",
    "def convolution_block(x, filters, size, strides=(1,1), padding='same', activation=True):\n",
    "    x = Conv2D(filters, size, strides=strides, padding=padding)(x)\n",
    "    if activation==True: x = BatchActivate(x)\n",
    "    return x\n",
    "\n",
    "def residual_block(blockInput, num_filters=16, batch_activate=False):\n",
    "    x = BatchActivate(blockInput)\n",
    "    x = convolution_block(x, num_filters, (3,3))\n",
    "    x = convolution_block(x, num_filters, (3,3), activation=False)\n",
    "    x = Add()([x, blockInput])\n",
    "    if batch_activate: x = BatchActivate(x)\n",
    "    return x"
   ]
  },
  {
   "cell_type": "code",
   "execution_count": 179,
   "metadata": {},
   "outputs": [],
   "source": [
    "# Build Model\n",
    "def build_model(input_layer, start_neurons, DropoutRatio=0.5):\n",
    "    # 224 -> 112\n",
    "    conv1 = Conv2D(start_neurons*1, (3,3), activation=None, padding='same')(input_layer)\n",
    "    conv1 = residual_block(conv1, start_neurons*1)\n",
    "    conv1 = residual_block(conv1, start_neurons*1, True)\n",
    "    pool1 = MaxPooling2D((2,2))(conv1)\n",
    "    pool1 = Dropout(DropoutRatio/2)(pool1)\n",
    "    \n",
    "    # 112 -> 56\n",
    "    conv2 = Conv2D(start_neurons*2, (3,3), activation=None, padding='same')(pool1)\n",
    "    conv2 = residual_block(conv2, start_neurons*2)\n",
    "    conv2 = residual_block(conv2, start_neurons*2, True)\n",
    "    pool2 = MaxPooling2D((2,2))(conv2)\n",
    "    pool2 = Dropout(DropoutRatio)(pool2)\n",
    "    \n",
    "    # 56 -> 28\n",
    "    conv3 = Conv2D(start_neurons*4, (3,3), activation=None, padding='same')(pool2)\n",
    "    conv3 = residual_block(conv3, start_neurons*4)\n",
    "    conv3 = residual_block(conv3, start_neurons*4, True)\n",
    "    pool3 = MaxPooling2D((2,2))(conv3)\n",
    "    pool3 = Dropout(DropoutRatio)(pool3)\n",
    "    \n",
    "    # 28 -> 14\n",
    "    conv4 = Conv2D(start_neurons*8, (3,3), activation=None, padding='same')(pool3)\n",
    "    conv4 = residual_block(conv4, start_neurons*8)\n",
    "    conv4 = residual_block(conv4, start_neurons*8, True)\n",
    "    pool4 = MaxPooling2D((2,2))(conv4)\n",
    "    pool4 = Dropout(DropoutRatio)(pool4)\n",
    "    \n",
    "    # 14 -> 7\n",
    "    conv5 = Conv2D(start_neurons*16, (3,3), activation=None, padding='same')(pool4)\n",
    "    conv5 = residual_block(conv5, start_neurons*16)\n",
    "    conv5 = residual_block(conv5, start_neurons*16, True)\n",
    "    pool5 = MaxPooling2D((2,2))(conv5)\n",
    "    pool5 = Dropout(DropoutRatio)(pool5)\n",
    "    \n",
    "    # Middle\n",
    "    convm = Conv2D(start_neurons*32, (3,3), activation=None, padding='same')(pool5)\n",
    "    convm = residual_block(convm, start_neurons*32)\n",
    "    convm = residual_block(convm, start_neurons*32, True)\n",
    "    \n",
    "    # 7 -> 14\n",
    "    deconv5 = Conv2DTranspose(start_neurons*16, (3,3), strides=(2,2), padding='same')(convm)\n",
    "    uconv5 = concatenate([deconv5, conv5])\n",
    "    uconv5 = Dropout(DropoutRatio)(uconv5)\n",
    "    \n",
    "    uconv5 = Conv2D(start_neurons*16, (3,3), activation=None, padding='same')(uconv5)\n",
    "    uconv5 = residual_block(uconv5, start_neurons*16)\n",
    "    uconv5 = residual_block(uconv5, start_neurons*16, True)\n",
    "    \n",
    "    # 14 -> 28\n",
    "    deconv4 = Conv2DTranspose(start_neurons*8, (3,3), strides=(2,2), padding='same')(uconv5)\n",
    "    uconv4 = concatenate([deconv4, conv4])\n",
    "    uconv4 = Dropout(DropoutRatio)(uconv4)\n",
    "    \n",
    "    uconv4 = Conv2D(start_neurons*8, (3,3), activation=None, padding='same')(uconv4)\n",
    "    uconv4 = residual_block(uconv4, start_neurons*8)\n",
    "    uconv4 = residual_block(uconv4, start_neurons*8, True)\n",
    "    \n",
    "    # 28 -> 56\n",
    "    deconv3 = Conv2DTranspose(start_neurons*4, (3,3), strides=(2,2), padding='same')(uconv4)\n",
    "    uconv3 = concatenate([deconv3, conv3])\n",
    "    uconv3 = Dropout(DropoutRatio)(uconv3)\n",
    "    \n",
    "    uconv3 = Conv2D(start_neurons*4, (3,3), activation=None, padding='same')(uconv3)\n",
    "    uconv3 = residual_block(uconv3, start_neurons*4)\n",
    "    uconv3 = residual_block(uconv3, start_neurons*4, True)\n",
    "    \n",
    "    # 56 -> 112\n",
    "    deconv2 = Conv2DTranspose(start_neurons*2, (3,3), strides=(2,2), padding='same')(uconv3)\n",
    "    uconv2 = concatenate([deconv2, conv2])\n",
    "    uconv2 = Dropout(DropoutRatio)(uconv2)\n",
    "    \n",
    "    uconv2 = Conv2D(start_neurons*2, (3,3), activation=None, padding='same')(uconv2)\n",
    "    uconv2 = residual_block(uconv2, start_neurons*2)\n",
    "    uconv2 = residual_block(uconv2, start_neurons*2, True)\n",
    "    \n",
    "    # 112 -> 224\n",
    "    deconv1 = Conv2DTranspose(start_neurons*1, (3,3), strides=(2,2), padding='same')(uconv2)\n",
    "    uconv1 = concatenate([deconv1, conv1])\n",
    "    uconv1 = Dropout(DropoutRatio)(uconv1)\n",
    "    \n",
    "    uconv1 = Conv2D(start_neurons*1, (3,3), activation=None, padding='same')(uconv1)\n",
    "    uconv1 = residual_block(uconv1, start_neurons*1)\n",
    "    uconv1 = residual_block(uconv1, start_neurons*1, True)\n",
    "    \n",
    "    output_layer_noActi = Conv2D(1, (1,1), padding='same', activation=None)(uconv1)\n",
    "    output_layer = Activation('sigmoid')(output_layer_noActi)\n",
    "    \n",
    "    return output_layer"
   ]
  },
  {
   "cell_type": "markdown",
   "metadata": {},
   "source": [
    "# Metric Loss"
   ]
  },
  {
   "cell_type": "code",
   "execution_count": 180,
   "metadata": {},
   "outputs": [],
   "source": [
    "def get_iou_vector(A, B):\n",
    "    batch_size = A.shape[0]\n",
    "    metric = []\n",
    "    for batch in range(batch_size):\n",
    "        t, p = A[batch]>0, B[batch]>0\n",
    "        intersection = np.logical_and(t, p)\n",
    "        union = np.logical_or(t, p)\n",
    "        iou = (np.sum(intersection > 0) + 1e-10 )/ (np.sum(union > 0) + 1e-10)\n",
    "        thresholds = np.arange(0.5, 1, 0.05)\n",
    "        s = []\n",
    "        for thresh in thresholds:\n",
    "            s.append(iou > thresh)\n",
    "        metric.append(np.mean(s))\n",
    "        \n",
    "    return np.mean(metric)\n",
    "\n",
    "def my_iou_metric(label, pred):\n",
    "    return tf.py_func(get_iou_vector, [label, pred>0.5], tf.float64)\n",
    "\n",
    "def my_iou_metric_2(label, pred):\n",
    "    return tf.py_func(get_iou_vector, [label, pred >0], tf.float64)"
   ]
  },
  {
   "cell_type": "code",
   "execution_count": 181,
   "metadata": {},
   "outputs": [],
   "source": [
    "# code download from: https://github.com/bermanmaxim/LovaszSoftmax\n",
    "def lovasz_grad(gt_sorted):\n",
    "    \"\"\"\n",
    "    Computes gradient of the Lovasz extension w.r.t sorted errors\n",
    "    See Alg. 1 in paper\n",
    "    \"\"\"\n",
    "    gts = tf.reduce_sum(gt_sorted)\n",
    "    intersection = gts - tf.cumsum(gt_sorted)\n",
    "    union = gts + tf.cumsum(1. - gt_sorted)\n",
    "    jaccard = 1. - intersection / union\n",
    "    jaccard = tf.concat((jaccard[0:1], jaccard[1:] - jaccard[:-1]), 0)\n",
    "    return jaccard\n",
    "\n",
    "# --------------------------- BINARY LOSSES ---------------------------\n",
    "\n",
    "def lovasz_hinge(logits, labels, per_image=True, ignore=None):\n",
    "    \"\"\"\n",
    "    Binary Lovasz hinge loss\n",
    "      logits: [B, H, W] Variable, logits at each pixel (between -\\infty and +\\infty)\n",
    "      labels: [B, H, W] Tensor, binary ground truth masks (0 or 1)\n",
    "      per_image: compute the loss per image instead of per batch\n",
    "      ignore: void class id\n",
    "    \"\"\"\n",
    "    if per_image:\n",
    "        def treat_image(log_lab):\n",
    "            log, lab = log_lab\n",
    "            log, lab = tf.expand_dims(log, 0), tf.expand_dims(lab, 0)\n",
    "            log, lab = flatten_binary_scores(log, lab, ignore)\n",
    "            return lovasz_hinge_flat(log, lab)\n",
    "        losses = tf.map_fn(treat_image, (logits, labels), dtype=tf.float32)\n",
    "        loss = tf.reduce_mean(losses)\n",
    "    else:\n",
    "        loss = lovasz_hinge_flat(*flatten_binary_scores(logits, labels, ignore))\n",
    "    return loss\n",
    "\n",
    "def lovasz_hinge_flat(logits, labels):\n",
    "    \"\"\"\n",
    "    Binary Lovasz hinge loss\n",
    "      logits: [P] Variable, logits at each prediction (between -\\infty and +\\infty)\n",
    "      labels: [P] Tensor, binary ground truth labels (0 or 1)\n",
    "      ignore: label to ignore\n",
    "    \"\"\"\n",
    "\n",
    "    def compute_loss():\n",
    "        labelsf = tf.cast(labels, logits.dtype)\n",
    "        signs = 2. * labelsf - 1.\n",
    "        errors = 1. - logits * tf.stop_gradient(signs)\n",
    "        errors_sorted, perm = tf.nn.top_k(errors, k=tf.shape(errors)[0], name=\"descending_sort\")\n",
    "        gt_sorted = tf.gather(labelsf, perm)\n",
    "        grad = lovasz_grad(gt_sorted)\n",
    "        loss = tf.tensordot(tf.nn.elu(errors_sorted), tf.stop_gradient(grad), 1, name=\"loss_non_void\")\n",
    "        return loss\n",
    "\n",
    "    # deal with the void prediction case (only void pixels)\n",
    "    loss = tf.cond(tf.equal(tf.shape(logits)[0], 0),\n",
    "                   lambda: tf.reduce_sum(logits) * 0.,\n",
    "                   compute_loss,\n",
    "                   strict=True,\n",
    "                   name=\"loss\"\n",
    "                   )\n",
    "    return loss\n",
    "\n",
    "\n",
    "def flatten_binary_scores(scores, labels, ignore=None):\n",
    "    \"\"\"\n",
    "    Flattens predictions in the batch (binary case)\n",
    "    Remove labels equal to 'ignore'\n",
    "    \"\"\"\n",
    "    scores = tf.reshape(scores, (-1,))\n",
    "    labels = tf.reshape(labels, (-1,))\n",
    "    if ignore is None:\n",
    "        return scores, labels\n",
    "    valid = tf.not_equal(labels, ignore)\n",
    "    vscores = tf.boolean_mask(scores, valid, name='valid_scores')\n",
    "    vlabels = tf.boolean_mask(labels, valid, name='valid_labels')\n",
    "    return vscores, vlabels"
   ]
  },
  {
   "cell_type": "code",
   "execution_count": 182,
   "metadata": {},
   "outputs": [],
   "source": [
    "def focal_loss(gamma=2., alpha=0.75):\n",
    "    def focal_loss_fixed(y_true, y_pred):\n",
    "        y_pred = K.clip(y_pred, 1e-6, 1 - 1e-6)\n",
    "        p_t = tf.where(tf.equal(y_true, 1), y_pred, 1. - y_pred)\n",
    "        alpha_t = tf.where(tf.equal(y_true, 1), K.ones_like(y_pred) * K.constant(alpha), K.ones_like(y_pred) * K.constant(1. - alpha))\n",
    "        loss = K.mean(-1. * alpha_t * (1. - p_t)**gamma * K.log(p_t))\n",
    "        return loss\n",
    "    return focal_loss_fixed"
   ]
  },
  {
   "cell_type": "markdown",
   "metadata": {},
   "source": [
    "# Build Model"
   ]
  },
  {
   "cell_type": "code",
   "execution_count": 183,
   "metadata": {},
   "outputs": [],
   "source": [
    "input_size = salt_parser.img_size_target[0]\n",
    "input_layer = Input((input_size, input_size, 1))\n",
    "output_layer = build_model(input_layer, 16, 0.5)\n",
    "\n",
    "model1 = Model(input_layer, output_layer)"
   ]
  },
  {
   "cell_type": "code",
   "execution_count": 189,
   "metadata": {},
   "outputs": [],
   "source": [
    "epochs = 50\n",
    "batch_size = 32\n",
    "opt = optimizers.Adam(lr=0.01)\n",
    "\n",
    "model1.compile(loss=\"binary_crossentropy\", optimizer=opt, metrics=[my_iou_metric])\n",
    "# model1.compile(loss=[focal_loss(alpha=.75, gamma=2)], optimizer=c, metrics=[my_iou_metric])\n",
    "\n",
    "# model1.summary()"
   ]
  },
  {
   "cell_type": "code",
   "execution_count": 190,
   "metadata": {},
   "outputs": [],
   "source": [
    "save_model_name = 'unet_V4_1.model'"
   ]
  },
  {
   "cell_type": "code",
   "execution_count": 191,
   "metadata": {},
   "outputs": [],
   "source": [
    "early_stopping = EarlyStopping(monitor='val_my_iou_metric', mode='max', patience=20, verbose=1)\n",
    "model_checkpoint = ModelCheckpoint(save_model_name, monitor='val_my_iou_metric', mode='max', save_best_only=True, verbose=1)\n",
    "reduce_lr = ReduceLROnPlateau(monitor='val_my_iou_metric', mode='max', factor=0.5, patience=6, min_lr=0.00001, verbose=1)"
   ]
  },
  {
   "cell_type": "markdown",
   "metadata": {
    "_uuid": "f87f8bef5fc8d7c4ca0034f7694295d2363ddca4"
   },
   "source": [
    "# Train model:"
   ]
  },
  {
   "cell_type": "code",
   "execution_count": 192,
   "metadata": {
    "scrolled": false
   },
   "outputs": [
    {
     "name": "stdout",
     "output_type": "stream",
     "text": [
      "Train on 6136 samples, validate on 800 samples\n",
      "Epoch 1/50\n",
      "6136/6136 [==============================] - 329s 54ms/step - loss: 0.4934 - my_iou_metric: 0.3347 - val_loss: 2.0698 - val_my_iou_metric: 0.1688\n",
      "\n",
      "Epoch 00001: val_my_iou_metric improved from -inf to 0.16875, saving model to unet_V4_1.model\n",
      "Epoch 2/50\n",
      "6136/6136 [==============================] - 308s 50ms/step - loss: 0.3937 - my_iou_metric: 0.4922 - val_loss: 1.1403 - val_my_iou_metric: 0.3900\n",
      "\n",
      "Epoch 00002: val_my_iou_metric improved from 0.16875 to 0.39000, saving model to unet_V4_1.model\n",
      "Epoch 3/50\n",
      "6136/6136 [==============================] - 308s 50ms/step - loss: 0.3673 - my_iou_metric: 0.5046 - val_loss: 1.0828 - val_my_iou_metric: 0.0375\n",
      "\n",
      "Epoch 00003: val_my_iou_metric did not improve from 0.39000\n",
      "Epoch 4/50\n",
      "6136/6136 [==============================] - 306s 50ms/step - loss: 0.3243 - my_iou_metric: 0.5371 - val_loss: 1.1467 - val_my_iou_metric: 0.3875\n",
      "\n",
      "Epoch 00004: val_my_iou_metric did not improve from 0.39000\n",
      "Epoch 5/50\n",
      "6136/6136 [==============================] - 307s 50ms/step - loss: 0.2975 - my_iou_metric: 0.5514 - val_loss: 1.3912 - val_my_iou_metric: 0.3900\n",
      "\n",
      "Epoch 00005: val_my_iou_metric did not improve from 0.39000\n",
      "Epoch 6/50\n",
      "6136/6136 [==============================] - 307s 50ms/step - loss: 0.2618 - my_iou_metric: 0.5724 - val_loss: 0.3637 - val_my_iou_metric: 0.5230\n",
      "\n",
      "Epoch 00006: val_my_iou_metric improved from 0.39000 to 0.52300, saving model to unet_V4_1.model\n",
      "Epoch 7/50\n",
      "6136/6136 [==============================] - 307s 50ms/step - loss: 0.2371 - my_iou_metric: 0.6044 - val_loss: 0.8072 - val_my_iou_metric: 0.3891\n",
      "\n",
      "Epoch 00007: val_my_iou_metric did not improve from 0.52300\n",
      "Epoch 8/50\n",
      "6136/6136 [==============================] - 307s 50ms/step - loss: 0.2253 - my_iou_metric: 0.6126 - val_loss: 0.3369 - val_my_iou_metric: 0.5518\n",
      "\n",
      "Epoch 00008: val_my_iou_metric improved from 0.52300 to 0.55175, saving model to unet_V4_1.model\n",
      "Epoch 9/50\n",
      "6136/6136 [==============================] - 306s 50ms/step - loss: 0.2071 - my_iou_metric: 0.6494 - val_loss: 0.2251 - val_my_iou_metric: 0.6351\n",
      "\n",
      "Epoch 00009: val_my_iou_metric improved from 0.55175 to 0.63512, saving model to unet_V4_1.model\n",
      "Epoch 10/50\n",
      "6136/6136 [==============================] - 307s 50ms/step - loss: 0.1954 - my_iou_metric: 0.6621 - val_loss: 0.2376 - val_my_iou_metric: 0.6434\n",
      "\n",
      "Epoch 00010: val_my_iou_metric improved from 0.63512 to 0.64338, saving model to unet_V4_1.model\n",
      "Epoch 11/50\n",
      "6136/6136 [==============================] - 307s 50ms/step - loss: 0.1830 - my_iou_metric: 0.6854 - val_loss: 0.1774 - val_my_iou_metric: 0.6837\n",
      "\n",
      "Epoch 00011: val_my_iou_metric improved from 0.64338 to 0.68375, saving model to unet_V4_1.model\n",
      "Epoch 12/50\n",
      "6136/6136 [==============================] - 306s 50ms/step - loss: 0.1960 - my_iou_metric: 0.6690 - val_loss: 0.5537 - val_my_iou_metric: 0.4794\n",
      "\n",
      "Epoch 00012: val_my_iou_metric did not improve from 0.68375\n",
      "Epoch 13/50\n",
      "6136/6136 [==============================] - 308s 50ms/step - loss: 0.1855 - my_iou_metric: 0.6863 - val_loss: 0.1875 - val_my_iou_metric: 0.6849\n",
      "\n",
      "Epoch 00013: val_my_iou_metric improved from 0.68375 to 0.68488, saving model to unet_V4_1.model\n",
      "Epoch 14/50\n",
      "6136/6136 [==============================] - 308s 50ms/step - loss: 0.1771 - my_iou_metric: 0.6843 - val_loss: 0.5249 - val_my_iou_metric: 0.5321\n",
      "\n",
      "Epoch 00014: val_my_iou_metric did not improve from 0.68488\n",
      "Epoch 15/50\n",
      "6136/6136 [==============================] - 308s 50ms/step - loss: 0.1716 - my_iou_metric: 0.7011 - val_loss: 0.2104 - val_my_iou_metric: 0.6520\n",
      "\n",
      "Epoch 00015: val_my_iou_metric did not improve from 0.68488\n",
      "Epoch 16/50\n",
      "6136/6136 [==============================] - 308s 50ms/step - loss: 0.1735 - my_iou_metric: 0.6985 - val_loss: 0.6083 - val_my_iou_metric: 0.3909\n",
      "\n",
      "Epoch 00016: val_my_iou_metric did not improve from 0.68488\n",
      "Epoch 17/50\n",
      " 544/6136 [=>............................] - ETA: 4:29 - loss: 0.1455 - my_iou_metric: 0.7017"
     ]
    },
    {
     "ename": "KeyboardInterrupt",
     "evalue": "",
     "output_type": "error",
     "traceback": [
      "\u001b[0;31m---------------------------------------------------------------------------\u001b[0m",
      "\u001b[0;31mKeyboardInterrupt\u001b[0m                         Traceback (most recent call last)",
      "\u001b[0;32m<timed exec>\u001b[0m in \u001b[0;36m<module>\u001b[0;34m\u001b[0m\n",
      "\u001b[0;32m~/anaconda3/envs/tf/lib/python3.6/site-packages/keras/engine/training.py\u001b[0m in \u001b[0;36mfit\u001b[0;34m(self, x, y, batch_size, epochs, verbose, callbacks, validation_split, validation_data, shuffle, class_weight, sample_weight, initial_epoch, steps_per_epoch, validation_steps, **kwargs)\u001b[0m\n\u001b[1;32m   1035\u001b[0m                                         \u001b[0minitial_epoch\u001b[0m\u001b[0;34m=\u001b[0m\u001b[0minitial_epoch\u001b[0m\u001b[0;34m,\u001b[0m\u001b[0;34m\u001b[0m\u001b[0m\n\u001b[1;32m   1036\u001b[0m                                         \u001b[0msteps_per_epoch\u001b[0m\u001b[0;34m=\u001b[0m\u001b[0msteps_per_epoch\u001b[0m\u001b[0;34m,\u001b[0m\u001b[0;34m\u001b[0m\u001b[0m\n\u001b[0;32m-> 1037\u001b[0;31m                                         validation_steps=validation_steps)\n\u001b[0m\u001b[1;32m   1038\u001b[0m \u001b[0;34m\u001b[0m\u001b[0m\n\u001b[1;32m   1039\u001b[0m     def evaluate(self, x=None, y=None,\n",
      "\u001b[0;32m~/anaconda3/envs/tf/lib/python3.6/site-packages/keras/engine/training_arrays.py\u001b[0m in \u001b[0;36mfit_loop\u001b[0;34m(model, f, ins, out_labels, batch_size, epochs, verbose, callbacks, val_f, val_ins, shuffle, callback_metrics, initial_epoch, steps_per_epoch, validation_steps)\u001b[0m\n\u001b[1;32m    197\u001b[0m                     \u001b[0mins_batch\u001b[0m\u001b[0;34m[\u001b[0m\u001b[0mi\u001b[0m\u001b[0;34m]\u001b[0m \u001b[0;34m=\u001b[0m \u001b[0mins_batch\u001b[0m\u001b[0;34m[\u001b[0m\u001b[0mi\u001b[0m\u001b[0;34m]\u001b[0m\u001b[0;34m.\u001b[0m\u001b[0mtoarray\u001b[0m\u001b[0;34m(\u001b[0m\u001b[0;34m)\u001b[0m\u001b[0;34m\u001b[0m\u001b[0m\n\u001b[1;32m    198\u001b[0m \u001b[0;34m\u001b[0m\u001b[0m\n\u001b[0;32m--> 199\u001b[0;31m                 \u001b[0mouts\u001b[0m \u001b[0;34m=\u001b[0m \u001b[0mf\u001b[0m\u001b[0;34m(\u001b[0m\u001b[0mins_batch\u001b[0m\u001b[0;34m)\u001b[0m\u001b[0;34m\u001b[0m\u001b[0m\n\u001b[0m\u001b[1;32m    200\u001b[0m                 \u001b[0mouts\u001b[0m \u001b[0;34m=\u001b[0m \u001b[0mto_list\u001b[0m\u001b[0;34m(\u001b[0m\u001b[0mouts\u001b[0m\u001b[0;34m)\u001b[0m\u001b[0;34m\u001b[0m\u001b[0m\n\u001b[1;32m    201\u001b[0m                 \u001b[0;32mfor\u001b[0m \u001b[0ml\u001b[0m\u001b[0;34m,\u001b[0m \u001b[0mo\u001b[0m \u001b[0;32min\u001b[0m \u001b[0mzip\u001b[0m\u001b[0;34m(\u001b[0m\u001b[0mout_labels\u001b[0m\u001b[0;34m,\u001b[0m \u001b[0mouts\u001b[0m\u001b[0;34m)\u001b[0m\u001b[0;34m:\u001b[0m\u001b[0;34m\u001b[0m\u001b[0m\n",
      "\u001b[0;32m~/anaconda3/envs/tf/lib/python3.6/site-packages/keras/backend/tensorflow_backend.py\u001b[0m in \u001b[0;36m__call__\u001b[0;34m(self, inputs)\u001b[0m\n\u001b[1;32m   2664\u001b[0m                 \u001b[0;32mreturn\u001b[0m \u001b[0mself\u001b[0m\u001b[0;34m.\u001b[0m\u001b[0m_legacy_call\u001b[0m\u001b[0;34m(\u001b[0m\u001b[0minputs\u001b[0m\u001b[0;34m)\u001b[0m\u001b[0;34m\u001b[0m\u001b[0m\n\u001b[1;32m   2665\u001b[0m \u001b[0;34m\u001b[0m\u001b[0m\n\u001b[0;32m-> 2666\u001b[0;31m             \u001b[0;32mreturn\u001b[0m \u001b[0mself\u001b[0m\u001b[0;34m.\u001b[0m\u001b[0m_call\u001b[0m\u001b[0;34m(\u001b[0m\u001b[0minputs\u001b[0m\u001b[0;34m)\u001b[0m\u001b[0;34m\u001b[0m\u001b[0m\n\u001b[0m\u001b[1;32m   2667\u001b[0m         \u001b[0;32melse\u001b[0m\u001b[0;34m:\u001b[0m\u001b[0;34m\u001b[0m\u001b[0m\n\u001b[1;32m   2668\u001b[0m             \u001b[0;32mif\u001b[0m \u001b[0mpy_any\u001b[0m\u001b[0;34m(\u001b[0m\u001b[0mis_tensor\u001b[0m\u001b[0;34m(\u001b[0m\u001b[0mx\u001b[0m\u001b[0;34m)\u001b[0m \u001b[0;32mfor\u001b[0m \u001b[0mx\u001b[0m \u001b[0;32min\u001b[0m \u001b[0minputs\u001b[0m\u001b[0;34m)\u001b[0m\u001b[0;34m:\u001b[0m\u001b[0;34m\u001b[0m\u001b[0m\n",
      "\u001b[0;32m~/anaconda3/envs/tf/lib/python3.6/site-packages/keras/backend/tensorflow_backend.py\u001b[0m in \u001b[0;36m_call\u001b[0;34m(self, inputs)\u001b[0m\n\u001b[1;32m   2634\u001b[0m                                 \u001b[0msymbol_vals\u001b[0m\u001b[0;34m,\u001b[0m\u001b[0;34m\u001b[0m\u001b[0m\n\u001b[1;32m   2635\u001b[0m                                 session)\n\u001b[0;32m-> 2636\u001b[0;31m         \u001b[0mfetched\u001b[0m \u001b[0;34m=\u001b[0m \u001b[0mself\u001b[0m\u001b[0;34m.\u001b[0m\u001b[0m_callable_fn\u001b[0m\u001b[0;34m(\u001b[0m\u001b[0;34m*\u001b[0m\u001b[0marray_vals\u001b[0m\u001b[0;34m)\u001b[0m\u001b[0;34m\u001b[0m\u001b[0m\n\u001b[0m\u001b[1;32m   2637\u001b[0m         \u001b[0;32mreturn\u001b[0m \u001b[0mfetched\u001b[0m\u001b[0;34m[\u001b[0m\u001b[0;34m:\u001b[0m\u001b[0mlen\u001b[0m\u001b[0;34m(\u001b[0m\u001b[0mself\u001b[0m\u001b[0;34m.\u001b[0m\u001b[0moutputs\u001b[0m\u001b[0;34m)\u001b[0m\u001b[0;34m]\u001b[0m\u001b[0;34m\u001b[0m\u001b[0m\n\u001b[1;32m   2638\u001b[0m \u001b[0;34m\u001b[0m\u001b[0m\n",
      "\u001b[0;32m~/anaconda3/envs/tf/lib/python3.6/site-packages/tensorflow/python/client/session.py\u001b[0m in \u001b[0;36m__call__\u001b[0;34m(self, *args, **kwargs)\u001b[0m\n\u001b[1;32m   1380\u001b[0m           ret = tf_session.TF_SessionRunCallable(\n\u001b[1;32m   1381\u001b[0m               \u001b[0mself\u001b[0m\u001b[0;34m.\u001b[0m\u001b[0m_session\u001b[0m\u001b[0;34m.\u001b[0m\u001b[0m_session\u001b[0m\u001b[0;34m,\u001b[0m \u001b[0mself\u001b[0m\u001b[0;34m.\u001b[0m\u001b[0m_handle\u001b[0m\u001b[0;34m,\u001b[0m \u001b[0margs\u001b[0m\u001b[0;34m,\u001b[0m \u001b[0mstatus\u001b[0m\u001b[0;34m,\u001b[0m\u001b[0;34m\u001b[0m\u001b[0m\n\u001b[0;32m-> 1382\u001b[0;31m               run_metadata_ptr)\n\u001b[0m\u001b[1;32m   1383\u001b[0m         \u001b[0;32mif\u001b[0m \u001b[0mrun_metadata\u001b[0m\u001b[0;34m:\u001b[0m\u001b[0;34m\u001b[0m\u001b[0m\n\u001b[1;32m   1384\u001b[0m           \u001b[0mproto_data\u001b[0m \u001b[0;34m=\u001b[0m \u001b[0mtf_session\u001b[0m\u001b[0;34m.\u001b[0m\u001b[0mTF_GetBuffer\u001b[0m\u001b[0;34m(\u001b[0m\u001b[0mrun_metadata_ptr\u001b[0m\u001b[0;34m)\u001b[0m\u001b[0;34m\u001b[0m\u001b[0m\n",
      "\u001b[0;31mKeyboardInterrupt\u001b[0m: "
     ]
    }
   ],
   "source": [
    "%%time\n",
    "history = model1.fit(X_train, y_train,\n",
    "                     validation_data = [X_valid, y_valid], \n",
    "                     epochs = epochs, \n",
    "                     batch_size = batch_size, \n",
    "                     callbacks = [early_stopping, model_checkpoint, reduce_lr],\n",
    "                     verbose = 1)"
   ]
  },
  {
   "cell_type": "code",
   "execution_count": null,
   "metadata": {},
   "outputs": [],
   "source": [
    "fig, (ax_loss, ax_score) = plt.subplots(1, 2, figsize=(15,5))\n",
    "ax_loss.plot(history.epoch, history.history[\"loss\"], label=\"Train loss\")\n",
    "ax_loss.plot(history.epoch, history.history[\"val_loss\"], label=\"Validation loss\")\n",
    "ax_loss.legend()\n",
    "ax_score.plot(history.epoch, history.history[\"my_iou_metric\"], label=\"Train score\")\n",
    "ax_score.plot(history.epoch, history.history[\"val_my_iou_metric\"], label=\"Validation score\")\n",
    "ax_score.legend()"
   ]
  },
  {
   "cell_type": "markdown",
   "metadata": {
    "_uuid": "7c42374acdacb8517a7f52ed8b0969746fcb51b9"
   },
   "source": [
    "## Predict "
   ]
  },
  {
   "cell_type": "code",
   "execution_count": null,
   "metadata": {
    "_uuid": "52ba1ba40cac42145f499cff252eb73feff397d3"
   },
   "outputs": [],
   "source": [
    "model1 = load_model(save_model_name, custom_objects={'my_iou_metric':my_iou_metric})\n",
    "\n",
    "input_x = model1.layers[0].input\n",
    "output_layer = model1.layers[-1].input\n",
    "model = Model(input_x, output_layer)\n",
    "c = optimizers.adam(lr=0.0005)\n",
    "\n",
    "model.compile(loss=lovasz_loss, optimizer=c, metrics=[my_iou_metric_2])\n",
    "\n",
    "# model.summary()"
   ]
  },
  {
   "cell_type": "code",
   "execution_count": null,
   "metadata": {},
   "outputs": [],
   "source": [
    "save_model_name = 'unet_V4B.model'"
   ]
  },
  {
   "cell_type": "code",
   "execution_count": null,
   "metadata": {
    "_uuid": "ec1e49fd425a02ab12dea6b99cf39de45c80199f"
   },
   "outputs": [],
   "source": [
    "early_stopping = EarlyStopping(monitor='val_my_iou_metric_2', mode='max', patience=15, verbose=1)\n",
    "model_checkpoint = ModelCheckpoint(save_model_nameB, monitor='val_my_iou_metric_2', mode='max', save_best_only=True, verbose=1)\n",
    "reduce_lr = ReduceLROnPlateau(monitor='val_my_iou_metric_2', mode='max',factor=0.5, patience=6, min_lr=0.00001, verbose=1)\n",
    "\n",
    "epochs = 20\n",
    "batch_size = 16"
   ]
  },
  {
   "cell_type": "code",
   "execution_count": null,
   "metadata": {
    "_uuid": "ec1e49fd425a02ab12dea6b99cf39de45c80199f",
    "scrolled": false
   },
   "outputs": [],
   "source": [
    "%%time\n",
    "history = model.fit(x_train, y_train,\n",
    "                    validation_data=[x_valid, y_valid], \n",
    "                    epochs=epochs,\n",
    "                    batch_size=batch_size,\n",
    "                    callbacks=[ model_checkpoint, reduce_lr, early_stopping], \n",
    "                    verbose=2)"
   ]
  },
  {
   "cell_type": "code",
   "execution_count": null,
   "metadata": {
    "_uuid": "922febde76d7aff93c49c71a28b3a2361f433d02"
   },
   "outputs": [],
   "source": [
    "fig, (ax_loss, ax_score) = plt.subplots(1, 2, figsize=(15,5))\n",
    "ax_loss.plot(history.epoch, history.history[\"loss\"], label=\"Train loss\")\n",
    "ax_loss.plot(history.epoch, history.history[\"val_loss\"], label=\"Validation loss\")\n",
    "ax_loss.legend()\n",
    "ax_score.plot(history.epoch, history.history[\"my_iou_metric_2\"], label=\"Train score\")\n",
    "ax_score.plot(history.epoch, history.history[\"val_my_iou_metric_2\"], label=\"Validation score\")\n",
    "ax_score.legend()"
   ]
  },
  {
   "cell_type": "markdown",
   "metadata": {},
   "source": [
    "# Final Tuning"
   ]
  },
  {
   "cell_type": "code",
   "execution_count": null,
   "metadata": {},
   "outputs": [],
   "source": [
    "model = load_model(save_model_nameB,custom_objects={'my_iou_metric_2': my_iou_metric_2,\n",
    "                                                   'lovasz_loss': lovasz_loss})\n",
    "\n",
    "c = optimizers.Adam(lr = 0.0001)\n",
    "model.compile(loss=lovasz_loss, optimizer=c, metrics=[my_iou_metric_2])\n",
    "\n",
    "epochs = 200\n",
    "batch_size = 16\n",
    "\n",
    "early_stopping = EarlyStopping(monitor='val_my_iou_metric_2', mode='max', patience=12, verbose=1)\n",
    "model_checkpoint = ModelCheckpoint(save_model_nameB, monitor='val_my_iou_metric_2', mode='max', save_best_only=True, verbose=1)\n",
    "reduce_lr = ReduceLROnPlateau(monitor='val_my_iou_metric_2', mode='max',factor=0.5, patience=5, min_lr=0.00001, verbose=2)"
   ]
  },
  {
   "cell_type": "code",
   "execution_count": null,
   "metadata": {
    "scrolled": false
   },
   "outputs": [],
   "source": [
    "%%time\n",
    "history = model.fit(x_train, y_train,\n",
    "                    validation_data=[x_valid, y_valid], \n",
    "                    epochs=epochs,\n",
    "                    batch_size=batch_size,\n",
    "                    callbacks=[model_checkpoint, reduce_lr, early_stopping], \n",
    "                    verbose=2)"
   ]
  },
  {
   "cell_type": "code",
   "execution_count": null,
   "metadata": {},
   "outputs": [],
   "source": [
    "fig, (ax_loss, ax_score) = plt.subplots(1, 2, figsize=(15,5))\n",
    "ax_loss.plot(history.epoch, history.history[\"loss\"], label=\"Train loss\")\n",
    "ax_loss.plot(history.epoch, history.history[\"val_loss\"], label=\"Validation loss\")\n",
    "ax_loss.legend()\n",
    "ax_score.plot(history.epoch, history.history[\"my_iou_metric_2\"], label=\"Train score\")\n",
    "ax_score.plot(history.epoch, history.history[\"val_my_iou_metric_2\"], label=\"Validation score\")\n",
    "ax_score.legend()"
   ]
  },
  {
   "cell_type": "code",
   "execution_count": null,
   "metadata": {
    "_uuid": "068c89f56e9e7eb1d7ecf12912996426ad87f2a6"
   },
   "outputs": [],
   "source": [
    "model = load_model(save_model_nameB,custom_objects={'my_iou_metric_2': my_iou_metric_2,\n",
    "                                                   'lovasz_loss': lovasz_loss})"
   ]
  },
  {
   "cell_type": "code",
   "execution_count": null,
   "metadata": {
    "_uuid": "c33f2cdf50d3011f704ac934e49602bd3167c8cb"
   },
   "outputs": [],
   "source": [
    "def predict_result(model,x_test,img_size_target): # predict both orginal and reflect x\n",
    "    x_test_reflect =  np.array([np.fliplr(x) for x in x_test])\n",
    "    preds_test = model.predict(x_test).reshape(-1, img_size_target, img_size_target)\n",
    "    preds_test2_refect = model.predict(x_test_reflect).reshape(-1, img_size_target, img_size_target)\n",
    "    preds_test += np.array([ np.fliplr(x) for x in preds_test2_refect] )\n",
    "    return preds_test/2"
   ]
  },
  {
   "cell_type": "code",
   "execution_count": null,
   "metadata": {
    "_uuid": "ec38f74adccf2d265cac160311c0998fefc76ec6"
   },
   "outputs": [],
   "source": [
    "preds_valid = predict_result(model,x_valid,img_size_target)"
   ]
  },
  {
   "cell_type": "code",
   "execution_count": null,
   "metadata": {
    "_uuid": "6794a936dd110f0d4ecc23206c53af7cd0f4a587"
   },
   "outputs": [],
   "source": [
    "#Score the model and do a threshold optimization by the best IoU.\n",
    "\n",
    "# src: https://www.kaggle.com/aglotero/another-iou-metric\n",
    "def iou_metric(y_true_in, y_pred_in, print_table=False):\n",
    "    labels = y_true_in\n",
    "    y_pred = y_pred_in\n",
    "\n",
    "\n",
    "    true_objects = 2\n",
    "    pred_objects = 2\n",
    "\n",
    "    #  if all zeros, original code  generate wrong  bins [-0.5 0 0.5],\n",
    "    temp1 = np.histogram2d(labels.flatten(), y_pred.flatten(), bins=([0,0.5,1], [0,0.5, 1]))\n",
    "#     temp1 = np.histogram2d(labels.flatten(), y_pred.flatten(), bins=(true_objects, pred_objects))\n",
    "    #print(temp1)\n",
    "    intersection = temp1[0]\n",
    "    #print(\"temp2 = \",temp1[1])\n",
    "    #print(intersection.shape)\n",
    "   # print(intersection)\n",
    "    # Compute areas (needed for finding the union between all objects)\n",
    "    #print(np.histogram(labels, bins = true_objects))\n",
    "    area_true = np.histogram(labels,bins=[0,0.5,1])[0]\n",
    "    #print(\"area_true = \",area_true)\n",
    "    area_pred = np.histogram(y_pred, bins=[0,0.5,1])[0]\n",
    "    area_true = np.expand_dims(area_true, -1)\n",
    "    area_pred = np.expand_dims(area_pred, 0)\n",
    "\n",
    "    # Compute union\n",
    "    union = area_true + area_pred - intersection\n",
    "  \n",
    "    # Exclude background from the analysis\n",
    "    intersection = intersection[1:,1:]\n",
    "    intersection[intersection == 0] = 1e-9\n",
    "    \n",
    "    union = union[1:,1:]\n",
    "    union[union == 0] = 1e-9\n",
    "\n",
    "    # Compute the intersection over union\n",
    "    iou = intersection / union\n",
    "    # Precision helper function\n",
    "    def precision_at(threshold, iou):\n",
    "        matches = iou > threshold\n",
    "        true_positives = np.sum(matches, axis=1) == 1   # Correct objects\n",
    "        false_positives = np.sum(matches, axis=0) == 0  # Missed objects\n",
    "        false_negatives = np.sum(matches, axis=1) == 0  # Extra objects\n",
    "        tp, fp, fn = np.sum(true_positives), np.sum(false_positives), np.sum(false_negatives)\n",
    "        return tp, fp, fn\n",
    "\n",
    "    # Loop over IoU thresholds\n",
    "    prec = []\n",
    "    if print_table:\n",
    "        print(\"Thresh\\tTP\\tFP\\tFN\\tPrec.\")\n",
    "    for t in np.arange(0.5, 1.0, 0.05):\n",
    "        tp, fp, fn = precision_at(t, iou)\n",
    "        if (tp + fp + fn) > 0:\n",
    "            p = tp / (tp + fp + fn)\n",
    "        else:\n",
    "            p = 0\n",
    "        if print_table:\n",
    "            print(\"{:1.3f}\\t{}\\t{}\\t{}\\t{:1.3f}\".format(t, tp, fp, fn, p))\n",
    "        prec.append(p)\n",
    "        \n",
    "    if print_table:\n",
    "        print(\"AP\\t-\\t-\\t-\\t{:1.3f}\".format(np.mean(prec)))\n",
    "    return np.mean(prec)\n",
    "\n",
    "def iou_metric_batch(y_true_in, y_pred_in):\n",
    "    batch_size = y_true_in.shape[0]\n",
    "    metric = []\n",
    "    for batch in range(batch_size):\n",
    "        value = iou_metric(y_true_in[batch], y_pred_in[batch])\n",
    "        metric.append(value)\n",
    "    return np.mean(metric)"
   ]
  },
  {
   "cell_type": "code",
   "execution_count": null,
   "metadata": {
    "_uuid": "6d96072932f985336021cd115cb6bb13058618a8"
   },
   "outputs": [],
   "source": [
    "## Scoring for last model, choose threshold by validation data \n",
    "thresholds_ori = np.linspace(0.3, 0.7, 31)\n",
    "# Reverse sigmoid function: Use code below because the  sigmoid activation was removed\n",
    "thresholds = np.log(thresholds_ori/(1-thresholds_ori)) \n",
    "\n",
    "# ious = np.array([get_iou_vector(y_valid, preds_valid > threshold) for threshold in tqdm_notebook(thresholds)])\n",
    "# print(ious)\n",
    "ious = np.array([iou_metric_batch(y_valid, preds_valid > threshold) for threshold in tqdm_notebook(thresholds)])\n",
    "print(ious)"
   ]
  },
  {
   "cell_type": "code",
   "execution_count": null,
   "metadata": {
    "_uuid": "ce197d87cf44fef681025160cba8e4081d15ed50"
   },
   "outputs": [],
   "source": [
    "threshold_best_index = np.argmax(ious)\n",
    "iou_best = ious[threshold_best_index]\n",
    "threshold_best = thresholds[threshold_best_index]\n",
    "\n",
    "plt.plot(thresholds, ious)\n",
    "plt.plot(threshold_best, iou_best, 'xr', label='Best threshold')\n",
    "plt.xlabel(\"Threshold\")\n",
    "plt.ylabel(\"IoU\")\n",
    "plt.title(\"Threshold vs IoU ({}, {})\".format(threshold_best, iou_best))\n",
    "plt.legend()"
   ]
  },
  {
   "cell_type": "code",
   "execution_count": null,
   "metadata": {
    "_uuid": "2633e0c50ddb705021a35441c6a19fae9312603e"
   },
   "outputs": [],
   "source": [
    "def rle_encode(im):\n",
    "    '''\n",
    "    im: numpy array, 1-mask, 0-background\n",
    "    Returns run length as string\n",
    "    '''\n",
    "    pixels = im.flatten(order='F')\n",
    "    pixels = np.concatenate([[0], pixels, [0]])\n",
    "    runs = np.where(pixels[1:] != pixels[:-1])[0] + 1\n",
    "    runs[1::2] -= runs[::2]\n",
    "    return ' '.join(str(x) for x in runs)"
   ]
  },
  {
   "cell_type": "code",
   "execution_count": null,
   "metadata": {
    "_uuid": "3c29b25a37ceb7476bc0264ea3a97dc705e07607"
   },
   "outputs": [],
   "source": [
    "x_test = np.array([(np.array(load_img(f\"{DATA_DIR}test/images/{idx}.png\", color_mode='grayscale'))) / 255 for idx in tqdm_notebook(test_df.index)]).reshape(-1, img_size_target, img_size_target, 1)"
   ]
  },
  {
   "cell_type": "code",
   "execution_count": null,
   "metadata": {
    "_uuid": "e129e7c3e525b884322570ed37da825cd89db290"
   },
   "outputs": [],
   "source": [
    "preds_test = predict_result(model,x_test,img_size_target)"
   ]
  },
  {
   "cell_type": "code",
   "execution_count": null,
   "metadata": {
    "_uuid": "aac939d180585abab6dd497a45f81e3df67b25a8"
   },
   "outputs": [],
   "source": [
    "pred_dict = {idx: rle_encode(np.round(downsample(preds_test[i]) > threshold_best)) for i, idx in enumerate(tqdm_notebook(test_df.index.values))}"
   ]
  },
  {
   "cell_type": "code",
   "execution_count": null,
   "metadata": {
    "_uuid": "2d6ef314f368bf9923285007e7098c068af049d9"
   },
   "outputs": [],
   "source": [
    "sub = pd.DataFrame.from_dict(pred_dict,orient='index')\n",
    "sub.index.names = ['id']\n",
    "sub.columns = ['rle_mask']\n",
    "sub.to_csv(submission_file)"
   ]
  },
  {
   "cell_type": "code",
   "execution_count": null,
   "metadata": {
    "_uuid": "ae636758e7abdc7fb87768cbfb2c6f18f8c1975f"
   },
   "outputs": [],
   "source": [
    "t_finish = time.time()\n",
    "print(f\"Kernel run time = {(t_finish-t_start)/3600} hours\")"
   ]
  },
  {
   "cell_type": "code",
   "execution_count": null,
   "metadata": {
    "_uuid": "a1a6411767b9ddcdb111fa9d3402e7a75dd67f55"
   },
   "outputs": [],
   "source": []
  }
 ],
 "metadata": {
  "kernelspec": {
   "display_name": "Python 3",
   "language": "python",
   "name": "python3"
  },
  "language_info": {
   "codemirror_mode": {
    "name": "ipython",
    "version": 3
   },
   "file_extension": ".py",
   "mimetype": "text/x-python",
   "name": "python",
   "nbconvert_exporter": "python",
   "pygments_lexer": "ipython3",
   "version": "3.6.6"
  },
  "toc": {
   "base_numbering": 1,
   "nav_menu": {},
   "number_sections": true,
   "sideBar": true,
   "skip_h1_title": false,
   "title_cell": "Table of Contents",
   "title_sidebar": "Contents",
   "toc_cell": false,
   "toc_position": {},
   "toc_section_display": true,
   "toc_window_display": false
  }
 },
 "nbformat": 4,
 "nbformat_minor": 1
}
