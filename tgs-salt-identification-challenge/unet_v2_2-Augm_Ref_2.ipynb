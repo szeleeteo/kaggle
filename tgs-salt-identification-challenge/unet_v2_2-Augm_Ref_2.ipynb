{
 "cells": [
  {
   "cell_type": "markdown",
   "metadata": {},
   "source": [
    "- With stratified k fold\n",
    "- img_aug image augmentation\n",
    "- tweak adam learning rate for second model\n",
    "- remove image where mask have only 1 to 10 white pixels"
   ]
  },
  {
   "cell_type": "markdown",
   "metadata": {},
   "source": [
    "# Import Dependencies"
   ]
  },
  {
   "cell_type": "code",
   "execution_count": 1,
   "metadata": {
    "_cell_guid": "b1076dfc-b9ad-4769-8c92-a6c4dae69d19",
    "_uuid": "8f2839f25d086af736a60e9eeb907d3b93b6e0e5"
   },
   "outputs": [
    {
     "name": "stderr",
     "output_type": "stream",
     "text": [
      "Using TensorFlow backend.\n"
     ]
    }
   ],
   "source": [
    "import os\n",
    "import sys\n",
    "import random\n",
    "import numpy as np\n",
    "import pandas as pd\n",
    "import matplotlib.pyplot as plt\n",
    "plt.style.use('seaborn-white')\n",
    "import seaborn as sns\n",
    "sns.set_style('white')\n",
    "\n",
    "%matplotlib inline\n",
    "\n",
    "from sklearn.model_selection import train_test_split\n",
    "from sklearn.model_selection import StratifiedKFold\n",
    "\n",
    "from tqdm import tqdm_notebook\n",
    "\n",
    "from skimage.io import imread, imshow\n",
    "from skimage.transform import resize\n",
    "from skimage.morphology import label\n",
    "\n",
    "from keras.models import Model, load_model, save_model\n",
    "from keras.layers import Input, Dropout, BatchNormalization, Activation, Add\n",
    "from keras.layers.core import Lambda\n",
    "from keras.layers.convolutional import Conv2D, Conv2DTranspose\n",
    "from keras.layers.pooling import MaxPooling2D\n",
    "from keras.layers.merge import concatenate\n",
    "from keras.callbacks import EarlyStopping, ModelCheckpoint, ReduceLROnPlateau\n",
    "from keras import backend as K\n",
    "from keras import optimizers\n",
    "import tensorflow as tf\n",
    "from keras.preprocessing.image import array_to_img, img_to_array, load_img\n",
    "\n",
    "import time\n",
    "t_start = time.time()"
   ]
  },
  {
   "cell_type": "code",
   "execution_count": 2,
   "metadata": {},
   "outputs": [
    {
     "name": "stdout",
     "output_type": "stream",
     "text": [
      "1.10.1\n"
     ]
    }
   ],
   "source": [
    "print(tf.__version__)"
   ]
  },
  {
   "cell_type": "markdown",
   "metadata": {},
   "source": [
    "# Pre-process Data"
   ]
  },
  {
   "cell_type": "code",
   "execution_count": 3,
   "metadata": {},
   "outputs": [],
   "source": [
    "DATA_DIR = 'data/salt/'"
   ]
  },
  {
   "cell_type": "code",
   "execution_count": 4,
   "metadata": {},
   "outputs": [],
   "source": [
    "cv_total = 4\n",
    "cv_index = 1  # 0,1,2,3"
   ]
  },
  {
   "cell_type": "code",
   "execution_count": 5,
   "metadata": {
    "_cell_guid": "79c7e3d0-c299-4dcb-8224-4455121ee9b0",
    "_uuid": "d629ff2d2480ee46fbb7e2d37f6b5fab8052498a"
   },
   "outputs": [
    {
     "name": "stdout",
     "output_type": "stream",
     "text": [
      "unet_v2_2A_cv1.model\n",
      "unet_v2_2B_cv1.model\n",
      "unet_v2_2_cv1.csv\n"
     ]
    }
   ],
   "source": [
    "version = 2\n",
    "basic_name = f'unet_v2_{version}'\n",
    "save_model_name = basic_name + 'A_cv' + str(cv_index) + '.model'\n",
    "save_model_nameB = basic_name + 'B_cv' + str(cv_index) + '.model'\n",
    "submission_file = basic_name + '_cv' + str(cv_index) + '.csv'\n",
    "\n",
    "print(save_model_name)\n",
    "print(save_model_nameB)\n",
    "print(submission_file)"
   ]
  },
  {
   "cell_type": "code",
   "execution_count": 6,
   "metadata": {
    "_uuid": "4a7f9e82027f04b17b56c177a1831abf25abe2c8"
   },
   "outputs": [],
   "source": [
    "img_size_ori = 101\n",
    "img_size_target = 101\n",
    "\n",
    "def upsample(img):# not used\n",
    "    if img_size_ori == img_size_target:\n",
    "        return img\n",
    "    return resize(img, (img_size_target, img_size_target), mode='constant', preserve_range=True)\n",
    "    \n",
    "def downsample(img):# not used\n",
    "    if img_size_ori == img_size_target:\n",
    "        return img\n",
    "    return resize(img, (img_size_ori, img_size_ori), mode='constant', preserve_range=True)"
   ]
  },
  {
   "cell_type": "code",
   "execution_count": 7,
   "metadata": {
    "_uuid": "419fa6e1ad5218241f08f954453fa3899de8e2e7"
   },
   "outputs": [
    {
     "data": {
      "text/plain": [
       "4000"
      ]
     },
     "execution_count": 7,
     "metadata": {},
     "output_type": "execute_result"
    }
   ],
   "source": [
    "# Loading of training/testing ids and depths\n",
    "train_df = pd.read_csv(f\"{DATA_DIR}train.csv\", index_col=\"id\", usecols=[0])\n",
    "depths_df = pd.read_csv(f\"{DATA_DIR}depths.csv\", index_col=\"id\")\n",
    "train_df = train_df.join(depths_df)\n",
    "test_df = depths_df[~depths_df.index.isin(train_df.index)]\n",
    "\n",
    "len(train_df)"
   ]
  },
  {
   "cell_type": "code",
   "execution_count": 8,
   "metadata": {
    "_uuid": "fc276e696e66de8ab00b68dce1863fa55eb5023d"
   },
   "outputs": [
    {
     "data": {
      "application/vnd.jupyter.widget-view+json": {
       "model_id": "9104ebed22d844a3b27750b61989ad1e",
       "version_major": 2,
       "version_minor": 0
      },
      "text/plain": [
       "HBox(children=(IntProgress(value=0, max=4000), HTML(value='')))"
      ]
     },
     "metadata": {},
     "output_type": "display_data"
    },
    {
     "name": "stdout",
     "output_type": "stream",
     "text": [
      "\n"
     ]
    }
   ],
   "source": [
    "train_df[\"images\"] = [np.array(load_img(f\"{DATA_DIR}train/images/{idx}.png\", color_mode='grayscale')) / 255 for idx in tqdm_notebook(train_df.index)]"
   ]
  },
  {
   "cell_type": "code",
   "execution_count": 9,
   "metadata": {
    "_uuid": "a2339c6c3b81280839f05269b2314be4541fa5c4"
   },
   "outputs": [
    {
     "data": {
      "application/vnd.jupyter.widget-view+json": {
       "model_id": "dc86df906c6d499e8435169fd4638d4a",
       "version_major": 2,
       "version_minor": 0
      },
      "text/plain": [
       "HBox(children=(IntProgress(value=0, max=4000), HTML(value='')))"
      ]
     },
     "metadata": {},
     "output_type": "display_data"
    },
    {
     "name": "stdout",
     "output_type": "stream",
     "text": [
      "\n"
     ]
    }
   ],
   "source": [
    "train_df[\"masks\"] = [np.array(load_img(f\"{DATA_DIR}train/masks/{idx}.png\", color_mode='grayscale')) / 255 for idx in tqdm_notebook(train_df.index)]"
   ]
  },
  {
   "cell_type": "code",
   "execution_count": 10,
   "metadata": {
    "_uuid": "cbacf34c7506a867795260a9c615cb4427d62c2d"
   },
   "outputs": [],
   "source": [
    "train_df[\"coverage\"] = train_df.masks.map(np.sum) / pow(img_size_ori, 2)\n",
    "\n",
    "def cov_to_class(val):    \n",
    "    for i in range(0, 11):\n",
    "        if val * 10 <= i :\n",
    "            return i\n",
    "        \n",
    "train_df[\"coverage_class\"] = train_df.coverage.map(cov_to_class)"
   ]
  },
  {
   "cell_type": "code",
   "execution_count": 11,
   "metadata": {
    "_uuid": "c535341361ea08ec77f6821719b7045f308895d3"
   },
   "outputs": [
    {
     "data": {
      "text/plain": [
       "Text(0.5, 0, 'Coverage class')"
      ]
     },
     "execution_count": 11,
     "metadata": {},
     "output_type": "execute_result"
    },
    {
     "data": {
      "image/png": "[encoded data removed]",
      "text/plain": [
       "<Figure size 1080x360 with 2 Axes>"
      ]
     },
     "metadata": {
      "needs_background": "light"
     },
     "output_type": "display_data"
    }
   ],
   "source": [
    "fig, axs = plt.subplots(1, 2, figsize=(15,5))\n",
    "sns.distplot(train_df.coverage, kde=False, ax=axs[0])\n",
    "sns.distplot(train_df.coverage_class, bins=10, kde=False, ax=axs[1])\n",
    "plt.suptitle(\"Salt coverage\")\n",
    "axs[0].set_xlabel(\"Coverage\")\n",
    "axs[1].set_xlabel(\"Coverage class\")"
   ]
  },
  {
   "cell_type": "code",
   "execution_count": 12,
   "metadata": {
    "_uuid": "d150fb85dd998ab4dd241c66e52d247ab667dce0"
   },
   "outputs": [
    {
     "data": {
      "text/plain": [
       "Text(0.5, 1.0, 'Depth distribution')"
      ]
     },
     "execution_count": 12,
     "metadata": {},
     "output_type": "execute_result"
    },
    {
     "data": {
      "image/png": "[encoded data removed]",
      "text/plain": [
       "<Figure size 432x288 with 1 Axes>"
      ]
     },
     "metadata": {
      "needs_background": "light"
     },
     "output_type": "display_data"
    }
   ],
   "source": [
    "# Plotting the depth distributions\n",
    "\n",
    "sns.distplot(train_df.z, label=\"Train\")\n",
    "sns.distplot(test_df.z, label=\"Test\")\n",
    "plt.legend()\n",
    "plt.title(\"Depth distribution\")"
   ]
  },
  {
   "cell_type": "markdown",
   "metadata": {},
   "source": [
    "# Split Data"
   ]
  },
  {
   "cell_type": "code",
   "execution_count": 13,
   "metadata": {
    "_uuid": "2ea5c45300c08b06c60548dd09831cff38878551"
   },
   "outputs": [],
   "source": [
    "# # Create train/validation split stratified by salt coverage\n",
    "# ids_train, ids_valid, x_train, x_valid, y_train, y_valid, cov_train, cov_test, depth_train, depth_test = \\\n",
    "# train_test_split(train_df.index.values, \n",
    "#                  np.array(train_df.images.map(upsample).tolist()).reshape(-1, img_size_target, img_size_target, 1),\n",
    "#                  np.array(train_df.masks.map(upsample).tolist()).reshape(-1, img_size_target, img_size_target, 1),\n",
    "#                  train_df.coverage.values, \n",
    "#                  train_df.z.values, \n",
    "#                  test_size=0.2, stratify=train_df.coverage_class, random_state=555)"
   ]
  },
  {
   "cell_type": "code",
   "execution_count": 14,
   "metadata": {},
   "outputs": [
    {
     "name": "stdout",
     "output_type": "stream",
     "text": [
      "(2996,) (1004,)\n",
      "(2999,) (1001,)\n",
      "(3002,) (998,)\n",
      "(3003,) (997,)\n"
     ]
    }
   ],
   "source": [
    "train_all = []\n",
    "evaluate_all = []\n",
    "skf = StratifiedKFold(n_splits=cv_total, random_state=555, shuffle=True)\n",
    "\n",
    "for train_index, evaluate_index in skf.split(train_df.index.values, train_df.coverage_class):\n",
    "    train_all.append(train_index)\n",
    "    evaluate_all.append(evaluate_index)\n",
    "    print(train_index.shape, evaluate_index.shape) # the shape is slightly different in different cv, it's OK"
   ]
  },
  {
   "cell_type": "code",
   "execution_count": 15,
   "metadata": {},
   "outputs": [],
   "source": [
    "def get_cv_data(cv_index):\n",
    "    train_index = train_all[cv_index-1]\n",
    "    evaluate_index = evaluate_all[cv_index-1]\n",
    "    x_train = np.array(train_df.images[train_index].map(upsample).tolist()).reshape(-1, img_size_target, img_size_target, 1)\n",
    "    y_train = np.array(train_df.masks[train_index].map(upsample).tolist()).reshape(-1, img_size_target, img_size_target, 1)\n",
    "    x_valid = np.array(train_df.images[evaluate_index].map(upsample).tolist()).reshape(-1, img_size_target, img_size_target, 1)\n",
    "    y_valid = np.array(train_df.masks[evaluate_index].map(upsample).tolist()).reshape(-1, img_size_target, img_size_target, 1)\n",
    "    return x_train,y_train,x_valid,y_valid"
   ]
  },
  {
   "cell_type": "code",
   "execution_count": 16,
   "metadata": {},
   "outputs": [],
   "source": [
    "x_train, y_train, x_valid, y_valid =  get_cv_data(cv_index+1)    "
   ]
  },
  {
   "cell_type": "code",
   "execution_count": 17,
   "metadata": {},
   "outputs": [
    {
     "data": {
      "text/plain": [
       "array([0.6])"
      ]
     },
     "execution_count": 17,
     "metadata": {},
     "output_type": "execute_result"
    }
   ],
   "source": [
    "x_train[5,5,5]"
   ]
  },
  {
   "cell_type": "raw",
   "metadata": {},
   "source": [
    "x_train[5,5,5] = \n",
    "array([0.61176471]) cv=0\n",
    "array([0.6])        cv=1\n",
    "array([0.44313725]) cv=2\n",
    "array([0.70588235]) cv=3"
   ]
  },
  {
   "cell_type": "code",
   "execution_count": 18,
   "metadata": {},
   "outputs": [
    {
     "data": {
      "text/plain": [
       "(2999, 2999)"
      ]
     },
     "execution_count": 18,
     "metadata": {},
     "output_type": "execute_result"
    }
   ],
   "source": [
    "len(x_train), len(y_train)"
   ]
  },
  {
   "cell_type": "code",
   "execution_count": 19,
   "metadata": {},
   "outputs": [],
   "source": [
    "# boolean mask for mask with either all black pixel or at least 20 pixels\n",
    "thres = 10\n",
    "y_mask = np.squeeze((y_train.sum(axis=1).sum(axis=1)>=thres) | (y_train.sum(axis=1).sum(axis=1)==0))"
   ]
  },
  {
   "cell_type": "code",
   "execution_count": 20,
   "metadata": {},
   "outputs": [
    {
     "data": {
      "text/plain": [
       "34"
      ]
     },
     "execution_count": 20,
     "metadata": {},
     "output_type": "execute_result"
    }
   ],
   "source": [
    "# sample to remove\n",
    "len(y_train)-y_mask.sum()"
   ]
  },
  {
   "cell_type": "code",
   "execution_count": 21,
   "metadata": {},
   "outputs": [],
   "source": [
    "x_train = x_train[y_mask]\n",
    "y_train = y_train[y_mask]"
   ]
  },
  {
   "cell_type": "code",
   "execution_count": 22,
   "metadata": {},
   "outputs": [
    {
     "data": {
      "text/plain": [
       "(2965, 2965)"
      ]
     },
     "execution_count": 22,
     "metadata": {},
     "output_type": "execute_result"
    }
   ],
   "source": [
    "len(x_train), len(y_train)"
   ]
  },
  {
   "cell_type": "code",
   "execution_count": 23,
   "metadata": {},
   "outputs": [
    {
     "data": {
      "text/plain": [
       "2965"
      ]
     },
     "execution_count": 23,
     "metadata": {},
     "output_type": "execute_result"
    }
   ],
   "source": [
    "x_train_orig_len = len(x_train)\n",
    "x_train_orig_len"
   ]
  },
  {
   "cell_type": "code",
   "execution_count": 24,
   "metadata": {},
   "outputs": [
    {
     "data": {
      "text/plain": [
       "(1001, 1001)"
      ]
     },
     "execution_count": 24,
     "metadata": {},
     "output_type": "execute_result"
    }
   ],
   "source": [
    "# only remove train, do not remove validation\n",
    "len(x_valid), len(y_valid)"
   ]
  },
  {
   "cell_type": "markdown",
   "metadata": {},
   "source": [
    "# Data augmentation"
   ]
  },
  {
   "cell_type": "code",
   "execution_count": 25,
   "metadata": {},
   "outputs": [],
   "source": [
    "def plot2x2Array(image, mask):\n",
    "    f, axarr = plt.subplots(1,2)\n",
    "    axarr[0].imshow(image, cmap=\"gray\")\n",
    "    axarr[1].imshow(mask, cmap=\"gray\")\n",
    "    axarr[0].grid(False)\n",
    "    axarr[1].grid(False)\n",
    "    axarr[0].set_title('Image')\n",
    "    axarr[1].set_title('Mask')"
   ]
  },
  {
   "cell_type": "code",
   "execution_count": 26,
   "metadata": {},
   "outputs": [
    {
     "data": {
      "image/png": "[encoded data removed]",
      "text/plain": [
       "<Figure size 432x288 with 2 Axes>"
      ]
     },
     "metadata": {
      "needs_background": "light"
     },
     "output_type": "display_data"
    }
   ],
   "source": [
    "i = 21\n",
    "plot2x2Array(x_train[i,:,:,0], y_train[i,:,:,0])"
   ]
  },
  {
   "cell_type": "code",
   "execution_count": 27,
   "metadata": {},
   "outputs": [],
   "source": [
    "from imgaug import augmenters as iaa\n",
    "import imgaug as ia\n",
    "\n",
    "sometimes = lambda aug: iaa.Sometimes(0.9, aug)"
   ]
  },
  {
   "cell_type": "code",
   "execution_count": 28,
   "metadata": {},
   "outputs": [],
   "source": [
    "affine_seq = iaa.Sequential(\n",
    "    [\n",
    "        iaa.Fliplr(0.5), # horizontally flip 50% of all images\n",
    "        # crop images by -5% to 10% of their height/width\n",
    "        sometimes(iaa.CropAndPad(\n",
    "            percent=(-0.05, 0.1),\n",
    "            pad_mode= 'symmetric',\n",
    "            pad_cval=(0, 1),\n",
    "        )),\n",
    "        sometimes(iaa.Affine(\n",
    "            scale={\"x\": (0.8, 1.2), \"y\": (0.9, 1.1)}, # scale images to 80-120% of their size, individually per axis\n",
    "            translate_percent={\"x\": (-0.15, 0.15), \"y\": (-0.15, 0.15)}, # translate by -20 to +20 percent (per axis)\n",
    "            shear=(-10, 10), # shear by -16 to +16 degrees\n",
    "            order=[0, 1], # use nearest neighbour or bilinear interpolation (fast)\n",
    "            cval=(0, 1), # if mode is constant, use a cval between 0 and 255\n",
    "            mode='symmetric',\n",
    "        )),\n",
    "    \n",
    "], random_order=True)"
   ]
  },
  {
   "cell_type": "code",
   "execution_count": 29,
   "metadata": {},
   "outputs": [],
   "source": [
    "seq_det = affine_seq.to_deterministic()\n",
    "aug_img = seq_det.augment_image(x_train[i,:,:])\n",
    "aug_mask = seq_det.augment_image(y_train[i,:,:])"
   ]
  },
  {
   "cell_type": "code",
   "execution_count": 30,
   "metadata": {},
   "outputs": [
    {
     "data": {
      "image/png": "[encoded data removed]",
      "text/plain": [
       "<Figure size 432x288 with 2 Axes>"
      ]
     },
     "metadata": {
      "needs_background": "light"
     },
     "output_type": "display_data"
    },
    {
     "data": {
      "image/png": "[encoded data removed]",
      "text/plain": [
       "<Figure size 432x288 with 2 Axes>"
      ]
     },
     "metadata": {
      "needs_background": "light"
     },
     "output_type": "display_data"
    }
   ],
   "source": [
    "plot2x2Array(x_train[i,:,:,0], aug_img[:,:,0])\n",
    "plot2x2Array(y_train[i,:,:,0], aug_mask[:,:,0])"
   ]
  },
  {
   "cell_type": "code",
   "execution_count": 31,
   "metadata": {},
   "outputs": [],
   "source": [
    "aug_mask = np.where(aug_mask[:,:,0] > 0.5, 1, 0)"
   ]
  },
  {
   "cell_type": "code",
   "execution_count": 32,
   "metadata": {},
   "outputs": [
    {
     "data": {
      "text/plain": [
       "array([0., 1.])"
      ]
     },
     "execution_count": 32,
     "metadata": {},
     "output_type": "execute_result"
    }
   ],
   "source": [
    "np.unique(y_train[i,:,:,0])"
   ]
  },
  {
   "cell_type": "code",
   "execution_count": 33,
   "metadata": {},
   "outputs": [
    {
     "data": {
      "text/plain": [
       "array([0, 1])"
      ]
     },
     "execution_count": 33,
     "metadata": {},
     "output_type": "execute_result"
    }
   ],
   "source": [
    "np.unique(aug_mask)"
   ]
  },
  {
   "cell_type": "code",
   "execution_count": 34,
   "metadata": {},
   "outputs": [
    {
     "data": {
      "image/png": "[encoded data removed]",
      "text/plain": [
       "<Figure size 432x288 with 2 Axes>"
      ]
     },
     "metadata": {
      "needs_background": "light"
     },
     "output_type": "display_data"
    }
   ],
   "source": [
    "plot2x2Array(y_train[i,:,:,0], aug_mask)"
   ]
  },
  {
   "cell_type": "code",
   "execution_count": 35,
   "metadata": {},
   "outputs": [
    {
     "name": "stdout",
     "output_type": "stream",
     "text": [
      "(101, 101, 1) (101, 101, 1)\n",
      "(101, 101, 1) (101, 101, 1)\n"
     ]
    },
    {
     "data": {
      "image/png": "[encoded data removed]",
      "text/plain": [
       "<Figure size 432x288 with 2 Axes>"
      ]
     },
     "metadata": {
      "needs_background": "light"
     },
     "output_type": "display_data"
    },
    {
     "data": {
      "image/png": "[encoded data removed]",
      "text/plain": [
       "<Figure size 432x288 with 2 Axes>"
      ]
     },
     "metadata": {
      "needs_background": "light"
     },
     "output_type": "display_data"
    }
   ],
   "source": [
    "x = x_train[21]\n",
    "y = y_train[21]\n",
    "print((x.shape),(y.shape))\n",
    "\n",
    "seq_det = affine_seq.to_deterministic()\n",
    "aug_img = seq_det.augment_image(x)\n",
    "aug_mask = seq_det.augment_image(y)\n",
    "aug_mask[:,:,0] = np.where(aug_mask[:,:,0] > 0.5, 1, 0)\n",
    "\n",
    "print((aug_img.shape),(aug_mask.shape))\n",
    "plot2x2Array(x[:,:,0], y[:,:,0])\n",
    "\n",
    "plot2x2Array(aug_img[:,:,0], aug_mask[:,:,0])"
   ]
  },
  {
   "cell_type": "code",
   "execution_count": 36,
   "metadata": {},
   "outputs": [
    {
     "data": {
      "application/vnd.jupyter.widget-view+json": {
       "model_id": "42da5af97a764ab7ac5b78eb8f2e833b",
       "version_major": 2,
       "version_minor": 0
      },
      "text/plain": [
       "HBox(children=(IntProgress(value=1, bar_style='info', max=1), HTML(value='')))"
      ]
     },
     "metadata": {},
     "output_type": "display_data"
    },
    {
     "name": "stdout",
     "output_type": "stream",
     "text": [
      "\n"
     ]
    }
   ],
   "source": [
    "x_aug_list=[]\n",
    "y_aug_list=[]\n",
    "\n",
    "for x,y in tqdm_notebook(zip(x_train, y_train)):\n",
    "    seq_det = affine_seq.to_deterministic()\n",
    "    \n",
    "    aug_img = seq_det.augment_image(x)\n",
    "    aug_mask = seq_det.augment_image(y)\n",
    "    aug_mask[:,:,0] = np.where(aug_mask[:,:,0] > 0.5, 1, 0)\n",
    "\n",
    "    x_aug_list.append(aug_img)\n",
    "    y_aug_list.append(aug_mask)"
   ]
  },
  {
   "cell_type": "code",
   "execution_count": 37,
   "metadata": {},
   "outputs": [],
   "source": [
    "# x_train = np.append(x_train, [np.fliplr(x) for x in x_train], axis=0)\n",
    "# y_train = np.append(y_train, [np.fliplr(x) for x in y_train], axis=0)"
   ]
  },
  {
   "cell_type": "code",
   "execution_count": 38,
   "metadata": {},
   "outputs": [],
   "source": [
    "x_aug = np.array(x_aug_list)\n",
    "y_aug = np.array(y_aug_list)"
   ]
  },
  {
   "cell_type": "code",
   "execution_count": 39,
   "metadata": {},
   "outputs": [
    {
     "data": {
      "text/plain": [
       "(2965, 101, 101, 1)"
      ]
     },
     "execution_count": 39,
     "metadata": {},
     "output_type": "execute_result"
    }
   ],
   "source": [
    "x_aug.shape"
   ]
  },
  {
   "cell_type": "code",
   "execution_count": 40,
   "metadata": {},
   "outputs": [],
   "source": [
    "x_train = np.append(x_train, x_aug, axis=0)\n",
    "y_train = np.append(y_train, y_aug, axis=0)"
   ]
  },
  {
   "cell_type": "code",
   "execution_count": 41,
   "metadata": {
    "_uuid": "3a4ffe206d6ea50da3d8ccb8ec8d219a2e6cca94"
   },
   "outputs": [
    {
     "name": "stdout",
     "output_type": "stream",
     "text": [
      "(5930, 101, 101, 1)\n",
      "(1001, 101, 101, 1)\n"
     ]
    }
   ],
   "source": [
    "print(x_train.shape)\n",
    "print(y_valid.shape)"
   ]
  },
  {
   "cell_type": "code",
   "execution_count": 42,
   "metadata": {},
   "outputs": [
    {
     "data": {
      "image/png": "[encoded data removed]",
      "text/plain": [
       "<Figure size 432x288 with 2 Axes>"
      ]
     },
     "metadata": {
      "needs_background": "light"
     },
     "output_type": "display_data"
    }
   ],
   "source": [
    "i = 188\n",
    "plot2x2Array(x_train[i,:,:,0], y_train[i,:,:,0])"
   ]
  },
  {
   "cell_type": "code",
   "execution_count": 43,
   "metadata": {},
   "outputs": [
    {
     "data": {
      "image/png": "[encoded data removed]",
      "text/plain": [
       "<Figure size 432x288 with 2 Axes>"
      ]
     },
     "metadata": {
      "needs_background": "light"
     },
     "output_type": "display_data"
    }
   ],
   "source": [
    "plot2x2Array(x_train[i+x_train_orig_len,:,:,0], y_train[i+x_train_orig_len,:,:,0])"
   ]
  },
  {
   "cell_type": "markdown",
   "metadata": {},
   "source": [
    "# Model Definitions"
   ]
  },
  {
   "cell_type": "code",
   "execution_count": 44,
   "metadata": {
    "_uuid": "92fe9e2757add49ffb55b4824aa3d833919efde5"
   },
   "outputs": [],
   "source": [
    "def BatchActivate(x):\n",
    "    x = BatchNormalization()(x)\n",
    "    x = Activation('relu')(x)\n",
    "    return x\n",
    "\n",
    "def convolution_block(x, filters, size, strides=(1,1), padding='same', activation=True):\n",
    "    x = Conv2D(filters, size, strides=strides, padding=padding)(x)\n",
    "    if activation==True: x = BatchActivate(x)\n",
    "    return x\n",
    "\n",
    "def residual_block(blockInput, num_filters=16, batch_activate=False):\n",
    "    x = BatchActivate(blockInput)\n",
    "    x = convolution_block(x, num_filters, (3,3))\n",
    "    x = convolution_block(x, num_filters, (3,3), activation=False)\n",
    "    x = Add()([x, blockInput])\n",
    "    if batch_activate: x = BatchActivate(x)\n",
    "    return x"
   ]
  },
  {
   "cell_type": "code",
   "execution_count": 45,
   "metadata": {
    "_uuid": "e9dfb108c78c80848dc4155a811dae46aec829f9"
   },
   "outputs": [],
   "source": [
    "# Build Model\n",
    "def build_model(input_layer, start_neurons, DropoutRatio=0.5):\n",
    "    # 101 -> 50\n",
    "    conv1 = Conv2D(start_neurons*1, (3,3), activation=None, padding='same')(input_layer)\n",
    "    conv1 = residual_block(conv1, start_neurons*1)\n",
    "    conv1 = residual_block(conv1, start_neurons*1, True)\n",
    "    pool1 = MaxPooling2D((2,2))(conv1)\n",
    "    pool1 = Dropout(DropoutRatio/2)(pool1)\n",
    "    \n",
    "    # 50 -> 25\n",
    "    conv2 = Conv2D(start_neurons*2, (3,3), activation=None, padding='same')(pool1)\n",
    "    conv2 = residual_block(conv2, start_neurons*2)\n",
    "    conv2 = residual_block(conv2, start_neurons*2, True)\n",
    "    pool2 = MaxPooling2D((2,2))(conv2)\n",
    "    pool2 = Dropout(DropoutRatio)(pool2)\n",
    "    \n",
    "    # 25 -> 12\n",
    "    conv3 = Conv2D(start_neurons*4, (3,3), activation=None, padding='same')(pool2)\n",
    "    conv3 = residual_block(conv3, start_neurons*4)\n",
    "    conv3 = residual_block(conv3, start_neurons*4, True)\n",
    "    pool3 = MaxPooling2D((2,2))(conv3)\n",
    "    pool3 = Dropout(DropoutRatio)(pool3)\n",
    "    \n",
    "    # 12 -> 6\n",
    "    conv4 = Conv2D(start_neurons*8, (3,3), activation=None, padding='same')(pool3)\n",
    "    conv4 = residual_block(conv4, start_neurons*8)\n",
    "    conv4 = residual_block(conv4, start_neurons*8, True)\n",
    "    pool4 = MaxPooling2D((2,2))(conv4)\n",
    "    pool4 = Dropout(DropoutRatio)(pool4)\n",
    "    \n",
    "    # Middle\n",
    "    convm = Conv2D(start_neurons*16, (3,3), activation=None, padding='same')(pool4)\n",
    "    convm = residual_block(convm, start_neurons*16)\n",
    "    convm = residual_block(convm, start_neurons*16, True)\n",
    "    \n",
    "    # 6 -> 12\n",
    "    deconv4 = Conv2DTranspose(start_neurons*8, (3,3), strides=(2,2), padding='same')(convm)\n",
    "    uconv4 = concatenate([deconv4, conv4])\n",
    "    uconv4 = Dropout(DropoutRatio)(uconv4)\n",
    "    \n",
    "    uconv4 = Conv2D(start_neurons*8, (3,3), activation=None, padding='same')(uconv4)\n",
    "    uconv4 = residual_block(uconv4, start_neurons*8)\n",
    "    uconv4 = residual_block(uconv4, start_neurons*8, True)\n",
    "    \n",
    "    # 12 -> 25\n",
    "    deconv3 = Conv2DTranspose(start_neurons*4, (3,3), strides=(2,2), padding='valid')(uconv4)\n",
    "    uconv3 = concatenate([deconv3, conv3])\n",
    "    uconv3 = Dropout(DropoutRatio)(uconv3)\n",
    "    \n",
    "    uconv3 = Conv2D(start_neurons*4, (3,3), activation=None, padding='same')(uconv3)\n",
    "    uconv3 = residual_block(uconv3, start_neurons*4)\n",
    "    uconv3 = residual_block(uconv3, start_neurons*4, True)\n",
    "    \n",
    "    # 25 -> 50\n",
    "    deconv2 = Conv2DTranspose(start_neurons*2, (3,3), strides=(2,2), padding='same')(uconv3)\n",
    "    uconv2 = concatenate([deconv2, conv2])\n",
    "    uconv2 = Dropout(DropoutRatio)(uconv2)\n",
    "    \n",
    "    uconv2 = Conv2D(start_neurons*2, (3,3), activation=None, padding='same')(uconv2)\n",
    "    uconv2 = residual_block(uconv2, start_neurons*2)\n",
    "    uconv2 = residual_block(uconv2, start_neurons*2, True)\n",
    "    \n",
    "    # 50 -> 101\n",
    "    deconv1 = Conv2DTranspose(start_neurons*1, (3,3), strides=(2,2), padding='valid')(uconv2)\n",
    "    uconv1 = concatenate([deconv1, conv1])\n",
    "    uconv1 = Dropout(DropoutRatio)(uconv1)\n",
    "    \n",
    "    uconv1 = Conv2D(start_neurons*1, (3,3), activation=None, padding='same')(uconv1)\n",
    "    uconv1 = residual_block(uconv1, start_neurons*1)\n",
    "    uconv1 = residual_block(uconv1, start_neurons*1, True)\n",
    "    \n",
    "    output_layer_noActi = Conv2D(1, (1,1), padding='same', activation=None)(uconv1)\n",
    "    output_layer = Activation('sigmoid')(output_layer_noActi)\n",
    "    \n",
    "    return output_layer"
   ]
  },
  {
   "cell_type": "markdown",
   "metadata": {},
   "source": [
    "# Metric Loss"
   ]
  },
  {
   "cell_type": "code",
   "execution_count": 46,
   "metadata": {
    "_uuid": "e4ee11d11d6a42da26b699cbf9ce5f005de91968"
   },
   "outputs": [],
   "source": [
    "def get_iou_vector(A, B):\n",
    "    batch_size = A.shape[0]\n",
    "    metric = []\n",
    "    for batch in range(batch_size):\n",
    "        t, p = A[batch]>0, B[batch]>0\n",
    "        intersection = np.logical_and(t, p)\n",
    "        union = np.logical_or(t, p)\n",
    "        iou = (np.sum(intersection > 0) + 1e-10 )/ (np.sum(union > 0) + 1e-10)\n",
    "        thresholds = np.arange(0.5, 1, 0.05)\n",
    "        s = []\n",
    "        for thresh in thresholds:\n",
    "            s.append(iou > thresh)\n",
    "        metric.append(np.mean(s))\n",
    "        \n",
    "    return np.mean(metric)\n",
    "\n",
    "def my_iou_metric(label, pred):\n",
    "    return tf.py_func(get_iou_vector, [label, pred>0.5], tf.float64)\n",
    "\n",
    "def my_iou_metric_2(label, pred):\n",
    "    return tf.py_func(get_iou_vector, [label, pred >0], tf.float64)"
   ]
  },
  {
   "cell_type": "code",
   "execution_count": 47,
   "metadata": {
    "_uuid": "72fdacfe6a31500522f7d4c6ba858120b93bc39d"
   },
   "outputs": [],
   "source": [
    "# code download from: https://github.com/bermanmaxim/LovaszSoftmax\n",
    "def lovasz_grad(gt_sorted):\n",
    "    \"\"\"\n",
    "    Computes gradient of the Lovasz extension w.r.t sorted errors\n",
    "    See Alg. 1 in paper\n",
    "    \"\"\"\n",
    "    gts = tf.reduce_sum(gt_sorted)\n",
    "    intersection = gts - tf.cumsum(gt_sorted)\n",
    "    union = gts + tf.cumsum(1. - gt_sorted)\n",
    "    jaccard = 1. - intersection / union\n",
    "    jaccard = tf.concat((jaccard[0:1], jaccard[1:] - jaccard[:-1]), 0)\n",
    "    return jaccard\n",
    "\n",
    "# --------------------------- BINARY LOSSES ---------------------------\n",
    "\n",
    "def lovasz_hinge(logits, labels, per_image=True, ignore=None):\n",
    "    \"\"\"\n",
    "    Binary Lovasz hinge loss\n",
    "      logits: [B, H, W] Variable, logits at each pixel (between -\\infty and +\\infty)\n",
    "      labels: [B, H, W] Tensor, binary ground truth masks (0 or 1)\n",
    "      per_image: compute the loss per image instead of per batch\n",
    "      ignore: void class id\n",
    "    \"\"\"\n",
    "    if per_image:\n",
    "        def treat_image(log_lab):\n",
    "            log, lab = log_lab\n",
    "            log, lab = tf.expand_dims(log, 0), tf.expand_dims(lab, 0)\n",
    "            log, lab = flatten_binary_scores(log, lab, ignore)\n",
    "            return lovasz_hinge_flat(log, lab)\n",
    "        losses = tf.map_fn(treat_image, (logits, labels), dtype=tf.float32)\n",
    "        loss = tf.reduce_mean(losses)\n",
    "    else:\n",
    "        loss = lovasz_hinge_flat(*flatten_binary_scores(logits, labels, ignore))\n",
    "    return loss\n",
    "\n",
    "def lovasz_hinge_flat(logits, labels):\n",
    "    \"\"\"\n",
    "    Binary Lovasz hinge loss\n",
    "      logits: [P] Variable, logits at each prediction (between -\\infty and +\\infty)\n",
    "      labels: [P] Tensor, binary ground truth labels (0 or 1)\n",
    "      ignore: label to ignore\n",
    "    \"\"\"\n",
    "\n",
    "    def compute_loss():\n",
    "        labelsf = tf.cast(labels, logits.dtype)\n",
    "        signs = 2. * labelsf - 1.\n",
    "        errors = 1. - logits * tf.stop_gradient(signs)\n",
    "        errors_sorted, perm = tf.nn.top_k(errors, k=tf.shape(errors)[0], name=\"descending_sort\")\n",
    "        gt_sorted = tf.gather(labelsf, perm)\n",
    "        grad = lovasz_grad(gt_sorted)\n",
    "        loss = tf.tensordot(tf.nn.elu(errors_sorted), tf.stop_gradient(grad), 1, name=\"loss_non_void\")\n",
    "        return loss\n",
    "\n",
    "    # deal with the void prediction case (only void pixels)\n",
    "    loss = tf.cond(tf.equal(tf.shape(logits)[0], 0),\n",
    "                   lambda: tf.reduce_sum(logits) * 0.,\n",
    "                   compute_loss,\n",
    "                   strict=True,\n",
    "                   name=\"loss\"\n",
    "                   )\n",
    "    return loss\n",
    "\n",
    "\n",
    "def flatten_binary_scores(scores, labels, ignore=None):\n",
    "    \"\"\"\n",
    "    Flattens predictions in the batch (binary case)\n",
    "    Remove labels equal to 'ignore'\n",
    "    \"\"\"\n",
    "    scores = tf.reshape(scores, (-1,))\n",
    "    labels = tf.reshape(labels, (-1,))\n",
    "    if ignore is None:\n",
    "        return scores, labels\n",
    "    valid = tf.not_equal(labels, ignore)\n",
    "    vscores = tf.boolean_mask(scores, valid, name='valid_scores')\n",
    "    vlabels = tf.boolean_mask(labels, valid, name='valid_labels')\n",
    "    return vscores, vlabels\n",
    "\n",
    "def lovasz_loss(y_true, y_pred):\n",
    "    y_true, y_pred = K.cast(K.squeeze(y_true, -1), 'int32'), K.cast(K.squeeze(y_pred, -1), 'float32')\n",
    "    #logits = K.log(y_pred / (1. - y_pred))\n",
    "    logits = y_pred #Jiaxin\n",
    "    loss = lovasz_hinge(logits, y_true, per_image = True, ignore = None)\n",
    "    return loss"
   ]
  },
  {
   "cell_type": "markdown",
   "metadata": {},
   "source": [
    "# Build Model"
   ]
  },
  {
   "cell_type": "code",
   "execution_count": 48,
   "metadata": {
    "_uuid": "a58d48a4974b7381a193615e54a828a211c92308"
   },
   "outputs": [],
   "source": [
    "input_layer = Input((img_size_target, img_size_target, 1))\n",
    "output_layer = build_model(input_layer, 16, 0.5)\n",
    "\n",
    "model1 = Model(input_layer, output_layer)\n",
    "\n",
    "c = optimizers.adam(lr=0.0005)\n",
    "model1.compile(loss=\"binary_crossentropy\", optimizer=c, metrics=[my_iou_metric])\n",
    "\n",
    "# model1.summary()"
   ]
  },
  {
   "cell_type": "code",
   "execution_count": 49,
   "metadata": {
    "_uuid": "bd402f81e3d8e0aad30b7c63836cb9d488105cef"
   },
   "outputs": [],
   "source": [
    "early_stopping = EarlyStopping(monitor='val_my_iou_metric', mode='max', patience=22, verbose=1)\n",
    "\n",
    "model_checkpoint = ModelCheckpoint(save_model_name, monitor='val_my_iou_metric', mode='max', \n",
    "                                   save_best_only=True, verbose=1)\n",
    "\n",
    "reduce_lr = ReduceLROnPlateau(monitor='val_my_iou_metric', mode='max', factor=0.5, patience=6,\n",
    "                              min_lr=0.0001, verbose=1)\n",
    "\n",
    "epochs = 250\n",
    "batch_size = 128"
   ]
  },
  {
   "cell_type": "code",
   "execution_count": 50,
   "metadata": {
    "_uuid": "bd402f81e3d8e0aad30b7c63836cb9d488105cef",
    "scrolled": false
   },
   "outputs": [
    {
     "name": "stdout",
     "output_type": "stream",
     "text": [
      "Train on 5930 samples, validate on 1001 samples\n",
      "Epoch 1/250\n",
      "5930/5930 [==============================] - 77s 13ms/step - loss: 0.8891 - my_iou_metric: 0.1261 - val_loss: 0.7025 - val_my_iou_metric: 0.1040\n",
      "\n",
      "Epoch 00001: val_my_iou_metric improved from -inf to 0.10400, saving model to unet_v2_2A_cv1.model\n",
      "Epoch 2/250\n",
      "5930/5930 [==============================] - 60s 10ms/step - loss: 0.6555 - my_iou_metric: 0.0844 - val_loss: 0.9031 - val_my_iou_metric: 0.1176\n",
      "\n",
      "Epoch 00002: val_my_iou_metric improved from 0.10400 to 0.11758, saving model to unet_v2_2A_cv1.model\n",
      "Epoch 3/250\n",
      "5930/5930 [==============================] - 60s 10ms/step - loss: 0.5946 - my_iou_metric: 0.1256 - val_loss: 0.6291 - val_my_iou_metric: 0.1077\n",
      "\n",
      "Epoch 00003: val_my_iou_metric did not improve from 0.11758\n",
      "Epoch 4/250\n",
      "5930/5930 [==============================] - 60s 10ms/step - loss: 0.5342 - my_iou_metric: 0.1912 - val_loss: 0.5781 - val_my_iou_metric: 0.2718\n",
      "\n",
      "Epoch 00004: val_my_iou_metric improved from 0.11758 to 0.27183, saving model to unet_v2_2A_cv1.model\n",
      "Epoch 5/250\n",
      "5930/5930 [==============================] - 60s 10ms/step - loss: 0.4905 - my_iou_metric: 0.2626 - val_loss: 0.5474 - val_my_iou_metric: 0.3869\n",
      "\n",
      "Epoch 00005: val_my_iou_metric improved from 0.27183 to 0.38691, saving model to unet_v2_2A_cv1.model\n",
      "Epoch 6/250\n",
      "5930/5930 [==============================] - 60s 10ms/step - loss: 0.4529 - my_iou_metric: 0.3240 - val_loss: 0.4785 - val_my_iou_metric: 0.4443\n",
      "\n",
      "Epoch 00006: val_my_iou_metric improved from 0.38691 to 0.44426, saving model to unet_v2_2A_cv1.model\n",
      "Epoch 7/250\n",
      "5930/5930 [==============================] - 60s 10ms/step - loss: 0.4167 - my_iou_metric: 0.4051 - val_loss: 0.4625 - val_my_iou_metric: 0.3553\n",
      "\n",
      "Epoch 00007: val_my_iou_metric did not improve from 0.44426\n",
      "Epoch 8/250\n",
      "5930/5930 [==============================] - 60s 10ms/step - loss: 0.3909 - my_iou_metric: 0.4333 - val_loss: 0.4563 - val_my_iou_metric: 0.3760\n",
      "\n",
      "Epoch 00008: val_my_iou_metric did not improve from 0.44426\n",
      "Epoch 9/250\n",
      "5930/5930 [==============================] - 60s 10ms/step - loss: 0.3552 - my_iou_metric: 0.4545 - val_loss: 0.4111 - val_my_iou_metric: 0.4528\n",
      "\n",
      "Epoch 00009: val_my_iou_metric improved from 0.44426 to 0.45285, saving model to unet_v2_2A_cv1.model\n",
      "Epoch 10/250\n",
      "5930/5930 [==============================] - 60s 10ms/step - loss: 0.3266 - my_iou_metric: 0.5183 - val_loss: 0.3743 - val_my_iou_metric: 0.4854\n",
      "\n",
      "Epoch 00010: val_my_iou_metric improved from 0.45285 to 0.48541, saving model to unet_v2_2A_cv1.model\n",
      "Epoch 11/250\n",
      "5930/5930 [==============================] - 60s 10ms/step - loss: 0.3099 - my_iou_metric: 0.5311 - val_loss: 0.3145 - val_my_iou_metric: 0.5295\n",
      "\n",
      "Epoch 00011: val_my_iou_metric improved from 0.48541 to 0.52947, saving model to unet_v2_2A_cv1.model\n",
      "Epoch 12/250\n",
      "5930/5930 [==============================] - 60s 10ms/step - loss: 0.2876 - my_iou_metric: 0.5535 - val_loss: 0.2915 - val_my_iou_metric: 0.5824\n",
      "\n",
      "Epoch 00012: val_my_iou_metric improved from 0.52947 to 0.58242, saving model to unet_v2_2A_cv1.model\n",
      "Epoch 13/250\n",
      "5930/5930 [==============================] - 60s 10ms/step - loss: 0.2751 - my_iou_metric: 0.5599 - val_loss: 0.3405 - val_my_iou_metric: 0.5956\n",
      "\n",
      "Epoch 00013: val_my_iou_metric improved from 0.58242 to 0.59560, saving model to unet_v2_2A_cv1.model\n",
      "Epoch 14/250\n",
      "5930/5930 [==============================] - 60s 10ms/step - loss: 0.2642 - my_iou_metric: 0.5770 - val_loss: 0.2880 - val_my_iou_metric: 0.5584\n",
      "\n",
      "Epoch 00014: val_my_iou_metric did not improve from 0.59560\n",
      "Epoch 15/250\n",
      "5930/5930 [==============================] - 60s 10ms/step - loss: 0.2494 - my_iou_metric: 0.5795 - val_loss: 0.3238 - val_my_iou_metric: 0.5133\n",
      "\n",
      "Epoch 00015: val_my_iou_metric did not improve from 0.59560\n",
      "Epoch 16/250\n",
      "5930/5930 [==============================] - 60s 10ms/step - loss: 0.2420 - my_iou_metric: 0.5858 - val_loss: 0.3367 - val_my_iou_metric: 0.5587\n",
      "\n",
      "Epoch 00016: val_my_iou_metric did not improve from 0.59560\n",
      "Epoch 17/250\n",
      "5930/5930 [==============================] - 60s 10ms/step - loss: 0.2350 - my_iou_metric: 0.5968 - val_loss: 0.2648 - val_my_iou_metric: 0.5671\n",
      "\n",
      "Epoch 00017: val_my_iou_metric did not improve from 0.59560\n",
      "Epoch 18/250\n",
      "5930/5930 [==============================] - 60s 10ms/step - loss: 0.2202 - my_iou_metric: 0.6120 - val_loss: 0.2742 - val_my_iou_metric: 0.6074\n",
      "\n",
      "Epoch 00018: val_my_iou_metric improved from 0.59560 to 0.60739, saving model to unet_v2_2A_cv1.model\n",
      "Epoch 19/250\n",
      "5930/5930 [==============================] - 60s 10ms/step - loss: 0.2137 - my_iou_metric: 0.6094 - val_loss: 0.2440 - val_my_iou_metric: 0.6209\n",
      "\n",
      "Epoch 00019: val_my_iou_metric improved from 0.60739 to 0.62088, saving model to unet_v2_2A_cv1.model\n",
      "Epoch 20/250\n",
      "5930/5930 [==============================] - 61s 10ms/step - loss: 0.2119 - my_iou_metric: 0.6102 - val_loss: 0.2554 - val_my_iou_metric: 0.6156\n",
      "\n",
      "Epoch 00020: val_my_iou_metric did not improve from 0.62088\n",
      "Epoch 21/250\n",
      "5930/5930 [==============================] - 60s 10ms/step - loss: 0.1996 - my_iou_metric: 0.6332 - val_loss: 0.3714 - val_my_iou_metric: 0.5379\n",
      "\n",
      "Epoch 00021: val_my_iou_metric did not improve from 0.62088\n",
      "Epoch 22/250\n",
      "5930/5930 [==============================] - 60s 10ms/step - loss: 0.2004 - my_iou_metric: 0.6275 - val_loss: 0.2308 - val_my_iou_metric: 0.6181\n",
      "\n",
      "Epoch 00022: val_my_iou_metric did not improve from 0.62088\n",
      "Epoch 23/250\n",
      "5930/5930 [==============================] - 60s 10ms/step - loss: 0.1969 - my_iou_metric: 0.6353 - val_loss: 0.3011 - val_my_iou_metric: 0.5868\n",
      "\n",
      "Epoch 00023: val_my_iou_metric did not improve from 0.62088\n",
      "Epoch 24/250\n",
      "5930/5930 [==============================] - 60s 10ms/step - loss: 0.1871 - my_iou_metric: 0.6445 - val_loss: 0.2299 - val_my_iou_metric: 0.6337\n",
      "\n",
      "Epoch 00024: val_my_iou_metric improved from 0.62088 to 0.63367, saving model to unet_v2_2A_cv1.model\n",
      "Epoch 25/250\n",
      "5930/5930 [==============================] - 60s 10ms/step - loss: 0.1799 - my_iou_metric: 0.6492 - val_loss: 0.2097 - val_my_iou_metric: 0.6482\n",
      "\n",
      "Epoch 00025: val_my_iou_metric improved from 0.63367 to 0.64815, saving model to unet_v2_2A_cv1.model\n",
      "Epoch 26/250\n",
      "5930/5930 [==============================] - 60s 10ms/step - loss: 0.1756 - my_iou_metric: 0.6645 - val_loss: 0.2027 - val_my_iou_metric: 0.6563\n",
      "\n",
      "Epoch 00026: val_my_iou_metric improved from 0.64815 to 0.65634, saving model to unet_v2_2A_cv1.model\n",
      "Epoch 27/250\n",
      "5930/5930 [==============================] - 60s 10ms/step - loss: 0.1747 - my_iou_metric: 0.6731 - val_loss: 0.2179 - val_my_iou_metric: 0.6338\n",
      "\n",
      "Epoch 00027: val_my_iou_metric did not improve from 0.65634\n",
      "Epoch 28/250\n",
      "5930/5930 [==============================] - 60s 10ms/step - loss: 0.1725 - my_iou_metric: 0.6651 - val_loss: 0.2114 - val_my_iou_metric: 0.6581\n",
      "\n",
      "Epoch 00028: val_my_iou_metric improved from 0.65634 to 0.65814, saving model to unet_v2_2A_cv1.model\n",
      "Epoch 29/250\n",
      "5930/5930 [==============================] - 60s 10ms/step - loss: 0.1637 - my_iou_metric: 0.6816 - val_loss: 0.1878 - val_my_iou_metric: 0.6810\n",
      "\n",
      "Epoch 00029: val_my_iou_metric improved from 0.65814 to 0.68102, saving model to unet_v2_2A_cv1.model\n",
      "Epoch 30/250\n",
      "5930/5930 [==============================] - 60s 10ms/step - loss: 0.1624 - my_iou_metric: 0.6798 - val_loss: 0.2317 - val_my_iou_metric: 0.6213\n",
      "\n",
      "Epoch 00030: val_my_iou_metric did not improve from 0.68102\n",
      "Epoch 31/250\n",
      "5930/5930 [==============================] - 60s 10ms/step - loss: 0.1669 - my_iou_metric: 0.6818 - val_loss: 0.1899 - val_my_iou_metric: 0.6295\n",
      "\n",
      "Epoch 00031: val_my_iou_metric did not improve from 0.68102\n",
      "Epoch 32/250\n",
      "5930/5930 [==============================] - 60s 10ms/step - loss: 0.1573 - my_iou_metric: 0.6835 - val_loss: 0.2305 - val_my_iou_metric: 0.6467\n",
      "\n",
      "Epoch 00032: val_my_iou_metric did not improve from 0.68102\n",
      "Epoch 33/250\n",
      "5930/5930 [==============================] - 60s 10ms/step - loss: 0.1565 - my_iou_metric: 0.6946 - val_loss: 0.1939 - val_my_iou_metric: 0.6767\n",
      "\n",
      "Epoch 00033: val_my_iou_metric did not improve from 0.68102\n",
      "Epoch 34/250\n",
      "5930/5930 [==============================] - 60s 10ms/step - loss: 0.1499 - my_iou_metric: 0.7031 - val_loss: 0.1849 - val_my_iou_metric: 0.6896\n",
      "\n",
      "Epoch 00034: val_my_iou_metric improved from 0.68102 to 0.68961, saving model to unet_v2_2A_cv1.model\n"
     ]
    },
    {
     "name": "stdout",
     "output_type": "stream",
     "text": [
      "Epoch 35/250\n",
      "5930/5930 [==============================] - 60s 10ms/step - loss: 0.1484 - my_iou_metric: 0.6999 - val_loss: 0.2026 - val_my_iou_metric: 0.6869\n",
      "\n",
      "Epoch 00035: val_my_iou_metric did not improve from 0.68961\n",
      "Epoch 36/250\n",
      "5930/5930 [==============================] - 60s 10ms/step - loss: 0.1461 - my_iou_metric: 0.7086 - val_loss: 0.1960 - val_my_iou_metric: 0.6705\n",
      "\n",
      "Epoch 00036: val_my_iou_metric did not improve from 0.68961\n",
      "Epoch 37/250\n",
      "5930/5930 [==============================] - 61s 10ms/step - loss: 0.1444 - my_iou_metric: 0.7144 - val_loss: 0.2224 - val_my_iou_metric: 0.6353\n",
      "\n",
      "Epoch 00037: val_my_iou_metric did not improve from 0.68961\n",
      "Epoch 38/250\n",
      "5930/5930 [==============================] - 60s 10ms/step - loss: 0.1422 - my_iou_metric: 0.7080 - val_loss: 0.2035 - val_my_iou_metric: 0.6670\n",
      "\n",
      "Epoch 00038: val_my_iou_metric did not improve from 0.68961\n",
      "Epoch 39/250\n",
      "5930/5930 [==============================] - 60s 10ms/step - loss: 0.1372 - my_iou_metric: 0.7197 - val_loss: 0.2129 - val_my_iou_metric: 0.6618\n",
      "\n",
      "Epoch 00039: val_my_iou_metric did not improve from 0.68961\n",
      "Epoch 40/250\n",
      "5930/5930 [==============================] - 61s 10ms/step - loss: 0.1393 - my_iou_metric: 0.7098 - val_loss: 0.2416 - val_my_iou_metric: 0.6431\n",
      "\n",
      "Epoch 00040: val_my_iou_metric did not improve from 0.68961\n",
      "\n",
      "Epoch 00040: ReduceLROnPlateau reducing learning rate to 0.0002500000118743628.\n",
      "Epoch 41/250\n",
      "5930/5930 [==============================] - 61s 10ms/step - loss: 0.1344 - my_iou_metric: 0.7246 - val_loss: 0.1694 - val_my_iou_metric: 0.7161\n",
      "\n",
      "Epoch 00041: val_my_iou_metric improved from 0.68961 to 0.71608, saving model to unet_v2_2A_cv1.model\n",
      "Epoch 42/250\n",
      "5930/5930 [==============================] - 61s 10ms/step - loss: 0.1226 - my_iou_metric: 0.7349 - val_loss: 0.1968 - val_my_iou_metric: 0.6996\n",
      "\n",
      "Epoch 00042: val_my_iou_metric did not improve from 0.71608\n",
      "Epoch 43/250\n",
      "5930/5930 [==============================] - 61s 10ms/step - loss: 0.1243 - my_iou_metric: 0.7373 - val_loss: 0.1787 - val_my_iou_metric: 0.7199\n",
      "\n",
      "Epoch 00043: val_my_iou_metric improved from 0.71608 to 0.71988, saving model to unet_v2_2A_cv1.model\n",
      "Epoch 44/250\n",
      "5930/5930 [==============================] - 60s 10ms/step - loss: 0.1227 - my_iou_metric: 0.7335 - val_loss: 0.1721 - val_my_iou_metric: 0.7137\n",
      "\n",
      "Epoch 00044: val_my_iou_metric did not improve from 0.71988\n",
      "Epoch 45/250\n",
      "5930/5930 [==============================] - 61s 10ms/step - loss: 0.1201 - my_iou_metric: 0.7391 - val_loss: 0.1775 - val_my_iou_metric: 0.7121\n",
      "\n",
      "Epoch 00045: val_my_iou_metric did not improve from 0.71988\n",
      "Epoch 46/250\n",
      "5930/5930 [==============================] - 61s 10ms/step - loss: 0.1192 - my_iou_metric: 0.7448 - val_loss: 0.1882 - val_my_iou_metric: 0.7016\n",
      "\n",
      "Epoch 00046: val_my_iou_metric did not improve from 0.71988\n",
      "Epoch 47/250\n",
      "5930/5930 [==============================] - 60s 10ms/step - loss: 0.1142 - my_iou_metric: 0.7469 - val_loss: 0.1769 - val_my_iou_metric: 0.7155\n",
      "\n",
      "Epoch 00047: val_my_iou_metric did not improve from 0.71988\n",
      "Epoch 48/250\n",
      "5930/5930 [==============================] - 60s 10ms/step - loss: 0.1102 - my_iou_metric: 0.7461 - val_loss: 0.1789 - val_my_iou_metric: 0.7244\n",
      "\n",
      "Epoch 00048: val_my_iou_metric improved from 0.71988 to 0.72438, saving model to unet_v2_2A_cv1.model\n",
      "Epoch 49/250\n",
      "5930/5930 [==============================] - 60s 10ms/step - loss: 0.1093 - my_iou_metric: 0.7431 - val_loss: 0.1804 - val_my_iou_metric: 0.7263\n",
      "\n",
      "Epoch 00049: val_my_iou_metric improved from 0.72438 to 0.72627, saving model to unet_v2_2A_cv1.model\n",
      "Epoch 50/250\n",
      "5930/5930 [==============================] - 60s 10ms/step - loss: 0.1100 - my_iou_metric: 0.7474 - val_loss: 0.1898 - val_my_iou_metric: 0.7088\n",
      "\n",
      "Epoch 00050: val_my_iou_metric did not improve from 0.72627\n",
      "Epoch 51/250\n",
      "5930/5930 [==============================] - 60s 10ms/step - loss: 0.1078 - my_iou_metric: 0.7505 - val_loss: 0.1924 - val_my_iou_metric: 0.7018\n",
      "\n",
      "Epoch 00051: val_my_iou_metric did not improve from 0.72627\n",
      "Epoch 52/250\n",
      "5930/5930 [==============================] - 61s 10ms/step - loss: 0.1047 - my_iou_metric: 0.7513 - val_loss: 0.1833 - val_my_iou_metric: 0.7177\n",
      "\n",
      "Epoch 00052: val_my_iou_metric did not improve from 0.72627\n",
      "Epoch 53/250\n",
      "5930/5930 [==============================] - 60s 10ms/step - loss: 0.1060 - my_iou_metric: 0.7505 - val_loss: 0.1884 - val_my_iou_metric: 0.7134\n",
      "\n",
      "Epoch 00053: val_my_iou_metric did not improve from 0.72627\n",
      "Epoch 54/250\n",
      "5930/5930 [==============================] - 60s 10ms/step - loss: 0.1081 - my_iou_metric: 0.7546 - val_loss: 0.1815 - val_my_iou_metric: 0.7170\n",
      "\n",
      "Epoch 00054: val_my_iou_metric did not improve from 0.72627\n",
      "Epoch 55/250\n",
      "5930/5930 [==============================] - 60s 10ms/step - loss: 0.1051 - my_iou_metric: 0.7541 - val_loss: 0.1931 - val_my_iou_metric: 0.7119\n",
      "\n",
      "Epoch 00055: val_my_iou_metric did not improve from 0.72627\n",
      "\n",
      "Epoch 00055: ReduceLROnPlateau reducing learning rate to 0.0001250000059371814.\n",
      "Epoch 56/250\n",
      "5930/5930 [==============================] - 61s 10ms/step - loss: 0.1004 - my_iou_metric: 0.7564 - val_loss: 0.1844 - val_my_iou_metric: 0.7226\n",
      "\n",
      "Epoch 00056: val_my_iou_metric did not improve from 0.72627\n",
      "Epoch 57/250\n",
      "5930/5930 [==============================] - 60s 10ms/step - loss: 0.0966 - my_iou_metric: 0.7618 - val_loss: 0.1845 - val_my_iou_metric: 0.7235\n",
      "\n",
      "Epoch 00057: val_my_iou_metric did not improve from 0.72627\n",
      "Epoch 58/250\n",
      "5930/5930 [==============================] - 60s 10ms/step - loss: 0.0943 - my_iou_metric: 0.7644 - val_loss: 0.1820 - val_my_iou_metric: 0.7309\n",
      "\n",
      "Epoch 00058: val_my_iou_metric improved from 0.72627 to 0.73087, saving model to unet_v2_2A_cv1.model\n",
      "Epoch 59/250\n",
      "5930/5930 [==============================] - 60s 10ms/step - loss: 0.0914 - my_iou_metric: 0.7642 - val_loss: 0.1860 - val_my_iou_metric: 0.7363\n",
      "\n",
      "Epoch 00059: val_my_iou_metric improved from 0.73087 to 0.73626, saving model to unet_v2_2A_cv1.model\n",
      "Epoch 60/250\n",
      "5930/5930 [==============================] - 60s 10ms/step - loss: 0.0901 - my_iou_metric: 0.7714 - val_loss: 0.1845 - val_my_iou_metric: 0.7373\n",
      "\n",
      "Epoch 00060: val_my_iou_metric improved from 0.73626 to 0.73726, saving model to unet_v2_2A_cv1.model\n",
      "Epoch 61/250\n",
      "5930/5930 [==============================] - 60s 10ms/step - loss: 0.0911 - my_iou_metric: 0.7664 - val_loss: 0.1932 - val_my_iou_metric: 0.7310\n",
      "\n",
      "Epoch 00061: val_my_iou_metric did not improve from 0.73726\n",
      "Epoch 62/250\n",
      "5930/5930 [==============================] - 60s 10ms/step - loss: 0.0923 - my_iou_metric: 0.7709 - val_loss: 0.2009 - val_my_iou_metric: 0.7270\n",
      "\n",
      "Epoch 00062: val_my_iou_metric did not improve from 0.73726\n",
      "Epoch 63/250\n",
      "5930/5930 [==============================] - 60s 10ms/step - loss: 0.0918 - my_iou_metric: 0.7643 - val_loss: 0.1899 - val_my_iou_metric: 0.7307\n",
      "\n",
      "Epoch 00063: val_my_iou_metric did not improve from 0.73726\n",
      "Epoch 64/250\n",
      "5930/5930 [==============================] - 60s 10ms/step - loss: 0.0862 - my_iou_metric: 0.7734 - val_loss: 0.1865 - val_my_iou_metric: 0.7322\n",
      "\n",
      "Epoch 00064: val_my_iou_metric did not improve from 0.73726\n",
      "Epoch 65/250\n",
      "5930/5930 [==============================] - 60s 10ms/step - loss: 0.0883 - my_iou_metric: 0.7715 - val_loss: 0.2084 - val_my_iou_metric: 0.7271\n",
      "\n",
      "Epoch 00065: val_my_iou_metric did not improve from 0.73726\n",
      "Epoch 66/250\n",
      "5930/5930 [==============================] - 60s 10ms/step - loss: 0.0843 - my_iou_metric: 0.7742 - val_loss: 0.1995 - val_my_iou_metric: 0.7222\n",
      "\n",
      "Epoch 00066: val_my_iou_metric did not improve from 0.73726\n",
      "\n",
      "Epoch 00066: ReduceLROnPlateau reducing learning rate to 0.0001.\n",
      "Epoch 67/250\n",
      "5930/5930 [==============================] - 60s 10ms/step - loss: 0.0820 - my_iou_metric: 0.7788 - val_loss: 0.1990 - val_my_iou_metric: 0.7334\n",
      "\n",
      "Epoch 00067: val_my_iou_metric did not improve from 0.73726\n",
      "Epoch 68/250\n",
      "5930/5930 [==============================] - 60s 10ms/step - loss: 0.0810 - my_iou_metric: 0.7808 - val_loss: 0.1968 - val_my_iou_metric: 0.7395\n",
      "\n",
      "Epoch 00068: val_my_iou_metric improved from 0.73726 to 0.73946, saving model to unet_v2_2A_cv1.model\n",
      "Epoch 69/250\n",
      "5930/5930 [==============================] - 61s 10ms/step - loss: 0.0828 - my_iou_metric: 0.7779 - val_loss: 0.2006 - val_my_iou_metric: 0.7357\n",
      "\n",
      "Epoch 00069: val_my_iou_metric did not improve from 0.73946\n",
      "Epoch 70/250\n"
     ]
    },
    {
     "name": "stdout",
     "output_type": "stream",
     "text": [
      "5930/5930 [==============================] - 60s 10ms/step - loss: 0.0803 - my_iou_metric: 0.7814 - val_loss: 0.2044 - val_my_iou_metric: 0.7410\n",
      "\n",
      "Epoch 00070: val_my_iou_metric improved from 0.73946 to 0.74096, saving model to unet_v2_2A_cv1.model\n",
      "Epoch 71/250\n",
      "5930/5930 [==============================] - 61s 10ms/step - loss: 0.0783 - my_iou_metric: 0.7855 - val_loss: 0.2037 - val_my_iou_metric: 0.7391\n",
      "\n",
      "Epoch 00071: val_my_iou_metric did not improve from 0.74096\n",
      "Epoch 72/250\n",
      "5930/5930 [==============================] - 61s 10ms/step - loss: 0.0798 - my_iou_metric: 0.7767 - val_loss: 0.2074 - val_my_iou_metric: 0.7338\n",
      "\n",
      "Epoch 00072: val_my_iou_metric did not improve from 0.74096\n",
      "Epoch 73/250\n",
      "5930/5930 [==============================] - 60s 10ms/step - loss: 0.0802 - my_iou_metric: 0.7823 - val_loss: 0.2070 - val_my_iou_metric: 0.7374\n",
      "\n",
      "Epoch 00073: val_my_iou_metric did not improve from 0.74096\n",
      "Epoch 74/250\n",
      "5930/5930 [==============================] - 61s 10ms/step - loss: 0.0781 - my_iou_metric: 0.7844 - val_loss: 0.2035 - val_my_iou_metric: 0.7397\n",
      "\n",
      "Epoch 00074: val_my_iou_metric did not improve from 0.74096\n",
      "Epoch 75/250\n",
      "5930/5930 [==============================] - 60s 10ms/step - loss: 0.0810 - my_iou_metric: 0.7831 - val_loss: 0.1954 - val_my_iou_metric: 0.7374\n",
      "\n",
      "Epoch 00075: val_my_iou_metric did not improve from 0.74096\n",
      "Epoch 76/250\n",
      "5930/5930 [==============================] - 61s 10ms/step - loss: 0.0755 - my_iou_metric: 0.7924 - val_loss: 0.1998 - val_my_iou_metric: 0.7387\n",
      "\n",
      "Epoch 00076: val_my_iou_metric did not improve from 0.74096\n",
      "Epoch 77/250\n",
      "5930/5930 [==============================] - 60s 10ms/step - loss: 0.0767 - my_iou_metric: 0.7846 - val_loss: 0.2002 - val_my_iou_metric: 0.7384\n",
      "\n",
      "Epoch 00077: val_my_iou_metric did not improve from 0.74096\n",
      "Epoch 78/250\n",
      "5930/5930 [==============================] - 60s 10ms/step - loss: 0.0740 - my_iou_metric: 0.7871 - val_loss: 0.2162 - val_my_iou_metric: 0.7319\n",
      "\n",
      "Epoch 00078: val_my_iou_metric did not improve from 0.74096\n",
      "Epoch 79/250\n",
      "5930/5930 [==============================] - 61s 10ms/step - loss: 0.0738 - my_iou_metric: 0.7880 - val_loss: 0.2154 - val_my_iou_metric: 0.7272\n",
      "\n",
      "Epoch 00079: val_my_iou_metric did not improve from 0.74096\n",
      "Epoch 80/250\n",
      "5930/5930 [==============================] - 60s 10ms/step - loss: 0.0751 - my_iou_metric: 0.7871 - val_loss: 0.2114 - val_my_iou_metric: 0.7436\n",
      "\n",
      "Epoch 00080: val_my_iou_metric improved from 0.74096 to 0.74356, saving model to unet_v2_2A_cv1.model\n",
      "Epoch 81/250\n",
      "5930/5930 [==============================] - 61s 10ms/step - loss: 0.0744 - my_iou_metric: 0.7893 - val_loss: 0.2197 - val_my_iou_metric: 0.7262\n",
      "\n",
      "Epoch 00081: val_my_iou_metric did not improve from 0.74356\n",
      "Epoch 82/250\n",
      "5930/5930 [==============================] - 61s 10ms/step - loss: 0.0733 - my_iou_metric: 0.7889 - val_loss: 0.2280 - val_my_iou_metric: 0.7381\n",
      "\n",
      "Epoch 00082: val_my_iou_metric did not improve from 0.74356\n",
      "Epoch 83/250\n",
      "5930/5930 [==============================] - 61s 10ms/step - loss: 0.0755 - my_iou_metric: 0.7884 - val_loss: 0.2239 - val_my_iou_metric: 0.7283\n",
      "\n",
      "Epoch 00083: val_my_iou_metric did not improve from 0.74356\n",
      "Epoch 84/250\n",
      "5930/5930 [==============================] - 61s 10ms/step - loss: 0.0877 - my_iou_metric: 0.7754 - val_loss: 0.2183 - val_my_iou_metric: 0.7336\n",
      "\n",
      "Epoch 00084: val_my_iou_metric did not improve from 0.74356\n",
      "Epoch 85/250\n",
      "5930/5930 [==============================] - 60s 10ms/step - loss: 0.0740 - my_iou_metric: 0.7894 - val_loss: 0.2115 - val_my_iou_metric: 0.7408\n",
      "\n",
      "Epoch 00085: val_my_iou_metric did not improve from 0.74356\n",
      "Epoch 86/250\n",
      "5930/5930 [==============================] - 60s 10ms/step - loss: 0.0727 - my_iou_metric: 0.7912 - val_loss: 0.2079 - val_my_iou_metric: 0.7355\n",
      "\n",
      "Epoch 00086: val_my_iou_metric did not improve from 0.74356\n",
      "Epoch 87/250\n",
      "5930/5930 [==============================] - 60s 10ms/step - loss: 0.0742 - my_iou_metric: 0.7921 - val_loss: 0.2035 - val_my_iou_metric: 0.7380\n",
      "\n",
      "Epoch 00087: val_my_iou_metric did not improve from 0.74356\n",
      "Epoch 88/250\n",
      "5930/5930 [==============================] - 60s 10ms/step - loss: 0.0699 - my_iou_metric: 0.7937 - val_loss: 0.2203 - val_my_iou_metric: 0.7366\n",
      "\n",
      "Epoch 00088: val_my_iou_metric did not improve from 0.74356\n",
      "Epoch 89/250\n",
      "5930/5930 [==============================] - 60s 10ms/step - loss: 0.0702 - my_iou_metric: 0.7956 - val_loss: 0.2166 - val_my_iou_metric: 0.7396\n",
      "\n",
      "Epoch 00089: val_my_iou_metric did not improve from 0.74356\n",
      "Epoch 90/250\n",
      "5930/5930 [==============================] - 60s 10ms/step - loss: 0.0688 - my_iou_metric: 0.7958 - val_loss: 0.2331 - val_my_iou_metric: 0.7325\n",
      "\n",
      "Epoch 00090: val_my_iou_metric did not improve from 0.74356\n",
      "Epoch 91/250\n",
      "5930/5930 [==============================] - 60s 10ms/step - loss: 0.0706 - my_iou_metric: 0.7965 - val_loss: 0.2208 - val_my_iou_metric: 0.7264\n",
      "\n",
      "Epoch 00091: val_my_iou_metric did not improve from 0.74356\n",
      "Epoch 92/250\n",
      "5930/5930 [==============================] - 60s 10ms/step - loss: 0.0719 - my_iou_metric: 0.7864 - val_loss: 0.2281 - val_my_iou_metric: 0.7332\n",
      "\n",
      "Epoch 00092: val_my_iou_metric did not improve from 0.74356\n",
      "Epoch 93/250\n",
      "5930/5930 [==============================] - 60s 10ms/step - loss: 0.0712 - my_iou_metric: 0.7928 - val_loss: 0.2081 - val_my_iou_metric: 0.7383\n",
      "\n",
      "Epoch 00093: val_my_iou_metric did not improve from 0.74356\n",
      "Epoch 94/250\n",
      "5930/5930 [==============================] - 60s 10ms/step - loss: 0.0659 - my_iou_metric: 0.8014 - val_loss: 0.2209 - val_my_iou_metric: 0.7437\n",
      "\n",
      "Epoch 00094: val_my_iou_metric improved from 0.74356 to 0.74366, saving model to unet_v2_2A_cv1.model\n",
      "Epoch 95/250\n",
      "5930/5930 [==============================] - 60s 10ms/step - loss: 0.0668 - my_iou_metric: 0.7950 - val_loss: 0.2232 - val_my_iou_metric: 0.7413\n",
      "\n",
      "Epoch 00095: val_my_iou_metric did not improve from 0.74366\n",
      "Epoch 96/250\n",
      "5930/5930 [==============================] - 60s 10ms/step - loss: 0.0705 - my_iou_metric: 0.7954 - val_loss: 0.2291 - val_my_iou_metric: 0.7272\n",
      "\n",
      "Epoch 00096: val_my_iou_metric did not improve from 0.74366\n",
      "Epoch 97/250\n",
      "5930/5930 [==============================] - 60s 10ms/step - loss: 0.0682 - my_iou_metric: 0.7976 - val_loss: 0.2252 - val_my_iou_metric: 0.7410\n",
      "\n",
      "Epoch 00097: val_my_iou_metric did not improve from 0.74366\n",
      "Epoch 98/250\n",
      "5930/5930 [==============================] - 60s 10ms/step - loss: 0.0653 - my_iou_metric: 0.7966 - val_loss: 0.2279 - val_my_iou_metric: 0.7414\n",
      "\n",
      "Epoch 00098: val_my_iou_metric did not improve from 0.74366\n",
      "Epoch 99/250\n",
      "5930/5930 [==============================] - 60s 10ms/step - loss: 0.0660 - my_iou_metric: 0.8002 - val_loss: 0.2263 - val_my_iou_metric: 0.7385\n",
      "\n",
      "Epoch 00099: val_my_iou_metric did not improve from 0.74366\n",
      "Epoch 100/250\n",
      "5930/5930 [==============================] - 60s 10ms/step - loss: 0.0712 - my_iou_metric: 0.7922 - val_loss: 0.2173 - val_my_iou_metric: 0.7312\n",
      "\n",
      "Epoch 00100: val_my_iou_metric did not improve from 0.74366\n",
      "Epoch 101/250\n",
      "5930/5930 [==============================] - 59s 10ms/step - loss: 0.0660 - my_iou_metric: 0.7969 - val_loss: 0.2126 - val_my_iou_metric: 0.7378\n",
      "\n",
      "Epoch 00101: val_my_iou_metric did not improve from 0.74366\n",
      "Epoch 102/250\n",
      "5930/5930 [==============================] - 60s 10ms/step - loss: 0.0646 - my_iou_metric: 0.7987 - val_loss: 0.2208 - val_my_iou_metric: 0.7409\n",
      "\n",
      "Epoch 00102: val_my_iou_metric did not improve from 0.74366\n",
      "Epoch 103/250\n",
      "5930/5930 [==============================] - 60s 10ms/step - loss: 0.0637 - my_iou_metric: 0.8032 - val_loss: 0.2141 - val_my_iou_metric: 0.7370\n",
      "\n",
      "Epoch 00103: val_my_iou_metric did not improve from 0.74366\n",
      "Epoch 104/250\n",
      "5930/5930 [==============================] - 60s 10ms/step - loss: 0.0651 - my_iou_metric: 0.7980 - val_loss: 0.2164 - val_my_iou_metric: 0.7379\n",
      "\n",
      "Epoch 00104: val_my_iou_metric did not improve from 0.74366\n",
      "Epoch 105/250\n",
      "5930/5930 [==============================] - 60s 10ms/step - loss: 0.0681 - my_iou_metric: 0.7962 - val_loss: 0.2302 - val_my_iou_metric: 0.7379\n",
      "\n",
      "Epoch 00105: val_my_iou_metric did not improve from 0.74366\n",
      "Epoch 106/250\n",
      "5930/5930 [==============================] - 59s 10ms/step - loss: 0.0617 - my_iou_metric: 0.8067 - val_loss: 0.2319 - val_my_iou_metric: 0.7407\n",
      "\n",
      "Epoch 00106: val_my_iou_metric did not improve from 0.74366\n",
      "Epoch 107/250\n"
     ]
    },
    {
     "name": "stdout",
     "output_type": "stream",
     "text": [
      "5930/5930 [==============================] - 60s 10ms/step - loss: 0.0637 - my_iou_metric: 0.8003 - val_loss: 0.2352 - val_my_iou_metric: 0.7287\n",
      "\n",
      "Epoch 00107: val_my_iou_metric did not improve from 0.74366\n",
      "Epoch 108/250\n",
      "5930/5930 [==============================] - 60s 10ms/step - loss: 0.0628 - my_iou_metric: 0.8013 - val_loss: 0.2197 - val_my_iou_metric: 0.7466\n",
      "\n",
      "Epoch 00108: val_my_iou_metric improved from 0.74366 to 0.74655, saving model to unet_v2_2A_cv1.model\n",
      "Epoch 109/250\n",
      "5930/5930 [==============================] - 60s 10ms/step - loss: 0.0628 - my_iou_metric: 0.8019 - val_loss: 0.2262 - val_my_iou_metric: 0.7384\n",
      "\n",
      "Epoch 00109: val_my_iou_metric did not improve from 0.74655\n",
      "Epoch 110/250\n",
      "5930/5930 [==============================] - 60s 10ms/step - loss: 0.0626 - my_iou_metric: 0.8019 - val_loss: 0.2266 - val_my_iou_metric: 0.7366\n",
      "\n",
      "Epoch 00110: val_my_iou_metric did not improve from 0.74655\n",
      "Epoch 111/250\n",
      "5930/5930 [==============================] - 60s 10ms/step - loss: 0.0631 - my_iou_metric: 0.8026 - val_loss: 0.2272 - val_my_iou_metric: 0.7453\n",
      "\n",
      "Epoch 00111: val_my_iou_metric did not improve from 0.74655\n",
      "Epoch 112/250\n",
      "5930/5930 [==============================] - 60s 10ms/step - loss: 0.0652 - my_iou_metric: 0.8016 - val_loss: 0.2321 - val_my_iou_metric: 0.7357\n",
      "\n",
      "Epoch 00112: val_my_iou_metric did not improve from 0.74655\n",
      "Epoch 113/250\n",
      "5930/5930 [==============================] - 60s 10ms/step - loss: 0.0635 - my_iou_metric: 0.7991 - val_loss: 0.2214 - val_my_iou_metric: 0.7405\n",
      "\n",
      "Epoch 00113: val_my_iou_metric did not improve from 0.74655\n",
      "Epoch 114/250\n",
      "5930/5930 [==============================] - 60s 10ms/step - loss: 0.0596 - my_iou_metric: 0.8083 - val_loss: 0.2309 - val_my_iou_metric: 0.7402\n",
      "\n",
      "Epoch 00114: val_my_iou_metric did not improve from 0.74655\n",
      "Epoch 115/250\n",
      "5930/5930 [==============================] - 60s 10ms/step - loss: 0.0587 - my_iou_metric: 0.8084 - val_loss: 0.2254 - val_my_iou_metric: 0.7368\n",
      "\n",
      "Epoch 00115: val_my_iou_metric did not improve from 0.74655\n",
      "Epoch 116/250\n",
      "5930/5930 [==============================] - 60s 10ms/step - loss: 0.0607 - my_iou_metric: 0.8065 - val_loss: 0.2577 - val_my_iou_metric: 0.7307\n",
      "\n",
      "Epoch 00116: val_my_iou_metric did not improve from 0.74655\n",
      "Epoch 117/250\n",
      "5930/5930 [==============================] - 60s 10ms/step - loss: 0.0605 - my_iou_metric: 0.8054 - val_loss: 0.2346 - val_my_iou_metric: 0.7469\n",
      "\n",
      "Epoch 00117: val_my_iou_metric improved from 0.74655 to 0.74685, saving model to unet_v2_2A_cv1.model\n",
      "Epoch 118/250\n",
      "5930/5930 [==============================] - 60s 10ms/step - loss: 0.0612 - my_iou_metric: 0.8039 - val_loss: 0.2286 - val_my_iou_metric: 0.7440\n",
      "\n",
      "Epoch 00118: val_my_iou_metric did not improve from 0.74685\n",
      "Epoch 119/250\n",
      "5930/5930 [==============================] - 60s 10ms/step - loss: 0.0596 - my_iou_metric: 0.8107 - val_loss: 0.2367 - val_my_iou_metric: 0.7411\n",
      "\n",
      "Epoch 00119: val_my_iou_metric did not improve from 0.74685\n",
      "Epoch 120/250\n",
      "5930/5930 [==============================] - 60s 10ms/step - loss: 0.0575 - my_iou_metric: 0.8100 - val_loss: 0.2328 - val_my_iou_metric: 0.7354\n",
      "\n",
      "Epoch 00120: val_my_iou_metric did not improve from 0.74685\n",
      "Epoch 121/250\n",
      "5930/5930 [==============================] - 60s 10ms/step - loss: 0.0593 - my_iou_metric: 0.8077 - val_loss: 0.2273 - val_my_iou_metric: 0.7308\n",
      "\n",
      "Epoch 00121: val_my_iou_metric did not improve from 0.74685\n",
      "Epoch 122/250\n",
      "5930/5930 [==============================] - 60s 10ms/step - loss: 0.0575 - my_iou_metric: 0.8101 - val_loss: 0.2312 - val_my_iou_metric: 0.7405\n",
      "\n",
      "Epoch 00122: val_my_iou_metric did not improve from 0.74685\n",
      "Epoch 123/250\n",
      "5930/5930 [==============================] - 60s 10ms/step - loss: 0.0574 - my_iou_metric: 0.8095 - val_loss: 0.2331 - val_my_iou_metric: 0.7380\n",
      "\n",
      "Epoch 00123: val_my_iou_metric did not improve from 0.74685\n",
      "Epoch 124/250\n",
      "5930/5930 [==============================] - 60s 10ms/step - loss: 0.0581 - my_iou_metric: 0.8081 - val_loss: 0.2442 - val_my_iou_metric: 0.7295\n",
      "\n",
      "Epoch 00124: val_my_iou_metric did not improve from 0.74685\n",
      "Epoch 125/250\n",
      "5930/5930 [==============================] - 60s 10ms/step - loss: 0.0601 - my_iou_metric: 0.8041 - val_loss: 0.2302 - val_my_iou_metric: 0.7451\n",
      "\n",
      "Epoch 00125: val_my_iou_metric did not improve from 0.74685\n",
      "Epoch 126/250\n",
      "5930/5930 [==============================] - 60s 10ms/step - loss: 0.0586 - my_iou_metric: 0.8099 - val_loss: 0.2372 - val_my_iou_metric: 0.7415\n",
      "\n",
      "Epoch 00126: val_my_iou_metric did not improve from 0.74685\n",
      "Epoch 127/250\n",
      "5930/5930 [==============================] - 60s 10ms/step - loss: 0.0653 - my_iou_metric: 0.8010 - val_loss: 0.2398 - val_my_iou_metric: 0.7380\n",
      "\n",
      "Epoch 00127: val_my_iou_metric did not improve from 0.74685\n",
      "Epoch 128/250\n",
      "5930/5930 [==============================] - 60s 10ms/step - loss: 0.0578 - my_iou_metric: 0.8098 - val_loss: 0.2264 - val_my_iou_metric: 0.7432\n",
      "\n",
      "Epoch 00128: val_my_iou_metric did not improve from 0.74685\n",
      "Epoch 129/250\n",
      "5930/5930 [==============================] - 60s 10ms/step - loss: 0.0625 - my_iou_metric: 0.8053 - val_loss: 0.2331 - val_my_iou_metric: 0.7338\n",
      "\n",
      "Epoch 00129: val_my_iou_metric did not improve from 0.74685\n",
      "Epoch 130/250\n",
      "5930/5930 [==============================] - 60s 10ms/step - loss: 0.0588 - my_iou_metric: 0.8153 - val_loss: 0.2476 - val_my_iou_metric: 0.7357\n",
      "\n",
      "Epoch 00130: val_my_iou_metric did not improve from 0.74685\n",
      "Epoch 131/250\n",
      "5930/5930 [==============================] - 60s 10ms/step - loss: 0.0575 - my_iou_metric: 0.8112 - val_loss: 0.2268 - val_my_iou_metric: 0.7375\n",
      "\n",
      "Epoch 00131: val_my_iou_metric did not improve from 0.74685\n",
      "Epoch 132/250\n",
      "5930/5930 [==============================] - 60s 10ms/step - loss: 0.0569 - my_iou_metric: 0.8143 - val_loss: 0.2211 - val_my_iou_metric: 0.7447\n",
      "\n",
      "Epoch 00132: val_my_iou_metric did not improve from 0.74685\n",
      "Epoch 133/250\n",
      "5930/5930 [==============================] - 60s 10ms/step - loss: 0.0563 - my_iou_metric: 0.8164 - val_loss: 0.2336 - val_my_iou_metric: 0.7401\n",
      "\n",
      "Epoch 00133: val_my_iou_metric did not improve from 0.74685\n",
      "Epoch 134/250\n",
      "5930/5930 [==============================] - 60s 10ms/step - loss: 0.0545 - my_iou_metric: 0.8160 - val_loss: 0.2443 - val_my_iou_metric: 0.7318\n",
      "\n",
      "Epoch 00134: val_my_iou_metric did not improve from 0.74685\n",
      "Epoch 135/250\n",
      "5930/5930 [==============================] - 60s 10ms/step - loss: 0.0572 - my_iou_metric: 0.8093 - val_loss: 0.2500 - val_my_iou_metric: 0.7349\n",
      "\n",
      "Epoch 00135: val_my_iou_metric did not improve from 0.74685\n",
      "Epoch 136/250\n",
      "5930/5930 [==============================] - 60s 10ms/step - loss: 0.0582 - my_iou_metric: 0.8101 - val_loss: 0.2367 - val_my_iou_metric: 0.7330\n",
      "\n",
      "Epoch 00136: val_my_iou_metric did not improve from 0.74685\n",
      "Epoch 137/250\n",
      "5930/5930 [==============================] - 60s 10ms/step - loss: 0.0527 - my_iou_metric: 0.8184 - val_loss: 0.2585 - val_my_iou_metric: 0.7312\n",
      "\n",
      "Epoch 00137: val_my_iou_metric did not improve from 0.74685\n",
      "Epoch 138/250\n",
      "5930/5930 [==============================] - 60s 10ms/step - loss: 0.0534 - my_iou_metric: 0.8184 - val_loss: 0.2361 - val_my_iou_metric: 0.7435\n",
      "\n",
      "Epoch 00138: val_my_iou_metric did not improve from 0.74685\n",
      "Epoch 139/250\n",
      "5930/5930 [==============================] - 60s 10ms/step - loss: 0.0528 - my_iou_metric: 0.8163 - val_loss: 0.2494 - val_my_iou_metric: 0.7359\n",
      "\n",
      "Epoch 00139: val_my_iou_metric did not improve from 0.74685\n",
      "Epoch 00139: early stopping\n",
      "CPU times: user 1h 19min 8s, sys: 32min 9s, total: 1h 51min 17s\n",
      "Wall time: 2h 20min 28s\n"
     ]
    }
   ],
   "source": [
    "%%time\n",
    "history = model1.fit(x_train, y_train,\n",
    "                     validation_data = [x_valid, y_valid], \n",
    "                     epochs = epochs, \n",
    "                     batch_size = batch_size, \n",
    "                     callbacks = [early_stopping, model_checkpoint, reduce_lr],\n",
    "                     verbose = 1)"
   ]
  },
  {
   "cell_type": "markdown",
   "metadata": {},
   "source": [
    "# Remove activation layer and use lovasz loss"
   ]
  },
  {
   "cell_type": "code",
   "execution_count": 51,
   "metadata": {
    "_uuid": "52ba1ba40cac42145f499cff252eb73feff397d3"
   },
   "outputs": [],
   "source": [
    "model1 = load_model(save_model_name, custom_objects={'my_iou_metric':my_iou_metric})\n",
    "\n",
    "input_x = model1.layers[0].input\n",
    "output_layer = model1.layers[-1].input\n",
    "model = Model(input_x, output_layer)\n",
    "c = optimizers.adam(lr=0.0001)\n",
    "\n",
    "model.compile(loss=lovasz_loss, optimizer=c, metrics=[my_iou_metric_2])\n",
    "\n",
    "# model.summary()"
   ]
  },
  {
   "cell_type": "code",
   "execution_count": 52,
   "metadata": {
    "_uuid": "ec1e49fd425a02ab12dea6b99cf39de45c80199f"
   },
   "outputs": [],
   "source": [
    "early_stopping = EarlyStopping(monitor='val_my_iou_metric_2', mode='max', patience=20, verbose=1)\n",
    "model_checkpoint = ModelCheckpoint(save_model_nameB,monitor='val_my_iou_metric_2', \n",
    "                                   mode = 'max', save_best_only=True, verbose=1)\n",
    "reduce_lr = ReduceLROnPlateau(monitor='val_my_iou_metric_2', mode = 'max',factor=0.5, patience=6, min_lr=0.00001, verbose=1)\n",
    "epochs = 250\n",
    "batch_size = 128"
   ]
  },
  {
   "cell_type": "code",
   "execution_count": 53,
   "metadata": {
    "_uuid": "ec1e49fd425a02ab12dea6b99cf39de45c80199f",
    "scrolled": false
   },
   "outputs": [
    {
     "name": "stdout",
     "output_type": "stream",
     "text": [
      "Train on 5930 samples, validate on 1001 samples\n",
      "Epoch 1/250\n",
      " - 177s - loss: -1.9656e-01 - my_iou_metric_2: 0.8185 - val_loss: 0.2624 - val_my_iou_metric_2: 0.7500\n",
      "\n",
      "Epoch 00001: val_my_iou_metric_2 improved from -inf to 0.75005, saving model to unet_v2_2B_cv1.model\n",
      "Epoch 2/250\n",
      " - 161s - loss: -2.3915e-01 - my_iou_metric_2: 0.8218 - val_loss: 0.2218 - val_my_iou_metric_2: 0.7567\n",
      "\n",
      "Epoch 00002: val_my_iou_metric_2 improved from 0.75005 to 0.75674, saving model to unet_v2_2B_cv1.model\n",
      "Epoch 3/250\n",
      " - 161s - loss: -2.6209e-01 - my_iou_metric_2: 0.8235 - val_loss: 0.2277 - val_my_iou_metric_2: 0.7521\n",
      "\n",
      "Epoch 00003: val_my_iou_metric_2 did not improve from 0.75674\n",
      "Epoch 4/250\n",
      " - 161s - loss: -2.5864e-01 - my_iou_metric_2: 0.8229 - val_loss: 0.2279 - val_my_iou_metric_2: 0.7486\n",
      "\n",
      "Epoch 00004: val_my_iou_metric_2 did not improve from 0.75674\n",
      "Epoch 5/250\n",
      " - 161s - loss: -2.7516e-01 - my_iou_metric_2: 0.8258 - val_loss: 0.1962 - val_my_iou_metric_2: 0.7575\n",
      "\n",
      "Epoch 00005: val_my_iou_metric_2 improved from 0.75674 to 0.75754, saving model to unet_v2_2B_cv1.model\n",
      "Epoch 6/250\n",
      " - 161s - loss: -2.9138e-01 - my_iou_metric_2: 0.8287 - val_loss: 0.2532 - val_my_iou_metric_2: 0.7495\n",
      "\n",
      "Epoch 00006: val_my_iou_metric_2 did not improve from 0.75754\n",
      "Epoch 7/250\n",
      " - 162s - loss: -2.9899e-01 - my_iou_metric_2: 0.8265 - val_loss: 0.1546 - val_my_iou_metric_2: 0.7577\n",
      "\n",
      "Epoch 00007: val_my_iou_metric_2 improved from 0.75754 to 0.75774, saving model to unet_v2_2B_cv1.model\n",
      "Epoch 8/250\n",
      " - 162s - loss: -2.9939e-01 - my_iou_metric_2: 0.8274 - val_loss: 0.1973 - val_my_iou_metric_2: 0.7529\n",
      "\n",
      "Epoch 00008: val_my_iou_metric_2 did not improve from 0.75774\n",
      "Epoch 9/250\n",
      " - 161s - loss: -3.0514e-01 - my_iou_metric_2: 0.8289 - val_loss: 0.2085 - val_my_iou_metric_2: 0.7542\n",
      "\n",
      "Epoch 00009: val_my_iou_metric_2 did not improve from 0.75774\n",
      "Epoch 10/250\n",
      " - 161s - loss: -3.0695e-01 - my_iou_metric_2: 0.8268 - val_loss: 0.2015 - val_my_iou_metric_2: 0.7545\n",
      "\n",
      "Epoch 00010: val_my_iou_metric_2 did not improve from 0.75774\n",
      "Epoch 11/250\n",
      " - 161s - loss: -3.1871e-01 - my_iou_metric_2: 0.8320 - val_loss: 0.2012 - val_my_iou_metric_2: 0.7589\n",
      "\n",
      "Epoch 00011: val_my_iou_metric_2 improved from 0.75774 to 0.75894, saving model to unet_v2_2B_cv1.model\n",
      "Epoch 12/250\n",
      " - 162s - loss: -3.3211e-01 - my_iou_metric_2: 0.8329 - val_loss: 0.1678 - val_my_iou_metric_2: 0.7567\n",
      "\n",
      "Epoch 00012: val_my_iou_metric_2 did not improve from 0.75894\n",
      "Epoch 13/250\n",
      " - 162s - loss: -3.3827e-01 - my_iou_metric_2: 0.8338 - val_loss: 0.1595 - val_my_iou_metric_2: 0.7590\n",
      "\n",
      "Epoch 00013: val_my_iou_metric_2 improved from 0.75894 to 0.75904, saving model to unet_v2_2B_cv1.model\n",
      "Epoch 14/250\n",
      " - 162s - loss: -3.4210e-01 - my_iou_metric_2: 0.8358 - val_loss: 0.2095 - val_my_iou_metric_2: 0.7530\n",
      "\n",
      "Epoch 00014: val_my_iou_metric_2 did not improve from 0.75904\n",
      "Epoch 15/250\n",
      " - 162s - loss: -3.5541e-01 - my_iou_metric_2: 0.8385 - val_loss: 0.2023 - val_my_iou_metric_2: 0.7547\n",
      "\n",
      "Epoch 00015: val_my_iou_metric_2 did not improve from 0.75904\n",
      "Epoch 16/250\n",
      " - 162s - loss: -3.5637e-01 - my_iou_metric_2: 0.8370 - val_loss: 0.1748 - val_my_iou_metric_2: 0.7601\n",
      "\n",
      "Epoch 00016: val_my_iou_metric_2 improved from 0.75904 to 0.76014, saving model to unet_v2_2B_cv1.model\n",
      "Epoch 17/250\n",
      " - 161s - loss: -3.5660e-01 - my_iou_metric_2: 0.8368 - val_loss: 0.1871 - val_my_iou_metric_2: 0.7542\n",
      "\n",
      "Epoch 00017: val_my_iou_metric_2 did not improve from 0.76014\n",
      "Epoch 18/250\n",
      " - 161s - loss: -3.6548e-01 - my_iou_metric_2: 0.8379 - val_loss: 0.1549 - val_my_iou_metric_2: 0.7497\n",
      "\n",
      "Epoch 00018: val_my_iou_metric_2 did not improve from 0.76014\n",
      "Epoch 19/250\n",
      " - 161s - loss: -3.1222e-01 - my_iou_metric_2: 0.8245 - val_loss: 0.1682 - val_my_iou_metric_2: 0.7469\n",
      "\n",
      "Epoch 00019: val_my_iou_metric_2 did not improve from 0.76014\n",
      "Epoch 20/250\n",
      " - 162s - loss: -3.5932e-01 - my_iou_metric_2: 0.8368 - val_loss: 0.1404 - val_my_iou_metric_2: 0.7534\n",
      "\n",
      "Epoch 00020: val_my_iou_metric_2 did not improve from 0.76014\n",
      "Epoch 21/250\n",
      " - 162s - loss: -3.7537e-01 - my_iou_metric_2: 0.8396 - val_loss: 0.1724 - val_my_iou_metric_2: 0.7588\n",
      "\n",
      "Epoch 00021: val_my_iou_metric_2 did not improve from 0.76014\n",
      "Epoch 22/250\n",
      " - 161s - loss: -3.6507e-01 - my_iou_metric_2: 0.8373 - val_loss: 0.2058 - val_my_iou_metric_2: 0.7501\n",
      "\n",
      "Epoch 00022: val_my_iou_metric_2 did not improve from 0.76014\n",
      "\n",
      "Epoch 00022: ReduceLROnPlateau reducing learning rate to 4.999999873689376e-05.\n",
      "Epoch 23/250\n",
      " - 162s - loss: -3.8429e-01 - my_iou_metric_2: 0.8419 - val_loss: 0.1721 - val_my_iou_metric_2: 0.7589\n",
      "\n",
      "Epoch 00023: val_my_iou_metric_2 did not improve from 0.76014\n",
      "Epoch 24/250\n",
      " - 161s - loss: -3.9886e-01 - my_iou_metric_2: 0.8427 - val_loss: 0.1841 - val_my_iou_metric_2: 0.7540\n",
      "\n",
      "Epoch 00024: val_my_iou_metric_2 did not improve from 0.76014\n",
      "Epoch 25/250\n",
      " - 161s - loss: -3.8881e-01 - my_iou_metric_2: 0.8407 - val_loss: 0.1542 - val_my_iou_metric_2: 0.7563\n",
      "\n",
      "Epoch 00025: val_my_iou_metric_2 did not improve from 0.76014\n",
      "Epoch 26/250\n",
      " - 161s - loss: -4.0142e-01 - my_iou_metric_2: 0.8439 - val_loss: 0.1380 - val_my_iou_metric_2: 0.7590\n",
      "\n",
      "Epoch 00026: val_my_iou_metric_2 did not improve from 0.76014\n",
      "Epoch 27/250\n",
      " - 162s - loss: -4.0191e-01 - my_iou_metric_2: 0.8430 - val_loss: 0.1599 - val_my_iou_metric_2: 0.7600\n",
      "\n",
      "Epoch 00027: val_my_iou_metric_2 did not improve from 0.76014\n",
      "Epoch 28/250\n",
      " - 162s - loss: -4.0788e-01 - my_iou_metric_2: 0.8440 - val_loss: 0.1738 - val_my_iou_metric_2: 0.7536\n",
      "\n",
      "Epoch 00028: val_my_iou_metric_2 did not improve from 0.76014\n",
      "\n",
      "Epoch 00028: ReduceLROnPlateau reducing learning rate to 2.499999936844688e-05.\n",
      "Epoch 29/250\n",
      " - 162s - loss: -4.0851e-01 - my_iou_metric_2: 0.8453 - val_loss: 0.1713 - val_my_iou_metric_2: 0.7557\n",
      "\n",
      "Epoch 00029: val_my_iou_metric_2 did not improve from 0.76014\n",
      "Epoch 30/250\n",
      " - 162s - loss: -4.2445e-01 - my_iou_metric_2: 0.8481 - val_loss: 0.1759 - val_my_iou_metric_2: 0.7599\n",
      "\n",
      "Epoch 00030: val_my_iou_metric_2 did not improve from 0.76014\n",
      "Epoch 31/250\n",
      " - 162s - loss: -4.2309e-01 - my_iou_metric_2: 0.8467 - val_loss: 0.1778 - val_my_iou_metric_2: 0.7590\n",
      "\n",
      "Epoch 00031: val_my_iou_metric_2 did not improve from 0.76014\n",
      "Epoch 32/250\n",
      " - 162s - loss: -4.3274e-01 - my_iou_metric_2: 0.8495 - val_loss: 0.1753 - val_my_iou_metric_2: 0.7557\n",
      "\n",
      "Epoch 00032: val_my_iou_metric_2 did not improve from 0.76014\n",
      "Epoch 33/250\n",
      " - 162s - loss: -4.2602e-01 - my_iou_metric_2: 0.8480 - val_loss: 0.1850 - val_my_iou_metric_2: 0.7564\n",
      "\n",
      "Epoch 00033: val_my_iou_metric_2 did not improve from 0.76014\n",
      "Epoch 34/250\n",
      " - 162s - loss: -4.3741e-01 - my_iou_metric_2: 0.8501 - val_loss: 0.1882 - val_my_iou_metric_2: 0.7578\n",
      "\n",
      "Epoch 00034: val_my_iou_metric_2 did not improve from 0.76014\n",
      "\n",
      "Epoch 00034: ReduceLROnPlateau reducing learning rate to 1.249999968422344e-05.\n",
      "Epoch 35/250\n",
      " - 162s - loss: -4.2769e-01 - my_iou_metric_2: 0.8474 - val_loss: 0.1949 - val_my_iou_metric_2: 0.7574\n",
      "\n",
      "Epoch 00035: val_my_iou_metric_2 did not improve from 0.76014\n",
      "Epoch 36/250\n",
      " - 161s - loss: -4.3393e-01 - my_iou_metric_2: 0.8503 - val_loss: 0.1996 - val_my_iou_metric_2: 0.7592\n",
      "\n",
      "Epoch 00036: val_my_iou_metric_2 did not improve from 0.76014\n",
      "Epoch 00036: early stopping\n",
      "CPU times: user 43min 41s, sys: 13min 41s, total: 57min 23s\n",
      "Wall time: 1h 38min 5s\n"
     ]
    }
   ],
   "source": [
    "%%time\n",
    "history = model.fit(x_train, y_train,\n",
    "                    validation_data=[x_valid, y_valid], \n",
    "                    epochs=epochs,\n",
    "                    batch_size=batch_size,\n",
    "                    callbacks=[ model_checkpoint, reduce_lr, early_stopping], \n",
    "                    verbose=2)"
   ]
  },
  {
   "cell_type": "markdown",
   "metadata": {},
   "source": [
    "# Plot result"
   ]
  },
  {
   "cell_type": "code",
   "execution_count": 54,
   "metadata": {
    "_uuid": "922febde76d7aff93c49c71a28b3a2361f433d02"
   },
   "outputs": [
    {
     "data": {
      "text/plain": [
       "<matplotlib.legend.Legend at 0x7f3c6df77f98>"
      ]
     },
     "execution_count": 54,
     "metadata": {},
     "output_type": "execute_result"
    },
    {
     "data": {
      "image/png": "[encoded data removed]",
      "text/plain": [
       "<Figure size 1080x360 with 2 Axes>"
      ]
     },
     "metadata": {
      "needs_background": "light"
     },
     "output_type": "display_data"
    }
   ],
   "source": [
    "fig, (ax_loss, ax_score) = plt.subplots(1, 2, figsize=(15,5))\n",
    "ax_loss.plot(history.epoch, history.history[\"loss\"], label=\"Train loss\")\n",
    "ax_loss.plot(history.epoch, history.history[\"val_loss\"], label=\"Validation loss\")\n",
    "ax_loss.legend()\n",
    "ax_score.plot(history.epoch, history.history[\"my_iou_metric_2\"], label=\"Train score\")\n",
    "ax_score.plot(history.epoch, history.history[\"val_my_iou_metric_2\"], label=\"Validation score\")\n",
    "ax_score.legend()"
   ]
  },
  {
   "cell_type": "code",
   "execution_count": 55,
   "metadata": {
    "_uuid": "068c89f56e9e7eb1d7ecf12912996426ad87f2a6"
   },
   "outputs": [],
   "source": [
    "model = load_model(save_model_nameB,custom_objects={'my_iou_metric_2': my_iou_metric_2,\n",
    "                                                   'lovasz_loss': lovasz_loss})"
   ]
  },
  {
   "cell_type": "code",
   "execution_count": 56,
   "metadata": {
    "_uuid": "c33f2cdf50d3011f704ac934e49602bd3167c8cb"
   },
   "outputs": [],
   "source": [
    "def predict_result(model,x_test,img_size_target): # predict both orginal and reflect x\n",
    "    x_test_reflect =  np.array([np.fliplr(x) for x in x_test])\n",
    "    preds_test = model.predict(x_test).reshape(-1, img_size_target, img_size_target)\n",
    "    preds_test2_refect = model.predict(x_test_reflect).reshape(-1, img_size_target, img_size_target)\n",
    "    preds_test += np.array([ np.fliplr(x) for x in preds_test2_refect] )\n",
    "    return preds_test/2"
   ]
  },
  {
   "cell_type": "code",
   "execution_count": 57,
   "metadata": {
    "_uuid": "ec38f74adccf2d265cac160311c0998fefc76ec6"
   },
   "outputs": [],
   "source": [
    "preds_valid = predict_result(model,x_valid,img_size_target)"
   ]
  },
  {
   "cell_type": "code",
   "execution_count": 58,
   "metadata": {
    "_uuid": "6794a936dd110f0d4ecc23206c53af7cd0f4a587"
   },
   "outputs": [],
   "source": [
    "#Score the model and do a threshold optimization by the best IoU.\n",
    "\n",
    "# src: https://www.kaggle.com/aglotero/another-iou-metric\n",
    "def iou_metric(y_true_in, y_pred_in, print_table=False):\n",
    "    labels = y_true_in\n",
    "    y_pred = y_pred_in\n",
    "\n",
    "\n",
    "    true_objects = 2\n",
    "    pred_objects = 2\n",
    "\n",
    "    #  if all zeros, original code  generate wrong  bins [-0.5 0 0.5],\n",
    "    temp1 = np.histogram2d(labels.flatten(), y_pred.flatten(), bins=([0,0.5,1], [0,0.5, 1]))\n",
    "#     temp1 = np.histogram2d(labels.flatten(), y_pred.flatten(), bins=(true_objects, pred_objects))\n",
    "    #print(temp1)\n",
    "    intersection = temp1[0]\n",
    "    #print(\"temp2 = \",temp1[1])\n",
    "    #print(intersection.shape)\n",
    "   # print(intersection)\n",
    "    # Compute areas (needed for finding the union between all objects)\n",
    "    #print(np.histogram(labels, bins = true_objects))\n",
    "    area_true = np.histogram(labels,bins=[0,0.5,1])[0]\n",
    "    #print(\"area_true = \",area_true)\n",
    "    area_pred = np.histogram(y_pred, bins=[0,0.5,1])[0]\n",
    "    area_true = np.expand_dims(area_true, -1)\n",
    "    area_pred = np.expand_dims(area_pred, 0)\n",
    "\n",
    "    # Compute union\n",
    "    union = area_true + area_pred - intersection\n",
    "  \n",
    "    # Exclude background from the analysis\n",
    "    intersection = intersection[1:,1:]\n",
    "    intersection[intersection == 0] = 1e-9\n",
    "    \n",
    "    union = union[1:,1:]\n",
    "    union[union == 0] = 1e-9\n",
    "\n",
    "    # Compute the intersection over union\n",
    "    iou = intersection / union\n",
    "    # Precision helper function\n",
    "    def precision_at(threshold, iou):\n",
    "        matches = iou > threshold\n",
    "        true_positives = np.sum(matches, axis=1) == 1   # Correct objects\n",
    "        false_positives = np.sum(matches, axis=0) == 0  # Missed objects\n",
    "        false_negatives = np.sum(matches, axis=1) == 0  # Extra objects\n",
    "        tp, fp, fn = np.sum(true_positives), np.sum(false_positives), np.sum(false_negatives)\n",
    "        return tp, fp, fn\n",
    "\n",
    "    # Loop over IoU thresholds\n",
    "    prec = []\n",
    "    if print_table:\n",
    "        print(\"Thresh\\tTP\\tFP\\tFN\\tPrec.\")\n",
    "    for t in np.arange(0.5, 1.0, 0.05):\n",
    "        tp, fp, fn = precision_at(t, iou)\n",
    "        if (tp + fp + fn) > 0:\n",
    "            p = tp / (tp + fp + fn)\n",
    "        else:\n",
    "            p = 0\n",
    "        if print_table:\n",
    "            print(\"{:1.3f}\\t{}\\t{}\\t{}\\t{:1.3f}\".format(t, tp, fp, fn, p))\n",
    "        prec.append(p)\n",
    "        \n",
    "    if print_table:\n",
    "        print(\"AP\\t-\\t-\\t-\\t{:1.3f}\".format(np.mean(prec)))\n",
    "    return np.mean(prec)\n",
    "\n",
    "def iou_metric_batch(y_true_in, y_pred_in):\n",
    "    batch_size = y_true_in.shape[0]\n",
    "    metric = []\n",
    "    for batch in range(batch_size):\n",
    "        value = iou_metric(y_true_in[batch], y_pred_in[batch])\n",
    "        metric.append(value)\n",
    "    return np.mean(metric)"
   ]
  },
  {
   "cell_type": "code",
   "execution_count": 59,
   "metadata": {
    "_uuid": "6d96072932f985336021cd115cb6bb13058618a8"
   },
   "outputs": [
    {
     "data": {
      "application/vnd.jupyter.widget-view+json": {
       "model_id": "89dc1e7190a542408170f43bfe6d3cc9",
       "version_major": 2,
       "version_minor": 0
      },
      "text/plain": [
       "HBox(children=(IntProgress(value=0, max=31), HTML(value='')))"
      ]
     },
     "metadata": {},
     "output_type": "display_data"
    },
    {
     "name": "stdout",
     "output_type": "stream",
     "text": [
      "\n",
      "[0.75694306 0.75724276 0.75774226 0.76033966 0.76063936 0.76053946\n",
      " 0.76143856 0.76183816 0.76243756 0.76213786 0.76253746 0.76333666\n",
      " 0.76233766 0.76403596 0.76463536 0.76383616 0.76323676 0.76283716\n",
      " 0.76393606 0.76373626 0.76273726 0.76383616 0.76333666 0.76263736\n",
      " 0.76183816 0.76163836 0.76103896 0.76023976 0.76013986 0.75904096\n",
      " 0.75814186]\n"
     ]
    }
   ],
   "source": [
    "## Scoring for last model, choose threshold by validation data \n",
    "thresholds_ori = np.linspace(0.3, 0.7, 31)\n",
    "# Reverse sigmoid function: Use code below because the  sigmoid activation was removed\n",
    "thresholds = np.log(thresholds_ori/(1-thresholds_ori)) \n",
    "\n",
    "# ious = np.array([get_iou_vector(y_valid, preds_valid > threshold) for threshold in tqdm_notebook(thresholds)])\n",
    "# print(ious)\n",
    "ious = np.array([iou_metric_batch(y_valid, preds_valid > threshold) for threshold in tqdm_notebook(thresholds)])\n",
    "print(ious)"
   ]
  },
  {
   "cell_type": "code",
   "execution_count": 60,
   "metadata": {
    "_uuid": "ce197d87cf44fef681025160cba8e4081d15ed50"
   },
   "outputs": [
    {
     "data": {
      "text/plain": [
       "<matplotlib.legend.Legend at 0x7f3c789df978>"
      ]
     },
     "execution_count": 60,
     "metadata": {},
     "output_type": "execute_result"
    },
    {
     "data": {
      "image/png": "[encoded data removed]",
      "text/plain": [
       "<Figure size 432x288 with 1 Axes>"
      ]
     },
     "metadata": {
      "needs_background": "light"
     },
     "output_type": "display_data"
    }
   ],
   "source": [
    "threshold_best_index = np.argmax(ious)\n",
    "iou_best = ious[threshold_best_index]\n",
    "threshold_best = thresholds[threshold_best_index]\n",
    "\n",
    "plt.plot(thresholds, ious)\n",
    "plt.plot(threshold_best, iou_best, 'xr', label='Best threshold')\n",
    "plt.xlabel(\"Threshold\")\n",
    "plt.ylabel(\"IoU\")\n",
    "plt.title(\"Threshold vs IoU ({}, {})\".format(threshold_best, iou_best))\n",
    "plt.legend()"
   ]
  },
  {
   "cell_type": "code",
   "execution_count": 61,
   "metadata": {
    "_uuid": "2633e0c50ddb705021a35441c6a19fae9312603e"
   },
   "outputs": [],
   "source": [
    "def rle_encode(im):\n",
    "    '''\n",
    "    im: numpy array, 1-mask, 0-background\n",
    "    Returns run length as string\n",
    "    '''\n",
    "    pixels = im.flatten(order='F')\n",
    "    pixels = np.concatenate([[0], pixels, [0]])\n",
    "    runs = np.where(pixels[1:] != pixels[:-1])[0] + 1\n",
    "    runs[1::2] -= runs[::2]\n",
    "    return ' '.join(str(x) for x in runs)"
   ]
  },
  {
   "cell_type": "code",
   "execution_count": 62,
   "metadata": {
    "_uuid": "3c29b25a37ceb7476bc0264ea3a97dc705e07607"
   },
   "outputs": [
    {
     "ename": "SyntaxError",
     "evalue": "f-string: empty expression not allowed (<ipython-input-62-47533dc91260>, line 1)",
     "output_type": "error",
     "traceback": [
      "\u001b[0;36m  File \u001b[0;32m\"<ipython-input-62-47533dc91260>\"\u001b[0;36m, line \u001b[0;32m1\u001b[0m\n\u001b[0;31m    x_test = np.array([(np.array(load_img(f\"{DATA_DIR}test/images/{}.png\".format(idx), grayscale = True))) / 255 for idx in tqdm_notebook(test_df.index)]).reshape(-1, img_size_target, img_size_target, 1)\u001b[0m\n\u001b[0m                                         ^\u001b[0m\n\u001b[0;31mSyntaxError\u001b[0m\u001b[0;31m:\u001b[0m f-string: empty expression not allowed\n"
     ]
    }
   ],
   "source": [
    "x_test = np.array([(np.array(load_img(f\"{DATA_DIR}test/images/{idx}.png\", grayscale = True))) / 255 for idx in tqdm_notebook(test_df.index)]).reshape(-1, img_size_target, img_size_target, 1)"
   ]
  },
  {
   "cell_type": "code",
   "execution_count": null,
   "metadata": {
    "_uuid": "e129e7c3e525b884322570ed37da825cd89db290"
   },
   "outputs": [],
   "source": [
    "preds_test = predict_result(model,x_test,img_size_target)"
   ]
  },
  {
   "cell_type": "code",
   "execution_count": null,
   "metadata": {
    "_uuid": "aac939d180585abab6dd497a45f81e3df67b25a8"
   },
   "outputs": [],
   "source": [
    "pred_dict = {idx: rle_encode(np.round(downsample(preds_test[i]) > threshold_best)) for i, idx in enumerate(tqdm_notebook(test_df.index.values))}"
   ]
  },
  {
   "cell_type": "code",
   "execution_count": null,
   "metadata": {
    "_uuid": "2d6ef314f368bf9923285007e7098c068af049d9"
   },
   "outputs": [],
   "source": [
    "sub = pd.DataFrame.from_dict(pred_dict,orient='index')\n",
    "sub.index.names = ['id']\n",
    "sub.columns = ['rle_mask']\n",
    "sub.to_csv(submission_file)"
   ]
  },
  {
   "cell_type": "code",
   "execution_count": null,
   "metadata": {
    "_uuid": "ae636758e7abdc7fb87768cbfb2c6f18f8c1975f"
   },
   "outputs": [],
   "source": [
    "t_finish = time.time()\n",
    "print(f\"Kernel run time = {(t_finish-t_start)/3600} hours\")"
   ]
  },
  {
   "cell_type": "code",
   "execution_count": null,
   "metadata": {},
   "outputs": [],
   "source": []
  }
 ],
 "metadata": {
  "kernelspec": {
   "display_name": "Python 3",
   "language": "python",
   "name": "python3"
  },
  "language_info": {
   "codemirror_mode": {
    "name": "ipython",
    "version": 3
   },
   "file_extension": ".py",
   "mimetype": "text/x-python",
   "name": "python",
   "nbconvert_exporter": "python",
   "pygments_lexer": "ipython3",
   "version": "3.6.6"
  },
  "toc": {
   "base_numbering": 1,
   "nav_menu": {},
   "number_sections": true,
   "sideBar": true,
   "skip_h1_title": false,
   "title_cell": "Table of Contents",
   "title_sidebar": "Contents",
   "toc_cell": false,
   "toc_position": {},
   "toc_section_display": true,
   "toc_window_display": false
  }
 },
 "nbformat": 4,
 "nbformat_minor": 1
}
