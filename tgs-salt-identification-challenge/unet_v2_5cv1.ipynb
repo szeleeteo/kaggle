{
 "cells": [
  {
   "cell_type": "raw",
   "metadata": {},
   "source": [
    "5-fold\n",
    "lr augm\n",
    "remove 1-10pixels"
   ]
  },
  {
   "cell_type": "markdown",
   "metadata": {},
   "source": [
    "# Import Dependencies"
   ]
  },
  {
   "cell_type": "code",
   "execution_count": 1,
   "metadata": {
    "_cell_guid": "b1076dfc-b9ad-4769-8c92-a6c4dae69d19",
    "_uuid": "8f2839f25d086af736a60e9eeb907d3b93b6e0e5"
   },
   "outputs": [
    {
     "name": "stderr",
     "output_type": "stream",
     "text": [
      "Using TensorFlow backend.\n"
     ]
    }
   ],
   "source": [
    "import os\n",
    "import sys\n",
    "import random\n",
    "import numpy as np\n",
    "import pandas as pd\n",
    "import matplotlib.pyplot as plt\n",
    "plt.style.use('seaborn-white')\n",
    "import seaborn as sns\n",
    "sns.set_style('white')\n",
    "\n",
    "%matplotlib inline\n",
    "\n",
    "from sklearn.model_selection import train_test_split\n",
    "from sklearn.model_selection import StratifiedKFold\n",
    "\n",
    "from tqdm import tqdm_notebook\n",
    "\n",
    "from skimage.io import imread, imshow\n",
    "from skimage.transform import resize\n",
    "from skimage.morphology import label\n",
    "\n",
    "from keras.models import Model, load_model, save_model\n",
    "from keras.layers import Input, Dropout, BatchNormalization, Activation, Add\n",
    "from keras.layers.core import Lambda\n",
    "from keras.layers.convolutional import Conv2D, Conv2DTranspose\n",
    "from keras.layers.pooling import MaxPooling2D\n",
    "from keras.layers.merge import concatenate\n",
    "from keras.callbacks import EarlyStopping, ModelCheckpoint, ReduceLROnPlateau\n",
    "from keras import backend as K\n",
    "from keras import optimizers\n",
    "import tensorflow as tf\n",
    "from keras.preprocessing.image import array_to_img, img_to_array, load_img\n",
    "\n",
    "import time\n",
    "t_start = time.time()"
   ]
  },
  {
   "cell_type": "code",
   "execution_count": 2,
   "metadata": {},
   "outputs": [
    {
     "name": "stdout",
     "output_type": "stream",
     "text": [
      "1.10.1\n"
     ]
    }
   ],
   "source": [
    "print(tf.__version__)"
   ]
  },
  {
   "cell_type": "markdown",
   "metadata": {},
   "source": [
    "# Pre-process Data"
   ]
  },
  {
   "cell_type": "code",
   "execution_count": 3,
   "metadata": {},
   "outputs": [],
   "source": [
    "DATA_DIR = 'data/salt/'"
   ]
  },
  {
   "cell_type": "code",
   "execution_count": 4,
   "metadata": {},
   "outputs": [],
   "source": [
    "cv_total = 5\n",
    "cv_index = 1  # 0,1,2,3,4"
   ]
  },
  {
   "cell_type": "code",
   "execution_count": 5,
   "metadata": {
    "_cell_guid": "79c7e3d0-c299-4dcb-8224-4455121ee9b0",
    "_uuid": "d629ff2d2480ee46fbb7e2d37f6b5fab8052498a"
   },
   "outputs": [
    {
     "name": "stdout",
     "output_type": "stream",
     "text": [
      "unet_v2_5A_cv1.model\n",
      "unet_v2_5B_cv1.model\n",
      "unet_v2_5_cv1.csv\n"
     ]
    }
   ],
   "source": [
    "version = 5\n",
    "basic_name = f'unet_v2_{version}'\n",
    "save_model_name = basic_name + 'A_cv' + str(cv_index) + '.model'\n",
    "save_model_nameB = basic_name + 'B_cv' + str(cv_index) + '.model'\n",
    "submission_file = basic_name + '_cv' + str(cv_index) + '.csv'\n",
    "\n",
    "print(save_model_name)\n",
    "print(save_model_nameB)\n",
    "print(submission_file)"
   ]
  },
  {
   "cell_type": "code",
   "execution_count": 6,
   "metadata": {
    "_uuid": "4a7f9e82027f04b17b56c177a1831abf25abe2c8"
   },
   "outputs": [],
   "source": [
    "img_size_ori = 101\n",
    "img_size_target = 101\n",
    "\n",
    "def upsample(img):# not used\n",
    "    if img_size_ori == img_size_target:\n",
    "        return img\n",
    "    return resize(img, (img_size_target, img_size_target), mode='constant', preserve_range=True)\n",
    "    \n",
    "def downsample(img):# not used\n",
    "    if img_size_ori == img_size_target:\n",
    "        return img\n",
    "    return resize(img, (img_size_ori, img_size_ori), mode='constant', preserve_range=True)"
   ]
  },
  {
   "cell_type": "code",
   "execution_count": 7,
   "metadata": {
    "_uuid": "419fa6e1ad5218241f08f954453fa3899de8e2e7"
   },
   "outputs": [
    {
     "data": {
      "text/plain": [
       "4000"
      ]
     },
     "execution_count": 7,
     "metadata": {},
     "output_type": "execute_result"
    }
   ],
   "source": [
    "# Loading of training/testing ids and depths\n",
    "train_df = pd.read_csv(f\"{DATA_DIR}train.csv\", index_col=\"id\", usecols=[0])\n",
    "depths_df = pd.read_csv(f\"{DATA_DIR}depths.csv\", index_col=\"id\")\n",
    "train_df = train_df.join(depths_df)\n",
    "test_df = depths_df[~depths_df.index.isin(train_df.index)]\n",
    "\n",
    "len(train_df)"
   ]
  },
  {
   "cell_type": "code",
   "execution_count": 8,
   "metadata": {
    "_uuid": "fc276e696e66de8ab00b68dce1863fa55eb5023d"
   },
   "outputs": [
    {
     "data": {
      "application/vnd.jupyter.widget-view+json": {
       "model_id": "7eb62ed2fbf54d69b911de7777c564cb",
       "version_major": 2,
       "version_minor": 0
      },
      "text/plain": [
       "HBox(children=(IntProgress(value=0, max=4000), HTML(value='')))"
      ]
     },
     "metadata": {},
     "output_type": "display_data"
    },
    {
     "name": "stdout",
     "output_type": "stream",
     "text": [
      "\n"
     ]
    }
   ],
   "source": [
    "train_df[\"images\"] = [np.array(load_img(f\"{DATA_DIR}train/images/{idx}.png\", color_mode='grayscale')) / 255 for idx in tqdm_notebook(train_df.index)]"
   ]
  },
  {
   "cell_type": "code",
   "execution_count": 9,
   "metadata": {
    "_uuid": "a2339c6c3b81280839f05269b2314be4541fa5c4"
   },
   "outputs": [
    {
     "data": {
      "application/vnd.jupyter.widget-view+json": {
       "model_id": "413b6ea4e270428ab2ab59ab2298840c",
       "version_major": 2,
       "version_minor": 0
      },
      "text/plain": [
       "HBox(children=(IntProgress(value=0, max=4000), HTML(value='')))"
      ]
     },
     "metadata": {},
     "output_type": "display_data"
    },
    {
     "name": "stdout",
     "output_type": "stream",
     "text": [
      "\n"
     ]
    }
   ],
   "source": [
    "train_df[\"masks\"] = [np.array(load_img(f\"{DATA_DIR}train/masks/{idx}.png\", color_mode='grayscale')) / 255 for idx in tqdm_notebook(train_df.index)]"
   ]
  },
  {
   "cell_type": "code",
   "execution_count": 10,
   "metadata": {
    "_uuid": "cbacf34c7506a867795260a9c615cb4427d62c2d"
   },
   "outputs": [],
   "source": [
    "train_df[\"coverage\"] = train_df.masks.map(np.sum) / pow(img_size_ori, 2)\n",
    "\n",
    "def cov_to_class(val):    \n",
    "    for i in range(0, 11):\n",
    "        if val * 10 <= i :\n",
    "            return i\n",
    "        \n",
    "train_df[\"coverage_class\"] = train_df.coverage.map(cov_to_class)"
   ]
  },
  {
   "cell_type": "code",
   "execution_count": 11,
   "metadata": {
    "_uuid": "c535341361ea08ec77f6821719b7045f308895d3"
   },
   "outputs": [
    {
     "data": {
      "text/plain": [
       "Text(0.5, 0, 'Coverage class')"
      ]
     },
     "execution_count": 11,
     "metadata": {},
     "output_type": "execute_result"
    },
    {
     "data": {
      "image/png": "[encoded data removed]",
      "text/plain": [
       "<Figure size 1080x360 with 2 Axes>"
      ]
     },
     "metadata": {
      "needs_background": "light"
     },
     "output_type": "display_data"
    }
   ],
   "source": [
    "fig, axs = plt.subplots(1, 2, figsize=(15,5))\n",
    "sns.distplot(train_df.coverage, kde=False, ax=axs[0])\n",
    "sns.distplot(train_df.coverage_class, bins=10, kde=False, ax=axs[1])\n",
    "plt.suptitle(\"Salt coverage\")\n",
    "axs[0].set_xlabel(\"Coverage\")\n",
    "axs[1].set_xlabel(\"Coverage class\")"
   ]
  },
  {
   "cell_type": "code",
   "execution_count": 12,
   "metadata": {
    "_uuid": "d150fb85dd998ab4dd241c66e52d247ab667dce0"
   },
   "outputs": [
    {
     "data": {
      "text/plain": [
       "Text(0.5, 1.0, 'Depth distribution')"
      ]
     },
     "execution_count": 12,
     "metadata": {},
     "output_type": "execute_result"
    },
    {
     "data": {
      "image/png": "[encoded data removed]",
      "text/plain": [
       "<Figure size 432x288 with 1 Axes>"
      ]
     },
     "metadata": {
      "needs_background": "light"
     },
     "output_type": "display_data"
    }
   ],
   "source": [
    "# Plotting the depth distributions\n",
    "\n",
    "sns.distplot(train_df.z, label=\"Train\")\n",
    "sns.distplot(test_df.z, label=\"Test\")\n",
    "plt.legend()\n",
    "plt.title(\"Depth distribution\")"
   ]
  },
  {
   "cell_type": "markdown",
   "metadata": {},
   "source": [
    "# Split Data"
   ]
  },
  {
   "cell_type": "code",
   "execution_count": 13,
   "metadata": {
    "_uuid": "2ea5c45300c08b06c60548dd09831cff38878551"
   },
   "outputs": [],
   "source": [
    "# # Create train/validation split stratified by salt coverage\n",
    "# ids_train, ids_valid, x_train, x_valid, y_train, y_valid, cov_train, cov_test, depth_train, depth_test = \\\n",
    "# train_test_split(train_df.index.values, \n",
    "#                  np.array(train_df.images.map(upsample).tolist()).reshape(-1, img_size_target, img_size_target, 1),\n",
    "#                  np.array(train_df.masks.map(upsample).tolist()).reshape(-1, img_size_target, img_size_target, 1),\n",
    "#                  train_df.coverage.values, \n",
    "#                  train_df.z.values, \n",
    "#                  test_size=0.2, stratify=train_df.coverage_class, random_state=555)"
   ]
  },
  {
   "cell_type": "code",
   "execution_count": 14,
   "metadata": {},
   "outputs": [
    {
     "name": "stdout",
     "output_type": "stream",
     "text": [
      "(3196,) (804,)\n",
      "(3199,) (801,)\n",
      "(3200,) (800,)\n",
      "(3201,) (799,)\n",
      "(3204,) (796,)\n"
     ]
    }
   ],
   "source": [
    "train_all = []\n",
    "evaluate_all = []\n",
    "skf = StratifiedKFold(n_splits=cv_total, random_state=555, shuffle=True)\n",
    "\n",
    "for train_index, evaluate_index in skf.split(train_df.index.values, train_df.coverage_class):\n",
    "    train_all.append(train_index)\n",
    "    evaluate_all.append(evaluate_index)\n",
    "    print(train_index.shape, evaluate_index.shape) # the shape is slightly different in different cv, it's OK"
   ]
  },
  {
   "cell_type": "code",
   "execution_count": 15,
   "metadata": {},
   "outputs": [],
   "source": [
    "def get_cv_data(cv_index):\n",
    "    train_index = train_all[cv_index-1]\n",
    "    evaluate_index = evaluate_all[cv_index-1]\n",
    "    x_train = np.array(train_df.images[train_index].map(upsample).tolist()).reshape(-1, img_size_target, img_size_target, 1)\n",
    "    y_train = np.array(train_df.masks[train_index].map(upsample).tolist()).reshape(-1, img_size_target, img_size_target, 1)\n",
    "    x_valid = np.array(train_df.images[evaluate_index].map(upsample).tolist()).reshape(-1, img_size_target, img_size_target, 1)\n",
    "    y_valid = np.array(train_df.masks[evaluate_index].map(upsample).tolist()).reshape(-1, img_size_target, img_size_target, 1)\n",
    "    return x_train,y_train,x_valid,y_valid"
   ]
  },
  {
   "cell_type": "code",
   "execution_count": 16,
   "metadata": {},
   "outputs": [],
   "source": [
    "x_train, y_train, x_valid, y_valid =  get_cv_data(cv_index+1)    "
   ]
  },
  {
   "cell_type": "code",
   "execution_count": 17,
   "metadata": {},
   "outputs": [
    {
     "data": {
      "text/plain": [
       "array([0.38039216])"
      ]
     },
     "execution_count": 17,
     "metadata": {},
     "output_type": "execute_result"
    }
   ],
   "source": [
    "x_train[5,5,5]"
   ]
  },
  {
   "cell_type": "raw",
   "metadata": {},
   "source": [
    "x_train[5,5,5] = \n",
    "array([]) cv=0\n",
    "array([0.38039216])        cv=1\n",
    "array([]) cv=2\n",
    "array([]) cv=3\n",
    "array([]) cv=4"
   ]
  },
  {
   "cell_type": "code",
   "execution_count": 18,
   "metadata": {},
   "outputs": [
    {
     "data": {
      "text/plain": [
       "(3199, 3199)"
      ]
     },
     "execution_count": 18,
     "metadata": {},
     "output_type": "execute_result"
    }
   ],
   "source": [
    "len(x_train), len(y_train)"
   ]
  },
  {
   "cell_type": "code",
   "execution_count": 19,
   "metadata": {},
   "outputs": [
    {
     "data": {
      "text/plain": [
       "(3199, 3199)"
      ]
     },
     "execution_count": 19,
     "metadata": {},
     "output_type": "execute_result"
    }
   ],
   "source": [
    "len(x_train), len(y_train)"
   ]
  },
  {
   "cell_type": "code",
   "execution_count": 20,
   "metadata": {},
   "outputs": [],
   "source": [
    "# boolean mask for mask with either all black pixel or at least 20 pixels\n",
    "thres = 10\n",
    "y_mask = np.squeeze((y_train.sum(axis=1).sum(axis=1)>=thres) | (y_train.sum(axis=1).sum(axis=1)==0))"
   ]
  },
  {
   "cell_type": "code",
   "execution_count": 21,
   "metadata": {},
   "outputs": [
    {
     "data": {
      "text/plain": [
       "37"
      ]
     },
     "execution_count": 21,
     "metadata": {},
     "output_type": "execute_result"
    }
   ],
   "source": [
    "# sample to remove\n",
    "len(y_train)-y_mask.sum()"
   ]
  },
  {
   "cell_type": "code",
   "execution_count": 22,
   "metadata": {},
   "outputs": [],
   "source": [
    "x_train = x_train[y_mask]\n",
    "y_train = y_train[y_mask]"
   ]
  },
  {
   "cell_type": "code",
   "execution_count": 23,
   "metadata": {},
   "outputs": [
    {
     "data": {
      "text/plain": [
       "(3162, 3162)"
      ]
     },
     "execution_count": 23,
     "metadata": {},
     "output_type": "execute_result"
    }
   ],
   "source": [
    "len(x_train), len(y_train)"
   ]
  },
  {
   "cell_type": "code",
   "execution_count": 24,
   "metadata": {},
   "outputs": [
    {
     "data": {
      "text/plain": [
       "3162"
      ]
     },
     "execution_count": 24,
     "metadata": {},
     "output_type": "execute_result"
    }
   ],
   "source": [
    "x_train_orig_len = len(x_train)\n",
    "x_train_orig_len"
   ]
  },
  {
   "cell_type": "code",
   "execution_count": 25,
   "metadata": {},
   "outputs": [
    {
     "data": {
      "text/plain": [
       "(801, 801)"
      ]
     },
     "execution_count": 25,
     "metadata": {},
     "output_type": "execute_result"
    }
   ],
   "source": [
    "# only remove train, do not remove validation\n",
    "len(x_valid), len(y_valid)"
   ]
  },
  {
   "cell_type": "markdown",
   "metadata": {},
   "source": [
    "# Data augmentation"
   ]
  },
  {
   "cell_type": "code",
   "execution_count": 26,
   "metadata": {},
   "outputs": [],
   "source": [
    "def plot2x2Array(image, mask):\n",
    "    f, axarr = plt.subplots(1,2)\n",
    "    axarr[0].imshow(image, cmap=\"gray\")\n",
    "    axarr[1].imshow(mask, cmap=\"gray\")\n",
    "    axarr[0].grid(False)\n",
    "    axarr[1].grid(False)\n",
    "    axarr[0].set_title('Image')\n",
    "    axarr[1].set_title('Mask')"
   ]
  },
  {
   "cell_type": "code",
   "execution_count": 27,
   "metadata": {},
   "outputs": [
    {
     "data": {
      "image/png": "[encoded data removed]",
      "text/plain": [
       "<Figure size 432x288 with 2 Axes>"
      ]
     },
     "metadata": {
      "needs_background": "light"
     },
     "output_type": "display_data"
    }
   ],
   "source": [
    "i = 21\n",
    "plot2x2Array(x_train[i,:,:,0], y_train[i,:,:,0])"
   ]
  },
  {
   "cell_type": "code",
   "execution_count": 28,
   "metadata": {},
   "outputs": [],
   "source": [
    "from imgaug import augmenters as iaa\n",
    "import imgaug as ia\n",
    "\n",
    "sometimes = lambda aug: iaa.Sometimes(0.9, aug)"
   ]
  },
  {
   "cell_type": "code",
   "execution_count": 29,
   "metadata": {},
   "outputs": [],
   "source": [
    "affine_seq = iaa.Sequential(\n",
    "    [\n",
    "        iaa.Fliplr(0.5), # horizontally flip 50% of all images\n",
    "        # crop images by -5% to 10% of their height/width\n",
    "        sometimes(iaa.CropAndPad(\n",
    "            percent=(-0.05, 0.05),\n",
    "            pad_mode= 'symmetric',\n",
    "            pad_cval=(0, 1),\n",
    "        )),\n",
    "        sometimes(iaa.Affine(\n",
    "            scale={\"x\": (0.95, 1.05), \"y\": (0.95, 1.05)}, # scale images to 80-120% of their size, individually per axis\n",
    "            translate_percent={\"x\": (-0.05, 0.05), \"y\": (-0.05, 0.05)}, # translate by -20 to +20 percent (per axis)\n",
    "            shear=(-5, 5), # shear by -16 to +16 degrees\n",
    "            cval=(0, 1), # if mode is constant, use a cval between 0 and 255\n",
    "            mode='symmetric',\n",
    "        )),\n",
    "    \n",
    "], random_order=True)"
   ]
  },
  {
   "cell_type": "code",
   "execution_count": 30,
   "metadata": {},
   "outputs": [],
   "source": [
    "seq_det = affine_seq.to_deterministic()\n",
    "aug_img = seq_det.augment_image(x_train[i,:,:])\n",
    "aug_mask = seq_det.augment_image(y_train[i,:,:])"
   ]
  },
  {
   "cell_type": "code",
   "execution_count": 31,
   "metadata": {},
   "outputs": [],
   "source": [
    "# plot2x2Array(x_train[i,:,:,0], aug_img[:,:,0])\n",
    "# plot2x2Array(y_train[i,:,:,0], aug_mask[:,:,0])"
   ]
  },
  {
   "cell_type": "code",
   "execution_count": 32,
   "metadata": {},
   "outputs": [],
   "source": [
    "aug_mask = np.where(aug_mask[:,:,0] > 0.5, 1, 0)"
   ]
  },
  {
   "cell_type": "code",
   "execution_count": 33,
   "metadata": {},
   "outputs": [
    {
     "data": {
      "text/plain": [
       "array([0.])"
      ]
     },
     "execution_count": 33,
     "metadata": {},
     "output_type": "execute_result"
    }
   ],
   "source": [
    "np.unique(y_train[i,:,:,0])"
   ]
  },
  {
   "cell_type": "code",
   "execution_count": 34,
   "metadata": {},
   "outputs": [
    {
     "data": {
      "text/plain": [
       "array([0])"
      ]
     },
     "execution_count": 34,
     "metadata": {},
     "output_type": "execute_result"
    }
   ],
   "source": [
    "np.unique(aug_mask)"
   ]
  },
  {
   "cell_type": "code",
   "execution_count": 35,
   "metadata": {},
   "outputs": [],
   "source": [
    "# plot2x2Array(y_train[i,:,:,0], aug_mask)"
   ]
  },
  {
   "cell_type": "code",
   "execution_count": 36,
   "metadata": {},
   "outputs": [],
   "source": [
    "# x = x_train[21]\n",
    "# y = y_train[21]\n",
    "# print((x.shape),(y.shape))\n",
    "\n",
    "# seq_det = affine_seq.to_deterministic()\n",
    "# aug_img = seq_det.augment_image(x)\n",
    "# aug_mask = seq_det.augment_image(y)\n",
    "# aug_mask[:,:,0] = np.where(aug_mask[:,:,0] > 0.5, 1, 0)\n",
    "\n",
    "# print((aug_img.shape),(aug_mask.shape))\n",
    "# plot2x2Array(x[:,:,0], y[:,:,0])\n",
    "\n",
    "# plot2x2Array(aug_img[:,:,0], aug_mask[:,:,0])"
   ]
  },
  {
   "cell_type": "code",
   "execution_count": 37,
   "metadata": {},
   "outputs": [],
   "source": [
    "# x_aug_list=[]\n",
    "# y_aug_list=[]\n",
    "\n",
    "# for x,y in tqdm_notebook(zip(x_train, y_train)):\n",
    "#     seq_det = affine_seq.to_deterministic()\n",
    "    \n",
    "#     aug_img = seq_det.augment_image(x)\n",
    "#     aug_mask = seq_det.augment_image(y)\n",
    "#     aug_mask[:,:,0] = np.where(aug_mask[:,:,0] > 0.5, 1, 0)\n",
    "\n",
    "#     x_aug_list.append(aug_img)\n",
    "#     y_aug_list.append(aug_mask)"
   ]
  },
  {
   "cell_type": "code",
   "execution_count": 38,
   "metadata": {},
   "outputs": [],
   "source": [
    "x_train = np.append(x_train, [np.fliplr(x) for x in x_train], axis=0)\n",
    "y_train = np.append(y_train, [np.fliplr(x) for x in y_train], axis=0)"
   ]
  },
  {
   "cell_type": "code",
   "execution_count": 39,
   "metadata": {},
   "outputs": [],
   "source": [
    "# x_aug = np.array(x_aug_list)\n",
    "# y_aug = np.array(y_aug_list)"
   ]
  },
  {
   "cell_type": "code",
   "execution_count": 40,
   "metadata": {},
   "outputs": [],
   "source": [
    "# x_aug.shape"
   ]
  },
  {
   "cell_type": "code",
   "execution_count": 41,
   "metadata": {},
   "outputs": [],
   "source": [
    "# x_train = np.append(x_train, x_aug, axis=0)\n",
    "# y_train = np.append(y_train, y_aug, axis=0)"
   ]
  },
  {
   "cell_type": "code",
   "execution_count": 42,
   "metadata": {
    "_uuid": "3a4ffe206d6ea50da3d8ccb8ec8d219a2e6cca94"
   },
   "outputs": [
    {
     "name": "stdout",
     "output_type": "stream",
     "text": [
      "(6324, 101, 101, 1)\n",
      "(801, 101, 101, 1)\n"
     ]
    }
   ],
   "source": [
    "print(x_train.shape)\n",
    "print(y_valid.shape)"
   ]
  },
  {
   "cell_type": "code",
   "execution_count": 43,
   "metadata": {},
   "outputs": [],
   "source": [
    "# i = 188\n",
    "# plot2x2Array(x_train[i,:,:,0], y_train[i,:,:,0])"
   ]
  },
  {
   "cell_type": "code",
   "execution_count": 44,
   "metadata": {},
   "outputs": [],
   "source": [
    "# plot2x2Array(x_train[i+x_train_orig_len,:,:,0], y_train[i+x_train_orig_len,:,:,0])"
   ]
  },
  {
   "cell_type": "markdown",
   "metadata": {},
   "source": [
    "# Model Definitions"
   ]
  },
  {
   "cell_type": "code",
   "execution_count": 45,
   "metadata": {
    "_uuid": "92fe9e2757add49ffb55b4824aa3d833919efde5"
   },
   "outputs": [],
   "source": [
    "def BatchActivate(x):\n",
    "    x = BatchNormalization()(x)\n",
    "    x = Activation('relu')(x)\n",
    "    return x\n",
    "\n",
    "def convolution_block(x, filters, size, strides=(1,1), padding='same', activation=True):\n",
    "    x = Conv2D(filters, size, strides=strides, padding=padding)(x)\n",
    "    if activation==True: x = BatchActivate(x)\n",
    "    return x\n",
    "\n",
    "def residual_block(blockInput, num_filters=16, batch_activate=False):\n",
    "    x = BatchActivate(blockInput)\n",
    "    x = convolution_block(x, num_filters, (3,3))\n",
    "    x = convolution_block(x, num_filters, (3,3), activation=False)\n",
    "    x = Add()([x, blockInput])\n",
    "    if batch_activate: x = BatchActivate(x)\n",
    "    return x"
   ]
  },
  {
   "cell_type": "code",
   "execution_count": 46,
   "metadata": {
    "_uuid": "e9dfb108c78c80848dc4155a811dae46aec829f9"
   },
   "outputs": [],
   "source": [
    "# Build Model\n",
    "def build_model(input_layer, start_neurons, DropoutRatio=0.5):\n",
    "    # 101 -> 50\n",
    "    conv1 = Conv2D(start_neurons*1, (3,3), activation=None, padding='same')(input_layer)\n",
    "    conv1 = residual_block(conv1, start_neurons*1)\n",
    "    conv1 = residual_block(conv1, start_neurons*1, True)\n",
    "    pool1 = MaxPooling2D((2,2))(conv1)\n",
    "    pool1 = Dropout(DropoutRatio/2)(pool1)\n",
    "    \n",
    "    # 50 -> 25\n",
    "    conv2 = Conv2D(start_neurons*2, (3,3), activation=None, padding='same')(pool1)\n",
    "    conv2 = residual_block(conv2, start_neurons*2)\n",
    "    conv2 = residual_block(conv2, start_neurons*2, True)\n",
    "    pool2 = MaxPooling2D((2,2))(conv2)\n",
    "    pool2 = Dropout(DropoutRatio)(pool2)\n",
    "    \n",
    "    # 25 -> 12\n",
    "    conv3 = Conv2D(start_neurons*4, (3,3), activation=None, padding='same')(pool2)\n",
    "    conv3 = residual_block(conv3, start_neurons*4)\n",
    "    conv3 = residual_block(conv3, start_neurons*4, True)\n",
    "    pool3 = MaxPooling2D((2,2))(conv3)\n",
    "    pool3 = Dropout(DropoutRatio)(pool3)\n",
    "    \n",
    "    # 12 -> 6\n",
    "    conv4 = Conv2D(start_neurons*8, (3,3), activation=None, padding='same')(pool3)\n",
    "    conv4 = residual_block(conv4, start_neurons*8)\n",
    "    conv4 = residual_block(conv4, start_neurons*8, True)\n",
    "    pool4 = MaxPooling2D((2,2))(conv4)\n",
    "    pool4 = Dropout(DropoutRatio)(pool4)\n",
    "    \n",
    "    # Middle\n",
    "    convm = Conv2D(start_neurons*16, (3,3), activation=None, padding='same')(pool4)\n",
    "    convm = residual_block(convm, start_neurons*16)\n",
    "    convm = residual_block(convm, start_neurons*16, True)\n",
    "    \n",
    "    # 6 -> 12\n",
    "    deconv4 = Conv2DTranspose(start_neurons*8, (3,3), strides=(2,2), padding='same')(convm)\n",
    "    uconv4 = concatenate([deconv4, conv4])\n",
    "    uconv4 = Dropout(DropoutRatio)(uconv4)\n",
    "    \n",
    "    uconv4 = Conv2D(start_neurons*8, (3,3), activation=None, padding='same')(uconv4)\n",
    "    uconv4 = residual_block(uconv4, start_neurons*8)\n",
    "    uconv4 = residual_block(uconv4, start_neurons*8, True)\n",
    "    \n",
    "    # 12 -> 25\n",
    "    deconv3 = Conv2DTranspose(start_neurons*4, (3,3), strides=(2,2), padding='valid')(uconv4)\n",
    "    uconv3 = concatenate([deconv3, conv3])\n",
    "    uconv3 = Dropout(DropoutRatio)(uconv3)\n",
    "    \n",
    "    uconv3 = Conv2D(start_neurons*4, (3,3), activation=None, padding='same')(uconv3)\n",
    "    uconv3 = residual_block(uconv3, start_neurons*4)\n",
    "    uconv3 = residual_block(uconv3, start_neurons*4, True)\n",
    "    \n",
    "    # 25 -> 50\n",
    "    deconv2 = Conv2DTranspose(start_neurons*2, (3,3), strides=(2,2), padding='same')(uconv3)\n",
    "    uconv2 = concatenate([deconv2, conv2])\n",
    "    uconv2 = Dropout(DropoutRatio)(uconv2)\n",
    "    \n",
    "    uconv2 = Conv2D(start_neurons*2, (3,3), activation=None, padding='same')(uconv2)\n",
    "    uconv2 = residual_block(uconv2, start_neurons*2)\n",
    "    uconv2 = residual_block(uconv2, start_neurons*2, True)\n",
    "    \n",
    "    # 50 -> 101\n",
    "    deconv1 = Conv2DTranspose(start_neurons*1, (3,3), strides=(2,2), padding='valid')(uconv2)\n",
    "    uconv1 = concatenate([deconv1, conv1])\n",
    "    uconv1 = Dropout(DropoutRatio)(uconv1)\n",
    "    \n",
    "    uconv1 = Conv2D(start_neurons*1, (3,3), activation=None, padding='same')(uconv1)\n",
    "    uconv1 = residual_block(uconv1, start_neurons*1)\n",
    "    uconv1 = residual_block(uconv1, start_neurons*1, True)\n",
    "    \n",
    "    output_layer_noActi = Conv2D(1, (1,1), padding='same', activation=None)(uconv1)\n",
    "    output_layer = Activation('sigmoid')(output_layer_noActi)\n",
    "    \n",
    "    return output_layer"
   ]
  },
  {
   "cell_type": "markdown",
   "metadata": {},
   "source": [
    "# Metric Loss"
   ]
  },
  {
   "cell_type": "code",
   "execution_count": 47,
   "metadata": {
    "_uuid": "e4ee11d11d6a42da26b699cbf9ce5f005de91968"
   },
   "outputs": [],
   "source": [
    "def get_iou_vector(A, B):\n",
    "    batch_size = A.shape[0]\n",
    "    metric = []\n",
    "    for batch in range(batch_size):\n",
    "        t, p = A[batch]>0, B[batch]>0\n",
    "        intersection = np.logical_and(t, p)\n",
    "        union = np.logical_or(t, p)\n",
    "        iou = (np.sum(intersection > 0) + 1e-10 )/ (np.sum(union > 0) + 1e-10)\n",
    "        thresholds = np.arange(0.5, 1, 0.05)\n",
    "        s = []\n",
    "        for thresh in thresholds:\n",
    "            s.append(iou > thresh)\n",
    "        metric.append(np.mean(s))\n",
    "        \n",
    "    return np.mean(metric)\n",
    "\n",
    "def my_iou_metric(label, pred):\n",
    "    return tf.py_func(get_iou_vector, [label, pred>0.5], tf.float64)\n",
    "\n",
    "def my_iou_metric_2(label, pred):\n",
    "    return tf.py_func(get_iou_vector, [label, pred >0], tf.float64)"
   ]
  },
  {
   "cell_type": "code",
   "execution_count": 48,
   "metadata": {
    "_uuid": "72fdacfe6a31500522f7d4c6ba858120b93bc39d"
   },
   "outputs": [],
   "source": [
    "# code download from: https://github.com/bermanmaxim/LovaszSoftmax\n",
    "def lovasz_grad(gt_sorted):\n",
    "    \"\"\"\n",
    "    Computes gradient of the Lovasz extension w.r.t sorted errors\n",
    "    See Alg. 1 in paper\n",
    "    \"\"\"\n",
    "    gts = tf.reduce_sum(gt_sorted)\n",
    "    intersection = gts - tf.cumsum(gt_sorted)\n",
    "    union = gts + tf.cumsum(1. - gt_sorted)\n",
    "    jaccard = 1. - intersection / union\n",
    "    jaccard = tf.concat((jaccard[0:1], jaccard[1:] - jaccard[:-1]), 0)\n",
    "    return jaccard\n",
    "\n",
    "# --------------------------- BINARY LOSSES ---------------------------\n",
    "\n",
    "def lovasz_hinge(logits, labels, per_image=True, ignore=None):\n",
    "    \"\"\"\n",
    "    Binary Lovasz hinge loss\n",
    "      logits: [B, H, W] Variable, logits at each pixel (between -\\infty and +\\infty)\n",
    "      labels: [B, H, W] Tensor, binary ground truth masks (0 or 1)\n",
    "      per_image: compute the loss per image instead of per batch\n",
    "      ignore: void class id\n",
    "    \"\"\"\n",
    "    if per_image:\n",
    "        def treat_image(log_lab):\n",
    "            log, lab = log_lab\n",
    "            log, lab = tf.expand_dims(log, 0), tf.expand_dims(lab, 0)\n",
    "            log, lab = flatten_binary_scores(log, lab, ignore)\n",
    "            return lovasz_hinge_flat(log, lab)\n",
    "        losses = tf.map_fn(treat_image, (logits, labels), dtype=tf.float32)\n",
    "        loss = tf.reduce_mean(losses)\n",
    "    else:\n",
    "        loss = lovasz_hinge_flat(*flatten_binary_scores(logits, labels, ignore))\n",
    "    return loss\n",
    "\n",
    "def lovasz_hinge_flat(logits, labels):\n",
    "    \"\"\"\n",
    "    Binary Lovasz hinge loss\n",
    "      logits: [P] Variable, logits at each prediction (between -\\infty and +\\infty)\n",
    "      labels: [P] Tensor, binary ground truth labels (0 or 1)\n",
    "      ignore: label to ignore\n",
    "    \"\"\"\n",
    "\n",
    "    def compute_loss():\n",
    "        labelsf = tf.cast(labels, logits.dtype)\n",
    "        signs = 2. * labelsf - 1.\n",
    "        errors = 1. - logits * tf.stop_gradient(signs)\n",
    "        errors_sorted, perm = tf.nn.top_k(errors, k=tf.shape(errors)[0], name=\"descending_sort\")\n",
    "        gt_sorted = tf.gather(labelsf, perm)\n",
    "        grad = lovasz_grad(gt_sorted)\n",
    "        loss = tf.tensordot(tf.nn.elu(errors_sorted), tf.stop_gradient(grad), 1, name=\"loss_non_void\")\n",
    "        return loss\n",
    "\n",
    "    # deal with the void prediction case (only void pixels)\n",
    "    loss = tf.cond(tf.equal(tf.shape(logits)[0], 0),\n",
    "                   lambda: tf.reduce_sum(logits) * 0.,\n",
    "                   compute_loss,\n",
    "                   strict=True,\n",
    "                   name=\"loss\"\n",
    "                   )\n",
    "    return loss\n",
    "\n",
    "\n",
    "def flatten_binary_scores(scores, labels, ignore=None):\n",
    "    \"\"\"\n",
    "    Flattens predictions in the batch (binary case)\n",
    "    Remove labels equal to 'ignore'\n",
    "    \"\"\"\n",
    "    scores = tf.reshape(scores, (-1,))\n",
    "    labels = tf.reshape(labels, (-1,))\n",
    "    if ignore is None:\n",
    "        return scores, labels\n",
    "    valid = tf.not_equal(labels, ignore)\n",
    "    vscores = tf.boolean_mask(scores, valid, name='valid_scores')\n",
    "    vlabels = tf.boolean_mask(labels, valid, name='valid_labels')\n",
    "    return vscores, vlabels\n",
    "\n",
    "def lovasz_loss(y_true, y_pred):\n",
    "    y_true, y_pred = K.cast(K.squeeze(y_true, -1), 'int32'), K.cast(K.squeeze(y_pred, -1), 'float32')\n",
    "    #logits = K.log(y_pred / (1. - y_pred))\n",
    "    logits = y_pred #Jiaxin\n",
    "    loss = lovasz_hinge(logits, y_true, per_image = True, ignore = None)\n",
    "    return loss"
   ]
  },
  {
   "cell_type": "markdown",
   "metadata": {},
   "source": [
    "# Build Model"
   ]
  },
  {
   "cell_type": "code",
   "execution_count": 49,
   "metadata": {
    "_uuid": "a58d48a4974b7381a193615e54a828a211c92308"
   },
   "outputs": [],
   "source": [
    "input_layer = Input((img_size_target, img_size_target, 1))\n",
    "output_layer = build_model(input_layer, 16, 0.5)\n",
    "\n",
    "model1 = Model(input_layer, output_layer)"
   ]
  },
  {
   "cell_type": "code",
   "execution_count": 50,
   "metadata": {
    "_uuid": "a58d48a4974b7381a193615e54a828a211c92308"
   },
   "outputs": [],
   "source": [
    "epochs = 300\n",
    "batch_size = 64\n",
    "c = optimizers.Adam(lr=0.001)\n",
    "\n",
    "model1.compile(loss=\"binary_crossentropy\", optimizer=c, metrics=[my_iou_metric])\n",
    "\n",
    "# model1.summary()"
   ]
  },
  {
   "cell_type": "code",
   "execution_count": 51,
   "metadata": {
    "_uuid": "bd402f81e3d8e0aad30b7c63836cb9d488105cef"
   },
   "outputs": [],
   "source": [
    "early_stopping = EarlyStopping(monitor='val_my_iou_metric', mode='max', patience=21, verbose=1)\n",
    "model_checkpoint = ModelCheckpoint(save_model_name, monitor='val_my_iou_metric', mode='max', save_best_only=True, verbose=1)\n",
    "reduce_lr = ReduceLROnPlateau(monitor='val_my_iou_metric', mode='max', factor=0.5, patience=7, min_lr=0.00001, verbose=1)"
   ]
  },
  {
   "cell_type": "code",
   "execution_count": 52,
   "metadata": {
    "_uuid": "bd402f81e3d8e0aad30b7c63836cb9d488105cef",
    "scrolled": true
   },
   "outputs": [
    {
     "name": "stdout",
     "output_type": "stream",
     "text": [
      "Train on 6324 samples, validate on 801 samples\n",
      "Epoch 1/300\n",
      " - 87s - loss: 0.3854 - my_iou_metric: 0.3317 - val_loss: 1.0417 - val_my_iou_metric: 0.1322\n",
      "\n",
      "Epoch 00001: val_my_iou_metric improved from -inf to 0.13221, saving model to unet_v2_5A_cv1.model\n",
      "Epoch 2/300\n",
      " - 73s - loss: 0.2909 - my_iou_metric: 0.5218 - val_loss: 0.9369 - val_my_iou_metric: 0.1789\n",
      "\n",
      "Epoch 00002: val_my_iou_metric improved from 0.13221 to 0.17890, saving model to unet_v2_5A_cv1.model\n",
      "Epoch 3/300\n",
      " - 72s - loss: 0.2494 - my_iou_metric: 0.5555 - val_loss: 0.4212 - val_my_iou_metric: 0.3589\n",
      "\n",
      "Epoch 00003: val_my_iou_metric improved from 0.17890 to 0.35893, saving model to unet_v2_5A_cv1.model\n",
      "Epoch 4/300\n",
      " - 72s - loss: 0.2206 - my_iou_metric: 0.6049 - val_loss: 0.3481 - val_my_iou_metric: 0.5213\n",
      "\n",
      "Epoch 00004: val_my_iou_metric improved from 0.35893 to 0.52135, saving model to unet_v2_5A_cv1.model\n",
      "Epoch 5/300\n",
      " - 72s - loss: 0.2083 - my_iou_metric: 0.6153 - val_loss: 0.8858 - val_my_iou_metric: 0.3240\n",
      "\n",
      "Epoch 00005: val_my_iou_metric did not improve from 0.52135\n",
      "Epoch 6/300\n",
      " - 72s - loss: 0.1997 - my_iou_metric: 0.6407 - val_loss: 0.3466 - val_my_iou_metric: 0.4537\n",
      "\n",
      "Epoch 00006: val_my_iou_metric did not improve from 0.52135\n",
      "Epoch 7/300\n",
      " - 72s - loss: 0.1923 - my_iou_metric: 0.6428 - val_loss: 0.3926 - val_my_iou_metric: 0.4325\n",
      "\n",
      "Epoch 00007: val_my_iou_metric did not improve from 0.52135\n",
      "Epoch 8/300\n",
      " - 72s - loss: 0.1771 - my_iou_metric: 0.6630 - val_loss: 0.2239 - val_my_iou_metric: 0.6170\n",
      "\n",
      "Epoch 00008: val_my_iou_metric improved from 0.52135 to 0.61698, saving model to unet_v2_5A_cv1.model\n",
      "Epoch 9/300\n",
      " - 72s - loss: 0.1679 - my_iou_metric: 0.6746 - val_loss: 0.2032 - val_my_iou_metric: 0.5841\n",
      "\n",
      "Epoch 00009: val_my_iou_metric did not improve from 0.61698\n",
      "Epoch 10/300\n",
      " - 72s - loss: 0.1660 - my_iou_metric: 0.6807 - val_loss: 0.2624 - val_my_iou_metric: 0.5723\n",
      "\n",
      "Epoch 00010: val_my_iou_metric did not improve from 0.61698\n",
      "Epoch 11/300\n",
      " - 72s - loss: 0.1619 - my_iou_metric: 0.6860 - val_loss: 0.3500 - val_my_iou_metric: 0.4196\n",
      "\n",
      "Epoch 00011: val_my_iou_metric did not improve from 0.61698\n",
      "Epoch 12/300\n",
      " - 72s - loss: 0.1579 - my_iou_metric: 0.6988 - val_loss: 0.2395 - val_my_iou_metric: 0.6019\n",
      "\n",
      "Epoch 00012: val_my_iou_metric did not improve from 0.61698\n",
      "Epoch 13/300\n",
      " - 72s - loss: 0.1611 - my_iou_metric: 0.6999 - val_loss: 0.1882 - val_my_iou_metric: 0.6777\n",
      "\n",
      "Epoch 00013: val_my_iou_metric improved from 0.61698 to 0.67765, saving model to unet_v2_5A_cv1.model\n",
      "Epoch 14/300\n",
      " - 72s - loss: 0.1453 - my_iou_metric: 0.7150 - val_loss: 0.1952 - val_my_iou_metric: 0.6592\n",
      "\n",
      "Epoch 00014: val_my_iou_metric did not improve from 0.67765\n",
      "Epoch 15/300\n",
      " - 72s - loss: 0.1412 - my_iou_metric: 0.7151 - val_loss: 0.1965 - val_my_iou_metric: 0.6135\n",
      "\n",
      "Epoch 00015: val_my_iou_metric did not improve from 0.67765\n",
      "Epoch 16/300\n",
      " - 72s - loss: 0.1417 - my_iou_metric: 0.7186 - val_loss: 0.1992 - val_my_iou_metric: 0.6598\n",
      "\n",
      "Epoch 00016: val_my_iou_metric did not improve from 0.67765\n",
      "Epoch 17/300\n",
      " - 72s - loss: 0.1443 - my_iou_metric: 0.7197 - val_loss: 0.2993 - val_my_iou_metric: 0.6427\n",
      "\n",
      "Epoch 00017: val_my_iou_metric did not improve from 0.67765\n",
      "Epoch 18/300\n",
      " - 72s - loss: 0.1368 - my_iou_metric: 0.7272 - val_loss: 0.1703 - val_my_iou_metric: 0.7166\n",
      "\n",
      "Epoch 00018: val_my_iou_metric improved from 0.67765 to 0.71660, saving model to unet_v2_5A_cv1.model\n",
      "Epoch 19/300\n",
      " - 72s - loss: 0.1301 - my_iou_metric: 0.7355 - val_loss: 0.1637 - val_my_iou_metric: 0.6843\n",
      "\n",
      "Epoch 00019: val_my_iou_metric did not improve from 0.71660\n",
      "Epoch 20/300\n",
      " - 72s - loss: 0.1242 - my_iou_metric: 0.7337 - val_loss: 0.1783 - val_my_iou_metric: 0.6980\n",
      "\n",
      "Epoch 00020: val_my_iou_metric did not improve from 0.71660\n",
      "Epoch 21/300\n",
      " - 72s - loss: 0.1343 - my_iou_metric: 0.7272 - val_loss: 0.1912 - val_my_iou_metric: 0.7064\n",
      "\n",
      "Epoch 00021: val_my_iou_metric did not improve from 0.71660\n",
      "Epoch 22/300\n",
      " - 72s - loss: 0.1281 - my_iou_metric: 0.7396 - val_loss: 0.2126 - val_my_iou_metric: 0.6640\n",
      "\n",
      "Epoch 00022: val_my_iou_metric did not improve from 0.71660\n",
      "Epoch 23/300\n",
      " - 72s - loss: 0.1159 - my_iou_metric: 0.7497 - val_loss: 0.2153 - val_my_iou_metric: 0.7200\n",
      "\n",
      "Epoch 00023: val_my_iou_metric improved from 0.71660 to 0.71998, saving model to unet_v2_5A_cv1.model\n",
      "Epoch 24/300\n",
      " - 72s - loss: 0.1215 - my_iou_metric: 0.7519 - val_loss: 0.1879 - val_my_iou_metric: 0.7311\n",
      "\n",
      "Epoch 00024: val_my_iou_metric improved from 0.71998 to 0.73109, saving model to unet_v2_5A_cv1.model\n",
      "Epoch 25/300\n",
      " - 72s - loss: 0.1170 - my_iou_metric: 0.7456 - val_loss: 0.2494 - val_my_iou_metric: 0.6357\n",
      "\n",
      "Epoch 00025: val_my_iou_metric did not improve from 0.73109\n",
      "Epoch 26/300\n",
      " - 72s - loss: 0.1199 - my_iou_metric: 0.7483 - val_loss: 0.1747 - val_my_iou_metric: 0.6810\n",
      "\n",
      "Epoch 00026: val_my_iou_metric did not improve from 0.73109\n",
      "Epoch 27/300\n",
      " - 72s - loss: 0.1173 - my_iou_metric: 0.7535 - val_loss: 0.1738 - val_my_iou_metric: 0.7145\n",
      "\n",
      "Epoch 00027: val_my_iou_metric did not improve from 0.73109\n",
      "Epoch 28/300\n",
      " - 72s - loss: 0.1103 - my_iou_metric: 0.7595 - val_loss: 0.2212 - val_my_iou_metric: 0.6916\n",
      "\n",
      "Epoch 00028: val_my_iou_metric did not improve from 0.73109\n",
      "Epoch 29/300\n",
      " - 72s - loss: 0.1119 - my_iou_metric: 0.7556 - val_loss: 0.1696 - val_my_iou_metric: 0.7308\n",
      "\n",
      "Epoch 00029: val_my_iou_metric did not improve from 0.73109\n",
      "Epoch 30/300\n",
      " - 72s - loss: 0.1070 - my_iou_metric: 0.7673 - val_loss: 0.1804 - val_my_iou_metric: 0.7062\n",
      "\n",
      "Epoch 00030: val_my_iou_metric did not improve from 0.73109\n",
      "Epoch 31/300\n",
      " - 72s - loss: 0.1066 - my_iou_metric: 0.7608 - val_loss: 0.2232 - val_my_iou_metric: 0.6878\n",
      "\n",
      "Epoch 00031: val_my_iou_metric did not improve from 0.73109\n",
      "\n",
      "Epoch 00031: ReduceLROnPlateau reducing learning rate to 0.0005000000237487257.\n",
      "Epoch 32/300\n",
      " - 72s - loss: 0.0964 - my_iou_metric: 0.7743 - val_loss: 0.1588 - val_my_iou_metric: 0.7392\n",
      "\n",
      "Epoch 00032: val_my_iou_metric improved from 0.73109 to 0.73920, saving model to unet_v2_5A_cv1.model\n",
      "Epoch 33/300\n",
      " - 72s - loss: 0.0953 - my_iou_metric: 0.7749 - val_loss: 0.1470 - val_my_iou_metric: 0.7563\n",
      "\n",
      "Epoch 00033: val_my_iou_metric improved from 0.73920 to 0.75630, saving model to unet_v2_5A_cv1.model\n",
      "Epoch 34/300\n",
      " - 72s - loss: 0.0901 - my_iou_metric: 0.7819 - val_loss: 0.1612 - val_my_iou_metric: 0.7508\n",
      "\n",
      "Epoch 00034: val_my_iou_metric did not improve from 0.75630\n",
      "Epoch 35/300\n",
      " - 72s - loss: 0.0876 - my_iou_metric: 0.7872 - val_loss: 0.1832 - val_my_iou_metric: 0.7444\n",
      "\n",
      "Epoch 00035: val_my_iou_metric did not improve from 0.75630\n",
      "Epoch 36/300\n",
      " - 72s - loss: 0.0867 - my_iou_metric: 0.7870 - val_loss: 0.1515 - val_my_iou_metric: 0.7589\n",
      "\n",
      "Epoch 00036: val_my_iou_metric improved from 0.75630 to 0.75893, saving model to unet_v2_5A_cv1.model\n",
      "Epoch 37/300\n",
      " - 72s - loss: 0.0878 - my_iou_metric: 0.7812 - val_loss: 0.1465 - val_my_iou_metric: 0.7483\n",
      "\n",
      "Epoch 00037: val_my_iou_metric did not improve from 0.75893\n",
      "Epoch 38/300\n",
      " - 72s - loss: 0.0832 - my_iou_metric: 0.7890 - val_loss: 0.1453 - val_my_iou_metric: 0.7524\n",
      "\n",
      "Epoch 00038: val_my_iou_metric did not improve from 0.75893\n",
      "Epoch 39/300\n",
      " - 71s - loss: 0.0819 - my_iou_metric: 0.7880 - val_loss: 0.1967 - val_my_iou_metric: 0.7072\n",
      "\n",
      "Epoch 00039: val_my_iou_metric did not improve from 0.75893\n",
      "Epoch 40/300\n",
      " - 71s - loss: 0.0828 - my_iou_metric: 0.7901 - val_loss: 0.1738 - val_my_iou_metric: 0.7386\n",
      "\n",
      "Epoch 00040: val_my_iou_metric did not improve from 0.75893\n",
      "Epoch 41/300\n",
      " - 71s - loss: 0.0792 - my_iou_metric: 0.7938 - val_loss: 0.1608 - val_my_iou_metric: 0.7577\n",
      "\n",
      "Epoch 00041: val_my_iou_metric did not improve from 0.75893\n",
      "Epoch 42/300\n",
      " - 71s - loss: 0.0802 - my_iou_metric: 0.7972 - val_loss: 0.1982 - val_my_iou_metric: 0.7151\n",
      "\n",
      "Epoch 00042: val_my_iou_metric did not improve from 0.75893\n",
      "Epoch 43/300\n",
      " - 71s - loss: 0.0776 - my_iou_metric: 0.7962 - val_loss: 0.1922 - val_my_iou_metric: 0.7367\n",
      "\n",
      "Epoch 00043: val_my_iou_metric did not improve from 0.75893\n",
      "\n",
      "Epoch 00043: ReduceLROnPlateau reducing learning rate to 0.0002500000118743628.\n",
      "Epoch 44/300\n",
      " - 71s - loss: 0.0684 - my_iou_metric: 0.8045 - val_loss: 0.1859 - val_my_iou_metric: 0.7694\n",
      "\n",
      "Epoch 00044: val_my_iou_metric improved from 0.75893 to 0.76941, saving model to unet_v2_5A_cv1.model\n",
      "Epoch 45/300\n",
      " - 71s - loss: 0.0676 - my_iou_metric: 0.8071 - val_loss: 0.1983 - val_my_iou_metric: 0.7549\n"
     ]
    },
    {
     "name": "stdout",
     "output_type": "stream",
     "text": [
      "\n",
      "Epoch 00045: val_my_iou_metric did not improve from 0.76941\n",
      "Epoch 46/300\n",
      " - 71s - loss: 0.0650 - my_iou_metric: 0.8079 - val_loss: 0.2048 - val_my_iou_metric: 0.7643\n",
      "\n",
      "Epoch 00046: val_my_iou_metric did not improve from 0.76941\n",
      "Epoch 47/300\n",
      " - 71s - loss: 0.0660 - my_iou_metric: 0.8090 - val_loss: 0.1703 - val_my_iou_metric: 0.7571\n",
      "\n",
      "Epoch 00047: val_my_iou_metric did not improve from 0.76941\n",
      "Epoch 48/300\n",
      " - 71s - loss: 0.0620 - my_iou_metric: 0.8101 - val_loss: 0.1756 - val_my_iou_metric: 0.7705\n",
      "\n",
      "Epoch 00048: val_my_iou_metric improved from 0.76941 to 0.77054, saving model to unet_v2_5A_cv1.model\n",
      "Epoch 49/300\n",
      " - 71s - loss: 0.0660 - my_iou_metric: 0.8068 - val_loss: 0.1747 - val_my_iou_metric: 0.7627\n",
      "\n",
      "Epoch 00049: val_my_iou_metric did not improve from 0.77054\n",
      "Epoch 50/300\n",
      " - 72s - loss: 0.0628 - my_iou_metric: 0.8127 - val_loss: 0.1824 - val_my_iou_metric: 0.7674\n",
      "\n",
      "Epoch 00050: val_my_iou_metric did not improve from 0.77054\n",
      "Epoch 51/300\n",
      " - 72s - loss: 0.0618 - my_iou_metric: 0.8135 - val_loss: 0.2254 - val_my_iou_metric: 0.7608\n",
      "\n",
      "Epoch 00051: val_my_iou_metric did not improve from 0.77054\n",
      "Epoch 52/300\n",
      " - 71s - loss: 0.0627 - my_iou_metric: 0.8113 - val_loss: 0.1854 - val_my_iou_metric: 0.7623\n",
      "\n",
      "Epoch 00052: val_my_iou_metric did not improve from 0.77054\n",
      "Epoch 53/300\n",
      " - 71s - loss: 0.0608 - my_iou_metric: 0.8137 - val_loss: 0.2026 - val_my_iou_metric: 0.7777\n",
      "\n",
      "Epoch 00053: val_my_iou_metric improved from 0.77054 to 0.77765, saving model to unet_v2_5A_cv1.model\n",
      "Epoch 54/300\n",
      " - 71s - loss: 0.0618 - my_iou_metric: 0.8143 - val_loss: 0.1773 - val_my_iou_metric: 0.7678\n",
      "\n",
      "Epoch 00054: val_my_iou_metric did not improve from 0.77765\n",
      "Epoch 55/300\n",
      " - 71s - loss: 0.0610 - my_iou_metric: 0.8126 - val_loss: 0.1775 - val_my_iou_metric: 0.7805\n",
      "\n",
      "Epoch 00055: val_my_iou_metric improved from 0.77765 to 0.78052, saving model to unet_v2_5A_cv1.model\n",
      "Epoch 56/300\n",
      " - 71s - loss: 0.0613 - my_iou_metric: 0.8170 - val_loss: 0.2191 - val_my_iou_metric: 0.7698\n",
      "\n",
      "Epoch 00056: val_my_iou_metric did not improve from 0.78052\n",
      "Epoch 57/300\n",
      " - 71s - loss: 0.0627 - my_iou_metric: 0.8126 - val_loss: 0.2168 - val_my_iou_metric: 0.7618\n",
      "\n",
      "Epoch 00057: val_my_iou_metric did not improve from 0.78052\n",
      "Epoch 58/300\n",
      " - 71s - loss: 0.0609 - my_iou_metric: 0.8138 - val_loss: 0.1882 - val_my_iou_metric: 0.7772\n",
      "\n",
      "Epoch 00058: val_my_iou_metric did not improve from 0.78052\n",
      "Epoch 59/300\n",
      " - 71s - loss: 0.0577 - my_iou_metric: 0.8166 - val_loss: 0.2317 - val_my_iou_metric: 0.7687\n",
      "\n",
      "Epoch 00059: val_my_iou_metric did not improve from 0.78052\n",
      "Epoch 60/300\n",
      " - 71s - loss: 0.0606 - my_iou_metric: 0.8184 - val_loss: 0.1770 - val_my_iou_metric: 0.7707\n",
      "\n",
      "Epoch 00060: val_my_iou_metric did not improve from 0.78052\n",
      "Epoch 61/300\n",
      " - 71s - loss: 0.0598 - my_iou_metric: 0.8177 - val_loss: 0.2206 - val_my_iou_metric: 0.7748\n",
      "\n",
      "Epoch 00061: val_my_iou_metric did not improve from 0.78052\n",
      "Epoch 62/300\n",
      " - 71s - loss: 0.0572 - my_iou_metric: 0.8181 - val_loss: 0.2028 - val_my_iou_metric: 0.7787\n",
      "\n",
      "Epoch 00062: val_my_iou_metric did not improve from 0.78052\n",
      "\n",
      "Epoch 00062: ReduceLROnPlateau reducing learning rate to 0.0001250000059371814.\n",
      "Epoch 63/300\n",
      " - 71s - loss: 0.0547 - my_iou_metric: 0.8226 - val_loss: 0.2189 - val_my_iou_metric: 0.7828\n",
      "\n",
      "Epoch 00063: val_my_iou_metric improved from 0.78052 to 0.78277, saving model to unet_v2_5A_cv1.model\n",
      "Epoch 64/300\n",
      " - 71s - loss: 0.0535 - my_iou_metric: 0.8262 - val_loss: 0.1842 - val_my_iou_metric: 0.7737\n",
      "\n",
      "Epoch 00064: val_my_iou_metric did not improve from 0.78277\n",
      "Epoch 65/300\n",
      " - 71s - loss: 0.0524 - my_iou_metric: 0.8261 - val_loss: 0.2074 - val_my_iou_metric: 0.7765\n",
      "\n",
      "Epoch 00065: val_my_iou_metric did not improve from 0.78277\n",
      "Epoch 66/300\n",
      " - 71s - loss: 0.0520 - my_iou_metric: 0.8243 - val_loss: 0.2278 - val_my_iou_metric: 0.7806\n",
      "\n",
      "Epoch 00066: val_my_iou_metric did not improve from 0.78277\n",
      "Epoch 67/300\n",
      " - 71s - loss: 0.0538 - my_iou_metric: 0.8209 - val_loss: 0.2035 - val_my_iou_metric: 0.7773\n",
      "\n",
      "Epoch 00067: val_my_iou_metric did not improve from 0.78277\n",
      "Epoch 68/300\n",
      " - 71s - loss: 0.0532 - my_iou_metric: 0.8266 - val_loss: 0.2223 - val_my_iou_metric: 0.7667\n",
      "\n",
      "Epoch 00068: val_my_iou_metric did not improve from 0.78277\n",
      "Epoch 69/300\n",
      " - 71s - loss: 0.0501 - my_iou_metric: 0.8255 - val_loss: 0.2320 - val_my_iou_metric: 0.7830\n",
      "\n",
      "Epoch 00069: val_my_iou_metric improved from 0.78277 to 0.78302, saving model to unet_v2_5A_cv1.model\n",
      "Epoch 70/300\n",
      " - 71s - loss: 0.0514 - my_iou_metric: 0.8241 - val_loss: 0.2167 - val_my_iou_metric: 0.7835\n",
      "\n",
      "Epoch 00070: val_my_iou_metric improved from 0.78302 to 0.78352, saving model to unet_v2_5A_cv1.model\n",
      "Epoch 71/300\n",
      " - 71s - loss: 0.0502 - my_iou_metric: 0.8272 - val_loss: 0.2168 - val_my_iou_metric: 0.7780\n",
      "\n",
      "Epoch 00071: val_my_iou_metric did not improve from 0.78352\n",
      "Epoch 72/300\n",
      " - 71s - loss: 0.0504 - my_iou_metric: 0.8244 - val_loss: 0.2272 - val_my_iou_metric: 0.7834\n",
      "\n",
      "Epoch 00072: val_my_iou_metric did not improve from 0.78352\n",
      "Epoch 73/300\n",
      " - 71s - loss: 0.0511 - my_iou_metric: 0.8262 - val_loss: 0.2334 - val_my_iou_metric: 0.7835\n",
      "\n",
      "Epoch 00073: val_my_iou_metric did not improve from 0.78352\n",
      "Epoch 74/300\n",
      " - 71s - loss: 0.0495 - my_iou_metric: 0.8290 - val_loss: 0.2318 - val_my_iou_metric: 0.7753\n",
      "\n",
      "Epoch 00074: val_my_iou_metric did not improve from 0.78352\n",
      "Epoch 75/300\n",
      " - 71s - loss: 0.0497 - my_iou_metric: 0.8288 - val_loss: 0.2363 - val_my_iou_metric: 0.7823\n",
      "\n",
      "Epoch 00075: val_my_iou_metric did not improve from 0.78352\n",
      "Epoch 76/300\n",
      " - 72s - loss: 0.0494 - my_iou_metric: 0.8269 - val_loss: 0.2255 - val_my_iou_metric: 0.7818\n",
      "\n",
      "Epoch 00076: val_my_iou_metric did not improve from 0.78352\n",
      "Epoch 77/300\n",
      " - 72s - loss: 0.0499 - my_iou_metric: 0.8253 - val_loss: 0.2390 - val_my_iou_metric: 0.7745\n",
      "\n",
      "Epoch 00077: val_my_iou_metric did not improve from 0.78352\n",
      "\n",
      "Epoch 00077: ReduceLROnPlateau reducing learning rate to 6.25000029685907e-05.\n",
      "Epoch 78/300\n",
      " - 72s - loss: 0.0491 - my_iou_metric: 0.8299 - val_loss: 0.2218 - val_my_iou_metric: 0.7818\n",
      "\n",
      "Epoch 00078: val_my_iou_metric did not improve from 0.78352\n",
      "Epoch 79/300\n",
      " - 71s - loss: 0.0474 - my_iou_metric: 0.8343 - val_loss: 0.2054 - val_my_iou_metric: 0.7839\n",
      "\n",
      "Epoch 00079: val_my_iou_metric improved from 0.78352 to 0.78390, saving model to unet_v2_5A_cv1.model\n",
      "Epoch 80/300\n",
      " - 71s - loss: 0.0465 - my_iou_metric: 0.8352 - val_loss: 0.2105 - val_my_iou_metric: 0.7865\n",
      "\n",
      "Epoch 00080: val_my_iou_metric improved from 0.78390 to 0.78652, saving model to unet_v2_5A_cv1.model\n",
      "Epoch 81/300\n",
      " - 71s - loss: 0.0488 - my_iou_metric: 0.8280 - val_loss: 0.1955 - val_my_iou_metric: 0.7833\n",
      "\n",
      "Epoch 00081: val_my_iou_metric did not improve from 0.78652\n",
      "Epoch 82/300\n",
      " - 71s - loss: 0.0482 - my_iou_metric: 0.8306 - val_loss: 0.2109 - val_my_iou_metric: 0.7759\n",
      "\n",
      "Epoch 00082: val_my_iou_metric did not improve from 0.78652\n",
      "Epoch 83/300\n",
      " - 71s - loss: 0.0472 - my_iou_metric: 0.8306 - val_loss: 0.2193 - val_my_iou_metric: 0.7813\n",
      "\n",
      "Epoch 00083: val_my_iou_metric did not improve from 0.78652\n",
      "Epoch 84/300\n",
      " - 71s - loss: 0.0472 - my_iou_metric: 0.8316 - val_loss: 0.2249 - val_my_iou_metric: 0.7798\n",
      "\n",
      "Epoch 00084: val_my_iou_metric did not improve from 0.78652\n",
      "Epoch 85/300\n",
      " - 71s - loss: 0.0460 - my_iou_metric: 0.8360 - val_loss: 0.2239 - val_my_iou_metric: 0.7774\n",
      "\n",
      "Epoch 00085: val_my_iou_metric did not improve from 0.78652\n",
      "Epoch 86/300\n",
      " - 71s - loss: 0.0464 - my_iou_metric: 0.8308 - val_loss: 0.2245 - val_my_iou_metric: 0.7797\n",
      "\n",
      "Epoch 00086: val_my_iou_metric did not improve from 0.78652\n",
      "Epoch 87/300\n",
      " - 71s - loss: 0.0464 - my_iou_metric: 0.8349 - val_loss: 0.2275 - val_my_iou_metric: 0.7824\n",
      "\n",
      "Epoch 00087: val_my_iou_metric did not improve from 0.78652\n",
      "\n",
      "Epoch 00087: ReduceLROnPlateau reducing learning rate to 3.125000148429535e-05.\n",
      "Epoch 88/300\n",
      " - 71s - loss: 0.0455 - my_iou_metric: 0.8365 - val_loss: 0.2378 - val_my_iou_metric: 0.7839\n",
      "\n",
      "Epoch 00088: val_my_iou_metric did not improve from 0.78652\n",
      "Epoch 89/300\n",
      " - 71s - loss: 0.0472 - my_iou_metric: 0.8374 - val_loss: 0.2350 - val_my_iou_metric: 0.7788\n",
      "\n",
      "Epoch 00089: val_my_iou_metric did not improve from 0.78652\n",
      "Epoch 90/300\n",
      " - 71s - loss: 0.0452 - my_iou_metric: 0.8361 - val_loss: 0.2355 - val_my_iou_metric: 0.7768\n",
      "\n",
      "Epoch 00090: val_my_iou_metric did not improve from 0.78652\n",
      "Epoch 91/300\n",
      " - 71s - loss: 0.0449 - my_iou_metric: 0.8363 - val_loss: 0.2397 - val_my_iou_metric: 0.7790\n"
     ]
    },
    {
     "name": "stdout",
     "output_type": "stream",
     "text": [
      "\n",
      "Epoch 00091: val_my_iou_metric did not improve from 0.78652\n",
      "Epoch 92/300\n",
      " - 71s - loss: 0.0453 - my_iou_metric: 0.8381 - val_loss: 0.2353 - val_my_iou_metric: 0.7845\n",
      "\n",
      "Epoch 00092: val_my_iou_metric did not improve from 0.78652\n",
      "Epoch 93/300\n",
      " - 71s - loss: 0.0452 - my_iou_metric: 0.8363 - val_loss: 0.2438 - val_my_iou_metric: 0.7824\n",
      "\n",
      "Epoch 00093: val_my_iou_metric did not improve from 0.78652\n",
      "Epoch 94/300\n",
      " - 71s - loss: 0.0437 - my_iou_metric: 0.8382 - val_loss: 0.2385 - val_my_iou_metric: 0.7843\n",
      "\n",
      "Epoch 00094: val_my_iou_metric did not improve from 0.78652\n",
      "\n",
      "Epoch 00094: ReduceLROnPlateau reducing learning rate to 1.5625000742147677e-05.\n",
      "Epoch 95/300\n",
      " - 71s - loss: 0.0454 - my_iou_metric: 0.8369 - val_loss: 0.2357 - val_my_iou_metric: 0.7861\n",
      "\n",
      "Epoch 00095: val_my_iou_metric did not improve from 0.78652\n",
      "Epoch 96/300\n",
      " - 71s - loss: 0.0459 - my_iou_metric: 0.8370 - val_loss: 0.2286 - val_my_iou_metric: 0.7871\n",
      "\n",
      "Epoch 00096: val_my_iou_metric improved from 0.78652 to 0.78714, saving model to unet_v2_5A_cv1.model\n",
      "Epoch 97/300\n",
      " - 71s - loss: 0.0437 - my_iou_metric: 0.8383 - val_loss: 0.2328 - val_my_iou_metric: 0.7828\n",
      "\n",
      "Epoch 00097: val_my_iou_metric did not improve from 0.78714\n",
      "Epoch 98/300\n",
      " - 71s - loss: 0.0434 - my_iou_metric: 0.8396 - val_loss: 0.2321 - val_my_iou_metric: 0.7834\n",
      "\n",
      "Epoch 00098: val_my_iou_metric did not improve from 0.78714\n",
      "Epoch 99/300\n",
      " - 71s - loss: 0.0444 - my_iou_metric: 0.8377 - val_loss: 0.2350 - val_my_iou_metric: 0.7824\n",
      "\n",
      "Epoch 00099: val_my_iou_metric did not improve from 0.78714\n",
      "Epoch 100/300\n",
      " - 71s - loss: 0.0442 - my_iou_metric: 0.8398 - val_loss: 0.2386 - val_my_iou_metric: 0.7834\n",
      "\n",
      "Epoch 00100: val_my_iou_metric did not improve from 0.78714\n",
      "Epoch 101/300\n",
      " - 71s - loss: 0.0437 - my_iou_metric: 0.8357 - val_loss: 0.2369 - val_my_iou_metric: 0.7831\n",
      "\n",
      "Epoch 00101: val_my_iou_metric did not improve from 0.78714\n",
      "Epoch 102/300\n",
      " - 71s - loss: 0.0440 - my_iou_metric: 0.8387 - val_loss: 0.2404 - val_my_iou_metric: 0.7839\n",
      "\n",
      "Epoch 00102: val_my_iou_metric did not improve from 0.78714\n",
      "Epoch 103/300\n",
      " - 71s - loss: 0.0442 - my_iou_metric: 0.8375 - val_loss: 0.2373 - val_my_iou_metric: 0.7858\n",
      "\n",
      "Epoch 00103: val_my_iou_metric did not improve from 0.78714\n",
      "\n",
      "Epoch 00103: ReduceLROnPlateau reducing learning rate to 1e-05.\n",
      "Epoch 104/300\n",
      " - 71s - loss: 0.0445 - my_iou_metric: 0.8357 - val_loss: 0.2364 - val_my_iou_metric: 0.7836\n",
      "\n",
      "Epoch 00104: val_my_iou_metric did not improve from 0.78714\n",
      "Epoch 105/300\n",
      " - 71s - loss: 0.0443 - my_iou_metric: 0.8369 - val_loss: 0.2369 - val_my_iou_metric: 0.7870\n",
      "\n",
      "Epoch 00105: val_my_iou_metric did not improve from 0.78714\n",
      "Epoch 106/300\n",
      " - 71s - loss: 0.0441 - my_iou_metric: 0.8353 - val_loss: 0.2329 - val_my_iou_metric: 0.7830\n",
      "\n",
      "Epoch 00106: val_my_iou_metric did not improve from 0.78714\n",
      "Epoch 107/300\n",
      " - 71s - loss: 0.0446 - my_iou_metric: 0.8355 - val_loss: 0.2373 - val_my_iou_metric: 0.7850\n",
      "\n",
      "Epoch 00107: val_my_iou_metric did not improve from 0.78714\n",
      "Epoch 108/300\n",
      " - 71s - loss: 0.0446 - my_iou_metric: 0.8359 - val_loss: 0.2365 - val_my_iou_metric: 0.7844\n",
      "\n",
      "Epoch 00108: val_my_iou_metric did not improve from 0.78714\n",
      "Epoch 109/300\n",
      " - 71s - loss: 0.0445 - my_iou_metric: 0.8369 - val_loss: 0.2349 - val_my_iou_metric: 0.7835\n",
      "\n",
      "Epoch 00109: val_my_iou_metric did not improve from 0.78714\n",
      "Epoch 110/300\n",
      " - 71s - loss: 0.0446 - my_iou_metric: 0.8349 - val_loss: 0.2355 - val_my_iou_metric: 0.7845\n",
      "\n",
      "Epoch 00110: val_my_iou_metric did not improve from 0.78714\n",
      "Epoch 111/300\n",
      " - 71s - loss: 0.0440 - my_iou_metric: 0.8368 - val_loss: 0.2360 - val_my_iou_metric: 0.7834\n",
      "\n",
      "Epoch 00111: val_my_iou_metric did not improve from 0.78714\n",
      "Epoch 112/300\n",
      " - 71s - loss: 0.0435 - my_iou_metric: 0.8365 - val_loss: 0.2391 - val_my_iou_metric: 0.7840\n",
      "\n",
      "Epoch 00112: val_my_iou_metric did not improve from 0.78714\n",
      "Epoch 113/300\n",
      " - 71s - loss: 0.0427 - my_iou_metric: 0.8389 - val_loss: 0.2364 - val_my_iou_metric: 0.7839\n",
      "\n",
      "Epoch 00113: val_my_iou_metric did not improve from 0.78714\n",
      "Epoch 114/300\n",
      " - 71s - loss: 0.0440 - my_iou_metric: 0.8357 - val_loss: 0.2388 - val_my_iou_metric: 0.7823\n",
      "\n",
      "Epoch 00114: val_my_iou_metric did not improve from 0.78714\n",
      "Epoch 115/300\n",
      " - 71s - loss: 0.0430 - my_iou_metric: 0.8363 - val_loss: 0.2381 - val_my_iou_metric: 0.7805\n",
      "\n",
      "Epoch 00115: val_my_iou_metric did not improve from 0.78714\n",
      "Epoch 116/300\n",
      " - 71s - loss: 0.0438 - my_iou_metric: 0.8344 - val_loss: 0.2376 - val_my_iou_metric: 0.7858\n",
      "\n",
      "Epoch 00116: val_my_iou_metric did not improve from 0.78714\n",
      "Epoch 117/300\n",
      " - 71s - loss: 0.0439 - my_iou_metric: 0.8394 - val_loss: 0.2375 - val_my_iou_metric: 0.7846\n",
      "\n",
      "Epoch 00117: val_my_iou_metric did not improve from 0.78714\n",
      "Epoch 00117: early stopping\n",
      "CPU times: user 1h 26min 47s, sys: 33min 12s, total: 2h\n",
      "Wall time: 2h 20min 30s\n"
     ]
    }
   ],
   "source": [
    "%%time\n",
    "history = model1.fit(x_train, y_train,\n",
    "                     validation_data = [x_valid, y_valid], \n",
    "                     epochs = epochs, \n",
    "                     batch_size = batch_size, \n",
    "                     callbacks = [early_stopping, model_checkpoint, reduce_lr],\n",
    "                     verbose = 2)"
   ]
  },
  {
   "cell_type": "code",
   "execution_count": 53,
   "metadata": {},
   "outputs": [
    {
     "data": {
      "text/plain": [
       "<matplotlib.legend.Legend at 0x7fc3972134e0>"
      ]
     },
     "execution_count": 53,
     "metadata": {},
     "output_type": "execute_result"
    },
    {
     "data": {
      "image/png": "[encoded data removed]",
      "text/plain": [
       "<Figure size 1080x360 with 2 Axes>"
      ]
     },
     "metadata": {
      "needs_background": "light"
     },
     "output_type": "display_data"
    }
   ],
   "source": [
    "fig, (ax_loss, ax_score) = plt.subplots(1, 2, figsize=(15,5))\n",
    "ax_loss.plot(history.epoch, history.history[\"loss\"], label=\"Train loss\")\n",
    "ax_loss.plot(history.epoch, history.history[\"val_loss\"], label=\"Validation loss\")\n",
    "ax_loss.legend()\n",
    "ax_score.plot(history.epoch, history.history[\"my_iou_metric\"], label=\"Train score\")\n",
    "ax_score.plot(history.epoch, history.history[\"val_my_iou_metric\"], label=\"Validation score\")\n",
    "ax_score.legend()"
   ]
  },
  {
   "cell_type": "markdown",
   "metadata": {},
   "source": [
    "# Remove activation layer and use lovasz loss"
   ]
  },
  {
   "cell_type": "code",
   "execution_count": 55,
   "metadata": {
    "_uuid": "52ba1ba40cac42145f499cff252eb73feff397d3"
   },
   "outputs": [],
   "source": [
    "model1 = load_model(save_model_name, custom_objects={'my_iou_metric':my_iou_metric})\n",
    "\n",
    "input_x = model1.layers[0].input\n",
    "output_layer = model1.layers[-1].input\n",
    "model = Model(input_x, output_layer)\n",
    "c = optimizers.adam(lr=0.0005)\n",
    "\n",
    "model.compile(loss=lovasz_loss, optimizer=c, metrics=[my_iou_metric_2])\n",
    "\n",
    "# model.summary()"
   ]
  },
  {
   "cell_type": "code",
   "execution_count": 51,
   "metadata": {
    "_uuid": "ec1e49fd425a02ab12dea6b99cf39de45c80199f"
   },
   "outputs": [],
   "source": [
    "early_stopping = EarlyStopping(monitor='val_my_iou_metric_2', mode='max', patience=21, verbose=1)\n",
    "model_checkpoint = ModelCheckpoint(save_model_nameB, monitor='val_my_iou_metric_2', mode='max', save_best_only=True, verbose=1)\n",
    "reduce_lr = ReduceLROnPlateau(monitor='val_my_iou_metric_2', mode='max',factor=0.5, patience=7, min_lr=0.00001, verbose=1)\n",
    "\n",
    "epochs = 200\n",
    "batch_size = 32"
   ]
  },
  {
   "cell_type": "code",
   "execution_count": null,
   "metadata": {
    "_uuid": "ec1e49fd425a02ab12dea6b99cf39de45c80199f"
   },
   "outputs": [
    {
     "name": "stdout",
     "output_type": "stream",
     "text": [
      "Train on 6324 samples, validate on 801 samples\n",
      "Epoch 1/200\n",
      " - 210s - loss: -1.5224e-01 - my_iou_metric_2: 0.8108 - val_loss: 0.1595 - val_my_iou_metric_2: 0.7644\n",
      "\n",
      "Epoch 00001: val_my_iou_metric_2 improved from -inf to 0.76442, saving model to unet_v2_5B_cv1.model\n",
      "Epoch 2/200\n",
      " - 192s - loss: -2.0888e-01 - my_iou_metric_2: 0.8168 - val_loss: 0.0751 - val_my_iou_metric_2: 0.7507\n",
      "\n",
      "Epoch 00002: val_my_iou_metric_2 did not improve from 0.76442\n",
      "Epoch 3/200\n",
      " - 192s - loss: -2.2750e-01 - my_iou_metric_2: 0.8164 - val_loss: 0.0761 - val_my_iou_metric_2: 0.7795\n",
      "\n",
      "Epoch 00003: val_my_iou_metric_2 improved from 0.76442 to 0.77953, saving model to unet_v2_5B_cv1.model\n",
      "Epoch 4/200\n",
      " - 192s - loss: -2.2257e-01 - my_iou_metric_2: 0.8164 - val_loss: 0.0209 - val_my_iou_metric_2: 0.7805\n",
      "\n",
      "Epoch 00004: val_my_iou_metric_2 improved from 0.77953 to 0.78052, saving model to unet_v2_5B_cv1.model\n",
      "Epoch 5/200\n",
      " - 192s - loss: -2.4719e-01 - my_iou_metric_2: 0.8205 - val_loss: -1.1378e-02 - val_my_iou_metric_2: 0.7684\n",
      "\n",
      "Epoch 00005: val_my_iou_metric_2 did not improve from 0.78052\n",
      "Epoch 6/200\n",
      " - 192s - loss: -2.5776e-01 - my_iou_metric_2: 0.8213 - val_loss: 0.1306 - val_my_iou_metric_2: 0.7702\n",
      "\n",
      "Epoch 00006: val_my_iou_metric_2 did not improve from 0.78052\n",
      "Epoch 7/200\n",
      " - 192s - loss: -2.6309e-01 - my_iou_metric_2: 0.8216 - val_loss: 0.3602 - val_my_iou_metric_2: 0.6750\n",
      "\n",
      "Epoch 00007: val_my_iou_metric_2 did not improve from 0.78052\n",
      "Epoch 8/200\n",
      " - 192s - loss: -2.6200e-01 - my_iou_metric_2: 0.8230 - val_loss: -2.6160e-02 - val_my_iou_metric_2: 0.7803\n",
      "\n",
      "Epoch 00008: val_my_iou_metric_2 did not improve from 0.78052\n",
      "Epoch 9/200\n",
      " - 192s - loss: -2.6937e-01 - my_iou_metric_2: 0.8218 - val_loss: 0.0075 - val_my_iou_metric_2: 0.7803\n",
      "\n",
      "Epoch 00009: val_my_iou_metric_2 did not improve from 0.78052\n",
      "Epoch 10/200\n",
      " - 192s - loss: -2.8953e-01 - my_iou_metric_2: 0.8279 - val_loss: 0.0229 - val_my_iou_metric_2: 0.7795\n",
      "\n",
      "Epoch 00010: val_my_iou_metric_2 did not improve from 0.78052\n",
      "Epoch 11/200\n",
      " - 192s - loss: -2.7936e-01 - my_iou_metric_2: 0.8253 - val_loss: -3.4651e-02 - val_my_iou_metric_2: 0.7708\n",
      "\n",
      "Epoch 00011: val_my_iou_metric_2 did not improve from 0.78052\n",
      "\n",
      "Epoch 00011: ReduceLROnPlateau reducing learning rate to 0.0002500000118743628.\n",
      "Epoch 12/200\n",
      " - 192s - loss: -3.4469e-01 - my_iou_metric_2: 0.8385 - val_loss: -2.3339e-03 - val_my_iou_metric_2: 0.7876\n",
      "\n",
      "Epoch 00012: val_my_iou_metric_2 improved from 0.78052 to 0.78764, saving model to unet_v2_5B_cv1.model\n",
      "Epoch 13/200\n",
      " - 192s - loss: -3.8157e-01 - my_iou_metric_2: 0.8448 - val_loss: 0.0725 - val_my_iou_metric_2: 0.7890\n",
      "\n",
      "Epoch 00013: val_my_iou_metric_2 improved from 0.78764 to 0.78901, saving model to unet_v2_5B_cv1.model\n",
      "Epoch 14/200\n",
      " - 192s - loss: -3.7668e-01 - my_iou_metric_2: 0.8450 - val_loss: -3.5714e-02 - val_my_iou_metric_2: 0.7925\n",
      "\n",
      "Epoch 00014: val_my_iou_metric_2 improved from 0.78901 to 0.79251, saving model to unet_v2_5B_cv1.model\n",
      "Epoch 15/200\n",
      " - 192s - loss: -3.8394e-01 - my_iou_metric_2: 0.8458 - val_loss: -2.2330e-02 - val_my_iou_metric_2: 0.7804\n",
      "\n",
      "Epoch 00015: val_my_iou_metric_2 did not improve from 0.79251\n",
      "Epoch 16/200\n",
      " - 192s - loss: -3.7801e-01 - my_iou_metric_2: 0.8463 - val_loss: -1.8785e-02 - val_my_iou_metric_2: 0.7939\n",
      "\n",
      "Epoch 00016: val_my_iou_metric_2 improved from 0.79251 to 0.79388, saving model to unet_v2_5B_cv1.model\n",
      "Epoch 17/200\n",
      " - 192s - loss: -3.8215e-01 - my_iou_metric_2: 0.8460 - val_loss: 0.0114 - val_my_iou_metric_2: 0.7793\n",
      "\n",
      "Epoch 00017: val_my_iou_metric_2 did not improve from 0.79388\n",
      "Epoch 18/200\n",
      " - 192s - loss: -4.0250e-01 - my_iou_metric_2: 0.8510 - val_loss: -2.8279e-02 - val_my_iou_metric_2: 0.7846\n",
      "\n",
      "Epoch 00018: val_my_iou_metric_2 did not improve from 0.79388\n",
      "Epoch 19/200\n",
      " - 192s - loss: -4.0823e-01 - my_iou_metric_2: 0.8516 - val_loss: -5.1487e-02 - val_my_iou_metric_2: 0.7828\n",
      "\n",
      "Epoch 00019: val_my_iou_metric_2 did not improve from 0.79388\n",
      "Epoch 20/200\n"
     ]
    }
   ],
   "source": [
    "%%time\n",
    "history = model.fit(x_train, y_train,\n",
    "                    validation_data=[x_valid, y_valid], \n",
    "                    epochs=epochs,\n",
    "                    batch_size=batch_size,\n",
    "                    callbacks=[ model_checkpoint, reduce_lr, early_stopping], \n",
    "                    verbose=2)"
   ]
  },
  {
   "cell_type": "markdown",
   "metadata": {},
   "source": [
    "# Plot result"
   ]
  },
  {
   "cell_type": "code",
   "execution_count": 50,
   "metadata": {},
   "outputs": [],
   "source": [
    "model = load_model(save_model_nameB,custom_objects={'my_iou_metric_2': my_iou_metric_2,\n",
    "                                                   'lovasz_loss': lovasz_loss})\n",
    "\n",
    "c = optimizers.adam(lr=0.0005)\n",
    "model.compile(loss=lovasz_loss, optimizer=c, metrics=[my_iou_metric_2])\n",
    "\n",
    "epochs = 200\n",
    "batch_size = 32"
   ]
  },
  {
   "cell_type": "code",
   "execution_count": 51,
   "metadata": {
    "_uuid": "ec1e49fd425a02ab12dea6b99cf39de45c80199f",
    "scrolled": false
   },
   "outputs": [
    {
     "name": "stdout",
     "output_type": "stream",
     "text": [
      "Train on 6324 samples, validate on 801 samples\n",
      "Epoch 1/200\n",
      " - 207s - loss: -3.2373e-01 - my_iou_metric_2: 0.8332 - val_loss: 0.0874 - val_my_iou_metric_2: 0.7742\n",
      "\n",
      "Epoch 00001: val_my_iou_metric_2 improved from -inf to 0.77416, saving model to unet_v2_5B_cv1.model\n",
      "Epoch 2/200\n",
      " - 192s - loss: -2.9972e-01 - my_iou_metric_2: 0.8292 - val_loss: -5.1191e-03 - val_my_iou_metric_2: 0.7790\n",
      "\n",
      "Epoch 00002: val_my_iou_metric_2 improved from 0.77416 to 0.77903, saving model to unet_v2_5B_cv1.model\n",
      "Epoch 3/200\n",
      " - 192s - loss: -3.2810e-01 - my_iou_metric_2: 0.8330 - val_loss: 0.0113 - val_my_iou_metric_2: 0.7801\n",
      "\n",
      "Epoch 00003: val_my_iou_metric_2 improved from 0.77903 to 0.78015, saving model to unet_v2_5B_cv1.model\n",
      "Epoch 4/200\n",
      " - 192s - loss: -3.3205e-01 - my_iou_metric_2: 0.8354 - val_loss: 0.0756 - val_my_iou_metric_2: 0.7568\n",
      "\n",
      "Epoch 00004: val_my_iou_metric_2 did not improve from 0.78015\n",
      "Epoch 5/200\n",
      " - 192s - loss: -3.3950e-01 - my_iou_metric_2: 0.8366 - val_loss: 0.2242 - val_my_iou_metric_2: 0.7647\n",
      "\n",
      "Epoch 00005: val_my_iou_metric_2 did not improve from 0.78015\n",
      "Epoch 6/200\n",
      " - 192s - loss: -3.5088e-01 - my_iou_metric_2: 0.8372 - val_loss: -1.1420e-02 - val_my_iou_metric_2: 0.7793\n",
      "\n",
      "Epoch 00006: val_my_iou_metric_2 did not improve from 0.78015\n",
      "Epoch 7/200\n",
      " - 192s - loss: -3.4729e-01 - my_iou_metric_2: 0.8370 - val_loss: 0.0444 - val_my_iou_metric_2: 0.7871\n",
      "\n",
      "Epoch 00007: val_my_iou_metric_2 improved from 0.78015 to 0.78714, saving model to unet_v2_5B_cv1.model\n",
      "Epoch 8/200\n",
      " - 192s - loss: -3.5074e-01 - my_iou_metric_2: 0.8393 - val_loss: 0.0135 - val_my_iou_metric_2: 0.7755\n",
      "\n",
      "Epoch 00008: val_my_iou_metric_2 did not improve from 0.78714\n",
      "Epoch 9/200\n",
      " - 192s - loss: -3.5413e-01 - my_iou_metric_2: 0.8391 - val_loss: -4.2090e-02 - val_my_iou_metric_2: 0.7921\n",
      "\n",
      "Epoch 00009: val_my_iou_metric_2 improved from 0.78714 to 0.79213, saving model to unet_v2_5B_cv1.model\n",
      "Epoch 10/200\n",
      " - 192s - loss: -3.7261e-01 - my_iou_metric_2: 0.8433 - val_loss: 0.0314 - val_my_iou_metric_2: 0.7833\n",
      "\n",
      "Epoch 00010: val_my_iou_metric_2 did not improve from 0.79213\n",
      "Epoch 11/200\n",
      " - 192s - loss: -3.4959e-01 - my_iou_metric_2: 0.8409 - val_loss: 0.0258 - val_my_iou_metric_2: 0.7841\n",
      "\n",
      "Epoch 00011: val_my_iou_metric_2 did not improve from 0.79213\n",
      "Epoch 12/200\n",
      " - 192s - loss: -3.8033e-01 - my_iou_metric_2: 0.8431 - val_loss: 0.0406 - val_my_iou_metric_2: 0.7891\n",
      "\n",
      "Epoch 00012: val_my_iou_metric_2 did not improve from 0.79213\n",
      "Epoch 13/200\n",
      " - 192s - loss: -3.7239e-01 - my_iou_metric_2: 0.8422 - val_loss: -2.7518e-02 - val_my_iou_metric_2: 0.7920\n",
      "\n",
      "Epoch 00013: val_my_iou_metric_2 did not improve from 0.79213\n",
      "Epoch 14/200\n",
      " - 192s - loss: -3.9114e-01 - my_iou_metric_2: 0.8438 - val_loss: 0.0197 - val_my_iou_metric_2: 0.7763\n",
      "\n",
      "Epoch 00014: val_my_iou_metric_2 did not improve from 0.79213\n",
      "Epoch 15/200\n",
      " - 192s - loss: -3.9198e-01 - my_iou_metric_2: 0.8445 - val_loss: 0.0815 - val_my_iou_metric_2: 0.7579\n",
      "\n",
      "Epoch 00015: val_my_iou_metric_2 did not improve from 0.79213\n",
      "Epoch 16/200\n",
      " - 192s - loss: -3.9263e-01 - my_iou_metric_2: 0.8463 - val_loss: -4.2176e-02 - val_my_iou_metric_2: 0.7823\n",
      "\n",
      "Epoch 00016: val_my_iou_metric_2 did not improve from 0.79213\n",
      "\n",
      "Epoch 00016: ReduceLROnPlateau reducing learning rate to 0.0002500000118743628.\n",
      "Epoch 17/200\n",
      " - 192s - loss: -4.3487e-01 - my_iou_metric_2: 0.8551 - val_loss: -3.1663e-02 - val_my_iou_metric_2: 0.7920\n",
      "\n",
      "Epoch 00017: val_my_iou_metric_2 did not improve from 0.79213\n",
      "Epoch 18/200\n",
      " - 192s - loss: -4.4253e-01 - my_iou_metric_2: 0.8579 - val_loss: -6.3756e-02 - val_my_iou_metric_2: 0.7938\n",
      "\n",
      "Epoch 00018: val_my_iou_metric_2 improved from 0.79213 to 0.79376, saving model to unet_v2_5B_cv1.model\n",
      "Epoch 19/200\n",
      " - 192s - loss: -4.6835e-01 - my_iou_metric_2: 0.8619 - val_loss: -2.8449e-02 - val_my_iou_metric_2: 0.7946\n",
      "\n",
      "Epoch 00019: val_my_iou_metric_2 improved from 0.79376 to 0.79463, saving model to unet_v2_5B_cv1.model\n",
      "Epoch 20/200\n",
      " - 192s - loss: -4.7586e-01 - my_iou_metric_2: 0.8618 - val_loss: -6.9131e-02 - val_my_iou_metric_2: 0.8039\n",
      "\n",
      "Epoch 00020: val_my_iou_metric_2 improved from 0.79463 to 0.80387, saving model to unet_v2_5B_cv1.model\n",
      "Epoch 21/200\n",
      " - 192s - loss: -4.6848e-01 - my_iou_metric_2: 0.8625 - val_loss: -7.3956e-02 - val_my_iou_metric_2: 0.8016\n",
      "\n",
      "Epoch 00021: val_my_iou_metric_2 did not improve from 0.80387\n",
      "Epoch 22/200\n",
      " - 192s - loss: -4.7001e-01 - my_iou_metric_2: 0.8619 - val_loss: -5.4432e-02 - val_my_iou_metric_2: 0.8015\n",
      "\n",
      "Epoch 00022: val_my_iou_metric_2 did not improve from 0.80387\n",
      "Epoch 23/200\n",
      " - 192s - loss: -4.8238e-01 - my_iou_metric_2: 0.8639 - val_loss: -1.5672e-02 - val_my_iou_metric_2: 0.7870\n",
      "\n",
      "Epoch 00023: val_my_iou_metric_2 did not improve from 0.80387\n",
      "Epoch 24/200\n",
      " - 192s - loss: -4.8644e-01 - my_iou_metric_2: 0.8649 - val_loss: 0.0116 - val_my_iou_metric_2: 0.7985\n",
      "\n",
      "Epoch 00024: val_my_iou_metric_2 did not improve from 0.80387\n",
      "Epoch 25/200\n",
      " - 192s - loss: -4.8095e-01 - my_iou_metric_2: 0.8633 - val_loss: -2.6608e-02 - val_my_iou_metric_2: 0.7976\n",
      "\n",
      "Epoch 00025: val_my_iou_metric_2 did not improve from 0.80387\n",
      "Epoch 26/200\n",
      " - 192s - loss: -4.8638e-01 - my_iou_metric_2: 0.8660 - val_loss: -1.7195e-02 - val_my_iou_metric_2: 0.8014\n",
      "\n",
      "Epoch 00026: val_my_iou_metric_2 did not improve from 0.80387\n",
      "Epoch 27/200\n",
      " - 192s - loss: -4.9875e-01 - my_iou_metric_2: 0.8677 - val_loss: 0.0337 - val_my_iou_metric_2: 0.8011\n",
      "\n",
      "Epoch 00027: val_my_iou_metric_2 did not improve from 0.80387\n",
      "\n",
      "Epoch 00027: ReduceLROnPlateau reducing learning rate to 0.0001250000059371814.\n",
      "Epoch 28/200\n",
      " - 192s - loss: -5.1930e-01 - my_iou_metric_2: 0.8723 - val_loss: -2.4678e-02 - val_my_iou_metric_2: 0.8077\n",
      "\n",
      "Epoch 00028: val_my_iou_metric_2 improved from 0.80387 to 0.80774, saving model to unet_v2_5B_cv1.model\n",
      "Epoch 29/200\n",
      " - 192s - loss: -5.2062e-01 - my_iou_metric_2: 0.8716 - val_loss: -6.8358e-02 - val_my_iou_metric_2: 0.8111\n",
      "\n",
      "Epoch 00029: val_my_iou_metric_2 improved from 0.80774 to 0.81111, saving model to unet_v2_5B_cv1.model\n",
      "Epoch 30/200\n",
      " - 192s - loss: -5.2984e-01 - my_iou_metric_2: 0.8739 - val_loss: -1.6830e-02 - val_my_iou_metric_2: 0.7951\n",
      "\n",
      "Epoch 00030: val_my_iou_metric_2 did not improve from 0.81111\n",
      "Epoch 31/200\n",
      " - 192s - loss: -5.3464e-01 - my_iou_metric_2: 0.8734 - val_loss: 4.7582e-04 - val_my_iou_metric_2: 0.7970\n",
      "\n",
      "Epoch 00031: val_my_iou_metric_2 did not improve from 0.81111\n",
      "Epoch 32/200\n",
      " - 192s - loss: -5.2541e-01 - my_iou_metric_2: 0.8725 - val_loss: -4.1057e-02 - val_my_iou_metric_2: 0.8029\n",
      "\n",
      "Epoch 00032: val_my_iou_metric_2 did not improve from 0.81111\n",
      "Epoch 33/200\n",
      " - 192s - loss: -5.4424e-01 - my_iou_metric_2: 0.8772 - val_loss: -2.3763e-02 - val_my_iou_metric_2: 0.7991\n",
      "\n",
      "Epoch 00033: val_my_iou_metric_2 did not improve from 0.81111\n",
      "Epoch 34/200\n",
      " - 192s - loss: -5.4374e-01 - my_iou_metric_2: 0.8765 - val_loss: 0.0231 - val_my_iou_metric_2: 0.8042\n",
      "\n",
      "Epoch 00034: val_my_iou_metric_2 did not improve from 0.81111\n",
      "Epoch 35/200\n",
      " - 192s - loss: -5.4080e-01 - my_iou_metric_2: 0.8755 - val_loss: -1.6234e-02 - val_my_iou_metric_2: 0.7994\n",
      "\n",
      "Epoch 00035: val_my_iou_metric_2 did not improve from 0.81111\n",
      "Epoch 36/200\n",
      " - 192s - loss: -5.3325e-01 - my_iou_metric_2: 0.8744 - val_loss: 0.0319 - val_my_iou_metric_2: 0.8004\n",
      "\n",
      "Epoch 00036: val_my_iou_metric_2 did not improve from 0.81111\n",
      "\n",
      "Epoch 00036: ReduceLROnPlateau reducing learning rate to 6.25000029685907e-05.\n",
      "Epoch 37/200\n",
      " - 192s - loss: -5.5517e-01 - my_iou_metric_2: 0.8794 - val_loss: -2.2522e-02 - val_my_iou_metric_2: 0.8020\n",
      "\n",
      "Epoch 00037: val_my_iou_metric_2 did not improve from 0.81111\n",
      "Epoch 38/200\n",
      " - 192s - loss: -5.6636e-01 - my_iou_metric_2: 0.8819 - val_loss: -4.6299e-03 - val_my_iou_metric_2: 0.8057\n",
      "\n",
      "Epoch 00038: val_my_iou_metric_2 did not improve from 0.81111\n",
      "Epoch 39/200\n",
      " - 192s - loss: -5.6553e-01 - my_iou_metric_2: 0.8796 - val_loss: 0.0059 - val_my_iou_metric_2: 0.8039\n",
      "\n",
      "Epoch 00039: val_my_iou_metric_2 did not improve from 0.81111\n",
      "Epoch 40/200\n",
      " - 192s - loss: -5.6267e-01 - my_iou_metric_2: 0.8794 - val_loss: -2.1254e-02 - val_my_iou_metric_2: 0.8024\n",
      "\n",
      "Epoch 00040: val_my_iou_metric_2 did not improve from 0.81111\n",
      "Epoch 41/200\n",
      " - 192s - loss: -5.6130e-01 - my_iou_metric_2: 0.8807 - val_loss: -4.9169e-03 - val_my_iou_metric_2: 0.8056\n",
      "\n",
      "Epoch 00041: val_my_iou_metric_2 did not improve from 0.81111\n",
      "Epoch 42/200\n",
      " - 192s - loss: -5.5892e-01 - my_iou_metric_2: 0.8790 - val_loss: -2.4362e-02 - val_my_iou_metric_2: 0.8041\n"
     ]
    },
    {
     "name": "stdout",
     "output_type": "stream",
     "text": [
      "\n",
      "Epoch 00042: val_my_iou_metric_2 did not improve from 0.81111\n",
      "Epoch 43/200\n",
      " - 192s - loss: -5.7262e-01 - my_iou_metric_2: 0.8835 - val_loss: -4.1478e-03 - val_my_iou_metric_2: 0.8059\n",
      "\n",
      "Epoch 00043: val_my_iou_metric_2 did not improve from 0.81111\n",
      "\n",
      "Epoch 00043: ReduceLROnPlateau reducing learning rate to 3.125000148429535e-05.\n",
      "Epoch 44/200\n",
      " - 192s - loss: -5.6900e-01 - my_iou_metric_2: 0.8820 - val_loss: -1.2524e-02 - val_my_iou_metric_2: 0.8025\n",
      "\n",
      "Epoch 00044: val_my_iou_metric_2 did not improve from 0.81111\n",
      "Epoch 45/200\n",
      " - 192s - loss: -5.7307e-01 - my_iou_metric_2: 0.8836 - val_loss: -2.6597e-02 - val_my_iou_metric_2: 0.8031\n",
      "\n",
      "Epoch 00045: val_my_iou_metric_2 did not improve from 0.81111\n",
      "Epoch 46/200\n",
      " - 192s - loss: -5.6554e-01 - my_iou_metric_2: 0.8814 - val_loss: -2.2774e-02 - val_my_iou_metric_2: 0.8055\n",
      "\n",
      "Epoch 00046: val_my_iou_metric_2 did not improve from 0.81111\n",
      "Epoch 47/200\n",
      " - 192s - loss: -5.8219e-01 - my_iou_metric_2: 0.8841 - val_loss: -1.6971e-02 - val_my_iou_metric_2: 0.8061\n",
      "\n",
      "Epoch 00047: val_my_iou_metric_2 did not improve from 0.81111\n",
      "Epoch 48/200\n",
      " - 192s - loss: -5.7531e-01 - my_iou_metric_2: 0.8828 - val_loss: -2.4309e-02 - val_my_iou_metric_2: 0.8051\n",
      "\n",
      "Epoch 00048: val_my_iou_metric_2 did not improve from 0.81111\n",
      "Epoch 49/200\n",
      " - 192s - loss: -5.8026e-01 - my_iou_metric_2: 0.8838 - val_loss: -1.8251e-02 - val_my_iou_metric_2: 0.8039\n",
      "\n",
      "Epoch 00049: val_my_iou_metric_2 did not improve from 0.81111\n",
      "Epoch 50/200\n",
      " - 192s - loss: -5.8510e-01 - my_iou_metric_2: 0.8852 - val_loss: -7.3156e-03 - val_my_iou_metric_2: 0.8029\n",
      "\n",
      "Epoch 00050: val_my_iou_metric_2 did not improve from 0.81111\n",
      "\n",
      "Epoch 00050: ReduceLROnPlateau reducing learning rate to 1.5625000742147677e-05.\n",
      "Epoch 00050: early stopping\n",
      "CPU times: user 1h 22min 19s, sys: 22min 57s, total: 1h 45min 16s\n",
      "Wall time: 2h 40min 50s\n"
     ]
    }
   ],
   "source": [
    "%%time\n",
    "history = model.fit(x_train, y_train,\n",
    "                    validation_data=[x_valid, y_valid], \n",
    "                    epochs=epochs,\n",
    "                    batch_size=batch_size,\n",
    "                    callbacks=[ model_checkpoint, reduce_lr, early_stopping], \n",
    "                    verbose=2)"
   ]
  },
  {
   "cell_type": "code",
   "execution_count": 52,
   "metadata": {
    "_uuid": "922febde76d7aff93c49c71a28b3a2361f433d02"
   },
   "outputs": [
    {
     "data": {
      "text/plain": [
       "<matplotlib.legend.Legend at 0x7f80da2625c0>"
      ]
     },
     "execution_count": 52,
     "metadata": {},
     "output_type": "execute_result"
    },
    {
     "data": {
      "image/png": "[encoded data removed]",
      "text/plain": [
       "<Figure size 1080x360 with 2 Axes>"
      ]
     },
     "metadata": {
      "needs_background": "light"
     },
     "output_type": "display_data"
    }
   ],
   "source": [
    "fig, (ax_loss, ax_score) = plt.subplots(1, 2, figsize=(15,5))\n",
    "ax_loss.plot(history.epoch, history.history[\"loss\"], label=\"Train loss\")\n",
    "ax_loss.plot(history.epoch, history.history[\"val_loss\"], label=\"Validation loss\")\n",
    "ax_loss.legend()\n",
    "ax_score.plot(history.epoch, history.history[\"my_iou_metric_2\"], label=\"Train score\")\n",
    "ax_score.plot(history.epoch, history.history[\"val_my_iou_metric_2\"], label=\"Validation score\")\n",
    "ax_score.legend()"
   ]
  },
  {
   "cell_type": "code",
   "execution_count": 52,
   "metadata": {},
   "outputs": [],
   "source": [
    "model = load_model(save_model_nameB,custom_objects={'my_iou_metric_2': my_iou_metric_2,\n",
    "                                                   'lovasz_loss': lovasz_loss})\n",
    "\n",
    "c = optimizers.Adam(lr = 0.0001)\n",
    "model.compile(loss=lovasz_loss, optimizer=c, metrics=[my_iou_metric_2])\n",
    "\n",
    "epochs = 200\n",
    "batch_size = 16"
   ]
  },
  {
   "cell_type": "code",
   "execution_count": null,
   "metadata": {
    "scrolled": false
   },
   "outputs": [
    {
     "name": "stdout",
     "output_type": "stream",
     "text": [
      "Train on 6324 samples, validate on 801 samples\n",
      "Epoch 1/200\n",
      " - 242s - loss: -4.6928e-01 - my_iou_metric_2: 0.8640 - val_loss: -1.3032e-02 - val_my_iou_metric_2: 0.8019\n",
      "\n",
      "Epoch 00001: val_my_iou_metric_2 improved from -inf to 0.80187, saving model to unet_v2_5B_cv1.model\n",
      "Epoch 2/200\n",
      " - 225s - loss: -4.8711e-01 - my_iou_metric_2: 0.8661 - val_loss: -6.4787e-02 - val_my_iou_metric_2: 0.7990\n",
      "\n",
      "Epoch 00002: val_my_iou_metric_2 did not improve from 0.80187\n",
      "Epoch 3/200\n",
      " - 225s - loss: -4.7622e-01 - my_iou_metric_2: 0.8651 - val_loss: -6.1823e-02 - val_my_iou_metric_2: 0.8067\n",
      "\n",
      "Epoch 00003: val_my_iou_metric_2 improved from 0.80187 to 0.80674, saving model to unet_v2_5B_cv1.model\n",
      "Epoch 4/200\n",
      " - 225s - loss: -4.7442e-01 - my_iou_metric_2: 0.8651 - val_loss: -4.4747e-02 - val_my_iou_metric_2: 0.8057\n",
      "\n",
      "Epoch 00004: val_my_iou_metric_2 did not improve from 0.80674\n",
      "Epoch 5/200\n",
      " - 225s - loss: -4.9356e-01 - my_iou_metric_2: 0.8671 - val_loss: -4.4353e-02 - val_my_iou_metric_2: 0.8045\n",
      "\n",
      "Epoch 00005: val_my_iou_metric_2 did not improve from 0.80674\n",
      "Epoch 6/200\n",
      " - 225s - loss: -4.8556e-01 - my_iou_metric_2: 0.8652 - val_loss: -5.3038e-02 - val_my_iou_metric_2: 0.8001\n",
      "\n",
      "Epoch 00006: val_my_iou_metric_2 did not improve from 0.80674\n",
      "Epoch 7/200\n",
      " - 225s - loss: -4.9150e-01 - my_iou_metric_2: 0.8660 - val_loss: -5.8981e-02 - val_my_iou_metric_2: 0.8000\n",
      "\n",
      "Epoch 00007: val_my_iou_metric_2 did not improve from 0.80674\n",
      "Epoch 8/200\n",
      " - 225s - loss: -4.9046e-01 - my_iou_metric_2: 0.8659 - val_loss: -5.7602e-02 - val_my_iou_metric_2: 0.8027\n",
      "\n",
      "Epoch 00008: val_my_iou_metric_2 did not improve from 0.80674\n",
      "Epoch 9/200\n",
      " - 225s - loss: -4.8895e-01 - my_iou_metric_2: 0.8653 - val_loss: -6.5716e-02 - val_my_iou_metric_2: 0.8026\n",
      "\n",
      "Epoch 00009: val_my_iou_metric_2 did not improve from 0.80674\n",
      "Epoch 10/200\n",
      " - 225s - loss: -4.9245e-01 - my_iou_metric_2: 0.8678 - val_loss: -5.6476e-02 - val_my_iou_metric_2: 0.8022\n",
      "\n",
      "Epoch 00010: val_my_iou_metric_2 did not improve from 0.80674\n",
      "\n",
      "Epoch 00010: ReduceLROnPlateau reducing learning rate to 4.999999873689376e-05.\n",
      "Epoch 11/200\n",
      " - 225s - loss: -5.1433e-01 - my_iou_metric_2: 0.8719 - val_loss: -3.6900e-02 - val_my_iou_metric_2: 0.7974\n",
      "\n",
      "Epoch 00011: val_my_iou_metric_2 did not improve from 0.80674\n",
      "Epoch 12/200\n",
      " - 225s - loss: -5.1829e-01 - my_iou_metric_2: 0.8728 - val_loss: -6.2968e-02 - val_my_iou_metric_2: 0.8011\n",
      "\n",
      "Epoch 00012: val_my_iou_metric_2 did not improve from 0.80674\n",
      "Epoch 13/200\n",
      " - 225s - loss: -5.2880e-01 - my_iou_metric_2: 0.8751 - val_loss: -4.7198e-02 - val_my_iou_metric_2: 0.8040\n",
      "\n",
      "Epoch 00013: val_my_iou_metric_2 did not improve from 0.80674\n",
      "Epoch 14/200\n",
      " - 225s - loss: -5.1446e-01 - my_iou_metric_2: 0.8717 - val_loss: -5.8374e-02 - val_my_iou_metric_2: 0.7999\n",
      "\n",
      "Epoch 00014: val_my_iou_metric_2 did not improve from 0.80674\n",
      "Epoch 15/200\n",
      " - 225s - loss: -5.1988e-01 - my_iou_metric_2: 0.8729 - val_loss: -5.4039e-02 - val_my_iou_metric_2: 0.8012\n",
      "\n",
      "Epoch 00015: val_my_iou_metric_2 did not improve from 0.80674\n",
      "Epoch 16/200\n",
      " - 225s - loss: -5.3149e-01 - my_iou_metric_2: 0.8747 - val_loss: -5.4535e-02 - val_my_iou_metric_2: 0.8044\n",
      "\n",
      "Epoch 00016: val_my_iou_metric_2 did not improve from 0.80674\n",
      "Epoch 17/200\n",
      " - 225s - loss: -5.3055e-01 - my_iou_metric_2: 0.8747 - val_loss: -4.8780e-02 - val_my_iou_metric_2: 0.8037\n",
      "\n",
      "Epoch 00017: val_my_iou_metric_2 did not improve from 0.80674\n",
      "\n",
      "Epoch 00017: ReduceLROnPlateau reducing learning rate to 2.499999936844688e-05.\n",
      "Epoch 18/200\n",
      " - 225s - loss: -5.2611e-01 - my_iou_metric_2: 0.8751 - val_loss: -6.1299e-02 - val_my_iou_metric_2: 0.8049\n",
      "\n",
      "Epoch 00018: val_my_iou_metric_2 did not improve from 0.80674\n",
      "Epoch 19/200\n",
      " - 225s - loss: -5.3288e-01 - my_iou_metric_2: 0.8752 - val_loss: -6.1799e-02 - val_my_iou_metric_2: 0.8044\n",
      "\n",
      "Epoch 00019: val_my_iou_metric_2 did not improve from 0.80674\n",
      "Epoch 20/200\n",
      " - 225s - loss: -5.2446e-01 - my_iou_metric_2: 0.8765 - val_loss: -5.0693e-02 - val_my_iou_metric_2: 0.8060\n",
      "\n",
      "Epoch 00020: val_my_iou_metric_2 did not improve from 0.80674\n",
      "Epoch 21/200\n",
      " - 225s - loss: -5.4104e-01 - my_iou_metric_2: 0.8756 - val_loss: -5.0116e-02 - val_my_iou_metric_2: 0.8065\n",
      "\n",
      "Epoch 00021: val_my_iou_metric_2 did not improve from 0.80674\n",
      "Epoch 22/200\n",
      " - 225s - loss: -5.4116e-01 - my_iou_metric_2: 0.8774 - val_loss: -5.9050e-02 - val_my_iou_metric_2: 0.8087\n",
      "\n",
      "Epoch 00022: val_my_iou_metric_2 improved from 0.80674 to 0.80874, saving model to unet_v2_5B_cv1.model\n",
      "Epoch 23/200\n",
      " - 225s - loss: -5.4305e-01 - my_iou_metric_2: 0.8789 - val_loss: -5.8577e-02 - val_my_iou_metric_2: 0.8085\n",
      "\n",
      "Epoch 00023: val_my_iou_metric_2 did not improve from 0.80874\n",
      "Epoch 24/200\n",
      " - 225s - loss: -5.3767e-01 - my_iou_metric_2: 0.8765 - val_loss: -5.1532e-02 - val_my_iou_metric_2: 0.8045\n",
      "\n",
      "Epoch 00024: val_my_iou_metric_2 did not improve from 0.80874\n",
      "Epoch 25/200\n",
      " - 225s - loss: -5.4245e-01 - my_iou_metric_2: 0.8781 - val_loss: -2.7456e-02 - val_my_iou_metric_2: 0.8014\n",
      "\n",
      "Epoch 00025: val_my_iou_metric_2 did not improve from 0.80874\n",
      "Epoch 26/200\n",
      " - 225s - loss: -5.4419e-01 - my_iou_metric_2: 0.8786 - val_loss: -4.8565e-02 - val_my_iou_metric_2: 0.8047\n",
      "\n",
      "Epoch 00026: val_my_iou_metric_2 did not improve from 0.80874\n",
      "Epoch 27/200\n",
      " - 225s - loss: -5.3830e-01 - my_iou_metric_2: 0.8751 - val_loss: -3.2840e-02 - val_my_iou_metric_2: 0.8037\n",
      "\n",
      "Epoch 00027: val_my_iou_metric_2 did not improve from 0.80874\n",
      "Epoch 28/200\n",
      " - 225s - loss: -5.3724e-01 - my_iou_metric_2: 0.8757 - val_loss: -2.8782e-02 - val_my_iou_metric_2: 0.8032\n",
      "\n",
      "Epoch 00028: val_my_iou_metric_2 did not improve from 0.80874\n",
      "Epoch 29/200\n",
      " - 225s - loss: -5.3026e-01 - my_iou_metric_2: 0.8757 - val_loss: -5.8117e-02 - val_my_iou_metric_2: 0.8081\n",
      "\n",
      "Epoch 00029: val_my_iou_metric_2 did not improve from 0.80874\n",
      "\n",
      "Epoch 00029: ReduceLROnPlateau reducing learning rate to 1.249999968422344e-05.\n",
      "Epoch 30/200\n",
      " - 225s - loss: -5.4622e-01 - my_iou_metric_2: 0.8780 - val_loss: -4.1912e-02 - val_my_iou_metric_2: 0.8039\n",
      "\n",
      "Epoch 00030: val_my_iou_metric_2 did not improve from 0.80874\n",
      "Epoch 31/200\n",
      " - 225s - loss: -5.4306e-01 - my_iou_metric_2: 0.8778 - val_loss: -4.5181e-02 - val_my_iou_metric_2: 0.8062\n",
      "\n",
      "Epoch 00031: val_my_iou_metric_2 did not improve from 0.80874\n",
      "Epoch 32/200\n",
      " - 225s - loss: -5.4712e-01 - my_iou_metric_2: 0.8777 - val_loss: -4.1367e-02 - val_my_iou_metric_2: 0.8055\n",
      "\n",
      "Epoch 00032: val_my_iou_metric_2 did not improve from 0.80874\n",
      "Epoch 33/200\n",
      " - 225s - loss: -5.4551e-01 - my_iou_metric_2: 0.8796 - val_loss: -4.1485e-02 - val_my_iou_metric_2: 0.8045\n",
      "\n",
      "Epoch 00033: val_my_iou_metric_2 did not improve from 0.80874\n",
      "Epoch 34/200\n",
      " - 225s - loss: -5.5050e-01 - my_iou_metric_2: 0.8780 - val_loss: -5.0852e-02 - val_my_iou_metric_2: 0.8071\n",
      "\n",
      "Epoch 00034: val_my_iou_metric_2 did not improve from 0.80874\n",
      "Epoch 35/200\n"
     ]
    }
   ],
   "source": [
    "%%time\n",
    "history = model.fit(x_train, y_train,\n",
    "                    validation_data=[x_valid, y_valid], \n",
    "                    epochs=epochs,\n",
    "                    batch_size=batch_size,\n",
    "                    callbacks=[model_checkpoint, reduce_lr, early_stopping], \n",
    "                    verbose=2)"
   ]
  },
  {
   "cell_type": "code",
   "execution_count": null,
   "metadata": {},
   "outputs": [],
   "source": [
    "fig, (ax_loss, ax_score) = plt.subplots(1, 2, figsize=(15,5))\n",
    "ax_loss.plot(history.epoch, history.history[\"loss\"], label=\"Train loss\")\n",
    "ax_loss.plot(history.epoch, history.history[\"val_loss\"], label=\"Validation loss\")\n",
    "ax_loss.legend()\n",
    "ax_score.plot(history.epoch, history.history[\"my_iou_metric_2\"], label=\"Train score\")\n",
    "ax_score.plot(history.epoch, history.history[\"val_my_iou_metric_2\"], label=\"Validation score\")\n",
    "ax_score.legend()"
   ]
  },
  {
   "cell_type": "code",
   "execution_count": 49,
   "metadata": {
    "_uuid": "068c89f56e9e7eb1d7ecf12912996426ad87f2a6"
   },
   "outputs": [],
   "source": [
    "model = load_model(save_model_nameB,custom_objects={'my_iou_metric_2': my_iou_metric_2,\n",
    "                                                   'lovasz_loss': lovasz_loss})"
   ]
  },
  {
   "cell_type": "code",
   "execution_count": 50,
   "metadata": {
    "_uuid": "c33f2cdf50d3011f704ac934e49602bd3167c8cb"
   },
   "outputs": [],
   "source": [
    "def predict_result(model,x_test,img_size_target): # predict both orginal and reflect x\n",
    "    x_test_reflect =  np.array([np.fliplr(x) for x in x_test])\n",
    "    preds_test = model.predict(x_test).reshape(-1, img_size_target, img_size_target)\n",
    "    preds_test2_refect = model.predict(x_test_reflect).reshape(-1, img_size_target, img_size_target)\n",
    "    preds_test += np.array([ np.fliplr(x) for x in preds_test2_refect] )\n",
    "    return preds_test/2"
   ]
  },
  {
   "cell_type": "code",
   "execution_count": 51,
   "metadata": {
    "_uuid": "ec38f74adccf2d265cac160311c0998fefc76ec6"
   },
   "outputs": [],
   "source": [
    "preds_valid = predict_result(model,x_valid,img_size_target)"
   ]
  },
  {
   "cell_type": "code",
   "execution_count": 52,
   "metadata": {
    "_uuid": "6794a936dd110f0d4ecc23206c53af7cd0f4a587"
   },
   "outputs": [],
   "source": [
    "#Score the model and do a threshold optimization by the best IoU.\n",
    "\n",
    "# src: https://www.kaggle.com/aglotero/another-iou-metric\n",
    "def iou_metric(y_true_in, y_pred_in, print_table=False):\n",
    "    labels = y_true_in\n",
    "    y_pred = y_pred_in\n",
    "\n",
    "\n",
    "    true_objects = 2\n",
    "    pred_objects = 2\n",
    "\n",
    "    #  if all zeros, original code  generate wrong  bins [-0.5 0 0.5],\n",
    "    temp1 = np.histogram2d(labels.flatten(), y_pred.flatten(), bins=([0,0.5,1], [0,0.5, 1]))\n",
    "#     temp1 = np.histogram2d(labels.flatten(), y_pred.flatten(), bins=(true_objects, pred_objects))\n",
    "    #print(temp1)\n",
    "    intersection = temp1[0]\n",
    "    #print(\"temp2 = \",temp1[1])\n",
    "    #print(intersection.shape)\n",
    "   # print(intersection)\n",
    "    # Compute areas (needed for finding the union between all objects)\n",
    "    #print(np.histogram(labels, bins = true_objects))\n",
    "    area_true = np.histogram(labels,bins=[0,0.5,1])[0]\n",
    "    #print(\"area_true = \",area_true)\n",
    "    area_pred = np.histogram(y_pred, bins=[0,0.5,1])[0]\n",
    "    area_true = np.expand_dims(area_true, -1)\n",
    "    area_pred = np.expand_dims(area_pred, 0)\n",
    "\n",
    "    # Compute union\n",
    "    union = area_true + area_pred - intersection\n",
    "  \n",
    "    # Exclude background from the analysis\n",
    "    intersection = intersection[1:,1:]\n",
    "    intersection[intersection == 0] = 1e-9\n",
    "    \n",
    "    union = union[1:,1:]\n",
    "    union[union == 0] = 1e-9\n",
    "\n",
    "    # Compute the intersection over union\n",
    "    iou = intersection / union\n",
    "    # Precision helper function\n",
    "    def precision_at(threshold, iou):\n",
    "        matches = iou > threshold\n",
    "        true_positives = np.sum(matches, axis=1) == 1   # Correct objects\n",
    "        false_positives = np.sum(matches, axis=0) == 0  # Missed objects\n",
    "        false_negatives = np.sum(matches, axis=1) == 0  # Extra objects\n",
    "        tp, fp, fn = np.sum(true_positives), np.sum(false_positives), np.sum(false_negatives)\n",
    "        return tp, fp, fn\n",
    "\n",
    "    # Loop over IoU thresholds\n",
    "    prec = []\n",
    "    if print_table:\n",
    "        print(\"Thresh\\tTP\\tFP\\tFN\\tPrec.\")\n",
    "    for t in np.arange(0.5, 1.0, 0.05):\n",
    "        tp, fp, fn = precision_at(t, iou)\n",
    "        if (tp + fp + fn) > 0:\n",
    "            p = tp / (tp + fp + fn)\n",
    "        else:\n",
    "            p = 0\n",
    "        if print_table:\n",
    "            print(\"{:1.3f}\\t{}\\t{}\\t{}\\t{:1.3f}\".format(t, tp, fp, fn, p))\n",
    "        prec.append(p)\n",
    "        \n",
    "    if print_table:\n",
    "        print(\"AP\\t-\\t-\\t-\\t{:1.3f}\".format(np.mean(prec)))\n",
    "    return np.mean(prec)\n",
    "\n",
    "def iou_metric_batch(y_true_in, y_pred_in):\n",
    "    batch_size = y_true_in.shape[0]\n",
    "    metric = []\n",
    "    for batch in range(batch_size):\n",
    "        value = iou_metric(y_true_in[batch], y_pred_in[batch])\n",
    "        metric.append(value)\n",
    "    return np.mean(metric)"
   ]
  },
  {
   "cell_type": "code",
   "execution_count": 53,
   "metadata": {
    "_uuid": "6d96072932f985336021cd115cb6bb13058618a8"
   },
   "outputs": [
    {
     "data": {
      "application/vnd.jupyter.widget-view+json": {
       "model_id": "513965fa989846e0893036bb7b852e84",
       "version_major": 2,
       "version_minor": 0
      },
      "text/plain": [
       "HBox(children=(IntProgress(value=0, max=31), HTML(value='')))"
      ]
     },
     "metadata": {},
     "output_type": "display_data"
    },
    {
     "name": "stdout",
     "output_type": "stream",
     "text": [
      "\n",
      "[0.80586767 0.80636704 0.80661673 0.80699126 0.8071161  0.80774032\n",
      " 0.80799001 0.8071161  0.80736579 0.80724095 0.80724095 0.80886392\n",
      " 0.80923845 0.80898876 0.80998752 0.80948814 0.80948814 0.80898876\n",
      " 0.80923845 0.80998752 0.8093633  0.81273408 0.81161049 0.81123596\n",
      " 0.81048689 0.8102372  0.81073658 0.81048689 0.80986267 0.80898876\n",
      " 0.80774032]\n"
     ]
    }
   ],
   "source": [
    "## Scoring for last model, choose threshold by validation data \n",
    "thresholds_ori = np.linspace(0.3, 0.7, 31)\n",
    "# Reverse sigmoid function: Use code below because the  sigmoid activation was removed\n",
    "thresholds = np.log(thresholds_ori/(1-thresholds_ori)) \n",
    "\n",
    "# ious = np.array([get_iou_vector(y_valid, preds_valid > threshold) for threshold in tqdm_notebook(thresholds)])\n",
    "# print(ious)\n",
    "ious = np.array([iou_metric_batch(y_valid, preds_valid > threshold) for threshold in tqdm_notebook(thresholds)])\n",
    "print(ious)"
   ]
  },
  {
   "cell_type": "code",
   "execution_count": 54,
   "metadata": {
    "_uuid": "ce197d87cf44fef681025160cba8e4081d15ed50"
   },
   "outputs": [
    {
     "data": {
      "text/plain": [
       "<matplotlib.legend.Legend at 0x7f60bc09ae10>"
      ]
     },
     "execution_count": 54,
     "metadata": {},
     "output_type": "execute_result"
    },
    {
     "data": {
      "image/png": "[encoded data removed]",
      "text/plain": [
       "<Figure size 432x288 with 1 Axes>"
      ]
     },
     "metadata": {
      "needs_background": "light"
     },
     "output_type": "display_data"
    }
   ],
   "source": [
    "threshold_best_index = np.argmax(ious)\n",
    "iou_best = ious[threshold_best_index]\n",
    "threshold_best = thresholds[threshold_best_index]\n",
    "\n",
    "plt.plot(thresholds, ious)\n",
    "plt.plot(threshold_best, iou_best, 'xr', label='Best threshold')\n",
    "plt.xlabel(\"Threshold\")\n",
    "plt.ylabel(\"IoU\")\n",
    "plt.title(\"Threshold vs IoU ({}, {})\".format(threshold_best, iou_best))\n",
    "plt.legend()"
   ]
  },
  {
   "cell_type": "code",
   "execution_count": 55,
   "metadata": {
    "_uuid": "2633e0c50ddb705021a35441c6a19fae9312603e"
   },
   "outputs": [],
   "source": [
    "def rle_encode(im):\n",
    "    '''\n",
    "    im: numpy array, 1-mask, 0-background\n",
    "    Returns run length as string\n",
    "    '''\n",
    "    pixels = im.flatten(order='F')\n",
    "    pixels = np.concatenate([[0], pixels, [0]])\n",
    "    runs = np.where(pixels[1:] != pixels[:-1])[0] + 1\n",
    "    runs[1::2] -= runs[::2]\n",
    "    return ' '.join(str(x) for x in runs)"
   ]
  },
  {
   "cell_type": "code",
   "execution_count": 57,
   "metadata": {
    "_uuid": "3c29b25a37ceb7476bc0264ea3a97dc705e07607"
   },
   "outputs": [
    {
     "data": {
      "application/vnd.jupyter.widget-view+json": {
       "model_id": "c6c5a8ac235e4fe0a38bbcaefa814046",
       "version_major": 2,
       "version_minor": 0
      },
      "text/plain": [
       "HBox(children=(IntProgress(value=0, max=18000), HTML(value='')))"
      ]
     },
     "metadata": {},
     "output_type": "display_data"
    }
   ],
   "source": [
    "x_test = np.array([(np.array(load_img(f\"{DATA_DIR}test/images/{idx}.png\", color_mode='grayscale'))) / 255 for idx in tqdm_notebook(test_df.index)]).reshape(-1, img_size_target, img_size_target, 1)"
   ]
  },
  {
   "cell_type": "code",
   "execution_count": 58,
   "metadata": {
    "_uuid": "e129e7c3e525b884322570ed37da825cd89db290"
   },
   "outputs": [],
   "source": [
    "preds_test = predict_result(model,x_test,img_size_target)"
   ]
  },
  {
   "cell_type": "code",
   "execution_count": 59,
   "metadata": {
    "_uuid": "aac939d180585abab6dd497a45f81e3df67b25a8"
   },
   "outputs": [
    {
     "data": {
      "application/vnd.jupyter.widget-view+json": {
       "model_id": "d1512b52389b4414865257c4e1213a45",
       "version_major": 2,
       "version_minor": 0
      },
      "text/plain": [
       "HBox(children=(IntProgress(value=0, max=18000), HTML(value='')))"
      ]
     },
     "metadata": {},
     "output_type": "display_data"
    }
   ],
   "source": [
    "pred_dict = {idx: rle_encode(np.round(downsample(preds_test[i]) > threshold_best)) for i, idx in enumerate(tqdm_notebook(test_df.index.values))}"
   ]
  },
  {
   "cell_type": "code",
   "execution_count": 60,
   "metadata": {
    "_uuid": "2d6ef314f368bf9923285007e7098c068af049d9"
   },
   "outputs": [],
   "source": [
    "sub = pd.DataFrame.from_dict(pred_dict,orient='index')\n",
    "sub.index.names = ['id']\n",
    "sub.columns = ['rle_mask']\n",
    "sub.to_csv(submission_file)"
   ]
  },
  {
   "cell_type": "code",
   "execution_count": 61,
   "metadata": {
    "_uuid": "ae636758e7abdc7fb87768cbfb2c6f18f8c1975f"
   },
   "outputs": [
    {
     "name": "stdout",
     "output_type": "stream",
     "text": [
      "Kernel run time = 0.08618407196468778 hours\n"
     ]
    }
   ],
   "source": [
    "t_finish = time.time()\n",
    "print(f\"Kernel run time = {(t_finish-t_start)/3600} hours\")"
   ]
  },
  {
   "cell_type": "code",
   "execution_count": null,
   "metadata": {},
   "outputs": [],
   "source": []
  }
 ],
 "metadata": {
  "kernelspec": {
   "display_name": "Python 3",
   "language": "python",
   "name": "python3"
  },
  "language_info": {
   "codemirror_mode": {
    "name": "ipython",
    "version": 3
   },
   "file_extension": ".py",
   "mimetype": "text/x-python",
   "name": "python",
   "nbconvert_exporter": "python",
   "pygments_lexer": "ipython3",
   "version": "3.6.6"
  },
  "toc": {
   "base_numbering": 1,
   "nav_menu": {},
   "number_sections": true,
   "sideBar": true,
   "skip_h1_title": false,
   "title_cell": "Table of Contents",
   "title_sidebar": "Contents",
   "toc_cell": false,
   "toc_position": {},
   "toc_section_display": true,
   "toc_window_display": false
  }
 },
 "nbformat": 4,
 "nbformat_minor": 1
}
