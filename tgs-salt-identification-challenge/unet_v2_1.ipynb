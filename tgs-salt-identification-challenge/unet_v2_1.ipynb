{
 "cells": [
  {
   "cell_type": "markdown",
   "metadata": {},
   "source": [
    "# Import Dependencies"
   ]
  },
  {
   "cell_type": "code",
   "execution_count": 1,
   "metadata": {
    "_cell_guid": "b1076dfc-b9ad-4769-8c92-a6c4dae69d19",
    "_uuid": "8f2839f25d086af736a60e9eeb907d3b93b6e0e5"
   },
   "outputs": [
    {
     "name": "stderr",
     "output_type": "stream",
     "text": [
      "Using TensorFlow backend.\n"
     ]
    }
   ],
   "source": [
    "import os\n",
    "import sys\n",
    "import random\n",
    "import numpy as np\n",
    "import pandas as pd\n",
    "import matplotlib.pyplot as plt\n",
    "plt.style.use('seaborn-white')\n",
    "import seaborn as sns\n",
    "sns.set_style('white')\n",
    "\n",
    "%matplotlib inline\n",
    "\n",
    "from sklearn.model_selection import train_test_split\n",
    "\n",
    "from tqdm import tqdm_notebook\n",
    "\n",
    "from skimage.io import imread, imshow\n",
    "from skimage.transform import resize\n",
    "from skimage.morphology import label\n",
    "\n",
    "from keras.models import Model, load_model, save_model\n",
    "from keras.layers import Input, Dropout, BatchNormalization, Activation, Add\n",
    "from keras.layers.core import Lambda\n",
    "from keras.layers.convolutional import Conv2D, Conv2DTranspose\n",
    "from keras.layers.pooling import MaxPooling2D\n",
    "from keras.layers.merge import concatenate\n",
    "from keras.callbacks import EarlyStopping, ModelCheckpoint, ReduceLROnPlateau\n",
    "from keras import backend as K\n",
    "from keras import optimizers\n",
    "import tensorflow as tf\n",
    "from keras.preprocessing.image import array_to_img, img_to_array, load_img\n",
    "\n",
    "import time\n",
    "t_start = time.time()"
   ]
  },
  {
   "cell_type": "code",
   "execution_count": 2,
   "metadata": {},
   "outputs": [
    {
     "name": "stdout",
     "output_type": "stream",
     "text": [
      "1.10.1\n"
     ]
    }
   ],
   "source": [
    "print(tf.__version__)"
   ]
  },
  {
   "cell_type": "markdown",
   "metadata": {},
   "source": [
    "# Pre-process Data"
   ]
  },
  {
   "cell_type": "code",
   "execution_count": 3,
   "metadata": {},
   "outputs": [],
   "source": [
    "DATA_DIR = 'data/salt/'"
   ]
  },
  {
   "cell_type": "code",
   "execution_count": 4,
   "metadata": {
    "_cell_guid": "79c7e3d0-c299-4dcb-8224-4455121ee9b0",
    "_uuid": "d629ff2d2480ee46fbb7e2d37f6b5fab8052498a"
   },
   "outputs": [
    {
     "name": "stdout",
     "output_type": "stream",
     "text": [
      "unet_v2_1.model\n",
      "unet_v2_1B.model\n",
      "unet_v2_1.csv\n"
     ]
    }
   ],
   "source": [
    "version = 1\n",
    "basic_name = f'unet_v2_{version}'\n",
    "save_model_name = basic_name + '.model'\n",
    "save_model_nameB = basic_name + 'B.model'\n",
    "submission_file = basic_name + '.csv'\n",
    "\n",
    "print(save_model_name)\n",
    "print(save_model_nameB)\n",
    "print(submission_file)"
   ]
  },
  {
   "cell_type": "code",
   "execution_count": 5,
   "metadata": {
    "_uuid": "4a7f9e82027f04b17b56c177a1831abf25abe2c8"
   },
   "outputs": [],
   "source": [
    "img_size_ori = 101\n",
    "img_size_target = 101\n",
    "\n",
    "def upsample(img):# not used\n",
    "    if img_size_ori == img_size_target:\n",
    "        return img\n",
    "    return resize(img, (img_size_target, img_size_target), mode='constant', preserve_range=True)\n",
    "    \n",
    "def downsample(img):# not used\n",
    "    if img_size_ori == img_size_target:\n",
    "        return img\n",
    "    return resize(img, (img_size_ori, img_size_ori), mode='constant', preserve_range=True)"
   ]
  },
  {
   "cell_type": "code",
   "execution_count": 6,
   "metadata": {
    "_uuid": "419fa6e1ad5218241f08f954453fa3899de8e2e7"
   },
   "outputs": [
    {
     "data": {
      "text/plain": [
       "4000"
      ]
     },
     "execution_count": 6,
     "metadata": {},
     "output_type": "execute_result"
    }
   ],
   "source": [
    "# Loading of training/testing ids and depths\n",
    "train_df = pd.read_csv(f\"{DATA_DIR}train.csv\", index_col=\"id\", usecols=[0])\n",
    "depths_df = pd.read_csv(f\"{DATA_DIR}depths.csv\", index_col=\"id\")\n",
    "train_df = train_df.join(depths_df)\n",
    "test_df = depths_df[~depths_df.index.isin(train_df.index)]\n",
    "\n",
    "len(train_df)"
   ]
  },
  {
   "cell_type": "code",
   "execution_count": 7,
   "metadata": {
    "_uuid": "fc276e696e66de8ab00b68dce1863fa55eb5023d"
   },
   "outputs": [
    {
     "data": {
      "application/vnd.jupyter.widget-view+json": {
       "model_id": "ce0e6f54811d4ec2b0f90008cf0935be",
       "version_major": 2,
       "version_minor": 0
      },
      "text/plain": [
       "HBox(children=(IntProgress(value=0, max=4000), HTML(value='')))"
      ]
     },
     "metadata": {},
     "output_type": "display_data"
    },
    {
     "name": "stdout",
     "output_type": "stream",
     "text": [
      "\n"
     ]
    }
   ],
   "source": [
    "train_df[\"images\"] = [np.array(load_img(f\"{DATA_DIR}train/images/{idx}.png\", color_mode='grayscale')) / 255 for idx in tqdm_notebook(train_df.index)]"
   ]
  },
  {
   "cell_type": "code",
   "execution_count": 8,
   "metadata": {
    "_uuid": "a2339c6c3b81280839f05269b2314be4541fa5c4"
   },
   "outputs": [
    {
     "data": {
      "application/vnd.jupyter.widget-view+json": {
       "model_id": "f12db9230e874038bc3ce58bbc362a0c",
       "version_major": 2,
       "version_minor": 0
      },
      "text/plain": [
       "HBox(children=(IntProgress(value=0, max=4000), HTML(value='')))"
      ]
     },
     "metadata": {},
     "output_type": "display_data"
    },
    {
     "name": "stdout",
     "output_type": "stream",
     "text": [
      "\n"
     ]
    }
   ],
   "source": [
    "train_df[\"masks\"] = [np.array(load_img(f\"{DATA_DIR}train/masks/{idx}.png\", color_mode='grayscale')) / 255 for idx in tqdm_notebook(train_df.index)]"
   ]
  },
  {
   "cell_type": "code",
   "execution_count": 9,
   "metadata": {},
   "outputs": [
    {
     "data": {
      "text/plain": [
       "4000"
      ]
     },
     "execution_count": 9,
     "metadata": {},
     "output_type": "execute_result"
    }
   ],
   "source": [
    "len(train_df)"
   ]
  },
  {
   "cell_type": "code",
   "execution_count": 10,
   "metadata": {},
   "outputs": [
    {
     "data": {
      "text/plain": [
       "3955"
      ]
     },
     "execution_count": 10,
     "metadata": {},
     "output_type": "execute_result"
    }
   ],
   "source": [
    "low_pix_list = train_df.masks[(train_df.masks.map(np.sum)<=10) & (train_df.masks.map(np.sum)>0)].index\n",
    "train_df = train_df.drop(low_pix_list, axis=0)\n",
    "len(train_df)"
   ]
  },
  {
   "cell_type": "code",
   "execution_count": 11,
   "metadata": {
    "_uuid": "cbacf34c7506a867795260a9c615cb4427d62c2d"
   },
   "outputs": [],
   "source": [
    "train_df[\"coverage\"] = train_df.masks.map(np.sum) / pow(img_size_ori, 2)\n",
    "\n",
    "def cov_to_class(val):    \n",
    "    for i in range(0, 11):\n",
    "        if val * 10 <= i :\n",
    "            return i\n",
    "        \n",
    "train_df[\"coverage_class\"] = train_df.coverage.map(cov_to_class)"
   ]
  },
  {
   "cell_type": "code",
   "execution_count": 12,
   "metadata": {
    "_uuid": "c535341361ea08ec77f6821719b7045f308895d3"
   },
   "outputs": [
    {
     "data": {
      "text/plain": [
       "Text(0.5, 0, 'Coverage class')"
      ]
     },
     "execution_count": 12,
     "metadata": {},
     "output_type": "execute_result"
    },
    {
     "data": {
      "image/png": "[encoded data removed]",
      "text/plain": [
       "<Figure size 1080x360 with 2 Axes>"
      ]
     },
     "metadata": {
      "needs_background": "light"
     },
     "output_type": "display_data"
    }
   ],
   "source": [
    "fig, axs = plt.subplots(1, 2, figsize=(15,5))\n",
    "sns.distplot(train_df.coverage, kde=False, ax=axs[0])\n",
    "sns.distplot(train_df.coverage_class, bins=10, kde=False, ax=axs[1])\n",
    "plt.suptitle(\"Salt coverage\")\n",
    "axs[0].set_xlabel(\"Coverage\")\n",
    "axs[1].set_xlabel(\"Coverage class\")"
   ]
  },
  {
   "cell_type": "code",
   "execution_count": 13,
   "metadata": {
    "_uuid": "d150fb85dd998ab4dd241c66e52d247ab667dce0"
   },
   "outputs": [
    {
     "data": {
      "text/plain": [
       "Text(0.5, 1.0, 'Depth distribution')"
      ]
     },
     "execution_count": 13,
     "metadata": {},
     "output_type": "execute_result"
    },
    {
     "data": {
      "image/png": "[encoded data removed]",
      "text/plain": [
       "<Figure size 432x288 with 1 Axes>"
      ]
     },
     "metadata": {
      "needs_background": "light"
     },
     "output_type": "display_data"
    }
   ],
   "source": [
    "# Plotting the depth distributions\n",
    "\n",
    "sns.distplot(train_df.z, label=\"Train\")\n",
    "sns.distplot(test_df.z, label=\"Test\")\n",
    "plt.legend()\n",
    "plt.title(\"Depth distribution\")"
   ]
  },
  {
   "cell_type": "markdown",
   "metadata": {},
   "source": [
    "# Split Data"
   ]
  },
  {
   "cell_type": "code",
   "execution_count": 14,
   "metadata": {
    "_uuid": "2ea5c45300c08b06c60548dd09831cff38878551"
   },
   "outputs": [],
   "source": [
    "# Create train/validation split stratified by salt coverage\n",
    "ids_train, ids_valid, x_train, x_valid, y_train, y_valid, cov_train, cov_test, depth_train, depth_test = \\\n",
    "train_test_split(train_df.index.values, \n",
    "                 np.array(train_df.images.map(upsample).tolist()).reshape(-1, img_size_target, img_size_target, 1),\n",
    "                 np.array(train_df.masks.map(upsample).tolist()).reshape(-1, img_size_target, img_size_target, 1),\n",
    "                 train_df.coverage.values, \n",
    "                 train_df.z.values, \n",
    "                 test_size=0.2, stratify=train_df.coverage_class, random_state=555)"
   ]
  },
  {
   "cell_type": "markdown",
   "metadata": {},
   "source": [
    "# Model Definitions"
   ]
  },
  {
   "cell_type": "code",
   "execution_count": 15,
   "metadata": {
    "_uuid": "92fe9e2757add49ffb55b4824aa3d833919efde5"
   },
   "outputs": [],
   "source": [
    "def BatchActivate(x):\n",
    "    x = BatchNormalization()(x)\n",
    "    x = Activation('relu')(x)\n",
    "    return x\n",
    "\n",
    "def convolution_block(x, filters, size, strides=(1,1), padding='same', activation=True):\n",
    "    x = Conv2D(filters, size, strides=strides, padding=padding)(x)\n",
    "    if activation==True: x = BatchActivate(x)\n",
    "    return x\n",
    "\n",
    "def residual_block(blockInput, num_filters=16, batch_activate=False):\n",
    "    x = BatchActivate(blockInput)\n",
    "    x = convolution_block(x, num_filters, (3,3))\n",
    "    x = convolution_block(x, num_filters, (3,3), activation=False)\n",
    "    x = Add()([x, blockInput])\n",
    "    if batch_activate: x = BatchActivate(x)\n",
    "    return x"
   ]
  },
  {
   "cell_type": "code",
   "execution_count": 16,
   "metadata": {
    "_uuid": "e9dfb108c78c80848dc4155a811dae46aec829f9"
   },
   "outputs": [],
   "source": [
    "# Build Model\n",
    "def build_model(input_layer, start_neurons, DropoutRatio=0.5):\n",
    "    # 101 -> 50\n",
    "    conv1 = Conv2D(start_neurons*1, (3,3), activation=None, padding='same')(input_layer)\n",
    "    conv1 = residual_block(conv1, start_neurons*1)\n",
    "    conv1 = residual_block(conv1, start_neurons*1, True)\n",
    "    pool1 = MaxPooling2D((2,2))(conv1)\n",
    "    pool1 = Dropout(DropoutRatio/2)(pool1)\n",
    "    \n",
    "    # 50 -> 25\n",
    "    conv2 = Conv2D(start_neurons*2, (3,3), activation=None, padding='same')(pool1)\n",
    "    conv2 = residual_block(conv2, start_neurons*2)\n",
    "    conv2 = residual_block(conv2, start_neurons*2, True)\n",
    "    pool2 = MaxPooling2D((2,2))(conv2)\n",
    "    pool2 = Dropout(DropoutRatio)(pool2)\n",
    "    \n",
    "    # 25 -> 12\n",
    "    conv3 = Conv2D(start_neurons*4, (3,3), activation=None, padding='same')(pool2)\n",
    "    conv3 = residual_block(conv3, start_neurons*4)\n",
    "    conv3 = residual_block(conv3, start_neurons*4, True)\n",
    "    pool3 = MaxPooling2D((2,2))(conv3)\n",
    "    pool3 = Dropout(DropoutRatio)(pool3)\n",
    "    \n",
    "    # 12 -> 6\n",
    "    conv4 = Conv2D(start_neurons*8, (3,3), activation=None, padding='same')(pool3)\n",
    "    conv4 = residual_block(conv4, start_neurons*8)\n",
    "    conv4 = residual_block(conv4, start_neurons*8, True)\n",
    "    pool4 = MaxPooling2D((2,2))(conv4)\n",
    "    pool4 = Dropout(DropoutRatio)(pool4)\n",
    "    \n",
    "    # Middle\n",
    "    convm = Conv2D(start_neurons*16, (3,3), activation=None, padding='same')(pool4)\n",
    "    convm = residual_block(convm, start_neurons*16)\n",
    "    convm = residual_block(convm, start_neurons*16, True)\n",
    "    \n",
    "    # 6 -> 12\n",
    "    deconv4 = Conv2DTranspose(start_neurons*8, (3,3), strides=(2,2), padding='same')(convm)\n",
    "    uconv4 = concatenate([deconv4, conv4])\n",
    "    uconv4 = Dropout(DropoutRatio)(uconv4)\n",
    "    \n",
    "    uconv4 = Conv2D(start_neurons*8, (3,3), activation=None, padding='same')(uconv4)\n",
    "    uconv4 = residual_block(uconv4, start_neurons*8)\n",
    "    uconv4 = residual_block(uconv4, start_neurons*8, True)\n",
    "    \n",
    "    # 12 -> 25\n",
    "    deconv3 = Conv2DTranspose(start_neurons*4, (3,3), strides=(2,2), padding='valid')(uconv4)\n",
    "    uconv3 = concatenate([deconv3, conv3])\n",
    "    uconv3 = Dropout(DropoutRatio)(uconv3)\n",
    "    \n",
    "    uconv3 = Conv2D(start_neurons*4, (3,3), activation=None, padding='same')(uconv3)\n",
    "    uconv3 = residual_block(uconv3, start_neurons*4)\n",
    "    uconv3 = residual_block(uconv3, start_neurons*4, True)\n",
    "    \n",
    "    # 25 -> 50\n",
    "    deconv2 = Conv2DTranspose(start_neurons*2, (3,3), strides=(2,2), padding='same')(uconv3)\n",
    "    uconv2 = concatenate([deconv2, conv2])\n",
    "    uconv2 = Dropout(DropoutRatio)(uconv2)\n",
    "    \n",
    "    uconv2 = Conv2D(start_neurons*2, (3,3), activation=None, padding='same')(uconv2)\n",
    "    uconv2 = residual_block(uconv2, start_neurons*2)\n",
    "    uconv2 = residual_block(uconv2, start_neurons*2, True)\n",
    "    \n",
    "    # 50 -> 101\n",
    "    deconv1 = Conv2DTranspose(start_neurons*1, (3,3), strides=(2,2), padding='valid')(uconv2)\n",
    "    uconv1 = concatenate([deconv1, conv1])\n",
    "    uconv1 = Dropout(DropoutRatio)(uconv1)\n",
    "    \n",
    "    uconv1 = Conv2D(start_neurons*1, (3,3), activation=None, padding='same')(uconv1)\n",
    "    uconv1 = residual_block(uconv1, start_neurons*1)\n",
    "    uconv1 = residual_block(uconv1, start_neurons*1, True)\n",
    "    \n",
    "    output_layer_noActi = Conv2D(1, (1,1), padding='same', activation=None)(uconv1)\n",
    "    output_layer = Activation('sigmoid')(output_layer_noActi)\n",
    "    \n",
    "    return output_layer"
   ]
  },
  {
   "cell_type": "markdown",
   "metadata": {},
   "source": [
    "# Metric Loss"
   ]
  },
  {
   "cell_type": "code",
   "execution_count": 17,
   "metadata": {
    "_uuid": "e4ee11d11d6a42da26b699cbf9ce5f005de91968"
   },
   "outputs": [],
   "source": [
    "def get_iou_vector(A, B):\n",
    "    batch_size = A.shape[0]\n",
    "    metric = []\n",
    "    for batch in range(batch_size):\n",
    "        t, p = A[batch]>0, B[batch]>0\n",
    "        intersection = np.logical_and(t, p)\n",
    "        union = np.logical_or(t, p)\n",
    "        iou = (np.sum(intersection > 0) + 1e-10 )/ (np.sum(union > 0) + 1e-10)\n",
    "        thresholds = np.arange(0.5, 1, 0.05)\n",
    "        s = []\n",
    "        for thresh in thresholds:\n",
    "            s.append(iou > thresh)\n",
    "        metric.append(np.mean(s))\n",
    "        \n",
    "    return np.mean(metric)\n",
    "\n",
    "def my_iou_metric(label, pred):\n",
    "    return tf.py_func(get_iou_vector, [label, pred>0.5], tf.float64)\n",
    "\n",
    "def my_iou_metric_2(label, pred):\n",
    "    return tf.py_func(get_iou_vector, [label, pred >0], tf.float64)"
   ]
  },
  {
   "cell_type": "code",
   "execution_count": 18,
   "metadata": {
    "_uuid": "72fdacfe6a31500522f7d4c6ba858120b93bc39d"
   },
   "outputs": [],
   "source": [
    "# code download from: https://github.com/bermanmaxim/LovaszSoftmax\n",
    "def lovasz_grad(gt_sorted):\n",
    "    \"\"\"\n",
    "    Computes gradient of the Lovasz extension w.r.t sorted errors\n",
    "    See Alg. 1 in paper\n",
    "    \"\"\"\n",
    "    gts = tf.reduce_sum(gt_sorted)\n",
    "    intersection = gts - tf.cumsum(gt_sorted)\n",
    "    union = gts + tf.cumsum(1. - gt_sorted)\n",
    "    jaccard = 1. - intersection / union\n",
    "    jaccard = tf.concat((jaccard[0:1], jaccard[1:] - jaccard[:-1]), 0)\n",
    "    return jaccard\n",
    "\n",
    "# --------------------------- BINARY LOSSES ---------------------------\n",
    "\n",
    "def lovasz_hinge(logits, labels, per_image=True, ignore=None):\n",
    "    \"\"\"\n",
    "    Binary Lovasz hinge loss\n",
    "      logits: [B, H, W] Variable, logits at each pixel (between -\\infty and +\\infty)\n",
    "      labels: [B, H, W] Tensor, binary ground truth masks (0 or 1)\n",
    "      per_image: compute the loss per image instead of per batch\n",
    "      ignore: void class id\n",
    "    \"\"\"\n",
    "    if per_image:\n",
    "        def treat_image(log_lab):\n",
    "            log, lab = log_lab\n",
    "            log, lab = tf.expand_dims(log, 0), tf.expand_dims(lab, 0)\n",
    "            log, lab = flatten_binary_scores(log, lab, ignore)\n",
    "            return lovasz_hinge_flat(log, lab)\n",
    "        losses = tf.map_fn(treat_image, (logits, labels), dtype=tf.float32)\n",
    "        loss = tf.reduce_mean(losses)\n",
    "    else:\n",
    "        loss = lovasz_hinge_flat(*flatten_binary_scores(logits, labels, ignore))\n",
    "    return loss\n",
    "\n",
    "def lovasz_hinge_flat(logits, labels):\n",
    "    \"\"\"\n",
    "    Binary Lovasz hinge loss\n",
    "      logits: [P] Variable, logits at each prediction (between -\\infty and +\\infty)\n",
    "      labels: [P] Tensor, binary ground truth labels (0 or 1)\n",
    "      ignore: label to ignore\n",
    "    \"\"\"\n",
    "\n",
    "    def compute_loss():\n",
    "        labelsf = tf.cast(labels, logits.dtype)\n",
    "        signs = 2. * labelsf - 1.\n",
    "        errors = 1. - logits * tf.stop_gradient(signs)\n",
    "        errors_sorted, perm = tf.nn.top_k(errors, k=tf.shape(errors)[0], name=\"descending_sort\")\n",
    "        gt_sorted = tf.gather(labelsf, perm)\n",
    "        grad = lovasz_grad(gt_sorted)\n",
    "        loss = tf.tensordot(tf.nn.elu(errors_sorted), tf.stop_gradient(grad), 1, name=\"loss_non_void\")\n",
    "        return loss\n",
    "\n",
    "    # deal with the void prediction case (only void pixels)\n",
    "    loss = tf.cond(tf.equal(tf.shape(logits)[0], 0),\n",
    "                   lambda: tf.reduce_sum(logits) * 0.,\n",
    "                   compute_loss,\n",
    "                   strict=True,\n",
    "                   name=\"loss\"\n",
    "                   )\n",
    "    return loss\n",
    "\n",
    "\n",
    "def flatten_binary_scores(scores, labels, ignore=None):\n",
    "    \"\"\"\n",
    "    Flattens predictions in the batch (binary case)\n",
    "    Remove labels equal to 'ignore'\n",
    "    \"\"\"\n",
    "    scores = tf.reshape(scores, (-1,))\n",
    "    labels = tf.reshape(labels, (-1,))\n",
    "    if ignore is None:\n",
    "        return scores, labels\n",
    "    valid = tf.not_equal(labels, ignore)\n",
    "    vscores = tf.boolean_mask(scores, valid, name='valid_scores')\n",
    "    vlabels = tf.boolean_mask(labels, valid, name='valid_labels')\n",
    "    return vscores, vlabels\n",
    "\n",
    "def lovasz_loss(y_true, y_pred):\n",
    "    y_true, y_pred = K.cast(K.squeeze(y_true, -1), 'int32'), K.cast(K.squeeze(y_pred, -1), 'float32')\n",
    "    #logits = K.log(y_pred / (1. - y_pred))\n",
    "    logits = y_pred #Jiaxin\n",
    "    loss = lovasz_hinge(logits, y_true, per_image = True, ignore = None)\n",
    "    return loss"
   ]
  },
  {
   "cell_type": "markdown",
   "metadata": {},
   "source": [
    "# Data augmentation"
   ]
  },
  {
   "cell_type": "code",
   "execution_count": 19,
   "metadata": {
    "_uuid": "3a4ffe206d6ea50da3d8ccb8ec8d219a2e6cca94"
   },
   "outputs": [
    {
     "name": "stdout",
     "output_type": "stream",
     "text": [
      "(6328, 101, 101, 1)\n",
      "(791, 101, 101, 1)\n"
     ]
    }
   ],
   "source": [
    "x_train = np.append(x_train, [np.fliplr(x) for x in x_train], axis=0)\n",
    "y_train = np.append(y_train, [np.fliplr(x) for x in y_train], axis=0)\n",
    "print(x_train.shape)\n",
    "print(y_valid.shape)"
   ]
  },
  {
   "cell_type": "markdown",
   "metadata": {},
   "source": [
    "# Build Model"
   ]
  },
  {
   "cell_type": "code",
   "execution_count": 20,
   "metadata": {
    "_uuid": "a58d48a4974b7381a193615e54a828a211c92308"
   },
   "outputs": [],
   "source": [
    "input_layer = Input((img_size_target, img_size_target, 1))\n",
    "output_layer = build_model(input_layer, 16, 0.5)\n",
    "\n",
    "model1 = Model(input_layer, output_layer)\n",
    "\n",
    "c = optimizers.adam(lr=0.005)\n",
    "model1.compile(loss=\"binary_crossentropy\", optimizer=c, metrics=[my_iou_metric])\n",
    "\n",
    "# model1.summary()"
   ]
  },
  {
   "cell_type": "code",
   "execution_count": 21,
   "metadata": {
    "_uuid": "bd402f81e3d8e0aad30b7c63836cb9d488105cef"
   },
   "outputs": [],
   "source": [
    "early_stopping = EarlyStopping(monitor='val_my_iou_metric', mode='max', patience=20, verbose=1)\n",
    "\n",
    "model_checkpoint = ModelCheckpoint(save_model_name, monitor='val_my_iou_metric', mode='max', \n",
    "                                   save_best_only=True, verbose=1)\n",
    "\n",
    "reduce_lr = ReduceLROnPlateau(monitor='val_my_iou_metric', mode='max', factor=0.5, patience=6,\n",
    "                              min_lr=0.0001, verbose=1)\n",
    "\n",
    "epochs = 250\n",
    "batch_size = 128"
   ]
  },
  {
   "cell_type": "code",
   "execution_count": null,
   "metadata": {
    "_uuid": "bd402f81e3d8e0aad30b7c63836cb9d488105cef",
    "scrolled": false
   },
   "outputs": [
    {
     "name": "stdout",
     "output_type": "stream",
     "text": [
      "Train on 6328 samples, validate on 791 samples\n",
      "Epoch 1/250\n",
      "6328/6328 [==============================] - 80s 13ms/step - loss: 0.4265 - my_iou_metric: 0.3621 - val_loss: 3.0749 - val_my_iou_metric: 0.0346\n",
      "\n",
      "Epoch 00001: val_my_iou_metric improved from -inf to 0.03464, saving model to unet_v2_1.model\n",
      "Epoch 2/250\n",
      "6328/6328 [==============================] - 63s 10ms/step - loss: 0.3005 - my_iou_metric: 0.5466 - val_loss: 2.8241 - val_my_iou_metric: 0.3928\n",
      "\n",
      "Epoch 00002: val_my_iou_metric improved from 0.03464 to 0.39279, saving model to unet_v2_1.model\n",
      "Epoch 3/250\n",
      "6328/6328 [==============================] - 63s 10ms/step - loss: 0.2810 - my_iou_metric: 0.5549 - val_loss: 0.9537 - val_my_iou_metric: 0.3953\n",
      "\n",
      "Epoch 00003: val_my_iou_metric improved from 0.39279 to 0.39532, saving model to unet_v2_1.model\n",
      "Epoch 4/250\n",
      "6328/6328 [==============================] - 63s 10ms/step - loss: 0.2505 - my_iou_metric: 0.5775 - val_loss: 0.5105 - val_my_iou_metric: 0.3392\n",
      "\n",
      "Epoch 00004: val_my_iou_metric did not improve from 0.39532\n",
      "Epoch 5/250\n",
      "6328/6328 [==============================] - 63s 10ms/step - loss: 0.2410 - my_iou_metric: 0.5843 - val_loss: 0.7258 - val_my_iou_metric: 0.3334\n",
      "\n",
      "Epoch 00005: val_my_iou_metric did not improve from 0.39532\n",
      "Epoch 6/250\n",
      "6328/6328 [==============================] - 63s 10ms/step - loss: 0.2359 - my_iou_metric: 0.5791 - val_loss: 0.5575 - val_my_iou_metric: 0.2099\n",
      "\n",
      "Epoch 00006: val_my_iou_metric did not improve from 0.39532\n",
      "Epoch 7/250\n",
      "6328/6328 [==============================] - 63s 10ms/step - loss: 0.2086 - my_iou_metric: 0.6170 - val_loss: 0.2697 - val_my_iou_metric: 0.5235\n",
      "\n",
      "Epoch 00007: val_my_iou_metric improved from 0.39532 to 0.52351, saving model to unet_v2_1.model\n",
      "Epoch 8/250\n",
      "6328/6328 [==============================] - 63s 10ms/step - loss: 0.2185 - my_iou_metric: 0.6141 - val_loss: 1.6739 - val_my_iou_metric: 0.0885\n",
      "\n",
      "Epoch 00008: val_my_iou_metric did not improve from 0.52351\n",
      "Epoch 9/250\n",
      "6328/6328 [==============================] - 63s 10ms/step - loss: 0.2086 - my_iou_metric: 0.6205 - val_loss: 0.6024 - val_my_iou_metric: 0.2355\n",
      "\n",
      "Epoch 00009: val_my_iou_metric did not improve from 0.52351\n",
      "Epoch 10/250\n",
      "6328/6328 [==============================] - 63s 10ms/step - loss: 0.1993 - my_iou_metric: 0.6316 - val_loss: 0.2304 - val_my_iou_metric: 0.6579\n",
      "\n",
      "Epoch 00010: val_my_iou_metric improved from 0.52351 to 0.65790, saving model to unet_v2_1.model\n",
      "Epoch 11/250\n",
      "6328/6328 [==============================] - 63s 10ms/step - loss: 0.1890 - my_iou_metric: 0.6517 - val_loss: 0.5251 - val_my_iou_metric: 0.5616\n",
      "\n",
      "Epoch 00011: val_my_iou_metric did not improve from 0.65790\n",
      "Epoch 12/250\n",
      "6328/6328 [==============================] - 63s 10ms/step - loss: 0.1809 - my_iou_metric: 0.6687 - val_loss: 0.2976 - val_my_iou_metric: 0.5153\n",
      "\n",
      "Epoch 00012: val_my_iou_metric did not improve from 0.65790\n",
      "Epoch 13/250\n",
      "6328/6328 [==============================] - 63s 10ms/step - loss: 0.1749 - my_iou_metric: 0.6774 - val_loss: 0.1853 - val_my_iou_metric: 0.6910\n",
      "\n",
      "Epoch 00013: val_my_iou_metric improved from 0.65790 to 0.69102, saving model to unet_v2_1.model\n",
      "Epoch 14/250\n",
      "6328/6328 [==============================] - 63s 10ms/step - loss: 0.1647 - my_iou_metric: 0.6873 - val_loss: 0.4779 - val_my_iou_metric: 0.4762\n",
      "\n",
      "Epoch 00014: val_my_iou_metric did not improve from 0.69102\n",
      "Epoch 15/250\n",
      "6328/6328 [==============================] - 63s 10ms/step - loss: 0.1633 - my_iou_metric: 0.6918 - val_loss: 0.1848 - val_my_iou_metric: 0.6917\n",
      "\n",
      "Epoch 00015: val_my_iou_metric improved from 0.69102 to 0.69166, saving model to unet_v2_1.model\n",
      "Epoch 16/250\n",
      "6328/6328 [==============================] - 63s 10ms/step - loss: 0.1593 - my_iou_metric: 0.6987 - val_loss: 0.1767 - val_my_iou_metric: 0.6968\n",
      "\n",
      "Epoch 00016: val_my_iou_metric improved from 0.69166 to 0.69684, saving model to unet_v2_1.model\n",
      "Epoch 17/250\n",
      "6328/6328 [==============================] - 63s 10ms/step - loss: 0.1577 - my_iou_metric: 0.7041 - val_loss: 0.2577 - val_my_iou_metric: 0.6196\n",
      "\n",
      "Epoch 00017: val_my_iou_metric did not improve from 0.69684\n",
      "Epoch 18/250\n",
      "6328/6328 [==============================] - 63s 10ms/step - loss: 0.1545 - my_iou_metric: 0.7035 - val_loss: 0.2020 - val_my_iou_metric: 0.6636\n",
      "\n",
      "Epoch 00018: val_my_iou_metric did not improve from 0.69684\n",
      "Epoch 19/250\n",
      "6328/6328 [==============================] - 63s 10ms/step - loss: 0.1510 - my_iou_metric: 0.7162 - val_loss: 0.1693 - val_my_iou_metric: 0.7238\n",
      "\n",
      "Epoch 00019: val_my_iou_metric improved from 0.69684 to 0.72377, saving model to unet_v2_1.model\n",
      "Epoch 20/250\n",
      "6328/6328 [==============================] - 63s 10ms/step - loss: 0.1465 - my_iou_metric: 0.7127 - val_loss: 0.1646 - val_my_iou_metric: 0.7040\n",
      "\n",
      "Epoch 00020: val_my_iou_metric did not improve from 0.72377\n",
      "Epoch 21/250\n",
      "6328/6328 [==============================] - 63s 10ms/step - loss: 0.1412 - my_iou_metric: 0.7278 - val_loss: 0.2092 - val_my_iou_metric: 0.7386\n",
      "\n",
      "Epoch 00021: val_my_iou_metric improved from 0.72377 to 0.73856, saving model to unet_v2_1.model\n",
      "Epoch 22/250\n",
      "6328/6328 [==============================] - 63s 10ms/step - loss: 0.1436 - my_iou_metric: 0.7217 - val_loss: 0.2928 - val_my_iou_metric: 0.7104\n",
      "\n",
      "Epoch 00022: val_my_iou_metric did not improve from 0.73856\n",
      "Epoch 23/250\n",
      "6328/6328 [==============================] - 63s 10ms/step - loss: 0.1419 - my_iou_metric: 0.7276 - val_loss: 0.1650 - val_my_iou_metric: 0.7094\n",
      "\n",
      "Epoch 00023: val_my_iou_metric did not improve from 0.73856\n",
      "Epoch 24/250\n",
      "6328/6328 [==============================] - 63s 10ms/step - loss: 0.1351 - my_iou_metric: 0.7372 - val_loss: 0.1858 - val_my_iou_metric: 0.6809\n",
      "\n",
      "Epoch 00024: val_my_iou_metric did not improve from 0.73856\n",
      "Epoch 25/250\n",
      "6328/6328 [==============================] - 63s 10ms/step - loss: 0.1369 - my_iou_metric: 0.7272 - val_loss: 0.3310 - val_my_iou_metric: 0.4091\n",
      "\n",
      "Epoch 00025: val_my_iou_metric did not improve from 0.73856\n",
      "Epoch 26/250\n",
      "6328/6328 [==============================] - 63s 10ms/step - loss: 0.1413 - my_iou_metric: 0.7271 - val_loss: 0.2590 - val_my_iou_metric: 0.6513\n",
      "\n",
      "Epoch 00026: val_my_iou_metric did not improve from 0.73856\n",
      "Epoch 27/250\n",
      "6328/6328 [==============================] - 63s 10ms/step - loss: 0.1378 - my_iou_metric: 0.7307 - val_loss: 0.2170 - val_my_iou_metric: 0.6228\n",
      "\n",
      "Epoch 00027: val_my_iou_metric did not improve from 0.73856\n",
      "\n",
      "Epoch 00027: ReduceLROnPlateau reducing learning rate to 0.0024999999441206455.\n",
      "Epoch 28/250\n",
      "6328/6328 [==============================] - 63s 10ms/step - loss: 0.1215 - my_iou_metric: 0.7505 - val_loss: 0.1261 - val_my_iou_metric: 0.7755\n",
      "\n",
      "Epoch 00028: val_my_iou_metric improved from 0.73856 to 0.77547, saving model to unet_v2_1.model\n",
      "Epoch 29/250\n",
      "6328/6328 [==============================] - 63s 10ms/step - loss: 0.1150 - my_iou_metric: 0.7607 - val_loss: 0.1190 - val_my_iou_metric: 0.7674\n",
      "\n",
      "Epoch 00029: val_my_iou_metric did not improve from 0.77547\n",
      "Epoch 30/250\n",
      "6328/6328 [==============================] - 63s 10ms/step - loss: 0.1153 - my_iou_metric: 0.7627 - val_loss: 0.1212 - val_my_iou_metric: 0.7532\n",
      "\n",
      "Epoch 00030: val_my_iou_metric did not improve from 0.77547\n",
      "Epoch 31/250\n",
      "6328/6328 [==============================] - 63s 10ms/step - loss: 0.1118 - my_iou_metric: 0.7665 - val_loss: 0.1322 - val_my_iou_metric: 0.7626\n",
      "\n",
      "Epoch 00031: val_my_iou_metric did not improve from 0.77547\n",
      "Epoch 32/250\n",
      "6328/6328 [==============================] - 63s 10ms/step - loss: 0.1120 - my_iou_metric: 0.7630 - val_loss: 0.1132 - val_my_iou_metric: 0.7762\n",
      "\n",
      "Epoch 00032: val_my_iou_metric improved from 0.77547 to 0.77623, saving model to unet_v2_1.model\n",
      "Epoch 33/250\n",
      "6328/6328 [==============================] - 63s 10ms/step - loss: 0.1052 - my_iou_metric: 0.7716 - val_loss: 0.1264 - val_my_iou_metric: 0.7708\n",
      "\n",
      "Epoch 00033: val_my_iou_metric did not improve from 0.77623\n",
      "Epoch 34/250\n",
      "6328/6328 [==============================] - 63s 10ms/step - loss: 0.1077 - my_iou_metric: 0.7675 - val_loss: 0.1307 - val_my_iou_metric: 0.7708\n",
      "\n",
      "Epoch 00034: val_my_iou_metric did not improve from 0.77623\n",
      "Epoch 35/250\n",
      "6328/6328 [==============================] - 63s 10ms/step - loss: 0.1060 - my_iou_metric: 0.7701 - val_loss: 0.1364 - val_my_iou_metric: 0.7561\n",
      "\n",
      "Epoch 00035: val_my_iou_metric did not improve from 0.77623\n",
      "Epoch 36/250\n"
     ]
    },
    {
     "name": "stdout",
     "output_type": "stream",
     "text": [
      "6328/6328 [==============================] - 63s 10ms/step - loss: 0.1027 - my_iou_metric: 0.7736 - val_loss: 0.1388 - val_my_iou_metric: 0.7499\n",
      "\n",
      "Epoch 00036: val_my_iou_metric did not improve from 0.77623\n",
      "Epoch 37/250\n",
      "6328/6328 [==============================] - 63s 10ms/step - loss: 0.1038 - my_iou_metric: 0.7708 - val_loss: 0.1217 - val_my_iou_metric: 0.7798\n",
      "\n",
      "Epoch 00037: val_my_iou_metric improved from 0.77623 to 0.77977, saving model to unet_v2_1.model\n",
      "Epoch 38/250\n",
      "6328/6328 [==============================] - 63s 10ms/step - loss: 0.1054 - my_iou_metric: 0.7757 - val_loss: 0.1262 - val_my_iou_metric: 0.7545\n",
      "\n",
      "Epoch 00038: val_my_iou_metric did not improve from 0.77977\n",
      "Epoch 39/250\n",
      "6328/6328 [==============================] - 63s 10ms/step - loss: 0.0998 - my_iou_metric: 0.7758 - val_loss: 0.1325 - val_my_iou_metric: 0.7595\n",
      "\n",
      "Epoch 00039: val_my_iou_metric did not improve from 0.77977\n",
      "Epoch 40/250\n",
      "6328/6328 [==============================] - 63s 10ms/step - loss: 0.0990 - my_iou_metric: 0.7779 - val_loss: 0.1486 - val_my_iou_metric: 0.7584\n",
      "\n",
      "Epoch 00040: val_my_iou_metric did not improve from 0.77977\n",
      "Epoch 41/250\n",
      "6328/6328 [==============================] - 63s 10ms/step - loss: 0.0975 - my_iou_metric: 0.7822 - val_loss: 0.1411 - val_my_iou_metric: 0.7745\n",
      "\n",
      "Epoch 00041: val_my_iou_metric did not improve from 0.77977\n",
      "Epoch 42/250\n",
      "6328/6328 [==============================] - 63s 10ms/step - loss: 0.1074 - my_iou_metric: 0.7634 - val_loss: 0.1981 - val_my_iou_metric: 0.5960\n",
      "\n",
      "Epoch 00042: val_my_iou_metric did not improve from 0.77977\n",
      "Epoch 43/250\n",
      "6328/6328 [==============================] - 63s 10ms/step - loss: 0.1014 - my_iou_metric: 0.7757 - val_loss: 0.1219 - val_my_iou_metric: 0.7662\n",
      "\n",
      "Epoch 00043: val_my_iou_metric did not improve from 0.77977\n",
      "\n",
      "Epoch 00043: ReduceLROnPlateau reducing learning rate to 0.0012499999720603228.\n",
      "Epoch 44/250\n",
      "6328/6328 [==============================] - 63s 10ms/step - loss: 0.0897 - my_iou_metric: 0.7877 - val_loss: 0.1126 - val_my_iou_metric: 0.7898\n",
      "\n",
      "Epoch 00044: val_my_iou_metric improved from 0.77977 to 0.78976, saving model to unet_v2_1.model\n",
      "Epoch 45/250\n",
      "6328/6328 [==============================] - 63s 10ms/step - loss: 0.0872 - my_iou_metric: 0.7930 - val_loss: 0.1185 - val_my_iou_metric: 0.7867\n",
      "\n",
      "Epoch 00045: val_my_iou_metric did not improve from 0.78976\n",
      "Epoch 46/250\n",
      "6328/6328 [==============================] - 63s 10ms/step - loss: 0.0843 - my_iou_metric: 0.7938 - val_loss: 0.1152 - val_my_iou_metric: 0.7863\n",
      "\n",
      "Epoch 00046: val_my_iou_metric did not improve from 0.78976\n",
      "Epoch 47/250\n",
      "6328/6328 [==============================] - 63s 10ms/step - loss: 0.0801 - my_iou_metric: 0.7980 - val_loss: 0.1162 - val_my_iou_metric: 0.7919\n",
      "\n",
      "Epoch 00047: val_my_iou_metric improved from 0.78976 to 0.79191, saving model to unet_v2_1.model\n",
      "Epoch 48/250\n",
      "6328/6328 [==============================] - 63s 10ms/step - loss: 0.0874 - my_iou_metric: 0.7947 - val_loss: 0.1353 - val_my_iou_metric: 0.7646\n",
      "\n",
      "Epoch 00048: val_my_iou_metric did not improve from 0.79191\n",
      "Epoch 49/250\n",
      "6328/6328 [==============================] - 63s 10ms/step - loss: 0.0768 - my_iou_metric: 0.7981 - val_loss: 0.1223 - val_my_iou_metric: 0.7802\n",
      "\n",
      "Epoch 00049: val_my_iou_metric did not improve from 0.79191\n",
      "Epoch 50/250\n",
      "6328/6328 [==============================] - 63s 10ms/step - loss: 0.0803 - my_iou_metric: 0.7975 - val_loss: 0.1255 - val_my_iou_metric: 0.7618\n",
      "\n",
      "Epoch 00050: val_my_iou_metric did not improve from 0.79191\n",
      "Epoch 51/250\n",
      "6328/6328 [==============================] - 63s 10ms/step - loss: 0.0754 - my_iou_metric: 0.8007 - val_loss: 0.1252 - val_my_iou_metric: 0.7789\n",
      "\n",
      "Epoch 00051: val_my_iou_metric did not improve from 0.79191\n",
      "Epoch 52/250\n",
      "6328/6328 [==============================] - 63s 10ms/step - loss: 0.0781 - my_iou_metric: 0.8034 - val_loss: 0.1216 - val_my_iou_metric: 0.7683\n",
      "\n",
      "Epoch 00052: val_my_iou_metric did not improve from 0.79191\n",
      "Epoch 53/250\n",
      "6328/6328 [==============================] - 63s 10ms/step - loss: 0.0794 - my_iou_metric: 0.7997 - val_loss: 0.1270 - val_my_iou_metric: 0.7712\n",
      "\n",
      "Epoch 00053: val_my_iou_metric did not improve from 0.79191\n",
      "\n",
      "Epoch 00053: ReduceLROnPlateau reducing learning rate to 0.0006249999860301614.\n",
      "Epoch 54/250\n",
      "6328/6328 [==============================] - 63s 10ms/step - loss: 0.0736 - my_iou_metric: 0.8030 - val_loss: 0.1148 - val_my_iou_metric: 0.7894\n",
      "\n",
      "Epoch 00054: val_my_iou_metric did not improve from 0.79191\n",
      "Epoch 55/250\n",
      "6328/6328 [==============================] - 63s 10ms/step - loss: 0.0703 - my_iou_metric: 0.8091 - val_loss: 0.1096 - val_my_iou_metric: 0.7962\n",
      "\n",
      "Epoch 00055: val_my_iou_metric improved from 0.79191 to 0.79621, saving model to unet_v2_1.model\n",
      "Epoch 56/250\n",
      "6328/6328 [==============================] - 63s 10ms/step - loss: 0.0704 - my_iou_metric: 0.8088 - val_loss: 0.1172 - val_my_iou_metric: 0.7956\n",
      "\n",
      "Epoch 00056: val_my_iou_metric did not improve from 0.79621\n",
      "Epoch 57/250\n",
      "6328/6328 [==============================] - 63s 10ms/step - loss: 0.0678 - my_iou_metric: 0.8099 - val_loss: 0.1220 - val_my_iou_metric: 0.7894\n",
      "\n",
      "Epoch 00057: val_my_iou_metric did not improve from 0.79621\n",
      "Epoch 58/250\n",
      "6328/6328 [==============================] - 63s 10ms/step - loss: 0.0658 - my_iou_metric: 0.8164 - val_loss: 0.1165 - val_my_iou_metric: 0.7980\n",
      "\n",
      "Epoch 00058: val_my_iou_metric improved from 0.79621 to 0.79798, saving model to unet_v2_1.model\n",
      "Epoch 59/250\n",
      "6328/6328 [==============================] - 63s 10ms/step - loss: 0.0664 - my_iou_metric: 0.8134 - val_loss: 0.1147 - val_my_iou_metric: 0.7973\n",
      "\n",
      "Epoch 00059: val_my_iou_metric did not improve from 0.79798\n",
      "Epoch 60/250\n",
      "6328/6328 [==============================] - 63s 10ms/step - loss: 0.0673 - my_iou_metric: 0.8127 - val_loss: 0.1082 - val_my_iou_metric: 0.7979\n",
      "\n",
      "Epoch 00060: val_my_iou_metric did not improve from 0.79798\n",
      "Epoch 61/250\n",
      "6328/6328 [==============================] - 63s 10ms/step - loss: 0.0673 - my_iou_metric: 0.8147 - val_loss: 0.1163 - val_my_iou_metric: 0.7975\n",
      "\n",
      "Epoch 00061: val_my_iou_metric did not improve from 0.79798\n",
      "Epoch 62/250\n",
      "6328/6328 [==============================] - 63s 10ms/step - loss: 0.0652 - my_iou_metric: 0.8135 - val_loss: 0.1203 - val_my_iou_metric: 0.7923\n",
      "\n",
      "Epoch 00062: val_my_iou_metric did not improve from 0.79798\n",
      "Epoch 63/250\n",
      "6328/6328 [==============================] - 63s 10ms/step - loss: 0.0649 - my_iou_metric: 0.8163 - val_loss: 0.1185 - val_my_iou_metric: 0.7909\n",
      "\n",
      "Epoch 00063: val_my_iou_metric did not improve from 0.79798\n",
      "Epoch 64/250\n",
      "6328/6328 [==============================] - 63s 10ms/step - loss: 0.0643 - my_iou_metric: 0.8180 - val_loss: 0.1215 - val_my_iou_metric: 0.7942\n",
      "\n",
      "Epoch 00064: val_my_iou_metric did not improve from 0.79798\n",
      "\n",
      "Epoch 00064: ReduceLROnPlateau reducing learning rate to 0.0003124999930150807.\n",
      "Epoch 65/250\n",
      "6328/6328 [==============================] - 63s 10ms/step - loss: 0.0636 - my_iou_metric: 0.8178 - val_loss: 0.1185 - val_my_iou_metric: 0.7951\n",
      "\n",
      "Epoch 00065: val_my_iou_metric did not improve from 0.79798\n",
      "Epoch 66/250\n",
      "6328/6328 [==============================] - 63s 10ms/step - loss: 0.0621 - my_iou_metric: 0.8169 - val_loss: 0.1128 - val_my_iou_metric: 0.7909\n",
      "\n",
      "Epoch 00066: val_my_iou_metric did not improve from 0.79798\n",
      "Epoch 67/250\n",
      "6328/6328 [==============================] - 63s 10ms/step - loss: 0.0604 - my_iou_metric: 0.8220 - val_loss: 0.1122 - val_my_iou_metric: 0.7992\n",
      "\n",
      "Epoch 00067: val_my_iou_metric improved from 0.79798 to 0.79924, saving model to unet_v2_1.model\n",
      "Epoch 68/250\n",
      "6328/6328 [==============================] - 63s 10ms/step - loss: 0.0601 - my_iou_metric: 0.8196 - val_loss: 0.1207 - val_my_iou_metric: 0.7910\n",
      "\n",
      "Epoch 00068: val_my_iou_metric did not improve from 0.79924\n",
      "Epoch 69/250\n",
      "6328/6328 [==============================] - 63s 10ms/step - loss: 0.0590 - my_iou_metric: 0.8187 - val_loss: 0.1128 - val_my_iou_metric: 0.8013\n",
      "\n",
      "Epoch 00069: val_my_iou_metric improved from 0.79924 to 0.80126, saving model to unet_v2_1.model\n",
      "Epoch 70/250\n",
      "6328/6328 [==============================] - 63s 10ms/step - loss: 0.0607 - my_iou_metric: 0.8207 - val_loss: 0.1121 - val_my_iou_metric: 0.7973\n",
      "\n",
      "Epoch 00070: val_my_iou_metric did not improve from 0.80126\n",
      "Epoch 71/250\n",
      "6328/6328 [==============================] - 63s 10ms/step - loss: 0.0586 - my_iou_metric: 0.8189 - val_loss: 0.1102 - val_my_iou_metric: 0.7999\n",
      "\n",
      "Epoch 00071: val_my_iou_metric did not improve from 0.80126\n",
      "Epoch 72/250\n",
      "6328/6328 [==============================] - 63s 10ms/step - loss: 0.0573 - my_iou_metric: 0.8231 - val_loss: 0.1132 - val_my_iou_metric: 0.7970\n",
      "\n",
      "Epoch 00072: val_my_iou_metric did not improve from 0.80126\n",
      "Epoch 73/250\n",
      "6328/6328 [==============================] - 63s 10ms/step - loss: 0.0598 - my_iou_metric: 0.8194 - val_loss: 0.1235 - val_my_iou_metric: 0.7973\n",
      "\n",
      "Epoch 00073: val_my_iou_metric did not improve from 0.80126\n",
      "Epoch 74/250\n",
      "6328/6328 [==============================] - 63s 10ms/step - loss: 0.0572 - my_iou_metric: 0.8235 - val_loss: 0.1149 - val_my_iou_metric: 0.7963\n",
      "\n",
      "Epoch 00074: val_my_iou_metric did not improve from 0.80126\n",
      "Epoch 75/250\n",
      "6328/6328 [==============================] - 63s 10ms/step - loss: 0.0573 - my_iou_metric: 0.8229 - val_loss: 0.1155 - val_my_iou_metric: 0.8027\n",
      "\n",
      "Epoch 00075: val_my_iou_metric improved from 0.80126 to 0.80265, saving model to unet_v2_1.model\n",
      "Epoch 76/250\n",
      "6328/6328 [==============================] - 63s 10ms/step - loss: 0.0576 - my_iou_metric: 0.8236 - val_loss: 0.1169 - val_my_iou_metric: 0.7967\n",
      "\n",
      "Epoch 00076: val_my_iou_metric did not improve from 0.80265\n",
      "Epoch 77/250\n",
      "6328/6328 [==============================] - 63s 10ms/step - loss: 0.0571 - my_iou_metric: 0.8259 - val_loss: 0.1117 - val_my_iou_metric: 0.7967\n",
      "\n",
      "Epoch 00077: val_my_iou_metric did not improve from 0.80265\n",
      "Epoch 78/250\n",
      "6328/6328 [==============================] - 63s 10ms/step - loss: 0.0582 - my_iou_metric: 0.8234 - val_loss: 0.1212 - val_my_iou_metric: 0.7893\n",
      "\n",
      "Epoch 00078: val_my_iou_metric did not improve from 0.80265\n",
      "Epoch 79/250\n",
      "6328/6328 [==============================] - 63s 10ms/step - loss: 0.0561 - my_iou_metric: 0.8235 - val_loss: 0.1116 - val_my_iou_metric: 0.7934\n",
      "\n",
      "Epoch 00079: val_my_iou_metric did not improve from 0.80265\n",
      "Epoch 80/250\n",
      "6328/6328 [==============================] - 63s 10ms/step - loss: 0.0566 - my_iou_metric: 0.8232 - val_loss: 0.1171 - val_my_iou_metric: 0.7890\n",
      "\n",
      "Epoch 00080: val_my_iou_metric did not improve from 0.80265\n",
      "Epoch 81/250\n",
      "6328/6328 [==============================] - 63s 10ms/step - loss: 0.0571 - my_iou_metric: 0.8198 - val_loss: 0.1152 - val_my_iou_metric: 0.7920\n",
      "\n",
      "Epoch 00081: val_my_iou_metric did not improve from 0.80265\n",
      "\n",
      "Epoch 00081: ReduceLROnPlateau reducing learning rate to 0.00015624999650754035.\n",
      "Epoch 82/250\n",
      "6328/6328 [==============================] - 63s 10ms/step - loss: 0.0554 - my_iou_metric: 0.8247 - val_loss: 0.1135 - val_my_iou_metric: 0.8016\n",
      "\n",
      "Epoch 00082: val_my_iou_metric did not improve from 0.80265\n",
      "Epoch 83/250\n",
      "6328/6328 [==============================] - 63s 10ms/step - loss: 0.0544 - my_iou_metric: 0.8229 - val_loss: 0.1176 - val_my_iou_metric: 0.8034\n",
      "\n",
      "Epoch 00083: val_my_iou_metric improved from 0.80265 to 0.80341, saving model to unet_v2_1.model\n",
      "Epoch 84/250\n",
      "6328/6328 [==============================] - 63s 10ms/step - loss: 0.0576 - my_iou_metric: 0.8249 - val_loss: 0.1244 - val_my_iou_metric: 0.7954\n",
      "\n",
      "Epoch 00084: val_my_iou_metric did not improve from 0.80341\n",
      "Epoch 85/250\n",
      "6328/6328 [==============================] - 63s 10ms/step - loss: 0.0531 - my_iou_metric: 0.8250 - val_loss: 0.1271 - val_my_iou_metric: 0.7992\n",
      "\n",
      "Epoch 00085: val_my_iou_metric did not improve from 0.80341\n",
      "Epoch 86/250\n",
      "6328/6328 [==============================] - 63s 10ms/step - loss: 0.0549 - my_iou_metric: 0.8279 - val_loss: 0.1200 - val_my_iou_metric: 0.8001\n",
      "\n",
      "Epoch 00086: val_my_iou_metric did not improve from 0.80341\n",
      "Epoch 87/250\n",
      "6328/6328 [==============================] - 63s 10ms/step - loss: 0.0544 - my_iou_metric: 0.8275 - val_loss: 0.1222 - val_my_iou_metric: 0.7946\n",
      "\n",
      "Epoch 00087: val_my_iou_metric did not improve from 0.80341\n",
      "Epoch 88/250\n",
      "6328/6328 [==============================] - 63s 10ms/step - loss: 0.0574 - my_iou_metric: 0.8256 - val_loss: 0.1129 - val_my_iou_metric: 0.8000\n",
      "\n",
      "Epoch 00088: val_my_iou_metric did not improve from 0.80341\n",
      "Epoch 89/250\n",
      "6328/6328 [==============================] - 63s 10ms/step - loss: 0.0533 - my_iou_metric: 0.8263 - val_loss: 0.1188 - val_my_iou_metric: 0.7996\n",
      "\n",
      "Epoch 00089: val_my_iou_metric did not improve from 0.80341\n",
      "\n",
      "Epoch 00089: ReduceLROnPlateau reducing learning rate to 0.0001.\n",
      "Epoch 90/250\n",
      "6328/6328 [==============================] - 63s 10ms/step - loss: 0.0531 - my_iou_metric: 0.8261 - val_loss: 0.1220 - val_my_iou_metric: 0.7973\n",
      "\n",
      "Epoch 00090: val_my_iou_metric did not improve from 0.80341\n",
      "Epoch 91/250\n",
      "6328/6328 [==============================] - 63s 10ms/step - loss: 0.0522 - my_iou_metric: 0.8297 - val_loss: 0.1227 - val_my_iou_metric: 0.7961\n",
      "\n",
      "Epoch 00091: val_my_iou_metric did not improve from 0.80341\n",
      "Epoch 92/250\n",
      "6328/6328 [==============================] - 63s 10ms/step - loss: 0.0508 - my_iou_metric: 0.8290 - val_loss: 0.1236 - val_my_iou_metric: 0.7967\n",
      "\n",
      "Epoch 00092: val_my_iou_metric did not improve from 0.80341\n",
      "Epoch 93/250\n",
      "6328/6328 [==============================] - 63s 10ms/step - loss: 0.0515 - my_iou_metric: 0.8302 - val_loss: 0.1215 - val_my_iou_metric: 0.7937\n",
      "\n",
      "Epoch 00093: val_my_iou_metric did not improve from 0.80341\n",
      "Epoch 94/250\n",
      "6328/6328 [==============================] - 63s 10ms/step - loss: 0.0516 - my_iou_metric: 0.8285 - val_loss: 0.1216 - val_my_iou_metric: 0.7970\n",
      "\n",
      "Epoch 00094: val_my_iou_metric did not improve from 0.80341\n",
      "Epoch 95/250\n",
      "6328/6328 [==============================] - 63s 10ms/step - loss: 0.0511 - my_iou_metric: 0.8306 - val_loss: 0.1147 - val_my_iou_metric: 0.7981\n",
      "\n",
      "Epoch 00095: val_my_iou_metric did not improve from 0.80341\n",
      "Epoch 96/250\n",
      "6328/6328 [==============================] - 63s 10ms/step - loss: 0.0518 - my_iou_metric: 0.8297 - val_loss: 0.1205 - val_my_iou_metric: 0.8021\n",
      "\n",
      "Epoch 00096: val_my_iou_metric did not improve from 0.80341\n",
      "Epoch 97/250\n",
      "6328/6328 [==============================] - 63s 10ms/step - loss: 0.0529 - my_iou_metric: 0.8281 - val_loss: 0.1128 - val_my_iou_metric: 0.7991\n",
      "\n",
      "Epoch 00097: val_my_iou_metric did not improve from 0.80341\n",
      "Epoch 98/250\n",
      "6328/6328 [==============================] - 63s 10ms/step - loss: 0.0533 - my_iou_metric: 0.8299 - val_loss: 0.1162 - val_my_iou_metric: 0.8035\n",
      "\n",
      "Epoch 00098: val_my_iou_metric improved from 0.80341 to 0.80354, saving model to unet_v2_1.model\n",
      "Epoch 99/250\n",
      "6328/6328 [==============================] - 63s 10ms/step - loss: 0.0526 - my_iou_metric: 0.8301 - val_loss: 0.1243 - val_my_iou_metric: 0.7933\n",
      "\n",
      "Epoch 00099: val_my_iou_metric did not improve from 0.80354\n",
      "Epoch 100/250\n",
      "6328/6328 [==============================] - 63s 10ms/step - loss: 0.0518 - my_iou_metric: 0.8303 - val_loss: 0.1209 - val_my_iou_metric: 0.7927\n",
      "\n",
      "Epoch 00100: val_my_iou_metric did not improve from 0.80354\n",
      "Epoch 101/250\n",
      "6328/6328 [==============================] - 63s 10ms/step - loss: 0.0498 - my_iou_metric: 0.8309 - val_loss: 0.1269 - val_my_iou_metric: 0.7904\n",
      "\n",
      "Epoch 00101: val_my_iou_metric did not improve from 0.80354\n",
      "Epoch 102/250\n",
      "6328/6328 [==============================] - 63s 10ms/step - loss: 0.0510 - my_iou_metric: 0.8301 - val_loss: 0.1222 - val_my_iou_metric: 0.7939\n",
      "\n",
      "Epoch 00102: val_my_iou_metric did not improve from 0.80354\n",
      "Epoch 103/250\n",
      "6328/6328 [==============================] - 63s 10ms/step - loss: 0.0532 - my_iou_metric: 0.8277 - val_loss: 0.1181 - val_my_iou_metric: 0.7962\n",
      "\n",
      "Epoch 00103: val_my_iou_metric did not improve from 0.80354\n",
      "Epoch 104/250\n",
      "6328/6328 [==============================] - 63s 10ms/step - loss: 0.0504 - my_iou_metric: 0.8285 - val_loss: 0.1211 - val_my_iou_metric: 0.7961\n",
      "\n",
      "Epoch 00104: val_my_iou_metric did not improve from 0.80354\n",
      "Epoch 105/250\n",
      "6328/6328 [==============================] - 63s 10ms/step - loss: 0.0513 - my_iou_metric: 0.8292 - val_loss: 0.1219 - val_my_iou_metric: 0.7991\n",
      "\n",
      "Epoch 00105: val_my_iou_metric did not improve from 0.80354\n",
      "Epoch 106/250\n",
      "6328/6328 [==============================] - 63s 10ms/step - loss: 0.0507 - my_iou_metric: 0.8315 - val_loss: 0.1285 - val_my_iou_metric: 0.7939\n",
      "\n",
      "Epoch 00106: val_my_iou_metric did not improve from 0.80354\n",
      "Epoch 107/250\n"
     ]
    },
    {
     "name": "stdout",
     "output_type": "stream",
     "text": [
      "6328/6328 [==============================] - 63s 10ms/step - loss: 0.0516 - my_iou_metric: 0.8286 - val_loss: 0.1260 - val_my_iou_metric: 0.7937\n",
      "\n",
      "Epoch 00107: val_my_iou_metric did not improve from 0.80354\n",
      "Epoch 108/250\n",
      "6328/6328 [==============================] - 63s 10ms/step - loss: 0.0500 - my_iou_metric: 0.8336 - val_loss: 0.1187 - val_my_iou_metric: 0.8008\n",
      "\n",
      "Epoch 00108: val_my_iou_metric did not improve from 0.80354\n",
      "Epoch 109/250\n",
      "6328/6328 [==============================] - 63s 10ms/step - loss: 0.0495 - my_iou_metric: 0.8336 - val_loss: 0.1201 - val_my_iou_metric: 0.7989\n",
      "\n",
      "Epoch 00109: val_my_iou_metric did not improve from 0.80354\n",
      "Epoch 110/250\n",
      "6328/6328 [==============================] - 63s 10ms/step - loss: 0.0505 - my_iou_metric: 0.8306 - val_loss: 0.1182 - val_my_iou_metric: 0.8010\n",
      "\n",
      "Epoch 00110: val_my_iou_metric did not improve from 0.80354\n",
      "Epoch 111/250\n",
      "6328/6328 [==============================] - 63s 10ms/step - loss: 0.0508 - my_iou_metric: 0.8274 - val_loss: 0.1204 - val_my_iou_metric: 0.7991\n",
      "\n",
      "Epoch 00111: val_my_iou_metric did not improve from 0.80354\n",
      "Epoch 112/250\n",
      "6328/6328 [==============================] - 63s 10ms/step - loss: 0.0499 - my_iou_metric: 0.8332 - val_loss: 0.1240 - val_my_iou_metric: 0.7910\n",
      "\n",
      "Epoch 00112: val_my_iou_metric did not improve from 0.80354\n",
      "Epoch 113/250\n",
      "6328/6328 [==============================] - 63s 10ms/step - loss: 0.0529 - my_iou_metric: 0.8250 - val_loss: 0.1189 - val_my_iou_metric: 0.7953\n",
      "\n",
      "Epoch 00113: val_my_iou_metric did not improve from 0.80354\n",
      "Epoch 114/250\n",
      "6328/6328 [==============================] - 63s 10ms/step - loss: 0.0497 - my_iou_metric: 0.8321 - val_loss: 0.1196 - val_my_iou_metric: 0.7957\n",
      "\n",
      "Epoch 00114: val_my_iou_metric did not improve from 0.80354\n",
      "Epoch 115/250\n",
      "6328/6328 [==============================] - 63s 10ms/step - loss: 0.0515 - my_iou_metric: 0.8280 - val_loss: 0.1230 - val_my_iou_metric: 0.7894\n",
      "\n",
      "Epoch 00115: val_my_iou_metric did not improve from 0.80354\n",
      "Epoch 116/250\n",
      "6328/6328 [==============================] - 63s 10ms/step - loss: 0.0504 - my_iou_metric: 0.8319 - val_loss: 0.1207 - val_my_iou_metric: 0.7938\n",
      "\n",
      "Epoch 00116: val_my_iou_metric did not improve from 0.80354\n",
      "Epoch 117/250\n",
      "6328/6328 [==============================] - 63s 10ms/step - loss: 0.0495 - my_iou_metric: 0.8295 - val_loss: 0.1223 - val_my_iou_metric: 0.7968\n",
      "\n",
      "Epoch 00117: val_my_iou_metric did not improve from 0.80354\n",
      "Epoch 118/250\n",
      "6328/6328 [==============================] - 63s 10ms/step - loss: 0.0505 - my_iou_metric: 0.8313 - val_loss: 0.1209 - val_my_iou_metric: 0.7990\n",
      "\n",
      "Epoch 00118: val_my_iou_metric did not improve from 0.80354\n",
      "Epoch 00118: early stopping\n",
      "CPU times: user 1h 12min 51s, sys: 27min 55s, total: 1h 40min 47s\n",
      "Wall time: 2h 4min 42s\n"
     ]
    }
   ],
   "source": [
    "%%time\n",
    "history = model1.fit(x_train, y_train,\n",
    "                     validation_data = [x_valid, y_valid], \n",
    "                     epochs = epochs, \n",
    "                     batch_size = batch_size, \n",
    "                     callbacks = [early_stopping, model_checkpoint, reduce_lr],\n",
    "                     verbose = 1)"
   ]
  },
  {
   "cell_type": "markdown",
   "metadata": {},
   "source": [
    "# Remove activation layer and use lovasz loss"
   ]
  },
  {
   "cell_type": "code",
   "execution_count": 22,
   "metadata": {
    "_uuid": "52ba1ba40cac42145f499cff252eb73feff397d3"
   },
   "outputs": [],
   "source": [
    "model1 = load_model(save_model_name, custom_objects={'my_iou_metric':my_iou_metric})\n",
    "\n",
    "input_x = model1.layers[0].input\n",
    "output_layer = model1.layers[-1].input\n",
    "model = Model(input_x, output_layer)\n",
    "c = optimizers.adam(lr=0.0001)\n",
    "\n",
    "model.compile(loss=lovasz_loss, optimizer=c, metrics=[my_iou_metric_2])\n",
    "\n",
    "# model.summary()"
   ]
  },
  {
   "cell_type": "code",
   "execution_count": 23,
   "metadata": {
    "_uuid": "ec1e49fd425a02ab12dea6b99cf39de45c80199f"
   },
   "outputs": [],
   "source": [
    "early_stopping = EarlyStopping(monitor='val_my_iou_metric_2', mode='max',patience=20, verbose=1)\n",
    "model_checkpoint = ModelCheckpoint(save_model_nameB,monitor='val_my_iou_metric_2', \n",
    "                                   mode = 'max', save_best_only=True, verbose=1)\n",
    "reduce_lr = ReduceLROnPlateau(monitor='val_my_iou_metric_2', mode = 'max',factor=0.5, patience=5, min_lr=0.00001, verbose=1)\n",
    "epochs = 200\n",
    "batch_size = 64"
   ]
  },
  {
   "cell_type": "code",
   "execution_count": null,
   "metadata": {
    "_uuid": "ec1e49fd425a02ab12dea6b99cf39de45c80199f"
   },
   "outputs": [
    {
     "name": "stdout",
     "output_type": "stream",
     "text": [
      "Train on 6328 samples, validate on 791 samples\n",
      "Epoch 1/200\n",
      " - 196s - loss: -2.1594e-01 - my_iou_metric_2: 0.8261 - val_loss: -2.7135e-02 - val_my_iou_metric_2: 0.8071\n",
      "\n",
      "Epoch 00001: val_my_iou_metric_2 improved from -inf to 0.80708, saving model to unet_v2_1B.model\n",
      "Epoch 2/200\n"
     ]
    }
   ],
   "source": [
    "%%time\n",
    "history = model.fit(x_train, y_train,\n",
    "                    validation_data=[x_valid, y_valid], \n",
    "                    epochs=epochs,\n",
    "                    batch_size=batch_size,\n",
    "                    callbacks=[ model_checkpoint, reduce_lr, early_stopping], \n",
    "                    verbose=2)"
   ]
  },
  {
   "cell_type": "markdown",
   "metadata": {},
   "source": [
    "# Plot result"
   ]
  },
  {
   "cell_type": "code",
   "execution_count": null,
   "metadata": {
    "_uuid": "922febde76d7aff93c49c71a28b3a2361f433d02"
   },
   "outputs": [],
   "source": [
    "fig, (ax_loss, ax_score) = plt.subplots(1, 2, figsize=(15,5))\n",
    "ax_loss.plot(history.epoch, history.history[\"loss\"], label=\"Train loss\")\n",
    "ax_loss.plot(history.epoch, history.history[\"val_loss\"], label=\"Validation loss\")\n",
    "ax_loss.legend()\n",
    "ax_score.plot(history.epoch, history.history[\"my_iou_metric_2\"], label=\"Train score\")\n",
    "ax_score.plot(history.epoch, history.history[\"val_my_iou_metric_2\"], label=\"Validation score\")\n",
    "ax_score.legend()"
   ]
  },
  {
   "cell_type": "code",
   "execution_count": null,
   "metadata": {
    "_uuid": "068c89f56e9e7eb1d7ecf12912996426ad87f2a6"
   },
   "outputs": [],
   "source": [
    "model = load_model(save_model_nameB,custom_objects={'my_iou_metric_2': my_iou_metric_2,\n",
    "                                                   'lovasz_loss': lovasz_loss})"
   ]
  },
  {
   "cell_type": "code",
   "execution_count": null,
   "metadata": {
    "_uuid": "c33f2cdf50d3011f704ac934e49602bd3167c8cb"
   },
   "outputs": [],
   "source": [
    "def predict_result(model,x_test,img_size_target): # predict both orginal and reflect x\n",
    "    x_test_reflect =  np.array([np.fliplr(x) for x in x_test])\n",
    "    preds_test = model.predict(x_test).reshape(-1, img_size_target, img_size_target)\n",
    "    preds_test2_refect = model.predict(x_test_reflect).reshape(-1, img_size_target, img_size_target)\n",
    "    preds_test += np.array([ np.fliplr(x) for x in preds_test2_refect] )\n",
    "    return preds_test/2"
   ]
  },
  {
   "cell_type": "code",
   "execution_count": null,
   "metadata": {
    "_uuid": "ec38f74adccf2d265cac160311c0998fefc76ec6"
   },
   "outputs": [],
   "source": [
    "preds_valid = predict_result(model,x_valid,img_size_target)"
   ]
  },
  {
   "cell_type": "code",
   "execution_count": null,
   "metadata": {
    "_uuid": "6794a936dd110f0d4ecc23206c53af7cd0f4a587"
   },
   "outputs": [],
   "source": [
    "#Score the model and do a threshold optimization by the best IoU.\n",
    "\n",
    "# src: https://www.kaggle.com/aglotero/another-iou-metric\n",
    "def iou_metric(y_true_in, y_pred_in, print_table=False):\n",
    "    labels = y_true_in\n",
    "    y_pred = y_pred_in\n",
    "\n",
    "\n",
    "    true_objects = 2\n",
    "    pred_objects = 2\n",
    "\n",
    "    #  if all zeros, original code  generate wrong  bins [-0.5 0 0.5],\n",
    "    temp1 = np.histogram2d(labels.flatten(), y_pred.flatten(), bins=([0,0.5,1], [0,0.5, 1]))\n",
    "#     temp1 = np.histogram2d(labels.flatten(), y_pred.flatten(), bins=(true_objects, pred_objects))\n",
    "    #print(temp1)\n",
    "    intersection = temp1[0]\n",
    "    #print(\"temp2 = \",temp1[1])\n",
    "    #print(intersection.shape)\n",
    "   # print(intersection)\n",
    "    # Compute areas (needed for finding the union between all objects)\n",
    "    #print(np.histogram(labels, bins = true_objects))\n",
    "    area_true = np.histogram(labels,bins=[0,0.5,1])[0]\n",
    "    #print(\"area_true = \",area_true)\n",
    "    area_pred = np.histogram(y_pred, bins=[0,0.5,1])[0]\n",
    "    area_true = np.expand_dims(area_true, -1)\n",
    "    area_pred = np.expand_dims(area_pred, 0)\n",
    "\n",
    "    # Compute union\n",
    "    union = area_true + area_pred - intersection\n",
    "  \n",
    "    # Exclude background from the analysis\n",
    "    intersection = intersection[1:,1:]\n",
    "    intersection[intersection == 0] = 1e-9\n",
    "    \n",
    "    union = union[1:,1:]\n",
    "    union[union == 0] = 1e-9\n",
    "\n",
    "    # Compute the intersection over union\n",
    "    iou = intersection / union\n",
    "    # Precision helper function\n",
    "    def precision_at(threshold, iou):\n",
    "        matches = iou > threshold\n",
    "        true_positives = np.sum(matches, axis=1) == 1   # Correct objects\n",
    "        false_positives = np.sum(matches, axis=0) == 0  # Missed objects\n",
    "        false_negatives = np.sum(matches, axis=1) == 0  # Extra objects\n",
    "        tp, fp, fn = np.sum(true_positives), np.sum(false_positives), np.sum(false_negatives)\n",
    "        return tp, fp, fn\n",
    "\n",
    "    # Loop over IoU thresholds\n",
    "    prec = []\n",
    "    if print_table:\n",
    "        print(\"Thresh\\tTP\\tFP\\tFN\\tPrec.\")\n",
    "    for t in np.arange(0.5, 1.0, 0.05):\n",
    "        tp, fp, fn = precision_at(t, iou)\n",
    "        if (tp + fp + fn) > 0:\n",
    "            p = tp / (tp + fp + fn)\n",
    "        else:\n",
    "            p = 0\n",
    "        if print_table:\n",
    "            print(\"{:1.3f}\\t{}\\t{}\\t{}\\t{:1.3f}\".format(t, tp, fp, fn, p))\n",
    "        prec.append(p)\n",
    "        \n",
    "    if print_table:\n",
    "        print(\"AP\\t-\\t-\\t-\\t{:1.3f}\".format(np.mean(prec)))\n",
    "    return np.mean(prec)\n",
    "\n",
    "def iou_metric_batch(y_true_in, y_pred_in):\n",
    "    batch_size = y_true_in.shape[0]\n",
    "    metric = []\n",
    "    for batch in range(batch_size):\n",
    "        value = iou_metric(y_true_in[batch], y_pred_in[batch])\n",
    "        metric.append(value)\n",
    "    return np.mean(metric)"
   ]
  },
  {
   "cell_type": "code",
   "execution_count": null,
   "metadata": {
    "_uuid": "6d96072932f985336021cd115cb6bb13058618a8"
   },
   "outputs": [],
   "source": [
    "## Scoring for last model, choose threshold by validation data \n",
    "thresholds_ori = np.linspace(0.3, 0.7, 31)\n",
    "# Reverse sigmoid function: Use code below because the  sigmoid activation was removed\n",
    "thresholds = np.log(thresholds_ori/(1-thresholds_ori)) \n",
    "\n",
    "# ious = np.array([get_iou_vector(y_valid, preds_valid > threshold) for threshold in tqdm_notebook(thresholds)])\n",
    "# print(ious)\n",
    "ious = np.array([iou_metric_batch(y_valid, preds_valid > threshold) for threshold in tqdm_notebook(thresholds)])\n",
    "print(ious)"
   ]
  },
  {
   "cell_type": "code",
   "execution_count": null,
   "metadata": {
    "_uuid": "ce197d87cf44fef681025160cba8e4081d15ed50"
   },
   "outputs": [],
   "source": [
    "threshold_best_index = np.argmax(ious)\n",
    "iou_best = ious[threshold_best_index]\n",
    "threshold_best = thresholds[threshold_best_index]\n",
    "\n",
    "plt.plot(thresholds, ious)\n",
    "plt.plot(threshold_best, iou_best, 'xr', label='Best threshold')\n",
    "plt.xlabel(\"Threshold\")\n",
    "plt.ylabel(\"IoU\")\n",
    "plt.title(\"Threshold vs IoU ({}, {})\".format(threshold_best, iou_best))\n",
    "plt.legend()"
   ]
  },
  {
   "cell_type": "code",
   "execution_count": null,
   "metadata": {
    "_uuid": "2633e0c50ddb705021a35441c6a19fae9312603e"
   },
   "outputs": [],
   "source": [
    "def rle_encode(im):\n",
    "    '''\n",
    "    im: numpy array, 1-mask, 0-background\n",
    "    Returns run length as string\n",
    "    '''\n",
    "    pixels = im.flatten(order='F')\n",
    "    pixels = np.concatenate([[0], pixels, [0]])\n",
    "    runs = np.where(pixels[1:] != pixels[:-1])[0] + 1\n",
    "    runs[1::2] -= runs[::2]\n",
    "    return ' '.join(str(x) for x in runs)"
   ]
  },
  {
   "cell_type": "code",
   "execution_count": null,
   "metadata": {
    "_uuid": "3c29b25a37ceb7476bc0264ea3a97dc705e07607"
   },
   "outputs": [],
   "source": [
    "x_test = np.array([(np.array(load_img(f\"{DATA_DIR}test/images/{}.png\".format(idx), grayscale = True))) / 255 for idx in tqdm_notebook(test_df.index)]).reshape(-1, img_size_target, img_size_target, 1)"
   ]
  },
  {
   "cell_type": "code",
   "execution_count": null,
   "metadata": {
    "_uuid": "e129e7c3e525b884322570ed37da825cd89db290"
   },
   "outputs": [],
   "source": [
    "preds_test = predict_result(model,x_test,img_size_target)"
   ]
  },
  {
   "cell_type": "code",
   "execution_count": null,
   "metadata": {
    "_uuid": "aac939d180585abab6dd497a45f81e3df67b25a8"
   },
   "outputs": [],
   "source": [
    "pred_dict = {idx: rle_encode(np.round(downsample(preds_test[i]) > threshold_best)) for i, idx in enumerate(tqdm_notebook(test_df.index.values))}"
   ]
  },
  {
   "cell_type": "code",
   "execution_count": null,
   "metadata": {
    "_uuid": "2d6ef314f368bf9923285007e7098c068af049d9"
   },
   "outputs": [],
   "source": [
    "sub = pd.DataFrame.from_dict(pred_dict,orient='index')\n",
    "sub.index.names = ['id']\n",
    "sub.columns = ['rle_mask']\n",
    "sub.to_csv(submission_file)"
   ]
  },
  {
   "cell_type": "code",
   "execution_count": null,
   "metadata": {
    "_uuid": "ae636758e7abdc7fb87768cbfb2c6f18f8c1975f"
   },
   "outputs": [],
   "source": [
    "t_finish = time.time()\n",
    "print(f\"Kernel run time = {(t_finish-t_start)/3600} hours\")"
   ]
  }
 ],
 "metadata": {
  "kernelspec": {
   "display_name": "Python 3",
   "language": "python",
   "name": "python3"
  },
  "language_info": {
   "codemirror_mode": {
    "name": "ipython",
    "version": 3
   },
   "file_extension": ".py",
   "mimetype": "text/x-python",
   "name": "python",
   "nbconvert_exporter": "python",
   "pygments_lexer": "ipython3",
   "version": "3.6.6"
  },
  "toc": {
   "base_numbering": 1,
   "nav_menu": {},
   "number_sections": true,
   "sideBar": true,
   "skip_h1_title": false,
   "title_cell": "Table of Contents",
   "title_sidebar": "Contents",
   "toc_cell": false,
   "toc_position": {},
   "toc_section_display": true,
   "toc_window_display": false
  }
 },
 "nbformat": 4,
 "nbformat_minor": 1
}
