{
 "cells": [
  {
   "cell_type": "code",
   "execution_count": 1,
   "metadata": {},
   "outputs": [],
   "source": [
    "%matplotlib inline\n",
    "%reload_ext autoreload\n",
    "%autoreload 2"
   ]
  },
  {
   "cell_type": "code",
   "execution_count": 6,
   "metadata": {},
   "outputs": [],
   "source": [
    "import pandas as pd\n",
    "import numpy as np\n",
    "import os\n",
    "from sklearn.ensemble import ExtraTreesClassifier\n",
    "from sklearn import ensemble\n",
    "from sklearn.linear_model import LogisticRegression\n",
    "from sklearn.preprocessing import normalize\n",
    "import math"
   ]
  },
  {
   "cell_type": "code",
   "execution_count": 23,
   "metadata": {},
   "outputs": [],
   "source": [
    "loc_train = \"data/forest-cover/train.csv\"\n",
    "loc_test = \"data/forest-cover/test.csv\"\n",
    "loc_submission = \"submissions/2models.submission.csv\""
   ]
  },
  {
   "cell_type": "code",
   "execution_count": 8,
   "metadata": {},
   "outputs": [],
   "source": [
    "df_train = pd.read_csv(loc_train)\n",
    "df_test = pd.read_csv(loc_test)"
   ]
  },
  {
   "cell_type": "code",
   "execution_count": 9,
   "metadata": {},
   "outputs": [],
   "source": [
    "cols_to_normalize = ['Aspect','Slope','Horizontal_Distance_To_Hydrology','Vertical_Distance_To_Hydrology',\n",
    "'Hillshade_9am','Hillshade_Noon','Hillshade_3pm','Horizontal_Distance_To_Fire_Points']\n",
    "\n",
    "df_train[cols_to_normalize] = normalize(df_train[cols_to_normalize])\n",
    "df_test[cols_to_normalize] = normalize(df_test[cols_to_normalize])"
   ]
  },
  {
   "cell_type": "code",
   "execution_count": 10,
   "metadata": {},
   "outputs": [],
   "source": [
    "feature_cols = [col for col in df_train.columns if col not in ['Cover_Type','Id']]\n",
    "feature_cols.append('binned_elevation')\n",
    "feature_cols.append('Horizontal_Distance_To_Roadways_Log')\n",
    "feature_cols.append('Soil_Type12_32')\n",
    "feature_cols.append('Soil_Type23_22_32_33')"
   ]
  },
  {
   "cell_type": "code",
   "execution_count": 11,
   "metadata": {},
   "outputs": [],
   "source": [
    "#feature_cols.append('Horizontal_Distance_To_Hydrology')\n",
    "\n",
    "df_train['binned_elevation'] = [math.floor(v/50.0) for v in df_train['Elevation']]\n",
    "df_test['binned_elevation'] = [math.floor(v/50.0) for v in df_test['Elevation']]\n",
    "\n",
    "df_train['Horizontal_Distance_To_Roadways_Log'] = [math.log(v+1) for v in df_train['Horizontal_Distance_To_Roadways']]\n",
    "df_test['Horizontal_Distance_To_Roadways_Log'] = [math.log(v+1) for v in df_test['Horizontal_Distance_To_Roadways']]\n",
    "\n",
    "df_train['Soil_Type12_32'] = df_train['Soil_Type32'] + df_train['Soil_Type12']\n",
    "df_test['Soil_Type12_32'] = df_test['Soil_Type32'] + df_test['Soil_Type12']\n",
    "df_train['Soil_Type23_22_32_33'] = df_train['Soil_Type23'] + df_train['Soil_Type22'] + df_train['Soil_Type32'] + df_train['Soil_Type33']\n",
    "df_test['Soil_Type23_22_32_33'] = df_test['Soil_Type23'] + df_test['Soil_Type22'] + df_test['Soil_Type32'] + df_test['Soil_Type33']\n",
    "\n",
    "#df_train['Horizontal_Distance_To_Hydrology_Log'] = [math.log(v+1) for v in df_train['Horizontal_Distance_To_Hydrology']]\n",
    "#df_test['Horizontal_Distance_To_Hydrology_Log'] = [math.log(v+1) for v in df_test['Horizontal_Distance_To_Hydrology']]\n",
    "\n",
    "df_train_1_2 = df_train[(df_train['Cover_Type'] <= 2)]\n",
    "df_train_3_4_6 = df_train[(df_train['Cover_Type'].isin([3,4,6]))]"
   ]
  },
  {
   "cell_type": "code",
   "execution_count": 12,
   "metadata": {},
   "outputs": [],
   "source": [
    "X_train = df_train[feature_cols]\n",
    "X_test = df_test[feature_cols]\n",
    "\n",
    "X_train_1_2 = df_train_1_2[feature_cols]\n",
    "X_train_3_4_6 = df_train_3_4_6[feature_cols]\n",
    "\n",
    "y = df_train['Cover_Type']\n",
    "y_1_2 = df_train_1_2['Cover_Type']\n",
    "y_3_4_6 = df_train_3_4_6['Cover_Type']"
   ]
  },
  {
   "cell_type": "code",
   "execution_count": 13,
   "metadata": {},
   "outputs": [],
   "source": [
    "test_ids = df_test['Id']\n",
    "del df_train\n",
    "del df_test"
   ]
  },
  {
   "cell_type": "code",
   "execution_count": 14,
   "metadata": {},
   "outputs": [
    {
     "data": {
      "text/plain": [
       "RandomForestClassifier(bootstrap=True, class_weight=None, criterion='gini',\n",
       "            max_depth=None, max_features='auto', max_leaf_nodes=None,\n",
       "            min_impurity_decrease=0.0, min_impurity_split=None,\n",
       "            min_samples_leaf=1, min_samples_split=2,\n",
       "            min_weight_fraction_leaf=0.0, n_estimators=200, n_jobs=-1,\n",
       "            oob_score=False, random_state=0, verbose=0, warm_start=False)"
      ]
     },
     "execution_count": 14,
     "metadata": {},
     "output_type": "execute_result"
    }
   ],
   "source": [
    "clf = ensemble.ExtraTreesClassifier(n_estimators=100,n_jobs=-1,random_state=0)\n",
    "clf.fit(X_train, y)\n",
    "\n",
    "clf_1_2 = ensemble.RandomForestClassifier(n_estimators=200,n_jobs=-1,random_state=0)\n",
    "clf_1_2.fit(X_train_1_2, y_1_2)\n",
    "\n",
    "clf_3_4_6 = ensemble.RandomForestClassifier(n_estimators=200,n_jobs=-1,random_state=0)\n",
    "clf_3_4_6.fit(X_train_3_4_6, y_3_4_6)"
   ]
  },
  {
   "cell_type": "code",
   "execution_count": 17,
   "metadata": {},
   "outputs": [
    {
     "name": "stdout",
     "output_type": "stream",
     "text": [
      "[1 2]\n",
      "[3 4 6]\n"
     ]
    }
   ],
   "source": [
    "vals_1_2 = {}\n",
    "for e, val in enumerate(list(clf_1_2.predict_proba(X_test))):\n",
    "    vals_1_2[e] = val\n",
    "print(clf_1_2.classes_)\n",
    "\n",
    "vals_3_4_6 = {}\n",
    "for e, val in enumerate(list(clf_3_4_6.predict_proba(X_test))):\n",
    "    vals_3_4_6[e] = val\n",
    "print(clf_3_4_6.classes_)\n",
    "\n",
    "vals = {}\n",
    "for e, val in enumerate(list(clf.predict(X_test))):\n",
    "    vals[e] = val"
   ]
  },
  {
   "cell_type": "code",
   "execution_count": 20,
   "metadata": {},
   "outputs": [],
   "source": [
    "def largest_index(inlist):\n",
    "  largest = -1\n",
    "  largest_index = 0\n",
    "  for i in range(len(inlist)):\n",
    "    item = inlist[i]\n",
    "    if item > largest:\n",
    "      largest = item\n",
    "      largest_index = i\n",
    "  return largest_index"
   ]
  },
  {
   "cell_type": "code",
   "execution_count": 25,
   "metadata": {},
   "outputs": [],
   "source": [
    "with open(loc_submission, \"w\") as outfile:\n",
    "    outfile.write(\"Id,Cover_Type\\n\")\n",
    "    \n",
    "    for e, val in enumerate(list(clf.predict_proba(X_test))):\n",
    "      #boost types 1 and 2\n",
    "      val[0] += vals_1_2[e][0]/1.3\n",
    "      val[1] += vals_1_2[e][1]/1.1\n",
    "      #boost types 3,4, and 6\n",
    "      val[2] += vals_3_4_6[e][0]/3.4\n",
    "      val[3] += vals_3_4_6[e][1]/4.0\n",
    "      val[5] += vals_3_4_6[e][2]/3.6\n",
    "      #val[4] += vals_5_7[e][0]/2.4\n",
    "      #val[6] += vals_5_7[e][1]/3.4\n",
    "      i = largest_index(val)\n",
    "      v = i  + 1\n",
    "      outfile.write(\"%s,%s\\n\"%(test_ids[e],v))"
   ]
  },
  {
   "cell_type": "code",
   "execution_count": null,
   "metadata": {},
   "outputs": [],
   "source": []
  }
 ],
 "metadata": {
  "kernelspec": {
   "display_name": "Python (fastai)",
   "language": "python",
   "name": "fastai"
  },
  "language_info": {
   "codemirror_mode": {
    "name": "ipython",
    "version": 3
   },
   "file_extension": ".py",
   "mimetype": "text/x-python",
   "name": "python",
   "nbconvert_exporter": "python",
   "pygments_lexer": "ipython3",
   "version": "3.6.6"
  },
  "toc": {
   "base_numbering": 1,
   "nav_menu": {},
   "number_sections": true,
   "sideBar": true,
   "skip_h1_title": false,
   "title_cell": "Table of Contents",
   "title_sidebar": "Contents",
   "toc_cell": false,
   "toc_position": {},
   "toc_section_display": true,
   "toc_window_display": false
  }
 },
 "nbformat": 4,
 "nbformat_minor": 2
}
