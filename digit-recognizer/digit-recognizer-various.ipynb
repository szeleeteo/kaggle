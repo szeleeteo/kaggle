{
 "cells": [
  {
   "cell_type": "markdown",
   "metadata": {
    "heading_collapsed": true
   },
   "source": [
    "# Imports"
   ]
  },
  {
   "cell_type": "code",
   "execution_count": 1,
   "metadata": {
    "_cell_guid": "b1076dfc-b9ad-4769-8c92-a6c4dae69d19",
    "_uuid": "8f2839f25d086af736a60e9eeb907d3b93b6e0e5",
    "hidden": true
   },
   "outputs": [],
   "source": [
    "import numpy as np \n",
    "import pandas as pd\n",
    "import matplotlib.pyplot as plt\n",
    "from sklearn.model_selection import train_test_split\n",
    "from datetime import datetime\n",
    "\n",
    "%matplotlib inline "
   ]
  },
  {
   "cell_type": "markdown",
   "metadata": {
    "heading_collapsed": true
   },
   "source": [
    "# Reading and pre-processing"
   ]
  },
  {
   "cell_type": "code",
   "execution_count": 6,
   "metadata": {
    "_cell_guid": "79c7e3d0-c299-4dcb-8224-4455121ee9b0",
    "_uuid": "d629ff2d2480ee46fbb7e2d37f6b5fab8052498a",
    "hidden": true
   },
   "outputs": [],
   "source": [
    "df = pd.read_csv('data/MNIST/train.csv')"
   ]
  },
  {
   "cell_type": "code",
   "execution_count": 7,
   "metadata": {
    "_cell_guid": "0a44143d-431f-4ef3-bb64-445778042c81",
    "_uuid": "1d0e81ae6556a8decc64c568ebd92e35385665a6",
    "hidden": true
   },
   "outputs": [
    {
     "name": "stdout",
     "output_type": "stream",
     "text": [
      "<class 'pandas.core.frame.DataFrame'>\n",
      "RangeIndex: 42000 entries, 0 to 41999\n",
      "Columns: 785 entries, label to pixel783\n",
      "dtypes: int64(785)\n",
      "memory usage: 251.5 MB\n"
     ]
    }
   ],
   "source": [
    "df.info()"
   ]
  },
  {
   "cell_type": "code",
   "execution_count": 8,
   "metadata": {
    "_cell_guid": "5fe16e49-312d-4344-a187-ad9f85e822cd",
    "_uuid": "b2630f4f871d6a51dc40355a52ad60c7ba50de97",
    "hidden": true
   },
   "outputs": [],
   "source": [
    "X = df.drop('label',axis=1)\n",
    "y = df['label']\n",
    "X_train, X_val, y_train, y_val = train_test_split(X, y, shuffle=True, test_size=0.30)"
   ]
  },
  {
   "cell_type": "code",
   "execution_count": 9,
   "metadata": {
    "hidden": true
   },
   "outputs": [
    {
     "data": {
      "text/plain": [
       "((42000, 784), (42000,), (29400, 784), (29400,), (12600, 784), (12600,))"
      ]
     },
     "execution_count": 9,
     "metadata": {},
     "output_type": "execute_result"
    }
   ],
   "source": [
    "X.shape, y.shape, X_train.shape, y_train.shape, X_val.shape, y_val.shape"
   ]
  },
  {
   "cell_type": "code",
   "execution_count": 10,
   "metadata": {
    "hidden": true
   },
   "outputs": [],
   "source": [
    "subsample = 4200\n",
    "\n",
    "df_sub = df.sample(subsample)\n",
    "X_sub = df_sub.drop('label',axis=1)\n",
    "y_sub = df_sub['label']\n",
    "\n",
    "X_train_sub, X_val_sub, y_train_sub, y_val_sub = train_test_split(X_sub, y_sub, shuffle=True, test_size=0.20)"
   ]
  },
  {
   "cell_type": "code",
   "execution_count": 11,
   "metadata": {
    "hidden": true
   },
   "outputs": [
    {
     "data": {
      "text/plain": [
       "((4200, 784), (4200,), (3360, 784), (3360,), (840, 784), (840,))"
      ]
     },
     "execution_count": 11,
     "metadata": {},
     "output_type": "execute_result"
    }
   ],
   "source": [
    "X_sub.shape, y_sub.shape, X_train_sub.shape, y_train_sub.shape, X_val_sub.shape, y_val_sub.shape"
   ]
  },
  {
   "cell_type": "markdown",
   "metadata": {
    "hidden": true
   },
   "source": [
    "## Utils"
   ]
  },
  {
   "cell_type": "code",
   "execution_count": 12,
   "metadata": {
    "hidden": true
   },
   "outputs": [],
   "source": [
    "def fit_predict(m, x_tr, y_tr, x_vl):\n",
    "    dt0 = datetime.now()\n",
    "    m.fit(x_tr, y_tr)\n",
    "    dt1 = datetime.now() - dt0\n",
    "    \n",
    "    dt0 = datetime.now()\n",
    "    y_tr_p = m.predict(x_tr)\n",
    "    dt2 = datetime.now() - dt0\n",
    "    \n",
    "    dt0 = datetime.now()\n",
    "    y_vl_p = m.predict(x_vl)\n",
    "    dt3 = datetime.now() - dt0\n",
    "    \n",
    "    print(f\"Training time: {dt1.total_seconds()}s\\nTesting time with training data: {dt2.total_seconds()}s\\nTesting time with validation data: {dt3.total_seconds()}s\")\n",
    "    return y_tr_p, y_vl_p"
   ]
  },
  {
   "cell_type": "code",
   "execution_count": 13,
   "metadata": {
    "hidden": true
   },
   "outputs": [],
   "source": [
    "def print_score(y_tr_p, y_vl_p, y_tr, y_vl):\n",
    "    score_tr = (y_tr_p == y_tr).mean()\n",
    "    score_vl = (y_vl_p == y_vl).mean()\n",
    "    print(f\"Training set mean score: {score_tr}\") \n",
    "    print(f\"Validation set mean score: {score_vl}\")"
   ]
  },
  {
   "cell_type": "code",
   "execution_count": 14,
   "metadata": {
    "hidden": true
   },
   "outputs": [],
   "source": [
    "def train_predict_fullset(m):\n",
    "    y_train_pred, y_val_pred = fit_predict(m, X_train, y_train, X_val)\n",
    "    print_score(y_train_pred, y_val_pred, np.array(y_train), np.array(y_val))"
   ]
  },
  {
   "cell_type": "code",
   "execution_count": 15,
   "metadata": {
    "hidden": true
   },
   "outputs": [],
   "source": [
    "def train_predict_subset(m):\n",
    "    y_train_pred, y_val_pred = fit_predict(m, X_train_sub, y_train_sub, X_val_sub)\n",
    "    print_score(y_train_pred, y_val_pred, np.array(y_train_sub), np.array(y_val_sub))"
   ]
  },
  {
   "cell_type": "markdown",
   "metadata": {
    "heading_collapsed": true
   },
   "source": [
    "# Models"
   ]
  },
  {
   "cell_type": "markdown",
   "metadata": {
    "heading_collapsed": true,
    "hidden": true
   },
   "source": [
    "## 1. Random Forest"
   ]
  },
  {
   "cell_type": "code",
   "execution_count": 16,
   "metadata": {
    "hidden": true
   },
   "outputs": [],
   "source": [
    "from sklearn.ensemble import RandomForestClassifier"
   ]
  },
  {
   "cell_type": "code",
   "execution_count": 17,
   "metadata": {
    "hidden": true
   },
   "outputs": [
    {
     "name": "stdout",
     "output_type": "stream",
     "text": [
      "Training time: 2.058506s\n",
      "Testing time with training data: 0.185752s\n",
      "Testing time with validation data: 0.080158s\n",
      "Training set mean score: 0.9990136054421769\n",
      "Validation set mean score: 0.935952380952381\n"
     ]
    }
   ],
   "source": [
    "m = RandomForestClassifier()\n",
    "train_predict_fullset(m)"
   ]
  },
  {
   "cell_type": "code",
   "execution_count": 18,
   "metadata": {
    "_cell_guid": "32e7ab56-c161-4f9b-8814-46577f4d3659",
    "_uuid": "f493634aab1e03e43f98fb50be96c219a9654947",
    "hidden": true
   },
   "outputs": [
    {
     "name": "stdout",
     "output_type": "stream",
     "text": [
      "Training time: 8.280962s\n",
      "Testing time with training data: 0.663921s\n",
      "Testing time with validation data: 0.370071s\n",
      "Training set mean score: 1.0\n",
      "Validation set mean score: 0.9647619047619047\n"
     ]
    }
   ],
   "source": [
    "m = RandomForestClassifier(n_estimators=200, n_jobs=-1)\n",
    "train_predict_fullset(m)"
   ]
  },
  {
   "cell_type": "code",
   "execution_count": 19,
   "metadata": {
    "hidden": true
   },
   "outputs": [
    {
     "name": "stdout",
     "output_type": "stream",
     "text": [
      "Training time: 8.763978s\n",
      "Testing time with training data: 0.866736s\n",
      "Testing time with validation data: 0.359183s\n",
      "Training set mean score: 1.0\n",
      "Validation set mean score: 0.9642857142857143\n"
     ]
    }
   ],
   "source": [
    "X_train_norm = X_train/255\n",
    "X_val_norm = X_val/255\n",
    "\n",
    "m = RandomForestClassifier(n_estimators=200, n_jobs=-1)\n",
    "y_train_pred, y_val_pred = fit_predict(m, X_train_norm, y_train, X_val_norm)\n",
    "print_score(y_train_pred, y_val_pred, np.array(y_train), np.array(y_val))"
   ]
  },
  {
   "cell_type": "markdown",
   "metadata": {
    "heading_collapsed": true,
    "hidden": true
   },
   "source": [
    "## 2. SVM"
   ]
  },
  {
   "cell_type": "code",
   "execution_count": 15,
   "metadata": {
    "hidden": true
   },
   "outputs": [],
   "source": [
    "from sklearn.svm import SVC"
   ]
  },
  {
   "cell_type": "code",
   "execution_count": 16,
   "metadata": {
    "hidden": true
   },
   "outputs": [
    {
     "name": "stdout",
     "output_type": "stream",
     "text": [
      "Training time: 21.48263s\n",
      "Testing time with training data: 11.518969s\n",
      "Testing time with validation data: 2.756833s\n",
      "Training set mean score: 1.0\n",
      "Validation set mean score: 0.1261904761904762\n"
     ]
    }
   ],
   "source": [
    "m = SVC()\n",
    "train_predict_subset(m)"
   ]
  },
  {
   "cell_type": "markdown",
   "metadata": {
    "hidden": true
   },
   "source": [
    "#### SVM with Normalization"
   ]
  },
  {
   "cell_type": "code",
   "execution_count": 17,
   "metadata": {
    "hidden": true
   },
   "outputs": [],
   "source": [
    "X_train_sub_norm = X_train_sub/255\n",
    "X_val_sub_norm = X_val_sub/255"
   ]
  },
  {
   "cell_type": "code",
   "execution_count": 18,
   "metadata": {
    "hidden": true
   },
   "outputs": [
    {
     "name": "stdout",
     "output_type": "stream",
     "text": [
      "Training time: 6.449678s\n",
      "Testing time with training data: 7.918522s\n",
      "Testing time with validation data: 2.244526s\n",
      "Training set mean score: 0.9157738095238095\n",
      "Validation set mean score: 0.9166666666666666\n"
     ]
    }
   ],
   "source": [
    "y_train_pred, y_val_pred = fit_predict(m, X_train_sub_norm, y_train_sub, X_val_sub_norm)\n",
    "print_score(y_train_pred, y_val_pred, y_train_sub, y_val_sub)"
   ]
  },
  {
   "cell_type": "markdown",
   "metadata": {
    "hidden": true
   },
   "source": [
    "#### SVM with Thresholding"
   ]
  },
  {
   "cell_type": "code",
   "execution_count": 19,
   "metadata": {
    "hidden": true
   },
   "outputs": [],
   "source": [
    "X_train_sub_thres = X_train_sub.mask(X_train_sub>0, 1)\n",
    "X_val_sub_thres = X_val_sub.mask(X_val_sub>0, 1)"
   ]
  },
  {
   "cell_type": "code",
   "execution_count": 20,
   "metadata": {
    "hidden": true
   },
   "outputs": [
    {
     "name": "stdout",
     "output_type": "stream",
     "text": [
      "Training time: 6.172162s\n",
      "Testing time with training data: 7.621128s\n",
      "Testing time with validation data: 1.944358s\n",
      "Training set mean score: 0.9267857142857143\n",
      "Validation set mean score: 0.9154761904761904\n"
     ]
    }
   ],
   "source": [
    "y_train_pred, y_val_pred = fit_predict(m, X_train_sub_thres, y_train_sub, X_val_sub_thres)\n",
    "print_score(y_train_pred, y_val_pred, y_train_sub, y_val_sub)"
   ]
  },
  {
   "cell_type": "markdown",
   "metadata": {
    "hidden": true
   },
   "source": [
    "### With rbf kernel"
   ]
  },
  {
   "cell_type": "code",
   "execution_count": 21,
   "metadata": {
    "hidden": true
   },
   "outputs": [
    {
     "name": "stdout",
     "output_type": "stream",
     "text": [
      "Training time: 4.158838s\n",
      "Testing time with training data: 5.683071s\n",
      "Testing time with validation data: 1.296252s\n",
      "Training set mean score: 0.9592261904761905\n",
      "Validation set mean score: 0.9261904761904762\n"
     ]
    }
   ],
   "source": [
    "m = SVC(kernel=\"linear\", C=0.025)\n",
    "y_train_pred, y_val_pred = fit_predict(m, X_train_sub_norm, y_train_sub, X_val_sub_norm)\n",
    "print_score(y_train_pred, y_val_pred, y_train_sub, y_val_sub)"
   ]
  },
  {
   "cell_type": "code",
   "execution_count": 22,
   "metadata": {
    "hidden": true
   },
   "outputs": [
    {
     "name": "stdout",
     "output_type": "stream",
     "text": [
      "Training time: 22.474027s\n",
      "Testing time with training data: 11.982576s\n",
      "Testing time with validation data: 3.129323s\n",
      "Training set mean score: 1.0\n",
      "Validation set mean score: 0.1261904761904762\n"
     ]
    }
   ],
   "source": [
    "m = SVC(gamma=2, C=1)\n",
    "y_train_pred, y_val_pred = fit_predict(m, X_train_sub_norm, y_train_sub, X_val_sub_norm)\n",
    "print_score(y_train_pred, y_val_pred, y_train_sub, y_val_sub)"
   ]
  },
  {
   "cell_type": "code",
   "execution_count": 23,
   "metadata": {
    "hidden": true
   },
   "outputs": [
    {
     "name": "stdout",
     "output_type": "stream",
     "text": [
      "Training time: 4.555213s\n",
      "Testing time with training data: 6.188292s\n",
      "Testing time with validation data: 1.40387s\n",
      "Training set mean score: 0.9851190476190477\n",
      "Validation set mean score: 0.9428571428571428\n"
     ]
    }
   ],
   "source": [
    "m = SVC(probability=False, kernel=\"rbf\", C=2.8, gamma=.0073)\n",
    "y_train_pred, y_val_pred = fit_predict(m, X_train_sub_norm, y_train_sub, X_val_sub_norm)\n",
    "print_score(y_train_pred, y_val_pred, y_train_sub, y_val_sub)"
   ]
  },
  {
   "cell_type": "code",
   "execution_count": 24,
   "metadata": {
    "hidden": true
   },
   "outputs": [
    {
     "name": "stdout",
     "output_type": "stream",
     "text": [
      "Training time: 4.419043s\n",
      "Testing time with training data: 6.220563s\n",
      "Testing time with validation data: 1.547248s\n",
      "Training set mean score: 0.9952380952380953\n",
      "Validation set mean score: 0.9464285714285714\n"
     ]
    }
   ],
   "source": [
    "m = SVC(probability=False, kernel=\"rbf\", C=2.8, gamma=.0073)\n",
    "y_train_pred, y_val_pred = fit_predict(m, X_train_sub_thres, y_train_sub, X_val_sub_thres)\n",
    "print_score(y_train_pred, y_val_pred, y_train_sub, y_val_sub)"
   ]
  },
  {
   "cell_type": "markdown",
   "metadata": {
    "heading_collapsed": true,
    "hidden": true
   },
   "source": [
    "## 3. Logistic Regression"
   ]
  },
  {
   "cell_type": "code",
   "execution_count": 25,
   "metadata": {
    "hidden": true
   },
   "outputs": [],
   "source": [
    "from sklearn.linear_model import LogisticRegression"
   ]
  },
  {
   "cell_type": "code",
   "execution_count": 26,
   "metadata": {
    "hidden": true
   },
   "outputs": [
    {
     "name": "stdout",
     "output_type": "stream",
     "text": [
      "Training time: 7.134025s\n",
      "Testing time with training data: 0.015595s\n",
      "Testing time with validation data: 0.0s\n",
      "Training set mean score: 1.0\n",
      "Validation set mean score: 0.8357142857142857\n"
     ]
    }
   ],
   "source": [
    "m = LogisticRegression()\n",
    "train_predict_subset(m)"
   ]
  },
  {
   "cell_type": "code",
   "execution_count": 27,
   "metadata": {
    "hidden": true
   },
   "outputs": [],
   "source": [
    "X_train_sub_norm = X_train_sub/255\n",
    "X_val_sub_norm = X_val_sub/255"
   ]
  },
  {
   "cell_type": "code",
   "execution_count": 28,
   "metadata": {
    "hidden": true
   },
   "outputs": [
    {
     "name": "stdout",
     "output_type": "stream",
     "text": [
      "Training time: 1.783512s\n",
      "Testing time with training data: 0.008025s\n",
      "Testing time with validation data: 0.002002s\n",
      "Training set mean score: 0.9764880952380952\n",
      "Validation set mean score: 0.9035714285714286\n"
     ]
    }
   ],
   "source": [
    "m = LogisticRegression()\n",
    "y_train_pred, y_val_pred = fit_predict(m, X_train_sub_norm, y_train_sub, X_val_sub_norm)\n",
    "print_score(y_train_pred, y_val_pred, y_train_sub, y_val_sub)"
   ]
  },
  {
   "cell_type": "markdown",
   "metadata": {
    "heading_collapsed": true,
    "hidden": true
   },
   "source": [
    "## 4. KNN"
   ]
  },
  {
   "cell_type": "code",
   "execution_count": 29,
   "metadata": {
    "hidden": true
   },
   "outputs": [],
   "source": [
    "from sklearn.neighbors import KNeighborsClassifier"
   ]
  },
  {
   "cell_type": "code",
   "execution_count": 30,
   "metadata": {
    "hidden": true
   },
   "outputs": [
    {
     "name": "stdout",
     "output_type": "stream",
     "text": [
      "Training time: 0.152404s\n",
      "Testing time with training data: 15.271242s\n",
      "Testing time with validation data: 3.824789s\n",
      "Training set mean score: 0.9526785714285714\n",
      "Validation set mean score: 0.9297619047619048\n"
     ]
    }
   ],
   "source": [
    "m = KNeighborsClassifier()\n",
    "train_predict_subset(m)"
   ]
  },
  {
   "cell_type": "code",
   "execution_count": 31,
   "metadata": {
    "hidden": true
   },
   "outputs": [
    {
     "name": "stdout",
     "output_type": "stream",
     "text": [
      "k=1\n",
      "Training time: 0.122672s\n",
      "Testing time with training data: 8.428626s\n",
      "Testing time with validation data: 3.818578s\n",
      "Training set mean score: 1.0\n",
      "Validation set mean score: 0.9357142857142857\n",
      "\n",
      "\n",
      "k=2\n",
      "Training time: 0.127386s\n",
      "Testing time with training data: 14.986785s\n",
      "Testing time with validation data: 3.532891s\n",
      "Training set mean score: 0.9586309523809524\n",
      "Validation set mean score: 0.9178571428571428\n",
      "\n",
      "\n",
      "k=3\n",
      "Training time: 0.127205s\n",
      "Testing time with training data: 15.138564s\n",
      "Testing time with validation data: 4.001741s\n",
      "Training set mean score: 0.9607142857142857\n",
      "Validation set mean score: 0.9357142857142857\n",
      "\n",
      "\n",
      "k=4\n",
      "Training time: 0.112316s\n",
      "Testing time with training data: 14.785333s\n",
      "Testing time with validation data: 3.404331s\n",
      "Training set mean score: 0.9565476190476191\n",
      "Validation set mean score: 0.9333333333333333\n",
      "\n",
      "\n",
      "k=5\n",
      "Training time: 0.109428s\n",
      "Testing time with training data: 14.846764s\n",
      "Testing time with validation data: 3.918034s\n",
      "Training set mean score: 0.9526785714285714\n",
      "Validation set mean score: 0.9297619047619048\n",
      "\n",
      "\n",
      "k=6\n",
      "Training time: 0.144358s\n",
      "Testing time with training data: 15.571668s\n",
      "Testing time with validation data: 3.73401s\n",
      "Training set mean score: 0.9479166666666666\n",
      "Validation set mean score: 0.9321428571428572\n",
      "\n",
      "\n",
      "k=7\n",
      "Training time: 0.102988s\n",
      "Testing time with training data: 15.308478s\n",
      "Testing time with validation data: 3.612969s\n",
      "Training set mean score: 0.9443452380952381\n",
      "Validation set mean score: 0.9285714285714286\n",
      "\n",
      "\n",
      "k=8\n",
      "Training time: 0.103417s\n",
      "Testing time with training data: 14.346035s\n",
      "Testing time with validation data: 3.657732s\n",
      "Training set mean score: 0.9404761904761905\n",
      "Validation set mean score: 0.925\n",
      "\n",
      "\n"
     ]
    }
   ],
   "source": [
    "for k in range(1,9):\n",
    "    print(f'k={k}')\n",
    "    m = KNeighborsClassifier(n_neighbors=k)\n",
    "    train_predict_subset(m)\n",
    "    print('\\n')"
   ]
  },
  {
   "cell_type": "markdown",
   "metadata": {
    "heading_collapsed": true,
    "hidden": true
   },
   "source": [
    "## 5. Decision Tree"
   ]
  },
  {
   "cell_type": "code",
   "execution_count": 32,
   "metadata": {
    "hidden": true
   },
   "outputs": [],
   "source": [
    "from sklearn.tree import DecisionTreeClassifier"
   ]
  },
  {
   "cell_type": "code",
   "execution_count": 33,
   "metadata": {
    "hidden": true
   },
   "outputs": [
    {
     "name": "stdout",
     "output_type": "stream",
     "text": [
      "Training time: 7.864265s\n",
      "Testing time with training data: 0.087233s\n",
      "Testing time with validation data: 0.043114s\n",
      "Training set mean score: 1.0\n",
      "Validation set mean score: 0.8528571428571429\n"
     ]
    }
   ],
   "source": [
    "m = DecisionTreeClassifier()\n",
    "train_predict_fullset(m)"
   ]
  },
  {
   "cell_type": "markdown",
   "metadata": {
    "heading_collapsed": true,
    "hidden": true
   },
   "source": [
    "## 6. Perceptron"
   ]
  },
  {
   "cell_type": "code",
   "execution_count": 34,
   "metadata": {
    "hidden": true
   },
   "outputs": [],
   "source": [
    "from sklearn.linear_model import perceptron"
   ]
  },
  {
   "cell_type": "code",
   "execution_count": 35,
   "metadata": {
    "hidden": true
   },
   "outputs": [
    {
     "name": "stderr",
     "output_type": "stream",
     "text": [
      "C:\\ProgramData\\Anaconda3\\envs\\lazyprog\\lib\\site-packages\\sklearn\\linear_model\\stochastic_gradient.py:128: FutureWarning: max_iter and tol parameters have been added in <class 'sklearn.linear_model.perceptron.Perceptron'> in 0.19. If both are left unset, they default to max_iter=5 and tol=None. If tol is not None, max_iter defaults to max_iter=1000. From 0.21, default max_iter will be 1000, and default tol will be 1e-3.\n",
      "  \"and default tol will be 1e-3.\" % type(self), FutureWarning)\n"
     ]
    },
    {
     "name": "stdout",
     "output_type": "stream",
     "text": [
      "Training time: 2.2225s\n",
      "Testing time with training data: 0.115554s\n",
      "Testing time with validation data: 0.05214s\n",
      "Training set mean score: 0.8469387755102041\n",
      "Validation set mean score: 0.847936507936508\n"
     ]
    }
   ],
   "source": [
    "m = perceptron.Perceptron()\n",
    "train_predict_fullset(m)"
   ]
  },
  {
   "cell_type": "markdown",
   "metadata": {
    "heading_collapsed": true,
    "hidden": true
   },
   "source": [
    "## 7. Naive Bayes"
   ]
  },
  {
   "cell_type": "code",
   "execution_count": 36,
   "metadata": {
    "hidden": true
   },
   "outputs": [],
   "source": [
    "from sklearn.naive_bayes import *"
   ]
  },
  {
   "cell_type": "code",
   "execution_count": 37,
   "metadata": {
    "hidden": true
   },
   "outputs": [
    {
     "name": "stdout",
     "output_type": "stream",
     "text": [
      "Training time: 0.671916s\n",
      "Testing time with training data: 3.1706s\n",
      "Testing time with validation data: 1.501178s\n",
      "Training set mean score: 0.5558843537414966\n",
      "Validation set mean score: 0.5548412698412698\n"
     ]
    }
   ],
   "source": [
    "# Gaussian Naive Bayes\n",
    "m = GaussianNB()\n",
    "train_predict_fullset(m)"
   ]
  },
  {
   "cell_type": "code",
   "execution_count": 38,
   "metadata": {
    "hidden": true
   },
   "outputs": [
    {
     "name": "stdout",
     "output_type": "stream",
     "text": [
      "Training time: 0.153928s\n",
      "Testing time with training data: 0.154614s\n",
      "Testing time with validation data: 0.057151s\n",
      "Training set mean score: 0.8245238095238095\n",
      "Validation set mean score: 0.829920634920635\n"
     ]
    }
   ],
   "source": [
    "# Naive Bayes classifier for multinomial models\n",
    "m = MultinomialNB()\n",
    "train_predict_fullset(m)"
   ]
  },
  {
   "cell_type": "code",
   "execution_count": 39,
   "metadata": {
    "hidden": true
   },
   "outputs": [
    {
     "name": "stdout",
     "output_type": "stream",
     "text": [
      "Training time: 0.612477s\n",
      "Testing time with training data: 0.574241s\n",
      "Testing time with validation data: 0.22879s\n",
      "Training set mean score: 0.8322789115646259\n",
      "Validation set mean score: 0.8386507936507936\n"
     ]
    }
   ],
   "source": [
    "# Naive Bayes classifier for multivariate Bernoulli models.\n",
    "m = BernoulliNB()\n",
    "train_predict_fullset(m)"
   ]
  },
  {
   "cell_type": "markdown",
   "metadata": {},
   "source": [
    "# Test Set"
   ]
  },
  {
   "cell_type": "code",
   "execution_count": 40,
   "metadata": {
    "_cell_guid": "55ab1786-2615-44a3-ba64-581b650572f8",
    "_uuid": "2ed1f78e91f90326fc85f5b0c7146545de254eff"
   },
   "outputs": [],
   "source": [
    "df_test = pd.read_csv('data/MNIST/test.csv')"
   ]
  },
  {
   "cell_type": "code",
   "execution_count": 41,
   "metadata": {
    "_cell_guid": "7074a170-4da6-4912-943d-34dd142e7744",
    "_uuid": "80f159213eafd615d7c9e995c6ea056e1019ac17"
   },
   "outputs": [],
   "source": [
    "y_pred = m.predict(df_test)"
   ]
  },
  {
   "cell_type": "code",
   "execution_count": null,
   "metadata": {},
   "outputs": [],
   "source": [
    "import os\n",
    "\n",
    "os.makedirs('output', exist_ok=True)"
   ]
  },
  {
   "cell_type": "code",
   "execution_count": 42,
   "metadata": {
    "scrolled": true
   },
   "outputs": [],
   "source": [
    "# save submission to csv\n",
    "#pd.DataFrame({'ImageId': list(range(1,len(df_test)+1)),\n",
    "#              'Label': y_pred}).to_csv('submission.csv', index=False, header=True)\n",
    "\n",
    "\n",
    "my_submission = pd.DataFrame({'ImageId': list(range(1,len(df_test)+1)), \n",
    "                              'Label': y_pred})\n",
    "\n",
    "my_submission.to_csv('output/submission.csv', index=False, header=True)"
   ]
  },
  {
   "cell_type": "code",
   "execution_count": null,
   "metadata": {},
   "outputs": [],
   "source": []
  }
 ],
 "metadata": {
  "kernelspec": {
   "display_name": "Python 3",
   "language": "python",
   "name": "python3"
  },
  "language_info": {
   "codemirror_mode": {
    "name": "ipython",
    "version": 3
   },
   "file_extension": ".py",
   "mimetype": "text/x-python",
   "name": "python",
   "nbconvert_exporter": "python",
   "pygments_lexer": "ipython3",
   "version": "3.6.6"
  },
  "toc": {
   "base_numbering": 1,
   "nav_menu": {},
   "number_sections": true,
   "sideBar": true,
   "skip_h1_title": false,
   "title_cell": "Table of Contents",
   "title_sidebar": "Contents",
   "toc_cell": false,
   "toc_position": {},
   "toc_section_display": true,
   "toc_window_display": false
  }
 },
 "nbformat": 4,
 "nbformat_minor": 1
}
