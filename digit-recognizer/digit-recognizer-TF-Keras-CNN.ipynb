{
 "cells": [
  {
   "cell_type": "markdown",
   "metadata": {},
   "source": [
    "# Import Packages"
   ]
  },
  {
   "cell_type": "code",
   "execution_count": 1,
   "metadata": {
    "collapsed": true
   },
   "outputs": [],
   "source": [
    "%load_ext autoreload\n",
    "%autoreload 2\n",
    "%matplotlib inline"
   ]
  },
  {
   "cell_type": "code",
   "execution_count": 2,
   "metadata": {
    "colab": {
     "autoexec": {
      "startup": false,
      "wait_interval": 0
     }
    },
    "colab_type": "code",
    "collapsed": true,
    "id": "qWT31nsxURdJ"
   },
   "outputs": [],
   "source": [
    "import numpy as np\n",
    "import pandas as pd\n",
    "import os"
   ]
  },
  {
   "cell_type": "code",
   "execution_count": 3,
   "metadata": {
    "collapsed": true
   },
   "outputs": [],
   "source": [
    "import tensorflow as tf\n",
    "from tensorflow.keras.models import Sequential, save_model, load_model, model_from_json\n",
    "from tensorflow.keras.layers import Dense, Dropout, Activation, Reshape, Conv2D, AveragePooling2D, Flatten\n",
    "from tensorflow.keras.layers import MaxPooling2D\n",
    "from tensorflow.keras.callbacks import EarlyStopping, ModelCheckpoint"
   ]
  },
  {
   "cell_type": "code",
   "execution_count": 4,
   "metadata": {
    "collapsed": true
   },
   "outputs": [],
   "source": [
    "os.makedirs('models', exist_ok=True)\n",
    "os.makedirs('submissions', exist_ok=True)"
   ]
  },
  {
   "cell_type": "markdown",
   "metadata": {},
   "source": [
    "# Import Data"
   ]
  },
  {
   "cell_type": "code",
   "execution_count": 5,
   "metadata": {},
   "outputs": [
    {
     "name": "stdout",
     "output_type": "stream",
     "text": [
      "CPU times: user 8.11 s, sys: 601 ms, total: 8.71 s\n",
      "Wall time: 8.71 s\n"
     ]
    }
   ],
   "source": [
    "%%time\n",
    "# train_data = pd.read_csv('data/MNIST/train.csv\n",
    "train_data = pd.read_csv('data/MNIST/mnist_train.csv')\n",
    "test_data = pd.read_csv('data/MNIST/test.csv')"
   ]
  },
  {
   "cell_type": "code",
   "execution_count": 6,
   "metadata": {},
   "outputs": [
    {
     "data": {
      "text/plain": [
       "((60000, 785), (28000, 784))"
      ]
     },
     "execution_count": 6,
     "metadata": {},
     "output_type": "execute_result"
    }
   ],
   "source": [
    "(train_data.shape, test_data.shape)"
   ]
  },
  {
   "cell_type": "code",
   "execution_count": 7,
   "metadata": {
    "collapsed": true
   },
   "outputs": [],
   "source": [
    "X_train = np.array(train_data.iloc[:, 1:])\n",
    "y_train = np.array(train_data.iloc[:, 0])"
   ]
  },
  {
   "cell_type": "code",
   "execution_count": 8,
   "metadata": {
    "collapsed": true
   },
   "outputs": [],
   "source": [
    "X_test = np.array(test_data)"
   ]
  },
  {
   "cell_type": "code",
   "execution_count": 9,
   "metadata": {
    "scrolled": true
   },
   "outputs": [
    {
     "data": {
      "text/plain": [
       "((60000, 784), (60000,), (28000, 784))"
      ]
     },
     "execution_count": 9,
     "metadata": {},
     "output_type": "execute_result"
    }
   ],
   "source": [
    "(X_train.shape, y_train.shape, X_test.shape)"
   ]
  },
  {
   "cell_type": "markdown",
   "metadata": {},
   "source": [
    "# Simple Pre-Process Data"
   ]
  },
  {
   "cell_type": "code",
   "execution_count": 10,
   "metadata": {
    "collapsed": true
   },
   "outputs": [],
   "source": [
    "# Scale and convert the train images and add channels\n",
    "X_train = X_train / 255.0\n",
    "X_train = X_train.reshape((-1, 28, 28, 1))\n",
    "\n",
    "# Scale and convert the train images and add channels\n",
    "X_test = X_test / 255.0\n",
    "X_test = X_test.reshape((-1, 28, 28, 1))\n",
    "\n",
    "# One Hot Encoding\n",
    "y_train = tf.keras.utils.to_categorical(y_train, 10)"
   ]
  },
  {
   "cell_type": "code",
   "execution_count": 11,
   "metadata": {},
   "outputs": [
    {
     "data": {
      "text/plain": [
       "((60000, 28, 28, 1), (60000, 10), (28000, 28, 28, 1))"
      ]
     },
     "execution_count": 11,
     "metadata": {},
     "output_type": "execute_result"
    }
   ],
   "source": [
    "X_train.shape, y_train.shape, X_test.shape"
   ]
  },
  {
   "cell_type": "markdown",
   "metadata": {},
   "source": [
    "# Build NN Model"
   ]
  },
  {
   "cell_type": "markdown",
   "metadata": {},
   "source": [
    "## Model 1"
   ]
  },
  {
   "cell_type": "code",
   "execution_count": 12,
   "metadata": {
    "collapsed": true
   },
   "outputs": [],
   "source": [
    "model = Sequential()\n",
    "\n",
    "model.add(Conv2D(filters=32, kernel_size=(3, 3), activation='relu', input_shape=(28, 28, 1)))\n",
    "model.add(MaxPooling2D(pool_size=(2, 2), strides=2))\n",
    "model.add(Conv2D(filters=64, kernel_size=(3, 3), activation='relu'))\n",
    "model.add(MaxPooling2D(pool_size=(2, 2), strides=2))\n",
    "\n",
    "model.add(Flatten())\n",
    "model.add(Dense(64, activation='relu'))\n",
    "model.add(Dense(10, activation='softmax'))\n",
    "\n",
    "set_optm(model)"
   ]
  },
  {
   "cell_type": "markdown",
   "metadata": {},
   "source": [
    "## Model 2"
   ]
  },
  {
   "cell_type": "code",
   "execution_count": 13,
   "metadata": {
    "collapsed": true
   },
   "outputs": [],
   "source": [
    "model = Sequential()\n",
    "\n",
    "model.add(Conv2D(filters=16, kernel_size=(5, 5), activation='relu', input_shape=(28, 28, 1)))\n",
    "model.add(MaxPooling2D(pool_size=(2, 2), strides=2))\n",
    "model.add(Conv2D(filters=36, kernel_size=(5, 5), activation='relu'))\n",
    "model.add(MaxPooling2D(pool_size=(2, 2), strides=2))\n",
    "\n",
    "model.add(Flatten())\n",
    "model.add(Dense(128, activation='relu'))\n",
    "model.add(Dense(10, activation='softmax'))\n",
    "\n",
    "set_optm(model)"
   ]
  },
  {
   "cell_type": "markdown",
   "metadata": {},
   "source": [
    "## Model 3"
   ]
  },
  {
   "cell_type": "code",
   "execution_count": 14,
   "metadata": {
    "collapsed": true
   },
   "outputs": [],
   "source": [
    "model = Sequential()\n",
    "\n",
    "model.add(Conv2D(filters=32, kernel_size=(5, 5), activation='relu', input_shape=(28, 28, 1)))\n",
    "model.add(MaxPooling2D(pool_size=(2, 2), strides=2))\n",
    "model.add(Conv2D(filters=64, kernel_size=(5, 5), activation='relu'))\n",
    "model.add(MaxPooling2D(pool_size=(2, 2), strides=2))\n",
    "\n",
    "model.add(Flatten())\n",
    "model.add(Dense(128, activation='relu'))\n",
    "model.add(Dense(10, activation='softmax'))\n",
    "\n",
    "set_optm(model)"
   ]
  },
  {
   "cell_type": "markdown",
   "metadata": {},
   "source": [
    "## Model 4"
   ]
  },
  {
   "cell_type": "code",
   "execution_count": 15,
   "metadata": {
    "collapsed": true
   },
   "outputs": [],
   "source": [
    "model = Sequential()\n",
    "\n",
    "model.add(Conv2D(32, (3, 3), padding='same', activation='relu', input_shape=(28, 28, 1)))\n",
    "model.add(Conv2D(32, (3, 3), activation='relu', padding='same'))\n",
    "model.add(MaxPooling2D(pool_size=(2, 2), data_format=\"channels_first\"))\n",
    "\n",
    "model.add(Conv2D(32, (3, 3), padding='same', activation='relu'))\n",
    "model.add(Conv2D(32, (3, 3), padding='same', activation='relu'))\n",
    "model.add(MaxPooling2D(pool_size=(2, 2), data_format=\"channels_first\"))\n",
    "\n",
    "model.add(Conv2D(64, (3, 3), padding='same', activation='relu'))\n",
    "model.add(Conv2D(64, (3, 3), padding='same', activation='relu'))\n",
    "model.add(MaxPooling2D(pool_size=(2, 2), data_format=\"channels_first\"))\n",
    "model.add(Dropout(0.25))\n",
    "\n",
    "model.add(Flatten())\n",
    "model.add(Dense(256, activation='relu'))\n",
    "model.add(Dropout(0.5))\n",
    "\n",
    "model.add(Dense(256, activation='relu'))\n",
    "model.add(Dropout(0.5))\n",
    "\n",
    "model.add(Dense(10, activation='softmax'))\n",
    "\n",
    "set_optm(model)"
   ]
  },
  {
   "cell_type": "markdown",
   "metadata": {},
   "source": [
    "## Set Optimizer"
   ]
  },
  {
   "cell_type": "code",
   "execution_count": 13,
   "metadata": {
    "colab": {
     "autoexec": {
      "startup": false,
      "wait_interval": 0
     }
    },
    "colab_type": "code",
    "id": "iHaND5a6Vc-B"
   },
   "outputs": [
    {
     "name": "stdout",
     "output_type": "stream",
     "text": [
      "_________________________________________________________________\n",
      "Layer (type)                 Output Shape              Param #   \n",
      "=================================================================\n",
      "conv2d_6 (Conv2D)            (None, 28, 28, 32)        320       \n",
      "_________________________________________________________________\n",
      "conv2d_7 (Conv2D)            (None, 28, 28, 32)        9248      \n",
      "_________________________________________________________________\n",
      "max_pooling2d_6 (MaxPooling2 (None, 28, 14, 16)        0         \n",
      "_________________________________________________________________\n",
      "conv2d_8 (Conv2D)            (None, 28, 14, 32)        4640      \n",
      "_________________________________________________________________\n",
      "conv2d_9 (Conv2D)            (None, 28, 14, 32)        9248      \n",
      "_________________________________________________________________\n",
      "max_pooling2d_7 (MaxPooling2 (None, 28, 7, 16)         0         \n",
      "_________________________________________________________________\n",
      "conv2d_10 (Conv2D)           (None, 28, 7, 64)         9280      \n",
      "_________________________________________________________________\n",
      "conv2d_11 (Conv2D)           (None, 28, 7, 64)         36928     \n",
      "_________________________________________________________________\n",
      "max_pooling2d_8 (MaxPooling2 (None, 28, 3, 32)         0         \n",
      "_________________________________________________________________\n",
      "dropout (Dropout)            (None, 28, 3, 32)         0         \n",
      "_________________________________________________________________\n",
      "flatten_3 (Flatten)          (None, 2688)              0         \n",
      "_________________________________________________________________\n",
      "dense_6 (Dense)              (None, 256)               688384    \n",
      "_________________________________________________________________\n",
      "dropout_1 (Dropout)          (None, 256)               0         \n",
      "_________________________________________________________________\n",
      "dense_7 (Dense)              (None, 256)               65792     \n",
      "_________________________________________________________________\n",
      "dropout_2 (Dropout)          (None, 256)               0         \n",
      "_________________________________________________________________\n",
      "dense_8 (Dense)              (None, 10)                2570      \n",
      "=================================================================\n",
      "Total params: 826,410\n",
      "Trainable params: 826,410\n",
      "Non-trainable params: 0\n",
      "_________________________________________________________________\n"
     ]
    }
   ],
   "source": [
    "def set_optm(model):\n",
    "    # optimizer = tf.train.RMSPropOptimizer(learning_rate=0.001)\n",
    "    # optimizer = tf.keras.optimizers.RMSprop(lr=0.001, rho=0.9, epsilon=None, decay=0.0)  \n",
    "\n",
    "    optimizer = tf.train.AdamOptimizer(learning_rate=0.0005, beta1=0.9, beta2=0.999, epsilon=1e-08)\n",
    "\n",
    "    model.compile(loss='categorical_crossentropy',\n",
    "                  optimizer=optimizer,\n",
    "                  metrics=['accuracy'])\n",
    "    model.summary()"
   ]
  },
  {
   "cell_type": "markdown",
   "metadata": {},
   "source": [
    "# Fit Model"
   ]
  },
  {
   "cell_type": "markdown",
   "metadata": {
    "heading_collapsed": true
   },
   "source": [
    "## With validation"
   ]
  },
  {
   "cell_type": "code",
   "execution_count": 17,
   "metadata": {
    "collapsed": true,
    "hidden": true
   },
   "outputs": [],
   "source": [
    "num_epoch = 100"
   ]
  },
  {
   "cell_type": "code",
   "execution_count": 18,
   "metadata": {
    "collapsed": true,
    "hidden": true
   },
   "outputs": [],
   "source": [
    "callback_val = [EarlyStopping(monitor='val_loss', patience=10),\n",
    "                ModelCheckpoint(filepath='models/weights.{epoch:02d}-{val_loss:.2f}_val.h5',\n",
    "                                monitor='val_loss',\n",
    "                                save_best_only=True)]"
   ]
  },
  {
   "cell_type": "code",
   "execution_count": 19,
   "metadata": {
    "hidden": true
   },
   "outputs": [
    {
     "name": "stdout",
     "output_type": "stream",
     "text": [
      "Train on 40199 samples, validate on 19801 samples\n",
      "Epoch 1/100\n",
      "40199/40199 [==============================] - 12s 289us/step - loss: 0.7473 - acc: 0.7439 - val_loss: 0.1397 - val_acc: 0.9582\n",
      "WARNING:tensorflow:TensorFlow optimizers do not make it possible to access optimizer attributes or optimizer state after instantiation. As a result, we cannot save the optimizer as part of the model save file.You will have to compile your model again after loading it. Prefer using a Keras optimizer instead (see keras.io/optimizers).\n",
      "Epoch 2/100\n",
      "40199/40199 [==============================] - 9s 221us/step - loss: 0.1784 - acc: 0.9489 - val_loss: 0.0892 - val_acc: 0.9731\n",
      "WARNING:tensorflow:TensorFlow optimizers do not make it possible to access optimizer attributes or optimizer state after instantiation. As a result, we cannot save the optimizer as part of the model save file.You will have to compile your model again after loading it. Prefer using a Keras optimizer instead (see keras.io/optimizers).\n",
      "Epoch 3/100\n",
      "40199/40199 [==============================] - 9s 223us/step - loss: 0.1232 - acc: 0.9653 - val_loss: 0.0642 - val_acc: 0.9809\n",
      "WARNING:tensorflow:TensorFlow optimizers do not make it possible to access optimizer attributes or optimizer state after instantiation. As a result, we cannot save the optimizer as part of the model save file.You will have to compile your model again after loading it. Prefer using a Keras optimizer instead (see keras.io/optimizers).\n",
      "Epoch 4/100\n",
      "40199/40199 [==============================] - 9s 222us/step - loss: 0.0936 - acc: 0.9735 - val_loss: 0.0540 - val_acc: 0.9848\n",
      "WARNING:tensorflow:TensorFlow optimizers do not make it possible to access optimizer attributes or optimizer state after instantiation. As a result, we cannot save the optimizer as part of the model save file.You will have to compile your model again after loading it. Prefer using a Keras optimizer instead (see keras.io/optimizers).\n",
      "Epoch 5/100\n",
      "40199/40199 [==============================] - 9s 222us/step - loss: 0.0768 - acc: 0.9787 - val_loss: 0.0535 - val_acc: 0.9859\n",
      "WARNING:tensorflow:TensorFlow optimizers do not make it possible to access optimizer attributes or optimizer state after instantiation. As a result, we cannot save the optimizer as part of the model save file.You will have to compile your model again after loading it. Prefer using a Keras optimizer instead (see keras.io/optimizers).\n",
      "Epoch 6/100\n",
      "40199/40199 [==============================] - 9s 222us/step - loss: 0.0659 - acc: 0.9811 - val_loss: 0.0514 - val_acc: 0.9850\n",
      "WARNING:tensorflow:TensorFlow optimizers do not make it possible to access optimizer attributes or optimizer state after instantiation. As a result, we cannot save the optimizer as part of the model save file.You will have to compile your model again after loading it. Prefer using a Keras optimizer instead (see keras.io/optimizers).\n",
      "Epoch 7/100\n",
      "40199/40199 [==============================] - 9s 225us/step - loss: 0.0573 - acc: 0.9838 - val_loss: 0.0417 - val_acc: 0.9883\n",
      "WARNING:tensorflow:TensorFlow optimizers do not make it possible to access optimizer attributes or optimizer state after instantiation. As a result, we cannot save the optimizer as part of the model save file.You will have to compile your model again after loading it. Prefer using a Keras optimizer instead (see keras.io/optimizers).\n",
      "Epoch 8/100\n",
      "40199/40199 [==============================] - 9s 222us/step - loss: 0.0535 - acc: 0.9844 - val_loss: 0.0425 - val_acc: 0.9881\n",
      "Epoch 9/100\n",
      "40199/40199 [==============================] - 9s 223us/step - loss: 0.0454 - acc: 0.9868 - val_loss: 0.0446 - val_acc: 0.9889\n",
      "Epoch 10/100\n",
      "40199/40199 [==============================] - 9s 221us/step - loss: 0.0423 - acc: 0.9883 - val_loss: 0.0399 - val_acc: 0.9892\n",
      "WARNING:tensorflow:TensorFlow optimizers do not make it possible to access optimizer attributes or optimizer state after instantiation. As a result, we cannot save the optimizer as part of the model save file.You will have to compile your model again after loading it. Prefer using a Keras optimizer instead (see keras.io/optimizers).\n",
      "Epoch 11/100\n",
      "40199/40199 [==============================] - 9s 222us/step - loss: 0.0371 - acc: 0.9894 - val_loss: 0.0362 - val_acc: 0.9897\n",
      "WARNING:tensorflow:TensorFlow optimizers do not make it possible to access optimizer attributes or optimizer state after instantiation. As a result, we cannot save the optimizer as part of the model save file.You will have to compile your model again after loading it. Prefer using a Keras optimizer instead (see keras.io/optimizers).\n",
      "Epoch 12/100\n",
      "40199/40199 [==============================] - 9s 224us/step - loss: 0.0360 - acc: 0.9898 - val_loss: 0.0450 - val_acc: 0.9874\n",
      "Epoch 13/100\n",
      "40199/40199 [==============================] - 9s 224us/step - loss: 0.0344 - acc: 0.9896 - val_loss: 0.0361 - val_acc: 0.9894\n",
      "WARNING:tensorflow:TensorFlow optimizers do not make it possible to access optimizer attributes or optimizer state after instantiation. As a result, we cannot save the optimizer as part of the model save file.You will have to compile your model again after loading it. Prefer using a Keras optimizer instead (see keras.io/optimizers).\n",
      "Epoch 14/100\n",
      "40199/40199 [==============================] - 9s 222us/step - loss: 0.0286 - acc: 0.9914 - val_loss: 0.0350 - val_acc: 0.9906\n",
      "WARNING:tensorflow:TensorFlow optimizers do not make it possible to access optimizer attributes or optimizer state after instantiation. As a result, we cannot save the optimizer as part of the model save file.You will have to compile your model again after loading it. Prefer using a Keras optimizer instead (see keras.io/optimizers).\n",
      "Epoch 15/100\n",
      "40199/40199 [==============================] - 9s 225us/step - loss: 0.0295 - acc: 0.9913 - val_loss: 0.0332 - val_acc: 0.9913\n",
      "WARNING:tensorflow:TensorFlow optimizers do not make it possible to access optimizer attributes or optimizer state after instantiation. As a result, we cannot save the optimizer as part of the model save file.You will have to compile your model again after loading it. Prefer using a Keras optimizer instead (see keras.io/optimizers).\n",
      "Epoch 16/100\n",
      "40199/40199 [==============================] - 9s 225us/step - loss: 0.0285 - acc: 0.9917 - val_loss: 0.0337 - val_acc: 0.9907\n",
      "Epoch 17/100\n",
      "40199/40199 [==============================] - 9s 225us/step - loss: 0.0241 - acc: 0.9931 - val_loss: 0.0331 - val_acc: 0.9910\n",
      "WARNING:tensorflow:TensorFlow optimizers do not make it possible to access optimizer attributes or optimizer state after instantiation. As a result, we cannot save the optimizer as part of the model save file.You will have to compile your model again after loading it. Prefer using a Keras optimizer instead (see keras.io/optimizers).\n",
      "Epoch 18/100\n",
      "40199/40199 [==============================] - 9s 222us/step - loss: 0.0256 - acc: 0.9925 - val_loss: 0.0335 - val_acc: 0.9914\n",
      "Epoch 19/100\n",
      "40199/40199 [==============================] - 9s 222us/step - loss: 0.0224 - acc: 0.9933 - val_loss: 0.0316 - val_acc: 0.9913\n",
      "WARNING:tensorflow:TensorFlow optimizers do not make it possible to access optimizer attributes or optimizer state after instantiation. As a result, we cannot save the optimizer as part of the model save file.You will have to compile your model again after loading it. Prefer using a Keras optimizer instead (see keras.io/optimizers).\n",
      "Epoch 20/100\n",
      "40199/40199 [==============================] - 9s 225us/step - loss: 0.0197 - acc: 0.9941 - val_loss: 0.0359 - val_acc: 0.9908\n",
      "Epoch 21/100\n",
      "40199/40199 [==============================] - 9s 222us/step - loss: 0.0203 - acc: 0.9944 - val_loss: 0.0332 - val_acc: 0.9915\n",
      "Epoch 22/100\n",
      "40199/40199 [==============================] - 9s 223us/step - loss: 0.0186 - acc: 0.9945 - val_loss: 0.0380 - val_acc: 0.9908\n",
      "Epoch 23/100\n",
      "40199/40199 [==============================] - 9s 222us/step - loss: 0.0197 - acc: 0.9940 - val_loss: 0.0312 - val_acc: 0.9912\n",
      "WARNING:tensorflow:TensorFlow optimizers do not make it possible to access optimizer attributes or optimizer state after instantiation. As a result, we cannot save the optimizer as part of the model save file.You will have to compile your model again after loading it. Prefer using a Keras optimizer instead (see keras.io/optimizers).\n"
     ]
    },
    {
     "name": "stdout",
     "output_type": "stream",
     "text": [
      "Epoch 24/100\n",
      "40199/40199 [==============================] - 9s 223us/step - loss: 0.0171 - acc: 0.9948 - val_loss: 0.0365 - val_acc: 0.9916\n",
      "Epoch 25/100\n",
      "40199/40199 [==============================] - 9s 223us/step - loss: 0.0163 - acc: 0.9955 - val_loss: 0.0325 - val_acc: 0.9919\n",
      "Epoch 26/100\n",
      "40199/40199 [==============================] - 9s 224us/step - loss: 0.0172 - acc: 0.9946 - val_loss: 0.0347 - val_acc: 0.9912\n",
      "Epoch 27/100\n",
      "40199/40199 [==============================] - 9s 222us/step - loss: 0.0152 - acc: 0.9952 - val_loss: 0.0355 - val_acc: 0.9915\n",
      "Epoch 28/100\n",
      "40199/40199 [==============================] - 9s 222us/step - loss: 0.0135 - acc: 0.9957 - val_loss: 0.0307 - val_acc: 0.9918\n",
      "WARNING:tensorflow:TensorFlow optimizers do not make it possible to access optimizer attributes or optimizer state after instantiation. As a result, we cannot save the optimizer as part of the model save file.You will have to compile your model again after loading it. Prefer using a Keras optimizer instead (see keras.io/optimizers).\n",
      "Epoch 29/100\n",
      "40199/40199 [==============================] - 9s 222us/step - loss: 0.0126 - acc: 0.9962 - val_loss: 0.0363 - val_acc: 0.9915\n",
      "Epoch 30/100\n",
      "40199/40199 [==============================] - 9s 221us/step - loss: 0.0146 - acc: 0.9952 - val_loss: 0.0345 - val_acc: 0.9919\n",
      "Epoch 31/100\n",
      "40199/40199 [==============================] - 9s 221us/step - loss: 0.0148 - acc: 0.9955 - val_loss: 0.0327 - val_acc: 0.9924\n",
      "Epoch 32/100\n",
      "40199/40199 [==============================] - 9s 222us/step - loss: 0.0112 - acc: 0.9962 - val_loss: 0.0385 - val_acc: 0.9916\n",
      "Epoch 33/100\n",
      "40199/40199 [==============================] - 9s 224us/step - loss: 0.0152 - acc: 0.9955 - val_loss: 0.0339 - val_acc: 0.9920\n",
      "Epoch 34/100\n",
      "40199/40199 [==============================] - 9s 221us/step - loss: 0.0110 - acc: 0.9967 - val_loss: 0.0381 - val_acc: 0.9918\n",
      "Epoch 35/100\n",
      "40199/40199 [==============================] - 9s 222us/step - loss: 0.0127 - acc: 0.9962 - val_loss: 0.0351 - val_acc: 0.9917\n",
      "Epoch 36/100\n",
      "40199/40199 [==============================] - 9s 222us/step - loss: 0.0110 - acc: 0.9969 - val_loss: 0.0404 - val_acc: 0.9904\n",
      "Epoch 37/100\n",
      "40199/40199 [==============================] - 9s 223us/step - loss: 0.0123 - acc: 0.9960 - val_loss: 0.0408 - val_acc: 0.9910\n",
      "Epoch 38/100\n",
      "40199/40199 [==============================] - 9s 225us/step - loss: 0.0117 - acc: 0.9964 - val_loss: 0.0389 - val_acc: 0.9917\n",
      "CPU times: user 4min 24s, sys: 55.9 s, total: 5min 20s\n",
      "Wall time: 5min 44s\n"
     ]
    },
    {
     "data": {
      "text/plain": [
       "<tensorflow.python.keras.callbacks.History at 0x7fb3e63b4e48>"
      ]
     },
     "execution_count": 19,
     "metadata": {},
     "output_type": "execute_result"
    }
   ],
   "source": [
    "%%time\n",
    "model.fit(X_train, y_train, epochs=num_epoch, batch_size=256, validation_split=0.33, callbacks=callback_val)"
   ]
  },
  {
   "cell_type": "markdown",
   "metadata": {
    "heading_collapsed": true
   },
   "source": [
    "## With full training data"
   ]
  },
  {
   "cell_type": "markdown",
   "metadata": {
    "hidden": true
   },
   "source": [
    "Without validation set, have to set the num epochs manually without early stopping."
   ]
  },
  {
   "cell_type": "code",
   "execution_count": 20,
   "metadata": {
    "collapsed": true,
    "hidden": true
   },
   "outputs": [],
   "source": [
    "num_epoch = 80"
   ]
  },
  {
   "cell_type": "code",
   "execution_count": 21,
   "metadata": {
    "hidden": true,
    "scrolled": false
   },
   "outputs": [
    {
     "name": "stdout",
     "output_type": "stream",
     "text": [
      "Epoch 1/80\n",
      "60000/60000 [==============================] - 12s 198us/step - loss: 0.0228 - acc: 0.9939\n",
      "Epoch 2/80\n",
      "60000/60000 [==============================] - 12s 192us/step - loss: 0.0196 - acc: 0.9946\n",
      "Epoch 3/80\n",
      "60000/60000 [==============================] - 12s 195us/step - loss: 0.0183 - acc: 0.9948\n",
      "Epoch 4/80\n",
      "60000/60000 [==============================] - 12s 197us/step - loss: 0.0143 - acc: 0.9957\n",
      "Epoch 5/80\n",
      "60000/60000 [==============================] - 12s 193us/step - loss: 0.0157 - acc: 0.9955\n",
      "Epoch 6/80\n",
      "60000/60000 [==============================] - 12s 193us/step - loss: 0.0131 - acc: 0.9962\n",
      "Epoch 7/80\n",
      "60000/60000 [==============================] - 12s 193us/step - loss: 0.0130 - acc: 0.9962\n",
      "Epoch 8/80\n",
      "60000/60000 [==============================] - 12s 193us/step - loss: 0.0125 - acc: 0.9965\n",
      "Epoch 9/80\n",
      "60000/60000 [==============================] - 12s 193us/step - loss: 0.0108 - acc: 0.9970\n",
      "Epoch 10/80\n",
      "60000/60000 [==============================] - 12s 195us/step - loss: 0.0116 - acc: 0.9964\n",
      "Epoch 11/80\n",
      "60000/60000 [==============================] - 12s 196us/step - loss: 0.0108 - acc: 0.99701s - loss: 0.\n",
      "Epoch 12/80\n",
      "60000/60000 [==============================] - 12s 193us/step - loss: 0.0108 - acc: 0.9967\n",
      "Epoch 13/80\n",
      "60000/60000 [==============================] - 12s 193us/step - loss: 0.0126 - acc: 0.9964\n",
      "Epoch 14/80\n",
      "60000/60000 [==============================] - 12s 193us/step - loss: 0.0102 - acc: 0.9971\n",
      "Epoch 15/80\n",
      "60000/60000 [==============================] - 12s 193us/step - loss: 0.0094 - acc: 0.9972\n",
      "Epoch 16/80\n",
      "60000/60000 [==============================] - 12s 192us/step - loss: 0.0090 - acc: 0.9971\n",
      "Epoch 17/80\n",
      "60000/60000 [==============================] - 12s 193us/step - loss: 0.0085 - acc: 0.9976\n",
      "Epoch 18/80\n",
      "60000/60000 [==============================] - 12s 192us/step - loss: 0.0079 - acc: 0.99761s - loss: 0.0072\n",
      "Epoch 19/80\n",
      "60000/60000 [==============================] - 12s 194us/step - loss: 0.0093 - acc: 0.9974\n",
      "Epoch 20/80\n",
      "60000/60000 [==============================] - 12s 194us/step - loss: 0.0082 - acc: 0.9979\n",
      "Epoch 21/80\n",
      "60000/60000 [==============================] - 11s 192us/step - loss: 0.0067 - acc: 0.9980\n",
      "Epoch 22/80\n",
      "60000/60000 [==============================] - 12s 192us/step - loss: 0.0076 - acc: 0.9979\n",
      "Epoch 23/80\n",
      "60000/60000 [==============================] - 12s 194us/step - loss: 0.0076 - acc: 0.9980\n",
      "Epoch 24/80\n",
      "60000/60000 [==============================] - 11s 191us/step - loss: 0.0076 - acc: 0.9978\n",
      "Epoch 25/80\n",
      "60000/60000 [==============================] - 12s 194us/step - loss: 0.0077 - acc: 0.9979\n",
      "Epoch 26/80\n",
      "60000/60000 [==============================] - 12s 194us/step - loss: 0.0076 - acc: 0.9978\n",
      "Epoch 27/80\n",
      "60000/60000 [==============================] - 12s 192us/step - loss: 0.0093 - acc: 0.9974\n",
      "Epoch 28/80\n",
      "60000/60000 [==============================] - 12s 194us/step - loss: 0.0050 - acc: 0.9986\n",
      "Epoch 29/80\n",
      "60000/60000 [==============================] - 12s 194us/step - loss: 0.0066 - acc: 0.9978\n",
      "Epoch 30/80\n",
      "60000/60000 [==============================] - 12s 197us/step - loss: 0.0067 - acc: 0.9982\n",
      "Epoch 31/80\n",
      "60000/60000 [==============================] - 12s 194us/step - loss: 0.0081 - acc: 0.9976\n",
      "Epoch 32/80\n",
      "60000/60000 [==============================] - 12s 193us/step - loss: 0.0063 - acc: 0.9981\n",
      "Epoch 33/80\n",
      "60000/60000 [==============================] - 12s 193us/step - loss: 0.0063 - acc: 0.9980\n",
      "Epoch 34/80\n",
      "60000/60000 [==============================] - 12s 194us/step - loss: 0.0065 - acc: 0.9982\n",
      "Epoch 35/80\n",
      "60000/60000 [==============================] - 12s 196us/step - loss: 0.0059 - acc: 0.9982\n",
      "Epoch 36/80\n",
      "60000/60000 [==============================] - 12s 196us/step - loss: 0.0046 - acc: 0.9985\n",
      "Epoch 37/80\n",
      "60000/60000 [==============================] - 12s 194us/step - loss: 0.0059 - acc: 0.9981\n",
      "Epoch 38/80\n",
      "60000/60000 [==============================] - 12s 193us/step - loss: 0.0068 - acc: 0.99812\n",
      "Epoch 39/80\n",
      "60000/60000 [==============================] - 12s 194us/step - loss: 0.0062 - acc: 0.9981\n",
      "Epoch 40/80\n",
      "60000/60000 [==============================] - 12s 195us/step - loss: 0.0085 - acc: 0.9976\n",
      "Epoch 41/80\n",
      "60000/60000 [==============================] - 12s 193us/step - loss: 0.0048 - acc: 0.9985\n",
      "Epoch 42/80\n",
      "60000/60000 [==============================] - 12s 196us/step - loss: 0.0055 - acc: 0.9984\n",
      "Epoch 43/80\n",
      "60000/60000 [==============================] - 12s 192us/step - loss: 0.0059 - acc: 0.9983\n",
      "Epoch 44/80\n",
      "60000/60000 [==============================] - 12s 192us/step - loss: 0.0042 - acc: 0.9986\n",
      "Epoch 45/80\n",
      "60000/60000 [==============================] - 12s 193us/step - loss: 0.0043 - acc: 0.9985\n",
      "Epoch 46/80\n",
      "60000/60000 [==============================] - 12s 194us/step - loss: 0.0059 - acc: 0.9984\n",
      "Epoch 47/80\n",
      "60000/60000 [==============================] - 12s 194us/step - loss: 0.0054 - acc: 0.9984\n",
      "Epoch 48/80\n",
      "60000/60000 [==============================] - 12s 192us/step - loss: 0.0046 - acc: 0.9987\n",
      "Epoch 49/80\n",
      "60000/60000 [==============================] - 12s 193us/step - loss: 0.0061 - acc: 0.9983\n",
      "Epoch 50/80\n",
      "60000/60000 [==============================] - 12s 193us/step - loss: 0.0056 - acc: 0.9984\n",
      "Epoch 51/80\n",
      "60000/60000 [==============================] - 12s 194us/step - loss: 0.0046 - acc: 0.9986\n",
      "Epoch 52/80\n",
      "60000/60000 [==============================] - 12s 195us/step - loss: 0.0045 - acc: 0.9986\n",
      "Epoch 53/80\n",
      "60000/60000 [==============================] - 12s 196us/step - loss: 0.0043 - acc: 0.9987\n",
      "Epoch 54/80\n",
      "60000/60000 [==============================] - 12s 193us/step - loss: 0.0046 - acc: 0.9985\n",
      "Epoch 55/80\n",
      "60000/60000 [==============================] - 12s 192us/step - loss: 0.0048 - acc: 0.9985\n",
      "Epoch 56/80\n",
      "60000/60000 [==============================] - 12s 198us/step - loss: 0.0050 - acc: 0.9984\n",
      "Epoch 57/80\n",
      "60000/60000 [==============================] - 12s 195us/step - loss: 0.0045 - acc: 0.9987\n",
      "Epoch 58/80\n",
      "60000/60000 [==============================] - 12s 194us/step - loss: 0.0053 - acc: 0.9984\n",
      "Epoch 59/80\n",
      "60000/60000 [==============================] - 12s 194us/step - loss: 0.0052 - acc: 0.9986\n",
      "Epoch 60/80\n",
      "60000/60000 [==============================] - 12s 196us/step - loss: 0.0038 - acc: 0.9989\n",
      "Epoch 61/80\n",
      "60000/60000 [==============================] - 12s 192us/step - loss: 0.0035 - acc: 0.9990\n",
      "Epoch 62/80\n",
      "60000/60000 [==============================] - 12s 193us/step - loss: 0.0035 - acc: 0.9990\n",
      "Epoch 63/80\n",
      "60000/60000 [==============================] - 12s 194us/step - loss: 0.0057 - acc: 0.9984\n",
      "Epoch 64/80\n",
      "60000/60000 [==============================] - 12s 193us/step - loss: 0.0035 - acc: 0.9991\n",
      "Epoch 65/80\n",
      "60000/60000 [==============================] - 12s 193us/step - loss: 0.0035 - acc: 0.9990\n",
      "Epoch 66/80\n",
      "60000/60000 [==============================] - 12s 194us/step - loss: 0.0044 - acc: 0.9989\n",
      "Epoch 67/80\n",
      "60000/60000 [==============================] - 12s 194us/step - loss: 0.0038 - acc: 0.9988\n",
      "Epoch 68/80\n",
      "60000/60000 [==============================] - 12s 192us/step - loss: 0.0034 - acc: 0.9990\n",
      "Epoch 69/80\n",
      "60000/60000 [==============================] - 12s 195us/step - loss: 0.0039 - acc: 0.9990\n",
      "Epoch 70/80\n",
      "60000/60000 [==============================] - 12s 194us/step - loss: 0.0040 - acc: 0.9987\n",
      "Epoch 71/80\n",
      "60000/60000 [==============================] - 12s 192us/step - loss: 0.0048 - acc: 0.9987\n",
      "Epoch 72/80\n",
      "60000/60000 [==============================] - 12s 194us/step - loss: 0.0038 - acc: 0.9989\n",
      "Epoch 73/80\n",
      "60000/60000 [==============================] - 12s 195us/step - loss: 0.0036 - acc: 0.9989\n",
      "Epoch 74/80\n",
      "60000/60000 [==============================] - 12s 194us/step - loss: 0.0041 - acc: 0.9987\n",
      "Epoch 75/80\n",
      "60000/60000 [==============================] - 12s 193us/step - loss: 0.0031 - acc: 0.9991\n",
      "Epoch 76/80\n",
      "60000/60000 [==============================] - 12s 192us/step - loss: 0.0056 - acc: 0.9984\n",
      "Epoch 77/80\n",
      "60000/60000 [==============================] - 12s 193us/step - loss: 0.0040 - acc: 0.9988\n",
      "Epoch 78/80\n",
      "60000/60000 [==============================] - 12s 195us/step - loss: 0.0035 - acc: 0.9990\n",
      "Epoch 79/80\n",
      "60000/60000 [==============================] - 12s 196us/step - loss: 0.0043 - acc: 0.99901s - loss\n",
      "Epoch 80/80\n",
      "60000/60000 [==============================] - 12s 196us/step - loss: 0.0031 - acc: 0.9992\n"
     ]
    },
    {
     "data": {
      "text/plain": [
       "<tensorflow.python.keras.callbacks.History at 0x7fb3e6c45828>"
      ]
     },
     "execution_count": 21,
     "metadata": {},
     "output_type": "execute_result"
    }
   ],
   "source": [
    "model.fit(X_train, y_train, epochs=num_epoch, batch_size=256)"
   ]
  },
  {
   "cell_type": "markdown",
   "metadata": {},
   "source": [
    "# Saving Model"
   ]
  },
  {
   "cell_type": "markdown",
   "metadata": {
    "heading_collapsed": true
   },
   "source": [
    "## Save Entire Model"
   ]
  },
  {
   "cell_type": "code",
   "execution_count": 22,
   "metadata": {
    "hidden": true
   },
   "outputs": [
    {
     "name": "stdout",
     "output_type": "stream",
     "text": [
      "WARNING:tensorflow:TensorFlow optimizers do not make it possible to access optimizer attributes or optimizer state after instantiation. As a result, we cannot save the optimizer as part of the model save file.You will have to compile your model again after loading it. Prefer using a Keras optimizer instead (see keras.io/optimizers).\n"
     ]
    }
   ],
   "source": [
    "save_model(model, 'models/model_4.h5')"
   ]
  },
  {
   "cell_type": "markdown",
   "metadata": {
    "heading_collapsed": true
   },
   "source": [
    "## Save Architecture and Weights Separately"
   ]
  },
  {
   "cell_type": "code",
   "execution_count": 23,
   "metadata": {
    "collapsed": true,
    "hidden": true
   },
   "outputs": [],
   "source": [
    "with open('models/model_4_architecture.json', 'w') as f:\n",
    "    f.write(model.to_json())"
   ]
  },
  {
   "cell_type": "code",
   "execution_count": 24,
   "metadata": {
    "collapsed": true,
    "hidden": true
   },
   "outputs": [],
   "source": [
    "model.save_weights('models/model_4_weights.h5')"
   ]
  },
  {
   "cell_type": "markdown",
   "metadata": {},
   "source": [
    "# Load Model"
   ]
  },
  {
   "cell_type": "markdown",
   "metadata": {},
   "source": [
    "## Load Entire Model"
   ]
  },
  {
   "cell_type": "code",
   "execution_count": 12,
   "metadata": {},
   "outputs": [
    {
     "name": "stdout",
     "output_type": "stream",
     "text": [
      "WARNING:tensorflow:No training configuration found in save file: the model was *not* compiled. Compile it manually.\n"
     ]
    }
   ],
   "source": [
    "# model = load_model(\"models/model_4.h5\")\n",
    "\n",
    "model = load_model(\"models/weights.28-0.03_val.h5\")\n",
    "set_optm(model)"
   ]
  },
  {
   "cell_type": "markdown",
   "metadata": {},
   "source": [
    "## Load Architecture and Weights"
   ]
  },
  {
   "cell_type": "code",
   "execution_count": 26,
   "metadata": {
    "collapsed": true
   },
   "outputs": [],
   "source": [
    "with open('models/model_4_architecture.json', 'r') as f:\n",
    "    model = model_from_json(f.read())"
   ]
  },
  {
   "cell_type": "code",
   "execution_count": 30,
   "metadata": {
    "collapsed": true
   },
   "outputs": [],
   "source": [
    "model.load_weights('models/model_4_weights.h5')"
   ]
  },
  {
   "cell_type": "markdown",
   "metadata": {},
   "source": [
    "# Predict on Test Data"
   ]
  },
  {
   "cell_type": "code",
   "execution_count": 17,
   "metadata": {},
   "outputs": [
    {
     "name": "stdout",
     "output_type": "stream",
     "text": [
      "CPU times: user 4.4 s, sys: 1.04 s, total: 5.43 s\n",
      "Wall time: 4.34 s\n"
     ]
    }
   ],
   "source": [
    "%%time\n",
    "prediction = model.predict(X_test)\n",
    "prediction = np.argmax(prediction,axis=1)"
   ]
  },
  {
   "cell_type": "code",
   "execution_count": 18,
   "metadata": {
    "collapsed": true
   },
   "outputs": [],
   "source": [
    "n_samples_test = X_test.shape[0]"
   ]
  },
  {
   "cell_type": "code",
   "execution_count": 19,
   "metadata": {
    "collapsed": true
   },
   "outputs": [],
   "source": [
    "data_predict = {\"ImageId\":range(1, n_samples_test+1), \"Label\":prediction}\n",
    "data_predict = pd.DataFrame(data_predict)\n",
    "data_predict.to_csv(\"submissions/val.csv\", index=False)"
   ]
  },
  {
   "cell_type": "raw",
   "metadata": {},
   "source": [
    "!kaggle competitions submit -c digit-recognizer -f submissions/submission_using_mnist_full_no_val.csv -m \"using_mnist_full_no_val\""
   ]
  },
  {
   "cell_type": "markdown",
   "metadata": {},
   "source": [
    "Kaggle Score: \n",
    "\n",
    "- 0.98514 (20 epochs, 5 epochs)\n",
    "- 0.99328 (80 epochs, Model 6)\n",
    "- 0.99142 (14 epochs with validation, Model 6)\n",
    "- 0.99914 (using full mnist data)"
   ]
  }
 ],
 "metadata": {
  "colab": {
   "default_view": {},
   "name": "5-conv-draft.ipynb",
   "provenance": [],
   "version": "0.3.2",
   "views": {}
  },
  "kernelspec": {
   "display_name": "Python (fastai)",
   "language": "python",
   "name": "fastai"
  },
  "language_info": {
   "codemirror_mode": {
    "name": "ipython",
    "version": 3
   },
   "file_extension": ".py",
   "mimetype": "text/x-python",
   "name": "python",
   "nbconvert_exporter": "python",
   "pygments_lexer": "ipython3",
   "version": "3.6.5"
  },
  "toc": {
   "base_numbering": 1,
   "nav_menu": {},
   "number_sections": true,
   "sideBar": true,
   "skip_h1_title": false,
   "title_cell": "Table of Contents",
   "title_sidebar": "Contents",
   "toc_cell": false,
   "toc_position": {},
   "toc_section_display": true,
   "toc_window_display": false
  }
 },
 "nbformat": 4,
 "nbformat_minor": 1
}
