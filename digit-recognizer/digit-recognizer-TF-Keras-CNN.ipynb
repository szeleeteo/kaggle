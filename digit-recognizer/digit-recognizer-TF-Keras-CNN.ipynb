{
 "cells": [
  {
   "cell_type": "markdown",
   "metadata": {
    "heading_collapsed": true
   },
   "source": [
    "# Import Packages"
   ]
  },
  {
   "cell_type": "code",
   "execution_count": 67,
   "metadata": {
    "colab": {
     "autoexec": {
      "startup": false,
      "wait_interval": 0
     }
    },
    "colab_type": "code",
    "hidden": true,
    "id": "qWT31nsxURdJ"
   },
   "outputs": [],
   "source": [
    "import tensorflow as tf\n",
    "import numpy as np\n",
    "import os"
   ]
  },
  {
   "cell_type": "code",
   "execution_count": 68,
   "metadata": {
    "hidden": true
   },
   "outputs": [
    {
     "name": "stdout",
     "output_type": "stream",
     "text": [
      "The autoreload extension is already loaded. To reload it, use:\n",
      "  %reload_ext autoreload\n"
     ]
    }
   ],
   "source": [
    "%load_ext autoreload\n",
    "%autoreload 2\n",
    "%matplotlib inline"
   ]
  },
  {
   "cell_type": "markdown",
   "metadata": {
    "heading_collapsed": true
   },
   "source": [
    "# Import Data"
   ]
  },
  {
   "cell_type": "code",
   "execution_count": 69,
   "metadata": {
    "hidden": true
   },
   "outputs": [],
   "source": [
    "train_data = np.genfromtxt('data/MNIST/train.csv', delimiter=',', skip_header=1)\n",
    "test_data = np.genfromtxt('data/MNIST/test.csv', delimiter=',', skip_header=1)"
   ]
  },
  {
   "cell_type": "code",
   "execution_count": 70,
   "metadata": {
    "hidden": true
   },
   "outputs": [
    {
     "data": {
      "text/plain": [
       "((42000, 785), (28000, 784))"
      ]
     },
     "execution_count": 70,
     "metadata": {},
     "output_type": "execute_result"
    }
   ],
   "source": [
    "(train_data.shape, test_data.shape)"
   ]
  },
  {
   "cell_type": "code",
   "execution_count": 71,
   "metadata": {
    "hidden": true
   },
   "outputs": [],
   "source": [
    "X_train, y_train =  train_data[:,1:].copy(), train_data[:,0].copy() # features, labels"
   ]
  },
  {
   "cell_type": "code",
   "execution_count": 72,
   "metadata": {
    "hidden": true
   },
   "outputs": [],
   "source": [
    "X_test = test_data.copy()"
   ]
  },
  {
   "cell_type": "code",
   "execution_count": 73,
   "metadata": {
    "hidden": true,
    "scrolled": true
   },
   "outputs": [
    {
     "data": {
      "text/plain": [
       "((42000, 784), (42000,), (28000, 784))"
      ]
     },
     "execution_count": 73,
     "metadata": {},
     "output_type": "execute_result"
    }
   ],
   "source": [
    "(X_train.shape, y_train.shape, X_test.shape)"
   ]
  },
  {
   "cell_type": "markdown",
   "metadata": {
    "heading_collapsed": true
   },
   "source": [
    "# Simple Pre-Process Data"
   ]
  },
  {
   "cell_type": "code",
   "execution_count": 74,
   "metadata": {
    "hidden": true
   },
   "outputs": [],
   "source": [
    "# Scale and convert the train images and add channels\n",
    "X_train /= 255\n",
    "X_train = X_train.reshape((-1, 28, 28, 1))\n",
    "\n",
    "# Scale and convert the train images and add channels\n",
    "X_test /= 255\n",
    "X_test = X_test.reshape((-1, 28, 28, 1))\n",
    "\n",
    "# One Hot Encoding\n",
    "y_train = tf.keras.utils.to_categorical(y_train, 10)"
   ]
  },
  {
   "cell_type": "code",
   "execution_count": 75,
   "metadata": {
    "hidden": true
   },
   "outputs": [
    {
     "data": {
      "text/plain": [
       "((42000, 28, 28, 1), (42000, 10), (28000, 28, 28, 1))"
      ]
     },
     "execution_count": 75,
     "metadata": {},
     "output_type": "execute_result"
    }
   ],
   "source": [
    "X_train.shape, y_train.shape, X_test.shape"
   ]
  },
  {
   "cell_type": "markdown",
   "metadata": {
    "hidden": true
   },
   "source": [
    "TODO: Plot images"
   ]
  },
  {
   "cell_type": "markdown",
   "metadata": {},
   "source": [
    "# Build NN Model"
   ]
  },
  {
   "cell_type": "markdown",
   "metadata": {},
   "source": [
    "## Model 1"
   ]
  },
  {
   "cell_type": "code",
   "execution_count": 76,
   "metadata": {},
   "outputs": [],
   "source": [
    "model = tf.keras.Sequential()\n",
    "\n",
    "model.add(tf.keras.layers.Conv2D(filters=32, kernel_size=(3, 3), activation=tf.nn.relu, input_shape=(28, 28, 1)))\n",
    "model.add(tf.keras.layers.MaxPooling2D(pool_size=(2, 2), strides=2))\n",
    "model.add(tf.keras.layers.Conv2D(filters=64, kernel_size=(3, 3), activation=tf.nn.relu))\n",
    "model.add(tf.keras.layers.MaxPooling2D(pool_size=(2, 2), strides=2))\n",
    "\n",
    "model.add(tf.keras.layers.Flatten())\n",
    "model.add(tf.keras.layers.Dense(64, activation=tf.nn.relu))\n",
    "model.add(tf.keras.layers.Dense(10, activation=tf.nn.softmax))"
   ]
  },
  {
   "cell_type": "markdown",
   "metadata": {},
   "source": [
    "## Model 2"
   ]
  },
  {
   "cell_type": "code",
   "execution_count": 77,
   "metadata": {},
   "outputs": [],
   "source": [
    "model = tf.keras.Sequential()\n",
    "\n",
    "model.add(tf.keras.layers.Conv2D(filters=16, kernel_size=(5, 5), activation=tf.nn.relu, input_shape=(28, 28, 1)))\n",
    "model.add(tf.keras.layers.MaxPooling2D(pool_size=(2, 2), strides=2))\n",
    "model.add(tf.keras.layers.Conv2D(filters=36, kernel_size=(5, 5), activation=tf.nn.relu))\n",
    "model.add(tf.keras.layers.MaxPooling2D(pool_size=(2, 2), strides=2))\n",
    "\n",
    "model.add(tf.keras.layers.Flatten())\n",
    "model.add(tf.keras.layers.Dense(128, activation=tf.nn.relu))\n",
    "model.add(tf.keras.layers.Dense(10, activation=tf.nn.softmax))"
   ]
  },
  {
   "cell_type": "markdown",
   "metadata": {},
   "source": [
    "## Model 3 (based on lenet.py)"
   ]
  },
  {
   "cell_type": "code",
   "execution_count": null,
   "metadata": {},
   "outputs": [],
   "source": [
    "model = tf.keras.Sequential()\n",
    "\n",
    "model.add(tf.keras.layers.Conv2D(filters=16, kernel_size=(5, 5), activation=tf.nn.relu, input_shape=(28, 28, 1)))\n",
    "model.add(tf.keras.layers.MaxPooling2D(pool_size=(2, 2), strides=2))\n",
    "model.add(tf.keras.layers.Conv2D(filters=36, kernel_size=(5, 5), activation=tf.nn.relu))\n",
    "model.add(tf.keras.layers.MaxPooling2D(pool_size=(2, 2), strides=2))\n",
    "\n",
    "model.add(tf.keras.layers.Flatten())\n",
    "model.add(tf.keras.layers.Dense(128, activation=tf.nn.relu))\n",
    "model.add(tf.keras.layers.Dense(10, activation=tf.nn.softmax))"
   ]
  },
  {
   "cell_type": "code",
   "execution_count": 78,
   "metadata": {
    "colab": {
     "autoexec": {
      "startup": false,
      "wait_interval": 0
     }
    },
    "colab_type": "code",
    "id": "iHaND5a6Vc-B"
   },
   "outputs": [
    {
     "name": "stdout",
     "output_type": "stream",
     "text": [
      "_________________________________________________________________\n",
      "Layer (type)                 Output Shape              Param #   \n",
      "=================================================================\n",
      "conv2d_14 (Conv2D)           (None, 24, 24, 16)        416       \n",
      "_________________________________________________________________\n",
      "max_pooling2d_10 (MaxPooling (None, 12, 12, 16)        0         \n",
      "_________________________________________________________________\n",
      "conv2d_15 (Conv2D)           (None, 8, 8, 36)          14436     \n",
      "_________________________________________________________________\n",
      "max_pooling2d_11 (MaxPooling (None, 4, 4, 36)          0         \n",
      "_________________________________________________________________\n",
      "flatten_5 (Flatten)          (None, 576)               0         \n",
      "_________________________________________________________________\n",
      "dense_10 (Dense)             (None, 128)               73856     \n",
      "_________________________________________________________________\n",
      "dense_11 (Dense)             (None, 10)                1290      \n",
      "=================================================================\n",
      "Total params: 89,998\n",
      "Trainable params: 89,998\n",
      "Non-trainable params: 0\n",
      "_________________________________________________________________\n"
     ]
    }
   ],
   "source": [
    "optimizer = tf.train.RMSPropOptimizer(learning_rate=0.001)\n",
    "\n",
    "model.compile(loss='categorical_crossentropy',\n",
    "              optimizer=optimizer,\n",
    "              metrics=['accuracy'])\n",
    "\n",
    "model.summary()"
   ]
  },
  {
   "cell_type": "markdown",
   "metadata": {
    "heading_collapsed": true
   },
   "source": [
    "# Fit Model"
   ]
  },
  {
   "cell_type": "markdown",
   "metadata": {
    "heading_collapsed": true,
    "hidden": true
   },
   "source": [
    "## With validation"
   ]
  },
  {
   "cell_type": "code",
   "execution_count": 79,
   "metadata": {
    "collapsed": true,
    "hidden": true
   },
   "outputs": [
    {
     "name": "stdout",
     "output_type": "stream",
     "text": [
      "Train on 31500 samples, validate on 10500 samples\n",
      "Epoch 1/30\n",
      "31500/31500 [==============================] - 4s 116us/step - loss: 1.1203 - acc: 0.6209 - val_loss: 0.2640 - val_acc: 0.9145\n",
      "Epoch 2/30\n",
      "31500/31500 [==============================] - 3s 92us/step - loss: 0.1098 - acc: 0.9659 - val_loss: 0.0755 - val_acc: 0.9770\n",
      "Epoch 3/30\n",
      "31500/31500 [==============================] - 3s 91us/step - loss: 0.0636 - acc: 0.9804 - val_loss: 0.0716 - val_acc: 0.9782\n",
      "Epoch 4/30\n",
      "31500/31500 [==============================] - 3s 91us/step - loss: 0.0444 - acc: 0.9861 - val_loss: 0.0658 - val_acc: 0.9807\n",
      "Epoch 5/30\n",
      "31500/31500 [==============================] - 3s 91us/step - loss: 0.0328 - acc: 0.9899 - val_loss: 0.0734 - val_acc: 0.9775\n",
      "Epoch 6/30\n",
      "31500/31500 [==============================] - 3s 90us/step - loss: 0.0251 - acc: 0.9921 - val_loss: 0.0404 - val_acc: 0.9879\n",
      "Epoch 7/30\n",
      "31500/31500 [==============================] - 3s 91us/step - loss: 0.0202 - acc: 0.9940 - val_loss: 0.0390 - val_acc: 0.9881\n",
      "Epoch 8/30\n",
      "31500/31500 [==============================] - 3s 93us/step - loss: 0.0159 - acc: 0.9947 - val_loss: 0.0405 - val_acc: 0.9886\n",
      "Epoch 9/30\n",
      "31500/31500 [==============================] - 3s 92us/step - loss: 0.0118 - acc: 0.9961 - val_loss: 0.1805 - val_acc: 0.9508\n",
      "Epoch 10/30\n",
      "31500/31500 [==============================] - 3s 91us/step - loss: 0.0098 - acc: 0.9971 - val_loss: 0.0427 - val_acc: 0.9885\n",
      "Epoch 11/30\n",
      "31500/31500 [==============================] - 3s 91us/step - loss: 0.0085 - acc: 0.9971 - val_loss: 0.0448 - val_acc: 0.9894\n",
      "Epoch 12/30\n",
      "31500/31500 [==============================] - 3s 92us/step - loss: 0.0070 - acc: 0.9977 - val_loss: 0.0480 - val_acc: 0.9897\n",
      "Epoch 13/30\n",
      "31500/31500 [==============================] - 3s 89us/step - loss: 0.0061 - acc: 0.9979 - val_loss: 0.0582 - val_acc: 0.9870\n",
      "Epoch 14/30\n",
      "31500/31500 [==============================] - 3s 88us/step - loss: 0.0060 - acc: 0.9983 - val_loss: 0.0510 - val_acc: 0.9890\n",
      "Epoch 15/30\n",
      "31500/31500 [==============================] - 3s 88us/step - loss: 0.0051 - acc: 0.9985 - val_loss: 0.0476 - val_acc: 0.9900\n",
      "Epoch 16/30\n",
      "31500/31500 [==============================] - 3s 87us/step - loss: 0.0038 - acc: 0.9987 - val_loss: 0.0556 - val_acc: 0.9899\n",
      "Epoch 17/30\n",
      "31500/31500 [==============================] - 3s 88us/step - loss: 0.0036 - acc: 0.9989 - val_loss: 0.0601 - val_acc: 0.9886\n",
      "Epoch 18/30\n",
      "31500/31500 [==============================] - 3s 88us/step - loss: 0.0033 - acc: 0.9992 - val_loss: 0.0629 - val_acc: 0.9888\n",
      "Epoch 19/30\n",
      "31500/31500 [==============================] - 3s 88us/step - loss: 0.0028 - acc: 0.9992 - val_loss: 0.0611 - val_acc: 0.9885\n",
      "Epoch 20/30\n",
      "31500/31500 [==============================] - 3s 88us/step - loss: 0.0028 - acc: 0.9992 - val_loss: 0.0540 - val_acc: 0.9903\n",
      "Epoch 21/30\n",
      "31500/31500 [==============================] - 3s 88us/step - loss: 0.0025 - acc: 0.9994 - val_loss: 0.0645 - val_acc: 0.9895\n",
      "Epoch 22/30\n",
      "31500/31500 [==============================] - 3s 89us/step - loss: 0.0019 - acc: 0.9995 - val_loss: 0.0674 - val_acc: 0.9889\n",
      "Epoch 23/30\n",
      "31500/31500 [==============================] - 3s 94us/step - loss: 0.0027 - acc: 0.9994 - val_loss: 0.0547 - val_acc: 0.9908\n",
      "Epoch 24/30\n",
      "31500/31500 [==============================] - 3s 96us/step - loss: 0.0022 - acc: 0.9994 - val_loss: 0.0712 - val_acc: 0.9876\n",
      "Epoch 25/30\n",
      "31500/31500 [==============================] - 3s 101us/step - loss: 0.0025 - acc: 0.9992 - val_loss: 0.0702 - val_acc: 0.9890\n",
      "Epoch 26/30\n",
      "31500/31500 [==============================] - 3s 104us/step - loss: 0.0015 - acc: 0.9996 - val_loss: 0.0694 - val_acc: 0.9897\n",
      "Epoch 27/30\n",
      "31500/31500 [==============================] - 3s 107us/step - loss: 0.0018 - acc: 0.9996 - val_loss: 0.0658 - val_acc: 0.9893\n",
      "Epoch 28/30\n",
      "31500/31500 [==============================] - 3s 108us/step - loss: 0.0015 - acc: 0.9997 - val_loss: 0.0693 - val_acc: 0.9891\n",
      "Epoch 29/30\n",
      "31500/31500 [==============================] - 3s 107us/step - loss: 0.0022 - acc: 0.9995 - val_loss: 0.0634 - val_acc: 0.9899\n",
      "Epoch 30/30\n",
      "31500/31500 [==============================] - 3s 106us/step - loss: 0.0016 - acc: 0.9997 - val_loss: 0.0900 - val_acc: 0.9853\n"
     ]
    },
    {
     "data": {
      "text/plain": [
       "<tensorflow.python.keras.callbacks.History at 0x1e4b9ba6f98>"
      ]
     },
     "execution_count": 79,
     "metadata": {},
     "output_type": "execute_result"
    }
   ],
   "source": [
    "model.fit(x=X_train, y=y_train, epochs=30, batch_size=128, validation_split=0.25)"
   ]
  },
  {
   "cell_type": "markdown",
   "metadata": {
    "heading_collapsed": true,
    "hidden": true
   },
   "source": [
    "## Using full training data"
   ]
  },
  {
   "cell_type": "code",
   "execution_count": 80,
   "metadata": {
    "collapsed": true,
    "hidden": true
   },
   "outputs": [
    {
     "name": "stdout",
     "output_type": "stream",
     "text": [
      "Epoch 1/30\n",
      "42000/42000 [==============================] - 4s 90us/step - loss: 0.0195 - acc: 0.9960\n",
      "Epoch 2/30\n",
      "42000/42000 [==============================] - 4s 93us/step - loss: 0.0114 - acc: 0.9974\n",
      "Epoch 3/30\n",
      "42000/42000 [==============================] - 4s 91us/step - loss: 0.0077 - acc: 0.9981\n",
      "Epoch 4/30\n",
      "42000/42000 [==============================] - 4s 93us/step - loss: 0.0062 - acc: 0.9985\n",
      "Epoch 5/30\n",
      "42000/42000 [==============================] - 4s 94us/step - loss: 0.0050 - acc: 0.9990\n",
      "Epoch 6/30\n",
      "42000/42000 [==============================] - 4s 95us/step - loss: 0.0044 - acc: 0.9991\n",
      "Epoch 7/30\n",
      "42000/42000 [==============================] - 4s 104us/step - loss: 0.0030 - acc: 0.9994\n",
      "Epoch 8/30\n",
      "42000/42000 [==============================] - 4s 99us/step - loss: 0.0027 - acc: 0.9993\n",
      "Epoch 9/30\n",
      "42000/42000 [==============================] - 4s 94us/step - loss: 0.0030 - acc: 0.9993\n",
      "Epoch 10/30\n",
      "42000/42000 [==============================] - 4s 92us/step - loss: 0.0020 - acc: 0.9995\n",
      "Epoch 11/30\n",
      "42000/42000 [==============================] - 4s 91us/step - loss: 0.0016 - acc: 0.9997\n",
      "Epoch 12/30\n",
      "42000/42000 [==============================] - 4s 92us/step - loss: 0.0020 - acc: 0.9995\n",
      "Epoch 13/30\n",
      "42000/42000 [==============================] - 4s 94us/step - loss: 0.0016 - acc: 0.9996\n",
      "Epoch 14/30\n",
      "42000/42000 [==============================] - 4s 98us/step - loss: 0.0028 - acc: 0.9995\n",
      "Epoch 15/30\n",
      "42000/42000 [==============================] - 4s 95us/step - loss: 0.0016 - acc: 0.9997\n",
      "Epoch 16/30\n",
      "42000/42000 [==============================] - 4s 91us/step - loss: 0.0014 - acc: 0.9998\n",
      "Epoch 17/30\n",
      "42000/42000 [==============================] - 4s 90us/step - loss: 0.0016 - acc: 0.9997\n",
      "Epoch 18/30\n",
      "42000/42000 [==============================] - 4s 92us/step - loss: 0.0015 - acc: 0.9997\n",
      "Epoch 19/30\n",
      "42000/42000 [==============================] - 4s 96us/step - loss: 0.0012 - acc: 0.9997\n",
      "Epoch 20/30\n",
      "42000/42000 [==============================] - 4s 95us/step - loss: 0.0014 - acc: 0.9998\n",
      "Epoch 21/30\n",
      "42000/42000 [==============================] - 4s 97us/step - loss: 0.0015 - acc: 0.9998\n",
      "Epoch 22/30\n",
      "42000/42000 [==============================] - 4s 96us/step - loss: 0.0017 - acc: 0.9998\n",
      "Epoch 23/30\n",
      "42000/42000 [==============================] - 4s 95us/step - loss: 0.0015 - acc: 0.9997\n",
      "Epoch 24/30\n",
      "42000/42000 [==============================] - 4s 97us/step - loss: 0.0011 - acc: 0.9999\n",
      "Epoch 25/30\n",
      "42000/42000 [==============================] - 4s 95us/step - loss: 0.0021 - acc: 0.9995\n",
      "Epoch 26/30\n",
      "42000/42000 [==============================] - 4s 98us/step - loss: 8.9133e-04 - acc: 0.9999\n",
      "Epoch 27/30\n",
      "42000/42000 [==============================] - 4s 97us/step - loss: 0.0013 - acc: 0.9997\n",
      "Epoch 28/30\n",
      "42000/42000 [==============================] - 4s 93us/step - loss: 9.4962e-04 - acc: 0.9999: 0s - loss: 0.0010 - acc: 0\n",
      "Epoch 29/30\n",
      "42000/42000 [==============================] - 4s 88us/step - loss: 0.0013 - acc: 0.9998\n",
      "Epoch 30/30\n",
      "42000/42000 [==============================] - 4s 89us/step - loss: 0.0017 - acc: 0.9997\n"
     ]
    },
    {
     "data": {
      "text/plain": [
       "<tensorflow.python.keras.callbacks.History at 0x1e4b6b69f98>"
      ]
     },
     "execution_count": 80,
     "metadata": {},
     "output_type": "execute_result"
    }
   ],
   "source": [
    "model.fit(x=X_train, y=y_train, epochs=30, batch_size=128)"
   ]
  },
  {
   "cell_type": "markdown",
   "metadata": {
    "hidden": true
   },
   "source": [
    "TODO: Data Augmentation, SGD with restart"
   ]
  },
  {
   "cell_type": "markdown",
   "metadata": {
    "heading_collapsed": true
   },
   "source": [
    "# Save Model"
   ]
  },
  {
   "cell_type": "code",
   "execution_count": 81,
   "metadata": {
    "hidden": true
   },
   "outputs": [],
   "source": [
    "os.makedirs('model', exist_ok=True)\n",
    "os.makedirs('output', exist_ok=True)"
   ]
  },
  {
   "cell_type": "code",
   "execution_count": 82,
   "metadata": {
    "hidden": true
   },
   "outputs": [],
   "source": [
    "tf.keras.models.save_model(\n",
    "    model,\n",
    "    \"model/digit-recognizer-TF-Keras-CNN2\",\n",
    "    include_optimizer=False\n",
    ")"
   ]
  },
  {
   "cell_type": "markdown",
   "metadata": {
    "heading_collapsed": true
   },
   "source": [
    "# Load Model"
   ]
  },
  {
   "cell_type": "code",
   "execution_count": 83,
   "metadata": {
    "hidden": true
   },
   "outputs": [],
   "source": [
    "md = tf.keras.models.load_model(\"model/digit-recognizer-TF-Keras-CNN2\", compile=False)"
   ]
  },
  {
   "cell_type": "markdown",
   "metadata": {
    "heading_collapsed": true
   },
   "source": [
    "# Make Prediction on Test Data"
   ]
  },
  {
   "cell_type": "code",
   "execution_count": 84,
   "metadata": {
    "hidden": true
   },
   "outputs": [],
   "source": [
    "prediction = md.predict(X_test)"
   ]
  },
  {
   "cell_type": "code",
   "execution_count": 85,
   "metadata": {
    "hidden": true
   },
   "outputs": [],
   "source": [
    "label = tf.argmax(prediction,axis=1)\n",
    "image_id = np.array(np.arange(1,TEST_SIZE+1))"
   ]
  },
  {
   "cell_type": "markdown",
   "metadata": {
    "hidden": true
   },
   "source": [
    "## Convert result Tensor back to Numpy Array"
   ]
  },
  {
   "cell_type": "code",
   "execution_count": 86,
   "metadata": {
    "hidden": true
   },
   "outputs": [],
   "source": [
    "from keras import backend as K\n",
    "\n",
    "np_label = K.eval(label)\n",
    "result = np.column_stack((image_id, np_label))"
   ]
  },
  {
   "cell_type": "markdown",
   "metadata": {
    "hidden": true
   },
   "source": [
    "## Save results as csv"
   ]
  },
  {
   "cell_type": "code",
   "execution_count": 87,
   "metadata": {
    "hidden": true
   },
   "outputs": [],
   "source": [
    "np.savetxt(\"output/digit-recognizer-TF-Keras-CNN2.csv\", result, fmt=('%d,%d'), delimiter=\",\", \\\n",
    "           header=\"ImageId,Label\",comments='')"
   ]
  },
  {
   "cell_type": "markdown",
   "metadata": {
    "hidden": true
   },
   "source": [
    "!kaggle competitions submit -c digit-recognizer -f output/digit-recognizer-TF-Keras-CNN2.csv -m \"TF/Keras CNN2\""
   ]
  },
  {
   "cell_type": "markdown",
   "metadata": {
    "hidden": true
   },
   "source": [
    "Kaggle Score: \n",
    "\n",
    "- 0.98514 (20 epochs, 5 epochs)\n",
    "- ? (30 epochs, 30 epochs)"
   ]
  }
 ],
 "metadata": {
  "colab": {
   "default_view": {},
   "name": "5-conv-draft.ipynb",
   "provenance": [],
   "version": "0.3.2",
   "views": {}
  },
  "kernelspec": {
   "display_name": "Python 3",
   "language": "python",
   "name": "python3"
  },
  "language_info": {
   "codemirror_mode": {
    "name": "ipython",
    "version": 3
   },
   "file_extension": ".py",
   "mimetype": "text/x-python",
   "name": "python",
   "nbconvert_exporter": "python",
   "pygments_lexer": "ipython3",
   "version": "3.6.6"
  },
  "toc": {
   "base_numbering": 1,
   "nav_menu": {},
   "number_sections": true,
   "sideBar": true,
   "skip_h1_title": false,
   "title_cell": "Table of Contents",
   "title_sidebar": "Contents",
   "toc_cell": false,
   "toc_position": {},
   "toc_section_display": true,
   "toc_window_display": false
  }
 },
 "nbformat": 4,
 "nbformat_minor": 1
}
