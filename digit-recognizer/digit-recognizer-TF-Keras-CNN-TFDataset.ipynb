{
 "cells": [
  {
   "cell_type": "code",
   "execution_count": 1,
   "metadata": {
    "colab": {
     "autoexec": {
      "startup": false,
      "wait_interval": 0
     }
    },
    "colab_type": "code",
    "id": "qWT31nsxURdJ"
   },
   "outputs": [],
   "source": [
    "import tensorflow as tf\n",
    "import numpy as np\n",
    "\n",
    "tf.enable_eager_execution()"
   ]
  },
  {
   "cell_type": "code",
   "execution_count": 2,
   "metadata": {},
   "outputs": [],
   "source": [
    "train_images = np.genfromtxt('data/MNIST/train.csv', delimiter=',', skip_header=1)\n",
    "test_images = np.genfromtxt('data/MNIST/test.csv', delimiter=',', skip_header=1)"
   ]
  },
  {
   "cell_type": "code",
   "execution_count": 3,
   "metadata": {},
   "outputs": [],
   "source": [
    "train_labels,train_images = train_images[:,0], train_images[:,1:] # label, features"
   ]
  },
  {
   "cell_type": "code",
   "execution_count": 4,
   "metadata": {},
   "outputs": [
    {
     "data": {
      "text/plain": [
       "((42000, 784), (42000,), (28000, 784))"
      ]
     },
     "execution_count": 4,
     "metadata": {},
     "output_type": "execute_result"
    }
   ],
   "source": [
    "(train_images.shape, train_labels.shape, test_images.shape)"
   ]
  },
  {
   "cell_type": "code",
   "execution_count": 5,
   "metadata": {
    "colab": {
     "autoexec": {
      "startup": false,
      "wait_interval": 0
     }
    },
    "colab_type": "code",
    "id": "5eDlt-AnVafg"
   },
   "outputs": [],
   "source": [
    "TRAINING_SIZE = len(train_images)\n",
    "TEST_SIZE = len(test_images)\n",
    "\n",
    "# Scale and convert the train images and add channels\n",
    "train_images = np.asarray(train_images, dtype=np.float32) / 255\n",
    "train_images = train_images.reshape((-1, 28, 28, 1)) #-1 will fit to any number of images\n",
    "\n",
    "# Scale and convert the train images and add channels\n",
    "test_images = np.asarray(test_images, dtype=np.float32) / 255\n",
    "test_images = test_images.reshape((-1, 28, 28, 1))"
   ]
  },
  {
   "cell_type": "code",
   "execution_count": 6,
   "metadata": {},
   "outputs": [
    {
     "data": {
      "text/plain": [
       "((42000, 28, 28, 1), (42000,), (28000, 28, 28, 1))"
      ]
     },
     "execution_count": 6,
     "metadata": {},
     "output_type": "execute_result"
    }
   ],
   "source": [
    "(train_images.shape, train_labels.shape, test_images.shape)"
   ]
  },
  {
   "cell_type": "code",
   "execution_count": 7,
   "metadata": {
    "colab": {
     "autoexec": {
      "startup": false,
      "wait_interval": 0
     }
    },
    "colab_type": "code",
    "id": "YNi4TNvlVcIB"
   },
   "outputs": [],
   "source": [
    "LABEL_DIMENSIONS = 10\n",
    "\n",
    "train_labels  = tf.keras.utils.to_categorical(train_labels, LABEL_DIMENSIONS)\n",
    "\n",
    "train_labels = train_labels.astype(np.float32)"
   ]
  },
  {
   "cell_type": "code",
   "execution_count": 8,
   "metadata": {
    "colab": {
     "autoexec": {
      "startup": false,
      "wait_interval": 0
     }
    },
    "colab_type": "code",
    "id": "iHaND5a6Vc-B"
   },
   "outputs": [
    {
     "name": "stdout",
     "output_type": "stream",
     "text": [
      "_________________________________________________________________\n",
      "Layer (type)                 Output Shape              Param #   \n",
      "=================================================================\n",
      "conv2d (Conv2D)              (None, 26, 26, 32)        320       \n",
      "_________________________________________________________________\n",
      "max_pooling2d (MaxPooling2D) (None, 13, 13, 32)        0         \n",
      "_________________________________________________________________\n",
      "conv2d_1 (Conv2D)            (None, 11, 11, 64)        18496     \n",
      "_________________________________________________________________\n",
      "max_pooling2d_1 (MaxPooling2 (None, 5, 5, 64)          0         \n",
      "_________________________________________________________________\n",
      "conv2d_2 (Conv2D)            (None, 3, 3, 64)          36928     \n",
      "_________________________________________________________________\n",
      "flatten (Flatten)            (None, 576)               0         \n",
      "_________________________________________________________________\n",
      "dense (Dense)                (None, 64)                36928     \n",
      "_________________________________________________________________\n",
      "dense_1 (Dense)              (None, 10)                650       \n",
      "=================================================================\n",
      "Total params: 93,322\n",
      "Trainable params: 93,322\n",
      "Non-trainable params: 0\n",
      "_________________________________________________________________\n"
     ]
    }
   ],
   "source": [
    "model1 = tf.keras.Sequential()\n",
    "\n",
    "model1.add(tf.keras.layers.Conv2D(filters=32, kernel_size=(3, 3), activation=tf.nn.relu, input_shape=(28, 28, 1)))\n",
    "model1.add(tf.keras.layers.MaxPooling2D(pool_size=(2, 2), strides=2))\n",
    "model1.add(tf.keras.layers.Conv2D(filters=64, kernel_size=(3, 3), activation=tf.nn.relu))\n",
    "model1.add(tf.keras.layers.MaxPooling2D(pool_size=(2, 2), strides=2))\n",
    "model1.add(tf.keras.layers.Conv2D(filters=64, kernel_size=(3, 3), activation=tf.nn.relu))\n",
    "\n",
    "model1.add(tf.keras.layers.Flatten())\n",
    "model1.add(tf.keras.layers.Dense(64, activation=tf.nn.relu))\n",
    "model1.add(tf.keras.layers.Dense(10, activation=tf.nn.softmax))\n",
    "\n",
    "model1.summary()"
   ]
  },
  {
   "cell_type": "code",
   "execution_count": 9,
   "metadata": {},
   "outputs": [
    {
     "name": "stdout",
     "output_type": "stream",
     "text": [
      "_________________________________________________________________\n",
      "Layer (type)                 Output Shape              Param #   \n",
      "=================================================================\n",
      "conv2d_3 (Conv2D)            (None, 28, 28, 32)        832       \n",
      "_________________________________________________________________\n",
      "conv2d_4 (Conv2D)            (None, 28, 28, 32)        25632     \n",
      "_________________________________________________________________\n",
      "max_pooling2d_2 (MaxPooling2 (None, 14, 14, 32)        0         \n",
      "_________________________________________________________________\n",
      "dropout (Dropout)            (None, 14, 14, 32)        0         \n",
      "_________________________________________________________________\n",
      "conv2d_5 (Conv2D)            (None, 14, 14, 64)        18496     \n",
      "_________________________________________________________________\n",
      "conv2d_6 (Conv2D)            (None, 14, 14, 64)        36928     \n",
      "_________________________________________________________________\n",
      "max_pooling2d_3 (MaxPooling2 (None, 7, 7, 64)          0         \n",
      "_________________________________________________________________\n",
      "dropout_1 (Dropout)          (None, 7, 7, 64)          0         \n",
      "_________________________________________________________________\n",
      "flatten_1 (Flatten)          (None, 3136)              0         \n",
      "_________________________________________________________________\n",
      "dense_2 (Dense)              (None, 256)               803072    \n",
      "_________________________________________________________________\n",
      "dropout_2 (Dropout)          (None, 256)               0         \n",
      "_________________________________________________________________\n",
      "dense_3 (Dense)              (None, 10)                2570      \n",
      "=================================================================\n",
      "Total params: 887,530\n",
      "Trainable params: 887,530\n",
      "Non-trainable params: 0\n",
      "_________________________________________________________________\n"
     ]
    }
   ],
   "source": [
    "model2 = tf.keras.Sequential()\n",
    "\n",
    "model2.add(tf.keras.layers.Conv2D(filters = 32, kernel_size = (5,5),padding = 'Same', \n",
    "                 activation ='relu', input_shape = (28,28,1)))\n",
    "model2.add(tf.keras.layers.MaxPool2D(pool_size=(2,2)))\n",
    "model2.add(tf.keras.layers.Dropout(0.25))\n",
    "\n",
    "model2.add(tf.keras.layers.Conv2D(filters = 64, kernel_size = (3,3),padding = 'Same', \n",
    "                activation ='relu'))\n",
    "model2.add(tf.keras.layers.MaxPool2D(pool_size=(2,2), strides=(2,2)))\n",
    "model2.add(tf.keras.layers.Dropout(0.25))\n",
    "\n",
    "model2.add(tf.keras.layers.Flatten())\n",
    "model2.add(tf.keras.layers.Dense(256, activation = \"relu\"))\n",
    "model2.add(tf.keras.layers.Dropout(0.5))\n",
    "model2.add(tf.keras.layers.Dense(10, activation = \"softmax\"))\n",
    "\n",
    "model2.summary()"
   ]
  },
  {
   "cell_type": "code",
   "execution_count": 10,
   "metadata": {},
   "outputs": [],
   "source": [
    "model = model2"
   ]
  },
  {
   "cell_type": "code",
   "execution_count": 11,
   "metadata": {
    "colab": {
     "autoexec": {
      "startup": false,
      "wait_interval": 0
     }
    },
    "colab_type": "code",
    "id": "SVUAOoeXVfQA"
   },
   "outputs": [],
   "source": [
    "optimizer = tf.train.RMSPropOptimizer(learning_rate=0.001, epsilon=1e-08, decay=0.0)\n",
    "# optimizer = tf.train.AdamOptimizer()  # performs worse than RMSProp\n",
    "\n",
    "model.compile(loss='categorical_crossentropy', optimizer=optimizer, metrics=['accuracy'])"
   ]
  },
  {
   "cell_type": "code",
   "execution_count": 12,
   "metadata": {
    "colab": {
     "autoexec": {
      "startup": false,
      "wait_interval": 0
     }
    },
    "colab_type": "code",
    "id": "8jpqP9JYVgxM"
   },
   "outputs": [],
   "source": [
    "BATCH_SIZE=128\n",
    "\n",
    "# Because tf.data may work with potentially **large** collections of data\n",
    "# we do not shuffle the entire dataset by default\n",
    "# Instead, we maintain a buffer of SHUFFLE_SIZE elements\n",
    "# and sample from there.\n",
    "SHUFFLE_SIZE = 10000 \n",
    "\n",
    "# Create the dataset\n",
    "dataset = tf.data.Dataset.from_tensor_slices((train_images, train_labels))\n",
    "dataset = dataset.shuffle(SHUFFLE_SIZE)\n",
    "dataset = dataset.batch(BATCH_SIZE)"
   ]
  },
  {
   "cell_type": "code",
   "execution_count": 13,
   "metadata": {
    "colab": {
     "autoexec": {
      "startup": false,
      "wait_interval": 0
     }
    },
    "colab_type": "code",
    "id": "jvDEbM1DVigY"
   },
   "outputs": [
    {
     "name": "stdout",
     "output_type": "stream",
     "text": [
      "Epoch #1\t Loss: 0.001863\tAccuracy: 1.000000\n",
      "Epoch #2\t Loss: 0.071581\tAccuracy: 0.937500\n",
      "Epoch #3\t Loss: 0.000444\tAccuracy: 1.000000\n",
      "Epoch #4\t Loss: 0.292190\tAccuracy: 0.937500\n",
      "Epoch #5\t Loss: 0.000324\tAccuracy: 1.000000\n",
      "Epoch #6\t Loss: 0.096847\tAccuracy: 0.937500\n",
      "Epoch #7\t Loss: 0.151895\tAccuracy: 0.937500\n",
      "Epoch #8\t Loss: 0.082393\tAccuracy: 0.937500\n",
      "Epoch #9\t Loss: 0.000008\tAccuracy: 1.000000\n",
      "Epoch #10\t Loss: 0.030432\tAccuracy: 1.000000\n",
      "Epoch #11\t Loss: 0.164738\tAccuracy: 0.937500\n",
      "Epoch #12\t Loss: 0.000319\tAccuracy: 1.000000\n",
      "Epoch #13\t Loss: 0.005416\tAccuracy: 1.000000\n",
      "Epoch #14\t Loss: 0.000000\tAccuracy: 1.000000\n",
      "Epoch #15\t Loss: 0.000006\tAccuracy: 1.000000\n",
      "Epoch #16\t Loss: 0.000000\tAccuracy: 1.000000\n",
      "Epoch #17\t Loss: 0.151830\tAccuracy: 0.937500\n",
      "Epoch #18\t Loss: 0.000017\tAccuracy: 1.000000\n",
      "Epoch #19\t Loss: 0.000000\tAccuracy: 1.000000\n",
      "Epoch #20\t Loss: 0.000004\tAccuracy: 1.000000\n",
      "Epoch #21\t Loss: 0.000000\tAccuracy: 1.000000\n",
      "Epoch #22\t Loss: 0.000000\tAccuracy: 1.000000\n",
      "Epoch #23\t Loss: 0.016364\tAccuracy: 1.000000\n",
      "Epoch #24\t Loss: 0.000000\tAccuracy: 1.000000\n",
      "Epoch #25\t Loss: 0.081938\tAccuracy: 0.937500\n",
      "Epoch #26\t Loss: 0.000000\tAccuracy: 1.000000\n",
      "Epoch #27\t Loss: 0.000000\tAccuracy: 1.000000\n",
      "Epoch #28\t Loss: 0.928712\tAccuracy: 0.937500\n",
      "Epoch #29\t Loss: 0.044542\tAccuracy: 0.937500\n",
      "Epoch #30\t Loss: 1.007381\tAccuracy: 0.937500\n"
     ]
    }
   ],
   "source": [
    "EPOCHS = 30\n",
    "\n",
    "for epoch in range(EPOCHS):\n",
    "  for (batch, (images, labels)) in enumerate(dataset):\n",
    "    train_loss, train_accuracy = model.train_on_batch(images, labels)\n",
    "    \n",
    "    #if batch % 10 == 0: print(batch, train_accuracy)\n",
    "  \n",
    "  # Here you can gather any metrics or adjust your training parameters\n",
    "  print('Epoch #%d\\t Loss: %.6f\\tAccuracy: %.6f' % (epoch + 1, train_loss, train_accuracy))"
   ]
  },
  {
   "cell_type": "code",
   "execution_count": 14,
   "metadata": {},
   "outputs": [],
   "source": [
    "import os\n",
    "\n",
    "os.makedirs('model', exist_ok=True)\n",
    "os.makedirs('output', exist_ok=True)"
   ]
  },
  {
   "cell_type": "code",
   "execution_count": 15,
   "metadata": {},
   "outputs": [],
   "source": [
    "tf.keras.models.save_model(\n",
    "    model,\n",
    "    \"model/digit-recognizer-TF-Keras-CNN2\",\n",
    "    include_optimizer=False\n",
    ")"
   ]
  },
  {
   "cell_type": "code",
   "execution_count": 16,
   "metadata": {},
   "outputs": [],
   "source": [
    "md = tf.keras.models.load_model(\"model/digit-recognizer-TF-Keras-CNN2\", compile=False)"
   ]
  },
  {
   "cell_type": "code",
   "execution_count": 17,
   "metadata": {},
   "outputs": [],
   "source": [
    "prediction = md.predict(test_images)"
   ]
  },
  {
   "cell_type": "code",
   "execution_count": 18,
   "metadata": {},
   "outputs": [],
   "source": [
    "label = tf.argmax(prediction,axis=1)\n",
    "image_id = np.array(np.arange(1,TEST_SIZE+1))\n",
    "result = np.column_stack((image_id, label))"
   ]
  },
  {
   "cell_type": "code",
   "execution_count": 19,
   "metadata": {},
   "outputs": [],
   "source": [
    "np.savetxt(\"output/digit-recognizer-TF-Keras-CNN2.csv\", result, fmt=('%d,%d'), delimiter=\",\", \\\n",
    "           header=\"ImageId,Label\",comments='')"
   ]
  },
  {
   "cell_type": "code",
   "execution_count": 20,
   "metadata": {},
   "outputs": [
    {
     "name": "stdout",
     "output_type": "stream",
     "text": [
      "Successfully submitted to Digit Recognizer\n"
     ]
    }
   ],
   "source": [
    "!kaggle competitions submit -c digit-recognizer -f output/digit-recognizer-TF-Keras-CNN2.csv -m \"TF/Keras CNN2 with 30 epochs\""
   ]
  },
  {
   "cell_type": "markdown",
   "metadata": {},
   "source": [
    "__Kaggle Scores:__"
   ]
  },
  {
   "cell_type": "markdown",
   "metadata": {},
   "source": [
    "Score: 0.99085 (30 epochs)\n",
    "- model = tf.keras.Sequential()\n",
    "- model.add(tf.keras.layers.Conv2D(filters=32, kernel_size=(3, 3), activation=tf.nn.relu, input_shape=(28, 28, 1)))\n",
    "- model.add(tf.keras.layers.MaxPooling2D(pool_size=(2, 2), strides=2))\n",
    "- model.add(tf.keras.layers.Conv2D(filters=64, kernel_size=(3, 3), activation=tf.nn.relu))\n",
    "- model.add(tf.keras.layers.MaxPooling2D(pool_size=(2, 2), strides=2))\n",
    "- model.add(tf.keras.layers.Conv2D(filters=64, kernel_size=(3, 3), activation=tf.nn.relu))\n",
    "- model.add(tf.keras.layers.Flatten())\n",
    "- model.add(tf.keras.layers.Dense(64, activation=tf.nn.relu))\n",
    "- model.add(tf.keras.layers.Dense(10, activation=tf.nn.softmax))"
   ]
  },
  {
   "cell_type": "markdown",
   "metadata": {},
   "source": [
    "Score: 0.98971 (30 epochs)\n",
    "\n",
    "- model2 = tf.keras.Sequential()\n",
    "\n",
    "- model2.add(tf.keras.layers.Conv2D(filters = 32, kernel_size = (5,5),padding = 'Same', activation ='relu', input_shape = (28,28,1)))\n",
    "- model2.add(tf.keras.layers.Conv2D(filters = 32, kernel_size = (5,5),padding = 'Same', activation ='relu'))\n",
    "- model2.add(tf.keras.layers.MaxPool2D(pool_size=(2,2)))\n",
    "- model2.add(tf.keras.layers.Dropout(0.25))\n",
    "- model2.add(tf.keras.layers.Conv2D(filters = 64, kernel_size = (3,3),padding = 'Same', activation ='relu'))\n",
    "- model2.add(tf.keras.layers.Conv2D(filters = 64, kernel_size = (3,3),padding = 'Same', activation ='relu'))\n",
    "- model2.add(tf.keras.layers.MaxPool2D(pool_size=(2,2), strides=(2,2)))\n",
    "- model2.add(tf.keras.layers.Dropout(0.25))\n",
    "- model2.add(tf.keras.layers.Flatten())\n",
    "- model2.add(tf.keras.layers.Dense(256, activation = \"relu\"))\n",
    "- model2.add(tf.keras.layers.Dropout(0.5))\n",
    "- model2.add(tf.keras.layers.Dense(10, activation = \"softmax\"))"
   ]
  },
  {
   "cell_type": "code",
   "execution_count": null,
   "metadata": {},
   "outputs": [],
   "source": []
  }
 ],
 "metadata": {
  "colab": {
   "default_view": {},
   "name": "5-conv-draft.ipynb",
   "provenance": [],
   "version": "0.3.2",
   "views": {}
  },
  "kernelspec": {
   "display_name": "Python 3",
   "language": "python",
   "name": "python3"
  },
  "language_info": {
   "codemirror_mode": {
    "name": "ipython",
    "version": 3
   },
   "file_extension": ".py",
   "mimetype": "text/x-python",
   "name": "python",
   "nbconvert_exporter": "python",
   "pygments_lexer": "ipython3",
   "version": "3.6.6"
  },
  "toc": {
   "base_numbering": 1,
   "nav_menu": {},
   "number_sections": true,
   "sideBar": true,
   "skip_h1_title": false,
   "title_cell": "Table of Contents",
   "title_sidebar": "Contents",
   "toc_cell": false,
   "toc_position": {},
   "toc_section_display": true,
   "toc_window_display": false
  }
 },
 "nbformat": 4,
 "nbformat_minor": 1
}
