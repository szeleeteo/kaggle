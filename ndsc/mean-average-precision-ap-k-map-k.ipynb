{
 "cells": [
  {
   "cell_type": "markdown",
   "metadata": {},
   "source": [
    "Based on my understanding from the discussion at https://www.kaggle.com/c/ndsc-advanced/discussion/81688."
   ]
  },
  {
   "cell_type": "code",
   "execution_count": 1,
   "metadata": {
    "_cell_guid": "b1076dfc-b9ad-4769-8c92-a6c4dae69d19",
    "_uuid": "8f2839f25d086af736a60e9eeb907d3b93b6e0e5"
   },
   "outputs": [],
   "source": [
    "def map_at_k(y_true, y_pred, k=2):\n",
    "    \"\"\"\n",
    "    y_true: list of ground truths\n",
    "    y_pred: list of y_predictions\n",
    "    k: value to set depending of requirements. Default at 2\n",
    "    \"\"\"\n",
    "    ap = []\n",
    "    for g,p in zip(y_true,y_pred):\n",
    "        assert len(p)>=k, f\"Length of each prediction must be equal or greater than {k}!\"\n",
    "        for i in range(k):\n",
    "            if g == p[i]:\n",
    "                ap.append(1/(i+1))\n",
    "                break\n",
    "        else:\n",
    "            ap.append(0)\n",
    "        \n",
    "    return(sum(ap)/len(ap))"
   ]
  },
  {
   "cell_type": "code",
   "execution_count": 2,
   "metadata": {},
   "outputs": [
    {
     "data": {
      "text/plain": [
       "1.0"
      ]
     },
     "execution_count": 2,
     "metadata": {},
     "output_type": "execute_result"
    }
   ],
   "source": [
    "# all correct answers in the first try\n",
    "ground_truth = [1,3,0,3,2]\n",
    "predictions = [(1,2),(3,1),(0,3),(3,1),(2,0)]\n",
    "map_at_k(ground_truth, predictions)"
   ]
  },
  {
   "cell_type": "code",
   "execution_count": 3,
   "metadata": {},
   "outputs": [
    {
     "data": {
      "text/plain": [
       "0.8"
      ]
     },
     "execution_count": 3,
     "metadata": {},
     "output_type": "execute_result"
    }
   ],
   "source": [
    "# more correct answers in the first try than second try\n",
    "ground_truth = [1,3,0,3,2]\n",
    "predictions = [(1,3),(3,1),(0,1),(1,3),(0,2)]\n",
    "map_at_k(ground_truth, predictions)"
   ]
  },
  {
   "cell_type": "code",
   "execution_count": 4,
   "metadata": {},
   "outputs": [
    {
     "data": {
      "text/plain": [
       "0.7"
      ]
     },
     "execution_count": 4,
     "metadata": {},
     "output_type": "execute_result"
    }
   ],
   "source": [
    "# more correct answers in the second try than first try\n",
    "ground_truth = [1,3,0,3,2]\n",
    "predictions = [(1,3),(3,1),(1,0),(1,3),(0,2)]\n",
    "map_at_k(ground_truth, predictions)"
   ]
  },
  {
   "cell_type": "code",
   "execution_count": 5,
   "metadata": {},
   "outputs": [
    {
     "data": {
      "text/plain": [
       "0.5"
      ]
     },
     "execution_count": 5,
     "metadata": {},
     "output_type": "execute_result"
    }
   ],
   "source": [
    "# all correct answers in the second try\n",
    "ground_truth = [1,3,0,3,2]\n",
    "predictions = [(3,1),(1,3),(2,0),(1,3),(0,2)]\n",
    "map_at_k(ground_truth, predictions)"
   ]
  },
  {
   "cell_type": "code",
   "execution_count": 6,
   "metadata": {},
   "outputs": [
    {
     "data": {
      "text/plain": [
       "0.3"
      ]
     },
     "execution_count": 6,
     "metadata": {},
     "output_type": "execute_result"
    }
   ],
   "source": [
    "# with mostly inaccurate answers\n",
    "ground_truth = [1,3,0,3,1]\n",
    "predictions = [(1,2),(0,3),(3,1),(2,0),(3,2)]\n",
    "map_at_k(ground_truth, predictions)"
   ]
  },
  {
   "cell_type": "code",
   "execution_count": 7,
   "metadata": {},
   "outputs": [
    {
     "data": {
      "text/plain": [
       "0.0"
      ]
     },
     "execution_count": 7,
     "metadata": {},
     "output_type": "execute_result"
    }
   ],
   "source": [
    "# no right answers\n",
    "ground_truth = [1,3,0,3,2]\n",
    "predictions = [(3,2),(2,1),(3,1),(2,1),(3,0)]\n",
    "map_at_k(ground_truth, predictions)"
   ]
  }
 ],
 "metadata": {
  "kernelspec": {
   "display_name": "Python 3",
   "language": "python",
   "name": "python3"
  },
  "language_info": {
   "codemirror_mode": {
    "name": "ipython",
    "version": 3
   },
   "file_extension": ".py",
   "mimetype": "text/x-python",
   "name": "python",
   "nbconvert_exporter": "python",
   "pygments_lexer": "ipython3",
   "version": "3.7.1"
  },
  "toc": {
   "base_numbering": 1,
   "nav_menu": {},
   "number_sections": true,
   "sideBar": true,
   "skip_h1_title": false,
   "title_cell": "Table of Contents",
   "title_sidebar": "Contents",
   "toc_cell": false,
   "toc_position": {},
   "toc_section_display": true,
   "toc_window_display": false
  }
 },
 "nbformat": 4,
 "nbformat_minor": 1
}
