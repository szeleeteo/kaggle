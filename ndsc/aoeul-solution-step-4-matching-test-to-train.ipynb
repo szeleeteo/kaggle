{
 "cells": [
  {
   "cell_type": "markdown",
   "metadata": {},
   "source": [
    "This step actually 'inspired' by the fashion data leakage scenario. It's basically k-nearest neighbour with distance zero (ignoring image data). The idea is simple. Given a test data, if the **exact same title** exist in the train data, should the predictions be the same? \n",
    "\n",
    "The simple answer is yes and no.\n",
    "\n",
    "There are possibilities that train data with the exact same titles can have different attributes (e.g. one '**iphone 6s for sale**' color=black, the other '**iphone 6s for sale**', color=white). So I am only considering the case where the train data have the exact same title AND same attributes (non-NaN) value.\n",
    "\n",
    "Of course this is not a foolproof method, because the train data can contain only all the black color 'iphone 6s for sale' and the test data 'iphone 6s for sale' is in fact a **white** one with a **white** iphone image that was ignored.\n",
    "\n",
    "Anyway, I used this discovery to overwrite [previous result](https://www.kaggle.com/szelee/aoeul-solution-step-3-linearsvc-dl-model) and gain a few extra points:\n",
    "    - 0.46814 -> 0.46823 (Public Leaderboard)\n",
    "    - 0.46673 -> 0.46681 (Private Leaderboard)\n",
    "    \n",
    "Disclaimer, the codes are not very pretty as I've only managed to mash it up towards the end of the competition."
   ]
  },
  {
   "cell_type": "code",
   "execution_count": 1,
   "metadata": {},
   "outputs": [],
   "source": [
    "from pathlib import Path\n",
    "import json\n",
    "import re\n",
    "import pandas as pd\n",
    "import numpy as np\n",
    "from tqdm import tqdm_notebook"
   ]
  },
  {
   "cell_type": "code",
   "execution_count": 2,
   "metadata": {},
   "outputs": [],
   "source": [
    "DATA_DIR = Path('data')\n",
    "\n",
    "BEAUTY_TRAIN_CSV = DATA_DIR / 'beauty_data_info_train_competition.csv'\n",
    "FASHION_TRAIN_CSV = DATA_DIR / 'fashion_data_info_train_competition.csv'\n",
    "MOBILE_TRAIN_CSV = DATA_DIR / 'mobile_data_info_train_competition.csv'\n",
    "\n",
    "BEAUTY_TEST_CSV = DATA_DIR / 'beauty_data_info_val_competition.csv'\n",
    "FASHION_TEST_CSV = DATA_DIR / 'fashion_data_info_val_competition.csv'\n",
    "MOBILE_TEST_CSV = DATA_DIR / 'mobile_data_info_val_competition.csv'\n",
    "\n",
    "# put your last best submission file here\n",
    "LAST_SUBMITTED_CSV = Path('Ensembled_SVC_DL_predictions.csv')"
   ]
  },
  {
   "cell_type": "code",
   "execution_count": 3,
   "metadata": {},
   "outputs": [],
   "source": [
    "beauty_train_df = pd.read_csv(BEAUTY_TRAIN_CSV)\n",
    "fashion_train_df = pd.read_csv(FASHION_TRAIN_CSV)\n",
    "mobile_train_df = pd.read_csv(MOBILE_TRAIN_CSV)\n",
    "\n",
    "beauty_test_df = pd.read_csv(BEAUTY_TEST_CSV)\n",
    "fashion_test_df = pd.read_csv(FASHION_TEST_CSV)\n",
    "mobile_test_df = pd.read_csv(MOBILE_TEST_CSV)\n",
    "\n",
    "prev_subm_df = pd.read_csv(LAST_SUBMITTED_CSV)"
   ]
  },
  {
   "cell_type": "code",
   "execution_count": 4,
   "metadata": {},
   "outputs": [],
   "source": [
    "categories = ['beauty', 'fashion', 'mobile']\n",
    "train_dfs = [beauty_train_df, fashion_train_df, mobile_train_df]\n",
    "test_dfs = [beauty_test_df, fashion_test_df, mobile_test_df]"
   ]
  },
  {
   "cell_type": "code",
   "execution_count": 5,
   "metadata": {},
   "outputs": [
    {
     "name": "stdout",
     "output_type": "stream",
     "text": [
      "Matching beauty training and test data...\n",
      "Finding test data with exact same title as train data with unique labels\n"
     ]
    },
    {
     "data": {
      "application/vnd.jupyter.widget-view+json": {
       "model_id": "6e6ce42555104d28afeb5fa5ce677449",
       "version_major": 2,
       "version_minor": 0
      },
      "text/plain": [
       "HBox(children=(IntProgress(value=0, max=5143), HTML(value='')))"
      ]
     },
     "metadata": {},
     "output_type": "display_data"
    },
    {
     "name": "stdout",
     "output_type": "stream",
     "text": [
      "\n",
      "2395 test-train title pair matches found in beauty category\n"
     ]
    },
    {
     "data": {
      "application/vnd.jupyter.widget-view+json": {
       "model_id": "e647cd485db94a12855df062a50e8565",
       "version_major": 2,
       "version_minor": 0
      },
      "text/plain": [
       "HBox(children=(IntProgress(value=0, max=6129), HTML(value='')))"
      ]
     },
     "metadata": {},
     "output_type": "display_data"
    },
    {
     "name": "stdout",
     "output_type": "stream",
     "text": [
      "Test id: 1250668682_Benefits          Submitted label: 3     Train data label: 4\n",
      "Test id: 118035711_Colour_group       Submitted label: 9     Train data label: 32\n",
      "Test id: 1473294150_Colour_group      Submitted label: 12    Train data label: 9\n",
      "Test id: 1201087435_Benefits          Submitted label: 4     Train data label: 2\n",
      "Test id: 1201087435_Skin_type         Submitted label: 0     Train data label: 1\n",
      "Test id: 309303455_Colour_group       Submitted label: 9     Train data label: 32\n",
      "Test id: 1021384332_Colour_group      Submitted label: 22    Train data label: 9\n",
      "Test id: 1715229276_Brand             Submitted label: 237   Train data label: 289\n",
      "Test id: 131225973_Colour_group       Submitted label: 9     Train data label: 22\n",
      "Test id: 45130419_Colour_group        Submitted label: 9     Train data label: 29\n",
      "Test id: 1462037371_Skin_type         Submitted label: 0     Train data label: 4\n",
      "Test id: 1712496205_Skin_type         Submitted label: 4     Train data label: 1\n",
      "Test id: 19737088_Skin_type           Submitted label: 0     Train data label: 4\n",
      "Test id: 118835749_Benefits           Submitted label: 3     Train data label: 4\n",
      "Test id: 1268556337_Colour_group      Submitted label: 32    Train data label: 20\n",
      "Test id: 1322436352_Skin_type         Submitted label: 0     Train data label: 4\n",
      "Test id: 1762278799_Product_texture   Submitted label: 2     Train data label: 1\n",
      "Test id: 553796759_Skin_type          Submitted label: 0     Train data label: 7\n",
      "Test id: 1775519108_Colour_group      Submitted label: 9     Train data label: 29\n",
      "Test id: 62176113_Colour_group        Submitted label: 9     Train data label: 32\n",
      "Test id: 742185795_Colour_group       Submitted label: 20    Train data label: 29\n",
      "Test id: 182659652_Colour_group       Submitted label: 9     Train data label: 32\n",
      "Test id: 987009998_Colour_group       Submitted label: 9     Train data label: 29\n",
      "Test id: 1333286032_Colour_group      Submitted label: 20    Train data label: 42\n",
      "Test id: 746735989_Colour_group       Submitted label: 9     Train data label: 29\n",
      "Test id: 1604726435_Skin_type         Submitted label: 0     Train data label: 2\n",
      "Test id: 1743267221_Colour_group      Submitted label: 9     Train data label: 34\n",
      "Test id: 1245586399_Skin_type         Submitted label: 0     Train data label: 2\n",
      "Test id: 68048789_Colour_group        Submitted label: 9     Train data label: 37\n",
      "Test id: 1733964288_Colour_group      Submitted label: 9     Train data label: 18\n",
      "Test id: 1682315732_Skin_type         Submitted label: 2     Train data label: 6\n",
      "Test id: 634634352_Benefits           Submitted label: 4     Train data label: 1\n",
      "Test id: 143733308_Colour_group       Submitted label: 9     Train data label: 18\n",
      "Test id: 1813650621_Colour_group      Submitted label: 9     Train data label: 29\n",
      "Test id: 560961825_Brand              Submitted label: 0     Train data label: 358\n",
      "Test id: 1580281809_Benefits          Submitted label: 4     Train data label: 1\n",
      "\n",
      "\n",
      "Matching fashion training and test data...\n",
      "Finding test data with exact same title as train data with unique labels\n"
     ]
    },
    {
     "data": {
      "application/vnd.jupyter.widget-view+json": {
       "model_id": "323ded75af87438aa942929b23310b43",
       "version_major": 2,
       "version_minor": 0
      },
      "text/plain": [
       "HBox(children=(IntProgress(value=0, max=1195), HTML(value='')))"
      ]
     },
     "metadata": {},
     "output_type": "display_data"
    },
    {
     "name": "stdout",
     "output_type": "stream",
     "text": [
      "\n",
      "811 test-train title pair matches found in fashion category\n"
     ]
    },
    {
     "data": {
      "application/vnd.jupyter.widget-view+json": {
       "model_id": "543dbae72df04789b191a46a0a958e77",
       "version_major": 2,
       "version_minor": 0
      },
      "text/plain": [
       "HBox(children=(IntProgress(value=0, max=3093), HTML(value='')))"
      ]
     },
     "metadata": {},
     "output_type": "display_data"
    }
   ],
   "source": [
    "matched_label_df = pd.DataFrame()\n",
    "\n",
    "for cat, train_df, test_df in zip(categories, train_dfs, test_dfs):\n",
    "    print(f'Matching {cat} training and test data...')\n",
    "    df_train = train_df.rename(columns={'title': 'title_train', 'itemid': 'itemid_train'})\n",
    "    df_test = test_df[['itemid', 'title']].rename(columns={'title': 'title_test', 'itemid': 'itemid_test'})\n",
    "\n",
    "    # merge train and test data on the title attrib\n",
    "    # there will be 1-to-1 and many-to-1 pairings, so we drop some columns and the duplicates\n",
    "    df_combined = pd.merge(df_train, df_test, how='inner', left_on=['title_train'], right_on=['title_test'])\n",
    "    df_combined.drop(['image_path','itemid_train', 'title_train'], axis=1, inplace=True)\n",
    "    df_clean = df_combined.drop_duplicates()\n",
    "\n",
    "    print('Finding test data with exact same title as train data with unique labels')\n",
    "    single_instance=[]\n",
    "    for title in tqdm_notebook(df_clean.title_test.unique()):\n",
    "        if (len(df_clean[df_clean.title_test==title]) == 1): # \n",
    "            single_instance.append(title)\n",
    "    print(f'{len(single_instance)} test-train title pair matches found in {cat} category')\n",
    "\n",
    "    single_inst_df = df_clean[df_clean.title_test.isin(single_instance)]\n",
    "    feat_cols = single_inst_df.columns.drop(['itemid_test', 'title_test'])\n",
    "\n",
    "    # filter off the NaN values and generate a list of id, labels\n",
    "    id_label_list=[]\n",
    "    for _, row in single_inst_df.iterrows():\n",
    "        for feat in feat_cols:\n",
    "            if not np.isnan(row[feat]):\n",
    "                itemid = '_'.join([str(row['itemid_test']), str(feat)])\n",
    "                answer = str(int(row[feat]))\n",
    "                id_label_list.append((itemid, answer))\n",
    "\n",
    "    # get the first prediction of previous submission and compare to the train data label\n",
    "    # since they have both the exact same title\n",
    "    prev_subm_df['first_pred'] = prev_subm_df['tagging'].apply(lambda x: x.split(' ')[0])\n",
    "\n",
    "    list_new_id = []\n",
    "    list_new_ans = []\n",
    "\n",
    "    for id_ans in tqdm_notebook(id_label_list):\n",
    "        subm_first_label = int(prev_subm_df.loc[prev_subm_df.id==id_ans[0]]['first_pred'])\n",
    "        if subm_first_label != int(id_ans[1]): \n",
    "            print(f'Test id: {id_ans[0]:28} Submitted label: {subm_first_label:<5} Train data label: {id_ans[1]}')\n",
    "            list_new_id.append(id_ans[0])\n",
    "            list_new_ans.append(id_ans[1])\n",
    "\n",
    "    label_df = pd.DataFrame(\n",
    "        {'id': list_new_id, 'tagging': list_new_ans},\n",
    "        columns = ['id', 'tagging'])\n",
    "    # concat all the DataFrame into one\n",
    "    matched_label_df = pd.concat([matched_label_df, label_df], axis=0)\n",
    "    print()"
   ]
  },
  {
   "cell_type": "code",
   "execution_count": 6,
   "metadata": {},
   "outputs": [
    {
     "data": {
      "application/vnd.jupyter.widget-view+json": {
       "model_id": "b48138a45b2f4a2fac145374c5c97378",
       "version_major": 2,
       "version_minor": 0
      },
      "text/plain": [
       "HBox(children=(IntProgress(value=1, bar_style='info', max=1), HTML(value='')))"
      ]
     },
     "metadata": {},
     "output_type": "display_data"
    },
    {
     "name": "stdout",
     "output_type": "stream",
     "text": [
      "\n"
     ]
    }
   ],
   "source": [
    "# Update last submission file\n",
    "for _, row in tqdm_notebook(matched_label_df.iterrows()):\n",
    "    (old_value,) = prev_subm_df.loc[prev_subm_df.id == row.id, 'tagging']\n",
    "    # swap old first prediction with the one we got earlier, and shift it to be second prediction\n",
    "    prev_subm_df.loc[prev_subm_df.id == row.id, 'tagging'] = str(row.tagging) + ' ' + str(old_value.split(' ')[0])\n",
    "    \n",
    "prev_subm_df.drop(['first_pred'], axis=1, inplace=True)\n",
    "prev_subm_df.to_csv('Test_Matched_Train_predictions.csv', index=False)"
   ]
  }
 ],
 "metadata": {
  "kernelspec": {
   "display_name": "Python 3",
   "language": "python",
   "name": "python3"
  },
  "language_info": {
   "codemirror_mode": {
    "name": "ipython",
    "version": 3
   },
   "file_extension": ".py",
   "mimetype": "text/x-python",
   "name": "python",
   "nbconvert_exporter": "python",
   "pygments_lexer": "ipython3",
   "version": "3.7.1"
  },
  "toc": {
   "base_numbering": 1,
   "nav_menu": {},
   "number_sections": true,
   "sideBar": true,
   "skip_h1_title": false,
   "title_cell": "Table of Contents",
   "title_sidebar": "Contents",
   "toc_cell": false,
   "toc_position": {},
   "toc_section_display": true,
   "toc_window_display": false
  }
 },
 "nbformat": 4,
 "nbformat_minor": 1
}
