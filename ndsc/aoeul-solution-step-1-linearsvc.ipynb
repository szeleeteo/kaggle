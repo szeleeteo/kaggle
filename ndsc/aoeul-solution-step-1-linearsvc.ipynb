{
 "cells": [
  {
   "cell_type": "markdown",
   "metadata": {},
   "source": [
    "# Using LinearSVC to predict the single best answer (without second answer)"
   ]
  },
  {
   "cell_type": "markdown",
   "metadata": {},
   "source": [
    "Besides deep learning with all the fancy LSTM models and embeddings and whatnot, I discovered the the SKLearn's LinearSVC performs the best among most of the machine learning models (compared to Logistic Regression, Multinomial NaiveBayes, RandomForest) with great speed. I am talking about sub 1-hour for training+prediction from end to end.\n",
    "\n",
    "However, the LinearSVC only gives one best prediction and not multiple predictions or by probabilities. There are ways to overcome this via CalibratedClassifierCV (https://www.kaggle.com/c/home-credit-default-risk/discussion/63499) but the results are far from consistent.\n",
    "\n",
    "So I have used this prediction to overwrite my Deep Learning model predictions where they don't match and shift the original DL's first prediction to second prediction. I was assuming that the LinearSVC should perform better than my DL models based on the rough comparison between LinearSVC's 5-fold CV vs DL's train-test-split validation accuracy.\n",
    "\n",
    "Doing this gave me quite a huge boost in the leaderboard score.\n",
    "\n",
    "So the following is the code just to **only predict the single best possible answer** for each test data, without second best prediction."
   ]
  },
  {
   "cell_type": "code",
   "execution_count": 1,
   "metadata": {},
   "outputs": [],
   "source": [
    "from pathlib import Path\n",
    "import json\n",
    "import sys\n",
    "import warnings\n",
    "warnings.filterwarnings(\"ignore\")"
   ]
  },
  {
   "cell_type": "code",
   "execution_count": 2,
   "metadata": {},
   "outputs": [],
   "source": [
    "import pandas as pd\n",
    "import numpy as np\n",
    "from scipy import sparse\n",
    "\n",
    "from nltk.tokenize import TweetTokenizer\n",
    "\n",
    "from sklearn.model_selection import cross_val_score\n",
    "from sklearn.feature_extraction.text import TfidfVectorizer\n",
    "from sklearn.svm import LinearSVC"
   ]
  },
  {
   "cell_type": "code",
   "execution_count": 3,
   "metadata": {},
   "outputs": [],
   "source": [
    "DATA_DIR = Path('data')\n",
    "\n",
    "BEAUTY_JSON = DATA_DIR / 'beauty_profile_train.json'\n",
    "FASHION_JSON = DATA_DIR / 'fashion_profile_train.json'\n",
    "MOBILE_JSON = DATA_DIR / 'mobile_profile_train.json'\n",
    "\n",
    "BEAUTY_TRAIN_CSV = DATA_DIR / 'beauty_data_info_train_competition.csv'\n",
    "FASHION_TRAIN_CSV = DATA_DIR / 'fashion_data_info_train_competition.csv'\n",
    "MOBILE_TRAIN_CSV = DATA_DIR / 'mobile_data_info_train_competition.csv'\n",
    "\n",
    "BEAUTY_TEST_CSV = DATA_DIR / 'beauty_data_info_val_competition.csv'\n",
    "FASHION_TEST_CSV = DATA_DIR / 'fashion_data_info_val_competition.csv'\n",
    "MOBILE_TEST_CSV = DATA_DIR / 'mobile_data_info_val_competition.csv'"
   ]
  },
  {
   "cell_type": "code",
   "execution_count": 4,
   "metadata": {},
   "outputs": [],
   "source": [
    "with open(BEAUTY_JSON) as f:\n",
    "     beauty_attribs = json.load(f)\n",
    "        \n",
    "with open(FASHION_JSON) as f:\n",
    "     fashion_attribs = json.load(f)\n",
    "        \n",
    "with open(MOBILE_JSON) as f:\n",
    "     mobile_attribs = json.load(f)\n",
    "\n",
    "beauty_train_df = pd.read_csv(BEAUTY_TRAIN_CSV)\n",
    "fashion_train_df = pd.read_csv(FASHION_TRAIN_CSV)\n",
    "mobile_train_df = pd.read_csv(MOBILE_TRAIN_CSV)\n",
    "\n",
    "beauty_test_df = pd.read_csv(BEAUTY_TEST_CSV)\n",
    "fashion_test_df = pd.read_csv(FASHION_TEST_CSV)\n",
    "mobile_test_df = pd.read_csv(MOBILE_TEST_CSV)"
   ]
  },
  {
   "cell_type": "code",
   "execution_count": 5,
   "metadata": {},
   "outputs": [
    {
     "data": {
      "text/plain": [
       "(286583, 275142, 160330)"
      ]
     },
     "execution_count": 5,
     "metadata": {},
     "output_type": "execute_result"
    }
   ],
   "source": [
    "# sanity check\n",
    "len(beauty_train_df), len(fashion_train_df), len(mobile_train_df)"
   ]
  },
  {
   "cell_type": "code",
   "execution_count": 6,
   "metadata": {},
   "outputs": [
    {
     "data": {
      "text/plain": [
       "(76545, 30135, 40417)"
      ]
     },
     "execution_count": 6,
     "metadata": {},
     "output_type": "execute_result"
    }
   ],
   "source": [
    "# sanity check\n",
    "len(beauty_test_df), len(fashion_test_df), len(mobile_test_df)"
   ]
  },
  {
   "cell_type": "code",
   "execution_count": 7,
   "metadata": {},
   "outputs": [
    {
     "data": {
      "text/plain": [
       "977987"
      ]
     },
     "execution_count": 7,
     "metadata": {},
     "output_type": "execute_result"
    }
   ],
   "source": [
    "# sanity check\n",
    "len(beauty_test_df)*5 + len(fashion_test_df)*5 + len(mobile_test_df)*11"
   ]
  },
  {
   "cell_type": "code",
   "execution_count": 8,
   "metadata": {},
   "outputs": [],
   "source": [
    "categories = ['beauty', 'fashion', 'mobile']\n",
    "attrib_dicts = [beauty_attribs, fashion_attribs, mobile_attribs]\n",
    "train_dfs = [beauty_train_df, fashion_train_df, mobile_train_df]\n",
    "test_dfs = [beauty_test_df, fashion_test_df, mobile_test_df]"
   ]
  },
  {
   "cell_type": "code",
   "execution_count": 9,
   "metadata": {},
   "outputs": [],
   "source": [
    "def run_classifier(clf, output_filename):\n",
    "    predictions_df = pd.DataFrame()\n",
    "    for cat, attrib_dict, train_df, test_df in zip(categories, attrib_dicts, train_dfs, test_dfs):\n",
    "        print(cat)\n",
    "        for attrib in attrib_dict:\n",
    "            tokenizer = TweetTokenizer()\n",
    "            \n",
    "            # Optimization1: this list was compiled after testing with various ngram length\n",
    "            ngram4_list = ['Benefits', 'Pattern', 'Collar Type', 'Fashion Trend', \n",
    "                           'Clothing Material', 'Features', 'Network Connections', \n",
    "                           'Warranty Period', 'Color Family']\n",
    "            ngram_max = 4 if attrib in ngram4_list else 3\n",
    "            \n",
    "             # Optimization 2: different value C compiled after repeated testing \n",
    "            if attrib == 'Brand':\n",
    "                if cat == 'Beauty':\n",
    "                    clf.C = 1.0\n",
    "                elif cat == 'Mobile':\n",
    "                    clf.C = 0.8\n",
    "            elif attrib in ('Benefits', 'Product_texture', 'Sleeves', 'Operating System', \n",
    "                            'Network Connections', 'Storage Capacity'):\n",
    "                clf.C = 1.0\n",
    "            elif attrib in ('Pattern', 'Features', 'Warranty Period', 'Color Family', \n",
    "                            'Camera', 'Phone Screen Size'):\n",
    "                clf.C = 0.7\n",
    "            else:\n",
    "                clf.C = 0.8\n",
    "            \n",
    "            vectorizer = TfidfVectorizer(ngram_range=(1, 4), tokenizer=tokenizer.tokenize, \n",
    "                                         min_df=2, max_df=1.0, strip_accents='unicode', \n",
    "                                         use_idf=1, smooth_idf=1, sublinear_tf=1 )\n",
    "            print(f'\\t{attrib} with {len(attrib_dict[attrib])} different classes')\n",
    "            X = train_df[['title', attrib]].dropna()\n",
    "            X_train = vectorizer.fit_transform(list(X.title))\n",
    "            y_train = X[attrib]\n",
    "\n",
    "            # these two lines are cross-validation to gauge the performance of the model\n",
    "            # it will not be necessary for actual training and prediction\n",
    "            scores = cross_val_score(clf, X_train, y_train, scoring='accuracy', n_jobs=-1, cv=5)\n",
    "            print(f'\\t5-fold CV mean accuracy {(np.mean(scores) * 100):.2f}%, std {(np.std(scores) * 100):.2f}.')\n",
    "            \n",
    "            # actual training\n",
    "            clf.fit(X_train, y_train)\n",
    "            \n",
    "            # actual prediction\n",
    "            X_test = vectorizer.transform(list(test_df.title))\n",
    "            predictions = clf.predict(X_test)\n",
    "            \n",
    "            # convert prediction to desire output format\n",
    "            cur_prediction_df = pd.DataFrame({'id':test_df.itemid, 'tagging':predictions})\n",
    "            cur_prediction_df['id'] = cur_prediction_df['id'].apply(lambda row: str(row) + f'_{attrib}')\n",
    "            cur_prediction_df['tagging'] = cur_prediction_df['tagging'].astype('int')\n",
    "\n",
    "            predictions_df = pd.concat([predictions_df, cur_prediction_df], axis=0)\n",
    "            print()\n",
    "\n",
    "    predictions_df.to_csv(output_filename, index=None)"
   ]
  },
  {
   "cell_type": "code",
   "execution_count": 10,
   "metadata": {},
   "outputs": [
    {
     "name": "stdout",
     "output_type": "stream",
     "text": [
      "beauty\n",
      "\tBenefits with 7 different classes\n",
      "\t5-fold CV mean accuracy 87.68%, std 1.81.\n",
      "\n",
      "\tBrand with 401 different classes\n",
      "\t5-fold CV mean accuracy 99.17%, std 0.25.\n",
      "\n",
      "\tColour_group with 45 different classes\n",
      "\t5-fold CV mean accuracy 88.48%, std 1.03.\n",
      "\n",
      "\tProduct_texture with 9 different classes\n",
      "\t5-fold CV mean accuracy 98.88%, std 0.29.\n",
      "\n",
      "\tSkin_type with 8 different classes\n",
      "\t5-fold CV mean accuracy 85.99%, std 1.22.\n",
      "\n",
      "fashion\n",
      "\tPattern with 20 different classes\n",
      "\t5-fold CV mean accuracy 94.10%, std 0.63.\n",
      "\n",
      "\tCollar Type with 16 different classes\n",
      "\t5-fold CV mean accuracy 95.09%, std 0.58.\n",
      "\n",
      "\tFashion Trend with 11 different classes\n",
      "\t5-fold CV mean accuracy 91.17%, std 4.29.\n",
      "\n",
      "\tClothing Material with 19 different classes\n",
      "\t5-fold CV mean accuracy 87.25%, std 2.38.\n",
      "\n",
      "\tSleeves with 4 different classes\n",
      "\t5-fold CV mean accuracy 98.79%, std 0.30.\n",
      "\n",
      "mobile\n",
      "\tOperating System with 7 different classes\n",
      "\t5-fold CV mean accuracy 97.74%, std 0.23.\n",
      "\n",
      "\tFeatures with 7 different classes\n",
      "\t5-fold CV mean accuracy 79.33%, std 0.23.\n",
      "\n",
      "\tNetwork Connections with 4 different classes\n",
      "\t5-fold CV mean accuracy 92.38%, std 0.18.\n",
      "\n",
      "\tMemory RAM with 10 different classes\n",
      "\t5-fold CV mean accuracy 91.37%, std 0.35.\n",
      "\n",
      "\tBrand with 56 different classes\n",
      "\t5-fold CV mean accuracy 98.92%, std 0.03.\n",
      "\n",
      "\tWarranty Period with 14 different classes\n",
      "\t5-fold CV mean accuracy 87.35%, std 0.24.\n",
      "\n",
      "\tStorage Capacity with 18 different classes\n",
      "\t5-fold CV mean accuracy 95.59%, std 0.21.\n",
      "\n",
      "\tColor Family with 26 different classes\n",
      "\t5-fold CV mean accuracy 85.89%, std 0.27.\n",
      "\n",
      "\tPhone Model with 2280 different classes\n",
      "\t5-fold CV mean accuracy 98.16%, std 0.32.\n",
      "\n",
      "\tCamera with 15 different classes\n",
      "\t5-fold CV mean accuracy 72.86%, std 0.54.\n",
      "\n",
      "\tPhone Screen Size with 6 different classes\n",
      "\t5-fold CV mean accuracy 80.03%, std 0.37.\n",
      "\n",
      "CPU times: user 24min, sys: 11.6 s, total: 24min 12s\n",
      "Wall time: 56min 2s\n"
     ]
    }
   ],
   "source": [
    "%%time\n",
    "run_classifier(LinearSVC(), 'LinearSVC_predictions.csv')"
   ]
  },
  {
   "cell_type": "code",
   "execution_count": 11,
   "metadata": {},
   "outputs": [],
   "source": []
  }
 ],
 "metadata": {
  "kernelspec": {
   "display_name": "Python 3",
   "language": "python",
   "name": "python3"
  },
  "language_info": {
   "codemirror_mode": {
    "name": "ipython",
    "version": 3
   },
   "file_extension": ".py",
   "mimetype": "text/x-python",
   "name": "python",
   "nbconvert_exporter": "python",
   "pygments_lexer": "ipython3",
   "version": "3.7.1"
  },
  "toc": {
   "base_numbering": 1,
   "nav_menu": {},
   "number_sections": true,
   "sideBar": true,
   "skip_h1_title": false,
   "title_cell": "Table of Contents",
   "title_sidebar": "Contents",
   "toc_cell": false,
   "toc_position": {},
   "toc_section_display": true,
   "toc_window_display": false
  }
 },
 "nbformat": 4,
 "nbformat_minor": 1
}
