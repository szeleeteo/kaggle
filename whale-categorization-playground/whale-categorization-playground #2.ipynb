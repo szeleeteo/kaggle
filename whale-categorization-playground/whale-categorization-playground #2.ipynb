{
 "cells": [
  {
   "cell_type": "markdown",
   "metadata": {
    "heading_collapsed": true
   },
   "source": [
    "# Whale Classifier"
   ]
  },
  {
   "cell_type": "code",
   "execution_count": 9,
   "metadata": {
    "hidden": true
   },
   "outputs": [],
   "source": [
    "%reload_ext autoreload\n",
    "%autoreload 2\n",
    "%matplotlib inline"
   ]
  },
  {
   "cell_type": "code",
   "execution_count": 10,
   "metadata": {
    "hidden": true
   },
   "outputs": [],
   "source": [
    "from fastai.imports import *\n",
    "from fastai.transforms import *\n",
    "from fastai.conv_learner import *\n",
    "from fastai.model import *\n",
    "from fastai.dataset import *\n",
    "from fastai.sgdr import *\n",
    "from fastai.plots import *"
   ]
  },
  {
   "cell_type": "code",
   "execution_count": 11,
   "metadata": {
    "hidden": true
   },
   "outputs": [],
   "source": [
    "PATH = './data/whale/'\n",
    "arch = resnet34 #resnet50\n",
    "sz = 224\n",
    "bs = 64"
   ]
  },
  {
   "cell_type": "code",
   "execution_count": 13,
   "metadata": {
    "hidden": true,
    "scrolled": true
   },
   "outputs": [],
   "source": [
    "label_csv = f'{PATH}train.csv'\n",
    "\n",
    "n = len(list(open(label_csv)))-1\n",
    "\n",
    "val_idxs = get_cv_idxs(n)"
   ]
  },
  {
   "cell_type": "markdown",
   "metadata": {
    "heading_collapsed": true
   },
   "source": [
    "# Data Transform"
   ]
  },
  {
   "cell_type": "code",
   "execution_count": 14,
   "metadata": {
    "hidden": true
   },
   "outputs": [],
   "source": [
    "augs = [\n",
    "    RandomFlip(),\n",
    "    RandomLighting(0.1, 0.1),\n",
    "    RandomRotate(3)\n",
    "]\n",
    "\n",
    "def get_data(sz, bs, val):\n",
    "    tfms = tfms_from_model(arch, sz, aug_tfms=augs, crop_type=CropType.NO)\n",
    "    data = ImageClassifierData.from_csv(PATH, 'train' ,f'{PATH}train.csv', test_name='test',\n",
    "                                        val_idxs=val, tfms=tfms, bs=bs)\n",
    "    return data"
   ]
  },
  {
   "cell_type": "markdown",
   "metadata": {},
   "source": [
    "# Find Learning Rate"
   ]
  },
  {
   "cell_type": "code",
   "execution_count": 15,
   "metadata": {},
   "outputs": [],
   "source": [
    "data = get_data(sz,bs,val_idxs)"
   ]
  },
  {
   "cell_type": "code",
   "execution_count": 16,
   "metadata": {},
   "outputs": [],
   "source": [
    "learn = ConvLearner.pretrained(arch, data)"
   ]
  },
  {
   "cell_type": "code",
   "execution_count": 8,
   "metadata": {},
   "outputs": [
    {
     "data": {
      "application/vnd.jupyter.widget-view+json": {
       "model_id": "71d4b4b671e046e9868ccaf2d5ab46c5",
       "version_major": 2,
       "version_minor": 0
      },
      "text/plain": [
       "HBox(children=(IntProgress(value=0, description='Epoch', max=1), HTML(value='')))"
      ]
     },
     "metadata": {},
     "output_type": "display_data"
    },
    {
     "name": "stdout",
     "output_type": "stream",
     "text": [
      " 93%|█████████▎| 115/124 [00:57<00:04,  1.99it/s, loss=29.9]"
     ]
    }
   ],
   "source": [
    "lrf = learn.lr_find()"
   ]
  },
  {
   "cell_type": "code",
   "execution_count": 9,
   "metadata": {},
   "outputs": [
    {
     "data": {
      "image/png": "[encoded data removed]",
      "text/plain": [
       "<Figure size 432x288 with 1 Axes>"
      ]
     },
     "metadata": {},
     "output_type": "display_data"
    }
   ],
   "source": [
    "learn.sched.plot_lr()"
   ]
  },
  {
   "cell_type": "code",
   "execution_count": 10,
   "metadata": {},
   "outputs": [
    {
     "data": {
      "image/png": "[encoded data removed]",
      "text/plain": [
       "<Figure size 432x288 with 1 Axes>"
      ]
     },
     "metadata": {},
     "output_type": "display_data"
    }
   ],
   "source": [
    "learn.sched.plot()"
   ]
  },
  {
   "cell_type": "code",
   "execution_count": 18,
   "metadata": {},
   "outputs": [],
   "source": [
    "lr = 1e-2"
   ]
  },
  {
   "cell_type": "code",
   "execution_count": 19,
   "metadata": {},
   "outputs": [],
   "source": [
    "lrs = np.array([lr/18,lr/6,lr/2])"
   ]
  },
  {
   "cell_type": "markdown",
   "metadata": {},
   "source": [
    "# Improve Model"
   ]
  },
  {
   "cell_type": "code",
   "execution_count": 12,
   "metadata": {},
   "outputs": [
    {
     "data": {
      "application/vnd.jupyter.widget-view+json": {
       "model_id": "b1206c8cd8014340974c617b24779b90",
       "version_major": 2,
       "version_minor": 0
      },
      "text/plain": [
       "HBox(children=(IntProgress(value=0, description='Epoch', max=3), HTML(value='')))"
      ]
     },
     "metadata": {},
     "output_type": "display_data"
    },
    {
     "name": "stdout",
     "output_type": "stream",
     "text": [
      "epoch      trn_loss   val_loss   accuracy                   \n",
      "    0      8.618667   8.105346   0.068528  \n",
      "    1      8.00837    7.861185   0.080203                   \n",
      "    2      7.620529   7.723955   0.082234                   \n"
     ]
    },
    {
     "data": {
      "text/plain": [
       "[array([7.72395]), 0.08223350257589127]"
      ]
     },
     "execution_count": 12,
     "metadata": {},
     "output_type": "execute_result"
    }
   ],
   "source": [
    "learn.fit(lr, 3)"
   ]
  },
  {
   "cell_type": "code",
   "execution_count": 20,
   "metadata": {},
   "outputs": [],
   "source": [
    "learn.precompute = False"
   ]
  },
  {
   "cell_type": "code",
   "execution_count": 14,
   "metadata": {},
   "outputs": [
    {
     "data": {
      "application/vnd.jupyter.widget-view+json": {
       "model_id": "fdd5f0a10c694d4dac647f271d64cba9",
       "version_major": 2,
       "version_minor": 0
      },
      "text/plain": [
       "HBox(children=(IntProgress(value=0, description='Epoch', max=3), HTML(value='')))"
      ]
     },
     "metadata": {},
     "output_type": "display_data"
    },
    {
     "name": "stdout",
     "output_type": "stream",
     "text": [
      "epoch      trn_loss   val_loss   accuracy                   \n",
      "    0      7.282003   7.659969   0.084772  \n",
      "    1      7.1302     7.60413    0.085279                   \n",
      "    2      7.02796    7.543538   0.08934                    \n"
     ]
    },
    {
     "data": {
      "text/plain": [
       "[array([7.54354]), 0.08934010156066284]"
      ]
     },
     "execution_count": 14,
     "metadata": {},
     "output_type": "execute_result"
    }
   ],
   "source": [
    "learn.fit(lr, 3, cycle_len=1)"
   ]
  },
  {
   "cell_type": "code",
   "execution_count": 15,
   "metadata": {},
   "outputs": [],
   "source": [
    "learn.save('resnet34_224_lastlayer')"
   ]
  },
  {
   "cell_type": "code",
   "execution_count": 16,
   "metadata": {},
   "outputs": [],
   "source": [
    "learn.load('resnet34_224_lastlayer')"
   ]
  },
  {
   "cell_type": "code",
   "execution_count": 21,
   "metadata": {},
   "outputs": [],
   "source": [
    "learn.unfreeze()"
   ]
  },
  {
   "cell_type": "code",
   "execution_count": 19,
   "metadata": {},
   "outputs": [
    {
     "data": {
      "application/vnd.jupyter.widget-view+json": {
       "model_id": "9b2085bcf3734cd6a9f2457f12a21f1e",
       "version_major": 2,
       "version_minor": 0
      },
      "text/plain": [
       "HBox(children=(IntProgress(value=0, description='Epoch', max=7), HTML(value='')))"
      ]
     },
     "metadata": {},
     "output_type": "display_data"
    },
    {
     "name": "stdout",
     "output_type": "stream",
     "text": [
      "epoch      trn_loss   val_loss   accuracy                   \n",
      "    0      7.271085   7.515188   0.084772  \n",
      "    1      7.031004   7.373584   0.092893                   \n",
      "    2      6.76188    7.33728    0.096447                   \n",
      "    3      6.680916   7.269106   0.102538                   \n",
      "    4      6.455677   7.169356   0.108629                   \n",
      "    5      6.221236   7.124552   0.115736                   \n",
      "    6      6.061267   7.116793   0.115228                   \n"
     ]
    },
    {
     "data": {
      "text/plain": [
       "[array([7.11679]), 0.11522842630517059]"
      ]
     },
     "execution_count": 19,
     "metadata": {},
     "output_type": "execute_result"
    }
   ],
   "source": [
    "learn.fit(lrs, 3, cycle_len=1, cycle_mult=2)"
   ]
  },
  {
   "cell_type": "code",
   "execution_count": 20,
   "metadata": {},
   "outputs": [],
   "source": [
    "learn.save('resnet34_224_all')"
   ]
  },
  {
   "cell_type": "code",
   "execution_count": 22,
   "metadata": {},
   "outputs": [],
   "source": [
    "learn.load('resnet34_224_all')"
   ]
  },
  {
   "cell_type": "markdown",
   "metadata": {},
   "source": [
    "# Increase Data Image Size"
   ]
  },
  {
   "cell_type": "code",
   "execution_count": 23,
   "metadata": {},
   "outputs": [],
   "source": [
    "sz = 320"
   ]
  },
  {
   "cell_type": "code",
   "execution_count": 24,
   "metadata": {},
   "outputs": [],
   "source": [
    "data = get_data(sz,bs,val_idxs)\n",
    "learn.set_data(data)"
   ]
  },
  {
   "cell_type": "code",
   "execution_count": 14,
   "metadata": {},
   "outputs": [],
   "source": [
    "learn.freeze()"
   ]
  },
  {
   "cell_type": "code",
   "execution_count": 15,
   "metadata": {},
   "outputs": [
    {
     "data": {
      "application/vnd.jupyter.widget-view+json": {
       "model_id": "1ecf93a60e4c42de9b4fdd5a30fd33d4",
       "version_major": 2,
       "version_minor": 0
      },
      "text/plain": [
       "HBox(children=(IntProgress(value=0, description='Epoch', max=3), HTML(value='')))"
      ]
     },
     "metadata": {},
     "output_type": "display_data"
    },
    {
     "name": "stdout",
     "output_type": "stream",
     "text": [
      "epoch      trn_loss   val_loss   accuracy                   \n",
      "    0      6.395224   7.183491   0.105584  \n",
      "    1      6.255886   7.109929   0.111168                   \n",
      "    2      6.066776   7.053382   0.117259                   \n",
      "\n"
     ]
    },
    {
     "data": {
      "text/plain": [
       "[array([7.05338]), 0.11725888315796247]"
      ]
     },
     "execution_count": 15,
     "metadata": {},
     "output_type": "execute_result"
    }
   ],
   "source": [
    "learn.fit(lr, 3, cycle_len=1)"
   ]
  },
  {
   "cell_type": "code",
   "execution_count": 16,
   "metadata": {},
   "outputs": [],
   "source": [
    "learn.save('resnet34_320_last_layer')"
   ]
  },
  {
   "cell_type": "code",
   "execution_count": 17,
   "metadata": {},
   "outputs": [],
   "source": [
    "learn.load('resnet34_320_last_layer')"
   ]
  },
  {
   "cell_type": "code",
   "execution_count": 25,
   "metadata": {},
   "outputs": [],
   "source": [
    "learn.unfreeze()"
   ]
  },
  {
   "cell_type": "code",
   "execution_count": 21,
   "metadata": {},
   "outputs": [
    {
     "data": {
      "application/vnd.jupyter.widget-view+json": {
       "model_id": "fc90b64ba97b42abb69a6f5cb4d80d80",
       "version_major": 2,
       "version_minor": 0
      },
      "text/plain": [
       "HBox(children=(IntProgress(value=0, description='Epoch', max=7), HTML(value='')))"
      ]
     },
     "metadata": {},
     "output_type": "display_data"
    },
    {
     "name": "stdout",
     "output_type": "stream",
     "text": [
      "epoch      trn_loss   val_loss   accuracy                   \n",
      "    0      6.017801   6.973367   0.12335   \n",
      "    1      5.886377   6.88595    0.126396                   \n",
      "    2      5.555857   6.85848    0.127411                   \n",
      "    3      5.528859   6.814985   0.134518                   \n",
      "    4      5.282362   6.726817   0.144162                   \n",
      "    5      4.964133   6.676441   0.146193                   \n",
      "    6      4.779532   6.66944    0.147208                   \n",
      "\n"
     ]
    },
    {
     "data": {
      "text/plain": [
       "[array([6.66944]), 0.147208121797155]"
      ]
     },
     "execution_count": 21,
     "metadata": {},
     "output_type": "execute_result"
    }
   ],
   "source": [
    "learn.fit(lrs, 3, cycle_len=1, cycle_mult=2)"
   ]
  },
  {
   "cell_type": "code",
   "execution_count": null,
   "metadata": {},
   "outputs": [],
   "source": [
    "log_preds, y = learn.TTA()\n",
    "probs = np.mean(np.exp(log_preds), 0)\n",
    "accuracy_np(probs, y), metrics.log_loss(y, probs)"
   ]
  },
  {
   "cell_type": "code",
   "execution_count": 22,
   "metadata": {},
   "outputs": [],
   "source": [
    "learn.save('resnet34_320_all')"
   ]
  },
  {
   "cell_type": "code",
   "execution_count": 26,
   "metadata": {},
   "outputs": [],
   "source": [
    "learn.load('resnet34_320_all')"
   ]
  },
  {
   "cell_type": "markdown",
   "metadata": {},
   "source": [
    "# Train with Everything"
   ]
  },
  {
   "cell_type": "code",
   "execution_count": 27,
   "metadata": {},
   "outputs": [],
   "source": [
    "# Move all validation data except one (due to fastai limitation) to training data\n",
    "data = get_data(sz,bs,[0])\n",
    "learn.set_data(data)"
   ]
  },
  {
   "cell_type": "code",
   "execution_count": 28,
   "metadata": {},
   "outputs": [
    {
     "data": {
      "application/vnd.jupyter.widget-view+json": {
       "model_id": "4de971ae313d4977aeaa7e69666f9e75",
       "version_major": 2,
       "version_minor": 0
      },
      "text/plain": [
       "HBox(children=(IntProgress(value=0, description='Epoch', max=7), HTML(value='')))"
      ]
     },
     "metadata": {},
     "output_type": "display_data"
    },
    {
     "name": "stdout",
     "output_type": "stream",
     "text": [
      "epoch      trn_loss   val_loss   accuracy                   \n",
      "    0      5.124953   9.404948   0.0       \n",
      "    1      5.071967   9.370032   0.0                        \n",
      "    2      4.896211   9.412498   0.0                        \n",
      "    3      4.848767   9.310438   0.0                        \n",
      "    4      4.654733   9.400867   0.0                        \n",
      "    5      4.479063   9.290376   0.0                        \n",
      "    6      4.444093   9.279306   0.0                        \n",
      "\n"
     ]
    },
    {
     "data": {
      "text/plain": [
       "[array([9.27931]), 0.0]"
      ]
     },
     "execution_count": 28,
     "metadata": {},
     "output_type": "execute_result"
    }
   ],
   "source": [
    "learn.fit(lrs, 3, cycle_len=1, cycle_mult=2)"
   ]
  },
  {
   "cell_type": "markdown",
   "metadata": {},
   "source": [
    "# Create Submission"
   ]
  },
  {
   "cell_type": "code",
   "execution_count": 29,
   "metadata": {},
   "outputs": [
    {
     "name": "stdout",
     "output_type": "stream",
     "text": [
      "                                              \r"
     ]
    }
   ],
   "source": [
    "probs, _ = learn.TTA(is_test=True)"
   ]
  },
  {
   "cell_type": "code",
   "execution_count": 45,
   "metadata": {
    "collapsed": true
   },
   "outputs": [
    {
     "data": {
      "text/plain": [
       "array([[[-10.18438,  -8.44028,  -8.71341, ...,  -8.33914, -10.95074,  -8.27512],\n",
       "        [ -9.03195,  -7.86517,  -7.66707, ...,  -8.16125,  -9.31185, -10.0053 ],\n",
       "        [-10.56409,  -6.65353,  -7.02999, ...,  -8.30079,  -8.52542,  -7.40936],\n",
       "        ...,\n",
       "        [ -8.84222,  -9.56362,  -9.93974, ...,  -9.7191 ,  -9.60596,  -9.99986],\n",
       "        [-12.09411, -14.05111,  -8.56835, ...,  -9.43986, -11.72827, -11.58534],\n",
       "        [ -9.92542,  -9.37016, -10.47911, ...,  -8.93056,  -7.51169,  -8.88816]],\n",
       "\n",
       "       [[ -9.69267,  -8.46594,  -8.29192, ...,  -8.15499, -11.35465,  -8.6234 ],\n",
       "        [ -8.68394,  -8.40194,  -8.61867, ...,  -9.03401, -10.09398, -10.27195],\n",
       "        [-10.44207,  -6.43309,  -7.01495, ...,  -8.23721,  -8.2851 ,  -7.56605],\n",
       "        ...,\n",
       "        [ -8.70747,  -8.78803, -10.33865, ...,  -9.55172,  -9.55467,  -9.92232],\n",
       "        [-12.37547, -14.47012,  -8.79277, ..., -10.05119, -12.28521, -11.64407],\n",
       "        [ -9.56054,  -9.60481, -10.44456, ...,  -8.81558,  -7.1285 ,  -8.74425]],\n",
       "\n",
       "       [[-10.09759,  -8.45802,  -8.69088, ...,  -8.28927, -10.9278 ,  -8.2561 ],\n",
       "        [ -8.89449,  -7.88997,  -7.64971, ...,  -7.84963,  -9.17196,  -9.85652],\n",
       "        [-10.4598 ,  -6.44482,  -7.02259, ...,  -8.24542,  -8.30649,  -7.55183],\n",
       "        ...,\n",
       "        [ -8.64318,  -9.22042, -10.44993, ...,  -9.55581,  -9.82133, -10.13623],\n",
       "        [-12.38467, -14.40963,  -8.56886, ...,  -9.53093, -12.47387, -11.89188],\n",
       "        [ -9.45499,  -9.39315, -10.1385 , ...,  -9.05967,  -7.10077,  -8.77691]],\n",
       "\n",
       "       [[-10.37211,  -8.97017,  -8.2718 , ...,  -8.86079, -11.32181,  -8.52343],\n",
       "        [ -8.66194,  -7.78243,  -8.3858 , ...,  -8.61397,  -9.74862, -10.30356],\n",
       "        [-10.34043,  -6.72923,  -6.75458, ...,  -8.22032,  -8.76026,  -7.49462],\n",
       "        ...,\n",
       "        [ -8.64044,  -8.95196, -10.39567, ...,  -8.96798,  -9.38993, -10.03812],\n",
       "        [-11.94758, -14.93311,  -9.0562 , ..., -10.17292, -12.73817, -12.38114],\n",
       "        [ -9.81706,  -9.66558, -10.6799 , ...,  -8.69384,  -7.71434,  -8.75916]],\n",
       "\n",
       "       [[ -9.81924,  -8.60119,  -8.24628, ...,  -7.91705, -10.9882 ,  -8.53731],\n",
       "        [ -9.10172,  -7.78407,  -8.1262 , ...,  -8.18262,  -9.33008,  -9.70145],\n",
       "        [-10.60121,  -6.82259,  -7.03528, ...,  -8.30541,  -8.68698,  -7.28327],\n",
       "        ...,\n",
       "        [ -8.69549,  -8.12985, -10.02355, ...,  -8.93608,  -9.59186, -10.12156],\n",
       "        [-12.03696, -14.90362,  -8.59299, ..., -10.00697, -11.56013, -11.33829],\n",
       "        [ -9.91192,  -9.21146, -10.46454, ...,  -8.91492,  -7.47787,  -8.84581]]], dtype=float32)"
      ]
     },
     "execution_count": 45,
     "metadata": {},
     "output_type": "execute_result"
    }
   ],
   "source": [
    "probs"
   ]
  },
  {
   "cell_type": "code",
   "execution_count": 61,
   "metadata": {},
   "outputs": [],
   "source": [
    "mean_probs = np.mean(np.exp(probs), axis=0) # Average probs from TTA\n",
    "probs_sorted = np.argsort(mean_probs,axis=1)[:,-5:] # Get top 5 predictions"
   ]
  },
  {
   "cell_type": "code",
   "execution_count": 62,
   "metadata": {},
   "outputs": [
    {
     "data": {
      "text/plain": [
       "array([ 680, 3804, 4205, 4023, 3918])"
      ]
     },
     "execution_count": 62,
     "metadata": {},
     "output_type": "execute_result"
    }
   ],
   "source": [
    "probs_sorted[0]"
   ]
  },
  {
   "cell_type": "code",
   "execution_count": 47,
   "metadata": {},
   "outputs": [],
   "source": [
    "# Assemble our data frame\n",
    "mean_probs = np.mean(probs, axis=0) # Average probs from TTA\n",
    "probs_sorted = np.argsort(-mean_probs,axis=1)[:,:5] # Get top 5 predictions"
   ]
  },
  {
   "cell_type": "code",
   "execution_count": 50,
   "metadata": {},
   "outputs": [
    {
     "data": {
      "text/plain": [
       "array([3918, 4023, 4205, 3804,  680])"
      ]
     },
     "execution_count": 50,
     "metadata": {},
     "output_type": "execute_result"
    }
   ],
   "source": [
    "probs_sorted[0]"
   ]
  },
  {
   "cell_type": "code",
   "execution_count": 42,
   "metadata": {},
   "outputs": [],
   "source": [
    "import dill as pickle\n",
    "whale_ids2num = pickle.load(open('whale_ids2num.pkl', 'rb'))"
   ]
  },
  {
   "cell_type": "code",
   "execution_count": 43,
   "metadata": {},
   "outputs": [],
   "source": [
    "fnames = [f[5:] for f in data.test_ds.fnames] # get rid of folder prefix\n",
    "\n",
    "num2whale = [k for k,v in whale_ids2num.items()]\n",
    "\n",
    "def probs2whale(x):\n",
    "    return num2whale[int(data.classes[x])]\n",
    "\n",
    "probs2whale = np.vectorize(probs2whale)\n",
    "\n",
    "def join_with_spaces(arr):\n",
    "    return ' '.join(arr)\n",
    "\n",
    "whales = np.apply_along_axis(join_with_spaces, 1, probs2whale(probs_sorted))"
   ]
  },
  {
   "cell_type": "code",
   "execution_count": 44,
   "metadata": {},
   "outputs": [],
   "source": [
    "df = pd.DataFrame({'Image': fnames, 'Id': whales}, columns=['Image','Id'])\n",
    "df.to_csv('submission3.csv', index=False)"
   ]
  },
  {
   "cell_type": "code",
   "execution_count": null,
   "metadata": {},
   "outputs": [],
   "source": []
  }
 ],
 "metadata": {
  "kernelspec": {
   "display_name": "Python 3",
   "language": "python",
   "name": "python3"
  },
  "language_info": {
   "codemirror_mode": {
    "name": "ipython",
    "version": 3
   },
   "file_extension": ".py",
   "mimetype": "text/x-python",
   "name": "python",
   "nbconvert_exporter": "python",
   "pygments_lexer": "ipython3",
   "version": "3.6.5"
  },
  "toc": {
   "base_numbering": 1,
   "nav_menu": {},
   "number_sections": true,
   "sideBar": true,
   "skip_h1_title": false,
   "title_cell": "Table of Contents",
   "title_sidebar": "Contents",
   "toc_cell": false,
   "toc_position": {},
   "toc_section_display": true,
   "toc_window_display": false
  }
 },
 "nbformat": 4,
 "nbformat_minor": 2
}
